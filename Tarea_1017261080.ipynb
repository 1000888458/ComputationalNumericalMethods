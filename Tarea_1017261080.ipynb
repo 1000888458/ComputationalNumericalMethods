{
 "cells": [
  {
   "cell_type": "markdown",
   "metadata": {},
   "source": [
    "#### Workshop computational methods"
   ]
  },
  {
   "cell_type": "markdown",
   "metadata": {},
   "source": [
    "* Find root for $f(x)=x^2 - 11$\n",
    "* build your own bisection method function using **while** loop\n",
    "* make graphic for approximation evolution  (append results to an initially empty list of x_n)\n"
   ]
  },
  {
   "cell_type": "code",
   "execution_count": 1,
   "metadata": {},
   "outputs": [],
   "source": [
    "#Import libraries \n",
    "import numpy as np\n",
    "import matplotlib.pyplot as plt"
   ]
  },
  {
   "cell_type": "code",
   "execution_count": 2,
   "metadata": {},
   "outputs": [],
   "source": [
    "# Define function for root finding\n",
    "def f(x):\n",
    "    return x**2 - 11"
   ]
  },
  {
   "cell_type": "code",
   "execution_count": 9,
   "metadata": {},
   "outputs": [
    {
     "name": "stdout",
     "output_type": "stream",
     "text": [
      "Ingrese el valor del límite inferior del intervalo: \n",
      "None0\n",
      "Ingrese el valor del límite superior del intervalo: \n",
      "None10\n",
      "Número de iteraciones: 18\n",
      "La solución es: 3.3166\n"
     ]
    },
    {
     "data": {
      "image/png": "[encoded data removed]",
      "text/plain": [
       "<Figure size 432x288 with 1 Axes>"
      ]
     },
     "metadata": {
      "needs_background": "light"
     },
     "output_type": "display_data"
    }
   ],
   "source": [
    "a = float(input(print('Ingrese el valor del límite inferior del intervalo: ')))\n",
    "b = float(input(print('Ingrese el valor del límite superior del intervalo: ')))\n",
    "def bisection(f, x_a, x_b, eps, return_x_list=True):\n",
    "    f_a = f(x_a)\n",
    "    if f_a*f(x_b) > 0: # Condición de búsqueda de la raíz\n",
    "        print(\"Error! La función no cambia de signo en el intervalo, ingrese otros límites\")\n",
    "        sys.exit(1)\n",
    "    x_M = float(x_a + x_b)/2.0 # Se considera el punto medio\n",
    "    f_M = f(x_M) # Se evalúa la función en el punto\n",
    "    i = 1\n",
    "    \n",
    "    if return_x_list:\n",
    "        x_list = [] #Crear las listas vacías\n",
    "        iteration = [] # Crear las listas vacías \n",
    "\n",
    "    while abs(f_M) > eps:\n",
    "        if f_a*f_M > 0:   # Tienen el mismo signo\n",
    "            x_a = x_M # Se redefinen los valores de los límites \n",
    "            f_a = f_M  # Se redefinen los valores de los límites\n",
    "        else:\n",
    "            x_b = x_M # Se reemplaza el punto medio por el límite inferior\n",
    "        x_M = float(x_a + x_b)/2.0\n",
    "        f_M = f(x_M)\n",
    "        i += 1\n",
    "        if return_x_list:\n",
    "            x_list.append(x_M)\n",
    "            iteration.append(i)\n",
    "    plt.title('Convergence for root finding')\n",
    "    plt.plot(iteration, x_list, 'b.-', label='Convergence')\n",
    "    plt.xlabel('Number of iterations')\n",
    "    plt.ylabel('Root approximation')\n",
    "    plt.grid()\n",
    "    plt.legend()\n",
    "    if return_x_list:\n",
    "        return x_list, i\n",
    "    else:\n",
    "        return x_M, i\n",
    "\n",
    "\n",
    "solucion, iterations = bisection(f, a, b, eps=1.0e-4)\n",
    "\n",
    "print(\"Número de iteraciones: %d\" % (iterations))\n",
    "print('La solución es: %.4f'%(solucion[-1])) # Como solución es una lista, entonces en la última posición está la raíz\n"
   ]
  },
  {
   "cell_type": "markdown",
   "metadata": {},
   "source": [
    "A medida que se disminuye el valor de la toleracia se observa que la convergencia es en menor iteraciones pero, hay una posibilidad de oscilación durante la búsqueda de la raíz."
   ]
  },
  {
   "cell_type": "markdown",
   "metadata": {},
   "source": [
    "* build your own Newton-Raphson method using **while** loop\n",
    "* make graphic for approximation evolution  (append results to an initially empty list of x_n)"
   ]
  },
  {
   "cell_type": "code",
   "execution_count": 10,
   "metadata": {},
   "outputs": [],
   "source": [
    "# Para este código se necesita la función y su derivative, por lo tanto, hay dos formas de hacerlos, con variable simbólica\n",
    "# o a fuerza bruta ingresando cada una de las funciónes\n",
    "def Newton_Raphson(f,Df,p0,eps=1e-8,Nmax=100):\n",
    "    iterations = [] #Listas vacías para el almacenamiento de iteraciones y el valor de la aproximacion\n",
    "    approximations = []\n",
    "    i=1 # Inicialización de las variables\n",
    "    while i<Nmax:\n",
    "        p = p0 -f(p0)/Df(p0) #Fórmula de Newton-Raphson\n",
    "        #print (i, p, f(p))  \n",
    "        iterations.append(i) # Se agrega el contador\n",
    "        approximations.append(p) # Se agrega el valor de la aproximación de acuerdo a cada contador\n",
    "        if ( np.abs(p - p0) < eps ): break # condición de parada.\n",
    "        i=i+1   # Contador\n",
    "        p0 = p\n",
    "        plt.title('Convergence for root finding')\n",
    "        plt.xlabel('Number of iterations')\n",
    "        plt.ylabel('Root approximation')\n",
    "        plt.plot(iterations,approximations, 'r.-')\n",
    "      #if (i == Nmax): print (\"el método falló\")\n",
    "    return p,i-1 "
   ]
  },
  {
   "cell_type": "code",
   "execution_count": 11,
   "metadata": {},
   "outputs": [
    {
     "name": "stdout",
     "output_type": "stream",
     "text": [
      "El valor de la raíz es: 3.3166\n",
      "La cantidad de iteraciones es:  6\n"
     ]
    },
    {
     "data": {
      "image/png": "[encoded data removed]",
      "text/plain": [
       "<Figure size 432x288 with 1 Axes>"
      ]
     },
     "metadata": {
      "needs_background": "light"
     },
     "output_type": "display_data"
    }
   ],
   "source": [
    "root, number =  Newton_Raphson(lambda x: x**2-11 ,lambda x: 2*x,1,1.e-10)\n",
    "print('El valor de la raíz es: %.4f'%root)\n",
    "print('La cantidad de iteraciones es: ',number)\n"
   ]
  },
  {
   "cell_type": "markdown",
   "metadata": {},
   "source": [
    "Se puede concluir que el método de Newton-Raphson es mucho más rápido, sin embargo, su problema está en obtener la derivada de la función"
   ]
  },
  {
   "cell_type": "code",
   "execution_count": null,
   "metadata": {},
   "outputs": [],
   "source": []
  }
 ],
 "metadata": {
  "kernelspec": {
   "display_name": "Python 3",
   "language": "python",
   "name": "python3"
  },
  "language_info": {
   "codemirror_mode": {
    "name": "ipython",
    "version": 3
   },
   "file_extension": ".py",
   "mimetype": "text/x-python",
   "name": "python",
   "nbconvert_exporter": "python",
   "pygments_lexer": "ipython3",
   "version": "3.7.4"
  }
 },
 "nbformat": 4,
 "nbformat_minor": 2
}
