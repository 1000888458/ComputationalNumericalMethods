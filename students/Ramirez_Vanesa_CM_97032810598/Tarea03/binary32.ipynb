{
 "metadata": {
  "name": "",
  "signature": "sha256:0b9fd1c476b1ecdab7b205e3c649befbc4e2a67ff9520d853c22903a4eb55c8b"
 },
 "nbformat": 3,
 "nbformat_minor": 0,
 "worksheets": [
  {
   "cells": [
    {
     "cell_type": "heading",
     "level": 1,
     "metadata": {},
     "source": [
      "Coversor de Decimal a Binario float32"
     ]
    },
    {
     "cell_type": "markdown",
     "metadata": {},
     "source": [
      "PRIMERA PARTE (Binario normal): Para la parte entera se divide esta entre 2 y se anota su residuo en una columna. El resultado entero de esta divisi\u00f3n se vuelve a dividir entre 2, y se anota tambi\u00e9n su residuo en la columna debajo del residuo anterior. Y se sigue as\u00ed sucesivamente hasta que el n\u00famero a dividir sea 1, en este caso se deja como residuo el n\u00famero 1 (que al igual que todos los residuos se anota tambi\u00e9n en la columna debajo del inmediatamente anterior). Para la parte fraccionaria se multiplica esta por 2 y se anota la parte entera de este resultado en otra columna, se contin\u00faa multiplicando la parte fraccionaria del resultado por dos y anotando la parte entera del nuevo resultado; hasta que la parte fraccionaria sea 0. El numero binario ser\u00e1 la uni\u00f3n de los residuos que se obtuvieron de la parte entera, pero puestos en orden inverso (del ultimo al primero), con las partes enteras que se anotaron al hacer la operaci\u00f3n en la parte fraccionaria, estos s\u00ed en orden.\n",
      "\n",
      "SEGUNDA PARTE: El primer digito del numero binario float 32 va a ser cero si el n\u00famero es positivo, de lo contrario es 1. Seguidamente se le saca el binario normal al n\u00famero de residuos hallados en la primera parte m\u00e1s 126. Si el tama\u00f1o de este n\u00famero es menor que 8 se le agragan los ceros que hagan falta. El n\u00famero resultante va a ser la segunda parte del n\u00famero binario float 32. La tercera parte del float32 va a ser aplicar la PRIMERA PARTE al n\u00famero ingresado, pero sin tomar el primer digito que se obtenga, y al igual que para la segunda parte del float32 se le agregan los ceros necesarios para que el tama\u00f1o de esta tercera parte sea 23."
     ]
    },
    {
     "cell_type": "code",
     "collapsed": false,
     "input": [
      "import numpy as np"
     ],
     "language": "python",
     "metadata": {},
     "outputs": [],
     "prompt_number": 5
    },
    {
     "cell_type": "code",
     "collapsed": false,
     "input": [
      "#Funci\u00f3n para sacarle el binario normal al exponente.\n",
      "def binary32exp(number, printer=True):    \n",
      "    ENT=[]\n",
      "    #Parte entera                                                                             \n",
      "    while number>1:\n",
      "        res=number%2\n",
      "        ENT.append(str(res))\n",
      "        number=number/2\n",
      "    if number!=0:    \n",
      "        ENT.append(str(1))  \n",
      "      \n",
      "    #Numero binario\n",
      "    binary=ENT[::-1]\n",
      "    binary=''.join(str(x) for x in binary)  #Codigo para convertir binario en una linea de c\u00e1racteres\n",
      "        \n",
      "    a=8-len(binary)\n",
      "    zeros=np.zeros(a)\n",
      "    zeros=''.join(str(int(x)) for x in zeros)\n",
      "\n",
      "    return binary+zeros\n",
      "    \n",
      "#Funci\u00f3n para sacar el binario float32 del n\u00famero  \"PRIMERA PARTE\"\n",
      "def binary32(number, printer=True):\n",
      "    if number==0:\n",
      "        binary=np.zeros(32)\n",
      "        binary=''.join(str(int(x)) for x in binary)\n",
      "        return binary\n",
      "    \n",
      "     #Signo\n",
      "    elif number>0:\n",
      "        s=str(0)\n",
      "    else:\n",
      "        s=str(1)\n",
      "        \n",
      "        \n",
      "    FRAC=[]\n",
      "    ENT=[]\n",
      "    inumber=int(number)\n",
      "    #Parte entera                                                                             \n",
      "    while inumber>1:\n",
      "        res=inumber%2\n",
      "        ENT.append(str(res))\n",
      "        inumber=inumber/2\n",
      "    if number!=0:    \n",
      "        ENT.append(str(1))                                                                    \n",
      "\n",
      "\n",
      "    #Parte decimal                                                                            \n",
      "    fnumber=(abs(number)-abs(int(number)))\n",
      "    #print fnumber                                                                            \n",
      "    while (fnumber<=1):\n",
      "        fnumber=fnumber*2.\n",
      "        FRAC.append(str(int(fnumber)))\n",
      "        fnumber=(abs(fnumber)-abs(int(fnumber)))\n",
      "        if fnumber==0:\n",
      "            break\n",
      "\n",
      "    #Numero binario\n",
      "    ENT=ENT[::-1]\n",
      "    binary=ENT+FRAC\n",
      "    mantissa=binary[1:]\n",
      "    mantissa=''.join(str(x) for x in mantissa) # Para convertir en linea de caracteres\n",
      "    exp=len(ENT)+126 \n",
      "    expbin=binary32exp(exp)\n",
      "    a=23-len(mantissa)\n",
      "    zeros=np.zeros(a)\n",
      "    zeros=''.join(str(int(x)) for x in zeros)\n",
      "    \n",
      "    BINARY=s+expbin+mantissa+zeros\n",
      "    \n",
      "    #zeros=str(zeros)\n",
      "    \n",
      "    print (\"\\'\"+BINARY+\"\\'\")                                                                      \n",
      "     \n"
     ],
     "language": "python",
     "metadata": {},
     "outputs": [],
     "prompt_number": 6
    },
    {
     "cell_type": "code",
     "collapsed": false,
     "input": [
      "def number32( binary ):\n",
      "    #Inverting binary string\n",
      "    binary = binary[::-1]\n",
      "    #Decimal part\n",
      "    dec = 1\n",
      "    for i in xrange(1,24):\n",
      "        dec += int(binary[23-i])*2**-i\n",
      "    #Exponent part\n",
      "    exp = 0\n",
      "    for i in xrange(0,8):\n",
      "        exp += int(binary[23+i])*2**i\n",
      "    #Total number\n",
      "    number = (-1)**int(binary[31])*2**(exp-127)*dec\n",
      "    return number\n"
     ],
     "language": "python",
     "metadata": {},
     "outputs": [],
     "prompt_number": 13
    },
    {
     "cell_type": "code",
     "collapsed": false,
     "input": [
      "binary32(89.5)"
     ],
     "language": "python",
     "metadata": {},
     "outputs": [
      {
       "output_type": "stream",
       "stream": "stdout",
       "text": [
        "'01000010101100110000000000000000'\n"
       ]
      }
     ],
     "prompt_number": 25
    },
    {
     "cell_type": "code",
     "collapsed": false,
     "input": [
      "number32('01000010101100110000000000000000')"
     ],
     "language": "python",
     "metadata": {},
     "outputs": [
      {
       "metadata": {},
       "output_type": "pyout",
       "prompt_number": 21,
       "text": [
        "89.5"
       ]
      }
     ],
     "prompt_number": 21
    },
    {
     "cell_type": "code",
     "collapsed": false,
     "input": [
      "binary32(0)"
     ],
     "language": "python",
     "metadata": {},
     "outputs": [
      {
       "metadata": {},
       "output_type": "pyout",
       "prompt_number": 23,
       "text": [
        "'00000000000000000000000000000000'"
       ]
      }
     ],
     "prompt_number": 23
    },
    {
     "cell_type": "code",
     "collapsed": false,
     "input": [
      "binary32(8.375)"
     ],
     "language": "python",
     "metadata": {},
     "outputs": [
      {
       "output_type": "stream",
       "stream": "stdout",
       "text": [
        "'01000001000001100000000000000000'\n"
       ]
      }
     ],
     "prompt_number": 33
    },
    {
     "cell_type": "code",
     "collapsed": false,
     "input": [
      "number32('01000001000001100000000000000000')"
     ],
     "language": "python",
     "metadata": {},
     "outputs": [
      {
       "metadata": {},
       "output_type": "pyout",
       "prompt_number": 34,
       "text": [
        "8.375"
       ]
      }
     ],
     "prompt_number": 34
    },
    {
     "cell_type": "code",
     "collapsed": false,
     "input": [],
     "language": "python",
     "metadata": {},
     "outputs": []
    }
   ],
   "metadata": {}
  }
 ]
}