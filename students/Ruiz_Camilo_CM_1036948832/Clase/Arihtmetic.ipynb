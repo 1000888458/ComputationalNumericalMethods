{
 "metadata": {
  "name": ""
 },
 "nbformat": 3,
 "nbformat_minor": 0,
 "worksheets": [
  {
   "cells": [
    {
     "cell_type": "code",
     "collapsed": false,
     "input": [
      "def number32( binary ):\n",
      "    #Inverting binary string\n",
      "    binary = binary[::-1]\n",
      "    #Decimal part\n",
      "    dec = 1\n",
      "    for i in xrange(1,24):\n",
      "        dec += int(binary[23-i])*2**-i\n",
      "    #Exponent part\n",
      "    exp = 0\n",
      "    for i in xrange(0,8):\n",
      "        exp += int(binary[23+i])*2**i\n",
      "    #Total number\n",
      "    number = (-1)**int(binary[31])*2**(exp-127)*dec\n",
      "    print \"%f\"% number"
     ],
     "language": "python",
     "metadata": {},
     "outputs": [],
     "prompt_number": 40
    },
    {
     "cell_type": "code",
     "collapsed": false,
     "input": [
      "number32( \"01000000000000000000000000000001\" )\n"
     ],
     "language": "python",
     "metadata": {},
     "outputs": [
      {
       "output_type": "stream",
       "stream": "stdout",
       "text": [
        "2.000000\n"
       ]
      }
     ],
     "prompt_number": 41
    },
    {
     "cell_type": "code",
     "collapsed": false,
     "input": [
      "def number64( binary ):\n",
      "    binary = binary[::-1]\n",
      "    dec = 1\n",
      "    for i in xrange(1,53):\n",
      "        dec += int(binary[52-i])*2**-i\n",
      "    exp = 0\n",
      "    for i in xrange(0,11):\n",
      "        exp += int(binary[52+i])*2**i\n",
      "    number = (-1)**int(binary[63])*2.**(exp-1023)*dec\n",
      "    return np.float64(number)"
     ],
     "language": "python",
     "metadata": {},
     "outputs": [],
     "prompt_number": 82
    },
    {
     "cell_type": "code",
     "collapsed": false,
     "input": [
      "number64( \"0100000000111011100100001111111111111111111111111111111111111111\" )"
     ],
     "language": "python",
     "metadata": {},
     "outputs": [
      {
       "metadata": {},
       "output_type": "pyout",
       "prompt_number": 83,
       "text": [
        "27.566406249999996"
       ]
      }
     ],
     "prompt_number": 83
    },
    {
     "cell_type": "code",
     "collapsed": false,
     "input": [],
     "language": "python",
     "metadata": {},
     "outputs": []
    }
   ],
   "metadata": {}
  }
 ]
}