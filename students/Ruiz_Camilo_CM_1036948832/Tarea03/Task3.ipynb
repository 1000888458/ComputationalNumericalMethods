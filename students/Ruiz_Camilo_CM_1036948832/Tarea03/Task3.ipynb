{
 "metadata": {
  "name": ""
 },
 "nbformat": 3,
 "nbformat_minor": 0,
 "worksheets": [
  {
   "cells": [
    {
     "cell_type": "heading",
     "level": 1,
     "metadata": {},
     "source": [
      "Conversion de un valor real a float32"
     ]
    },
    {
     "cell_type": "markdown",
     "metadata": {},
     "source": [
      "Para convertir un valor real a un numero en formato $\\textit{float32}$ es necesario seguir los siguientes pasos: \n",
      "\n",
      "- Se convierte la parte entera de el numero a binario. \n",
      "        Para convertir la parte entera a binario se divide por dos y el \"resto\" de esta division es el bit de menos valor, se hace esto continuamente hasta que el cociente sea cero.\n",
      "- Se convierte la parte fraccionaria a binario.\n",
      "         Para convertir la parte fraccionaria a binario es necesario multiplicar esta parte por 2 se toma la parte fraccionaria de el resultado (la parte entera es el bit de menos valor) y se multiplica por 2 nuevamente hasta que la parte fraccionaria sea 0.\n",
      "- Se suman las dos partes (entera y fraccionaria).\n",
      "        Una vez sumadas se normaliza se toma el exponente y se convierte a binario (este es el segmento de exponente) despues se toma la parte fraccionaria y se completa el numero de ceros que haga falta para tener los 23 bits (esta es la mantissa) y dependiendo del signo se le agrega un uno o un cero al inicio."
     ]
    },
    {
     "cell_type": "code",
     "collapsed": false,
     "input": [
      "def INT(N):\n",
      "    N = abs(int(N))\n",
      "    ent = []    \n",
      "    while N>1:\n",
      "        res = N%2\n",
      "        ent.append(res)\n",
      "        N = N/2\n",
      "    if N == 1:\n",
      "        ent.append(1)\n",
      "    elif N == 0:\n",
      "        ent.append(0)\n",
      "    ent = ent[::-1]\n",
      "    return ent\n",
      "\n",
      "def FRA(N):\n",
      "    fra = []\n",
      "    N = abs(N - int(N))\n",
      "    for i in xrange(0,22,1):\n",
      "        r = N*2\n",
      "        if int(r) == 1:\n",
      "            fra.append(1)\n",
      "        elif int(r) == 0:\n",
      "            fra.append(0)\n",
      "        N = r - int(r)\n",
      "        if N == 0:\n",
      "            break\n",
      "    return fra\n",
      "\n",
      "def mantissa(N):\n",
      "    ent = INT(N)\n",
      "    frac = FRA(N)\n",
      "    binario = ent + frac\n",
      "    delta = abs(23-len(binario))\n",
      "    mant = binario[1:(abs(delta-len(binario)))+1]\n",
      "    if len(mant)<23:\n",
      "        for i in xrange(0,23-len(mant),1):\n",
      "            mant.append(0)\n",
      "    mant = ''.join(str(x) for x in mant)\n",
      "    return mant\n",
      "    \n",
      "def exp(N):\n",
      "    if N == 0:\n",
      "        exponente = '00000000'\n",
      "    elif N == 1:\n",
      "        exponente = '01111111'\n",
      "    else:\n",
      "        ent = INT(N)\n",
      "        frac = FRA(N)\n",
      "        if ent[0] == 1:\n",
      "            exp = len(ent) - 1\n",
      "            exponente = INT(127+exp)\n",
      "            exponente = ''.join(str(x) for x in exponente)\n",
      "        elif ent[0] == 0:\n",
      "            for i in xrange(0,len(frac),1):\n",
      "                a = frac[i]\n",
      "                if a == 1:\n",
      "                    exp = -(i+1)\n",
      "                    exponente = INT(127+exp)\n",
      "                    exponente = ''.join(str(x) for x in exponente)\n",
      "                    c = '0'\n",
      "                    exponente = c + exponente\n",
      "    return exponente\n",
      "\n",
      "def signo(N):\n",
      "    if N < 0:\n",
      "        s = '1'\n",
      "    elif N >= 0:\n",
      "        s = '0'\n",
      "    return s\n",
      "\n",
      "def float32(N):\n",
      "    sig = signo(N)\n",
      "    expon = exp(N)\n",
      "    man = mantissa(N)\n",
      "    #print(\"El numero %f en su representacion en float32 es \\n %s %s %s \\n\"%(N,signo(N),exp(N),mantissa(N)))\n",
      "\n",
      "    return sig+expon+man\n",
      "\n",
      "def number32( binary ):\n",
      "    #Inverting binary string\n",
      "    binary = binary[::-1]\n",
      "    #Decimal part\n",
      "    dec = 1\n",
      "    for i in xrange(1,24):\n",
      "        dec += int(binary[23-i])*2**-i\n",
      "    #Exponent part\n",
      "    exp = 0\n",
      "    for i in xrange(0,8):\n",
      "        exp += int(binary[23+i])*2**i\n",
      "    #Total number\n",
      "    number = (-1)**int(binary[31])*2**(exp-127)*dec\n",
      "    return number"
     ],
     "language": "python",
     "metadata": {},
     "outputs": [],
     "prompt_number": 175
    },
    {
     "cell_type": "code",
     "collapsed": false,
     "input": [
      "number32(float32(12.13))"
     ],
     "language": "python",
     "metadata": {},
     "outputs": [
      {
       "metadata": {},
       "output_type": "pyout",
       "prompt_number": 190,
       "text": [
        "12.129999160766602"
       ]
      }
     ],
     "prompt_number": 190
    },
    {
     "cell_type": "code",
     "collapsed": false,
     "input": [],
     "language": "python",
     "metadata": {},
     "outputs": []
    }
   ],
   "metadata": {}
  }
 ]
}