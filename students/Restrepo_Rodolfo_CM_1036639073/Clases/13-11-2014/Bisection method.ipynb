{
 "metadata": {
  "name": ""
 },
 "nbformat": 3,
 "nbformat_minor": 0,
 "worksheets": [
  {
   "cells": [
    {
     "cell_type": "code",
     "collapsed": false,
     "input": [
      "import numpy as np\n",
      "\n",
      "#Defining Bisection function\n",
      "def Bisection( f, a, b, Nmax, printer=False ):\n",
      "    #verifying the STEP1, a and b with different signs\n",
      "    if f(a)*f(b)>0:\n",
      "        print \"Error, f(a) and f(b) should have opposite signs\"\n",
      "        return False\n",
      "    #Assigning the current extreme values, STEP2\n",
      "    ai = a\n",
      "    bi = b\n",
      "    #Iterations\n",
      "    n = 1\n",
      "    while n<=Nmax:\n",
      "        #Bisection, STEP3\n",
      "        pi = (ai+bi)/2.0\n",
      "        #Evaluating function in pi, STEP4 and STEP5\n",
      "        if printer:\n",
      "            print \"Value for %d iterations:\"%(n),pi\n",
      "        #Condition A\n",
      "        if f(pi)*f(ai)>0:\n",
      "            ai = pi\n",
      "        #Condition B\n",
      "        elif f(pi)*f(ai)<0:\n",
      "            bi = pi\n",
      "        #Condition C: repeat the cycle\n",
      "        n+=1\n",
      "    #Final result\n",
      "    return pi\n",
      "\n",
      "def funtion1(x):\n",
      "    f = x**3 - 2\n",
      "    return f\n",
      "\n",
      "a1 = 0.0\n",
      "b1 = 2.0\n",
      "N1max=20\n",
      "\n",
      "result1 = Bisection(funtion1, a1, b1, Nmax, True)\n",
      "\n",
      "print \"Real value: \", 2**(1/3.)\n",
      "print \"Absolute error: \", abs((2**(1/3.)-result)) "
     ],
     "language": "python",
     "metadata": {},
     "outputs": [
      {
       "output_type": "stream",
       "stream": "stdout",
       "text": [
        "Value for 1 iterations: 1.0\n",
        "Value for 2 iterations: 1.5\n",
        "Value for 3 iterations: 1.25\n",
        "Value for 4 iterations: 1.375\n",
        "Value for 5 iterations: 1.3125\n",
        "Value for 6 iterations: 1.28125\n",
        "Value for 7 iterations: 1.265625\n",
        "Value for 8 iterations: 1.2578125\n",
        "Value for 9 iterations: 1.26171875\n",
        "Value for 10 iterations: 1.259765625\n",
        "Value for 11 iterations: 1.2607421875\n",
        "Value for 12 iterations: 1.26025390625\n",
        "Value for 13 iterations: 1.26000976562\n",
        "Value for 14 iterations: 1.25988769531\n",
        "Value for 15 iterations: 1.25994873047\n",
        "Value for 16 iterations: 1.25991821289\n",
        "Value for 17 iterations: 1.25993347168\n",
        "Value for 18 iterations: 1.25992584229\n",
        "Value for 19 iterations: 1.25992202759\n",
        "Value for 20 iterations: 1.25992012024\n",
        "Real value:  1.25992104989\n",
        "Absolute error:  9.29655615378e-07\n"
       ]
      }
     ],
     "prompt_number": 6
    },
    {
     "cell_type": "code",
     "collapsed": false,
     "input": [
      "def funtion2(x):\n",
      "    f = (x**2 + 1.)**(1/2.) + np.exp(x)*np.sin(x) - 7.0\n",
      "    return f\n",
      "\n",
      "a2 = 0.0\n",
      "b2 = 7.0\n",
      "N2max = 31\n",
      "\n",
      "result2 = Bisection(funtion2,a2,b2,N2max,True)\n",
      "\n",
      "print funtion2(result2)"
     ],
     "language": "python",
     "metadata": {},
     "outputs": [
      {
       "output_type": "stream",
       "stream": "stdout",
       "text": [
        "Value for 1 iterations: 3.5\n",
        "Value for 2 iterations: 5.25\n",
        "Value for 3 iterations: 6.125\n",
        "Value for 4 iterations: 6.5625\n",
        "Value for 5 iterations: 6.34375\n",
        "Value for 6 iterations: 6.234375\n",
        "Value for 7 iterations: 6.2890625\n",
        "Value for 8 iterations: 6.26171875\n",
        "Value for 9 iterations: 6.275390625\n",
        "Value for 10 iterations: 6.2822265625\n",
        "Value for 11 iterations: 6.28564453125\n",
        "Value for 12 iterations: 6.28393554688\n",
        "Value for 13 iterations: 6.28479003906\n",
        "Value for 14 iterations: 6.28436279297\n",
        "Value for 15 iterations: 6.28457641602\n",
        "Value for 16 iterations: 6.28446960449\n",
        "Value for 17 iterations: 6.28441619873\n",
        "Value for 18 iterations: 6.28438949585\n",
        "Value for 19 iterations: 6.28437614441\n",
        "Value for 20 iterations: 6.28436946869\n",
        "Value for 21 iterations: 6.28437280655\n",
        "Value for 22 iterations: 6.28437113762\n",
        "Value for 23 iterations: 6.28437197208\n",
        "Value for 24 iterations: 6.28437238932\n",
        "Value for 25 iterations: 6.28437259793\n",
        "Value for 26 iterations: 6.28437270224\n",
        "Value for 27 iterations: 6.28437265009\n",
        "Value for 28 iterations: 6.28437262401\n",
        "Value for 29 iterations: 6.28437263705\n",
        "Value for 30 iterations: 6.28437264357\n",
        "Value for 31 iterations: 6.28437264031\n",
        "-9.4472464518e-08\n"
       ]
      }
     ],
     "prompt_number": 29
    },
    {
     "cell_type": "code",
     "collapsed": false,
     "input": [],
     "language": "python",
     "metadata": {},
     "outputs": []
    }
   ],
   "metadata": {}
  }
 ]
}