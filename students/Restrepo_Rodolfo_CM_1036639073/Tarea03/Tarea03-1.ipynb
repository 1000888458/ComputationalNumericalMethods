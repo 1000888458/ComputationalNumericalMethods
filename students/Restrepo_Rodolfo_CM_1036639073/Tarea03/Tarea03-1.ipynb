{
 "metadata": {
  "name": "",
  "signature": "sha256:569f531df988f52b0efe49747f0f13acf6695e95bd3cd615f5d0394ad6f78dcb"
 },
 "nbformat": 3,
 "nbformat_minor": 0,
 "worksheets": [
  {
   "cells": [
    {
     "cell_type": "heading",
     "level": 1,
     "metadata": {},
     "source": [
      "Task # 3 - Computacional Methods"
     ]
    },
    {
     "cell_type": "heading",
     "level": 2,
     "metadata": {
      "slideshow": {
       "slide_type": "subslide"
      }
     },
     "source": [
      "Rodolfo Restrepo Villegas - 1036639073"
     ]
    },
    {
     "cell_type": "heading",
     "level": 3,
     "metadata": {
      "slideshow": {
       "slide_type": "subslide"
      }
     },
     "source": [
      "Binary float32 representation of a real number."
     ]
    },
    {
     "cell_type": "markdown",
     "metadata": {
      "slideshow": {
       "slide_type": "notes"
      }
     },
     "source": [
      "We want to represent a real number using binary float32, so we need to follow the next steps:"
     ]
    },
    {
     "cell_type": "markdown",
     "metadata": {},
     "source": [
      "1. Find the sing of the number.\n",
      "2. Separate the real number in its integer and fractional part.\n",
      "3. Convert the integer part into binary.\n",
      "4. Convert the fractional part using the method that we explain here (read down).\n",
      "5. Add the two results and normalize to find the exponent and mantissa, then become the exponent into binary.\n",
      "6. Sum the sing, the exponen, and the mantissa in only one string."
     ]
    },
    {
     "cell_type": "heading",
     "level": 4,
     "metadata": {},
     "source": [
      "Conversion of the fractional part"
     ]
    },
    {
     "cell_type": "markdown",
     "metadata": {},
     "source": [
      "To convert the fractional part of a real number into a binary fraction, multiply the fraction by 2, take the integer part and re-multiply new fraction by 2 until a fraction of zero is found or until the precision limit is reached which is 23 fraction digits for IEEE 754 binary32 format. For example, we consider this fractional part: 0.375\n",
      "\n",
      "$0.375 * 2 = 0.750 = 0 + 0.750 \\Rightarrow b_{\u22121} = 0$, the integer part represents the binary fraction digit. Re-multiply 0.750 by 2 to proceed.\n",
      "\n",
      "$0.750 * 2 = 1.500 = 1 + 0.500 \\Rightarrow b_{\u22122} = 1$\n",
      "\n",
      "$0.500 * 2 = 1.000 = 1 + 0.000 \\Rightarrow b_{\u22123} = 1$, fraction = 0.000, terminate.\n",
      "\n",
      "We see that $(0.375)_{10}$ can be exactly represented in binary as $(0.011)_2$. Not all decimal fractions can be represented in a finite digit binary fraction. For example decimal 0.1 cannot be represented in binary exactly. So it is only approximated.\n",
      "\n",
      "Therefore $(0.375)_{10} =  (0.011)_2$"
     ]
    },
    {
     "cell_type": "heading",
     "level": 5,
     "metadata": {},
     "source": [
      "1. Find the sing of the number."
     ]
    },
    {
     "cell_type": "code",
     "collapsed": false,
     "input": [
      "import numpy as np\n",
      "\n",
      "#Real number.\n",
      "n = 20.3\n",
      "\n",
      "sign = []\n",
      "\n",
      "#Funtion to find the sing of real number.\n",
      "def sign_funtion(x):\n",
      "    if x >= 0:\n",
      "        sign.append(0)\n",
      "    else:\n",
      "        sign.append(1)\n",
      "    print sign\n",
      "    \n",
      "sign_funtion(n)"
     ],
     "language": "python",
     "metadata": {},
     "outputs": [
      {
       "output_type": "stream",
       "stream": "stdout",
       "text": [
        "[0]\n"
       ]
      }
     ],
     "prompt_number": 569
    },
    {
     "cell_type": "heading",
     "level": 5,
     "metadata": {},
     "source": [
      "2. Separate the real number in its integer and fractional part."
     ]
    },
    {
     "cell_type": "code",
     "collapsed": false,
     "input": [
      "#Integer part\n",
      "integer = int(abs(n))\n",
      "\n",
      "#Fractional part \n",
      "f =  np.floor(abs(n))\n",
      "fraction = abs (n) - f \n",
      "print integer, fraction\n"
     ],
     "language": "python",
     "metadata": {},
     "outputs": [
      {
       "output_type": "stream",
       "stream": "stdout",
       "text": [
        "20 0.3\n"
       ]
      }
     ],
     "prompt_number": 570
    },
    {
     "cell_type": "heading",
     "level": 5,
     "metadata": {},
     "source": [
      "3. Convert the integer part into binary."
     ]
    },
    {
     "cell_type": "code",
     "collapsed": false,
     "input": [
      "#Integer list\n",
      "Int = []\n",
      "\n",
      "#Convert into binary function.\n",
      "def integer2binary(x):\n",
      "    if x > 1:\n",
      "        while x > 1:\n",
      "            y = x%2\n",
      "            Int.append(y)\n",
      "            x = x/2\n",
      "        Int.append(1)\n",
      "    elif x == 1:\n",
      "        Int.append(1)\n",
      "    elif x == 0:\n",
      "        Int.append(0)\n",
      "    return Int[::-1]\n",
      "    \n",
      "#Call funtion integer2binary\n",
      "print integer2binary(integer)\n",
      "    "
     ],
     "language": "python",
     "metadata": {},
     "outputs": [
      {
       "output_type": "stream",
       "stream": "stdout",
       "text": [
        "[1, 0, 1, 0, 0]\n"
       ]
      }
     ],
     "prompt_number": 571
    },
    {
     "cell_type": "heading",
     "level": 5,
     "metadata": {},
     "source": [
      "4. Convert the fractional part into binary."
     ]
    },
    {
     "cell_type": "code",
     "collapsed": false,
     "input": [
      "#Fraction list.\n",
      "Fraction = []\n",
      "\n",
      "#Convert into binary funtion.\n",
      "def fraction2binary(x):\n",
      "    while x<1:\n",
      "        x = x*2\n",
      "        Fraction.append(int(x))\n",
      "        x = (abs(x)-abs(int(x)))\n",
      "        if x==0 or len(Fraction)>22:\n",
      "            break\n",
      "    return Fraction\n",
      "\n",
      "#Call the fraction2binary funtion.\n",
      "print fraction2binary(fraction)"
     ],
     "language": "python",
     "metadata": {},
     "outputs": [
      {
       "output_type": "stream",
       "stream": "stdout",
       "text": [
        "[0, 1, 0, 0, 1, 1, 0, 0, 1, 1, 0, 0, 1, 1, 0, 0, 1, 1, 0, 0, 1, 1, 0]\n"
       ]
      }
     ],
     "prompt_number": 572
    },
    {
     "cell_type": "heading",
     "level": 5,
     "metadata": {},
     "source": [
      "5. Add the two results and normalize to find the exponent and mantissa, then become the exponent into binary."
     ]
    },
    {
     "cell_type": "code",
     "collapsed": false,
     "input": [
      "#Binary list\n",
      "Binary = Int[::-1] + Fraction\n",
      "print Binary\n",
      "\n",
      "#Mantissa\n",
      "delta = 23-len(Binary)\n",
      "print delta\n",
      "if delta<=0:\n",
      "    Mantissa = Binary[1:(len(Binary)-abs(delta)+1)]\n",
      "if delta > 0:\n",
      "    Mantissa = Binary[1:]\n",
      "    Zeros = np.zeros((23-len(Mantissa)))\n",
      "    Zeros=''.join(str(int(x)) for x in Zeros)\n",
      "print Mantissa , len(Mantissa)\n",
      "\n",
      "#Exponent\n",
      "exp = len(Int) + 126\n",
      "print exp\n",
      "expbin = []\n",
      "#Funtio exponent to binary.\n",
      "def exp2binary(x):\n",
      "    if x > 1:\n",
      "        while x > 1:\n",
      "            y = x%2\n",
      "            expbin.append(y)\n",
      "            x = x/2\n",
      "        expbin.append(1)\n",
      "    elif x == 1:\n",
      "        expbin.append(1)\n",
      "    elif x == 0:\n",
      "        expbin.append(0)\n",
      "    print expbin[::-1]\n",
      "\n",
      "exp2binary(exp)\n",
      "delta2 = abs(8 - len(expbin))\n",
      "expbin = expbin[0:len(expbin)-delta2+1]\n",
      "expbin = expbin[::-1]\n",
      "print expbin"
     ],
     "language": "python",
     "metadata": {},
     "outputs": [
      {
       "output_type": "stream",
       "stream": "stdout",
       "text": [
        "[1, 0, 1, 0, 0, 0, 1, 0, 0, 1, 1, 0, 0, 1, 1, 0, 0, 1, 1, 0, 0, 1, 1, 0, 0, 1, 1, 0]\n",
        "-5\n",
        "[0, 1, 0, 0, 0, 1, 0, 0, 1, 1, 0, 0, 1, 1, 0, 0, 1, 1, 0, 0, 1, 1, 0] 23\n",
        "131\n",
        "[1, 0, 0, 0, 0, 0, 1, 1]\n",
        "[1, 0, 0, 0, 0, 0, 1, 1]\n"
       ]
      }
     ],
     "prompt_number": 573
    },
    {
     "cell_type": "heading",
     "level": 5,
     "metadata": {},
     "source": [
      "6. Sum the sing, the exponen, and the mantissa in only one string."
     ]
    },
    {
     "cell_type": "code",
     "collapsed": false,
     "input": [
      "#Binary number finaly\n",
      "Float32bin = sign + expbin + Mantissa \n",
      "Float32bin = \"\".join(str(x) for x in Float32bin)\n",
      "if len(Float32bin)==32:\n",
      "    print Float32bin\n",
      "if len(Float32bin)<32:\n",
      "    Float32bin = Float32bin + Zeros\n",
      "    print Float32bin "
     ],
     "language": "python",
     "metadata": {},
     "outputs": [
      {
       "output_type": "stream",
       "stream": "stdout",
       "text": [
        "01000001101000100110011001100110\n"
       ]
      }
     ],
     "prompt_number": 574
    },
    {
     "cell_type": "markdown",
     "metadata": {},
     "source": [
      "Finally, we going to prove if our string is ok with this routing:"
     ]
    },
    {
     "cell_type": "code",
     "collapsed": false,
     "input": [
      "#Funtion to pass a float32 binary into a real number.\n",
      "def number32( binary ):\n",
      "    #Inverting binary string\n",
      "    binary = binary[::-1]\n",
      "    #Decimal part\n",
      "    dec = 1\n",
      "    for i in xrange(1,24):\n",
      "        dec += int(binary[23-i])*2**-i\n",
      "    #Exponent part\n",
      "    exp = 0\n",
      "    for i in xrange(0,8):\n",
      "        exp += int(binary[23+i])*2**i\n",
      "    #Total number\n",
      "    number = (-1)**int(binary[31])*2**(exp-127)*dec\n",
      "    return number\n",
      "\n",
      "#Calling the funtion number32.\n",
      "print number32(Float32bin)"
     ],
     "language": "python",
     "metadata": {},
     "outputs": [
      {
       "output_type": "stream",
       "stream": "stdout",
       "text": [
        "20.2999992371\n"
       ]
      }
     ],
     "prompt_number": 575
    },
    {
     "cell_type": "markdown",
     "metadata": {},
     "source": [
      "Therefore, $ (01000001101000100110011001100110)_2 = (20.3)_{10}$"
     ]
    }
   ],
   "metadata": {}
  }
 ]
}