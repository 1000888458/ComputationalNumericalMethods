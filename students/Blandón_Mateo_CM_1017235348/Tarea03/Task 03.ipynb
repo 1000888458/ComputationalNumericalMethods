{
 "metadata": {
  "name": ""
 },
 "nbformat": 3,
 "nbformat_minor": 0,
 "worksheets": [
  {
   "cells": [
    {
     "cell_type": "markdown",
     "metadata": {},
     "source": [
      "\n",
      "1. Write an IPython notebook and present (consult) the steps necessary for finding the binary float32 representation of a real number."
     ]
    },
    {
     "cell_type": "markdown",
     "metadata": {},
     "source": [
      "1. Tomamos un n\u00famero con una parte entera y una parte fraccionaria\n",
      "\n",
      "2. Si el n\u00famero es positivo, el primer d\u00edgito es cero, de lo contrario ser\u00e1 1\n",
      "\n",
      "3. Se convierte y normaliza su parte entera en binaria\n",
      "\n",
      "4. Se toma la parte fraccionaria y se convierte en binaria multiplicandola por 2, se toma la parte fraccionaria del relutado y vuelve a multiplicar por 2 hasta que se encuentre una fracci\u00f3n de cero o hasta que el l\u00edmite de presici\u00f3n alcance 23 d\u00edgitos decimales\n",
      "\n",
      "5. Se suma la parte entera y fracionaria binaria\n",
      "\n",
      "6. Se normalliza el resultado moviendo el punto decimal hacia la izquierda hasta el primer d\u00edgito. El numero que resulte se multiplica por una potencial de 2 cuyo exponente ser\u00e1 el n\u00famero de espacios movidos hacia la izquierda\n",
      "\n",
      "7. El exponente anterior se convierte a binario\n",
      "\n",
      "8. Se toma el d\u00edgito correspondiente al signo, se agrega el n\u00famero binario del exponente, se agrega la parte fraccionaria del punto cinco y si es necesario se agregan ceros para completar 23 d\u00edgitos\n"
     ]
    },
    {
     "cell_type": "markdown",
     "metadata": {},
     "source": [
      "2 . Write a routine (same notebook) that calculates the binary representation of a number following the steps of the previous item. Test your results with the next function number32, i.e., if your routine is called binary32, running number32( binary32( number ) ) should return the original number."
     ]
    },
    {
     "cell_type": "code",
     "collapsed": false,
     "input": [
      "import numpy as np"
     ],
     "language": "python",
     "metadata": {},
     "outputs": [],
     "prompt_number": 1
    },
    {
     "cell_type": "code",
     "collapsed": false,
     "input": [
      "def number32( binary ):\n",
      "    #Inverting binary string\n",
      "    binary = binary[::-1]\n",
      "    #Decimal part\n",
      "    dec = 1\n",
      "    for i in xrange(1,24):\n",
      "        dec += int(binary[23-i])*2**-i\n",
      "    #Exponent part\n",
      "    exp = 0\n",
      "    for i in xrange(0,8):\n",
      "        exp += int(binary[23+i])*2**i\n",
      "    #Total number\n",
      "    number = (-1)**int(binary[31])*2**(exp-127)*dec\n",
      "    return number"
     ],
     "language": "python",
     "metadata": {},
     "outputs": [],
     "prompt_number": 2
    },
    {
     "cell_type": "code",
     "collapsed": false,
     "input": [
      "def bina(number): #rutina para convertir a binario la parte entera \n",
      "    i=0\n",
      "    bin=0\n",
      "    number=int(number)\n",
      "    while number>1:\n",
      "        r=number%2\n",
      "        bin=bin+10**i*r\n",
      "        i=i+1\n",
      "        number=number/2\n",
      "    b=bin+10**i\n",
      "    print b\n",
      "    "
     ],
     "language": "python",
     "metadata": {},
     "outputs": [],
     "prompt_number": 10
    },
    {
     "cell_type": "code",
     "collapsed": false,
     "input": [
      "bina(12.375)"
     ],
     "language": "python",
     "metadata": {},
     "outputs": [
      {
       "output_type": "stream",
       "stream": "stdout",
       "text": [
        "1100\n"
       ]
      }
     ],
     "prompt_number": 14
    },
    {
     "cell_type": "code",
     "collapsed": false,
     "input": [
      "def dec(n): #rutina para convertit a binario la parte fraccionaria\n",
      "    k=n-int(n)\n",
      "    dec=np.array([0]) #el primero de la lista es cero en todas\n",
      "    i=1\n",
      "    while np.floor(k)-k!=0 and i<=22:\n",
      "        k=2*k\n",
      "        r=np.floor(k)\n",
      "        dec=np.append(dec,r)\n",
      "        i=i+1\n",
      "        if k>1:\n",
      "            k=k-1\n",
      "    print dec\n",
      "\n"
     ],
     "language": "python",
     "metadata": {},
     "outputs": [],
     "prompt_number": 15
    },
    {
     "cell_type": "code",
     "collapsed": false,
     "input": [
      "dec(12.375)"
     ],
     "language": "python",
     "metadata": {},
     "outputs": [
      {
       "output_type": "stream",
       "stream": "stdout",
       "text": [
        "[ 0.  0.  1.  1.]\n"
       ]
      }
     ],
     "prompt_number": 16
    },
    {
     "cell_type": "code",
     "collapsed": false,
     "input": [],
     "language": "python",
     "metadata": {},
     "outputs": []
    }
   ],
   "metadata": {}
  }
 ]
}