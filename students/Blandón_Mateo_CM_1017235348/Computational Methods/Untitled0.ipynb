{
 "metadata": {
  "name": ""
 },
 "nbformat": 3,
 "nbformat_minor": 0,
 "worksheets": [
  {
   "cells": [
    {
     "cell_type": "heading",
     "level": 1,
     "metadata": {},
     "source": [
      "Bisection Method"
     ]
    },
    {
     "cell_type": "markdown",
     "metadata": {},
     "source": [
      "The first aproximation is the mid point. The first stop condition is not good for high slopes and the second is not good for low slopes. "
     ]
    },
    {
     "cell_type": "code",
     "collapsed": false,
     "input": [
      "import numpy as np\n",
      "%pylab inline\n",
      "import matplotlib.pyplot as plt\n"
     ],
     "language": "python",
     "metadata": {},
     "outputs": [
      {
       "output_type": "stream",
       "stream": "stdout",
       "text": [
        "Populating the interactive namespace from numpy and matplotlib\n"
       ]
      }
     ],
     "prompt_number": 2
    },
    {
     "cell_type": "code",
     "collapsed": false,
     "input": [
      "\n",
      "\n",
      "#Defining Bisection function\n",
      "def Bisection( f, a, b, Nmax, printer=False ):\n",
      "    #verifying the STEP1, a and b with different signs\n",
      "    if f(a)*f(b)>0:\n",
      "        print \"Error, f(a) and f(b) should have opposite signs\"\n",
      "        return False\n",
      "    #Assigning the current extreme values, STEP2\n",
      "    ai = a\n",
      "    bi = b\n",
      "    #Iterations\n",
      "    n = 1\n",
      "    while n<=Nmax:\n",
      "        #Bisection, STEP3\n",
      "        pi = (ai+bi)/2.0\n",
      "        #Evaluating function in pi, STEP4 and STEP5\n",
      "        if printer:\n",
      "            print \"Value for %f iterations:\"%f(n),pi\n",
      "        #Condition A\n",
      "        if f(pi)*f(ai)>0:\n",
      "            ai = pi\n",
      "        #Condition B\n",
      "        elif f(pi)*f(ai)<0: #no hace falta elvaluar la segunda condicion si la primera se cumple\n",
      "            bi = pi\n",
      "        #Condition C: repeat the cycle\n",
      "        n+=1\n",
      "    #Final result\n",
      "    return pi\n",
      "\n"
     ],
     "language": "python",
     "metadata": {},
     "outputs": [],
     "prompt_number": 13
    },
    {
     "cell_type": "code",
     "collapsed": false,
     "input": [
      "#Defining function\n",
      "def function(x):\n",
      "    f = (x**2.0+1)**0.5+(e**x*np.sin(x))-7.0\n",
      "    return f\n",
      "\n",
      "#Finding the root of the function. The real root is 2**(1/3), so a & b should enclose this value\n",
      "a = 0.0\n",
      "b = 7.0\n",
      "Nmax =56\n",
      "\n",
      "result = Bisection(function, a, b, Nmax, True)\n",
      "print \"Real value:\", 2**(1/3.0)\n",
      "print \"Absolute error\", abs((2**(1/3.0)-result))"
     ],
     "language": "python",
     "metadata": {},
     "outputs": [
      {
       "output_type": "stream",
       "stream": "stdout",
       "text": [
        "Value for -3.298431 iterations: 3.5\n",
        "Value for 1.954918 iterations: 5.25\n",
        "Value for -1.003251 iterations: 6.125\n",
        "Value for -44.196911 iterations: 6.5625\n",
        "Value for -144.217961 iterations: 6.34375\n",
        "Value for -113.641495 iterations: 6.234375\n",
        "Value for 720.544357 iterations: 6.2890625\n",
        "Value for 2950.297625 iterations: 6.26171875\n",
        "Value for 3341.486059 iterations: 6.275390625\n",
        "Value for -11979.812515 iterations: 6.2822265625\n",
        "Value for -59869.509980 iterations: 6.28564453125\n",
        "Value for -87324.771756 iterations: 6.28393554688\n",
        "Value for 185893.562378 iterations: 6.28479003906\n",
        "Value for 1191315.685553 iterations: 6.28436279297\n",
        "Value for 2125810.279877 iterations: 6.28457641602\n",
        "Value for -2558331.659887 iterations: 6.28446960449\n",
        "Value for -23222500.964370 iterations: 6.28441619873\n",
        "Value for -49309788.417801 iterations: 6.28438949585\n",
        "Value for 26750441.268883 iterations: 6.28437614441\n",
        "Value for 442929273.992693 iterations: 6.28436946869\n",
        "Value for 1103394634.469247 iterations: 6.28437280655\n",
        "Value for -31731157.357537 iterations: 6.28437113762\n",
        "Value for -8246251494.870603 iterations: 6.28437197208\n",
        "Value for -23987975812.316208 iterations: 6.28437238932\n",
        "Value for -9529974424.896992 iterations: 6.28437259793\n",
        "Value for 149255267698.052155 iterations: 6.28437270224\n",
        "Value for 508838130081.545288 iterations: 6.28437265009\n",
        "Value for 391799410118.723755 iterations: 6.28437262401\n",
        "Value for -2608966649731.336426 iterations: 6.28437263705\n",
        "Value for -10558574836587.666016 iterations: 6.28437264357\n",
        "Value for -11736828818066.240234 iterations: 6.28437264031\n",
        "Value for 43542283074580.312500 iterations: 6.28437264194\n",
        "Value for 214624661123843.562500 iterations: 6.28437264112\n",
        "Value for 308699505984722.062500 iterations: 6.28437264072\n",
        "Value for -679103473868341.875000 iterations: 6.28437264051\n",
        "Value for -4275788280725661.500000 iterations: 6.28437264041\n",
        "Value for -7541715007138265.000000 iterations: 6.28437264046\n",
        "Value for 9441097218318988.000000 iterations: 6.28437264049\n",
        "Value for 83458319811295600.000000 iterations: 6.28437264047\n",
        "Value for 175388660103206496.000000 iterations: 6.28437264048\n",
        "Value for -101493682561065584.000000 iterations: 6.28437264048\n",
        "Value for -1594082961653239552.000000 iterations: 6.28437264048\n",
        "Value for -3932497456875785216.000000 iterations: 6.28437264048\n",
        "Value for 227498062709112544.000000 iterations: 6.28437264048\n",
        "Value for 29725694369844244480.000000 iterations: 6.28437264048\n",
        "Value for 85634898413808287744.000000 iterations: 6.28437264048\n",
        "Value for 31898089412899282944.000000 iterations: 6.28437264048\n",
        "Value for -539064007174616317952.000000 iterations: 6.28437264048\n",
        "Value for -1819136853248883032064.000000 iterations: 6.28437264048\n",
        "Value for -1360336354560980025344.000000 iterations: 6.28437264048\n",
        "Value for 9445868739906209054720.000000 iterations: 6.28437264048\n",
        "Value for 37797781988348193144832.000000 iterations: 6.28437264048\n",
        "Value for 41230692674795221286912.000000 iterations: 6.28437264048\n",
        "Value for -158179394587043257384960.000000 iterations: 6.28437264048\n",
        "Value for -769290137670938917863424.000000 iterations: 6.28437264048\n",
        "Value for -1090907106170179912990720.000000 iterations: 6.28437264048\n",
        "Real value: 1.25992104989\n",
        "Absolute error 5.02445159059\n"
       ]
      }
     ],
     "prompt_number": 15
    },
    {
     "cell_type": "code",
     "collapsed": false,
     "input": [],
     "language": "python",
     "metadata": {},
     "outputs": []
    }
   ],
   "metadata": {}
  }
 ]
}