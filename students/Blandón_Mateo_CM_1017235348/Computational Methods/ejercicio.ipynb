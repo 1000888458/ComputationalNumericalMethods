{
 "metadata": {
  "name": ""
 },
 "nbformat": 3,
 "nbformat_minor": 0,
 "worksheets": [
  {
   "cells": [
    {
     "cell_type": "heading",
     "level": 1,
     "metadata": {},
     "source": [
      "Lissajous curves"
     ]
    },
    {
     "cell_type": "markdown",
     "metadata": {},
     "source": [
      "**Lissajous curves** are a family of parametric two-dimensional curves normally obtained when solving multi-harmonic systems, like mass-spring systems with two springs in each axis (x and y) or some circuit systems. The figures are described with the following equations:"
     ]
    },
    {
     "cell_type": "markdown",
     "metadata": {},
     "source": [
      "$x(t) = A\\sin(\\alpha t +\\delta)$\n",
      "\n",
      "$y(t)=B\\sin(\\beta t)$\n",
      "\n",
      "  where $A$ and $B$ are the amplitudes along each axis, $a$ and $b$ the angular frequencies and $\\delta$ the relative phase\n"
     ]
    },
    {
     "cell_type": "markdown",
     "metadata": {},
     "source": [
      "<font color=\"green\">\n",
      "    *Aqui se agrega color*"
     ]
    },
    {
     "cell_type": "code",
     "collapsed": false,
     "input": [
      "import matplotlib.pyplot as plt\n",
      "impo"
     ],
     "language": "python",
     "metadata": {},
     "outputs": []
    }
   ],
   "metadata": {}
  }
 ]
}