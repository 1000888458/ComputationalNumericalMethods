{
 "cells": [
  {
   "cell_type": "code",
   "execution_count": 1,
   "id": "commercial-roberts",
   "metadata": {},
   "outputs": [],
   "source": [
    "%%capture\n",
    "import numpy as np\n",
    "import os\n",
    "x=np.array([4,5,6])\n",
    "y=np.array([np.log10(4),np.log10(5),np.log10(6)])\n",
    "xinterp=np.arange(4,7,0.1)\n",
    "\n",
    "path='submissions/1000434438/homework_05/homework_05.ipynb'\n",
    "%run $path\n",
    "result_correct=[]\n",
    "for i in xinterp:\n",
    "    result_correct.append(cuadratic_interp_correct(x,y,i))"
   ]
  },
  {
   "cell_type": "code",
   "execution_count": 2,
   "id": "waiting-worker",
   "metadata": {},
   "outputs": [],
   "source": [
    "%%capture\n",
    "students=[10004344382,10004344383,1017261080,10004344382,10004344383]\n",
    "evals = dict()\n",
    "#students=[10004344383]\n",
    "for student in students:\n",
    "#    print(student)\n",
    "    path='submissions/'+str(student)+'/homework_05/homework_05.ipynb'\n",
    "    cmd='submissions/'+str(student)+'/homework_05/MSG__*'\n",
    "    os.system(f'rm {cmd}')\n",
    "    try:\n",
    "        %run $path\n",
    "    except:\n",
    "        cmd='submissions/'+str(student)+'/homework_05/MSG__ERROR_CALLING_NOTEBOOK'\n",
    "        os.system(f'touch {cmd}') \n",
    "        evals.update( {str(student) : 'F'} )\n",
    "        continue\n",
    "        \n",
    "    result=[]\n",
    "    for i in xinterp:\n",
    "        try:\n",
    "            result.append(cuadratic_interp(x,y,i))\n",
    "        except:\n",
    "            cmd='submissions/'+str(student)+'/homework_05/MSG__ERROR_CALLING_FUNCTION'\n",
    "            os.system(f'touch {cmd}') \n",
    "            evals.update( {str(student) : 'F'} )\n",
    "            continue\n",
    "        \n",
    "    difference=np.abs(result)-np.abs(result_correct)\n",
    "    tol=0.001\n",
    "    if(np.sum(np.abs(difference))<tol):\n",
    "        evals.update( {str(student) : 'A'} )\n",
    "        cmd='submissions/'+str(student)+'/homework_05/MSG__HOMEWORK_APPROVED'\n",
    "        os.system(f'touch {cmd}')\n",
    "    else:\n",
    "        cmd='submissions/'+str(student)+'/homework_05/MSG__RESULT_IS_NOT_CORRECT'\n",
    "        os.system(f'touch {cmd}')\n",
    "        evals.update( {str(student) : 'F'} )\n",
    "        continue"
   ]
  },
  {
   "cell_type": "code",
   "execution_count": 3,
   "id": "forced-dream",
   "metadata": {},
   "outputs": [
    {
     "data": {
      "text/plain": [
       "{'10004344382': 'A', '10004344383': 'F', '1017261080': 'F'}"
      ]
     },
     "execution_count": 3,
     "metadata": {},
     "output_type": "execute_result"
    }
   ],
   "source": [
    "evals"
   ]
  },
  {
   "cell_type": "code",
   "execution_count": null,
   "id": "respected-cleaner",
   "metadata": {},
   "outputs": [],
   "source": []
  }
 ],
 "metadata": {
  "kernelspec": {
   "display_name": "Python 3",
   "language": "python",
   "name": "python3"
  },
  "language_info": {
   "codemirror_mode": {
    "name": "ipython",
    "version": 3
   },
   "file_extension": ".py",
   "mimetype": "text/x-python",
   "name": "python",
   "nbconvert_exporter": "python",
   "pygments_lexer": "ipython3",
   "version": "3.7.2"
  }
 },
 "nbformat": 4,
 "nbformat_minor": 5
}
