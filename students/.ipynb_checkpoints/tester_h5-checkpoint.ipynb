{
 "cells": [
  {
   "cell_type": "code",
   "execution_count": 108,
   "id": "waiting-worker",
   "metadata": {},
   "outputs": [
    {
     "name": "stdout",
     "output_type": "stream",
     "text": [
      "This is Mijaito's homework 5\n",
      "This is Mijaito's homework 5\n"
     ]
    },
    {
     "ename": "SyntaxError",
     "evalue": "invalid syntax (<ipython-input-108-31f9b4324184>, line 2)",
     "output_type": "error",
     "traceback": [
      "\u001b[0;36m  File \u001b[0;32m\"<ipython-input-108-31f9b4324184>\"\u001b[0;36m, line \u001b[0;32m2\u001b[0m\n\u001b[0;31m    def cuadratic_interp(x,y,xinterp,2):\u001b[0m\n\u001b[0m                                     ^\u001b[0m\n\u001b[0;31mSyntaxError\u001b[0m\u001b[0;31m:\u001b[0m invalid syntax\n"
     ]
    },
    {
     "name": "stdout",
     "output_type": "stream",
     "text": [
      "10004344383 OK\n"
     ]
    }
   ],
   "source": [
    "import numpy as np\n",
    "import os\n",
    "x=np.array([4.5,5.5])\n",
    "y=np.array([np.log10(4.5),np.log10(5.5)])\n",
    "xinterp=np.arange(4,7,0.1)\n",
    "\n",
    "%run submissions/1000434438/homework_05/homework_05.ipynb\n",
    "yinterp_correct=[]\n",
    "for i in xinterp:\n",
    "    yinterp_correct.append(cuadratic_interp(x,y,i))\n",
    "students=[10004344383]\n",
    "#students=[10004344383]\n",
    "\n",
    "for student in students:\n",
    "    path='submissions/'+str(student)+'/homework_05/homework_05.ipynb'\n",
    "\n",
    "    try:\n",
    "        %run $path\n",
    "\n",
    "    except:\n",
    "       cmd='submissions/'+str(student)+'/homework_05/ERROR_CALLING_FUNCTION'\n",
    "       os.system(f'touch {cmd}')            \n",
    "        \n",
    "    \n",
    "    yinterp=[]\n",
    "    for i in xinterp:\n",
    "        try:\n",
    "            yinterp.append(cuadratic_interp(x,y,i))\n",
    "        except:\n",
    "           cmd='submissions/'+str(student)+'/homework_05/ERROR_CALLING_FUNCTION_1'\n",
    "           os.system(f'touch {cmd}')            \n",
    "        \n",
    "    try:    \n",
    "        difference=np.abs(yinterp)-np.abs(yinterp_correct)\n",
    "        tol=0.001\n",
    "        if(np.sum(np.abs(difference))<tol):\n",
    "            print(str(student)+' OK')\n",
    "            cmd='submissions/'+str(student)+'/homework_05/HOMEWORK_APPROVED'\n",
    "            os.system(f'touch {cmd}')\n",
    "        else:\n",
    "            cmd='submissions/'+str(student)+'/homework_05/RESULTS_NOT_CORRECT'\n",
    "            os.system(f'touch {cmd}')\n",
    "    except:\n",
    "       cmd='submissions/'+str(student)+'/homework_05/ERROR_CALLING_FUNCTION_2'\n",
    "       os.system(f'touch {cmd}')            "
   ]
  },
  {
   "cell_type": "code",
   "execution_count": null,
   "id": "resistant-video",
   "metadata": {},
   "outputs": [],
   "source": []
  }
 ],
 "metadata": {
  "kernelspec": {
   "display_name": "Python 3",
   "language": "python",
   "name": "python3"
  },
  "language_info": {
   "codemirror_mode": {
    "name": "ipython",
    "version": 3
   },
   "file_extension": ".py",
   "mimetype": "text/x-python",
   "name": "python",
   "nbconvert_exporter": "python",
   "pygments_lexer": "ipython3",
   "version": "3.7.2"
  }
 },
 "nbformat": 4,
 "nbformat_minor": 5
}
