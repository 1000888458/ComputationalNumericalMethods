{
  "nbformat": 4,
  "nbformat_minor": 5,
  "metadata": {
    "kernelspec": {
      "display_name": "Python 3",
      "language": "python",
      "name": "python3"
    },
    "language_info": {
      "codemirror_mode": {
        "name": "ipython",
        "version": 3
      },
      "file_extension": ".py",
      "mimetype": "text/x-python",
      "name": "python",
      "nbconvert_exporter": "python",
      "pygments_lexer": "ipython3",
      "version": "3.7.2"
    },
    "colab": {
      "name": "TAREA#1_1010001242.ipynb",
      "provenance": [],
      "collapsed_sections": []
    }
  },
  "cells": [
    {
      "cell_type": "markdown",
      "metadata": {
        "id": "super-silicon"
      },
      "source": [
        "# Exercicios sobre numeros :"
      ],
      "id": "super-silicon"
    },
    {
      "cell_type": "markdown",
      "metadata": {
        "id": "environmental-observation"
      },
      "source": [
        "#### 1. Imprime primero 10 numeros naturales (1,2,3,4,5,6,7,8,9,10) usando \"for loop\" y print ()"
      ],
      "id": "environmental-observation"
    },
    {
      "cell_type": "code",
      "metadata": {
        "id": "executive-austria",
        "colab": {
          "base_uri": "https://localhost:8080/"
        },
        "outputId": "1c275215-1b05-4517-a55b-ff727524a360"
      },
      "source": [
        "for N in range(1,11):   #FOR LOOP\n",
        "  \n",
        "  print(N)\n"
      ],
      "id": "executive-austria",
      "execution_count": null,
      "outputs": [
        {
          "output_type": "stream",
          "name": "stdout",
          "text": [
            "1\n",
            "2\n",
            "3\n",
            "4\n",
            "5\n",
            "6\n",
            "7\n",
            "8\n",
            "9\n",
            "10\n"
          ]
        }
      ]
    },
    {
      "cell_type": "markdown",
      "metadata": {
        "id": "loving-george"
      },
      "source": [
        "#### 2. Imprime primero 10 numeros naturales (1,2,3,4,5,6,7,8,9,10)  usando \"while loop\" y print ()"
      ],
      "id": "loving-george"
    },
    {
      "cell_type": "code",
      "metadata": {
        "id": "manufactured-international",
        "colab": {
          "base_uri": "https://localhost:8080/"
        },
        "outputId": "23a82276-6bcc-4cbd-ec93-d2ef656b6c0d"
      },
      "source": [
        "N=1\n",
        "while (N<=10):  #WHILE LOOP\n",
        "  print(N)\n",
        "  N+=1\n"
      ],
      "id": "manufactured-international",
      "execution_count": null,
      "outputs": [
        {
          "output_type": "stream",
          "name": "stdout",
          "text": [
            "1\n",
            "2\n",
            "3\n",
            "4\n",
            "5\n",
            "6\n",
            "7\n",
            "8\n",
            "9\n",
            "10\n"
          ]
        }
      ]
    },
    {
      "cell_type": "markdown",
      "metadata": {
        "id": "beginning-marine"
      },
      "source": [
        "#### 3. Calcular la soma de numeros (1+2+3+4+5+6+7+8+9+10) usando \"for loop\" y guarda resultado en variable \"my_result\""
      ],
      "id": "beginning-marine"
    },
    {
      "cell_type": "code",
      "metadata": {
        "colab": {
          "base_uri": "https://localhost:8080/"
        },
        "id": "neither-segment",
        "outputId": "d5910624-0d7e-4299-9ee4-dbdf7ab3552a"
      },
      "source": [
        "My_result=0               #VARIABLES\n",
        "\n",
        "for N in range(1,11):     #FOR LOOP\n",
        "  My_result += N\n",
        "\n",
        "print(f\"La suma de los primeros 10 numeros naturales es: {My_result}\")"
      ],
      "id": "neither-segment",
      "execution_count": null,
      "outputs": [
        {
          "output_type": "stream",
          "name": "stdout",
          "text": [
            "La suma de los primeros 10 numeros naturales es: 55\n"
          ]
        }
      ]
    },
    {
      "cell_type": "markdown",
      "metadata": {
        "id": "indoor-roots"
      },
      "source": [
        "#### 4. Calcular la soma de numeros (1+2+3+4+5+6+7+8+9+10) usando \"while loop\" y guardar resultado en variable \"my_result\""
      ],
      "id": "indoor-roots"
    },
    {
      "cell_type": "code",
      "metadata": {
        "colab": {
          "base_uri": "https://localhost:8080/"
        },
        "id": "infrared-respondent",
        "outputId": "24e1d9a7-69dd-4862-df9e-44a2899387b1"
      },
      "source": [
        "My_result=0           #VARIABLES\n",
        "i=1             \n",
        "\n",
        "while (i<=10):      # WHILE LOOP\n",
        "  My_result += i\n",
        "  i += 1\n",
        "\n",
        "print(f\"La suma de los primeros 10 numeros es: {My_result}\")"
      ],
      "id": "infrared-respondent",
      "execution_count": null,
      "outputs": [
        {
          "output_type": "stream",
          "name": "stdout",
          "text": [
            "La suma de los primeros 10 numeros es: 55\n"
          ]
        }
      ]
    },
    {
      "cell_type": "markdown",
      "metadata": {
        "id": "polished-reason"
      },
      "source": [
        "#### 5. Calcular la soma de numeros par (2+4+6+8+10.. + ...100) usando \"for loop\" y guardar resultado en variable \"my_result\" (pista: usa condicion \"if\" y \"%\")"
      ],
      "id": "polished-reason"
    },
    {
      "cell_type": "code",
      "metadata": {
        "colab": {
          "base_uri": "https://localhost:8080/"
        },
        "id": "asian-publisher",
        "outputId": "4a078c62-f949-4e6e-e724-418f89dae994"
      },
      "source": [
        "My_result=0      #VARIABLES\n",
        "\n",
        "for n in range(1,101):    #FOR LOOP\n",
        "\n",
        "  if ((n % 2)!=1):   #CONDITIONAl IF ;  The % operator returns the remainder of the division.\n",
        "    My_result += n\n",
        "\n",
        "print(\"La suma de los primeros 100 numeros pares es:\")\n",
        "print(f\"2 + 4 + 6 +...+ 100 = {My_result}.\") "
      ],
      "id": "asian-publisher",
      "execution_count": null,
      "outputs": [
        {
          "output_type": "stream",
          "name": "stdout",
          "text": [
            "La suma de los primeros 100 numeros pares es:\n",
            "2 + 4 + 6 +...+ 100 = 2550.\n"
          ]
        }
      ]
    },
    {
      "cell_type": "markdown",
      "metadata": {
        "id": "accepted-jacksonville"
      },
      "source": [
        "#### 6. Calcular la soma de numeros impar (1+3+5+7+9+... + ...99) usando \"while loop\" y guardar resultado en variable \"my_result\" (pista: usa condicion \"if\" y \"%\")"
      ],
      "id": "accepted-jacksonville"
    },
    {
      "cell_type": "code",
      "metadata": {
        "colab": {
          "base_uri": "https://localhost:8080/"
        },
        "id": "assigned-parameter",
        "outputId": "e2066aee-2a86-4f0b-f5ee-77b1b87f88a7"
      },
      "source": [
        "My_result=0     #VARIABLES\n",
        "N=0\n",
        "\n",
        "while (N<=100):     #WHILE LOOP\n",
        "  \n",
        "  if ((N%2)!=0):                #CONDITIONAL IF\n",
        "    \n",
        "    My_result= My_result + N\n",
        "\n",
        "  N += 1\n",
        "\n",
        "print(\"La suma de los primeros 100 numeros impares es:\")\n",
        "print(f\"1 + 3 + 5 +...+ 99 = {My_result}.\") "
      ],
      "id": "assigned-parameter",
      "execution_count": null,
      "outputs": [
        {
          "output_type": "stream",
          "name": "stdout",
          "text": [
            "La suma de los primeros 100 numeros impares es:\n",
            "1 + 3 + 5 +...+ 99 = 2500.\n"
          ]
        }
      ]
    },
    {
      "cell_type": "markdown",
      "metadata": {
        "id": "crucial-treat"
      },
      "source": [
        "#### 7. Definir una function que se llama func_sum_even_odd(b) que recibe un parametro \"b\" - valor numerico. La funcion calcula soma de numeros pares y numeros impares separamente entre 0 y b (los dos valores incluidos) . La funcion guarda resultados en dos variables en sum_even, sum_odd y devuelve ambos usando \"return\". (usa metodo: while)\n",
        "\n",
        "ejemplo de ejecucion:   \n",
        "sum_even,sum_odd = func_sum_even_odd(10)  \n",
        "print(sum_even,sum_odd)  \n",
        "30,25  \n",
        "\n",
        "#### Pero si \"b\" no es ni integer ni float funcion devuelve sum_even=0,y sum_odd=0 y imprime mensaje: \"argument must be an integer or float\"   (usa: \"isinstance\" o negacion de isinstance: \"not isinstance\" conjunto con operador logico \"or\" para verificar si el argumento es int of float)\n",
        "\n",
        "ejemplo de ejecucion:  \n",
        "sum_even,sum_odd = func_sum_even_odd('z')  \n",
        "\"argument must be an integer or float\"  "
      ],
      "id": "crucial-treat"
    },
    {
      "cell_type": "code",
      "metadata": {
        "id": "comparative-corruption"
      },
      "source": [
        "def func_sum_even_odd(b):             #FUNCION\n",
        "  \n",
        "  if (not isinstance(b,str)):   #CONDITIONAL      \"b\" FLOAT OR INT    \n",
        "\n",
        "    sum_even=0\n",
        "    sum_odd=0                 #VARIABLES\n",
        "    N=0\n",
        "    i=0\n",
        "\n",
        "    while (N <= b):       # While Loop CASO PAR\n",
        "      if ((N%2)!=1):\n",
        "        sum_even = sum_even + N\n",
        "      N= N+1\n",
        "\n",
        "    while (i <= b):     #While loop CASO IMPAR \n",
        "      if ((i%2)!=0):\n",
        "        sum_odd = sum_odd + i\n",
        "      i=i+1\n",
        "    return(sum_even, sum_odd)\n",
        "\n",
        "  else:   #CONDITIONAL    \"b\" STR\n",
        "\n",
        "    sum_even=0\n",
        "    sum_odd=0\n",
        "    \n",
        "    return(sum_even, sum_odd, \"argument must be an integer or float\")\n",
        "   "
      ],
      "id": "comparative-corruption",
      "execution_count": null,
      "outputs": []
    },
    {
      "cell_type": "markdown",
      "metadata": {
        "id": "contemporary-exemption"
      },
      "source": [
        "#### 8. Modifica funcion anterior y usa conjunto: try:... except:... (mira arriva en el texto de la classe)\n",
        "try:   \n",
        "--->intenta hacer si no sale error  \n",
        "except:  \n",
        "--->hace otra cosa si sale error    "
      ],
      "id": "contemporary-exemption"
    },
    {
      "cell_type": "code",
      "metadata": {
        "id": "NsRvQXFt9qbb",
        "colab": {
          "base_uri": "https://localhost:8080/"
        },
        "outputId": "1ed1e58e-5520-4f6a-dd68-e0f113c38ab7"
      },
      "source": [
        "func_sum_even_odd(10)"
      ],
      "id": "NsRvQXFt9qbb",
      "execution_count": null,
      "outputs": [
        {
          "output_type": "execute_result",
          "data": {
            "text/plain": [
              "(30, 25)"
            ]
          },
          "metadata": {},
          "execution_count": 8
        }
      ]
    },
    {
      "cell_type": "code",
      "metadata": {
        "id": "1hiKxG9VDO3W",
        "colab": {
          "base_uri": "https://localhost:8080/"
        },
        "outputId": "5c9ea359-91ea-45cc-d8b2-6233c808ce9f"
      },
      "source": [
        "func_sum_even_odd(\"ZZZZZZ\")"
      ],
      "id": "1hiKxG9VDO3W",
      "execution_count": null,
      "outputs": [
        {
          "output_type": "execute_result",
          "data": {
            "text/plain": [
              "(0, 0, 'argument must be an integer or float')"
            ]
          },
          "metadata": {},
          "execution_count": 9
        }
      ]
    },
    {
      "cell_type": "code",
      "metadata": {
        "id": "P3yKyWIjEdX-"
      },
      "source": [
        ""
      ],
      "id": "P3yKyWIjEdX-",
      "execution_count": null,
      "outputs": []
    }
  ]
}