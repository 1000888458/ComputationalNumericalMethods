{
 "cells": [
  {
   "cell_type": "code",
   "execution_count": null,
   "metadata": {
    "id": "ojt8-GP8inzZ"
   },
   "outputs": [],
   "source": []
  },
  {
   "cell_type": "markdown",
   "metadata": {
    "id": "85IwlxZjiv9R"
   },
   "source": [
    "Homework 6:\n",
    "create notebook called: homework_6.ipynb (no spaces please)\n",
    "\n",
    "inside write a function: deriv(func,a,method,h) func is a function that I can define a is a point (float) at which I wante to evaluate the derivative method is a string, and can have three options forward,central,backward h is a step\n",
    "\n",
    "remember the function must not print anything, just return a single value!!!\n",
    "\n",
    "to choose between schemes ('central','forward'..) use if, elif"
   ]
  },
  {
   "cell_type": "code",
   "execution_count": 1,
   "metadata": {
    "id": "h05ORRvLizyz"
   },
   "outputs": [],
   "source": [
    "##            JOSE LUIS TORRES LOPEZ CC 1010001242\n",
    "\n",
    "import random  \n",
    "import numpy as np      #LIBRERIAS\n",
    "import matplotlib.pyplot as plt  \n",
    "import pandas as pd\n",
    "import random as rd\n",
    "from scipy.optimize import curve_fit as CF \n",
    "import time \n",
    "from scipy import optimize\n",
    "from scipy.misc import derivative as dv\n"
   ]
  },
  {
   "cell_type": "code",
   "execution_count": 2,
   "metadata": {
    "id": "Vx_OhMgkkdOp"
   },
   "outputs": [],
   "source": [
    "#FUNCION ARBITRARIA\n",
    "\n",
    "def F(x):\n",
    "  return x**3"
   ]
  },
  {
   "cell_type": "code",
   "execution_count": 3,
   "metadata": {
    "id": "Mx5e7h-8kueW"
   },
   "outputs": [],
   "source": [
    "def deriv(fun, a, method,h):\n",
    "  Res=[] #Lista vacia para los resultados\n",
    "  H=float(h)\n",
    "\n",
    "  #CONDICIONES PARA ELEGIR EL METODO\n",
    "\n",
    "  if (method== \"central\" or method==\"Central\" or method==\"CENTRAL\"):  \n",
    "\n",
    "    Num =( fun(a+H) - fun(a-H) )/(2*H)          #Expresiones\n",
    "    error= (dv(fun, a, H, n=3,order=5)/6)*(H)   #Funcion error O(h2)\n",
    "    Res.append(Num)                             \n",
    "    Res.append(error)\n",
    "  \n",
    "  elif (method==\"Forward\" or method==\"forward\" or method==\"FORWARD\"):\n",
    "\n",
    "    Num =( fun(a+H) - fun(a) )/H                #Expresiones\n",
    "    error= -(dv(fun, a, H, n=2, order=3)/2)*(H) #Funcion error O(h)\n",
    "    Res.append(Num)\n",
    "    Res.append(error)\n",
    "  \n",
    "  elif (method==\"Backward\" or method==\"backward\" or method==\"BACKWARD\" ):\n",
    "\n",
    "    Num =( fun(a) - fun(a-H) )/(H)          #Expresiones\n",
    "    error= (dv(fun, a, H, n=2, order=3)/2)*(H) #Funcion error O(h)\n",
    "    Res.append(Num)\n",
    "    Res.append(error)\n",
    "\n",
    "    \n",
    "  return Res #[ APROX , ERROR ]"
   ]
  },
  {
   "cell_type": "code",
   "execution_count": 6,
   "metadata": {
    "colab": {
     "base_uri": "https://localhost:8080/"
    },
    "id": "_UH360nb8eN9",
    "outputId": "750d85ce-bd4e-4cf3-ac8c-5f64fcd5773a"
   },
   "outputs": [
    {
     "data": {
      "text/plain": [
       "([28.0, 1.0], [37.0, -9.0], [19.0, 9.0])"
      ]
     },
     "execution_count": 6,
     "metadata": {},
     "output_type": "execute_result"
    }
   ],
   "source": [
    "deriv(F,3,\"central\",1),deriv(F,3,\"Forward\",1),deriv(F,3,\"backward\",1)"
   ]
  },
  {
   "cell_type": "code",
   "execution_count": 7,
   "metadata": {
    "colab": {
     "base_uri": "https://localhost:8080/"
    },
    "id": "LbyxHHDv5YWC",
    "outputId": "e1e563cc-89a0-4007-b4ce-958dee3df9e7"
   },
   "outputs": [
    {
     "data": {
      "text/plain": [
       "([31.153852000000004, 0.10000000000006298],\n",
       " [32.120451999999986, -0.9665999999999996],\n",
       " [30.187252000000022, 0.9665999999999996])"
      ]
     },
     "execution_count": 7,
     "metadata": {},
     "output_type": "execute_result"
    }
   ],
   "source": [
    "deriv(F,3.222,\"Central\",0.1),deriv(F,3.222,\"FORWARD\",0.1),deriv(F,3.222,\"Backward\",0.1)"
   ]
  },
  {
   "cell_type": "code",
   "execution_count": null,
   "metadata": {
    "id": "V9TJ8zDs9WyU"
   },
   "outputs": [],
   "source": []
  }
 ],
 "metadata": {
  "colab": {
   "name": "HOMEWORK6_JoseLuisTorres.ipynb",
   "provenance": []
  },
  "kernelspec": {
   "display_name": "Python 3",
   "language": "python",
   "name": "python3"
  },
  "language_info": {
   "codemirror_mode": {
    "name": "ipython",
    "version": 3
   },
   "file_extension": ".py",
   "mimetype": "text/x-python",
   "name": "python",
   "nbconvert_exporter": "python",
   "pygments_lexer": "ipython3",
   "version": "3.7.2"
  }
 },
 "nbformat": 4,
 "nbformat_minor": 1
}
