{
 "cells": [
  {
   "cell_type": "code",
   "execution_count": 1,
   "metadata": {
    "colab": {
     "base_uri": "https://localhost:8080/",
     "height": 296
    },
    "id": "LaLvD9kLwNPE",
    "outputId": "7043757f-f335-4c55-8c94-dd7a19b5b813"
   },
   "outputs": [],
   "source": [
    "\n",
    "#            JOSE LUIS TORRES LOPEZ CC 1010001242\n",
    "\n",
    "import random  \n",
    "import numpy as np      #LIBRERIAS\n",
    "import matplotlib.pyplot as plt  \n",
    "import pandas as pd\n",
    "import random as rd\n",
    "from scipy.optimize import curve_fit as CF \n",
    "import time \n",
    "import scipy.interpolate as si\n",
    "from scipy import optimize\n",
    "\n",
    "\n",
    "#   INTERPOLACION CUADRATICA: Dados 3 puntos del plano se ajusta una curva y se interpola un valor arbitrario\n",
    "def cuadratic_interp(x,y,xInt): \n",
    "#Los arreglos deben tener la misma dimension(n=3)\n",
    "  Y=np.array(y) \n",
    "  X=np.array(x)\n",
    "# En la variable \"xInt\" se almacena el valor que se desea interpolar\n",
    "\n",
    "#Coeficientes para la interpolacion\n",
    "  b0=Y[0]\n",
    "  b1=(Y[1]-Y[0])/(X[1]-X[0])\n",
    "  b2=((Y[2]-Y[1])/(X[2]-X[1])-(Y[1]-Y[0])/(X[1]-X[0]))/(X[2]-X[0])\n",
    "  \n",
    "  #Cuadratic Interpolation\n",
    "  CI = b0 + b1*(xInt-X[0]) + b2*(xInt-X[0])*(xInt-X[1]) # xInt\n",
    "  return CI\n"
   ]
  },
  {
   "cell_type": "code",
   "execution_count": null,
   "metadata": {},
   "outputs": [],
   "source": []
  },
  {
   "cell_type": "code",
   "execution_count": null,
   "metadata": {
    "id": "dFck70vMwN0Z"
   },
   "outputs": [],
   "source": []
  }
 ],
 "metadata": {
  "colab": {
   "name": "Tarea5_JoseLuisTorres_1010001242.ipynb",
   "provenance": []
  },
  "kernelspec": {
   "display_name": "Python 3",
   "language": "python",
   "name": "python3"
  },
  "language_info": {
   "codemirror_mode": {
    "name": "ipython",
    "version": 3
   },
   "file_extension": ".py",
   "mimetype": "text/x-python",
   "name": "python",
   "nbconvert_exporter": "python",
   "pygments_lexer": "ipython3",
   "version": "3.7.2"
  }
 },
 "nbformat": 4,
 "nbformat_minor": 1
}
