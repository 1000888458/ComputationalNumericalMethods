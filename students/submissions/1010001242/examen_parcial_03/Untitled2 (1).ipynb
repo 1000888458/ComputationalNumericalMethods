{
 "cells": [
  {
   "cell_type": "code",
   "execution_count": 1,
   "metadata": {
    "id": "NfKfcgdt8Fve"
   },
   "outputs": [],
   "source": [
    "#            JOSE LUIS TORRES LOPEZ CC 1010001242\n",
    "\n",
    "import random  \n",
    "import numpy as np      #LIBRERIAS\n",
    "import matplotlib.pyplot as plt  \n",
    "import pandas as pd\n",
    "import random as rd\n",
    "from scipy.optimize import curve_fit as CF \n",
    "import time \n",
    "from scipy import optimize\n",
    "from scipy.misc import derivative as dv\n",
    "import sympy as sym\n",
    "import scipy\n",
    "from scipy.interpolate import interp1d"
   ]
  },
  {
   "cell_type": "code",
   "execution_count": 155,
   "metadata": {
    "colab": {
     "base_uri": "https://localhost:8080/",
     "height": 1000
    },
    "id": "InXobWyP-4-d",
    "outputId": "0cd9a07f-0b27-402b-d5e2-4a5956bafb66"
   },
   "outputs": [
    {
     "data": {
      "text/html": [
       "\n",
       "  <div id=\"df-7d536542-0064-4e8c-af66-fa895afe5737\">\n",
       "    <div class=\"colab-df-container\">\n",
       "      <div>\n",
       "<style scoped>\n",
       "    .dataframe tbody tr th:only-of-type {\n",
       "        vertical-align: middle;\n",
       "    }\n",
       "\n",
       "    .dataframe tbody tr th {\n",
       "        vertical-align: top;\n",
       "    }\n",
       "\n",
       "    .dataframe thead th {\n",
       "        text-align: right;\n",
       "    }\n",
       "</style>\n",
       "<table border=\"1\" class=\"dataframe\">\n",
       "  <thead>\n",
       "    <tr style=\"text-align: right;\">\n",
       "      <th></th>\n",
       "      <th>0</th>\n",
       "      <th>1</th>\n",
       "    </tr>\n",
       "  </thead>\n",
       "  <tbody>\n",
       "    <tr>\n",
       "      <th>0</th>\n",
       "      <td>Temperature</td>\n",
       "      <td>Pressure</td>\n",
       "    </tr>\n",
       "    <tr>\n",
       "      <th>1</th>\n",
       "      <td>4.7892010535949324e-08</td>\n",
       "      <td>1.958251029501974e-17</td>\n",
       "    </tr>\n",
       "    <tr>\n",
       "      <th>2</th>\n",
       "      <td>6.62506145747299e-08</td>\n",
       "      <td>2.0555148774355865e-17</td>\n",
       "    </tr>\n",
       "    <tr>\n",
       "      <th>3</th>\n",
       "      <td>8.460921861351047e-08</td>\n",
       "      <td>2.2378475808719865e-17</td>\n",
       "    </tr>\n",
       "    <tr>\n",
       "      <th>4</th>\n",
       "      <td>1.0296782265229105e-07</td>\n",
       "      <td>2.5341320819736667e-17</td>\n",
       "    </tr>\n",
       "    <tr>\n",
       "      <th>5</th>\n",
       "      <td>1.213264266910716e-07</td>\n",
       "      <td>2.9945268077891476e-17</td>\n",
       "    </tr>\n",
       "    <tr>\n",
       "      <th>6</th>\n",
       "      <td>1.3968503072985219e-07</td>\n",
       "      <td>3.6814530579514544e-17</td>\n",
       "    </tr>\n",
       "    <tr>\n",
       "      <th>7</th>\n",
       "      <td>1.5804363476863275e-07</td>\n",
       "      <td>4.6428240547433914e-17</td>\n",
       "    </tr>\n",
       "    <tr>\n",
       "      <th>8</th>\n",
       "      <td>1.764022388074133e-07</td>\n",
       "      <td>5.89515177394238e-17</td>\n",
       "    </tr>\n",
       "    <tr>\n",
       "      <th>9</th>\n",
       "      <td>1.947608428461939e-07</td>\n",
       "      <td>7.447723757813163e-17</td>\n",
       "    </tr>\n",
       "    <tr>\n",
       "      <th>10</th>\n",
       "      <td>2.1311944688497446e-07</td>\n",
       "      <td>9.347271583427137e-17</td>\n",
       "    </tr>\n",
       "    <tr>\n",
       "      <th>11</th>\n",
       "      <td>2.3147805092375505e-07</td>\n",
       "      <td>1.1543541963033332e-16</td>\n",
       "    </tr>\n",
       "    <tr>\n",
       "      <th>12</th>\n",
       "      <td>2.4983665496253564e-07</td>\n",
       "      <td>1.3744884001339e-16</td>\n",
       "    </tr>\n",
       "    <tr>\n",
       "      <th>13</th>\n",
       "      <td>2.6819525900131617e-07</td>\n",
       "      <td>1.5343821627630477e-16</td>\n",
       "    </tr>\n",
       "    <tr>\n",
       "      <th>14</th>\n",
       "      <td>2.8655386304009676e-07</td>\n",
       "      <td>1.6717722536309364e-16</td>\n",
       "    </tr>\n",
       "    <tr>\n",
       "      <th>15</th>\n",
       "      <td>3.0491246707887735e-07</td>\n",
       "      <td>1.8025429818876467e-16</td>\n",
       "    </tr>\n",
       "    <tr>\n",
       "      <th>16</th>\n",
       "      <td>3.232710711176579e-07</td>\n",
       "      <td>1.9294254282881749e-16</td>\n",
       "    </tr>\n",
       "    <tr>\n",
       "      <th>17</th>\n",
       "      <td>3.4162967515643847e-07</td>\n",
       "      <td>2.053711197571719e-16</td>\n",
       "    </tr>\n",
       "    <tr>\n",
       "      <th>18</th>\n",
       "      <td>3.5998827919521906e-07</td>\n",
       "      <td>2.1761417932740591e-16</td>\n",
       "    </tr>\n",
       "    <tr>\n",
       "      <th>19</th>\n",
       "      <td>3.7834688323399965e-07</td>\n",
       "      <td>2.297188185565512e-16</td>\n",
       "    </tr>\n",
       "    <tr>\n",
       "      <th>20</th>\n",
       "      <td>3.967054872727802e-07</td>\n",
       "      <td>2.417169337748931e-16</td>\n",
       "    </tr>\n",
       "    <tr>\n",
       "      <th>21</th>\n",
       "      <td>4.1506409131156077e-07</td>\n",
       "      <td>2.536311225754697e-16</td>\n",
       "    </tr>\n",
       "    <tr>\n",
       "      <th>22</th>\n",
       "      <td>4.3342269535034136e-07</td>\n",
       "      <td>2.6547794416667535e-16</td>\n",
       "    </tr>\n",
       "    <tr>\n",
       "      <th>23</th>\n",
       "      <td>4.517812993891219e-07</td>\n",
       "      <td>2.772698577531785e-16</td>\n",
       "    </tr>\n",
       "    <tr>\n",
       "      <th>24</th>\n",
       "      <td>4.701399034279025e-07</td>\n",
       "      <td>2.8901644021873625e-16</td>\n",
       "    </tr>\n",
       "    <tr>\n",
       "      <th>25</th>\n",
       "      <td>4.884985074666831e-07</td>\n",
       "      <td>3.007251846833531e-16</td>\n",
       "    </tr>\n",
       "    <tr>\n",
       "      <th>26</th>\n",
       "      <td>5.068571115054637e-07</td>\n",
       "      <td>3.1240204264162823e-16</td>\n",
       "    </tr>\n",
       "    <tr>\n",
       "      <th>27</th>\n",
       "      <td>5.252157155442443e-07</td>\n",
       "      <td>3.24051802672155e-16</td>\n",
       "    </tr>\n",
       "    <tr>\n",
       "      <th>28</th>\n",
       "      <td>5.435743195830248e-07</td>\n",
       "      <td>3.3567836140325725e-16</td>\n",
       "    </tr>\n",
       "    <tr>\n",
       "      <th>29</th>\n",
       "      <td>5.619329236218054e-07</td>\n",
       "      <td>3.472849213989547e-16</td>\n",
       "    </tr>\n",
       "    <tr>\n",
       "      <th>30</th>\n",
       "      <td>5.80291527660586e-07</td>\n",
       "      <td>3.5887413825633533e-16</td>\n",
       "    </tr>\n",
       "    <tr>\n",
       "      <th>31</th>\n",
       "      <td>5.986501316993665e-07</td>\n",
       "      <td>3.7044823165960903e-16</td>\n",
       "    </tr>\n",
       "  </tbody>\n",
       "</table>\n",
       "</div>\n",
       "      <button class=\"colab-df-convert\" onclick=\"convertToInteractive('df-7d536542-0064-4e8c-af66-fa895afe5737')\"\n",
       "              title=\"Convert this dataframe to an interactive table.\"\n",
       "              style=\"display:none;\">\n",
       "        \n",
       "  <svg xmlns=\"http://www.w3.org/2000/svg\" height=\"24px\"viewBox=\"0 0 24 24\"\n",
       "       width=\"24px\">\n",
       "    <path d=\"M0 0h24v24H0V0z\" fill=\"none\"/>\n",
       "    <path d=\"M18.56 5.44l.94 2.06.94-2.06 2.06-.94-2.06-.94-.94-2.06-.94 2.06-2.06.94zm-11 1L8.5 8.5l.94-2.06 2.06-.94-2.06-.94L8.5 2.5l-.94 2.06-2.06.94zm10 10l.94 2.06.94-2.06 2.06-.94-2.06-.94-.94-2.06-.94 2.06-2.06.94z\"/><path d=\"M17.41 7.96l-1.37-1.37c-.4-.4-.92-.59-1.43-.59-.52 0-1.04.2-1.43.59L10.3 9.45l-7.72 7.72c-.78.78-.78 2.05 0 2.83L4 21.41c.39.39.9.59 1.41.59.51 0 1.02-.2 1.41-.59l7.78-7.78 2.81-2.81c.8-.78.8-2.07 0-2.86zM5.41 20L4 18.59l7.72-7.72 1.47 1.35L5.41 20z\"/>\n",
       "  </svg>\n",
       "      </button>\n",
       "      \n",
       "  <style>\n",
       "    .colab-df-container {\n",
       "      display:flex;\n",
       "      flex-wrap:wrap;\n",
       "      gap: 12px;\n",
       "    }\n",
       "\n",
       "    .colab-df-convert {\n",
       "      background-color: #E8F0FE;\n",
       "      border: none;\n",
       "      border-radius: 50%;\n",
       "      cursor: pointer;\n",
       "      display: none;\n",
       "      fill: #1967D2;\n",
       "      height: 32px;\n",
       "      padding: 0 0 0 0;\n",
       "      width: 32px;\n",
       "    }\n",
       "\n",
       "    .colab-df-convert:hover {\n",
       "      background-color: #E2EBFA;\n",
       "      box-shadow: 0px 1px 2px rgba(60, 64, 67, 0.3), 0px 1px 3px 1px rgba(60, 64, 67, 0.15);\n",
       "      fill: #174EA6;\n",
       "    }\n",
       "\n",
       "    [theme=dark] .colab-df-convert {\n",
       "      background-color: #3B4455;\n",
       "      fill: #D2E3FC;\n",
       "    }\n",
       "\n",
       "    [theme=dark] .colab-df-convert:hover {\n",
       "      background-color: #434B5C;\n",
       "      box-shadow: 0px 1px 3px 1px rgba(0, 0, 0, 0.15);\n",
       "      filter: drop-shadow(0px 1px 2px rgba(0, 0, 0, 0.3));\n",
       "      fill: #FFFFFF;\n",
       "    }\n",
       "  </style>\n",
       "\n",
       "      <script>\n",
       "        const buttonEl =\n",
       "          document.querySelector('#df-7d536542-0064-4e8c-af66-fa895afe5737 button.colab-df-convert');\n",
       "        buttonEl.style.display =\n",
       "          google.colab.kernel.accessAllowed ? 'block' : 'none';\n",
       "\n",
       "        async function convertToInteractive(key) {\n",
       "          const element = document.querySelector('#df-7d536542-0064-4e8c-af66-fa895afe5737');\n",
       "          const dataTable =\n",
       "            await google.colab.kernel.invokeFunction('convertToInteractive',\n",
       "                                                     [key], {});\n",
       "          if (!dataTable) return;\n",
       "\n",
       "          const docLinkHtml = 'Like what you see? Visit the ' +\n",
       "            '<a target=\"_blank\" href=https://colab.research.google.com/notebooks/data_table.ipynb>data table notebook</a>'\n",
       "            + ' to learn more about interactive tables.';\n",
       "          element.innerHTML = '';\n",
       "          dataTable['output_type'] = 'display_data';\n",
       "          await google.colab.output.renderOutput(dataTable, element);\n",
       "          const docLink = document.createElement('div');\n",
       "          docLink.innerHTML = docLinkHtml;\n",
       "          element.appendChild(docLink);\n",
       "        }\n",
       "      </script>\n",
       "    </div>\n",
       "  </div>\n",
       "  "
      ],
      "text/plain": [
       "                         0                       1\n",
       "0              Temperature                Pressure\n",
       "1   4.7892010535949324e-08   1.958251029501974e-17\n",
       "2     6.62506145747299e-08  2.0555148774355865e-17\n",
       "3    8.460921861351047e-08  2.2378475808719865e-17\n",
       "4   1.0296782265229105e-07  2.5341320819736667e-17\n",
       "5    1.213264266910716e-07  2.9945268077891476e-17\n",
       "6   1.3968503072985219e-07  3.6814530579514544e-17\n",
       "7   1.5804363476863275e-07  4.6428240547433914e-17\n",
       "8    1.764022388074133e-07    5.89515177394238e-17\n",
       "9    1.947608428461939e-07   7.447723757813163e-17\n",
       "10  2.1311944688497446e-07   9.347271583427137e-17\n",
       "11  2.3147805092375505e-07  1.1543541963033332e-16\n",
       "12  2.4983665496253564e-07     1.3744884001339e-16\n",
       "13  2.6819525900131617e-07  1.5343821627630477e-16\n",
       "14  2.8655386304009676e-07  1.6717722536309364e-16\n",
       "15  3.0491246707887735e-07  1.8025429818876467e-16\n",
       "16   3.232710711176579e-07  1.9294254282881749e-16\n",
       "17  3.4162967515643847e-07   2.053711197571719e-16\n",
       "18  3.5998827919521906e-07  2.1761417932740591e-16\n",
       "19  3.7834688323399965e-07   2.297188185565512e-16\n",
       "20   3.967054872727802e-07   2.417169337748931e-16\n",
       "21  4.1506409131156077e-07   2.536311225754697e-16\n",
       "22  4.3342269535034136e-07  2.6547794416667535e-16\n",
       "23   4.517812993891219e-07   2.772698577531785e-16\n",
       "24   4.701399034279025e-07  2.8901644021873625e-16\n",
       "25   4.884985074666831e-07   3.007251846833531e-16\n",
       "26   5.068571115054637e-07  3.1240204264162823e-16\n",
       "27   5.252157155442443e-07    3.24051802672155e-16\n",
       "28   5.435743195830248e-07  3.3567836140325725e-16\n",
       "29   5.619329236218054e-07   3.472849213989547e-16\n",
       "30    5.80291527660586e-07  3.5887413825633533e-16\n",
       "31   5.986501316993665e-07  3.7044823165960903e-16"
      ]
     },
     "execution_count": 155,
     "metadata": {},
     "output_type": "execute_result"
    }
   ],
   "source": [
    "##    EJERCICIO 2\n",
    "\n",
    "Datos = pd.read_csv('datos.txt', header=None)\n",
    "df=pd.DataFrame(Datos)\n",
    "df"
   ]
  },
  {
   "cell_type": "code",
   "execution_count": 156,
   "metadata": {
    "colab": {
     "base_uri": "https://localhost:8080/"
    },
    "id": "0JNNRxIUAVTI",
    "outputId": "c373df2f-33d9-4b3f-decc-b32e6310cdf6"
   },
   "outputs": [
    {
     "data": {
      "text/plain": [
       "array(['4.7892010535949324e-08', '6.62506145747299e-08',\n",
       "       '8.460921861351047e-08', '1.0296782265229105e-07',\n",
       "       '1.213264266910716e-07', '1.3968503072985219e-07',\n",
       "       '1.5804363476863275e-07', '1.764022388074133e-07',\n",
       "       '1.947608428461939e-07', '2.1311944688497446e-07',\n",
       "       '2.3147805092375505e-07', '2.4983665496253564e-07',\n",
       "       '2.6819525900131617e-07', '2.8655386304009676e-07',\n",
       "       '3.0491246707887735e-07', '3.232710711176579e-07',\n",
       "       '3.4162967515643847e-07', '3.5998827919521906e-07',\n",
       "       '3.7834688323399965e-07', '3.967054872727802e-07',\n",
       "       '4.1506409131156077e-07', '4.3342269535034136e-07',\n",
       "       '4.517812993891219e-07', '4.701399034279025e-07',\n",
       "       '4.884985074666831e-07', '5.068571115054637e-07',\n",
       "       '5.252157155442443e-07', '5.435743195830248e-07',\n",
       "       '5.619329236218054e-07', '5.80291527660586e-07',\n",
       "       '5.986501316993665e-07'], dtype=object)"
      ]
     },
     "execution_count": 156,
     "metadata": {},
     "output_type": "execute_result"
    }
   ],
   "source": [
    "Temp= df[df.columns[0]]\n",
    "T= np.array(Temp[1:])\n",
    "T"
   ]
  },
  {
   "cell_type": "code",
   "execution_count": 157,
   "metadata": {
    "colab": {
     "base_uri": "https://localhost:8080/"
    },
    "id": "hcUcy0EaBEnF",
    "outputId": "ffd2972f-508e-44ad-a5f3-9f07a1452f37"
   },
   "outputs": [
    {
     "data": {
      "text/plain": [
       "array(['1.958251029501974e-17', '2.0555148774355865e-17',\n",
       "       '2.2378475808719865e-17', '2.5341320819736667e-17',\n",
       "       '2.9945268077891476e-17', '3.6814530579514544e-17',\n",
       "       '4.6428240547433914e-17', '5.89515177394238e-17',\n",
       "       '7.447723757813163e-17', '9.347271583427137e-17',\n",
       "       '1.1543541963033332e-16', '1.3744884001339e-16',\n",
       "       '1.5343821627630477e-16', '1.6717722536309364e-16',\n",
       "       '1.8025429818876467e-16', '1.9294254282881749e-16',\n",
       "       '2.053711197571719e-16', '2.1761417932740591e-16',\n",
       "       '2.297188185565512e-16', '2.417169337748931e-16',\n",
       "       '2.536311225754697e-16', '2.6547794416667535e-16',\n",
       "       '2.772698577531785e-16', '2.8901644021873625e-16',\n",
       "       '3.007251846833531e-16', '3.1240204264162823e-16',\n",
       "       '3.24051802672155e-16', '3.3567836140325725e-16',\n",
       "       '3.472849213989547e-16', '3.5887413825633533e-16',\n",
       "       '3.7044823165960903e-16'], dtype=object)"
      ]
     },
     "execution_count": 157,
     "metadata": {},
     "output_type": "execute_result"
    }
   ],
   "source": [
    "Pre = df[1]\n",
    "P = np.array(Pre[1:])\n",
    "P"
   ]
  },
  {
   "cell_type": "code",
   "execution_count": 158,
   "metadata": {
    "id": "RXj87LQREyTv"
   },
   "outputs": [],
   "source": [
    "PP=[]\n",
    "TT=[]\n",
    "for i in range(0, len(P)):\n",
    "  PP.append(P[i])\n",
    "  TT.append(T[i])\n",
    "\n",
    "#PRE=np.array(PP)\n",
    "#TEM = np.array(TT)"
   ]
  },
  {
   "cell_type": "code",
   "execution_count": 165,
   "metadata": {
    "colab": {
     "base_uri": "https://localhost:8080/",
     "height": 295
    },
    "id": "tYRN50sQBqeM",
    "outputId": "4eb80dfd-0ce3-4846-e9a0-fe6f9a7aaed2"
   },
   "outputs": [
    {
     "data": {
      "image/png": "[encoded data removed]",
      "text/plain": [
       "<Figure size 432x288 with 1 Axes>"
      ]
     },
     "metadata": {
      "needs_background": "light"
     },
     "output_type": "display_data"
    }
   ],
   "source": [
    "plt.plot(PRE,TEM, color=\"violet\",lw=2,label=\"P vs T\")\n",
    "\n",
    "plt.title(\"Presion vs Temperatura\")\n",
    "plt.ylabel(\"Temperatura [ K ] \")\n",
    "plt.xlabel(\"Presion [ J ] \")\n",
    "#plt.xlim(-4,4)\n",
    "#plt.ylim(-6,6)\n",
    "#MARCO\n",
    "P= plt.gca()\n",
    "P.spines['right'].set_color('navy') \n",
    "P.spines['top'].set_color('navy')\n",
    "P.spines['bottom'].set_color('navy') \n",
    "P.spines['left'].set_color('navy') \n",
    "plt.legend(loc=\"best\")\n",
    "plt.grid() \n",
    "plt.show()"
   ]
  },
  {
   "cell_type": "code",
   "execution_count": 160,
   "metadata": {
    "colab": {
     "base_uri": "https://localhost:8080/",
     "height": 374
    },
    "id": "vsXCKCL_BvEP",
    "outputId": "084ec628-a20c-4737-b14a-cd7af6f7e93d"
   },
   "outputs": [
    {
     "ename": "UFuncTypeError",
     "evalue": "ignored",
     "output_type": "error",
     "traceback": [
      "\u001b[0;31m---------------------------------------------------------------------------\u001b[0m",
      "\u001b[0;31mUFuncTypeError\u001b[0m                            Traceback (most recent call last)",
      "\u001b[0;32m<ipython-input-160-d77b566e3df1>\u001b[0m in \u001b[0;36m<module>\u001b[0;34m()\u001b[0m\n\u001b[0;32m----> 1\u001b[0;31m \u001b[0mDeriv\u001b[0m \u001b[0;34m=\u001b[0m \u001b[0mnp\u001b[0m\u001b[0;34m.\u001b[0m\u001b[0mgradient\u001b[0m\u001b[0;34m(\u001b[0m\u001b[0mTEM\u001b[0m\u001b[0;34m,\u001b[0m \u001b[0mPRE\u001b[0m\u001b[0;34m)\u001b[0m\u001b[0;34m\u001b[0m\u001b[0;34m\u001b[0m\u001b[0m\n\u001b[0m",
      "\u001b[0;32m<__array_function__ internals>\u001b[0m in \u001b[0;36mgradient\u001b[0;34m(*args, **kwargs)\u001b[0m\n",
      "\u001b[0;32m/usr/local/lib/python3.7/dist-packages/numpy/lib/function_base.py\u001b[0m in \u001b[0;36mgradient\u001b[0;34m(f, axis, edge_order, *varargs)\u001b[0m\n\u001b[1;32m   1019\u001b[0m                 \u001b[0;31m# arithmetic in np.diff(distances).\u001b[0m\u001b[0;34m\u001b[0m\u001b[0;34m\u001b[0m\u001b[0;34m\u001b[0m\u001b[0m\n\u001b[1;32m   1020\u001b[0m                 \u001b[0mdistances\u001b[0m \u001b[0;34m=\u001b[0m \u001b[0mdistances\u001b[0m\u001b[0;34m.\u001b[0m\u001b[0mastype\u001b[0m\u001b[0;34m(\u001b[0m\u001b[0mnp\u001b[0m\u001b[0;34m.\u001b[0m\u001b[0mfloat64\u001b[0m\u001b[0;34m)\u001b[0m\u001b[0;34m\u001b[0m\u001b[0;34m\u001b[0m\u001b[0m\n\u001b[0;32m-> 1021\u001b[0;31m             \u001b[0mdiffx\u001b[0m \u001b[0;34m=\u001b[0m \u001b[0mnp\u001b[0m\u001b[0;34m.\u001b[0m\u001b[0mdiff\u001b[0m\u001b[0;34m(\u001b[0m\u001b[0mdistances\u001b[0m\u001b[0;34m)\u001b[0m\u001b[0;34m\u001b[0m\u001b[0;34m\u001b[0m\u001b[0m\n\u001b[0m\u001b[1;32m   1022\u001b[0m             \u001b[0;31m# if distances are constant reduce to the scalar case\u001b[0m\u001b[0;34m\u001b[0m\u001b[0;34m\u001b[0m\u001b[0;34m\u001b[0m\u001b[0m\n\u001b[1;32m   1023\u001b[0m             \u001b[0;31m# since it brings a consistent speedup\u001b[0m\u001b[0;34m\u001b[0m\u001b[0;34m\u001b[0m\u001b[0;34m\u001b[0m\u001b[0m\n",
      "\u001b[0;32m<__array_function__ internals>\u001b[0m in \u001b[0;36mdiff\u001b[0;34m(*args, **kwargs)\u001b[0m\n",
      "\u001b[0;32m/usr/local/lib/python3.7/dist-packages/numpy/lib/function_base.py\u001b[0m in \u001b[0;36mdiff\u001b[0;34m(a, n, axis, prepend, append)\u001b[0m\n\u001b[1;32m   1290\u001b[0m     \u001b[0mop\u001b[0m \u001b[0;34m=\u001b[0m \u001b[0mnot_equal\u001b[0m \u001b[0;32mif\u001b[0m \u001b[0ma\u001b[0m\u001b[0;34m.\u001b[0m\u001b[0mdtype\u001b[0m \u001b[0;34m==\u001b[0m \u001b[0mnp\u001b[0m\u001b[0;34m.\u001b[0m\u001b[0mbool_\u001b[0m \u001b[0;32melse\u001b[0m \u001b[0msubtract\u001b[0m\u001b[0;34m\u001b[0m\u001b[0;34m\u001b[0m\u001b[0m\n\u001b[1;32m   1291\u001b[0m     \u001b[0;32mfor\u001b[0m \u001b[0m_\u001b[0m \u001b[0;32min\u001b[0m \u001b[0mrange\u001b[0m\u001b[0;34m(\u001b[0m\u001b[0mn\u001b[0m\u001b[0;34m)\u001b[0m\u001b[0;34m:\u001b[0m\u001b[0;34m\u001b[0m\u001b[0;34m\u001b[0m\u001b[0m\n\u001b[0;32m-> 1292\u001b[0;31m         \u001b[0ma\u001b[0m \u001b[0;34m=\u001b[0m \u001b[0mop\u001b[0m\u001b[0;34m(\u001b[0m\u001b[0ma\u001b[0m\u001b[0;34m[\u001b[0m\u001b[0mslice1\u001b[0m\u001b[0;34m]\u001b[0m\u001b[0;34m,\u001b[0m \u001b[0ma\u001b[0m\u001b[0;34m[\u001b[0m\u001b[0mslice2\u001b[0m\u001b[0;34m]\u001b[0m\u001b[0;34m)\u001b[0m\u001b[0;34m\u001b[0m\u001b[0;34m\u001b[0m\u001b[0m\n\u001b[0m\u001b[1;32m   1293\u001b[0m \u001b[0;34m\u001b[0m\u001b[0m\n\u001b[1;32m   1294\u001b[0m     \u001b[0;32mreturn\u001b[0m \u001b[0ma\u001b[0m\u001b[0;34m\u001b[0m\u001b[0;34m\u001b[0m\u001b[0m\n",
      "\u001b[0;31mUFuncTypeError\u001b[0m: ufunc 'subtract' did not contain a loop with signature matching types (dtype('<U22'), dtype('<U22')) -> None"
     ]
    }
   ],
   "source": [
    "Deriv = np.gradient(TEM, PRE)"
   ]
  },
  {
   "cell_type": "code",
   "execution_count": 3,
   "metadata": {
    "colab": {
     "base_uri": "https://localhost:8080/"
    },
    "id": "vyGNbCCHCJE2",
    "outputId": "f22d6f4a-7b90-426c-8c9f-4ac2bf5679f0"
   },
   "outputs": [
    {
     "data": {
      "text/plain": [
       "array([[ 1, -1, -1, -1],\n",
       "       [-1,  2,  0,  0],\n",
       "       [-1,  3,  3,  0],\n",
       "       [-1,  0,  1,  4]])"
      ]
     },
     "execution_count": 3,
     "metadata": {},
     "output_type": "execute_result"
    }
   ],
   "source": [
    "#Ejercicio 3\n",
    "\n",
    "# se define la MATRIZ a estudiar\n",
    "\n",
    "\n",
    "A=np.array([[1,-1,-1,-1],\n",
    "            [-1,2,0,0],\n",
    "            [-1,3,3,0],\n",
    "            [-1,0,1,4]])\n",
    "A"
   ]
  },
  {
   "cell_type": "code",
   "execution_count": 10,
   "metadata": {
    "id": "lU3vlPd0GmRi"
   },
   "outputs": [],
   "source": [
    "#Diagonalizacion\n",
    "\n",
    "import numpy as np\n",
    "evalues,evectors=np.linalg.eig(A) # Valores y vectores propios de la matriz\n",
    "\n",
    "P = evectors #MATRIZ P \n",
    "D=np.diag(evalues) #MATRIZ Diag\n",
    "P_1 = np.linalg.inv(evectors) #MATRIZ P^(-1) \"Inversa\"\n"
   ]
  },
  {
   "cell_type": "code",
   "execution_count": 7,
   "metadata": {
    "colab": {
     "base_uri": "https://localhost:8080/"
    },
    "id": "Xx8RyOPHHKQ7",
    "outputId": "cb8d3900-5690-489a-b1de-6f7f8742e955"
   },
   "outputs": [
    {
     "name": "stdout",
     "output_type": "stream",
     "text": [
      "A=\n",
      " [[ 1 -1 -1 -1]\n",
      " [-1  2  0  0]\n",
      " [-1  3  3  0]\n",
      " [-1  0  1  4]]\n",
      "D=\n",
      " [[2.72865731e+03 0.00000000e+00 0.00000000e+00 0.00000000e+00]\n",
      " [0.00000000e+00 4.85634224e-03 0.00000000e+00 0.00000000e+00]\n",
      " [0.00000000e+00 0.00000000e+00 1.83378321e+01 0.00000000e+00]\n",
      " [0.00000000e+00 0.00000000e+00 0.00000000e+00 2.43000000e+02]]\n",
      "\n",
      "\n",
      "PDP_1=\n",
      " [[  485.  -755.  -563.  -563.]\n",
      " [ -179.   280.   192.   192.]\n",
      " [ -675.  1201.   707.   464.]\n",
      " [-1027.  1448.  1275.  1518.]]\n",
      "PP_1=\n",
      " [[ 1.00000000e+00 -6.02146764e-17  8.23260218e-17  4.35147735e-17]\n",
      " [ 9.22541926e-17  1.00000000e+00 -1.83715207e-17  3.67430414e-17]\n",
      " [ 0.00000000e+00  2.22044605e-16  1.00000000e+00 -1.11022302e-16]\n",
      " [-1.11022302e-16  0.00000000e+00  5.55111512e-17  1.00000000e+00]]\n"
     ]
    }
   ],
   "source": [
    "#Utilizamos una adecuada visualizacion en los datos \n",
    "\n",
    "\n",
    "\n",
    "print('A=\\n',A)\n",
    "print('D=\\n',D)\n",
    "print('\\n')\n",
    "print('PDP_1=\\n',P@D@P_1)\n",
    "print('PP_1=\\n',P@P_1)\n",
    "\n"
   ]
  },
  {
   "cell_type": "code",
   "execution_count": 8,
   "metadata": {
    "colab": {
     "base_uri": "https://localhost:8080/"
    },
    "id": "3a3rdmwdIdQv",
    "outputId": "b55767e5-aabd-4052-9c02-c5c33d572af2"
   },
   "outputs": [
    {
     "data": {
      "text/plain": [
       "array([[  485.,  -755.,  -563.,  -563.],\n",
       "       [ -179.,   280.,   192.,   192.],\n",
       "       [ -675.,  1201.,   707.,   464.],\n",
       "       [-1027.,  1448.,  1275.,  1518.]])"
      ]
     },
     "execution_count": 8,
     "metadata": {},
     "output_type": "execute_result"
    }
   ],
   "source": [
    "#COMPROBACION\n",
    "\n",
    "np.matmul(np.matmul(P,D),P_1)"
   ]
  },
  {
   "cell_type": "code",
   "execution_count": 9,
   "metadata": {
    "colab": {
     "base_uri": "https://localhost:8080/",
     "height": 1000
    },
    "id": "QvhKihimIiu0",
    "outputId": "341082a6-857f-401c-8b30-8e6adffd3828"
   },
   "outputs": [
    {
     "ename": "NameError",
     "evalue": "name 'pd' is not defined",
     "output_type": "error",
     "traceback": [
      "\u001b[0;31m---------------------------------------------------------------------------\u001b[0m",
      "\u001b[0;31mNameError\u001b[0m                                 Traceback (most recent call last)",
      "\u001b[0;32m<ipython-input-9-0741895bfb7f>\u001b[0m in \u001b[0;36m<module>\u001b[0;34m\u001b[0m\n\u001b[1;32m      1\u001b[0m \u001b[0;31m#EJERCICIO 1\u001b[0m\u001b[0;34m\u001b[0m\u001b[0;34m\u001b[0m\u001b[0;34m\u001b[0m\u001b[0m\n\u001b[1;32m      2\u001b[0m \u001b[0;34m\u001b[0m\u001b[0m\n\u001b[0;32m----> 3\u001b[0;31m \u001b[0mDATOS\u001b[0m \u001b[0;34m=\u001b[0m \u001b[0mpd\u001b[0m\u001b[0;34m.\u001b[0m\u001b[0mread_csv\u001b[0m\u001b[0;34m(\u001b[0m\u001b[0;34m'/datos1.txt'\u001b[0m\u001b[0;34m,\u001b[0m \u001b[0mheader\u001b[0m\u001b[0;34m=\u001b[0m\u001b[0;32mNone\u001b[0m\u001b[0;34m)\u001b[0m\u001b[0;34m\u001b[0m\u001b[0;34m\u001b[0m\u001b[0m\n\u001b[0m\u001b[1;32m      4\u001b[0m \u001b[0mdf\u001b[0m\u001b[0;34m=\u001b[0m\u001b[0mpd\u001b[0m\u001b[0;34m.\u001b[0m\u001b[0mDataFrame\u001b[0m\u001b[0;34m(\u001b[0m\u001b[0mDATOS\u001b[0m\u001b[0;34m)\u001b[0m\u001b[0;34m\u001b[0m\u001b[0;34m\u001b[0m\u001b[0m\n\u001b[1;32m      5\u001b[0m \u001b[0mdf\u001b[0m\u001b[0;34m\u001b[0m\u001b[0;34m\u001b[0m\u001b[0m\n",
      "\u001b[0;31mNameError\u001b[0m: name 'pd' is not defined"
     ]
    }
   ],
   "source": [
    "#EJERCICIO 1\n",
    "\n",
    "DATOS = pd.read_csv('/datos1.txt', header=None)\n",
    "df=pd.DataFrame(DATOS)\n",
    "df"
   ]
  },
  {
   "cell_type": "code",
   "execution_count": 146,
   "metadata": {
    "colab": {
     "base_uri": "https://localhost:8080/"
    },
    "id": "1HLgWmlNKK7T",
    "outputId": "7aca0df9-ddbd-4a5f-c123-06e7299bb4ff"
   },
   "outputs": [
    {
     "data": {
      "text/plain": [
       "array(['0.0', '0.20100756305184242', '0.2842676218074806',\n",
       "       '0.3481553119113957', '0.40201512610368484', '0.44946657497549475',\n",
       "       '0.49236596391733095', '0.5318160234783105', '0.5685352436149612',\n",
       "       '0.6030226891555273', '0.6356417261637283', '0.6666666666666667',\n",
       "       '0.6963106238227914', '0.7247430753394787', '0.752101433090355',\n",
       "       '0.778498944161523', '0.8040302522073697', '0.8287754140107482',\n",
       "       '0.8528028654224418', '0.8761716542303613', '0.8989331499509895',\n",
       "       '0.9211323729436766', '0.9428090415820634', '0.963998407308295',\n",
       "       '0.9847319278346619', '1.005037815259212', '1.0249414863810766',\n",
       "       '1.044465935734187', '1.063632046956621', '1.0824588545146516',\n",
       "       '1.1009637651263606', '1.119162746219357', '1.1370704872299224',\n",
       "       '1.1547005383792517'], dtype=object)"
      ]
     },
     "execution_count": 146,
     "metadata": {},
     "output_type": "execute_result"
    }
   ],
   "source": [
    "Den = df[1]\n",
    "DEN = np.array(Den[1:])\n",
    "DEN"
   ]
  },
  {
   "cell_type": "code",
   "execution_count": 147,
   "metadata": {
    "colab": {
     "base_uri": "https://localhost:8080/"
    },
    "id": "VA8Rt03CLtd_",
    "outputId": "b91f1ac7-ee62-4561-f793-fc2601644178"
   },
   "outputs": [
    {
     "data": {
      "text/plain": [
       "array(['0.0', '0.04040404040404041', '0.08080808080808081',\n",
       "       '0.12121212121212122', '0.16161616161616163',\n",
       "       '0.20202020202020204', '0.24242424242424243', '0.2828282828282829',\n",
       "       '0.32323232323232326', '0.36363636363636365', '0.4040404040404041',\n",
       "       '0.4444444444444445', '0.48484848484848486', '0.5252525252525253',\n",
       "       '0.5656565656565657', '0.6060606060606061', '0.6464646464646465',\n",
       "       '0.686868686868687', '0.7272727272727273', '0.7676767676767677',\n",
       "       '0.8080808080808082', '0.8484848484848485', '0.888888888888889',\n",
       "       '0.9292929292929294', '0.9696969696969697', '1.0101010101010102',\n",
       "       '1.0505050505050506', '1.090909090909091', '1.1313131313131315',\n",
       "       '1.1717171717171717', '1.2121212121212122', '1.2525252525252526',\n",
       "       '1.292929292929293', '1.3333333333333335'], dtype=object)"
      ]
     },
     "execution_count": 147,
     "metadata": {},
     "output_type": "execute_result"
    }
   ],
   "source": [
    "Rad = df[0]\n",
    "RAD = np.array(Rad[1:])\n",
    "RAD"
   ]
  },
  {
   "cell_type": "code",
   "execution_count": 152,
   "metadata": {
    "id": "Gwc2Fv7RL_Ai"
   },
   "outputs": [],
   "source": [
    "Density=[]\n",
    "Radius=[]\n",
    "for i in range(0, len(P)):\n",
    "  Density.append(DEN[i])\n",
    "  Radius.append(RAD[i])\n",
    "\n",
    "#Density= np.array(Density)\n",
    "#Radius = np.array(Radius)"
   ]
  },
  {
   "cell_type": "code",
   "execution_count": 164,
   "metadata": {
    "colab": {
     "base_uri": "https://localhost:8080/",
     "height": 295
    },
    "id": "n8Tslf0sMOPg",
    "outputId": "5e96b78b-2ac8-4314-9a91-59ff7adbd1fb"
   },
   "outputs": [
    {
     "data": {
      "image/png": "[encoded data removed]",
      "text/plain": [
       "<Figure size 432x288 with 1 Axes>"
      ]
     },
     "metadata": {
      "needs_background": "light"
     },
     "output_type": "display_data"
    }
   ],
   "source": [
    "plt.plot(Radius,Density, color=\"coral\",lw=2,label=\"R vs D\")\n",
    "\n",
    "plt.title(\"Radio vs Densidad\")\n",
    "plt.ylabel(\"Densidad  \")\n",
    "plt.xlabel(\"Radio \")\n",
    "#plt.xlim(-4,4)\n",
    "#plt.ylim(-6,6)\n",
    "#MARCO\n",
    "P= plt.gca()\n",
    "P.spines['right'].set_color('r') \n",
    "P.spines['top'].set_color('r')\n",
    "P.spines['bottom'].set_color('r') \n",
    "P.spines['left'].set_color('r') \n",
    "plt.legend(loc=\"best\")\n",
    "plt.grid() \n",
    "plt.show()"
   ]
  },
  {
   "cell_type": "markdown",
   "metadata": {
    "id": "p9ZjEmpXMPc3"
   },
   "source": [
    "# Feedback:\n",
    "```\n",
    "Exercise 1.\n",
    "Importation of the data + labeled plot (rho vs. r)\t            (max 0.5p):\t0.5p\n",
    "Calculation of the integral                 \t\t              (max 1.5p):\t0.0p\n",
    "\n",
    "Exercise 2.\n",
    "Importation of the data + labeled plot P vs. T \t               (max 0.5p):\t0.5p\n",
    "Calculation of the derivative and plot Cv vs. T        \t\t   (max 2.0p):\t0.0p\n",
    "Approximation of the critical temperature                         (max 0.5p):\t0.0p\n",
    "Interpolation                                                     (max 1.0p):\t0.0p\n",
    "\n",
    "Exercise 3.\n",
    "Calculation of the M^n                                 \t       (max 2.0p):\t1.5p\n",
    "Function of the M^n                                    \t       (max 2.0p):\t0.0p\n",
    "\n",
    "- Total:                                                          (max 10.0p):   2.5p\n",
    "```"
   ]
  },
  {
   "cell_type": "code",
   "execution_count": null,
   "metadata": {},
   "outputs": [],
   "source": []
  }
 ],
 "metadata": {
  "colab": {
   "name": "Untitled2.ipynb",
   "provenance": []
  },
  "kernelspec": {
   "display_name": "Python 3",
   "language": "python",
   "name": "python3"
  },
  "language_info": {
   "codemirror_mode": {
    "name": "ipython",
    "version": 3
   },
   "file_extension": ".py",
   "mimetype": "text/x-python",
   "name": "python",
   "nbconvert_exporter": "python",
   "pygments_lexer": "ipython3",
   "version": "3.7.2"
  }
 },
 "nbformat": 4,
 "nbformat_minor": 1
}
