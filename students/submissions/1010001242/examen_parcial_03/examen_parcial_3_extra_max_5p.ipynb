{
  "cells": [
    {
      "cell_type": "markdown",
      "id": "plain-rugby",
      "metadata": {
        "id": "plain-rugby"
      },
      "source": [
        "# Examen parcial 3 (calculo numerico y algebra lineal)\n",
        "* Antes de enviar el archivo, $\\textbf{reiniciar y ejecutar el kernel}$ para ver que el archivo se compila sin errores\n",
        "* enviar el archivo jupyter sin anexos antes de las 10.10am del 30.03.2022 a mi dirección de correo electrónico: michal.hemmerling@udea.edu.co "
      ]
    },
    {
      "cell_type": "code",
      "source": [
        "#JOSE LUIS TORRES CC: 1010001242\n",
        "\n",
        "\n",
        "from scipy.integrate import solve_bvp\n",
        "import numpy as np\n",
        "import random  \n",
        "import numpy as np      #LIBRERIAS\n",
        "import matplotlib.pyplot as plt  \n",
        "import pandas as pd\n",
        "import random as rd\n",
        "from scipy.optimize import curve_fit as CF \n",
        "import time \n",
        "from scipy import optimize\n",
        "from scipy.misc import derivative as dv\n",
        "import sympy as sym\n",
        "import scipy\n",
        "from scipy.interpolate import interp1d\n",
        "from scipy.integrate import quad as qq\n",
        "from scipy.integrate import solve_ivp as SS\n",
        "from scipy.integrate import odeint as OO\n",
        "from scipy.integrate import solve_ivp\n",
        "\n",
        "import matplotlib.pyplot as plt\n",
        "import numpy as np"
      ],
      "metadata": {
        "id": "v93QxK_UMJsM"
      },
      "id": "v93QxK_UMJsM",
      "execution_count": 1,
      "outputs": []
    },
    {
      "cell_type": "markdown",
      "id": "usual-washer",
      "metadata": {
        "id": "usual-washer"
      },
      "source": [
        "# Ejercicio 1"
      ]
    },
    {
      "cell_type": "markdown",
      "id": "pretty-conference",
      "metadata": {
        "id": "pretty-conference"
      },
      "source": [
        "El archivo $\\textbf{data_radius_density.csv}$ contiene dos columnas: radio ($ r $) y la densidad ($ \\rho (r) $) de un disco plano en función del radio\n",
        "\n",
        "El disco es lo suficientemente delgado como para que, con fines matemáticos, podamos tratarlo como un objeto bidimensional. Asumimos que la densidad se da en términos de masa por unidad de área (llamada densidad de área), y además asumimos que la densidad varía solo a lo largo del radio del disco (llamada densidad radial). Orientamos el disco en el plano xy, con el centro en el origen. Entonces, la densidad del disco puede ser tratada como una función de x, denotada $\\rho(x)$.\n",
        "<table><tr>\n",
        "<td> <img src=\"disk_radius_density.png\" width=\"500\" /> </td>\n",
        "</tr></table>   \n",
        "\n",
        "* a) importar los datos usando Pandas, graficar la densidad del disco frente a su radio (los gráficos deben tener etiquetas para el eje `x` y el eje `y`).\n",
        "\n",
        "* b) sabiendo que la masa del disco viene dada por una integral:\n",
        "$$ m = \\int_0^{r} 2 \\pi \\ r * \\rho (r) \\ dr $$\n",
        "     calcular la masa del disco mediante integración numérica\n",
        "\n",
        "* Pista:`x`: is radius and `y`: is ***integrand***\n"
      ]
    },
    {
      "cell_type": "code",
      "execution_count": 2,
      "id": "valuable-august",
      "metadata": {
        "colab": {
          "base_uri": "https://localhost:8080/",
          "height": 419
        },
        "id": "valuable-august",
        "outputId": "9497c310-2a2c-4d0d-9e28-92c7963b3241"
      },
      "outputs": [
        {
          "output_type": "execute_result",
          "data": {
            "text/plain": [
              "      radius   density\n",
              "0   0.000000  0.000000\n",
              "1   0.040404  0.201008\n",
              "2   0.080808  0.284268\n",
              "3   0.121212  0.348155\n",
              "4   0.161616  0.402015\n",
              "..       ...       ...\n",
              "95  3.838384  1.959179\n",
              "96  3.878788  1.969464\n",
              "97  3.919192  1.979695\n",
              "98  3.959596  1.989873\n",
              "99  4.000000  2.000000\n",
              "\n",
              "[100 rows x 2 columns]"
            ],
            "text/html": [
              "\n",
              "  <div id=\"df-e2071087-36ea-4fd0-a2ae-bff48c957aac\">\n",
              "    <div class=\"colab-df-container\">\n",
              "      <div>\n",
              "<style scoped>\n",
              "    .dataframe tbody tr th:only-of-type {\n",
              "        vertical-align: middle;\n",
              "    }\n",
              "\n",
              "    .dataframe tbody tr th {\n",
              "        vertical-align: top;\n",
              "    }\n",
              "\n",
              "    .dataframe thead th {\n",
              "        text-align: right;\n",
              "    }\n",
              "</style>\n",
              "<table border=\"1\" class=\"dataframe\">\n",
              "  <thead>\n",
              "    <tr style=\"text-align: right;\">\n",
              "      <th></th>\n",
              "      <th>radius</th>\n",
              "      <th>density</th>\n",
              "    </tr>\n",
              "  </thead>\n",
              "  <tbody>\n",
              "    <tr>\n",
              "      <th>0</th>\n",
              "      <td>0.000000</td>\n",
              "      <td>0.000000</td>\n",
              "    </tr>\n",
              "    <tr>\n",
              "      <th>1</th>\n",
              "      <td>0.040404</td>\n",
              "      <td>0.201008</td>\n",
              "    </tr>\n",
              "    <tr>\n",
              "      <th>2</th>\n",
              "      <td>0.080808</td>\n",
              "      <td>0.284268</td>\n",
              "    </tr>\n",
              "    <tr>\n",
              "      <th>3</th>\n",
              "      <td>0.121212</td>\n",
              "      <td>0.348155</td>\n",
              "    </tr>\n",
              "    <tr>\n",
              "      <th>4</th>\n",
              "      <td>0.161616</td>\n",
              "      <td>0.402015</td>\n",
              "    </tr>\n",
              "    <tr>\n",
              "      <th>...</th>\n",
              "      <td>...</td>\n",
              "      <td>...</td>\n",
              "    </tr>\n",
              "    <tr>\n",
              "      <th>95</th>\n",
              "      <td>3.838384</td>\n",
              "      <td>1.959179</td>\n",
              "    </tr>\n",
              "    <tr>\n",
              "      <th>96</th>\n",
              "      <td>3.878788</td>\n",
              "      <td>1.969464</td>\n",
              "    </tr>\n",
              "    <tr>\n",
              "      <th>97</th>\n",
              "      <td>3.919192</td>\n",
              "      <td>1.979695</td>\n",
              "    </tr>\n",
              "    <tr>\n",
              "      <th>98</th>\n",
              "      <td>3.959596</td>\n",
              "      <td>1.989873</td>\n",
              "    </tr>\n",
              "    <tr>\n",
              "      <th>99</th>\n",
              "      <td>4.000000</td>\n",
              "      <td>2.000000</td>\n",
              "    </tr>\n",
              "  </tbody>\n",
              "</table>\n",
              "<p>100 rows × 2 columns</p>\n",
              "</div>\n",
              "      <button class=\"colab-df-convert\" onclick=\"convertToInteractive('df-e2071087-36ea-4fd0-a2ae-bff48c957aac')\"\n",
              "              title=\"Convert this dataframe to an interactive table.\"\n",
              "              style=\"display:none;\">\n",
              "        \n",
              "  <svg xmlns=\"http://www.w3.org/2000/svg\" height=\"24px\"viewBox=\"0 0 24 24\"\n",
              "       width=\"24px\">\n",
              "    <path d=\"M0 0h24v24H0V0z\" fill=\"none\"/>\n",
              "    <path d=\"M18.56 5.44l.94 2.06.94-2.06 2.06-.94-2.06-.94-.94-2.06-.94 2.06-2.06.94zm-11 1L8.5 8.5l.94-2.06 2.06-.94-2.06-.94L8.5 2.5l-.94 2.06-2.06.94zm10 10l.94 2.06.94-2.06 2.06-.94-2.06-.94-.94-2.06-.94 2.06-2.06.94z\"/><path d=\"M17.41 7.96l-1.37-1.37c-.4-.4-.92-.59-1.43-.59-.52 0-1.04.2-1.43.59L10.3 9.45l-7.72 7.72c-.78.78-.78 2.05 0 2.83L4 21.41c.39.39.9.59 1.41.59.51 0 1.02-.2 1.41-.59l7.78-7.78 2.81-2.81c.8-.78.8-2.07 0-2.86zM5.41 20L4 18.59l7.72-7.72 1.47 1.35L5.41 20z\"/>\n",
              "  </svg>\n",
              "      </button>\n",
              "      \n",
              "  <style>\n",
              "    .colab-df-container {\n",
              "      display:flex;\n",
              "      flex-wrap:wrap;\n",
              "      gap: 12px;\n",
              "    }\n",
              "\n",
              "    .colab-df-convert {\n",
              "      background-color: #E8F0FE;\n",
              "      border: none;\n",
              "      border-radius: 50%;\n",
              "      cursor: pointer;\n",
              "      display: none;\n",
              "      fill: #1967D2;\n",
              "      height: 32px;\n",
              "      padding: 0 0 0 0;\n",
              "      width: 32px;\n",
              "    }\n",
              "\n",
              "    .colab-df-convert:hover {\n",
              "      background-color: #E2EBFA;\n",
              "      box-shadow: 0px 1px 2px rgba(60, 64, 67, 0.3), 0px 1px 3px 1px rgba(60, 64, 67, 0.15);\n",
              "      fill: #174EA6;\n",
              "    }\n",
              "\n",
              "    [theme=dark] .colab-df-convert {\n",
              "      background-color: #3B4455;\n",
              "      fill: #D2E3FC;\n",
              "    }\n",
              "\n",
              "    [theme=dark] .colab-df-convert:hover {\n",
              "      background-color: #434B5C;\n",
              "      box-shadow: 0px 1px 3px 1px rgba(0, 0, 0, 0.15);\n",
              "      filter: drop-shadow(0px 1px 2px rgba(0, 0, 0, 0.3));\n",
              "      fill: #FFFFFF;\n",
              "    }\n",
              "  </style>\n",
              "\n",
              "      <script>\n",
              "        const buttonEl =\n",
              "          document.querySelector('#df-e2071087-36ea-4fd0-a2ae-bff48c957aac button.colab-df-convert');\n",
              "        buttonEl.style.display =\n",
              "          google.colab.kernel.accessAllowed ? 'block' : 'none';\n",
              "\n",
              "        async function convertToInteractive(key) {\n",
              "          const element = document.querySelector('#df-e2071087-36ea-4fd0-a2ae-bff48c957aac');\n",
              "          const dataTable =\n",
              "            await google.colab.kernel.invokeFunction('convertToInteractive',\n",
              "                                                     [key], {});\n",
              "          if (!dataTable) return;\n",
              "\n",
              "          const docLinkHtml = 'Like what you see? Visit the ' +\n",
              "            '<a target=\"_blank\" href=https://colab.research.google.com/notebooks/data_table.ipynb>data table notebook</a>'\n",
              "            + ' to learn more about interactive tables.';\n",
              "          element.innerHTML = '';\n",
              "          dataTable['output_type'] = 'display_data';\n",
              "          await google.colab.output.renderOutput(dataTable, element);\n",
              "          const docLink = document.createElement('div');\n",
              "          docLink.innerHTML = docLinkHtml;\n",
              "          element.appendChild(docLink);\n",
              "        }\n",
              "      </script>\n",
              "    </div>\n",
              "  </div>\n",
              "  "
            ]
          },
          "metadata": {},
          "execution_count": 2
        }
      ],
      "source": [
        "df=pd.read_csv(\"/content/data_radius_density.csv\")\n",
        "df"
      ]
    },
    {
      "cell_type": "code",
      "source": [
        "#GRAFICA\n",
        "\n",
        "fig = plt.figure(figsize = (10,8))\n",
        "#fig,ax = plt.subplots(1,1)\n",
        "\n",
        "plt.plot(df.radius,df.density,\".-\",color=\"lime\",label='',lw=1)\n",
        "plt.plot(df.radius,df.density,\".\",color=\"g\",label='Datos',lw=1)\n",
        "\n",
        "\n",
        "\n",
        "plt.title(\"Densidad Vs Radio\", loc = \"center\", fontdict = {'fontsize':12, 'fontweight':'bold'})\n",
        "plt.ylabel(\"Densidad [ p(x) ] \")\n",
        "plt.xlabel(\"Radio Del Disco  [ x ] \")\n",
        "\n",
        "#MARCO\n",
        "P= plt.gca()\n",
        "C=\"lime\"\n",
        "P.spines['right'].set_color(C) \n",
        "P.spines['top'].set_color(C)\n",
        "P.spines['bottom'].set_color(C) \n",
        "P.spines['left'].set_color(C) \n",
        "plt.legend(loc=\"best\")\n",
        "plt.grid() \n",
        "plt.show()"
      ],
      "metadata": {
        "colab": {
          "base_uri": "https://localhost:8080/",
          "height": 513
        },
        "id": "Rktko30sMXqD",
        "outputId": "5c1e3c02-0274-4401-e398-98b452a0f262"
      },
      "id": "Rktko30sMXqD",
      "execution_count": 3,
      "outputs": [
        {
          "output_type": "display_data",
          "data": {
            "text/plain": [
              "<Figure size 720x576 with 1 Axes>"
            ],
            "image/png": "[encoded data removed]"
          },
          "metadata": {
            "needs_background": "light"
          }
        }
      ]
    },
    {
      "cell_type": "code",
      "source": [
        "# PISTAS\n",
        "\n",
        "x=df.radius #X\n",
        "y=df.density\n",
        "#Integrand\n",
        "def Int(x,y):\n",
        "  M = ( 2 * np.pi * (x*y) )\n",
        "  return M\n",
        "  \n",
        "Integral = scipy.integrate.simps(Int(x,y),x)\n",
        "print(\"la masa del disco es = \",round(Integral,7),\" Kg\")"
      ],
      "metadata": {
        "colab": {
          "base_uri": "https://localhost:8080/"
        },
        "id": "1Ahq_nvaOL2t",
        "outputId": "ace8daa5-6cf1-483a-e375-59005b3c2cb8"
      },
      "id": "1Ahq_nvaOL2t",
      "execution_count": 4,
      "outputs": [
        {
          "output_type": "stream",
          "name": "stdout",
          "text": [
            "la masa del disco es =  80.4248977  Kg\n"
          ]
        }
      ]
    },
    {
      "cell_type": "markdown",
      "id": "handy-obligation",
      "metadata": {
        "id": "handy-obligation"
      },
      "source": [
        "# Ejercicio 2"
      ]
    },
    {
      "cell_type": "markdown",
      "id": "broken-belfast",
      "metadata": {
        "id": "broken-belfast"
      },
      "source": [
        "La capacidad calorífica de un gas muy frío se puede aproximar mediante:\n",
        "\n",
        "$$ C_v \\approx \\left (\\frac{dP}{dT} \\right) $$\n",
        "(en las unidades de $ \\left [\\frac {J} {K} \\right] $)\n",
        "\n",
        "Donde $P$ es la presión $ [J / s^3] $ del gas y $ T \\ [K] $ es la temperatura del gas.\n",
        "\n",
        "Los datos para la presión frente a la temperatura se dan en el archivo csv ($ \\textbf{data_pressure_vs_temperature.csv} $).\n",
        "\n",
        "* a) importar los datos usando pandas\n",
        "* b) hacer un gráfico de $P$ vs $T$ (grafico tiene que tener etiquietas)\n",
        "* c) utilizando la derivada numérica, encuentre la capacidad calorífica.\n",
        "* d) hacer un gráfico de $C_v$ vs $T$ (grafico tiene que tener etiquietas)\n",
        "* e) usando el ultimo grafico hace una estimacion de Temperatura Critica de este gas (Temperatura Critica es Temperatura de cambio abrupto del comportamiento de Capacidad Termica)\n",
        "\n",
        "*gas muy frío se refiere a un gas Bose no homogéneo, y la teoría que relaciona $ C_v $ y $ P $ se refiere a la Teoría de Variables Globales Termodinámicas. La presión en realidad se llama parámetro de presión."
      ]
    },
    {
      "cell_type": "code",
      "source": [
        "dff=pd.read_csv(\"/content/data_pressure_vs_temparature.csv\") #Importacion  de Datos\n",
        "\n",
        "#GRAFICA P vs T\n",
        "\n",
        "fig = plt.figure(figsize = (10,8))\n",
        "#fig,ax = plt.subplots(1,1)\n",
        "\n",
        "plt.plot(dff.Temperature,dff.Pressure,\".-\",color=\"cyan\",label='',lw=1)\n",
        "plt.plot(dff.Temperature,dff.Pressure,\".\",color=\"b\",label='Datos',lw=1)\n",
        "\n",
        "\n",
        "\n",
        "\n",
        "plt.title('Pressure vs Temperature', loc = \"center\", fontdict = {'fontsize':12, 'fontweight':'bold'})\n",
        "plt.ylabel(\"Pressure [ P ] \")\n",
        "plt.xlabel(\"Temperature  [ T ] \")\n",
        "\n",
        "#MARCO\n",
        "P= plt.gca()\n",
        "C=\"navy\"\n",
        "P.spines['right'].set_color(C) \n",
        "P.spines['top'].set_color(C)\n",
        "P.spines['bottom'].set_color(C) \n",
        "P.spines['left'].set_color(C) \n",
        "plt.legend(loc=\"best\")\n",
        "plt.grid() \n",
        "plt.show()\n"
      ],
      "metadata": {
        "colab": {
          "base_uri": "https://localhost:8080/",
          "height": 513
        },
        "id": "wdeSXeiETSoN",
        "outputId": "0fe96c7d-717d-43e5-e19e-731d5097977b"
      },
      "id": "wdeSXeiETSoN",
      "execution_count": 5,
      "outputs": [
        {
          "output_type": "display_data",
          "data": {
            "text/plain": [
              "<Figure size 720x576 with 1 Axes>"
            ],
            "image/png": "[encoded data removed]"
          },
          "metadata": {
            "needs_background": "light"
          }
        }
      ]
    },
    {
      "cell_type": "code",
      "source": [
        "#Derivacion Numerica\n",
        "\n",
        "y_prime = np.gradient(dff.Pressure, dff.Temperature)\n",
        "\n",
        "#GRAFICA Cp vs T\n",
        "\n",
        "fig = plt.figure(figsize = (10,8))\n",
        "#fig,ax = plt.subplots(1,1)\n",
        "\n",
        "plt.plot(dff.Temperature,y_prime,\".-\",color=\"cyan\",label='',lw=1)\n",
        "plt.plot(dff.Temperature,y_prime,\".\",color=\"b\",label='Datos',lw=1)\n",
        "plt.plot(dff.Temperature[10],y_prime[10],\".\",color=\"r\",label='Punto Critico',lw=1)\n",
        "\n",
        "\n",
        "\n",
        "\n",
        "plt.title('Capacidad Calorica Vs Temperatura', loc = \"center\", fontdict = {'fontsize':12, 'fontweight':'bold'})\n",
        "plt.ylabel(\"Capacity [ Cp ] \")\n",
        "plt.xlabel(\"Temperature  [ T ] \")\n",
        "\n",
        "#MARCO\n",
        "P= plt.gca()\n",
        "C=\"navy\"\n",
        "P.spines['right'].set_color(C) \n",
        "P.spines['top'].set_color(C)\n",
        "P.spines['bottom'].set_color(C) \n",
        "P.spines['left'].set_color(C) \n",
        "plt.legend(loc=\"best\")\n",
        "plt.grid() \n",
        "plt.show()"
      ],
      "metadata": {
        "colab": {
          "base_uri": "https://localhost:8080/",
          "height": 513
        },
        "id": "3PEDfjV-VsJZ",
        "outputId": "4206b482-e84e-43cc-df49-64246c4e96ac"
      },
      "id": "3PEDfjV-VsJZ",
      "execution_count": 6,
      "outputs": [
        {
          "output_type": "display_data",
          "data": {
            "text/plain": [
              "<Figure size 720x576 with 1 Axes>"
            ],
            "image/png": "[encoded data removed]"
          },
          "metadata": {
            "needs_background": "light"
          }
        }
      ]
    },
    {
      "cell_type": "code",
      "source": [
        "print(f\"La capacidad calorica alcanza un pico en:  {y_prime[10]}  \")\n",
        "print()\n",
        "print(f\"cuando la temperatura es {dff.Temperature[10]} \")"
      ],
      "metadata": {
        "colab": {
          "base_uri": "https://localhost:8080/"
        },
        "id": "z6jrYjmJXGFB",
        "outputId": "eb5015f7-8819-4a77-c7b5-f0ea9df73fb8"
      },
      "id": "z6jrYjmJXGFB",
      "execution_count": 7,
      "outputs": [
        {
          "output_type": "stream",
          "name": "stdout",
          "text": [
            "La capacidad calorica alcanza un pico en:  1.1976979318858835e-09  \n",
            "\n",
            "cuando la temperatura es 2.3147805092375505e-07 \n"
          ]
        }
      ]
    },
    {
      "cell_type": "markdown",
      "id": "nominated-beast",
      "metadata": {
        "id": "nominated-beast"
      },
      "source": [
        "# Ejercicio 3"
      ]
    },
    {
      "cell_type": "markdown",
      "id": "amended-french",
      "metadata": {
        "id": "amended-french"
      },
      "source": [
        "Dada es Matrix $S$:\n",
        "\n",
        "$$S=\n",
        "\\begin{bmatrix}\n",
        "1 &  -1 & -1 & -1\\\\\n",
        "-1 &  2 & 0 & 0\\\\\n",
        "-1 &  3 & 3 & 0 \\\\\n",
        "-1 &  0 & 1 & 4 \\\\\n",
        "\\end{bmatrix}$$\n",
        "\n",
        "\n",
        "a) calcular $S^5$ utilizando diagonalización.  \n",
        "\n",
        "b) crear una funcion `matrix_power(A,n)` que recive dos parametros: matrix $A$, y valor entero de la potencia $n$. Funcion tiene que devolver una matrix $M=A^n$ (usa diagonalizacion)"
      ]
    },
    {
      "cell_type": "code",
      "execution_count": 8,
      "id": "interested-joshua",
      "metadata": {
        "colab": {
          "base_uri": "https://localhost:8080/"
        },
        "id": "interested-joshua",
        "outputId": "99025fef-1e6d-48a6-a693-c2e3a3c7d4fb"
      },
      "outputs": [
        {
          "output_type": "stream",
          "name": "stdout",
          "text": [
            "La potencia calculada con diagonalizacion es :\n",
            " [[  485.  -755.  -563.  -563.]\n",
            " [ -179.   280.   192.   192.]\n",
            " [ -675.  1201.   707.   464.]\n",
            " [-1027.  1448.  1275.  1518.]]\n",
            "\n",
            "\n",
            "La potencia calculada con numpy es :\n",
            " [[  485  -755  -563  -563]\n",
            " [ -179   280   192   192]\n",
            " [ -675  1201   707   464]\n",
            " [-1027  1448  1275  1518]]\n"
          ]
        }
      ],
      "source": [
        "#Se define la MATRIZ a estudiar\n",
        "\n",
        "A=np.array([[1,-1,-1,-1],\n",
        "            [-1,2,0,0],\n",
        "            [-1,3,3,0],\n",
        "            [-1,0,1,4]])\n",
        "\n",
        "\n",
        "#Diagonalizacion\n",
        "\n",
        "evalues,evectors=np.linalg.eig(A) # Valores y vectores propios de la matriz (numpy)\n",
        "\n",
        "P = evectors #MATRIZ AutoVectores\n",
        "D = np.diag(evalues) #MATRIZ Diagonal\n",
        "P_1 = np.linalg.inv(evectors) #MATRIZ \"Inversa\"\n",
        "\n",
        "D5=D**5 #Entradas de diagonal elevadas a la quinta potencia\n",
        "\n",
        "\n",
        "POT = np.matmul(P,np.matmul(D5,P_1)) #Calculo por diagonalizacion\n",
        "pot = np.linalg.matrix_power(A, 5) #Calculo por numpy\n",
        "\n",
        "\n",
        "\n",
        "#Utilizamos una adecuada visualizacion para los datos  encontrados\n",
        "print(\"La potencia calculada con diagonalizacion es :\\n\",POT)\n",
        "print('')\n",
        "print(\"\")\n",
        "print(\"La potencia calculada con numpy es :\\n\",pot)\n"
      ]
    },
    {
      "cell_type": "code",
      "source": [
        "#Funcion pedida\n",
        "\n",
        "def matrix_power(A,n):\n",
        "\n",
        "  evalues, evectors = np.linalg.eig(A) #Diagonalizacion\n",
        "\n",
        " #DATOS\n",
        "  P = evectors\n",
        "  D = np.diag(evalues)\n",
        "  P1 = np.linalg.inv(P)\n",
        "\n",
        "  Dn=D**n #Potencia buscada \n",
        "\n",
        "  OP = np.matmul(P,np.matmul(Dn,P1))\n",
        "  return OP\n"
      ],
      "metadata": {
        "id": "LgbVbjh0ZZJv"
      },
      "id": "LgbVbjh0ZZJv",
      "execution_count": 9,
      "outputs": []
    },
    {
      "cell_type": "code",
      "source": [
        "matrix_power(A,5)"
      ],
      "metadata": {
        "colab": {
          "base_uri": "https://localhost:8080/"
        },
        "id": "s4TV3hazaoyI",
        "outputId": "f434f5da-0c48-46ba-f73f-c0e9282a9f9e"
      },
      "id": "s4TV3hazaoyI",
      "execution_count": 10,
      "outputs": [
        {
          "output_type": "execute_result",
          "data": {
            "text/plain": [
              "array([[  485.,  -755.,  -563.,  -563.],\n",
              "       [ -179.,   280.,   192.,   192.],\n",
              "       [ -675.,  1201.,   707.,   464.],\n",
              "       [-1027.,  1448.,  1275.,  1518.]])"
            ]
          },
          "metadata": {},
          "execution_count": 10
        }
      ]
    },
    {
      "cell_type": "code",
      "source": [
        ""
      ],
      "metadata": {
        "id": "KmHm6c_Zawpn"
      },
      "id": "KmHm6c_Zawpn",
      "execution_count": 10,
      "outputs": []
    }
  ],
  "metadata": {
    "kernelspec": {
      "display_name": "Python 3",
      "language": "python",
      "name": "python3"
    },
    "language_info": {
      "codemirror_mode": {
        "name": "ipython",
        "version": 3
      },
      "file_extension": ".py",
      "mimetype": "text/x-python",
      "name": "python",
      "nbconvert_exporter": "python",
      "pygments_lexer": "ipython3",
      "version": "3.7.2"
    },
    "colab": {
      "name": "examen_parcial_3.ipynb",
      "provenance": []
    }
  },
  "nbformat": 4,
  "nbformat_minor": 5
}