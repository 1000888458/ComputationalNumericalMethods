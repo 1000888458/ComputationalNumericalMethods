{
 "cells": [
  {
   "cell_type": "code",
   "execution_count": 8,
   "metadata": {
    "id": "FzCpYTpmhOTW"
   },
   "outputs": [],
   "source": [
    "# JOSE LUIS TORRES LPEZ     CC: 1010001242\n",
    "\n",
    "import numpy as np\n",
    "import scipy.integrate as s"
   ]
  },
  {
   "cell_type": "code",
   "execution_count": null,
   "metadata": {
    "id": "93E1LEFSn0RR"
   },
   "outputs": [],
   "source": []
  },
  {
   "cell_type": "code",
   "execution_count": 9,
   "metadata": {
    "id": "IjG8IaKCh2P_"
   },
   "outputs": [],
   "source": [
    "#Implementacion del Metodo MonteCarlo (Caracter Aleatorio)\n",
    "\n",
    "def integral_monte_carlo_1D(integrand,lim1,lim2,N):\n",
    "  Ini = 0\n",
    "  A = np.random.uniform(lim1,lim2,N)\n",
    "  B = np.mean( integrand(A) ) * (lim2-lim1)  \n",
    "  return B \n",
    "\n",
    "#Funcion a estudiar\n",
    "def fun(x):\n",
    "  P1 = 15*(x**3) + 21*(x**2) + 41*x + 3 \n",
    "  P2 = np.exp(-0.5*x)\n",
    "  return ( P1**(1/4) ) * P2"
   ]
  },
  {
   "cell_type": "code",
   "execution_count": 10,
   "metadata": {
    "colab": {
     "base_uri": "https://localhost:8080/"
    },
    "id": "BHgpQ4TBiUKy",
    "outputId": "3ea86cc5-4fb2-4e62-93d6-bb35bc8a2035"
   },
   "outputs": [
    {
     "name": "stdout",
     "output_type": "stream",
     "text": [
      "\n",
      "El valor aproximado para la integral es: 5.7621512                   [ MonteCarlo ]\n",
      "\n",
      "El valor real para la integral es: 5.7674335  ±  1e-09                 [ Scipy ]\n"
     ]
    }
   ],
   "source": [
    "#Parametros \n",
    "a , b , N = 0 , 4 , 10000\n",
    "\n",
    "\n",
    "#Soluciones\n",
    "MC = integral_monte_carlo_1D(fun,a,b,N) #METOD Montecarlo\n",
    "S = s.quad(fun,a,b) #Solucion de Scipy\n",
    "\n",
    "#Resultados\n",
    "print()\n",
    "print(f\"El valor aproximado para la integral es: {round(MC,7)}                   [ MonteCarlo ]\")\n",
    "print()\n",
    "print(f\"El valor real para la integral es: {round(S[0],7) }  ±  {round(S[1],9)}                 [ Scipy ]\")"
   ]
  },
  {
   "cell_type": "code",
   "execution_count": null,
   "metadata": {},
   "outputs": [],
   "source": []
  },
  {
   "cell_type": "code",
   "execution_count": null,
   "metadata": {},
   "outputs": [],
   "source": []
  },
  {
   "cell_type": "code",
   "execution_count": null,
   "metadata": {},
   "outputs": [],
   "source": []
  }
 ],
 "metadata": {
  "colab": {
   "name": "homework_07.ipynb",
   "provenance": []
  },
  "kernelspec": {
   "display_name": "Python 3",
   "language": "python",
   "name": "python3"
  },
  "language_info": {
   "codemirror_mode": {
    "name": "ipython",
    "version": 3
   },
   "file_extension": ".py",
   "mimetype": "text/x-python",
   "name": "python",
   "nbconvert_exporter": "python",
   "pygments_lexer": "ipython3",
   "version": "3.7.2"
  }
 },
 "nbformat": 4,
 "nbformat_minor": 1
}
