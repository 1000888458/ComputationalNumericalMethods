{
 "cells": [
  {
   "cell_type": "code",
   "execution_count": 2,
   "metadata": {
    "id": "FzCpYTpmhOTW"
   },
   "outputs": [],
   "source": [
    "# JOSE LUIS TORRES LPEZ     CC: 1010001242\n",
    "\n",
    "import numpy as np\n",
    "import scipy.integrate as s"
   ]
  },
  {
   "cell_type": "code",
   "execution_count": null,
   "metadata": {
    "id": "93E1LEFSn0RR"
   },
   "outputs": [],
   "source": []
  },
  {
   "cell_type": "code",
   "execution_count": 3,
   "metadata": {
    "id": "IjG8IaKCh2P_"
   },
   "outputs": [],
   "source": [
    "#Implementacion del Metodo MonteCarlo (Caracter Aleatorio)\n",
    "\n",
    "def Integral_MonteCarlo_1d(integrand,lim1,lim2,N):\n",
    "  Ini = 0\n",
    "  A = np.random.uniform(lim1,lim2,N)\n",
    "  B = np.mean( integrand(A) ) * (lim2-lim1)  \n",
    "  return B \n",
    "\n",
    "#Funcion a estudiar\n",
    "def fun(x):\n",
    "  P1 = 15*(x**3) + 21*(x**2) + 41*x + 3 \n",
    "  P2 = np.exp(-0.5*x)\n",
    "  return ( P1**(1/4) ) * P2"
   ]
  },
  {
   "cell_type": "code",
   "execution_count": 4,
   "metadata": {
    "colab": {
     "base_uri": "https://localhost:8080/"
    },
    "id": "BHgpQ4TBiUKy",
    "outputId": "3ea86cc5-4fb2-4e62-93d6-bb35bc8a2035"
   },
   "outputs": [
    {
     "name": "stdout",
     "output_type": "stream",
     "text": [
      "\n",
      "El valor aproximado para la integral es: 5.7847829                   [ MonteCarlo ]\n",
      "\n",
      "El valor real para la integral es: 5.7674335  ±  1e-09                 [ Scipy ]\n"
     ]
    }
   ],
   "source": [
    "#Parametros \n",
    "a , b , N = 0 , 4 , 10000\n",
    "\n",
    "\n",
    "#Soluciones\n",
    "MC = Integral_MonteCarlo_1d(fun,a,b,N) #METOD Montecarlo\n",
    "S = s.quad(fun,a,b) #Solucion de Scipy\n",
    "\n",
    "#Resultados\n",
    "print()\n",
    "print(f\"El valor aproximado para la integral es: {round(MC,7)}                   [ MonteCarlo ]\")\n",
    "print()\n",
    "print(f\"El valor real para la integral es: {round(S[0],7) }  ±  {round(S[1],9)}                 [ Scipy ]\")"
   ]
  },
  {
   "cell_type": "code",
   "execution_count": 5,
   "metadata": {
    "id": "FTcH0SkipFAS"
   },
   "outputs": [
    {
     "ename": "NameError",
     "evalue": "name 'integral_monte_carlo_1D' is not defined",
     "output_type": "error",
     "traceback": [
      "\u001b[0;31m---------------------------------------------------------------------------\u001b[0m",
      "\u001b[0;31mNameError\u001b[0m                                 Traceback (most recent call last)",
      "\u001b[0;32m<ipython-input-5-5eb5f86a7365>\u001b[0m in \u001b[0;36m<module>\u001b[0;34m\u001b[0m\n\u001b[1;32m     10\u001b[0m \u001b[0mmy_results\u001b[0m\u001b[0;34m=\u001b[0m\u001b[0;34m[\u001b[0m\u001b[0;34m]\u001b[0m\u001b[0;34m\u001b[0m\u001b[0;34m\u001b[0m\u001b[0m\n\u001b[1;32m     11\u001b[0m \u001b[0;32mfor\u001b[0m \u001b[0mval\u001b[0m \u001b[0;32min\u001b[0m \u001b[0mtest_vals\u001b[0m\u001b[0;34m:\u001b[0m\u001b[0;34m\u001b[0m\u001b[0;34m\u001b[0m\u001b[0m\n\u001b[0;32m---> 12\u001b[0;31m     \u001b[0mresult\u001b[0m\u001b[0;34m=\u001b[0m\u001b[0mintegral_monte_carlo_1D\u001b[0m\u001b[0;34m(\u001b[0m\u001b[0mintegrand\u001b[0m\u001b[0;34m,\u001b[0m\u001b[0mval\u001b[0m\u001b[0;34m,\u001b[0m\u001b[0;36m20\u001b[0m\u001b[0;34m,\u001b[0m\u001b[0;36m1000000\u001b[0m\u001b[0;34m)\u001b[0m\u001b[0;34m\u001b[0m\u001b[0;34m\u001b[0m\u001b[0m\n\u001b[0m\u001b[1;32m     13\u001b[0m     \u001b[0mmy_results\u001b[0m\u001b[0;34m.\u001b[0m\u001b[0mappend\u001b[0m\u001b[0;34m(\u001b[0m\u001b[0mresult\u001b[0m\u001b[0;34m)\u001b[0m\u001b[0;34m\u001b[0m\u001b[0;34m\u001b[0m\u001b[0m\n\u001b[1;32m     14\u001b[0m \u001b[0mfig\u001b[0m\u001b[0;34m,\u001b[0m\u001b[0max\u001b[0m\u001b[0;34m=\u001b[0m\u001b[0mplt\u001b[0m\u001b[0;34m.\u001b[0m\u001b[0msubplots\u001b[0m\u001b[0;34m(\u001b[0m\u001b[0;36m1\u001b[0m\u001b[0;34m,\u001b[0m\u001b[0;36m1\u001b[0m\u001b[0;34m)\u001b[0m\u001b[0;34m\u001b[0m\u001b[0;34m\u001b[0m\u001b[0m\n",
      "\u001b[0;31mNameError\u001b[0m: name 'integral_monte_carlo_1D' is not defined"
     ]
    }
   ],
   "source": [
    "import numpy as np\n",
    "import os\n",
    "import pandas as pd\n",
    "import matplotlib.pyplot as plt\n",
    "test_vals=np.array([5.0])\n",
    "\n",
    "def integrand(x):\n",
    "    return x/(1+x)**3\n",
    "\n",
    "my_results=[]\n",
    "for val in test_vals:\n",
    "    result=integral_monte_carlo_1D(integrand,val,20,1000000)\n",
    "    my_results.append(result)\n",
    "fig,ax=plt.subplots(1,1)\n",
    "ax.plot(test_vals,my_results)  "
   ]
  },
  {
   "cell_type": "code",
   "execution_count": null,
   "metadata": {},
   "outputs": [],
   "source": []
  },
  {
   "cell_type": "code",
   "execution_count": null,
   "metadata": {},
   "outputs": [],
   "source": []
  },
  {
   "cell_type": "code",
   "execution_count": null,
   "metadata": {},
   "outputs": [],
   "source": []
  },
  {
   "cell_type": "code",
   "execution_count": null,
   "metadata": {},
   "outputs": [],
   "source": []
  }
 ],
 "metadata": {
  "colab": {
   "name": "homework_07.ipynb",
   "provenance": []
  },
  "kernelspec": {
   "display_name": "Python 3",
   "language": "python",
   "name": "python3"
  },
  "language_info": {
   "codemirror_mode": {
    "name": "ipython",
    "version": 3
   },
   "file_extension": ".py",
   "mimetype": "text/x-python",
   "name": "python",
   "nbconvert_exporter": "python",
   "pygments_lexer": "ipython3",
   "version": "3.7.2"
  }
 },
 "nbformat": 4,
 "nbformat_minor": 1
}
