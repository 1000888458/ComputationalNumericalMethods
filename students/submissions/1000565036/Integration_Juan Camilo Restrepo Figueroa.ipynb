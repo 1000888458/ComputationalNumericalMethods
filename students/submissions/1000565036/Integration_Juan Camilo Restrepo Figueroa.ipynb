{
 "cells": [
  {
   "cell_type": "markdown",
   "metadata": {},
   "source": [
    "# Tarea 4:\n",
    "\n",
    "Importamos las librerías necesarias:"
   ]
  },
  {
   "cell_type": "code",
   "execution_count": 1,
   "metadata": {},
   "outputs": [],
   "source": [
    "import scipy.integrate as integrate\n",
    "import numpy as np\n",
    "import matplotlib.pyplot as plt"
   ]
  },
  {
   "cell_type": "code",
   "execution_count": 3,
   "metadata": {},
   "outputs": [],
   "source": [
    "angs=[0,10,20,30,40,50,60]"
   ]
  },
  {
   "cell_type": "markdown",
   "metadata": {},
   "source": [
    "Definimos el integrando y un loop que calcule la integral para cada valor del ángulo $\\theta_0$"
   ]
  },
  {
   "cell_type": "code",
   "execution_count": 9,
   "metadata": {},
   "outputs": [
    {
     "data": {
      "text/plain": [
       "[3.588561172373099,\n",
       " 3.595405233692256,\n",
       " 3.616081940558565,\n",
       " 3.6510337074836485,\n",
       " 3.701028542445166,\n",
       " 3.7672103719106955,\n",
       " 3.851179281745639]"
      ]
     },
     "execution_count": 9,
     "metadata": {},
     "output_type": "execute_result"
    }
   ],
   "source": [
    "def integrando(p,k):\n",
    "    return (1/np.sqrt(1-k**2*(np.sin(p))**2))\n",
    "\n",
    "Ts=[]\n",
    "l=0.2\n",
    "g=9.81\n",
    "\n",
    "for ang in angs:\n",
    "    angrad=ang*(np.pi/180)\n",
    "    k=np.sin(angrad/2)\n",
    "    K,error=integrate.quad(integrando,0,2*np.pi,args=(k))\n",
    "    T=4*(np.sqrt(l/g))*K\n",
    "    Ts.append(T)\n",
    "\n",
    "Ts"
   ]
  },
  {
   "cell_type": "markdown",
   "metadata": {},
   "source": [
    "Graficamos $ T vs. \\theta_0$"
   ]
  },
  {
   "cell_type": "code",
   "execution_count": 12,
   "metadata": {},
   "outputs": [
    {
     "data": {
      "image/png": "[encoded data removed]",
      "text/plain": [
       "<Figure size 864x576 with 1 Axes>"
      ]
     },
     "metadata": {
      "needs_background": "light"
     },
     "output_type": "display_data"
    }
   ],
   "source": [
    "plt.figure(figsize=(12,8))\n",
    "plt.scatter(angs,Ts)\n",
    "plt.xlabel(\"Ángulo en grados\")\n",
    "plt.ylabel(\"Período\")\n",
    "plt.grid(True)"
   ]
  }
 ],
 "metadata": {
  "kernelspec": {
   "display_name": "Python 3",
   "language": "python",
   "name": "python3"
  },
  "language_info": {
   "codemirror_mode": {
    "name": "ipython",
    "version": 3
   },
   "file_extension": ".py",
   "mimetype": "text/x-python",
   "name": "python",
   "nbconvert_exporter": "python",
   "pygments_lexer": "ipython3",
   "version": "3.8.3"
  }
 },
 "nbformat": 4,
 "nbformat_minor": 4
}
