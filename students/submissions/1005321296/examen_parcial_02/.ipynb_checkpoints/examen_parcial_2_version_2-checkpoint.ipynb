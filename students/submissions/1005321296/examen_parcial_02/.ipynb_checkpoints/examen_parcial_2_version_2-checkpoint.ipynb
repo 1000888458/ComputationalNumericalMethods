{
 "cells": [
  {
   "cell_type": "markdown",
   "id": "convinced-shuttle",
   "metadata": {},
   "source": [
    "# Examen parcial 2 (raizes y ~interpolacion)\n",
    "* Antes de enviar el archivo, $\\textbf{reiniciar y ejecutar el kernel}$ para ver que el archivo se compila sin errores\n",
    "* enviar el archivo jupyter sin anexos antes de las 10.10am del 04.03.2022 a mi dirección de correo electrónico: michal.hemmerling@udea.edu.co "
   ]
  },
  {
   "cell_type": "markdown",
   "id": "dietary-breed",
   "metadata": {},
   "source": [
    "# Ejercicio"
   ]
  },
  {
   "cell_type": "markdown",
   "id": "billion-mainstream",
   "metadata": {},
   "source": [
    "Bajo ciertas condiciones, los dispositivos ópticos como los láseres pueden mostrar un comportamiento complejo en el perfil del rayo de luz.\n",
    "\n",
    "\n",
    "<table><tr>\n",
    "<td> <img src=\"nonlinear_behaviour.png\" width=\"600\" /> </td>\n",
    "</tr></table>\n",
    " \n",
    "Para un dispositivo óptico particular que consiste en un medio no lineal dentro de una cavidad óptica, esto sólo ocurre cuando la intensidad I se encuentra dentro de un cierto rango que está dado por la ecuación: \n",
    "\n",
    "$$f(x)=(x+1)^2 - c(x-1) < 0 $$\n",
    "\n",
    "donde $x$ es la intensidad del campo eléctrico y $c$ es la fuerza de la absorción del \n",
    "medio no lineal. "
   ]
  },
  {
   "cell_type": "markdown",
   "id": "entitled-tennis",
   "metadata": {},
   "source": [
    "## 1. \n",
    "Cree una función llamada `f_cost` que reciba dos parámetros (x,c) y solo devuelva la función f(x) como se mencionó anteriormente."
   ]
  },
  {
   "cell_type": "code",
   "execution_count": 1,
   "id": "skilled-deficit",
   "metadata": {},
   "outputs": [],
   "source": [
    "# tu codigo:\n",
    "import numpy as np\n",
    "import matplotlib.pyplot as plt\n",
    "\n",
    "def f_cost(x,c):\n",
    "    return (x+1)**2 - c*(x-1)\n"
   ]
  },
  {
   "cell_type": "markdown",
   "id": "described-lodge",
   "metadata": {},
   "source": [
    "## 2. \n",
    "Usando funcion `f_cost` haz un gráfico con cuatro curvas para c=5,10,15,20 y con x entre -10,20 (50 puntos)\n",
    "* hacer que cada curva sea de un color diferente\n",
    "* añadir etiquetas"
   ]
  },
  {
   "cell_type": "code",
   "execution_count": 2,
   "id": "living-seattle",
   "metadata": {},
   "outputs": [
    {
     "data": {
      "image/png": "[encoded data removed]",
      "text/plain": [
       "<Figure size 432x288 with 1 Axes>"
      ]
     },
     "metadata": {
      "needs_background": "light"
     },
     "output_type": "display_data"
    }
   ],
   "source": [
    "# tu codigo:\n",
    "import numpy as np\n",
    "import matplotlib.pyplot as plt\n",
    "\n",
    "x = np.linspace(-10,20,50)\n",
    "c = [5,10,15,20]\n",
    "\n",
    "\n",
    "plt.plot(f_cost(x,c[0]))\n",
    "plt.plot(f_cost(x,c[1]))\n",
    "plt.plot(f_cost(x,c[2]))\n",
    "plt.plot(f_cost(x,c[3]))\n",
    "\n",
    "plt.grid(True)\n",
    "plt.show()\n"
   ]
  },
  {
   "cell_type": "markdown",
   "id": "twelve-queensland",
   "metadata": {},
   "source": [
    "## 2a. Para cual `c` esta funcion no tiene raices?"
   ]
  },
  {
   "cell_type": "markdown",
   "id": "matched-arrival",
   "metadata": {},
   "source": [
    "\n",
    "Como se ve en la gráfica, solo la funcion 1, con c = 5 no tiene raices, ya que nunca se cruza con el eje horizontal. \n"
   ]
  },
  {
   "cell_type": "markdown",
   "id": "blocked-sierra",
   "metadata": {},
   "source": [
    "## 3. \n",
    "Cree una función llamada `root_finding()` que devuelva el valor de la raíz (si existiera) para cada parametro `c` (pense `Newton` o `bisecion`). Usando esta funcion vamos a buscar primero raiz izquierda y despues raiz derecha."
   ]
  },
  {
   "cell_type": "code",
   "execution_count": 3,
   "id": "capital-advocate",
   "metadata": {},
   "outputs": [
    {
     "name": "stdout",
     "output_type": "stream",
     "text": [
      "Puntos iniciales incorrectos para <function f_5 at 0x000001E9FEA343A0> 9424\n",
      "False 6.23606797749979 11.6234753829798 16.745966692414836\n"
     ]
    }
   ],
   "source": [
    "# tu codigo:\n",
    "def f_5(x):\n",
    "    return f_cost(x,5)\n",
    "def f_10(x):\n",
    "    return f_cost(x,10)\n",
    "def f_15(x):\n",
    "    return f_cost(x,15)\n",
    "def f_20(x):\n",
    "    return f_cost(x,20)\n",
    "\n",
    "def root_finding( f, a, b, Nmax, printer=False ):\n",
    "    #Verificando si a y b corresponden a un intervalo apropiado\n",
    "    if f(a)*f(b)>0:\n",
    "        print(\"Puntos iniciales incorrectos para\", f,f(a)*f(b))\n",
    "        return False\n",
    "    #Se asignan los valores a los extremos\n",
    "    ai = a\n",
    "    bi = b\n",
    "    #Iteraciones\n",
    "    n = 1\n",
    "    while n<=Nmax:\n",
    "        #Bisección\n",
    "        pi = (ai+bi)/2.0\n",
    "        #Evaluando la funcion en pi\n",
    "        if printer:\n",
    "            print (\"Valor de %d iteración:\"%(n),pi)\n",
    "        #Condicion A\n",
    "        if f(pi)*f(ai)>0:\n",
    "            ai = pi\n",
    "        #Condicion B\n",
    "        elif f(pi)*f(ai)<0:\n",
    "            bi = pi\n",
    "        #Condicion C: repetir el bucle\n",
    "        n+=1\n",
    "    #Resultado\n",
    "    return pi\n",
    "\n",
    "result1 = root_finding(f_5, 2, 50, 100, False)\n",
    "result2 = root_finding(f_10, 2, 50, 100, False)\n",
    "result3 = root_finding(f_15, 2, 50, 100, False)\n",
    "result4 = root_finding(f_20, 2, 50, 100, False)\n",
    "print(result1,result2,result3,result4)\n",
    "#print(\"Error absoluto\", abs((2**(1/3.0)-result)))\n",
    "\n"
   ]
  },
  {
   "cell_type": "markdown",
   "id": "german-florida",
   "metadata": {},
   "source": [
    "Con el objetivo de simplificar el código y hacelerar el proceso, se usará un método simplificado."
   ]
  },
  {
   "cell_type": "code",
   "execution_count": 4,
   "id": "acceptable-contract",
   "metadata": {},
   "outputs": [],
   "source": [
    "import scipy.optimize as optimize\n",
    "def root_finding2(f_cost, start,c):\n",
    "    try:\n",
    "        root = optimize.newton(f_cost,start,args=(c,))\n",
    "    except:\n",
    "        root=np.nan\n",
    "    return root\n"
   ]
  },
  {
   "cell_type": "markdown",
   "id": "systematic-content",
   "metadata": {},
   "source": [
    "## 4a. \n",
    "Primero vamos a mirar el comportamiento de raiz de lado izquierda: Defina el vector `c_vec` que contiene 50 valores de 5 a 100. En el loop, llame a la función `root_finding()` para cada valor `c` en el vector `c_vec`. Guarda los resultados en variable `left_roots`"
   ]
  },
  {
   "cell_type": "code",
   "execution_count": 5,
   "id": "immune-hydrogen",
   "metadata": {},
   "outputs": [],
   "source": [
    "# tu codigo:\n",
    "\n",
    "c_vec = np.linspace(5,100,50)\n",
    "leftroots = []\n",
    "start = 2\n",
    "for c in c_vec:\n",
    "    try:\n",
    "        raiz = root_finding2(f_cost,start,c)\n",
    "    except:\n",
    "        raiz = np.nan\n",
    "        \n",
    "    leftroots.append(raiz)"
   ]
  },
  {
   "cell_type": "markdown",
   "id": "smaller-watershed",
   "metadata": {},
   "source": [
    "## 4b \n",
    "Hacer un gráfico de raíz izquierda vs c"
   ]
  },
  {
   "cell_type": "code",
   "execution_count": 6,
   "id": "optional-seafood",
   "metadata": {},
   "outputs": [
    {
     "data": {
      "text/plain": [
       "Text(0, 0.5, 'raiz')"
      ]
     },
     "execution_count": 6,
     "metadata": {},
     "output_type": "execute_result"
    },
    {
     "data": {
      "image/png": "[encoded data removed]",
      "text/plain": [
       "<Figure size 432x288 with 1 Axes>"
      ]
     },
     "metadata": {
      "needs_background": "light"
     },
     "output_type": "display_data"
    }
   ],
   "source": [
    "# tu codigo:\n",
    "\n",
    "fig, ax =plt.subplots(1,1)\n",
    "ax.scatter(c_vec,leftroots)\n",
    "ax.grid('True')\n",
    "ax.set_xlabel('c')\n",
    "ax.set_ylabel('raiz')\n",
    "\n"
   ]
  },
  {
   "cell_type": "markdown",
   "id": "encouraging-yellow",
   "metadata": {},
   "source": [
    "## 5a. \n",
    "Ahora vamos a mirar el comportamiento de raiz de lado derecha: Defina el vector `c_vec` que contiene 50 valores de 5 a 100. En el loop, llame a la función `root_finding()` para cada valor `c` en el vector `c_vec`. Guarda los resultados en variable `right_roots`."
   ]
  },
  {
   "cell_type": "code",
   "execution_count": 7,
   "id": "black-limitation",
   "metadata": {},
   "outputs": [],
   "source": [
    "\n",
    "c_vec = np.linspace(5,100,50)\n",
    "leftroots = []\n",
    "start = 50\n",
    "for c in c_vec:\n",
    "    try:\n",
    "        raiz = root_finding2(f_cost,start,c)\n",
    "    except:\n",
    "        raiz = np.nan\n",
    "        \n",
    "    leftroots.append(raiz)"
   ]
  },
  {
   "cell_type": "markdown",
   "id": "massive-cooperative",
   "metadata": {},
   "source": [
    "## 5b\n",
    "* Hacer un gráfico de raíz derecha vs c"
   ]
  },
  {
   "cell_type": "code",
   "execution_count": 8,
   "id": "original-battery",
   "metadata": {},
   "outputs": [
    {
     "data": {
      "text/plain": [
       "Text(0, 0.5, 'raiz')"
      ]
     },
     "execution_count": 8,
     "metadata": {},
     "output_type": "execute_result"
    },
    {
     "data": {
      "image/png": "[encoded data removed]",
      "text/plain": [
       "<Figure size 432x288 with 1 Axes>"
      ]
     },
     "metadata": {
      "needs_background": "light"
     },
     "output_type": "display_data"
    }
   ],
   "source": [
    "fig, ax =plt.subplots(1,1)\n",
    "ax.scatter(c_vec,leftroots)\n",
    "ax.grid('True')\n",
    "ax.set_xlabel('c')\n",
    "ax.set_ylabel('raiz')\n"
   ]
  },
  {
   "cell_type": "markdown",
   "id": "insured-nation",
   "metadata": {},
   "source": [
    "## 6. \n",
    "Pregunta:\n",
    "* este cierto *rango* para cual se obtiene un comportamiento complejo esta convergente o divergente cuando `c` es creciente\n",
    "* si este rango esta convergiendo, ¿a qué valor?\n",
    "* si este rango esta divergente, como esta divergente (lineal, cuadrático, diferente)"
   ]
  },
  {
   "cell_type": "markdown",
   "id": "advanced-stuart",
   "metadata": {},
   "source": [
    "### Respuesta:\n",
    "Note que para la raiz derecha esta converge a 1 para valores mayores de c, mientras que la izquierda no deja de crecer linealmente.\n"
   ]
  },
  {
   "cell_type": "markdown",
   "id": "diverse-spencer",
   "metadata": {},
   "source": [
    "# Feedback:\n",
    "\n",
    "`Correct implementation of the f_cost function + labeled plot \t  (max 2.0p):\t2.0p`\n",
    "`Correct implementation of the root finding function \t\t       (max 2.0p):\t2.0p`\n",
    "`Correct result of the evolution of the left roots (+ plot)\t     (max 2.0p):\t2.0p`\n",
    "`Correct result of the evolution of the right roots (+ plot)\t    (max 2.0p):\t2.0p`\n",
    "`Correct conclusion of the range behavious\t\t\t              (max 2.0p):\t2.0p`\n",
    "\n",
    "`- Total:                                                          (max 10.0p):   10.0p`\n",
    "`"
   ]
  },
  {
   "cell_type": "code",
   "execution_count": null,
   "id": "dependent-thumb",
   "metadata": {},
   "outputs": [],
   "source": []
  }
 ],
 "metadata": {
  "kernelspec": {
   "display_name": "Python 3",
   "language": "python",
   "name": "python3"
  },
  "language_info": {
   "codemirror_mode": {
    "name": "ipython",
    "version": 3
   },
   "file_extension": ".py",
   "mimetype": "text/x-python",
   "name": "python",
   "nbconvert_exporter": "python",
   "pygments_lexer": "ipython3",
   "version": "3.7.2"
  }
 },
 "nbformat": 4,
 "nbformat_minor": 5
}
