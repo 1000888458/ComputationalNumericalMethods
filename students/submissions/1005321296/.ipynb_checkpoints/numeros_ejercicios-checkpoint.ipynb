{
 "cells": [
  {
   "cell_type": "markdown",
   "id": "varying-profile",
   "metadata": {},
   "source": [
    "# Exercicios sobre numeros :"
   ]
  },
  {
   "cell_type": "markdown",
   "id": "micro-pathology",
   "metadata": {},
   "source": [
    "#### 1. Imprime primero 10 numeros naturales (1,2,3,4,5,6,7,8,9,10) usando \"for loop\" y print ()"
   ]
  },
  {
   "cell_type": "code",
   "execution_count": 1,
   "id": "indian-phrase",
   "metadata": {},
   "outputs": [
    {
     "name": "stdout",
     "output_type": "stream",
     "text": [
      "1\n",
      "2\n",
      "3\n",
      "4\n",
      "5\n",
      "6\n",
      "7\n",
      "8\n",
      "9\n",
      "10\n"
     ]
    }
   ],
   "source": [
    "x = 0\n",
    "for a in range(1,11):\n",
    "    x = x + a\n",
    "    print (a)"
   ]
  },
  {
   "cell_type": "markdown",
   "id": "featured-saying",
   "metadata": {},
   "source": [
    "#### 2. Imprime primero 10 numeros naturales (1,2,3,4,5,6,7,8,9,10)  usando \"while loop\" y print ()"
   ]
  },
  {
   "cell_type": "code",
   "execution_count": 2,
   "id": "conservative-colorado",
   "metadata": {},
   "outputs": [
    {
     "name": "stdout",
     "output_type": "stream",
     "text": [
      "1\n",
      "2\n",
      "3\n",
      "4\n",
      "5\n",
      "6\n",
      "7\n",
      "8\n",
      "9\n",
      "10\n"
     ]
    }
   ],
   "source": [
    "x = 0\n",
    "while x < 10:\n",
    "    x = x + 1\n",
    "    print (x)"
   ]
  },
  {
   "cell_type": "markdown",
   "id": "naughty-lecture",
   "metadata": {},
   "source": [
    "#### 3. Calcular la soma de numeros (1+2+3+4+5+6+7+8+9+10) usando \"for loop\" y guarda resultado en variable \"my_result\""
   ]
  },
  {
   "cell_type": "code",
   "execution_count": 3,
   "id": "fewer-coral",
   "metadata": {},
   "outputs": [
    {
     "name": "stdout",
     "output_type": "stream",
     "text": [
      "55\n"
     ]
    }
   ],
   "source": [
    "my_result = 0\n",
    "for a in range(11):\n",
    "    my_result = my_result + a\n",
    "print (my_result)"
   ]
  },
  {
   "cell_type": "markdown",
   "id": "korean-japanese",
   "metadata": {},
   "source": [
    "#### 4. Calcular la soma de numeros (1+2+3+4+5+6+7+8+9+10) usando \"while loop\" y guardar resultado en variable \"my_result\""
   ]
  },
  {
   "cell_type": "code",
   "execution_count": 4,
   "id": "associate-gambling",
   "metadata": {},
   "outputs": [
    {
     "name": "stdout",
     "output_type": "stream",
     "text": [
      "55\n"
     ]
    }
   ],
   "source": [
    "x = 0\n",
    "my_result = 0\n",
    "while x < 10:\n",
    "    x = x + 1\n",
    "    my_result = my_result + x\n",
    "print (my_result)\n",
    "    "
   ]
  },
  {
   "cell_type": "markdown",
   "id": "manufactured-missouri",
   "metadata": {},
   "source": [
    "#### 5. Calcular la soma de numeros par (2+4+6+8+10.. + ...100) usando \"for loop\" y guardar resultado en variable \"my_result\" (pista: usa condicion \"if\" y \"%\")"
   ]
  },
  {
   "cell_type": "code",
   "execution_count": 5,
   "id": "fewer-plate",
   "metadata": {},
   "outputs": [
    {
     "name": "stdout",
     "output_type": "stream",
     "text": [
      "2550\n"
     ]
    }
   ],
   "source": [
    "my_result = 0\n",
    "for a in range(2, 102, 2):\n",
    "    my_result = my_result + a\n",
    "print (my_result)"
   ]
  },
  {
   "cell_type": "markdown",
   "id": "judicial-mayor",
   "metadata": {},
   "source": [
    "#### 6. Calcular la soma de numeros impar (1+3+5+7+9+... + ...99) usando \"while loop\" y guardar resultado en variable \"my_result\" (pista: usa condicion \"if\" y \"%\")"
   ]
  },
  {
   "cell_type": "code",
   "execution_count": 6,
   "id": "shaped-comparison",
   "metadata": {},
   "outputs": [
    {
     "name": "stdout",
     "output_type": "stream",
     "text": [
      "2500\n"
     ]
    }
   ],
   "source": [
    "my_result = 0\n",
    "a = 1\n",
    "while a <= 99:\n",
    "    my_result = my_result + a\n",
    "    a = a + 2\n",
    "print (my_result)"
   ]
  },
  {
   "cell_type": "markdown",
   "id": "charitable-optimization",
   "metadata": {},
   "source": [
    "#### 7. Definir una function que se llama func_sum_even_odd(b) que recibe un parametro \"b\" - valor numerico. La funcion calcula soma de numeros pares y numeros impares separamente entre 0 y b (los dos valores incluidos) . La funcion guarda resultados en dos variables en sum_even, sum_odd y devuelve ambos usando \"return\". (usa metodo: while)\n",
    "\n",
    "ejemplo de ejecucion:   \n",
    "sum_even,sum_odd = func_sum_even_odd(10)  \n",
    "print(sum_even,sum_odd)  \n",
    "30,25  \n",
    "\n",
    "#### Pero si \"b\" no es ni integer ni float funcion devuelve sum_even=0,y sum_odd=0 y imprime mensaje: \"argument must be an integer or float\"   (usa: \"isinstance\" o negacion de isinstance: \"not isinstance\" conjunto con operador logico \"or\" para verificar si el argumento es int of float)\n",
    "\n",
    "ejemplo de ejecucion:  \n",
    "sum_even,sum_odd = func_sum_even_odd('z')  \n",
    "\"argument must be an integer or float\"  "
   ]
  },
  {
   "cell_type": "code",
   "execution_count": 7,
   "id": "prerequisite-distinction",
   "metadata": {},
   "outputs": [],
   "source": [
    "def func_sum_even_odd (b):\n",
    "    sum_even = 0\n",
    "    sum_odd = 0\n",
    "    if not isinstance(b, float) and not isinstance(b, int): \n",
    "        print (\"argument must be an integer or float\")\n",
    "        return (0, 0)\n",
    "    else:\n",
    "        a = 1\n",
    "        while a <= b:\n",
    "            sum_odd = sum_odd + a\n",
    "            a = a + 2\n",
    "        a = 0\n",
    "        while a <= b:\n",
    "            sum_even = sum_even + a\n",
    "            a = a + 2\n",
    "        \n",
    "    return(sum_even, sum_odd)"
   ]
  },
  {
   "cell_type": "code",
   "execution_count": 8,
   "id": "necessary-speed",
   "metadata": {},
   "outputs": [
    {
     "name": "stdout",
     "output_type": "stream",
     "text": [
      "306 289\n"
     ]
    }
   ],
   "source": [
    "sum_even,sum_odd = func_sum_even_odd(34.0)\n",
    "print(sum_even,sum_odd)"
   ]
  },
  {
   "cell_type": "markdown",
   "id": "intended-transcript",
   "metadata": {},
   "source": [
    "#### 8. Modifica funcion anterior y usa conjunto: try:... except:... (mira arriva en el texto de la classe)\n",
    "try:   \n",
    "--->intenta hacer si no sale error  \n",
    "except:  \n",
    "--->hace otra cosa si sale error    "
   ]
  },
  {
   "cell_type": "code",
   "execution_count": 9,
   "id": "virgin-bleeding",
   "metadata": {},
   "outputs": [],
   "source": [
    "def func_sum_even_odd2 (b):\n",
    "    sum_odd2 = 0\n",
    "    sum_even2 = 0\n",
    "    try:\n",
    "        \n",
    "        a = 1\n",
    "        while a <= b:\n",
    "            sum_odd2 = sum_odd2 + a\n",
    "            a = a + 2\n",
    "\n",
    "        a = 0\n",
    "        while a <= b:\n",
    "            sum_even2 = sum_even2 + a\n",
    "            a = a + 2\n",
    "\n",
    "        return(sum_even2, sum_odd2)\n",
    "        \n",
    "    except:\n",
    "        print (\"argument must be an integer or float\")\n",
    "        return (0,0)\n"
   ]
  },
  {
   "cell_type": "code",
   "execution_count": 10,
   "id": "unique-loading",
   "metadata": {},
   "outputs": [
    {
     "name": "stdout",
     "output_type": "stream",
     "text": [
      "812 784\n"
     ]
    }
   ],
   "source": [
    "sum_even2,sum_odd2 = func_sum_even_odd2(56.0)\n",
    "print(sum_even2,sum_odd2)"
   ]
  },
  {
   "cell_type": "code",
   "execution_count": null,
   "id": "qualified-hollow",
   "metadata": {},
   "outputs": [],
   "source": []
  },
  {
   "cell_type": "code",
   "execution_count": null,
   "id": "pleasant-reunion",
   "metadata": {},
   "outputs": [],
   "source": []
  }
 ],
 "metadata": {
  "kernelspec": {
   "display_name": "Python 3",
   "language": "python",
   "name": "python3"
  },
  "language_info": {
   "codemirror_mode": {
    "name": "ipython",
    "version": 3
   },
   "file_extension": ".py",
   "mimetype": "text/x-python",
   "name": "python",
   "nbconvert_exporter": "python",
   "pygments_lexer": "ipython3",
   "version": "3.7.2"
  }
 },
 "nbformat": 4,
 "nbformat_minor": 5
}
