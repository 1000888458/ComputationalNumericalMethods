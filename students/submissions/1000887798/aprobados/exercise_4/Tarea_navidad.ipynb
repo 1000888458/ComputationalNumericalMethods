{
  "nbformat": 4,
  "nbformat_minor": 0,
  "metadata": {
    "colab": {
      "name": "Tarea navidad.ipynb",
      "provenance": []
    },
    "kernelspec": {
      "name": "python3",
      "display_name": "Python 3"
    },
    "language_info": {
      "name": "python"
    }
  },
  "cells": [
    {
      "cell_type": "markdown",
      "source": [
        "# TAREA PARA NAVIDAD: \n",
        "* hacer el mismo ejemplo y encuentra raiz para $f(x)=x^2 - 11$\n",
        "* construye su propia función de método de bisección usando el loop **while**\n",
        "* hacer plot de evolucion de approximacion (append results to an initially empty list of x_n)\n",
        "* construye su propia función de método Newton-Rapson usando el loop **while**\n",
        "* hacer plot de evolucion de approximacion (append results to an initially empty list of x_n)"
      ],
      "metadata": {
        "id": "w8F3AuJz85Kt"
      }
    },
    {
      "cell_type": "markdown",
      "source": [
        "\n",
        "\n",
        "*   Primer punto\n",
        "\n"
      ],
      "metadata": {
        "id": "GxQWll3AC-tg"
      }
    },
    {
      "cell_type": "code",
      "execution_count": 187,
      "metadata": {
        "id": "vs9LHnDe8nO1"
      },
      "outputs": [],
      "source": [
        "def func(x):                          #Definimos la funcion a la que vamos a encontrar la raiz\n",
        "  return x**2-11\n",
        "\n",
        "\n",
        "def func_prime(x):                    #Definimos la derivada de la funcion anterior\n",
        "  return 2*x"
      ]
    },
    {
      "cell_type": "code",
      "source": [
        "xr = 4                #Damos un valor para el punto de la derecha \n",
        "\n",
        "xn = xr -func(xr)/func_prime(xr)      #Estitamos el valor mediante el metodo Newton-Rapson\n",
        "print('El valor de la raiz de la funcion', 'f(x) = x^2 -11', ' es: ' , xn)                             #Imprimimos el valor obtenido para la raiz "
      ],
      "metadata": {
        "colab": {
          "base_uri": "https://localhost:8080/"
        },
        "id": "64a3qUfhAMVT",
        "outputId": "4a92d023-690f-40ec-b868-06e9a185b812"
      },
      "execution_count": 188,
      "outputs": [
        {
          "output_type": "stream",
          "name": "stdout",
          "text": [
            "El valor de la raiz de la funcion f(x) = x^2 -11  es:  3.375\n"
          ]
        }
      ]
    },
    {
      "cell_type": "markdown",
      "source": [
        "\n",
        "\n",
        "*   Segundo punto\n"
      ],
      "metadata": {
        "id": "Y0Sh_rZFC0Pc"
      }
    },
    {
      "cell_type": "code",
      "source": [
        "import numpy as np\n",
        "\n",
        "#Vamos a crear una función que nos permita encontrar las raices mediante el método de bisección\n",
        "\n",
        "#Definimos nuestro intervalo inicial\n",
        "x_l = 1\n",
        "x_r  = 10\n",
        "#Definimos la tolerancia (exactitud) con la que realizaremos el procedimiento.\n",
        "tol = 0.0001\n",
        "\n",
        "#Vamos a iterar el procedimiento hasta obtener un resultado mas preciso\n",
        "# tol = 0.0001\n",
        "tramo = x_r-x_l                  \n",
        "while not tramo< tol:\n",
        "  x_n = (x_l + x_r)/2             #Vamos definiendo los nuevos valores de los extremos\n",
        "  signo = np.sign(func(x_l)) * np.sign(func(x_n))     #Dependiendo el signo que obtenemos se hace el reemplazo en los valores inciciales correspondientes\n",
        "  if signo < 0 :                # Si el valor obtenido es negativo se hace el reemplazo en el limite derecho (x_r)\n",
        "    x_r = x_n\n",
        "    x_l = x_l\n",
        "  if signo > 0 :                #Caso contrario  se reemplaza en el izquiero ( x_l)\n",
        "    x_l = x_n\n",
        "    x_r = x_r\n",
        "  tramo = x_r-x_l\n",
        "\n",
        "print('El valor de la raiz de la funcion es de ' , x_n)"
      ],
      "metadata": {
        "colab": {
          "base_uri": "https://localhost:8080/"
        },
        "id": "6_m17LmTCx6U",
        "outputId": "a21058c0-e010-48ec-adf4-6d7b6b70f150"
      },
      "execution_count": 189,
      "outputs": [
        {
          "output_type": "stream",
          "name": "stdout",
          "text": [
            "El valor de la raiz de la funcion es de  3.3166732788085938\n"
          ]
        }
      ]
    },
    {
      "cell_type": "markdown",
      "source": [
        "*   Tercer punto"
      ],
      "metadata": {
        "id": "1WlqhgjBh3Nn"
      }
    },
    {
      "cell_type": "code",
      "source": [
        "#Vamos a crear una función que nos permita encontrar las raices mediante el método de bisección\n",
        "\n",
        "#Definimos nuestro intervalo inicial\n",
        "x_l = 3\n",
        "x_r  = 4\n",
        "#Definimos la tolerancia (exactitud) con la que realizaremos el procedimiento.\n",
        "tol = 0.0001\n",
        "\n",
        "\n",
        "tramo = x_r-x_n   \n",
        "datos = []    #Creamos una lista vacia, donde agregaremos los valores que vamos obteniendo de la la posible raiz            \n",
        "while not tramo< tol:\n",
        "  x_n = (x_l + x_r)/2 \n",
        "  datos.append(x_n)            #agregamos a la lista vacia (datos) los valores que vamos obteniendo\n",
        "  signo = np.sign(func(x_l)) * np.sign(func(x_n))     \n",
        "  if signo < 0 :                \n",
        "    x_r = x_n\n",
        "    x_l = x_l\n",
        "  if signo > 0 :               \n",
        "    x_l = x_n\n",
        "    x_r = x_r\n",
        "  tramo = x_r-x_l"
      ],
      "metadata": {
        "id": "f4A2e-01h_lo"
      },
      "execution_count": 190,
      "outputs": []
    },
    {
      "cell_type": "code",
      "source": [
        "import matplotlib.pyplot as plt\n",
        "xi = np.array(datos)\n",
        "yi = func(np.array(datos))\n",
        "\n",
        "plt.style.use('seaborn')\n",
        "plt.title('Valores encontrados para la aproximacion al valor de la raiz de la funcion')\n",
        "plt.plot(xi,yi)\n",
        "plt.plot(xi,yi,'o',color = 'orange',label = 'Valores')\n",
        "plt.axhline(0, color=\"black\")\n",
        "plt.legend()\n"
      ],
      "metadata": {
        "colab": {
          "base_uri": "https://localhost:8080/",
          "height": 379
        },
        "id": "FYUoWVISjy3C",
        "outputId": "9a03715b-3e5d-4a9f-aaf6-f1cb2e890962"
      },
      "execution_count": 191,
      "outputs": [
        {
          "output_type": "execute_result",
          "data": {
            "text/plain": [
              "<matplotlib.legend.Legend at 0x7f6551032ed0>"
            ]
          },
          "metadata": {},
          "execution_count": 191
        },
        {
          "output_type": "display_data",
          "data": {
            "image/png": "[encoded data removed]",
            "text/plain": [
              "<Figure size 576x396 with 1 Axes>"
            ]
          },
          "metadata": {}
        }
      ]
    },
    {
      "cell_type": "markdown",
      "source": [
        "*   Cuarto punto y   Quinto punto"
      ],
      "metadata": {
        "id": "j4VKgZdTnY3V"
      }
    },
    {
      "cell_type": "code",
      "source": [
        "tram = tole*2\n",
        "tole = 0.000001\n",
        "xr = 4\n",
        "n_r = []\n",
        "while   tram >= tole :\n",
        "  xn = xr - (func(xr) / func_prime(xr))\n",
        "  n_r.append(xn)\n",
        "  tram = abs(xn - xr)\n",
        "  xr = xn\n",
        "print('La raiz de la funcion es : ' , xn)"
      ],
      "metadata": {
        "colab": {
          "base_uri": "https://localhost:8080/"
        },
        "id": "WIkglrmSnYaj",
        "outputId": "6ef21370-d713-404f-b0e5-c9b7f66a8a45"
      },
      "execution_count": 203,
      "outputs": [
        {
          "output_type": "stream",
          "name": "stdout",
          "text": [
            "La raiz de la funcion es :  3.3166247903554003\n"
          ]
        }
      ]
    },
    {
      "cell_type": "code",
      "source": [
        "n_r"
      ],
      "metadata": {
        "colab": {
          "base_uri": "https://localhost:8080/"
        },
        "id": "nEiZmnaMLJqS",
        "outputId": "de6153a0-938d-4f06-8468-bcb1329a58d4"
      },
      "execution_count": 204,
      "outputs": [
        {
          "output_type": "execute_result",
          "data": {
            "text/plain": [
              "[3.375, 3.3171296296296298, 3.3166248287715487, 3.3166247903554003]"
            ]
          },
          "metadata": {},
          "execution_count": 204
        }
      ]
    },
    {
      "cell_type": "code",
      "source": [
        "x=np.array(n_r)\n",
        "y=func(np.array(n_r))\n",
        "plt.plot(x,y)\n",
        "plt.plot(x,y,'o')\n",
        "plt.axhline(0,color = 'black')\n"
      ],
      "metadata": {
        "colab": {
          "base_uri": "https://localhost:8080/",
          "height": 364
        },
        "id": "OLtbH2rwKccA",
        "outputId": "232a7979-191a-4d9a-98a2-c6f61da0a642"
      },
      "execution_count": 205,
      "outputs": [
        {
          "output_type": "execute_result",
          "data": {
            "text/plain": [
              "<matplotlib.lines.Line2D at 0x7f6550e91710>"
            ]
          },
          "metadata": {},
          "execution_count": 205
        },
        {
          "output_type": "display_data",
          "data": {
            "image/png": "[encoded data removed]",
            "text/plain": [
              "<Figure size 576x396 with 1 Axes>"
            ]
          },
          "metadata": {}
        }
      ]
    },
    {
      "cell_type": "code",
      "source": [
        "import scipy.optimize as opt\n",
        "opt.newton(func,xr,fprime = func_prime, tol=tole)"
      ],
      "metadata": {
        "colab": {
          "base_uri": "https://localhost:8080/"
        },
        "id": "FHTlPJXQInN_",
        "outputId": "8b631418-64b2-4add-c0b0-ab632ca0a60c"
      },
      "execution_count": 195,
      "outputs": [
        {
          "output_type": "execute_result",
          "data": {
            "text/plain": [
              "3.3166247903554"
            ]
          },
          "metadata": {},
          "execution_count": 195
        }
      ]
    }
  ]
}