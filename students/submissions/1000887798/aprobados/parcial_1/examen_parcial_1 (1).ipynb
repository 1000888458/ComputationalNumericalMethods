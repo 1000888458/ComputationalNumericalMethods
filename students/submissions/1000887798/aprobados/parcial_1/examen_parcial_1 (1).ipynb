{
  "cells": [
    {
      "cell_type": "markdown",
      "id": "impossible-command",
      "metadata": {
        "id": "impossible-command"
      },
      "source": [
        "# Examen parcial 1 (Python basico y visualizaciones)\n",
        "* Antes de enviar el archivo, $\\textbf{reiniciar y ejecutar el kernel}$ para ver que el archivo se compila sin errores\n",
        "* enviar el archivo jupyter sin anexos antes de las 10am del 17.12.2021 a mi dirección de correo electrónico: michal.hemmerling@udea.edu.co "
      ]
    },
    {
      "cell_type": "markdown",
      "id": "chicken-fields",
      "metadata": {
        "id": "chicken-fields"
      },
      "source": [
        "# Cada de los dos ejercicios abajo vale 100%, \n",
        "* usted puede escojer cual ejercicio quiere hacer. \n",
        "* si hace dos ejercisios en la mitad tambien gana 100%\n",
        "* si hace los dos ejercicios completos, extra puntos voy a pasar para resultado de proximo parcial"
      ]
    },
    {
      "cell_type": "markdown",
      "id": "conceptual-swedish",
      "metadata": {
        "id": "conceptual-swedish"
      },
      "source": [
        "## Ejercicio 1a. Calcular una soma (Taylor aproximacion de funcion cos) usando loop \n",
        "\n",
        "\n",
        "$$cos(x)=\\sum_{k=0}^{\\infty}\\frac{(-1)^k x^{2k}}{(2k)!}$$ \n",
        "\n",
        "1) usando loop for calcular valor de cos(0.2) para k=2 (en loop k=0,1,2)\n",
        "* (puede comparar su resultado con $cos(x)=1 - \\frac{x^2}{2!}  + \\frac{x^4}{4!}$\n",
        "* (para hacer factorial-! usa: import math, math.factorial)\n",
        "\n",
        "2) crear una funcion cos_taylor(x,k) que acepta dos parametros x y k y vuelve valor de cos(x) para dado numero de termos k\n",
        "* (intenta con x=0.2 y k=2 para comparar con resultado de punto 1)\n",
        "\n",
        "3) crear un vector xvec que tiene 100 elementos en rango de $-\\pi$: $\\pi$ y usando loop for para cada elemento de este vector llama la funcion cos_taylor(x,k) y guarda resultados en una lista \"cos_approx=[]\" usando methodo append (cos_approx.append()). usa valor de k=3 \n",
        "* (pista sobre loop: for x in xvec:...)\n",
        "\n",
        "4) hacer visualizacion de dos curvas en mismo plot:\n",
        "* xvec vs cos_approx (label: Taylor approximation)\n",
        "* xvec vs np.cos(xvec) (label: cos(x))\n",
        "* usa labels para cada curva"
      ]
    },
    {
      "cell_type": "markdown",
      "id": "varying-colorado",
      "metadata": {
        "id": "varying-colorado"
      },
      "source": [
        "*la formula completa de approximacion\n",
        "<table><tr>\n",
        "<td> <img src=\"imgs/maclaurin_cos.png\" width=\"400\" /> </td>\n",
        "</tr></table>"
      ]
    },
    {
      "cell_type": "markdown",
      "id": "accomplished-increase",
      "metadata": {
        "id": "accomplished-increase"
      },
      "source": [
        "## Ejercicio 1b. Visualizar imagenes de un conjunto de datos\n",
        "\n"
      ]
    },
    {
      "cell_type": "markdown",
      "id": "institutional-dating",
      "metadata": {
        "id": "institutional-dating"
      },
      "source": [
        "#### Un documento 'images_32x32.mat' contiene ~ 25,000 de imagenes de digitos, images son en colores (cada imagen tiene 3 capas RGB) y cada imagen es 32x32 pixeles\n",
        "\n",
        "1) convertir este conjunto de tipo MAT a un dicionario\n",
        "* (import scipy.io,   \n",
        "   imgs_dict = scipy.io.loadmat(images_32x32.mat)\n",
        "\n",
        "2) muestra que llaves tiene este dicionario y muestra que dimensiones tienen las llaves **X** y **y**\n",
        "\n",
        "3) visualiza aleatoriamente 10 de estos imagenes en una forma de matriz 1x10 (fila de 10 imagenes)\n",
        "* los imagenes son guardados en llave 'X' de este dicionario\n",
        "\n",
        "4) convertir las imágenes en color a escala de grises promediando una de las dimensiones y volver a mostrar las mismos 10 imagenes aleatorios en otra matriz de 1x10 (fila de 10 imagenes)\n",
        "\n",
        "5) seria bien que los titulos de los 10 imagenes coresponden a etiquietas de llave \"y\""
      ]
    },
    {
      "cell_type": "markdown",
      "source": [
        "#**Ejercicio 1a**"
      ],
      "metadata": {
        "id": "h--uH_8S12BN"
      },
      "id": "h--uH_8S12BN"
    },
    {
      "cell_type": "markdown",
      "source": [
        "**1**"
      ],
      "metadata": {
        "id": "5z1azAD417fm"
      },
      "id": "5z1azAD417fm"
    },
    {
      "cell_type": "code",
      "source": [
        "import numpy as np\n",
        "import math\n",
        "\n",
        "x=1\n",
        "for k in range(4):\n",
        "  i=(((-1)**k)*x**(2*k))/math.factorial(2*k)\n",
        "  cos_x += i\n",
        "cos_x\n",
        "\n",
        "prueba = 1-(x**2/math.factorial(2))+(x**4/math.factorial(4))\n",
        "prueba, cos_x"
      ],
      "metadata": {
        "colab": {
          "base_uri": "https://localhost:8080/"
        },
        "id": "GOgFeuid19fm",
        "outputId": "d06febaa-693a-4416-9913-f04be73f6fa3"
      },
      "id": "GOgFeuid19fm",
      "execution_count": 161,
      "outputs": [
        {
          "output_type": "execute_result",
          "data": {
            "text/plain": [
              "(0.5416666666666666, 1.5203442666666667)"
            ]
          },
          "metadata": {},
          "execution_count": 161
        }
      ]
    },
    {
      "cell_type": "markdown",
      "source": [
        "**2**"
      ],
      "metadata": {
        "id": "7mxXUnBF5t8S"
      },
      "id": "7mxXUnBF5t8S"
    },
    {
      "cell_type": "code",
      "source": [
        "def cos_taylor(x,k):\n",
        "  sum=0\n",
        "  for k in range(k+1):\n",
        "    term=(((-1)**k)*x**(2*k))/math.factorial(2*k)\n",
        "    sum += term\n",
        "    return sum\n",
        "\n",
        "cos_taylor(0,4)"
      ],
      "metadata": {
        "colab": {
          "base_uri": "https://localhost:8080/"
        },
        "id": "UOIbfMQp5v_x",
        "outputId": "f1fa2965-1931-4a81-e4a1-3a5c176b4c98"
      },
      "id": "UOIbfMQp5v_x",
      "execution_count": 160,
      "outputs": [
        {
          "output_type": "execute_result",
          "data": {
            "text/plain": [
              "1.0"
            ]
          },
          "metadata": {},
          "execution_count": 160
        }
      ]
    },
    {
      "cell_type": "markdown",
      "source": [
        "#**Ejercicio 1b**\n",
        "\n"
      ],
      "metadata": {
        "id": "Bs01dvTXmwT6"
      },
      "id": "Bs01dvTXmwT6"
    },
    {
      "cell_type": "code",
      "execution_count": 2,
      "id": "interstate-addition",
      "metadata": {
        "colab": {
          "base_uri": "https://localhost:8080/"
        },
        "id": "interstate-addition",
        "outputId": "09e82d70-da0d-40ca-bcee-5a32627ef058"
      },
      "outputs": [
        {
          "output_type": "stream",
          "name": "stdout",
          "text": [
            "Drive already mounted at /content/gdrive/; to attempt to forcibly remount, call drive.mount(\"/content/gdrive/\", force_remount=True).\n"
          ]
        }
      ],
      "source": [
        "from google.colab import drive \n",
        "drive.mount('/content/gdrive/')"
      ]
    },
    {
      "cell_type": "markdown",
      "source": [
        "**1.**"
      ],
      "metadata": {
        "id": "1opbZ0P6nLBE"
      },
      "id": "1opbZ0P6nLBE"
    },
    {
      "cell_type": "code",
      "execution_count": 17,
      "id": "metropolitan-entry",
      "metadata": {
        "id": "metropolitan-entry"
      },
      "outputs": [],
      "source": [
        "import scipy.io\n",
        "imgs_dict = scipy.io.loadmat('/content/gdrive/MyDrive/Colab Notebooks/Métodos/images_32x32.mat')\n",
        "\n",
        "\n"
      ]
    },
    {
      "cell_type": "markdown",
      "source": [
        "**2**"
      ],
      "metadata": {
        "id": "C6Nkd50rnCuf"
      },
      "id": "C6Nkd50rnCuf"
    },
    {
      "cell_type": "code",
      "source": [
        "print('Las llaves que contiene el diccionario son: ',imgs_dict.keys())\n",
        "print('Las dimensiones de las llaves X y Y respectivamente son: ',imgs_dict['X'].shape,' ,  ', imgs_dict['y'].shape)"
      ],
      "metadata": {
        "colab": {
          "base_uri": "https://localhost:8080/"
        },
        "id": "Uv2AoyhNnPNb",
        "outputId": "93fedfb0-4d0e-4d01-c3ab-90bf3b1cd8ac"
      },
      "id": "Uv2AoyhNnPNb",
      "execution_count": 16,
      "outputs": [
        {
          "output_type": "stream",
          "name": "stdout",
          "text": [
            "Las llaves que contiene el diccionario son:  dict_keys(['__header__', '__version__', '__globals__', 'X', 'y'])\n",
            "Las dimensiones de las llaves X y Y respectivamente son:  (32, 32, 3, 26032)  ,   (26032, 1)\n"
          ]
        }
      ]
    },
    {
      "cell_type": "markdown",
      "source": [
        "**3**"
      ],
      "metadata": {
        "id": "b-CdDCRnno_n"
      },
      "id": "b-CdDCRnno_n"
    },
    {
      "cell_type": "code",
      "source": [
        "import matplotlib.pyplot as plt\n",
        "import numpy as np\n",
        "from sklearn import datasets\n",
        "from skimage import io\n",
        "\n",
        "\n",
        "\n",
        "fig,ax = plt.subplots(1,10 ,figsize = (12,12))\n",
        "for i in range(10):\n",
        "  fila = np.random.randint(0,26032)\n",
        "  img = imgs_dict['X'][:,:,:,fila].reshape(32,32,3)\n",
        "  number = imgs_dict['y'][fila,:]\n",
        "  #ax[0,i].imshow(img, aspect = 'auto')\n",
        "  ax[0,i].set_title(number)   \n"
      ],
      "metadata": {
        "colab": {
          "base_uri": "https://localhost:8080/",
          "height": 887
        },
        "id": "FNwvukannqeL",
        "outputId": "c6a8d921-fed1-4566-db49-b4b08582fff7"
      },
      "id": "FNwvukannqeL",
      "execution_count": 93,
      "outputs": [
        {
          "output_type": "error",
          "ename": "IndexError",
          "evalue": "ignored",
          "traceback": [
            "\u001b[0;31m---------------------------------------------------------------------------\u001b[0m",
            "\u001b[0;31mIndexError\u001b[0m                                Traceback (most recent call last)",
            "\u001b[0;32m<ipython-input-93-b4d55c3a2fbd>\u001b[0m in \u001b[0;36m<module>\u001b[0;34m()\u001b[0m\n\u001b[1;32m     12\u001b[0m   \u001b[0mnumber\u001b[0m \u001b[0;34m=\u001b[0m \u001b[0mimgs_dict\u001b[0m\u001b[0;34m[\u001b[0m\u001b[0;34m'y'\u001b[0m\u001b[0;34m]\u001b[0m\u001b[0;34m[\u001b[0m\u001b[0mfila\u001b[0m\u001b[0;34m,\u001b[0m\u001b[0;34m:\u001b[0m\u001b[0;34m]\u001b[0m\u001b[0;34m\u001b[0m\u001b[0;34m\u001b[0m\u001b[0m\n\u001b[1;32m     13\u001b[0m   \u001b[0;31m#ax[0,i].imshow(img, aspect = 'auto')\u001b[0m\u001b[0;34m\u001b[0m\u001b[0;34m\u001b[0m\u001b[0;34m\u001b[0m\u001b[0m\n\u001b[0;32m---> 14\u001b[0;31m   \u001b[0max\u001b[0m\u001b[0;34m[\u001b[0m\u001b[0;36m0\u001b[0m\u001b[0;34m,\u001b[0m\u001b[0mi\u001b[0m\u001b[0;34m]\u001b[0m\u001b[0;34m.\u001b[0m\u001b[0mset_title\u001b[0m\u001b[0;34m(\u001b[0m\u001b[0mnumber\u001b[0m\u001b[0;34m)\u001b[0m\u001b[0;34m\u001b[0m\u001b[0;34m\u001b[0m\u001b[0m\n\u001b[0m",
            "\u001b[0;31mIndexError\u001b[0m: too many indices for array: array is 1-dimensional, but 2 were indexed"
          ]
        },
        {
          "output_type": "display_data",
          "data": {
            "image/png": "[encoded data removed]",
            "text/plain": [
              "<Figure size 864x864 with 10 Axes>"
            ]
          },
          "metadata": {
            "needs_background": "light"
          }
        }
      ]
    },
    {
      "cell_type": "code",
      "source": [
        "img = imgs_dict['X'][:,:,:,3].reshape(32,32,3)\n",
        "img"
      ],
      "metadata": {
        "colab": {
          "base_uri": "https://localhost:8080/"
        },
        "id": "g84SCuL4roSf",
        "outputId": "da2645ff-f286-4749-bfb5-d3a4d8e84929"
      },
      "id": "g84SCuL4roSf",
      "execution_count": 84,
      "outputs": [
        {
          "output_type": "execute_result",
          "data": {
            "text/plain": [
              "array([[[130, 141, 160],\n",
              "        [129, 140, 159],\n",
              "        [127, 138, 159],\n",
              "        ...,\n",
              "        [131, 144, 161],\n",
              "        [131, 144, 161],\n",
              "        [131, 144, 161]],\n",
              "\n",
              "       [[137, 148, 163],\n",
              "        [133, 145, 161],\n",
              "        [131, 143, 162],\n",
              "        ...,\n",
              "        [134, 147, 164],\n",
              "        [134, 147, 164],\n",
              "        [134, 147, 165]],\n",
              "\n",
              "       [[148, 161, 171],\n",
              "        [142, 156, 168],\n",
              "        [140, 151, 167],\n",
              "        ...,\n",
              "        [141, 154, 171],\n",
              "        [141, 154, 171],\n",
              "        [141, 154, 171]],\n",
              "\n",
              "       ...,\n",
              "\n",
              "       [[ 95, 101, 128],\n",
              "        [107, 113, 140],\n",
              "        [117, 123, 149],\n",
              "        ...,\n",
              "        [125, 141, 157],\n",
              "        [134, 150, 166],\n",
              "        [142, 158, 173]],\n",
              "\n",
              "       [[118, 128, 150],\n",
              "        [126, 136, 159],\n",
              "        [132, 140, 163],\n",
              "        ...,\n",
              "        [119, 135, 151],\n",
              "        [129, 145, 161],\n",
              "        [138, 154, 169]],\n",
              "\n",
              "       [[144, 157, 176],\n",
              "        [145, 157, 177],\n",
              "        [143, 153, 173],\n",
              "        ...,\n",
              "        [118, 134, 150],\n",
              "        [128, 144, 159],\n",
              "        [137, 153, 168]]], dtype=uint8)"
            ]
          },
          "metadata": {},
          "execution_count": 84
        }
      ]
    }
  ],
  "metadata": {
    "kernelspec": {
      "display_name": "Python 3",
      "language": "python",
      "name": "python3"
    },
    "language_info": {
      "codemirror_mode": {
        "name": "ipython",
        "version": 3
      },
      "file_extension": ".py",
      "mimetype": "text/x-python",
      "name": "python",
      "nbconvert_exporter": "python",
      "pygments_lexer": "ipython3",
      "version": "3.7.2"
    },
    "colab": {
      "name": "examen_parcial_1.ipynb",
      "provenance": []
    }
  },
  "nbformat": 4,
  "nbformat_minor": 5
}