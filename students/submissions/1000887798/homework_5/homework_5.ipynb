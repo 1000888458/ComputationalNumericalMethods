{
  "nbformat": 4,
  "nbformat_minor": 0,
  "metadata": {
    "colab": {
      "name": "homework_5.ipynb",
      "provenance": [],
      "collapsed_sections": []
    },
    "kernelspec": {
      "name": "python3",
      "display_name": "Python 3"
    },
    "language_info": {
      "name": "python"
    }
  },
  "cells": [
    {
      "cell_type": "code",
      "source": [
        "print(\"Hello, this is Emmanuel's homework 5\")"
      ],
      "metadata": {
        "colab": {
          "base_uri": "https://localhost:8080/"
        },
        "id": "e50zih9uu8hy",
        "outputId": "d4440310-a488-4cb6-b54d-424774918141"
      },
      "execution_count": 55,
      "outputs": [
        {
          "output_type": "stream",
          "name": "stdout",
          "text": [
            "Hello, this is Emmanuel's homework 5\n"
          ]
        }
      ]
    },
    {
      "cell_type": "code",
      "execution_count": 56,
      "metadata": {
        "id": "mvHeeQ5iXEuY"
      },
      "outputs": [],
      "source": [
        "def cuadratic_interp(x,y,xinterp):\n",
        "  #Inicialmente vamos a calcular los coeficientes b0,b1 y b2\n",
        "  #Usaremos para cada uno de ellos, esta función que nos determinará el valor de cada uno de ellos\n",
        "  \n",
        "  def b_coeffs(i,k,x,y):                                             #Definimos función  \n",
        "      # i, k are the first and last INDEX of `x`\n",
        "      #If i+k>N\n",
        "      if i+k>=len(x):\n",
        "          return 0\n",
        "      #Zeroth divided difference\n",
        "      elif k == 0:\n",
        "          return y[i]\n",
        "      #If higher divided difference\n",
        "      else:\n",
        "          return (b_coeffs(i+1, k-1, x, y)-b_coeffs(i, k-1, x, y))/(x[i+k]-x[i])\n",
        "  b0 = b_coeffs(0,0,x,y)\n",
        "  b1 = b_coeffs(0,1,x,y)  \n",
        "  b2 = b_coeffs(0,2,x,y)\n",
        "  # Ya conociendo los coeficientes calculemos f2(xinterp)\n",
        "  f2 = b0 + b1*(xinterp - x[0]) + b2*(xinterp - x[0])*(xinterp- x[1])\n",
        "  return f2"
      ]
    },
    {
      "cell_type": "code",
      "source": [
        ""
      ],
      "metadata": {
        "id": "CDCHfETpmhMY"
      },
      "execution_count": 56,
      "outputs": []
    }
  ]
}