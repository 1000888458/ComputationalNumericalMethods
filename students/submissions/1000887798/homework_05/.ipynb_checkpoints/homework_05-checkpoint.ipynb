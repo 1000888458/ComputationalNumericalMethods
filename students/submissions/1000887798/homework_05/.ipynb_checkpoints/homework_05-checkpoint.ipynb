{
 "cells": [
  {
   "cell_type": "code",
   "execution_count": 55,
   "metadata": {
    "colab": {
     "base_uri": "https://localhost:8080/"
    },
    "id": "e50zih9uu8hy",
    "outputId": "d4440310-a488-4cb6-b54d-424774918141"
   },
   "outputs": [
    {
     "name": "stdout",
     "output_type": "stream",
     "text": [
      "Hello, this is Emmanuel's homework 5\n"
     ]
    }
   ],
   "source": [
    "print(\"Hello, this is Emmanuel's homework 5\")"
   ]
  },
  {
   "cell_type": "code",
   "execution_count": 4,
   "metadata": {
    "id": "mvHeeQ5iXEuY"
   },
   "outputs": [],
   "source": [
    "def cuadratic_interp(x,y,xinterp):\n",
    "  #Inicialmente vamos a calcular los coeficientes b0,b1 y b2\n",
    "  #Usaremos para cada uno de ellos, esta función que nos determinará el valor de cada uno de ellos\n",
    "  \n",
    "  def b_coeffs(i,k,x,y):                                             #Definimos función  \n",
    "      # i, k are the first and last INDEX of `x`\n",
    "      #If i+k>N\n",
    "      if i+k>=len(x):\n",
    "          return 0\n",
    "      #Zeroth divided difference\n",
    "      elif k == 0:\n",
    "          return y[i]\n",
    "      #If higher divided difference\n",
    "      else:\n",
    "          return (b_coeffs(i+1, k-1, x, y)-b_coeffs(i, k-1, x, y))/(x[i+k]-x[i])\n",
    "  b0 = b_coeffs(0,0,x,y)\n",
    "  b1 = b_coeffs(0,1,x,y)  \n",
    "  b2 = b_coeffs(0,2,x,y)\n",
    "  # Ya conociendo los coeficientes calculemos f2(xinterp)\n",
    "  f2 = b0 + b1*(xinterp - x[0]) + b2*(xinterp - x[0])*(xinterp- x[1])\n",
    "  return f2"
   ]
  },
  {
   "cell_type": "code",
   "execution_count": null,
   "metadata": {},
   "outputs": [],
   "source": []
  }
 ],
 "metadata": {
  "colab": {
   "collapsed_sections": [],
   "name": "homework_5.ipynb",
   "provenance": []
  },
  "kernelspec": {
   "display_name": "Python 3",
   "language": "python",
   "name": "python3"
  },
  "language_info": {
   "codemirror_mode": {
    "name": "ipython",
    "version": 3
   },
   "file_extension": ".py",
   "mimetype": "text/x-python",
   "name": "python",
   "nbconvert_exporter": "python",
   "pygments_lexer": "ipython3",
   "version": "3.7.2"
  }
 },
 "nbformat": 4,
 "nbformat_minor": 1
}
