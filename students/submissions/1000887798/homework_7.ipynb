{
 "cells": [
  {
   "cell_type": "markdown",
   "id": "cabfbabb",
   "metadata": {},
   "source": [
    "## Homework 07\n",
    "\n",
    "Create a notebook: ***homework_07.ipynb*** and inside make function:\n",
    "\n",
    "a function called `integral_monte_carlo_1D(integrand,lim1,lim2,N)` (with that order) that receives four parameters: integrand (function), limit1, limit2 and number of iterations `N`, and returns the value of `I` (just the numerical value)  \n",
    "*use vectorized form of the calculations\n",
    "\n",
    "Test your funcion on the following integral:\n",
    "\n",
    "$$\\int_{0}^{4} \\sqrt[4]{15 x^3 + 21x^2 + 41x + 3} \\cdot e^{-0.5x} dx$$\n",
    "\n",
    " where the integrand is\n",
    "$$f(x)=\\sqrt[4]{15 x^3 + 21x^2 + 41x + 3} \\cdot e^{-0.5x}$$\n",
    "\n",
    "compare with the scipy.integrate.quad results\n"
   ]
  },
  {
   "cell_type": "code",
   "execution_count": 11,
   "id": "100f0e77",
   "metadata": {},
   "outputs": [],
   "source": [
    "def integral_monte_carlo_1D(integrand,lim1,lim2,N):\n",
    "    E = 0 \n",
    "    x = np.random.uniform(lim1,lim2,N)\n",
    "    I = np.mean(integrand(x))*(lim2-lim1)\n",
    "    return I\n"
   ]
  },
  {
   "cell_type": "code",
   "execution_count": 10,
   "id": "e2d2a48d",
   "metadata": {},
   "outputs": [
    {
     "data": {
      "text/plain": [
       "0.10638819876577718"
      ]
     },
     "execution_count": 10,
     "metadata": {},
     "output_type": "execute_result"
    }
   ],
   "source": [
    "integral_monte_carlo_1D(integrand,5,20,10000)"
   ]
  },
  {
   "cell_type": "code",
   "execution_count": null,
   "id": "3a982a67",
   "metadata": {},
   "outputs": [],
   "source": []
  }
 ],
 "metadata": {
  "kernelspec": {
   "display_name": "Python 3 (ipykernel)",
   "language": "python",
   "name": "python3"
  },
  "language_info": {
   "codemirror_mode": {
    "name": "ipython",
    "version": 3
   },
   "file_extension": ".py",
   "mimetype": "text/x-python",
   "name": "python",
   "nbconvert_exporter": "python",
   "pygments_lexer": "ipython3",
   "version": "3.8.10"
  }
 },
 "nbformat": 4,
 "nbformat_minor": 5
}
