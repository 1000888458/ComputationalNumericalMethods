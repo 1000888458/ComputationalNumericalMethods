{
 "cells": [
  {
   "cell_type": "markdown",
   "id": "03316744",
   "metadata": {},
   "source": [
    "# Homework 6:\n",
    "\n",
    "* create notebook called: homework_6.ipynb (no spaces please)\n",
    "\n",
    "* inside write a function: `deriv(func,a,method,h)`\n",
    "`func` is a function that I can define\n",
    "`a` is a point (float) at which I wante to evaluate the derivative\n",
    "`method` is a string, and can have three options `forward`,`central`,`backward`\n",
    "`h` is a step\n",
    "\n",
    "* ***remember the function must not print anything, just return a single value***!!!\n",
    "* to choose between schemes ('central','forward'..) use `if`, `elif`"
   ]
  },
  {
   "cell_type": "code",
   "execution_count": 1,
   "id": "48de2c1f",
   "metadata": {},
   "outputs": [],
   "source": [
    "def deriv(func,a,method,h):\n",
    "    if method == forward:\n",
    "        result = (func(a+h)-func(a))/h\n",
    "    elif method == backward:\n",
    "        result = (func(a)-func(a-h)/h)\n",
    "    elif method == central:\n",
    "        result = (func(a+h)-func(a-h))/2*h"
   ]
  },
  {
   "cell_type": "code",
   "execution_count": null,
   "id": "6afbbd6e",
   "metadata": {},
   "outputs": [],
   "source": []
  }
 ],
 "metadata": {
  "kernelspec": {
   "display_name": "Python 3 (ipykernel)",
   "language": "python",
   "name": "python3"
  },
  "language_info": {
   "codemirror_mode": {
    "name": "ipython",
    "version": 3
   },
   "file_extension": ".py",
   "mimetype": "text/x-python",
   "name": "python",
   "nbconvert_exporter": "python",
   "pygments_lexer": "ipython3",
   "version": "3.8.10"
  }
 },
 "nbformat": 4,
 "nbformat_minor": 5
}
