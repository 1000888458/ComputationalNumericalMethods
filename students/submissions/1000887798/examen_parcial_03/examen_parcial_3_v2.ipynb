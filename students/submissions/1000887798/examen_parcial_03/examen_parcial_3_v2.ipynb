{
 "cells": [
  {
   "cell_type": "markdown",
   "id": "plain-rugby",
   "metadata": {},
   "source": [
    "# Examen parcial 3 v2. (calculo numerico y algebra lineal)\n",
    "* Antes de enviar el archivo, $\\textbf{reiniciar y ejecutar el kernel}$ para ver que el archivo se compila sin errores\n",
    "* enviar el archivo jupyter sin anexos antes de las 11.00am del 06.04.2022 a mi dirección de correo electrónico: michal.hemmerling@udea.edu.co "
   ]
  },
  {
   "cell_type": "markdown",
   "id": "usual-washer",
   "metadata": {},
   "source": [
    "# Ejercicio 1"
   ]
  },
  {
   "cell_type": "markdown",
   "id": "pretty-conference",
   "metadata": {},
   "source": [
    "Masa de una barra delgada en el intervalo [a, b] es dada por Integral:\n",
    "\n",
    "$$ m =  \\int_{a}^{b} \\rho (x) \\ dx $$\n",
    "\n",
    "donde $\\rho(x)$ es una función de densidad linear\n",
    "\n",
    "<table><tr>\n",
    "<td> <img src=\"rod.jpg\" width=\"300\" /> </td>\n",
    "</tr></table>   \n",
    "\n",
    "\n",
    "El archivo $\\textbf{data_distance_density.csv}$ contiene dos columnas: la distancia un la barra ($ x $) y la densidad ($ \\rho (x) $) de la barra como función del distancia.\n",
    "\n",
    "* a) importar los datos usando pandas, graficar la densidad de la barra $\\rho(x)$ vs $x$ (los gráficos deben tener etiquetas para el eje x y el eje y).\n",
    "\n",
    "* b) calcular la masa de la barra mediante integración numérica"
   ]
  },
  {
   "cell_type": "code",
   "execution_count": 1,
   "id": "3c924591",
   "metadata": {},
   "outputs": [],
   "source": [
    "import numpy as np\n",
    "import pandas as pd\n",
    "import matplotlib.pyplot as plt\n",
    "import scipy as sc"
   ]
  },
  {
   "cell_type": "code",
   "execution_count": 2,
   "id": "b84aa4f4",
   "metadata": {},
   "outputs": [
    {
     "data": {
      "text/html": [
       "<div>\n",
       "<style scoped>\n",
       "    .dataframe tbody tr th:only-of-type {\n",
       "        vertical-align: middle;\n",
       "    }\n",
       "\n",
       "    .dataframe tbody tr th {\n",
       "        vertical-align: top;\n",
       "    }\n",
       "\n",
       "    .dataframe thead th {\n",
       "        text-align: right;\n",
       "    }\n",
       "</style>\n",
       "<table border=\"1\" class=\"dataframe\">\n",
       "  <thead>\n",
       "    <tr style=\"text-align: right;\">\n",
       "      <th></th>\n",
       "      <th>distance</th>\n",
       "      <th>density</th>\n",
       "    </tr>\n",
       "  </thead>\n",
       "  <tbody>\n",
       "    <tr>\n",
       "      <th>0</th>\n",
       "      <td>1.570796</td>\n",
       "      <td>1.000000e+00</td>\n",
       "    </tr>\n",
       "    <tr>\n",
       "      <th>1</th>\n",
       "      <td>1.586663</td>\n",
       "      <td>9.998741e-01</td>\n",
       "    </tr>\n",
       "    <tr>\n",
       "      <th>2</th>\n",
       "      <td>1.602530</td>\n",
       "      <td>9.994965e-01</td>\n",
       "    </tr>\n",
       "    <tr>\n",
       "      <th>3</th>\n",
       "      <td>1.618396</td>\n",
       "      <td>9.988673e-01</td>\n",
       "    </tr>\n",
       "    <tr>\n",
       "      <th>4</th>\n",
       "      <td>1.634263</td>\n",
       "      <td>9.979867e-01</td>\n",
       "    </tr>\n",
       "    <tr>\n",
       "      <th>...</th>\n",
       "      <td>...</td>\n",
       "      <td>...</td>\n",
       "    </tr>\n",
       "    <tr>\n",
       "      <th>95</th>\n",
       "      <td>3.078126</td>\n",
       "      <td>6.342392e-02</td>\n",
       "    </tr>\n",
       "    <tr>\n",
       "      <th>96</th>\n",
       "      <td>3.093993</td>\n",
       "      <td>4.758192e-02</td>\n",
       "    </tr>\n",
       "    <tr>\n",
       "      <th>97</th>\n",
       "      <td>3.109859</td>\n",
       "      <td>3.172793e-02</td>\n",
       "    </tr>\n",
       "    <tr>\n",
       "      <th>98</th>\n",
       "      <td>3.125726</td>\n",
       "      <td>1.586596e-02</td>\n",
       "    </tr>\n",
       "    <tr>\n",
       "      <th>99</th>\n",
       "      <td>3.141593</td>\n",
       "      <td>1.224647e-16</td>\n",
       "    </tr>\n",
       "  </tbody>\n",
       "</table>\n",
       "<p>100 rows × 2 columns</p>\n",
       "</div>"
      ],
      "text/plain": [
       "    distance       density\n",
       "0   1.570796  1.000000e+00\n",
       "1   1.586663  9.998741e-01\n",
       "2   1.602530  9.994965e-01\n",
       "3   1.618396  9.988673e-01\n",
       "4   1.634263  9.979867e-01\n",
       "..       ...           ...\n",
       "95  3.078126  6.342392e-02\n",
       "96  3.093993  4.758192e-02\n",
       "97  3.109859  3.172793e-02\n",
       "98  3.125726  1.586596e-02\n",
       "99  3.141593  1.224647e-16\n",
       "\n",
       "[100 rows x 2 columns]"
      ]
     },
     "execution_count": 2,
     "metadata": {},
     "output_type": "execute_result"
    }
   ],
   "source": [
    "df = pd.read_csv('data_distance_density.csv')\n",
    "df"
   ]
  },
  {
   "cell_type": "code",
   "execution_count": 3,
   "id": "cc081233",
   "metadata": {
    "scrolled": true
   },
   "outputs": [
    {
     "data": {
      "text/plain": [
       "<function matplotlib.pyplot.show(close=None, block=None)>"
      ]
     },
     "execution_count": 3,
     "metadata": {},
     "output_type": "execute_result"
    },
    {
     "data": {
      "image/png": "[encoded data removed]",
      "text/plain": [
       "<Figure size 576x396 with 1 Axes>"
      ]
     },
     "metadata": {},
     "output_type": "display_data"
    }
   ],
   "source": [
    "plt.style.use('seaborn')\n",
    "fig,ax = plt.subplots(1,1)\n",
    "ax.plot(df.distance,df.density,label='x vs ρ')\n",
    "ax.legend()\n",
    "ax.set_title('Distance vs density')\n",
    "ax.set_xlabel('eje x')\n",
    "ax.set_ylabel('eje y')\n",
    "plt.show"
   ]
  },
  {
   "cell_type": "code",
   "execution_count": 4,
   "id": "c3bb70f5",
   "metadata": {},
   "outputs": [],
   "source": [
    "import scipy.integrate as integrate"
   ]
  },
  {
   "cell_type": "code",
   "execution_count": 5,
   "id": "47fcc18f",
   "metadata": {},
   "outputs": [],
   "source": [
    "x = df.distance\n",
    "y = df.density\n",
    "m = integrate.simps(y,x)"
   ]
  },
  {
   "cell_type": "code",
   "execution_count": 6,
   "id": "b20f4f73",
   "metadata": {},
   "outputs": [
    {
     "name": "stdout",
     "output_type": "stream",
     "text": [
      "La masa de la barra  es igual a  0.9999998326009375\n"
     ]
    }
   ],
   "source": [
    "print('La masa de la barra  es igual a ', m)"
   ]
  },
  {
   "cell_type": "markdown",
   "id": "handy-obligation",
   "metadata": {},
   "source": [
    "# Ejercicio 2"
   ]
  },
  {
   "cell_type": "markdown",
   "id": "broken-belfast",
   "metadata": {},
   "source": [
    "La capacidad calorífica de un gas muy frío se puede aproximar mediante:\n",
    "\n",
    "$$ C_v \\approx \\left (\\frac{dP}{dT} \\right) $$\n",
    "(en las unidades de $ \\left [\\frac {J} {K} \\right] $)\n",
    "\n",
    "Donde $P$ es la presión $ [J / s^3] $ del gas y $ T \\ [K] $ es la temperatura del gas.\n",
    "\n",
    "Los datos para la presión frente a la temperatura se dan en el archivo csv ($ \\textbf{data_pressure_vs_temperature.csv} $).\n",
    "\n",
    "* a) importar los datos usando Pandas\n",
    "* b) hacer un gráfico de $P$ vs $T$ (grafico tiene que tener etiquietas)\n",
    "* c) utilizando la derivada numérica, encuentre la capacidad calorífica y hace un gráfico de $C_v$ vs $T$ (grafico tiene que tener etiquietas)\n",
    "* d) encontrar Temperatura Critica de este gas (Temperatura Critica es Temperatura de cambio abrupto del comportamiento de Capacidad Termica)\n",
    "\n",
    "*gas muy frío se refiere a un gas Bose no homogéneo, y la teoría que relaciona $ C_v $ y $ P $ se refiere a la Teoría de Variables Globales Termodinámicas. La presión en realidad se llama parámetro de presión."
   ]
  },
  {
   "cell_type": "code",
   "execution_count": 7,
   "id": "bc5f8f4c",
   "metadata": {
    "scrolled": true
   },
   "outputs": [
    {
     "data": {
      "text/html": [
       "<div>\n",
       "<style scoped>\n",
       "    .dataframe tbody tr th:only-of-type {\n",
       "        vertical-align: middle;\n",
       "    }\n",
       "\n",
       "    .dataframe tbody tr th {\n",
       "        vertical-align: top;\n",
       "    }\n",
       "\n",
       "    .dataframe thead th {\n",
       "        text-align: right;\n",
       "    }\n",
       "</style>\n",
       "<table border=\"1\" class=\"dataframe\">\n",
       "  <thead>\n",
       "    <tr style=\"text-align: right;\">\n",
       "      <th></th>\n",
       "      <th>Temperature</th>\n",
       "      <th>Pressure</th>\n",
       "    </tr>\n",
       "  </thead>\n",
       "  <tbody>\n",
       "    <tr>\n",
       "      <th>0</th>\n",
       "      <td>4.789201e-08</td>\n",
       "      <td>1.958251e-17</td>\n",
       "    </tr>\n",
       "    <tr>\n",
       "      <th>1</th>\n",
       "      <td>6.625061e-08</td>\n",
       "      <td>2.055515e-17</td>\n",
       "    </tr>\n",
       "    <tr>\n",
       "      <th>2</th>\n",
       "      <td>8.460922e-08</td>\n",
       "      <td>2.237848e-17</td>\n",
       "    </tr>\n",
       "    <tr>\n",
       "      <th>3</th>\n",
       "      <td>1.029678e-07</td>\n",
       "      <td>2.534132e-17</td>\n",
       "    </tr>\n",
       "    <tr>\n",
       "      <th>4</th>\n",
       "      <td>1.213264e-07</td>\n",
       "      <td>2.994527e-17</td>\n",
       "    </tr>\n",
       "    <tr>\n",
       "      <th>5</th>\n",
       "      <td>1.396850e-07</td>\n",
       "      <td>3.681453e-17</td>\n",
       "    </tr>\n",
       "    <tr>\n",
       "      <th>6</th>\n",
       "      <td>1.580436e-07</td>\n",
       "      <td>4.642824e-17</td>\n",
       "    </tr>\n",
       "    <tr>\n",
       "      <th>7</th>\n",
       "      <td>1.764022e-07</td>\n",
       "      <td>5.895152e-17</td>\n",
       "    </tr>\n",
       "    <tr>\n",
       "      <th>8</th>\n",
       "      <td>1.947608e-07</td>\n",
       "      <td>7.447724e-17</td>\n",
       "    </tr>\n",
       "    <tr>\n",
       "      <th>9</th>\n",
       "      <td>2.131194e-07</td>\n",
       "      <td>9.347272e-17</td>\n",
       "    </tr>\n",
       "    <tr>\n",
       "      <th>10</th>\n",
       "      <td>2.314781e-07</td>\n",
       "      <td>1.154354e-16</td>\n",
       "    </tr>\n",
       "    <tr>\n",
       "      <th>11</th>\n",
       "      <td>2.498367e-07</td>\n",
       "      <td>1.374488e-16</td>\n",
       "    </tr>\n",
       "    <tr>\n",
       "      <th>12</th>\n",
       "      <td>2.681953e-07</td>\n",
       "      <td>1.534382e-16</td>\n",
       "    </tr>\n",
       "    <tr>\n",
       "      <th>13</th>\n",
       "      <td>2.865539e-07</td>\n",
       "      <td>1.671772e-16</td>\n",
       "    </tr>\n",
       "    <tr>\n",
       "      <th>14</th>\n",
       "      <td>3.049125e-07</td>\n",
       "      <td>1.802543e-16</td>\n",
       "    </tr>\n",
       "    <tr>\n",
       "      <th>15</th>\n",
       "      <td>3.232711e-07</td>\n",
       "      <td>1.929425e-16</td>\n",
       "    </tr>\n",
       "    <tr>\n",
       "      <th>16</th>\n",
       "      <td>3.416297e-07</td>\n",
       "      <td>2.053711e-16</td>\n",
       "    </tr>\n",
       "    <tr>\n",
       "      <th>17</th>\n",
       "      <td>3.599883e-07</td>\n",
       "      <td>2.176142e-16</td>\n",
       "    </tr>\n",
       "    <tr>\n",
       "      <th>18</th>\n",
       "      <td>3.783469e-07</td>\n",
       "      <td>2.297188e-16</td>\n",
       "    </tr>\n",
       "    <tr>\n",
       "      <th>19</th>\n",
       "      <td>3.967055e-07</td>\n",
       "      <td>2.417169e-16</td>\n",
       "    </tr>\n",
       "    <tr>\n",
       "      <th>20</th>\n",
       "      <td>4.150641e-07</td>\n",
       "      <td>2.536311e-16</td>\n",
       "    </tr>\n",
       "    <tr>\n",
       "      <th>21</th>\n",
       "      <td>4.334227e-07</td>\n",
       "      <td>2.654779e-16</td>\n",
       "    </tr>\n",
       "    <tr>\n",
       "      <th>22</th>\n",
       "      <td>4.517813e-07</td>\n",
       "      <td>2.772699e-16</td>\n",
       "    </tr>\n",
       "    <tr>\n",
       "      <th>23</th>\n",
       "      <td>4.701399e-07</td>\n",
       "      <td>2.890164e-16</td>\n",
       "    </tr>\n",
       "    <tr>\n",
       "      <th>24</th>\n",
       "      <td>4.884985e-07</td>\n",
       "      <td>3.007252e-16</td>\n",
       "    </tr>\n",
       "    <tr>\n",
       "      <th>25</th>\n",
       "      <td>5.068571e-07</td>\n",
       "      <td>3.124020e-16</td>\n",
       "    </tr>\n",
       "    <tr>\n",
       "      <th>26</th>\n",
       "      <td>5.252157e-07</td>\n",
       "      <td>3.240518e-16</td>\n",
       "    </tr>\n",
       "    <tr>\n",
       "      <th>27</th>\n",
       "      <td>5.435743e-07</td>\n",
       "      <td>3.356784e-16</td>\n",
       "    </tr>\n",
       "    <tr>\n",
       "      <th>28</th>\n",
       "      <td>5.619329e-07</td>\n",
       "      <td>3.472849e-16</td>\n",
       "    </tr>\n",
       "    <tr>\n",
       "      <th>29</th>\n",
       "      <td>5.802915e-07</td>\n",
       "      <td>3.588741e-16</td>\n",
       "    </tr>\n",
       "    <tr>\n",
       "      <th>30</th>\n",
       "      <td>5.986501e-07</td>\n",
       "      <td>3.704482e-16</td>\n",
       "    </tr>\n",
       "  </tbody>\n",
       "</table>\n",
       "</div>"
      ],
      "text/plain": [
       "     Temperature      Pressure\n",
       "0   4.789201e-08  1.958251e-17\n",
       "1   6.625061e-08  2.055515e-17\n",
       "2   8.460922e-08  2.237848e-17\n",
       "3   1.029678e-07  2.534132e-17\n",
       "4   1.213264e-07  2.994527e-17\n",
       "5   1.396850e-07  3.681453e-17\n",
       "6   1.580436e-07  4.642824e-17\n",
       "7   1.764022e-07  5.895152e-17\n",
       "8   1.947608e-07  7.447724e-17\n",
       "9   2.131194e-07  9.347272e-17\n",
       "10  2.314781e-07  1.154354e-16\n",
       "11  2.498367e-07  1.374488e-16\n",
       "12  2.681953e-07  1.534382e-16\n",
       "13  2.865539e-07  1.671772e-16\n",
       "14  3.049125e-07  1.802543e-16\n",
       "15  3.232711e-07  1.929425e-16\n",
       "16  3.416297e-07  2.053711e-16\n",
       "17  3.599883e-07  2.176142e-16\n",
       "18  3.783469e-07  2.297188e-16\n",
       "19  3.967055e-07  2.417169e-16\n",
       "20  4.150641e-07  2.536311e-16\n",
       "21  4.334227e-07  2.654779e-16\n",
       "22  4.517813e-07  2.772699e-16\n",
       "23  4.701399e-07  2.890164e-16\n",
       "24  4.884985e-07  3.007252e-16\n",
       "25  5.068571e-07  3.124020e-16\n",
       "26  5.252157e-07  3.240518e-16\n",
       "27  5.435743e-07  3.356784e-16\n",
       "28  5.619329e-07  3.472849e-16\n",
       "29  5.802915e-07  3.588741e-16\n",
       "30  5.986501e-07  3.704482e-16"
      ]
     },
     "execution_count": 7,
     "metadata": {},
     "output_type": "execute_result"
    }
   ],
   "source": [
    "df1 = pd.read_csv('data_pressure_vs_temparature.csv')\n",
    "df1"
   ]
  },
  {
   "cell_type": "code",
   "execution_count": 8,
   "id": "1e8b9769",
   "metadata": {
    "scrolled": true
   },
   "outputs": [
    {
     "data": {
      "image/png": "[encoded data removed]",
      "text/plain": [
       "<Figure size 576x396 with 1 Axes>"
      ]
     },
     "metadata": {},
     "output_type": "display_data"
    }
   ],
   "source": [
    "fig,ax = plt.subplots(1,1)\n",
    "ax.plot(df1.Temperature,df1.Pressure,label = 'P vs T')\n",
    "ax.legend()\n",
    "ax.set_ylabel('Pressure')\n",
    "ax.set_xlabel('Temperature')\n",
    "ax.set_title('Pressure vs Temperature')\n",
    "plt.show()"
   ]
  },
  {
   "cell_type": "code",
   "execution_count": 9,
   "id": "e7f08751",
   "metadata": {
    "scrolled": true
   },
   "outputs": [
    {
     "data": {
      "image/png": "[encoded data removed]",
      "text/plain": [
       "<Figure size 576x396 with 1 Axes>"
      ]
     },
     "metadata": {},
     "output_type": "display_data"
    }
   ],
   "source": [
    "cv = np.gradient(df1.Pressure,df1.Temperature)\n",
    "\n",
    "fig,ax = plt.subplots(1,1)\n",
    "ax.plot(df1.Temperature,cv,label=' C_v vs T')\n",
    "ax.set_title('Capacidad calorifica vs temperatura')\n",
    "ax.set_ylabel('C_v')\n",
    "ax.set_xlabel('T')\n",
    "ax.legend\n",
    "plt.show()"
   ]
  },
  {
   "cell_type": "markdown",
   "id": "cb9a3118",
   "metadata": {},
   "source": [
    "De la grafica podemos ver que un punto crítico para la temperatura es  aproximadamente **2,3 x 10 ^-7**, pues en este punto C_v cambia abruptamente."
   ]
  },
  {
   "cell_type": "markdown",
   "id": "molecular-meaning",
   "metadata": {},
   "source": [
    "# Ejercicio 3."
   ]
  },
  {
   "cell_type": "markdown",
   "id": "skilled-replica",
   "metadata": {},
   "source": [
    "Grafica la función:\n",
    "\n",
    "$$ F_{a, b} = \\int_0 ^{10} sin (ax) + cos (bx^ 2) \\ \\ dx $$\n",
    "\n",
    "donde $ a $ es solo un número:\n",
    "\n",
    "`a = 1`\n",
    "\n",
    "y $ b $ es una numpy arrray, digamos:\n",
    " \n",
    "`b = np.linspace (0,1,101)`\n",
    "\n",
    "El gráfico deben tener etiquetas para eje `x` y eje `y`. "
   ]
  },
  {
   "cell_type": "code",
   "execution_count": 10,
   "id": "d950a294",
   "metadata": {
    "scrolled": false
   },
   "outputs": [],
   "source": [
    "def integran(x,b):\n",
    "    return a*np.sin(x)+np.cos(b*x**2)"
   ]
  },
  {
   "cell_type": "code",
   "execution_count": 18,
   "id": "b2b554e9",
   "metadata": {},
   "outputs": [],
   "source": [
    "a=1\n",
    "Is=[]\n",
    "bs=np.linspace(0,1,101)\n",
    "for b in bs:\n",
    "    I,error = integrate.quad(integran, 0, 10, args=(b,))\n",
    "    Is.append(I)"
   ]
  },
  {
   "cell_type": "code",
   "execution_count": 12,
   "id": "ef63a0e2",
   "metadata": {},
   "outputs": [
    {
     "data": {
      "image/png": "[encoded data removed]",
      "text/plain": [
       "<Figure size 576x396 with 1 Axes>"
      ]
     },
     "metadata": {},
     "output_type": "display_data"
    }
   ],
   "source": [
    "plt.plot(bs,Is)\n",
    "plt.xlabel('Valores de b')\n",
    "plt.ylabel('Integral')\n",
    "plt.title('b vs integral')\n",
    "plt.show()"
   ]
  },
  {
   "cell_type": "markdown",
   "id": "pointed-ultimate",
   "metadata": {},
   "source": [
    "## Ejercicio 4. Algebra linear.\n",
    "#### Introducion:\n",
    "\n",
    "En varios casos, sistema de equaciones diferentiales lineares\n",
    "tipo \n",
    "$$\\frac{d\\textbf{x}}{dt}=\\textbf{A}\\textbf{x}$$\n",
    "con solucion:\n",
    "$$ \\textbf{x}(t) = e^{t\\textbf{A}} \\textbf{C}$$\n",
    "\n",
    "(donde $\\textbf{x}$ es un vector, $\\textbf{A}$ es matrix y $\\textbf{C}$ es vector de condiciones iniciales)\n",
    "\n",
    "se simplifica a calcular exponente de matriz: $e^{\\textbf{A}t}$!!!!\n",
    "\n",
    "$\\textbf{Como ejercicio, calcule $e^{A}$}$ definido como:\n",
    "\n",
    "$$e^A=Pe^DP^{-1}$$\n",
    "\n",
    "donde $e^D$ es\n",
    "\n",
    "$$e^D=\n",
    "\\begin{bmatrix}\n",
    "e^{\\lambda_1} & 0 & \\cdots & 0 \\\\\n",
    "0 & e^{\\lambda_2} & \\cdots & 0 \\\\\n",
    "\\vdots & \\vdots & \\ddots & \\vdots\\\\\n",
    "0 & 0 & \\cdots & e^{\\lambda_n} \\\\\n",
    "\\end{bmatrix}\n",
    "$$\n",
    "\n",
    "$P$ son eigenvectors y $P^{-1}$ es inversion de $P$\n",
    "\n",
    "* a) Construye una function $\\textbf{matrix_exp(A)}$ que acepta una matrix A como un argumento\n",
    "* b) si matrix no es cuadrada: imprime \"Matrix must be square\" y sale la funcion usando: $\\textbf{return}$\n",
    "* c) si matrix es cuadrada ($\\textbf{else:}$): calcule y imprime valor de $e^A$\n",
    "* para verificar su resultado uno puede usar scipy.linalg.expm(A)"
   ]
  },
  {
   "cell_type": "code",
   "execution_count": 13,
   "id": "9208409f",
   "metadata": {},
   "outputs": [],
   "source": [
    "def matrix_exp(A):\n",
    "    if len(A) != len(A[0]):\n",
    "        print('la matriz debe ser cuadrada')\n",
    "        return\n",
    "    else:\n",
    "        evalues,evectors = np.linalg.eig(A)\n",
    "        P = evectors\n",
    "        Pinv = np.linalg.inv(P)\n",
    "        D = np.diag(np.e**evalues)\n",
    "    return P@D@Pinv\n"
   ]
  },
  {
   "cell_type": "code",
   "execution_count": 14,
   "id": "581f77a6",
   "metadata": {},
   "outputs": [],
   "source": [
    "s = np.array([[1,-1,-1,-1],[-1,2,0,0],[-1,2,0,0],[-1,0,1,4]])\n",
    "import scipy"
   ]
  },
  {
   "cell_type": "code",
   "execution_count": 15,
   "id": "7c016483",
   "metadata": {
    "scrolled": true
   },
   "outputs": [
    {
     "data": {
      "text/plain": [
       "(array([[ 15.91993085, -15.64473121,  -9.25049434, -24.08440277],\n",
       "        [ -8.56868277,  13.1927294 ,   3.53802422,   7.75786   ],\n",
       "        [ -8.56868277,  12.1927294 ,   4.53802422,   7.75786   ],\n",
       "        [-31.84226277,  24.68019192,  22.67779084,  72.65741916]]),\n",
       " array([[ 15.91993085, -15.64473121,  -9.25049434, -24.08440277],\n",
       "        [ -8.56868277,  13.1927294 ,   3.53802422,   7.75786   ],\n",
       "        [ -8.56868277,  12.1927294 ,   4.53802422,   7.75786   ],\n",
       "        [-31.84226277,  24.68019192,  22.67779084,  72.65741916]]))"
      ]
     },
     "execution_count": 15,
     "metadata": {},
     "output_type": "execute_result"
    }
   ],
   "source": [
    "matrix_exp(s),scipy.linalg.expm(s)"
   ]
  },
  {
   "cell_type": "code",
   "execution_count": 16,
   "id": "d0295660",
   "metadata": {},
   "outputs": [
    {
     "data": {
      "text/plain": [
       "array([[141.26626928, 203.15504538],\n",
       "       [304.73256808, 445.99883735]])"
      ]
     },
     "execution_count": 16,
     "metadata": {},
     "output_type": "execute_result"
    }
   ],
   "source": [
    "r = np.array([[2,2],[3,5]])\n",
    "matrix_exp(r)"
   ]
  },
  {
   "cell_type": "code",
   "execution_count": 17,
   "id": "500afc2d",
   "metadata": {
    "scrolled": true
   },
   "outputs": [
    {
     "data": {
      "text/plain": [
       "array([[141.26626928, 203.15504538],\n",
       "       [304.73256808, 445.99883735]])"
      ]
     },
     "execution_count": 17,
     "metadata": {},
     "output_type": "execute_result"
    }
   ],
   "source": [
    "scipy.linalg.expm(r)"
   ]
  },
  {
   "cell_type": "markdown",
   "id": "optional-payroll",
   "metadata": {},
   "source": [
    "# Feedback:\n",
    "```\n",
    "Exercise 1.\n",
    "Solution + presentation of the results\t            (max 2.5p):\t2.5p\n",
    "\n",
    "Exercise 2.\n",
    "Solution + presentation of the results\t            (max 2.5p):\t2.5p\n",
    "\n",
    "Exercise 3.\n",
    "Solution + presentation of the results\t            (max 2.5p):\t2.5p\n",
    "\n",
    "Exercise 4 \n",
    "Solution + presentation of the results\t            (max 2.5p):\t2.5p\n",
    "\n",
    "\n",
    "\n",
    "\n",
    "- Total:                                              (max 10.0p):   10.0p\n",
    "```"
   ]
  },
  {
   "cell_type": "code",
   "execution_count": null,
   "id": "native-concord",
   "metadata": {},
   "outputs": [],
   "source": []
  }
 ],
 "metadata": {
  "kernelspec": {
   "display_name": "Python 3",
   "language": "python",
   "name": "python3"
  },
  "language_info": {
   "codemirror_mode": {
    "name": "ipython",
    "version": 3
   },
   "file_extension": ".py",
   "mimetype": "text/x-python",
   "name": "python",
   "nbconvert_exporter": "python",
   "pygments_lexer": "ipython3",
   "version": "3.7.2"
  }
 },
 "nbformat": 4,
 "nbformat_minor": 5
}
