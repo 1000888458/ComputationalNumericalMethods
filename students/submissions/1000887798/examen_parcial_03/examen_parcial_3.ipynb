{
 "cells": [
  {
   "cell_type": "markdown",
   "id": "plain-rugby",
   "metadata": {},
   "source": [
    "# Examen parcial 3 (calculo numerico y algebra lineal)\n",
    "* Antes de enviar el archivo, $\\textbf{reiniciar y ejecutar el kernel}$ para ver que el archivo se compila sin errores\n",
    "* enviar el archivo jupyter sin anexos antes de las 10.10am del 30.03.2022 a mi dirección de correo electrónico: michal.hemmerling@udea.edu.co "
   ]
  },
  {
   "cell_type": "markdown",
   "id": "usual-washer",
   "metadata": {},
   "source": [
    "# Ejercicio 1"
   ]
  },
  {
   "cell_type": "markdown",
   "id": "pretty-conference",
   "metadata": {},
   "source": [
    "El archivo $\\textbf{data_radius_density.csv}$ contiene dos columnas: radio ($ r $) y la densidad ($ \\rho (r) $) de un disco plano en función del radio\n",
    "\n",
    "El disco es lo suficientemente delgado como para que, con fines matemáticos, podamos tratarlo como un objeto bidimensional. Asumimos que la densidad se da en términos de masa por unidad de área (llamada densidad de área), y además asumimos que la densidad varía solo a lo largo del radio del disco (llamada densidad radial). Orientamos el disco en el plano xy, con el centro en el origen. Entonces, la densidad del disco puede ser tratada como una función de x, denotada $\\rho(x)$.\n",
    "<table><tr>\n",
    "<td> <img src=\"disk_radius_density.png\" width=\"500\" /> </td>\n",
    "</tr></table>   \n",
    "\n",
    "* a) importar los datos usando Pandas, graficar la densidad del disco frente a su radio (los gráficos deben tener etiquetas para el eje `x` y el eje `y`).\n",
    "\n",
    "* b) sabiendo que la masa del disco viene dada por una integral:\n",
    "$$ m = \\int_0^{r} 2 \\pi \\ r * \\rho (r) \\ dr $$\n",
    "     calcular la masa del disco mediante integración numérica\n",
    "\n",
    "* Pista:`x`: is radius and `y`: is ***integrand***\n"
   ]
  },
  {
   "cell_type": "code",
   "execution_count": 1,
   "id": "valuable-august",
   "metadata": {},
   "outputs": [],
   "source": [
    "import numpy as np\n",
    "import pandas as pd\n",
    "import matplotlib.pyplot as plt\n",
    "import scipy as sc"
   ]
  },
  {
   "cell_type": "code",
   "execution_count": 2,
   "id": "7b42c84b",
   "metadata": {},
   "outputs": [
    {
     "data": {
      "text/html": [
       "<div>\n",
       "<style scoped>\n",
       "    .dataframe tbody tr th:only-of-type {\n",
       "        vertical-align: middle;\n",
       "    }\n",
       "\n",
       "    .dataframe tbody tr th {\n",
       "        vertical-align: top;\n",
       "    }\n",
       "\n",
       "    .dataframe thead th {\n",
       "        text-align: right;\n",
       "    }\n",
       "</style>\n",
       "<table border=\"1\" class=\"dataframe\">\n",
       "  <thead>\n",
       "    <tr style=\"text-align: right;\">\n",
       "      <th></th>\n",
       "      <th>radius</th>\n",
       "      <th>density</th>\n",
       "    </tr>\n",
       "  </thead>\n",
       "  <tbody>\n",
       "    <tr>\n",
       "      <th>0</th>\n",
       "      <td>0.000000</td>\n",
       "      <td>0.000000</td>\n",
       "    </tr>\n",
       "    <tr>\n",
       "      <th>1</th>\n",
       "      <td>0.040404</td>\n",
       "      <td>0.201008</td>\n",
       "    </tr>\n",
       "    <tr>\n",
       "      <th>2</th>\n",
       "      <td>0.080808</td>\n",
       "      <td>0.284268</td>\n",
       "    </tr>\n",
       "    <tr>\n",
       "      <th>3</th>\n",
       "      <td>0.121212</td>\n",
       "      <td>0.348155</td>\n",
       "    </tr>\n",
       "    <tr>\n",
       "      <th>4</th>\n",
       "      <td>0.161616</td>\n",
       "      <td>0.402015</td>\n",
       "    </tr>\n",
       "    <tr>\n",
       "      <th>...</th>\n",
       "      <td>...</td>\n",
       "      <td>...</td>\n",
       "    </tr>\n",
       "    <tr>\n",
       "      <th>95</th>\n",
       "      <td>3.838384</td>\n",
       "      <td>1.959179</td>\n",
       "    </tr>\n",
       "    <tr>\n",
       "      <th>96</th>\n",
       "      <td>3.878788</td>\n",
       "      <td>1.969464</td>\n",
       "    </tr>\n",
       "    <tr>\n",
       "      <th>97</th>\n",
       "      <td>3.919192</td>\n",
       "      <td>1.979695</td>\n",
       "    </tr>\n",
       "    <tr>\n",
       "      <th>98</th>\n",
       "      <td>3.959596</td>\n",
       "      <td>1.989873</td>\n",
       "    </tr>\n",
       "    <tr>\n",
       "      <th>99</th>\n",
       "      <td>4.000000</td>\n",
       "      <td>2.000000</td>\n",
       "    </tr>\n",
       "  </tbody>\n",
       "</table>\n",
       "<p>100 rows × 2 columns</p>\n",
       "</div>"
      ],
      "text/plain": [
       "      radius   density\n",
       "0   0.000000  0.000000\n",
       "1   0.040404  0.201008\n",
       "2   0.080808  0.284268\n",
       "3   0.121212  0.348155\n",
       "4   0.161616  0.402015\n",
       "..       ...       ...\n",
       "95  3.838384  1.959179\n",
       "96  3.878788  1.969464\n",
       "97  3.919192  1.979695\n",
       "98  3.959596  1.989873\n",
       "99  4.000000  2.000000\n",
       "\n",
       "[100 rows x 2 columns]"
      ]
     },
     "execution_count": 2,
     "metadata": {},
     "output_type": "execute_result"
    }
   ],
   "source": [
    "df = pd.read_csv('data_radius_density.csv')\n",
    "df"
   ]
  },
  {
   "cell_type": "code",
   "execution_count": 3,
   "id": "0801de3b",
   "metadata": {},
   "outputs": [
    {
     "data": {
      "text/plain": [
       "<function matplotlib.pyplot.show(close=None, block=None)>"
      ]
     },
     "execution_count": 3,
     "metadata": {},
     "output_type": "execute_result"
    },
    {
     "data": {
      "image/png": "[encoded data removed]",
      "text/plain": [
       "<Figure size 576x396 with 1 Axes>"
      ]
     },
     "metadata": {},
     "output_type": "display_data"
    }
   ],
   "source": [
    "plt.style.use('seaborn')\n",
    "fig,ax = plt.subplots(1,1)\n",
    "ax.plot(df.radius,df.density,label='r vs ρ')\n",
    "ax.legend()\n",
    "ax.set_title('Radius vs density')\n",
    "ax.set_xlabel('eje x')\n",
    "ax.set_ylabel('eje y')\n",
    "plt.show"
   ]
  },
  {
   "cell_type": "code",
   "execution_count": 4,
   "id": "64d0d082",
   "metadata": {},
   "outputs": [],
   "source": [
    "import scipy.integrate as integrate"
   ]
  },
  {
   "cell_type": "code",
   "execution_count": 5,
   "id": "d63c0282",
   "metadata": {},
   "outputs": [],
   "source": [
    "x = df.radius\n",
    "y = df.density\n",
    "m = 2*np.pi*integrate.simps(y,x)"
   ]
  },
  {
   "cell_type": "code",
   "execution_count": 6,
   "id": "de5f0bcd",
   "metadata": {},
   "outputs": [
    {
     "name": "stdout",
     "output_type": "stream",
     "text": [
      "La masa del disco es igual a  33.50396528605742\n"
     ]
    }
   ],
   "source": [
    "print('La masa del disco es igual a ', m)"
   ]
  },
  {
   "cell_type": "markdown",
   "id": "handy-obligation",
   "metadata": {},
   "source": [
    "# Ejercicio 2"
   ]
  },
  {
   "cell_type": "markdown",
   "id": "broken-belfast",
   "metadata": {},
   "source": [
    "La capacidad calorífica de un gas muy frío se puede aproximar mediante:\n",
    "\n",
    "$$ C_v \\approx \\left (\\frac{dP}{dT} \\right) $$\n",
    "(en las unidades de $ \\left [\\frac {J} {K} \\right] $)\n",
    "\n",
    "Donde $P$ es la presión $ [J / s^3] $ del gas y $ T \\ [K] $ es la temperatura del gas.\n",
    "\n",
    "Los datos para la presión frente a la temperatura se dan en el archivo csv ($ \\textbf{data_pressure_vs_temperature.csv} $).\n",
    "\n",
    "* a) importar los datos usando pandas\n",
    "* b) hacer un gráfico de $P$ vs $T$ (grafico tiene que tener etiquietas)\n",
    "* c) utilizando la derivada numérica, encuentre la capacidad calorífica.\n",
    "* d) hacer un gráfico de $C_v$ vs $T$ (grafico tiene que tener etiquietas)\n",
    "* e) usando el ultimo grafico hace una estimacion de Temperatura Critica de este gas (Temperatura Critica es Temperatura de cambio abrupto del comportamiento de Capacidad Termica)\n",
    "* f) hace interpolacion cubica (100 puntos) de los valores de pression $P$, repite puntos `c)` y `d)`\n",
    "\n",
    "*gas muy frío se refiere a un gas Bose no homogéneo, y la teoría que relaciona $ C_v $ y $ P $ se refiere a la Teoría de Variables Globales Termodinámicas. La presión en realidad se llama parámetro de presión."
   ]
  },
  {
   "cell_type": "code",
   "execution_count": 7,
   "id": "written-adrian",
   "metadata": {},
   "outputs": [
    {
     "data": {
      "text/html": [
       "<div>\n",
       "<style scoped>\n",
       "    .dataframe tbody tr th:only-of-type {\n",
       "        vertical-align: middle;\n",
       "    }\n",
       "\n",
       "    .dataframe tbody tr th {\n",
       "        vertical-align: top;\n",
       "    }\n",
       "\n",
       "    .dataframe thead th {\n",
       "        text-align: right;\n",
       "    }\n",
       "</style>\n",
       "<table border=\"1\" class=\"dataframe\">\n",
       "  <thead>\n",
       "    <tr style=\"text-align: right;\">\n",
       "      <th></th>\n",
       "      <th>Temperature</th>\n",
       "      <th>Pressure</th>\n",
       "    </tr>\n",
       "  </thead>\n",
       "  <tbody>\n",
       "    <tr>\n",
       "      <th>0</th>\n",
       "      <td>4.789201e-08</td>\n",
       "      <td>1.958251e-17</td>\n",
       "    </tr>\n",
       "    <tr>\n",
       "      <th>1</th>\n",
       "      <td>6.625061e-08</td>\n",
       "      <td>2.055515e-17</td>\n",
       "    </tr>\n",
       "    <tr>\n",
       "      <th>2</th>\n",
       "      <td>8.460922e-08</td>\n",
       "      <td>2.237848e-17</td>\n",
       "    </tr>\n",
       "    <tr>\n",
       "      <th>3</th>\n",
       "      <td>1.029678e-07</td>\n",
       "      <td>2.534132e-17</td>\n",
       "    </tr>\n",
       "    <tr>\n",
       "      <th>4</th>\n",
       "      <td>1.213264e-07</td>\n",
       "      <td>2.994527e-17</td>\n",
       "    </tr>\n",
       "    <tr>\n",
       "      <th>5</th>\n",
       "      <td>1.396850e-07</td>\n",
       "      <td>3.681453e-17</td>\n",
       "    </tr>\n",
       "    <tr>\n",
       "      <th>6</th>\n",
       "      <td>1.580436e-07</td>\n",
       "      <td>4.642824e-17</td>\n",
       "    </tr>\n",
       "    <tr>\n",
       "      <th>7</th>\n",
       "      <td>1.764022e-07</td>\n",
       "      <td>5.895152e-17</td>\n",
       "    </tr>\n",
       "    <tr>\n",
       "      <th>8</th>\n",
       "      <td>1.947608e-07</td>\n",
       "      <td>7.447724e-17</td>\n",
       "    </tr>\n",
       "    <tr>\n",
       "      <th>9</th>\n",
       "      <td>2.131194e-07</td>\n",
       "      <td>9.347272e-17</td>\n",
       "    </tr>\n",
       "    <tr>\n",
       "      <th>10</th>\n",
       "      <td>2.314781e-07</td>\n",
       "      <td>1.154354e-16</td>\n",
       "    </tr>\n",
       "    <tr>\n",
       "      <th>11</th>\n",
       "      <td>2.498367e-07</td>\n",
       "      <td>1.374488e-16</td>\n",
       "    </tr>\n",
       "    <tr>\n",
       "      <th>12</th>\n",
       "      <td>2.681953e-07</td>\n",
       "      <td>1.534382e-16</td>\n",
       "    </tr>\n",
       "    <tr>\n",
       "      <th>13</th>\n",
       "      <td>2.865539e-07</td>\n",
       "      <td>1.671772e-16</td>\n",
       "    </tr>\n",
       "    <tr>\n",
       "      <th>14</th>\n",
       "      <td>3.049125e-07</td>\n",
       "      <td>1.802543e-16</td>\n",
       "    </tr>\n",
       "    <tr>\n",
       "      <th>15</th>\n",
       "      <td>3.232711e-07</td>\n",
       "      <td>1.929425e-16</td>\n",
       "    </tr>\n",
       "    <tr>\n",
       "      <th>16</th>\n",
       "      <td>3.416297e-07</td>\n",
       "      <td>2.053711e-16</td>\n",
       "    </tr>\n",
       "    <tr>\n",
       "      <th>17</th>\n",
       "      <td>3.599883e-07</td>\n",
       "      <td>2.176142e-16</td>\n",
       "    </tr>\n",
       "    <tr>\n",
       "      <th>18</th>\n",
       "      <td>3.783469e-07</td>\n",
       "      <td>2.297188e-16</td>\n",
       "    </tr>\n",
       "    <tr>\n",
       "      <th>19</th>\n",
       "      <td>3.967055e-07</td>\n",
       "      <td>2.417169e-16</td>\n",
       "    </tr>\n",
       "    <tr>\n",
       "      <th>20</th>\n",
       "      <td>4.150641e-07</td>\n",
       "      <td>2.536311e-16</td>\n",
       "    </tr>\n",
       "    <tr>\n",
       "      <th>21</th>\n",
       "      <td>4.334227e-07</td>\n",
       "      <td>2.654779e-16</td>\n",
       "    </tr>\n",
       "    <tr>\n",
       "      <th>22</th>\n",
       "      <td>4.517813e-07</td>\n",
       "      <td>2.772699e-16</td>\n",
       "    </tr>\n",
       "    <tr>\n",
       "      <th>23</th>\n",
       "      <td>4.701399e-07</td>\n",
       "      <td>2.890164e-16</td>\n",
       "    </tr>\n",
       "    <tr>\n",
       "      <th>24</th>\n",
       "      <td>4.884985e-07</td>\n",
       "      <td>3.007252e-16</td>\n",
       "    </tr>\n",
       "    <tr>\n",
       "      <th>25</th>\n",
       "      <td>5.068571e-07</td>\n",
       "      <td>3.124020e-16</td>\n",
       "    </tr>\n",
       "    <tr>\n",
       "      <th>26</th>\n",
       "      <td>5.252157e-07</td>\n",
       "      <td>3.240518e-16</td>\n",
       "    </tr>\n",
       "    <tr>\n",
       "      <th>27</th>\n",
       "      <td>5.435743e-07</td>\n",
       "      <td>3.356784e-16</td>\n",
       "    </tr>\n",
       "    <tr>\n",
       "      <th>28</th>\n",
       "      <td>5.619329e-07</td>\n",
       "      <td>3.472849e-16</td>\n",
       "    </tr>\n",
       "    <tr>\n",
       "      <th>29</th>\n",
       "      <td>5.802915e-07</td>\n",
       "      <td>3.588741e-16</td>\n",
       "    </tr>\n",
       "    <tr>\n",
       "      <th>30</th>\n",
       "      <td>5.986501e-07</td>\n",
       "      <td>3.704482e-16</td>\n",
       "    </tr>\n",
       "  </tbody>\n",
       "</table>\n",
       "</div>"
      ],
      "text/plain": [
       "     Temperature      Pressure\n",
       "0   4.789201e-08  1.958251e-17\n",
       "1   6.625061e-08  2.055515e-17\n",
       "2   8.460922e-08  2.237848e-17\n",
       "3   1.029678e-07  2.534132e-17\n",
       "4   1.213264e-07  2.994527e-17\n",
       "5   1.396850e-07  3.681453e-17\n",
       "6   1.580436e-07  4.642824e-17\n",
       "7   1.764022e-07  5.895152e-17\n",
       "8   1.947608e-07  7.447724e-17\n",
       "9   2.131194e-07  9.347272e-17\n",
       "10  2.314781e-07  1.154354e-16\n",
       "11  2.498367e-07  1.374488e-16\n",
       "12  2.681953e-07  1.534382e-16\n",
       "13  2.865539e-07  1.671772e-16\n",
       "14  3.049125e-07  1.802543e-16\n",
       "15  3.232711e-07  1.929425e-16\n",
       "16  3.416297e-07  2.053711e-16\n",
       "17  3.599883e-07  2.176142e-16\n",
       "18  3.783469e-07  2.297188e-16\n",
       "19  3.967055e-07  2.417169e-16\n",
       "20  4.150641e-07  2.536311e-16\n",
       "21  4.334227e-07  2.654779e-16\n",
       "22  4.517813e-07  2.772699e-16\n",
       "23  4.701399e-07  2.890164e-16\n",
       "24  4.884985e-07  3.007252e-16\n",
       "25  5.068571e-07  3.124020e-16\n",
       "26  5.252157e-07  3.240518e-16\n",
       "27  5.435743e-07  3.356784e-16\n",
       "28  5.619329e-07  3.472849e-16\n",
       "29  5.802915e-07  3.588741e-16\n",
       "30  5.986501e-07  3.704482e-16"
      ]
     },
     "execution_count": 7,
     "metadata": {},
     "output_type": "execute_result"
    }
   ],
   "source": [
    "df1 = pd.read_csv('data_pressure_vs_temparature.csv')\n",
    "df1"
   ]
  },
  {
   "cell_type": "code",
   "execution_count": 8,
   "id": "51de75ad",
   "metadata": {},
   "outputs": [
    {
     "data": {
      "text/plain": [
       "Text(0.5, 1.0, 'Pressure vs Temperature')"
      ]
     },
     "execution_count": 8,
     "metadata": {},
     "output_type": "execute_result"
    },
    {
     "data": {
      "image/png": "[encoded data removed]",
      "text/plain": [
       "<Figure size 576x396 with 1 Axes>"
      ]
     },
     "metadata": {},
     "output_type": "display_data"
    }
   ],
   "source": [
    "fig,ax = plt.subplots(1,1)\n",
    "ax.plot(df1.Temperature,df1.Pressure,label = 'P vs T')\n",
    "ax.legend()\n",
    "ax.set_ylabel('Pressure')\n",
    "ax.set_xlabel('Temperature')\n",
    "ax.set_title('Pressure vs Temperature')"
   ]
  },
  {
   "cell_type": "code",
   "execution_count": 9,
   "id": "004f0133",
   "metadata": {},
   "outputs": [],
   "source": [
    "cv = np.gradient(df1.Temperature,df1.Pressure)"
   ]
  },
  {
   "cell_type": "code",
   "execution_count": 10,
   "id": "ffa9fe92",
   "metadata": {},
   "outputs": [
    {
     "data": {
      "text/plain": [
       "<bound method Axes.legend of <AxesSubplot:title={'center':'Capacidad calorifica vs temperatura'}, xlabel='T', ylabel='C_v'>>"
      ]
     },
     "execution_count": 10,
     "metadata": {},
     "output_type": "execute_result"
    },
    {
     "data": {
      "image/png": "[encoded data removed]",
      "text/plain": [
       "<Figure size 576x396 with 1 Axes>"
      ]
     },
     "metadata": {},
     "output_type": "display_data"
    }
   ],
   "source": [
    "fig,ax = plt.subplots(1,1)\n",
    "ax.plot(df1.Temperature,cv,label=' C_v vs T')\n",
    "ax.set_title('Capacidad calorifica vs temperatura')\n",
    "ax.set_ylabel('C_v')\n",
    "ax.set_xlabel('T')\n",
    "ax.legend"
   ]
  },
  {
   "cell_type": "markdown",
   "id": "7ecf8da9",
   "metadata": {},
   "source": [
    "De la grafica podemos ver que un punto crítico para la temperatura es  aproximadamente 2,3 x 10 ^-7, pues en este punto C_v cambia abruptamente."
   ]
  },
  {
   "cell_type": "code",
   "execution_count": 11,
   "id": "f4317c52",
   "metadata": {},
   "outputs": [
    {
     "data": {
      "text/plain": [
       "<matplotlib.legend.Legend at 0x7fa12c2bdee0>"
      ]
     },
     "execution_count": 11,
     "metadata": {},
     "output_type": "execute_result"
    },
    {
     "data": {
      "image/png": "[encoded data removed]",
      "text/plain": [
       "<Figure size 576x396 with 1 Axes>"
      ]
     },
     "metadata": {},
     "output_type": "display_data"
    }
   ],
   "source": [
    "from scipy.interpolate import interp1d\n",
    "f = interp1d(df1.Temperature, df1.Pressure, kind = 'cubic')\n",
    "cv1 = np.gradient(f(df1.Temperature),df1.Temperature)\n",
    "fig,ax = plt.subplots(1,1)\n",
    "ax.plot(df1.Temperature,cv1,label=' C_v vs T')\n",
    "ax.set_title('Capacidad calorifica vs temperatura')\n",
    "ax.set_ylabel('C_v')\n",
    "ax.set_xlabel('T')\n",
    "ax.legend()"
   ]
  },
  {
   "cell_type": "markdown",
   "id": "nominated-beast",
   "metadata": {},
   "source": [
    "# Ejercicio 3"
   ]
  },
  {
   "cell_type": "markdown",
   "id": "amended-french",
   "metadata": {},
   "source": [
    "Dada es Matrix $S$:\n",
    "\n",
    "$$S=\n",
    "\\begin{bmatrix}\n",
    "1 &  -1 & -1 & -1\\\\\n",
    "-1 &  2 & 0 & 0\\\\\n",
    "-1 &  3 & 3 & 0 \\\\\n",
    "-1 &  0 & 1 & 4 \\\\\n",
    "\\end{bmatrix}$$\n",
    "\n",
    "\n",
    "a) calcular $S^5$ utilizando diagonalización.  \n",
    "\n",
    "b) crear una funcion `matrix_power(A,n)` que recive dos parametros: matrix $A$, y valor entero de la potencia $n$. Funcion tiene que devolver una matrix $M=A^n$ (usa diagonalizacion)"
   ]
  },
  {
   "cell_type": "code",
   "execution_count": 12,
   "id": "interested-joshua",
   "metadata": {},
   "outputs": [
    {
     "data": {
      "text/plain": [
       "array([[ 289., -287., -179., -515.],\n",
       "       [-139.,  166.,   74.,  188.],\n",
       "       [-139.,  166.,   74.,  188.],\n",
       "       [-703.,  602.,  477., 1458.]])"
      ]
     },
     "execution_count": 12,
     "metadata": {},
     "output_type": "execute_result"
    }
   ],
   "source": [
    "s = np.array([[1,-1,-1,-1],[-1,2,0,0],[-1,2,0,0],[-1,0,1,4]])\n",
    "\n",
    "evalues, evectors = np.linalg.eig(s)\n",
    "\n",
    "P = evectors\n",
    "Pinv = np.linalg.inv(P)\n",
    "D = np.diag(evalues**5)   \n",
    "Dinv = np.linalg.inv(D)\n",
    "\n",
    "P@D@Pinv"
   ]
  },
  {
   "cell_type": "code",
   "execution_count": 13,
   "id": "65255101",
   "metadata": {
    "scrolled": true
   },
   "outputs": [
    {
     "data": {
      "text/plain": [
       "array([[ 289, -287, -179, -515],\n",
       "       [-139,  166,   74,  188],\n",
       "       [-139,  166,   74,  188],\n",
       "       [-703,  602,  477, 1458]])"
      ]
     },
     "execution_count": 13,
     "metadata": {},
     "output_type": "execute_result"
    }
   ],
   "source": [
    "np.linalg.matrix_power(s,5)   #prueba"
   ]
  },
  {
   "cell_type": "code",
   "execution_count": 14,
   "id": "64c31b63",
   "metadata": {},
   "outputs": [],
   "source": [
    "def matrix_powerr(A,n):\n",
    "    evalues,evectors = np.linalg.eig(A)\n",
    "    P = evectors\n",
    "    Pinv = np.linalg.inv(P)\n",
    "    D = np.diag(evalues**n)\n",
    "    return P@D@Pinv"
   ]
  },
  {
   "cell_type": "code",
   "execution_count": 15,
   "id": "74019f82",
   "metadata": {},
   "outputs": [
    {
     "data": {
      "text/plain": [
       "array([[ 289., -287., -179., -515.],\n",
       "       [-139.,  166.,   74.,  188.],\n",
       "       [-139.,  166.,   74.,  188.],\n",
       "       [-703.,  602.,  477., 1458.]])"
      ]
     },
     "execution_count": 15,
     "metadata": {},
     "output_type": "execute_result"
    }
   ],
   "source": [
    "matrix_powerr(s,5)"
   ]
  },
  {
   "cell_type": "markdown",
   "id": "preliminary-cursor",
   "metadata": {},
   "source": [
    "# Feedback:\n",
    "```\n",
    "Exercise 1.\n",
    "Importation of the data + labeled plot (rho vs. r)\t            (max 0.5p):\t0.5p\n",
    "Calculation of the integral                 \t\t              (max 1.5p):\t1.0p\n",
    "\n",
    "Exercise 2.\n",
    "Importation of the data + labeled plot P vs. T \t               (max 0.5p):\t0.5p\n",
    "Calculation of the derivative and plot Cv vs. T        \t\t   (max 2.0p):\t0.5p\n",
    "Approximation of the critical temperature                         (max 0.5p):\t0.5p\n",
    "Interpolation                                                     (max 1.0p):\t1.0p\n",
    "\n",
    "Exercise 3.\n",
    "Calculation of the M^n                                 \t       (max 2.0p):\t2.0p\n",
    "Function of the M^n                                    \t       (max 2.0p):\t2.0p\n",
    "\n",
    "- Total:                                                          (max 10.0p):   8.0p\n",
    "```\n",
    "\n",
    "# usted tiene que cuidar con los detalles: \n",
    "* error: `s = np.array([[1,-1,-1,-1],[-1,2,0,0],[-1,2,0,0],[-1,0,1,4]])`\n",
    "* error : `cv = np.gradient(df1.Temperature,df1.Pressure)`"
   ]
  },
  {
   "cell_type": "code",
   "execution_count": null,
   "id": "fluid-thickness",
   "metadata": {},
   "outputs": [],
   "source": []
  }
 ],
 "metadata": {
  "kernelspec": {
   "display_name": "Python 3",
   "language": "python",
   "name": "python3"
  },
  "language_info": {
   "codemirror_mode": {
    "name": "ipython",
    "version": 3
   },
   "file_extension": ".py",
   "mimetype": "text/x-python",
   "name": "python",
   "nbconvert_exporter": "python",
   "pygments_lexer": "ipython3",
   "version": "3.7.2"
  }
 },
 "nbformat": 4,
 "nbformat_minor": 5
}
