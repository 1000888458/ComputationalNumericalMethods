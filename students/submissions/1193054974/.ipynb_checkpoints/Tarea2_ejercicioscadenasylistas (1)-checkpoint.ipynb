{
 "cells": [
  {
   "cell_type": "markdown",
   "metadata": {
    "id": "Vrd8lwbMiCPn"
   },
   "source": [
    "### Mariana Alvarez Acevedo \n",
    "\n",
    "### Ejercicios sobre Cadenas y Listas\n",
    "\n",
    "### Tarea 2\n",
    "\n"
   ]
  },
  {
   "cell_type": "code",
   "execution_count": 1,
   "metadata": {
    "id": "wKEQyKx9hN1j"
   },
   "outputs": [],
   "source": [
    "# A. donas\n",
    "# Dado un numero entero integer de un número de donas, devuelva una cadena\n",
    "# de la forma 'Numero de donas: <count>', donde <count> es el número\n",
    "# Sin embargo, si el recuento es 10 o más, use la palabra 'muchos'\n",
    "# Entonces donuts(5) devuelve 'Numero de donas: 5'\n",
    "# y donuts(23) devuelve 'Numero de donas: muchos\n",
    "\n",
    "def donuts(count):\n",
    "  # +++ su codigo aqui +++\n",
    "  return "
   ]
  },
  {
   "cell_type": "code",
   "execution_count": 2,
   "metadata": {
    "id": "zTsnrFPbwlCE"
   },
   "outputs": [
    {
     "name": "stdout",
     "output_type": "stream",
     "text": [
      "Escriba el número de donas n=  4\n",
      "Número de donas  =   4\n"
     ]
    }
   ],
   "source": [
    "#Punto 1\n",
    "n= int(input(\"Escriba el número de donas n=  \"))\n",
    "str1='Numero de donas  '\n",
    "def donuts(n):\n",
    "  if n < 10:\n",
    "    print(\"Número de donas  =  \", n)\n",
    "  else:\n",
    "    str2='muchas'\n",
    "    return(str1+'=  '+str2)\n",
    "donuts(n)"
   ]
  },
  {
   "cell_type": "code",
   "execution_count": 3,
   "metadata": {
    "id": "Y20Jg4E84kgZ"
   },
   "outputs": [],
   "source": [
    "# B. both_ends\n",
    "# Dada una cadena s, devuelve una cadena hecha de las primeras 2\n",
    "# y los últimos 2 caracteres de la cuerda original,\n",
    "# así que 'spring' produce 'spng'. Sin embargo, \n",
    "# si la longitud de la cadena es menor que 2, \n",
    "# devuelva en su lugar la cadena vacía.\n",
    "def both_ends(s):\n",
    "  # +++ su codigo aqui +++\n",
    "  return \n"
   ]
  },
  {
   "cell_type": "code",
   "execution_count": 4,
   "metadata": {
    "id": "hihIJXIo6All"
   },
   "outputs": [
    {
     "data": {
      "text/plain": [
       "'cana'"
      ]
     },
     "execution_count": 4,
     "metadata": {},
     "output_type": "execute_result"
    }
   ],
   "source": [
    "#Punto 2\n",
    "s= 'cadena'\n",
    "def both_ends(s):\n",
    "  if len(s)< 2:\n",
    "    c=''\n",
    "  else:\n",
    "    c= s[0]+s[1]+s[-2]+s[-1]\n",
    "  return(c)\n",
    "both_ends(s)"
   ]
  },
  {
   "cell_type": "code",
   "execution_count": 5,
   "metadata": {
    "id": "0C6RfBkw9pXd"
   },
   "outputs": [],
   "source": [
    "# C. fix_start\n",
    "# Dada una cadena s, devuelve una cadena\n",
    "# donde todas las ocurrencias de su primer caracter tienen\n",
    "# se ha cambiado a '*', excepto que no cambie el primer char en sí.\n",
    "# por ejemplo, 'babble' produce 'ba**le'\n",
    "# Supongamos que la cadena tiene una longitud 1 o superior.\n",
    "# Sugerencia: s.replace(stra, strb) devuelve una versión de string s\n",
    "# donde todas las instancias de stra han sido reemplazadas por strb.\n",
    "def fix_start(s):\n",
    "  # +++ su codigo aqui +++\n",
    "  return"
   ]
  },
  {
   "cell_type": "code",
   "execution_count": 6,
   "metadata": {
    "id": "yNwMPLqp9tI0"
   },
   "outputs": [
    {
     "data": {
      "text/plain": [
       "'cadena*adena'"
      ]
     },
     "execution_count": 6,
     "metadata": {},
     "output_type": "execute_result"
    }
   ],
   "source": [
    "#Punto 3\n",
    "s= 'cadenacadena'\n",
    "n= len(s)\n",
    "def fix_start(s):\n",
    "  if n > 0: \n",
    "    ss= s[1:].replace(s[0], \"*\")\n",
    "    return(s[0]+ ss)\n",
    "fix_start(s)"
   ]
  },
  {
   "cell_type": "code",
   "execution_count": 7,
   "metadata": {
    "id": "kwUElEXC_gEk"
   },
   "outputs": [],
   "source": [
    "# D. MixUp\n",
    "# Dadas las cadenas a y b, devuelve una sola cadena con a y b separadas\n",
    "# por un espacio '<a> <b>', excepto intercambiar los primeros 2 caracteres de cada cadena.\n",
    "# por ejemplo.\n",
    "#   'mix', pod' -> 'pox mid'\n",
    "#   'dog', 'dinner' -> 'dig donner'\n",
    "# Supongamos que a y b son de longitud 2 o más.\n",
    "def mix_up(a, b):\n",
    "  # +++ su codigo aqui +++\n",
    "  return "
   ]
  },
  {
   "cell_type": "code",
   "execution_count": 8,
   "metadata": {
    "id": "tZUDDBeD_l5d"
   },
   "outputs": [
    {
     "data": {
      "text/plain": [
       "'mula hondo'"
      ]
     },
     "execution_count": 8,
     "metadata": {},
     "output_type": "execute_result"
    }
   ],
   "source": [
    "#Punto 4\n",
    "a='hola'\n",
    "b='mundo'\n",
    "def mix_up(a, b):\n",
    "  aa= a[2:]\n",
    "  bb= b[2:]\n",
    "  a1= b[0]+b[1]+aa\n",
    "  b1= a[0]+a[1]+bb\n",
    "  return(a1 + ' ' + b1)\n",
    "mix_up(a, b)\n"
   ]
  },
  {
   "cell_type": "code",
   "execution_count": 9,
   "metadata": {
    "id": "W9qGsn1GCWHy"
   },
   "outputs": [],
   "source": [
    "# E. front_back\n",
    "# Considere dividir una cadena en dos mitades.\n",
    "# Si la longitud es par, las mitades delantera y trasera tienen la misma longitud.\n",
    "# Si la longitud es impar, diremos que el caracter extra va en la mitad delantera.\n",
    "# por ejemplo, 'abcde', la mitad delantera es 'abc', la mitad trasera 'de'.\n",
    "# Dadas 2 cadenas, a y b, devuelven una cadena de la forma\n",
    "# a-front + b-front + a-back + b-back\n",
    "# ejemplo si dos cadenas son pares: a='xyzt', b='abcd'. result='xyabztcd'\n",
    "\n",
    "def front_back(a, b):\n",
    "  # +++ su codigo aqui +++\n",
    "  return "
   ]
  },
  {
   "cell_type": "code",
   "execution_count": 10,
   "metadata": {
    "id": "yqiz2LxwCdWS"
   },
   "outputs": [
    {
     "name": "stdout",
     "output_type": "stream",
     "text": [
      "cade nas\n"
     ]
    },
    {
     "data": {
      "text/plain": [
       "'cnadeas'"
      ]
     },
     "execution_count": 10,
     "metadata": {},
     "output_type": "execute_result"
    }
   ],
   "source": [
    "#Punto 5\n",
    "s= 'cadenas'\n",
    "n= int(len(s))\n",
    "if n%2 ==0:\n",
    "  n= int(n/2)\n",
    "  a= s[:n]\n",
    "  b= s[n:]\n",
    "else:\n",
    "  n=int(n//2)\n",
    "  a= s[:n+1]\n",
    "  b= s[n+1:]\n",
    "def front_back(a, b):\n",
    "  n=len(s)\n",
    "  n=n//4\n",
    "  a_front= a[:n]\n",
    "  a_back= a[n:]\n",
    "  b_front= b[:n]\n",
    "  b_back= b[n:]\n",
    "  return(a_front + b_front + a_back + b_back)\n",
    "print(a, b)\n",
    "front_back(a, b)"
   ]
  },
  {
   "cell_type": "code",
   "execution_count": 11,
   "metadata": {
    "id": "evLbKdk7S8q8"
   },
   "outputs": [],
   "source": [
    "# Desafío\n",
    "# F. Extraer el valor del tiempo (time=...) como float de una cadena\n",
    "# conversion se hace usando float(14) que devuelve 14.0\n",
    "# recuerda que el valor del tiempo puede tener formato de dos digitos o tres digitos como\n",
    "# dd.dd o ddd.d o dd.dd... pero siempre terminará con la cadena 'ms'\n",
    "# ejemplo de cadena: \n",
    "# '64 bytes de bogota.net (172.217.173.36): ttl=117 time=14.4 ms'\n",
    "def extract_time(s):\n",
    "  # +++ su codigo aqui +++\n",
    "  return "
   ]
  },
  {
   "cell_type": "code",
   "execution_count": 12,
   "metadata": {
    "id": "hgIZZEJZTFyj"
   },
   "outputs": [],
   "source": [
    "#Punto 6\n"
   ]
  }
 ],
 "metadata": {
  "colab": {
   "name": "Tarea2_ejercicioscadenasylistas.ipynb",
   "private_outputs": true,
   "provenance": []
  },
  "kernelspec": {
   "display_name": "Python 3",
   "language": "python",
   "name": "python3"
  },
  "language_info": {
   "codemirror_mode": {
    "name": "ipython",
    "version": 3
   },
   "file_extension": ".py",
   "mimetype": "text/x-python",
   "name": "python",
   "nbconvert_exporter": "python",
   "pygments_lexer": "ipython3",
   "version": "3.7.2"
  }
 },
 "nbformat": 4,
 "nbformat_minor": 1
}
