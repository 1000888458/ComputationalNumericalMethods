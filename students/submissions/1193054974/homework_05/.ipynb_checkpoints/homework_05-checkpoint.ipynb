{
 "cells": [
  {
   "cell_type": "code",
   "execution_count": 1,
   "metadata": {
    "id": "Ln-ChEmBE9vp"
   },
   "outputs": [],
   "source": [
    "#Homework 5\n",
    "#Autor: Mariana Alvarez"
   ]
  },
  {
   "cell_type": "code",
   "execution_count": 2,
   "metadata": {
    "colab": {
     "base_uri": "https://localhost:8080/"
    },
    "id": "dOXwy62xGR60",
    "outputId": "a1f7e47b-bb8f-4943-9970-29208f9f4ad5"
   },
   "outputs": [
    {
     "name": "stdout",
     "output_type": "stream",
     "text": [
      "Hello, this is Mariana Alvarez homework 5\n"
     ]
    }
   ],
   "source": [
    "print('Hello, this is Mariana Alvarez homework 5')\n",
    "#No entendí muy bien que funcion debiamos de hacer :("
   ]
  },
  {
   "cell_type": "code",
   "execution_count": 3,
   "metadata": {},
   "outputs": [],
   "source": [
    "# Hola Mariana, abajo del notebook hay ejemplo.\n",
    "#Yo voy a crear tres puntos:\n",
    "#x=np.array([4,5,6])\n",
    "#y=np.array([np.log10(4),np.log10(5),np.log10(6)])\n",
    "# y quiero approximaro otros\n",
    "#test_vals=np.arange(3,7,0.1)\n",
    "#entonces llamo tu funcion cuadratic_interp(...) para interpolar los puntos de test_vals"
   ]
  },
  {
   "cell_type": "code",
   "execution_count": 4,
   "metadata": {
    "id": "APgGGF20Xqqm"
   },
   "outputs": [],
   "source": [
    "import numpy as np\n",
    "import matplotlib.pyplot as plt\n",
    "from scipy.interpolate import interp1d"
   ]
  },
  {
   "cell_type": "code",
   "execution_count": 5,
   "metadata": {
    "colab": {
     "base_uri": "https://localhost:8080/"
    },
    "id": "PGUIJxYkIe-e",
    "outputId": "0618c870-af0b-4c64-aa1c-1f54e6e6ad66"
   },
   "outputs": [
    {
     "data": {
      "text/plain": [
       "array([10.7976976])"
      ]
     },
     "execution_count": 5,
     "metadata": {},
     "output_type": "execute_result"
    }
   ],
   "source": [
    "i=[2]\n",
    "j=[6]\n",
    "\n",
    "x=np.array([i,j])\n",
    "y=np.array([np.log10(i), np.log10(j)])\n",
    "\n",
    "def cuadratic_interp(x, y, xinterp):\n",
    "  x=np.array([i,j])\n",
    "  y=np.array([np.log10(i),np.log10(j)])\n",
    "  xinterp=5.0\n",
    "  yinterp=y[0]+((y[1]-y[0])/(x[1]-x[0]))*(xinterp-x[0])\n",
    "  return(yinterp)\n",
    "cuadratic_interp(3,5,90)  \n"
   ]
  },
  {
   "cell_type": "code",
   "execution_count": 6,
   "metadata": {
    "colab": {
     "base_uri": "https://localhost:8080/",
     "height": 282
    },
    "id": "m-tBkGLLjXd8",
    "outputId": "60ca65f2-12c6-4b70-e06a-40ea25c53f47"
   },
   "outputs": [
    {
     "data": {
      "text/plain": [
       "<matplotlib.legend.Legend at 0x7f990b049588>"
      ]
     },
     "execution_count": 6,
     "metadata": {},
     "output_type": "execute_result"
    },
    {
     "data": {
      "image/png": "[encoded data removed]",
      "text/plain": [
       "<Figure size 432x288 with 1 Axes>"
      ]
     },
     "metadata": {
      "needs_background": "light"
     },
     "output_type": "display_data"
    }
   ],
   "source": [
    "xx= np.array([i for i in range(1,10)])\n",
    "yy= np.array([np.log(i) for i in range(1,10)])\n",
    "\n",
    "fig,ax=plt.subplots(1,1)\n",
    "ax.plot(x, y ,'.r',label='points')\n",
    "ax.plot(xx, yy, label='log10')\n",
    "ax.legend()"
   ]
  },
  {
   "cell_type": "code",
   "execution_count": 7,
   "metadata": {
    "id": "RHLF3_SfmBHb"
   },
   "outputs": [
    {
     "data": {
      "text/plain": [
       "[<matplotlib.lines.Line2D at 0x7f98ec0ce630>]"
      ]
     },
     "execution_count": 7,
     "metadata": {},
     "output_type": "execute_result"
    },
    {
     "data": {
      "image/png": "[encoded data removed]",
      "text/plain": [
       "<Figure size 432x288 with 1 Axes>"
      ]
     },
     "metadata": {
      "needs_background": "light"
     },
     "output_type": "display_data"
    }
   ],
   "source": [
    "import numpy as np\n",
    "import os\n",
    "import pandas as pd\n",
    "import matplotlib.pyplot as plt\n",
    "\n",
    "x=np.array([4,5,6])\n",
    "y=np.array([np.log10(4),np.log10(5),np.log10(6)])\n",
    "test_vals=np.arange(3,7,0.1)\n",
    "\n",
    "\n",
    "results=[]\n",
    "for val in test_vals:\n",
    "    result=cuadratic_interp(x,y,val)\n",
    "    results.append(result)\n",
    "fig,ax=plt.subplots(1,1)\n",
    "ax.plot(x,y,'.')\n",
    "ax.plot(test_vals,results)  "
   ]
  },
  {
   "cell_type": "code",
   "execution_count": null,
   "metadata": {},
   "outputs": [],
   "source": []
  }
 ],
 "metadata": {
  "colab": {
   "collapsed_sections": [],
   "name": "homework_5.ipynb",
   "provenance": []
  },
  "kernelspec": {
   "display_name": "Python 3",
   "language": "python",
   "name": "python3"
  },
  "language_info": {
   "codemirror_mode": {
    "name": "ipython",
    "version": 3
   },
   "file_extension": ".py",
   "mimetype": "text/x-python",
   "name": "python",
   "nbconvert_exporter": "python",
   "pygments_lexer": "ipython3",
   "version": "3.7.2"
  }
 },
 "nbformat": 4,
 "nbformat_minor": 1
}
