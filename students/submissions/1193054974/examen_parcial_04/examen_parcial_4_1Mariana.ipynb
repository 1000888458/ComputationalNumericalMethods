{
 "cells": [
  {
   "cell_type": "markdown",
   "id": "impossible-command",
   "metadata": {
    "id": "impossible-command"
   },
   "source": [
    "# Examen parcial 4  $\\color{red}{\\text{(10p max)}}$ (Equaciones diferenciales)\n",
    "* Antes de enviar el archivo, $\\textbf{reiniciar y ejecutar el kernel}$ y ver que el archivo se compila sin errores\n",
    "* enviar el archivo jupyter sin anexos antes de las 10.20am del 08.04.2022 a mi dirección de correo electrónico: michal.hemmerling@udea.edu.co "
   ]
  },
  {
   "cell_type": "code",
   "execution_count": 1,
   "id": "S2kk5TfnYY6l",
   "metadata": {
    "id": "S2kk5TfnYY6l"
   },
   "outputs": [],
   "source": [
    "import numpy as np\n",
    "import pandas as pd\n",
    "import matplotlib.pyplot as plt\n",
    "import random\n",
    "import scipy\n",
    "import scipy.integrate"
   ]
  },
  {
   "cell_type": "markdown",
   "id": "focused-michigan",
   "metadata": {
    "id": "focused-michigan"
   },
   "source": [
    "## Ejercicio 1. $\\color{red}{\\text{(3p)}}$ Equaciones diferenciales - problema de valor de limite (boundary value problem).\n",
    "\n",
    "Transporte de calor en un objeto puede ser escrito usando segunda orden equacion diferencial:\n",
    "$$\\frac{d^2T}{dx^2}=0.01T-0.2$$\n",
    "a) Usando `scipy.integrate.solve_bvp` resolver este equacion diferencial cumpliendo siguientes condiciones de limite:\n",
    "\n",
    "T(x=0)=40  \n",
    "T(x=10)=200\n",
    "\n",
    "b) Hace grafico de T(x) vs x (con etiquietas y legend) "
   ]
  },
  {
   "cell_type": "code",
   "execution_count": 2,
   "id": "D52ze__Bkll0",
   "metadata": {
    "id": "D52ze__Bkll0"
   },
   "outputs": [],
   "source": [
    "from scipy.integrate import solve_bvp\n"
   ]
  },
  {
   "cell_type": "markdown",
   "id": "sized-liberty",
   "metadata": {
    "id": "sized-liberty"
   },
   "source": [
    "## Ejercicio 2.  $\\color{red}{\\text{(4p)}}$ Ecuaciones diferenciales - problema de valor inicial (initial value problem).\n",
    "\n",
    "La ley de Newton del enfriamiento tiene forma de ecuación diferencial\n",
    "\n",
    "$$\\frac{dy}{dt}=k(y-T_{amb}) $$\n",
    "\n",
    "\n",
    "donde:\n",
    "* y es la temperatura actual de un objeto\n",
    "* t es tiempo\n",
    "* k es un valor constante de enfriamiento\n",
    "* $T_{amb}$ es la temperatura del ambiente\n",
    "\n",
    "Digamos que una taza de café tiene una temperatura inicial de 90 centígrados y la temperatura ambiente es de 25 centígrados.\n",
    "\n",
    "a) usando `scipy.integrate.solve_ivp` resolver ecuación diferencial:\n",
    "\n",
    "* para el rango t: t=[0:60], [minutos] (use 100 puntos)\n",
    "* asumir k=-0.06\n",
    "\n",
    "b) Hace grafico de $y(t)$ vs $t$ (con leyenda)\n",
    "* si le gusta tomar café cuando está a más de 70 grados, ¿cuál es el tiempo máximo que puede esperar antes de beber el café (puede obtener índices usando `np.argwhere` para obtener un rango de temperatura más preciso)"
   ]
  },
  {
   "cell_type": "markdown",
   "id": "growing-acceptance",
   "metadata": {
    "id": "growing-acceptance"
   },
   "source": [
    "## Ejercicio 3.  $\\color{red}{\\text{(3p)}}$ Equaciones diferenciales - problema de valor de limite (boundary value problem).\n",
    "\n",
    "Los organizadores de un espectáculo de fuegos artificiales quieren que los fuegos exploten a 40 metros sobre el suelo 5 segundos después del lanzamiento. Encuentra la velocidad inicial del cohete. \n",
    "\n",
    "a) usar ecuacion diferencial segunda orden:\n",
    "\n",
    "$$\\frac{d^2y}{dt^2}= −g $$\n",
    "\n",
    "donde $y$ es altitud de cohete y,   \n",
    "\n",
    "b) hacer plot $y(t)$ vs $t$\n"
   ]
  },
  {
   "cell_type": "code",
   "execution_count": 3,
   "id": "CKuZEBHru2rL",
   "metadata": {
    "colab": {
     "base_uri": "https://localhost:8080/",
     "height": 367
    },
    "id": "CKuZEBHru2rL",
    "outputId": "b83043ac-b87a-4afb-896f-4d77fd578e0e"
   },
   "outputs": [
    {
     "name": "stderr",
     "output_type": "stream",
     "text": [
      "/usr/lib64/python3.7/site-packages/numpy/core/_asarray.py:83: VisibleDeprecationWarning: Creating an ndarray from ragged nested sequences (which is a list-or-tuple of lists-or-tuples-or ndarrays with different lengths or shapes) is deprecated. If you meant to do this, you must specify 'dtype=object' when creating the ndarray\n",
      "  return array(a, dtype, copy=False, order=order)\n"
     ]
    },
    {
     "name": "stdout",
     "output_type": "stream",
     "text": [
      "velocidad inicial:  [32.5]\n"
     ]
    },
    {
     "data": {
      "image/png": "[encoded data removed]",
      "text/plain": [
       "<Figure size 432x288 with 1 Axes>"
      ]
     },
     "metadata": {
      "needs_background": "light"
     },
     "output_type": "display_data"
    }
   ],
   "source": [
    "\n",
    "from scipy.integrate import solve_ivp\n",
    "from scipy.optimize import fsolve\n",
    "\n",
    "y0 = 0\n",
    "v=40\n",
    "x = lambda t, s:np.dot(np.array([[0,1],[0,-9.8/s[1]]]),s)\n",
    "\n",
    "t_span = np.linspace(0, 5, 100)\n",
    "t_eval = np.linspace(0, 5, 10)\n",
    "\n",
    "def cohete(v):\n",
    "    sol = solve_ivp(x, [0, 5],[y0, v], t_eval = t_eval)\n",
    "    y = sol.y[0]\n",
    "    return y[-1] - 40\n",
    "\n",
    "v = fsolve(cohete, 10)\n",
    "sol = solve_ivp(x, [0, 5], [y0, v], t_eval = t_eval)\n",
    "\n",
    "print(\"velocidad inicial: \",v)\n",
    "\n",
    "plt.figure()\n",
    "plt.plot(sol.t, sol.y[0], color=\"orange\")\n",
    "\n",
    "plt.xlabel('t')\n",
    "plt.ylabel('y')\n",
    "plt.title(\"boundary value problem\")\n",
    "plt.grid()"
   ]
  },
  {
   "cell_type": "markdown",
   "id": "insured-suspect",
   "metadata": {
    "id": "insured-suspect"
   },
   "source": [
    "## Ejercicio 4 Ecuaciones diferenciales acopladas - problema de valor inicial `scipy.integrate.solve_ivp` $\\color{red}{\\text{(10p)}}$ o `otros metodos`  $\\color{red}{\\text{(7p)}}$\n",
    "\n",
    "Las ecuaciones de Lotka-Volterra, también conocidas como ecuaciones depredador-presa, son un par de ecuaciones de primer orden, no lineales, ecuaciones diferenciales utilizadas con frecuencia para describir la dinámica de los sistemas biológicos en los que interactúan dos especies, uno como depredador y el otro como presa. Las poblaciones cambian a través del tiempo de acuerdo con el par de ecuaciones:"
   ]
  },
  {
   "cell_type": "markdown",
   "id": "interesting-luxury",
   "metadata": {
    "id": "interesting-luxury"
   },
   "source": [
    "$$\\frac{dx}{dt}=x(\\color{red}{\\alpha}-\\color{red}{\\beta} y)$$\n",
    "$$\\frac{dy}{dt}=-y(\\color{red}{\\gamma}-\\color{red}{\\delta} x)$$"
   ]
  },
  {
   "cell_type": "markdown",
   "id": "compliant-potato",
   "metadata": {
    "id": "compliant-potato"
   },
   "source": [
    "Esa ecuación describiría la evolución de la población de conejos y zorros (condiciones perfectas)\n",
    "\n",
    "* x - numbero de conejos  \n",
    "* y - numbero de zorros\n",
    "\n",
    "* $\\color{red}{\\alpha, \\beta, \\gamma, \\delta }$ son parámetros que describen la interacción de las dos especies\n",
    "\n",
    "* $\\frac{dx}{dt}, \\frac{dy}{dt}$ representan las tasas de crecimiento de las dos poblaciones a lo largo del tiempo\n",
    "\n",
    "* $t$ es tiempo"
   ]
  },
  {
   "cell_type": "markdown",
   "id": "wrapped-edmonton",
   "metadata": {
    "id": "wrapped-edmonton"
   },
   "source": [
    "a) solucionar los ecuaciones diferenciales usando `scipy.integrate.solve_ivp` $\\color{red}{\\text{(10p)}}$ o `otros metodos`  $\\color{red}{\\text{(7p)}}$\n",
    "asumir: \n",
    "* $\\alpha, \\beta, \\gamma, \\delta = 1$\n",
    "* $x_{ini}=4$\n",
    "* $y_{ini}=2$\n",
    "* $t=0:30$ (unidades arbitrarias, asumir meses)\n",
    "\n",
    "b) hacer plot con dos curvas: $x$ vs. $t$ , $y$ vs. $t$   \n",
    "c) hacer plot $x vs y$  \n",
    "d) comentar sobre los dos plots  "
   ]
  },
  {
   "cell_type": "code",
   "execution_count": 4,
   "id": "lasting-courtesy",
   "metadata": {
    "colab": {
     "base_uri": "https://localhost:8080/",
     "height": 373
    },
    "id": "lasting-courtesy",
    "outputId": "0b5bc01a-2d09-4b94-dc4b-0539fe01bef1"
   },
   "outputs": [],
   "source": [
    "from scipy.integrate import solve_ivp\n",
    "from scipy.integrate import odeint\n",
    "\n",
    "\n",
    "a= 1.0\n",
    "b= 1.0\n",
    "c= 1.0\n",
    "d= 1.0\n",
    "xi= 4.0\n",
    "yi= 2.0\n",
    "tm= 30.0 #meses\n",
    "xyi = [xi, yi]  # Initial state of the system\n",
    "\n",
    "def lotka(state, t):\n",
    "  x= state[0]\n",
    "  y= state[1]\n",
    "  dx = x * (a- (b*y))\n",
    "  dy = -y * (c-(d*x))\n",
    "  return np.array([dx, dy])\n",
    "\n",
    "nt=1000\n",
    "t = np.linspace(0, 30, 100)\n",
    "r= odeint(lotka, xyi, t)\n",
    "\n",
    "x=r.T[0]\n",
    "y=r.T[1]\n",
    "\n",
    "\n",
    "\n"
   ]
  },
  {
   "cell_type": "code",
   "execution_count": 5,
   "id": "bEAp5Z5KsnO8",
   "metadata": {
    "id": "bEAp5Z5KsnO8"
   },
   "outputs": [
    {
     "data": {
      "text/plain": [
       "<function matplotlib.pyplot.grid(visible=None, which='major', axis='both', **kwargs)>"
      ]
     },
     "execution_count": 5,
     "metadata": {},
     "output_type": "execute_result"
    },
    {
     "data": {
      "image/png": "[encoded data removed]",
      "text/plain": [
       "<Figure size 432x288 with 1 Axes>"
      ]
     },
     "metadata": {
      "needs_background": "light"
     },
     "output_type": "display_data"
    }
   ],
   "source": [
    "plt.figure()\n",
    "plt.title(\"Zorros y conejos (población)\")\n",
    "plt.plot(t, x, color=\"violet\", label=\"conejos\")\n",
    "plt.plot(t, y, color=\"orange\", label=\"zorros\")\n",
    "plt.xlabel(\"poblacion\")\n",
    "plt.legend()\n",
    "plt.grid"
   ]
  },
  {
   "cell_type": "code",
   "execution_count": 6,
   "id": "7R0meXzyzKAU",
   "metadata": {
    "id": "7R0meXzyzKAU"
   },
   "outputs": [
    {
     "data": {
      "image/png": "[encoded data removed]",
      "text/plain": [
       "<Figure size 432x288 with 1 Axes>"
      ]
     },
     "metadata": {
      "needs_background": "light"
     },
     "output_type": "display_data"
    }
   ],
   "source": [
    "plt.figure()\n",
    "plt.plot(y,x)\n",
    "plt.xlabel('conejos')\n",
    "plt.ylabel('zorros')\n",
    "plt.grid()\n"
   ]
  },
  {
   "cell_type": "markdown",
   "id": "ultimate-category",
   "metadata": {},
   "source": [
    "# Feedback:\n",
    "```\n",
    "Exercise 1.\n",
    "Solution + presentation of the results\t            (max 3.0p):\t0.0p\n",
    "\n",
    "Exercise 2.\n",
    "Solution + presentation of the results\t            (max 4.0p):\t0.0p\n",
    "\n",
    "Exercise 3.\n",
    "Solution + presentation of the results\t            (max 3.0p):\t3.0p\n",
    "\n",
    "Exercise 4 ODEINT.\n",
    "Solution + presentation of the results\t            (max 7.0p):\t5.0p\n",
    "  x= state[0]\n",
    "  y= state[1]\n",
    "yo lo corregi\n",
    "\n",
    "Exercise 4 IVP.\n",
    "Solution + presentation of the results\t            (max 10.0p):  00.0p\n",
    "\n",
    "\n",
    "\n",
    "- Total:                                              (max 10.0p):   8.0p\n",
    "```"
   ]
  },
  {
   "cell_type": "code",
   "execution_count": null,
   "id": "appointed-female",
   "metadata": {},
   "outputs": [],
   "source": []
  }
 ],
 "metadata": {
  "colab": {
   "name": "examen_parcial_4_1Mariana.ipynb",
   "provenance": []
  },
  "kernelspec": {
   "display_name": "Python 3",
   "language": "python",
   "name": "python3"
  },
  "language_info": {
   "codemirror_mode": {
    "name": "ipython",
    "version": 3
   },
   "file_extension": ".py",
   "mimetype": "text/x-python",
   "name": "python",
   "nbconvert_exporter": "python",
   "pygments_lexer": "ipython3",
   "version": "3.7.2"
  }
 },
 "nbformat": 4,
 "nbformat_minor": 5
}
