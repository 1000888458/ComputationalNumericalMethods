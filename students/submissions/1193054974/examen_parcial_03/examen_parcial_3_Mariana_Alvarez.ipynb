{
 "cells": [
  {
   "cell_type": "markdown",
   "id": "plain-rugby",
   "metadata": {
    "id": "plain-rugby"
   },
   "source": [
    "# Examen parcial 3 (calculo numerico y algebra lineal)\n",
    "* Antes de enviar el archivo, $\\textbf{reiniciar y ejecutar el kernel}$ para ver que el archivo se compila sin errores\n",
    "* enviar el archivo jupyter sin anexos antes de las 10.10am del 30.03.2022 a mi dirección de correo electrónico: michal.hemmerling@udea.edu.co "
   ]
  },
  {
   "cell_type": "code",
   "execution_count": 35,
   "id": "6BhP7_k9_Rfv",
   "metadata": {
    "id": "6BhP7_k9_Rfv"
   },
   "outputs": [],
   "source": [
    "import numpy as np\n",
    "import pandas as pd\n",
    "import matplotlib.pyplot as plt\n",
    "import random\n",
    "import scipy"
   ]
  },
  {
   "cell_type": "markdown",
   "id": "usual-washer",
   "metadata": {
    "id": "usual-washer"
   },
   "source": [
    "# Ejercicio 1"
   ]
  },
  {
   "cell_type": "markdown",
   "id": "pretty-conference",
   "metadata": {
    "id": "pretty-conference"
   },
   "source": [
    "El archivo $\\textbf{data_radius_density.csv}$ contiene dos columnas: radio ($ r $) y la densidad ($ \\rho (r) $) de un disco plano en función del radio\n",
    "\n",
    "El disco es lo suficientemente delgado como para que, con fines matemáticos, podamos tratarlo como un objeto bidimensional. Asumimos que la densidad se da en términos de masa por unidad de área (llamada densidad de área), y además asumimos que la densidad varía solo a lo largo del radio del disco (llamada densidad radial). Orientamos el disco en el plano xy, con el centro en el origen. Entonces, la densidad del disco puede ser tratada como una función de x, denotada $\\rho(x)$.\n",
    "<table><tr>\n",
    "<td> <img src=\"disk_radius_density.png\" width=\"500\" /> </td>\n",
    "</tr></table>   \n",
    "\n",
    "* a) importar los datos usando Pandas, graficar la densidad del disco frente a su radio (los gráficos deben tener etiquetas para el eje `x` y el eje `y`).\n",
    "\n",
    "* b) sabiendo que la masa del disco viene dada por una integral:\n",
    "$$ m = \\int_0^{r} 2 \\pi \\ r * \\rho (r) \\ dr $$\n",
    "     calcular la masa del disco mediante integración numérica\n",
    "\n",
    "* Pista:`x`: is radius and `y`: is ***integrand***\n"
   ]
  },
  {
   "cell_type": "code",
   "execution_count": 32,
   "id": "6qVcSqAeJsfS",
   "metadata": {
    "colab": {
     "base_uri": "https://localhost:8080/"
    },
    "id": "6qVcSqAeJsfS",
    "outputId": "79e72bb3-2bd7-4379-ace0-35b638c761b8"
   },
   "outputs": [
    {
     "name": "stdout",
     "output_type": "stream",
     "text": [
      "Mounted at /content/gdrive\n"
     ]
    }
   ],
   "source": [
    "from google.colab import drive \n",
    "drive.mount('/content/gdrive')"
   ]
  },
  {
   "cell_type": "code",
   "execution_count": 76,
   "id": "valuable-august",
   "metadata": {
    "colab": {
     "base_uri": "https://localhost:8080/",
     "height": 295
    },
    "id": "valuable-august",
    "outputId": "83348c66-2514-4ccb-cd83-18b1dec74a61"
   },
   "outputs": [
    {
     "data": {
      "image/png": "[encoded data removed]",
      "text/plain": [
       "<Figure size 432x288 with 1 Axes>"
      ]
     },
     "metadata": {
      "needs_background": "light"
     },
     "output_type": "display_data"
    }
   ],
   "source": [
    "#Punto A\n",
    "data1= pd.read_csv('/content/drive/MyDrive/Colab Notebooks/Metodos/Teoría/Parcial 3/data_radius_density (2).csv')\n",
    "data1.head()\n",
    "radio= data1[\"radius\"]\n",
    "densi= data1[\"density\"]\n",
    "\n",
    "fig, ax=plt.subplots(1,1)\n",
    "ax.plot(radio, densi, color=\"blue\")\n",
    "plt.xlabel(\"Radio\")\n",
    "plt.ylabel(\"Densidad\")\n",
    "plt.title(\"Radio vs Densidad\")\n",
    "plt.grid()"
   ]
  },
  {
   "cell_type": "code",
   "execution_count": 77,
   "id": "ki4HidsNU2eE",
   "metadata": {
    "colab": {
     "base_uri": "https://localhost:8080/"
    },
    "id": "ki4HidsNU2eE",
    "outputId": "fc5bf331-9c5a-4bde-883c-c787f3bb1ace"
   },
   "outputs": [
    {
     "name": "stdout",
     "output_type": "stream",
     "text": [
      "La masa es:   80.42489768943994\n"
     ]
    }
   ],
   "source": [
    "#Punto B\n",
    "import scipy.integrate as integrate\n",
    "\n",
    "y=[]\n",
    "for i in range (len(data1[\"radius\"])):\n",
    "  y.append(2*np.pi*data1[\"radius\"][i]*data1[\"density\"][i])\n",
    "  \n",
    "masa= integrate.simps(y, data1[\"radius\"])\n",
    "print(\"La masa es:  \", masa)\n"
   ]
  },
  {
   "cell_type": "markdown",
   "id": "handy-obligation",
   "metadata": {
    "id": "handy-obligation"
   },
   "source": [
    "# Ejercicio 2"
   ]
  },
  {
   "cell_type": "markdown",
   "id": "broken-belfast",
   "metadata": {
    "id": "broken-belfast"
   },
   "source": [
    "La capacidad calorífica de un gas muy frío se puede aproximar mediante:\n",
    "\n",
    "$$ C_v \\approx \\left (\\frac{dP}{dT} \\right) $$\n",
    "(en las unidades de $ \\left [\\frac {J} {K} \\right] $)\n",
    "\n",
    "Donde $P$ es la presión $ [J / s^3] $ del gas y $ T \\ [K] $ es la temperatura del gas.\n",
    "\n",
    "Los datos para la presión frente a la temperatura se dan en el archivo csv ($ \\textbf{data_pressure_vs_temperature.csv} $).\n",
    "\n",
    "* a) importar los datos usando pandas\n",
    "* b) hacer un gráfico de $P$ vs $T$ (grafico tiene que tener etiquietas)\n",
    "* c) utilizando la derivada numérica, encuentre la capacidad calorífica.\n",
    "* d) hacer un gráfico de $C_v$ vs $T$ (grafico tiene que tener etiquietas)\n",
    "* e) usando el ultimo grafico hace una estimacion de Temperatura Critica de este gas (Temperatura Critica es Temperatura de cambio abrupto del comportamiento de Capacidad Termica)\n",
    "* f) hace interpolacion cubica (100 puntos) de los valores de pression $P$, repite puntos `c)` y `d)`\n",
    "\n",
    "*gas muy frío se refiere a un gas Bose no homogéneo, y la teoría que relaciona $ C_v $ y $ P $ se refiere a la Teoría de Variables Globales Termodinámicas. La presión en realidad se llama parámetro de presión."
   ]
  },
  {
   "cell_type": "code",
   "execution_count": 78,
   "id": "written-adrian",
   "metadata": {
    "id": "written-adrian"
   },
   "outputs": [],
   "source": [
    "#Punto A\n",
    "data2= pd.read_csv('/content/drive/MyDrive/Colab Notebooks/Metodos/Teoría/Parcial 3/data_pressure_vs_temparature (2).csv')\n",
    "data2.head()\n",
    "\n",
    "tem= data2[\"Temperature\"]\n",
    "pre= data2[\"Pressure\"]"
   ]
  },
  {
   "cell_type": "code",
   "execution_count": 79,
   "id": "zIqsyAgVVq5W",
   "metadata": {
    "colab": {
     "base_uri": "https://localhost:8080/",
     "height": 295
    },
    "id": "zIqsyAgVVq5W",
    "outputId": "08dd8329-e9b4-4d9d-9334-7c2520815de5"
   },
   "outputs": [
    {
     "data": {
      "image/png": "[encoded data removed]",
      "text/plain": [
       "<Figure size 432x288 with 1 Axes>"
      ]
     },
     "metadata": {
      "needs_background": "light"
     },
     "output_type": "display_data"
    }
   ],
   "source": [
    "#Punto B\n",
    "\n",
    "fig, ax=plt.subplots(1,1)\n",
    "ax.plot(tem ,pre, color=\"red\")\n",
    "plt.xlabel(\"Temperatura\")\n",
    "plt.ylabel(\"Presión\")\n",
    "plt.title(\"Presión vs Temperatura\")\n",
    "plt.grid()"
   ]
  },
  {
   "cell_type": "code",
   "execution_count": 84,
   "id": "pr0qN3jYWZTa",
   "metadata": {
    "colab": {
     "base_uri": "https://localhost:8080/"
    },
    "id": "pr0qN3jYWZTa",
    "outputId": "a93de9e6-f219-439c-b1ef-72178171f350"
   },
   "outputs": [
    {
     "data": {
      "text/plain": [
       "array([5.29799802e-11, 7.61486415e-11, 1.30352287e-10, 2.06082997e-10,\n",
       "       3.12475005e-10, 4.48916825e-10, 6.02904968e-10, 7.63919658e-10,\n",
       "       9.40191259e-10, 1.11550372e-09, 1.19769793e-09, 1.03501324e-09,\n",
       "       8.09658111e-10, 7.30340985e-10, 7.01723220e-10, 6.84061313e-10,\n",
       "       6.71936615e-10, 6.63114111e-10, 6.56443006e-10, 6.51256053e-10,\n",
       "       6.47135543e-10, 6.43805355e-10, 6.41075324e-10, 6.38810197e-10,\n",
       "       6.36911237e-10, 6.35304785e-10, 6.33934876e-10, 6.32758315e-10,\n",
       "       6.31741302e-10, 6.30857069e-10, 6.30445179e-10])"
      ]
     },
     "execution_count": 84,
     "metadata": {},
     "output_type": "execute_result"
    }
   ],
   "source": [
    "#Punto C\n",
    "Cv=np.gradient(pre, tem)\n",
    "Cv\n"
   ]
  },
  {
   "cell_type": "code",
   "execution_count": 89,
   "id": "dQRjhOZrYOKw",
   "metadata": {
    "colab": {
     "base_uri": "https://localhost:8080/",
     "height": 295
    },
    "id": "dQRjhOZrYOKw",
    "outputId": "379a0bc7-4f2b-449f-9330-2bee27cfd3ab"
   },
   "outputs": [
    {
     "data": {
      "image/png": "[encoded data removed]",
      "text/plain": [
       "<Figure size 432x288 with 1 Axes>"
      ]
     },
     "metadata": {
      "needs_background": "light"
     },
     "output_type": "display_data"
    }
   ],
   "source": [
    "#Punto D\n",
    "fig, ax=plt.subplots(1,1)\n",
    "ax.plot(tem ,Cv , color=\"green\")\n",
    "plt.xlabel(\"Temperatura\")\n",
    "plt.ylabel(\"Cv\")\n",
    "plt.title(\"Cv vs Temperatura\")\n",
    "plt.grid()\n"
   ]
  },
  {
   "cell_type": "code",
   "execution_count": null,
   "id": "aekug02DZCCC",
   "metadata": {
    "id": "aekug02DZCCC"
   },
   "outputs": [],
   "source": [
    "#Punto E"
   ]
  },
  {
   "cell_type": "code",
   "execution_count": 95,
   "id": "qgS-kAGUZDyZ",
   "metadata": {
    "colab": {
     "base_uri": "https://localhost:8080/",
     "height": 295
    },
    "id": "qgS-kAGUZDyZ",
    "outputId": "8f72e670-94a7-491c-fc28-2bf6b51b650b"
   },
   "outputs": [
    {
     "data": {
      "image/png": "[encoded data removed]",
      "text/plain": [
       "<Figure size 432x288 with 1 Axes>"
      ]
     },
     "metadata": {
      "needs_background": "light"
     },
     "output_type": "display_data"
    }
   ],
   "source": [
    "#Punto F\n",
    "from scipy import interpolate\n",
    "\n",
    "f_interp = interpolate.interp1d(tem ,pre ,kind='cubic')\n",
    "tem_interp=np.linspace(np.min(tem),np.max(tem),100)\n",
    "pre_interp=f_interp(tem_interp)\n",
    "\n",
    "#Reperición punto C\n",
    "Cv_interp= np.gradient(pre_interp, tem_interp)\n",
    "#print(Cv_interp)\n",
    "\n",
    "#Repetición punto D\n",
    "fig, ax=plt.subplots(1,1)\n",
    "ax.plot(tem_interp ,Cv_interp , color=\"orange\")\n",
    "plt.xlabel(\"Temperatura Interpolate\")\n",
    "plt.ylabel(\"Cv interpolate\")\n",
    "plt.title(\"interpolate (Cv vs Temperatura)\")\n",
    "plt.grid()"
   ]
  },
  {
   "cell_type": "markdown",
   "id": "nominated-beast",
   "metadata": {
    "id": "nominated-beast"
   },
   "source": [
    "# Ejercicio 3"
   ]
  },
  {
   "cell_type": "markdown",
   "id": "amended-french",
   "metadata": {
    "id": "amended-french"
   },
   "source": [
    "Dada es Matrix $S$:\n",
    "\n",
    "$$S=\n",
    "\\begin{bmatrix}\n",
    "1 &  -1 & -1 & -1\\\\\n",
    "-1 &  2 & 0 & 0\\\\\n",
    "-1 &  3 & 3 & 0 \\\\\n",
    "-1 &  0 & 1 & 4 \\\\\n",
    "\\end{bmatrix}$$\n",
    "\n",
    "\n",
    "a) calcular $S^5$ utilizando diagonalización.  \n",
    "\n",
    "b) crear una funcion `matrix_power(A,n)` que recive dos parametros: matrix $A$, y valor entero de la potencia $n$. Funcion tiene que devolver una matrix $M=A^n$ (usa diagonalizacion)"
   ]
  },
  {
   "cell_type": "code",
   "execution_count": 2,
   "id": "interested-joshua",
   "metadata": {
    "colab": {
     "base_uri": "https://localhost:8080/"
    },
    "id": "interested-joshua",
    "outputId": "c2dbc9e1-833b-4b79-f88e-74a214a5e4e7"
   },
   "outputs": [
    {
     "name": "stdout",
     "output_type": "stream",
     "text": [
      "[[ 1.78445857e-01  2.01991222e+01  1.09158524e+01  4.63123093e-13]\n",
      " [ 1.42286160e-01  1.93954906e+00  2.80490230e+01  2.24404490e-13]\n",
      " [-5.27176884e-01 -1.81029105e+01  1.25933587e+02  4.50385595e+02]\n",
      " [ 7.97753265e-01 -2.13949133e+01 -4.71208110e+01  6.82666667e+02]]\n",
      "[[  485  -755  -563  -563]\n",
      " [ -179   280   192   192]\n",
      " [ -675  1201   707   464]\n",
      " [-1027  1448  1275  1518]]\n"
     ]
    }
   ],
   "source": [
    "#Punto A\n",
    "import numpy as np\n",
    "S =np.array([[1,-1, -1, -1],\n",
    "            [-1, 2, 0, 0],\n",
    "            [-1, 3, 3, 0],\n",
    "            [-1, 0, 1, 4]])\n",
    "\n",
    "D=np.diag(S)\n",
    "n=5\n",
    "evalues, evectors = np.linalg.eig(S)\n",
    "P = evectors\n",
    "P_1 = np.linalg.inv(P)\n",
    "D= D**5\n",
    "\n",
    "print(P*D*P_1)\n",
    "\n",
    "\n",
    "power = np.linalg.matrix_power(S, 5)\n",
    "print(power)"
   ]
  },
  {
   "cell_type": "code",
   "execution_count": 12,
   "id": "PMzv1CWHG7eq",
   "metadata": {
    "id": "PMzv1CWHG7eq"
   },
   "outputs": [],
   "source": [
    "#Punto B\n",
    "def mymatrix_power(A,n):\n",
    "  D=np.diag(A)\n",
    "  evalues, evectors = np.linalg.eig(A)\n",
    "  P = evectors\n",
    "  P_1 = np.linalg.inv(P)\n",
    "  for i in range(n):\n",
    "    D[i,i]= D[i,i]**n\n",
    "  return np.matmul(P,matmul(D,P_1))\n",
    "\n"
   ]
  },
  {
   "cell_type": "code",
   "execution_count": 11,
   "id": "mexican-liechtenstein",
   "metadata": {},
   "outputs": [
    {
     "ename": "IndexError",
     "evalue": "too many indices for array: array is 1-dimensional, but 2 were indexed",
     "output_type": "error",
     "traceback": [
      "\u001b[0;31m---------------------------------------------------------------------------\u001b[0m",
      "\u001b[0;31mIndexError\u001b[0m                                Traceback (most recent call last)",
      "\u001b[0;32m<ipython-input-11-aad3880dc778>\u001b[0m in \u001b[0;36m<module>\u001b[0;34m\u001b[0m\n\u001b[0;32m----> 1\u001b[0;31m \u001b[0mmymatrix_power\u001b[0m\u001b[0;34m(\u001b[0m\u001b[0mS\u001b[0m\u001b[0;34m,\u001b[0m\u001b[0;36m5\u001b[0m\u001b[0;34m)\u001b[0m\u001b[0;34m\u001b[0m\u001b[0;34m\u001b[0m\u001b[0m\n\u001b[0m",
      "\u001b[0;32m<ipython-input-10-cf7c3da67d31>\u001b[0m in \u001b[0;36mmymatrix_power\u001b[0;34m(A, n)\u001b[0m\n\u001b[1;32m      6\u001b[0m   \u001b[0mP_1\u001b[0m \u001b[0;34m=\u001b[0m \u001b[0mnp\u001b[0m\u001b[0;34m.\u001b[0m\u001b[0mlinalg\u001b[0m\u001b[0;34m.\u001b[0m\u001b[0minv\u001b[0m\u001b[0;34m(\u001b[0m\u001b[0mP\u001b[0m\u001b[0;34m)\u001b[0m\u001b[0;34m\u001b[0m\u001b[0;34m\u001b[0m\u001b[0m\n\u001b[1;32m      7\u001b[0m   \u001b[0;32mfor\u001b[0m \u001b[0mi\u001b[0m \u001b[0;32min\u001b[0m \u001b[0mrange\u001b[0m\u001b[0;34m(\u001b[0m\u001b[0mn\u001b[0m\u001b[0;34m)\u001b[0m\u001b[0;34m:\u001b[0m\u001b[0;34m\u001b[0m\u001b[0;34m\u001b[0m\u001b[0m\n\u001b[0;32m----> 8\u001b[0;31m     \u001b[0mD\u001b[0m\u001b[0;34m[\u001b[0m\u001b[0mi\u001b[0m\u001b[0;34m,\u001b[0m\u001b[0mi\u001b[0m\u001b[0;34m]\u001b[0m\u001b[0;34m=\u001b[0m \u001b[0mD\u001b[0m\u001b[0;34m[\u001b[0m\u001b[0mi\u001b[0m\u001b[0;34m,\u001b[0m\u001b[0mi\u001b[0m\u001b[0;34m]\u001b[0m\u001b[0;34m**\u001b[0m\u001b[0mn\u001b[0m\u001b[0;34m\u001b[0m\u001b[0;34m\u001b[0m\u001b[0m\n\u001b[0m\u001b[1;32m      9\u001b[0m   \u001b[0;32mreturn\u001b[0m \u001b[0mnp\u001b[0m\u001b[0;34m.\u001b[0m\u001b[0mmatmul\u001b[0m\u001b[0;34m(\u001b[0m\u001b[0mP\u001b[0m\u001b[0;34m,\u001b[0m\u001b[0mmatmul\u001b[0m\u001b[0;34m(\u001b[0m\u001b[0mD\u001b[0m\u001b[0;34m,\u001b[0m\u001b[0mP_1\u001b[0m\u001b[0;34m)\u001b[0m\u001b[0;34m)\u001b[0m\u001b[0;34m\u001b[0m\u001b[0;34m\u001b[0m\u001b[0m\n\u001b[1;32m     10\u001b[0m \u001b[0;34m\u001b[0m\u001b[0m\n",
      "\u001b[0;31mIndexError\u001b[0m: too many indices for array: array is 1-dimensional, but 2 were indexed"
     ]
    }
   ],
   "source": [
    "mymatrix_power(S,5)"
   ]
  },
  {
   "cell_type": "markdown",
   "id": "otherwise-refund",
   "metadata": {},
   "source": [
    "# Feedback:\n",
    "```\n",
    "Exercise 1.\n",
    "Importation of the data + labeled plot (rho vs. r)\t            (max 0.5p):\t0.5p\n",
    "Calculation of the integral                 \t\t              (max 1.5p):\t1.5p\n",
    "\n",
    "Exercise 2.\n",
    "Importation of the data + labeled plot P vs. T \t               (max 0.5p):\t0.5p\n",
    "Calculation of the derivative and plot Cv vs. T        \t\t   (max 2.0p):\t2.0p\n",
    "Approximation of the critical temperature                         (max 0.5p):\t0.5p\n",
    "Interpolation                                                     (max 1.0p):\t1.0p\n",
    "\n",
    "Exercise 3.\n",
    "Calculation of the M^n                                 \t       (max 2.0p):\t2.0p\n",
    "Function of the M^n                                    \t       (max 2.0p):\t1.5p\n",
    "\n",
    "- Total:                                                          (max 10.0p):   9.5p\n",
    "```"
   ]
  },
  {
   "cell_type": "code",
   "execution_count": null,
   "id": "banned-recipe",
   "metadata": {},
   "outputs": [],
   "source": []
  }
 ],
 "metadata": {
  "colab": {
   "name": "examen_parcial_3_Mariana_Alvarez.ipynb",
   "provenance": []
  },
  "kernelspec": {
   "display_name": "Python 3",
   "language": "python",
   "name": "python3"
  },
  "language_info": {
   "codemirror_mode": {
    "name": "ipython",
    "version": 3
   },
   "file_extension": ".py",
   "mimetype": "text/x-python",
   "name": "python",
   "nbconvert_exporter": "python",
   "pygments_lexer": "ipython3",
   "version": "3.7.2"
  }
 },
 "nbformat": 4,
 "nbformat_minor": 5
}
