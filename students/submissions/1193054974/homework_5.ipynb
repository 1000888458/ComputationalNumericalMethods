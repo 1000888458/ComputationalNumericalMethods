{
  "nbformat": 4,
  "nbformat_minor": 0,
  "metadata": {
    "colab": {
      "name": "homework_5.ipynb",
      "provenance": [],
      "collapsed_sections": []
    },
    "kernelspec": {
      "name": "python3",
      "display_name": "Python 3"
    },
    "language_info": {
      "name": "python"
    }
  },
  "cells": [
    {
      "cell_type": "code",
      "execution_count": null,
      "metadata": {
        "id": "Ln-ChEmBE9vp"
      },
      "outputs": [],
      "source": [
        "#Homework 5\n",
        "#Autor: Mariana Alvarez"
      ]
    },
    {
      "cell_type": "code",
      "source": [
        "print('Hello, this is Mariana Alvarez homework 5')"
      ],
      "metadata": {
        "colab": {
          "base_uri": "https://localhost:8080/"
        },
        "id": "dOXwy62xGR60",
        "outputId": "43c06383-2626-48fb-ba0d-416c7bc82927"
      },
      "execution_count": 14,
      "outputs": [
        {
          "output_type": "stream",
          "name": "stdout",
          "text": [
            "Hello, this is Mariana Alvarez homework 5\n"
          ]
        }
      ]
    },
    {
      "cell_type": "code",
      "source": [
        "import numpy as np\n",
        "import matplotlib.pyplot as plt\n",
        "from scipy.interpolate import interp1d"
      ],
      "metadata": {
        "id": "APgGGF20Xqqm"
      },
      "execution_count": 15,
      "outputs": []
    },
    {
      "cell_type": "code",
      "source": [
        "def cuadratic_interp(x,y,xinterp):                                                       \n",
        "    b0 = y[0]                                                                             \n",
        "    b1 = (y[1]-y[0])/(x[1]-x[0])\n",
        "    b2 = (((y[2]-y[1])/(x[2]-x[1]))-((y[1]-y[0])/(x[1]-x[0])))/(x[2]-x[0])\n",
        "\n",
        "    yinterp = b0+(xinterp-x[0])*b1+(xinterp-x[0])*(xinterp-x[1])*b2\n",
        "    \n",
        "    return yinterp\n"
      ],
      "metadata": {
        "id": "6FBZV7VFU3VY"
      },
      "execution_count": 29,
      "outputs": []
    },
    {
      "cell_type": "code",
      "source": [
        "\n",
        "x=np.array([4,5,6])\n",
        "y=np.array([np.log10(4),np.log10(5),np.log10(6)])\n",
        "test_vals=np.arange(3,7,0.1)\n",
        "\n",
        "results=[]\n",
        "for val in test_vals:\n",
        "    result=cuadratic_interp(x,y,val)\n",
        "    results.append(result)\n",
        "fig,ax=plt.subplots(1,1)\n",
        "ax.plot(x,y,'.r', label=\"points\")\n",
        "ax.plot(test_vals,results, label=\"approximation\")  \n",
        "ax.legend()"
      ],
      "metadata": {
        "id": "RHLF3_SfmBHb",
        "colab": {
          "base_uri": "https://localhost:8080/",
          "height": 285
        },
        "outputId": "789426d0-1815-4655-aac8-4791bf05dec2"
      },
      "execution_count": 35,
      "outputs": [
        {
          "output_type": "execute_result",
          "data": {
            "text/plain": [
              "<matplotlib.legend.Legend at 0x7ff53a48de90>"
            ]
          },
          "metadata": {},
          "execution_count": 35
        },
        {
          "output_type": "display_data",
          "data": {
            "image/png": "[encoded data removed]",
            "text/plain": [
              "<Figure size 432x288 with 1 Axes>"
            ]
          },
          "metadata": {
            "needs_background": "light"
          }
        }
      ]
    }
  ]
}