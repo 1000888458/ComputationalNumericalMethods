{
  "nbformat": 4,
  "nbformat_minor": 0,
  "metadata": {
    "colab": {
      "name": "homework_5.ipynb",
      "provenance": [],
      "collapsed_sections": []
    },
    "kernelspec": {
      "name": "python3",
      "display_name": "Python 3"
    },
    "language_info": {
      "name": "python"
    }
  },
  "cells": [
    {
      "cell_type": "code",
      "execution_count": 61,
      "metadata": {
        "id": "Ln-ChEmBE9vp"
      },
      "outputs": [],
      "source": [
        "#Homework 5\n",
        "#Autor: Mariana Alvarez"
      ]
    },
    {
      "cell_type": "code",
      "source": [
        "print('Hello, this is Mariana Alvarez homework 5')\n",
        "#No entendí muy bien que funcion debiamos de hacer :("
      ],
      "metadata": {
        "colab": {
          "base_uri": "https://localhost:8080/"
        },
        "id": "dOXwy62xGR60",
        "outputId": "a1f7e47b-bb8f-4943-9970-29208f9f4ad5"
      },
      "execution_count": 62,
      "outputs": [
        {
          "output_type": "stream",
          "name": "stdout",
          "text": [
            "Hello, this is Mariana Alvarez homework 5\n"
          ]
        }
      ]
    },
    {
      "cell_type": "code",
      "source": [
        "import numpy as np\n",
        "import matplotlib.pyplot as plt\n",
        "from scipy.interpolate import interp1d"
      ],
      "metadata": {
        "id": "APgGGF20Xqqm"
      },
      "execution_count": 63,
      "outputs": []
    },
    {
      "cell_type": "code",
      "source": [
        "i=[2]\n",
        "j=[6]\n",
        "\n",
        "x=np.array([i,j])\n",
        "y=np.array([np.log10(i), np.log10(j)])\n",
        "\n",
        "def cuadratic_interp(x, y, xinterp):\n",
        "  x=np.array([i,j])\n",
        "  y=np.array([np.log10(i),np.log10(j)])\n",
        "  xinterp=5.0\n",
        "  yinterp=y[0]+((y[1]-y[0])/(x[1]-x[0]))*(xinterp-x[0])\n",
        "  return(yinterp)\n",
        "cuadratic_interp(3,5,90)  \n"
      ],
      "metadata": {
        "colab": {
          "base_uri": "https://localhost:8080/"
        },
        "id": "PGUIJxYkIe-e",
        "outputId": "0618c870-af0b-4c64-aa1c-1f54e6e6ad66"
      },
      "execution_count": 66,
      "outputs": [
        {
          "output_type": "execute_result",
          "data": {
            "text/plain": [
              "array([0.65887094])"
            ]
          },
          "metadata": {},
          "execution_count": 66
        }
      ]
    },
    {
      "cell_type": "code",
      "source": [
        "xx= np.array([i for i in range(1,10)])\n",
        "yy= np.array([np.log(i) for i in range(1,10)])\n",
        "\n",
        "fig,ax=plt.subplots(1,1)\n",
        "ax.plot(x, y ,'.r',label='points')\n",
        "ax.plot(xx, yy, label='log10')\n",
        "ax.legend()"
      ],
      "metadata": {
        "colab": {
          "base_uri": "https://localhost:8080/",
          "height": 282
        },
        "id": "m-tBkGLLjXd8",
        "outputId": "60ca65f2-12c6-4b70-e06a-40ea25c53f47"
      },
      "execution_count": 67,
      "outputs": [
        {
          "output_type": "execute_result",
          "data": {
            "text/plain": [
              "<matplotlib.legend.Legend at 0x7f1b79baf210>"
            ]
          },
          "metadata": {},
          "execution_count": 67
        },
        {
          "output_type": "display_data",
          "data": {
            "image/png": "[encoded data removed]",
            "text/plain": [
              "<Figure size 432x288 with 1 Axes>"
            ]
          },
          "metadata": {
            "needs_background": "light"
          }
        }
      ]
    },
    {
      "cell_type": "code",
      "source": [
        ""
      ],
      "metadata": {
        "id": "RHLF3_SfmBHb"
      },
      "execution_count": null,
      "outputs": []
    }
  ]
}