{
  "nbformat": 4,
  "nbformat_minor": 0,
  "metadata": {
    "colab": {
      "name": "Tarea1-ejerciciossobrenumeros",
      "provenance": [],
      "collapsed_sections": []
    },
    "kernelspec": {
      "name": "python3",
      "display_name": "Python 3"
    },
    "language_info": {
      "name": "python"
    }
  },
  "cells": [
    {
      "cell_type": "markdown",
      "metadata": {
        "id": "t-k1vvglXkVa"
      },
      "source": [
        "Mariana Alvarez\n",
        "Ejercicios sobre números\n",
        "Tarea 1"
      ]
    },
    {
      "cell_type": "code",
      "metadata": {
        "id": "Z2Nz9K8vv-iq",
        "colab": {
          "base_uri": "https://localhost:8080/"
        },
        "outputId": "cb1c8198-5290-4ebc-c507-48a3bad93b7c"
      },
      "source": [
        "#1\n",
        "for nn in range(1,11):\n",
        "  print(nn)"
      ],
      "execution_count": 1,
      "outputs": [
        {
          "output_type": "stream",
          "name": "stdout",
          "text": [
            "1\n",
            "2\n",
            "3\n",
            "4\n",
            "5\n",
            "6\n",
            "7\n",
            "8\n",
            "9\n",
            "10\n"
          ]
        }
      ]
    },
    {
      "cell_type": "code",
      "metadata": {
        "id": "EaOwrgMrwOlv",
        "colab": {
          "base_uri": "https://localhost:8080/"
        },
        "outputId": "3344beb3-41b9-46af-aa4d-0e5fbb46d3a5"
      },
      "source": [
        "#2\n",
        "n = 1\n",
        "while n<11:\n",
        "  print(n)\n",
        "  n = n+1"
      ],
      "execution_count": 5,
      "outputs": [
        {
          "output_type": "stream",
          "name": "stdout",
          "text": [
            "1\n",
            "2\n",
            "3\n",
            "4\n",
            "5\n",
            "6\n",
            "7\n",
            "8\n",
            "9\n",
            "10\n"
          ]
        }
      ]
    },
    {
      "cell_type": "code",
      "metadata": {
        "id": "lsvxOGEiwVsn",
        "colab": {
          "base_uri": "https://localhost:8080/"
        },
        "outputId": "53964f4a-cd9e-44c5-e13e-bf4b9e9e1e72"
      },
      "source": [
        "#3\n",
        "n= 11\n",
        "sum= 0\n",
        "for i in range(1, n):\n",
        "  sum += i\n",
        "  my_result= sum \n",
        "print(my_result)"
      ],
      "execution_count": 12,
      "outputs": [
        {
          "output_type": "stream",
          "name": "stdout",
          "text": [
            "55\n"
          ]
        }
      ]
    },
    {
      "cell_type": "code",
      "metadata": {
        "id": "MXtKKojewc2Z",
        "colab": {
          "base_uri": "https://localhost:8080/"
        },
        "outputId": "5bcd5ffc-cd22-4488-d391-03ba5daa9671"
      },
      "source": [
        "#4\n",
        "n= 0\n",
        "i= 1\n",
        "while (i<11):\n",
        "  n= n + i\n",
        "  i= i + 1\n",
        "my_result= n\n",
        "print(n)"
      ],
      "execution_count": 13,
      "outputs": [
        {
          "output_type": "stream",
          "name": "stdout",
          "text": [
            "55\n"
          ]
        }
      ]
    },
    {
      "cell_type": "code",
      "metadata": {
        "id": "oa0DeD7ewkup",
        "colab": {
          "base_uri": "https://localhost:8080/"
        },
        "outputId": "be79ca71-9ab1-4b40-883e-5c6a053f851a"
      },
      "source": [
        "#5\n",
        "sum= 0\n",
        "min= 1\n",
        "n= 100\n",
        " \n",
        "for i in range(min,n+1):\n",
        "  if i % 2 == 0:\n",
        "    sum += i\n",
        "my_result= sum\n",
        "print(my_result)"
      ],
      "execution_count": 43,
      "outputs": [
        {
          "output_type": "stream",
          "name": "stdout",
          "text": [
            "2550\n"
          ]
        }
      ]
    },
    {
      "cell_type": "code",
      "metadata": {
        "id": "eYasMvsPw3in"
      },
      "source": [
        "#6\n",
        "sum= 0\n",
        "n= 100\n",
        "i= 1\n",
        "while (i<100):\n",
        "    if i%2 != 0:\n",
        "        sum= sum+i\n",
        "        i= i+1\n",
        "sum= my_result\n",
        "print(my_result)"
      ],
      "execution_count": null,
      "outputs": []
    },
    {
      "cell_type": "code",
      "metadata": {
        "id": "xpJErEl9Yg7b",
        "colab": {
          "base_uri": "https://localhost:8080/"
        },
        "outputId": "f05682d6-fb43-4144-9ffd-2598aa06efff"
      },
      "source": [
        "#7\n",
        "def func_sum_even_odd(b):\n",
        "  sum_odd= 0\n",
        "  sum_even= 0\n",
        "  if type(b)==int or type(b)==float:\n",
        "    for i in range (0,b+1):\n",
        "      if i%2 == 0:\n",
        "        sum_even += i\n",
        "      if i%2 !=0:\n",
        "        sum_odd += i\n",
        "  else:\n",
        "    print(\"argument must be an integer or float\")\n",
        "  print(\"La suma de los números pares es \",sum_even)\n",
        "  print(\"La suma de los numeros impares es \",sum_odd)\n",
        "\n",
        "func_sum_even_odd(10)\n",
        "\n"
      ],
      "execution_count": 53,
      "outputs": [
        {
          "output_type": "stream",
          "name": "stdout",
          "text": [
            "La suma de los números pares es  30\n",
            "La suma de los numeros impares es  25\n"
          ]
        }
      ]
    },
    {
      "cell_type": "code",
      "metadata": {
        "colab": {
          "base_uri": "https://localhost:8080/"
        },
        "id": "ZasNkFfgw0f5",
        "outputId": "c623c5da-6b18-4e0d-fe3b-54ffdc4db266"
      },
      "source": [
        "#8\n",
        "def func_sum_even_odd(b):\n",
        "  sum_odd= 0\n",
        "  sum_even= 0\n",
        "  try:\n",
        "    if type(b)==int or type(b)==float:\n",
        "      for i in range (0,b+1):\n",
        "        if i%2 == 0:\n",
        "          sum_even += i\n",
        "        if i%2 !=0:\n",
        "          sum_odd += i\n",
        "  except:\n",
        "    print(\"argument must be an integer or float\")\n",
        "  else:\n",
        "    print(\"Nothing went wrong\")\n",
        "  print(\"La suma de los números pares es \",sum_even)\n",
        "  print(\"La suma de los numeros impares es \",sum_odd)\n",
        "func_sum_even_odd(10)\n"
      ],
      "execution_count": 64,
      "outputs": [
        {
          "output_type": "stream",
          "name": "stdout",
          "text": [
            "Nothing went wrong\n",
            "La suma de los números pares es  30\n",
            "La suma de los numeros impares es  25\n"
          ]
        }
      ]
    }
  ]
}