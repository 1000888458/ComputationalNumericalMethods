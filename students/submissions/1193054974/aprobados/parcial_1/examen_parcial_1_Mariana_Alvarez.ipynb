{
 "cells": [
  {
   "cell_type": "markdown",
   "id": "impossible-command",
   "metadata": {
    "id": "impossible-command"
   },
   "source": [
    "# Examen parcial 1 (Python basico y visualizaciones)\n",
    "\n",
    "Mariana Alvarez Acevedo\n",
    "\n",
    "cc. 1193054973\n",
    "\n",
    "\n",
    "* Antes de enviar el archivo, $\\textbf{reiniciar y ejecutar el kernel}$ para ver que el archivo se compila sin errores\n",
    "* enviar el archivo jupyter sin anexos antes de las 10am del 17.12.2021 a mi dirección de correo electrónico: michal.hemmerling@udea.edu.co "
   ]
  },
  {
   "cell_type": "markdown",
   "id": "chicken-fields",
   "metadata": {
    "id": "chicken-fields"
   },
   "source": [
    "# Cada de los dos ejercicios abajo vale 100%, \n",
    "* usted puede escojer cual ejercicio quiere hacer. \n",
    "* si hace dos ejercisios en la mitad tambien gana 100%\n",
    "* si hace los dos ejercicios completos, extra puntos voy a pasar para resultado de proximo parcial"
   ]
  },
  {
   "cell_type": "markdown",
   "id": "conceptual-swedish",
   "metadata": {
    "id": "conceptual-swedish"
   },
   "source": [
    "## Ejercicio 1a. Calcular una soma (Taylor aproximacion de funcion cos) usando loop \n",
    "\n",
    "\n",
    "$$cos(x)=\\sum_{k=0}^{\\infty}\\frac{(-1)^k x^{2k}}{(2k)!}$$ \n",
    "\n",
    "1) usando loop for calcular valor de cos(0.2) para k=2 (en loop k=0,1,2)\n",
    "* (puede comparar su resultado con $cos(x)=1 - \\frac{x^2}{2!}  + \\frac{x^4}{4!}$\n",
    "* (para hacer factorial-! usa: import math, math.factorial)\n",
    "\n",
    "2) crear una funcion cos_taylor(x,k) que acepta dos parametros x y k y vuelve valor de cos(x) para dado numero de termos k\n",
    "* (intenta con x=0.2 y k=2 para comparar con resultado de punto 1)\n",
    "\n",
    "3) crear un vector xvec que tiene 100 elementos en rango de $-\\pi$: $\\pi$ y usando loop for para cada elemento de este vector llama la funcion cos_taylor(x,k) y guarda resultados en una lista \"cos_approx=[]\" usando methodo append (cos_approx.append()). usa valor de k=3 \n",
    "* (pista sobre loop: for x in xvec:...)\n",
    "\n",
    "4) hacer visualizacion de dos curvas en mismo plot:\n",
    "* xvec vs cos_approx (label: Taylor approximation)\n",
    "* xvec vs np.cos(xvec) (label: cos(x))\n",
    "* usa labels para cada curva"
   ]
  },
  {
   "cell_type": "markdown",
   "id": "varying-colorado",
   "metadata": {
    "id": "varying-colorado"
   },
   "source": [
    "*la formula completa de approximacion\n",
    "<table><tr>\n",
    "<td> <img src=\"imgs/maclaurin_cos.png\" width=\"400\" /> </td>\n",
    "</tr></table>"
   ]
  },
  {
   "cell_type": "code",
   "execution_count": 1,
   "id": "96oTBnsCz6nO",
   "metadata": {
    "colab": {
     "base_uri": "https://localhost:8080/"
    },
    "id": "96oTBnsCz6nO",
    "outputId": "8f7555de-e795-4945-df5d-59c772d92197"
   },
   "outputs": [
    {
     "name": "stdout",
     "output_type": "stream",
     "text": [
      "veamos el valor real 0.9800665778412416\n",
      "-2.0\n",
      "-0.04000000000000001\n",
      "-0.00013333333333333337\n"
     ]
    }
   ],
   "source": [
    "import numpy as np\n",
    "import math\n",
    "\n",
    "print(\"veamos el valor real\", np.cos(0.2))\n",
    "\n",
    "for i in range (0,3):\n",
    "  x= ((-1**i)*((0.2)**(2*i)))/(math.factorial((2*i)))\n",
    "  x += x\n",
    "  print(x)"
   ]
  },
  {
   "cell_type": "code",
   "execution_count": 2,
   "id": "RMdSKXxq5fVc",
   "metadata": {
    "colab": {
     "base_uri": "https://localhost:8080/"
    },
    "id": "RMdSKXxq5fVc",
    "outputId": "f3e9f390-5cf1-4282-ef6b-9a7a83b259a3"
   },
   "outputs": [
    {
     "data": {
      "text/plain": [
       "-6.666666666666668e-05"
      ]
     },
     "execution_count": 2,
     "metadata": {},
     "output_type": "execute_result"
    }
   ],
   "source": [
    "def cos_taylor(x,k):\n",
    "  return ((-1**k)*((x)**(2*k)))/(math.factorial((2*k)))\n",
    "cos_taylor(0.2, 2)"
   ]
  },
  {
   "cell_type": "code",
   "execution_count": 3,
   "id": "oYuU2zq86ISl",
   "metadata": {
    "colab": {
     "base_uri": "https://localhost:8080/"
    },
    "id": "oYuU2zq86ISl",
    "outputId": "f3dc145b-5bf1-41cf-8a1b-ad1b5a095a33"
   },
   "outputs": [
    {
     "data": {
      "text/plain": [
       "[-1.3352627688545893,\n",
       " -1.1813701078960563,\n",
       " -1.0425507472069169,\n",
       " -0.9175997011976218,\n",
       " -0.8053857219507776,\n",
       " -0.704848227612358,\n",
       " -0.614994296136308,\n",
       " -0.5348957243825131,\n",
       " -0.4636861525681579,\n",
       " -0.4005582540724545,\n",
       " -0.3447609905947557,\n",
       " -0.29559693266604103,\n",
       " -0.25241964551378665,\n",
       " -0.21463114028020785,\n",
       " -0.18167939059388485,\n",
       " -0.15305591449476405,\n",
       " -0.12829342171253783,\n",
       " -0.1069635262984037,\n",
       " -0.08867452461020171,\n",
       " -0.07306923865092887,\n",
       " -0.059822924760633285,\n",
       " -0.04864124766168592,\n",
       " -0.03925831985743094,\n",
       " -0.03143480638421428,\n",
       " -0.02495609491679052,\n",
       " -0.019630531227108214,\n",
       " -0.015287719996473327,\n",
       " -0.01177689098109122,\n",
       " -0.008965330530986826,\n",
       " -0.006736878462303186,\n",
       " -0.004990490282978321,\n",
       " -0.0036388647718004043,\n",
       " -0.002607136910841281,\n",
       " -0.0018316361712682947,\n",
       " -0.0012587101525344607,\n",
       " -0.000843613574946923,\n",
       " -0.0005494626256137921,\n",
       " -0.00034625465776925394,\n",
       " -0.00020995324347704262,\n",
       " -0.00012163857971221061,\n",
       " -6.672324782124268e-05,\n",
       " -3.4233326360480764e-05,\n",
       " -1.615485731288235e-05,\n",
       " -6.84566568309782e-06,\n",
       " -2.512532470875582e-06,\n",
       " -7.53721022789836e-07,\n",
       " -1.6685676229384238e-07,\n",
       " -2.2160298097232176e-08,\n",
       " -1.0339108680244472e-09,\n",
       " -1.4182590782228355e-12,\n",
       " -1.4182590782229547e-12,\n",
       " -1.033910868024476e-09,\n",
       " -2.2160298097232547e-08,\n",
       " -1.6685676229384238e-07,\n",
       " -7.537210227898431e-07,\n",
       " -2.512532470875582e-06,\n",
       " -6.845665683097863e-06,\n",
       " -1.615485731288235e-05,\n",
       " -3.423332636048093e-05,\n",
       " -6.672324782124268e-05,\n",
       " -0.0001216385797122111,\n",
       " -0.00020995324347704262,\n",
       " -0.0003462546577692551,\n",
       " -0.0005494626256137921,\n",
       " -0.0008436135749469254,\n",
       " -0.0012587101525344607,\n",
       " -0.0018316361712683042,\n",
       " -0.0026071369108412873,\n",
       " -0.0036388647718004086,\n",
       " -0.004990490282978321,\n",
       " -0.006736878462303207,\n",
       " -0.008965330530986844,\n",
       " -0.01177689098109123,\n",
       " -0.015287719996473327,\n",
       " -0.019630531227108262,\n",
       " -0.024956094916790558,\n",
       " -0.03143480638421428,\n",
       " -0.03925831985743091,\n",
       " -0.04864124766168599,\n",
       " -0.05982292476063333,\n",
       " -0.07306923865092887,\n",
       " -0.0886745246102019,\n",
       " -0.10696352629840383,\n",
       " -0.12829342171253783,\n",
       " -0.15305591449476405,\n",
       " -0.18167939059388527,\n",
       " -0.21463114028020808,\n",
       " -0.25241964551378665,\n",
       " -0.29559693266604103,\n",
       " -0.34476099059475607,\n",
       " -0.4005582540724549,\n",
       " -0.4636861525681579,\n",
       " -0.5348957243825131,\n",
       " -0.6149942961363085,\n",
       " -0.7048482276123587,\n",
       " -0.8053857219507776,\n",
       " -0.9175997011976236,\n",
       " -1.042550747206918,\n",
       " -1.1813701078960575,\n",
       " -1.3352627688545893]"
      ]
     },
     "execution_count": 3,
     "metadata": {},
     "output_type": "execute_result"
    }
   ],
   "source": [
    "cos_aprox= []\n",
    "k=3\n",
    "xvec= np.linspace(-np.pi, np.pi, 100)\n",
    "for x in xvec:\n",
    "  cos_taylor(x, k)\n",
    "  cos_aprox.append(cos_taylor(x, k))\n",
    "cos_aprox\n",
    "\n",
    "\n"
   ]
  },
  {
   "cell_type": "code",
   "execution_count": 5,
   "id": "hnatymDs8qHD",
   "metadata": {
    "colab": {
     "base_uri": "https://localhost:8080/",
     "height": 298
    },
    "id": "hnatymDs8qHD",
    "outputId": "7b5f1f68-76b1-4526-ced1-f0e8335b5f3d"
   },
   "outputs": [
    {
     "data": {
      "text/plain": [
       "<function matplotlib.pyplot.show(close=None, block=None)>"
      ]
     },
     "execution_count": 5,
     "metadata": {},
     "output_type": "execute_result"
    },
    {
     "data": {
      "image/png": "[encoded data removed]",
      "text/plain": [
       "<Figure size 432x288 with 1 Axes>"
      ]
     },
     "metadata": {
      "needs_background": "light"
     },
     "output_type": "display_data"
    }
   ],
   "source": [
    "import matplotlib.pyplot as plt\n",
    "plt.figure()\n",
    "plt.plot(xvec, cos_aprox)\n",
    "plt.title(\"Taylor approximation\")\n",
    "plt.show"
   ]
  },
  {
   "cell_type": "markdown",
   "id": "accomplished-increase",
   "metadata": {
    "id": "accomplished-increase"
   },
   "source": [
    "## Ejercicio 1b. Visualizar imagenes de un conjunto de datos\n",
    "\n"
   ]
  },
  {
   "cell_type": "markdown",
   "id": "institutional-dating",
   "metadata": {
    "id": "institutional-dating"
   },
   "source": [
    "#### Un documento 'images_32x32.mat' contiene ~ 25,000 de imagenes de digitos, images son en colores (cada imagen tiene 3 capas RGB) y cada imagen es 32x32 pixeles\n",
    "\n",
    "1) convertir este conjunto de tipo MAT a un dicionario\n",
    "* (import scipy.io,   \n",
    "   imgs_dict = scipy.io.loadmat(images_32x32.mat)\n",
    "\n",
    "2) muestra que llaves tiene este dicionario y muestra que dimensiones tienen las llaves **X** y **y**\n",
    "\n",
    "3) visualiza aleatoriamente 10 de estos imagenes en una forma de matriz 1x10 (fila de 10 imagenes)\n",
    "* los imagenes son guardados en llave 'X' de este dicionario\n",
    "\n",
    "4) convertir las imágenes en color a escala de grises promediando una de las dimensiones y volver a mostrar las mismos 10 imagenes aleatorios en otra matriz de 1x10 (fila de 10 imagenes)\n",
    "\n",
    "5) seria bien que los titulos de los 10 imagenes coresponden a etiquietas de llave \"y\""
   ]
  },
  {
   "cell_type": "code",
   "execution_count": null,
   "id": "interstate-addition",
   "metadata": {
    "colab": {
     "base_uri": "https://localhost:8080/"
    },
    "id": "interstate-addition",
    "outputId": "efbc3671-d300-4707-f4a9-472452316662"
   },
   "outputs": [],
   "source": [
    "!ls"
   ]
  },
  {
   "cell_type": "code",
   "execution_count": 6,
   "id": "metropolitan-entry",
   "metadata": {
    "colab": {
     "base_uri": "https://localhost:8080/"
    },
    "id": "metropolitan-entry",
    "outputId": "8600caaf-eaf5-4fde-b0fe-869434d4466b"
   },
   "outputs": [],
   "source": [
    "#Importamos drive para abrir el archivo\n",
    "#from google.colab import drive\n",
    "#drive.mount('/content/drive')"
   ]
  },
  {
   "cell_type": "code",
   "execution_count": 8,
   "id": "tCK026KHkd-g",
   "metadata": {
    "colab": {
     "base_uri": "https://localhost:8080/"
    },
    "id": "tCK026KHkd-g",
    "outputId": "5ae36f28-0d04-42f7-ed7f-a758a60bd6c9"
   },
   "outputs": [
    {
     "data": {
      "text/plain": [
       "dict_keys(['__header__', '__version__', '__globals__', 'X', 'y'])"
      ]
     },
     "execution_count": 8,
     "metadata": {},
     "output_type": "execute_result"
    }
   ],
   "source": [
    "import pandas as pd\n",
    "import numpy as np\n",
    "import matplotlib.pyplot as plt\n",
    "import scipy.io\n",
    "#convertimos a diccionario y mostramos las claves\n",
    "mat = scipy.io.loadmat('images_32x32.mat') \n",
    "k= mat.keys()\n",
    "k"
   ]
  },
  {
   "cell_type": "code",
   "execution_count": 11,
   "id": "CDvguQQKlPcg",
   "metadata": {
    "colab": {
     "base_uri": "https://localhost:8080/"
    },
    "id": "CDvguQQKlPcg",
    "outputId": "062704fe-6ae7-488d-cc30-fffadf50dce7"
   },
   "outputs": [
    {
     "name": "stdout",
     "output_type": "stream",
     "text": [
      "la dimensión de X es:  (32, 32, 3, 26032)\n",
      "la dimensión de y es:  (26032, 1)\n"
     ]
    }
   ],
   "source": [
    "#obtenemos las dimensiones de X y y\n",
    "keyx= mat.get('X')\n",
    "keyy= mat.get('y')\n",
    "dimx= np.shape(keyx)\n",
    "dimy= np.shape(keyy)\n",
    "print('la dimensión de X es: ', dimx)\n",
    "print('la dimensión de y es: ', dimy)"
   ]
  },
  {
   "cell_type": "code",
   "execution_count": 12,
   "id": "lIa-p_m1sXA1",
   "metadata": {
    "colab": {
     "base_uri": "https://localhost:8080/",
     "height": 196
    },
    "id": "lIa-p_m1sXA1",
    "outputId": "8c162700-7152-4268-91b7-83f924d42733"
   },
   "outputs": [
    {
     "data": {
      "image/png": "[encoded data removed]",
      "text/plain": [
       "<Figure size 432x288 with 10 Axes>"
      ]
     },
     "metadata": {},
     "output_type": "display_data"
    },
    {
     "data": {
      "image/png": "[encoded data removed]",
      "text/plain": [
       "<Figure size 432x288 with 10 Axes>"
      ]
     },
     "metadata": {},
     "output_type": "display_data"
    }
   ],
   "source": [
    "#graficamos\n",
    "figura= plt.figure()\n",
    "gris= plt.figure()\n",
    "aleatorio= np.random.randint(0,25000,size=(1,10))\n",
    "nombre= []\n",
    "l= []\n",
    "g=[]\n",
    "\n",
    "for i in range (0,10):\n",
    "  imagen=  mat['X'][i] #mat['X'][aleatorio[0][i]]\n",
    "  imarray= np.resize(imagen,(32, 32))\n",
    "  l.append(imarray)\n",
    "  tittle= mat['y'][aleatorio[0][i]] #ponemos como títilos y\n",
    "  nombre.append(tittle)\n",
    "  ax= figura.add_subplot(1,10,i+1,xticks=[],yticks=[])\n",
    "  ax.title.set_text(nombre[i])\n",
    "  ax.imshow(l[i])\n",
    "\n",
    "#Mostramos las imágenes en gris\n",
    "  g.append(imarray)\n",
    "  ax= gris.add_subplot(1,10,i+1,xticks=[],yticks=[])\n",
    "  ax.title.set_text(nombre[i])\n",
    "  ax.imshow(l[i], cmap='gray')"
   ]
  },
  {
   "cell_type": "code",
   "execution_count": null,
   "id": "exempt-arbor",
   "metadata": {},
   "outputs": [],
   "source": []
  }
 ],
 "metadata": {
  "colab": {
   "name": "examen_parcial_1 Mariana Alvarez.ipynb",
   "provenance": []
  },
  "kernelspec": {
   "display_name": "Python 3",
   "language": "python",
   "name": "python3"
  },
  "language_info": {
   "codemirror_mode": {
    "name": "ipython",
    "version": 3
   },
   "file_extension": ".py",
   "mimetype": "text/x-python",
   "name": "python",
   "nbconvert_exporter": "python",
   "pygments_lexer": "ipython3",
   "version": "3.7.2"
  }
 },
 "nbformat": 4,
 "nbformat_minor": 5
}
