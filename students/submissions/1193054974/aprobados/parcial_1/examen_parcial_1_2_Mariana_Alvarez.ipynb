{
 "cells": [
  {
   "cell_type": "markdown",
   "id": "impossible-command",
   "metadata": {
    "id": "impossible-command"
   },
   "source": [
    "# Examen parcial 1(2) - Python\n",
    "* Antes de enviar el archivo, $\\textbf{reiniciar y ejecutar el kernel}$ para ver que el archivo se compila sin errores\n",
    "* enviar el archivo jupyter sin anexos antes de las 10.00am del 02.02.2021 a mi dirección de correo electrónico: michal.hemmerling@udea.edu.co \n",
    "* pistas generales"
   ]
  },
  {
   "cell_type": "markdown",
   "id": "conceptual-swedish",
   "metadata": {
    "id": "conceptual-swedish"
   },
   "source": [
    "## Ejercicio 1. Calcular una soma:\n",
    "***Taylor aproximacion de funcion ln(1+x) usando loop `for`*** \n",
    "\n",
    "\n",
    "$$ln(1+x)=\\sum_{k=1}^{\\infty}(-1)^{k+1}\\frac{x^k}{k}$$ \n",
    "\n",
    "donde $x\\in(-1,1]$\n",
    "\n",
    "o en otra notacion: $-1< x\\le1$\n",
    "\n",
    "1) usando loop `for` calcular valor de $ln(1+x)$ para $k=5$ y $x=0.5$ (en loop k=1,2,3,...,5)\n",
    "\n",
    "* compare su resultado con valor de numpy (busca en internet como expresar este tipo de logaritmo)\n",
    "\n",
    "2) crear una funcion log_taylor(x,k) que acepta dos parametros $x$ y $k$ y vuelve valor de $ln(1+x)$ para dado $x$ y $k$\n",
    "* verifica si funcion es corectamente implementada llamandola con parametros x=0.5 y k=5 para comparar con resultado de punto 1\n",
    "\n",
    "3) crear un vector xvec que tiene 100 elementos en rango de $(-1$: $1]$ y usando loop `for` para cada elemento de este vector llama la funcion log_taylor(x,k) y guarda resultados en una lista \"log_approx=[]\" usando methodo append (log_approx.append()). usa valor de k=5 \n",
    "* (pista sobre loop: for x in xvec:...)\n",
    "\n",
    "4) hacer visualizacion de dos curvas en mismo plot:\n",
    "* xvec vs log_approx() (label: Taylor approximation)\n",
    "* xvec vs numpy (label: numpy)\n",
    "\n",
    "# note!\n",
    "* Para crear un vector xvec que excluya el primer elemento, utilice\n",
    "`np.linspace(num_ini,num_fin,100)[1:],`\n",
    "donce [1:] significa toma segundo elemento de la lista hasta ultimo elemento de la lista (creada con np.linspace)\n",
    "\n",
    "\n",
    "* si implementacion produce error: \n",
    "   * mira bien cada elemento de la equacion y compara con su codigo\n",
    "   * verifica rango de los valores de `x`\n",
    "   \n",
    "   \n",
    "* Antes de enviar el archivo, $\\textbf{reiniciar y ejecutar el kernel}$ para ver que el archivo se compila sin errores\n"
   ]
  },
  {
   "cell_type": "code",
   "execution_count": 1,
   "id": "defensive-sector",
   "metadata": {
    "colab": {
     "base_uri": "https://localhost:8080/"
    },
    "id": "defensive-sector",
    "outputId": "bac030b8-eabd-4a51-bfc7-1a9a812fc6b0"
   },
   "outputs": [
    {
     "name": "stdout",
     "output_type": "stream",
     "text": [
      "Ln(1+x) encontrado por loop for 0.40729166666666666\n",
      "Ln(1+x) numpy 0.4054651081081644\n"
     ]
    }
   ],
   "source": [
    "import numpy as np\n",
    "import math\n",
    "import matplotlib.pyplot as plt\n",
    "\n",
    "x= 0.5\n",
    "k= 5\n",
    "ln_np= np.log(1+x)\n",
    "for i in range (1, k):\n",
    "  ln_loop= x-((x**2)/2)+((x**3)/3)-((x**4)/4)+((x**5/5))\n",
    "print('Ln(1+x) encontrado por loop for', ln_loop)\n",
    "print('Ln(1+x) numpy', ln_np)"
   ]
  },
  {
   "cell_type": "code",
   "execution_count": 2,
   "id": "D4cC59gEyMPq",
   "metadata": {
    "colab": {
     "base_uri": "https://localhost:8080/"
    },
    "id": "D4cC59gEyMPq",
    "outputId": "adb99fac-b740-4d6a-f9b5-8371608e75e4"
   },
   "outputs": [
    {
     "name": "stdout",
     "output_type": "stream",
     "text": [
      "0.40729166666666666\n"
     ]
    }
   ],
   "source": [
    "def log_taylor(x, k):\n",
    "  t=0\n",
    "  for j in range (1, k):\n",
    "    t= x-((x**2)/2)+((x**3)/3)-((x**4)/4)+((x**5/5))\n",
    "    sln= t\n",
    "  return sln\n",
    "ln_df= log_taylor(0.5, 5)\n",
    "print(ln_df)\n",
    "#Podemos ver que es igual al encontrado con el loop"
   ]
  },
  {
   "cell_type": "code",
   "execution_count": 3,
   "id": "UDH8KkGlzMSS",
   "metadata": {
    "id": "UDH8KkGlzMSS"
   },
   "outputs": [],
   "source": [
    "xvec= np.linspace(-1, 1, 100)[1:]\n",
    "log_aprox=[]\n",
    "for l in xvec:\n",
    "  log_aprox.append(log_taylor(l, 5))"
   ]
  },
  {
   "cell_type": "code",
   "execution_count": null,
   "id": "OvKBqQZV2fFN",
   "metadata": {
    "id": "OvKBqQZV2fFN"
   },
   "outputs": [],
   "source": []
  },
  {
   "cell_type": "code",
   "execution_count": 4,
   "id": "HcDXXtt_03yd",
   "metadata": {
    "colab": {
     "base_uri": "https://localhost:8080/",
     "height": 638
    },
    "id": "HcDXXtt_03yd",
    "outputId": "fd9708c6-62e8-4d63-c903-3b71ceab3b0a"
   },
   "outputs": [
    {
     "data": {
      "text/plain": [
       "Text(0.5, 0, 'x vec')"
      ]
     },
     "execution_count": 4,
     "metadata": {},
     "output_type": "execute_result"
    },
    {
     "data": {
      "image/png": "[encoded data removed]",
      "text/plain": [
       "<Figure size 720x720 with 1 Axes>"
      ]
     },
     "metadata": {
      "needs_background": "light"
     },
     "output_type": "display_data"
    }
   ],
   "source": [
    "fig, ax= plt.subplots(figsize=(10,10))\n",
    "ax.plot(xvec, log_aprox, label= 'Taylor approximation')\n",
    "ax.plot(xvec, np.log(1+xvec), label= 'Numpy')\n",
    "ax.legend()\n",
    "ax.set_title('Serie taylor Ln(1+x)')\n",
    "ax.set_xlabel('x vec')\n"
   ]
  }
 ],
 "metadata": {
  "colab": {
   "name": "examen_parcial_1_2_Mariana_Alvarez.ipynb",
   "provenance": []
  },
  "kernelspec": {
   "display_name": "Python 3",
   "language": "python",
   "name": "python3"
  },
  "language_info": {
   "codemirror_mode": {
    "name": "ipython",
    "version": 3
   },
   "file_extension": ".py",
   "mimetype": "text/x-python",
   "name": "python",
   "nbconvert_exporter": "python",
   "pygments_lexer": "ipython3",
   "version": "3.7.2"
  }
 },
 "nbformat": 4,
 "nbformat_minor": 5
}
