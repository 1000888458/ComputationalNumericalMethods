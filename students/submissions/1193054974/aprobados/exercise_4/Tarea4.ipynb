{
 "cells": [
  {
   "cell_type": "markdown",
   "metadata": {
    "id": "healthy-given"
   },
   "source": [
    "# TAREA PARA NAVIDAD: \n",
    "\n",
    "Por: Mariana Alvarez Acevedo\n",
    "\n",
    "\n",
    "* hacer el mismo ejemplo y encuentra raiz para $f(x)=x^2 - 11$\n",
    "* construye su propia función de método de bisección usando el loop **while**\n",
    "* hacer plot de evolucion de approximacion (append results to an initially empty list of x_n)\n",
    "* construye su propia función de método Newton-Rapson usando el loop **while**\n",
    "* hacer plot de evolucion de approximacion (append results to an initially empty list of x_n)"
   ]
  },
  {
   "cell_type": "code",
   "execution_count": null,
   "metadata": {
    "id": "m8EHUu5c5yMo"
   },
   "outputs": [],
   "source": [
    "import numpy as np\n",
    "import sympy as sp\n",
    "from matplotlib import pyplot as plt\n",
    "import scipy.optimize as optimize"
   ]
  },
  {
   "cell_type": "code",
   "execution_count": null,
   "metadata": {
    "id": "GfxKivXs5hoU"
   },
   "outputs": [],
   "source": [
    "#Primer punto\n",
    "def fun(x):\n",
    "    return (x**2)-11\n",
    "x=np.linspace(-5,5,100)\n",
    "fig,ax = plt.subplots(1,1)\n",
    "ax.plot(x,fun(x))\n",
    "ax.grid('True')\n",
    "np.sqrt(11)\n",
    "\n"
   ]
  },
  {
   "cell_type": "code",
   "execution_count": null,
   "metadata": {
    "id": "5rbhJ-Wrhs2_"
   },
   "outputs": [],
   "source": [
    "#Segundo punto\n",
    "\n",
    "def bisection(min,max,tol):\n",
    "  raiz=[]\n",
    "  t=True\n",
    "  while t:\n",
    "    pm=(min+max)/2\n",
    "    raiz.append(pm)\n",
    "    if fun(min)*fun(pm)>0:\n",
    "      min=pm\n",
    "    else:\n",
    "      max=pm\n",
    "    t = abs(fun(pm))>tol\n",
    "  print(pm)\n",
    "\n",
    "bisection(3,96,0.00001)"
   ]
  },
  {
   "cell_type": "code",
   "execution_count": null,
   "metadata": {
    "id": "kNqn53_JmGt_"
   },
   "outputs": [],
   "source": [
    "#Para tener la raiz del punto 3\n",
    "def bisection_raiz(min,max,tol):\n",
    "  raiz=[]\n",
    "  t=True\n",
    "  while t:\n",
    "    pm=(min+max)/2\n",
    "    raiz.append(pm)\n",
    "    if fun(min)*fun(pm)>0:\n",
    "      min=pm\n",
    "    else:\n",
    "      max=pm\n",
    "    t = abs(fun(pm))>tol\n",
    "  print(raiz)\n",
    "bisection_raiz(3,96,0.00001)"
   ]
  },
  {
   "cell_type": "code",
   "execution_count": null,
   "metadata": {
    "id": "N5aZYwwzlL1z"
   },
   "outputs": [],
   "source": [
    "#Tercer punto\n",
    "raiz= [49.5, 26.25, 14.625, 8.8125, 5.90625, 4.453125, 3.7265625, 3.36328125, 3.181640625, 3.2724609375, 3.31787109375, 3.295166015625, 3.3065185546875, 3.31219482421875, 3.315032958984375, 3.3164520263671875, 3.3171615600585938, 3.3168067932128906, 3.316629409790039, 3.3165407180786133, 3.316585063934326, 3.3166072368621826, 3.316618323326111, 3.316623866558075]\n",
    "x= np.linspace(-5,5,24)\n",
    "fig,ax = plt.subplots(1,1)\n",
    "ax.plot(x, raiz)\n",
    "ax.grid('True')\n",
    "np.sqrt(11)"
   ]
  },
  {
   "cell_type": "code",
   "execution_count": null,
   "metadata": {
    "id": "cwcLzoPkn25V"
   },
   "outputs": [],
   "source": [
    "#Cuarto punto\n",
    "def fun_prime(x):\n",
    "    return 2*x\n",
    "xr=4\n",
    "def newton_rapson(min,max,tol):\n",
    "  raiz=[]\n",
    "  t=True\n",
    "  while t:\n",
    "    xn= xr-fun(xr)/fun_prime(xr)\n",
    "    raiz.append(xn)\n",
    "    root = optimize.brentq(fun, 3, 4,xtol=1.0e-10)\n",
    "    raiz.append(root)\n",
    "    t = abs(fun(root))>tol\n",
    "  print(root)\n",
    "\n",
    "newton_rapson(3,96,0.00001)\n",
    "\n",
    "\n",
    "\n"
   ]
  },
  {
   "cell_type": "code",
   "execution_count": null,
   "metadata": {
    "id": "_y1h4luwrPBF"
   },
   "outputs": [],
   "source": [
    "#Para la raiz del quinto punto\n",
    "def newton_rapson_raiz(min,max,tol):\n",
    "  raiz=[]\n",
    "  t=True\n",
    "  while t:\n",
    "    xn= xr-fun(xr)/fun_prime(xr)\n",
    "    raiz.append(xn)\n",
    "    root = optimize.brentq(fun, 3, 4,xtol=1.0e-10)\n",
    "    raiz.append(root)\n",
    "    t = abs(fun(root))>tol\n",
    "  print(raiz)\n",
    "\n",
    "newton_rapson_raiz(3,96,0.00001)"
   ]
  },
  {
   "cell_type": "code",
   "execution_count": null,
   "metadata": {
    "id": "Kdg0hvuprKF0"
   },
   "outputs": [],
   "source": [
    "#Quinto punto\n",
    "raiz= [3.375, 3.3166247903554]\n",
    "x= np.linspace(-5,5,2)\n",
    "fig,ax = plt.subplots(1,1)\n",
    "ax.plot(x, raiz)\n",
    "ax.grid('True')\n",
    "np.sqrt(11)"
   ]
  }
 ],
 "metadata": {
  "colab": {
   "name": "Tarea4.ipynb",
   "private_outputs": true,
   "provenance": []
  },
  "kernelspec": {
   "display_name": "Python 3",
   "language": "python",
   "name": "python3"
  },
  "language_info": {
   "codemirror_mode": {
    "name": "ipython",
    "version": 3
   },
   "file_extension": ".py",
   "mimetype": "text/x-python",
   "name": "python",
   "nbconvert_exporter": "python",
   "pygments_lexer": "ipython3",
   "version": "3.7.2"
  }
 },
 "nbformat": 4,
 "nbformat_minor": 1
}
