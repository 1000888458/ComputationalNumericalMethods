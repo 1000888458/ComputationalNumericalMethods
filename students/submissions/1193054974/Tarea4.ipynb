{
  "nbformat": 4,
  "nbformat_minor": 0,
  "metadata": {
    "colab": {
      "name": "Tarea4.ipynb",
      "private_outputs": true,
      "provenance": []
    },
    "kernelspec": {
      "name": "python3",
      "display_name": "Python 3"
    },
    "language_info": {
      "name": "python"
    }
  },
  "cells": [
    {
      "cell_type": "markdown",
      "metadata": {
        "id": "healthy-given"
      },
      "source": [
        "# TAREA PARA NAVIDAD: \n",
        "\n",
        "Por: Mariana Alvarez Acevedo\n",
        "\n",
        "\n",
        "* hacer el mismo ejemplo y encuentra raiz para $f(x)=x^2 - 11$\n",
        "* construye su propia función de método de bisección usando el loop **while**\n",
        "* hacer plot de evolucion de approximacion (append results to an initially empty list of x_n)\n",
        "* construye su propia función de método Newton-Rapson usando el loop **while**\n",
        "* hacer plot de evolucion de approximacion (append results to an initially empty list of x_n)"
      ]
    },
    {
      "cell_type": "code",
      "source": [
        "import numpy as np\n",
        "import sympy as sp\n",
        "from matplotlib import pyplot as plt\n",
        "import scipy.optimize as optimize"
      ],
      "metadata": {
        "id": "m8EHUu5c5yMo"
      },
      "execution_count": null,
      "outputs": []
    },
    {
      "cell_type": "code",
      "source": [
        "#Primer punto\n",
        "def fun(x):\n",
        "    return (x**2)-11\n",
        "x=np.linspace(-5,5,100)\n",
        "fig,ax = plt.subplots(1,1)\n",
        "ax.plot(x,fun(x))\n",
        "ax.grid('True')\n",
        "np.sqrt(11)\n",
        "\n"
      ],
      "metadata": {
        "id": "GfxKivXs5hoU"
      },
      "execution_count": null,
      "outputs": []
    },
    {
      "cell_type": "code",
      "source": [
        "#Segundo punto\n",
        "\n",
        "def bisection(min,max,tol):\n",
        "  raiz=[]\n",
        "  t=True\n",
        "  while t:\n",
        "    pm=(min+max)/2\n",
        "    raiz.append(pm)\n",
        "    if fun(min)*fun(pm)>0:\n",
        "      min=pm\n",
        "    else:\n",
        "      max=pm\n",
        "    t = abs(fun(pm))>tol\n",
        "  print(pm)\n",
        "\n",
        "bisection(3,96,0.00001)"
      ],
      "metadata": {
        "id": "5rbhJ-Wrhs2_"
      },
      "execution_count": null,
      "outputs": []
    },
    {
      "cell_type": "code",
      "source": [
        "#Para tener la raiz del punto 3\n",
        "def bisection_raiz(min,max,tol):\n",
        "  raiz=[]\n",
        "  t=True\n",
        "  while t:\n",
        "    pm=(min+max)/2\n",
        "    raiz.append(pm)\n",
        "    if fun(min)*fun(pm)>0:\n",
        "      min=pm\n",
        "    else:\n",
        "      max=pm\n",
        "    t = abs(fun(pm))>tol\n",
        "  print(raiz)\n",
        "bisection_raiz(3,96,0.00001)"
      ],
      "metadata": {
        "id": "kNqn53_JmGt_"
      },
      "execution_count": null,
      "outputs": []
    },
    {
      "cell_type": "code",
      "source": [
        "#Tercer punto\n",
        "raiz= [49.5, 26.25, 14.625, 8.8125, 5.90625, 4.453125, 3.7265625, 3.36328125, 3.181640625, 3.2724609375, 3.31787109375, 3.295166015625, 3.3065185546875, 3.31219482421875, 3.315032958984375, 3.3164520263671875, 3.3171615600585938, 3.3168067932128906, 3.316629409790039, 3.3165407180786133, 3.316585063934326, 3.3166072368621826, 3.316618323326111, 3.316623866558075]\n",
        "x= np.linspace(-5,5,24)\n",
        "fig,ax = plt.subplots(1,1)\n",
        "ax.plot(x, raiz)\n",
        "ax.grid('True')\n",
        "np.sqrt(11)"
      ],
      "metadata": {
        "id": "N5aZYwwzlL1z"
      },
      "execution_count": null,
      "outputs": []
    },
    {
      "cell_type": "code",
      "source": [
        "#Cuarto punto\n",
        "def fun_prime(x):\n",
        "    return 2*x\n",
        "xr=4\n",
        "def newton_rapson(min,max,tol):\n",
        "  raiz=[]\n",
        "  t=True\n",
        "  while t:\n",
        "    xn= xr-fun(xr)/fun_prime(xr)\n",
        "    raiz.append(xn)\n",
        "    root = optimize.brentq(fun, 3, 4,xtol=1.0e-10)\n",
        "    raiz.append(root)\n",
        "    t = abs(fun(root))>tol\n",
        "  print(root)\n",
        "\n",
        "newton_rapson(3,96,0.00001)\n",
        "\n",
        "\n",
        "\n"
      ],
      "metadata": {
        "id": "cwcLzoPkn25V"
      },
      "execution_count": null,
      "outputs": []
    },
    {
      "cell_type": "code",
      "source": [
        "#Para la raiz del quinto punto\n",
        "def newton_rapson_raiz(min,max,tol):\n",
        "  raiz=[]\n",
        "  t=True\n",
        "  while t:\n",
        "    xn= xr-fun(xr)/fun_prime(xr)\n",
        "    raiz.append(xn)\n",
        "    root = optimize.brentq(fun, 3, 4,xtol=1.0e-10)\n",
        "    raiz.append(root)\n",
        "    t = abs(fun(root))>tol\n",
        "  print(raiz)\n",
        "\n",
        "newton_rapson_raiz(3,96,0.00001)"
      ],
      "metadata": {
        "id": "_y1h4luwrPBF"
      },
      "execution_count": null,
      "outputs": []
    },
    {
      "cell_type": "code",
      "source": [
        "#Quinto punto\n",
        "raiz= [3.375, 3.3166247903554]\n",
        "x= np.linspace(-5,5,2)\n",
        "fig,ax = plt.subplots(1,1)\n",
        "ax.plot(x, raiz)\n",
        "ax.grid('True')\n",
        "np.sqrt(11)"
      ],
      "metadata": {
        "id": "Kdg0hvuprKF0"
      },
      "execution_count": null,
      "outputs": []
    }
  ]
}