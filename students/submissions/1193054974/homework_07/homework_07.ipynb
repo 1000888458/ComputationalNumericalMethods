{
  "nbformat": 4,
  "nbformat_minor": 0,
  "metadata": {
    "colab": {
      "name": "homework_7.ipynb",
      "private_outputs": true,
      "provenance": []
    },
    "kernelspec": {
      "name": "python3",
      "display_name": "Python 3"
    },
    "language_info": {
      "name": "python"
    }
  },
  "cells": [
    {
      "cell_type": "code",
      "source": [
        "#Homework 7\n",
        "#Autor: Mariana Alvarez"
      ],
      "metadata": {
        "id": "WMVNEvjtFkNi"
      },
      "execution_count": null,
      "outputs": []
    },
    {
      "cell_type": "code",
      "source": [
        "print('Hello, this is Mariana Alvarez homework 7')"
      ],
      "metadata": {
        "id": "hn1HCNIPFsgw"
      },
      "execution_count": null,
      "outputs": []
    },
    {
      "cell_type": "code",
      "execution_count": null,
      "metadata": {
        "id": "io70qxEBYyw-"
      },
      "outputs": [],
      "source": [
        "import numpy as np\n",
        "import matplotlib.pyplot as plt\n",
        "import random\n",
        "import scipy.integrate as integrate"
      ]
    },
    {
      "cell_type": "markdown",
      "source": [
        "a function called integral_monte_carlo_1D(integrand,lim1,lim2,N) (with that order) that receives four parameters: integrand (function), limit1, limit2 and number of iterations N, and returns the value of I (just the numerical value)\n",
        "*use vectorized form of the calculations\n",
        "\n",
        "Test your funcion on the following integral:\n",
        "\n",
        "\\int_{0}^{4}\\sqrt[4]{15x^{3}+21x^{2}+41x+3}\\cdot e^{-0.5x}dx\n",
        "\n",
        "compare with the scipy.integrate.quad results"
      ],
      "metadata": {
        "id": "0v2kcP2eF7LM"
      }
    },
    {
      "cell_type": "code",
      "source": [
        "def integral_monte_carlo_1D(integrand,lim1,lim2,N):\n",
        "  i=0\n",
        "  for j in range(N):\n",
        "    x=np.random.uniform(lim1,lim2)\n",
        "    i+=integrand(x)\n",
        "  i=i/N\n",
        "  I =(lim2-lim1)*i\n",
        "  return I"
      ],
      "metadata": {
        "id": "7IFHPY2zaPyv"
      },
      "execution_count": null,
      "outputs": []
    },
    {
      "cell_type": "code",
      "source": [
        "def integrand(x):\n",
        "  return(((15*(x**3)+21*(x**2)+41*(x)+3)**(1/4))*(np.e**(-0.5*x)))"
      ],
      "metadata": {
        "id": "6jtFuBHLM7Jw"
      },
      "execution_count": null,
      "outputs": []
    },
    {
      "cell_type": "code",
      "source": [
        "monte_carlo= integral_monte_carlo_1D(integrand,0,4,10000)\n",
        "monte_carlo"
      ],
      "metadata": {
        "id": "EN_43HHylJis"
      },
      "execution_count": null,
      "outputs": []
    },
    {
      "cell_type": "code",
      "source": [
        "I, error= integrate.quad(integrand,0,4)\n",
        "print(I)"
      ],
      "metadata": {
        "id": "yTEOlx4QF6Bb"
      },
      "execution_count": null,
      "outputs": []
    },
    {
      "cell_type": "code",
      "source": [
        "print(\"podemos ver que los resultados no son tan diferentes. La diferencia entre ellos es:\", (I-monte_carlo))"
      ],
      "metadata": {
        "id": "9Pshk_oZlLxn"
      },
      "execution_count": null,
      "outputs": []
    }
  ]
}