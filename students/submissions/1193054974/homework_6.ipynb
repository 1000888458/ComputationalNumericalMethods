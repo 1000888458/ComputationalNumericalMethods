{
  "nbformat": 4,
  "nbformat_minor": 0,
  "metadata": {
    "colab": {
      "name": "homework_6.ipynb",
      "private_outputs": true,
      "provenance": []
    },
    "kernelspec": {
      "name": "python3",
      "display_name": "Python 3"
    },
    "language_info": {
      "name": "python"
    }
  },
  "cells": [
    {
      "cell_type": "code",
      "source": [
        "#Homework 6\n",
        "#Autor: Mariana Alvarez"
      ],
      "metadata": {
        "id": "KMFV1zNZgF_D"
      },
      "execution_count": null,
      "outputs": []
    },
    {
      "cell_type": "code",
      "source": [
        "print('Hello, this is Mariana Alvarez homework 6')"
      ],
      "metadata": {
        "id": "3taFkcU6f198"
      },
      "execution_count": null,
      "outputs": []
    },
    {
      "cell_type": "markdown",
      "source": [
        "inside write a function: deriv(func,a,method,h) func is a function that I can define a is a point (float) at which I wante to evaluate the derivative method is a string, and can have three options forward,central,backward h is a step\n",
        "\n",
        "remember the function must not print anything, just return a single value!!!\n",
        "\n",
        "to choose between schemes ('central','forward'..) use if, elif"
      ],
      "metadata": {
        "id": "LsAZKfd5ftu5"
      }
    },
    {
      "cell_type": "code",
      "execution_count": null,
      "metadata": {
        "id": "ZWU10pWafGQf"
      },
      "outputs": [],
      "source": [
        "import numpy as np\n",
        "import matplotlib.pyplot as plt\n",
        "import random"
      ]
    },
    {
      "cell_type": "code",
      "source": [
        "def deriv(func,a,method,h):\n",
        "  if method==1:\n",
        "    return (func(a+h)-func(a))/h\n",
        "  elif method==2:\n",
        "    return ((func(a+h))-(func(a-h)))/2*h\n",
        "  else:\n",
        "    return ((func(a))-(func(a-h)))/h"
      ],
      "metadata": {
        "id": "bS_gW7OeugMP"
      },
      "execution_count": null,
      "outputs": []
    },
    {
      "cell_type": "code",
      "source": [
        "def func(a):\n",
        "    return a**3\n",
        "deriv(func,3, 3, 1)"
      ],
      "metadata": {
        "id": "iuFTMGfRuuwk"
      },
      "execution_count": null,
      "outputs": []
    }
  ]
}