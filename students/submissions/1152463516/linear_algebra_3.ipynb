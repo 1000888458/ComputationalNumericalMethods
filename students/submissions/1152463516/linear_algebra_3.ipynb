{
 "cells": [
  {
   "cell_type": "code",
   "execution_count": 1,
   "source": [
    "import numpy as np"
   ],
   "outputs": [],
   "metadata": {}
  },
  {
   "cell_type": "code",
   "execution_count": 13,
   "source": [
    "S = np.array([[1, -1, -1, -1], \r\n",
    "              [-1, 2, 0, 0], \r\n",
    "              [-1, 3, 3, 0], \r\n",
    "              [-1, 0, 1, 4]])"
   ],
   "outputs": [],
   "metadata": {}
  },
  {
   "cell_type": "code",
   "execution_count": 43,
   "source": [
    "S_5 = np.identity(len(S))\r\n",
    "\r\n",
    "# calculation with for loop\r\n",
    "for i in range(5):\r\n",
    "    S_5 = S_5 @ S\r\n",
    "S_5"
   ],
   "outputs": [
    {
     "output_type": "execute_result",
     "data": {
      "text/plain": [
       "array([[  485.,  -755.,  -563.,  -563.],\n",
       "       [ -179.,   280.,   192.,   192.],\n",
       "       [ -675.,  1201.,   707.,   464.],\n",
       "       [-1027.,  1448.,  1275.,  1518.]])"
      ]
     },
     "metadata": {},
     "execution_count": 43
    }
   ],
   "metadata": {}
  },
  {
   "cell_type": "code",
   "execution_count": 42,
   "source": [
    "eig_values, eig_vectors = np.linalg.eig(S)\r\n",
    "\r\n",
    "D = np.eye(len(eig_values))\r\n",
    "for n, i in enumerate(eig_values):\r\n",
    "    D[n, n] = i\r\n",
    "\r\n",
    "P = eig_vectors\r\n",
    "P_inv = np.linalg.inv(P)\r\n",
    "\r\n",
    "# calculation with diagonization\r\n",
    "D_5 = [x ** 5 for x in D]\r\n",
    "\r\n",
    "S_5 = P @ D_5 @ P_inv\r\n",
    "S_5\r\n"
   ],
   "outputs": [
    {
     "output_type": "execute_result",
     "data": {
      "text/plain": [
       "array([[  485.,  -755.,  -563.,  -563.],\n",
       "       [ -179.,   280.,   192.,   192.],\n",
       "       [ -675.,  1201.,   707.,   464.],\n",
       "       [-1027.,  1448.,  1275.,  1518.]])"
      ]
     },
     "metadata": {},
     "execution_count": 42
    }
   ],
   "metadata": {}
  }
 ],
 "metadata": {
  "orig_nbformat": 4,
  "language_info": {
   "name": "python",
   "version": "3.8.11",
   "mimetype": "text/x-python",
   "codemirror_mode": {
    "name": "ipython",
    "version": 3
   },
   "pygments_lexer": "ipython3",
   "nbconvert_exporter": "python",
   "file_extension": ".py"
  },
  "kernelspec": {
   "name": "python3",
   "display_name": "Python 3.8.11 64-bit ('base': conda)"
  },
  "interpreter": {
   "hash": "959de66c19c0d38bf247e8663716d4908d680f3961f0bbab5046a68da5760f84"
  }
 },
 "nbformat": 4,
 "nbformat_minor": 2
}