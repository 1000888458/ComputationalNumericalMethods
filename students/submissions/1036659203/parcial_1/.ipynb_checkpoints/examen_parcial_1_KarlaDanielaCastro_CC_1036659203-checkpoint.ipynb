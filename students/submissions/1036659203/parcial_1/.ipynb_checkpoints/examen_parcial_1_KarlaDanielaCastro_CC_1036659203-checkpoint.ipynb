{
 "cells": [
  {
   "cell_type": "markdown",
   "id": "impossible-command",
   "metadata": {
    "id": "impossible-command"
   },
   "source": [
    "# Examen parcial 1 (Python basico y visualizaciones)\n",
    "* Antes de enviar el archivo, $\\textbf{reiniciar y ejecutar el kernel}$ para ver que el archivo se compila sin errores\n",
    "* enviar el archivo jupyter sin anexos antes de las 10.20am del 17.12.2021 a mi dirección de correo electrónico: michal.hemmerling@udea.edu.co "
   ]
  },
  {
   "cell_type": "code",
   "execution_count": null,
   "id": "uDs7qkIXt7Tt",
   "metadata": {
    "id": "uDs7qkIXt7Tt"
   },
   "outputs": [],
   "source": []
  },
  {
   "cell_type": "markdown",
   "id": "chicken-fields",
   "metadata": {
    "id": "chicken-fields"
   },
   "source": [
    "# Cada de los dos ejercicios abajo vale 100%, \n",
    "* usted puede escojer cual ejercicio quiere hacer. \n",
    "* si hace dos ejercisios en la mitad tambien gana 100%\n",
    "* si hace los dos ejercicios completos, extra puntos voy a pasar para resultado de proximo parcial"
   ]
  },
  {
   "cell_type": "markdown",
   "id": "conceptual-swedish",
   "metadata": {
    "id": "conceptual-swedish"
   },
   "source": [
    "## Ejercicio 1a. Calcular una soma (Taylor aproximacion de funcion cos) usando loop \n",
    "\n",
    "\n",
    "$$cos(x)=\\sum_{k=0}^{\\infty}\\frac{(-1)^k x^{2k}}{(2k)!}$$ \n",
    "\n",
    "1) usando loop for calcular valor de cos(0.2) para k=2 (en loop k=0,1,2)\n",
    "* (puede comparar su resultado con $cos(x)=1 - \\frac{x^2}{2!}  + \\frac{x^4}{4!}$\n",
    "* (para hacer factorial-! usa: import math, math.factorial)\n",
    "\n",
    "2) crear una funcion cos_taylor(x,k) que acepta dos parametros x y k y vuelve valor de cos(x) para dado numero de termos k\n",
    "* (intenta con x=0.2 y k=2 para comparar con resultado de punto 1)\n",
    "\n",
    "3) crear un vector xvec que tiene 100 elementos en rango de $-\\pi$: $\\pi$ y usando loop for para cada elemento de este vector llama la funcion cos_taylor(x,k) y guarda resultados en una lista \"cos_approx=[]\" usando methodo append (cos_approx.append()). usa valor de k=3 \n",
    "* (pista sobre loop: for x in xvec:...)\n",
    "\n",
    "4) hacer visualizacion de dos curvas en mismo plot:\n",
    "* xvec vs cos_approx (label: Taylor approximation)\n",
    "* xvec vs np.cos(xvec) (label: cos(x))\n",
    "* usa labels para cada curva"
   ]
  },
  {
   "cell_type": "markdown",
   "id": "varying-colorado",
   "metadata": {
    "id": "varying-colorado"
   },
   "source": [
    "*la formula completa de approximacion\n",
    "<table><tr>\n",
    "<td> <img src=\"imgs/maclaurin_cos.png\" width=\"400\" /> </td>\n",
    "</tr></table>"
   ]
  },
  {
   "cell_type": "code",
   "execution_count": 1,
   "id": "Yfca9Wl46LT4",
   "metadata": {
    "colab": {
     "base_uri": "https://localhost:8080/"
    },
    "id": "Yfca9Wl46LT4",
    "outputId": "f850aee5-f3b3-4bed-9073-2d582797443d"
   },
   "outputs": [
    {
     "name": "stdout",
     "output_type": "stream",
     "text": [
      "Angulo: 0.2\n",
      "Iteraciones: 10\n"
     ]
    },
    {
     "ename": "NameError",
     "evalue": "name 'x' is not defined",
     "output_type": "error",
     "traceback": [
      "\u001b[0;31m---------------------------------------------------------------------------\u001b[0m",
      "\u001b[0;31mNameError\u001b[0m                                 Traceback (most recent call last)",
      "\u001b[0;32m<ipython-input-1-75cecce43e9a>\u001b[0m in \u001b[0;36m<module>\u001b[0;34m\u001b[0m\n\u001b[1;32m     11\u001b[0m \u001b[0mn\u001b[0m \u001b[0;34m=\u001b[0m \u001b[0;36m0\u001b[0m\u001b[0;34m\u001b[0m\u001b[0;34m\u001b[0m\u001b[0m\n\u001b[1;32m     12\u001b[0m \u001b[0msuma\u001b[0m \u001b[0;34m=\u001b[0m \u001b[0;36m0\u001b[0m\u001b[0;34m\u001b[0m\u001b[0;34m\u001b[0m\u001b[0m\n\u001b[0;32m---> 13\u001b[0;31m \u001b[0mx0\u001b[0m \u001b[0;34m=\u001b[0m \u001b[0mmath\u001b[0m\u001b[0;34m.\u001b[0m\u001b[0mradians\u001b[0m\u001b[0;34m(\u001b[0m\u001b[0mx\u001b[0m\u001b[0;34m)\u001b[0m \u001b[0;31m#Me convierte a radianes el angulo\u001b[0m\u001b[0;34m\u001b[0m\u001b[0;34m\u001b[0m\u001b[0m\n\u001b[0m\u001b[1;32m     14\u001b[0m \u001b[0;32mwhile\u001b[0m \u001b[0mn\u001b[0m \u001b[0;34m<=\u001b[0m \u001b[0mm\u001b[0m\u001b[0;34m:\u001b[0m\u001b[0;34m\u001b[0m\u001b[0;34m\u001b[0m\u001b[0m\n\u001b[1;32m     15\u001b[0m     \u001b[0mcos\u001b[0m \u001b[0;34m=\u001b[0m \u001b[0;34m(\u001b[0m\u001b[0;34m(\u001b[0m\u001b[0;34m-\u001b[0m\u001b[0;36m1\u001b[0m\u001b[0;34m)\u001b[0m \u001b[0;34m**\u001b[0m \u001b[0mn\u001b[0m\u001b[0;34m)\u001b[0m\u001b[0;34m\u001b[0m\u001b[0;34m\u001b[0m\u001b[0m\n",
      "\u001b[0;31mNameError\u001b[0m: name 'x' is not defined"
     ]
    }
   ],
   "source": [
    "#PUNTO 1\n",
    "\n",
    "import math\n",
    "import numpy as np\n",
    "import decimal\n",
    "import matplotlib.pyplot as plt\n",
    "\n",
    "#Voy a calcular el valor de cos:\n",
    "y = float(input(\"Angulo: \"))\n",
    "m = int(input(\"Iteraciones: \"))\n",
    "n = 0\n",
    "suma = 0\n",
    "x0 = math.radians(x) #Me convierte a radianes el angulo\n",
    "while n <= m:\n",
    "    cos = ((-1) ** n)\n",
    "    cos_1 = decimal.Decimal(math.factorial(2 * n))\n",
    "    cos_2 = x0 ** (2. * n)\n",
    "    z = ((cos * cos_2)*1.0)/float(cos_1)\n",
    "    suma += z\n",
    "    n += 1\n",
    "print(\"El coseno es %.4f\"% suma) \n",
    "\n",
    "print(math.cos(x0)) "
   ]
  },
  {
   "cell_type": "code",
   "execution_count": null,
   "id": "xBBRR-My8ke1",
   "metadata": {
    "colab": {
     "base_uri": "https://localhost:8080/"
    },
    "id": "xBBRR-My8ke1",
    "outputId": "5cf769d3-465d-495f-c075-7bd693a7d101"
   },
   "outputs": [],
   "source": [
    "#PUNTO 2\n",
    "\n",
    "def Cos_Taylor(y, k):\n",
    "    y = y\n",
    "    m = k\n",
    "    n = 0\n",
    "    suma = 0\n",
    "    x0 = math.radians(x)\n",
    "    while n <= m:\n",
    "        cos = ((-1) ** n)\n",
    "        cos1 = decimal.Decimal(math.factorial(2 * n))\n",
    "        cos2 = x0 ** (2. * n)\n",
    "        z = ((cos * cos2)*1.0)/float(cos1)\n",
    "        suma += z\n",
    "        n += 1\n",
    "    return suma\n",
    "\n",
    "print(Cos_Taylor(0.2, 3))"
   ]
  },
  {
   "cell_type": "code",
   "execution_count": null,
   "id": "Dv4nuXq49jWg",
   "metadata": {
    "id": "Dv4nuXq49jWg"
   },
   "outputs": [],
   "source": [
    "#PUNTO 3\n",
    "\n",
    "xvec = [i for i in np.linspace(- math.pi , math.pi, 100)]\n",
    "cos_approx = []\n",
    "for i in range(0, len(xvec)):\n",
    "    y = Cos_Taylor(xvec[i], 3)\n",
    "    cos_approx.append(y)"
   ]
  },
  {
   "cell_type": "code",
   "execution_count": null,
   "id": "yTP4vzbJ9jqR",
   "metadata": {
    "colab": {
     "base_uri": "https://localhost:8080/",
     "height": 299
    },
    "id": "yTP4vzbJ9jqR",
    "outputId": "143251ee-eac3-4ffb-8c99-b645d005982f"
   },
   "outputs": [],
   "source": [
    "#PUNTO 4\n",
    "\n",
    "fig, ax = plt.subplots()\n",
    "ax.set_title('Aproximación')\n",
    "ax.plot(xvec, cos_approx, color='green', label='Taylor approximation')\n",
    "ax.plot(xvec,np.cos(xvec),color='red',label='$cos(x)$')\n",
    "ax.legend()"
   ]
  },
  {
   "cell_type": "markdown",
   "id": "accomplished-increase",
   "metadata": {
    "id": "accomplished-increase"
   },
   "source": [
    "## Ejercicio 1b. Visualizar imagenes de un conjunto de datos\n",
    "\n"
   ]
  },
  {
   "cell_type": "markdown",
   "id": "institutional-dating",
   "metadata": {
    "id": "institutional-dating"
   },
   "source": [
    "#### Un documento 'images_32x32.mat' contiene ~ 25,000 de imagenes de digitos, images son en colores (cada imagen tiene 3 capas RGB) y cada imagen es 32x32 pixeles\n",
    "\n",
    "1) convertir este conjunto de tipo MAT a un dicionario\n",
    "* (import scipy.io,   \n",
    "   imgs_dict = scipy.io.loadmat(images_32x32.mat)\n",
    "\n",
    "2) muestra que llaves tiene este dicionario y muestra que dimensiones tienen las llaves **X** y **y**\n",
    "\n",
    "3) visualiza aleatoriamente 10 de estos imagenes en una forma de matriz 1x10 (fila de 10 imagenes)\n",
    "* los imagenes son guardados en llave 'X' de este dicionario\n",
    "\n",
    "4) convertir las imágenes en color a escala de grises promediando una de las dimensiones y volver a mostrar las mismos 10 imagenes aleatorios en otra matriz de 1x10 (fila de 10 imagenes)\n",
    "\n",
    "5) seria bien que los titulos de los 10 imagenes coresponden a etiquietas de llave \"y\""
   ]
  },
  {
   "cell_type": "code",
   "execution_count": null,
   "id": "interstate-addition",
   "metadata": {
    "id": "interstate-addition",
    "outputId": "7e6b8e52-5a06-49eb-95a8-97093a52883e"
   },
   "outputs": [],
   "source": [
    "!ls"
   ]
  },
  {
   "cell_type": "code",
   "execution_count": null,
   "id": "little-gardening",
   "metadata": {
    "id": "little-gardening"
   },
   "outputs": [],
   "source": [
    "# Comentarios\n",
    "error durante ejecucion: name 'x' is not defined"
   ]
  }
 ],
 "metadata": {
  "colab": {
   "name": "examen_parcial_1_KarlaDanielaCastro_CC_1036659203.ipynb",
   "provenance": []
  },
  "kernelspec": {
   "display_name": "Python 3",
   "language": "python",
   "name": "python3"
  },
  "language_info": {
   "codemirror_mode": {
    "name": "ipython",
    "version": 3
   },
   "file_extension": ".py",
   "mimetype": "text/x-python",
   "name": "python",
   "nbconvert_exporter": "python",
   "pygments_lexer": "ipython3",
   "version": "3.7.2"
  }
 },
 "nbformat": 4,
 "nbformat_minor": 5
}
