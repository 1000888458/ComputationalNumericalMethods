{
 "cells": [
  {
   "cell_type": "markdown",
   "id": "resistant-worst",
   "metadata": {},
   "source": [
    "# Least Action with least squares minimization \n",
    "\n",
    "http://web.mit.edu/jgross/Public/least_action/Principle%20of%20Least%20Action.pdf"
   ]
  },
  {
   "cell_type": "markdown",
   "id": "collectible-donor",
   "metadata": {},
   "source": [
    "### The equation of motion of an object tossed vertically\n",
    " \n",
    "<img src=\"imgs/vtoss.jpg\" width=\"400\" />\n",
    "\n",
    "$$x(t)=-\\frac{{1}}{{2}}gt^2+v_0t$$\n"
   ]
  },
  {
   "cell_type": "code",
   "execution_count": 61,
   "id": "refined-pierce",
   "metadata": {},
   "outputs": [
    {
     "name": "stdout",
     "output_type": "stream",
     "text": [
      "[0.   0.15 0.3  0.45 0.6  0.75 0.9  1.05 1.2  1.35 1.5  1.65 1.8  1.95\n",
      " 2.1  2.25 2.4  2.55 2.7  2.85 3.  ]\n",
      "\n",
      "[ 0.       2.13975  4.059    5.75775  7.236    8.49375  9.531   10.34775\n",
      " 10.944   11.31975 11.475   11.40975 11.124   10.61775  9.891    8.94375\n",
      "  7.776    6.38775  4.779    2.94975  0.9    ]\n"
     ]
    },
    {
     "data": {
      "text/plain": [
       "Text(0, 0.5, 'x [m]')"
      ]
     },
     "execution_count": 61,
     "metadata": {},
     "output_type": "execute_result"
    },
    {
     "data": {
      "image/png": "[encoded data removed]",
      "text/plain": [
       "<Figure size 432x288 with 1 Axes>"
      ]
     },
     "metadata": {
      "needs_background": "light"
     },
     "output_type": "display_data"
    }
   ],
   "source": [
    "import numpy as np\n",
    "import scipy.optimize\n",
    "import pandas as pd\n",
    "global g  \n",
    "import matplotlib.pyplot as plt\n",
    "\n",
    "g=9.8 #m/s^2\n",
    "t=np.linspace(0,3,21,endpoint='True')\n",
    "v0=15\n",
    "xt=-0.5*g*t**2 + v0*t\n",
    "xt[0]=0\n",
    "#xt[-1]=0\n",
    "print(t)\n",
    "print()\n",
    "print(xt)\n",
    "\n",
    "fig,ax=plt.subplots(1,1)\n",
    "ax.plot(t,xt)\n",
    "ax.set_xlabel('t [s]')\n",
    "ax.set_ylabel('x [m]')"
   ]
  },
  {
   "cell_type": "markdown",
   "id": "sitting-webster",
   "metadata": {},
   "source": [
    "### Let's imagine we dont know the equation of motion:\n",
    "\n",
    "$$x(t)=-\\frac{{1}}{{2}}gt^2+v_0t$$\n",
    "\n",
    "%%%%%%%%%%%%%%%%%%%%%%%%%%%%%%%%%%%%%%%%%%%%%%%%%%%%%%%%%%%%%%"
   ]
  },
  {
   "cell_type": "markdown",
   "id": "conditional-problem",
   "metadata": {},
   "source": [
    "<div style=\"float: right;\" markdown=\"1\">\n",
    "    <img src=\"https://raw.githubusercontent.com/restrepo/ComputationalMethods/master/material/figures/leastaction1.svg?sanitize=true\">\n",
    "</div>\n",
    "\n",
    "## Geometrical interpretation\n",
    "Following the geometry theory developed [here](http://www.eftaylor.com/software/ActionApplets/LeastAction.html), we will try to define something called the _Action_ for one small segment of the free fall movement in one-dimension. \n",
    "\n",
    "For that we need the experimental data consisting on the height of an object of mass $m$ in free fall, and the height $x_i$, for each time $t_i$. This data would be fitted by a polynomial of degree two, as displayed in the figure for one of the fitted segments of the plot of $x$ as a function of $t$. We take the origin of the coordinates at ground level. For each segment we can calculate an average kinetic energy, $T$, and an averge potential energy, $V$, in the limit of $\\Delta t=t_2-t_1$ small. From the figure\n",
    "\n",
    "\\begin{align}\n",
    "T=\\frac12 m v^2\\approx &\\frac12 m\\left(\\frac{x_2-x_1}{t_2-t_1}\\right)^2\\,,&\n",
    "V=mgh\\approx& m g \\frac{x_2+x_1}{2}\\,.\n",
    "\\end{align}\n",
    "\n",
    "We can then reformulate the problem of the free fall in the following terms. From all the possible curves that can interpolate the points $(t_1,x_1)$ and $(t_2,x_2)$, which is the correct one?. \n",
    "\n",
    "The answer obtained by Leonhard Euler [1] can be obtained from the definition of the function \"Lagrangian\"\n",
    "$$L(t)=T(t)-V(t)\\,.$$"
   ]
  },
  {
   "cell_type": "markdown",
   "id": "color-racing",
   "metadata": {},
   "source": [
    "### Least Action:"
   ]
  },
  {
   "cell_type": "markdown",
   "id": "quantitative-verse",
   "metadata": {},
   "source": [
    "With this, we can build the \"Action\", by integrating the Lagrangian function between the points $(t_1,x_1)$ and $(t_2,x_2)$ as\n",
    "$$S=\\int_{t_1}^{t_2} L\\, \\operatorname{d}t\\,. $$\n",
    "\n",
    "which give us a numerical result with units of energy multiplied by time (J$\\cdot$s). What is worth noticing is that if we relax the definition of $V$ and allows for any $h$, but keeping the initial and final points fixed, we can calculate many Action values. This is illustrated in the figure for blue dotted ($S_1$), solid ($S_{\\text{min}}$) and dashed ($S_2$)lines. But only the height, $(x_1+x_2)/2$ , associated with the real physical path, has a minimum value for the Action, $S_{\\text{min}}$!\n",
    "\n",
    "In fact, for one segment of the action between $(t_1,x_1)$, and $(t_2,x_2)$, with $\\Delta t$ sufficiently small such that $L$ can be considered constant, we have\n",
    "\\begin{eqnarray}\n",
    "S_{\\text{min}}&=&\\int_{t_1}^{t_2} L dt \\\\\n",
    "&\\approx& \\left[\\frac12 m v^2-m g h \\right]\\Delta t\\\\\n",
    "&\\approx& \\left[\\frac12 m\\left(\\frac{x_2-x_1}{t_2-t_1}\\right)^2-m g \\frac{x_2+x_1}{2} \\right](t_2-t_1)\n",
    "\\end{eqnarray}\n",
    "that corresponds to Eq. (11) of Am. J. Phys, Vol. 72(2004)478: http://www.eftaylor.com/pub/Symmetries&ConsLaws.pdf"
   ]
  },
  {
   "cell_type": "markdown",
   "id": "unlimited-webster",
   "metadata": {},
   "source": [
    "<div style=\"float: right;\" markdown=\"1\">\n",
    "    <img src=\"https://raw.githubusercontent.com/restrepo/ComputationalMethods/master/material/figures/leastaction3.svg?sanitize=true\">\n",
    "</div>\n",
    "\n",
    "__Least Action method__: The least action method consist in the following steps illustrated in the figure\n",
    "1. Fix the initial and final point of the movement. Example the initial time and the height from which a body is launched upwards, $(t_{\\text{ini}},x_{\\text{ini}})$, and the final time and height $(t_{\\text{end}},x_{\\text{end}})$.\n",
    "1. Divide the problem in small segments of $\\Delta t=t_{i+1}-t_i$.\n",
    "1. Build many paths with the initial and final point fixed and calculates the Action in each segment, $S_i$, for all the paths\n",
    "1. Choose the minimal Action for each segment, $S_{\\text{min}}^i$, and rebuild the full path which minimizes the Action in each segment. This is the physical trajectory!"
   ]
  },
  {
   "cell_type": "markdown",
   "id": "healthy-daniel",
   "metadata": {},
   "source": [
    "## Code implementation"
   ]
  },
  {
   "cell_type": "markdown",
   "id": "expanded-conviction",
   "metadata": {},
   "source": [
    "### The Action\n",
    "We define the Action $S$ such of an object of mass $m$ throw vertically upwards from $x_{\\hbox{ini}}$, such that $t_{\\hbox{end}}$ seconds later the object return to a height $x_{\\hbox{end}}$, as\n",
    "\\begin{align}\n",
    "S=&\\int_{t_{\\hbox{ini}}}^{t_{\\hbox{end}}} L\\, {\\rm d}t \\\\\n",
    "=& \\sum_i S_i\\\\\n",
    "=&\\sum_i L_i \\Delta t\\,.\n",
    "\\end{align}"
   ]
  },
  {
   "cell_type": "markdown",
   "id": "thorough-brick",
   "metadata": {},
   "source": [
    "## Testing the Least Action components (object thrown vertically)"
   ]
  },
  {
   "cell_type": "code",
   "execution_count": 26,
   "id": "partial-budapest",
   "metadata": {},
   "outputs": [
    {
     "name": "stdout",
     "output_type": "stream",
     "text": [
      "Populating the interactive namespace from numpy and matplotlib\n"
     ]
    }
   ],
   "source": [
    "%pylab inline\n",
    "import numpy as np\n",
    "import scipy.optimize\n",
    "import pandas as pd\n",
    "global g  \n",
    "g=9.8 #m/s^2"
   ]
  },
  {
   "cell_type": "code",
   "execution_count": 27,
   "id": "becoming-minority",
   "metadata": {},
   "outputs": [],
   "source": [
    "tini=0 #[s]\n",
    "tend=3 #[s]\n",
    "xini=0 #[m]\n",
    "xend=0 #[m]"
   ]
  },
  {
   "cell_type": "code",
   "execution_count": 28,
   "id": "compound-accuracy",
   "metadata": {},
   "outputs": [],
   "source": [
    "x=np.array([xini,10,15.,22.,18.,5.,xend])#.size"
   ]
  },
  {
   "cell_type": "code",
   "execution_count": 29,
   "id": "piano-terror",
   "metadata": {},
   "outputs": [
    {
     "data": {
      "text/plain": [
       "array([ 0., 10., 15., 22., 18.,  5.])"
      ]
     },
     "execution_count": 29,
     "metadata": {},
     "output_type": "execute_result"
    }
   ],
   "source": [
    "#Initial points: x_i\n",
    "x[:-1]"
   ]
  },
  {
   "cell_type": "code",
   "execution_count": 30,
   "id": "hidden-branch",
   "metadata": {},
   "outputs": [
    {
     "data": {
      "text/plain": [
       "array([10., 15., 22., 18.,  5.,  0.])"
      ]
     },
     "execution_count": 30,
     "metadata": {},
     "output_type": "execute_result"
    }
   ],
   "source": [
    "#final points: x_{i+1}\n",
    "x[1:]"
   ]
  },
  {
   "cell_type": "code",
   "execution_count": 31,
   "id": "martial-gnome",
   "metadata": {},
   "outputs": [
    {
     "name": "stdout",
     "output_type": "stream",
     "text": [
      "[ 10.   5.   7.  -4. -13.  -5.]\n",
      "0.5\n"
     ]
    }
   ],
   "source": [
    "Dx=x[1:]-x[:-1]\n",
    "print(Dx)\n",
    "Dt=tend/x[:-1].size\n",
    "print(Dt)"
   ]
  },
  {
   "cell_type": "markdown",
   "id": "numerous-movement",
   "metadata": {},
   "source": [
    "### Numerical implementation of Least Action"
   ]
  },
  {
   "cell_type": "code",
   "execution_count": 32,
   "id": "aboriginal-halloween",
   "metadata": {},
   "outputs": [],
   "source": [
    "def S(x,tend=3.,m=0.2,xini=0.,xend=0.):\n",
    "    \"\"\"\n",
    "    Calculate the Action of an object of of mass 'm' throw vertically upward from \n",
    "       'xini', such that 'tend' seconds later the object return to a height 'xend'.\n",
    "       Delta t must be constant.\n",
    "       \n",
    "    The defaults units for S are J.s   \n",
    "    \"\"\"\n",
    "    x=np.asarray(x)\n",
    "    Dt=tend/x[:-1].size\n",
    "    #Fix initial and final point\n",
    "    x[0]=xini\n",
    "    x[-1]=xend\n",
    "    return ( (0.5*m*(x[1:]-x[:-1])**2/Dt**2-0.5*m*g*(x[1:]+x[:-1]) )*Dt).sum()"
   ]
  },
  {
   "cell_type": "markdown",
   "id": "catholic-light",
   "metadata": {},
   "source": [
    "\\begin{eqnarray}\n",
    "S_i&\\approx& \\left[\\frac12 m\\left(\\frac{x_2-x_1}{t_2-t_1}\\right)^2-m g \\frac{x_2+x_1}{2} \\right](t_2-t_1)\n",
    "\\end{eqnarray}\n",
    "\n",
    "\\begin{eqnarray}\n",
    "S_i&\\approx& \\left[0.5 m\\left(\\frac{\\Delta x}{\\Delta t}\\right)^2-m g \\frac{x_2+x_1}{2} \\right]\\Delta t\n",
    "\\end{eqnarray}"
   ]
  },
  {
   "cell_type": "code",
   "execution_count": 33,
   "id": "authorized-orchestra",
   "metadata": {},
   "outputs": [
    {
     "data": {
      "text/plain": [
       "0.0"
      ]
     },
     "execution_count": 33,
     "metadata": {},
     "output_type": "execute_result"
    }
   ],
   "source": [
    "x=np.zeros(21)\n",
    "S(x)"
   ]
  },
  {
   "cell_type": "markdown",
   "id": "surrounded-ground",
   "metadata": {},
   "source": [
    "#### Example\n",
    "_Problem_: Let an object of mass $m=0.2$ Kg throw vertically updward and returning back to the same hand after 3 s. Find the function of distance versus time of least Action. \n",
    "\n",
    "If we denote the height at time $t_i$ as $x_i=x(t_i)$, we can calculate the action for any set of $x_i$ points with the inititial and final points fixed at $0\\ $m.\n",
    "\n",
    "__Example__: By using the previous definition, calculates the Action for 21 steps in time from $0$ at $3\\ $s for an object that does not move at all\n",
    "\n",
    "__Solution__:"
   ]
  },
  {
   "cell_type": "markdown",
   "id": "killing-family",
   "metadata": {},
   "source": [
    "__Activity__:  _Brute force approach_\n",
    "\n",
    "Open the Activity notebook in [CoCalc!](https://cocalc.com/projects/a8330cfb-9dfb-442e-9b2b-ba664e31a685/files/Activity_Least_Action.ipynb?session=default)\n",
    "\n",
    "1) calculates the Action for 21 steps in time from $0$ at $3\\ $s, for an object that at a random position in each time between zero and $15\\ $m, but with the initial and final positions set to zero. Make the plot for the random curve. \n"
   ]
  },
  {
   "cell_type": "markdown",
   "id": "executed-girlfriend",
   "metadata": {},
   "source": [
    "Let us divide the intervals in 21 parts:"
   ]
  },
  {
   "cell_type": "code",
   "execution_count": 40,
   "id": "ahead-lafayette",
   "metadata": {},
   "outputs": [
    {
     "name": "stdout",
     "output_type": "stream",
     "text": [
      "452.7987305965698\n",
      "231.51923704222997\n",
      "220.6995734974813\n",
      "217.44881828002696\n",
      "202.62447601808663\n",
      "183.97370340190517\n",
      "130.4862642755595\n",
      "109.6539352170166\n",
      "95.23201235961945\n",
      "69.9152173915528\n",
      "56.93635537550686\n",
      "30.619860165139585\n"
     ]
    }
   ],
   "source": [
    "#Initialize with the maximum possible value\n",
    "Smin=np.inf\n",
    "for i in range(1000000):\n",
    "    #21 one random number between 0 and 15\n",
    "    x=np.random.uniform(0,15,21)\n",
    "    # Force the boundary conditions\n",
    "    x[0]=0\n",
    "    x[-1]=0\n",
    "    Sx=S(x)\n",
    "    if Sx<Smin:\n",
    "        #Get new minimum\n",
    "        Smin=Sx\n",
    "        xmin=x\n",
    "        print(Smin)"
   ]
  },
  {
   "cell_type": "code",
   "execution_count": 35,
   "id": "graphic-clearance",
   "metadata": {},
   "outputs": [
    {
     "data": {
      "image/png": "[encoded data removed]",
      "text/plain": [
       "<Figure size 864x288 with 2 Axes>"
      ]
     },
     "metadata": {
      "needs_background": "light"
     },
     "output_type": "display_data"
    }
   ],
   "source": [
    "from scipy import interpolate\n",
    "tx=np.linspace(0,3,len(xmin))\n",
    "fig, (ax1, ax2) = plt.subplots(1, 2,figsize=(12,4))\n",
    "p=[]\n",
    "pi=0\n",
    "pe=21\n",
    "x1d=interpolate.interp1d(tx[pi:pe],xmin[pi:pe],kind=3)\n",
    "txx=np.linspace(tx[pi],tx[pe-1],1000)\n",
    "ax1.plot(tx,xmin,'r.')\n",
    "ax1.plot(txx,x1d(txx))\n",
    "ax1.set(xlim=(-0.1,3.3),ylim=(-1,20),\n",
    "        xlabel='$t$ [s]',ylabel='$x(t)$ (m)')\n",
    "\n",
    "ax2.plot(tx,xmin,'r.')\n",
    "ax2.plot(txx,x1d(txx))\n",
    "ax2.set(xlim=(0.5,1.3),ylim=(5.7,12),\n",
    "        xlabel='zoom in')\n",
    "\n",
    "fig.tight_layout(pad=4.0)"
   ]
  },
  {
   "cell_type": "code",
   "execution_count": 36,
   "id": "flexible-kernel",
   "metadata": {},
   "outputs": [],
   "source": [
    "import scipy.optimize as optimize\n",
    "def xfit(n,t=3.,m=0.2,xini=0.,xend=0.,ftol=1E-8):\n",
    "    '''Find the array of n (odd) components that minimizes the action S(x)\n",
    "    :Parameters:\n",
    "    n: odd integer \n",
    "        dimension of the ndarray x that minimizes the action  S(x,t,m)\n",
    "    t,m: numbers\n",
    "       optional parameters for the action\n",
    "    ftol: number\n",
    "        acceptable relative error in S(x) for convergence.\n",
    "    :Returns: (x,xmax,Smin)    \n",
    "    x: ndarray\n",
    "        minimizer of the action S(x)        \n",
    "    xini:    \n",
    "    xend:\n",
    "    xmax: number\n",
    "        Maximum height for the object\n",
    "    Smin: number\n",
    "        value of function at minimum: Smin = S(x)\n",
    "    '''\n",
    "    \n",
    "    t=float(t)\n",
    "    if n%2==0:\n",
    "        print ( 'x array must be odd')\n",
    "        sys.exit()\n",
    "  \n",
    "    x0=np.zeros(n)\n",
    "    a=optimize.fmin_powell(S,x0,args=(t,m,xini,xend),ftol=ftol,full_output=1)\n",
    "    x=a[0]\n",
    "    x[0]=xini;x[-1]=xend\n",
    "    xmax=np.sort(x)[-1]\n",
    "    Smin=a[1]\n",
    "    Dt=t/x[:-1].size #  t/(n-1)\n",
    "    return x,xmax,Smin,Dt"
   ]
  },
  {
   "cell_type": "code",
   "execution_count": 41,
   "id": "ultimate-oriental",
   "metadata": {},
   "outputs": [
    {
     "name": "stdout",
     "output_type": "stream",
     "text": [
      "Optimization terminated successfully.\n",
      "         Current function value: -21.554977\n",
      "         Iterations: 28\n",
      "         Function evaluations: 5837\n",
      "(array([ 0.        ,  2.09485981,  3.96927762,  5.62312695,  7.05635241,\n",
      "        8.26906363,  9.26154883, 10.03312026, 10.58423427, 10.91506033,\n",
      "       11.02529045, 10.91501183, 10.58427987, 10.03303519,  9.26102159,\n",
      "        8.26869546,  7.05596305,  5.62273064,  3.9689361 ,  2.09464162,\n",
      "        0.        ]), 11.025290448185725, -21.55497732876534, 0.15)\n"
     ]
    }
   ],
   "source": [
    "t=3.\n",
    "m=0.2\n",
    "y=xfit(21,t,m)\n",
    "x=y[0]\n",
    "xmax=y[1]\n",
    "Smin=y[2]\n",
    "Dt=y[3]\n",
    "tx=np.arange(0,t+Dt,Dt)"
   ]
  },
  {
   "cell_type": "code",
   "execution_count": 38,
   "id": "passive-plant",
   "metadata": {},
   "outputs": [
    {
     "data": {
      "image/png": "[encoded data removed]",
      "text/plain": [
       "<Figure size 432x288 with 1 Axes>"
      ]
     },
     "metadata": {
      "needs_background": "light"
     },
     "output_type": "display_data"
    }
   ],
   "source": [
    "plt.plot(tx,x,label='$S_{\\mathrm{min}}=$%.2f J.s' %Smin)\n",
    "plt.plot(tx,x,'ro')\n",
    "plt.ylabel('HEIGHT meters')\n",
    "plt.xlabel('TIME seconds')\n",
    "plt.title('Worldline of least action')\n",
    "plt.legend(loc='best')\n",
    "plt.grid()"
   ]
  },
  {
   "cell_type": "markdown",
   "id": "fallen-senate",
   "metadata": {},
   "source": [
    "Check the equation of motion: \n",
    "$$x(t)=-\\frac{{1}}{{2}}gt^2+v_0t$$"
   ]
  },
  {
   "cell_type": "code",
   "execution_count": 39,
   "id": "threatened-terminal",
   "metadata": {},
   "outputs": [
    {
     "name": "stdout",
     "output_type": "stream",
     "text": [
      "      2\n",
      "-4.9 t + 14.7 t + 0.0001604\n"
     ]
    }
   ],
   "source": [
    "P=poly1d (np.polyfit(tx,x,2),variable='t' )\n",
    "print(P)"
   ]
  },
  {
   "cell_type": "code",
   "execution_count": null,
   "id": "adjacent-excitement",
   "metadata": {},
   "outputs": [],
   "source": []
  },
  {
   "cell_type": "code",
   "execution_count": null,
   "id": "referenced-carbon",
   "metadata": {},
   "outputs": [],
   "source": []
  },
  {
   "cell_type": "code",
   "execution_count": null,
   "id": "unnecessary-cartoon",
   "metadata": {},
   "outputs": [],
   "source": []
  }
 ],
 "metadata": {
  "kernelspec": {
   "display_name": "Python 3",
   "language": "python",
   "name": "python3"
  },
  "language_info": {
   "codemirror_mode": {
    "name": "ipython",
    "version": 3
   },
   "file_extension": ".py",
   "mimetype": "text/x-python",
   "name": "python",
   "nbconvert_exporter": "python",
   "pygments_lexer": "ipython3",
   "version": "3.7.2"
  }
 },
 "nbformat": 4,
 "nbformat_minor": 5
}
