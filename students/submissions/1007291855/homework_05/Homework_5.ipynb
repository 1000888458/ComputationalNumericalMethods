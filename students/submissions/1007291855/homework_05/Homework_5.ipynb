{
 "cells": [
  {
   "cell_type": "markdown",
   "id": "dietary-classic",
   "metadata": {},
   "source": [
    "**1**. Homework 5 about cuadratic interpolation. By: Lisa Zapata Alzate"
   ]
  },
  {
   "cell_type": "markdown",
   "id": "fifteen-museum",
   "metadata": {},
   "source": [
    "write a function: quadratic_interp(x,y,xinterp):\n",
    "\n",
    "cuadratic_interp(x,y,xinterp) accepts three elements (vector x, vector y and float xinterp to be interpolated) an returns yinterp value of the interpolated point xinterp\n"
   ]
  },
  {
   "cell_type": "code",
   "execution_count": 12,
   "id": "contrary-vision",
   "metadata": {},
   "outputs": [],
   "source": [
    "import numpy as np\n",
    "def cuadratic_interp(x,y,xinterp):\n",
    "    b0 = y[0]\n",
    "    b1 = (y[1]-y[0])/(x[1]-x[0])\n",
    "    b2 = (((y[2]-y[1])/(x[2]-x[1]))-b1)/(x[2]-x[0])\n",
    "    yinterp = b0 + b1*(xinterp-x[0]) + b2*(xinterp-x[0])*(xinterp-x[1])\n",
    "    return yinterp"
   ]
  },
  {
   "cell_type": "code",
   "execution_count": 13,
   "id": "compatible-terrain",
   "metadata": {},
   "outputs": [
    {
     "data": {
      "text/plain": [
       "0.7057229629318404"
      ]
     },
     "execution_count": 13,
     "metadata": {},
     "output_type": "execute_result"
    }
   ],
   "source": [
    "cuadratic_interp(np.array([2,4,6]), np.array([np.log10(2),np.log10(4),np.log10(6)]), 5)"
   ]
  }
 ],
 "metadata": {
  "kernelspec": {
   "display_name": "Python 3",
   "language": "python",
   "name": "python3"
  },
  "language_info": {
   "codemirror_mode": {
    "name": "ipython",
    "version": 3
   },
   "file_extension": ".py",
   "mimetype": "text/x-python",
   "name": "python",
   "nbconvert_exporter": "python",
   "pygments_lexer": "ipython3",
   "version": "3.9.1"
  }
 },
 "nbformat": 4,
 "nbformat_minor": 5
}
