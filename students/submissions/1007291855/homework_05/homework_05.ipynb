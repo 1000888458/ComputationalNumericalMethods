{
 "cells": [
  {
   "cell_type": "markdown",
   "id": "dietary-classic",
   "metadata": {},
   "source": [
    "**1**. Homework 5 about cuadratic interpolation. By: Lisa Zapata Alzate"
   ]
  },
  {
   "cell_type": "markdown",
   "id": "fifteen-museum",
   "metadata": {},
   "source": [
    "write a function: quadratic_interp(x,y,xinterp):\n",
    "\n",
    "cuadratic_interp(x,y,xinterp) accepts three elements (vector x, vector y and float xinterp to be interpolated) an returns yinterp value of the interpolated point xinterp\n"
   ]
  },
  {
   "cell_type": "code",
   "execution_count": 6,
   "id": "contrary-vision",
   "metadata": {},
   "outputs": [],
   "source": [
    "def quadratic_interp(x,y,xinterp):\n",
    "    b_0= y[0]\n",
    "    b_1=(y1[1]-y[0])/(x[1]-x[0])\n",
    "    b_2=(((y[2]-y[1])/(x[2]-x[1]))-b_1)/(x[2]-x[0])\n",
    "    i=b_0+b_1*(xinterp-x[0])+(b_2+(xinterp-x[0])*(xinterp-x[1]))"
   ]
  }
 ],
 "metadata": {
  "kernelspec": {
   "display_name": "Python 3",
   "language": "python",
   "name": "python3"
  },
  "language_info": {
   "codemirror_mode": {
    "name": "ipython",
    "version": 3
   },
   "file_extension": ".py",
   "mimetype": "text/x-python",
   "name": "python",
   "nbconvert_exporter": "python",
   "pygments_lexer": "ipython3",
   "version": "3.9.1"
  }
 },
 "nbformat": 4,
 "nbformat_minor": 5
}
