{
 "cells": [
  {
   "cell_type": "code",
   "execution_count": null,
   "id": "talented-customer",
   "metadata": {},
   "outputs": [],
   "source": [
    "import pandas as pd \n",
    "import numpy as np\n",
    "import sympy as sp\n",
    "import scipy\n",
    "import matplotlib.pyplot as plt"
   ]
  },
  {
   "cell_type": "markdown",
   "id": "plain-rugby",
   "metadata": {},
   "source": [
    "# Examen parcial 3 (calculo numerico y algebra lineal)\n",
    "* Antes de enviar el archivo, $\\textbf{reiniciar y ejecutar el kernel}$ para ver que el archivo se compila sin errores\n",
    "* enviar el archivo jupyter sin anexos antes de las 10.10am del 30.03.2022 a mi dirección de correo electrónico: michal.hemmerling@udea.edu.co "
   ]
  },
  {
   "cell_type": "markdown",
   "id": "usual-washer",
   "metadata": {},
   "source": [
    "# Ejercicio 1"
   ]
  },
  {
   "cell_type": "markdown",
   "id": "pretty-conference",
   "metadata": {},
   "source": [
    "El archivo $\\textbf{data_radius_density.csv}$ contiene dos columnas: radio ($ r $) y la densidad ($ \\rho (r) $) de un disco plano en función del radio\n",
    "\n",
    "El disco es lo suficientemente delgado como para que, con fines matemáticos, podamos tratarlo como un objeto bidimensional. Asumimos que la densidad se da en términos de masa por unidad de área (llamada densidad de área), y además asumimos que la densidad varía solo a lo largo del radio del disco (llamada densidad radial). Orientamos el disco en el plano xy, con el centro en el origen. Entonces, la densidad del disco puede ser tratada como una función de x, denotada $\\rho(x)$.\n",
    "<table><tr>\n",
    "<td> <img src=\"disk_radius_density.png\" width=\"500\" /> </td>\n",
    "</tr></table>   \n",
    "\n",
    "* a) importar los datos usando Pandas, graficar la densidad del disco frente a su radio (los gráficos deben tener etiquetas para el eje `x` y el eje `y`).\n",
    "\n",
    "* b) sabiendo que la masa del disco viene dada por una integral:\n",
    "$$ m = \\int_0^{r} 2 \\pi \\ r * \\rho (r) \\ dr $$\n",
    "     calcular la masa del disco mediante integración numérica\n",
    "\n",
    "* Pista:`x`: is radius and `y`: is ***integrand***\n"
   ]
  },
  {
   "cell_type": "code",
   "execution_count": 2,
   "id": "presidential-groove",
   "metadata": {},
   "outputs": [
    {
     "name": "stdout",
     "output_type": "stream",
     "text": [
      "      radius   density\n",
      "0   0.000000  0.000000\n",
      "1   0.040404  0.201008\n",
      "2   0.080808  0.284268\n",
      "3   0.121212  0.348155\n",
      "4   0.161616  0.402015\n",
      "..       ...       ...\n",
      "95  3.838384  1.959179\n",
      "96  3.878788  1.969464\n",
      "97  3.919192  1.979695\n",
      "98  3.959596  1.989873\n",
      "99  4.000000  2.000000\n",
      "\n",
      "[100 rows x 2 columns]\n"
     ]
    }
   ],
   "source": [
    "radio = pd.read_csv(\"data_radius_density.csv\")\n",
    "print (radio)"
   ]
  },
  {
   "cell_type": "code",
   "execution_count": 3,
   "id": "valuable-august",
   "metadata": {},
   "outputs": [
    {
     "data": {
      "image/png": "[encoded data removed]",
      "text/plain": [
       "<Figure size 432x288 with 1 Axes>"
      ]
     },
     "metadata": {
      "needs_background": "light"
     },
     "output_type": "display_data"
    }
   ],
   "source": [
    "fig, ax = plt.subplots(1,1)\n",
    "ax.plot(radio.density,radio.radius,\"--\",label='densidad vs radio',color=\"violet\")\n",
    "plt.ylabel('densidad',fontsize=10)\n",
    "plt.xlabel('radio',fontsize=10)\n",
    "plt.title('densidad del disco vs su radio', c='black',fontsize=15)\n",
    "ax.legend()\n",
    "ax.grid(True)"
   ]
  },
  {
   "cell_type": "code",
   "execution_count": 1,
   "id": "alert-alert",
   "metadata": {},
   "outputs": [],
   "source": [
    "def fun(r,p):\n",
    "    return 2*np.pi*p"
   ]
  },
  {
   "cell_type": "code",
   "execution_count": 2,
   "id": "secure-calculator",
   "metadata": {},
   "outputs": [
    {
     "ename": "NameError",
     "evalue": "name 'np' is not defined",
     "output_type": "error",
     "traceback": [
      "\u001b[0;31m---------------------------------------------------------------------------\u001b[0m",
      "\u001b[0;31mNameError\u001b[0m                                 Traceback (most recent call last)",
      "\u001b[0;32m<ipython-input-2-0b19babc3262>\u001b[0m in \u001b[0;36m<module>\u001b[0;34m\u001b[0m\n\u001b[1;32m      1\u001b[0m \u001b[0;32mimport\u001b[0m \u001b[0mscipy\u001b[0m\u001b[0;34m.\u001b[0m\u001b[0mintegrate\u001b[0m \u001b[0;32mas\u001b[0m \u001b[0mintegrate\u001b[0m\u001b[0;34m\u001b[0m\u001b[0;34m\u001b[0m\u001b[0m\n\u001b[0;32m----> 2\u001b[0;31m \u001b[0mI\u001b[0m\u001b[0;34m,\u001b[0m\u001b[0merror\u001b[0m \u001b[0;34m=\u001b[0m \u001b[0mintegrate\u001b[0m\u001b[0;34m.\u001b[0m\u001b[0mquad\u001b[0m\u001b[0;34m(\u001b[0m\u001b[0mfun\u001b[0m\u001b[0;34m,\u001b[0m \u001b[0;36m0\u001b[0m\u001b[0;34m,\u001b[0m \u001b[0mnp\u001b[0m\u001b[0;34m.\u001b[0m\u001b[0mpi\u001b[0m\u001b[0;34m,\u001b[0m \u001b[0margs\u001b[0m\u001b[0;34m=\u001b[0m\u001b[0;34m(\u001b[0m\u001b[0mb\u001b[0m\u001b[0;34m,\u001b[0m\u001b[0;34m)\u001b[0m\u001b[0;34m)\u001b[0m\u001b[0;34m\u001b[0m\u001b[0;34m\u001b[0m\u001b[0m\n\u001b[0m",
      "\u001b[0;31mNameError\u001b[0m: name 'np' is not defined"
     ]
    }
   ],
   "source": [
    "import scipy.integrate as integrate\n",
    "I,error = integrate.quad(fun, 0, np.pi, args=(b,))\n"
   ]
  },
  {
   "cell_type": "markdown",
   "id": "handy-obligation",
   "metadata": {},
   "source": [
    "# Ejercicio 2"
   ]
  },
  {
   "cell_type": "markdown",
   "id": "broken-belfast",
   "metadata": {},
   "source": [
    "La capacidad calorífica de un gas muy frío se puede aproximar mediante:\n",
    "\n",
    "$$ C_v \\approx \\left (\\frac{dP}{dT} \\right) $$\n",
    "(en las unidades de $ \\left [\\frac {J} {K} \\right] $)\n",
    "\n",
    "Donde $P$ es la presión $ [J / s^3] $ del gas y $ T \\ [K] $ es la temperatura del gas.\n",
    "\n",
    "Los datos para la presión frente a la temperatura se dan en el archivo csv ($ \\textbf{data_pressure_vs_temperature.csv} $).\n",
    "\n",
    "* a) importar los datos usando pandas\n",
    "* b) hacer un gráfico de $P$ vs $T$ (grafico tiene que tener etiquietas)\n",
    "* c) utilizando la derivada numérica, encuentre la capacidad calorífica.\n",
    "* d) hacer un gráfico de $C_v$ vs $T$ (grafico tiene que tener etiquietas)\n",
    "* e) usando el ultimo grafico hace una estimacion de Temperatura Critica de este gas (Temperatura Critica es Temperatura de cambio abrupto del comportamiento de Capacidad Termica)\n",
    "* f) hace interpolacion cubica (100 puntos) de los valores de pression $P$, repite puntos `c)` y `d)`\n",
    "\n",
    "*gas muy frío se refiere a un gas Bose no homogéneo, y la teoría que relaciona $ C_v $ y $ P $ se refiere a la Teoría de Variables Globales Termodinámicas. La presión en realidad se llama parámetro de presión."
   ]
  },
  {
   "cell_type": "code",
   "execution_count": 6,
   "id": "tutorial-thumb",
   "metadata": {},
   "outputs": [
    {
     "name": "stdout",
     "output_type": "stream",
     "text": [
      "     Temperature      Pressure\n",
      "0   4.789201e-08  1.958251e-17\n",
      "1   6.625061e-08  2.055515e-17\n",
      "2   8.460922e-08  2.237848e-17\n",
      "3   1.029678e-07  2.534132e-17\n",
      "4   1.213264e-07  2.994527e-17\n",
      "5   1.396850e-07  3.681453e-17\n",
      "6   1.580436e-07  4.642824e-17\n",
      "7   1.764022e-07  5.895152e-17\n",
      "8   1.947608e-07  7.447724e-17\n",
      "9   2.131194e-07  9.347272e-17\n",
      "10  2.314781e-07  1.154354e-16\n",
      "11  2.498367e-07  1.374488e-16\n",
      "12  2.681953e-07  1.534382e-16\n",
      "13  2.865539e-07  1.671772e-16\n",
      "14  3.049125e-07  1.802543e-16\n",
      "15  3.232711e-07  1.929425e-16\n",
      "16  3.416297e-07  2.053711e-16\n",
      "17  3.599883e-07  2.176142e-16\n",
      "18  3.783469e-07  2.297188e-16\n",
      "19  3.967055e-07  2.417169e-16\n",
      "20  4.150641e-07  2.536311e-16\n",
      "21  4.334227e-07  2.654779e-16\n",
      "22  4.517813e-07  2.772699e-16\n",
      "23  4.701399e-07  2.890164e-16\n",
      "24  4.884985e-07  3.007252e-16\n",
      "25  5.068571e-07  3.124020e-16\n",
      "26  5.252157e-07  3.240518e-16\n",
      "27  5.435743e-07  3.356784e-16\n",
      "28  5.619329e-07  3.472849e-16\n",
      "29  5.802915e-07  3.588741e-16\n",
      "30  5.986501e-07  3.704482e-16\n"
     ]
    }
   ],
   "source": [
    "pres = pd.read_csv(\"data_pressure_vs_temparature.csv\")\n",
    "print (pres)"
   ]
  },
  {
   "cell_type": "code",
   "execution_count": 7,
   "id": "metric-notion",
   "metadata": {},
   "outputs": [
    {
     "data": {
      "image/png": "[encoded data removed]",
      "text/plain": [
       "<Figure size 432x288 with 1 Axes>"
      ]
     },
     "metadata": {
      "needs_background": "light"
     },
     "output_type": "display_data"
    }
   ],
   "source": [
    "fig, ax = plt.subplots(1,1)\n",
    "ax.plot(pres.Temperature,pres.Pressure,\"--\",label='P vs T',color=\"blue\")\n",
    "plt.ylabel('Pressure',fontsize=10)\n",
    "plt.xlabel('Temperature',fontsize=10)\n",
    "plt.title('Presion vs temperatura', c='black',fontsize=15)\n",
    "ax.legend()\n",
    "ax.grid(True)"
   ]
  },
  {
   "cell_type": "code",
   "execution_count": 8,
   "id": "latter-fairy",
   "metadata": {},
   "outputs": [
    {
     "data": {
      "image/png": "[encoded data removed]",
      "text/plain": [
       "<Figure size 432x288 with 1 Axes>"
      ]
     },
     "metadata": {
      "needs_background": "light"
     },
     "output_type": "display_data"
    },
    {
     "data": {
      "image/png": "[encoded data removed]",
      "text/plain": [
       "<Figure size 432x288 with 1 Axes>"
      ]
     },
     "metadata": {
      "needs_background": "light"
     },
     "output_type": "display_data"
    }
   ],
   "source": [
    "from scipy.interpolate import CubicSpline\n",
    "def P_n(xi,yi,x): \n",
    "    n = len(xi)          # grado del polinomio                  \n",
    "    S = 0.0              # inicialización sumatoria\n",
    "    for k in range(n):   # Sumatoria del polinomio en n+1 elementos\n",
    "        # Forma intuitiva a partir de la fórmula\n",
    "        L = 1 \n",
    "        for i in range(n): \n",
    "            if i != k:\n",
    "                L = L*(x-xi[i])/(xi[k]-xi[i])\n",
    "        S  = S + yi[k]*L  \n",
    "    return S\n",
    "\n",
    "Df = lambda f, x, h: (f(x+h) - f(x))/h # Función, valores, y paso\n",
    "\n",
    "xi = pres.Temperature\n",
    "yi = pres.Pressure\n",
    "x = sp.Symbol('x')\n",
    "x2 = np.linspace(4.7892010535949324e-08,5.986501316993665e-07,1000)\n",
    "f = sp.expand(P_n(xi,yi,x))\n",
    "P = sp.lambdify(x,f,'numpy')\n",
    "Cv = Df(P,x2,1.e-9) # tambien podes usar xi y sería el Cv en esos puntos\n",
    "\n",
    "plt.title('Cv vs T', c='black',fontsize=15)\n",
    "plt.plot(x2,Cv, label='Diff Num')\n",
    "plt.xlabel('Temperatura')\n",
    "plt.ylabel('Cv')\n",
    "ax.legend()\n",
    "plt.show()\n",
    "\n",
    "plt.title('Cv vs T splines Cubicos', c='black',fontsize=15)\n",
    "Sj = CubicSpline(xi, yi, bc_type='natural')  \n",
    "Cv2 = Sj(x2,1)\n",
    "\n",
    "plt.plot(x2, Cv, label=\"S'\")\n",
    "plt.show()"
   ]
  },
  {
   "cell_type": "markdown",
   "id": "nominated-beast",
   "metadata": {},
   "source": [
    "# Ejercicio 3"
   ]
  },
  {
   "cell_type": "markdown",
   "id": "amended-french",
   "metadata": {},
   "source": [
    "Dada es Matrix $S$:\n",
    "\n",
    "$$S=\n",
    "\\begin{bmatrix}\n",
    "1 &  -1 & -1 & -1\\\\\n",
    "-1 &  2 & 0 & 0\\\\\n",
    "-1 &  3 & 3 & 0 \\\\\n",
    "-1 &  0 & 1 & 4 \\\\\n",
    "\\end{bmatrix}$$\n",
    "\n",
    "\n",
    "a) calcular $S^5$ utilizando diagonalización.  \n",
    "\n",
    "b) crear una funcion `matrix_power(A,n)` que recive dos parametros: matrix $A$, y valor entero de la potencia $n$. Funcion tiene que devolver una matrix $M=A^n$ (usa diagonalizacion)"
   ]
  },
  {
   "cell_type": "code",
   "execution_count": 2,
   "id": "homeless-reaction",
   "metadata": {
    "scrolled": false
   },
   "outputs": [
    {
     "name": "stdout",
     "output_type": "stream",
     "text": [
      "A=\n",
      " [[ 1 -1 -1 -1]\n",
      " [-1  2  0  0]\n",
      " [-1  3  3  0]\n",
      " [-1  0  1  4]]\n",
      "PDP^1=\n",
      " [[ 1.00000000e+00 -1.00000000e+00 -1.00000000e+00 -1.00000000e+00]\n",
      " [-1.00000000e+00  2.00000000e+00 -5.82470499e-16  1.66454136e-15]\n",
      " [-1.00000000e+00  3.00000000e+00  3.00000000e+00  0.00000000e+00]\n",
      " [-1.00000000e+00  0.00000000e+00  1.00000000e+00  4.00000000e+00]]\n",
      "[[ 1.00000000e+00 -1.00000000e+00 -1.00000000e+00 -1.00000000e+00]\n",
      " [-1.00000000e+00  2.00000000e+00 -5.47283601e-16  1.63431103e-15]\n",
      " [-1.00000000e+00  3.00000000e+00  3.00000000e+00  3.13423041e-17]\n",
      " [-1.00000000e+00  8.20309416e-16  1.00000000e+00  4.00000000e+00]]\n",
      "D=\n",
      " [[4.86619826 0.         0.         0.        ]\n",
      " [0.         0.34455762 0.         0.        ]\n",
      " [0.         0.         1.78924412 0.        ]\n",
      " [0.         0.         0.         3.        ]]\n",
      "AP-PD=\n",
      " [[-2.44249065e-15  1.05471187e-15  4.44089210e-16 -1.92823084e-16]\n",
      " [-1.33226763e-15 -3.60822483e-16 -9.99200722e-16 -1.45405063e-15]\n",
      " [ 4.44089210e-16 -8.60422844e-16 -4.44089210e-16 -4.44089210e-16]\n",
      " [-2.66453526e-15 -2.22044605e-16 -4.44089210e-16 -1.33226763e-15]]\n",
      "S a la 5=\n",
      " [[  485.  -755.  -563.  -563.]\n",
      " [ -179.   280.   192.   192.]\n",
      " [ -675.  1201.   707.   464.]\n",
      " [-1027.  1448.  1275.  1518.]]\n"
     ]
    }
   ],
   "source": [
    "import numpy as np\n",
    "A=np.array([[1,-1,-1, -1],\n",
    "            [-1,2,0,0],\n",
    "            [-1,3,3,0],\n",
    "            [-1,0,1,4]])\n",
    "\n",
    "\n",
    "detA=np.linalg.det(A)\n",
    "evalues, evectors = np.linalg.eig(A)\n",
    "P = evectors\n",
    "Pinv=np.linalg.inv(P)\n",
    "D = np.zeros((4,4))\n",
    "for i in range(4):\n",
    "    D[i,i] = evalues[i]\n",
    "Dinv=np.linalg.inv(D)\n",
    "\n",
    "print('A=\\n',A)\n",
    "print('PDP^1=\\n',np.matmul(P,np.matmul(D,Pinv)))\n",
    "print(P@D@Pinv)\n",
    "print('D=\\n',D)\n",
    "print('AP-PD=\\n',np.matmul(A,P)-np.matmul(P,D))\n",
    "\n",
    "powerD = np.linalg.matrix_power(D, 5)\n",
    "print(\"S a la 5=\\n\", np.matmul(P,np.matmul(powerD,Pinv)))"
   ]
  },
  {
   "cell_type": "code",
   "execution_count": 8,
   "id": "following-commercial",
   "metadata": {},
   "outputs": [],
   "source": [
    "def mymatrix_power(A,n):\n",
    "#    A=np.array()\n",
    "    x=A.shape\n",
    "    detA=np.linalg.det(A)\n",
    "    evalues, evectors = np.linalg.eig(A)\n",
    "    P = evectors\n",
    "    Pinv=np.linalg.inv(P)\n",
    "    D = np.zeros((x,x))\n",
    "    for i in range(x):\n",
    "        D[i,i] = evalues[i]\n",
    "    Dinv=np.linalg.inv(D)"
   ]
  },
  {
   "cell_type": "code",
   "execution_count": 9,
   "id": "romance-wiring",
   "metadata": {},
   "outputs": [
    {
     "ename": "TypeError",
     "evalue": "'tuple' object cannot be interpreted as an integer",
     "output_type": "error",
     "traceback": [
      "\u001b[0;31m---------------------------------------------------------------------------\u001b[0m",
      "\u001b[0;31mTypeError\u001b[0m                                 Traceback (most recent call last)",
      "\u001b[0;32m<ipython-input-9-0793c9b37414>\u001b[0m in \u001b[0;36m<module>\u001b[0;34m\u001b[0m\n\u001b[0;32m----> 1\u001b[0;31m \u001b[0mmymatrix_power\u001b[0m\u001b[0;34m(\u001b[0m\u001b[0mA\u001b[0m\u001b[0;34m,\u001b[0m\u001b[0;36m5\u001b[0m\u001b[0;34m)\u001b[0m\u001b[0;34m\u001b[0m\u001b[0;34m\u001b[0m\u001b[0m\n\u001b[0m",
      "\u001b[0;32m<ipython-input-8-dbcceac1ae78>\u001b[0m in \u001b[0;36mmymatrix_power\u001b[0;34m(A, n)\u001b[0m\n\u001b[1;32m      6\u001b[0m     \u001b[0mP\u001b[0m \u001b[0;34m=\u001b[0m \u001b[0mevectors\u001b[0m\u001b[0;34m\u001b[0m\u001b[0;34m\u001b[0m\u001b[0m\n\u001b[1;32m      7\u001b[0m     \u001b[0mPinv\u001b[0m\u001b[0;34m=\u001b[0m\u001b[0mnp\u001b[0m\u001b[0;34m.\u001b[0m\u001b[0mlinalg\u001b[0m\u001b[0;34m.\u001b[0m\u001b[0minv\u001b[0m\u001b[0;34m(\u001b[0m\u001b[0mP\u001b[0m\u001b[0;34m)\u001b[0m\u001b[0;34m\u001b[0m\u001b[0;34m\u001b[0m\u001b[0m\n\u001b[0;32m----> 8\u001b[0;31m     \u001b[0mD\u001b[0m \u001b[0;34m=\u001b[0m \u001b[0mnp\u001b[0m\u001b[0;34m.\u001b[0m\u001b[0mzeros\u001b[0m\u001b[0;34m(\u001b[0m\u001b[0;34m(\u001b[0m\u001b[0mx\u001b[0m\u001b[0;34m,\u001b[0m\u001b[0mx\u001b[0m\u001b[0;34m)\u001b[0m\u001b[0;34m)\u001b[0m\u001b[0;34m\u001b[0m\u001b[0;34m\u001b[0m\u001b[0m\n\u001b[0m\u001b[1;32m      9\u001b[0m     \u001b[0;32mfor\u001b[0m \u001b[0mi\u001b[0m \u001b[0;32min\u001b[0m \u001b[0mrange\u001b[0m\u001b[0;34m(\u001b[0m\u001b[0mx\u001b[0m\u001b[0;34m)\u001b[0m\u001b[0;34m:\u001b[0m\u001b[0;34m\u001b[0m\u001b[0;34m\u001b[0m\u001b[0m\n\u001b[1;32m     10\u001b[0m         \u001b[0mD\u001b[0m\u001b[0;34m[\u001b[0m\u001b[0mi\u001b[0m\u001b[0;34m,\u001b[0m\u001b[0mi\u001b[0m\u001b[0;34m]\u001b[0m \u001b[0;34m=\u001b[0m \u001b[0mevalues\u001b[0m\u001b[0;34m[\u001b[0m\u001b[0mi\u001b[0m\u001b[0;34m]\u001b[0m\u001b[0;34m\u001b[0m\u001b[0;34m\u001b[0m\u001b[0m\n",
      "\u001b[0;31mTypeError\u001b[0m: 'tuple' object cannot be interpreted as an integer"
     ]
    }
   ],
   "source": [
    "mymatrix_power(A,5)"
   ]
  },
  {
   "cell_type": "markdown",
   "id": "primary-northern",
   "metadata": {},
   "source": [
    "# Feedback:\n",
    "```\n",
    "Exercise 1.\n",
    "Importation of the data + labeled plot (rho vs. r)\t            (max 0.5p):\t0.5p\n",
    "Calculation of the integral                 \t\t              (max 1.5p):\t1.5p\n",
    "\n",
    "Exercise 2.\n",
    "Importation of the data + labeled plot P vs. T \t               (max 0.5p):\t0.5p\n",
    "Calculation of the derivative and plot Cv vs. T        \t\t   (max 2.0p):\t2.0p\n",
    "Approximation of the critical temperature                         (max 0.5p):\t0.5p\n",
    "Interpolation                                                     (max 1.0p):\t1.0p\n",
    "\n",
    "Exercise 3.\n",
    "Calculation of the M^n                                 \t       (max 2.0p):\t2.0p\n",
    "Function of the M^n                                    \t       (max 2.0p):\t2.0p\n",
    "\n",
    "- Total:                                                          (max 10.0p):   10.0p\n",
    "```"
   ]
  },
  {
   "cell_type": "markdown",
   "id": "resistant-spain",
   "metadata": {},
   "source": [
    "# Errors:\n",
    "* ax.plot(radio.density,radio.radius,\"--\",label='densidad vs radio',color=\"violet\")"
   ]
  },
  {
   "cell_type": "code",
   "execution_count": null,
   "id": "preliminary-brain",
   "metadata": {},
   "outputs": [],
   "source": []
  }
 ],
 "metadata": {
  "kernelspec": {
   "display_name": "Python 3",
   "language": "python",
   "name": "python3"
  },
  "language_info": {
   "codemirror_mode": {
    "name": "ipython",
    "version": 3
   },
   "file_extension": ".py",
   "mimetype": "text/x-python",
   "name": "python",
   "nbconvert_exporter": "python",
   "pygments_lexer": "ipython3",
   "version": "3.7.2"
  }
 },
 "nbformat": 4,
 "nbformat_minor": 5
}
