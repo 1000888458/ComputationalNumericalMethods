{
 "cells": [
  {
   "cell_type": "markdown",
   "id": "plain-rugby",
   "metadata": {},
   "source": [
    "# Examen parcial 2 (raizes y ~interpolacion)\n",
    "* Antes de enviar el archivo, $\\textbf{reiniciar y ejecutar el kernel}$ para ver que el archivo se compila sin errores\n",
    "* enviar el archivo jupyter sin anexos antes de las 10.10am del 04.03.2022 a mi dirección de correo electrónico: michal.hemmerling@udea.edu.co "
   ]
  },
  {
   "cell_type": "markdown",
   "id": "usual-washer",
   "metadata": {},
   "source": [
    "# Ejercicio"
   ]
  },
  {
   "cell_type": "markdown",
   "id": "complete-chester",
   "metadata": {},
   "source": [
    "Bajo ciertas condiciones, los dispositivos ópticos como los láseres pueden mostrar un comportamiento complejo en el perfil del rayo de luz.\n",
    "\n",
    "\n",
    "<table><tr>\n",
    "<td> <img src=\"nonlinear_behaviour.png\" width=\"600\" /> </td>\n",
    "</tr></table>\n",
    " \n",
    "Para un dispositivo óptico particular que consiste en un medio no lineal dentro de una cavidad óptica, esto sólo ocurre cuando la intensidad I se encuentra dentro de un cierto rango que está dado por la ecuación: \n",
    "\n",
    "$$f(x)=(x+1)^2 - c(x-1) < 0 $$\n",
    "\n",
    "donde $x$ es la intensidad del campo eléctrico y $c$ es la fuerza de la absorción del \n",
    "medio no lineal. "
   ]
  },
  {
   "cell_type": "markdown",
   "id": "pretty-conference",
   "metadata": {},
   "source": [
    "## 1. \n",
    "Cree una función llamada `f_cost` que reciba dos parámetros (x,c) y solo devuelva la función f(x) como se mencionó anteriormente."
   ]
  },
  {
   "cell_type": "code",
   "execution_count": 1,
   "id": "valuable-august",
   "metadata": {},
   "outputs": [],
   "source": [
    "# tu codigo:\n",
    "def f_cost(x,c):\n",
    "    return ((x+1)**2) - (c*(x-1)) "
   ]
  },
  {
   "cell_type": "markdown",
   "id": "broken-belfast",
   "metadata": {},
   "source": [
    "## 2. \n",
    "Usando funcion `f_cost` haz un gráfico con cuatro curvas para c=5,10,15,20 y con x entre -10,20 (50 puntos)\n",
    "* hacer que cada curva sea de un color diferente\n",
    "* añadir etiquetas"
   ]
  },
  {
   "cell_type": "code",
   "execution_count": 2,
   "id": "written-adrian",
   "metadata": {},
   "outputs": [
    {
     "name": "stderr",
     "output_type": "stream",
     "text": [
      "/usr/lib64/python3.7/site-packages/ipykernel_launcher.py:7: UserWarning: color is redundantly defined by the 'color' keyword argument and the fmt string \"k\" (-> color=(0.0, 0.0, 0.0, 1)). The keyword argument will take precedence.\n",
      "  import sys\n",
      "/usr/lib64/python3.7/site-packages/ipykernel_launcher.py:10: UserWarning: color is redundantly defined by the 'color' keyword argument and the fmt string \".k\" (-> color='k'). The keyword argument will take precedence.\n",
      "  # Remove the CWD from sys.path while we load stuff.\n"
     ]
    },
    {
     "data": {
      "image/png": "[encoded data removed]",
      "text/plain": [
       "<Figure size 432x288 with 1 Axes>"
      ]
     },
     "metadata": {
      "needs_background": "light"
     },
     "output_type": "display_data"
    }
   ],
   "source": [
    "# tu codigo:\n",
    "import numpy as np\n",
    "import matplotlib.pyplot as plt\n",
    "\n",
    "x=np.linspace(-10,20,50)\n",
    "fig,ax = plt.subplots(1,1)\n",
    "ax.plot(x,f_cost(x,5),'k',color=\"violet\", label='curva 5')\n",
    "ax.plot(x,f_cost(x,10),'*', color=\"red\", label='curva 10')\n",
    "ax.plot(x,f_cost(x,15),\"--\", color=\"g\", label='curva 15')\n",
    "ax.plot(x,f_cost(x,20),'.k',color=\"cyan\", label='curva 20')\n",
    "plt.title('comparación 4 curvas', c='black',fontsize=15)\n",
    "plt.ylabel('root',fontsize=10)\n",
    "plt.xlabel('x',fontsize=10)\n",
    "ax.grid('True')\n",
    "plt.legend()\n",
    "plt.show()"
   ]
  },
  {
   "cell_type": "markdown",
   "id": "dietary-steel",
   "metadata": {},
   "source": [
    "## 2a. Para cual `c` esta funcion no tiene raices?"
   ]
  },
  {
   "cell_type": "code",
   "execution_count": 3,
   "id": "handy-teaching",
   "metadata": {},
   "outputs": [],
   "source": [
    "# tu respuesta\n",
    "import scipy.optimize as optimize"
   ]
  },
  {
   "cell_type": "code",
   "execution_count": 4,
   "id": "atomic-brook",
   "metadata": {},
   "outputs": [
    {
     "name": "stdout",
     "output_type": "stream",
     "text": [
      "nan\n"
     ]
    }
   ],
   "source": [
    "c=5\n",
    "try:\n",
    "    r = optimize.newton(f_cost, 10,args=(c,))\n",
    "except:\n",
    "    r=np.nan\n",
    "\n",
    "print (r)"
   ]
  },
  {
   "cell_type": "code",
   "execution_count": 5,
   "id": "entitled-ecuador",
   "metadata": {},
   "outputs": [
    {
     "name": "stdout",
     "output_type": "stream",
     "text": [
      "6.236067977499789\n"
     ]
    }
   ],
   "source": [
    "c=10\n",
    "try:\n",
    "    r = optimize.newton(f_cost, 10,args=(c,))\n",
    "except:\n",
    "    r=np.nan\n",
    "\n",
    "print (r)"
   ]
  },
  {
   "cell_type": "code",
   "execution_count": 6,
   "id": "reported-richardson",
   "metadata": {},
   "outputs": [
    {
     "name": "stdout",
     "output_type": "stream",
     "text": [
      "11.623475382979793\n"
     ]
    }
   ],
   "source": [
    "c=15\n",
    "try:\n",
    "    r = optimize.newton(f_cost, 10,args=(c,))\n",
    "except:\n",
    "    r=np.nan\n",
    "\n",
    "print (r)"
   ]
  },
  {
   "cell_type": "code",
   "execution_count": 7,
   "id": "specialized-sword",
   "metadata": {},
   "outputs": [
    {
     "name": "stdout",
     "output_type": "stream",
     "text": [
      "16.745966692414836\n"
     ]
    }
   ],
   "source": [
    "c=20\n",
    "try:\n",
    "    r = optimize.newton(f_cost, 10,args=(c,))\n",
    "except:\n",
    "    r=np.nan\n",
    "\n",
    "print (r)"
   ]
  },
  {
   "cell_type": "markdown",
   "id": "hollywood-respondent",
   "metadata": {},
   "source": [
    "## 3. \n",
    "Cree una función llamada `root_finding()` que devuelva el valor de la raíz (si existiera) para cada parametro `c` (pense `Newton` o `bisecion`). Usando esta funcion vamos a buscar primero raiz izquierda y despues raiz derecha."
   ]
  },
  {
   "cell_type": "code",
   "execution_count": 8,
   "id": "analyzed-accent",
   "metadata": {},
   "outputs": [],
   "source": [
    "def biseccion(f,a,b,err=1e-10,pei=False):\n",
    "    if f(a)*f(b) < 0.0:\n",
    "        i = 0\n",
    "        a1 = a \n",
    "        b1 = b\n",
    "        pm = (a1 + b1)/2 \n",
    "        puntos = [pm]\n",
    "        iteraciones = [0]\n",
    "        if f(pm) == 0: return pm  \n",
    "        while True:\n",
    "            i = i + 1\n",
    "            p0 = a1\n",
    "            p1 = pm\n",
    "            puntos.append(p0)\n",
    "            iteraciones.append(i)\n",
    "            if abs(f(p1) - f(p0)) < err : break \n",
    "            elif f(a1)*f(pm) < 0.0: b1 = pm\n",
    "            elif f(a1)*f(pm) > 0.0: a1 = pm \n",
    "            pm = (a1+b1)/2\n",
    "        if pei == False:\n",
    "            return pm\n",
    "        else:\n",
    "            return puntos, iteraciones, pm\n",
    "    else:\n",
    "        print('INTERVALO MAL DEFINIDO')   \n"
   ]
  },
  {
   "cell_type": "markdown",
   "id": "improving-vault",
   "metadata": {},
   "source": [
    "## 4a. \n",
    "Primero vamos a mirar el comportamiento de raiz de lado izquierda: Defina el vector `c_vec` que contiene 50 valores de 5 a 100. En el loop, llame a la función `root_finding()` para cada valor `c` en el vector `c_vec`. Guarda los resultados en variable `left_roots`"
   ]
  },
  {
   "cell_type": "code",
   "execution_count": 9,
   "id": "aging-binary",
   "metadata": {},
   "outputs": [],
   "source": [
    "# tu codigo:\n",
    "c_vec=np.linspace(5,100,50)\n",
    "c=10\n",
    "left_roots=[]\n",
    "start=0\n",
    "for c in c_vec:\n",
    "    try:\n",
    "        r =  biseccion(f_cost, 0,10)\n",
    "    except:\n",
    "        r =np.nan\n",
    "        \n",
    "    left_roots.append(r)\n"
   ]
  },
  {
   "cell_type": "markdown",
   "id": "another-jacksonville",
   "metadata": {},
   "source": [
    "## 4b \n",
    "Hacer un gráfico de raíz izquierda vs c"
   ]
  },
  {
   "cell_type": "markdown",
   "id": "seasonal-seafood",
   "metadata": {},
   "source": [
    "## 5a. \n",
    "Ahora vamos a mirar el comportamiento de raiz de lado derecha: Defina el vector `c_vec` que contiene 50 valores de 5 a 100. En el loop, llame a la función `root_finding()` para cada valor `c` en el vector `c_vec`. Guarda los resultados en variable `right_roots`."
   ]
  },
  {
   "cell_type": "code",
   "execution_count": 10,
   "id": "mobile-finger",
   "metadata": {},
   "outputs": [],
   "source": [
    "# tu codigo:\n",
    "c_vec=np.linspace(5,100,50)\n",
    "c=10\n",
    "left_roots=[]\n",
    "start=0\n",
    "for c in c_vec:\n",
    "    try:\n",
    "        r =  biseccion(f_cost, -10,0)\n",
    "    except:\n",
    "        r =np.nan\n",
    "        \n",
    "    left_roots.append(r)"
   ]
  },
  {
   "cell_type": "markdown",
   "id": "direct-wrestling",
   "metadata": {},
   "source": [
    "## 5b\n",
    "* Hacer un gráfico de raíz derecha vs c"
   ]
  },
  {
   "cell_type": "markdown",
   "id": "portuguese-martial",
   "metadata": {},
   "source": [
    "## 6. \n",
    "Pregunta:\n",
    "* este cierto *rango* para cual se obtiene un comportamiento complejo esta convergente o divergente cuando `c` es creciente\n",
    "* si este rango esta convergiendo, ¿a qué valor?\n",
    "* si este rango esta divergente, como esta divergente (lineal, cuadrático, diferente)"
   ]
  },
  {
   "cell_type": "markdown",
   "id": "impaired-third",
   "metadata": {},
   "source": [
    "# Feedback:\n",
    "\n",
    "`Correct implementation of the f_cost function + labeled plot \t  (max 2.0p):\t2.0p`\n",
    "`Correct implementation of the root finding function \t\t       (max 2.0p):\t1.0p`\n",
    "`Correct result of the evolution of the left roots (+ plot)\t     (max 2.0p):\t1.0p`\n",
    "`Correct result of the evolution of the right roots (+ plot)\t    (max 2.0p):\t1.0p`\n",
    "`Correct conclusion of the range behavious\t\t\t              (max 2.0p):\t0.0p`\n",
    "\n",
    "`- Total:                                                          (max 10.0p):   5.0p`\n",
    "\n",
    "#### Comments: graphs are missing"
   ]
  }
 ],
 "metadata": {
  "kernelspec": {
   "display_name": "Python 3",
   "language": "python",
   "name": "python3"
  },
  "language_info": {
   "codemirror_mode": {
    "name": "ipython",
    "version": 3
   },
   "file_extension": ".py",
   "mimetype": "text/x-python",
   "name": "python",
   "nbconvert_exporter": "python",
   "pygments_lexer": "ipython3",
   "version": "3.7.2"
  }
 },
 "nbformat": 4,
 "nbformat_minor": 5
}
