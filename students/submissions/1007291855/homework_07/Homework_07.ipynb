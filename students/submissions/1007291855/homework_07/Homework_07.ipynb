{
 "cells": [
  {
   "cell_type": "markdown",
   "id": "resistant-friendly",
   "metadata": {},
   "source": [
    "Homework 07\n",
    "Create a notebook: homework_07.ipynb and inside make function:\n",
    "\n",
    "a function called integral_monte_carlo_1D(integrand,lim1,lim2,N) (with that order) that receives four parameters: integrand (function), limit1, limit2 and number of iterations N, and returns the value of I (just the numerical value)\n",
    "*use vectorized form of the calculations\n",
    "\n",
    "Test your funcion on the following integral:\n",
    "\n",
    "where the integrand is\n",
    "\n",
    "compare with the scipy.integrate.quad results"
   ]
  },
  {
   "cell_type": "code",
   "execution_count": 7,
   "id": "challenging-string",
   "metadata": {},
   "outputs": [],
   "source": [
    "import numpy as np\n",
    "from scipy import integrate\n",
    "\n",
    "def integrand(x):\n",
    "    return ((15*x**3)+(21*x**2)+(41*x)+(3))**(1/4)*(np.exp(-0.5*x))\n",
    "\n",
    "def integral_monte_carlo_1D(integrand,lim1,lim2,N):\n",
    "    E=0\n",
    "    x=np.random.uniform(lim1,lim2,N)\n",
    "    I=np.mean(integrand(x))*(lim2-lim1)\n",
    "    return I"
   ]
  },
  {
   "cell_type": "code",
   "execution_count": 8,
   "id": "governing-things",
   "metadata": {},
   "outputs": [
    {
     "data": {
      "text/plain": [
       "5.766569406012573"
      ]
     },
     "execution_count": 8,
     "metadata": {},
     "output_type": "execute_result"
    }
   ],
   "source": [
    "integral_monte_carlo_1D(integrand,0,4,100000)"
   ]
  },
  {
   "cell_type": "code",
   "execution_count": 9,
   "id": "compact-editing",
   "metadata": {},
   "outputs": [
    {
     "name": "stdout",
     "output_type": "stream",
     "text": [
      "5.767433490695931\n"
     ]
    }
   ],
   "source": [
    "#usando scipy \n",
    "I,error=integrate.quad(integrand,0,4)\n",
    "print (I)"
   ]
  }
 ],
 "metadata": {
  "kernelspec": {
   "display_name": "Python 3",
   "language": "python",
   "name": "python3"
  },
  "language_info": {
   "codemirror_mode": {
    "name": "ipython",
    "version": 3
   },
   "file_extension": ".py",
   "mimetype": "text/x-python",
   "name": "python",
   "nbconvert_exporter": "python",
   "pygments_lexer": "ipython3",
   "version": "3.9.1"
  }
 },
 "nbformat": 4,
 "nbformat_minor": 5
}
