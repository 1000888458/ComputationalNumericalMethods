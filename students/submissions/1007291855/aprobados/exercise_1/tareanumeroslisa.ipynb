{
 "cells": [
  {
   "cell_type": "markdown",
   "id": "super-silicon",
   "metadata": {},
   "source": [
    "Lisa Natalia Zapata Alzate tarea numero 1, números.\n",
    "\n",
    "# Exercicios sobre numeros :"
   ]
  },
  {
   "cell_type": "markdown",
   "id": "environmental-observation",
   "metadata": {},
   "source": [
    "#### 1. Imprime primero 10 numeros naturales (1,2,3,4,5,6,7,8,9,10) usando \"for loop\" y print ()"
   ]
  },
  {
   "cell_type": "code",
   "execution_count": 1,
   "id": "executive-austria",
   "metadata": {},
   "outputs": [
    {
     "name": "stdout",
     "output_type": "stream",
     "text": [
      "1 2 3 4 5 6 7 8 9 10 "
     ]
    }
   ],
   "source": [
    "for i in range (1,11):\n",
    "    print (i, end=\" \")"
   ]
  },
  {
   "cell_type": "markdown",
   "id": "loving-george",
   "metadata": {},
   "source": [
    "#### 2. Imprime primero 10 numeros naturales (1,2,3,4,5,6,7,8,9,10)  usando \"while loop\" y print ()"
   ]
  },
  {
   "cell_type": "code",
   "execution_count": 2,
   "id": "manufactured-international",
   "metadata": {},
   "outputs": [
    {
     "name": "stdout",
     "output_type": "stream",
     "text": [
      "1 2 3 4 5 6 7 8 9 10 "
     ]
    }
   ],
   "source": [
    "n=1\n",
    "while (n<11):\n",
    "    print (n, end=\" \")\n",
    "    n=n+1"
   ]
  },
  {
   "cell_type": "markdown",
   "id": "beginning-marine",
   "metadata": {},
   "source": [
    "#### 3. Calcular la soma de numeros (1+2+3+4+5+6+7+8+9+10) usando \"for loop\" y guarda resultado en variable \"my_result\""
   ]
  },
  {
   "cell_type": "code",
   "execution_count": 3,
   "id": "neither-segment",
   "metadata": {},
   "outputs": [
    {
     "name": "stdout",
     "output_type": "stream",
     "text": [
      "55\n"
     ]
    }
   ],
   "source": [
    "im=0\n",
    "for i in range (0,11):\n",
    "    im = im + i\n",
    "my_result=im\n",
    "print (my_result)\n"
   ]
  },
  {
   "cell_type": "markdown",
   "id": "indoor-roots",
   "metadata": {},
   "source": [
    "#### 4. Calcular la soma de numeros (1+2+3+4+5+6+7+8+9+10) usando \"while loop\" y guardar resultado en variable \"my_result\""
   ]
  },
  {
   "cell_type": "code",
   "execution_count": 4,
   "id": "infrared-respondent",
   "metadata": {},
   "outputs": [
    {
     "name": "stdout",
     "output_type": "stream",
     "text": [
      "55\n"
     ]
    }
   ],
   "source": [
    "sw=0\n",
    "wp=0\n",
    "while wp < 11:\n",
    "    sw+=wp\n",
    "    wp+=1\n",
    "my_result=sw\n",
    "print (my_result)"
   ]
  },
  {
   "cell_type": "markdown",
   "id": "polished-reason",
   "metadata": {},
   "source": [
    "#### 5. Calcular la soma de numeros par (2+4+6+8+10.. + ...100) usando \"for loop\" y guardar resultado en variable \"my_result\" (pista: usa condicion \"if\" y \"%\")"
   ]
  },
  {
   "cell_type": "code",
   "execution_count": 5,
   "id": "asian-publisher",
   "metadata": {},
   "outputs": [
    {
     "name": "stdout",
     "output_type": "stream",
     "text": [
      "2550\n"
     ]
    }
   ],
   "source": [
    "p=0\n",
    "for i in range (0,101):\n",
    "    if i%2==0:\n",
    "        p+=i\n",
    "my_result= p\n",
    "print (my_result)\n",
    "    "
   ]
  },
  {
   "cell_type": "markdown",
   "id": "accepted-jacksonville",
   "metadata": {},
   "source": [
    "#### 6. Calcular la soma de numeros impar (1+3+5+7+9+... + ...99) usando \"while loop\" y guardar resultado en variable \"my_result\" (pista: usa condicion \"if\" y \"%\")"
   ]
  },
  {
   "cell_type": "code",
   "execution_count": 6,
   "id": "assigned-parameter",
   "metadata": {},
   "outputs": [
    {
     "name": "stdout",
     "output_type": "stream",
     "text": [
      "2500\n"
     ]
    }
   ],
   "source": [
    "sumip=0\n",
    "ip=0\n",
    "while ip < 101:\n",
    "    if ip%2 !=0:\n",
    "        sumip+=ip\n",
    "    ip+=1\n",
    "my_result=sumip\n",
    "print (my_result)"
   ]
  },
  {
   "cell_type": "markdown",
   "id": "crucial-treat",
   "metadata": {},
   "source": [
    "#### 7. Definir una function que se llama func_sum_even_odd(b) que recibe un parametro \"b\" - valor numerico. La funcion calcula soma de numeros pares y numeros impares separamente entre 0 y b (los dos valores incluidos) . La funcion guarda resultados en dos variables en sum_even, sum_odd y devuelve ambos usando \"return\". (usa metodo: while)\n",
    "\n",
    "ejemplo de ejecucion:   \n",
    "sum_even,sum_odd = func_sum_even_odd(10)  \n",
    "print(sum_even,sum_odd)  \n",
    "30,25  \n",
    "\n",
    "#### Pero si \"b\" no es ni integer ni float funcion devuelve sum_even=0,y sum_odd=0 y imprime mensaje: \"argument must be an integer or float\"   (usa: \"isinstance\" o negacion de isinstance: \"not isinstance\" conjunto con operador logico \"or\" para verificar si el argumento es int of float)\n",
    "\n",
    "ejemplo de ejecucion:  \n",
    "sum_even,sum_odd = func_sum_even_odd('z')  \n",
    "\"argument must be an integer or float\"  "
   ]
  },
  {
   "cell_type": "code",
   "execution_count": 7,
   "id": "55ed4eee",
   "metadata": {},
   "outputs": [],
   "source": [
    "def func_sum_even_odd2(b):\n",
    "    if isinstance (b,(int,float)):\n",
    "        sum_even=0\n",
    "        sum_odd=0\n",
    "        for i in range (0,b):\n",
    "            if i%2==0 or i%2!=0 :\n",
    "                sum_even+=i\n",
    "                sum_odd+=i\n",
    "        print (sum_even,sum_odd)  \n",
    "    else:\n",
    "\n",
    "        print (\"argument must be an integer or float\")\n"
   ]
  },
  {
   "cell_type": "code",
   "execution_count": 8,
   "id": "1fc87e2c",
   "metadata": {},
   "outputs": [
    {
     "name": "stdout",
     "output_type": "stream",
     "text": [
      "argument must be an integer or float\n"
     ]
    }
   ],
   "source": [
    "func_sum_even_odd2(\"r\")"
   ]
  },
  {
   "cell_type": "markdown",
   "id": "contemporary-exemption",
   "metadata": {},
   "source": [
    "#### 8. Modifica funcion anterior y usa conjunto: try:... except:... (mira arriva en el texto de la classe)\n",
    "try:   \n",
    "--->intenta hacer si no sale error  \n",
    "except:  \n",
    "--->hace otra cosa si sale error    "
   ]
  },
  {
   "cell_type": "code",
   "execution_count": 9,
   "id": "dominican-tomato",
   "metadata": {},
   "outputs": [],
   "source": [
    "def func_sum_even_odd3(b):\n",
    "    try:\n",
    "        isinstance (b,(int,float))\n",
    "        sum_even=0\n",
    "        sum_odd=0\n",
    "        for i in range (0,b):\n",
    "            if i%2==0 or i%2!=0 :\n",
    "                sum_even+=i\n",
    "                sum_odd+=i\n",
    "        print (sum_even,sum_odd)  \n",
    "    except:\n",
    "\n",
    "        print (\"argument must be an integer or float\")"
   ]
  },
  {
   "cell_type": "code",
   "execution_count": 10,
   "id": "9fb86623",
   "metadata": {},
   "outputs": [
    {
     "name": "stdout",
     "output_type": "stream",
     "text": [
      "argument must be an integer or float\n"
     ]
    }
   ],
   "source": [
    "func_sum_even_odd3(\"c\")"
   ]
  }
 ],
 "metadata": {
  "kernelspec": {
   "display_name": "Python 3",
   "language": "python",
   "name": "python3"
  },
  "language_info": {
   "codemirror_mode": {
    "name": "ipython",
    "version": 3
   },
   "file_extension": ".py",
   "mimetype": "text/x-python",
   "name": "python",
   "nbconvert_exporter": "python",
   "pygments_lexer": "ipython3",
   "version": "3.7.2"
  }
 },
 "nbformat": 4,
 "nbformat_minor": 5
}
