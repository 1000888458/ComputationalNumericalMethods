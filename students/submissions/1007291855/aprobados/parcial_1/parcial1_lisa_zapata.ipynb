{
 "cells": [
  {
   "cell_type": "markdown",
   "id": "54d4f8a7",
   "metadata": {},
   "source": [
    "## parcial 1 Lisa Natalia Zapata Alzate"
   ]
  },
  {
   "cell_type": "markdown",
   "id": "05aed6ce",
   "metadata": {},
   "source": [
    "### Ejercicio 1a. Calcular una soma (Taylor aproximacion de funcion cos) usando loop \n",
    "\n",
    "\n",
    "$$cos(x)=\\sum_{k=0}^{\\infty}\\frac{(-1)^k x^{2k}}{(2k)!}$$ \n",
    "\n",
    "1) usando loop for calcular valor de cos(0.2) para k=2 (en loop k=0,1,2)\n",
    "* (puede comparar su resultado con $cos(x)=1 - \\frac{x^2}{2!}  + \\frac{x^4}{4!}$\n",
    "* (para hacer factorial-! usa: import math, math.factorial)\n",
    "\n",
    "2) crear una funcion cos_taylor(x,k) que acepta dos parametros x y k y vuelve valor de cos(x) para dado numero de termos k\n",
    "* (intenta con x=0.2 y k=2 para comparar con resultado de punto 1)\n",
    "\n",
    "3) crear un vector xvec que tiene 100 elementos en rango de $-\\pi$: $\\pi$ y usando loop for para cada elemento de este vector llama la funcion cos_taylor(x,k) y guarda resultados en una lista \"cos_approx=[]\" usando methodo append (cos_approx.append()). usa valor de k=3 \n",
    "* (pista sobre loop: for x in xvec:...)\n",
    "\n",
    "4) hacer visualizacion de dos curvas en mismo plot:\n",
    "* xvec vs cos_approx (label: Taylor approximation)\n",
    "* xvec vs np.cos(xvec) (label: cos(x))\n",
    "* usa labels para cada curva"
   ]
  },
  {
   "cell_type": "code",
   "execution_count": 1,
   "id": "097f7ab8",
   "metadata": {},
   "outputs": [
    {
     "name": "stdout",
     "output_type": "stream",
     "text": [
      "este es el valor de cos calculado con el loop 0.9800666666666666\n",
      "este es el valor del cos calculado con numpy 0.9800665778412416\n",
      "este es el valor de cos calculado con la operacion dada 0.9800666666666666\n"
     ]
    }
   ],
   "source": [
    "#1 punto\n",
    "#se va a realizar por medio de un ciclo la aproximacion de taylor para la funcion coseno.\n",
    "from math import pi, factorial\n",
    "import numpy as np\n",
    "\n",
    "x=0.2\n",
    "cos=0\n",
    "for k in range (0,3):\n",
    "    cos+=(((-1)**k)*(x**(2*k)))/(factorial(2*k))\n",
    "print (\"este es el valor de cos calculado con el loop\", cos)\n",
    "\n",
    "#comparando con el cos de numpy \n",
    "y = np.cos(x)\n",
    "print (\"este es el valor del cos calculado con numpy\", y)\n",
    "\n",
    "#comparamos con el cos de la operacion dada\n",
    "op=1-((x**2)/factorial(2))+((x**4)/factorial(4))\n",
    "print(\"este es el valor de cos calculado con la operacion dada\", op)"
   ]
  },
  {
   "cell_type": "code",
   "execution_count": 2,
   "id": "55a2bfa4",
   "metadata": {},
   "outputs": [],
   "source": [
    "#2 hacemos una funcion que acepte cualquier valor de k y x\n",
    "def cos_taylor (x,k):\n",
    "    cos=0\n",
    "    for k in range (0,k):\n",
    "        cos+=(((-1)**k)*(x**(2*k)))/(factorial(2*k))\n",
    "    return cos\n",
    "    #print (\"valor de cos aceptando dos parametros\", cos)"
   ]
  },
  {
   "cell_type": "code",
   "execution_count": 3,
   "id": "73503d1c",
   "metadata": {},
   "outputs": [
    {
     "data": {
      "text/plain": [
       "0.98"
      ]
     },
     "execution_count": 3,
     "metadata": {},
     "output_type": "execute_result"
    }
   ],
   "source": [
    "cos_taylor (0.2,2)"
   ]
  },
  {
   "cell_type": "code",
   "execution_count": 4,
   "id": "9bec38dd",
   "metadata": {},
   "outputs": [],
   "source": [
    "#3 creamos el vector con 100 elementos\n",
    "xvec=np.linspace(-np.pi,np.pi,100)\n",
    "cos_approx=[ ]\n",
    "for x in xvec: cos_approx.append(cos_taylor (xvec,4))\n"
   ]
  },
  {
   "cell_type": "code",
   "execution_count": 5,
   "id": "f9a6ce3e",
   "metadata": {},
   "outputs": [
    {
     "ename": "NameError",
     "evalue": "name 'plt' is not defined",
     "output_type": "error",
     "traceback": [
      "\u001b[0;31m---------------------------------------------------------------------------\u001b[0m",
      "\u001b[0;31mNameError\u001b[0m                                 Traceback (most recent call last)",
      "\u001b[0;32m<ipython-input-5-71ecf069044a>\u001b[0m in \u001b[0;36m<module>\u001b[0;34m\u001b[0m\n\u001b[1;32m      1\u001b[0m \u001b[0ma\u001b[0m\u001b[0;34m=\u001b[0m\u001b[0mnp\u001b[0m\u001b[0;34m.\u001b[0m\u001b[0mcos\u001b[0m\u001b[0;34m(\u001b[0m\u001b[0mxvec\u001b[0m\u001b[0;34m)\u001b[0m\u001b[0;34m\u001b[0m\u001b[0;34m\u001b[0m\u001b[0m\n\u001b[0;32m----> 2\u001b[0;31m \u001b[0mfig\u001b[0m\u001b[0;34m,\u001b[0m \u001b[0max\u001b[0m \u001b[0;34m=\u001b[0m \u001b[0mplt\u001b[0m\u001b[0;34m.\u001b[0m\u001b[0msubplots\u001b[0m\u001b[0;34m(\u001b[0m\u001b[0;36m1\u001b[0m\u001b[0;34m,\u001b[0m\u001b[0;36m1\u001b[0m\u001b[0;34m,\u001b[0m\u001b[0mfigsize\u001b[0m\u001b[0;34m=\u001b[0m\u001b[0;34m(\u001b[0m\u001b[0;36m5\u001b[0m\u001b[0;34m,\u001b[0m\u001b[0;36m5\u001b[0m\u001b[0;34m)\u001b[0m\u001b[0;34m)\u001b[0m\u001b[0;34m\u001b[0m\u001b[0;34m\u001b[0m\u001b[0m\n\u001b[0m\u001b[1;32m      3\u001b[0m \u001b[0max\u001b[0m\u001b[0;34m.\u001b[0m\u001b[0mplot\u001b[0m\u001b[0;34m(\u001b[0m\u001b[0mxvec\u001b[0m\u001b[0;34m,\u001b[0m\u001b[0ma\u001b[0m\u001b[0;34m,\u001b[0m\u001b[0;34m'--r'\u001b[0m\u001b[0;34m,\u001b[0m\u001b[0mlabel\u001b[0m\u001b[0;34m=\u001b[0m\u001b[0;34m'cos(x)'\u001b[0m\u001b[0;34m)\u001b[0m\u001b[0;34m\u001b[0m\u001b[0;34m\u001b[0m\u001b[0m\n\u001b[1;32m      4\u001b[0m \u001b[0max\u001b[0m\u001b[0;34m.\u001b[0m\u001b[0mplot\u001b[0m\u001b[0;34m(\u001b[0m\u001b[0mxvec\u001b[0m\u001b[0;34m,\u001b[0m\u001b[0mcos_taylor\u001b[0m\u001b[0;34m(\u001b[0m\u001b[0mxvec\u001b[0m\u001b[0;34m,\u001b[0m\u001b[0;36m4\u001b[0m\u001b[0;34m)\u001b[0m\u001b[0;34m,\u001b[0m\u001b[0;34m'-b'\u001b[0m\u001b[0;34m,\u001b[0m\u001b[0mlabel\u001b[0m\u001b[0;34m=\u001b[0m\u001b[0;34m'Taylor approximation'\u001b[0m\u001b[0;34m)\u001b[0m\u001b[0;34m\u001b[0m\u001b[0;34m\u001b[0m\u001b[0m\n\u001b[1;32m      5\u001b[0m \u001b[0;34m\u001b[0m\u001b[0m\n",
      "\u001b[0;31mNameError\u001b[0m: name 'plt' is not defined"
     ]
    }
   ],
   "source": [
    "a=np.cos(xvec)\n",
    "fig, ax = plt.subplots(1,1,figsize=(5,5))\n",
    "ax.plot(xvec,a,'--r',label='cos(x)')\n",
    "ax.plot(xvec,cos_taylor(xvec,4),'-b',label='Taylor approximation')\n",
    "\n",
    "ax.legend()\n",
    "ax.set_title('cosenos')\n",
    "ax.set_xlabel('x')\n",
    "ax.set_ylabel('y')\n",
    "ax.grid(True)\n"
   ]
  },
  {
   "cell_type": "markdown",
   "id": "f8928500",
   "metadata": {},
   "source": [
    "## Ejercicio 1b. Visualizar imagenes de un conjunto de datos"
   ]
  },
  {
   "cell_type": "markdown",
   "id": "c69be7b9",
   "metadata": {},
   "source": [
    "#### Un documento 'images_32x32.mat' contiene ~ 25,000 de imagenes de digitos, images son en colores (cada imagen tiene 3 capas RGB) y cada imagen es 32x32 pixeles\n",
    "\n",
    "1) convertir este conjunto de tipo MAT a un dicionario\n",
    "* (import scipy.io,   \n",
    "   imgs_dict = scipy.io.loadmat(images_32x32.mat)\n",
    "\n",
    "2) muestra que llaves tiene este dicionario y muestra que dimensiones tienen las llaves **X** y **y**\n",
    "\n",
    "3) visualiza aleatoriamente 10 de estos imagenes en una forma de matriz 1x10 (fila de 10 imagenes)\n",
    "* los imagenes son guardados en llave 'X' de este dicionario\n",
    "\n",
    "4) convertir las imágenes en color a escala de grises promediando una de las dimensiones y volver a mostrar las mismos 10 imagenes aleatorios en otra matriz de 1x10 (fila de 10 imagenes)\n",
    "\n",
    "5) seria bien que los titulos de los 10 imagenes coresponden a etiquietas de llave \"y\""
   ]
  },
  {
   "cell_type": "code",
   "execution_count": null,
   "id": "dff7a9a5",
   "metadata": {},
   "outputs": [],
   "source": [
    "#1. vamos a convertir mat a un diccionario\n",
    "import scipy.io   \n",
    "imgs_dict = scipy.io.loadmat(\"images_32x32.mat\")\n",
    "print(type(imgs_dict))"
   ]
  },
  {
   "cell_type": "code",
   "execution_count": null,
   "id": "04c5fcc7",
   "metadata": {},
   "outputs": [],
   "source": [
    "#2. Vamos a mirar las llaves de este diccionario y mostrar las dimensiones\n",
    "#que tiene X y y\n",
    "imgs_dict.keys()"
   ]
  },
  {
   "cell_type": "code",
   "execution_count": null,
   "id": "36e67132",
   "metadata": {},
   "outputs": [],
   "source": [
    "imgs_dict['X'].shape"
   ]
  },
  {
   "cell_type": "code",
   "execution_count": null,
   "id": "febf4e5c",
   "metadata": {},
   "outputs": [],
   "source": [
    "imgs_dict['y'].shape"
   ]
  },
  {
   "cell_type": "code",
   "execution_count": null,
   "id": "advised-wireless",
   "metadata": {},
   "outputs": [],
   "source": [
    "# Comentarios:\n",
    "\n",
    "# Exercise 1:\n",
    "#   compilation (max: 2.5p):                     2.0p   \n",
    "#   correctness of the result (max: 2.5p):       2.5p \n",
    "#   implementation of the function (max: 2.5p):  2.5p \n",
    "#   plot (max: 2.5p):                            0.0p \n",
    "\n",
    "# TOTAL:                                         7p (out of 10p)  \n"
   ]
  }
 ],
 "metadata": {
  "kernelspec": {
   "display_name": "Python 3",
   "language": "python",
   "name": "python3"
  },
  "language_info": {
   "codemirror_mode": {
    "name": "ipython",
    "version": 3
   },
   "file_extension": ".py",
   "mimetype": "text/x-python",
   "name": "python",
   "nbconvert_exporter": "python",
   "pygments_lexer": "ipython3",
   "version": "3.7.2"
  }
 },
 "nbformat": 4,
 "nbformat_minor": 5
}
