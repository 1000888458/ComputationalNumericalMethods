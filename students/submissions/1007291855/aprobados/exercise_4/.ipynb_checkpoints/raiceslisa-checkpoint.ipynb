{
 "cells": [
  {
   "cell_type": "markdown",
   "id": "accepted-titanium",
   "metadata": {},
   "source": [
    "**TAREA PARA NAVIDAD:**\n",
    "\n",
    "-hacer el mismo ejemplo y encuentra raiz para \n",
    "construye su propia función de método de bisección usando el loop while\n",
    "\n",
    "-hacer plot de evolucion de approximacion (append results to an initially empty list of x_n)\n",
    "construye su propia función de método Newton-Rapson usando el loop while\n",
    "\n",
    "-hacer plot de evolucion de approximacion (append results to an initially empty list of x_n)"
   ]
  },
  {
   "cell_type": "markdown",
   "id": "aerial-commonwealth",
   "metadata": {},
   "source": [
    "**Lisa Natalia Zapata ALzate**"
   ]
  },
  {
   "cell_type": "code",
   "execution_count": 1,
   "id": "failing-maldives",
   "metadata": {},
   "outputs": [],
   "source": [
    "import numpy as np\n",
    "import matplotlib.pyplot as plt"
   ]
  },
  {
   "cell_type": "code",
   "execution_count": 2,
   "id": "close-angel",
   "metadata": {},
   "outputs": [],
   "source": [
    "def biseccion(f,a,b,err=1e-10,pei=False):\n",
    "    if f(a)*f(b) < 0.0:\n",
    "        i = 0\n",
    "        a1 = a \n",
    "        b1 = b\n",
    "        pm = (a1 + b1)/2 \n",
    "        puntos = [pm]\n",
    "        iteraciones = [0]\n",
    "        if f(pm) == 0: return pm  \n",
    "        while True:\n",
    "            i = i + 1\n",
    "            p0 = a1\n",
    "            p1 = pm\n",
    "            puntos.append(p0)\n",
    "            iteraciones.append(i)\n",
    "            if abs(f(p1) - f(p0)) < err : break \n",
    "            elif f(a1)*f(pm) < 0.0: b1 = pm\n",
    "            elif f(a1)*f(pm) > 0.0: a1 = pm \n",
    "            pm = (a1+b1)/2\n",
    "        if pei == False:\n",
    "            return pm\n",
    "        else:\n",
    "            return puntos, iteraciones, pm\n",
    "    else:\n",
    "        print('INTERVALO MAL DEFINIDO')   \n"
   ]
  },
  {
   "cell_type": "code",
   "execution_count": 3,
   "id": "southern-backing",
   "metadata": {},
   "outputs": [],
   "source": [
    "def fx(x):\n",
    "    xs=x**2-11\n",
    "    return xs"
   ]
  },
  {
   "cell_type": "code",
   "execution_count": 4,
   "id": "secret-temperature",
   "metadata": {},
   "outputs": [
    {
     "data": {
      "text/plain": [
       "3.3166247903482144"
      ]
     },
     "execution_count": 4,
     "metadata": {},
     "output_type": "execute_result"
    }
   ],
   "source": [
    "biseccion(fx,3,17)"
   ]
  },
  {
   "cell_type": "code",
   "execution_count": 5,
   "id": "recovered-target",
   "metadata": {},
   "outputs": [
    {
     "name": "stderr",
     "output_type": "stream",
     "text": [
      "/usr/lib64/python3.7/site-packages/ipykernel_launcher.py:7: UserWarning: color is redundantly defined by the 'color' keyword argument and the fmt string \"--b\" (-> color='b'). The keyword argument will take precedence.\n",
      "  import sys\n"
     ]
    },
    {
     "data": {
      "image/png": "[encoded data removed]",
      "text/plain": [
       "<Figure size 432x288 with 1 Axes>"
      ]
     },
     "metadata": {
      "needs_background": "light"
     },
     "output_type": "display_data"
    }
   ],
   "source": [
    "import numpy as np\n",
    "import matplotlib.pyplot as plt\n",
    "x=np.linspace(-7,7,100)\n",
    "\n",
    "\n",
    "fig,ax = plt.subplots(1,1)\n",
    "ax.plot(x,fx(x), \"--b\", c=\"cyan\" )\n",
    "\n",
    "plt.xlabel('x',fontsize=13)\n",
    "\n",
    "plt.ylabel('y',fontsize=13)\n",
    "plt.title('Aproximation plot using Bisecion Method', c='red',fontsize=15)\n",
    "plt.grid()\n",
    "ax.grid('True')\n"
   ]
  },
  {
   "cell_type": "code",
   "execution_count": 6,
   "id": "auburn-diana",
   "metadata": {},
   "outputs": [],
   "source": [
    "def newton_raphson(f,p0,err=1e-8, pasos=10000,h=1e-15, pei=False):\n",
    "    def df(f,p,h):\n",
    "        deri = (f(p0+h)-f(p0))/h\n",
    "        return deri\n",
    "    i=0\n",
    "    puntos = [p0]\n",
    "    iteraciones = [0]\n",
    "    while i<pasos:\n",
    "        i=i+1 \n",
    "        p = p0 - (f(p0)/df(f,p0,h))\n",
    "        puntos.append(p)\n",
    "        iteraciones.append(i)\n",
    "        if abs(p-p0)< err:break     #condicion de parada.\n",
    "        p0 = p  \n",
    "    if pei == False:\n",
    "        return p0\n",
    "    else:\n",
    "        return puntos, iteraciones, p0 # valor a devolver de la fución."
   ]
  },
  {
   "cell_type": "code",
   "execution_count": 7,
   "id": "fantastic-honolulu",
   "metadata": {},
   "outputs": [
    {
     "data": {
      "text/plain": [
       "3.3166247943524625"
      ]
     },
     "execution_count": 7,
     "metadata": {},
     "output_type": "execute_result"
    }
   ],
   "source": [
    "newton_raphson(fx,3)"
   ]
  },
  {
   "cell_type": "code",
   "execution_count": 8,
   "id": "pharmaceutical-munich",
   "metadata": {},
   "outputs": [
    {
     "name": "stderr",
     "output_type": "stream",
     "text": [
      "/usr/lib64/python3.7/site-packages/ipykernel_launcher.py:4: UserWarning: color is redundantly defined by the 'color' keyword argument and the fmt string \"--b\" (-> color='b'). The keyword argument will take precedence.\n",
      "  after removing the cwd from sys.path.\n"
     ]
    },
    {
     "data": {
      "image/png": "[encoded data removed]",
      "text/plain": [
       "<Figure size 432x288 with 1 Axes>"
      ]
     },
     "metadata": {
      "needs_background": "light"
     },
     "output_type": "display_data"
    }
   ],
   "source": [
    "x=np.linspace(-7,7,100)\n",
    "\n",
    "fig,ax = plt.subplots(1,1)\n",
    "ax.plot(x,fx(x), \"--b\", c=\"cyan\" )\n",
    "\n",
    "plt.xlabel('x',fontsize=13)\n",
    "\n",
    "plt.ylabel('y',fontsize=13)\n",
    "plt.title('Aproximation plot using Newton-Rapshon', c='red',fontsize=15)\n",
    "plt.grid()\n",
    "ax.grid('True')\n"
   ]
  }
 ],
 "metadata": {
  "kernelspec": {
   "display_name": "Python 3",
   "language": "python",
   "name": "python3"
  },
  "language_info": {
   "codemirror_mode": {
    "name": "ipython",
    "version": 3
   },
   "file_extension": ".py",
   "mimetype": "text/x-python",
   "name": "python",
   "nbconvert_exporter": "python",
   "pygments_lexer": "ipython3",
   "version": "3.7.2"
  }
 },
 "nbformat": 4,
 "nbformat_minor": 5
}
