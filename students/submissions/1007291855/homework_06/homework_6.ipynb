{
 "cells": [
  {
   "cell_type": "markdown",
   "id": "olive-musician",
   "metadata": {},
   "source": [
    "Homework 6:\n",
    "create notebook called: homework_6.ipynb (no spaces please)\n",
    "\n",
    "inside write a function: deriv(func,a,method,h) func is a function that I can define a is a point (float) at which I wante to evaluate the derivative method is a string, and can have three options forward,central,backward h is a step\n",
    "\n",
    "remember the function must not print anything, just return a single value!!!\n",
    "\n",
    "to choose between schemes ('central','forward'..) use if, elif"
   ]
  },
  {
   "cell_type": "code",
   "execution_count": 12,
   "id": "framed-seller",
   "metadata": {},
   "outputs": [],
   "source": [
    "def func(x):\n",
    "    return x**3.0"
   ]
  },
  {
   "cell_type": "code",
   "execution_count": 13,
   "id": "intelligent-somerset",
   "metadata": {},
   "outputs": [],
   "source": [
    "def deriv(func, a, method, h):\n",
    "    if method == 'central':\n",
    "        return (func(a+h)-func(a-h))/(2*h)\n",
    "    elif method == 'forward':\n",
    "        return (func(a+h)-func(a))/h\n",
    "    elif method == 'backward':\n",
    "        return (func(a)-func(a-h))/h\n",
    "    else:\n",
    "        raise ValueError('Los métodos pueden ser centrada, adelante o atras, lo ingresado es invalido.')"
   ]
  },
  {
   "cell_type": "code",
   "execution_count": null,
   "id": "least-velvet",
   "metadata": {},
   "outputs": [],
   "source": []
  }
 ],
 "metadata": {
  "kernelspec": {
   "display_name": "Python 3",
   "language": "python",
   "name": "python3"
  },
  "language_info": {
   "codemirror_mode": {
    "name": "ipython",
    "version": 3
   },
   "file_extension": ".py",
   "mimetype": "text/x-python",
   "name": "python",
   "nbconvert_exporter": "python",
   "pygments_lexer": "ipython3",
   "version": "3.9.1"
  }
 },
 "nbformat": 4,
 "nbformat_minor": 5
}
