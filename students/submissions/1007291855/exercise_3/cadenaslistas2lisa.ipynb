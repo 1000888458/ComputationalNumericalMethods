{
 "cells": [
  {
   "cell_type": "markdown",
   "id": "adolescent-sally",
   "metadata": {},
   "source": [
    "## Exercise 2: Lists"
   ]
  },
  {
   "cell_type": "markdown",
   "id": "prime-undergraduate",
   "metadata": {},
   "source": [
    "### Este codigo abajo importa un libro entero a un string que se llama \"book\""
   ]
  },
  {
   "cell_type": "code",
   "execution_count": 17,
   "id": "documentary-museum",
   "metadata": {},
   "outputs": [
    {
     "data": {
      "text/plain": [
       "10396"
      ]
     },
     "execution_count": 17,
     "metadata": {},
     "output_type": "execute_result"
    }
   ],
   "source": [
    "## Challange:\n",
    "## List comprehenions are not necessary for this challenge\n",
    "\n",
    "from urllib.request import urlopen\n",
    "response = urlopen('https://www.gutenberg.org/files/74/74-0.txt')\n",
    "book = str(response.read())\n",
    "book.find('HARTFORD, 1876.')"
   ]
  },
  {
   "cell_type": "code",
   "execution_count": 18,
   "id": "metropolitan-magazine",
   "metadata": {},
   "outputs": [
    {
     "name": "stdout",
     "output_type": "stream",
     "text": [
      "510671\n"
     ]
    }
   ],
   "source": [
    "print(len(book))"
   ]
  },
  {
   "cell_type": "code",
   "execution_count": 19,
   "id": "adaptive-elder",
   "metadata": {},
   "outputs": [],
   "source": [
    "#print(book[10396:])"
   ]
  },
  {
   "cell_type": "markdown",
   "id": "continuing-metabolism",
   "metadata": {},
   "source": [
    "### Siguiendo el material de la clase pasada hacer un plot de occurencia de un caracter (Jim o Tom o Huck) de libro atraves de los capitulos\n"
   ]
  },
  {
   "cell_type": "code",
   "execution_count": 27,
   "id": "f186010c",
   "metadata": {},
   "outputs": [
    {
     "name": "stdout",
     "output_type": "stream",
     "text": [
      "295\n"
     ]
    }
   ],
   "source": [
    "print(book.count(\"Huck\"))\n",
    "    "
   ]
  },
  {
   "cell_type": "code",
   "execution_count": 21,
   "id": "b9f388cf",
   "metadata": {},
   "outputs": [
    {
     "name": "stdout",
     "output_type": "stream",
     "text": [
      "20\n"
     ]
    }
   ],
   "source": [
    "print(book.count(\"Jim\"))     "
   ]
  },
  {
   "cell_type": "code",
   "execution_count": 22,
   "id": "3affef72",
   "metadata": {},
   "outputs": [
    {
     "name": "stdout",
     "output_type": "stream",
     "text": [
      "808\n"
     ]
    }
   ],
   "source": [
    "print(book.count(\"Tom\"))"
   ]
  },
  {
   "cell_type": "code",
   "execution_count": 32,
   "id": "republican-harvard",
   "metadata": {},
   "outputs": [
    {
     "name": "stdout",
     "output_type": "stream",
     "text": [
      "Tom tiene una ocurrencia de: 774\n",
      "Jim tiene una ocurrencia de: 19\n",
      "Huck tiene una ocurrencia de: 286\n"
     ]
    }
   ],
   "source": [
    "cbook=book.split('CHAPTER')\n",
    "\n",
    "import numpy as np \n",
    "tom=[ ]\n",
    "jim=[ ]\n",
    "huck=[ ]\n",
    "for i in range (36,len(cbook)):\n",
    "    tom.append(cbook[i].count(\"Tom\")+cbook[i].count(\"TOM\"))\n",
    "    jim.append(cbook[i].count(\"Jim\")+cbook[i].count(\"JIM\"))\n",
    "    huck.append(cbook[i].count(\"Huck\")+cbook[i].count(\"HUCK\"))\n",
    "\n",
    "print (\"Tom tiene una ocurrencia de:\",np.sum(tom))\n",
    "print (\"Jim tiene una ocurrencia de:\",np.sum(jim))\n",
    "print (\"Huck tiene una ocurrencia de:\",np.sum(huck))"
   ]
  }
 ],
 "metadata": {
  "kernelspec": {
   "display_name": "Python 3",
   "language": "python",
   "name": "python3"
  },
  "language_info": {
   "codemirror_mode": {
    "name": "ipython",
    "version": 3
   },
   "file_extension": ".py",
   "mimetype": "text/x-python",
   "name": "python",
   "nbconvert_exporter": "python",
   "pygments_lexer": "ipython3",
   "version": "3.9.1"
  }
 },
 "nbformat": 4,
 "nbformat_minor": 5
}
