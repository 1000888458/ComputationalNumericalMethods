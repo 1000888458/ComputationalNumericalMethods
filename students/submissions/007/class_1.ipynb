{
 "cells": [
  {
   "cell_type": "markdown",
   "id": "understanding-three",
   "metadata": {},
   "source": [
    "## This \"course\" is for those who have no experience in programming"
   ]
  },
  {
   "cell_type": "markdown",
   "id": "commercial-wisdom",
   "metadata": {},
   "source": [
    "## Why Programming\n",
    "- logical\n",
    "- better than sudoku\n",
    "- or sopa de letras\n"
   ]
  },
  {
   "cell_type": "markdown",
   "id": "small-religion",
   "metadata": {},
   "source": [
    "## Why Python\n",
    "- lots of built-in functions!\n",
    "- easy to use\n",
    "- intuitive\n",
    "- versatile\n",
    "- relatively fast\n",
    "- very popular\n",
    "- community\n",
    "- jobs"
   ]
  },
  {
   "cell_type": "markdown",
   "id": "inappropriate-chamber",
   "metadata": {},
   "source": [
    "## How to run\n",
    "- command line + editor\n",
    "- jupyter\n",
    "- colab\n",
    "- https://www.tutorialspoint.com/execute_python_online.php"
   ]
  },
  {
   "cell_type": "markdown",
   "id": "frozen-theology",
   "metadata": {},
   "source": [
    "## Tips to progress:\n",
    "- avoid copy and paste\n",
    "- memorize most common commands (same as English language) - make your own \"dictionary\"\n",
    "- plan before you code (write on a piece of paper then copy) - it will give you a satisfaction if your code works\n",
    "- close your computer and reflect!\n",
    "- learn intense way - faster and efficient (like today)\n",
    "- do your homework!!! Ask questions"
   ]
  },
  {
   "cell_type": "markdown",
   "id": "known-tomorrow",
   "metadata": {},
   "source": [
    "# Order of learning\n",
    "- lets not get too structured\n",
    "- you have to start somewhere\n",
    "- dont worry if things look vague\n",
    "- Start with a challenge\n",
    "- things may seem silly but they will complicate fast so do the homework\n",
    "* learn like a natural language"
   ]
  },
  {
   "cell_type": "markdown",
   "id": "increased-argument",
   "metadata": {},
   "source": [
    "## Roadmap:\n",
    "What do we need to study and why so much?\n",
    "\n",
    "Programming is like cooking (dining):\n",
    "\n",
    "I. $\\textbf{OBJECTS or data structures (containers)}$\n",
    "\n",
    "<table><tr>\n",
    "<td> <img src=\"imgs/containers.png\" width=\"200\" /> </td>\n",
    "</tr></table>\n",
    "\n",
    "1. $\\textit{Numbers (Floats, Integers)}$\n",
    "2. $\\textit{Strings}$\n",
    "3. Lists\n",
    "4. Tuples\n",
    "5. Dictionaries\n",
    "6. other (come from imported modules) like numpy arrays (numpy ~ basic Matlab)\n",
    "\n",
    "\n",
    "II. $\\textbf{OPERATIONS ON THE OBJECTS (utensils)}$\n",
    "\n",
    "<table><tr>\n",
    "<td> <img src=\"imgs/cutlery.png\" width=\"200\" /> </td>\n",
    "</tr></table>\n",
    "\n",
    "\n",
    "1. $\\textit{Loops}$\n",
    "2. $\\textit{Conditions}$\n",
    "3. $\\textit{Functions}$\n",
    "4. $\\textit{Methods}$\n",
    "5. Tools and Libraries (numpy, scipy, pandas, scikit-learn...)\n",
    "\n",
    "III. $\\textbf{FEATURES:}$\n",
    "1. $\\textit{Calculator}$\n",
    "2. $\\textit{Variables}$\n",
    "3. $\\textit{comments}$\n",
    "4. $\\textit{spaces, indentation}$\n",
    "5. $\\textit{names for variables and function}$\n",
    "6. $\\textit{indexing and slicing}$\n",
    "7. $\\textit{importing modules}$"
   ]
  },
  {
   "cell_type": "code",
   "execution_count": 1,
   "id": "variable-prime",
   "metadata": {},
   "outputs": [],
   "source": [
    "## today's class is preparation for exercises"
   ]
  },
  {
   "cell_type": "markdown",
   "id": "exposed-wright",
   "metadata": {},
   "source": [
    "## Some three important functions: \n",
    "function(argument)\n",
    "\n",
    "* print() - prints something\n",
    "* type()  - returns a type of an object\n",
    "* dir()   - lists methods on the object\n",
    "* str()   - converts something to string\n",
    "* len()   - returns a lenght of an object"
   ]
  },
  {
   "cell_type": "markdown",
   "id": "ruled-duration",
   "metadata": {},
   "source": [
    "## Calculator"
   ]
  },
  {
   "cell_type": "code",
   "execution_count": 2,
   "id": "photographic-retirement",
   "metadata": {},
   "outputs": [
    {
     "data": {
      "text/plain": [
       "16"
      ]
     },
     "execution_count": 2,
     "metadata": {},
     "output_type": "execute_result"
    }
   ],
   "source": [
    "(2+2)**2"
   ]
  },
  {
   "cell_type": "code",
   "execution_count": 3,
   "id": "disturbed-yukon",
   "metadata": {},
   "outputs": [
    {
     "data": {
      "text/plain": [
       "2017.0"
      ]
     },
     "execution_count": 3,
     "metadata": {},
     "output_type": "execute_result"
    }
   ],
   "source": [
    "1 + 2 * (3 * 4 * 5 / 6) ** 3 + 7 + 8 - 9 + 10"
   ]
  },
  {
   "cell_type": "code",
   "execution_count": 4,
   "id": "designing-purple",
   "metadata": {},
   "outputs": [
    {
     "data": {
      "text/plain": [
       "18"
      ]
     },
     "execution_count": 4,
     "metadata": {},
     "output_type": "execute_result"
    }
   ],
   "source": [
    "5*3+3"
   ]
  },
  {
   "cell_type": "code",
   "execution_count": 5,
   "id": "saving-trace",
   "metadata": {},
   "outputs": [
    {
     "data": {
      "text/plain": [
       "17"
      ]
     },
     "execution_count": 5,
     "metadata": {},
     "output_type": "execute_result"
    }
   ],
   "source": [
    "17 / 3  # classic division returns a float\n",
    "17 // 3  # floor division discards the fractional part\n",
    "17 % 3  # the % operator returns the remainder of the division\n",
    "5 * 3 + 2  # floored quotient * divisor + remainder"
   ]
  },
  {
   "cell_type": "code",
   "execution_count": 6,
   "id": "minute-fraud",
   "metadata": {},
   "outputs": [
    {
     "data": {
      "text/plain": [
       "0"
      ]
     },
     "execution_count": 6,
     "metadata": {},
     "output_type": "execute_result"
    }
   ],
   "source": [
    "# good to test odd even number (par inpar)\n",
    "# if result is 0 then even\n",
    "# if results is 1 then odd\n",
    "20%2"
   ]
  },
  {
   "cell_type": "markdown",
   "id": "periodic-three",
   "metadata": {},
   "source": [
    "## Variables\n",
    "$\\textbf{some_name}$ = 5\n",
    "\n"
   ]
  },
  {
   "cell_type": "code",
   "execution_count": 7,
   "id": "fallen-small",
   "metadata": {},
   "outputs": [],
   "source": [
    "num_1=5\n"
   ]
  },
  {
   "cell_type": "code",
   "execution_count": 8,
   "id": "configured-center",
   "metadata": {},
   "outputs": [
    {
     "name": "stdout",
     "output_type": "stream",
     "text": [
      "900\n"
     ]
    }
   ],
   "source": [
    "width = 20\n",
    "height = 5 * 9\n",
    "print(width * height)"
   ]
  },
  {
   "cell_type": "code",
   "execution_count": 9,
   "id": "multiple-woman",
   "metadata": {},
   "outputs": [
    {
     "name": "stdout",
     "output_type": "stream",
     "text": [
      "<class 'float'>\n",
      "15.0\n"
     ]
    }
   ],
   "source": [
    "num1=5\n",
    "num2=10.\n",
    "num3=num1+num2\n",
    "print(type(num3))\n",
    "print(num3)"
   ]
  },
  {
   "cell_type": "code",
   "execution_count": 10,
   "id": "legendary-claim",
   "metadata": {},
   "outputs": [
    {
     "name": "stdout",
     "output_type": "stream",
     "text": [
      "<class 'float'>\n",
      "0.5\n"
     ]
    }
   ],
   "source": [
    "num1=5\n",
    "num2=10\n",
    "num3=num1/num2\n",
    "print(type(num3))\n",
    "print(num3)"
   ]
  },
  {
   "cell_type": "code",
   "execution_count": 11,
   "id": "alone-pearl",
   "metadata": {},
   "outputs": [
    {
     "name": "stdout",
     "output_type": "stream",
     "text": [
      "15\n",
      "<class 'int'>\n",
      "15.0\n",
      "<class 'float'>\n"
     ]
    }
   ],
   "source": [
    "# Integers\n",
    "num1=5\n",
    "num2=10\n",
    "num3=num1+num2\n",
    "print(num3)\n",
    "print(type(num3))\n",
    "\n",
    "# Floats\n",
    "num1=5.0\n",
    "num2=10\n",
    "num3=num1+num2\n",
    "print(num3)\n",
    "print(type(num3))"
   ]
  },
  {
   "cell_type": "code",
   "execution_count": 12,
   "id": "above-anthony",
   "metadata": {},
   "outputs": [
    {
     "name": "stdout",
     "output_type": "stream",
     "text": [
      "9\n"
     ]
    }
   ],
   "source": [
    "# aqui voy a imprimir algo\n",
    "print(3*3)"
   ]
  },
  {
   "cell_type": "markdown",
   "id": "stylish-swift",
   "metadata": {},
   "source": [
    "# First data structure:"
   ]
  },
  {
   "cell_type": "markdown",
   "id": "rolled-casino",
   "metadata": {},
   "source": [
    "## Strings\n",
    "* strings are in single or double quotes\n",
    "* they are immutable (cannot chage just one element)"
   ]
  },
  {
   "cell_type": "code",
   "execution_count": 13,
   "id": "swiss-sunday",
   "metadata": {},
   "outputs": [],
   "source": [
    "string1='Lunes'\n",
    "string2=\"Lunes\""
   ]
  },
  {
   "cell_type": "markdown",
   "id": "informational-physics",
   "metadata": {},
   "source": [
    "### Example 1"
   ]
  },
  {
   "cell_type": "code",
   "execution_count": 14,
   "id": "genuine-lawsuit",
   "metadata": {},
   "outputs": [],
   "source": [
    "mystring='Python'"
   ]
  },
  {
   "cell_type": "markdown",
   "id": "integral-squad",
   "metadata": {},
   "source": [
    " ### Indexing [#]\n",
    " +---+---+---+---+---+---+\n",
    " | P | y | t | h | o | n |\n",
    " +---+---+---+---+---+---+\n",
    " 0   1   2   3   4   5   6\n",
    "-6  -5  -4  -3  -2  -1"
   ]
  },
  {
   "cell_type": "code",
   "execution_count": 15,
   "id": "declared-basin",
   "metadata": {},
   "outputs": [
    {
     "data": {
      "text/plain": [
       "'yth'"
      ]
     },
     "execution_count": 15,
     "metadata": {},
     "output_type": "execute_result"
    }
   ],
   "source": [
    "mystring[1:4]"
   ]
  },
  {
   "cell_type": "code",
   "execution_count": 16,
   "id": "convenient-karaoke",
   "metadata": {},
   "outputs": [
    {
     "data": {
      "text/plain": [
       "'thon'"
      ]
     },
     "execution_count": 16,
     "metadata": {},
     "output_type": "execute_result"
    }
   ],
   "source": [
    "mystring[2:]"
   ]
  },
  {
   "cell_type": "code",
   "execution_count": 17,
   "id": "polish-bottom",
   "metadata": {},
   "outputs": [
    {
     "data": {
      "text/plain": [
       "'Python'"
      ]
     },
     "execution_count": 17,
     "metadata": {},
     "output_type": "execute_result"
    }
   ],
   "source": [
    "mystring"
   ]
  },
  {
   "cell_type": "code",
   "execution_count": 18,
   "id": "lyric-syndication",
   "metadata": {},
   "outputs": [],
   "source": [
    "mystring='Python'"
   ]
  },
  {
   "cell_type": "code",
   "execution_count": 19,
   "id": "exempt-stone",
   "metadata": {},
   "outputs": [
    {
     "data": {
      "text/plain": [
       "'python'"
      ]
     },
     "execution_count": 19,
     "metadata": {},
     "output_type": "execute_result"
    }
   ],
   "source": [
    "#mystring[0]='p'\n",
    "'p' + mystring[1:]"
   ]
  },
  {
   "cell_type": "markdown",
   "id": "optical-necessity",
   "metadata": {},
   "source": [
    "### Concatenating string + string"
   ]
  },
  {
   "cell_type": "code",
   "execution_count": 20,
   "id": "hidden-toyota",
   "metadata": {},
   "outputs": [],
   "source": [
    "mystring='Python'"
   ]
  },
  {
   "cell_type": "code",
   "execution_count": 21,
   "id": "continental-childhood",
   "metadata": {},
   "outputs": [
    {
     "data": {
      "text/plain": [
       "'Pn'"
      ]
     },
     "execution_count": 21,
     "metadata": {},
     "output_type": "execute_result"
    }
   ],
   "source": [
    "mystring[0] + mystring[-1]"
   ]
  },
  {
   "cell_type": "markdown",
   "id": "incorrect-official",
   "metadata": {},
   "source": [
    "## Converting number to string"
   ]
  },
  {
   "cell_type": "code",
   "execution_count": 22,
   "id": "unlikely-guidance",
   "metadata": {},
   "outputs": [
    {
     "name": "stdout",
     "output_type": "stream",
     "text": [
      "<class 'float'>\n",
      "<class 'str'>\n"
     ]
    }
   ],
   "source": [
    "num1=15.0\n",
    "print(type(num1))\n",
    "\n",
    "str1=str(num1)\n",
    "print(type(str1))"
   ]
  },
  {
   "cell_type": "code",
   "execution_count": 23,
   "id": "human-arthritis",
   "metadata": {},
   "outputs": [
    {
     "data": {
      "text/plain": [
       "'Python...15.0'"
      ]
     },
     "execution_count": 23,
     "metadata": {},
     "output_type": "execute_result"
    }
   ],
   "source": [
    "mystring + '...' + str(num1)"
   ]
  },
  {
   "cell_type": "code",
   "execution_count": 24,
   "id": "liquid-chamber",
   "metadata": {},
   "outputs": [
    {
     "data": {
      "text/plain": [
       "6"
      ]
     },
     "execution_count": 24,
     "metadata": {},
     "output_type": "execute_result"
    }
   ],
   "source": [
    "len(mystring)"
   ]
  },
  {
   "cell_type": "code",
   "execution_count": 25,
   "id": "junior-liability",
   "metadata": {},
   "outputs": [
    {
     "name": "stdout",
     "output_type": "stream",
     "text": [
      "The word Python has 6 letters\n"
     ]
    }
   ],
   "source": [
    "longer_string='The word Python has ' + str(len(mystring)) + ' letters' \n",
    "\n",
    "print(longer_string)"
   ]
  },
  {
   "cell_type": "code",
   "execution_count": 26,
   "id": "attractive-thread",
   "metadata": {},
   "outputs": [
    {
     "name": "stdout",
     "output_type": "stream",
     "text": [
      "PythonPythonPython\n"
     ]
    }
   ],
   "source": [
    "long_python=3*'Python'\n",
    "print(long_python)"
   ]
  },
  {
   "cell_type": "markdown",
   "id": "german-rainbow",
   "metadata": {},
   "source": [
    "### Example 2"
   ]
  },
  {
   "cell_type": "code",
   "execution_count": 27,
   "id": "sunset-contamination",
   "metadata": {},
   "outputs": [],
   "source": [
    "mystring2 = 'It is 4pm. Good time to go to the sea'"
   ]
  },
  {
   "cell_type": "code",
   "execution_count": 28,
   "id": "numerical-chassis",
   "metadata": {},
   "outputs": [
    {
     "name": "stdout",
     "output_type": "stream",
     "text": [
      "It is 4pm. Good time to go to the sea\n"
     ]
    }
   ],
   "source": [
    "print(mystring2)"
   ]
  },
  {
   "cell_type": "code",
   "execution_count": 29,
   "id": "dried-recycling",
   "metadata": {},
   "outputs": [
    {
     "name": "stdout",
     "output_type": "stream",
     "text": [
      "37\n"
     ]
    }
   ],
   "source": [
    "print(len(mystring2))"
   ]
  },
  {
   "cell_type": "code",
   "execution_count": 30,
   "id": "isolated-miller",
   "metadata": {},
   "outputs": [
    {
     "name": "stdout",
     "output_type": "stream",
     "text": [
      "<class 'str'>\n"
     ]
    }
   ],
   "source": [
    "print(type(mystring2))"
   ]
  },
  {
   "cell_type": "code",
   "execution_count": 31,
   "id": "falling-advice",
   "metadata": {},
   "outputs": [
    {
     "name": "stdout",
     "output_type": "stream",
     "text": [
      "['__add__', '__class__', '__contains__', '__delattr__', '__dir__', '__doc__', '__eq__', '__format__', '__ge__', '__getattribute__', '__getitem__', '__getnewargs__', '__gt__', '__hash__', '__init__', '__init_subclass__', '__iter__', '__le__', '__len__', '__lt__', '__mod__', '__mul__', '__ne__', '__new__', '__reduce__', '__reduce_ex__', '__repr__', '__rmod__', '__rmul__', '__setattr__', '__sizeof__', '__str__', '__subclasshook__', 'capitalize', 'casefold', 'center', 'count', 'encode', 'endswith', 'expandtabs', 'find', 'format', 'format_map', 'index', 'isalnum', 'isalpha', 'isascii', 'isdecimal', 'isdigit', 'isidentifier', 'islower', 'isnumeric', 'isprintable', 'isspace', 'istitle', 'isupper', 'join', 'ljust', 'lower', 'lstrip', 'maketrans', 'partition', 'replace', 'rfind', 'rindex', 'rjust', 'rpartition', 'rsplit', 'rstrip', 'split', 'splitlines', 'startswith', 'strip', 'swapcase', 'title', 'translate', 'upper', 'zfill']\n"
     ]
    }
   ],
   "source": [
    "# python methods\n",
    "print(dir(mystring2))"
   ]
  },
  {
   "cell_type": "code",
   "execution_count": 32,
   "id": "physical-organizer",
   "metadata": {},
   "outputs": [
    {
     "name": "stdout",
     "output_type": "stream",
     "text": [
      "It is 4pm. Good time to go to the sea\n"
     ]
    }
   ],
   "source": [
    "print(mystring2)"
   ]
  },
  {
   "cell_type": "code",
   "execution_count": 33,
   "id": "meaning-heather",
   "metadata": {},
   "outputs": [],
   "source": [
    "mystring_converted=mystring2.upper()"
   ]
  },
  {
   "cell_type": "code",
   "execution_count": 34,
   "id": "sharp-harmony",
   "metadata": {},
   "outputs": [
    {
     "name": "stdout",
     "output_type": "stream",
     "text": [
      "IT IS 4PM. GOOD TIME TO GO TO THE SEA\n"
     ]
    }
   ],
   "source": [
    "print(mystring_converted)"
   ]
  },
  {
   "cell_type": "code",
   "execution_count": 35,
   "id": "angry-worth",
   "metadata": {},
   "outputs": [
    {
     "data": {
      "text/plain": [
       "16"
      ]
     },
     "execution_count": 35,
     "metadata": {},
     "output_type": "execute_result"
    }
   ],
   "source": [
    "mystring2.rfind('time')"
   ]
  },
  {
   "cell_type": "code",
   "execution_count": 36,
   "id": "parliamentary-secretariat",
   "metadata": {},
   "outputs": [
    {
     "data": {
      "text/plain": [
       "'time to go to the sea'"
      ]
     },
     "execution_count": 36,
     "metadata": {},
     "output_type": "execute_result"
    }
   ],
   "source": [
    "mystring2[16:]"
   ]
  },
  {
   "cell_type": "markdown",
   "id": "boolean-modern",
   "metadata": {},
   "source": [
    ".split()\n",
    ".find()\n",
    ".rfind()\n",
    ".upper()\n",
    ".lower()\n",
    ".capitalize()\n",
    ".replace()"
   ]
  },
  {
   "cell_type": "code",
   "execution_count": 37,
   "id": "better-eligibility",
   "metadata": {},
   "outputs": [
    {
     "name": "stdout",
     "output_type": "stream",
     "text": [
      "Help on built-in function replace:\n",
      "\n",
      "replace(old, new, count=-1, /) method of builtins.str instance\n",
      "    Return a copy with all occurrences of substring old replaced by new.\n",
      "    \n",
      "      count\n",
      "        Maximum number of occurrences to replace.\n",
      "        -1 (the default value) means replace all occurrences.\n",
      "    \n",
      "    If the optional argument count is given, only the first count occurrences are\n",
      "    replaced.\n",
      "\n"
     ]
    }
   ],
   "source": [
    "help(mystring2.replace)"
   ]
  },
  {
   "cell_type": "code",
   "execution_count": 38,
   "id": "federal-newfoundland",
   "metadata": {},
   "outputs": [
    {
     "data": {
      "text/plain": [
       "'It is 4pm.'"
      ]
     },
     "execution_count": 38,
     "metadata": {},
     "output_type": "execute_result"
    }
   ],
   "source": [
    "mystring2[0:10]"
   ]
  },
  {
   "cell_type": "code",
   "execution_count": 39,
   "id": "arctic-familiar",
   "metadata": {},
   "outputs": [
    {
     "data": {
      "text/plain": [
       "'It is 4pm. Bad time to go to the sea'"
      ]
     },
     "execution_count": 39,
     "metadata": {},
     "output_type": "execute_result"
    }
   ],
   "source": [
    "mystring2.replace('Good','Bad')"
   ]
  },
  {
   "cell_type": "code",
   "execution_count": 40,
   "id": "apart-monthly",
   "metadata": {},
   "outputs": [
    {
     "data": {
      "text/plain": [
       "['It is 4pm', ' Good time to go to the sea']"
      ]
     },
     "execution_count": 40,
     "metadata": {},
     "output_type": "execute_result"
    }
   ],
   "source": [
    "mystring2.split('.')"
   ]
  },
  {
   "cell_type": "markdown",
   "id": "union-edinburgh",
   "metadata": {},
   "source": [
    "https://www.w3schools.com/python/python_ref_string.asp"
   ]
  },
  {
   "cell_type": "code",
   "execution_count": 41,
   "id": "cross-badge",
   "metadata": {},
   "outputs": [
    {
     "data": {
      "text/plain": [
       "5"
      ]
     },
     "execution_count": 41,
     "metadata": {},
     "output_type": "execute_result"
    }
   ],
   "source": [
    "mystring2.count('t')"
   ]
  },
  {
   "cell_type": "markdown",
   "id": "linear-graphic",
   "metadata": {},
   "source": [
    "## Logical for comparison\n",
    "* '=='\n",
    "* '!='\n",
    "* '>,=>'\n",
    "* '<, <='"
   ]
  },
  {
   "cell_type": "code",
   "execution_count": 42,
   "id": "demanding-optics",
   "metadata": {},
   "outputs": [
    {
     "data": {
      "text/plain": [
       "True"
      ]
     },
     "execution_count": 42,
     "metadata": {},
     "output_type": "execute_result"
    }
   ],
   "source": [
    "mystring_1 = 'hello'\n",
    "mystring_2 = 'Hello'\n",
    "mystring_1!=mystring_2"
   ]
  },
  {
   "cell_type": "markdown",
   "id": "lesser-hindu",
   "metadata": {},
   "source": [
    "## Conditionals\n",
    "(note indentation) 2 or 4 spaces\n",
    "if... else"
   ]
  },
  {
   "cell_type": "code",
   "execution_count": 43,
   "id": "found-bennett",
   "metadata": {},
   "outputs": [
    {
     "name": "stdout",
     "output_type": "stream",
     "text": [
      "los strings son iguales\n"
     ]
    }
   ],
   "source": [
    "str1='hello'\n",
    "str2='hello'\n",
    "\n",
    "if str1==str2:\n",
    "    print('los strings son iguales')\n",
    "else:\n",
    "    print('los strings son diferentes')"
   ]
  },
  {
   "cell_type": "code",
   "execution_count": 44,
   "id": "exempt-message",
   "metadata": {},
   "outputs": [
    {
     "name": "stdout",
     "output_type": "stream",
     "text": [
      "long\n"
     ]
    }
   ],
   "source": [
    "if len(mystring2)<5:\n",
    "    print('short')\n",
    "else:\n",
    "    print('long')        "
   ]
  },
  {
   "cell_type": "markdown",
   "id": "enormous-shoulder",
   "metadata": {},
   "source": [
    "## Loops\n",
    "(note indentation) 2 or 4 spaces\n",
    "\n",
    "$\\textbf{for ... in... :} $"
   ]
  },
  {
   "cell_type": "code",
   "execution_count": 45,
   "id": "naval-alliance",
   "metadata": {},
   "outputs": [],
   "source": [
    "mystring='Python is cool'"
   ]
  },
  {
   "cell_type": "code",
   "execution_count": 46,
   "id": "prepared-ultimate",
   "metadata": {},
   "outputs": [
    {
     "name": "stdout",
     "output_type": "stream",
     "text": [
      "P\n",
      "y\n",
      "t\n",
      "h\n",
      "o\n",
      "n\n",
      " \n",
      "i\n",
      "s\n",
      " \n",
      "c\n",
      "o\n",
      "o\n",
      "l\n"
     ]
    }
   ],
   "source": [
    "for i in mystring:\n",
    "    print(i)"
   ]
  },
  {
   "cell_type": "markdown",
   "id": "strategic-stockholm",
   "metadata": {},
   "source": [
    "## Functions\n",
    "$\\textbf{def}$\n",
    "\n",
    "$\\textbf{return}$"
   ]
  },
  {
   "cell_type": "code",
   "execution_count": 47,
   "id": "magnetic-arizona",
   "metadata": {},
   "outputs": [],
   "source": [
    "mystring2='python'"
   ]
  },
  {
   "cell_type": "code",
   "execution_count": 48,
   "id": "antique-craps",
   "metadata": {},
   "outputs": [],
   "source": [
    "def my_function(some_string):\n",
    "    my_variable=len(some_string)\n",
    "    return my_variable"
   ]
  },
  {
   "cell_type": "code",
   "execution_count": 49,
   "id": "fewer-lodging",
   "metadata": {},
   "outputs": [],
   "source": [
    "result = my_function(mystring2)"
   ]
  },
  {
   "cell_type": "code",
   "execution_count": 50,
   "id": "vocational-serve",
   "metadata": {},
   "outputs": [
    {
     "name": "stdout",
     "output_type": "stream",
     "text": [
      "6\n"
     ]
    }
   ],
   "source": [
    "print(result)"
   ]
  },
  {
   "cell_type": "markdown",
   "id": "possible-netscape",
   "metadata": {},
   "source": [
    "## Real life string example and data analysis"
   ]
  },
  {
   "cell_type": "code",
   "execution_count": 51,
   "id": "developing-young",
   "metadata": {},
   "outputs": [
    {
     "data": {
      "text/plain": [
       "686030"
      ]
     },
     "execution_count": 51,
     "metadata": {},
     "output_type": "execute_result"
    }
   ],
   "source": [
    "from urllib.request import urlopen\n",
    "response = urlopen('https://www.gutenberg.org/files/521/521-0.txt')\n",
    "book = str(response.read())\n",
    "len(book)"
   ]
  },
  {
   "cell_type": "markdown",
   "id": "prescribed-thinking",
   "metadata": {},
   "source": [
    "## Importing modules, example numpy (MatLab)"
   ]
  },
  {
   "cell_type": "code",
   "execution_count": 52,
   "id": "exposed-colombia",
   "metadata": {},
   "outputs": [
    {
     "name": "stdout",
     "output_type": "stream",
     "text": [
      "<class 'float'>\n",
      "3.14\n"
     ]
    }
   ],
   "source": [
    "# lets define a number pi\n",
    "my_pi=3.14\n",
    "print(type(my_pi))\n",
    "print(my_pi)"
   ]
  },
  {
   "cell_type": "code",
   "execution_count": 53,
   "id": "offensive-physics",
   "metadata": {},
   "outputs": [
    {
     "name": "stdout",
     "output_type": "stream",
     "text": [
      "3.141592653589793\n"
     ]
    }
   ],
   "source": [
    "# import the module under its own namespace\n",
    "import numpy\n",
    "print(numpy.pi)"
   ]
  },
  {
   "cell_type": "code",
   "execution_count": 54,
   "id": "stainless-secretary",
   "metadata": {},
   "outputs": [
    {
     "name": "stdout",
     "output_type": "stream",
     "text": [
      "3.141592653589793\n"
     ]
    }
   ],
   "source": [
    "# explicitly import a few objects only\n",
    "from numpy import pi\n",
    "print(pi)"
   ]
  },
  {
   "cell_type": "code",
   "execution_count": 55,
   "id": "civilian-tablet",
   "metadata": {},
   "outputs": [
    {
     "data": {
      "text/plain": [
       "3.141592653589793"
      ]
     },
     "execution_count": 55,
     "metadata": {},
     "output_type": "execute_result"
    }
   ],
   "source": [
    "# importing into an alias\n",
    "import numpy as np\n",
    "np.pi"
   ]
  },
  {
   "cell_type": "code",
   "execution_count": 56,
   "id": "incorporated-positive",
   "metadata": {},
   "outputs": [
    {
     "name": "stdout",
     "output_type": "stream",
     "text": [
      "<class 'float'>\n"
     ]
    }
   ],
   "source": [
    "x=5.0\n",
    "print(type(x))"
   ]
  },
  {
   "cell_type": "code",
   "execution_count": 57,
   "id": "organized-comedy",
   "metadata": {},
   "outputs": [
    {
     "name": "stdout",
     "output_type": "stream",
     "text": [
      "['__abs__', '__add__', '__and__', '__bool__', '__ceil__', '__class__', '__delattr__', '__dir__', '__divmod__', '__doc__', '__eq__', '__float__', '__floor__', '__floordiv__', '__format__', '__ge__', '__getattribute__', '__getnewargs__', '__gt__', '__hash__', '__index__', '__init__', '__init_subclass__', '__int__', '__invert__', '__le__', '__lshift__', '__lt__', '__mod__', '__mul__', '__ne__', '__neg__', '__new__', '__or__', '__pos__', '__pow__', '__radd__', '__rand__', '__rdivmod__', '__reduce__', '__reduce_ex__', '__repr__', '__rfloordiv__', '__rlshift__', '__rmod__', '__rmul__', '__ror__', '__round__', '__rpow__', '__rrshift__', '__rshift__', '__rsub__', '__rtruediv__', '__rxor__', '__setattr__', '__sizeof__', '__str__', '__sub__', '__subclasshook__', '__truediv__', '__trunc__', '__xor__', 'bit_length', 'conjugate', 'denominator', 'from_bytes', 'imag', 'numerator', 'real', 'to_bytes']\n"
     ]
    }
   ],
   "source": [
    "y=int(x)\n",
    "print(dir(y))"
   ]
  },
  {
   "cell_type": "code",
   "execution_count": 58,
   "id": "cooperative-andrews",
   "metadata": {},
   "outputs": [
    {
     "name": "stdout",
     "output_type": "stream",
     "text": [
      "0\n",
      "1\n",
      "2\n",
      "3\n",
      "4\n",
      "5\n",
      "6\n",
      "7\n",
      "8\n",
      "9\n"
     ]
    }
   ],
   "source": [
    "for i in range(10):\n",
    "    print(i)"
   ]
  },
  {
   "cell_type": "code",
   "execution_count": null,
   "id": "inappropriate-fence",
   "metadata": {},
   "outputs": [],
   "source": []
  }
 ],
 "metadata": {
  "kernelspec": {
   "display_name": "Python 3",
   "language": "python",
   "name": "python3"
  },
  "language_info": {
   "codemirror_mode": {
    "name": "ipython",
    "version": 3
   },
   "file_extension": ".py",
   "mimetype": "text/x-python",
   "name": "python",
   "nbconvert_exporter": "python",
   "pygments_lexer": "ipython3",
   "version": "3.7.2"
  }
 },
 "nbformat": 4,
 "nbformat_minor": 5
}
