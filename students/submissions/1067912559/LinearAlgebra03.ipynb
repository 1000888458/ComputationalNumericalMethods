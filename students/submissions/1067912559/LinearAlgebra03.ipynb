{
 "cells": [
  {
   "cell_type": "markdown",
   "metadata": {},
   "source": [
    "## Homework 7: Linear Algebra 03"
   ]
  },
  {
   "cell_type": "code",
   "execution_count": 1,
   "metadata": {},
   "outputs": [],
   "source": [
    "import numpy as np"
   ]
  },
  {
   "cell_type": "code",
   "execution_count": 2,
   "metadata": {},
   "outputs": [
    {
     "name": "stdout",
     "output_type": "stream",
     "text": [
      "[4.86619826 0.34455762 1.78924412 3.        ] \n",
      " [[-3.49561271e-01  7.94033408e-01  7.62229110e-02  7.27025315e-16]\n",
      " [ 1.21959906e-01  4.79650284e-01  3.61664456e-01  6.86635020e-16]\n",
      " [ 3.83368157e-01 -2.42866291e-01 -8.33174113e-01 -7.07106781e-01]\n",
      " [ 8.46145115e-01  2.83659156e-01  4.11351172e-01  7.07106781e-01]]\n"
     ]
    }
   ],
   "source": [
    "#Matrix\n",
    "S = np.array([[1,-1,-1,-1],\n",
    "             [-1, 2, 0, 0],\n",
    "             [-1, 3, 3, 0],\n",
    "             [-1, 0, 1, 4]])\n",
    "\n",
    "#Eigenvector and eigenvalues\n",
    "evals , evect = np.linalg.eig(S)\n",
    "print(evals, \"\\n\", evect)"
   ]
  },
  {
   "cell_type": "markdown",
   "metadata": {},
   "source": [
    "Calculate $S^5$ using two methods. in a \"for\" loop and using diagonalization. Compare the results."
   ]
  },
  {
   "cell_type": "code",
   "execution_count": 3,
   "metadata": {},
   "outputs": [
    {
     "name": "stdout",
     "output_type": "stream",
     "text": [
      " S^5 using diagonalization : \n",
      " [[  485.  -755.  -563.  -563.]\n",
      " [ -179.   280.   192.   192.]\n",
      " [ -675.  1201.   707.   464.]\n",
      " [-1027.  1448.  1275.  1518.]]\n"
     ]
    }
   ],
   "source": [
    "#Using Diagonalization\n",
    "P = evect\n",
    "Pinv = np.linalg.inv(P)\n",
    "D_5 = np.zeros((4,4))\n",
    "\n",
    "for i in range(4):\n",
    "    D_5[i,i] = evals[i]**5\n",
    "\n",
    "S_5 = np.matmul(np.matmul(P, D_5), Pinv)\n",
    "print(\" S^5 using diagonalization : \\n {}\".format(S_5))"
   ]
  },
  {
   "cell_type": "code",
   "execution_count": 4,
   "metadata": {},
   "outputs": [
    {
     "name": "stdout",
     "output_type": "stream",
     "text": [
      "S^5 using a loop : \n",
      " [[  485  -755  -563  -563]\n",
      " [ -179   280   192   192]\n",
      " [ -675  1201   707   464]\n",
      " [-1027  1448  1275  1518]]\n"
     ]
    }
   ],
   "source": [
    "# Loop\n",
    "\n",
    "A = np.copy(S)\n",
    "\n",
    "for i in range(1,5):\n",
    "    A = np.matmul(S, A)\n",
    "      \n",
    "print(\"S^5 using a loop : \\n {}\".format(A))"
   ]
  },
  {
   "cell_type": "markdown",
   "metadata": {},
   "source": [
    "We get the same result with both methods. "
   ]
  }
 ],
 "metadata": {
  "kernelspec": {
   "display_name": "Python 3",
   "language": "python",
   "name": "python3"
  },
  "language_info": {
   "codemirror_mode": {
    "name": "ipython",
    "version": 3
   },
   "file_extension": ".py",
   "mimetype": "text/x-python",
   "name": "python",
   "nbconvert_exporter": "python",
   "pygments_lexer": "ipython3",
   "version": "3.8.5"
  }
 },
 "nbformat": 4,
 "nbformat_minor": 4
}
