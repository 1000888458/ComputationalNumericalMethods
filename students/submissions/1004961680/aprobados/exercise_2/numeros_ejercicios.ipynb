{
  "nbformat": 4,
  "nbformat_minor": 5,
  "metadata": {
    "kernelspec": {
      "display_name": "Python 3",
      "language": "python",
      "name": "python3"
    },
    "language_info": {
      "codemirror_mode": {
        "name": "ipython",
        "version": 3
      },
      "file_extension": ".py",
      "mimetype": "text/x-python",
      "name": "python",
      "nbconvert_exporter": "python",
      "pygments_lexer": "ipython3",
      "version": "3.7.2"
    },
    "colab": {
      "name": "numeros_ejercicios.ipynb",
      "provenance": [],
      "collapsed_sections": []
    }
  },
  "cells": [
    {
      "cell_type": "markdown",
      "metadata": {
        "id": "super-silicon"
      },
      "source": [
        "# Exercicios sobre numeros :"
      ],
      "id": "super-silicon"
    },
    {
      "cell_type": "markdown",
      "metadata": {
        "id": "environmental-observation"
      },
      "source": [
        "#### 1. Imprime primero 10 numeros naturales (1,2,3,4,5,6,7,8,9,10) usando \"for loop\" y print ()"
      ],
      "id": "environmental-observation"
    },
    {
      "cell_type": "code",
      "metadata": {
        "id": "executive-austria",
        "colab": {
          "base_uri": "https://localhost:8080/"
        },
        "outputId": "84a3e9b2-6562-434f-c466-ff84befe0191"
      },
      "source": [
        "# tu codigo aqui:\n",
        "for i in range(1,11):\n",
        "    print(i)"
      ],
      "id": "executive-austria",
      "execution_count": null,
      "outputs": [
        {
          "output_type": "stream",
          "name": "stdout",
          "text": [
            "1\n",
            "2\n",
            "3\n",
            "4\n",
            "5\n",
            "6\n",
            "7\n",
            "8\n",
            "9\n",
            "10\n"
          ]
        }
      ]
    },
    {
      "cell_type": "markdown",
      "metadata": {
        "id": "loving-george"
      },
      "source": [
        "#### 2. Imprime primero 10 numeros naturales (1,2,3,4,5,6,7,8,9,10)  usando \"while loop\" y print ()"
      ],
      "id": "loving-george"
    },
    {
      "cell_type": "code",
      "metadata": {
        "id": "manufactured-international",
        "colab": {
          "base_uri": "https://localhost:8080/"
        },
        "outputId": "ebeea1a1-7f8d-44d5-9140-051392a2392b"
      },
      "source": [
        "# tu codigo aqui:\n",
        "i=1\n",
        "while (i<11):\n",
        "  print(i)\n",
        "  i=i+1"
      ],
      "id": "manufactured-international",
      "execution_count": null,
      "outputs": [
        {
          "output_type": "stream",
          "name": "stdout",
          "text": [
            "1\n",
            "2\n",
            "3\n",
            "4\n",
            "5\n",
            "6\n",
            "7\n",
            "8\n",
            "9\n",
            "10\n"
          ]
        }
      ]
    },
    {
      "cell_type": "markdown",
      "metadata": {
        "id": "beginning-marine"
      },
      "source": [
        "#### 3. Calcular la soma de numeros (1+2+3+4+5+6+7+8+9+10) usando \"for loop\" y guarda resultado en variable \"my_result\""
      ],
      "id": "beginning-marine"
    },
    {
      "cell_type": "code",
      "metadata": {
        "id": "neither-segment",
        "colab": {
          "base_uri": "https://localhost:8080/"
        },
        "outputId": "d57e4ae1-e379-4b89-efb9-765952c1acdd"
      },
      "source": [
        "# tu codigo aqui:\n",
        "my_result=0\n",
        "for i in range(1,11):\n",
        "  my_result=my_result+i\n",
        "  \n",
        "print(my_result)\n"
      ],
      "id": "neither-segment",
      "execution_count": null,
      "outputs": [
        {
          "output_type": "stream",
          "name": "stdout",
          "text": [
            "55\n"
          ]
        }
      ]
    },
    {
      "cell_type": "markdown",
      "metadata": {
        "id": "indoor-roots"
      },
      "source": [
        "#### 4. Calcular la soma de numeros (1+2+3+4+5+6+7+8+9+10) usando \"while loop\" y guardar resultado en variable \"my_result\""
      ],
      "id": "indoor-roots"
    },
    {
      "cell_type": "code",
      "metadata": {
        "id": "infrared-respondent",
        "colab": {
          "base_uri": "https://localhost:8080/"
        },
        "outputId": "748121dc-3682-4a1a-8fad-c8302e7bf8dc"
      },
      "source": [
        "# tu codigo aqui:\n",
        "my_result=0\n",
        "i=1\n",
        "while (i<11):\n",
        "  my_result=my_result+i\n",
        "  i=i+1\n",
        "\n",
        "print(my_result)"
      ],
      "id": "infrared-respondent",
      "execution_count": null,
      "outputs": [
        {
          "output_type": "stream",
          "name": "stdout",
          "text": [
            "55\n"
          ]
        }
      ]
    },
    {
      "cell_type": "markdown",
      "metadata": {
        "id": "polished-reason"
      },
      "source": [
        "#### 5. Calcular la soma de numeros par (2+4+6+8+10.. + ...100) usando \"for loop\" y guardar resultado en variable \"my_result\" (pista: usa condicion \"if\" y \"%\")"
      ],
      "id": "polished-reason"
    },
    {
      "cell_type": "code",
      "metadata": {
        "id": "asian-publisher",
        "colab": {
          "base_uri": "https://localhost:8080/"
        },
        "outputId": "819ed500-acbd-489a-a1d6-1b7c346664c1"
      },
      "source": [
        "# tu codigo aqui:\n",
        "my_result=0\n",
        "for i in range(0,101):\n",
        "  if  (i%2==0):\n",
        "    my_result=my_result+i\n",
        "  else:\n",
        "    my_result=my_result\n",
        "  \n",
        "  \n",
        "print(my_result)"
      ],
      "id": "asian-publisher",
      "execution_count": null,
      "outputs": [
        {
          "output_type": "stream",
          "name": "stdout",
          "text": [
            "2550\n"
          ]
        }
      ]
    },
    {
      "cell_type": "markdown",
      "metadata": {
        "id": "accepted-jacksonville"
      },
      "source": [
        "#### 6. Calcular la soma de numeros impar (1+3+5+7+9+... + ...99) usando \"while loop\" y guardar resultado en variable \"my_result\" (pista: usa condicion \"if\" y \"%\")"
      ],
      "id": "accepted-jacksonville"
    },
    {
      "cell_type": "code",
      "metadata": {
        "id": "assigned-parameter",
        "colab": {
          "base_uri": "https://localhost:8080/"
        },
        "outputId": "c4593fbe-2438-491e-d1fd-0c4ea4172f09"
      },
      "source": [
        "# tu codigo aqui:\n",
        "my_result=0\n",
        "i=1\n",
        "while (i<100):\n",
        "  if  (i%2==0):\n",
        "    my_result=my_result\n",
        "  else:\n",
        "    my_result=my_result+i\n",
        "  i=i+1\n",
        "\n",
        "print(my_result)"
      ],
      "id": "assigned-parameter",
      "execution_count": null,
      "outputs": [
        {
          "output_type": "stream",
          "name": "stdout",
          "text": [
            "2500\n"
          ]
        }
      ]
    },
    {
      "cell_type": "markdown",
      "metadata": {
        "id": "crucial-treat"
      },
      "source": [
        "#### 7. Definir una function que se llama func_sum_even_odd(b) que recibe un parametro \"b\" - valor numerico. La funcion calcula soma de numeros pares y numeros impares separamente entre 0 y b (los dos valores incluidos) . La funcion guarda resultados en dos variables en sum_even, sum_odd y devuelve ambos usando \"return\". (usa metodo: while)\n",
        "\n",
        "ejemplo de ejecucion:   \n",
        "sum_even,sum_odd = func_sum_even_odd(10)  \n",
        "print(sum_even,sum_odd)  \n",
        "30,25  \n",
        "\n",
        "#### Pero si \"b\" no es ni integer ni float funcion devuelve sum_even=0,y sum_odd=0 y imprime mensaje: \"argument must be an integer or float\"   (usa: \"isinstance\" o negacion de isinstance: \"not isinstance\" conjunto con operador logico \"or\" para verificar si el argumento es int of float)\n",
        "\n",
        "ejemplo de ejecucion:  \n",
        "sum_even,sum_odd = func_sum_even_odd('z')  \n",
        "\"argument must be an integer or float\"  "
      ],
      "id": "crucial-treat"
    },
    {
      "cell_type": "code",
      "metadata": {
        "id": "comparative-corruption",
        "colab": {
          "base_uri": "https://localhost:8080/"
        },
        "outputId": "3a9e75ca-5ab4-419f-8442-3278803210df"
      },
      "source": [
        "# tu codigo aqui\n",
        "\n",
        "def func_sum_even_odd(b):\n",
        " sum_even=0\n",
        " sum_odd=0\n",
        " i=0\n",
        " while i<b+1:\n",
        "        if i%2==0:\n",
        "          sum_even+=i\n",
        "          i+=1\n",
        "        else:\n",
        "          sum_odd+=i\n",
        "          i+=1\n",
        " return sum_even, sum_odd\n",
        "\n",
        "b=input(print(\"por favor digite el valor\"))\n",
        "try:\n",
        "  try:\n",
        "   b=int(b)\n",
        "\n",
        "  except:\n",
        "   b=float(b)\n",
        "   b=int(b)\n",
        "  \n",
        "  sum_even, sum_odd=func_sum_even_odd(b)\n",
        "  print(sum_even,sum_odd) \n",
        "except:    \n",
        "  print(\"sum_even=0\")   \n",
        "  print()\n",
        "  print(\"sum_odd=0\")\n",
        "  print()\n",
        "  print(\"argument must be an integer or float\")\n"
      ],
      "id": "comparative-corruption",
      "execution_count": null,
      "outputs": [
        {
          "output_type": "stream",
          "name": "stdout",
          "text": [
            "por favor digite el valor\n",
            "10\n",
            "30 25\n"
          ]
        }
      ]
    },
    {
      "cell_type": "markdown",
      "metadata": {
        "id": "contemporary-exemption"
      },
      "source": [
        "#### 8. Modifica funcion anterior y usa conjunto: try:... except:... (mira arriva en el texto de la classe)\n",
        "try:   \n",
        "--->intenta hacer si no sale error  \n",
        "except:  \n",
        "--->hace otra cosa si sale error    "
      ],
      "id": "contemporary-exemption"
    },
    {
      "cell_type": "code",
      "metadata": {
        "id": "dominican-tomato",
        "colab": {
          "base_uri": "https://localhost:8080/"
        },
        "outputId": "e766fb5a-93d8-4c51-fc80-53a755885ad9"
      },
      "source": [
        "# tu codigo aqui\n",
        "def func_sum_even_odd(b):\n",
        " sum_even=0\n",
        " sum_odd=0\n",
        " i=0\n",
        " while i<b+1:\n",
        "        if i%2==0:\n",
        "          sum_even+=i\n",
        "          i+=1\n",
        "        else:\n",
        "          sum_odd+=i\n",
        "          i+=1\n",
        " return sum_even, sum_odd\n",
        "\n",
        "b=input(print(\"por favor digite el valor\"))\n",
        "try:\n",
        "  try:\n",
        "   b=int(b)\n",
        "\n",
        "  except:\n",
        "   b=float(b)\n",
        "   b=int(b)\n",
        "  \n",
        "  sum_even, sum_odd=func_sum_even_odd(b)\n",
        "  print(sum_even,sum_odd) \n",
        "except:    \n",
        "  print(\"sum_even=0\")   \n",
        "  print()\n",
        "  print(\"sum_odd=0\")\n",
        "  print()\n",
        "  print(\"argument must be an integer or float\")"
      ],
      "id": "dominican-tomato",
      "execution_count": null,
      "outputs": [
        {
          "output_type": "stream",
          "name": "stdout",
          "text": [
            "por favor digite el valor\n",
            "a\n",
            "sum_even=0\n",
            "\n",
            "sum_odd=0\n",
            "\n",
            "argument must be an integer or float\n"
          ]
        }
      ]
    }
  ]
}