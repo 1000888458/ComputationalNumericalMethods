{
 "cells": [
  {
   "cell_type": "markdown",
   "metadata": {
    "id": "F_TunaVCweaA"
   },
   "source": [
    "Bisection Method"
   ]
  },
  {
   "cell_type": "code",
   "execution_count": 1,
   "metadata": {
    "colab": {
     "base_uri": "https://localhost:8080/"
    },
    "id": "wqd3uvhptmvi",
    "outputId": "743a1ad4-336c-420f-e5a3-30973935aacd"
   },
   "outputs": [
    {
     "data": {
      "text/plain": [
       "3.31658935546875"
      ]
     },
     "execution_count": 1,
     "metadata": {},
     "output_type": "execute_result"
    }
   ],
   "source": [
    "import numpy as np\n",
    "import sympy as sp\n",
    "from matplotlib import pyplot as plt\n",
    "\n",
    "x = sp.Symbol('x')\n",
    "x_n=[]\n",
    "\n",
    "def Bisection(f,a,b,tol):\n",
    "    xn = (a+b)/2\n",
    "    global x_n\n",
    "    while True:\n",
    "        if b-a<tol:\n",
    "            x_n.append(xn)\n",
    "            return xn\n",
    "        elif f.subs(x,a)*f.subs(x,xn)<0:\n",
    "            b=xn\n",
    "        else:\n",
    "            a=xn\n",
    "        xn = abs((a+b)/2)\n",
    "        x_n.append(xn)\n",
    "\n",
    "    return xn\n",
    "\n",
    "Bisection(x**2-11, 3, 17, 0.001)"
   ]
  },
  {
   "cell_type": "markdown",
   "metadata": {
    "id": "I2LsMSCTwaqE"
   },
   "source": [
    "Newton-Rapson method"
   ]
  },
  {
   "cell_type": "code",
   "execution_count": 3,
   "metadata": {
    "id": "XsUX-2O7wImu"
   },
   "outputs": [],
   "source": [
    "from sympy import Float \n",
    "#Loop while for Newton-Rapson method\n",
    "x = sp.Symbol('x')\n",
    "x_n=[]\n",
    "\n",
    "def Newton_Rapson(f,xr,tol):\n",
    "    \n",
    "    derivate = sp.diff(f,x)\n",
    "    xn = xr-f.subs(x,xr)/derivate.subs(x,xr)\n",
    "    global x_n\n",
    "    while True:\n",
    "        if xr-xn<tol:\n",
    "            x_n.append(xn)\n",
    "            return xn \n",
    "        else:\n",
    "            xr=xn\n",
    "        xn = Float(xr-f.subs(x,xr)/derivate.subs(x,xr))\n",
    "        x_n.append(xn)\n",
    "    return xn"
   ]
  },
  {
   "cell_type": "code",
   "execution_count": 4,
   "metadata": {
    "colab": {
     "base_uri": "https://localhost:8080/",
     "height": 37
    },
    "id": "t9uRK3TMwMN9",
    "outputId": "958a5f94-86f2-401a-dfc1-8af86d9d40cd"
   },
   "outputs": [
    {
     "data": {
      "text/latex": [
       "$\\displaystyle 3.31662479036886$"
      ],
      "text/plain": [
       "3.31662479036886"
      ]
     },
     "execution_count": 4,
     "metadata": {},
     "output_type": "execute_result"
    }
   ],
   "source": [
    "Newton_Rapson(x**2-11,16,0.0001)"
   ]
  },
  {
   "cell_type": "code",
   "execution_count": 6,
   "metadata": {
    "colab": {
     "base_uri": "https://localhost:8080/",
     "height": 267
    },
    "id": "-umWne-RwvMQ",
    "outputId": "b5499657-906b-49fd-c3ec-c7e9fb0c5eb9"
   },
   "outputs": [
    {
     "data": {
      "image/png": "[encoded data removed]",
      "text/plain": [
       "<Figure size 432x288 with 1 Axes>"
      ]
     },
     "metadata": {
      "needs_background": "light"
     },
     "output_type": "display_data"
    }
   ],
   "source": [
    "x=np.linspace(-5,5,100)\n",
    "fig,ax = plt.subplots(1,1)\n",
    "ax.plot(x,(x**2)-11)\n",
    "ax.grid('True')"
   ]
  }
 ],
 "metadata": {
  "colab": {
   "name": "Root_findingipynb",
   "provenance": []
  },
  "kernelspec": {
   "display_name": "Python 3",
   "language": "python",
   "name": "python3"
  },
  "language_info": {
   "codemirror_mode": {
    "name": "ipython",
    "version": 3
   },
   "file_extension": ".py",
   "mimetype": "text/x-python",
   "name": "python",
   "nbconvert_exporter": "python",
   "pygments_lexer": "ipython3",
   "version": "3.7.2"
  }
 },
 "nbformat": 4,
 "nbformat_minor": 1
}
