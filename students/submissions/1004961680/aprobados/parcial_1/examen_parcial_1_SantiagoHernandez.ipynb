{
 "cells": [
  {
   "cell_type": "markdown",
   "metadata": {
    "id": "neWzEdM0knDq"
   },
   "source": [
    "Ejercicio 1 a"
   ]
  },
  {
   "cell_type": "code",
   "execution_count": 1,
   "metadata": {
    "colab": {
     "base_uri": "https://localhost:8080/"
    },
    "id": "kdhiuaJYj1v7",
    "outputId": "b3fdfc07-8747-48d0-a206-aef025a286dc"
   },
   "outputs": [
    {
     "data": {
      "text/plain": [
       "0.9800666666666666"
      ]
     },
     "execution_count": 1,
     "metadata": {},
     "output_type": "execute_result"
    }
   ],
   "source": [
    "#1 \n",
    "import math\n",
    "result1=0\n",
    "for k in range(0,3):\n",
    "  term=((-1)**k)*(0.2**(2*k))/(math.factorial(2*k))\n",
    "  result1+=term\n",
    "\n",
    "result1"
   ]
  },
  {
   "cell_type": "code",
   "execution_count": 2,
   "metadata": {
    "colab": {
     "base_uri": "https://localhost:8080/"
    },
    "id": "XmQoFxR1nmJD",
    "outputId": "b9b7d576-138e-4356-898a-8ed1ff17f0fb"
   },
   "outputs": [
    {
     "data": {
      "text/plain": [
       "0.9800666666666666"
      ]
     },
     "execution_count": 2,
     "metadata": {},
     "output_type": "execute_result"
    }
   ],
   "source": [
    "import math\n",
    "comparacion=1-((0.2**2)/math.factorial(2))+((0.2**4)/math.factorial(4))\n",
    "comparacion"
   ]
  },
  {
   "cell_type": "code",
   "execution_count": 3,
   "metadata": {
    "colab": {
     "base_uri": "https://localhost:8080/"
    },
    "id": "eYjqDaQcn_vE",
    "outputId": "ee5dcc7d-550a-4d76-c164-0ba53ee9996c"
   },
   "outputs": [
    {
     "data": {
      "text/plain": [
       "0.9800666666666666"
      ]
     },
     "execution_count": 3,
     "metadata": {},
     "output_type": "execute_result"
    }
   ],
   "source": [
    "#2\n",
    "import math\n",
    "def cos_taylor(x,k):\n",
    "  result2=0\n",
    "  for k in range(0,k+1):\n",
    "    term2=((-1)**k)*(x**(2*k))/(math.factorial(2*k))\n",
    "    result2+=term2\n",
    "  return result2\n",
    "\n",
    "cos_taylor(0.2,2)"
   ]
  },
  {
   "cell_type": "code",
   "execution_count": 4,
   "metadata": {
    "id": "OBoR_QitpWqy"
   },
   "outputs": [],
   "source": [
    "#3\n",
    "import numpy as np\n",
    "\n",
    "xvec=np.linspace(-np.pi,np.pi,100)\n",
    "cos_approx=[]\n",
    "for i in xvec:\n",
    "  a=cos_taylor(i,3)\n",
    "  cos_approx.append(a)\n"
   ]
  },
  {
   "cell_type": "code",
   "execution_count": 5,
   "metadata": {
    "colab": {
     "base_uri": "https://localhost:8080/",
     "height": 352
    },
    "id": "fS9SqzU4sCQP",
    "outputId": "9b4370a6-0fcc-4bfb-b9d8-c2de6e448d7a"
   },
   "outputs": [
    {
     "data": {
      "text/plain": [
       "<matplotlib.legend.Legend at 0x7f1cb0fd8390>"
      ]
     },
     "execution_count": 5,
     "metadata": {},
     "output_type": "execute_result"
    },
    {
     "data": {
      "image/png": "[encoded data removed]",
      "text/plain": [
       "<Figure size 504x360 with 1 Axes>"
      ]
     },
     "metadata": {
      "needs_background": "light"
     },
     "output_type": "display_data"
    }
   ],
   "source": [
    "#4\n",
    "import matplotlib.pyplot as plt\n",
    "import numpy as np\n",
    "\n",
    "fig,ax=plt.subplots(1,1,figsize=(7,5))\n",
    "ax.plot(xvec,cos_approx,label=\"Taylor approximation\")\n",
    "ax.plot(xvec,np.cos(xvec),label=\"cos(x)\")\n",
    "ax.set_xlabel(\"xvec\")\n",
    "ax.legend()"
   ]
  },
  {
   "cell_type": "markdown",
   "metadata": {
    "id": "WwvDGNwpujwq"
   },
   "source": [
    "Ejercicio 1 b"
   ]
  },
  {
   "cell_type": "code",
   "execution_count": 8,
   "metadata": {
    "colab": {
     "base_uri": "https://localhost:8080/"
    },
    "id": "SlEOJWhbulWI",
    "outputId": "d553a01a-837e-47fa-f0d6-e0eafe6156fd"
   },
   "outputs": [],
   "source": [
    "#1\n",
    "#from google.colab import drive \n",
    "import pandas as pd\n",
    "import scipy.io\n",
    "\n",
    "#drive.mount('/content/gdrive')\n",
    "\n",
    "\n",
    "imgs_dict = scipy.io.loadmat(\"images_32x32.mat\")\n"
   ]
  },
  {
   "cell_type": "code",
   "execution_count": 9,
   "metadata": {
    "colab": {
     "base_uri": "https://localhost:8080/"
    },
    "id": "b-iRoRgPwN-5",
    "outputId": "b0cd63db-87f2-4937-9f4a-b111bcf53952"
   },
   "outputs": [
    {
     "data": {
      "text/plain": [
       "dict_keys(['__header__', '__version__', '__globals__', 'X', 'y'])"
      ]
     },
     "execution_count": 9,
     "metadata": {},
     "output_type": "execute_result"
    }
   ],
   "source": [
    "#2\n",
    "imgs_dict.keys()"
   ]
  },
  {
   "cell_type": "code",
   "execution_count": 10,
   "metadata": {
    "colab": {
     "base_uri": "https://localhost:8080/"
    },
    "id": "FwdL161LyPFY",
    "outputId": "76e741c5-a2bd-41af-e192-1888b040e565"
   },
   "outputs": [
    {
     "data": {
      "text/plain": [
       "32"
      ]
     },
     "execution_count": 10,
     "metadata": {},
     "output_type": "execute_result"
    }
   ],
   "source": [
    "len(imgs_dict[\"X\"])"
   ]
  },
  {
   "cell_type": "code",
   "execution_count": 11,
   "metadata": {
    "colab": {
     "base_uri": "https://localhost:8080/"
    },
    "id": "Lt08-5y6yxMk",
    "outputId": "fe32dcd2-e122-46b7-80c5-fc30f89c5d81"
   },
   "outputs": [
    {
     "data": {
      "text/plain": [
       "26032"
      ]
     },
     "execution_count": 11,
     "metadata": {},
     "output_type": "execute_result"
    }
   ],
   "source": [
    "len(imgs_dict[\"y\"])"
   ]
  },
  {
   "cell_type": "code",
   "execution_count": null,
   "metadata": {},
   "outputs": [],
   "source": []
  },
  {
   "cell_type": "code",
   "execution_count": null,
   "metadata": {},
   "outputs": [],
   "source": []
  },
  {
   "cell_type": "code",
   "execution_count": null,
   "metadata": {},
   "outputs": [],
   "source": [
    "# Comentarios:\n",
    "\n",
    "# Exercise 1:\n",
    "#   compilation (max: 2.5p):                     2.5p   \n",
    "#   correctness of the result (max: 2.5p):       2.5p \n",
    "#   implementation of the function (max: 2.5p):  2.5p \n",
    "#   plot (max: 2.5p):                            2.5p \n",
    "\n",
    "# TOTAL:                                         10p (out of 10p)  \n"
   ]
  }
 ],
 "metadata": {
  "colab": {
   "collapsed_sections": [],
   "name": "examen_parcial_1_SantiagoHernandez.ipynb",
   "provenance": []
  },
  "kernelspec": {
   "display_name": "Python 3",
   "language": "python",
   "name": "python3"
  },
  "language_info": {
   "codemirror_mode": {
    "name": "ipython",
    "version": 3
   },
   "file_extension": ".py",
   "mimetype": "text/x-python",
   "name": "python",
   "nbconvert_exporter": "python",
   "pygments_lexer": "ipython3",
   "version": "3.7.2"
  }
 },
 "nbformat": 4,
 "nbformat_minor": 1
}
