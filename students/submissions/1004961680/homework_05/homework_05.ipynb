{
  "nbformat": 4,
  "nbformat_minor": 0,
  "metadata": {
    "colab": {
      "name": "Homework_05.ipynb",
      "provenance": [],
      "collapsed_sections": []
    },
    "kernelspec": {
      "name": "python3",
      "display_name": "Python 3"
    },
    "language_info": {
      "name": "python"
    }
  },
  "cells": [
    {
      "cell_type": "code",
      "execution_count": 1,
      "metadata": {
        "id": "8rQ2Mm0IxS_o"
      },
      "outputs": [],
      "source": [
        "import numpy as np\n",
        "\n",
        "def cuadratic_interp(x,y,xInt): \n",
        "  Y=np.array(y) \n",
        "  X=np.array(x)\n",
        "\n",
        "  b0=Y[0]\n",
        "  b1=(Y[1]-Y[0])/(X[1]-X[0])\n",
        "  b2=((Y[2]-Y[1])/(X[2]-X[1])-(Y[1]-Y[0])/(X[1]-X[0]))/(X[2]-X[0])\n",
        "  \n",
        "  \n",
        "  result = b0 + b1*(xInt-X[0]) + b2*(xInt-X[0])*(xInt-X[1]) \n",
        "  return result"
      ]
    }
  ]
}