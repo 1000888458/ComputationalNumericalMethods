{
  "nbformat": 4,
  "nbformat_minor": 0,
  "metadata": {
    "colab": {
      "name": "homework_07.ipynb",
      "provenance": []
    },
    "kernelspec": {
      "name": "python3",
      "display_name": "Python 3"
    },
    "language_info": {
      "name": "python"
    }
  },
  "cells": [
    {
      "cell_type": "code",
      "execution_count": 1,
      "metadata": {
        "id": "ZFeoCDHlIuNn"
      },
      "outputs": [],
      "source": [
        "import numpy as np\n",
        "import math\n",
        "import random\n",
        "from sympy import Symbol  \n",
        "\n",
        "\n",
        "\n",
        "def INT(x):\n",
        "    return (((15*x**3)+(21*x**2)+(41*x)+3)**1/4)*(math.e)**-0.5*x    \n",
        "\n",
        "\n",
        "def integral_monte_carlo_1D(integrand,lim1,lim2,N):\n",
        "  E=0              \n",
        "  for i in range(N):\n",
        "    x=np.random.uniform(lim1,lim2)\n",
        "    E=E+integrand(x)\n",
        "  \n",
        "  E=E/N\n",
        "  I=-E*(lim1-lim2)\n",
        "\n",
        "  return I"
      ]
    },
    {
      "cell_type": "code",
      "source": [
        "integral_monte_carlo_1D(INT,0,4,100000)"
      ],
      "metadata": {
        "colab": {
          "base_uri": "https://localhost:8080/"
        },
        "id": "-wkwgP8OI_Gy",
        "outputId": "9fdd0cea-30d1-411c-95d3-eb9cd7217626"
      },
      "execution_count": 2,
      "outputs": [
        {
          "output_type": "execute_result",
          "data": {
            "text/plain": [
              "805.5698076853157"
            ]
          },
          "metadata": {},
          "execution_count": 2
        }
      ]
    },
    {
      "cell_type": "code",
      "source": [
        "import scipy.integrate as integrate\n",
        "I,error = integrate.quad(INT,0,4)\n",
        "print(I)"
      ],
      "metadata": {
        "colab": {
          "base_uri": "https://localhost:8080/"
        },
        "id": "3GBxlKlXJBXd",
        "outputId": "639c4f85-4354-402d-f07c-423561833893"
      },
      "execution_count": 3,
      "outputs": [
        {
          "output_type": "stream",
          "name": "stdout",
          "text": [
            "805.8770698715189\n"
          ]
        }
      ]
    }
  ]
}