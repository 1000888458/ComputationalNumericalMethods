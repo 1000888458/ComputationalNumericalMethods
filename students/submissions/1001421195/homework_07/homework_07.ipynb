{
  "nbformat": 4,
  "nbformat_minor": 0,
  "metadata": {
    "colab": {
      "name": "homework_07.ipynb",
      "provenance": []
    },
    "kernelspec": {
      "name": "python3",
      "display_name": "Python 3"
    },
    "language_info": {
      "name": "python"
    }
  },
  "cells": [
    {
      "cell_type": "code",
      "source": [
        "def integrand(x):\n",
        "  import numpy as np\n",
        "  result=((15*x**3+21*x**2+41*x+3)**(1/4))*np.exp(-0.5*x)\n",
        "  return result"
      ],
      "metadata": {
        "id": "IJ9LtUmENlr5"
      },
      "execution_count": 1,
      "outputs": []
    },
    {
      "cell_type": "code",
      "source": [
        "\n",
        "def integral_monte_carlo_1D(integrand,lim1,lim2,N):\n",
        "  import numpy as np\n",
        "  E= 0\n",
        "  x= np.random.uniform(lim1,lim2,N)\n",
        "  I = np.mean(integrand(x))*(lim2-lim1)\n",
        "  return I"
      ],
      "metadata": {
        "id": "kDEvCJ6nK2V6"
      },
      "execution_count": 2,
      "outputs": []
    },
    {
      "cell_type": "code",
      "source": [
        "integral_monte_carlo_1D(integrand, 0, 4, 100000)"
      ],
      "metadata": {
        "colab": {
          "base_uri": "https://localhost:8080/"
        },
        "id": "P_4MA8fMLcgA",
        "outputId": "3101ca09-0009-4b9f-e0af-0457a3712706"
      },
      "execution_count": 3,
      "outputs": [
        {
          "output_type": "execute_result",
          "data": {
            "text/plain": [
              "5.766603457804907"
            ]
          },
          "metadata": {},
          "execution_count": 3
        }
      ]
    },
    {
      "cell_type": "code",
      "source": [
        "import scipy.integrate as integrate\n",
        "I,error = integrate.quad(integrand,0,4)\n",
        "print(I)"
      ],
      "metadata": {
        "colab": {
          "base_uri": "https://localhost:8080/"
        },
        "id": "py-ruoU5LdVd",
        "outputId": "07313e68-ee1d-41c2-ca09-3f4a70ab1222"
      },
      "execution_count": 4,
      "outputs": [
        {
          "output_type": "stream",
          "name": "stdout",
          "text": [
            "5.767433490695931\n"
          ]
        }
      ]
    }
  ]
}