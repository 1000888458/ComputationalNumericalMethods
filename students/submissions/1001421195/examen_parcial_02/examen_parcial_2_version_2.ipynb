{
 "cells": [
  {
   "cell_type": "markdown",
   "id": "plain-rugby",
   "metadata": {
    "id": "plain-rugby"
   },
   "source": [
    "# Examen parcial 2 (raizes y ~interpolacion)\n",
    "* Antes de enviar el archivo, $\\textbf{reiniciar y ejecutar el kernel}$ para ver que el archivo se compila sin errores\n",
    "* enviar el archivo jupyter sin anexos antes de las 10am del 04.03.2022 a mi dirección de correo electrónico: michal.hemmerling@udea.edu.co "
   ]
  },
  {
   "cell_type": "markdown",
   "id": "usual-washer",
   "metadata": {
    "id": "usual-washer"
   },
   "source": [
    "# Ejercicio"
   ]
  },
  {
   "cell_type": "markdown",
   "id": "complete-chester",
   "metadata": {
    "id": "complete-chester"
   },
   "source": [
    "Bajo ciertas condiciones, los dispositivos ópticos como los láseres pueden mostrar un comportamiento complejo en el perfil del rayo de luz.\n",
    "\n",
    "\n",
    "<table><tr>\n",
    "<td> <img src=\"imgs/nonlinear_behaviour.png\" width=\"600\" /> </td>\n",
    "</tr></table>\n",
    " \n",
    "Para un dispositivo óptico particular que consiste en un medio no lineal dentro de una cavidad óptica, esto sólo ocurre cuando la intensidad I se encuentra dentro de un cierto rango que está dado por la ecuación: \n",
    "\n",
    "$$f(x)=(x+1)^2 - c(x-1) < 0 $$\n",
    "\n",
    "donde $x$ es la intensidad del campo eléctrico y $c$ es la fuerza de la absorción del \n",
    "medio no lineal. "
   ]
  },
  {
   "cell_type": "markdown",
   "id": "pretty-conference",
   "metadata": {
    "id": "pretty-conference"
   },
   "source": [
    "## 1. \n",
    "Cree una función llamada `f_cost` que reciba dos parámetros (x,c) y solo devuelva la función f(x) como se mencionó anteriormente."
   ]
  },
  {
   "cell_type": "code",
   "execution_count": 1,
   "id": "valuable-august",
   "metadata": {
    "id": "valuable-august"
   },
   "outputs": [],
   "source": [
    "def f_cost(x,c):\n",
    "  f=(((x+1)**2)-c*(x-1))\n",
    "  return f"
   ]
  },
  {
   "cell_type": "code",
   "execution_count": 2,
   "id": "s_vz5QvoJbws",
   "metadata": {
    "colab": {
     "base_uri": "https://localhost:8080/"
    },
    "id": "s_vz5QvoJbws",
    "outputId": "300b4ef6-2dbd-466e-e3f6-4c2d01a45fcc"
   },
   "outputs": [
    {
     "data": {
      "text/plain": [
       "6"
      ]
     },
     "execution_count": 2,
     "metadata": {},
     "output_type": "execute_result"
    }
   ],
   "source": [
    "f_cost(2,3)"
   ]
  },
  {
   "cell_type": "markdown",
   "id": "broken-belfast",
   "metadata": {
    "id": "broken-belfast"
   },
   "source": [
    "## 2. \n",
    "Usando funcion `f_cost` haz un gráfico con cuatro curvas para c=5,10,15,20 y con x entre -10,20 (100 puntos)\n",
    "* hacer que cada curva sea de un color diferente\n",
    "* añadir etiquetas"
   ]
  },
  {
   "cell_type": "code",
   "execution_count": 3,
   "id": "written-adrian",
   "metadata": {
    "colab": {
     "base_uri": "https://localhost:8080/",
     "height": 264
    },
    "id": "written-adrian",
    "outputId": "21242200-ff01-4f49-d93d-dec04d658eb1"
   },
   "outputs": [
    {
     "data": {
      "image/png": "[encoded data removed]",
      "text/plain": [
       "<Figure size 432x288 with 1 Axes>"
      ]
     },
     "metadata": {
      "needs_background": "light"
     },
     "output_type": "display_data"
    }
   ],
   "source": [
    "# tu codigo:\n",
    "import numpy as np\n",
    "import matplotlib.pyplot as plt\n",
    "import sympy as sp\n",
    "import scipy.optimize as optimize\n",
    "\n",
    "\n",
    "x=np.linspace(-10,20,100)\n",
    "c=[5,10,15,20]\n",
    "r=[]\n",
    "\n",
    "for j in c:\n",
    "  result=f_cost(x,j)\n",
    "  r.append(result)\n",
    "  plt.plot(x, result, label=\"c={}\".format(j))\n",
    "  plt.legend()\n"
   ]
  },
  {
   "cell_type": "markdown",
   "id": "dietary-steel",
   "metadata": {
    "id": "dietary-steel"
   },
   "source": [
    "## 2a. Para cual `c` esta funcion no tiene raices?"
   ]
  },
  {
   "cell_type": "code",
   "execution_count": 4,
   "id": "handy-teaching",
   "metadata": {
    "colab": {
     "base_uri": "https://localhost:8080/"
    },
    "id": "handy-teaching",
    "outputId": "fb738c30-964c-4ace-b6c8-eeb188959701"
   },
   "outputs": [
    {
     "name": "stdout",
     "output_type": "stream",
     "text": [
      "La función no tiene raices para un c=5\n"
     ]
    }
   ],
   "source": [
    "# tu respuesta\n",
    "print(\"La función no tiene raices para un c=5\")\n"
   ]
  },
  {
   "cell_type": "markdown",
   "id": "hollywood-respondent",
   "metadata": {
    "id": "hollywood-respondent"
   },
   "source": [
    "## 3. \n",
    "Cree una función llamada `root_finding()` que devuelva el valor de la raíz (si existiera) para cada parametro `c` (pense `Newton` o `bisecion`). Usando esta funcion vamos a buscar primero raiz izquierda y despues raiz derecha."
   ]
  },
  {
   "cell_type": "code",
   "execution_count": 5,
   "id": "korean-mistake",
   "metadata": {
    "id": "korean-mistake"
   },
   "outputs": [],
   "source": [
    "# tu codigo:\n",
    "x=np.linspace(-10,20,50)\n",
    "c=np.arange(5,21,5)\n",
    "def root_finding(f_cost,start,final,c):\n",
    "   try:\n",
    "     root=optimize.brentq(f_cost,start,final,args=(c,))\n",
    "   except:\n",
    "     root=np.nan\n",
    "   return root "
   ]
  },
  {
   "cell_type": "markdown",
   "id": "improving-vault",
   "metadata": {
    "id": "improving-vault"
   },
   "source": [
    "## 4a. \n",
    "Primero vamos a mirar el comportamiento de raiz de lado izquierda: Defina el vector `c_vec` que contiene 50 valores de 5 a 100. En el loop, llame a la función `root_finding()` para cada valor `c` en el vector `c_vec`. Guarda los resultados en variable `left_roots`"
   ]
  },
  {
   "cell_type": "code",
   "execution_count": 6,
   "id": "aging-binary",
   "metadata": {
    "colab": {
     "base_uri": "https://localhost:8080/"
    },
    "id": "aging-binary",
    "outputId": "f1be53b6-6de2-41cd-fe14-1a4a452797a5"
   },
   "outputs": [
    {
     "data": {
      "text/plain": [
       "array([       nan,        nan,        nan, 1.6485298 , 1.48358737,\n",
       "       1.38813305, 1.32500106, 1.27988581, 1.24593793, 1.21942389,\n",
       "       1.19812148, 1.18062026, 1.16597974, 1.15354772, 1.14285714,\n",
       "       1.13356454, 1.12541152, 1.11819987, 1.11177498, 1.10601441,\n",
       "       1.10081994, 1.09611186, 1.09182476, 1.08790449, 1.08430582,\n",
       "       1.08099068, 1.07792678, 1.07508656, 1.07244635, 1.06998574,\n",
       "       1.06768696, 1.06553455, 1.06351495, 1.06161622, 1.05982781,\n",
       "       1.05814038, 1.0565456 , 1.05503603, 1.05360503, 1.05224661,\n",
       "       1.05095537, 1.04972646, 1.04855547, 1.04743838, 1.04637157,\n",
       "       1.04535171, 1.04437576, 1.04344095, 1.04254474, 1.04168477])"
      ]
     },
     "execution_count": 6,
     "metadata": {},
     "output_type": "execute_result"
    }
   ],
   "source": [
    "# tu codigo:\n",
    "\n",
    "izquierda=[]\n",
    "start=-5\n",
    "final=5\n",
    "c_vec=np.linspace(5,100,50)\n",
    "\n",
    "for c in c_vec:\n",
    "  try:\n",
    "    root=root_finding(f_cost,start,final,c)\n",
    "  except:\n",
    "    root:np.nan\n",
    "  izquierda.append(root)\n",
    "\n",
    "izquierda=np.array(izquierda)\n",
    "izquierda"
   ]
  },
  {
   "cell_type": "markdown",
   "id": "another-jacksonville",
   "metadata": {
    "id": "another-jacksonville"
   },
   "source": [
    "## 4b \n",
    "Hacer un gráfico de raíz izquierda vs c"
   ]
  },
  {
   "cell_type": "code",
   "execution_count": 7,
   "id": "impaired-miniature",
   "metadata": {
    "colab": {
     "base_uri": "https://localhost:8080/",
     "height": 314
    },
    "id": "impaired-miniature",
    "outputId": "997c7bc3-a6c9-4777-a182-d8f09aedd35c"
   },
   "outputs": [
    {
     "data": {
      "text/plain": [
       "Text(0, 0.5, ' raiz')"
      ]
     },
     "execution_count": 7,
     "metadata": {},
     "output_type": "execute_result"
    },
    {
     "data": {
      "image/png": "[encoded data removed]",
      "text/plain": [
       "<Figure size 432x288 with 1 Axes>"
      ]
     },
     "metadata": {
      "needs_background": "light"
     },
     "output_type": "display_data"
    }
   ],
   "source": [
    "# tu codigo:\n",
    "plt.plot(c_vec,izquierda, \"mo\")\n",
    "plt.title(\"Raices a izquierda\")\n",
    "plt.xlabel(\"vector c_vec\")\n",
    "plt.ylabel(\" raiz\")"
   ]
  },
  {
   "cell_type": "markdown",
   "id": "seasonal-seafood",
   "metadata": {
    "id": "seasonal-seafood"
   },
   "source": [
    "## 5a. \n",
    "Ahora vamos a mirar el comportamiento de raiz de lado derecha: Defina el vector `c_vec` que contiene 50 valores de 5 a 100. En el loop, llame a la función `root_finding()` para cada valor `c` en el vector `c_vec`. Guarda los resultados en variable `right_roots`."
   ]
  },
  {
   "cell_type": "code",
   "execution_count": 8,
   "id": "mobile-finger",
   "metadata": {
    "colab": {
     "base_uri": "https://localhost:8080/"
    },
    "id": "mobile-finger",
    "outputId": "7e324d6e-e0b5-4cc5-dacf-a0dddfbd9d16"
   },
   "outputs": [
    {
     "data": {
      "text/plain": [
       "array([        nan,         nan,         nan,  7.16779673,  9.27151467,\n",
       "       11.30574451, 13.307652  , 15.29154276, 17.26426615, 19.2295557 ,\n",
       "       21.18963363, 23.14591036, 25.09932638, 27.05053392, 29.        ,\n",
       "       30.94806811, 32.89499664, 34.8409838 , 36.7861842 , 38.73072029,\n",
       "       40.67469026, 42.61817386, 44.56123647, 46.50393224, 48.44630642,\n",
       "       50.38839707, 52.33023649, 54.27185222, 56.21326793, 58.15450406,\n",
       "       60.09557835, 62.03650627, 63.97730138, 65.91797562, 67.85853954,\n",
       "       69.79900248, 71.73937277, 73.67965785, 75.61986436, 77.55999829,\n",
       "       79.50006504, 81.44006946, 83.38001596, 85.31990856, 87.25975088,\n",
       "       89.19954625, 91.13929771, 93.07900803, 95.01867975, 96.95831523])"
      ]
     },
     "execution_count": 8,
     "metadata": {},
     "output_type": "execute_result"
    }
   ],
   "source": [
    "# tu codigo:\n",
    "\n",
    "derecha=[]\n",
    "start=5\n",
    "final=200\n",
    "c_vec=np.linspace(5,100,50)\n",
    "\n",
    "for c in c_vec:\n",
    "  try:\n",
    "    root=root_finding(f_cost,start,final,c)\n",
    "  except:\n",
    "    root:np.nan\n",
    "  derecha.append(root)\n",
    "\n",
    "derecha=np.array(derecha)\n",
    "derecha\n"
   ]
  },
  {
   "cell_type": "markdown",
   "id": "direct-wrestling",
   "metadata": {
    "id": "direct-wrestling"
   },
   "source": [
    "## 5b\n",
    "* Hacer un gráfico de raíz derecha vs c"
   ]
  },
  {
   "cell_type": "code",
   "execution_count": 9,
   "id": "forty-importance",
   "metadata": {
    "colab": {
     "base_uri": "https://localhost:8080/",
     "height": 314
    },
    "id": "forty-importance",
    "outputId": "4ea8991e-6d29-498a-a8ac-18a1251814ce"
   },
   "outputs": [
    {
     "data": {
      "text/plain": [
       "Text(0, 0.5, ' raiz')"
      ]
     },
     "execution_count": 9,
     "metadata": {},
     "output_type": "execute_result"
    },
    {
     "data": {
      "image/png": "[encoded data removed]",
      "text/plain": [
       "<Figure size 432x288 with 1 Axes>"
      ]
     },
     "metadata": {
      "needs_background": "light"
     },
     "output_type": "display_data"
    }
   ],
   "source": [
    "# tu codigo:\n",
    "plt.plot(c_vec,derecha, \"mo\")\n",
    "plt.title(\"Raices a  la derecha\")\n",
    "plt.xlabel(\"vector c_vec\")\n",
    "plt.ylabel(\" raiz\")\n"
   ]
  },
  {
   "cell_type": "markdown",
   "id": "portuguese-martial",
   "metadata": {
    "id": "portuguese-martial"
   },
   "source": [
    "## 6. \n",
    "Pregunta:\n",
    "* este cierto *rango* para cual se obtiene un comportamiento complejo esta convergente o divergente cuando `c` es creciente\n",
    "* si este rango esta convergiendo, ¿a qué valor?\n",
    "* si este rango esta divergente, como esta divergente (lineal, cuadrático, diferente)"
   ]
  },
  {
   "cell_type": "code",
   "execution_count": 10,
   "id": "stretch-hypothetical",
   "metadata": {
    "id": "stretch-hypothetical"
   },
   "outputs": [],
   "source": [
    "# respuesta:\n",
    "\n",
    "\n",
    "#La funcion converge a aproximadamente 1.04 a la izquierda, y en este intervalo la raiz va disminuyendo \n",
    "\n",
    "#la funcion diverge a la derecha linealmente, y en este intervalo la raiz va aumentado "
   ]
  },
  {
   "cell_type": "markdown",
   "id": "balanced-offering",
   "metadata": {},
   "source": [
    "# Feedback:\n",
    "\n",
    "`Correct implementation of the f_cost function + labeled plot \t  (max 2.0p):\t2.0p`\n",
    "`Correct implementation of the root finding function \t\t       (max 2.0p):\t2.0p`\n",
    "`Correct result of the evolution of the left roots (+ plot)\t     (max 2.0p):\t2.0p`\n",
    "`Correct result of the evolution of the right roots (+ plot)\t    (max 2.0p):\t2.0p`\n",
    "`Correct conclusion of the range behavious\t\t\t              (max 2.0p):\t2.0p`\n",
    "\n",
    "`- Total:                                                          (max 10.0p):   10.0p`\n",
    "`"
   ]
  },
  {
   "cell_type": "code",
   "execution_count": null,
   "id": "ruled-estate",
   "metadata": {},
   "outputs": [],
   "source": []
  }
 ],
 "metadata": {
  "colab": {
   "name": "examen_parcial_2_MariaAlejandraSánchezCalderón.ipynb",
   "provenance": []
  },
  "kernelspec": {
   "display_name": "Python 3",
   "language": "python",
   "name": "python3"
  },
  "language_info": {
   "codemirror_mode": {
    "name": "ipython",
    "version": 3
   },
   "file_extension": ".py",
   "mimetype": "text/x-python",
   "name": "python",
   "nbconvert_exporter": "python",
   "pygments_lexer": "ipython3",
   "version": "3.7.2"
  }
 },
 "nbformat": 4,
 "nbformat_minor": 5
}
