{
 "cells": [
  {
   "cell_type": "markdown",
   "metadata": {
    "id": "25YwZgw0bUDb"
   },
   "source": [
    "\n",
    "*   create notebook called: homework_6.ipynb (no spaces please)\n",
    "*   inside write a function: deriv(func,a,method,h) func is a function that I can define a is a point (float) at which I wante to evaluate the derivative method is a string, and can have three options forward,central,backward h is a step\n",
    "\n",
    "\n",
    "*   remember the function must not print anything, just return a single value!!!\n",
    "*   to choose between schemes ('central','forward'..) use if, elif\n"
   ]
  },
  {
   "cell_type": "code",
   "execution_count": 1,
   "metadata": {
    "id": "QHp76bAfbPRL"
   },
   "outputs": [],
   "source": [
    "def function(x):\n",
    "    return x**3.0"
   ]
  },
  {
   "cell_type": "code",
   "execution_count": 10,
   "metadata": {
    "id": "XXhyDjA1cdYQ"
   },
   "outputs": [],
   "source": [
    "def deriv(function,a,method,h):\n",
    "  if method == \"forward\": \n",
    "    result=(function(a+h)-function(a))/h\n",
    "    return result\n",
    "  elif method==\"central\":\n",
    "    result=(function(a+h)-function(a-h))/(2*h)\n",
    "    return result\n",
    "  elif method== \"backward\":\n",
    "    result=(function(a)-function(a-h))/h\n",
    "    return result"
   ]
  },
  {
   "cell_type": "code",
   "execution_count": 11,
   "metadata": {
    "colab": {
     "base_uri": "https://localhost:8080/"
    },
    "id": "OHqOo3qPcLpK",
    "outputId": "81e0e670-1688-47c8-eeb2-9891f67feab0"
   },
   "outputs": [
    {
     "name": "stdout",
     "output_type": "stream",
     "text": [
      "12.61000000000001\n"
     ]
    }
   ],
   "source": [
    "print(deriv(function,2.0,method='forward',h=0.1) )"
   ]
  },
  {
   "cell_type": "code",
   "execution_count": 12,
   "metadata": {
    "colab": {
     "base_uri": "https://localhost:8080/"
    },
    "id": "80BPYPmWekl5",
    "outputId": "24830d84-a8e1-4445-d851-ffe395ba8243"
   },
   "outputs": [
    {
     "name": "stdout",
     "output_type": "stream",
     "text": [
      "11.410000000000009\n"
     ]
    }
   ],
   "source": [
    "print(deriv(function,2.0,method='backward',h=0.1))"
   ]
  },
  {
   "cell_type": "code",
   "execution_count": 13,
   "metadata": {
    "colab": {
     "base_uri": "https://localhost:8080/"
    },
    "id": "2ipqn4lQez6z",
    "outputId": "cc0ac2ee-6499-4adf-9557-229b626a05b4"
   },
   "outputs": [
    {
     "name": "stdout",
     "output_type": "stream",
     "text": [
      "12.010000000000009\n"
     ]
    }
   ],
   "source": [
    "print(deriv(function,2.0,method='central',h=0.1)) "
   ]
  },
  {
   "cell_type": "code",
   "execution_count": 14,
   "metadata": {},
   "outputs": [
    {
     "name": "stdout",
     "output_type": "stream",
     "text": [
      "[11.999940000162466, 26.99991000021384, 47.99988000030452]\n"
     ]
    }
   ],
   "source": [
    "\n",
    "import numpy as np\n",
    "import os\n",
    "import pandas as pd\n",
    "import matplotlib.pyplot as plt\n",
    "test_vals=np.array([2.0,3.0,4.0])\n",
    "\n",
    "\n",
    "def func(x):\n",
    "    return x**3.0\n",
    "\n",
    "my_results=[]\n",
    "for val in test_vals:\n",
    "    result=deriv(func,val,method='backward',h=1.0e-5)\n",
    "    my_results.append(result)\n",
    "print(my_results)"
   ]
  },
  {
   "cell_type": "code",
   "execution_count": null,
   "metadata": {},
   "outputs": [],
   "source": []
  },
  {
   "cell_type": "code",
   "execution_count": null,
   "metadata": {},
   "outputs": [],
   "source": []
  }
 ],
 "metadata": {
  "colab": {
   "name": "Homework_6.ipynb",
   "provenance": []
  },
  "kernelspec": {
   "display_name": "Python 3",
   "language": "python",
   "name": "python3"
  },
  "language_info": {
   "codemirror_mode": {
    "name": "ipython",
    "version": 3
   },
   "file_extension": ".py",
   "mimetype": "text/x-python",
   "name": "python",
   "nbconvert_exporter": "python",
   "pygments_lexer": "ipython3",
   "version": "3.7.2"
  }
 },
 "nbformat": 4,
 "nbformat_minor": 1
}
