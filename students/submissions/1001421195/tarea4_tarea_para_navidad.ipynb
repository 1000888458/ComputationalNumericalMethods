{
  "nbformat": 4,
  "nbformat_minor": 0,
  "metadata": {
    "colab": {
      "name": "tarea4_tarea_para_navidad.ipynb",
      "provenance": []
    },
    "kernelspec": {
      "name": "python3",
      "display_name": "Python 3"
    },
    "language_info": {
      "name": "python"
    }
  },
  "cells": [
    {
      "cell_type": "markdown",
      "source": [
        "# Tarea para navidad\n",
        " * hacer el mismo ejemplo y encontrar raiz para $f(x)=x^2 - 11$   \n",
        " * construye su propia función de método de bisección usando el loop **while** \n",
        " * hacer plot de evolución de aproximación (agregar resultados a una lista inicialmente vacía de x_n)  \n",
        " * construye su propia función del método Newton-Rapson usando el loop **while**\n",
        " * hacer plot de evolución de aproximación (agregar resultados a una lista inicialmente vacía de x_n) \n"
      ],
      "metadata": {
        "id": "bmKM_Qe6rXEt"
      }
    },
    {
      "cell_type": "code",
      "source": [
        "import numpy as np\n",
        "import matplotlib.pyplot as plt\n"
      ],
      "metadata": {
        "id": "JYJprwv4t4dP"
      },
      "execution_count": 1,
      "outputs": []
    },
    {
      "cell_type": "code",
      "source": [
        "#Punto 1\n",
        "\n",
        "#funcion para encontrar raiz por el metodo newton rapson\n",
        "def raiz(x1):\n",
        "  xd = x1-((x1**2-11))/(2*x1)  #se define la operacion con la raiz y la derevida de la funcion \n",
        "  return \"la raiz de la funcion es:\",xd\n",
        "\n",
        "raiz(4) #se evalua la funcion para x=4 como punto a la derecha\n",
        " "
      ],
      "metadata": {
        "colab": {
          "base_uri": "https://localhost:8080/"
        },
        "id": "DBVo6b1DsdCt",
        "outputId": "b5d54c0f-6539-4ec9-c028-4cd3e07f4cd3"
      },
      "execution_count": 2,
      "outputs": [
        {
          "output_type": "execute_result",
          "data": {
            "text/plain": [
              "('la raiz de la funcion es:', 3.375)"
            ]
          },
          "metadata": {},
          "execution_count": 2
        }
      ]
    },
    {
      "cell_type": "code",
      "source": [
        " #punto 2\n",
        " #raices mediante la biseccion\n",
        "\n",
        "#def de las variables \n",
        "x1= 1\n",
        "x2=10\n",
        "tolerancia=0.0000001\n",
        "tramo= x2-x1\n",
        "\n",
        "#definimos funcione para encontrar la raiz\n",
        "def raiz(x):            \n",
        "  a= x**2-11          \n",
        "  return a\n",
        "#hacemos el ciclo\n",
        "while not tramo< tolerancia:\n",
        "  xf = (x1 + x2)/2  # nuevos valores de los extremos\n",
        "  signo = np.sign(raiz(x1)) * np.sign(raiz(xf))     #evaluamos el signo\n",
        "  if signo < 0 : # Si el valor obtenido es negativo \n",
        "    x2 = xf\n",
        "    x1 = x1\n",
        "  if signo > 0 : #si es positivo\n",
        "    x1 = xf\n",
        "    x2 = x2\n",
        "  tramo = x2-x1\n",
        "\n",
        "print('El valor de la raiz de la funcion es de ' , xf)"
      ],
      "metadata": {
        "colab": {
          "base_uri": "https://localhost:8080/"
        },
        "id": "150y-tEYwPh1",
        "outputId": "4bd8c73e-1a7d-424e-f9af-af075d3d0041"
      },
      "execution_count": 3,
      "outputs": [
        {
          "output_type": "stream",
          "name": "stdout",
          "text": [
            "El valor de la raiz de la funcion es de  3.3166247978806496\n"
          ]
        }
      ]
    },
    {
      "cell_type": "code",
      "source": [
        "#punto 3\n",
        "#variables\n",
        "x1 = 3\n",
        "x2 = 4\n",
        "tolerancia = 0.0000001\n",
        "tramo = x2-x1   \n",
        "x_n = []  \n",
        "\n",
        "while not tramo< tolerancia:\n",
        "  xn = (x1 + x2)/2 \n",
        "  x_n.append(xn)            #agregamos los datos a la lista\n",
        "  signo = np.sign(raiz(x1)) * np.sign(raiz(xn))     #evaluamos el signo\n",
        "  if signo < 0 :    # Si el valor obtenido es negativo \n",
        "    x2 = xn\n",
        "    x1 = x1\n",
        "  if signo > 0 :  #si es positivo      \n",
        "    x1 = xn\n",
        "    x2 = x2\n",
        "  tramo = x2-x1\n",
        "\n",
        "#grafica\n",
        "xi = np.array(x_n)\n",
        "yi = raiz(np.array(x_n))\n",
        "\n",
        "plt.title('Valores  de la raiz de la funcion')\n",
        "plt.plot(xi,yi)\n",
        "plt.plot(xi,yi,'o',color = 'green',label = 'Valores')\n",
        "plt.axhline(0, color=\"black\")\n",
        "plt.legend()"
      ],
      "metadata": {
        "id": "rup7XBZH2V2t",
        "colab": {
          "base_uri": "https://localhost:8080/",
          "height": 379
        },
        "outputId": "b65ec67f-122d-4a82-af75-e79db510b49c"
      },
      "execution_count": 20,
      "outputs": [
        {
          "output_type": "execute_result",
          "data": {
            "text/plain": [
              "<matplotlib.legend.Legend at 0x7f7a2ef5c490>"
            ]
          },
          "metadata": {},
          "execution_count": 20
        },
        {
          "output_type": "display_data",
          "data": {
            "image/png": "[encoded data removed]",
            "text/plain": [
              "<Figure size 576x396 with 1 Axes>"
            ]
          },
          "metadata": {}
        }
      ]
    },
    {
      "cell_type": "code",
      "source": [
        "#punto 4 y 5\n",
        "\n",
        "tramo = tolerancia*2\n",
        "tolerancia = 0.000001\n",
        "x1 = 4\n",
        "x_n = []\n",
        "while   tramo >= tolerancia :\n",
        "  xn = x1 - (raiz(x1) / (2*x1))\n",
        "  x_n.append(xn)\n",
        "  tramo = abs(xn - x1)\n",
        "  x1 = xn\n",
        "print('La raiz de la funcion es : ' , xn)\n"
      ],
      "metadata": {
        "colab": {
          "base_uri": "https://localhost:8080/"
        },
        "id": "gtTgd17W04kx",
        "outputId": "d090e4db-76a7-4a8c-9803-17b95ea0e069"
      },
      "execution_count": 23,
      "outputs": [
        {
          "output_type": "stream",
          "name": "stdout",
          "text": [
            "La raiz de la funcion es :  3.3166247903554003\n"
          ]
        }
      ]
    },
    {
      "cell_type": "code",
      "source": [
        "print(x_n)"
      ],
      "metadata": {
        "colab": {
          "base_uri": "https://localhost:8080/"
        },
        "id": "gzW7vtyJ3CI2",
        "outputId": "2cb942f4-edd8-48ab-c1ce-d9f449e4d7d8"
      },
      "execution_count": 24,
      "outputs": [
        {
          "output_type": "stream",
          "name": "stdout",
          "text": [
            "[3.375, 3.3171296296296298, 3.3166248287715487, 3.3166247903554003]\n"
          ]
        }
      ]
    },
    {
      "cell_type": "code",
      "source": [
        "x=np.array(x_n)\n",
        "y=raiz(np.array(x_n))\n",
        "plt.plot(x,y)\n",
        "plt.plot(x,y,'o', color=\"red\")\n",
        "plt.axhline(0,color = 'black')"
      ],
      "metadata": {
        "colab": {
          "base_uri": "https://localhost:8080/",
          "height": 364
        },
        "id": "YqEVFulk3Ehg",
        "outputId": "9286820f-829d-4447-834c-b7dd0684605d"
      },
      "execution_count": 28,
      "outputs": [
        {
          "output_type": "execute_result",
          "data": {
            "text/plain": [
              "<matplotlib.lines.Line2D at 0x7f7a2eb7fb10>"
            ]
          },
          "metadata": {},
          "execution_count": 28
        },
        {
          "output_type": "display_data",
          "data": {
            "image/png": "[encoded data removed]",
            "text/plain": [
              "<Figure size 576x396 with 1 Axes>"
            ]
          },
          "metadata": {}
        }
      ]
    }
  ]
}