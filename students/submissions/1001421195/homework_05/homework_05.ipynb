{
 "cells": [
  {
   "cell_type": "code",
   "execution_count": 1,
   "metadata": {
    "id": "-0yEKIwxP_AS"
   },
   "outputs": [],
   "source": [
    "def cuadratic_interp(x,y,xinterp):\n",
    "  if len(x)==3 and len(y)==3:\n",
    "    if x[0]<xinterp<x[len(x)-1]:\n",
    "\n",
    "      b=y[0]\n",
    "      b1=(y[1]-y[0])/(x[1]-x[0])\n",
    "      b2=(((y[2]-y[1])/(x[2]-x[1])) - ((y[1]-y[0])/(x[1]-x[0])))/ (x[2]-x[0])\n",
    "      yinterp=b+b1*(xinterp-x[0])+ b2*(xinterp-x[0])*(xinterp-x[1])\n",
    "      return yinterp\n",
    "    else:\n",
    "      print(\"el valor a interpolar debe estar en el intervalo X0<  x  < X2\")\n",
    "  else:\n",
    "    print(\"los vectores deben ser de dimension 3\")"
   ]
  },
  {
   "cell_type": "code",
   "execution_count": null,
   "metadata": {},
   "outputs": [],
   "source": []
  },
  {
   "cell_type": "code",
   "execution_count": null,
   "metadata": {},
   "outputs": [],
   "source": []
  },
  {
   "cell_type": "code",
   "execution_count": null,
   "metadata": {},
   "outputs": [],
   "source": []
  },
  {
   "cell_type": "code",
   "execution_count": 5,
   "metadata": {},
   "outputs": [
    {
     "name": "stdout",
     "output_type": "stream",
     "text": [
      "el valor a interpolar debe estar en el intervalo X0<  x  < X2\n",
      "el valor a interpolar debe estar en el intervalo X0<  x  < X2\n",
      "el valor a interpolar debe estar en el intervalo X0<  x  < X2\n",
      "el valor a interpolar debe estar en el intervalo X0<  x  < X2\n",
      "el valor a interpolar debe estar en el intervalo X0<  x  < X2\n",
      "el valor a interpolar debe estar en el intervalo X0<  x  < X2\n",
      "el valor a interpolar debe estar en el intervalo X0<  x  < X2\n",
      "el valor a interpolar debe estar en el intervalo X0<  x  < X2\n",
      "el valor a interpolar debe estar en el intervalo X0<  x  < X2\n",
      "el valor a interpolar debe estar en el intervalo X0<  x  < X2\n",
      "el valor a interpolar debe estar en el intervalo X0<  x  < X2\n",
      "el valor a interpolar debe estar en el intervalo X0<  x  < X2\n",
      "el valor a interpolar debe estar en el intervalo X0<  x  < X2\n",
      "el valor a interpolar debe estar en el intervalo X0<  x  < X2\n",
      "el valor a interpolar debe estar en el intervalo X0<  x  < X2\n",
      "el valor a interpolar debe estar en el intervalo X0<  x  < X2\n",
      "el valor a interpolar debe estar en el intervalo X0<  x  < X2\n",
      "el valor a interpolar debe estar en el intervalo X0<  x  < X2\n",
      "el valor a interpolar debe estar en el intervalo X0<  x  < X2\n",
      "el valor a interpolar debe estar en el intervalo X0<  x  < X2\n"
     ]
    },
    {
     "data": {
      "text/plain": [
       "[<matplotlib.lines.Line2D at 0x7f378efcfe48>]"
      ]
     },
     "execution_count": 5,
     "metadata": {},
     "output_type": "execute_result"
    },
    {
     "data": {
      "image/png": "[encoded data removed]",
      "text/plain": [
       "<Figure size 432x288 with 1 Axes>"
      ]
     },
     "metadata": {
      "needs_background": "light"
     },
     "output_type": "display_data"
    }
   ],
   "source": [
    "\n",
    "import numpy as np\n",
    "import os\n",
    "import pandas as pd\n",
    "import matplotlib.pyplot as plt\n",
    "x=np.array([4,5,6])\n",
    "y=np.array([np.log10(4),np.log10(5),np.log10(6)])\n",
    "test_vals=np.arange(3,7,0.1)\n",
    "\n",
    "results=[]\n",
    "\n",
    "for val in test_vals:\n",
    "    result=cuadratic_interp(x,y,val)\n",
    "    results.append(result)\n",
    "fig,ax=plt.subplots(1,1)\n",
    "ax.plot(x,y,'.')\n",
    "ax.plot(test_vals,results)  "
   ]
  },
  {
   "cell_type": "code",
   "execution_count": 6,
   "metadata": {},
   "outputs": [
    {
     "data": {
      "text/plain": [
       "[None,\n",
       " None,\n",
       " None,\n",
       " None,\n",
       " None,\n",
       " None,\n",
       " None,\n",
       " None,\n",
       " None,\n",
       " None,\n",
       " 0.6020599913279625,\n",
       " 0.6125487871419877,\n",
       " 0.6228602952864083,\n",
       " 0.6329945157612247,\n",
       " 0.6429514485664368,\n",
       " 0.6527310937020449,\n",
       " 0.6623334511680482,\n",
       " 0.6717585209644473,\n",
       " 0.6810063030912422,\n",
       " 0.6900767975484328,\n",
       " 0.698970004336019,\n",
       " 0.7076859234540009,\n",
       " 0.7162245549023786,\n",
       " 0.7245858986811519,\n",
       " 0.7327699547903207,\n",
       " 0.7407767232298854,\n",
       " 0.7486062039998457,\n",
       " 0.7562583971002018,\n",
       " 0.7637333025309534,\n",
       " 0.7710309202921007,\n",
       " None,\n",
       " None,\n",
       " None,\n",
       " None,\n",
       " None,\n",
       " None,\n",
       " None,\n",
       " None,\n",
       " None,\n",
       " None]"
      ]
     },
     "execution_count": 6,
     "metadata": {},
     "output_type": "execute_result"
    }
   ],
   "source": [
    "results"
   ]
  },
  {
   "cell_type": "code",
   "execution_count": null,
   "metadata": {},
   "outputs": [],
   "source": []
  }
 ],
 "metadata": {
  "colab": {
   "name": "Homework_5.ipynb",
   "provenance": []
  },
  "kernelspec": {
   "display_name": "Python 3",
   "language": "python",
   "name": "python3"
  },
  "language_info": {
   "codemirror_mode": {
    "name": "ipython",
    "version": 3
   },
   "file_extension": ".py",
   "mimetype": "text/x-python",
   "name": "python",
   "nbconvert_exporter": "python",
   "pygments_lexer": "ipython3",
   "version": "3.7.2"
  }
 },
 "nbformat": 4,
 "nbformat_minor": 1
}
