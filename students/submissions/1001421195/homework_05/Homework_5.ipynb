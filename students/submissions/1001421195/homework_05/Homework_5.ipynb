{
  "nbformat": 4,
  "nbformat_minor": 0,
  "metadata": {
    "colab": {
      "name": "Homework_5.ipynb",
      "provenance": []
    },
    "kernelspec": {
      "name": "python3",
      "display_name": "Python 3"
    },
    "language_info": {
      "name": "python"
    }
  },
  "cells": [
    {
      "cell_type": "markdown",
      "source": [
        "\n",
        "Homework5 (testing new idea of ):\n",
        "\n",
        "\n",
        "this is the right way to program - just making functions and classes and calling them!!!\n",
        "create notebook called: homework_5.ipynb (no spaces please)\n",
        "\n",
        "inside write a function: cuadratic_interp(x,y,xinterp):\n",
        "\n",
        "cuadratic_interp(x,y,xinterp) accepts three elements (vector x, vector y and float xinterp to be interpolated) an returns yinterp value of the interpolated point xinterp\n",
        "\n",
        "similar problem will be in the next partial!!!\n",
        "remember the function must not print anything, just return a single value!!!\n",
        "\n"
      ],
      "metadata": {
        "id": "8RiSngb0sa2b"
      }
    },
    {
      "cell_type": "code",
      "source": [
        "import numpy as np \n",
        "\n",
        "def cuadratic_interp(x,y,xinterp):\n",
        "      b=y[0]\n",
        "      b1=(y[1]-y[0])/(x[1]-x[0])\n",
        "      b2=(((y[2]-y[1])/(x[2]-x[1])) - ((y[1]-y[0])/(x[1]-x[0])))/ (x[2]-x[0])\n",
        "      yinterp=b+b1*(xinterp-x[0])+ b2*(xinterp-x[0])*(xinterp-x[1])\n",
        "      return yinterp\n"
      ],
      "metadata": {
        "id": "-0yEKIwxP_AS"
      },
      "execution_count": 1,
      "outputs": []
    },
    {
      "cell_type": "code",
      "source": [
        "cuadratic_interp(np.array([3,5,2]), np.array([np.log10(3),np.log10(5),np.log10(2)]), 5)"
      ],
      "metadata": {
        "colab": {
          "base_uri": "https://localhost:8080/"
        },
        "id": "wV_TeafltGJ-",
        "outputId": "3a99f0e9-1b62-4a1e-80d7-22f902f18f42"
      },
      "execution_count": 4,
      "outputs": [
        {
          "output_type": "execute_result",
          "data": {
            "text/plain": [
              "0.6989700043360189"
            ]
          },
          "metadata": {},
          "execution_count": 4
        }
      ]
    }
  ]
}