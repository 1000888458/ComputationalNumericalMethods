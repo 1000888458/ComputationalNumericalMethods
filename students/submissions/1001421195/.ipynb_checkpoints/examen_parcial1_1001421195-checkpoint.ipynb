{
 "cells": [
  {
   "cell_type": "markdown",
   "id": "impossible-command",
   "metadata": {
    "id": "impossible-command"
   },
   "source": [
    "# Examen parcial 1 (Python basico y visualizaciones)\n",
    "* Antes de enviar el archivo, $\\textbf{reiniciar y ejecutar el kernel}$ para ver que el archivo se compila sin errores\n",
    "* enviar el archivo jupyter sin anexos antes de las 10.20am del 17.12.2021 a mi dirección de correo electrónico: michal.hemmerling@udea.edu.co "
   ]
  },
  {
   "cell_type": "markdown",
   "id": "chicken-fields",
   "metadata": {
    "id": "chicken-fields"
   },
   "source": [
    "# Cada de los dos ejercicios abajo vale 100%, \n",
    "* usted puede escojer cual ejercicio quiere hacer. \n",
    "* si hace dos ejercisios en la mitad tambien gana 100%\n",
    "* si hace los dos ejercicios completos, extra puntos voy a pasar para resultado de proximo parcial"
   ]
  },
  {
   "cell_type": "markdown",
   "id": "conceptual-swedish",
   "metadata": {
    "id": "conceptual-swedish"
   },
   "source": [
    "## Ejercicio 1a. Calcular una soma (Taylor aproximacion de funcion cos) usando loop \n",
    "\n",
    "\n",
    "$$cos(x)=\\sum_{k=0}^{\\infty}\\frac{(-1)^k x^{2k}}{(2k)!}$$ \n",
    "\n",
    "1) usando loop for calcular valor de cos(0.2) para k=2 (en loop k=0,1,2)\n",
    "* (puede comparar su resultado con $cos(x)=1 - \\frac{x^2}{2!}  + \\frac{x^4}{4!}$\n",
    "* (para hacer factorial-! usa: import math, math.factorial)\n",
    "\n",
    "2) crear una funcion cos_taylor(x,k) que acepta dos parametros x y k y vuelve valor de cos(x) para dado numero de termos k\n",
    "* (intenta con x=0.2 y k=2 para comparar con resultado de punto 1)\n",
    "\n",
    "3) crear un vector xvec que tiene 100 elementos en rango de $-\\pi$: $\\pi$ y usando loop for para cada elemento de este vector llama la funcion cos_taylor(x,k) y guarda resultados en una lista \"cos_approx=[]\" usando methodo append (cos_approx.append()). usa valor de k=3 \n",
    "* (pista sobre loop: for x in xvec:...)\n",
    "\n",
    "4) hacer visualizacion de dos curvas en mismo plot:\n",
    "* xvec vs cos_approx (label: Taylor approximation)\n",
    "* xvec vs np.cos(xvec) (label: cos(x))\n",
    "* usa labels para cada curva"
   ]
  },
  {
   "cell_type": "markdown",
   "id": "varying-colorado",
   "metadata": {
    "id": "varying-colorado"
   },
   "source": [
    "*la formula completa de approximacion\n",
    "<table><tr>\n",
    "<td> <img src=\"imgs/maclaurin_cos.png\" width=\"400\" /> </td>\n",
    "</tr></table>"
   ]
  },
  {
   "cell_type": "code",
   "execution_count": 1,
   "id": "tpQgahJrk7Fw",
   "metadata": {
    "colab": {
     "base_uri": "https://localhost:8080/"
    },
    "id": "tpQgahJrk7Fw",
    "outputId": "db757d32-6026-48df-ec80-99d4112ac594"
   },
   "outputs": [
    {
     "name": "stdout",
     "output_type": "stream",
     "text": [
      "El valor de cos(0.2) por la serie de taylor es 0.98\n",
      "El valor de cos(0.2) comprobado con la otra formula es 0.98\n"
     ]
    },
    {
     "data": {
      "text/plain": [
       "('el valor de cos', 0.2, 'es 0.98')"
      ]
     },
     "execution_count": 1,
     "metadata": {},
     "output_type": "execute_result"
    }
   ],
   "source": [
    "import math\n",
    "import numpy as np\n",
    "from math import pi\n",
    "import matplotlib.pyplot as plt\n",
    "#punto 1\n",
    "x=0.2\n",
    "k=2\n",
    "a=0\n",
    "for i in range(0,k+1):\n",
    "  n=float((-1)**i)*(x**(2*i))\n",
    "  d=float(math.factorial(2*i))\n",
    "  r=float(n/d)\n",
    "  a+=r\n",
    "print(\"El valor de cos(0.2) por la serie de taylor es %.2f\"%a)\n",
    "\n",
    "#para comprobar \n",
    "cos=1-((x**2)/math.factorial(2))+ ((x**4)/math.factorial(4))\n",
    "print(\"El valor de cos(0.2) comprobado con la otra formula es %.2f\"%cos)\n",
    "\n",
    "#punto 2\n",
    "def cos_taylor(x,k):\n",
    "  a=0\n",
    "  for j in range(0,k+1):\n",
    "   n=float((-1)**j)*(x**(2*j))\n",
    "   d=float(math.factorial(2*j))\n",
    "   r=float(n/d)\n",
    "   a+=r\n",
    "  return \"el valor de cos\",(x),'es %.2f'%a\n",
    "cos_taylor(0.2,2)"
   ]
  },
  {
   "cell_type": "code",
   "execution_count": 2,
   "id": "K74Zk5bH2z0X",
   "metadata": {
    "colab": {
     "base_uri": "https://localhost:8080/",
     "height": 298
    },
    "id": "K74Zk5bH2z0X",
    "outputId": "7afc7259-5031-4841-c343-798af75fa54d"
   },
   "outputs": [
    {
     "data": {
      "text/plain": [
       "<matplotlib.legend.Legend at 0x7f5514d7c4e0>"
      ]
     },
     "execution_count": 2,
     "metadata": {},
     "output_type": "execute_result"
    },
    {
     "data": {
      "image/png": "[encoded data removed]",
      "text/plain": [
       "<Figure size 432x288 with 1 Axes>"
      ]
     },
     "metadata": {
      "needs_background": "light"
     },
     "output_type": "display_data"
    }
   ],
   "source": [
    "#punto 4\n",
    "xvec=[i for i in np.linspace(-pi,pi,100)]\n",
    "cos_aprox=[]\n",
    "\n",
    "for i in range(0,len(xvec)):\n",
    "  p=cos_taylor(xvec[i],3)\n",
    "  cos_aprox.append(p)\n",
    "\n",
    "#punto 5\n",
    "fig,ax=plt.subplots()\n",
    "ax.set_title(\"curvas\")\n",
    "ax.plot(xvec,np.cos(xvec), label=\"$cos(x)$\")\n",
    "ax.legend()\n"
   ]
  },
  {
   "cell_type": "code",
   "execution_count": 3,
   "id": "champion-piano",
   "metadata": {},
   "outputs": [
    {
     "data": {
      "text/plain": [
       "[('el valor de cos', -3.141592653589793, 'es -1.21'),\n",
       " ('el valor de cos', -3.0781261353354537, 'es -1.18'),\n",
       " ('el valor de cos', -3.0146596170811146, 'es -1.15'),\n",
       " ('el valor de cos', -2.951193098826775, 'es -1.11'),\n",
       " ('el valor de cos', -2.887726580572436, 'es -1.08'),\n",
       " ('el valor de cos', -2.8242600623180967, 'es -1.04'),\n",
       " ('el valor de cos', -2.7607935440637577, 'es -1.01'),\n",
       " ('el valor de cos', -2.697327025809418, 'es -0.97'),\n",
       " ('el valor de cos', -2.633860507555079, 'es -0.93'),\n",
       " ('el valor de cos', -2.5703939893007397, 'es -0.89'),\n",
       " ('el valor de cos', -2.5069274710464007, 'es -0.84'),\n",
       " ('el valor de cos', -2.443460952792061, 'es -0.80'),\n",
       " ('el valor de cos', -2.379994434537722, 'es -0.75'),\n",
       " ('el valor de cos', -2.3165279162833827, 'es -0.70'),\n",
       " ('el valor de cos', -2.2530613980290433, 'es -0.65'),\n",
       " ('el valor de cos', -2.1895948797747042, 'es -0.59'),\n",
       " ('el valor de cos', -2.126128361520365, 'es -0.54'),\n",
       " ('el valor de cos', -2.0626618432660258, 'es -0.48'),\n",
       " ('el valor de cos', -1.9991953250116865, 'es -0.42'),\n",
       " ('el valor de cos', -1.9357288067573473, 'es -0.36'),\n",
       " ('el valor de cos', -1.872262288503008, 'es -0.30'),\n",
       " ('el valor de cos', -1.8087957702486688, 'es -0.24'),\n",
       " ('el valor de cos', -1.7453292519943295, 'es -0.18'),\n",
       " ('el valor de cos', -1.6818627337399903, 'es -0.11'),\n",
       " ('el valor de cos', -1.6183962154856508, 'es -0.05'),\n",
       " ('el valor de cos', -1.5549296972313116, 'es 0.02'),\n",
       " ('el valor de cos', -1.4914631789769723, 'es 0.08'),\n",
       " ('el valor de cos', -1.427996660722633, 'es 0.14'),\n",
       " ('el valor de cos', -1.3645301424682938, 'es 0.20'),\n",
       " ('el valor de cos', -1.3010636242139546, 'es 0.27'),\n",
       " ('el valor de cos', -1.2375971059596154, 'es 0.33'),\n",
       " ('el valor de cos', -1.1741305877052761, 'es 0.39'),\n",
       " ('el valor de cos', -1.1106640694509369, 'es 0.44'),\n",
       " ('el valor de cos', -1.0471975511965974, 'es 0.50'),\n",
       " ('el valor de cos', -0.9837310329422584, 'es 0.55'),\n",
       " ('el valor de cos', -0.9202645146879189, 'es 0.61'),\n",
       " ('el valor de cos', -0.8567979964335799, 'es 0.65'),\n",
       " ('el valor de cos', -0.7933314781792404, 'es 0.70'),\n",
       " ('el valor de cos', -0.7298649599249014, 'es 0.75'),\n",
       " ('el valor de cos', -0.666398441670562, 'es 0.79'),\n",
       " ('el valor de cos', -0.6029319234162229, 'es 0.82'),\n",
       " ('el valor de cos', -0.5394654051618835, 'es 0.86'),\n",
       " ('el valor de cos', -0.47599888690754444, 'es 0.89'),\n",
       " ('el valor de cos', -0.412532368653205, 'es 0.92'),\n",
       " ('el valor de cos', -0.34906585039886595, 'es 0.94'),\n",
       " ('el valor de cos', -0.2855993321445265, 'es 0.96'),\n",
       " ('el valor de cos', -0.22213281389018746, 'es 0.98'),\n",
       " ('el valor de cos', -0.158666295635848, 'es 0.99'),\n",
       " ('el valor de cos', -0.09519977738150853, 'es 1.00'),\n",
       " ('el valor de cos', -0.03173325912716951, 'es 1.00'),\n",
       " ('el valor de cos', 0.031733259127169955, 'es 1.00'),\n",
       " ('el valor de cos', 0.09519977738150898, 'es 1.00'),\n",
       " ('el valor de cos', 0.15866629563584844, 'es 0.99'),\n",
       " ('el valor de cos', 0.22213281389018746, 'es 0.98'),\n",
       " ('el valor de cos', 0.28559933214452693, 'es 0.96'),\n",
       " ('el valor de cos', 0.34906585039886595, 'es 0.94'),\n",
       " ('el valor de cos', 0.4125323686532054, 'es 0.92'),\n",
       " ('el valor de cos', 0.47599888690754444, 'es 0.89'),\n",
       " ('el valor de cos', 0.5394654051618839, 'es 0.86'),\n",
       " ('el valor de cos', 0.6029319234162229, 'es 0.82'),\n",
       " ('el valor de cos', 0.6663984416705624, 'es 0.79'),\n",
       " ('el valor de cos', 0.7298649599249014, 'es 0.75'),\n",
       " ('el valor de cos', 0.7933314781792409, 'es 0.70'),\n",
       " ('el valor de cos', 0.8567979964335799, 'es 0.65'),\n",
       " ('el valor de cos', 0.9202645146879194, 'es 0.61'),\n",
       " ('el valor de cos', 0.9837310329422584, 'es 0.55'),\n",
       " ('el valor de cos', 1.0471975511965983, 'es 0.50'),\n",
       " ('el valor de cos', 1.1106640694509373, 'es 0.44'),\n",
       " ('el valor de cos', 1.1741305877052763, 'es 0.39'),\n",
       " ('el valor de cos', 1.2375971059596154, 'es 0.33'),\n",
       " ('el valor de cos', 1.3010636242139553, 'es 0.27'),\n",
       " ('el valor de cos', 1.3645301424682943, 'es 0.20'),\n",
       " ('el valor de cos', 1.4279966607226333, 'es 0.14'),\n",
       " ('el valor de cos', 1.4914631789769723, 'es 0.08'),\n",
       " ('el valor de cos', 1.5549296972313122, 'es 0.02'),\n",
       " ('el valor de cos', 1.6183962154856513, 'es -0.05'),\n",
       " ('el valor de cos', 1.6818627337399903, 'es -0.11'),\n",
       " ('el valor de cos', 1.7453292519943293, 'es -0.18'),\n",
       " ('el valor de cos', 1.8087957702486692, 'es -0.24'),\n",
       " ('el valor de cos', 1.8722622885030082, 'es -0.30'),\n",
       " ('el valor de cos', 1.9357288067573473, 'es -0.36'),\n",
       " ('el valor de cos', 1.9991953250116872, 'es -0.42'),\n",
       " ('el valor de cos', 2.062661843266026, 'es -0.48'),\n",
       " ('el valor de cos', 2.126128361520365, 'es -0.54'),\n",
       " ('el valor de cos', 2.1895948797747042, 'es -0.59'),\n",
       " ('el valor de cos', 2.253061398029044, 'es -0.65'),\n",
       " ('el valor de cos', 2.316527916283383, 'es -0.70'),\n",
       " ('el valor de cos', 2.379994434537722, 'es -0.75'),\n",
       " ('el valor de cos', 2.443460952792061, 'es -0.80'),\n",
       " ('el valor de cos', 2.506927471046401, 'es -0.84'),\n",
       " ('el valor de cos', 2.57039398930074, 'es -0.89'),\n",
       " ('el valor de cos', 2.633860507555079, 'es -0.93'),\n",
       " ('el valor de cos', 2.697327025809418, 'es -0.97'),\n",
       " ('el valor de cos', 2.760793544063758, 'es -1.01'),\n",
       " ('el valor de cos', 2.824260062318097, 'es -1.04'),\n",
       " ('el valor de cos', 2.887726580572436, 'es -1.08'),\n",
       " ('el valor de cos', 2.951193098826776, 'es -1.11'),\n",
       " ('el valor de cos', 3.014659617081115, 'es -1.15'),\n",
       " ('el valor de cos', 3.078126135335454, 'es -1.18'),\n",
       " ('el valor de cos', 3.141592653589793, 'es -1.21')]"
      ]
     },
     "execution_count": 3,
     "metadata": {},
     "output_type": "execute_result"
    }
   ],
   "source": [
    "cos_aprox"
   ]
  },
  {
   "cell_type": "markdown",
   "id": "accomplished-increase",
   "metadata": {
    "id": "accomplished-increase"
   },
   "source": [
    "## Ejercicio 1b. Visualizar imagenes de un conjunto de datos\n",
    "\n"
   ]
  },
  {
   "cell_type": "markdown",
   "id": "institutional-dating",
   "metadata": {
    "id": "institutional-dating"
   },
   "source": [
    "#### Un documento 'images_32x32.mat' contiene ~ 25,000 de imagenes de digitos, images son en colores (cada imagen tiene 3 capas RGB) y cada imagen es 32x32 pixeles\n",
    "\n",
    "1) convertir este conjunto de tipo MAT a un dicionario\n",
    "* (import scipy.io,   \n",
    "   imgs_dict = scipy.io.loadmat(images_32x32.mat)\n",
    "\n",
    "2) muestra que llaves tiene este dicionario y muestra que dimensiones tienen las llaves **X** y **y**\n",
    "\n",
    "3) visualiza aleatoriamente 10 de estos imagenes en una forma de matriz 1x10 (fila de 10 imagenes)\n",
    "* los imagenes son guardados en llave 'X' de este dicionario\n",
    "\n",
    "4) convertir las imágenes en color a escala de grises promediando una de las dimensiones y volver a mostrar las mismos 10 imagenes aleatorios en otra matriz de 1x10 (fila de 10 imagenes)\n",
    "\n",
    "5) seria bien que los titulos de los 10 imagenes coresponden a etiquietas de llave \"y\""
   ]
  },
  {
   "cell_type": "code",
   "execution_count": 4,
   "id": "interstate-addition",
   "metadata": {
    "id": "interstate-addition",
    "outputId": "0a733aca-6d5e-4ee6-e7bd-9f1e23985657"
   },
   "outputs": [
    {
     "name": "stdout",
     "output_type": "stream",
     "text": [
      "examen_parcial1_1001421195.ipynb\r\n"
     ]
    }
   ],
   "source": [
    "!ls"
   ]
  },
  {
   "cell_type": "code",
   "execution_count": 1,
   "id": "little-gardening",
   "metadata": {
    "id": "little-gardening"
   },
   "outputs": [],
   "source": [
    "# Comentarios:\n",
    "\n",
    "# Exercise 1:\n",
    "#   compilation (max: 2.5p):                     2.5p   \n",
    "#   correctness of the result (max: 2.5p):       2.5p \n",
    "#   implementation of the function (max: 2.5p):  2.0p \n",
    "#   plot (max: 2.5p):                            0.0p \n",
    "\n",
    "# TOTAL:                                         7.0p (out of 10p)  \n",
    "\n",
    "# su funcion devolvio un string (tenia que devolver un valor) \n",
    "# por eso usted no era capaz hacer un plot (plot no sabe como visualizar string)"
   ]
  },
  {
   "cell_type": "code",
   "execution_count": null,
   "id": "historic-vault",
   "metadata": {},
   "outputs": [],
   "source": []
  }
 ],
 "metadata": {
  "colab": {
   "collapsed_sections": [],
   "name": "examen_parcial1_1001421195.ipynb",
   "provenance": []
  },
  "kernelspec": {
   "display_name": "Python 3",
   "language": "python",
   "name": "python3"
  },
  "language_info": {
   "codemirror_mode": {
    "name": "ipython",
    "version": 3
   },
   "file_extension": ".py",
   "mimetype": "text/x-python",
   "name": "python",
   "nbconvert_exporter": "python",
   "pygments_lexer": "ipython3",
   "version": "3.7.2"
  }
 },
 "nbformat": 4,
 "nbformat_minor": 5
}
