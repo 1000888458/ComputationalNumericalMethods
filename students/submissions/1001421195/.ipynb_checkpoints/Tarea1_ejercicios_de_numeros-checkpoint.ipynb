{
 "cells": [
  {
   "cell_type": "markdown",
   "id": "super-silicon",
   "metadata": {
    "id": "super-silicon"
   },
   "source": [
    "# Exercicios sobre numeros :"
   ]
  },
  {
   "cell_type": "markdown",
   "id": "environmental-observation",
   "metadata": {
    "id": "environmental-observation"
   },
   "source": [
    "#### 1. Imprime primero 10 numeros naturales (1,2,3,4,5,6,7,8,9,10) usando \"for loop\" y print ()"
   ]
  },
  {
   "cell_type": "code",
   "execution_count": 10,
   "id": "executive-austria",
   "metadata": {
    "colab": {
     "base_uri": "https://localhost:8080/"
    },
    "executionInfo": {
     "elapsed": 216,
     "status": "ok",
     "timestamp": 1637511758932,
     "user": {
      "displayName": "",
      "photoUrl": "",
      "userId": ""
     },
     "user_tz": 300
    },
    "id": "executive-austria",
    "outputId": "df1497a2-f1fb-4424-db90-f466e815e744"
   },
   "outputs": [
    {
     "name": "stdout",
     "output_type": "stream",
     "text": [
      "1\n",
      "2\n",
      "3\n",
      "4\n",
      "5\n",
      "6\n",
      "7\n",
      "8\n",
      "9\n",
      "10\n"
     ]
    }
   ],
   "source": [
    "for x in range (1,11): #se define el ciclo para que x corra desde 1 hasta 10 \n",
    "    print (x) #se imprime el valor de x "
   ]
  },
  {
   "cell_type": "markdown",
   "id": "loving-george",
   "metadata": {
    "id": "loving-george"
   },
   "source": [
    "#### 2. Imprime primero 10 numeros naturales (1,2,3,4,5,6,7,8,9,10)  usando \"while loop\" y print ()"
   ]
  },
  {
   "cell_type": "code",
   "execution_count": 11,
   "id": "manufactured-international",
   "metadata": {
    "colab": {
     "base_uri": "https://localhost:8080/"
    },
    "executionInfo": {
     "elapsed": 222,
     "status": "ok",
     "timestamp": 1637511889387,
     "user": {
      "displayName": "",
      "photoUrl": "",
      "userId": ""
     },
     "user_tz": 300
    },
    "id": "manufactured-international",
    "outputId": "2c8d679d-e9d5-432f-b36c-e9fe37fdfc80"
   },
   "outputs": [
    {
     "name": "stdout",
     "output_type": "stream",
     "text": [
      "1\n",
      "2\n",
      "3\n",
      "4\n",
      "5\n",
      "6\n",
      "7\n",
      "8\n",
      "9\n",
      "10\n"
     ]
    }
   ],
   "source": [
    "i=1  #se define la el valor inicial de la variable\n",
    "while i<=10: #se especifica la condicion que debe cumplir para el ciclo\n",
    "  print (i)  \n",
    "  i=i+1  #se especifica como variara i en cada ciclo\n",
    "  "
   ]
  },
  {
   "cell_type": "markdown",
   "id": "beginning-marine",
   "metadata": {
    "id": "beginning-marine"
   },
   "source": [
    "#### 3. Calcular la soma de numeros (1+2+3+4+5+6+7+8+9+10) usando \"for loop\" y guarda resultado en variable \"my_result\""
   ]
  },
  {
   "cell_type": "code",
   "execution_count": 12,
   "id": "neither-segment",
   "metadata": {
    "colab": {
     "base_uri": "https://localhost:8080/"
    },
    "executionInfo": {
     "elapsed": 215,
     "status": "ok",
     "timestamp": 1637512193600,
     "user": {
      "displayName": "",
      "photoUrl": "",
      "userId": ""
     },
     "user_tz": 300
    },
    "id": "neither-segment",
    "outputId": "d9ea89d2-a559-430a-beea-40160eeb868f"
   },
   "outputs": [
    {
     "name": "stdout",
     "output_type": "stream",
     "text": [
      "la suma de los primeros 10 numeros naturales es: 55\n"
     ]
    }
   ],
   "source": [
    "my_result=0  #se define la variable donde se guardara el ciclo\n",
    "\n",
    "for i in range (1,11):  #se define el ciclo con el rango \n",
    "   my_result += i   # se define la suma \n",
    "\n",
    "print (\"la suma de los primeros 10 numeros naturales es:\",my_result)"
   ]
  },
  {
   "cell_type": "markdown",
   "id": "indoor-roots",
   "metadata": {
    "id": "indoor-roots"
   },
   "source": [
    "#### 4. Calcular la soma de numeros (1+2+3+4+5+6+7+8+9+10) usando \"while loop\" y guardar resultado en variable \"my_result\""
   ]
  },
  {
   "cell_type": "code",
   "execution_count": 13,
   "id": "infrared-respondent",
   "metadata": {
    "colab": {
     "base_uri": "https://localhost:8080/"
    },
    "executionInfo": {
     "elapsed": 224,
     "status": "ok",
     "timestamp": 1637512550255,
     "user": {
      "displayName": "",
      "photoUrl": "",
      "userId": ""
     },
     "user_tz": 300
    },
    "id": "infrared-respondent",
    "outputId": "9170de1c-ae4c-4373-d972-95117ca825f9"
   },
   "outputs": [
    {
     "name": "stdout",
     "output_type": "stream",
     "text": [
      "la suma de los primeros 10 numeros naturales es: 55\n"
     ]
    }
   ],
   "source": [
    "my_result=0  #se define la variable donde se guardara el ciclo\n",
    "i=0   #se define el valor inicial de la variable que entrara en el ciclo\n",
    "\n",
    "while i <=10:  #se define la condicion para el ciclo\n",
    "  my_result= my_result+i   #se define la suma y esta donde se guardara\n",
    "  i=i+1  #se define la forma en que i variara\n",
    "\n",
    "print(\"la suma de los primeros 10 numeros naturales es:\",my_result)"
   ]
  },
  {
   "cell_type": "markdown",
   "id": "polished-reason",
   "metadata": {
    "id": "polished-reason"
   },
   "source": [
    "#### 5. Calcular la soma de numeros par (2+4+6+8+10.. + ...100) usando \"for loop\" y guardar resultado en variable \"my_result\" (pista: usa condicion \"if\" y \"%\")"
   ]
  },
  {
   "cell_type": "code",
   "execution_count": 14,
   "id": "asian-publisher",
   "metadata": {
    "colab": {
     "base_uri": "https://localhost:8080/"
    },
    "executionInfo": {
     "elapsed": 245,
     "status": "ok",
     "timestamp": 1637513558584,
     "user": {
      "displayName": "",
      "photoUrl": "",
      "userId": ""
     },
     "user_tz": 300
    },
    "id": "asian-publisher",
    "outputId": "573b8cf0-54f2-4b22-fc55-4aaa9df373ac"
   },
   "outputs": [
    {
     "name": "stdout",
     "output_type": "stream",
     "text": [
      "la suma de los primeros 50 numeros pares es: 2550\n"
     ]
    }
   ],
   "source": [
    "my_result=0  #se define la varibale donde se guarda la suma\n",
    "\n",
    "for i in range(1,101):  #se define el ciclo con el rango\n",
    "  if i % 2 == 0:   #se define la condicion para identificar los pares\n",
    "    my_result += i  #se define la suma\n",
    " \n",
    "print(\"la suma de los primeros 50 numeros pares es:\",my_result)"
   ]
  },
  {
   "cell_type": "markdown",
   "id": "accepted-jacksonville",
   "metadata": {
    "id": "accepted-jacksonville"
   },
   "source": [
    "#### 6. Calcular la soma de numeros impar (1+3+5+7+9+... + ...99) usando \"while loop\" y guardar resultado en variable \"my_result\" (pista: usa condicion \"if\" y \"%\")"
   ]
  },
  {
   "cell_type": "code",
   "execution_count": 15,
   "id": "assigned-parameter",
   "metadata": {
    "colab": {
     "base_uri": "https://localhost:8080/"
    },
    "executionInfo": {
     "elapsed": 260,
     "status": "ok",
     "timestamp": 1637513026249,
     "user": {
      "displayName": "",
      "photoUrl": "",
      "userId": ""
     },
     "user_tz": 300
    },
    "id": "assigned-parameter",
    "outputId": "6a57794c-b2fc-4fb0-a1d1-a466c1601eb6"
   },
   "outputs": [
    {
     "name": "stdout",
     "output_type": "stream",
     "text": [
      "la suma de los primeros 50 numeros impares es: 2500\n"
     ]
    }
   ],
   "source": [
    "my_result=0  #se define la varibale donde se guarda la suma\n",
    "i=1  #se define la variable inicial\n",
    "f=100  #se define la variable final\n",
    "\n",
    "while i<=f:  #se define el ciclo con las variables inicial y final\n",
    "  if i % 2==1:  #se define la condicion para identificar los impares\n",
    "    my_result= my_result+i  #se define la suma\n",
    "  i+=1  #se define como variara i\n",
    "\n",
    "print(\"la suma de los primeros 50 numeros impares es:\",my_result)\n",
    "   "
   ]
  },
  {
   "cell_type": "markdown",
   "id": "crucial-treat",
   "metadata": {
    "id": "crucial-treat"
   },
   "source": [
    "#### 7. Definir una function que se llama func_sum_even_odd(b) que recibe un parametro \"b\" - valor numerico. La funcion calcula soma de numeros pares y numeros impares separamente entre 0 y b (los dos valores incluidos) . La funcion guarda resultados en dos variables en sum_even, sum_odd y devuelve ambos usando \"return\". (usa metodo: while)\n",
    "\n",
    "ejemplo de ejecucion:   \n",
    "sum_even,sum_odd = func_sum_even_odd(10)  \n",
    "print(sum_even,sum_odd)  \n",
    "30,25  \n",
    "\n",
    "#### Pero si \"b\" no es ni integer ni float funcion devuelve sum_even=0,y sum_odd=0 y imprime mensaje: \"argument must be an integer or float\"   (usa: \"isinstance\" o negacion de isinstance: \"not isinstance\" conjunto con operador logico \"or\" para verificar si el argumento es int of float)\n",
    "\n",
    "ejemplo de ejecucion:  \n",
    "sum_even,sum_odd = func_sum_even_odd('z')  \n",
    "\"argument must be an integer or float\"  "
   ]
  },
  {
   "cell_type": "code",
   "execution_count": null,
   "id": "comparative-corruption",
   "metadata": {
    "id": "comparative-corruption"
   },
   "outputs": [],
   "source": [
    "\n",
    "def func_sum_even_odd(b):\n",
    "  if isinstance (b, float):\n",
    "    print(\"el numero debe ser entero\")\n",
    "  else:\n",
    "     while (b != 0):\n",
    "       if (b % 2 == 0):\n",
    "         sum_even= sum_even +b\n",
    "         b+=1\n",
    "       else:\n",
    "          sum_odd= sum_odd+b\n",
    "          b+=1\n",
    "     return (sum_even, sum_odd)\n",
    "b=input(\"ingrese un numero:\")\n",
    "result= func_sum_even_odd(b)\n",
    "print(result)"
   ]
  },
  {
   "cell_type": "markdown",
   "id": "contemporary-exemption",
   "metadata": {
    "id": "contemporary-exemption"
   },
   "source": [
    "#### 8. Modifica funcion anterior y usa conjunto: try:... except:... (mira arriva en el texto de la classe)\n",
    "try:   \n",
    "--->intenta hacer si no sale error  \n",
    "except:  \n",
    "--->hace otra cosa si sale error    "
   ]
  },
  {
   "cell_type": "code",
   "execution_count": 9,
   "id": "dominican-tomato",
   "metadata": {
    "id": "dominican-tomato"
   },
   "outputs": [],
   "source": [
    "# tu codigo aqui"
   ]
  },
  {
   "cell_type": "code",
   "execution_count": null,
   "id": "lonely-orientation",
   "metadata": {},
   "outputs": [],
   "source": []
  }
 ],
 "metadata": {
  "colab": {
   "collapsed_sections": [],
   "name": "Tarea1_ejercicios_de_numeros.ipynb",
   "provenance": [
    {
     "file_id": "https://github.com/Malejandrasc/ComputationalNumericalMethods/blob/master/numeros_ejercicios.ipynb",
     "timestamp": 1637513573589
    }
   ]
  },
  "kernelspec": {
   "display_name": "Python 3",
   "language": "python",
   "name": "python3"
  },
  "language_info": {
   "codemirror_mode": {
    "name": "ipython",
    "version": 3
   },
   "file_extension": ".py",
   "mimetype": "text/x-python",
   "name": "python",
   "nbconvert_exporter": "python",
   "pygments_lexer": "ipython3",
   "version": "3.7.2"
  }
 },
 "nbformat": 4,
 "nbformat_minor": 5
}
