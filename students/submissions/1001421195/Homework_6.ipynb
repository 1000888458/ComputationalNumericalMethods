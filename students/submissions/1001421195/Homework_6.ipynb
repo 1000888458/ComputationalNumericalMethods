{
  "nbformat": 4,
  "nbformat_minor": 0,
  "metadata": {
    "colab": {
      "name": "Homework_6.ipynb",
      "provenance": []
    },
    "kernelspec": {
      "name": "python3",
      "display_name": "Python 3"
    },
    "language_info": {
      "name": "python"
    }
  },
  "cells": [
    {
      "cell_type": "markdown",
      "source": [
        "\n",
        "*   create notebook called: homework_6.ipynb (no spaces please)\n",
        "*   inside write a function: deriv(func,a,method,h) func is a function that I can define a is a point (float) at which I wante to evaluate the derivative method is a string, and can have three options forward,central,backward h is a step\n",
        "\n",
        "\n",
        "*   remember the function must not print anything, just return a single value!!!\n",
        "*   to choose between schemes ('central','forward'..) use if, elif\n"
      ],
      "metadata": {
        "id": "25YwZgw0bUDb"
      }
    },
    {
      "cell_type": "code",
      "execution_count": 1,
      "metadata": {
        "id": "QHp76bAfbPRL"
      },
      "outputs": [],
      "source": [
        "def function(x):\n",
        "    return x**3.0"
      ]
    },
    {
      "cell_type": "code",
      "source": [
        "def deriv(function,a,method,h):\n",
        "  if method == \"forward\": \n",
        "    result=(function(a+h)-function(a))/h\n",
        "    return result\n",
        "  elif method==\"central\":\n",
        "    result=(function(a+h)-function(a-h))/(2*h)\n",
        "    return result\n",
        "  elif method== \"backward\":\n",
        "    result=(function(a)-function(a-h))/h\n",
        "    return result"
      ],
      "metadata": {
        "id": "XXhyDjA1cdYQ"
      },
      "execution_count": 2,
      "outputs": []
    },
    {
      "cell_type": "code",
      "source": [
        "print(deriv(function,2.0,method='forward',h=0.1) )"
      ],
      "metadata": {
        "colab": {
          "base_uri": "https://localhost:8080/"
        },
        "id": "OHqOo3qPcLpK",
        "outputId": "81e0e670-1688-47c8-eeb2-9891f67feab0"
      },
      "execution_count": 3,
      "outputs": [
        {
          "output_type": "stream",
          "name": "stdout",
          "text": [
            "12.61000000000001\n"
          ]
        }
      ]
    },
    {
      "cell_type": "code",
      "source": [
        "print(deriv(function,2.0,method='backward',h=0.1))"
      ],
      "metadata": {
        "colab": {
          "base_uri": "https://localhost:8080/"
        },
        "id": "80BPYPmWekl5",
        "outputId": "24830d84-a8e1-4445-d851-ffe395ba8243"
      },
      "execution_count": 4,
      "outputs": [
        {
          "output_type": "stream",
          "name": "stdout",
          "text": [
            "11.410000000000009\n"
          ]
        }
      ]
    },
    {
      "cell_type": "code",
      "source": [
        "print(deriv(function,2.0,method='central',h=0.1)) "
      ],
      "metadata": {
        "colab": {
          "base_uri": "https://localhost:8080/"
        },
        "id": "2ipqn4lQez6z",
        "outputId": "cc0ac2ee-6499-4adf-9557-229b626a05b4"
      },
      "execution_count": 5,
      "outputs": [
        {
          "output_type": "stream",
          "name": "stdout",
          "text": [
            "12.010000000000009\n"
          ]
        }
      ]
    }
  ]
}