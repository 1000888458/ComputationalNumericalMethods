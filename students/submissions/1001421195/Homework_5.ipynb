{
  "nbformat": 4,
  "nbformat_minor": 0,
  "metadata": {
    "colab": {
      "name": "Homework_5.ipynb",
      "provenance": []
    },
    "kernelspec": {
      "name": "python3",
      "display_name": "Python 3"
    },
    "language_info": {
      "name": "python"
    }
  },
  "cells": [
    {
      "cell_type": "code",
      "source": [
        "def cuadratic_interp(x,y,xinterp):\n",
        "  if len(x)==3 and len(y)==3:\n",
        "    if x[0]<xinterp<x[len(x)-1]:\n",
        "\n",
        "      b=y[0]\n",
        "      b1=(y[1]-y[0])/(x[1]-x[0])\n",
        "      b2=(((y[2]-y[1])/(x[2]-x[1])) - ((y[1]-y[0])/(x[1]-x[0])))/ (x[2]-x[0])\n",
        "      yinterp=b+b1*(xinterp-x[0])+ b2*(xinterp-x[0])*(xinterp-x[1])\n",
        "      return yinterp\n",
        "    else:\n",
        "      print(\"el valor a interpolar debe estar en el intervalo X0<  x  < X2\")\n",
        "  else:\n",
        "    print(\"los vectores deben ser de dimension 3\")"
      ],
      "metadata": {
        "id": "-0yEKIwxP_AS"
      },
      "execution_count": 2,
      "outputs": []
    }
  ]
}