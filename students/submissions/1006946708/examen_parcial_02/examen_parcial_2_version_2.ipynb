{
 "cells": [
  {
   "cell_type": "markdown",
   "id": "plain-rugby",
   "metadata": {
    "id": "plain-rugby"
   },
   "source": [
    "# Examen parcial 2 (raizes y ~interpolacion)\n",
    "* Antes de enviar el archivo, $\\textbf{reiniciar y ejecutar el kernel}$ para ver que el archivo se compila sin errores\n",
    "* enviar el archivo jupyter sin anexos antes de las 10.10am del 04.03.2022 a mi dirección de correo electrónico: michal.hemmerling@udea.edu.co "
   ]
  },
  {
   "cell_type": "markdown",
   "id": "usual-washer",
   "metadata": {
    "id": "usual-washer"
   },
   "source": [
    "# Ejercicio"
   ]
  },
  {
   "cell_type": "markdown",
   "id": "complete-chester",
   "metadata": {
    "id": "complete-chester"
   },
   "source": [
    "Bajo ciertas condiciones, los dispositivos ópticos como los láseres pueden mostrar un comportamiento complejo en el perfil del rayo de luz.\n",
    "\n",
    "\n",
    "<table><tr>\n",
    "<td> <img src=\"nonlinear_behaviour.png\" width=\"600\" /> </td>\n",
    "</tr></table>\n",
    " \n",
    "Para un dispositivo óptico particular que consiste en un medio no lineal dentro de una cavidad óptica, esto sólo ocurre cuando la intensidad I se encuentra dentro de un cierto rango que está dado por la ecuación: \n",
    "\n",
    "$$f(x)=(x+1)^2 - c(x-1) < 0 $$\n",
    "\n",
    "donde $x$ es la intensidad del campo eléctrico y $c$ es la fuerza de la absorción del \n",
    "medio no lineal. "
   ]
  },
  {
   "cell_type": "markdown",
   "id": "pretty-conference",
   "metadata": {
    "id": "pretty-conference"
   },
   "source": [
    "## 1. \n",
    "Cree una función llamada `f_cost` que reciba dos parámetros (x,c) y solo devuelva la función f(x) como se mencionó anteriormente."
   ]
  },
  {
   "cell_type": "code",
   "execution_count": null,
   "id": "valuable-august",
   "metadata": {
    "id": "valuable-august"
   },
   "outputs": [],
   "source": [
    "def f_cost(x,c):\n",
    "    return (x+1)**2 -c*(x-1)\n",
    "\n"
   ]
  },
  {
   "cell_type": "markdown",
   "id": "broken-belfast",
   "metadata": {
    "id": "broken-belfast"
   },
   "source": [
    "## 2. \n",
    "Usando funcion `f_cost` haz un gráfico con cuatro curvas para c=5,10,15,20 y con x entre -10,20 (50 puntos)\n",
    "* hacer que cada curva sea de un color diferente\n",
    "* añadir etiquetas"
   ]
  },
  {
   "cell_type": "code",
   "execution_count": null,
   "id": "written-adrian",
   "metadata": {
    "colab": {
     "base_uri": "https://localhost:8080/",
     "height": 282
    },
    "executionInfo": {
     "elapsed": 303,
     "status": "ok",
     "timestamp": 1646405608488,
     "user": {
      "displayName": "DAVID FERNANDO ALAVA MAYA",
      "photoUrl": "https://lh3.googleusercontent.com/a/default-user=s64",
      "userId": "15344760177903602975"
     },
     "user_tz": 300
    },
    "id": "written-adrian",
    "outputId": "a0735b5f-a197-46dd-9a25-c06652e835c3"
   },
   "outputs": [
    {
     "data": {
      "text/plain": [
       "<function matplotlib.pyplot.show>"
      ]
     },
     "execution_count": 61,
     "metadata": {},
     "output_type": "execute_result"
    },
    {
     "data": {
      "image/png": "[encoded data removed]",
      "text/plain": [
       "<Figure size 432x288 with 1 Axes>"
      ]
     },
     "metadata": {
      "needs_background": "light"
     },
     "output_type": "display_data"
    }
   ],
   "source": [
    "import numpy as np \n",
    "import scipy.optimize as optimize\n",
    "import matplotlib.pyplot as plt\n",
    "\n",
    "xvec=np.linspace(-10,20,100)\n",
    "\n",
    "yvec1=f_cost(xvec,5)\n",
    "\n",
    "yvec2=f_cost(xvec,10)\n",
    "\n",
    "yvec3=f_cost(xvec,15)\n",
    "\n",
    "yvec4=f_cost(xvec,20)\n",
    "\n",
    "fig ,ax = plt.subplots(1,1)\n",
    "\n",
    "ax.plot(xvec,yvec1 ,label='c=5')\n",
    "ax.plot(xvec,yvec2,label='c=10')\n",
    "ax.plot(xvec,yvec3,label='c=15')\n",
    "ax.plot(xvec,yvec4,label='c=20')\n",
    "ax.legend()\n",
    "plt.show\n"
   ]
  },
  {
   "cell_type": "markdown",
   "id": "dietary-steel",
   "metadata": {
    "id": "dietary-steel"
   },
   "source": [
    "## 2a. Para cual `c` esta funcion no tiene raices?"
   ]
  },
  {
   "cell_type": "code",
   "execution_count": null,
   "id": "handy-teaching",
   "metadata": {
    "id": "handy-teaching"
   },
   "outputs": [],
   "source": [
    "#respuesta:\n",
    "#En la grafica se ve que f(x) nunca se hace cero para c=5 por lo que no hay raices en c=5\n"
   ]
  },
  {
   "cell_type": "markdown",
   "id": "hollywood-respondent",
   "metadata": {
    "id": "hollywood-respondent"
   },
   "source": [
    "## 3. \n",
    "Cree una función llamada `root_finding()` que devuelva el valor de la raíz (si existiera) para cada parametro `c` (pense `Newton` o `bisecion`). Usando esta funcion vamos a buscar primero raiz izquierda y despues raiz derecha."
   ]
  },
  {
   "cell_type": "code",
   "execution_count": null,
   "id": "korean-mistake",
   "metadata": {
    "id": "korean-mistake"
   },
   "outputs": [],
   "source": [
    "# tu codigo:\n",
    "def root_finding(f_cost,start,c): \n",
    "    try:\n",
    "        root = optimize.newton(f_cost, start,args=(c,))\n",
    "    except:\n",
    "        root=np.nan\n",
    "    return root\n",
    "\n",
    "\n",
    "    "
   ]
  },
  {
   "cell_type": "markdown",
   "id": "improving-vault",
   "metadata": {
    "id": "improving-vault"
   },
   "source": [
    "## 4a. \n",
    "Primero vamos a mirar el comportamiento de raiz de lado izquierda: Defina el vector `c_vec` que contiene 50 valores de 5 a 100. En el loop, llame a la función `root_finding()` para cada valor `c` en el vector `c_vec`. Guarda los resultados en variable `left_roots`"
   ]
  },
  {
   "cell_type": "code",
   "execution_count": null,
   "id": "aging-binary",
   "metadata": {
    "id": "aging-binary"
   },
   "outputs": [],
   "source": [
    "c_vec=np.linspace(5,100,50)\n",
    "\n",
    "leftroots=[]\n",
    "start=2\n",
    "for c in c_vec:\n",
    "    try:\n",
    "        root = root_finding(f_cost,start,c)\n",
    "    except:\n",
    "        root=np.nan\n",
    "        \n",
    "    leftroots.append(root)\n"
   ]
  },
  {
   "cell_type": "markdown",
   "id": "another-jacksonville",
   "metadata": {
    "id": "another-jacksonville"
   },
   "source": [
    "## 4b \n",
    "Hacer un gráfico de raíz izquierda vs c"
   ]
  },
  {
   "cell_type": "code",
   "execution_count": null,
   "id": "impaired-miniature",
   "metadata": {
    "colab": {
     "base_uri": "https://localhost:8080/",
     "height": 296
    },
    "executionInfo": {
     "elapsed": 343,
     "status": "ok",
     "timestamp": 1646405608816,
     "user": {
      "displayName": "DAVID FERNANDO ALAVA MAYA",
      "photoUrl": "https://lh3.googleusercontent.com/a/default-user=s64",
      "userId": "15344760177903602975"
     },
     "user_tz": 300
    },
    "id": "impaired-miniature",
    "outputId": "c27a7987-d5da-45c5-8c6f-66d618d1cabf"
   },
   "outputs": [
    {
     "data": {
      "text/plain": [
       "Text(0, 0.5, 'root')"
      ]
     },
     "execution_count": 65,
     "metadata": {},
     "output_type": "execute_result"
    },
    {
     "data": {
      "image/png": "[encoded data removed]",
      "text/plain": [
       "<Figure size 432x288 with 1 Axes>"
      ]
     },
     "metadata": {
      "needs_background": "light"
     },
     "output_type": "display_data"
    }
   ],
   "source": [
    "import numpy as np\n",
    "import matplotlib.pyplot as plt\n",
    "fig,ax = plt.subplots(1,1)\n",
    "#ax.plot(c_vec,results,'.k')\n",
    "ax.scatter(c_vec,leftroots,s=100,c='r')\n",
    "ax.grid('True')\n",
    "ax.set_xlabel('c')\n",
    "ax.set_ylabel('root')\n",
    "\n"
   ]
  },
  {
   "cell_type": "markdown",
   "id": "seasonal-seafood",
   "metadata": {
    "id": "seasonal-seafood"
   },
   "source": [
    "## 5a. \n",
    "Ahora vamos a mirar el comportamiento de raiz de lado derecha: Defina el vector `c_vec` que contiene 50 valores de 5 a 100. En el loop, llame a la función `root_finding()` para cada valor `c` en el vector `c_vec`. Guarda los resultados en variable `right_roots`."
   ]
  },
  {
   "cell_type": "code",
   "execution_count": null,
   "id": "mobile-finger",
   "metadata": {
    "id": "mobile-finger"
   },
   "outputs": [],
   "source": [
    "c_vec=np.linspace(5,100,50)\n",
    "\n",
    "rightroots=[]\n",
    "start=100\n",
    "for c in c_vec:\n",
    "    try:\n",
    "        root = root_finding(f_cost,start,c)\n",
    "    except:\n",
    "        root=np.nan\n",
    "        \n",
    "    rightroots.append(root)\n"
   ]
  },
  {
   "cell_type": "markdown",
   "id": "direct-wrestling",
   "metadata": {
    "id": "direct-wrestling"
   },
   "source": [
    "## 5b\n",
    "* Hacer un gráfico de raíz derecha vs c"
   ]
  },
  {
   "cell_type": "code",
   "execution_count": null,
   "id": "forty-importance",
   "metadata": {
    "colab": {
     "base_uri": "https://localhost:8080/",
     "height": 297
    },
    "executionInfo": {
     "elapsed": 27,
     "status": "ok",
     "timestamp": 1646405608820,
     "user": {
      "displayName": "DAVID FERNANDO ALAVA MAYA",
      "photoUrl": "https://lh3.googleusercontent.com/a/default-user=s64",
      "userId": "15344760177903602975"
     },
     "user_tz": 300
    },
    "id": "forty-importance",
    "outputId": "9ed95f02-1ece-4608-adf6-1eb26a15416f"
   },
   "outputs": [
    {
     "data": {
      "text/plain": [
       "Text(0, 0.5, 'root')"
      ]
     },
     "execution_count": 67,
     "metadata": {},
     "output_type": "execute_result"
    },
    {
     "data": {
      "image/png": "[encoded data removed]",
      "text/plain": [
       "<Figure size 432x288 with 1 Axes>"
      ]
     },
     "metadata": {
      "needs_background": "light"
     },
     "output_type": "display_data"
    }
   ],
   "source": [
    "\n",
    "import numpy as np\n",
    "import matplotlib.pyplot as plt\n",
    "fig,ax = plt.subplots(1,1)\n",
    "#ax.plot(c_vec,results,'.k')\n",
    "ax.scatter(c_vec,rightroots,s=100,c='r')\n",
    "ax.grid('True')\n",
    "ax.set_xlabel('c')\n",
    "ax.set_ylabel('root')\n"
   ]
  },
  {
   "cell_type": "markdown",
   "id": "portuguese-martial",
   "metadata": {
    "id": "portuguese-martial"
   },
   "source": [
    "## 6. \n",
    "Pregunta:\n",
    "* este cierto *rango* para cual se obtiene un comportamiento complejo esta convergente o divergente cuando `c` es creciente\n",
    "* si este rango esta convergiendo, ¿a qué valor?\n",
    "* si este rango esta divergente, como esta divergente (lineal, cuadrático, diferente)"
   ]
  },
  {
   "cell_type": "code",
   "execution_count": null,
   "id": "stretch-hypothetical",
   "metadata": {
    "id": "stretch-hypothetical"
   },
   "outputs": [],
   "source": [
    "# respuesta:\n",
    "#Las raices de la izquierda tienden a un valor maximo de 1  y las raices de la derecha tienden a infinito \n",
    "#las raices de la derecha crecen linealmente por lo que al restarles las raices de la izquierda  para encontrar el rango \n",
    "# este tambien diverge de forma lineal. \n",
    "#\n",
    "#"
   ]
  },
  {
   "cell_type": "code",
   "execution_count": null,
   "id": "primary-familiar",
   "metadata": {
    "colab": {
     "base_uri": "https://localhost:8080/",
     "height": 285
    },
    "executionInfo": {
     "elapsed": 402,
     "status": "ok",
     "timestamp": 1646405609204,
     "user": {
      "displayName": "DAVID FERNANDO ALAVA MAYA",
      "photoUrl": "https://lh3.googleusercontent.com/a/default-user=s64",
      "userId": "15344760177903602975"
     },
     "user_tz": 300
    },
    "id": "primary-familiar",
    "outputId": "77402b3f-5f02-4fb6-c31d-716ee80ccbba"
   },
   "outputs": [
    {
     "data": {
      "text/plain": [
       "[<matplotlib.lines.Line2D at 0x7ff65f60e850>]"
      ]
     },
     "execution_count": 69,
     "metadata": {},
     "output_type": "execute_result"
    },
    {
     "data": {
      "image/png": "[encoded data removed]",
      "text/plain": [
       "<Figure size 432x288 with 1 Axes>"
      ]
     },
     "metadata": {
      "needs_background": "light"
     },
     "output_type": "display_data"
    }
   ],
   "source": [
    "r=np.array(rightroots)\n",
    "l=np.array(leftroots)\n",
    "\n",
    "rango = r-l\n",
    " \n",
    "plt.plot(c_vec, rango)\n"
   ]
  },
  {
   "cell_type": "markdown",
   "id": "modern-characteristic",
   "metadata": {},
   "source": [
    "# Feedback:\n",
    "\n",
    "`Correct implementation of the f_cost function + labeled plot \t  (max 2.0p):\t2.0p`\n",
    "`Correct implementation of the root finding function \t\t       (max 2.0p):\t2.0p`\n",
    "`Correct result of the evolution of the left roots (+ plot)\t     (max 2.0p):\t2.0p`\n",
    "`Correct result of the evolution of the right roots (+ plot)\t    (max 2.0p):\t2.0p`\n",
    "`Correct conclusion of the range behavious\t\t\t              (max 2.0p):\t2.0p`\n",
    "\n",
    "`- Total:                                                          (max 10.0p):   10.0p`\n",
    "`"
   ]
  },
  {
   "cell_type": "code",
   "execution_count": null,
   "id": "guilty-calgary",
   "metadata": {},
   "outputs": [],
   "source": []
  }
 ],
 "metadata": {
  "colab": {
   "collapsed_sections": [],
   "name": "examen_parcial_2_version_2_David_Alava.ipynb",
   "provenance": []
  },
  "kernelspec": {
   "display_name": "Python 3",
   "language": "python",
   "name": "python3"
  },
  "language_info": {
   "codemirror_mode": {
    "name": "ipython",
    "version": 3
   },
   "file_extension": ".py",
   "mimetype": "text/x-python",
   "name": "python",
   "nbconvert_exporter": "python",
   "pygments_lexer": "ipython3",
   "version": "3.7.2"
  }
 },
 "nbformat": 4,
 "nbformat_minor": 5
}
