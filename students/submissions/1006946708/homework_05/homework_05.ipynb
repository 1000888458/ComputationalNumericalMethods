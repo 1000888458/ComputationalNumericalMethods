{
 "cells": [
  {
   "cell_type": "code",
   "execution_count": 1,
   "id": "b7ab0455",
   "metadata": {},
   "outputs": [],
   "source": [
    "#Tarea 5 interpolacion :\n",
    "import numpy as np\n",
    "def cuadratic_interp(x,y,xinterp):#Definimos la funcion para interpolacion cuadratica\n",
    "    if len(x)==3 and len(y)==3:#Nos aseguramos de que los vectores sean de 3 dimensiones\n",
    "        b_0=y[0]\n",
    "        b_1=(y[1]-y[0])/(x[1]-x[0])\n",
    "        b_2=(((y[2]-y[1])/(x[2]-x[1])) - ((y[1]-y[0]) /(x[1]-x[0]))) /(x[2]-x[0])\n",
    "        yinterp=b_0 + b_1*(xinterp-x[0]) + b_2*(xinterp-x[0])*(xinterp-x[1])#Formula para interpolacion cuadratica\n",
    "        return  yinterp \n",
    "       \n",
    "    else:\n",
    "        print(\"Los vectores deben ser de dimension 3  \")\n",
    "      "
   ]
  },
  {
   "cell_type": "code",
   "execution_count": null,
   "id": "2a823d2c",
   "metadata": {},
   "outputs": [],
   "source": []
  },
  {
   "cell_type": "code",
   "execution_count": null,
   "id": "a6440189",
   "metadata": {},
   "outputs": [],
   "source": []
  },
  {
   "cell_type": "code",
   "execution_count": null,
   "id": "ff9b0453",
   "metadata": {},
   "outputs": [],
   "source": []
  },
  {
   "cell_type": "code",
   "execution_count": null,
   "id": "fb0bcb8e",
   "metadata": {},
   "outputs": [],
   "source": []
  }
 ],
 "metadata": {
  "kernelspec": {
   "display_name": "Python 3 (ipykernel)",
   "language": "python",
   "name": "python3"
  },
  "language_info": {
   "codemirror_mode": {
    "name": "ipython",
    "version": 3
   },
   "file_extension": ".py",
   "mimetype": "text/x-python",
   "name": "python",
   "nbconvert_exporter": "python",
   "pygments_lexer": "ipython3",
   "version": "3.9.7"
  }
 },
 "nbformat": 4,
 "nbformat_minor": 5
}
