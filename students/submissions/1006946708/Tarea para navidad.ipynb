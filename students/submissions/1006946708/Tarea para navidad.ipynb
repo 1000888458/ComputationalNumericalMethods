{
 "cells": [
  {
   "cell_type": "markdown",
   "id": "7cdc9db5",
   "metadata": {},
   "source": [
    "Tarea para navidad\n",
    "1)usamos newton rapshon para obtener las raices de la funcion "
   ]
  },
  {
   "cell_type": "code",
   "execution_count": 41,
   "id": "1c8933b6",
   "metadata": {},
   "outputs": [
    {
     "name": "stdout",
     "output_type": "stream",
     "text": [
      "raiz en:  3.3166248287715487\n",
      "con error de:  0.0005048008580810226\n"
     ]
    }
   ],
   "source": [
    "\n",
    "\n",
    "\n",
    "\n",
    "import numpy as np\n",
    "\n",
    "# INGRESO\n",
    "fx  = lambda x:x**2-11.0\n",
    "dfx = lambda x: 2*x\n",
    "\n",
    "x0 = 4\n",
    "tolera = 0.001\n",
    "\n",
    "# PROCEDIMIENTO\n",
    "tabla=[]\n",
    "tramo = abs(2*tolera)\n",
    "xi = x0\n",
    "while (tramo>=tolera):\n",
    "    xnuevo = xi - fx(xi)/dfx(xi)\n",
    "    tramo  = abs(xnuevo-xi)\n",
    "    \n",
    "    xi = xnuevo\n",
    "\n",
    "# convierte la lista a un arreglo.\n",
    "\n",
    "\n",
    "# SALIDA\n",
    "\n",
    "print('raiz en: ', xi)\n",
    "print('con error de: ',tramo)"
   ]
  },
  {
   "cell_type": "markdown",
   "id": "18064ccc",
   "metadata": {},
   "source": [
    "2) Usamos el metodo de biseccion con otra funcion "
   ]
  },
  {
   "cell_type": "code",
   "execution_count": 43,
   "id": "32ad2c70",
   "metadata": {},
   "outputs": [
    {
     "name": "stdout",
     "output_type": "stream",
     "text": [
      "raiz en:  1.3642578125\n",
      "error en tramo:  0.0009765625\n",
      "Valores aproximados de la raiz [1.5, 1.25, 1.375, 1.3125, 1.34375, 1.359375, 1.3671875, 1.36328125, 1.365234375, 1.3642578125]\n"
     ]
    }
   ],
   "source": [
    "# Algoritmo de Bisección\n",
    "# [a,b] se escogen de la gráfica de la función\n",
    "# error = tolera\n",
    "\n",
    "import numpy as np\n",
    "import matplotlib.pyplot as plt\n",
    "\n",
    "# INGRESO\n",
    "fx = lambda x: x**3 + 4*x**2 - 10 \n",
    "a = 1\n",
    "b = 2\n",
    "tolera = 0.001\n",
    "\n",
    "# PROCEDIMIENTO\n",
    "tabla=[]\n",
    "tramo = b-a\n",
    "while not(tramo<tolera):\n",
    "    c = (a+b)/2\n",
    "    fa = fx(a)\n",
    "    fb = fx(b)\n",
    "    fc = fx(c)\n",
    "    cambia = np.sign(fa)*np.sign(fc)\n",
    "    if cambia < 0: \n",
    "        a = a\n",
    "        b = c\n",
    "    if cambia > 0:\n",
    "        a = c\n",
    "        b = b\n",
    "    tramo = b-a\n",
    "    tabla.append(c)\n",
    "# SALIDA\n",
    "print('raiz en: ', c)\n",
    "print('error en tramo: ', tramo)\n",
    "\n",
    "print(\"Valores aproximados de la raiz\",tabla)"
   ]
  },
  {
   "cell_type": "markdown",
   "id": "ae935e6c",
   "metadata": {},
   "source": [
    "3) Plot de aproximacion"
   ]
  },
  {
   "cell_type": "code",
   "execution_count": 44,
   "id": "b6985fde",
   "metadata": {},
   "outputs": [
    {
     "data": {
      "image/png": "[encoded data removed]",
      "text/plain": [
       "<Figure size 504x360 with 1 Axes>"
      ]
     },
     "metadata": {
      "needs_background": "light"
     },
     "output_type": "display_data"
    }
   ],
   "source": [
    "import matplotlib.pyplot as plt\n",
    "y = [1,2,3,4,5,6,7,8,9, 10]\n",
    "fig, ax = plt.subplots(1,1,figsize=(7,5))\n",
    "ax.plot(tabla,y,'.',)\n",
    "\n",
    "ax.set_title('Evolucion de aproximacion ')\n",
    "ax.set_ylabel('Intento')\n",
    "ax.set_xlabel('valor aproximado de la raiz')\n",
    "ax.grid(True)\n",
    "fig.savefig('my_plot.png')"
   ]
  },
  {
   "cell_type": "markdown",
   "id": "d789f986",
   "metadata": {},
   "source": [
    "4) Elegimos una funcion para aproximar su raiz con el metodo newton_raphson "
   ]
  },
  {
   "cell_type": "code",
   "execution_count": 47,
   "id": "11a11e7a",
   "metadata": {},
   "outputs": [
    {
     "name": "stdout",
     "output_type": "stream",
     "text": [
      "Valores aproximados de la raiz [4, 10.274766375254195, 9.292437147539687, 8.330279973585615, 7.408448971375991, 6.562462332085855, 5.847948399115507, 5.336520571827565, 5.0797017972922545, 5.020506492258799, 5.017710637022702]\n",
      "raiz en:  5.0177046424295435\n",
      "con error de:  5.994593158753503e-06\n"
     ]
    }
   ],
   "source": [
    "import numpy as np\n",
    "\n",
    "# INGRESO\n",
    "fx  = lambda x:np.e**x - 6*x**2\n",
    "dfx = lambda x: np.e**x - 12*x\n",
    "\n",
    "x0 = 4\n",
    "tolera = 0.001\n",
    "\n",
    "# PROCEDIMIENTO\n",
    "tabla=[]\n",
    "tramo = abs(2*tolera)\n",
    "xi = x0\n",
    "while (tramo>=tolera):\n",
    "    xnuevo = xi - fx(xi)/dfx(xi)\n",
    "    tramo  = abs(xnuevo-xi)\n",
    "    tabla.append(xi)\n",
    "    xi = xnuevo\n",
    "\n",
    "# convierte la lista a un arreglo.\n",
    "\n",
    "\n",
    "# SALIDA\n",
    "print(\"Valores aproximados de la raiz\",tabla)\n",
    "print('raiz en: ', xi)\n",
    "print('con error de: ',tramo)"
   ]
  },
  {
   "cell_type": "markdown",
   "id": "448e698a",
   "metadata": {},
   "source": [
    "5) Plot de aproximacion"
   ]
  },
  {
   "cell_type": "code",
   "execution_count": 40,
   "id": "6641812a",
   "metadata": {},
   "outputs": [
    {
     "data": {
      "image/png": "[encoded data removed]",
      "text/plain": [
       "<Figure size 504x360 with 1 Axes>"
      ]
     },
     "metadata": {
      "needs_background": "light"
     },
     "output_type": "display_data"
    }
   ],
   "source": [
    "import matplotlib.pyplot as plt\n",
    "y = [1,2,3,4,5,6,7,8,9, 10,11]\n",
    "fig, ax = plt.subplots(1,1,figsize=(7,5))\n",
    "ax.plot(tabla,y,'.',)\n",
    "\n",
    "ax.set_title('Evolucion de aproximacion ')\n",
    "ax.set_ylabel('Intento')\n",
    "ax.set_xlabel('valor aproximado de la raiz')\n",
    "ax.grid(True)\n",
    "fig.savefig('my_plot.png')"
   ]
  },
  {
   "cell_type": "code",
   "execution_count": null,
   "id": "d71eba29",
   "metadata": {},
   "outputs": [],
   "source": []
  },
  {
   "cell_type": "code",
   "execution_count": null,
   "id": "b07ea13f",
   "metadata": {},
   "outputs": [],
   "source": []
  }
 ],
 "metadata": {
  "kernelspec": {
   "display_name": "Python 3 (ipykernel)",
   "language": "python",
   "name": "python3"
  },
  "language_info": {
   "codemirror_mode": {
    "name": "ipython",
    "version": 3
   },
   "file_extension": ".py",
   "mimetype": "text/x-python",
   "name": "python",
   "nbconvert_exporter": "python",
   "pygments_lexer": "ipython3",
   "version": "3.9.7"
  }
 },
 "nbformat": 4,
 "nbformat_minor": 5
}
