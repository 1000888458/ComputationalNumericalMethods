{
 "cells": [
  {
   "cell_type": "code",
   "execution_count": 5,
   "id": "066cf764",
   "metadata": {},
   "outputs": [],
   "source": [
    "#Tarea 6 derivacion, David Alava\n",
    "def deriv(func,a,method,h):\n",
    "        if method==\"forward\":\n",
    "            dx=(func(a+h)-func(a))/(h)\n",
    "            return dx\n",
    "        elif method==\"backward\":\n",
    "            dx=(func(a)-func(a-h))/(h)\n",
    "            return dx\n",
    "        elif method==\"central\":\n",
    "            dx=(func(a+h)-func(a-h))/(2*h)\n",
    "            return dx\n",
    "\n"
   ]
  },
  {
   "cell_type": "code",
   "execution_count": null,
   "id": "d6f8a4df",
   "metadata": {},
   "outputs": [],
   "source": []
  },
  {
   "cell_type": "code",
   "execution_count": 6,
   "id": "d5b58ca9",
   "metadata": {},
   "outputs": [],
   "source": [
    "import numpy as np\n",
    "test_vals=np.array([2.0,3.0,4.0])\n",
    "\n",
    "def func(x):\n",
    "    return x**3.0\n",
    "\n",
    "my_results=[]\n",
    "for val in test_vals:\n",
    "    result=deriv(func,val,method='backward',h=0.1)\n",
    "    my_results.append(result)"
   ]
  },
  {
   "cell_type": "code",
   "execution_count": 7,
   "id": "coastal-veteran",
   "metadata": {},
   "outputs": [
    {
     "name": "stdout",
     "output_type": "stream",
     "text": [
      "[11.410000000000009, 26.110000000000007, 46.810000000000045]\n"
     ]
    }
   ],
   "source": [
    "print(my_results)"
   ]
  },
  {
   "cell_type": "code",
   "execution_count": null,
   "id": "traditional-emphasis",
   "metadata": {},
   "outputs": [],
   "source": []
  }
 ],
 "metadata": {
  "kernelspec": {
   "display_name": "Python 3",
   "language": "python",
   "name": "python3"
  },
  "language_info": {
   "codemirror_mode": {
    "name": "ipython",
    "version": 3
   },
   "file_extension": ".py",
   "mimetype": "text/x-python",
   "name": "python",
   "nbconvert_exporter": "python",
   "pygments_lexer": "ipython3",
   "version": "3.7.2"
  }
 },
 "nbformat": 4,
 "nbformat_minor": 5
}
