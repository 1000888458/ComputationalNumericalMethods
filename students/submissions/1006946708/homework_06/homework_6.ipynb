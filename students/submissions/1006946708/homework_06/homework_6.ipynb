{
 "cells": [
  {
   "cell_type": "code",
   "execution_count": 3,
   "id": "066cf764",
   "metadata": {},
   "outputs": [],
   "source": [
    "#Tarea 6 derivacion, David Alava\n",
    "def deriv(func,a,method,h):\n",
    "        if method==\"forward\":\n",
    "            dx=(func(a+h)-func(a))/(h)\n",
    "            return dx\n",
    "        elif method==\"backward\":\n",
    "            dx=(func(a)-func(a-h))/(h)\n",
    "            return dx\n",
    "        elif method==\"central\":\n",
    "            dx=(func(a+h)-func(a-h))/(2*h)\n",
    "            return dx\n",
    "\n"
   ]
  },
  {
   "cell_type": "code",
   "execution_count": null,
   "id": "d6f8a4df",
   "metadata": {},
   "outputs": [],
   "source": []
  },
  {
   "cell_type": "code",
   "execution_count": null,
   "id": "d5b58ca9",
   "metadata": {},
   "outputs": [],
   "source": []
  }
 ],
 "metadata": {
  "kernelspec": {
   "display_name": "Python 3 (ipykernel)",
   "language": "python",
   "name": "python3"
  },
  "language_info": {
   "codemirror_mode": {
    "name": "ipython",
    "version": 3
   },
   "file_extension": ".py",
   "mimetype": "text/x-python",
   "name": "python",
   "nbconvert_exporter": "python",
   "pygments_lexer": "ipython3",
   "version": "3.9.7"
  }
 },
 "nbformat": 4,
 "nbformat_minor": 5
}
