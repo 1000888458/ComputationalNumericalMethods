{
 "cells": [
  {
   "cell_type": "code",
   "execution_count": 1,
   "id": "0cbff3c8",
   "metadata": {},
   "outputs": [],
   "source": [
    "#Tarea 7 David Alava\n",
    "#Inegracion de montecarlo \n",
    "#Definimos la funcion:\n",
    "import numpy as np\n",
    "import scipy.integrate as integrate\n",
    "\n",
    "def integral_monte_carlo_1D(integrand,lim1,lim2,N):\n",
    "    x=np.random.uniform(lim1,lim2,N)\n",
    "    i=np.mean(integrand(x))*(lim2-lim1)\n",
    "    \n",
    "    return i\n",
    "\n"
   ]
  },
  {
   "cell_type": "code",
   "execution_count": 2,
   "id": "258633e5",
   "metadata": {},
   "outputs": [
    {
     "data": {
      "text/plain": [
       "5.7683789139740265"
      ]
     },
     "execution_count": 2,
     "metadata": {},
     "output_type": "execute_result"
    }
   ],
   "source": [
    "#Testeamos la funcion\n",
    "def inte(x):\n",
    "    \n",
    "    return ((15*x**3 +21*x**2 +41*x + 3)**0.25)*(np.e**(-0.5*x))\n",
    "\n",
    "\n",
    "\n",
    "integral_monte_carlo_1D(inte,0.0,4.0,1000000)\n",
    "\n",
    "    "
   ]
  },
  {
   "cell_type": "code",
   "execution_count": 3,
   "id": "21f0c824",
   "metadata": {},
   "outputs": [
    {
     "name": "stdout",
     "output_type": "stream",
     "text": [
      "5.767433490695931\n"
     ]
    }
   ],
   "source": [
    "#Comprobamos con scipy,integrate\n",
    "I,error = integrate.quad(inte,0.0,4.0)\n",
    "print(I)"
   ]
  },
  {
   "cell_type": "code",
   "execution_count": null,
   "id": "33baf98e",
   "metadata": {},
   "outputs": [],
   "source": []
  },
  {
   "cell_type": "code",
   "execution_count": null,
   "id": "ce175297",
   "metadata": {},
   "outputs": [],
   "source": []
  }
 ],
 "metadata": {
  "kernelspec": {
   "display_name": "Python 3 (ipykernel)",
   "language": "python",
   "name": "python3"
  },
  "language_info": {
   "codemirror_mode": {
    "name": "ipython",
    "version": 3
   },
   "file_extension": ".py",
   "mimetype": "text/x-python",
   "name": "python",
   "nbconvert_exporter": "python",
   "pygments_lexer": "ipython3",
   "version": "3.9.7"
  }
 },
 "nbformat": 4,
 "nbformat_minor": 5
}
