{
 "cells": [
  {
   "cell_type": "markdown",
   "id": "super-silicon",
   "metadata": {
    "id": "super-silicon"
   },
   "source": [
    "# Exercicios sobre numeros :"
   ]
  },
  {
   "cell_type": "markdown",
   "id": "8a788628",
   "metadata": {},
   "source": [
    "### **Ya había subido la tarea al classroom, pero la subí al github ahora porque aprendí hace poco.**"
   ]
  },
  {
   "cell_type": "markdown",
   "id": "environmental-observation",
   "metadata": {
    "id": "environmental-observation"
   },
   "source": [
    "#### 1. Imprime primero 10 numeros naturales (1,2,3,4,5,6,7,8,9,10) usando \"for loop\" y print ()"
   ]
  },
  {
   "cell_type": "code",
   "execution_count": 3,
   "id": "executive-austria",
   "metadata": {
    "colab": {
     "base_uri": "https://localhost:8080/"
    },
    "id": "executive-austria",
    "outputId": "49b66d3c-69a6-4dd9-e6f0-59d68642dab6",
    "scrolled": true
   },
   "outputs": [
    {
     "name": "stdout",
     "output_type": "stream",
     "text": [
      "1\n",
      "2\n",
      "3\n",
      "4\n",
      "5\n",
      "6\n",
      "7\n",
      "8\n",
      "9\n",
      "10\n"
     ]
    }
   ],
   "source": [
    "# tu codigo aqui:\n",
    "for i in range(1,11): # i entre [1,10]\n",
    "  print(i) #imprimimos"
   ]
  },
  {
   "cell_type": "markdown",
   "id": "loving-george",
   "metadata": {
    "id": "loving-george"
   },
   "source": [
    "#### 2. Imprime primero 10 numeros naturales (1,2,3,4,5,6,7,8,9,10)  usando \"while loop\" y print ()"
   ]
  },
  {
   "cell_type": "code",
   "execution_count": 4,
   "id": "manufactured-international",
   "metadata": {
    "colab": {
     "base_uri": "https://localhost:8080/"
    },
    "id": "manufactured-international",
    "outputId": "9c9fde92-ce50-45ee-bfc9-683b31fb0b75"
   },
   "outputs": [
    {
     "name": "stdout",
     "output_type": "stream",
     "text": [
      "1\n",
      "2\n",
      "3\n",
      "4\n",
      "5\n",
      "6\n",
      "7\n",
      "8\n",
      "9\n",
      "10\n"
     ]
    }
   ],
   "source": [
    "# tu codigo aqui:\n",
    "i=1 #definimos contador i = 1 clase int()\n",
    "#---------------------------------------------------\n",
    "while (i < 11): #mientras que i sea menor que 11\n",
    "  print(i) #imprimimos\n",
    "#---------------------------------------------------\n",
    "  i += 1 #aumentamos el contador"
   ]
  },
  {
   "cell_type": "markdown",
   "id": "beginning-marine",
   "metadata": {
    "id": "beginning-marine"
   },
   "source": [
    "#### 3. Calcular la soma de numeros (1+2+3+4+5+6+7+8+9+10) usando \"for loop\" y guarda resultado en variable \"my_result\""
   ]
  },
  {
   "cell_type": "code",
   "execution_count": 5,
   "id": "neither-segment",
   "metadata": {
    "colab": {
     "base_uri": "https://localhost:8080/"
    },
    "id": "neither-segment",
    "outputId": "0aa03705-1cf0-44a0-9bf9-ee19d5f5f4fd"
   },
   "outputs": [
    {
     "name": "stdout",
     "output_type": "stream",
     "text": [
      "55\n"
     ]
    }
   ],
   "source": [
    "# tu codigo aqui:\n",
    "my_result = 0 #definimos variable my_result = 0 clase int()\n",
    "#----------------------------------------------------------------------------\n",
    "for i in range(1,11): # para las i naturales entre [1 y 10]\n",
    "  my_result += i #sumamos la i al valor inicial de my_result (0) y sobreescribimos la variable\n",
    "  #se repite el ciclo\n",
    "#-----------------------------------------------------------------------------\n",
    "print(my_result) #imprimimos"
   ]
  },
  {
   "cell_type": "markdown",
   "id": "indoor-roots",
   "metadata": {
    "id": "indoor-roots"
   },
   "source": [
    "#### 4. Calcular la soma de numeros (1+2+3+4+5+6+7+8+9+10) usando \"while loop\" y guardar resultado en variable \"my_result\""
   ]
  },
  {
   "cell_type": "code",
   "execution_count": 6,
   "id": "infrared-respondent",
   "metadata": {
    "colab": {
     "base_uri": "https://localhost:8080/"
    },
    "id": "infrared-respondent",
    "outputId": "265d7add-517d-4c43-961d-c31e126614d8"
   },
   "outputs": [
    {
     "name": "stdout",
     "output_type": "stream",
     "text": [
      "55\n"
     ]
    }
   ],
   "source": [
    "# tu codigo aqui:\n",
    "#-----------------------------------------------------------\n",
    "my_result = 0 #definimos variable my_result = 0 clase int()\n",
    "i = 1 #definimos contador i = 1 clase int()\n",
    "#----------------------------------------------------------\n",
    "while (i < 11): #mientras que i sea menor que 11\n",
    "   my_result = my_result + i # sumamos i al valor inicial de my_result (0) y sobreescribimos my_result \n",
    "   i += 1 #aumentamos el contador\n",
    "#------------------------------------------------------------\n",
    "print(my_result) #imprimimos\n"
   ]
  },
  {
   "cell_type": "markdown",
   "id": "polished-reason",
   "metadata": {
    "id": "polished-reason"
   },
   "source": [
    "#### 5. Calcular la soma de numeros par (2+4+6+8+10.. + ...100) usando \"for loop\" y guardar resultado en variable \"my_result\" (pista: usa condicion \"if\" y \"%\")"
   ]
  },
  {
   "cell_type": "code",
   "execution_count": 7,
   "id": "asian-publisher",
   "metadata": {
    "colab": {
     "base_uri": "https://localhost:8080/"
    },
    "id": "asian-publisher",
    "outputId": "b9b66bc9-aea5-4413-83f5-64a7a0c8e0a2"
   },
   "outputs": [
    {
     "name": "stdout",
     "output_type": "stream",
     "text": [
      "2550\n"
     ]
    }
   ],
   "source": [
    "# tu codigo aqui:\n",
    "my_result = 0 #definimos variable my_result = 0 clase int()\n",
    "#------------------------------------------------------------------------------------\n",
    "for i in range(1,101): # para las i entre [1 y 100]\n",
    "  #--------------------------------------------------------------------\n",
    "  if (i%2==0): #Si el resto de i/2 = 0, i es de la forma 2n -> i es par\n",
    "    my_result += i # sumamos i al valor inicial de my_result (0) y sobreescribimos my_result \n",
    "  #-----------------------------------------------------------------------\n",
    "#-----------------------------------------------------------------------------------\n",
    "print(my_result) #imprimimos"
   ]
  },
  {
   "cell_type": "markdown",
   "id": "accepted-jacksonville",
   "metadata": {
    "id": "accepted-jacksonville"
   },
   "source": [
    "#### 6. Calcular la soma de numeros impar (1+3+5+7+9+... + ...99) usando \"while loop\" y guardar resultado en variable \"my_result\" (pista: usa condicion \"if\" y \"%\")"
   ]
  },
  {
   "cell_type": "code",
   "execution_count": 9,
   "id": "assigned-parameter",
   "metadata": {
    "colab": {
     "base_uri": "https://localhost:8080/"
    },
    "id": "assigned-parameter",
    "outputId": "224f6edd-84b2-4bb0-ddee-929df9705c90"
   },
   "outputs": [
    {
     "name": "stdout",
     "output_type": "stream",
     "text": [
      "2500\n"
     ]
    }
   ],
   "source": [
    "# tu codigo aqui:\n",
    "my_result = 0 #definimos variable my_result = 0 clase int()\n",
    "#------------------------------------------------------------------------------------\n",
    "for i in range(1,101): # para las i entre [1 y 100]\n",
    "  #--------------------------------------------------------------------\n",
    "  if (i%2==1): #Si el resto de i/2 = 1, i es de la forma 2n + 1 -> i es impar\n",
    "    my_result += i # sumamos i al valor inicial de my_result (0) y sobreescribimos my_result \n",
    "  #-----------------------------------------------------------------------\n",
    "#-----------------------------------------------------------------------------------\n",
    "print(my_result) #imprimimos"
   ]
  },
  {
   "cell_type": "markdown",
   "id": "crucial-treat",
   "metadata": {
    "id": "crucial-treat"
   },
   "source": [
    "#### 7. Definir una function que se llama func_sum_even_odd(b) que recibe un parametro \"b\" - valor numerico. La funcion calcula soma de numeros pares y numeros impares separamente entre 0 y b (los dos valores incluidos) . La funcion guarda resultados en dos variables en sum_even, sum_odd y devuelve ambos usando \"return\". (usa metodo: while)\n",
    "\n",
    "ejemplo de ejecucion:   \n",
    "sum_even,sum_odd = func_sum_even_odd(10)  \n",
    "print(sum_even,sum_odd)  \n",
    "30,25  \n",
    "\n",
    "#### Pero si \"b\" no es ni integer ni float funcion devuelve sum_even=0,y sum_odd=0 y imprime mensaje: \"argument must be an integer or float\"   (usa: \"isinstance\" o negacion de isinstance: \"not isinstance\" conjunto con operador logico \"or\" para verificar si el argumento es int of float)\n",
    "\n",
    "ejemplo de ejecucion:  \n",
    "sum_even,sum_odd = func_sum_even_odd('z')  \n",
    "\"argument must be an integer or float\"  "
   ]
  },
  {
   "cell_type": "code",
   "execution_count": 10,
   "id": "comparative-corruption",
   "metadata": {
    "id": "comparative-corruption"
   },
   "outputs": [],
   "source": [
    "# tu codigo aqui\n",
    "def func_sum_even_odd(b): \n",
    "  '''Esta función recibe un parametro \"b\" (valor numerico). \\n La funcion calcula la suma de numeros pares y numeros impares separamente entre 0 y b \n",
    "    '''\n",
    "  #We need to know if b is a number (integer or float)\n",
    "  #----------------------------------------------------------------------------------------------------------------------\n",
    "  if isinstance(b,int) or isinstance(b,float): #Si b es int() o float()\n",
    "    sum_even = 0 #definimos la variable sum_even = 0 clase int()\n",
    "    i = 1 # definimos un contador i = 1 clase int()\n",
    "    sum_odd = 0 #definimos la variable sum_odd = 0 clase int()\n",
    "    #----------------------------------------------------------------------------------------------\n",
    "    while (i <= b): #mientras el contador sea menor que b\n",
    "    #-----------------------------------------\n",
    "      if (i%2==0):  # si el contador es par\n",
    "        sum_even += i # lo sumamos a sum_even y sobreescribimos su valor\n",
    "    #--------------------------------------------  \n",
    "      else: #si es impar\n",
    "        sum_odd += i # lo sumamos a sum_odd y sobreescribimos su valor\n",
    "    #-----------------------------------------------  \n",
    "      i = i + 1 #aumentamos el contador\n",
    "    #-------------------------------------------------------------------------------------------------\n",
    "    return sum_even, sum_odd #retornamos los valores\n",
    "  #----------------------------------------------------------------------------------------------------------------------\n",
    "  else: # si b no es ni int() ni float()\n",
    "    sum_even = 0 #definimos la variable sum_even = 0 clase int()\n",
    "    sum_odd = 0 #definimos la variable sum_odd = 0 clase int()\n",
    "    print('argument must be an integer or float') #imprimimos mensaje de error\n",
    "    return sum_even, sum_odd #retornamos los valores\n",
    "   #----------------------------------------------------------------------------------------------------------------------"
   ]
  },
  {
   "cell_type": "code",
   "execution_count": 11,
   "id": "qb1Ivi4z-_Lv",
   "metadata": {
    "colab": {
     "base_uri": "https://localhost:8080/"
    },
    "id": "qb1Ivi4z-_Lv",
    "outputId": "8d9933a7-8ffe-499e-8ae5-cb499766da78"
   },
   "outputs": [
    {
     "name": "stdout",
     "output_type": "stream",
     "text": [
      "30 25\n"
     ]
    }
   ],
   "source": [
    "par, impar = func_sum_even_odd(10) #usamos la función \n",
    "print(par,impar) #imprimimos"
   ]
  },
  {
   "cell_type": "markdown",
   "id": "contemporary-exemption",
   "metadata": {
    "id": "contemporary-exemption"
   },
   "source": [
    "#### 8. Modifica funcion anterior y usa conjunto: try:... except:... (mira arriva en el texto de la classe)\n",
    "try:   \n",
    "--->intenta hacer si no sale error  \n",
    "except:  \n",
    "--->hace otra cosa si sale error    "
   ]
  },
  {
   "cell_type": "code",
   "execution_count": 12,
   "id": "dominican-tomato",
   "metadata": {
    "id": "dominican-tomato"
   },
   "outputs": [],
   "source": [
    "# tu codigo aqui\n",
    "def func_sum_even_odd_2(b): \n",
    "  '''Esta función recibe un parametro \"b\" (valor numerico). \\n La funcion calcula la suma de numeros pares y numeros impares separamente entre 0 y b \n",
    "    '''\n",
    "  #We need to know if b is a number (integer or float)\n",
    "  #----------------------------------------------------------------------------------------------------------------------\n",
    "  try: #intenta (cambiamos if por try)\n",
    "    #even \n",
    "    sum_even = 0 #definimos la variable sum_even = 0 clase int()\n",
    "    i = 1 # definimos un contador i = 1 clase int()\n",
    "    sum_odd = 0 #definimos la variable sum_odd = 0 clase int()\n",
    "    #----------------------------------------------------------------------------------------------\n",
    "    while (i <= b): #mientras el contador sea menor que b\n",
    "    #-----------------------------------------\n",
    "      if (i%2==0):  # si el contador es par\n",
    "        sum_even += i # lo sumamos a sum_even y sobreescribimos su valor\n",
    "    #--------------------------------------------  \n",
    "      else: #si es impar\n",
    "        sum_odd += i # lo sumamos a sum_odd y sobreescribimos su valor\n",
    "    #-----------------------------------------------  \n",
    "      i = i + 1 #aumentamos el contador\n",
    "    #-------------------------------------------------------------------------------------------------\n",
    "    return sum_even, sum_odd #retornamos los valores\n",
    "  #----------------------------------------------------------------------------------------------------------------------\n",
    "  except: #si da error...\n",
    "    sum_even = 0 #definimos la variable sum_even = 0 clase int()\n",
    "    sum_odd = 0 #definimos la variable sum_odd = 0 clase int()\n",
    "    print('argument must be an integer or float') #imprimimos mensaje de error\n",
    "    return sum_even, sum_odd #retornamos los valores\n",
    "   #----------------------------------------------------------------------------------------------------------------------"
   ]
  },
  {
   "cell_type": "code",
   "execution_count": 13,
   "id": "VAMTietLSOBH",
   "metadata": {
    "colab": {
     "base_uri": "https://localhost:8080/"
    },
    "id": "VAMTietLSOBH",
    "outputId": "4338ef61-fe02-489a-c52f-f8382cd29f5a"
   },
   "outputs": [
    {
     "name": "stdout",
     "output_type": "stream",
     "text": [
      "30 25\n"
     ]
    }
   ],
   "source": [
    "par, impar = func_sum_even_odd_2(10) \n",
    "print(par,impar)"
   ]
  },
  {
   "cell_type": "code",
   "execution_count": null,
   "id": "02c71307",
   "metadata": {},
   "outputs": [],
   "source": []
  }
 ],
 "metadata": {
  "colab": {
   "name": "Tarea 1: Ejercicios sobre numeros en Python",
   "provenance": []
  },
  "kernelspec": {
   "display_name": "Python 3 (ipykernel)",
   "language": "python",
   "name": "python3"
  },
  "language_info": {
   "codemirror_mode": {
    "name": "ipython",
    "version": 3
   },
   "file_extension": ".py",
   "mimetype": "text/x-python",
   "name": "python",
   "nbconvert_exporter": "python",
   "pygments_lexer": "ipython3",
   "version": "3.10.0"
  }
 },
 "nbformat": 4,
 "nbformat_minor": 5
}
