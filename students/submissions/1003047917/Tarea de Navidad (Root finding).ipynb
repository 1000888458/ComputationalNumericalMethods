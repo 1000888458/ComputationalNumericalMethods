{
 "cells": [
  {
   "cell_type": "markdown",
   "id": "8677ee6a",
   "metadata": {},
   "source": [
    "* Nombre: Juan Pablo Otálvaro Ghisays\n",
    "* Correo: juan.otalvaro1@udea.edu.co\n",
    "* ID: 1003047917"
   ]
  },
  {
   "cell_type": "markdown",
   "id": "5eb7a746",
   "metadata": {},
   "source": [
    "### 1.) Encontrar raíces de $f(x) = x^2-11$\n",
    "\n",
    "Lo primero que haremos será visualizar la función."
   ]
  },
  {
   "cell_type": "code",
   "execution_count": 5,
   "id": "2d29fd58",
   "metadata": {
    "scrolled": true
   },
   "outputs": [
    {
     "data": {
      "image/png": "[encoded data removed]",
      "text/plain": [
       "<Figure size 360x360 with 1 Axes>"
      ]
     },
     "metadata": {
      "needs_background": "light"
     },
     "output_type": "display_data"
    }
   ],
   "source": [
    "#-----------------------------------------\n",
    "import matplotlib.pyplot as plt\n",
    "import numpy as np \n",
    "#-----------------------------------------\n",
    "x = np.linspace(-5,5,100) #Creamos nuestro array\n",
    "\n",
    "fig, ax = plt.subplots(1,1,figsize=(5,5)) #Definimos la figura\n",
    "\n",
    "ax.plot(x,x**2-11,'--r',label='f(x)') #Dibujamos la función\n",
    "\n",
    "plt.axhline(y=0, color=\"black\",xmin=0, xmax=10) #eje x\n",
    "plt.axvline(x=0, color=\"black\",ymin=0, ymax=10) #eje y\n",
    "\n",
    "ax.legend() \n",
    "ax.grid(True)\n",
    "#----------------------------------------------------------------"
   ]
  },
  {
   "cell_type": "markdown",
   "id": "31c623d3",
   "metadata": {},
   "source": [
    "La función tiene 2 raices.\n",
    "\n",
    "Hallaremos la primera con el método de ***bisección*** y la segunda por ***Newton-rapson***"
   ]
  },
  {
   "cell_type": "markdown",
   "id": "b157cd33",
   "metadata": {},
   "source": [
    "### a.) Método de bisección"
   ]
  },
  {
   "cell_type": "code",
   "execution_count": 6,
   "id": "0eaffbe2",
   "metadata": {},
   "outputs": [],
   "source": [
    "def bisection(x_l,x_u,tol):\n",
    "    \"\"\"Esta función realiza el método de root findind: bisection para la función específica f(x)=x**2-11\n",
    "        Dados los valores de los brackets y la tolerancia.\"\"\"\n",
    "    #--------------------------------------------------------------------------\n",
    "    x_r = (x_l+x_u)/2 #Estimamos el punto medio entre los brackets como la raiz\n",
    "    f_r = x_r**2-11 #evaluamos nuestra estimación de la raíz en f(x)\n",
    "    #--------------------------------------------------------------------------\n",
    "    evolucion = [x_r] #definimos listas donde veremos la evolucion de la aproximación\n",
    "    evolucionf = [f_r]\n",
    "    #---------------------------------------------------------------------------\n",
    "    #Evaluamos los brackets en la función\n",
    "    f_l = x_l**2-11\n",
    "    f_u = x_u**2-11\n",
    "    #--------------------------------------------------------------------------\n",
    "    #---------------------------------------------------------------------------\n",
    "    while abs(f_r)>tol: #Mientras nuestra raiz no cumpla la tolerancia\n",
    "        #--------------------------------------------------------------\n",
    "        if f_l*f_r>0: #verificamos en cual subintervalo está la raiz\n",
    "            x_l = x_r #reasignamos variables\n",
    "            f_l = f_r\n",
    "            x_r = (x_l+x_u)/2 #estimamos la raiz como el punto medio x_r\n",
    "            f_r = x_r**2-11 #calculamos f(x_r)    \n",
    "        #--------------------------------------------------------------\n",
    "        else: #Si la raiz está en el otro subintervalo\n",
    "            x_u = x_r #reasignamos variables\n",
    "            f_u = f_r\n",
    "            x_r = (x_l+x_u)/2 #estimamos la raiz como el punto medio x_r\n",
    "            f_r = x_r**2-11 #calculamos f(x_r)\n",
    "        #--------------------------------------------------------------- \n",
    "        evolucion.append(x_r)\n",
    "        evolucionf.append(f_r)\n",
    "        #---------------------------------------------------------------\n",
    "    return x_r, evolucion, evolucionf #devolvemos la raiz, la lista de x y la lista de f(x)"
   ]
  },
  {
   "cell_type": "markdown",
   "id": "b680a4c1",
   "metadata": {},
   "source": [
    "De la imagen podemos ver que la raíz de la izquierda está entre -4 y -2. Por lo tanto, definiremos\n",
    "\n",
    "* $x_l = -4$\n",
    "* $x_u = -2$"
   ]
  },
  {
   "cell_type": "code",
   "execution_count": 7,
   "id": "4cde6ba8",
   "metadata": {
    "scrolled": false
   },
   "outputs": [
    {
     "name": "stdout",
     "output_type": "stream",
     "text": [
      "-3.316624641418457\n"
     ]
    }
   ],
   "source": [
    "x_r, aprox, aproxf = bisection(-4,-2,0.000001)\n",
    "#usamos nuestra funcion para hallar la primera raiz y obtener las listas de aproximacion\n",
    "print(x_r)"
   ]
  },
  {
   "cell_type": "markdown",
   "id": "51300b13",
   "metadata": {},
   "source": [
    "La raiz hallada por el primer metodo fue $x_1 = -3.316624641418457$"
   ]
  },
  {
   "cell_type": "code",
   "execution_count": 8,
   "id": "473c5cd9",
   "metadata": {},
   "outputs": [
    {
     "data": {
      "image/png": "[encoded data removed]",
      "text/plain": [
       "<Figure size 360x360 with 1 Axes>"
      ]
     },
     "metadata": {
      "needs_background": "light"
     },
     "output_type": "display_data"
    }
   ],
   "source": [
    "#-----------------------------------------------------------------\n",
    "import numpy as np #Así se importa numpy\n",
    "import matplotlib.pyplot as plt #Así se importan matplotlib\n",
    "#-----------------------------------------------------------------\n",
    "fig, ax = plt.subplots(1,1,figsize=(5,5)) #Así se define una figura\n",
    "\n",
    "plt.axhline(y=0, color=\"black\",xmin=0, xmax=10)\n",
    "plt.axvline(x=0, color=\"black\",ymin=0, ymax=10)\n",
    "\n",
    "ax.plot(aprox,aproxf,'or') #Dibujamos los puntos \n",
    "\n",
    "for i in range(0,7): #Le ponemos marcas a los puntos para saber el orden\n",
    "    plt.annotate(str(i+1),\n",
    "            xy=(aprox[i],aproxf[i]), xycoords='data',\n",
    "            xytext=(+10*i*(-1)**i, +30*(-1)**i), textcoords='offset points', fontsize=10,\n",
    "            arrowprops=dict(arrowstyle=\"<-\", connectionstyle=\"arc3,rad=.2\"))\n",
    "    plt.annotate('8-21',\n",
    "            xy=(aprox[-1],aproxf[-1]), xycoords='data',\n",
    "            xytext=(-50, -100), textcoords='offset points', fontsize=10,\n",
    "            arrowprops=dict(arrowstyle=\"<-\", connectionstyle=\"arc3,rad=.2\"))\n",
    "#Se pueden modificar distintos detalles\n",
    "ax.set_title('Evolución de aproximación')\n",
    "ax.set_ylim(-2.5,2)\n",
    "ax.set_xlim(-4,-1)\n",
    "ax.grid(True)"
   ]
  },
  {
   "cell_type": "markdown",
   "id": "e6d55a9f",
   "metadata": {},
   "source": [
    "### b.) Newton-rapson"
   ]
  },
  {
   "cell_type": "code",
   "execution_count": 1,
   "id": "42b446f6",
   "metadata": {},
   "outputs": [],
   "source": [
    "def n_rapson(x_0,tol):\n",
    "    \n",
    "    f_1 = x_0**2-11 \n",
    "    evolucion = [x_0] #definimos listas donde veremos la evolucion de la aproximación\n",
    "    evolucionf = [f_1]\n",
    "\n",
    "    while abs(f_1)>tol:\n",
    "        \n",
    "        f_0 = x_0**2-11\n",
    "        df_0 = x_0*2\n",
    "        x_1 = x_0 - f_0/df_0\n",
    "        f_1 = x_1**2-11\n",
    "        x_0 = x_1\n",
    "        evolucion.append(x_0)\n",
    "        evolucionf.append(f_1)\n",
    "    return x_1,evolucion,evolucionf"
   ]
  },
  {
   "cell_type": "markdown",
   "id": "865ff47d",
   "metadata": {},
   "source": [
    "Hallaremos la segunda raíz por el método de ***Newton-rapson***\n",
    "\n",
    "Elegimos un $x_0$ cualquiera, en este caso definiré $x_0=10$"
   ]
  },
  {
   "cell_type": "code",
   "execution_count": 2,
   "id": "f5a27bce",
   "metadata": {},
   "outputs": [
    {
     "name": "stdout",
     "output_type": "stream",
     "text": [
      "3.316624792097127\n"
     ]
    }
   ],
   "source": [
    "x_1,evol,evolf = n_rapson(10,0.0001)\n",
    "print(x_1)"
   ]
  },
  {
   "cell_type": "markdown",
   "id": "28923431",
   "metadata": {},
   "source": [
    "La raiz hallada por el Segundo método fue $x_2 = 3.316624792097127$"
   ]
  },
  {
   "cell_type": "code",
   "execution_count": 3,
   "id": "57f8a875",
   "metadata": {},
   "outputs": [
    {
     "data": {
      "image/png": "[encoded data removed]",
      "text/plain": [
       "<Figure size 360x360 with 1 Axes>"
      ]
     },
     "metadata": {
      "needs_background": "light"
     },
     "output_type": "display_data"
    }
   ],
   "source": [
    "#-----------------------------------------------------------------\n",
    "import numpy as np #Así se importa numpy\n",
    "import matplotlib.pyplot as plt #Así se importan matplotlib\n",
    "#-----------------------------------------------------------------\n",
    "fig, ax = plt.subplots(1,1,figsize=(5,5)) #Así se define una figura\n",
    "\n",
    "plt.axhline(y=0, color=\"black\",xmin=0, xmax=10)\n",
    "plt.axvline(x=0, color=\"black\",ymin=0, ymax=10)\n",
    "\n",
    "ax.plot(evol,evolf,'or') #Dibujamos los puntos \n",
    "\n",
    "for i in range(0,6): #Le ponemos marcas a los puntos para saber el orden\n",
    "    plt.annotate(str(i+1),\n",
    "            xy=(evol[i],evolf[i]), xycoords='data',\n",
    "            xytext=(+30, +15+i**3), textcoords='offset points', fontsize=10,\n",
    "            arrowprops=dict(arrowstyle=\"<-\", connectionstyle=\"arc3,rad=.2\"))\n",
    "ax.set_title('Evolución de aproximación')\n",
    "ax.set_ylim(0,100)\n",
    "ax.set_xlim(-2,15)\n",
    "ax.grid(True)"
   ]
  },
  {
   "cell_type": "code",
   "execution_count": null,
   "id": "a0b805c0",
   "metadata": {},
   "outputs": [],
   "source": []
  }
 ],
 "metadata": {
  "kernelspec": {
   "display_name": "Python 3 (ipykernel)",
   "language": "python",
   "name": "python3"
  },
  "language_info": {
   "codemirror_mode": {
    "name": "ipython",
    "version": 3
   },
   "file_extension": ".py",
   "mimetype": "text/x-python",
   "name": "python",
   "nbconvert_exporter": "python",
   "pygments_lexer": "ipython3",
   "version": "3.9.7"
  }
 },
 "nbformat": 4,
 "nbformat_minor": 5
}
