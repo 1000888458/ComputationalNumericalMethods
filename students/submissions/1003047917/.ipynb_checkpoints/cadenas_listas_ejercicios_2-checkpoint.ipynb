{
 "cells": [
  {
   "cell_type": "markdown",
   "id": "adolescent-sally",
   "metadata": {},
   "source": [
    "## Exercise 2: Lists"
   ]
  },
  {
   "cell_type": "markdown",
   "id": "prime-undergraduate",
   "metadata": {},
   "source": [
    "### Este codigo abajo importa un libro entero a un string que se llama \"book\""
   ]
  },
  {
   "cell_type": "code",
   "execution_count": 1,
   "id": "documentary-museum",
   "metadata": {},
   "outputs": [
    {
     "data": {
      "text/plain": [
       "10396"
      ]
     },
     "execution_count": 1,
     "metadata": {},
     "output_type": "execute_result"
    }
   ],
   "source": [
    "## Challange:\n",
    "## List comprehenions are not necessary for this challenge\n",
    "\n",
    "from urllib.request import urlopen\n",
    "response = urlopen('https://www.gutenberg.org/files/74/74-0.txt')\n",
    "book = str(response.read())\n",
    "book.find('HARTFORD, 1876.')"
   ]
  },
  {
   "cell_type": "code",
   "execution_count": 2,
   "id": "metropolitan-magazine",
   "metadata": {},
   "outputs": [
    {
     "name": "stdout",
     "output_type": "stream",
     "text": [
      "510671\n"
     ]
    }
   ],
   "source": [
    "print(len(book))"
   ]
  },
  {
   "cell_type": "code",
   "execution_count": 3,
   "id": "adaptive-elder",
   "metadata": {},
   "outputs": [],
   "source": [
    "#print(book[10396:])"
   ]
  },
  {
   "cell_type": "markdown",
   "id": "continuing-metabolism",
   "metadata": {},
   "source": [
    "### Siguiendo el material de la clase pasada hacer un plot de occurencia de un caracter (Jim o Tom o Huck) de libro atraves de los capitulos\n"
   ]
  },
  {
   "cell_type": "code",
   "execution_count": 4,
   "id": "4f97672f",
   "metadata": {
    "scrolled": true
   },
   "outputs": [
    {
     "name": "stdout",
     "output_type": "stream",
     "text": [
      "the word 'Tom' is 808 times\n",
      "the word 'CHAPTER' is 70 times\n"
     ]
    }
   ],
   "source": [
    "print('the word \\'Tom\\' is', book.count('Tom'), 'times') #Contamos repeticiones de 'Tom' en el libro\n",
    "print('the word \\'CHAPTER\\' is', book.count('CHAPTER'), 'times') #Contamos repeticiones de 'CHAPTER'"
   ]
  },
  {
   "cell_type": "code",
   "execution_count": 5,
   "id": "98ec2254",
   "metadata": {},
   "outputs": [
    {
     "name": "stdout",
     "output_type": "stream",
     "text": [
      "HARTFORD, 1876\n"
     ]
    }
   ],
   "source": [
    "#El libro tiene índice, la historia del libro empieza realmente en después de HARTFORD, 1876\n",
    "print(book[10396:10410])\n",
    "history = book[10396:] #history = historia (lo que nos interesa)"
   ]
  },
  {
   "cell_type": "code",
   "execution_count": 6,
   "id": "cab2414a",
   "metadata": {},
   "outputs": [
    {
     "name": "stdout",
     "output_type": "stream",
     "text": [
      "the word 'Tom' is 761 times\n",
      "the word 'CHAPTER' is 35 times\n"
     ]
    }
   ],
   "source": [
    "print('the word \\'Tom\\' is', history.count('Tom'), 'times') #Contamos repeticiones de 'Tom' en el libro\n",
    "print('the word \\'CHAPTER\\' is', history.count('CHAPTER'), 'times') #Contamos repeticiones de 'CHAPTER'"
   ]
  },
  {
   "cell_type": "code",
   "execution_count": 7,
   "id": "17ad6090",
   "metadata": {},
   "outputs": [
    {
     "name": "stdout",
     "output_type": "stream",
     "text": [
      "HARTFORD, 1876.\\r\\n\\r\\n\\r\\n\\r\\n\\r\\n\n"
     ]
    }
   ],
   "source": [
    "chapters = history.split('CHAPTER') #chapters = Lista de los capítulos\n",
    "print(chapters[0]) #no nos interesa"
   ]
  },
  {
   "cell_type": "code",
   "execution_count": 8,
   "id": "08092f75",
   "metadata": {},
   "outputs": [],
   "source": [
    "capitulos = [] #definimos lista para capítulos [1,2,...,n]\n",
    "apariciones = [] #definimos lista para apariciones de Tom por capítulo [x1,x2,...,xn]\n",
    "acumulado = [] #definimos lista para acumular sus apariciones por capitulos [x1,x1 + x2,...,x1+...+xn]\n",
    "#---------------------------------------------------------------------------------------\n",
    "total = 0\n",
    "for i in range(1,len(chapters)): #para cada capitulo\n",
    "    capitulos.append(i) #agregamos capitulo a lista 'capitulos'\n",
    "    tom = chapters[i].count('Tom') #contamos apariciones de tom en ese capitulo\n",
    "    apariciones.append(tom) #agregamos apariciones a lista 'apariciones'\n",
    "    total += tom #acumulamos apariciones\n",
    "    acumulado.append(total) #agregamos acumulado a lista 'acumulado'\n",
    "#---------------------------------------------------------------------------------------"
   ]
  },
  {
   "cell_type": "code",
   "execution_count": 9,
   "id": "469314b9",
   "metadata": {},
   "outputs": [
    {
     "data": {
      "image/png": "[encoded data removed]",
      "text/plain": [
       "<Figure size 504x504 with 1 Axes>"
      ]
     },
     "metadata": {
      "needs_background": "light"
     },
     "output_type": "display_data"
    }
   ],
   "source": [
    "import matplotlib.pyplot as plt #importamos matplotlib\n",
    "fig, ax = plt.subplots(1,1,figsize=(7,7)) #definimos figura de 7x7\n",
    "ax.plot(capitulos,apariciones,'--r',label='apariciones') #ploteamos figura de apariciones vs capítulos\n",
    "ax.plot(capitulos,acumulado,'-b',label='acumulado') #ploteamos figura de acumulado vs capitulos\n",
    "ax.legend()\n",
    "ax.set_title('Apariciones de Tom') #colocamos titulo\n",
    "ax.set_xlabel('Apariciones') #colocamos nombre al eje x\n",
    "ax.set_ylabel('Capítulos') #colocamos nombre al eje y\n",
    "ax.grid(True)"
   ]
  },
  {
   "cell_type": "code",
   "execution_count": null,
   "id": "8bb55a93",
   "metadata": {},
   "outputs": [],
   "source": []
  }
 ],
 "metadata": {
  "kernelspec": {
   "display_name": "Python 3",
   "language": "python",
   "name": "python3"
  },
  "language_info": {
   "codemirror_mode": {
    "name": "ipython",
    "version": 3
   },
   "file_extension": ".py",
   "mimetype": "text/x-python",
   "name": "python",
   "nbconvert_exporter": "python",
   "pygments_lexer": "ipython3",
   "version": "3.7.2"
  }
 },
 "nbformat": 4,
 "nbformat_minor": 5
}
