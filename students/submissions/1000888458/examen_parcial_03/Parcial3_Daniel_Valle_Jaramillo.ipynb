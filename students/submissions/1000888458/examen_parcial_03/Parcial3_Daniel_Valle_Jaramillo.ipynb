{
 "cells": [
  {
   "cell_type": "markdown",
   "id": "plain-rugby",
   "metadata": {
    "id": "plain-rugby"
   },
   "source": [
    "# Examen parcial 3 (calculo numerico y algebra lineal)\n",
    "* Antes de enviar el archivo, $\\textbf{reiniciar y ejecutar el kernel}$ para ver que el archivo se compila sin errores\n",
    "* enviar el archivo jupyter sin anexos antes de las 10.10am del 30.03.2022 a mi dirección de correo electrónico: michal.hemmerling@udea.edu.co "
   ]
  },
  {
   "cell_type": "markdown",
   "id": "usual-washer",
   "metadata": {
    "id": "usual-washer"
   },
   "source": [
    "# Ejercicio 1"
   ]
  },
  {
   "cell_type": "markdown",
   "id": "pretty-conference",
   "metadata": {
    "id": "pretty-conference"
   },
   "source": [
    "El archivo $\\textbf{data_radius_density.csv}$ contiene dos columnas: radio ($ r $) y la densidad ($ \\rho (r) $) de un disco plano en función del radio\n",
    "\n",
    "El disco es lo suficientemente delgado como para que, con fines matemáticos, podamos tratarlo como un objeto bidimensional. Asumimos que la densidad se da en términos de masa por unidad de área (llamada densidad de área), y además asumimos que la densidad varía solo a lo largo del radio del disco (llamada densidad radial). Orientamos el disco en el plano xy, con el centro en el origen. Entonces, la densidad del disco puede ser tratada como una función de x, denotada $\\rho(x)$.\n",
    "<table><tr>\n",
    "<td> <img src=\"disk_radius_density.png\" width=\"500\" /> </td>\n",
    "</tr></table>   \n",
    "\n",
    "* a) importar los datos usando Pandas, graficar la densidad del disco frente a su radio (los gráficos deben tener etiquetas para el eje `x` y el eje `y`).\n",
    "\n",
    "* b) sabiendo que la masa del disco viene dada por una integral:\n",
    "$$ m = \\int_0^{r} 2 \\pi \\ r * \\rho (r) \\ dr $$\n",
    "     calcular la masa del disco mediante integración numérica\n",
    "\n",
    "* Pista:`x`: is radius and `y`: is ***integrand***\n"
   ]
  },
  {
   "cell_type": "code",
   "execution_count": 1,
   "id": "valuable-august",
   "metadata": {
    "colab": {
     "base_uri": "https://localhost:8080/",
     "height": 424
    },
    "id": "valuable-august",
    "outputId": "6312094d-16ba-4023-a92c-b2c9d086ecea"
   },
   "outputs": [
    {
     "data": {
      "text/html": [
       "\n",
       "  <div id=\"df-13bd840e-efce-42b7-9cfa-261d51c5e592\">\n",
       "    <div class=\"colab-df-container\">\n",
       "      <div>\n",
       "<style scoped>\n",
       "    .dataframe tbody tr th:only-of-type {\n",
       "        vertical-align: middle;\n",
       "    }\n",
       "\n",
       "    .dataframe tbody tr th {\n",
       "        vertical-align: top;\n",
       "    }\n",
       "\n",
       "    .dataframe thead th {\n",
       "        text-align: right;\n",
       "    }\n",
       "</style>\n",
       "<table border=\"1\" class=\"dataframe\">\n",
       "  <thead>\n",
       "    <tr style=\"text-align: right;\">\n",
       "      <th></th>\n",
       "      <th>radius</th>\n",
       "      <th>density</th>\n",
       "    </tr>\n",
       "  </thead>\n",
       "  <tbody>\n",
       "    <tr>\n",
       "      <th>0</th>\n",
       "      <td>0.000000</td>\n",
       "      <td>0.000000</td>\n",
       "    </tr>\n",
       "    <tr>\n",
       "      <th>1</th>\n",
       "      <td>0.040404</td>\n",
       "      <td>0.201008</td>\n",
       "    </tr>\n",
       "    <tr>\n",
       "      <th>2</th>\n",
       "      <td>0.080808</td>\n",
       "      <td>0.284268</td>\n",
       "    </tr>\n",
       "    <tr>\n",
       "      <th>3</th>\n",
       "      <td>0.121212</td>\n",
       "      <td>0.348155</td>\n",
       "    </tr>\n",
       "    <tr>\n",
       "      <th>4</th>\n",
       "      <td>0.161616</td>\n",
       "      <td>0.402015</td>\n",
       "    </tr>\n",
       "    <tr>\n",
       "      <th>...</th>\n",
       "      <td>...</td>\n",
       "      <td>...</td>\n",
       "    </tr>\n",
       "    <tr>\n",
       "      <th>95</th>\n",
       "      <td>3.838384</td>\n",
       "      <td>1.959179</td>\n",
       "    </tr>\n",
       "    <tr>\n",
       "      <th>96</th>\n",
       "      <td>3.878788</td>\n",
       "      <td>1.969464</td>\n",
       "    </tr>\n",
       "    <tr>\n",
       "      <th>97</th>\n",
       "      <td>3.919192</td>\n",
       "      <td>1.979695</td>\n",
       "    </tr>\n",
       "    <tr>\n",
       "      <th>98</th>\n",
       "      <td>3.959596</td>\n",
       "      <td>1.989873</td>\n",
       "    </tr>\n",
       "    <tr>\n",
       "      <th>99</th>\n",
       "      <td>4.000000</td>\n",
       "      <td>2.000000</td>\n",
       "    </tr>\n",
       "  </tbody>\n",
       "</table>\n",
       "<p>100 rows × 2 columns</p>\n",
       "</div>\n",
       "      <button class=\"colab-df-convert\" onclick=\"convertToInteractive('df-13bd840e-efce-42b7-9cfa-261d51c5e592')\"\n",
       "              title=\"Convert this dataframe to an interactive table.\"\n",
       "              style=\"display:none;\">\n",
       "        \n",
       "  <svg xmlns=\"http://www.w3.org/2000/svg\" height=\"24px\"viewBox=\"0 0 24 24\"\n",
       "       width=\"24px\">\n",
       "    <path d=\"M0 0h24v24H0V0z\" fill=\"none\"/>\n",
       "    <path d=\"M18.56 5.44l.94 2.06.94-2.06 2.06-.94-2.06-.94-.94-2.06-.94 2.06-2.06.94zm-11 1L8.5 8.5l.94-2.06 2.06-.94-2.06-.94L8.5 2.5l-.94 2.06-2.06.94zm10 10l.94 2.06.94-2.06 2.06-.94-2.06-.94-.94-2.06-.94 2.06-2.06.94z\"/><path d=\"M17.41 7.96l-1.37-1.37c-.4-.4-.92-.59-1.43-.59-.52 0-1.04.2-1.43.59L10.3 9.45l-7.72 7.72c-.78.78-.78 2.05 0 2.83L4 21.41c.39.39.9.59 1.41.59.51 0 1.02-.2 1.41-.59l7.78-7.78 2.81-2.81c.8-.78.8-2.07 0-2.86zM5.41 20L4 18.59l7.72-7.72 1.47 1.35L5.41 20z\"/>\n",
       "  </svg>\n",
       "      </button>\n",
       "      \n",
       "  <style>\n",
       "    .colab-df-container {\n",
       "      display:flex;\n",
       "      flex-wrap:wrap;\n",
       "      gap: 12px;\n",
       "    }\n",
       "\n",
       "    .colab-df-convert {\n",
       "      background-color: #E8F0FE;\n",
       "      border: none;\n",
       "      border-radius: 50%;\n",
       "      cursor: pointer;\n",
       "      display: none;\n",
       "      fill: #1967D2;\n",
       "      height: 32px;\n",
       "      padding: 0 0 0 0;\n",
       "      width: 32px;\n",
       "    }\n",
       "\n",
       "    .colab-df-convert:hover {\n",
       "      background-color: #E2EBFA;\n",
       "      box-shadow: 0px 1px 2px rgba(60, 64, 67, 0.3), 0px 1px 3px 1px rgba(60, 64, 67, 0.15);\n",
       "      fill: #174EA6;\n",
       "    }\n",
       "\n",
       "    [theme=dark] .colab-df-convert {\n",
       "      background-color: #3B4455;\n",
       "      fill: #D2E3FC;\n",
       "    }\n",
       "\n",
       "    [theme=dark] .colab-df-convert:hover {\n",
       "      background-color: #434B5C;\n",
       "      box-shadow: 0px 1px 3px 1px rgba(0, 0, 0, 0.15);\n",
       "      filter: drop-shadow(0px 1px 2px rgba(0, 0, 0, 0.3));\n",
       "      fill: #FFFFFF;\n",
       "    }\n",
       "  </style>\n",
       "\n",
       "      <script>\n",
       "        const buttonEl =\n",
       "          document.querySelector('#df-13bd840e-efce-42b7-9cfa-261d51c5e592 button.colab-df-convert');\n",
       "        buttonEl.style.display =\n",
       "          google.colab.kernel.accessAllowed ? 'block' : 'none';\n",
       "\n",
       "        async function convertToInteractive(key) {\n",
       "          const element = document.querySelector('#df-13bd840e-efce-42b7-9cfa-261d51c5e592');\n",
       "          const dataTable =\n",
       "            await google.colab.kernel.invokeFunction('convertToInteractive',\n",
       "                                                     [key], {});\n",
       "          if (!dataTable) return;\n",
       "\n",
       "          const docLinkHtml = 'Like what you see? Visit the ' +\n",
       "            '<a target=\"_blank\" href=https://colab.research.google.com/notebooks/data_table.ipynb>data table notebook</a>'\n",
       "            + ' to learn more about interactive tables.';\n",
       "          element.innerHTML = '';\n",
       "          dataTable['output_type'] = 'display_data';\n",
       "          await google.colab.output.renderOutput(dataTable, element);\n",
       "          const docLink = document.createElement('div');\n",
       "          docLink.innerHTML = docLinkHtml;\n",
       "          element.appendChild(docLink);\n",
       "        }\n",
       "      </script>\n",
       "    </div>\n",
       "  </div>\n",
       "  "
      ],
      "text/plain": [
       "      radius   density\n",
       "0   0.000000  0.000000\n",
       "1   0.040404  0.201008\n",
       "2   0.080808  0.284268\n",
       "3   0.121212  0.348155\n",
       "4   0.161616  0.402015\n",
       "..       ...       ...\n",
       "95  3.838384  1.959179\n",
       "96  3.878788  1.969464\n",
       "97  3.919192  1.979695\n",
       "98  3.959596  1.989873\n",
       "99  4.000000  2.000000\n",
       "\n",
       "[100 rows x 2 columns]"
      ]
     },
     "execution_count": 1,
     "metadata": {},
     "output_type": "execute_result"
    }
   ],
   "source": [
    "#a\n",
    "import numpy as np\n",
    "import pandas as pd\n",
    "import matplotlib.pyplot as plt\n",
    "\n",
    "\n",
    "df=pd.read_csv('data_radius_density.csv')\n",
    "df\n",
    "\n"
   ]
  },
  {
   "cell_type": "code",
   "execution_count": 2,
   "id": "Mk7TGOF_GSo_",
   "metadata": {
    "colab": {
     "base_uri": "https://localhost:8080/",
     "height": 295
    },
    "id": "Mk7TGOF_GSo_",
    "outputId": "7f269f79-9c08-4b78-b686-785ae4129a41"
   },
   "outputs": [
    {
     "data": {
      "image/png": "[encoded data removed]",
      "text/plain": [
       "<Figure size 432x288 with 1 Axes>"
      ]
     },
     "metadata": {
      "needs_background": "light"
     },
     "output_type": "display_data"
    }
   ],
   "source": [
    "fig, ax = plt.subplots(1,1)\n",
    "ax.plot(df['radius'] , df['density'],label='radio vs densidad') # method 1\n",
    "plt.xlabel('Radio')\n",
    "plt.ylabel('Densidad')\n",
    "plt.title('Densidad en funcion del radio')\n",
    "ax.legend()\n",
    "ax.grid(True)"
   ]
  },
  {
   "cell_type": "code",
   "execution_count": 3,
   "id": "XDkjKuhYFPfy",
   "metadata": {
    "colab": {
     "base_uri": "https://localhost:8080/"
    },
    "id": "XDkjKuhYFPfy",
    "outputId": "7e6e8609-91c2-4e65-d9e1-ce7040980998"
   },
   "outputs": [
    {
     "name": "stdout",
     "output_type": "stream",
     "text": [
      "La masa del disco es igual a 33.50396528605742  Kg\n"
     ]
    }
   ],
   "source": [
    "#b\n",
    "import scipy.integrate as integrate\n",
    "x=df['radius']\n",
    "y=df['density']\n",
    "\n",
    "m=2*np.pi*integrate.simps(y,x)\n",
    "\n",
    "print('La masa del disco es igual a',m,' Kg')"
   ]
  },
  {
   "cell_type": "markdown",
   "id": "handy-obligation",
   "metadata": {
    "id": "handy-obligation"
   },
   "source": [
    "# Ejercicio 2"
   ]
  },
  {
   "cell_type": "markdown",
   "id": "broken-belfast",
   "metadata": {
    "id": "broken-belfast"
   },
   "source": [
    "La capacidad calorífica de un gas muy frío se puede aproximar mediante:\n",
    "\n",
    "$$ C_v \\approx \\left (\\frac{dP}{dT} \\right) $$\n",
    "(en las unidades de $ \\left [\\frac {J} {K} \\right] $)\n",
    "\n",
    "Donde $P$ es la presión $ [J / s^3] $ del gas y $ T \\ [K] $ es la temperatura del gas.\n",
    "\n",
    "Los datos para la presión frente a la temperatura se dan en el archivo csv ($ \\textbf{data_pressure_vs_temperature.csv} $).\n",
    "\n",
    "* a) importar los datos usando pandas\n",
    "* b) hacer un gráfico de $P$ vs $T$ (grafico tiene que tener etiquietas)\n",
    "* c) utilizando la derivada numérica, encuentre la capacidad calorífica.\n",
    "* d) hacer un gráfico de $C_v$ vs $T$ (grafico tiene que tener etiquietas)\n",
    "* e) usando el ultimo grafico hace una estimacion de Temperatura Critica de este gas (Temperatura Critica es Temperatura de cambio abrupto del comportamiento de Capacidad Termica)\n",
    "* f) hace interpolacion cubica (100 puntos) de los valores de pression $P$, repite puntos `c)` y `d)`\n",
    "\n",
    "*gas muy frío se refiere a un gas Bose no homogéneo, y la teoría que relaciona $ C_v $ y $ P $ se refiere a la Teoría de Variables Globales Termodinámicas. La presión en realidad se llama parámetro de presión."
   ]
  },
  {
   "cell_type": "code",
   "execution_count": 4,
   "id": "written-adrian",
   "metadata": {
    "colab": {
     "base_uri": "https://localhost:8080/",
     "height": 1000
    },
    "id": "written-adrian",
    "outputId": "c0eb121f-e665-4058-9ca2-eeb8a55e69e6"
   },
   "outputs": [
    {
     "data": {
      "text/html": [
       "\n",
       "  <div id=\"df-7f024a2a-f5ce-41a4-9578-f477e5749d7c\">\n",
       "    <div class=\"colab-df-container\">\n",
       "      <div>\n",
       "<style scoped>\n",
       "    .dataframe tbody tr th:only-of-type {\n",
       "        vertical-align: middle;\n",
       "    }\n",
       "\n",
       "    .dataframe tbody tr th {\n",
       "        vertical-align: top;\n",
       "    }\n",
       "\n",
       "    .dataframe thead th {\n",
       "        text-align: right;\n",
       "    }\n",
       "</style>\n",
       "<table border=\"1\" class=\"dataframe\">\n",
       "  <thead>\n",
       "    <tr style=\"text-align: right;\">\n",
       "      <th></th>\n",
       "      <th>Temperature</th>\n",
       "      <th>Pressure</th>\n",
       "    </tr>\n",
       "  </thead>\n",
       "  <tbody>\n",
       "    <tr>\n",
       "      <th>0</th>\n",
       "      <td>4.789201e-08</td>\n",
       "      <td>1.958251e-17</td>\n",
       "    </tr>\n",
       "    <tr>\n",
       "      <th>1</th>\n",
       "      <td>6.625061e-08</td>\n",
       "      <td>2.055515e-17</td>\n",
       "    </tr>\n",
       "    <tr>\n",
       "      <th>2</th>\n",
       "      <td>8.460922e-08</td>\n",
       "      <td>2.237848e-17</td>\n",
       "    </tr>\n",
       "    <tr>\n",
       "      <th>3</th>\n",
       "      <td>1.029678e-07</td>\n",
       "      <td>2.534132e-17</td>\n",
       "    </tr>\n",
       "    <tr>\n",
       "      <th>4</th>\n",
       "      <td>1.213264e-07</td>\n",
       "      <td>2.994527e-17</td>\n",
       "    </tr>\n",
       "    <tr>\n",
       "      <th>5</th>\n",
       "      <td>1.396850e-07</td>\n",
       "      <td>3.681453e-17</td>\n",
       "    </tr>\n",
       "    <tr>\n",
       "      <th>6</th>\n",
       "      <td>1.580436e-07</td>\n",
       "      <td>4.642824e-17</td>\n",
       "    </tr>\n",
       "    <tr>\n",
       "      <th>7</th>\n",
       "      <td>1.764022e-07</td>\n",
       "      <td>5.895152e-17</td>\n",
       "    </tr>\n",
       "    <tr>\n",
       "      <th>8</th>\n",
       "      <td>1.947608e-07</td>\n",
       "      <td>7.447724e-17</td>\n",
       "    </tr>\n",
       "    <tr>\n",
       "      <th>9</th>\n",
       "      <td>2.131194e-07</td>\n",
       "      <td>9.347272e-17</td>\n",
       "    </tr>\n",
       "    <tr>\n",
       "      <th>10</th>\n",
       "      <td>2.314781e-07</td>\n",
       "      <td>1.154354e-16</td>\n",
       "    </tr>\n",
       "    <tr>\n",
       "      <th>11</th>\n",
       "      <td>2.498367e-07</td>\n",
       "      <td>1.374488e-16</td>\n",
       "    </tr>\n",
       "    <tr>\n",
       "      <th>12</th>\n",
       "      <td>2.681953e-07</td>\n",
       "      <td>1.534382e-16</td>\n",
       "    </tr>\n",
       "    <tr>\n",
       "      <th>13</th>\n",
       "      <td>2.865539e-07</td>\n",
       "      <td>1.671772e-16</td>\n",
       "    </tr>\n",
       "    <tr>\n",
       "      <th>14</th>\n",
       "      <td>3.049125e-07</td>\n",
       "      <td>1.802543e-16</td>\n",
       "    </tr>\n",
       "    <tr>\n",
       "      <th>15</th>\n",
       "      <td>3.232711e-07</td>\n",
       "      <td>1.929425e-16</td>\n",
       "    </tr>\n",
       "    <tr>\n",
       "      <th>16</th>\n",
       "      <td>3.416297e-07</td>\n",
       "      <td>2.053711e-16</td>\n",
       "    </tr>\n",
       "    <tr>\n",
       "      <th>17</th>\n",
       "      <td>3.599883e-07</td>\n",
       "      <td>2.176142e-16</td>\n",
       "    </tr>\n",
       "    <tr>\n",
       "      <th>18</th>\n",
       "      <td>3.783469e-07</td>\n",
       "      <td>2.297188e-16</td>\n",
       "    </tr>\n",
       "    <tr>\n",
       "      <th>19</th>\n",
       "      <td>3.967055e-07</td>\n",
       "      <td>2.417169e-16</td>\n",
       "    </tr>\n",
       "    <tr>\n",
       "      <th>20</th>\n",
       "      <td>4.150641e-07</td>\n",
       "      <td>2.536311e-16</td>\n",
       "    </tr>\n",
       "    <tr>\n",
       "      <th>21</th>\n",
       "      <td>4.334227e-07</td>\n",
       "      <td>2.654779e-16</td>\n",
       "    </tr>\n",
       "    <tr>\n",
       "      <th>22</th>\n",
       "      <td>4.517813e-07</td>\n",
       "      <td>2.772699e-16</td>\n",
       "    </tr>\n",
       "    <tr>\n",
       "      <th>23</th>\n",
       "      <td>4.701399e-07</td>\n",
       "      <td>2.890164e-16</td>\n",
       "    </tr>\n",
       "    <tr>\n",
       "      <th>24</th>\n",
       "      <td>4.884985e-07</td>\n",
       "      <td>3.007252e-16</td>\n",
       "    </tr>\n",
       "    <tr>\n",
       "      <th>25</th>\n",
       "      <td>5.068571e-07</td>\n",
       "      <td>3.124020e-16</td>\n",
       "    </tr>\n",
       "    <tr>\n",
       "      <th>26</th>\n",
       "      <td>5.252157e-07</td>\n",
       "      <td>3.240518e-16</td>\n",
       "    </tr>\n",
       "    <tr>\n",
       "      <th>27</th>\n",
       "      <td>5.435743e-07</td>\n",
       "      <td>3.356784e-16</td>\n",
       "    </tr>\n",
       "    <tr>\n",
       "      <th>28</th>\n",
       "      <td>5.619329e-07</td>\n",
       "      <td>3.472849e-16</td>\n",
       "    </tr>\n",
       "    <tr>\n",
       "      <th>29</th>\n",
       "      <td>5.802915e-07</td>\n",
       "      <td>3.588741e-16</td>\n",
       "    </tr>\n",
       "    <tr>\n",
       "      <th>30</th>\n",
       "      <td>5.986501e-07</td>\n",
       "      <td>3.704482e-16</td>\n",
       "    </tr>\n",
       "  </tbody>\n",
       "</table>\n",
       "</div>\n",
       "      <button class=\"colab-df-convert\" onclick=\"convertToInteractive('df-7f024a2a-f5ce-41a4-9578-f477e5749d7c')\"\n",
       "              title=\"Convert this dataframe to an interactive table.\"\n",
       "              style=\"display:none;\">\n",
       "        \n",
       "  <svg xmlns=\"http://www.w3.org/2000/svg\" height=\"24px\"viewBox=\"0 0 24 24\"\n",
       "       width=\"24px\">\n",
       "    <path d=\"M0 0h24v24H0V0z\" fill=\"none\"/>\n",
       "    <path d=\"M18.56 5.44l.94 2.06.94-2.06 2.06-.94-2.06-.94-.94-2.06-.94 2.06-2.06.94zm-11 1L8.5 8.5l.94-2.06 2.06-.94-2.06-.94L8.5 2.5l-.94 2.06-2.06.94zm10 10l.94 2.06.94-2.06 2.06-.94-2.06-.94-.94-2.06-.94 2.06-2.06.94z\"/><path d=\"M17.41 7.96l-1.37-1.37c-.4-.4-.92-.59-1.43-.59-.52 0-1.04.2-1.43.59L10.3 9.45l-7.72 7.72c-.78.78-.78 2.05 0 2.83L4 21.41c.39.39.9.59 1.41.59.51 0 1.02-.2 1.41-.59l7.78-7.78 2.81-2.81c.8-.78.8-2.07 0-2.86zM5.41 20L4 18.59l7.72-7.72 1.47 1.35L5.41 20z\"/>\n",
       "  </svg>\n",
       "      </button>\n",
       "      \n",
       "  <style>\n",
       "    .colab-df-container {\n",
       "      display:flex;\n",
       "      flex-wrap:wrap;\n",
       "      gap: 12px;\n",
       "    }\n",
       "\n",
       "    .colab-df-convert {\n",
       "      background-color: #E8F0FE;\n",
       "      border: none;\n",
       "      border-radius: 50%;\n",
       "      cursor: pointer;\n",
       "      display: none;\n",
       "      fill: #1967D2;\n",
       "      height: 32px;\n",
       "      padding: 0 0 0 0;\n",
       "      width: 32px;\n",
       "    }\n",
       "\n",
       "    .colab-df-convert:hover {\n",
       "      background-color: #E2EBFA;\n",
       "      box-shadow: 0px 1px 2px rgba(60, 64, 67, 0.3), 0px 1px 3px 1px rgba(60, 64, 67, 0.15);\n",
       "      fill: #174EA6;\n",
       "    }\n",
       "\n",
       "    [theme=dark] .colab-df-convert {\n",
       "      background-color: #3B4455;\n",
       "      fill: #D2E3FC;\n",
       "    }\n",
       "\n",
       "    [theme=dark] .colab-df-convert:hover {\n",
       "      background-color: #434B5C;\n",
       "      box-shadow: 0px 1px 3px 1px rgba(0, 0, 0, 0.15);\n",
       "      filter: drop-shadow(0px 1px 2px rgba(0, 0, 0, 0.3));\n",
       "      fill: #FFFFFF;\n",
       "    }\n",
       "  </style>\n",
       "\n",
       "      <script>\n",
       "        const buttonEl =\n",
       "          document.querySelector('#df-7f024a2a-f5ce-41a4-9578-f477e5749d7c button.colab-df-convert');\n",
       "        buttonEl.style.display =\n",
       "          google.colab.kernel.accessAllowed ? 'block' : 'none';\n",
       "\n",
       "        async function convertToInteractive(key) {\n",
       "          const element = document.querySelector('#df-7f024a2a-f5ce-41a4-9578-f477e5749d7c');\n",
       "          const dataTable =\n",
       "            await google.colab.kernel.invokeFunction('convertToInteractive',\n",
       "                                                     [key], {});\n",
       "          if (!dataTable) return;\n",
       "\n",
       "          const docLinkHtml = 'Like what you see? Visit the ' +\n",
       "            '<a target=\"_blank\" href=https://colab.research.google.com/notebooks/data_table.ipynb>data table notebook</a>'\n",
       "            + ' to learn more about interactive tables.';\n",
       "          element.innerHTML = '';\n",
       "          dataTable['output_type'] = 'display_data';\n",
       "          await google.colab.output.renderOutput(dataTable, element);\n",
       "          const docLink = document.createElement('div');\n",
       "          docLink.innerHTML = docLinkHtml;\n",
       "          element.appendChild(docLink);\n",
       "        }\n",
       "      </script>\n",
       "    </div>\n",
       "  </div>\n",
       "  "
      ],
      "text/plain": [
       "     Temperature      Pressure\n",
       "0   4.789201e-08  1.958251e-17\n",
       "1   6.625061e-08  2.055515e-17\n",
       "2   8.460922e-08  2.237848e-17\n",
       "3   1.029678e-07  2.534132e-17\n",
       "4   1.213264e-07  2.994527e-17\n",
       "5   1.396850e-07  3.681453e-17\n",
       "6   1.580436e-07  4.642824e-17\n",
       "7   1.764022e-07  5.895152e-17\n",
       "8   1.947608e-07  7.447724e-17\n",
       "9   2.131194e-07  9.347272e-17\n",
       "10  2.314781e-07  1.154354e-16\n",
       "11  2.498367e-07  1.374488e-16\n",
       "12  2.681953e-07  1.534382e-16\n",
       "13  2.865539e-07  1.671772e-16\n",
       "14  3.049125e-07  1.802543e-16\n",
       "15  3.232711e-07  1.929425e-16\n",
       "16  3.416297e-07  2.053711e-16\n",
       "17  3.599883e-07  2.176142e-16\n",
       "18  3.783469e-07  2.297188e-16\n",
       "19  3.967055e-07  2.417169e-16\n",
       "20  4.150641e-07  2.536311e-16\n",
       "21  4.334227e-07  2.654779e-16\n",
       "22  4.517813e-07  2.772699e-16\n",
       "23  4.701399e-07  2.890164e-16\n",
       "24  4.884985e-07  3.007252e-16\n",
       "25  5.068571e-07  3.124020e-16\n",
       "26  5.252157e-07  3.240518e-16\n",
       "27  5.435743e-07  3.356784e-16\n",
       "28  5.619329e-07  3.472849e-16\n",
       "29  5.802915e-07  3.588741e-16\n",
       "30  5.986501e-07  3.704482e-16"
      ]
     },
     "execution_count": 4,
     "metadata": {},
     "output_type": "execute_result"
    }
   ],
   "source": [
    "#a\n",
    "import numpy as np\n",
    "import pandas as pd\n",
    "import matplotlib.pyplot as plt\n",
    "\n",
    "\n",
    "df2=pd.read_csv('presionvstemperatura.csv')\n",
    "df2"
   ]
  },
  {
   "cell_type": "code",
   "execution_count": 5,
   "id": "xRaBWQ4mLxNw",
   "metadata": {
    "colab": {
     "base_uri": "https://localhost:8080/",
     "height": 295
    },
    "id": "xRaBWQ4mLxNw",
    "outputId": "0ffd7674-f10a-4dd5-c97c-82a185eb4536"
   },
   "outputs": [
    {
     "data": {
      "image/png": "[encoded data removed]",
      "text/plain": [
       "<Figure size 432x288 with 1 Axes>"
      ]
     },
     "metadata": {
      "needs_background": "light"
     },
     "output_type": "display_data"
    }
   ],
   "source": [
    "#b\n",
    "\n",
    "import matplotlib.pyplot as plt\n",
    "fig, ax = plt.subplots(1,1)\n",
    "ax.plot(df2['Temperature'] , df2['Pressure'],label='Temperatura vs Presion') # method 1\n",
    "plt.xlabel('Temperatura')\n",
    "plt.ylabel('Presion')\n",
    "plt.title('Presion en funcion de la temperatura')\n",
    "ax.legend()\n",
    "ax.grid(True)"
   ]
  },
  {
   "cell_type": "code",
   "execution_count": 6,
   "id": "sIdB1yJtRwIB",
   "metadata": {
    "colab": {
     "base_uri": "https://localhost:8080/"
    },
    "id": "sIdB1yJtRwIB",
    "outputId": "f67e636f-b2b2-4fea-baf3-837bc7f8507b"
   },
   "outputs": [
    {
     "name": "stdout",
     "output_type": "stream",
     "text": [
      "[5.29799802e-11 7.61486415e-11 1.30352287e-10 2.06082997e-10\n",
      " 3.12475005e-10 4.48916825e-10 6.02904968e-10 7.63919658e-10\n",
      " 9.40191259e-10 1.11550372e-09 1.19769793e-09 1.03501324e-09\n",
      " 8.09658111e-10 7.30340985e-10 7.01723220e-10 6.84061313e-10\n",
      " 6.71936615e-10 6.63114111e-10 6.56443006e-10 6.51256053e-10\n",
      " 6.47135543e-10 6.43805355e-10 6.41075324e-10 6.38810197e-10\n",
      " 6.36911237e-10 6.35304785e-10 6.33934876e-10 6.32758315e-10\n",
      " 6.31741302e-10 6.30857069e-10 6.30445179e-10]\n"
     ]
    }
   ],
   "source": [
    "#c\n",
    "import numpy as np\n",
    "import pandas as pd\n",
    "x=df2['Temperature']\n",
    "y=df2['Pressure']\n",
    "y_prime = np.gradient(y, x)\n",
    "print(y_prime)"
   ]
  },
  {
   "cell_type": "code",
   "execution_count": 7,
   "id": "20r0I_-SSfFo",
   "metadata": {
    "colab": {
     "base_uri": "https://localhost:8080/",
     "height": 295
    },
    "id": "20r0I_-SSfFo",
    "outputId": "87a052e5-03da-4fa1-f93b-f53d7df2ac0d"
   },
   "outputs": [
    {
     "data": {
      "image/png": "[encoded data removed]",
      "text/plain": [
       "<Figure size 432x288 with 1 Axes>"
      ]
     },
     "metadata": {
      "needs_background": "light"
     },
     "output_type": "display_data"
    }
   ],
   "source": [
    "#d\n",
    "import matplotlib.pyplot as plt\n",
    "fig, ax = plt.subplots(1,1)\n",
    "ax.plot(df2['Temperature'] ,y_prime,label='Cv vs T') # method 1\n",
    "plt.xlabel('Temperatura')\n",
    "plt.ylabel('Capacidad calorifica')\n",
    "plt.title('Capacidad calorifica en funcion de la temperatura')\n",
    "ax.legend()\n",
    "ax.grid(True)"
   ]
  },
  {
   "cell_type": "markdown",
   "id": "rrpQ247jV76H",
   "metadata": {
    "id": "rrpQ247jV76H"
   },
   "source": [
    "**e)**\n",
    "En alrededor de 2.4x10^-7 K evidenciamos un cambio abrupto en la temperatura , a este valor lo llamamos temperatura critica del gas"
   ]
  },
  {
   "cell_type": "markdown",
   "id": "nominated-beast",
   "metadata": {
    "id": "nominated-beast"
   },
   "source": [
    "# Ejercicio 3"
   ]
  },
  {
   "cell_type": "markdown",
   "id": "amended-french",
   "metadata": {
    "id": "amended-french"
   },
   "source": [
    "Dada es Matrix $S$:\n",
    "\n",
    "$$S=\n",
    "\\begin{bmatrix}\n",
    "1 &  -1 & -1 & -1\\\\\n",
    "-1 &  2 & 0 & 0\\\\\n",
    "-1 &  3 & 3 & 0 \\\\\n",
    "-1 &  0 & 1 & 4 \\\\\n",
    "\\end{bmatrix}$$\n",
    "\n",
    "\n",
    "a) calcular $S^5$ utilizando diagonalización.  \n",
    "\n",
    "b) crear una funcion `matrix_power(A,n)` que recive dos parametros: matrix $A$, y valor entero de la potencia $n$. Funcion tiene que devolver una matrix $M=A^n$ (usa diagonalizacion)"
   ]
  },
  {
   "cell_type": "code",
   "execution_count": 8,
   "id": "interested-joshua",
   "metadata": {
    "colab": {
     "base_uri": "https://localhost:8080/"
    },
    "id": "interested-joshua",
    "outputId": "d4c81fc9-5467-4f57-b68a-fc71d85e060c"
   },
   "outputs": [
    {
     "name": "stdout",
     "output_type": "stream",
     "text": [
      "[[ 1 -1 -1 -1]\n",
      " [-1  2  0  0]\n",
      " [-1  3  3  0]\n",
      " [-1  0  1  4]]\n",
      "[[-3.49561271e-01  7.94033408e-01  7.62229110e-02  9.69367087e-16]\n",
      " [ 1.21959906e-01  4.79650284e-01  3.61664456e-01  3.63512658e-16]\n",
      " [ 3.83368157e-01 -2.42866291e-01 -8.33174113e-01 -7.07106781e-01]\n",
      " [ 8.46145115e-01  2.83659156e-01  4.11351172e-01  7.07106781e-01]]\n",
      "[[-0.5104852   0.79495719  0.58933991  0.58933991]\n",
      " [ 1.16666341  0.12636479  0.31915793  0.31915793]\n",
      " [-1.37511912  2.32933088 -0.6220131  -0.6220131 ]\n",
      " [ 0.94280904 -2.3570226  -0.47140452  0.94280904]]\n",
      "[[2.72865731e+03 0.00000000e+00 0.00000000e+00 0.00000000e+00]\n",
      " [0.00000000e+00 4.85634224e-03 0.00000000e+00 0.00000000e+00]\n",
      " [0.00000000e+00 0.00000000e+00 1.83378321e+01 0.00000000e+00]\n",
      " [0.00000000e+00 0.00000000e+00 0.00000000e+00 2.43000000e+02]]\n",
      "La matriz S elevada a al quinta potencia es :\n",
      "[[  485.  -755.  -563.  -563.]\n",
      " [ -179.   280.   192.   192.]\n",
      " [ -675.  1201.   707.   464.]\n",
      " [-1027.  1448.  1275.  1518.]]\n"
     ]
    }
   ],
   "source": [
    "\n",
    "#a\n",
    "import numpy as np\n",
    "\n",
    "S=np.array([[1,-1,-1,-1],[-1,2,0,0],[-1,3,3,0],[-1,0,1,4]])\n",
    "print(S)\n",
    "\n",
    "\n",
    "evalues, evectors = np.linalg.eig(S)\n",
    "\n",
    "P = evectors\n",
    "P_1 = np.linalg.inv(evectors)\n",
    "\n",
    "\n",
    "D=np.diag(evalues**5)\n",
    "\n",
    "print(P)\n",
    "print(P_1)\n",
    "print(D)\n",
    "\n",
    "\n",
    "S5=np.matmul(P,np.matmul(D,P_1))\n",
    "print(\"La matriz S elevada a al quinta potencia es :\")\n",
    "print(S5)\n",
    "\n"
   ]
  },
  {
   "cell_type": "code",
   "execution_count": 9,
   "id": "LPAVXjlGBlHe",
   "metadata": {
    "colab": {
     "base_uri": "https://localhost:8080/"
    },
    "id": "LPAVXjlGBlHe",
    "outputId": "56150283-cc41-48cf-f615-dff22e144af0"
   },
   "outputs": [
    {
     "data": {
      "text/plain": [
       "array([[  485.,  -755.,  -563.,  -563.],\n",
       "       [ -179.,   280.,   192.,   192.],\n",
       "       [ -675.,  1201.,   707.,   464.],\n",
       "       [-1027.,  1448.,  1275.,  1518.]])"
      ]
     },
     "execution_count": 9,
     "metadata": {},
     "output_type": "execute_result"
    }
   ],
   "source": [
    "#b\n",
    "import numpy as np\n",
    "def matrix_power(A,n):\n",
    "  evalues, evectors = np.linalg.eig(A)\n",
    "\n",
    "  P = evectors\n",
    "  P_1 = np.linalg.inv(evectors)\n",
    "  D=np.diag(evalues**n)\n",
    "  \n",
    "  return np.matmul(P,np.matmul(D,P_1))\n",
    "#Hagamos el ejemplo anterior para verificar\n",
    "matrix_power(np.array([[1,-1,-1,-1],[-1,2,0,0],[-1,3,3,0],[-1,0,1,4]]),5)\n",
    "\n",
    "\n"
   ]
  },
  {
   "cell_type": "markdown",
   "id": "brutal-israel",
   "metadata": {},
   "source": [
    "# Feedback:\n",
    "```\n",
    "Exercise 1.\n",
    "Importation of the data + labeled plot (rho vs. r)\t            (max 0.5p):\t0.5p\n",
    "Calculation of the integral                 \t\t              (max 0.5p):\t0.5p\n",
    "\n",
    "Exercise 2.\n",
    "Importation of the data + labeled plot P vs. T \t               (max 0.5p):\t0.5p\n",
    "Calculation of the derivative and plot Cv vs. T        \t\t   (max 2.0p):\t2.0p\n",
    "Approximation of the critical temperature                         (max 0.5p):\t0.5p\n",
    "Interpolation                                                     (max 1.0p):\t0.0p\n",
    "\n",
    "Exercise 3.\n",
    "Calculation of the M^n                                 \t       (max 2.0p):\t2.0p\n",
    "Function of the M^n                                    \t       (max 2.0p):\t2.0p\n",
    "\n",
    "- Total:                                                          (max 10.0p):   8.0p\n",
    "```"
   ]
  },
  {
   "cell_type": "code",
   "execution_count": null,
   "id": "sticky-terrain",
   "metadata": {},
   "outputs": [],
   "source": []
  }
 ],
 "metadata": {
  "colab": {
   "name": "Parcial3_Daniel_Valle_Jaramillo.ipynb",
   "provenance": []
  },
  "kernelspec": {
   "display_name": "Python 3",
   "language": "python",
   "name": "python3"
  },
  "language_info": {
   "codemirror_mode": {
    "name": "ipython",
    "version": 3
   },
   "file_extension": ".py",
   "mimetype": "text/x-python",
   "name": "python",
   "nbconvert_exporter": "python",
   "pygments_lexer": "ipython3",
   "version": "3.7.2"
  }
 },
 "nbformat": 4,
 "nbformat_minor": 5
}
