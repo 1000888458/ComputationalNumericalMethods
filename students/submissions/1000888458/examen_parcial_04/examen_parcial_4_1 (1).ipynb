{
 "cells": [
  {
   "cell_type": "markdown",
   "id": "rX5AiWn2ilgy",
   "metadata": {
    "id": "rX5AiWn2ilgy"
   },
   "source": [
    "**PROFESOR** : De antemano disculpe, pase la noche sin dormir y no era muy conciente de lo que estaba haciendo durante el parcial. Me disculpo."
   ]
  },
  {
   "cell_type": "markdown",
   "id": "impossible-command",
   "metadata": {
    "id": "impossible-command"
   },
   "source": [
    "# Examen parcial 4  $\\color{red}{\\text{(10p max)}}$ (Equaciones diferenciales)\n",
    "* Antes de enviar el archivo, $\\textbf{reiniciar y ejecutar el kernel}$ y ver que el archivo se compila sin errores\n",
    "* enviar el archivo jupyter sin anexos antes de las 10.20am del 08.04.2022 a mi dirección de correo electrónico: michal.hemmerling@udea.edu.co "
   ]
  },
  {
   "cell_type": "markdown",
   "id": "focused-michigan",
   "metadata": {
    "id": "focused-michigan"
   },
   "source": [
    "## Ejercicio 1. $\\color{red}{\\text{(3p)}}$ Equaciones diferenciales - problema de valor de limite (boundary value problem).\n",
    "\n",
    "Transporte de calor en un objeto puede ser escrito usando segunda orden equacion diferencial:\n",
    "$$\\frac{d^2T}{dx^2}=0.01T-0.2$$\n",
    "a) Usando `scipy.integrate.solve_bvp` resolver este equacion diferencial cumpliendo siguientes condiciones de limite:\n",
    "\n",
    "T(x=0)=40  \n",
    "T(x=10)=200\n",
    "\n",
    "b) Hace grafico de T(x) vs x (con etiquietas y legend) "
   ]
  },
  {
   "cell_type": "code",
   "execution_count": 11,
   "id": "qDi-7sQLh76C",
   "metadata": {
    "colab": {
     "base_uri": "https://localhost:8080/"
    },
    "id": "qDi-7sQLh76C",
    "outputId": "e61ecc9e-662c-4a44-c021-6831f4f3c4a0"
   },
   "outputs": [
    {
     "name": "stdout",
     "output_type": "stream",
     "text": [
      "1.0\n",
      "1.0\n",
      "1.0\n",
      "1.0000000298023224\n",
      "1.0\n",
      "1.0\n",
      "13.61833333333338\n",
      "13.61833333333338\n"
     ]
    },
    {
     "data": {
      "text/plain": [
       "       message: 'The algorithm converged to the desired accuracy.'\n",
       "         niter: 1\n",
       "             p: None\n",
       " rms_residuals: array([8.67760994e-15, 1.48754637e-14, 2.11409304e-14, 2.61863684e-14,\n",
       "       1.99639790e-14, 1.37193589e-14, 7.48344652e-15, 1.43348132e-15,\n",
       "       4.85390766e-15, 1.14480614e-14, 1.77139802e-14, 2.36354751e-14,\n",
       "       2.38182146e-14, 1.72247203e-14, 1.10201840e-14, 5.06184154e-15,\n",
       "       1.53251358e-15, 7.47437141e-15, 1.44487699e-14, 2.00378142e-14,\n",
       "       2.62590139e-14, 2.06109913e-14, 1.49787892e-14, 8.72096120e-15,\n",
       "       2.53638261e-15, 3.91286143e-15, 1.08262609e-14, 1.63975269e-14,\n",
       "       2.26699680e-14, 2.42823378e-14, 1.89716642e-14, 1.26862006e-14,\n",
       "       6.40122178e-15, 5.37909884e-14, 4.75176620e-14, 4.12246036e-14,\n",
       "       2.03804203e-14, 1.36714703e-13, 8.57082013e-14, 1.62120984e-14,\n",
       "       6.38592618e-14, 1.04667437e-13, 5.12928786e-14, 6.45054001e-14,\n",
       "       9.28310700e-14, 2.17628572e-14, 8.02488095e-14, 1.98823944e-14,\n",
       "       1.34955611e-14, 4.73598410e-14, 5.55369247e-14, 2.11461495e-13,\n",
       "       1.31414473e-14, 1.44774278e-13, 1.38432427e-13, 7.78042820e-14,\n",
       "       1.45668809e-13, 1.19512951e-13, 1.58394746e-13, 1.05746678e-13,\n",
       "       1.71172719e-13, 1.45090795e-14, 2.08281183e-14, 2.44664440e-13,\n",
       "       1.84132181e-13, 2.03379385e-13, 1.46257585e-14, 1.71726593e-14,\n",
       "       4.44308976e-15, 1.19022693e-14, 2.28854465e-14, 2.36309883e-14,\n",
       "       2.37611627e-14, 2.06892072e-14, 1.61818682e-14, 1.78275599e-14,\n",
       "       9.14294384e-16, 1.73663658e-14, 1.60554369e-14, 2.50469180e-14,\n",
       "       2.62027027e-14, 2.67871041e-14, 1.79453163e-14, 1.81763547e-14,\n",
       "       2.98893490e-15, 1.67880396e-14, 1.41300999e-14, 1.88750468e-14,\n",
       "       3.07986950e-14, 2.58768231e-14, 2.39279285e-14, 1.95767304e-14,\n",
       "       9.86766667e-15, 2.46688724e-14, 2.04128189e-14, 1.51150969e-14,\n",
       "       2.34841938e-14, 2.56943527e-14, 2.48883303e-14])\n",
       "           sol: <scipy.interpolate.interpolate.PPoly object at 0x7fa1822d6888>\n",
       "        status: 0\n",
       "       success: True\n",
       "             x: array([0.        , 0.03030303, 0.06060606, 0.09090909, 0.12121212,\n",
       "       0.15151515, 0.18181818, 0.21212121, 0.24242424, 0.27272727,\n",
       "       0.3030303 , 0.33333333, 0.36363636, 0.39393939, 0.42424242,\n",
       "       0.45454545, 0.48484848, 0.51515152, 0.54545455, 0.57575758,\n",
       "       0.60606061, 0.63636364, 0.66666667, 0.6969697 , 0.72727273,\n",
       "       0.75757576, 0.78787879, 0.81818182, 0.84848485, 0.87878788,\n",
       "       0.90909091, 0.93939394, 0.96969697, 1.        , 1.03030303,\n",
       "       1.06060606, 1.09090909, 1.12121212, 1.15151515, 1.18181818,\n",
       "       1.21212121, 1.24242424, 1.27272727, 1.3030303 , 1.33333333,\n",
       "       1.36363636, 1.39393939, 1.42424242, 1.45454545, 1.48484848,\n",
       "       1.51515152, 1.54545455, 1.57575758, 1.60606061, 1.63636364,\n",
       "       1.66666667, 1.6969697 , 1.72727273, 1.75757576, 1.78787879,\n",
       "       1.81818182, 1.84848485, 1.87878788, 1.90909091, 1.93939394,\n",
       "       1.96969697, 2.        , 2.03030303, 2.06060606, 2.09090909,\n",
       "       2.12121212, 2.15151515, 2.18181818, 2.21212121, 2.24242424,\n",
       "       2.27272727, 2.3030303 , 2.33333333, 2.36363636, 2.39393939,\n",
       "       2.42424242, 2.45454545, 2.48484848, 2.51515152, 2.54545455,\n",
       "       2.57575758, 2.60606061, 2.63636364, 2.66666667, 2.6969697 ,\n",
       "       2.72727273, 2.75757576, 2.78787879, 2.81818182, 2.84848485,\n",
       "       2.87878788, 2.90909091, 2.93939394, 2.96969697, 3.        ])\n",
       "             y: array([[-1.37667655e-14,  4.12584987e-01,  8.24986597e-01,\n",
       "         1.23720511e+00,  1.64924080e+00,  2.06109395e+00,\n",
       "         2.47276484e+00,  2.88425374e+00,  3.29556094e+00,\n",
       "         3.70668670e+00,  4.11763132e+00,  4.52839506e+00,\n",
       "         4.93897821e+00,  5.34938105e+00,  5.75960384e+00,\n",
       "         6.16964688e+00,  6.57951044e+00,  6.98919479e+00,\n",
       "         7.39870023e+00,  7.80802701e+00,  8.21717543e+00,\n",
       "         8.62614576e+00,  9.03493827e+00,  9.44355326e+00,\n",
       "         9.85199098e+00,  1.02602517e+01,  1.06683358e+01,\n",
       "         1.10762434e+01,  1.14839749e+01,  1.18915305e+01,\n",
       "         1.22989106e+01,  1.27061153e+01,  1.31131450e+01,\n",
       "         1.35200000e+01,  1.39266805e+01,  1.43331868e+01,\n",
       "         1.47395192e+01,  1.51456779e+01,  1.55516633e+01,\n",
       "         1.59574756e+01,  1.63631151e+01,  1.67685821e+01,\n",
       "         1.71738768e+01,  1.75789995e+01,  1.79839506e+01,\n",
       "         1.83887303e+01,  1.87933388e+01,  1.91977765e+01,\n",
       "         1.96020436e+01,  2.00061404e+01,  2.04100672e+01,\n",
       "         2.08138242e+01,  2.12174118e+01,  2.16208302e+01,\n",
       "         2.20240796e+01,  2.24271605e+01,  2.28300730e+01,\n",
       "         2.32328174e+01,  2.36353941e+01,  2.40378032e+01,\n",
       "         2.44400451e+01,  2.48421200e+01,  2.52440283e+01,\n",
       "         2.56457701e+01,  2.60473458e+01,  2.64487557e+01,\n",
       "         2.68500000e+01,  2.72510790e+01,  2.76519930e+01,\n",
       "         2.80527423e+01,  2.84533271e+01,  2.88537478e+01,\n",
       "         2.92540045e+01,  2.96540976e+01,  3.00540274e+01,\n",
       "         3.04537941e+01,  3.08533981e+01,  3.12528395e+01,\n",
       "         3.16521187e+01,  3.20512360e+01,  3.24501915e+01,\n",
       "         3.28489857e+01,  3.32476188e+01,  3.36460910e+01,\n",
       "         3.40444027e+01,  3.44425541e+01,  3.48405455e+01,\n",
       "         3.52383772e+01,  3.56360494e+01,  3.60335624e+01,\n",
       "         3.64309166e+01,  3.68281122e+01,  3.72251494e+01,\n",
       "         3.76220285e+01,  3.80187499e+01,  3.84153138e+01,\n",
       "         3.88117205e+01,  3.92079702e+01,  3.96040633e+01,\n",
       "         4.00000000e+01],\n",
       "       [ 1.36183333e+01,  1.36122773e+01,  1.36062305e+01,\n",
       "         1.36001928e+01,  1.35941644e+01,  1.35881451e+01,\n",
       "         1.35821350e+01,  1.35761341e+01,  1.35701423e+01,\n",
       "         1.35641598e+01,  1.35581864e+01,  1.35522222e+01,\n",
       "         1.35462672e+01,  1.35403214e+01,  1.35343848e+01,\n",
       "         1.35284573e+01,  1.35225390e+01,  1.35166299e+01,\n",
       "         1.35107300e+01,  1.35048393e+01,  1.34989578e+01,\n",
       "         1.34930854e+01,  1.34872222e+01,  1.34813682e+01,\n",
       "         1.34755234e+01,  1.34696878e+01,  1.34638613e+01,\n",
       "         1.34580441e+01,  1.34522360e+01,  1.34464371e+01,\n",
       "         1.34406474e+01,  1.34348669e+01,  1.34290955e+01,\n",
       "         1.34233333e+01,  1.34175803e+01,  1.34118365e+01,\n",
       "         1.34061019e+01,  1.34003765e+01,  1.33946602e+01,\n",
       "         1.33889532e+01,  1.33832553e+01,  1.33775666e+01,\n",
       "         1.33718871e+01,  1.33662167e+01,  1.33605556e+01,\n",
       "         1.33549036e+01,  1.33492608e+01,  1.33436272e+01,\n",
       "         1.33380028e+01,  1.33323875e+01,  1.33267815e+01,\n",
       "         1.33211846e+01,  1.33155969e+01,  1.33100184e+01,\n",
       "         1.33044490e+01,  1.32988889e+01,  1.32933379e+01,\n",
       "         1.32877961e+01,  1.32822635e+01,  1.32767401e+01,\n",
       "         1.32712259e+01,  1.32657208e+01,  1.32602250e+01,\n",
       "         1.32547383e+01,  1.32492608e+01,  1.32437925e+01,\n",
       "         1.32383333e+01,  1.32328834e+01,  1.32274426e+01,\n",
       "         1.32220110e+01,  1.32165886e+01,  1.32111754e+01,\n",
       "         1.32057713e+01,  1.32003765e+01,  1.31949908e+01,\n",
       "         1.31896143e+01,  1.31842470e+01,  1.31788889e+01,\n",
       "         1.31735399e+01,  1.31682002e+01,  1.31628696e+01,\n",
       "         1.31575482e+01,  1.31522360e+01,  1.31469330e+01,\n",
       "         1.31416391e+01,  1.31363545e+01,  1.31310790e+01,\n",
       "         1.31258127e+01,  1.31205556e+01,  1.31153076e+01,\n",
       "         1.31100689e+01,  1.31048393e+01,  1.30996189e+01,\n",
       "         1.30944077e+01,  1.30892057e+01,  1.30840129e+01,\n",
       "         1.30788292e+01,  1.30736547e+01,  1.30684894e+01,\n",
       "         1.30633333e+01]])\n",
       "            yp: array([[13.61833333, 13.61227732, 13.60623049, 13.60019284, 13.59416437,\n",
       "        13.58814509, 13.58213499, 13.57613407, 13.57014233, 13.56415978,\n",
       "        13.55818641, 13.55222222, 13.54626722, 13.5403214 , 13.53438476,\n",
       "        13.5284573 , 13.52253903, 13.51662994, 13.51073003, 13.5048393 ,\n",
       "        13.49895776, 13.4930854 , 13.48722222, 13.48136823, 13.47552342,\n",
       "        13.46968779, 13.46386134, 13.45804408, 13.452236  , 13.4464371 ,\n",
       "        13.44064738, 13.43486685, 13.4290955 , 13.42333333, 13.41758035,\n",
       "        13.41183655, 13.40610193, 13.40037649, 13.39466024, 13.38895317,\n",
       "        13.38325528, 13.37756657, 13.37188705, 13.36621671, 13.36055556,\n",
       "        13.35490358, 13.34926079, 13.34362718, 13.33800275, 13.33238751,\n",
       "        13.32678145, 13.32118457, 13.31559688, 13.31001837, 13.30444904,\n",
       "        13.29888889, 13.29333792, 13.28779614, 13.28226354, 13.27674013,\n",
       "        13.2712259 , 13.26572084, 13.26022498, 13.25473829, 13.24926079,\n",
       "        13.24379247, 13.23833333, 13.23288338, 13.22744261, 13.22201102,\n",
       "        13.21658861, 13.21117539, 13.20577135, 13.20037649, 13.19499082,\n",
       "        13.18961433, 13.18424702, 13.17888889, 13.17353994, 13.16820018,\n",
       "        13.16286961, 13.15754821, 13.152236  , 13.14693297, 13.14163912,\n",
       "        13.13635445, 13.13107897, 13.12581267, 13.12055556, 13.11530762,\n",
       "        13.11006887, 13.1048393 , 13.09961892, 13.09440771, 13.08920569,\n",
       "        13.08401286, 13.0788292 , 13.07365473, 13.06848944, 13.06333333],\n",
       "       [-0.2       , -0.19969697, -0.19939394, -0.19909091, -0.19878788,\n",
       "        -0.19848485, -0.19818182, -0.19787879, -0.19757576, -0.19727273,\n",
       "        -0.1969697 , -0.19666667, -0.19636364, -0.19606061, -0.19575758,\n",
       "        -0.19545455, -0.19515152, -0.19484848, -0.19454545, -0.19424242,\n",
       "        -0.19393939, -0.19363636, -0.19333333, -0.1930303 , -0.19272727,\n",
       "        -0.19242424, -0.19212121, -0.19181818, -0.19151515, -0.19121212,\n",
       "        -0.19090909, -0.19060606, -0.19030303, -0.19      , -0.18969697,\n",
       "        -0.18939394, -0.18909091, -0.18878788, -0.18848485, -0.18818182,\n",
       "        -0.18787879, -0.18757576, -0.18727273, -0.1869697 , -0.18666667,\n",
       "        -0.18636364, -0.18606061, -0.18575758, -0.18545455, -0.18515152,\n",
       "        -0.18484848, -0.18454545, -0.18424242, -0.18393939, -0.18363636,\n",
       "        -0.18333333, -0.1830303 , -0.18272727, -0.18242424, -0.18212121,\n",
       "        -0.18181818, -0.18151515, -0.18121212, -0.18090909, -0.18060606,\n",
       "        -0.18030303, -0.18      , -0.17969697, -0.17939394, -0.17909091,\n",
       "        -0.17878788, -0.17848485, -0.17818182, -0.17787879, -0.17757576,\n",
       "        -0.17727273, -0.1769697 , -0.17666667, -0.17636364, -0.17606061,\n",
       "        -0.17575758, -0.17545455, -0.17515152, -0.17484848, -0.17454545,\n",
       "        -0.17424242, -0.17393939, -0.17363636, -0.17333333, -0.1730303 ,\n",
       "        -0.17272727, -0.17242424, -0.17212121, -0.17181818, -0.17151515,\n",
       "        -0.17121212, -0.17090909, -0.17060606, -0.17030303, -0.17      ]])"
      ]
     },
     "execution_count": 11,
     "metadata": {},
     "output_type": "execute_result"
    }
   ],
   "source": [
    "from scipy.integrate import solve_bvp\n",
    "import numpy as np\n",
    "\n",
    "def derivs(t,y):\n",
    "    dydt=np.zeros((y.shape))\n",
    "    dydt[0]=y[1]\n",
    "    dydt[1]=0.01*t-0.2\n",
    "    return dydt\n",
    "\n",
    "def bc(ya,yb):\n",
    "    residuals=np.array([0.0,0.0])\n",
    "    residuals[0]=ya[0] - 0.0\n",
    "    residuals[1]=yb[0] - 40.0\n",
    "    print(ya[1])\n",
    "\n",
    "    return residuals\n",
    "\n",
    "\n",
    "t_steps = 100\n",
    "t = np.linspace(0,3,t_steps)\n",
    "\n",
    "\n",
    "y0 = np.ones((2,t_steps))\n",
    "\n",
    "\n",
    "sol = solve_bvp(derivs, bc, t, y0)\n",
    "sol"
   ]
  },
  {
   "cell_type": "code",
   "execution_count": 12,
   "id": "p4Fay_qorzMy",
   "metadata": {
    "colab": {
     "base_uri": "https://localhost:8080/",
     "height": 314
    },
    "id": "p4Fay_qorzMy",
    "outputId": "f9a71db5-bb30-4cc9-d823-933a089ac6a5"
   },
   "outputs": [
    {
     "name": "stdout",
     "output_type": "stream",
     "text": [
      "-1.6666666666666667\n",
      "40.0\n"
     ]
    },
    {
     "data": {
      "image/png": "[encoded data removed]",
      "text/plain": [
       "<Figure size 432x288 with 1 Axes>"
      ]
     },
     "metadata": {
      "needs_background": "light"
     },
     "output_type": "display_data"
    }
   ],
   "source": [
    "import matplotlib.pyplot as plt\n",
    "fig, ax=plt.subplots(1,1)\n",
    "ax.plot(sol.x, sol.y[0],'-r',label='Transporte de calor en un objeto')\n",
    "ax.set_xlabel('x')\n",
    "ax.set_ylabel('t(x)')\n",
    "ax.legend()\n",
    "print(-5/3)\n",
    "print(sol.y[0][-1])"
   ]
  },
  {
   "cell_type": "code",
   "execution_count": 3,
   "id": "XcJU-bu-r7-e",
   "metadata": {
    "colab": {
     "base_uri": "https://localhost:8080/"
    },
    "id": "XcJU-bu-r7-e",
    "outputId": "25caa4a6-25e4-4dd3-b49f-eb65f9c7f13b"
   },
   "outputs": [
    {
     "name": "stdout",
     "output_type": "stream",
     "text": [
      "1.0\n",
      "1.0\n",
      "1.0\n",
      "1.0000000298023224\n",
      "1.0\n",
      "1.0\n",
      "20.83333333333334\n",
      "20.83333333333334\n"
     ]
    },
    {
     "data": {
      "text/plain": [
       "       message: 'The algorithm converged to the desired accuracy.'\n",
       "         niter: 1\n",
       "             p: None\n",
       " rms_residuals: array([9.06984268e-15, 1.52998629e-14, 7.60799685e-15, 3.63823859e-16,\n",
       "       7.94763670e-15, 1.58395127e-14, 8.62431101e-15, 1.04784062e-15,\n",
       "       7.33895004e-15, 1.46100035e-14, 8.74630289e-14, 2.49800532e-15,\n",
       "       3.84216493e-14, 4.62927092e-14, 1.09685608e-14, 6.81015405e-14,\n",
       "       4.99102646e-15, 1.28432294e-14, 4.46098887e-14, 6.08222044e-14,\n",
       "       4.50747167e-15, 4.40017860e-14, 1.28024502e-14, 5.59792148e-15,\n",
       "       3.55445802e-15, 2.26931366e-14, 1.89797382e-14, 7.24289641e-14,\n",
       "       3.50087943e-14, 2.37426534e-14, 5.08838425e-14, 2.52068893e-14,\n",
       "       3.33426416e-14, 9.58145347e-15, 1.61935293e-14, 7.44979740e-14,\n",
       "       9.84393817e-14, 5.86696109e-14, 8.14433116e-14, 2.31244223e-14,\n",
       "       1.64996605e-15, 6.06985257e-14, 1.40213525e-14, 2.21031628e-14,\n",
       "       6.34607794e-15, 6.19258260e-14, 1.29508365e-14, 2.13499040e-14,\n",
       "       3.79481375e-14, 3.86375863e-14, 1.21679871e-14, 2.00313715e-14,\n",
       "       2.83189653e-14, 6.33902300e-14, 9.01760516e-14, 1.89300567e-14,\n",
       "       7.09467700e-15, 3.64984746e-14, 1.32751107e-14, 1.70378841e-14,\n",
       "       2.67741799e-14, 9.99868982e-14, 1.19813314e-14, 1.73697302e-14,\n",
       "       1.20549441e-14, 6.87041929e-14, 4.27952875e-14, 5.07196261e-14,\n",
       "       9.21277249e-14, 6.65724086e-14, 2.67334898e-14, 2.23388267e-14,\n",
       "       1.59728395e-13, 2.36565473e-13, 1.32293901e-14, 4.84825578e-14,\n",
       "       5.62373353e-14, 4.42187744e-15, 3.23155932e-14, 4.59446988e-14,\n",
       "       8.15677685e-14, 7.33676948e-14, 3.30578182e-14, 2.26172249e-14,\n",
       "       8.49740367e-14, 2.13177949e-13, 1.70304456e-13, 9.49339382e-14,\n",
       "       1.19663157e-13, 6.90959013e-15, 8.59481073e-15, 1.54805857e-14,\n",
       "       2.08017788e-14, 9.87395597e-15, 7.16074006e-15, 9.27891877e-15,\n",
       "       1.73571396e-14, 1.38253522e-14, 3.40407642e-15])\n",
       "           sol: <scipy.interpolate.interpolate.PPoly object at 0x7f3885269d10>\n",
       "        status: 0\n",
       "       success: True\n",
       "             x: array([ 0.        ,  0.1010101 ,  0.2020202 ,  0.3030303 ,  0.4040404 ,\n",
       "        0.50505051,  0.60606061,  0.70707071,  0.80808081,  0.90909091,\n",
       "        1.01010101,  1.11111111,  1.21212121,  1.31313131,  1.41414141,\n",
       "        1.51515152,  1.61616162,  1.71717172,  1.81818182,  1.91919192,\n",
       "        2.02020202,  2.12121212,  2.22222222,  2.32323232,  2.42424242,\n",
       "        2.52525253,  2.62626263,  2.72727273,  2.82828283,  2.92929293,\n",
       "        3.03030303,  3.13131313,  3.23232323,  3.33333333,  3.43434343,\n",
       "        3.53535354,  3.63636364,  3.73737374,  3.83838384,  3.93939394,\n",
       "        4.04040404,  4.14141414,  4.24242424,  4.34343434,  4.44444444,\n",
       "        4.54545455,  4.64646465,  4.74747475,  4.84848485,  4.94949495,\n",
       "        5.05050505,  5.15151515,  5.25252525,  5.35353535,  5.45454545,\n",
       "        5.55555556,  5.65656566,  5.75757576,  5.85858586,  5.95959596,\n",
       "        6.06060606,  6.16161616,  6.26262626,  6.36363636,  6.46464646,\n",
       "        6.56565657,  6.66666667,  6.76767677,  6.86868687,  6.96969697,\n",
       "        7.07070707,  7.17171717,  7.27272727,  7.37373737,  7.47474747,\n",
       "        7.57575758,  7.67676768,  7.77777778,  7.87878788,  7.97979798,\n",
       "        8.08080808,  8.18181818,  8.28282828,  8.38383838,  8.48484848,\n",
       "        8.58585859,  8.68686869,  8.78787879,  8.88888889,  8.98989899,\n",
       "        9.09090909,  9.19191919,  9.29292929,  9.39393939,  9.49494949,\n",
       "        9.5959596 ,  9.6969697 ,  9.7979798 ,  9.8989899 , 10.        ])\n",
       "             y: array([[-1.11022302e-15,  2.10335852e+00,  4.20468673e+00,\n",
       "         6.30399495e+00,  8.40129348e+00,  1.04965926e+01,\n",
       "         1.25899027e+01,  1.46812340e+01,  1.67705968e+01,\n",
       "         1.88580015e+01,  2.09434583e+01,  2.30269776e+01,\n",
       "         2.51085696e+01,  2.71882447e+01,  2.92660132e+01,\n",
       "         3.13418853e+01,  3.34158715e+01,  3.54879819e+01,\n",
       "         3.75582269e+01,  3.96266168e+01,  4.16931619e+01,\n",
       "         4.37578726e+01,  4.58207590e+01,  4.78818316e+01,\n",
       "         4.99411006e+01,  5.19985764e+01,  5.40542692e+01,\n",
       "         5.61081893e+01,  5.81603471e+01,  6.02107529e+01,\n",
       "         6.22594169e+01,  6.43063496e+01,  6.63515610e+01,\n",
       "         6.83950617e+01,  7.04368619e+01,  7.24769719e+01,\n",
       "         7.45154020e+01,  7.65521624e+01,  7.85872637e+01,\n",
       "         8.06207159e+01,  8.26525294e+01,  8.46827146e+01,\n",
       "         8.67112818e+01,  8.87382412e+01,  9.07636031e+01,\n",
       "         9.27873779e+01,  9.48095759e+01,  9.68302073e+01,\n",
       "         9.88492825e+01,  1.00866812e+02,  1.02882806e+02,\n",
       "         1.04897274e+02,  1.06910227e+02,  1.08921676e+02,\n",
       "         1.10931630e+02,  1.12940101e+02,  1.14947097e+02,\n",
       "         1.16952630e+02,  1.18956710e+02,  1.20959347e+02,\n",
       "         1.22960551e+02,  1.24960334e+02,  1.26958704e+02,\n",
       "         1.28955672e+02,  1.30951250e+02,  1.32945446e+02,\n",
       "         1.34938272e+02,  1.36929737e+02,  1.38919852e+02,\n",
       "         1.40908627e+02,  1.42896073e+02,  1.44882200e+02,\n",
       "         1.46867017e+02,  1.48850536e+02,  1.50832767e+02,\n",
       "         1.52813720e+02,  1.54793406e+02,  1.56771834e+02,\n",
       "         1.58749014e+02,  1.60724959e+02,  1.62699676e+02,\n",
       "         1.64673178e+02,  1.66645474e+02,  1.68616574e+02,\n",
       "         1.70586489e+02,  1.72555230e+02,  1.74522805e+02,\n",
       "         1.76489227e+02,  1.78454504e+02,  1.80418648e+02,\n",
       "         1.82381668e+02,  1.84343575e+02,  1.86304380e+02,\n",
       "         1.88264092e+02,  1.90222722e+02,  1.92180280e+02,\n",
       "         1.94136776e+02,  1.96092222e+02,  1.98046626e+02,\n",
       "         2.00000000e+02],\n",
       "       [ 2.08333333e+01,  2.08131823e+01,  2.07931334e+01,\n",
       "         2.07731864e+01,  2.07533415e+01,  2.07335986e+01,\n",
       "         2.07139578e+01,  2.06944189e+01,  2.06749821e+01,\n",
       "         2.06556474e+01,  2.06364147e+01,  2.06172840e+01,\n",
       "         2.05982553e+01,  2.05793286e+01,  2.05605040e+01,\n",
       "         2.05417815e+01,  2.05231609e+01,  2.05046424e+01,\n",
       "         2.04862259e+01,  2.04679114e+01,  2.04496990e+01,\n",
       "         2.04315886e+01,  2.04135802e+01,  2.03956739e+01,\n",
       "         2.03778696e+01,  2.03601673e+01,  2.03425671e+01,\n",
       "         2.03250689e+01,  2.03076727e+01,  2.02903785e+01,\n",
       "         2.02731864e+01,  2.02560963e+01,  2.02391083e+01,\n",
       "         2.02222222e+01,  2.02054382e+01,  2.01887562e+01,\n",
       "         2.01721763e+01,  2.01556984e+01,  2.01393225e+01,\n",
       "         2.01230487e+01,  2.01068768e+01,  2.00908071e+01,\n",
       "         2.00748393e+01,  2.00589736e+01,  2.00432099e+01,\n",
       "         2.00275482e+01,  2.00119886e+01,  1.99965310e+01,\n",
       "         1.99811754e+01,  1.99659218e+01,  1.99507703e+01,\n",
       "         1.99357208e+01,  1.99207734e+01,  1.99059280e+01,\n",
       "         1.98911846e+01,  1.98765432e+01,  1.98620039e+01,\n",
       "         1.98475666e+01,  1.98332313e+01,  1.98189981e+01,\n",
       "         1.98048669e+01,  1.97908377e+01,  1.97769105e+01,\n",
       "         1.97630854e+01,  1.97493623e+01,  1.97357413e+01,\n",
       "         1.97222222e+01,  1.97088052e+01,  1.96954903e+01,\n",
       "         1.96822773e+01,  1.96691664e+01,  1.96561575e+01,\n",
       "         1.96432507e+01,  1.96304459e+01,  1.96177431e+01,\n",
       "         1.96051423e+01,  1.95926436e+01,  1.95802469e+01,\n",
       "         1.95679522e+01,  1.95557596e+01,  1.95436690e+01,\n",
       "         1.95316804e+01,  1.95197939e+01,  1.95080094e+01,\n",
       "         1.94963269e+01,  1.94847465e+01,  1.94732680e+01,\n",
       "         1.94618916e+01,  1.94506173e+01,  1.94394450e+01,\n",
       "         1.94283747e+01,  1.94174064e+01,  1.94065401e+01,\n",
       "         1.93957759e+01,  1.93851138e+01,  1.93745536e+01,\n",
       "         1.93640955e+01,  1.93537394e+01,  1.93434854e+01,\n",
       "         1.93333333e+01]])\n",
       "            yp: array([[20.83333333, 20.81318233, 20.79313335, 20.77318641, 20.7533415 ,\n",
       "        20.73359861, 20.71395776, 20.69441894, 20.67498214, 20.65564738,\n",
       "        20.63641465, 20.61728395, 20.59825528, 20.57932864, 20.56050403,\n",
       "        20.54178145, 20.5231609 , 20.50464238, 20.4862259 , 20.46791144,\n",
       "        20.44969901, 20.43158861, 20.41358025, 20.39567391, 20.37786961,\n",
       "        20.36016733, 20.34256708, 20.32506887, 20.30767269, 20.29037853,\n",
       "        20.27318641, 20.25609632, 20.23910825, 20.22222222, 20.20543822,\n",
       "        20.18875625, 20.17217631, 20.1556984 , 20.13932252, 20.12304867,\n",
       "        20.10687685, 20.09080706, 20.0748393 , 20.05897357, 20.04320988,\n",
       "        20.02754821, 20.01198857, 19.99653097, 19.98117539, 19.96592184,\n",
       "        19.95077033, 19.93572084, 19.92077339, 19.90592797, 19.89118457,\n",
       "        19.87654321, 19.86200388, 19.84756657, 19.8332313 , 19.81899806,\n",
       "        19.80486685, 19.79083767, 19.77691052, 19.7630854 , 19.74936231,\n",
       "        19.73574125, 19.72222222, 19.70880522, 19.69549026, 19.68227732,\n",
       "        19.66916641, 19.65615753, 19.64325069, 19.63044587, 19.61774309,\n",
       "        19.60514233, 19.59264361, 19.58024691, 19.56795225, 19.55575962,\n",
       "        19.54366901, 19.53168044, 19.5197939 , 19.50800939, 19.49632691,\n",
       "        19.48474645, 19.47326803, 19.46189164, 19.45061728, 19.43944495,\n",
       "        19.42837466, 19.41740639, 19.40654015, 19.39577594, 19.38511376,\n",
       "        19.37455362, 19.3640955 , 19.35373941, 19.34348536, 19.33333333],\n",
       "       [-0.2       , -0.1989899 , -0.1979798 , -0.1969697 , -0.1959596 ,\n",
       "        -0.19494949, -0.19393939, -0.19292929, -0.19191919, -0.19090909,\n",
       "        -0.18989899, -0.18888889, -0.18787879, -0.18686869, -0.18585859,\n",
       "        -0.18484848, -0.18383838, -0.18282828, -0.18181818, -0.18080808,\n",
       "        -0.17979798, -0.17878788, -0.17777778, -0.17676768, -0.17575758,\n",
       "        -0.17474747, -0.17373737, -0.17272727, -0.17171717, -0.17070707,\n",
       "        -0.16969697, -0.16868687, -0.16767677, -0.16666667, -0.16565657,\n",
       "        -0.16464646, -0.16363636, -0.16262626, -0.16161616, -0.16060606,\n",
       "        -0.15959596, -0.15858586, -0.15757576, -0.15656566, -0.15555556,\n",
       "        -0.15454545, -0.15353535, -0.15252525, -0.15151515, -0.15050505,\n",
       "        -0.14949495, -0.14848485, -0.14747475, -0.14646465, -0.14545455,\n",
       "        -0.14444444, -0.14343434, -0.14242424, -0.14141414, -0.14040404,\n",
       "        -0.13939394, -0.13838384, -0.13737374, -0.13636364, -0.13535354,\n",
       "        -0.13434343, -0.13333333, -0.13232323, -0.13131313, -0.13030303,\n",
       "        -0.12929293, -0.12828283, -0.12727273, -0.12626263, -0.12525253,\n",
       "        -0.12424242, -0.12323232, -0.12222222, -0.12121212, -0.12020202,\n",
       "        -0.11919192, -0.11818182, -0.11717172, -0.11616162, -0.11515152,\n",
       "        -0.11414141, -0.11313131, -0.11212121, -0.11111111, -0.11010101,\n",
       "        -0.10909091, -0.10808081, -0.10707071, -0.10606061, -0.10505051,\n",
       "        -0.1040404 , -0.1030303 , -0.1020202 , -0.1010101 , -0.1       ]])"
      ]
     },
     "execution_count": 3,
     "metadata": {},
     "output_type": "execute_result"
    }
   ],
   "source": [
    "from scipy.integrate import solve_bvp\n",
    "import numpy as np\n",
    "\n",
    "def derivs(t,y):\n",
    "    dydt=np.zeros((y.shape))\n",
    "    dydt[0]=y[1]\n",
    "    dydt[1]=0.01*t-0.2\n",
    "    return dydt\n",
    "\n",
    "def bc(ya,yb):\n",
    "    residuals=np.array([0.0,0.0])\n",
    "    residuals[0]=ya[0] - 0.0\n",
    "    residuals[1]=yb[0] - 200.0\n",
    "    print(ya[1])\n",
    "\n",
    "    return residuals\n",
    "\n",
    "\n",
    "t_steps = 100\n",
    "t = np.linspace(0,10,t_steps)\n",
    "\n",
    "\n",
    "y0 = np.ones((2,t_steps))\n",
    "\n",
    "\n",
    "sol = solve_bvp(derivs, bc, t, y0)\n",
    "sol"
   ]
  },
  {
   "cell_type": "code",
   "execution_count": 4,
   "id": "80StzrunsFdy",
   "metadata": {
    "colab": {
     "base_uri": "https://localhost:8080/",
     "height": 296
    },
    "id": "80StzrunsFdy",
    "outputId": "9b012287-e742-44da-fa53-93f574225553"
   },
   "outputs": [
    {
     "data": {
      "text/plain": [
       "<matplotlib.legend.Legend at 0x7f38851ef810>"
      ]
     },
     "execution_count": 4,
     "metadata": {},
     "output_type": "execute_result"
    },
    {
     "data": {
      "image/png": "[encoded data removed]",
      "text/plain": [
       "<Figure size 432x288 with 1 Axes>"
      ]
     },
     "metadata": {
      "needs_background": "light"
     },
     "output_type": "display_data"
    }
   ],
   "source": [
    "import matplotlib.pyplot as plt\n",
    "fig, ax=plt.subplots(1,1)\n",
    "ax.plot(sol.x, sol.y[0],'-r',label='Transoporte de calor en un objeto')\n",
    "ax.set_xlabel('x')\n",
    "ax.set_ylabel('t(x)')\n",
    "ax.legend()\n",
    "\n"
   ]
  },
  {
   "cell_type": "markdown",
   "id": "sized-liberty",
   "metadata": {
    "id": "sized-liberty"
   },
   "source": [
    "## Ejercicio 2.  $\\color{red}{\\text{(4p)}}$ Ecuaciones diferenciales - problema de valor inicial (initial value problem).\n",
    "\n",
    "La ley de Newton del enfriamiento tiene forma de ecuación diferencial\n",
    "\n",
    "$$\\frac{dy}{dt}=k(y-T_{amb}) $$\n",
    "\n",
    "\n",
    "donde:\n",
    "* y es la temperatura actual de un objeto\n",
    "* t es tiempo\n",
    "* k es un valor constante de enfriamiento\n",
    "* $T_{amb}$ es la temperatura del ambiente\n",
    "\n",
    "Digamos que una taza de café tiene una temperatura inicial de 90 centígrados y la temperatura ambiente es de 25 centígrados.\n",
    "\n",
    "a) usando `scipy.integrate.solve_ivp` resolver ecuación diferencial:\n",
    "\n",
    "* para el rango t: t=[0:60], [minutos] (use 100 puntos)\n",
    "* asumir k=-0.06\n",
    "\n",
    "b) Hace grafico de $y(t)$ vs $t$ (con leyenda)\n",
    "* si le gusta tomar café cuando está a más de 70 grados, ¿cuál es el tiempo máximo que puede esperar antes de beber el café (puede obtener índices usando `np.argwhere` para obtener un rango de temperatura más preciso)"
   ]
  },
  {
   "cell_type": "code",
   "execution_count": 5,
   "id": "m_qmY87zVmhU",
   "metadata": {
    "colab": {
     "base_uri": "https://localhost:8080/"
    },
    "id": "m_qmY87zVmhU",
    "outputId": "84567fea-e0b9-4c75-a14d-d8b2cef4bb3c"
   },
   "outputs": [
    {
     "data": {
      "text/plain": [
       "  message: 'The solver successfully reached the end of the integration interval.'\n",
       "     nfev: 38\n",
       "     njev: 0\n",
       "      nlu: 0\n",
       "      sol: None\n",
       "   status: 0\n",
       "  success: True\n",
       "        t: array([ 0.        ,  0.25252525,  0.50505051,  0.75757576,  1.01010101,\n",
       "        1.26262626,  1.51515152,  1.76767677,  2.02020202,  2.27272727,\n",
       "        2.52525253,  2.77777778,  3.03030303,  3.28282828,  3.53535354,\n",
       "        3.78787879,  4.04040404,  4.29292929,  4.54545455,  4.7979798 ,\n",
       "        5.05050505,  5.3030303 ,  5.55555556,  5.80808081,  6.06060606,\n",
       "        6.31313131,  6.56565657,  6.81818182,  7.07070707,  7.32323232,\n",
       "        7.57575758,  7.82828283,  8.08080808,  8.33333333,  8.58585859,\n",
       "        8.83838384,  9.09090909,  9.34343434,  9.5959596 ,  9.84848485,\n",
       "       10.1010101 , 10.35353535, 10.60606061, 10.85858586, 11.11111111,\n",
       "       11.36363636, 11.61616162, 11.86868687, 12.12121212, 12.37373737,\n",
       "       12.62626263, 12.87878788, 13.13131313, 13.38383838, 13.63636364,\n",
       "       13.88888889, 14.14141414, 14.39393939, 14.64646465, 14.8989899 ,\n",
       "       15.15151515, 15.4040404 , 15.65656566, 15.90909091, 16.16161616,\n",
       "       16.41414141, 16.66666667, 16.91919192, 17.17171717, 17.42424242,\n",
       "       17.67676768, 17.92929293, 18.18181818, 18.43434343, 18.68686869,\n",
       "       18.93939394, 19.19191919, 19.44444444, 19.6969697 , 19.94949495,\n",
       "       20.2020202 , 20.45454545, 20.70707071, 20.95959596, 21.21212121,\n",
       "       21.46464646, 21.71717172, 21.96969697, 22.22222222, 22.47474747,\n",
       "       22.72727273, 22.97979798, 23.23232323, 23.48484848, 23.73737374,\n",
       "       23.98989899, 24.24242424, 24.49494949, 24.74747475, 25.        ])\n",
       " t_events: None\n",
       "        y: array([[90.        , 88.64854566, 87.32121065, 86.01763251, 84.73745416,\n",
       "        83.48032371, 82.24589447, 81.03382496, 79.84374768, 78.67498673,\n",
       "        77.52716861, 76.40003032, 75.29331054, 74.20674958, 73.14008943,\n",
       "        72.09307375, 71.06544782, 70.0569586 , 69.06735472, 68.09638644,\n",
       "        67.1438057 , 66.20936609, 65.29282286, 64.3939329 , 63.5124548 ,\n",
       "        62.64814877, 61.80077669, 60.97010209, 60.15589018, 59.35790781,\n",
       "        58.5759235 , 57.8097074 , 57.05903135, 56.32366884, 55.603395  ,\n",
       "        54.89798665, 54.20722224, 53.53088189, 52.86874738, 52.22060213,\n",
       "        51.58623125, 50.96542148, 50.35796122, 49.76364056, 49.1822512 ,\n",
       "        48.61358653, 48.05744159, 47.51361308, 46.98189936, 46.46210043,\n",
       "        45.95401797, 45.45745532, 44.97221744, 44.49811101, 44.0349443 ,\n",
       "        43.5825273 , 43.14067161, 42.70919052, 42.28789895, 41.87661352,\n",
       "        41.47515245, 41.08333567, 40.70098475, 40.3279229 , 39.96397501,\n",
       "        39.60896762, 39.26272894, 38.92508881, 38.5960123 , 38.27553352,\n",
       "        37.96354227, 37.65992866, 37.36458358, 37.07739869, 36.79826642,\n",
       "        36.52707996, 36.26373331, 36.00812121, 35.76013918, 35.51968353,\n",
       "        35.28665132, 35.0609404 , 34.84244937, 34.63107765, 34.42672537,\n",
       "        34.22929349, 34.03868371, 33.85479851, 33.67754116, 33.50681566,\n",
       "        33.34252684, 33.18458026, 33.03288227, 32.88734   , 32.74786133,\n",
       "        32.61435494, 32.48673026, 32.3648975 , 32.24876767, 32.1382525 ]])\n",
       " y_events: None"
      ]
     },
     "execution_count": 5,
     "metadata": {},
     "output_type": "execute_result"
    }
   ],
   "source": [
    "from scipy.integrate import solve_ivp\n",
    "import matplotlib.pyplot as plt\n",
    "\n",
    "\n",
    "def dydt(y,Tam):\n",
    "    return 0.06*(y-Tam)\n",
    "\n",
    "t_span=[0,60,100]\n",
    "y0=[90]\n",
    "method='RK45'\n",
    "t_eval=np.linspace(0,25,100)\n",
    "\n",
    "sol=solve_ivp(dydt,t_span,y0,method=method,t_eval=t_eval)\n",
    "sol"
   ]
  },
  {
   "cell_type": "code",
   "execution_count": 6,
   "id": "-VP8G6ARanaY",
   "metadata": {
    "colab": {
     "base_uri": "https://localhost:8080/",
     "height": 296
    },
    "id": "-VP8G6ARanaY",
    "outputId": "14788db7-2807-4ac8-be3b-2baeeda38e68"
   },
   "outputs": [
    {
     "data": {
      "text/plain": [
       "<matplotlib.legend.Legend at 0x7f3884ce6790>"
      ]
     },
     "execution_count": 6,
     "metadata": {},
     "output_type": "execute_result"
    },
    {
     "data": {
      "image/png": "[encoded data removed]",
      "text/plain": [
       "<Figure size 432x288 with 1 Axes>"
      ]
     },
     "metadata": {
      "needs_background": "light"
     },
     "output_type": "display_data"
    }
   ],
   "source": [
    "fig, ax =plt.subplots(1,1)\n",
    "ax.plot(sol.t,sol.y[0],'or',label='Solucion con Ivp')\n",
    "ax.set_xlabel('Eje t')\n",
    "ax.set_ylabel('Eje y')\n",
    "ax.legend()\n",
    "\n",
    "# El tiempo a mas de 70 grados  el tiempo maximo seria alrededor de entre 0 a 5 minutos"
   ]
  },
  {
   "cell_type": "markdown",
   "id": "growing-acceptance",
   "metadata": {
    "id": "growing-acceptance"
   },
   "source": [
    "## Ejercicio 3.  $\\color{red}{\\text{(3p)}}$ Equaciones diferenciales - problema de valor de limite (boundary value problem).\n",
    "\n",
    "Los organizadores de un espectáculo de fuegos artificiales quieren que los fuegos exploten a 40 metros sobre el suelo 5 segundos después del lanzamiento. Encuentra la velocidad inicial del cohete. \n",
    "\n",
    "a) usar ecuacion diferencial segunda orden:\n",
    "\n",
    "$$\\frac{d^2y}{dt^2}= −g $$\n",
    "\n",
    "donde $y$ es altitud de cohete y,   \n",
    "\n",
    "b) hacer plot $y(t)$ vs $t$\n"
   ]
  },
  {
   "cell_type": "code",
   "execution_count": 7,
   "id": "pjyQeaMpdWR4",
   "metadata": {
    "colab": {
     "base_uri": "https://localhost:8080/"
    },
    "id": "pjyQeaMpdWR4",
    "outputId": "e6c04f46-b84b-478c-cee6-41fbdd99fcb2"
   },
   "outputs": [
    {
     "name": "stdout",
     "output_type": "stream",
     "text": [
      "1.0\n",
      "1.0\n",
      "1.0\n",
      "1.0000000298023224\n",
      "1.0\n",
      "1.0\n",
      "32.52499999999998\n",
      "32.52499999999998\n"
     ]
    },
    {
     "data": {
      "text/plain": [
       "       message: 'The algorithm converged to the desired accuracy.'\n",
       "         niter: 1\n",
       "             p: None\n",
       " rms_residuals: array([5.89885579e-15, 1.18260102e-15, 1.02742829e-15, 1.39977360e-15,\n",
       "       7.88823879e-16, 1.39469993e-15, 1.60490144e-15, 1.39514298e-15,\n",
       "       1.48892133e-15, 2.27759571e-16, 1.55260336e-15, 1.39693259e-15,\n",
       "       1.63537510e-15, 2.18287387e-15, 1.55142896e-15, 3.43048509e-15,\n",
       "       1.60603085e-15, 2.22710551e-15, 2.93280640e-15, 1.47872839e-15,\n",
       "       1.76902590e-14, 1.51390144e-14, 1.09445102e-14, 8.14617908e-15,\n",
       "       4.66266621e-15, 7.50549369e-15, 1.10615750e-14, 5.48771743e-15,\n",
       "       7.85744328e-15, 9.07688505e-16, 3.64693055e-15, 2.23788280e-14,\n",
       "       1.66213128e-14, 1.08347555e-14, 2.70233851e-15, 1.44377356e-15,\n",
       "       1.17484164e-14, 5.92588770e-15, 7.33292531e-15, 3.19620579e-15,\n",
       "       7.87281116e-15, 7.17973211e-15, 2.08733669e-15, 1.01552471e-14,\n",
       "       6.45579034e-15, 2.69104011e-15, 1.25890547e-14, 6.14669448e-15,\n",
       "       1.50992913e-14, 1.07984213e-15, 2.66940810e-15, 6.32727935e-15,\n",
       "       1.48783915e-14, 8.70496472e-15, 1.48118303e-14, 6.58793721e-15,\n",
       "       3.84152590e-15, 6.68355260e-15, 5.25416217e-15, 3.19831968e-14,\n",
       "       2.04037680e-14, 1.22816670e-14, 1.65156773e-14, 4.46879556e-14,\n",
       "       6.43976921e-15, 9.65183846e-14, 3.53742263e-14, 3.67492834e-15,\n",
       "       2.47879808e-14, 1.35628598e-14, 3.38899507e-14, 2.30962393e-14,\n",
       "       2.38638660e-14, 1.52377663e-14, 1.24789247e-14, 2.01743549e-14,\n",
       "       2.38701377e-14, 1.85423305e-14, 1.68592554e-14, 2.78887294e-14,\n",
       "       1.52704831e-14, 1.32620121e-14, 6.97812685e-15, 1.53999186e-14,\n",
       "       3.64959094e-15, 3.03776721e-15, 2.98963753e-15, 1.00308694e-14,\n",
       "       8.12254597e-16, 7.22061238e-15, 3.04415613e-15, 9.28959460e-15,\n",
       "       1.64915007e-15, 9.98468507e-16, 6.42252532e-15, 9.06084164e-15,\n",
       "       8.17575300e-15, 4.86932048e-15, 9.72021904e-16])\n",
       "           sol: <scipy.interpolate.interpolate.PPoly object at 0x7f3884ca77d0>\n",
       "        status: 0\n",
       "       success: True\n",
       "             x: array([0.        , 0.05050505, 0.1010101 , 0.15151515, 0.2020202 ,\n",
       "       0.25252525, 0.3030303 , 0.35353535, 0.4040404 , 0.45454545,\n",
       "       0.50505051, 0.55555556, 0.60606061, 0.65656566, 0.70707071,\n",
       "       0.75757576, 0.80808081, 0.85858586, 0.90909091, 0.95959596,\n",
       "       1.01010101, 1.06060606, 1.11111111, 1.16161616, 1.21212121,\n",
       "       1.26262626, 1.31313131, 1.36363636, 1.41414141, 1.46464646,\n",
       "       1.51515152, 1.56565657, 1.61616162, 1.66666667, 1.71717172,\n",
       "       1.76767677, 1.81818182, 1.86868687, 1.91919192, 1.96969697,\n",
       "       2.02020202, 2.07070707, 2.12121212, 2.17171717, 2.22222222,\n",
       "       2.27272727, 2.32323232, 2.37373737, 2.42424242, 2.47474747,\n",
       "       2.52525253, 2.57575758, 2.62626263, 2.67676768, 2.72727273,\n",
       "       2.77777778, 2.82828283, 2.87878788, 2.92929293, 2.97979798,\n",
       "       3.03030303, 3.08080808, 3.13131313, 3.18181818, 3.23232323,\n",
       "       3.28282828, 3.33333333, 3.38383838, 3.43434343, 3.48484848,\n",
       "       3.53535354, 3.58585859, 3.63636364, 3.68686869, 3.73737374,\n",
       "       3.78787879, 3.83838384, 3.88888889, 3.93939394, 3.98989899,\n",
       "       4.04040404, 4.09090909, 4.14141414, 4.19191919, 4.24242424,\n",
       "       4.29292929, 4.34343434, 4.39393939, 4.44444444, 4.49494949,\n",
       "       4.54545455, 4.5959596 , 4.64646465, 4.6969697 , 4.74747475,\n",
       "       4.7979798 , 4.84848485, 4.8989899 , 4.94949495, 5.        ])\n",
       "             y: array([[ 4.66293670e-15,  1.63016529e+00,  3.23530762e+00,\n",
       "         4.81542700e+00,  6.37052342e+00,  7.90059688e+00,\n",
       "         9.40564738e+00,  1.08856749e+01,  1.23406795e+01,\n",
       "         1.37706612e+01,  1.51756198e+01,  1.65555556e+01,\n",
       "         1.79104683e+01,  1.92403581e+01,  2.05452250e+01,\n",
       "         2.18250689e+01,  2.30798898e+01,  2.43096878e+01,\n",
       "         2.55144628e+01,  2.66942149e+01,  2.78489440e+01,\n",
       "         2.89786501e+01,  3.00833333e+01,  3.11629936e+01,\n",
       "         3.22176309e+01,  3.32472452e+01,  3.42518365e+01,\n",
       "         3.52314050e+01,  3.61859504e+01,  3.71154729e+01,\n",
       "         3.80199725e+01,  3.88994490e+01,  3.97539027e+01,\n",
       "         4.05833333e+01,  4.13877410e+01,  4.21671258e+01,\n",
       "         4.29214876e+01,  4.36508264e+01,  4.43551423e+01,\n",
       "         4.50344353e+01,  4.56887052e+01,  4.63179522e+01,\n",
       "         4.69221763e+01,  4.75013774e+01,  4.80555556e+01,\n",
       "         4.85847107e+01,  4.90888430e+01,  4.95679522e+01,\n",
       "         5.00220386e+01,  5.04511019e+01,  5.08551423e+01,\n",
       "         5.12341598e+01,  5.15881543e+01,  5.19171258e+01,\n",
       "         5.22210744e+01,  5.25000000e+01,  5.27539027e+01,\n",
       "         5.29827824e+01,  5.31866391e+01,  5.33654729e+01,\n",
       "         5.35192837e+01,  5.36480716e+01,  5.37518365e+01,\n",
       "         5.38305785e+01,  5.38842975e+01,  5.39129936e+01,\n",
       "         5.39166667e+01,  5.38953168e+01,  5.38489440e+01,\n",
       "         5.37775482e+01,  5.36811295e+01,  5.35596878e+01,\n",
       "         5.34132231e+01,  5.32417355e+01,  5.30452250e+01,\n",
       "         5.28236915e+01,  5.25771350e+01,  5.23055556e+01,\n",
       "         5.20089532e+01,  5.16873278e+01,  5.13406795e+01,\n",
       "         5.09690083e+01,  5.05723140e+01,  5.01505969e+01,\n",
       "         4.97038567e+01,  4.92320937e+01,  4.87353076e+01,\n",
       "         4.82134986e+01,  4.76666667e+01,  4.70948118e+01,\n",
       "         4.64979339e+01,  4.58760331e+01,  4.52291093e+01,\n",
       "         4.45571625e+01,  4.38601928e+01,  4.31382002e+01,\n",
       "         4.23911846e+01,  4.16191460e+01,  4.08220845e+01,\n",
       "         4.00000000e+01],\n",
       "       [ 3.25250000e+01,  3.20295455e+01,  3.15340909e+01,\n",
       "         3.10386364e+01,  3.05431818e+01,  3.00477273e+01,\n",
       "         2.95522727e+01,  2.90568182e+01,  2.85613636e+01,\n",
       "         2.80659091e+01,  2.75704545e+01,  2.70750000e+01,\n",
       "         2.65795455e+01,  2.60840909e+01,  2.55886364e+01,\n",
       "         2.50931818e+01,  2.45977273e+01,  2.41022727e+01,\n",
       "         2.36068182e+01,  2.31113636e+01,  2.26159091e+01,\n",
       "         2.21204545e+01,  2.16250000e+01,  2.11295455e+01,\n",
       "         2.06340909e+01,  2.01386364e+01,  1.96431818e+01,\n",
       "         1.91477273e+01,  1.86522727e+01,  1.81568182e+01,\n",
       "         1.76613636e+01,  1.71659091e+01,  1.66704545e+01,\n",
       "         1.61750000e+01,  1.56795455e+01,  1.51840909e+01,\n",
       "         1.46886364e+01,  1.41931818e+01,  1.36977273e+01,\n",
       "         1.32022727e+01,  1.27068182e+01,  1.22113636e+01,\n",
       "         1.17159091e+01,  1.12204545e+01,  1.07250000e+01,\n",
       "         1.02295455e+01,  9.73409091e+00,  9.23863636e+00,\n",
       "         8.74318182e+00,  8.24772727e+00,  7.75227273e+00,\n",
       "         7.25681818e+00,  6.76136364e+00,  6.26590909e+00,\n",
       "         5.77045455e+00,  5.27500000e+00,  4.77954545e+00,\n",
       "         4.28409091e+00,  3.78863636e+00,  3.29318182e+00,\n",
       "         2.79772727e+00,  2.30227273e+00,  1.80681818e+00,\n",
       "         1.31136364e+00,  8.15909091e-01,  3.20454545e-01,\n",
       "        -1.75000000e-01, -6.70454545e-01, -1.16590909e+00,\n",
       "        -1.66136364e+00, -2.15681818e+00, -2.65227273e+00,\n",
       "        -3.14772727e+00, -3.64318182e+00, -4.13863636e+00,\n",
       "        -4.63409091e+00, -5.12954545e+00, -5.62500000e+00,\n",
       "        -6.12045455e+00, -6.61590909e+00, -7.11136364e+00,\n",
       "        -7.60681818e+00, -8.10227273e+00, -8.59772727e+00,\n",
       "        -9.09318182e+00, -9.58863636e+00, -1.00840909e+01,\n",
       "        -1.05795455e+01, -1.10750000e+01, -1.15704545e+01,\n",
       "        -1.20659091e+01, -1.25613636e+01, -1.30568182e+01,\n",
       "        -1.35522727e+01, -1.40477273e+01, -1.45431818e+01,\n",
       "        -1.50386364e+01, -1.55340909e+01, -1.60295455e+01,\n",
       "        -1.65250000e+01]])\n",
       "            yp: array([[ 32.525     ,  32.02954545,  31.53409091,  31.03863636,\n",
       "         30.54318182,  30.04772727,  29.55227273,  29.05681818,\n",
       "         28.56136364,  28.06590909,  27.57045455,  27.075     ,\n",
       "         26.57954545,  26.08409091,  25.58863636,  25.09318182,\n",
       "         24.59772727,  24.10227273,  23.60681818,  23.11136364,\n",
       "         22.61590909,  22.12045455,  21.625     ,  21.12954545,\n",
       "         20.63409091,  20.13863636,  19.64318182,  19.14772727,\n",
       "         18.65227273,  18.15681818,  17.66136364,  17.16590909,\n",
       "         16.67045455,  16.175     ,  15.67954545,  15.18409091,\n",
       "         14.68863636,  14.19318182,  13.69772727,  13.20227273,\n",
       "         12.70681818,  12.21136364,  11.71590909,  11.22045455,\n",
       "         10.725     ,  10.22954545,   9.73409091,   9.23863636,\n",
       "          8.74318182,   8.24772727,   7.75227273,   7.25681818,\n",
       "          6.76136364,   6.26590909,   5.77045455,   5.275     ,\n",
       "          4.77954545,   4.28409091,   3.78863636,   3.29318182,\n",
       "          2.79772727,   2.30227273,   1.80681818,   1.31136364,\n",
       "          0.81590909,   0.32045455,  -0.175     ,  -0.67045455,\n",
       "         -1.16590909,  -1.66136364,  -2.15681818,  -2.65227273,\n",
       "         -3.14772727,  -3.64318182,  -4.13863636,  -4.63409091,\n",
       "         -5.12954545,  -5.625     ,  -6.12045455,  -6.61590909,\n",
       "         -7.11136364,  -7.60681818,  -8.10227273,  -8.59772727,\n",
       "         -9.09318182,  -9.58863636, -10.08409091, -10.57954545,\n",
       "        -11.075     , -11.57045455, -12.06590909, -12.56136364,\n",
       "        -13.05681818, -13.55227273, -14.04772727, -14.54318182,\n",
       "        -15.03863636, -15.53409091, -16.02954545, -16.525     ],\n",
       "       [ -9.81      ,  -9.81      ,  -9.81      ,  -9.81      ,\n",
       "         -9.81      ,  -9.81      ,  -9.81      ,  -9.81      ,\n",
       "         -9.81      ,  -9.81      ,  -9.81      ,  -9.81      ,\n",
       "         -9.81      ,  -9.81      ,  -9.81      ,  -9.81      ,\n",
       "         -9.81      ,  -9.81      ,  -9.81      ,  -9.81      ,\n",
       "         -9.81      ,  -9.81      ,  -9.81      ,  -9.81      ,\n",
       "         -9.81      ,  -9.81      ,  -9.81      ,  -9.81      ,\n",
       "         -9.81      ,  -9.81      ,  -9.81      ,  -9.81      ,\n",
       "         -9.81      ,  -9.81      ,  -9.81      ,  -9.81      ,\n",
       "         -9.81      ,  -9.81      ,  -9.81      ,  -9.81      ,\n",
       "         -9.81      ,  -9.81      ,  -9.81      ,  -9.81      ,\n",
       "         -9.81      ,  -9.81      ,  -9.81      ,  -9.81      ,\n",
       "         -9.81      ,  -9.81      ,  -9.81      ,  -9.81      ,\n",
       "         -9.81      ,  -9.81      ,  -9.81      ,  -9.81      ,\n",
       "         -9.81      ,  -9.81      ,  -9.81      ,  -9.81      ,\n",
       "         -9.81      ,  -9.81      ,  -9.81      ,  -9.81      ,\n",
       "         -9.81      ,  -9.81      ,  -9.81      ,  -9.81      ,\n",
       "         -9.81      ,  -9.81      ,  -9.81      ,  -9.81      ,\n",
       "         -9.81      ,  -9.81      ,  -9.81      ,  -9.81      ,\n",
       "         -9.81      ,  -9.81      ,  -9.81      ,  -9.81      ,\n",
       "         -9.81      ,  -9.81      ,  -9.81      ,  -9.81      ,\n",
       "         -9.81      ,  -9.81      ,  -9.81      ,  -9.81      ,\n",
       "         -9.81      ,  -9.81      ,  -9.81      ,  -9.81      ,\n",
       "         -9.81      ,  -9.81      ,  -9.81      ,  -9.81      ,\n",
       "         -9.81      ,  -9.81      ,  -9.81      ,  -9.81      ]])"
      ]
     },
     "execution_count": 7,
     "metadata": {},
     "output_type": "execute_result"
    }
   ],
   "source": [
    "import numpy as np\n",
    "t_steps = 100\n",
    "y0 = np.ones((2,t_steps))\n",
    "\n",
    "from scipy.integrate import solve_bvp\n",
    "import numpy as np\n",
    "\n",
    "def derivs(t,y):\n",
    "    dydt=np.zeros((y.shape))\n",
    "    dydt[0]=y[1]\n",
    "    dydt[1]=-9.81\n",
    "    return dydt\n",
    "\n",
    "def bc(ya,yb):\n",
    "    residuals=np.array([0.0,0.0])\n",
    "    residuals[0]=ya[0] - 0.0\n",
    "    residuals[1]=yb[0] - 40.0\n",
    "    print(ya[1])\n",
    "\n",
    "    return residuals\n",
    "\n",
    "\n",
    "t_steps = 100\n",
    "t = np.linspace(0,5,t_steps)\n",
    "\n",
    "\n",
    "y0 = np.ones((2,t_steps))\n",
    "\n",
    "sol = solve_bvp(derivs, bc, t, y0)\n",
    "sol"
   ]
  },
  {
   "cell_type": "code",
   "execution_count": 8,
   "id": "q673iTTTgQfO",
   "metadata": {
    "colab": {
     "base_uri": "https://localhost:8080/",
     "height": 296
    },
    "id": "q673iTTTgQfO",
    "outputId": "9ae5486c-730e-4b6d-ad65-fb7b2e0fb494"
   },
   "outputs": [
    {
     "data": {
      "text/plain": [
       "<matplotlib.legend.Legend at 0x7f3884c61f10>"
      ]
     },
     "execution_count": 8,
     "metadata": {},
     "output_type": "execute_result"
    },
    {
     "data": {
      "image/png": "[encoded data removed]",
      "text/plain": [
       "<Figure size 432x288 with 1 Axes>"
      ]
     },
     "metadata": {
      "needs_background": "light"
     },
     "output_type": "display_data"
    }
   ],
   "source": [
    "import matplotlib.pyplot as plt\n",
    "fig, ax=plt.subplots(1,1)\n",
    "ax.plot(sol.x, sol.y[0],'-r',label='Lanzamiento vertical en y(t) vs el tiempo')\n",
    "ax.plot(5,40,'.b')\n",
    "ax.set_xlabel('Tiempo')\n",
    "ax.set_ylabel('Y(t)')\n",
    "ax.legend()"
   ]
  },
  {
   "cell_type": "markdown",
   "id": "insured-suspect",
   "metadata": {
    "id": "insured-suspect"
   },
   "source": [
    "## Ejercicio 4 Ecuaciones diferenciales acopladas - problema de valor inicial `scipy.integrate.solve_ivp` $\\color{red}{\\text{(10p)}}$ o `otros metodos`  $\\color{red}{\\text{(7p)}}$\n",
    "\n",
    "Las ecuaciones de Lotka-Volterra, también conocidas como ecuaciones depredador-presa, son un par de ecuaciones de primer orden, no lineales, ecuaciones diferenciales utilizadas con frecuencia para describir la dinámica de los sistemas biológicos en los que interactúan dos especies, uno como depredador y el otro como presa. Las poblaciones cambian a través del tiempo de acuerdo con el par de ecuaciones:"
   ]
  },
  {
   "cell_type": "markdown",
   "id": "interesting-luxury",
   "metadata": {
    "id": "interesting-luxury"
   },
   "source": [
    "$$\\frac{dx}{dt}=x(\\color{red}{\\alpha}-\\color{red}{\\beta} y)$$\n",
    "$$\\frac{dy}{dt}=-y(\\color{red}{\\gamma}-\\color{red}{\\delta} x)$$"
   ]
  },
  {
   "cell_type": "markdown",
   "id": "compliant-potato",
   "metadata": {
    "id": "compliant-potato"
   },
   "source": [
    "Esa ecuación describiría la evolución de la población de conejos y zorros (condiciones perfectas)\n",
    "\n",
    "* x - numbero de conejos  \n",
    "* y - numbero de zorros\n",
    "\n",
    "* $\\color{red}{\\alpha, \\beta, \\gamma, \\delta }$ son parámetros que describen la interacción de las dos especies\n",
    "\n",
    "* $\\frac{dx}{dt}, \\frac{dy}{dt}$ representan las tasas de crecimiento de las dos poblaciones a lo largo del tiempo\n",
    "\n",
    "* $t$ es tiempo"
   ]
  },
  {
   "cell_type": "markdown",
   "id": "auburn-charlotte",
   "metadata": {
    "id": "auburn-charlotte"
   },
   "source": [
    "<img src=\"rabbits_foxes.png\" width=\"400\" />"
   ]
  },
  {
   "cell_type": "markdown",
   "id": "wrapped-edmonton",
   "metadata": {
    "id": "wrapped-edmonton"
   },
   "source": [
    "a) solucionar los ecuaciones diferenciales usando `scipy.integrate.solve_ivp` $\\color{red}{\\text{(10p)}}$ o `otros metodos`  $\\color{red}{\\text{(7p)}}$\n",
    "asumir: \n",
    "* $\\alpha, \\beta, \\gamma, \\delta = 1$\n",
    "* $x_{ini}=4$\n",
    "* $y_{ini}=2$\n",
    "* $t=0:30$ (unidades arbitrarias, asumir meses)\n",
    "\n",
    "b) hacer plot con dos curvas: $x$ vs. $t$ , $y$ vs. $t$   \n",
    "c) hacer plot $x vs y$  \n",
    "d) comentar sobre los dos plots  "
   ]
  },
  {
   "cell_type": "markdown",
   "id": "collectible-voltage",
   "metadata": {
    "id": "lasting-courtesy"
   },
   "source": [
    "# Feedback:\n",
    "```\n",
    "Exercise 1.\n",
    "Solution + presentation of the results\t            (max 3.0p):\t2.0p\n",
    "error: residuals[0]=ya[0] - 0.0\n",
    "\n",
    "\n",
    "Exercise 2.\n",
    "Solution + presentation of the results\t            (max 4.0p):\t4.0p\n",
    "error: t_eval=np.linspace(0,25,100)\n",
    "\n",
    "Exercise 3.\n",
    "Solution + presentation of the results\t            (max 3.0p):\t3.0p\n",
    "\n",
    "Exercise 4 ODEINT.\n",
    "Solution + presentation of the results\t            (max 7.0p):\t0.0p\n",
    "\n",
    "Exercise 4 IVP.\n",
    "Solution + presentation of the results\t            (max 10.0p):  00.0p\n",
    "\n",
    "\n",
    "\n",
    "- Total:                                              (max 10.0p):   9.0p\n",
    "```"
   ]
  },
  {
   "cell_type": "code",
   "execution_count": null,
   "id": "threatened-denver",
   "metadata": {},
   "outputs": [],
   "source": []
  }
 ],
 "metadata": {
  "colab": {
   "name": "examen_parcial_4_1.ipynb",
   "provenance": []
  },
  "kernelspec": {
   "display_name": "Python 3",
   "language": "python",
   "name": "python3"
  },
  "language_info": {
   "codemirror_mode": {
    "name": "ipython",
    "version": 3
   },
   "file_extension": ".py",
   "mimetype": "text/x-python",
   "name": "python",
   "nbconvert_exporter": "python",
   "pygments_lexer": "ipython3",
   "version": "3.7.2"
  }
 },
 "nbformat": 4,
 "nbformat_minor": 5
}
