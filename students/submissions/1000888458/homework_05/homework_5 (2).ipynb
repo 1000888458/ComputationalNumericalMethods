{
  "nbformat": 4,
  "nbformat_minor": 0,
  "metadata": {
    "colab": {
      "name": "homework_5.ipynb",
      "provenance": []
    },
    "kernelspec": {
      "name": "python3",
      "display_name": "Python 3"
    },
    "language_info": {
      "name": "python"
    }
  },
  "cells": [
    {
      "cell_type": "code",
      "source": [
        "print(\"Hello, this is Daniel's homework 5\")"
      ],
      "metadata": {
        "colab": {
          "base_uri": "https://localhost:8080/"
        },
        "id": "d_lsX9l2m3Zb",
        "outputId": "1bc979e3-57e0-49a0-910c-4f67a0d139fe"
      },
      "execution_count": 29,
      "outputs": [
        {
          "output_type": "stream",
          "name": "stdout",
          "text": [
            "Hello, this is Daniel's homework 5\n"
          ]
        }
      ]
    },
    {
      "cell_type": "code",
      "execution_count": 28,
      "metadata": {
        "id": "hN2LQHMC_wmd"
      },
      "outputs": [],
      "source": [
        "import numpy as np\n",
        "\n",
        "\n",
        "def quadratic_interp(x,y,xinterp):    #Definimos nuestra funcion\n",
        "    b0 = y[0]\n",
        "    \n",
        "    b1 = (y[1]-y[0])/(x[1]-x[0])     #Establecemos nuestros parametros\n",
        "    \n",
        "    b2 = (((y[2]-y[1])/(x[2]-x[1]))-(y[1]-y[0])/(x[1]-x[0]))/(x[2]-x[0])\n",
        "    \n",
        "    yinterp = b0 + b1*(xinterp-x[0]) + b2*(xinterp-x[0])*(xinterp-x[1])\n",
        "    \n",
        "    return yinterp  #Nos retorna el y de intercepcion"
      ]
    },
    {
      "cell_type": "code",
      "source": [
        "print(\"Usemos un ejemplo de clase para comprobar nuestro codigo\")"
      ],
      "metadata": {
        "colab": {
          "base_uri": "https://localhost:8080/"
        },
        "id": "SaxG2LtOmzJS",
        "outputId": "58a3940c-9511-4e2e-8ce9-98d79df2c5c1"
      },
      "execution_count": 30,
      "outputs": [
        {
          "output_type": "stream",
          "name": "stdout",
          "text": [
            "Usemos un ejemplo de clase para comprobar nuestro codigo\n"
          ]
        }
      ]
    },
    {
      "cell_type": "code",
      "source": [
        "quadratic_interp(np.array([4.5,5.5,6.5]),np.array([np.log10(4.5),np.log10(5.5),np.log10(6.5)]),5)"
      ],
      "metadata": {
        "colab": {
          "base_uri": "https://localhost:8080/"
        },
        "id": "nHpvVTAF_0ZY",
        "outputId": "ca27f661-6334-46da-eed9-df6dd0611efe"
      },
      "execution_count": 31,
      "outputs": [
        {
          "output_type": "execute_result",
          "data": {
            "text/plain": [
              "0.6986125402060799"
            ]
          },
          "metadata": {},
          "execution_count": 31
        }
      ]
    },
    {
      "cell_type": "code",
      "source": [
        "np.log10(5)"
      ],
      "metadata": {
        "colab": {
          "base_uri": "https://localhost:8080/"
        },
        "id": "MlXeZOjcnGCk",
        "outputId": "14f6b14f-1139-49cd-a79f-ad18ee42e272"
      },
      "execution_count": 32,
      "outputs": [
        {
          "output_type": "execute_result",
          "data": {
            "text/plain": [
              "0.6989700043360189"
            ]
          },
          "metadata": {},
          "execution_count": 32
        }
      ]
    }
  ]
}