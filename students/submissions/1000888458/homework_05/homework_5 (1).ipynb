{
  "nbformat": 4,
  "nbformat_minor": 0,
  "metadata": {
    "colab": {
      "name": "homework_5.ipynb",
      "provenance": []
    },
    "kernelspec": {
      "name": "python3",
      "display_name": "Python 3"
    },
    "language_info": {
      "name": "python"
    }
  },
  "cells": [
    {
      "cell_type": "code",
      "source": [
        "print(\"Hello, this is Daniel's homework 5\")"
      ],
      "metadata": {
        "colab": {
          "base_uri": "https://localhost:8080/"
        },
        "id": "QQAtFp9MSGDy",
        "outputId": "e321435a-26c2-4e39-cb2b-05c1debc1eb1"
      },
      "execution_count": 1,
      "outputs": [
        {
          "output_type": "stream",
          "name": "stdout",
          "text": [
            "Hello, this is Daniel's homework 5\n"
          ]
        }
      ]
    },
    {
      "cell_type": "code",
      "execution_count": 2,
      "metadata": {
        "id": "RvHgOM1wREj0"
      },
      "outputs": [],
      "source": [
        "\n",
        "import numpy as np\n",
        "def quadratic_interp(x,y,xinterp):\n",
        "    \n",
        "    b0= y[0]                                          #Definimos primero los parametros b0,b1 y b2\n",
        "    \n",
        "    b1 = (y[1]-y[0])/x[1]-x[0]\n",
        "    \n",
        "    b2 = ((y[2]-y[1])/x[2]-x[1])-y[1]-(y[0]/x[1]-x[0])/(x[2]-x[0])\n",
        "    \n",
        "    yinterp = b0+b1*(xinterp-x[0])+b2*(xinterp-x[0])*(xinterp-x[1])            # Con la formula hallamos el intercepto en y\n",
        "\n",
        "    return yinterp    # Le decimos a la funcion que nos retorne este valor\n",
        "    \n",
        "  \n",
        " \n",
        "\n",
        "  \n"
      ]
    },
    {
      "cell_type": "code",
      "source": [
        ""
      ],
      "metadata": {
        "id": "yWBV54fb4A6c"
      },
      "execution_count": 2,
      "outputs": []
    }
  ]
}