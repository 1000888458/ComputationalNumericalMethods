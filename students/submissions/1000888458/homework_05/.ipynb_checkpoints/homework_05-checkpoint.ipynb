{
 "cells": [
  {
   "cell_type": "code",
   "execution_count": 29,
   "metadata": {
    "colab": {
     "base_uri": "https://localhost:8080/"
    },
    "id": "d_lsX9l2m3Zb",
    "outputId": "1bc979e3-57e0-49a0-910c-4f67a0d139fe"
   },
   "outputs": [
    {
     "name": "stdout",
     "output_type": "stream",
     "text": [
      "Hello, this is Daniel's homework 5\n"
     ]
    }
   ],
   "source": [
    "print(\"Hello, this is Daniel's homework 5\")"
   ]
  },
  {
   "cell_type": "code",
   "execution_count": 28,
   "metadata": {
    "id": "hN2LQHMC_wmd"
   },
   "outputs": [],
   "source": [
    "import numpy as np\n",
    "\n",
    "\n",
    "def cuadratic_interp(x,y,xinterp):    #Definimos nuestra funcion\n",
    "    b0 = y[0]\n",
    "    \n",
    "    b1 = (y[1]-y[0])/(x[1]-x[0])     #Establecemos nuestros parametros\n",
    "    \n",
    "    b2 = (((y[2]-y[1])/(x[2]-x[1]))-(y[1]-y[0])/(x[1]-x[0]))/(x[2]-x[0])\n",
    "    \n",
    "    yinterp = b0 + b1*(xinterp-x[0]) + b2*(xinterp-x[0])*(xinterp-x[1])\n",
    "    \n",
    "    return yinterp  #Nos retorna el y de intercepcion"
   ]
  },
  {
   "cell_type": "code",
   "execution_count": 30,
   "metadata": {
    "colab": {
     "base_uri": "https://localhost:8080/"
    },
    "id": "SaxG2LtOmzJS",
    "outputId": "58a3940c-9511-4e2e-8ce9-98d79df2c5c1"
   },
   "outputs": [
    {
     "name": "stdout",
     "output_type": "stream",
     "text": [
      "Usemos un ejemplo de clase para comprobar nuestro codigo\n"
     ]
    }
   ],
   "source": [
    "print(\"Usemos un ejemplo de clase para comprobar nuestro codigo\")"
   ]
  },
  {
   "cell_type": "code",
   "execution_count": 31,
   "metadata": {
    "colab": {
     "base_uri": "https://localhost:8080/"
    },
    "id": "nHpvVTAF_0ZY",
    "outputId": "ca27f661-6334-46da-eed9-df6dd0611efe"
   },
   "outputs": [
    {
     "data": {
      "text/plain": [
       "0.6986125402060799"
      ]
     },
     "execution_count": 31,
     "metadata": {},
     "output_type": "execute_result"
    }
   ],
   "source": [
    "quadratic_interp(np.array([4.5,5.5,6.5]),np.array([np.log10(4.5),np.log10(5.5),np.log10(6.5)]),5)"
   ]
  },
  {
   "cell_type": "code",
   "execution_count": 32,
   "metadata": {
    "colab": {
     "base_uri": "https://localhost:8080/"
    },
    "id": "MlXeZOjcnGCk",
    "outputId": "14f6b14f-1139-49cd-a79f-ad18ee42e272"
   },
   "outputs": [
    {
     "data": {
      "text/plain": [
       "0.6989700043360189"
      ]
     },
     "execution_count": 32,
     "metadata": {},
     "output_type": "execute_result"
    }
   ],
   "source": [
    "np.log10(5)"
   ]
  }
 ],
 "metadata": {
  "colab": {
   "name": "homework_5.ipynb",
   "provenance": []
  },
  "kernelspec": {
   "display_name": "Python 3",
   "language": "python",
   "name": "python3"
  },
  "language_info": {
   "codemirror_mode": {
    "name": "ipython",
    "version": 3
   },
   "file_extension": ".py",
   "mimetype": "text/x-python",
   "name": "python",
   "nbconvert_exporter": "python",
   "pygments_lexer": "ipython3",
   "version": "3.7.2"
  }
 },
 "nbformat": 4,
 "nbformat_minor": 1
}
