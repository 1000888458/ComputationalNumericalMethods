{
  "nbformat": 4,
  "nbformat_minor": 0,
  "metadata": {
    "colab": {
      "name": "homework_5.ipynb",
      "provenance": []
    },
    "kernelspec": {
      "name": "python3",
      "display_name": "Python 3"
    },
    "language_info": {
      "name": "python"
    }
  },
  "cells": [
    {
      "cell_type": "code",
      "execution_count": 1,
      "metadata": {
        "id": "fNlkkgQiZY58"
      },
      "outputs": [],
      "source": [
        "#Homework 5\n",
        "#Author : Daniel Valle Jaramillo\n",
        "#CC.1000888458"
      ]
    },
    {
      "cell_type": "code",
      "source": [
        "\n",
        "print(\"Hello, this is Daniel's homework 5\")"
      ],
      "metadata": {
        "colab": {
          "base_uri": "https://localhost:8080/"
        },
        "id": "m-8mrvHuaBkK",
        "outputId": "711da898-a473-4197-b8ba-9d11b4151068"
      },
      "execution_count": 16,
      "outputs": [
        {
          "output_type": "stream",
          "name": "stdout",
          "text": [
            "Hello, this is Daniel's homework 5\n"
          ]
        }
      ]
    },
    {
      "cell_type": "code",
      "source": [
        "# This formula calculates coefficients b0,b1,b2... \n",
        "# of the Newton divided differences\n",
        "# (recursive code)\n",
        "# This formula calculates coefficients b0,b1,b2... \n",
        "# of the Newton divided differences\n",
        "# (recursive code)\n",
        "\n",
        "def b_coeffs(i,k,X,Y):\n",
        "    # i, k are the first and last INDEX of `x`\n",
        "    #If i+k>N\n",
        "    if i+k>=len(X):\n",
        "        return 0\n",
        "    #Zeroth divided difference\n",
        "    elif k == 0:\n",
        "        return Y[i]\n",
        "    #If higher divided difference\n",
        "    else:\n",
        "        return (b_coeffs(i+1, k-1, X, Y)-b_coeffs(i, k-1, X, Y))/(X[i+k]-X[i])\n",
        "\n"
      ],
      "metadata": {
        "id": "RcZY3U7MaHgt"
      },
      "execution_count": 15,
      "outputs": []
    },
    {
      "cell_type": "code",
      "source": [
        "def cuadratic_interp(x,y,xinterp):\n",
        "  import numpy as np\n",
        "  yinterp=y[0]+((y[1]-y[0])/(x[1]-x[0]))*(xinterp-x[0])\n",
        "\n",
        "  return yinterp\n",
        "\n",
        "\n",
        "    "
      ],
      "metadata": {
        "id": "dMfaJbwjbQ_h"
      },
      "execution_count": 17,
      "outputs": []
    }
  ]
}