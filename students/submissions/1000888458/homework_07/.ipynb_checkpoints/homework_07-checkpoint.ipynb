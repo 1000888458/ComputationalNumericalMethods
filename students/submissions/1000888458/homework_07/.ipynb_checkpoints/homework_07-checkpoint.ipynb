{
 "cells": [
  {
   "cell_type": "code",
   "execution_count": 13,
   "metadata": {
    "colab": {
     "base_uri": "https://localhost:8080/"
    },
    "id": "kjPORS5JiYZM",
    "outputId": "1d332125-6930-4201-d902-a3aba7aff5d3"
   },
   "outputs": [
    {
     "name": "stdout",
     "output_type": "stream",
     "text": [
      "Hello, this is Daniel's homework 7\n"
     ]
    }
   ],
   "source": [
    "print(\"Hello, this is Daniel's homework 7\")"
   ]
  },
  {
   "cell_type": "code",
   "execution_count": 14,
   "metadata": {
    "id": "7pj2grI_Vmc1"
   },
   "outputs": [],
   "source": [
    "\n",
    "\n",
    "import numpy as np\n",
    "import math\n",
    "import random\n",
    "from sympy import Symbol  #Importamos las librerias\n",
    "\n",
    "\n",
    "\n",
    "def INT(x):\n",
    "    return (((15*x**3)+(21*x**2)+(41*x)+3)**1/4)*(math.e)**-0.5*x    #Definimos el integrando de prueba\n",
    "\n",
    "\n",
    "def integral_monte_carlo_1D(integrand,lim1,lim2,N):  #Definimos nuestra funcion\n",
    "  \n",
    "\n",
    "  \n",
    "  \n",
    "  E=0              #Usamos metodo monte carlo y decimos que nos retorne el valor de la integral\n",
    " \n",
    "  for i in range(N):\n",
    "    x=np.random.uniform(lim1,lim2)\n",
    "    E=E+integrand(x)\n",
    "  \n",
    "  E=E/N\n",
    "  I=-E*(lim1-lim2)\n",
    "\n",
    "  return I\n",
    "\n",
    "\n"
   ]
  },
  {
   "cell_type": "code",
   "execution_count": 15,
   "metadata": {
    "colab": {
     "base_uri": "https://localhost:8080/"
    },
    "id": "3KSvv_Owwt5u",
    "outputId": "1fa6751f-d484-42a6-b27f-de44f2798aef"
   },
   "outputs": [
    {
     "data": {
      "text/plain": [
       "806.491460374188"
      ]
     },
     "execution_count": 15,
     "metadata": {},
     "output_type": "execute_result"
    }
   ],
   "source": [
    "integral_monte_carlo_1D(INT,0,4,100000)"
   ]
  },
  {
   "cell_type": "code",
   "execution_count": 16,
   "metadata": {
    "id": "TrFaIVYSgIG-"
   },
   "outputs": [],
   "source": [
    "def integrand(x):          #Verificamos con scipy\n",
    "    return (((15*x**3)+(21*x**2)+(41*x)+3)**1/4)*(math.e)**-0.5*x"
   ]
  },
  {
   "cell_type": "code",
   "execution_count": 17,
   "metadata": {
    "colab": {
     "base_uri": "https://localhost:8080/"
    },
    "id": "KMBwH91sinLP",
    "outputId": "223892aa-4986-4d06-8367-d1bef99e93ca"
   },
   "outputs": [
    {
     "name": "stdout",
     "output_type": "stream",
     "text": [
      "805.8770698715189\n"
     ]
    }
   ],
   "source": [
    "import scipy.integrate as integrate\n",
    "I,error = integrate.quad(integrand,0,4)\n",
    "print(I)"
   ]
  }
 ],
 "metadata": {
  "colab": {
   "name": "homework_07.ipynb",
   "provenance": []
  },
  "kernelspec": {
   "display_name": "Python 3",
   "language": "python",
   "name": "python3"
  },
  "language_info": {
   "codemirror_mode": {
    "name": "ipython",
    "version": 3
   },
   "file_extension": ".py",
   "mimetype": "text/x-python",
   "name": "python",
   "nbconvert_exporter": "python",
   "pygments_lexer": "ipython3",
   "version": "3.7.2"
  }
 },
 "nbformat": 4,
 "nbformat_minor": 1
}
