{
  "cells": [
    {
      "cell_type": "code",
      "source": [
        "print(\"Hello, this is Daniel's homework 7\")"
      ],
      "metadata": {
        "colab": {
          "base_uri": "https://localhost:8080/"
        },
        "id": "kjPORS5JiYZM",
        "outputId": "1d332125-6930-4201-d902-a3aba7aff5d3"
      },
      "execution_count": 1,
      "outputs": [
        {
          "output_type": "stream",
          "name": "stdout",
          "text": [
            "Hello, this is Daniel's homework 7\n"
          ]
        }
      ]
    },
    {
      "cell_type": "code",
      "execution_count": null,
      "metadata": {
        "id": "7pj2grI_Vmc1"
      },
      "outputs": [],
      "source": [
        "\n",
        "\n",
        "import numpy as np\n",
        "import math\n",
        "import random\n",
        "from sympy import Symbol  #Importamos las librerias\n",
        "\n",
        "\n",
        "\n",
        "def INT(x):\n",
        "    return (((15*x**3)+(21*x**2)+(41*x)+3)**1/4)*(math.e)**-0.5*x    #Definimos el integrando de prueba\n",
        "\n",
        "\n",
        "def integral_monte_carlo_1D(integrand,lim1,lim2,N):  #Definimos nuestra funcion\n",
        "  \n",
        "\n",
        "  \n",
        "  \n",
        "  E=0              #Usamos metodo monte carlo y decimos que nos retorne el valor de la integral\n",
        " \n",
        "  for i in range(N):\n",
        "    x=np.random.uniform(lim1,lim2)\n",
        "    E=E+INT(x)\n",
        "  \n",
        "  E=E/N\n",
        "  I=-E*(lim1-lim2)\n",
        "\n",
        "  return I\n",
        "\n",
        "\n"
      ]
    },
    {
      "cell_type": "code",
      "execution_count": null,
      "metadata": {
        "id": "3KSvv_Owwt5u",
        "colab": {
          "base_uri": "https://localhost:8080/"
        },
        "outputId": "1fa6751f-d484-42a6-b27f-de44f2798aef"
      },
      "outputs": [
        {
          "output_type": "execute_result",
          "data": {
            "text/plain": [
              "804.1648799526816"
            ]
          },
          "metadata": {},
          "execution_count": 141
        }
      ],
      "source": [
        "integral_monte_carlo_1D(INT,0,4,100000)"
      ]
    },
    {
      "cell_type": "code",
      "execution_count": null,
      "metadata": {
        "id": "TrFaIVYSgIG-"
      },
      "outputs": [],
      "source": [
        "def integrand(x):          #Verificamos con scipy\n",
        "    return (((15*x**3)+(21*x**2)+(41*x)+3)**1/4)*(math.e)**-0.5*x"
      ]
    },
    {
      "cell_type": "code",
      "execution_count": null,
      "metadata": {
        "colab": {
          "base_uri": "https://localhost:8080/"
        },
        "id": "KMBwH91sinLP",
        "outputId": "223892aa-4986-4d06-8367-d1bef99e93ca"
      },
      "outputs": [
        {
          "output_type": "stream",
          "name": "stdout",
          "text": [
            "805.8770698715189\n"
          ]
        }
      ],
      "source": [
        "import scipy.integrate as integrate\n",
        "I,error = integrate.quad(integrand,0,4)\n",
        "print(I)"
      ]
    }
  ],
  "metadata": {
    "colab": {
      "name": "homework_07.ipynb",
      "provenance": []
    },
    "kernelspec": {
      "display_name": "Python 3",
      "name": "python3"
    },
    "language_info": {
      "name": "python"
    }
  },
  "nbformat": 4,
  "nbformat_minor": 0
}