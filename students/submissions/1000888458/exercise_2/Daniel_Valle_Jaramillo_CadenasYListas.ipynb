{
  "nbformat": 4,
  "nbformat_minor": 0,
  "metadata": {
    "colab": {
      "name": "Daniel_Valle_Jaramillo_CadenasYListas.ipynb",
      "provenance": []
    },
    "kernelspec": {
      "name": "python3",
      "display_name": "Python 3"
    },
    "language_info": {
      "name": "python"
    }
  },
  "cells": [
    {
      "cell_type": "code",
      "metadata": {
        "colab": {
          "base_uri": "https://localhost:8080/"
        },
        "id": "FV07uLQnkV-w",
        "outputId": "b76a29f4-d29d-43de-8299-204a9a74e0dd"
      },
      "source": [
        "# A. donas\n",
        "# Dado un numero entero integer de un número de donas, devuelva una cadena\n",
        "# de la forma 'Numero de donas: <count>', donde <count> es el número\n",
        "# Sin embargo, si el recuento es 10 o más, use la palabra 'muchos'\n",
        "# Entonces donuts(5) devuelve 'Numero de donas: 5'\n",
        "# y donuts(23) devuelve 'Numero de donas: muchos\n",
        "def donuts(count):\n",
        "    \n",
        "    if 0<count<10:\n",
        "        print(\"Numero de donas : \" + str(count))\n",
        "    if count>=10:\n",
        "        count= \" muchos\"\n",
        "        print(\"Numero de donas : \" + count )\n",
        "\n",
        "donuts(15)"
      ],
      "execution_count": null,
      "outputs": [
        {
          "output_type": "stream",
          "name": "stdout",
          "text": [
            "Numero de donas :  muchos\n"
          ]
        }
      ]
    },
    {
      "cell_type": "code",
      "metadata": {
        "colab": {
          "base_uri": "https://localhost:8080/",
          "height": 53
        },
        "id": "EEY7j3bslksp",
        "outputId": "14df5435-7cd0-4487-c230-5e67590c4f4a"
      },
      "source": [
        "# B. both_ends\n",
        "# Dada una cadena s, devuelve una cadena hecha de las primeras 2\n",
        "# y los últimos 2 caracteres de la cuerda original,\n",
        "# así que 'spring' produce 'spng'. Sin embargo, \n",
        "# si la longitud de la cadena es menor que 2, \n",
        "# devuelva en su lugar la cadena vacía.\n",
        "\n",
        "def both_ends(s):\n",
        "    if len(s)<2:\n",
        "        result=' '\n",
        "    if len(s)>=2:\n",
        "        result=s[0]+s[1]+s[-2]+s[-1]\n",
        "    print(result)\n",
        "    return result\n",
        "    \n",
        "both_ends(\"Spring\")\n"
      ],
      "execution_count": null,
      "outputs": [
        {
          "output_type": "stream",
          "name": "stdout",
          "text": [
            "Spng\n"
          ]
        },
        {
          "output_type": "execute_result",
          "data": {
            "application/vnd.google.colaboratory.intrinsic+json": {
              "type": "string"
            },
            "text/plain": [
              "'Spng'"
            ]
          },
          "metadata": {},
          "execution_count": 3
        }
      ]
    },
    {
      "cell_type": "code",
      "metadata": {
        "colab": {
          "base_uri": "https://localhost:8080/"
        },
        "id": "Nvk_TLJtl3Nv",
        "outputId": "65937c92-156a-4f53-dd73-92efb1a69c3f"
      },
      "source": [
        "# C. fix_start\n",
        "# Dada una cadena s, devuelve una cadena\n",
        "# donde todas las ocurrencias de su primer caracter tienen\n",
        "# se ha cambiado a '*', excepto que no cambie el primer char en sí.\n",
        "# por ejemplo, 'babble' produce 'ba**le'\n",
        "# Supongamos que la cadena tiene una longitud 1 o superior.\n",
        "# Sugerencia: s.replace(stra, strb) devuelve una versión de string s\n",
        "# donde todas las instancias de stra han sido reemplazadas por strb.\n",
        "\n",
        "def fix_start(palabra):\n",
        "  for i in palabra:\n",
        "    w=palabra.replace(palabra[0] ,\"*\") \n",
        "  \n",
        "  print(w)\n",
        " \n",
        "\n",
        "fix_start(\"babble\")"
      ],
      "execution_count": null,
      "outputs": [
        {
          "output_type": "stream",
          "name": "stdout",
          "text": [
            "*a**le\n"
          ]
        }
      ]
    },
    {
      "cell_type": "code",
      "metadata": {
        "colab": {
          "base_uri": "https://localhost:8080/"
        },
        "id": "SFzuI20SmErK",
        "outputId": "33e2590d-9cba-4e6f-a8cb-ceb6b4b1f6c6"
      },
      "source": [
        "# D. MixUp\n",
        "# Dadas las cadenas a y b, devuelve una sola cadena con a y b separadas\n",
        "# por un espacio '<a> <b>', excepto intercambiar los primeros 2 caracteres de cada cadena.\n",
        "# por ejemplo.\n",
        "#   'mix', pod' -> 'pox mid'\n",
        "#   'dog', 'dinner' -> 'dig donner'\n",
        "# Supongamos que a y b son de longitud 2 o más.\n",
        "def mix_up(a,b):\n",
        "    a,b=b[0]+b[1]+a[2:],a[0]+a[1]+b[2:]\n",
        "    print(a + \" \" + b)\n",
        "mix_up(\"Dog\",\"Dinner\")\n",
        "\n"
      ],
      "execution_count": null,
      "outputs": [
        {
          "output_type": "stream",
          "name": "stdout",
          "text": [
            "Dig Donner\n"
          ]
        }
      ]
    },
    {
      "cell_type": "code",
      "metadata": {
        "colab": {
          "base_uri": "https://localhost:8080/"
        },
        "id": "z8uhWvxamz4A",
        "outputId": "324d12b9-9307-4453-c305-ee4a38549759"
      },
      "source": [
        "# E. front_back\n",
        "# Considere dividir una cadena en dos mitades.\n",
        "# Si la longitud es par, las mitades delantera y trasera tienen la misma longitud.\n",
        "# Si la longitud es impar, diremos que el caracter extra va en la mitad delantera.\n",
        "# por ejemplo, 'abcde', la mitad delantera es 'abc', la mitad trasera 'de'.\n",
        "# Dadas 2 cadenas, a y b, devuelven una cadena de la forma\n",
        "# a-front + b-front + a-back + b-back\n",
        "# ejemplo si dos cadenas son pares: a='xyzt', b='abcd'. result='xyabztcd'\n",
        "\n",
        "def front_back(a,b):\n",
        "    a1 = a[:len(a)//2]\n",
        "    a2 = a[len(a)//2:]\n",
        "    \n",
        "    b1 = b[:len(b)//2]\n",
        "    b2 = b[len(b)//2:]\n",
        "    print(a1+b1+a2+b2)\n",
        "\n",
        "front_back(\"xyzt\",\"abcd\")\n",
        "    "
      ],
      "execution_count": null,
      "outputs": [
        {
          "output_type": "stream",
          "name": "stdout",
          "text": [
            "xyabztcd\n"
          ]
        }
      ]
    },
    {
      "cell_type": "code",
      "metadata": {
        "id": "XU33lD49m-QX"
      },
      "source": [
        "# Desafío\n",
        "# F. Extraer el valor del tiempo (time=...) como float de una cadena\n",
        "# conversion se hace usando float(14) que devuelve 14.0\n",
        "# recuerda que el valor del tiempo puede tener formato de dos digitos o tres digitos como\n",
        "# dd.dd o ddd.d o dd.dd... pero siempre terminará con la cadena 'ms'\n",
        "# ejemplo de cadena: \n",
        "# '64 bytes de bogota.net (172.217.173.36): ttl=117 time=14.4 ms'\n",
        "\n",
        "import platform\n",
        "import subprocess\n",
        "\n",
        "def extract_time(host):\n",
        "\n",
        "  param = '-n' if platform.system().lower() == 'windows' else '-c'\n",
        "  com = ['ping',param,'1',host]\n",
        "  subprocess.call(com)    #Profe aca hay un error pero no capto del todo porque no corre el programa\n",
        "\n",
        "extract_time('2800.3f0.4005.40b')\n",
        "extract_time('8.8.8.8')\n"
      ],
      "execution_count": null,
      "outputs": []
    },
    {
      "cell_type": "code",
      "metadata": {
        "colab": {
          "base_uri": "https://localhost:8080/",
          "height": 265
        },
        "id": "YnHXXTuPnVl_",
        "outputId": "2f6ac756-eeab-49ff-a4e0-1d666c09c43b"
      },
      "source": [
        "import matplotlib.pyplot as plt\n",
        " \n",
        "## Challange:\n",
        "## List comprehenions are not necessary for this challenge\n",
        "### Siguiendo el material de la clase pasada hacer un plot de occurencia de un caracter (Jim o Tom o Huck) de libro atraves de los capitulos\n",
        "\n",
        "from urllib.request import urlopen\n",
        "response = urlopen('https://www.gutenberg.org/files/74/74-0.txt')\n",
        "book = str(response.read())\n",
        "chapters_of_the_book=str(book.split('CHAPTER'))\n",
        "\n",
        "for j in chapters_of_the_book:\n",
        "  x=book.find('CHAPTER')\n",
        "  for i in chapters_of_the_book:\n",
        "    y=chapters_of_the_book.find('Jim')\n",
        "    break\n",
        "plt.plot(x,y,marker='o',linestyle='')\n",
        "plt.show()"
      ],
      "execution_count": null,
      "outputs": [
        {
          "output_type": "display_data",
          "data": {
            "image/png": "[encoded data removed]",
            "text/plain": [
              "<Figure size 432x288 with 1 Axes>"
            ]
          },
          "metadata": {
            "needs_background": "light"
          }
        }
      ]
    },
    {
      "cell_type": "code",
      "metadata": {
        "id": "nJ00S6fLnL3b"
      },
      "source": [
        ""
      ],
      "execution_count": null,
      "outputs": []
    }
  ]
}