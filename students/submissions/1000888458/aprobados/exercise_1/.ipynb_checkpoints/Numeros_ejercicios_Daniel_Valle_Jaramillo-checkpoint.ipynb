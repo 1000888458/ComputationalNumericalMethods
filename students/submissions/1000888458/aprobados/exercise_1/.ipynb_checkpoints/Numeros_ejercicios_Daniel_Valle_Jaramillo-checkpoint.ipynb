{
 "cells": [
  {
   "cell_type": "markdown",
   "id": "super-silicon",
   "metadata": {
    "id": "super-silicon"
   },
   "source": [
    "# Exercicios sobre numeros :"
   ]
  },
  {
   "cell_type": "markdown",
   "id": "environmental-observation",
   "metadata": {
    "id": "environmental-observation"
   },
   "source": [
    "#### 1. Imprime primero 10 numeros naturales (1,2,3,4,5,6,7,8,9,10) usando \"for loop\" y print ()"
   ]
  },
  {
   "cell_type": "code",
   "execution_count": 1,
   "id": "executive-austria",
   "metadata": {
    "colab": {
     "base_uri": "https://localhost:8080/"
    },
    "id": "executive-austria",
    "outputId": "55319c9a-e0bf-4e23-f6d3-eb1aff84b918"
   },
   "outputs": [
    {
     "name": "stdout",
     "output_type": "stream",
     "text": [
      "1\n",
      "2\n",
      "3\n",
      "4\n",
      "5\n",
      "6\n",
      "7\n",
      "8\n",
      "9\n",
      "10\n"
     ]
    }
   ],
   "source": [
    "# tu codigo aqui:\n",
    "for i in range(1,11):\n",
    "    print(i)"
   ]
  },
  {
   "cell_type": "markdown",
   "id": "loving-george",
   "metadata": {
    "id": "loving-george"
   },
   "source": [
    "#### 2. Imprime primero 10 numeros naturales (1,2,3,4,5,6,7,8,9,10)  usando \"while loop\" y print ()"
   ]
  },
  {
   "cell_type": "code",
   "execution_count": 2,
   "id": "manufactured-international",
   "metadata": {
    "colab": {
     "base_uri": "https://localhost:8080/"
    },
    "id": "manufactured-international",
    "outputId": "d33ab108-41c3-419a-bf28-0f37d4ce86d3"
   },
   "outputs": [
    {
     "name": "stdout",
     "output_type": "stream",
     "text": [
      "1\n",
      "2\n",
      "3\n",
      "4\n",
      "5\n",
      "6\n",
      "7\n",
      "8\n",
      "9\n",
      "10\n"
     ]
    }
   ],
   "source": [
    "# tu codigo aqui:\n",
    "numero=1\n",
    "\n",
    "while numero<11:\n",
    "    print(numero)\n",
    "    numero=numero+1"
   ]
  },
  {
   "cell_type": "markdown",
   "id": "beginning-marine",
   "metadata": {
    "id": "beginning-marine"
   },
   "source": [
    "#### 3. Calcular la soma de numeros (1+2+3+4+5+6+7+8+9+10) usando \"for loop\" y guarda resultado en variable \"my_result\""
   ]
  },
  {
   "cell_type": "code",
   "execution_count": 3,
   "id": "neither-segment",
   "metadata": {
    "colab": {
     "base_uri": "https://localhost:8080/"
    },
    "id": "neither-segment",
    "outputId": "a2ce3e61-11b6-4c7d-bb0d-33b91045c716"
   },
   "outputs": [
    {
     "name": "stdout",
     "output_type": "stream",
     "text": [
      "La suma de los 10 primeros numeros es 55\n"
     ]
    },
    {
     "data": {
      "text/plain": [
       "55"
      ]
     },
     "execution_count": 3,
     "metadata": {},
     "output_type": "execute_result"
    }
   ],
   "source": [
    "# tu codigo aqui:\n",
    "def suma_for():\n",
    "    numero=0\n",
    "    my_result=0\n",
    "\n",
    "    for i in range(1,12):\n",
    "        my_result=my_result+numero\n",
    "        numero=numero+1\n",
    "    print(\"La suma de los 10 primeros numeros es \" + str(my_result))\n",
    "    return my_result\n",
    "\n",
    "suma_for()"
   ]
  },
  {
   "cell_type": "markdown",
   "id": "indoor-roots",
   "metadata": {
    "id": "indoor-roots"
   },
   "source": [
    "#### 4. Calcular la soma de numeros (1+2+3+4+5+6+7+8+9+10) usando \"while loop\" y guardar resultado en variable \"my_result\""
   ]
  },
  {
   "cell_type": "code",
   "execution_count": 4,
   "id": "infrared-respondent",
   "metadata": {
    "colab": {
     "base_uri": "https://localhost:8080/"
    },
    "id": "infrared-respondent",
    "outputId": "2b876c73-b46a-4421-cb26-11eaa87ed433"
   },
   "outputs": [
    {
     "name": "stdout",
     "output_type": "stream",
     "text": [
      "La suma de los 10 primeros numeros es 55\n"
     ]
    },
    {
     "data": {
      "text/plain": [
       "55"
      ]
     },
     "execution_count": 4,
     "metadata": {},
     "output_type": "execute_result"
    }
   ],
   "source": [
    "# tu codigo aqui:\n",
    "def suma_while():\n",
    "    numero=0\n",
    "    my_result=0\n",
    "    while numero<11:\n",
    "        my_result=my_result+numero\n",
    "        numero=numero+1\n",
    "    print(\"La suma de los 10 primeros numeros es \" + str(my_result))\n",
    "    return my_result\n",
    "\n",
    "suma_while()"
   ]
  },
  {
   "cell_type": "markdown",
   "id": "polished-reason",
   "metadata": {
    "id": "polished-reason"
   },
   "source": [
    "#### 5. Calcular la soma de numeros par (2+4+6+8+10.. + ...100) usando \"for loop\" y guardar resultado en variable \"my_result\" (pista: usa condicion \"if\" y \"%\")"
   ]
  },
  {
   "cell_type": "code",
   "execution_count": 5,
   "id": "asian-publisher",
   "metadata": {
    "colab": {
     "base_uri": "https://localhost:8080/"
    },
    "id": "asian-publisher",
    "outputId": "364bcacc-b2f9-48b9-cd4a-8ebfc2d24c16"
   },
   "outputs": [
    {
     "name": "stdout",
     "output_type": "stream",
     "text": [
      " La suma de los primeros 100 numeros pares es 2550\n"
     ]
    },
    {
     "data": {
      "text/plain": [
       "2550"
      ]
     },
     "execution_count": 5,
     "metadata": {},
     "output_type": "execute_result"
    }
   ],
   "source": [
    "# tu codigo aqui:\n",
    "def suma_pares():\n",
    "    my_result=0\n",
    "\n",
    "    for i in range(1,101):\n",
    "        if i%2==0:\n",
    "            my_result=my_result+i\n",
    "\n",
    "    print(\" La suma de los primeros 100 numeros pares es \"  + str(my_result))\n",
    "    return my_result\n",
    "            \n",
    "\n",
    "suma_pares()"
   ]
  },
  {
   "cell_type": "markdown",
   "id": "accepted-jacksonville",
   "metadata": {
    "id": "accepted-jacksonville"
   },
   "source": [
    "#### 6. Calcular la soma de numeros impar (1+3+5+7+9+... + ...99) usando \"while loop\" y guardar resultado en variable \"my_result\" (pista: usa condicion \"if\" y \"%\")"
   ]
  },
  {
   "cell_type": "code",
   "execution_count": 6,
   "id": "assigned-parameter",
   "metadata": {
    "colab": {
     "base_uri": "https://localhost:8080/"
    },
    "id": "assigned-parameter",
    "outputId": "c815d298-4898-4828-92bb-a3f1cc61ab0e"
   },
   "outputs": [
    {
     "name": "stdout",
     "output_type": "stream",
     "text": [
      "La suma de los numeros impares positivos hasta el 99 es 2500\n"
     ]
    },
    {
     "data": {
      "text/plain": [
       "2500"
      ]
     },
     "execution_count": 6,
     "metadata": {},
     "output_type": "execute_result"
    }
   ],
   "source": [
    "# tu codigo aqui:\n",
    "def suma_impares():\n",
    "    my_result=0\n",
    "    numero=0\n",
    "\n",
    "    while numero<100:\n",
    "        numero=numero+1\n",
    "        if numero%2!=0:\n",
    "            my_result=my_result+numero\n",
    "        \n",
    "    print(\"La suma de los numeros impares positivos hasta el 99 es \" + str(my_result))\n",
    "    return my_result\n",
    "\n",
    "suma_impares()"
   ]
  },
  {
   "cell_type": "markdown",
   "id": "crucial-treat",
   "metadata": {
    "id": "crucial-treat"
   },
   "source": [
    "#### 7. Definir una function que se llama func_sum_even_odd(b) que recibe un parametro \"b\" - valor numerico. La funcion calcula soma de numeros pares y numeros impares separamente entre 0 y b (los dos valores incluidos) . La funcion guarda resultados en dos variables en sum_even, sum_odd y devuelve ambos usando \"return\". (usa metodo: while)\n",
    "\n",
    "ejemplo de ejecucion:   \n",
    "sum_even,sum_odd = func_sum_even_odd(10)  \n",
    "print(sum_even,sum_odd)  \n",
    "30,25  \n",
    "\n",
    "#### Pero si \"b\" no es ni integer ni float funcion devuelve sum_even=0,y sum_odd=0 y imprime mensaje: \"argument must be an integer or float\"   (usa: \"isinstance\" o negacion de isinstance: \"not isinstance\" conjunto con operador logico \"or\" para verificar si el argumento es int of float)\n",
    "\n",
    "ejemplo de ejecucion:  \n",
    "sum_even,sum_odd = func_sum_even_odd('z')  \n",
    "\"argument must be an integer or float\"  "
   ]
  },
  {
   "cell_type": "code",
   "execution_count": 7,
   "id": "comparative-corruption",
   "metadata": {
    "colab": {
     "base_uri": "https://localhost:8080/"
    },
    "id": "comparative-corruption",
    "outputId": "5f571929-61b6-4b48-f962-63f334a0125e"
   },
   "outputs": [
    {
     "name": "stdout",
     "output_type": "stream",
     "text": [
      "La suma de los numeros pares es 12\n",
      "La suma de los numeros impares es 16\n"
     ]
    },
    {
     "data": {
      "text/plain": [
       "(12, 16)"
      ]
     },
     "execution_count": 7,
     "metadata": {},
     "output_type": "execute_result"
    }
   ],
   "source": [
    "# tu codigo aqui\n",
    "def func_sum_even_odd(b):\n",
    "    numero=0\n",
    "    sum_even=0\n",
    "    sum_odd=0\n",
    "    if type(b)==int or type(b)==float:\n",
    "        while numero<=b-1:\n",
    "            numero=numero+1\n",
    "            if numero%2==0:\n",
    "                sum_even=sum_even+numero\n",
    "            if numero%2!=0:\n",
    "                sum_odd=sum_odd+numero\n",
    "    \n",
    "       \n",
    "        print(\"La suma de los numeros pares es \" + str(sum_even))\n",
    "        print(\"La suma de los numeros impares es \" + str(sum_odd))\n",
    "        return sum_even,sum_odd\n",
    "    if type(b)== str or type(b)==bool :\n",
    "        \n",
    "        print(\"Argument must be and integer or float\")\n",
    "        sum_even=0\n",
    "        sum_odd=0\n",
    "        print(\"La suma de los pares es \" + str(sum_even) + \n",
    "              \", la suma de los impares es \" + str(sum_odd))\n",
    "        return sum_even,sum_odd\n",
    "        \n",
    "func_sum_even_odd(7)  # Please enter an  Integer,Float,\"String\" or Boolean \n"
   ]
  },
  {
   "cell_type": "markdown",
   "id": "contemporary-exemption",
   "metadata": {
    "id": "contemporary-exemption"
   },
   "source": [
    "#### 8. Modifica funcion anterior y usa conjunto: try:... except:... (mira arriva en el texto de la classe)\n",
    "try:   \n",
    "--->intenta hacer si no sale error  \n",
    "except:  \n",
    "--->hace otra cosa si sale error    "
   ]
  },
  {
   "cell_type": "code",
   "execution_count": 8,
   "id": "dominican-tomato",
   "metadata": {
    "colab": {
     "base_uri": "https://localhost:8080/"
    },
    "id": "dominican-tomato",
    "outputId": "709a7646-90fe-4deb-e30b-29872ce30bb6"
   },
   "outputs": [
    {
     "name": "stdout",
     "output_type": "stream",
     "text": [
      "La suma de los numeros pares es 12\n",
      "La suma de los numeros impares es 16\n"
     ]
    },
    {
     "data": {
      "text/plain": [
       "(12, 16)"
      ]
     },
     "execution_count": 8,
     "metadata": {},
     "output_type": "execute_result"
    }
   ],
   "source": [
    "# tu codigo aqui\n",
    "def func_sum_even_odd(b):\n",
    "    numero=0\n",
    "    sum_even=0\n",
    "    sum_odd=0\n",
    "    try:\n",
    "        while numero<=b-1:\n",
    "                numero=numero+1\n",
    "                if numero%2==0:\n",
    "                    sum_even=sum_even+numero\n",
    "                if numero%2!=0:\n",
    "                    sum_odd=sum_odd+numero\n",
    "        print(\"La suma de los numeros pares es \" + str(sum_even))\n",
    "        print(\"La suma de los numeros impares es \" + str(sum_odd))\n",
    "        return sum_even,sum_odd\n",
    "\n",
    "    except TypeError:\n",
    "        print(\"Argument must be and integer or float\")\n",
    "        sum_even=0\n",
    "        sum_odd=0\n",
    "        print(\"La suma de los pares es \" + str(sum_even) + \n",
    "              \", la suma de los impares es \" + str(sum_odd))\n",
    "        return sum_even,sum_odd\n",
    "    \n",
    "func_sum_even_odd(7) # Please enter an  Integer,Float,\"String\" or Boolean"
   ]
  }
 ],
 "metadata": {
  "colab": {
   "collapsed_sections": [],
   "name": "Numeros_ejercicios_Daniel_Valle_Jaramillo.ipynb",
   "provenance": []
  },
  "kernelspec": {
   "display_name": "Python 3",
   "language": "python",
   "name": "python3"
  },
  "language_info": {
   "codemirror_mode": {
    "name": "ipython",
    "version": 3
   },
   "file_extension": ".py",
   "mimetype": "text/x-python",
   "name": "python",
   "nbconvert_exporter": "python",
   "pygments_lexer": "ipython3",
   "version": "3.7.2"
  }
 },
 "nbformat": 4,
 "nbformat_minor": 5
}
