{
 "cells": [
  {
   "cell_type": "code",
   "execution_count": 1,
   "metadata": {
    "colab": {
     "base_uri": "https://localhost:8080/"
    },
    "id": "WPMkawbPlTId",
    "outputId": "8c2fe832-773e-4be6-b81e-2ff68d9481fd"
   },
   "outputs": [
    {
     "name": "stdout",
     "output_type": "stream",
     "text": [
      "-0.04000000000000001\n",
      "0.9800666666666666\n"
     ]
    }
   ],
   "source": [
    "\n",
    "import numpy as np\n",
    "import matplotlib.pyplot as plt\n",
    "import math\n",
    "# 1) Usando loop for calcular valor de cos(0.2) para k=2 (en loop k=0,1,2)\n",
    "def coseno():\n",
    "  contador=0\n",
    "  suma =0\n",
    "  for i in range(2):\n",
    "\n",
    "    valor_cos=(-1)**i*(0.2**(2*i))/math.factorial(2*i) #Profe aca no me da la suma no se porque , eso me esta arruinando el resto del codigo\n",
    "                                                        #Aunque creo que el analisis esta bien hecho\n",
    "    \n",
    "    suma = valor_cos+valor_cos\n",
    "    \n",
    "\n",
    "  print(suma)\n",
    "\n",
    "coseno()\n",
    "\n",
    "#Comprobemos nuestro resultado\n",
    "suma_cos=1-((0.2**2)/math.factorial(2)) + ((0.2**4)/math.factorial(4))\n",
    "\n",
    "print(suma_cos)\n"
   ]
  },
  {
   "cell_type": "code",
   "execution_count": 2,
   "metadata": {
    "colab": {
     "base_uri": "https://localhost:8080/"
    },
    "id": "yUeGMEd-qowt",
    "outputId": "7fb091a1-5199-4e6c-d070-31a51589d0c0"
   },
   "outputs": [
    {
     "name": "stdout",
     "output_type": "stream",
     "text": [
      "-0.04000000000000001\n"
     ]
    }
   ],
   "source": [
    "#2) crear una funcion cos_taylor(x,k) que acepta dos parametros x y k y vuelve valor de cos(x) para dado numero de termos k\n",
    "\n",
    "def coseno_taylor(x,k):\n",
    "  suma_digitos=0\n",
    "  for i in range(k):\n",
    "    valor_cosenox=(-1**i)*(x**(2*i))/math.factorial(2*i)\n",
    "\n",
    "    suma_digitos= valor_cosenox+valor_cosenox\n",
    "\n",
    "  print(suma_digitos)\n",
    "\n",
    "\n",
    "coseno_taylor(0.2,2)  \n",
    "\n",
    "\n"
   ]
  },
  {
   "cell_type": "code",
   "execution_count": 3,
   "metadata": {
    "colab": {
     "base_uri": "https://localhost:8080/"
    },
    "id": "0Az9rJtFtqKm",
    "outputId": "7e8380fe-9f39-46ff-8c23-c2ed123a5735"
   },
   "outputs": [
    {
     "ename": "NameError",
     "evalue": "name 'x' is not defined",
     "output_type": "error",
     "traceback": [
      "\u001b[0;31m---------------------------------------------------------------------------\u001b[0m",
      "\u001b[0;31mNameError\u001b[0m                                 Traceback (most recent call last)",
      "\u001b[0;32m<ipython-input-3-35249eedb51d>\u001b[0m in \u001b[0;36m<module>\u001b[0;34m\u001b[0m\n\u001b[1;32m      4\u001b[0m \u001b[0;34m\u001b[0m\u001b[0m\n\u001b[1;32m      5\u001b[0m \u001b[0mxvec\u001b[0m\u001b[0;34m=\u001b[0m\u001b[0mnp\u001b[0m\u001b[0;34m.\u001b[0m\u001b[0mlinspace\u001b[0m\u001b[0;34m(\u001b[0m\u001b[0;34m-\u001b[0m\u001b[0mnp\u001b[0m\u001b[0;34m.\u001b[0m\u001b[0mpi\u001b[0m\u001b[0;34m,\u001b[0m\u001b[0mnp\u001b[0m\u001b[0;34m.\u001b[0m\u001b[0mpi\u001b[0m\u001b[0;34m,\u001b[0m\u001b[0;36m100\u001b[0m\u001b[0;34m)\u001b[0m\u001b[0;34m\u001b[0m\u001b[0;34m\u001b[0m\u001b[0m\n\u001b[0;32m----> 6\u001b[0;31m \u001b[0mcoseno_taylor\u001b[0m\u001b[0;34m(\u001b[0m\u001b[0mx\u001b[0m\u001b[0;34m,\u001b[0m\u001b[0;36m3\u001b[0m\u001b[0;34m)\u001b[0m\u001b[0;34m\u001b[0m\u001b[0;34m\u001b[0m\u001b[0m\n\u001b[0m\u001b[1;32m      7\u001b[0m \u001b[0;34m\u001b[0m\u001b[0m\n\u001b[1;32m      8\u001b[0m \u001b[0mcos_aprox\u001b[0m\u001b[0;34m=\u001b[0m\u001b[0;34m[\u001b[0m\u001b[0;34m]\u001b[0m\u001b[0;34m\u001b[0m\u001b[0;34m\u001b[0m\u001b[0m\n",
      "\u001b[0;31mNameError\u001b[0m: name 'x' is not defined"
     ]
    }
   ],
   "source": [
    "# 3) crear un vector xvec que tiene 100 elementos en rango de  −π :  π  \n",
    "# y usando loop for para cada elemento de este vector llama la funcion cos_taylor(x,k) \n",
    "# y guarda resultados en una lista \"cos_approx=[]\" usando methodo append (cos_approx.append()). usa valor de k=3\n",
    "\n",
    "xvec=np.linspace(-np.pi,np.pi,100)\n",
    "coseno_taylor(x,3)\n",
    "\n",
    "cos_aprox=[]\n",
    "cos_aprox=np.linspace(-np.pi,np.pi,100)\n",
    "\n",
    "for x in xvec:\n",
    "  cos_aprox=[coseno_taylor(x,3)]\n",
    "  lista=cos_aprox.append(3)\n",
    "\n",
    "print(cos_aprox)\n",
    "\n"
   ]
  },
  {
   "cell_type": "code",
   "execution_count": 4,
   "metadata": {
    "colab": {
     "base_uri": "https://localhost:8080/",
     "height": 687
    },
    "id": "ReQbsUyvzS9f",
    "outputId": "e6397f27-7aa4-472b-a19a-d9aa0979e8bb"
   },
   "outputs": [
    {
     "ename": "NameError",
     "evalue": "name 'cos_aprox' is not defined",
     "output_type": "error",
     "traceback": [
      "\u001b[0;31m---------------------------------------------------------------------------\u001b[0m",
      "\u001b[0;31mNameError\u001b[0m                                 Traceback (most recent call last)",
      "\u001b[0;32m<ipython-input-4-e817094159d4>\u001b[0m in \u001b[0;36m<module>\u001b[0;34m\u001b[0m\n\u001b[1;32m      7\u001b[0m \u001b[0;34m\u001b[0m\u001b[0m\n\u001b[1;32m      8\u001b[0m \u001b[0mfig\u001b[0m\u001b[0;34m,\u001b[0m\u001b[0max\u001b[0m\u001b[0;34m=\u001b[0m\u001b[0mplt\u001b[0m\u001b[0;34m.\u001b[0m\u001b[0msubplots\u001b[0m\u001b[0;34m(\u001b[0m\u001b[0;36m1\u001b[0m\u001b[0;34m,\u001b[0m\u001b[0;36m1\u001b[0m\u001b[0;34m,\u001b[0m\u001b[0mfigsize\u001b[0m\u001b[0;34m=\u001b[0m\u001b[0;34m(\u001b[0m\u001b[0;36m7\u001b[0m\u001b[0;34m,\u001b[0m\u001b[0;36m5\u001b[0m\u001b[0;34m)\u001b[0m\u001b[0;34m)\u001b[0m\u001b[0;34m\u001b[0m\u001b[0;34m\u001b[0m\u001b[0m\n\u001b[0;32m----> 9\u001b[0;31m \u001b[0max\u001b[0m\u001b[0;34m.\u001b[0m\u001b[0mplot\u001b[0m\u001b[0;34m(\u001b[0m\u001b[0mxvec\u001b[0m\u001b[0;34m,\u001b[0m\u001b[0mcos_aprox\u001b[0m\u001b[0;34m,\u001b[0m\u001b[0;34m'--r'\u001b[0m\u001b[0;34m,\u001b[0m\u001b[0mlabel\u001b[0m\u001b[0;34m=\u001b[0m\u001b[0;34m'xvec vs cos_aprox'\u001b[0m\u001b[0;34m)\u001b[0m  \u001b[0;31m#Tengo aca un problema con las dimensiones\u001b[0m\u001b[0;34m\u001b[0m\u001b[0;34m\u001b[0m\u001b[0m\n\u001b[0m\u001b[1;32m     10\u001b[0m \u001b[0max\u001b[0m\u001b[0;34m.\u001b[0m\u001b[0mplot\u001b[0m\u001b[0;34m(\u001b[0m\u001b[0mxvec\u001b[0m\u001b[0;34m,\u001b[0m\u001b[0mnp\u001b[0m\u001b[0;34m.\u001b[0m\u001b[0mcos\u001b[0m\u001b[0;34m(\u001b[0m\u001b[0mxvec\u001b[0m\u001b[0;34m)\u001b[0m\u001b[0;34m,\u001b[0m\u001b[0;34m'--b'\u001b[0m\u001b[0;34m,\u001b[0m\u001b[0mlabel\u001b[0m\u001b[0;34m=\u001b[0m\u001b[0;34m'xvectvs npcos(xvec)'\u001b[0m\u001b[0;34m)\u001b[0m\u001b[0;34m\u001b[0m\u001b[0;34m\u001b[0m\u001b[0m\n\u001b[1;32m     11\u001b[0m \u001b[0max\u001b[0m\u001b[0;34m.\u001b[0m\u001b[0mlegend\u001b[0m\u001b[0;34m(\u001b[0m\u001b[0;34m)\u001b[0m\u001b[0;34m\u001b[0m\u001b[0;34m\u001b[0m\u001b[0m\n",
      "\u001b[0;31mNameError\u001b[0m: name 'cos_aprox' is not defined"
     ]
    },
    {
     "data": {
      "image/png": "[encoded data removed]",
      "text/plain": [
       "<Figure size 504x360 with 1 Axes>"
      ]
     },
     "metadata": {
      "needs_background": "light"
     },
     "output_type": "display_data"
    }
   ],
   "source": [
    "\n",
    "#4) hacer visualizacion de dos curvas en mismo plot:\n",
    "\n",
    "#xvec vs cos_approx (label: Taylor approximation)\n",
    "#xvec vs np.cos(xvec) (label: cos(x))\n",
    "#usa labels para cada curva\n",
    "import matplotlib.pyplot as plt\n",
    "\n",
    "fig,ax=plt.subplots(1,1,figsize=(7,5))\n",
    "ax.plot(xvec,cos_aprox,'--r',label='xvec vs cos_aprox')  #Tengo aca un problema con las dimensiones\n",
    "ax.plot(xvec,np.cos(xvec),'--b',label='xvectvs npcos(xvec)')\n",
    "ax.legend()\n",
    "ax.setxlabel('x')\n",
    "ax.setylabel('y')\n",
    "ax.grid('True')\n"
   ]
  },
  {
   "cell_type": "code",
   "execution_count": null,
   "metadata": {},
   "outputs": [],
   "source": [
    "# Comentarios:\n",
    "\n",
    "# Exercise 1:\n",
    "#   compilation (max: 2.5p):                     0.0p   \n",
    "#   correctness of the result (max: 2.5p):       0.0p \n",
    "#   implementation of the function (max: 2.5p):  0.0p \n",
    "#   plot (max: 2.5p):                            0.0p \n",
    "\n",
    "# TOTAL:                                         0p (out of 10p)  \n",
    "\n"
   ]
  }
 ],
 "metadata": {
  "colab": {
   "name": "Parcial1_Daniel_Valle_Jaramillo.ipynb",
   "provenance": []
  },
  "kernelspec": {
   "display_name": "Python 3",
   "language": "python",
   "name": "python3"
  },
  "language_info": {
   "codemirror_mode": {
    "name": "ipython",
    "version": 3
   },
   "file_extension": ".py",
   "mimetype": "text/x-python",
   "name": "python",
   "nbconvert_exporter": "python",
   "pygments_lexer": "ipython3",
   "version": "3.7.2"
  }
 },
 "nbformat": 4,
 "nbformat_minor": 1
}
