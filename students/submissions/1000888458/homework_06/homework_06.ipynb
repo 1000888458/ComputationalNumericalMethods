{
 "cells": [
  {
   "cell_type": "code",
   "execution_count": 1,
   "metadata": {
    "colab": {
     "base_uri": "https://localhost:8080/"
    },
    "id": "huk0Eb1dyJ8F",
    "outputId": "50e97519-8d1e-4533-b379-a678959bfdc7"
   },
   "outputs": [
    {
     "name": "stdout",
     "output_type": "stream",
     "text": [
      "Hello, this is Daniel's homework 6\n"
     ]
    }
   ],
   "source": [
    "print(\"Hello, this is Daniel's homework 6\")"
   ]
  },
  {
   "cell_type": "code",
   "execution_count": 2,
   "metadata": {
    "id": "syjTgbsEgk7l"
   },
   "outputs": [],
   "source": [
    "import numpy as np\n",
    "from sympy import Symbol\n",
    "from scipy.misc import derivative\n",
    "import math\n",
    "\n",
    "def FUNC(x):    # Funcion que yo defini arbitrariamente\n",
    "\n",
    "  return x**3.0\n",
    "\n",
    "def deriv(func,a,method,h):\n",
    "  \n",
    "  if method=='forward':\n",
    "    fx=(func(a+h)-func(a))/h                                  #Calculamos la derivada en el punto\n",
    "    oh=(derivative(func,a,h,n=2,order=3)*h)/math.factorial(2) #Calculamos el error                                                        \n",
    "    derivada=fx+oh                                            #De igual forma con los demas metodos\n",
    "  \n",
    "  elif method=='backward':\n",
    "    fx=(func(a)-func(a-h))/h\n",
    "    oh=(derivative(func,a,h,n=2,order=3)*h)/math.factorial(2)\n",
    "    derivada=fx+oh\n",
    "  \n",
    "  elif method=='central':\n",
    "    fx=(func(a+h)-func(a-h))/2*h\n",
    "    oh2=(derivative(func,a,h,n=3,order=5)*h**2)/math.factorial(3)\n",
    "    derivada=(fx+oh2)*100\n",
    "  \n",
    "  elif method!='forward' or method!='backward' or method!='central':         #Sino ingresa bien el metodo retorna este mensaje\n",
    "    print(\"Escriba por favor correctamente el metodo que desea implementar\")\n",
    "\n",
    "  return derivada\n",
    "\n",
    "\n",
    "  \n"
   ]
  },
  {
   "cell_type": "code",
   "execution_count": 3,
   "metadata": {
    "colab": {
     "base_uri": "https://localhost:8080/"
    },
    "id": "aprea3t3kdGw",
    "outputId": "30f9ec69-98e3-4c99-f614-5c0857f3e03d"
   },
   "outputs": [
    {
     "data": {
      "text/plain": [
       "(13.210000000000006, 12.010000000000005, 13.009999999999899)"
      ]
     },
     "execution_count": 3,
     "metadata": {},
     "output_type": "execute_result"
    }
   ],
   "source": [
    "deriv(FUNC,2.0,'forward',0.1),deriv(FUNC,2.0,'backward',0.1),deriv(FUNC,2.0,'central',0.1)\n"
   ]
  },
  {
   "cell_type": "code",
   "execution_count": 4,
   "metadata": {},
   "outputs": [],
   "source": [
    "test_vals=np.array([2.0,3.0,4.0])\n",
    "\n",
    "\n",
    "def func(x):\n",
    "    return x**3.0\n",
    "\n",
    "my_results=[]\n",
    "for val in test_vals:\n",
    "    result=deriv(func,val,method='backward',h=0.1)\n",
    "    my_results.append(result)"
   ]
  },
  {
   "cell_type": "code",
   "execution_count": 5,
   "metadata": {},
   "outputs": [
    {
     "data": {
      "text/plain": [
       "[12.010000000000005, 27.010000000000023, 48.00999999999988]"
      ]
     },
     "execution_count": 5,
     "metadata": {},
     "output_type": "execute_result"
    }
   ],
   "source": [
    "my_results"
   ]
  },
  {
   "cell_type": "code",
   "execution_count": null,
   "metadata": {},
   "outputs": [],
   "source": []
  }
 ],
 "metadata": {
  "colab": {
   "name": "homework_6.ipynb",
   "provenance": []
  },
  "kernelspec": {
   "display_name": "Python 3",
   "language": "python",
   "name": "python3"
  },
  "language_info": {
   "codemirror_mode": {
    "name": "ipython",
    "version": 3
   },
   "file_extension": ".py",
   "mimetype": "text/x-python",
   "name": "python",
   "nbconvert_exporter": "python",
   "pygments_lexer": "ipython3",
   "version": "3.7.2"
  }
 },
 "nbformat": 4,
 "nbformat_minor": 1
}
