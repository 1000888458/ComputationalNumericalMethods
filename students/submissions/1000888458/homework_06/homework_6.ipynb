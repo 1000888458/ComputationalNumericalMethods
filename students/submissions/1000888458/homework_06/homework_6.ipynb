{
  "cells": [
    {
      "cell_type": "code",
      "source": [
        "print(\"Hello, this is Daniel's homework 6\")"
      ],
      "metadata": {
        "id": "huk0Eb1dyJ8F",
        "colab": {
          "base_uri": "https://localhost:8080/"
        },
        "outputId": "50e97519-8d1e-4533-b379-a678959bfdc7"
      },
      "execution_count": 1,
      "outputs": [
        {
          "output_type": "stream",
          "name": "stdout",
          "text": [
            "Hello, this is Daniel's homework 6\n"
          ]
        }
      ]
    },
    {
      "cell_type": "code",
      "source": [
        "import numpy as np\n",
        "from sympy import Symbol\n",
        "from scipy.misc import derivative\n",
        "import math\n",
        "\n",
        "def FUNC(x):    # Funcion que yo defini arbitrariamente\n",
        "\n",
        "  return x**3.0\n",
        "\n",
        "def deriv(func,a,method,h):\n",
        "  \n",
        "  if method=='forward':\n",
        "    fx=(func(a+h)-func(a))/h                                  #Calculamos la derivada en el punto\n",
        "    oh=(derivative(func,a,h,n=2,order=3)*h)/math.factorial(2) #Calculamos el error                                                        \n",
        "    derivada=fx+oh                                            #De igual forma con los demas metodos\n",
        "  \n",
        "  elif method=='backward':\n",
        "    fx=(func(a)-func(a-h))/h\n",
        "    oh=(derivative(func,a,h,n=2,order=3)*h)/math.factorial(2)\n",
        "    derivada=fx+oh\n",
        "  \n",
        "  elif method=='central':\n",
        "    fx=(func(a+h)-func(a-h))/2*h\n",
        "    oh2=(derivative(func,a,h,n=3,order=5)*h**2)/math.factorial(3)\n",
        "    derivada=(fx+oh2)*100\n",
        "  \n",
        "  elif method!='forward' or method!='backward' or method!='central':         #Sino ingresa bien el metodo retorna este mensaje\n",
        "    print(\"Escriba por favor correctamente el metodo que desea implementar\")\n",
        "\n",
        "  return derivada\n",
        "\n",
        "\n",
        "  \n"
      ],
      "metadata": {
        "id": "syjTgbsEgk7l"
      },
      "execution_count": 2,
      "outputs": []
    },
    {
      "cell_type": "code",
      "source": [
        "deriv(FUNC,2.0,'forward',0.1),deriv(FUNC,2.0,'backward',0.1),deriv(FUNC,2.0,'central',0.1)\n"
      ],
      "metadata": {
        "colab": {
          "base_uri": "https://localhost:8080/"
        },
        "id": "aprea3t3kdGw",
        "outputId": "30f9ec69-98e3-4c99-f614-5c0857f3e03d"
      },
      "execution_count": 3,
      "outputs": [
        {
          "output_type": "execute_result",
          "data": {
            "text/plain": [
              "(13.210000000000006, 12.010000000000005, 13.009999999999899)"
            ]
          },
          "metadata": {},
          "execution_count": 3
        }
      ]
    }
  ],
  "metadata": {
    "colab": {
      "name": "homework_6.ipynb",
      "provenance": []
    },
    "kernelspec": {
      "display_name": "Python 3",
      "name": "python3"
    },
    "language_info": {
      "name": "python"
    }
  },
  "nbformat": 4,
  "nbformat_minor": 0
}