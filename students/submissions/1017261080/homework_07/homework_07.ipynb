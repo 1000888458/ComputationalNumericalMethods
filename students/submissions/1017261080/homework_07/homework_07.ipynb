{
 "cells": [
  {
   "cell_type": "code",
   "execution_count": 4,
   "metadata": {},
   "outputs": [],
   "source": [
    "import numpy as np\n",
    "from scipy import integrate"
   ]
  },
  {
   "cell_type": "code",
   "execution_count": 21,
   "metadata": {},
   "outputs": [],
   "source": [
    "def integral_monte_carlo_1D(f,a,b,N):\n",
    "    E = 0 # Se inicializa la sumatoria\n",
    "    for i in range(N):\n",
    "        x = np.random.uniform(a,b) # Se crea una variable aleatoria uniforme\n",
    "        E = E+f(x) # Se evalúa el valor de x en la función\n",
    "    E = E/N # El valor de la integral en términos de la cantidad de rectángulos\n",
    "    return np.mean(E)*(b-a)"
   ]
  },
  {
   "cell_type": "code",
   "execution_count": null,
   "metadata": {},
   "outputs": [],
   "source": []
  }
 ],
 "metadata": {
  "kernelspec": {
   "display_name": "Python 3",
   "language": "python",
   "name": "python3"
  },
  "language_info": {
   "codemirror_mode": {
    "name": "ipython",
    "version": 3
   },
   "file_extension": ".py",
   "mimetype": "text/x-python",
   "name": "python",
   "nbconvert_exporter": "python",
   "pygments_lexer": "ipython3",
   "version": "3.7.4"
  }
 },
 "nbformat": 4,
 "nbformat_minor": 2
}
