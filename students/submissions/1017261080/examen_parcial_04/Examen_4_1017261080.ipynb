{
 "cells": [
  {
   "cell_type": "markdown",
   "id": "informed-haven",
   "metadata": {},
   "source": [
    "# Examen parcial 4  $\\color{red}{\\text{(10p max)}}$ (Equaciones diferenciales)\n",
    "* Antes de enviar el archivo, $\\textbf{reiniciar y ejecutar el kernel}$ y ver que el archivo se compila sin errores\n",
    "* enviar el archivo jupyter sin anexos antes de las 10.20am del 08.04.2022 a mi dirección de correo electrónico: michal.hemmerling@udea.edu.co "
   ]
  },
  {
   "cell_type": "markdown",
   "id": "digital-egypt",
   "metadata": {},
   "source": [
    "Mario Jose Felix Rojas\n",
    "1017261080"
   ]
  },
  {
   "cell_type": "code",
   "execution_count": 1,
   "id": "minute-january",
   "metadata": {},
   "outputs": [],
   "source": [
    "from scipy.integrate import solve_ivp\n",
    "from scipy.integrate import solve_bvp\n",
    "import matplotlib.pyplot as plt\n",
    "import numpy as np"
   ]
  },
  {
   "cell_type": "markdown",
   "id": "generous-cleaners",
   "metadata": {},
   "source": [
    "## Ejercicio 1. $\\color{red}{\\text{(3p)}}$ Equaciones diferenciales - problema de valor de limite (boundary value problem).\n",
    "\n",
    "Transporte de calor en un objeto puede ser escrito usando segunda orden equacion diferencial:\n",
    "$$\\frac{d^2T}{dx^2}=0.01T-0.2$$\n",
    "a) Usando `scipy.integrate.solve_bvp` resolver este equacion diferencial cumpliendo siguientes condiciones de limite:\n",
    "\n",
    "T(x=0)=40  \n",
    "T(x=10)=200\n",
    "\n",
    "b) Hace grafico de T(x) vs x (con etiquietas y legend) "
   ]
  },
  {
   "cell_type": "markdown",
   "id": "solar-yield",
   "metadata": {},
   "source": [
    "Notese que se puede hacer una reducción de orden con el fin de usar el metodo de Shooting\n",
    "$$\n",
    "        U = \\frac{dT}{dx} \\rightarrow \\frac{dU}{dx} = \\frac{d^2T}{dx^2} = 0.01T-0.2\n",
    "$$"
   ]
  },
  {
   "cell_type": "code",
   "execution_count": 2,
   "id": "occupied-sensitivity",
   "metadata": {},
   "outputs": [],
   "source": [
    "# Functions and values\n",
    "def derivs2(t,y):\n",
    "    dUdx=np.zeros((y.shape))\n",
    "    dUdx[0]=y[1]\n",
    "    dUdx[1]= 0.01*y[1]-0.2\n",
    "    return dUdx\n",
    "\n",
    "def bc2(ya,yb):\n",
    "    residuals=np.array([0.0,0.0])\n",
    "    residuals[0]=ya[0] - 40.0\n",
    "    residuals[1]=yb[0] - 200.0\n",
    "    print(ya[1])\n",
    "#    print(residuals)\n",
    "    return residuals\n",
    "\n",
    "# Dominio temporal\n",
    "t_steps = 30\n",
    "t2= np.linspace(0,10,t_steps)\n",
    "y02 = np.ones((2,t_steps))"
   ]
  },
  {
   "cell_type": "code",
   "execution_count": 3,
   "id": "funky-potter",
   "metadata": {},
   "outputs": [
    {
     "name": "stdout",
     "output_type": "stream",
     "text": [
      "1.0\n",
      "1.0\n",
      "1.0\n",
      "1.0000000298023224\n",
      "1.0\n",
      "1.0\n",
      "16.19666723864814\n",
      "16.19666723864814\n"
     ]
    }
   ],
   "source": [
    "# Solution and the required value\n",
    "sol2 = solve_bvp(derivs2, bc2, t2, y02)"
   ]
  },
  {
   "cell_type": "code",
   "execution_count": 4,
   "id": "national-advocate",
   "metadata": {},
   "outputs": [
    {
     "name": "stdout",
     "output_type": "stream",
     "text": [
      "200.0\n"
     ]
    },
    {
     "data": {
      "image/png": "[encoded data removed]",
      "text/plain": [
       "<Figure size 432x288 with 1 Axes>"
      ]
     },
     "metadata": {
      "needs_background": "light"
     },
     "output_type": "display_data"
    }
   ],
   "source": [
    "fig, ax=plt.subplots(1,1)\n",
    "ax.plot(sol2.x, sol2.y[0],'.b',label='$T(x)$')\n",
    "#ax.plot(3,50,'.b')\n",
    "ax.set_xlabel('Position (m)')\n",
    "ax.set_ylabel('Temperature (K)')\n",
    "ax.legend()\n",
    "ax.grid()\n",
    "#print(-5/3)\n",
    "print(sol2.y[0][-1])"
   ]
  },
  {
   "cell_type": "markdown",
   "id": "behavioral-morgan",
   "metadata": {},
   "source": [
    "## Ejercicio 2.  $\\color{red}{\\text{(4p)}}$ Ecuaciones diferenciales - problema de valor inicial (initial value problem).\n",
    "\n",
    "La ley de Newton del enfriamiento tiene forma de ecuación diferencial\n",
    "\n",
    "$$\\frac{dy}{dt}=k(y-T_{amb}) $$\n",
    "\n",
    "\n",
    "donde:\n",
    "* y es la temperatura actual de un objeto\n",
    "* t es tiempo\n",
    "* k es un valor constante de enfriamiento\n",
    "* $T_{amb}$ es la temperatura del ambiente\n",
    "\n",
    "Digamos que una taza de café tiene una temperatura inicial de 90 centígrados y la temperatura ambiente es de 25 centígrados.\n",
    "\n",
    "a) usando `scipy.integrate.solve_ivp` resolver ecuación diferencial:\n",
    "\n",
    "* para el rango t: t=[0:60], [minutos] (use 100 puntos)\n",
    "* asumir k=-0.06\n",
    "\n",
    "b) Hace grafico de $y(t)$ vs $t$ (con leyenda)\n",
    "* si le gusta tomar café cuando está a más de 70 grados, ¿cuál es el tiempo máximo que puede esperar antes de beber el café (puede obtener índices usando `np.argwhere` para obtener un rango de temperatura más preciso)"
   ]
  },
  {
   "cell_type": "code",
   "execution_count": 5,
   "id": "economic-associate",
   "metadata": {},
   "outputs": [],
   "source": [
    "# parameters\n",
    "t = np.linspace(0,60,100) # Time\n",
    "k = -0.06  # Constant\n",
    "T_amb = 25 # °C\n",
    "y01 = [90] #°C\n",
    "t_span1 = [0,60] # Integración"
   ]
  },
  {
   "cell_type": "code",
   "execution_count": 13,
   "id": "advisory-stuff",
   "metadata": {},
   "outputs": [
    {
     "name": "stdout",
     "output_type": "stream",
     "text": [
      "The solver successfully reached the end of the integration interval.\n"
     ]
    }
   ],
   "source": [
    "# Function and solution\n",
    "def derivs(y,t):\n",
    "    return k*(y-T_amb)\n",
    "sol1 = solve_ivp(derivs, t_span1, y01 , method='RK45',t_eval = t)\n",
    "print(sol1.message)"
   ]
  },
  {
   "cell_type": "code",
   "execution_count": 14,
   "id": "incorrect-canal",
   "metadata": {},
   "outputs": [
    {
     "data": {
      "text/plain": [
       "Text(0.5, 0, 'Time (s)')"
      ]
     },
     "execution_count": 14,
     "metadata": {},
     "output_type": "execute_result"
    },
    {
     "data": {
      "image/png": "[encoded data removed]",
      "text/plain": [
       "<Figure size 432x288 with 1 Axes>"
      ]
     },
     "metadata": {
      "needs_background": "light"
     },
     "output_type": "display_data"
    }
   ],
   "source": [
    "# Grafication\n",
    "fig, ax = plt.subplots(1,1)\n",
    "ax.plot(sol1.t,sol1.y[0],'.b',label='$T(t)$')\n",
    "ax.legend()\n",
    "ax.grid()\n",
    "ax.set_ylabel('Temperature (°C)')\n",
    "ax.set_xlabel('Time (s)')"
   ]
  },
  {
   "cell_type": "code",
   "execution_count": 15,
   "id": "opposite-mexico",
   "metadata": {},
   "outputs": [
    {
     "name": "stdout",
     "output_type": "stream",
     "text": [
      "100\n"
     ]
    }
   ],
   "source": [
    "a = np.argwhere(sol1.y[0]>70)\n",
    "print(len(a))"
   ]
  },
  {
   "cell_type": "markdown",
   "id": "three-mirror",
   "metadata": {},
   "source": [
    "El café no alcanza un temperatura menor a 70°C"
   ]
  },
  {
   "cell_type": "markdown",
   "id": "concerned-efficiency",
   "metadata": {},
   "source": [
    "## Ejercicio 3.  $\\color{red}{\\text{(3p)}}$ Equaciones diferenciales - problema de valor de limite (boundary value problem).\n",
    "\n",
    "Los organizadores de un espectáculo de fuegos artificiales quieren que los fuegos exploten a 40 metros sobre el suelo 5 segundos después del lanzamiento. Encuentra la velocidad inicial del cohete. \n",
    "\n",
    "a) usar ecuacion diferencial segunda orden:\n",
    "\n",
    "$$\\frac{d^2y}{dt^2}= −g $$\n",
    "\n",
    "donde $y$ es altitud de cohete y,   \n",
    "\n",
    "b) hacer plot $y(t)$ vs $t$\n"
   ]
  },
  {
   "cell_type": "code",
   "execution_count": 9,
   "id": "prostate-cooperative",
   "metadata": {},
   "outputs": [],
   "source": [
    "# Functions and values\n",
    "def derivs1(t,y):\n",
    "    dydt=np.zeros((y.shape))\n",
    "    dydt[0]=y[1]\n",
    "    dydt[1]=-9.81\n",
    "    return dydt\n",
    "\n",
    "def bc1(ya,yb):\n",
    "    residuals=np.array([0.0,0.0])\n",
    "    residuals[0]=ya[0] - 0.0\n",
    "    residuals[1]=yb[0] - 40.0\n",
    "    print(ya[1])\n",
    "#    print(residuals)\n",
    "    return residuals\n",
    "\n",
    "# Dominio temporal\n",
    "t_steps = 20\n",
    "t1= np.linspace(0,5,t_steps)\n",
    "y0 = np.ones((2,t_steps))"
   ]
  },
  {
   "cell_type": "code",
   "execution_count": 10,
   "id": "adverse-cardiff",
   "metadata": {},
   "outputs": [
    {
     "name": "stdout",
     "output_type": "stream",
     "text": [
      "1.0\n",
      "1.0\n",
      "1.0\n",
      "1.0000000298023224\n",
      "1.0\n",
      "1.0\n",
      "32.52499999999999\n",
      "32.52499999999999\n",
      "The required value for velocity is: -16.525 m/s\n"
     ]
    }
   ],
   "source": [
    "# Solution and the required value\n",
    "sol = solve_bvp(derivs1, bc1, t1, y0)\n",
    "print('The required value for velocity is:',sol.y[1][-1],'m/s')"
   ]
  },
  {
   "cell_type": "code",
   "execution_count": 11,
   "id": "helpful-wheat",
   "metadata": {},
   "outputs": [
    {
     "name": "stdout",
     "output_type": "stream",
     "text": [
      "-1.6666666666666667\n",
      "40.0\n"
     ]
    },
    {
     "data": {
      "image/png": "[encoded data removed]",
      "text/plain": [
       "<Figure size 432x288 with 1 Axes>"
      ]
     },
     "metadata": {
      "needs_background": "light"
     },
     "output_type": "display_data"
    }
   ],
   "source": [
    "fig, ax=plt.subplots(1,1)\n",
    "ax.plot(sol.x, sol.y[0],'.b',label='$y(t)$')\n",
    "#ax.plot(3,50,'.b')\n",
    "ax.set_xlabel('Time (s)')\n",
    "ax.set_ylabel('Altitude (m)')\n",
    "ax.legend()\n",
    "ax.grid()\n",
    "print(-5/3)\n",
    "print(sol.y[0][-1])"
   ]
  },
  {
   "cell_type": "markdown",
   "id": "desperate-portuguese",
   "metadata": {},
   "source": [
    "## Ejercicio 4 Ecuaciones diferenciales acopladas - problema de valor inicial `scipy.integrate.solve_ivp` $\\color{red}{\\text{(10p)}}$ o `otros metodos`  $\\color{red}{\\text{(7p)}}$\n",
    "\n",
    "Las ecuaciones de Lotka-Volterra, también conocidas como ecuaciones depredador-presa, son un par de ecuaciones de primer orden, no lineales, ecuaciones diferenciales utilizadas con frecuencia para describir la dinámica de los sistemas biológicos en los que interactúan dos especies, uno como depredador y el otro como presa. Las poblaciones cambian a través del tiempo de acuerdo con el par de ecuaciones:"
   ]
  },
  {
   "cell_type": "markdown",
   "id": "banner-preview",
   "metadata": {},
   "source": [
    "$$\\frac{dx}{dt}=x(\\color{red}{\\alpha}-\\color{red}{\\beta} y)$$\n",
    "$$\\frac{dy}{dt}=-y(\\color{red}{\\gamma}-\\color{red}{\\delta} x)$$"
   ]
  },
  {
   "cell_type": "markdown",
   "id": "backed-performance",
   "metadata": {},
   "source": [
    "Esa ecuación describiría la evolución de la población de conejos y zorros (condiciones perfectas)\n",
    "\n",
    "* x - numbero de conejos  \n",
    "* y - numbero de zorros\n",
    "\n",
    "* $\\color{red}{\\alpha, \\beta, \\gamma, \\delta }$ son parámetros que describen la interacción de las dos especies\n",
    "\n",
    "* $\\frac{dx}{dt}, \\frac{dy}{dt}$ representan las tasas de crecimiento de las dos poblaciones a lo largo del tiempo\n",
    "\n",
    "* $t$ es tiempo"
   ]
  },
  {
   "cell_type": "markdown",
   "id": "burning-daily",
   "metadata": {},
   "source": [
    "<img src=\"rabbits_foxes.png\" width=\"400\" />"
   ]
  },
  {
   "cell_type": "markdown",
   "id": "instant-least",
   "metadata": {},
   "source": [
    "a) solucionar los ecuaciones diferenciales usando `scipy.integrate.solve_ivp` $\\color{red}{\\text{(10p)}}$ o `otros metodos`  $\\color{red}{\\text{(7p)}}$\n",
    "asumir: \n",
    "* $\\alpha, \\beta, \\gamma, \\delta = 1$\n",
    "* $x_{ini}=4$\n",
    "* $y_{ini}=2$\n",
    "* $t=0:30$ (unidades arbitrarias, asumir meses)\n",
    "\n",
    "b) hacer plot con dos curvas: $x$ vs. $t$ , $y$ vs. $t$   \n",
    "c) hacer plot $x vs y$  \n",
    "d) comentar sobre los dos plots  "
   ]
  },
  {
   "cell_type": "code",
   "execution_count": null,
   "id": "preliminary-avenue",
   "metadata": {},
   "outputs": [],
   "source": []
  },
  {
   "cell_type": "markdown",
   "id": "marked-honor",
   "metadata": {},
   "source": [
    "# Feedback:\n",
    "```\n",
    "Exercise 1.\n",
    "Solution + presentation of the results\t            (max 3.0p):\t2.0p\n",
    "error: dUdx[1]= 0.01*y[1]-0.2\n",
    "\n",
    "Exercise 2.\n",
    "Solution + presentation of the results\t            (max 4.0p):\t2.0p\n",
    "error: def derivs(y,t):\n",
    "\n",
    "Exercise 3.\n",
    "Solution + presentation of the results\t            (max 3.0p):\t3.0p\n",
    "\n",
    "Exercise 4 ODEINT.\n",
    "Solution + presentation of the results\t            (max 7.0p):\t0.0p\n",
    "\n",
    "Exercise 4 IVP.\n",
    "Solution + presentation of the results\t            (max 10.0p):  00.0p\n",
    "\n",
    "\n",
    "\n",
    "- Total:                                              (max 10.0p):   00.0p\n",
    "```"
   ]
  },
  {
   "cell_type": "code",
   "execution_count": null,
   "id": "commercial-stage",
   "metadata": {},
   "outputs": [],
   "source": []
  }
 ],
 "metadata": {
  "kernelspec": {
   "display_name": "Python 3",
   "language": "python",
   "name": "python3"
  },
  "language_info": {
   "codemirror_mode": {
    "name": "ipython",
    "version": 3
   },
   "file_extension": ".py",
   "mimetype": "text/x-python",
   "name": "python",
   "nbconvert_exporter": "python",
   "pygments_lexer": "ipython3",
   "version": "3.7.2"
  }
 },
 "nbformat": 4,
 "nbformat_minor": 5
}
