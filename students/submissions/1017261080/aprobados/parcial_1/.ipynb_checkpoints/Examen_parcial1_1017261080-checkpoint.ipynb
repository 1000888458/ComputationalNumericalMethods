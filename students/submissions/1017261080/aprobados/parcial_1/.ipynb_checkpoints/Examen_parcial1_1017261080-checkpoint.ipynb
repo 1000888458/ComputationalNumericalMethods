{
 "cells": [
  {
   "cell_type": "markdown",
   "metadata": {
    "id": "Z76WAYNjsXuP"
   },
   "source": [
    "### Mario José Félix Rojas\n",
    "CC 1017261080"
   ]
  },
  {
   "cell_type": "code",
   "execution_count": 1,
   "metadata": {},
   "outputs": [],
   "source": [
    "import math\n",
    "import numpy as np\n",
    "import decimal\n",
    "import matplotlib.pyplot as plt"
   ]
  },
  {
   "cell_type": "markdown",
   "metadata": {},
   "source": [
    "## Ejercicio 1a. Calcular una soma (Taylor aproximacion de funcion cos) usando loop \n",
    "\n",
    "\n",
    "$$cos(x)=\\sum_{k=0}^{\\infty}\\frac{(-1)^k x^{2k}}{(2k)!}$$ \n",
    "\n",
    "1) usando loop for calcular valor de cos(0.2) para k=2 (en loop k=0,1,2)\n",
    "* (puede comparar su resultado con $cos(x)=1 - \\frac{x^2}{2!}  + \\frac{x^4}{4!}$\n",
    "* (para hacer factorial-! usa: import math, math.factorial)"
   ]
  },
  {
   "cell_type": "code",
   "execution_count": 2,
   "metadata": {
    "colab": {
     "base_uri": "https://localhost:8080/",
     "height": 554
    },
    "id": "6k7pG-PDvbER",
    "outputId": "65be7b3e-8207-4b80-a4a9-6641d4ecf5a7"
   },
   "outputs": [
    {
     "name": "stdout",
     "output_type": "stream",
     "text": [
      "Este programa calcula el valor de cos(x)\n",
      "Ingrese el valor del angulo en grados: 0.2\n",
      "Ingrese la cantidad de iteraciones que realiza el programa: 10\n",
      "El coseno es 1.0000\n",
      "0.9999939076577904\n"
     ]
    }
   ],
   "source": [
    "import math\n",
    "import decimal\n",
    "\n",
    "print(\"Este programa calcula el valor de cos(x)\")\n",
    "x = float(input(\"Ingrese el valor del angulo en grados: \"))\n",
    "z = int(input(\"Ingrese la cantidad de iteraciones que realiza el programa: \"))\n",
    "n = 0\n",
    "suma = 0\n",
    "x1 = math.radians(x) # Convierte en radianes el ángulo ingresado.\n",
    "while n <= z:\n",
    "    cos = ((-1) ** n)\n",
    "    cos_1 = decimal.Decimal(math.factorial(2 * n))\n",
    "    cos_2 = x1 ** (2. * n)\n",
    "    y = ((cos * cos_2)*1.0)/float(cos_1)\n",
    "    suma += y\n",
    "    n += 1\n",
    "print(\"El coseno es %.4f\"% suma) # Coseno del ángulo usando la definición de Taylor.\n",
    "\n",
    "print(math.cos(x1)) # Coseno del angulo usando un función de Python"
   ]
  },
  {
   "cell_type": "markdown",
   "metadata": {
    "id": "dtfaQP9UvbLp"
   },
   "source": [
    "2) crear una funcion cos_taylor(x,k) que acepta dos parametros x y k y vuelve valor de cos(x) para dado numero de termos k\n",
    "* (intenta con x=0.2 y k=2 para comparar con resultado de punto 1)"
   ]
  },
  {
   "cell_type": "code",
   "execution_count": 10,
   "metadata": {
    "id": "crZFHttTt0qM"
   },
   "outputs": [
    {
     "name": "stdout",
     "output_type": "stream",
     "text": [
      "0.984195607969242\n"
     ]
    }
   ],
   "source": [
    "def Cos_Taylor(x, k):\n",
    "    x = x\n",
    "    z = k\n",
    "    n = 0\n",
    "    suma = 0\n",
    "    x1 = math.radians(x)\n",
    "    while n <= z:\n",
    "        cos = ((-1) ** n)\n",
    "        cos_1 = decimal.Decimal(math.factorial(2 * n))\n",
    "        cos_2 = x1 ** (2. * n)\n",
    "        y = ((cos * cos_2)*1.0)/float(cos_1)\n",
    "        suma += y\n",
    "        n += 1\n",
    "    return suma\n",
    "\n",
    "print(Cos_Taylor(10.2, 10))"
   ]
  },
  {
   "cell_type": "markdown",
   "metadata": {},
   "source": [
    "3) crear un vector xvec que tiene 100 elementos en rango de $-\\pi$: $\\pi$ y usando loop for para cada elemento de este vector llama la funcion cos_taylor(x,k) y guarda resultados en una lista \"cos_approx=[]\" usando methodo append (cos_approx.append()). usa valor de k=3 \n",
    "* (pista sobre loop: for x in xvec:...)"
   ]
  },
  {
   "cell_type": "code",
   "execution_count": 4,
   "metadata": {
    "id": "akVX4Z2At5j4"
   },
   "outputs": [],
   "source": [
    "xvec = [i for i in np.linspace(- math.pi , math.pi, 100)]\n",
    "Cos_approx = []\n",
    "for i in range(0, len(xvec)):\n",
    "    y = Cos_Taylor(xvec[i], 3)\n",
    "    Cos_approx.append(y)\n",
    "    "
   ]
  },
  {
   "cell_type": "markdown",
   "metadata": {
    "id": "tbYPG9vFyrSR"
   },
   "source": [
    "4) hacer visualizacion de dos curvas en mismo plot:\n",
    "* xvec vs cos_approx (label: Taylor approximation)\n",
    "* xvec vs np.cos(xvec) (label: cos(x))\n",
    "* usa labels para cada curva"
   ]
  },
  {
   "cell_type": "code",
   "execution_count": 5,
   "metadata": {
    "colab": {
     "base_uri": "https://localhost:8080/"
    },
    "id": "oRRK2xcrwizh",
    "outputId": "5bd12ee5-9c82-4fb3-c437-0ef5649374c4"
   },
   "outputs": [
    {
     "data": {
      "text/plain": [
       "<matplotlib.legend.Legend at 0x7f4726b22f98>"
      ]
     },
     "execution_count": 5,
     "metadata": {},
     "output_type": "execute_result"
    },
    {
     "data": {
      "image/png": "[encoded data removed]",
      "text/plain": [
       "<Figure size 432x288 with 1 Axes>"
      ]
     },
     "metadata": {
      "needs_background": "light"
     },
     "output_type": "display_data"
    }
   ],
   "source": [
    "fig, ax = plt.subplots()\n",
    "ax.set_title('Visualización de curvas')\n",
    "ax.plot(xvec, Cos_approx, color='blue', label='Taylor approximation')\n",
    "ax.plot(xvec,np.cos(xvec),color='purple',label='$cos(x)$')\n",
    "ax.legend()"
   ]
  },
  {
   "cell_type": "code",
   "execution_count": 6,
   "metadata": {
    "id": "rxqQlzbmy4xu"
   },
   "outputs": [],
   "source": [
    "# Comentarios:\n",
    "\n",
    "# Exercise 1:\n",
    "#   compilation (max: 2.5p):                     2.5p   \n",
    "#   correctness of the result (max: 2.5p):       0.0p \n",
    "#   implementation of the function (max: 2.5p):  2.5p \n",
    "#   plot (max: 2.5p):                            0.0p \n",
    "\n",
    "# TOTAL:                                         10p (out of 10p)  \n",
    "\n"
   ]
  },
  {
   "cell_type": "code",
   "execution_count": null,
   "metadata": {},
   "outputs": [],
   "source": []
  },
  {
   "cell_type": "code",
   "execution_count": null,
   "metadata": {},
   "outputs": [],
   "source": []
  },
  {
   "cell_type": "code",
   "execution_count": null,
   "metadata": {},
   "outputs": [],
   "source": []
  }
 ],
 "metadata": {
  "colab": {
   "collapsed_sections": [],
   "name": "jose.ipynb",
   "provenance": []
  },
  "kernelspec": {
   "display_name": "Python 3",
   "language": "python",
   "name": "python3"
  },
  "language_info": {
   "codemirror_mode": {
    "name": "ipython",
    "version": 3
   },
   "file_extension": ".py",
   "mimetype": "text/x-python",
   "name": "python",
   "nbconvert_exporter": "python",
   "pygments_lexer": "ipython3",
   "version": "3.7.2"
  }
 },
 "nbformat": 4,
 "nbformat_minor": 1
}
