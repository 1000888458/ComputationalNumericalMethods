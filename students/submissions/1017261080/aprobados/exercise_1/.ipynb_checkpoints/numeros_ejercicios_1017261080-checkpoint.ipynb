{
 "cells": [
  {
   "cell_type": "markdown",
   "id": "secret-integration",
   "metadata": {},
   "source": [
    "# Exercicios sobre numeros :"
   ]
  },
  {
   "cell_type": "markdown",
   "id": "concrete-accessory",
   "metadata": {},
   "source": [
    "#### 1. Imprime primero 10 numeros naturales (1,2,3,4,5,6,7,8,9,10) usando \"for loop\" y print ()"
   ]
  },
  {
   "cell_type": "code",
   "execution_count": 1,
   "id": "academic-jaguar",
   "metadata": {},
   "outputs": [
    {
     "name": "stdout",
     "output_type": "stream",
     "text": [
      "1\n",
      "2\n",
      "3\n",
      "4\n",
      "5\n",
      "6\n",
      "7\n",
      "8\n",
      "9\n",
      "10\n"
     ]
    }
   ],
   "source": [
    "# tu codigo aqui:\n",
    "for i in range(10):\n",
    "    i += 1\n",
    "    print(i)"
   ]
  },
  {
   "cell_type": "markdown",
   "id": "answering-farming",
   "metadata": {},
   "source": [
    "#### 2. Imprime primero 10 numeros naturales (1,2,3,4,5,6,7,8,9,10)  usando \"while loop\" y print ()"
   ]
  },
  {
   "cell_type": "code",
   "execution_count": 2,
   "id": "later-preparation",
   "metadata": {},
   "outputs": [
    {
     "name": "stdout",
     "output_type": "stream",
     "text": [
      "1\n",
      "2\n",
      "3\n",
      "4\n",
      "5\n",
      "6\n",
      "7\n",
      "8\n",
      "9\n",
      "10\n"
     ]
    }
   ],
   "source": [
    "# tu codigo aqui:\n",
    "i = 0\n",
    "while i< 10:\n",
    "    i += 1\n",
    "    print(i)"
   ]
  },
  {
   "cell_type": "markdown",
   "id": "accepted-austria",
   "metadata": {},
   "source": [
    "#### 3. Calcular la soma de numeros (1+2+3+4+5+6+7+8+9+10) usando \"for loop\" y guarda resultado en variable \"my_result\""
   ]
  },
  {
   "cell_type": "code",
   "execution_count": 3,
   "id": "automated-balance",
   "metadata": {},
   "outputs": [
    {
     "name": "stdout",
     "output_type": "stream",
     "text": [
      "55\n"
     ]
    }
   ],
   "source": [
    "# tu codigo aqui:\n",
    "my_result=0\n",
    "for i in range(10):\n",
    "    my_result +=i +1\n",
    "print(my_result)"
   ]
  },
  {
   "cell_type": "markdown",
   "id": "graphic-accessory",
   "metadata": {},
   "source": [
    "#### 4. Calcular la soma de numeros (1+2+3+4+5+6+7+8+9+10) usando \"while loop\" y guardar resultado en variable \"my_result\""
   ]
  },
  {
   "cell_type": "code",
   "execution_count": 4,
   "id": "higher-gothic",
   "metadata": {},
   "outputs": [
    {
     "name": "stdout",
     "output_type": "stream",
     "text": [
      "55\n"
     ]
    }
   ],
   "source": [
    "# tu codigo aqui:\n",
    "suma = 0\n",
    "i = 0\n",
    "while (i < 10):\n",
    "    #print(i)\n",
    "    i = i + 1\n",
    "    suma = i+suma\n",
    "    #print(i)\n",
    "print(suma)"
   ]
  },
  {
   "cell_type": "markdown",
   "id": "industrial-climate",
   "metadata": {},
   "source": [
    "#### 5. Calcular la soma de numeros par (2+4+6+8+10.. + ...100) usando \"for loop\" y guardar resultado en variable \"my_result\" (pista: usa condicion \"if\" y \"%\")"
   ]
  },
  {
   "cell_type": "code",
   "execution_count": 5,
   "id": "biological-deviation",
   "metadata": {},
   "outputs": [
    {
     "name": "stdout",
     "output_type": "stream",
     "text": [
      "La suma de los primeros 100 números pares es: 2550\n"
     ]
    }
   ],
   "source": [
    "# tu codigo aqui:\n",
    "#print(1%2)\n",
    "my_result= 0\n",
    "for i in range(1,102):\n",
    "    if i%2 ==0:\n",
    "        my_result +=i \n",
    "        #print(i%2,i, my_result)\n",
    "print('La suma de los primeros 100 números pares es:', my_result)\n",
    "    "
   ]
  },
  {
   "cell_type": "markdown",
   "id": "sticky-color",
   "metadata": {},
   "source": [
    "#### 6. Calcular la soma de numeros impar (1+3+5+7+9+... + ...99) usando \"while loop\" y guardar resultado en variable \"my_result\" (pista: usa condicion \"if\" y \"%\")"
   ]
  },
  {
   "cell_type": "code",
   "execution_count": 6,
   "id": "radical-poetry",
   "metadata": {},
   "outputs": [
    {
     "name": "stdout",
     "output_type": "stream",
     "text": [
      "El resultado de la suma de los primeros 100 números impares:  2500\n"
     ]
    }
   ],
   "source": [
    "# tu codigo aqui:\n",
    "my_result = 0\n",
    "i = 0\n",
    "while i<100:\n",
    "    i =i+1\n",
    "    if i%2 ==1:\n",
    "        #print(i, i%2)\n",
    "        my_result= my_result+i\n",
    "print('El resultado de la suma de los primeros 100 números impares: ',my_result)"
   ]
  },
  {
   "cell_type": "markdown",
   "id": "passing-botswana",
   "metadata": {},
   "source": [
    "#### 7. Definir una function que se llama func_sum_even_odd(b) que recibe un parametro \"b\" - valor numerico. La funcion calcula soma de numeros pares y numeros impares separamente entre 0 y b (los dos valores incluidos) . La funcion guarda resultados en dos variables en sum_even, sum_odd y devuelve ambos usando \"return\". (usa metodo: while)\n",
    "\n",
    "ejemplo de ejecucion:   \n",
    "sum_even,sum_odd = func_sum_even_odd(10)  \n",
    "print(sum_even,sum_odd)  \n",
    "30,25  \n",
    "\n",
    "#### Pero si \"b\" no es ni integer ni float funcion devuelve sum_even=0,y sum_odd=0 y imprime mensaje: \"argument must be an integer or float\"   (usa: \"isinstance\" o negacion de isinstance: \"not isinstance\" conjunto con operador logico \"or\" para verificar si el argumento es int of float)\n",
    "\n",
    "ejemplo de ejecucion:  \n",
    "sum_even,sum_odd = func_sum_even_odd('z')  \n",
    "\"argument must be an integer or float\"  "
   ]
  },
  {
   "cell_type": "code",
   "execution_count": 7,
   "id": "undefined-reach",
   "metadata": {},
   "outputs": [
    {
     "name": "stdout",
     "output_type": "stream",
     "text": [
      "Ingrese el valor del límite superior del intervalo: 5\n",
      "9 6\n"
     ]
    }
   ],
   "source": [
    "# tu codigo aqui\n",
    "\n",
    "# Planteamiento del funcionamiento interno de la función\n",
    "b = (input('Ingrese el valor del límite superior del intervalo: '))\n",
    "sum_even = 0\n",
    "sum_odd = 0\n",
    "i = 0\n",
    "\n",
    "while i<int(b):\n",
    "    i =i+1\n",
    "    if i%2 ==1:\n",
    "        #print(i, i%2)\n",
    "        sum_odd= sum_odd+i\n",
    "    if i%2 ==0:\n",
    "        sum_even = sum_even +i\n",
    "\n",
    "print(sum_odd, sum_even)"
   ]
  },
  {
   "cell_type": "code",
   "execution_count": 10,
   "id": "joint-tuition",
   "metadata": {},
   "outputs": [
    {
     "name": "stdout",
     "output_type": "stream",
     "text": [
      "650\n",
      "625\n"
     ]
    }
   ],
   "source": [
    "def func_sum_even_odd(b):\n",
    "    if type(b) != float and type(b) != int:\n",
    "        print('El argumento debe ser entero, por favor ingrese un número valido')\n",
    "    else:\n",
    "        sum_even = 0\n",
    "        sum_odd = 0\n",
    "        i = 0\n",
    "\n",
    "        while i<int(b):\n",
    "            i =i+1\n",
    "            if i%2 ==1:\n",
    "                #print(i, i%2)\n",
    "                sum_odd= sum_odd+i\n",
    "            if i%2 ==0:\n",
    "                sum_even = sum_even +i\n",
    "    return sum_even,sum_odd\n",
    "\n",
    "sum1, sum2 = func_sum_even_odd(50)\n",
    "print(sum1)\n",
    "print(sum2)"
   ]
  },
  {
   "cell_type": "markdown",
   "id": "interstate-sport",
   "metadata": {},
   "source": [
    "#### 8. Modifica funcion anterior y usa conjunto: try:... except:... (mira arriva en el texto de la classe)\n",
    "try:   \n",
    "--->intenta hacer si no sale error  \n",
    "except:  \n",
    "--->hace otra cosa si sale error    "
   ]
  },
  {
   "cell_type": "code",
   "execution_count": 11,
   "id": "fewer-press",
   "metadata": {},
   "outputs": [
    {
     "name": "stdout",
     "output_type": "stream",
     "text": [
      "420 400\n"
     ]
    }
   ],
   "source": [
    "# tu codigo aqui\n",
    "def func_sum_even_odd(b):\n",
    "    try:\n",
    "        sum_even = 0\n",
    "        sum_odd = 0\n",
    "        i = 0\n",
    "\n",
    "        while i<int(b):\n",
    "            i =i+1\n",
    "            if i%2 ==1:\n",
    "                #print(i, i%2)\n",
    "                sum_odd= sum_odd+i\n",
    "            if i%2 ==0:\n",
    "                sum_even = sum_even +i\n",
    "    except:\n",
    "        print('El argumento debe ser entero, por favor ingrese un número valido')\n",
    "    return sum_even,sum_odd\n",
    "\n",
    "sum1, sum2 = func_sum_even_odd(40)\n",
    "print(sum1,sum2)"
   ]
  },
  {
   "cell_type": "code",
   "execution_count": null,
   "id": "warming-singer",
   "metadata": {},
   "outputs": [],
   "source": []
  },
  {
   "cell_type": "code",
   "execution_count": null,
   "id": "specified-express",
   "metadata": {},
   "outputs": [],
   "source": []
  }
 ],
 "metadata": {
  "kernelspec": {
   "display_name": "Python 3",
   "language": "python",
   "name": "python3"
  },
  "language_info": {
   "codemirror_mode": {
    "name": "ipython",
    "version": 3
   },
   "file_extension": ".py",
   "mimetype": "text/x-python",
   "name": "python",
   "nbconvert_exporter": "python",
   "pygments_lexer": "ipython3",
   "version": "3.7.2"
  }
 },
 "nbformat": 4,
 "nbformat_minor": 5
}
