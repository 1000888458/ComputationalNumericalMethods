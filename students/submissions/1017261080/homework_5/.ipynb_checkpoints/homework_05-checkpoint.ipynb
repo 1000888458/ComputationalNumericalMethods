{
 "cells": [
  {
   "cell_type": "markdown",
   "metadata": {},
   "source": [
    "## This script makes a cuadratic interpolation for some data\n",
    "\n",
    "##### Mario Jose Felix Rojas author 1017261080"
   ]
  },
  {
   "cell_type": "code",
   "execution_count": 39,
   "metadata": {},
   "outputs": [],
   "source": [
    "import numpy as np\n",
    "def cuadratic_interp(x,y,xinterp):\n",
    "    #The coefficients for the approximation:\n",
    "    b_0 = y[0]\n",
    "    b_1 = ((y[1]-y[0])/(x[1]-x[0]))\n",
    "    b_2 = (((y[2]-y[1])/(x[2]-x[1]))- b_1)/(x[2]-x[0])\n",
    "    #So the interpolation gave:\n",
    "    yinterp = b_0+b_1*(xinterp-x[0])+b_2*(xinterp-x[0])*(xinterp-x[1])\n",
    "    return yinterp"
   ]
  },
  {
   "cell_type": "code",
   "execution_count": 40,
   "metadata": {},
   "outputs": [
    {
     "name": "stdout",
     "output_type": "stream",
     "text": [
      "0.3010299956639812\n",
      "0.6020599913279624\n",
      "0.7781512503836436\n"
     ]
    }
   ],
   "source": [
    "import matplotlib.pyplot as plt\n",
    "x = [2,4,6]\n",
    "y = []\n",
    "for i in range(0,3):\n",
    "    y.append(np.log10(x[i]))\n",
    "    print(np.log10(x[i]))\n",
    "y = np.array(y)\n",
    "x1 = np.linspace(0,9,14)\n",
    "y1 = cuadratic_interp(x,y,x1)"
   ]
  },
  {
   "cell_type": "code",
   "execution_count": 41,
   "metadata": {},
   "outputs": [
    {
     "data": {
      "text/plain": [
       "[<matplotlib.lines.Line2D at 0x1190a940808>]"
      ]
     },
     "execution_count": 41,
     "metadata": {},
     "output_type": "execute_result"
    },
    {
     "data": {
      "image/png": "[encoded data removed]",
      "text/plain": [
       "<Figure size 432x288 with 1 Axes>"
      ]
     },
     "metadata": {
      "needs_background": "light"
     },
     "output_type": "display_data"
    }
   ],
   "source": [
    "plt.plot(x,y,'o')\n",
    "plt.plot(x1,y1,'-')"
   ]
  },
  {
   "cell_type": "code",
   "execution_count": null,
   "metadata": {},
   "outputs": [],
   "source": []
  },
  {
   "cell_type": "code",
   "execution_count": null,
   "metadata": {},
   "outputs": [],
   "source": []
  }
 ],
 "metadata": {
  "kernelspec": {
   "display_name": "Python 3",
   "language": "python",
   "name": "python3"
  },
  "language_info": {
   "codemirror_mode": {
    "name": "ipython",
    "version": 3
   },
   "file_extension": ".py",
   "mimetype": "text/x-python",
   "name": "python",
   "nbconvert_exporter": "python",
   "pygments_lexer": "ipython3",
   "version": "3.7.4"
  }
 },
 "nbformat": 4,
 "nbformat_minor": 2
}
