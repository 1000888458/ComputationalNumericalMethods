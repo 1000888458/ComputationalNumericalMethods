{
 "cells": [
  {
   "cell_type": "markdown",
   "id": "dominant-appreciation",
   "metadata": {},
   "source": [
    "# Examen parcial 3 (calculo numerico y algebra lineal)\n",
    "* Antes de enviar el archivo, $\\textbf{reiniciar y ejecutar el kernel}$ para ver que el archivo se compila sin errores\n",
    "* enviar el archivo jupyter sin anexos antes de las 10.10am del 30.03.2022 a mi dirección de correo electrónico: michal.hemmerling@udea.edu.co "
   ]
  },
  {
   "cell_type": "markdown",
   "id": "moving-medication",
   "metadata": {},
   "source": [
    "Realizado por Mario José Felix Rojas  \n",
    "\n",
    "1017261080"
   ]
  },
  {
   "cell_type": "markdown",
   "id": "eleven-mounting",
   "metadata": {},
   "source": [
    "# Ejercicio 1"
   ]
  },
  {
   "cell_type": "markdown",
   "id": "institutional-aquarium",
   "metadata": {},
   "source": [
    "El archivo $\\textbf{data_radius_density.csv}$ contiene dos columnas: radio ($ r $) y la densidad ($ \\rho (r) $) de un disco plano en función del radio\n",
    "\n",
    "El disco es lo suficientemente delgado como para que, con fines matemáticos, podamos tratarlo como un objeto bidimensional. Asumimos que la densidad se da en términos de masa por unidad de área (llamada densidad de área), y además asumimos que la densidad varía solo a lo largo del radio del disco (llamada densidad radial). Orientamos el disco en el plano xy, con el centro en el origen. Entonces, la densidad del disco puede ser tratada como una función de x, denotada $\\rho(x)$.\n",
    "<table><tr>\n",
    "<td> <img src=\"disk_radius_density.png\" width=\"500\" /> </td>\n",
    "</tr></table>   \n",
    "\n",
    "* a) importar los datos usando Pandas, graficar la densidad del disco frente a su radio (los gráficos deben tener etiquetas para el eje `x` y el eje `y`).\n",
    "\n",
    "* b) sabiendo que la masa del disco viene dada por una integral:\n",
    "$$ m = \\int_0^{r} 2 \\pi \\ r * \\rho (r) \\ dr $$\n",
    "     calcular la masa del disco mediante integración numérica\n",
    "\n",
    "* Pista:`x`: is radius and `y`: is ***integrand***\n"
   ]
  },
  {
   "cell_type": "markdown",
   "id": "extra-behalf",
   "metadata": {},
   "source": [
    "#### Primer numeral"
   ]
  },
  {
   "cell_type": "code",
   "execution_count": 1,
   "id": "super-parent",
   "metadata": {},
   "outputs": [],
   "source": [
    "import pandas as pd\n",
    "import matplotlib.pyplot as plt\n"
   ]
  },
  {
   "cell_type": "code",
   "execution_count": 2,
   "id": "sapphire-scholarship",
   "metadata": {},
   "outputs": [
    {
     "name": "stdout",
     "output_type": "stream",
     "text": [
      "      radius   density\n",
      "0   0.000000  0.000000\n",
      "1   0.040404  0.201008\n",
      "2   0.080808  0.284268\n",
      "3   0.121212  0.348155\n",
      "4   0.161616  0.402015\n",
      "..       ...       ...\n",
      "95  3.838384  1.959179\n",
      "96  3.878788  1.969464\n",
      "97  3.919192  1.979695\n",
      "98  3.959596  1.989873\n",
      "99  4.000000  2.000000\n",
      "\n",
      "[100 rows x 2 columns]\n"
     ]
    }
   ],
   "source": [
    "df = pd.read_csv (r'data_radius_density.csv')\n",
    "print(df)"
   ]
  },
  {
   "cell_type": "code",
   "execution_count": 3,
   "id": "thrown-excess",
   "metadata": {
    "scrolled": true
   },
   "outputs": [
    {
     "data": {
      "text/plain": [
       "<matplotlib.legend.Legend at 0x2271cdf6308>"
      ]
     },
     "execution_count": 3,
     "metadata": {},
     "output_type": "execute_result"
    },
    {
     "data": {
      "image/png": "[encoded data removed]",
      "text/plain": [
       "<Figure size 432x288 with 1 Axes>"
      ]
     },
     "metadata": {
      "needs_background": "light"
     },
     "output_type": "display_data"
    }
   ],
   "source": [
    "x =df['radius']\n",
    "y =df['density']\n",
    "fig, ax = plt.subplots(1)\n",
    "ax.set_title('Density vs radius')\n",
    "ax.plot(x,y,'.k', label='Data')\n",
    "ax.set_xlabel('Radius')\n",
    "ax.set_ylabel('Density')\n",
    "ax.grid()\n",
    "ax.legend()"
   ]
  },
  {
   "cell_type": "markdown",
   "id": "worldwide-gazette",
   "metadata": {},
   "source": [
    "#### Segundo numeral"
   ]
  },
  {
   "cell_type": "code",
   "execution_count": 4,
   "id": "loving-first",
   "metadata": {},
   "outputs": [],
   "source": [
    "import scipy.integrate as integrate # Se importan las librerias para resolver el problema\n",
    "import numpy as np"
   ]
  },
  {
   "cell_type": "markdown",
   "id": "cutting-speaker",
   "metadata": {},
   "source": [
    "como solo se conocen los datos, entonces se integra usando estos datos con integrate y la regla de Simpson"
   ]
  },
  {
   "cell_type": "code",
   "execution_count": 5,
   "id": "recognized-inspection",
   "metadata": {},
   "outputs": [
    {
     "name": "stdout",
     "output_type": "stream",
     "text": [
      "El valor de la integral para el método de Simpson es: 33.5040\n"
     ]
    }
   ],
   "source": [
    "I_simps=2*np.pi*integrate.simps(y,x)\n",
    "print('El valor de la integral para el método de Simpson es: %.4f'%I_simps)"
   ]
  },
  {
   "cell_type": "markdown",
   "id": "lined-kentucky",
   "metadata": {},
   "source": [
    "# Ejercicio 2"
   ]
  },
  {
   "cell_type": "markdown",
   "id": "occasional-advisory",
   "metadata": {},
   "source": [
    "La capacidad calorífica de un gas muy frío se puede aproximar mediante:\n",
    "\n",
    "$$ C_v \\approx \\left (\\frac{dP}{dT} \\right) $$\n",
    "(en las unidades de $ \\left [\\frac {J} {K} \\right] $)\n",
    "\n",
    "Donde $P$ es la presión $ [J / s^3] $ del gas y $ T \\ [K] $ es la temperatura del gas.\n",
    "\n",
    "Los datos para la presión frente a la temperatura se dan en el archivo csv ($ \\textbf{data_pressure_vs_temperature.csv} $).\n",
    "\n",
    "* a) importar los datos usando pandas\n",
    "* b) hacer un gráfico de $P$ vs $T$ (grafico tiene que tener etiquietas)\n",
    "* c) utilizando la derivada numérica, encuentre la capacidad calorífica.\n",
    "* d) hacer un gráfico de $C_v$ vs $T$ (grafico tiene que tener etiquietas)\n",
    "* e) usando el ultimo grafico hace una estimacion de Temperatura Critica de este gas (Temperatura Critica es Temperatura de cambio abrupto del comportamiento de Capacidad Termica)\n",
    "* f) hace interpolacion cubica (100 puntos) de los valores de pression $P$, repite puntos `c)` y `d)`\n",
    "\n",
    "*gas muy frío se refiere a un gas Bose no homogéneo, y la teoría que relaciona $ C_v $ y $ P $ se refiere a la Teoría de Variables Globales Termodinámicas. La presión en realidad se llama parámetro de presión."
   ]
  },
  {
   "cell_type": "code",
   "execution_count": 6,
   "id": "designing-estimate",
   "metadata": {},
   "outputs": [],
   "source": [
    "# Se importan los datos\n",
    "df1 = pd.read_csv (r'data_pressure_vs_temperature.csv')\n",
    "xx = df1['Temperature']\n",
    "yy = df1['Pressure']"
   ]
  },
  {
   "cell_type": "code",
   "execution_count": 7,
   "id": "naked-choir",
   "metadata": {},
   "outputs": [
    {
     "data": {
      "text/plain": [
       "<matplotlib.legend.Legend at 0x2271d620b88>"
      ]
     },
     "execution_count": 7,
     "metadata": {},
     "output_type": "execute_result"
    },
    {
     "data": {
      "image/png": "[encoded data removed]",
      "text/plain": [
       "<Figure size 432x288 with 1 Axes>"
      ]
     },
     "metadata": {
      "needs_background": "light"
     },
     "output_type": "display_data"
    }
   ],
   "source": [
    "# Grafica de P vs T\n",
    "fig1,ax1 = plt.subplots(1)\n",
    "ax1.plot(xx,yy, '.k',label='Data')\n",
    "ax1.set_title('Pressure vs temperature')\n",
    "ax1.set_xlabel('Temperature [K]')\n",
    "ax1.set_ylabel('Pressure [Pa]')\n",
    "ax1.grid()\n",
    "ax1.legend()"
   ]
  },
  {
   "cell_type": "markdown",
   "id": "complete-shelter",
   "metadata": {},
   "source": [
    "Se sabe que para un gas de Bose se tiene que la capacidad calorífica se puede aproximar \n",
    "$$ C_v \\approx \\left (\\frac{dP}{dT} \\right) $$"
   ]
  },
  {
   "cell_type": "code",
   "execution_count": 8,
   "id": "divided-cincinnati",
   "metadata": {},
   "outputs": [
    {
     "name": "stdout",
     "output_type": "stream",
     "text": [
      "31\n"
     ]
    }
   ],
   "source": [
    "# Se usa gradient puesto que se tienen datos de la presión y la temperatura\n",
    "dPdT = np.gradient(yy,xx)\n",
    "print(len(dPdT))"
   ]
  },
  {
   "cell_type": "code",
   "execution_count": 9,
   "id": "younger-sustainability",
   "metadata": {
    "scrolled": true
   },
   "outputs": [
    {
     "data": {
      "image/png": "[encoded data removed]",
      "text/plain": [
       "<Figure size 432x288 with 1 Axes>"
      ]
     },
     "metadata": {
      "needs_background": "light"
     },
     "output_type": "display_data"
    }
   ],
   "source": [
    "fig2,ax2 = plt.subplots(1)\n",
    "ax2.set_title('$C_v$ vs Temperature')\n",
    "ax2.plot(xx,dPdT,'.k',label='Heat capacity')\n",
    "ax2.set_xlabel('Temperature [K]')\n",
    "ax2.set_ylabel('Heat capacity [J/K]')\n",
    "ax2.legend()\n",
    "ax2.grid()"
   ]
  },
  {
   "cell_type": "code",
   "execution_count": 10,
   "id": "proprietary-caribbean",
   "metadata": {},
   "outputs": [
    {
     "name": "stdout",
     "output_type": "stream",
     "text": [
      "El valor máximo de la capacidad calorífica es: 1.19770e-09\n",
      "La temperatura crítica es:  2.31478e-07 K\n"
     ]
    }
   ],
   "source": [
    "# Desde la grafica se puede ver que la temperatura crítica está dada aproximadamente para el valor de 1.2e-9 de capacidad\n",
    "print('El valor máximo de la capacidad calorífica es: %.5e'% max(dPdT))\n",
    "for i in range(0,len(dPdT)):\n",
    "    if dPdT[i] == max(dPdT):\n",
    "        print('La temperatura crítica es:  %.5e'%xx[i],'K')"
   ]
  },
  {
   "cell_type": "code",
   "execution_count": null,
   "id": "wrong-journalist",
   "metadata": {},
   "outputs": [],
   "source": []
  },
  {
   "cell_type": "markdown",
   "id": "eleven-memory",
   "metadata": {},
   "source": [
    "# Ejercicio 3"
   ]
  },
  {
   "cell_type": "markdown",
   "id": "gorgeous-suspect",
   "metadata": {},
   "source": [
    "Dada es Matrix $S$:\n",
    "\n",
    "$$S=\n",
    "\\begin{bmatrix}\n",
    "1 &  -1 & -1 & -1\\\\\n",
    "-1 &  2 & 0 & 0\\\\\n",
    "-1 &  3 & 3 & 0 \\\\\n",
    "-1 &  0 & 1 & 4 \\\\\n",
    "\\end{bmatrix}$$\n",
    "\n",
    "\n",
    "a) calcular $S^5$ utilizando diagonalización.  \n",
    "\n",
    "b) crear una funcion `matrix_power(A,n)` que recive dos parametros: matrix $A$, y valor entero de la potencia $n$. Funcion tiene que devolver una matrix $M=A^n$ (usa diagonalizacion)\n"
   ]
  },
  {
   "cell_type": "markdown",
   "id": "treated-print",
   "metadata": {},
   "source": [
    "Para encontrar la potencia $$A^n = P D^n P^{-1}$$"
   ]
  },
  {
   "cell_type": "code",
   "execution_count": 11,
   "id": "pointed-issue",
   "metadata": {},
   "outputs": [
    {
     "name": "stdout",
     "output_type": "stream",
     "text": [
      "La matriz S es:\n",
      " [[ 1 -1 -1 -1]\n",
      " [-1  2  0  0]\n",
      " [-1  3  3  0]\n",
      " [-1  0  1  4]]\n"
     ]
    }
   ],
   "source": [
    "S = np.array( [[ 1 ,-1, -1,-1],\n",
    "               [-1 , 2,  0, 0],\n",
    "               [-1 , 3,  3, 0],\n",
    "               [-1 ,0, 1,4]] )\n",
    "print('La matriz S es:\\n',S)"
   ]
  },
  {
   "cell_type": "code",
   "execution_count": 12,
   "id": "descending-thompson",
   "metadata": {},
   "outputs": [
    {
     "name": "stdout",
     "output_type": "stream",
     "text": [
      "[[-3.49561271e-01  7.94033408e-01  7.62229110e-02  8.88586496e-16]\n",
      " [ 1.21959906e-01  4.79650284e-01  3.61664456e-01  3.23122362e-16]\n",
      " [ 3.83368157e-01 -2.42866291e-01 -8.33174113e-01 -7.07106781e-01]\n",
      " [ 8.46145115e-01  2.83659156e-01  4.11351172e-01  7.07106781e-01]]\n"
     ]
    }
   ],
   "source": [
    "evalues, evectors = np.linalg.eig(S)\n",
    "P = evectors\n",
    "print(P)"
   ]
  },
  {
   "cell_type": "code",
   "execution_count": 13,
   "id": "solar-margin",
   "metadata": {},
   "outputs": [
    {
     "name": "stdout",
     "output_type": "stream",
     "text": [
      "(4, 4)\n"
     ]
    }
   ],
   "source": [
    "#Poniendo los autovalores dentro de la matriz:\n",
    "print(np.shape(S))"
   ]
  },
  {
   "cell_type": "code",
   "execution_count": 14,
   "id": "lonely-chaos",
   "metadata": {},
   "outputs": [],
   "source": [
    "D = np.zeros(np.shape(S))\n",
    "for i in range(3):\n",
    "    D[i,i] = evalues[i]"
   ]
  },
  {
   "cell_type": "code",
   "execution_count": 15,
   "id": "favorite-viewer",
   "metadata": {},
   "outputs": [
    {
     "name": "stdout",
     "output_type": "stream",
     "text": [
      "[[4.86619826 0.         0.         0.        ]\n",
      " [0.         0.34455762 0.         0.        ]\n",
      " [0.         0.         1.78924412 0.        ]\n",
      " [0.         0.         0.         0.        ]]\n"
     ]
    }
   ],
   "source": [
    "print(D) # Eigen-values matrix"
   ]
  },
  {
   "cell_type": "code",
   "execution_count": 16,
   "id": "packed-block",
   "metadata": {},
   "outputs": [
    {
     "name": "stdout",
     "output_type": "stream",
     "text": [
      "[[-0.5104852   0.79495719  0.58933991  0.58933991]\n",
      " [ 1.16666341  0.12636479  0.31915793  0.31915793]\n",
      " [-1.37511912  2.32933088 -0.6220131  -0.6220131 ]\n",
      " [ 0.94280904 -2.3570226  -0.47140452  0.94280904]]\n"
     ]
    }
   ],
   "source": [
    "P_1 = np.linalg.inv(evectors)\n",
    "print(P_1) # eigen-vectors matrix inverse"
   ]
  },
  {
   "cell_type": "code",
   "execution_count": 17,
   "id": "angry-england",
   "metadata": {},
   "outputs": [
    {
     "name": "stdout",
     "output_type": "stream",
     "text": [
      "[[23.67988553  0.          0.          0.        ]\n",
      " [ 0.          0.11871995  0.          0.        ]\n",
      " [ 0.          0.          3.20139452  0.        ]\n",
      " [ 0.          0.          0.          0.        ]]\n"
     ]
    }
   ],
   "source": [
    "print(D**2)"
   ]
  },
  {
   "cell_type": "code",
   "execution_count": 18,
   "id": "sealed-factor",
   "metadata": {},
   "outputs": [
    {
     "name": "stdout",
     "output_type": "stream",
     "text": [
      "[[  485.  -755.  -563.  -563.]\n",
      " [ -179.   280.   192.   192.]\n",
      " [ -513.   796.   626.   626.]\n",
      " [-1189.  1853.  1356.  1356.]]\n"
     ]
    }
   ],
   "source": [
    "# Así el valor de S**5 es:\n",
    "S_5 = np.matmul(P,np.matmul(D**5,P_1))\n",
    "print(S_5)"
   ]
  },
  {
   "cell_type": "code",
   "execution_count": 19,
   "id": "scenic-dominican",
   "metadata": {},
   "outputs": [],
   "source": [
    "#La función potencia se puede desarrollar:\n",
    "\n",
    "def matrix_power(A,n):\n",
    "    evalues, evectors = np.linalg.eig(A) # Obtiene los eigen vectors and values\n",
    "    P = evectors\n",
    "    D = np.zeros(np.shape(A))\n",
    "    P_1 = np.linalg.inv(P)\n",
    "    for i in range(3):\n",
    "        D[i,i] = evalues[i]\n",
    "    return np.matmul(P,np.matmul(D**n,P_1))"
   ]
  },
  {
   "cell_type": "code",
   "execution_count": 20,
   "id": "modified-latvia",
   "metadata": {},
   "outputs": [
    {
     "data": {
      "text/plain": [
       "array([[  485.,  -755.,  -563.,  -563.],\n",
       "       [ -179.,   280.,   192.,   192.],\n",
       "       [ -513.,   796.,   626.,   626.],\n",
       "       [-1189.,  1853.,  1356.,  1356.]])"
      ]
     },
     "execution_count": 20,
     "metadata": {},
     "output_type": "execute_result"
    }
   ],
   "source": [
    "matrix_power(S,5)"
   ]
  },
  {
   "cell_type": "markdown",
   "id": "approximate-studio",
   "metadata": {},
   "source": [
    "# Feedback:\n",
    "```\n",
    "Exercise 1.\n",
    "Importation of the data + labeled plot (rho vs. r)\t            (max 0.5p):\t0.5p\n",
    "Calculation of the integral                 \t\t              (max 1.5p):\t0.5p\n",
    "\n",
    "Exercise 2.\n",
    "Importation of the data + labeled plot P vs. T \t               (max 0.5p):\t0.5p\n",
    "Calculation of the derivative and plot Cv vs. T        \t\t   (max 2.0p):\t2.0p\n",
    "Approximation of the critical temperature                         (max 0.5p):\t0.5p\n",
    "Interpolation                                                     (max 1.0p):\t0.0p\n",
    "\n",
    "Exercise 3.\n",
    "Calculation of the M^n                                 \t       (max 2.0p):\t2.0p\n",
    "Function of the M^n                                    \t       (max 2.0p):\t2.0p\n",
    "\n",
    "- Total:                                                          (max 10.0p):   8.0p\n",
    "```"
   ]
  },
  {
   "cell_type": "code",
   "execution_count": null,
   "id": "particular-quarterly",
   "metadata": {},
   "outputs": [],
   "source": []
  }
 ],
 "metadata": {
  "kernelspec": {
   "display_name": "Python 3",
   "language": "python",
   "name": "python3"
  },
  "language_info": {
   "codemirror_mode": {
    "name": "ipython",
    "version": 3
   },
   "file_extension": ".py",
   "mimetype": "text/x-python",
   "name": "python",
   "nbconvert_exporter": "python",
   "pygments_lexer": "ipython3",
   "version": "3.7.2"
  }
 },
 "nbformat": 4,
 "nbformat_minor": 5
}
