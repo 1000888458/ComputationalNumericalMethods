{
 "cells": [
  {
   "cell_type": "markdown",
   "metadata": {},
   "source": [
    "### homework 6\n",
    "#### Author 1017261080"
   ]
  },
  {
   "cell_type": "code",
   "execution_count": 1,
   "metadata": {},
   "outputs": [],
   "source": [
    "import numpy as np\n",
    "def deriv(func,a,method,h):\n",
    "    \n",
    "    if method=='forward':\n",
    "        return (func(a + h) - func(a))/h\n",
    "    elif method=='central':\n",
    "        return (func(a + h) - func(a - h))/(2*h)\n",
    "    elif method=='backward':\n",
    "        return (func(a) - func(a - h))/h\n",
    "    else:\n",
    "        print('Please, the method should be one of the following string: \"central\", \"backward\" or \"forward\" ')"
   ]
  },
  {
   "cell_type": "code",
   "execution_count": 2,
   "metadata": {},
   "outputs": [],
   "source": [
    "#deriv(lambda x: x**3,a = 3.0,method='central',h=0.01)"
   ]
  },
  {
   "cell_type": "code",
   "execution_count": null,
   "metadata": {},
   "outputs": [],
   "source": []
  }
 ],
 "metadata": {
  "kernelspec": {
   "display_name": "Python 3",
   "language": "python",
   "name": "python3"
  },
  "language_info": {
   "codemirror_mode": {
    "name": "ipython",
    "version": 3
   },
   "file_extension": ".py",
   "mimetype": "text/x-python",
   "name": "python",
   "nbconvert_exporter": "python",
   "pygments_lexer": "ipython3",
   "version": "3.7.4"
  }
 },
 "nbformat": 4,
 "nbformat_minor": 2
}
