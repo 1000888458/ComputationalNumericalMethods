{
 "cells": [
  {
   "cell_type": "markdown",
   "metadata": {},
   "source": [
    "# Computational Methods - Homework 7\n",
    "## Universidad de Antioquia\n",
    "\n",
    "**Student:** Andrés Felipe Riaño Quintanilla\n",
    "\n",
    "**ID:** 1083928808 "
   ]
  },
  {
   "cell_type": "markdown",
   "metadata": {},
   "source": [
    "Calculate $S^5$ using two methods. in a \"for\" loop and using diagonalization. Compare the results.\n",
    "\n",
    "$$S=\n",
    "\\begin{bmatrix}\n",
    "1 &  -1 & -1 & -1\\\\\n",
    "-1 &  2 & 0 & 0\\\\\n",
    "-1 &  3 & 3 & 0 \\\\\n",
    "-1 &  0 & 1 & 4 \\\\\n",
    "\\end{bmatrix}$$"
   ]
  },
  {
   "cell_type": "markdown",
   "metadata": {},
   "source": [
    "**Defining S:**"
   ]
  },
  {
   "cell_type": "code",
   "execution_count": 6,
   "metadata": {},
   "outputs": [],
   "source": [
    "import numpy as np\n",
    "\n",
    "S = np.array([[1,-1,-1,-1],[-1,2,0,0],[-1,3,3,0],[-1,0,1,4]])"
   ]
  },
  {
   "cell_type": "markdown",
   "metadata": {},
   "source": [
    "**$S^5$ using a \"for\" loop:** "
   ]
  },
  {
   "cell_type": "code",
   "execution_count": 5,
   "metadata": {},
   "outputs": [
    {
     "name": "stdout",
     "output_type": "stream",
     "text": [
      "S^5 using a 'for' loop: \n",
      "\n",
      "[[  485.  -755.  -563.  -563.]\n",
      " [ -179.   280.   192.   192.]\n",
      " [ -675.  1201.   707.   464.]\n",
      " [-1027.  1448.  1275.  1518.]]\n"
     ]
    }
   ],
   "source": [
    "S5f = np.identity(len(S))\n",
    "\n",
    "for i in range(5):\n",
    "    \n",
    "    S5f = np.matmul(S5f,S)\n",
    "\n",
    "print(\"S^5 using a 'for' loop: \\n\\n{}\".format(S5f))"
   ]
  },
  {
   "cell_type": "markdown",
   "metadata": {},
   "source": [
    "**$S^5$ using diagonalization:**\n",
    "\n",
    "$$S^5=PD^5P^{-1}$$"
   ]
  },
  {
   "cell_type": "code",
   "execution_count": 13,
   "metadata": {},
   "outputs": [
    {
     "name": "stdout",
     "output_type": "stream",
     "text": [
      "P = \n",
      "[[-3.49561271e-01  7.94033408e-01  7.62229110e-02  7.27025315e-16]\n",
      " [ 1.21959906e-01  4.79650284e-01  3.61664456e-01  6.86635020e-16]\n",
      " [ 3.83368157e-01 -2.42866291e-01 -8.33174113e-01 -7.07106781e-01]\n",
      " [ 8.46145115e-01  2.83659156e-01  4.11351172e-01  7.07106781e-01]]\n",
      "\n",
      "D = \n",
      "[[4.86619826 0.         0.         0.        ]\n",
      " [0.         0.34455762 0.         0.        ]\n",
      " [0.         0.         1.78924412 0.        ]\n",
      " [0.         0.         0.         3.        ]]\n"
     ]
    }
   ],
   "source": [
    "E_val, E_vec = np.linalg.eig(S)  #Eigen values and eigen vectors.\n",
    "P = E_vec  \n",
    "Pinv = np.linalg.inv(P)\n",
    "D5 = np.zeros((len(S),len(S)))\n",
    "\n",
    "for i in range(len(S)):\n",
    "    D5[i,i] = (E_val[i])**5\n",
    "    \n",
    "print('P = \\n{}'.format(P))\n",
    "print('\\nD = \\n{}'.format(D))"
   ]
  },
  {
   "cell_type": "code",
   "execution_count": 19,
   "metadata": {},
   "outputs": [
    {
     "name": "stdout",
     "output_type": "stream",
     "text": [
      "S^5 using diagonalization: \n",
      "\n",
      "[[  485.  -755.  -563.  -563.]\n",
      " [ -179.   280.   192.   192.]\n",
      " [ -675.  1201.   707.   464.]\n",
      " [-1027.  1448.  1275.  1518.]]\n"
     ]
    }
   ],
   "source": [
    "S5d = np.matmul(P,np.matmul(D5,Pinv))\n",
    "\n",
    "print(\"S^5 using diagonalization: \\n\\n{}\".format(S5d))"
   ]
  },
  {
   "cell_type": "markdown",
   "metadata": {},
   "source": [
    "It seems that the results of using a \"for\" loop and using diagonalization were the same. But they are different in some decimal places:"
   ]
  },
  {
   "cell_type": "code",
   "execution_count": 30,
   "metadata": {},
   "outputs": [
    {
     "name": "stdout",
     "output_type": "stream",
     "text": [
      "[[ 5.68434189e-13 -9.09494702e-13 -1.02318154e-12 -1.13686838e-13]\n",
      " [ 2.27373675e-13 -1.70530257e-13 -1.98951966e-13 -8.52651283e-13]\n",
      " [-4.54747351e-13  9.09494702e-13  9.09494702e-13 -5.68434189e-13]\n",
      " [ 1.13686838e-12 -1.13686838e-12 -6.82121026e-13 -2.50111043e-12]]\n"
     ]
    }
   ],
   "source": [
    "print(S5f-S5d)"
   ]
  },
  {
   "cell_type": "markdown",
   "metadata": {},
   "source": [
    "The above matrix entries are approximately zero."
   ]
  }
 ],
 "metadata": {
  "kernelspec": {
   "display_name": "Python 3",
   "language": "python",
   "name": "python3"
  },
  "language_info": {
   "codemirror_mode": {
    "name": "ipython",
    "version": 3
   },
   "file_extension": ".py",
   "mimetype": "text/x-python",
   "name": "python",
   "nbconvert_exporter": "python",
   "pygments_lexer": "ipython3",
   "version": "3.8.5"
  }
 },
 "nbformat": 4,
 "nbformat_minor": 4
}
