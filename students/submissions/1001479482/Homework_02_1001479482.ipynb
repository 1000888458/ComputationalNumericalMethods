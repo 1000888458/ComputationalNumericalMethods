{
  "nbformat": 4,
  "nbformat_minor": 0,
  "metadata": {
    "colab": {
      "name": "Homework_02_1001479482.ipynb",
      "provenance": []
    },
    "kernelspec": {
      "name": "python3",
      "display_name": "Python 3"
    },
    "language_info": {
      "name": "python"
    }
  },
  "cells": [
    {
      "cell_type": "markdown",
      "metadata": {
        "id": "hpAke57KJYsF"
      },
      "source": [
        "**HOMEWORK 2: Least Action using Minimization**\\\n",
        "*Camila Posada Soto*"
      ]
    },
    {
      "cell_type": "code",
      "metadata": {
        "colab": {
          "base_uri": "https://localhost:8080/"
        },
        "id": "VZnmnjFmyRGO",
        "outputId": "44aecbb7-94a2-496e-ac1a-12945e29ffdf"
      },
      "source": [
        "%pylab inline\n",
        "import numpy as np\n",
        "import pandas as pd\n",
        "import matplotlib.pyplot as plt\n",
        "import scipy.optimize as optimize\n",
        "from scipy.optimize import minimize\n",
        "global g  \n",
        "g=9.8 #m/s^2"
      ],
      "execution_count": 2,
      "outputs": [
        {
          "output_type": "stream",
          "text": [
            "Populating the interactive namespace from numpy and matplotlib\n"
          ],
          "name": "stdout"
        }
      ]
    },
    {
      "cell_type": "markdown",
      "metadata": {
        "id": "ZDkAzUDjJyaB"
      },
      "source": [
        "*Functions given in class:*"
      ]
    },
    {
      "cell_type": "code",
      "metadata": {
        "id": "Ed-kr7Gw0Kaz"
      },
      "source": [
        "def S(x,tend=3.,m=0.2,xini=0.,xend=0.):\n",
        "    x=np.asarray(x)\n",
        "    Dt=tend/x[:-1].size\n",
        "    #Fix initial and final point\n",
        "    x[0]=xini\n",
        "    x[-1]=xend\n",
        "    return ( (0.5*m*(x[1:]-x[:-1])**2/Dt**2-0.5*m*g*(x[1:]+x[:-1]) )*Dt).sum()"
      ],
      "execution_count": 3,
      "outputs": []
    },
    {
      "cell_type": "code",
      "metadata": {
        "id": "dJRCYeJw1fRL"
      },
      "source": [
        "def xfit(n,t=3.,m=0.2,xini=0.,xend=0.,ftol=1E-8):\n",
        "    t=float(t)\n",
        "    if n%2==0:\n",
        "        print ( 'x array must be odd')\n",
        "        sys.exit()\n",
        "    x0=np.zeros(n)\n",
        "    a = optimize.fmin_powell(S,x0,args=(t,m,xini,xend),ftol=ftol,full_output=1)\n",
        "    x=a[0]\n",
        "    x[0]=xini;x[-1]=xend\n",
        "    xmax=np.sort(x)[-1]\n",
        "    Smin=a[1]\n",
        "    Dt=t/x[:-1].size #  t/(n-1)\n",
        "    return x,xmax,Smin,Dt"
      ],
      "execution_count": 4,
      "outputs": []
    },
    {
      "cell_type": "markdown",
      "metadata": {
        "id": "nXTkYkypJ3oa"
      },
      "source": [
        "*Parameters:*"
      ]
    },
    {
      "cell_type": "code",
      "metadata": {
        "id": "4q-bwEXc6ejz"
      },
      "source": [
        "t=3.0\n",
        "m=0.2 \n",
        "n=21"
      ],
      "execution_count": 5,
      "outputs": []
    },
    {
      "cell_type": "markdown",
      "metadata": {
        "id": "Z72vlPIqJ6-1"
      },
      "source": [
        "*Fmin powell method:*"
      ]
    },
    {
      "cell_type": "code",
      "metadata": {
        "colab": {
          "base_uri": "https://localhost:8080/"
        },
        "id": "0ibkiQn76iTQ",
        "outputId": "80b84c4f-96ee-47f4-ccf5-29faae0c25ef"
      },
      "source": [
        "#Minimization from class: fmin_powell\n",
        "y = xfit(n)\n",
        "print(y)"
      ],
      "execution_count": 36,
      "outputs": [
        {
          "output_type": "stream",
          "text": [
            "Optimization terminated successfully.\n",
            "         Current function value: -21.554977\n",
            "         Iterations: 28\n",
            "         Function evaluations: 5837\n",
            "(array([ 0.        ,  2.09485981,  3.96927762,  5.62312695,  7.05635241,\n",
            "        8.26906363,  9.26154883, 10.03312026, 10.58423427, 10.91506033,\n",
            "       11.02529045, 10.91501183, 10.58427987, 10.03303519,  9.26102159,\n",
            "        8.26869546,  7.05596305,  5.62273064,  3.9689361 ,  2.09464162,\n",
            "        0.        ]), 11.025290448185725, -21.55497732876534, 0.15)\n"
          ],
          "name": "stdout"
        }
      ]
    },
    {
      "cell_type": "markdown",
      "metadata": {
        "id": "u8Rv2ZrrKApp"
      },
      "source": [
        "*optimize.minimize method:*"
      ]
    },
    {
      "cell_type": "code",
      "metadata": {
        "id": "mTg-h3dz6xde"
      },
      "source": [
        "#Now using scipy.optimize.minimize\n",
        "x0=np.zeros(n)\n",
        "obj= optimize.minimize(S,x0, args=(t,m), method='SLSQP', tol=1E-8)"
      ],
      "execution_count": 15,
      "outputs": []
    },
    {
      "cell_type": "code",
      "metadata": {
        "colab": {
          "base_uri": "https://localhost:8080/"
        },
        "id": "2IeJxeK196P6",
        "outputId": "b62feed2-ce7d-4f1a-93f1-d29eea6c0e41"
      },
      "source": [
        "print('attributes:',dir(obj))"
      ],
      "execution_count": 18,
      "outputs": [
        {
          "output_type": "stream",
          "text": [
            "attributes: ['fun', 'jac', 'message', 'nfev', 'nit', 'njev', 'status', 'success', 'x']\n"
          ],
          "name": "stdout"
        }
      ]
    },
    {
      "cell_type": "code",
      "metadata": {
        "colab": {
          "base_uri": "https://localhost:8080/"
        },
        "id": "gg2jlHZV-Fmc",
        "outputId": "8151015d-c1aa-4819-b81f-2dcde4024cc4"
      },
      "source": [
        "print('function value:', obj.fun)"
      ],
      "execution_count": 19,
      "outputs": [
        {
          "output_type": "stream",
          "text": [
            "function value: -21.55497749985049\n"
          ],
          "name": "stdout"
        }
      ]
    },
    {
      "cell_type": "code",
      "metadata": {
        "colab": {
          "base_uri": "https://localhost:8080/"
        },
        "id": "T5eRrQqCCh4s",
        "outputId": "fd0ee245-afbb-40c1-c8f6-8b785c4b5ac1"
      },
      "source": [
        "otherx=obj.x\n",
        "otherx"
      ],
      "execution_count": 44,
      "outputs": [
        {
          "output_type": "execute_result",
          "data": {
            "text/plain": [
              "array([ 0.        ,  2.09474845,  3.96900267,  5.62274641,  7.05600199,\n",
              "        8.26874822,  9.26100029, 10.03274946, 10.58400069, 10.91474985,\n",
              "       11.02499964, 10.91475023, 10.58399946, 10.03275036,  9.26099903,\n",
              "        8.26875039,  7.05599649,  5.62275274,  3.96899728,  2.09475172,\n",
              "        0.        ])"
            ]
          },
          "metadata": {},
          "execution_count": 44
        }
      ]
    },
    {
      "cell_type": "code",
      "metadata": {
        "colab": {
          "base_uri": "https://localhost:8080/"
        },
        "id": "0k9lOvh2BdHa",
        "outputId": "0ab92c71-e343-4d60-fabe-dea14443f0e8"
      },
      "source": [
        "print('iterations:',obj.nit)"
      ],
      "execution_count": 28,
      "outputs": [
        {
          "output_type": "stream",
          "text": [
            "iterations: 15\n"
          ],
          "name": "stdout"
        }
      ]
    },
    {
      "cell_type": "code",
      "metadata": {
        "colab": {
          "base_uri": "https://localhost:8080/"
        },
        "id": "WdmjVloRBHeZ",
        "outputId": "1fa1f6e8-fe46-4243-fa5a-1158b20d21ef"
      },
      "source": [
        "print(obj.message)"
      ],
      "execution_count": 22,
      "outputs": [
        {
          "output_type": "stream",
          "text": [
            "Optimization terminated successfully.\n"
          ],
          "name": "stdout"
        }
      ]
    },
    {
      "cell_type": "markdown",
      "metadata": {
        "id": "OtOHDKMfKJEV"
      },
      "source": [
        "*Graph comparisson:*"
      ]
    },
    {
      "cell_type": "code",
      "metadata": {
        "colab": {
          "base_uri": "https://localhost:8080/"
        },
        "id": "oFt9yJPbBT5L",
        "outputId": "180715a7-ddfc-419d-fd21-eb77b86662d1"
      },
      "source": [
        "#Graph\n",
        "x=y[0]\n",
        "xmax=y[1]\n",
        "Smin=y[2]\n",
        "Dt=y[3]\n",
        "tx=np.linspace(0,t,n)"
      ],
      "execution_count": 40,
      "outputs": [
        {
          "output_type": "execute_result",
          "data": {
            "text/plain": [
              "array([0.  , 0.15, 0.3 , 0.45, 0.6 , 0.75, 0.9 , 1.05, 1.2 , 1.35, 1.5 ,\n",
              "       1.65, 1.8 , 1.95, 2.1 , 2.25, 2.4 , 2.55, 2.7 , 2.85, 3.  ])"
            ]
          },
          "metadata": {},
          "execution_count": 40
        }
      ]
    },
    {
      "cell_type": "code",
      "metadata": {
        "colab": {
          "base_uri": "https://localhost:8080/",
          "height": 295
        },
        "id": "_PNud00XE1ij",
        "outputId": "99b29a7a-1e42-4659-b049-02b806ceb9f1"
      },
      "source": [
        "plt.plot(tx,x,color='purple',label='$S_{\\mathrm{min}}=$%.2f J.s (fmin powell)' %Smin)\n",
        "plt.plot(tx,x,'ro')\n",
        "plt.plot(tx, otherx, color='green', label='$S_{\\mathrm{min}}=$%.2f J.s (optimize.minimize)' %Smin)\n",
        "plt.ylabel('x meters')\n",
        "plt.xlabel('t seconds')\n",
        "plt.title('x vs t')\n",
        "plt.legend(loc='best')\n",
        "plt.grid()"
      ],
      "execution_count": 52,
      "outputs": [
        {
          "output_type": "display_data",
          "data": {
            "image/png": "[encoded data removed]",
            "text/plain": [
              "<Figure size 432x288 with 1 Axes>"
            ]
          },
          "metadata": {
            "needs_background": "light"
          }
        }
      ]
    },
    {
      "cell_type": "markdown",
      "metadata": {
        "id": "h7KfAhvAItqz"
      },
      "source": [
        "**Conclusions**\n",
        "Finally, the two methods for least action are practically the same, because by seeing at the graph we notice that both of them are the same line."
      ]
    }
  ]
}