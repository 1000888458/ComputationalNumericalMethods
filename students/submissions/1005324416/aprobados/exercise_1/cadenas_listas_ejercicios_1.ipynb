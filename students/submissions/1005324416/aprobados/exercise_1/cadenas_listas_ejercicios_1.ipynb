{
 "cells": [
  {
   "cell_type": "raw",
   "id": "c7b6babb-8c58-426b-b818-ff3db34bf4b2",
   "metadata": {},
   "source": [
    "#Ejercicios resueltos despues de este cuadro\n",
    "\n",
    "\n",
    "\n",
    "\n",
    "\n",
    "# LEEME\n",
    "# Despues de ejecutar este codigo los resultados aparecen en la celula abajo\n",
    "# verifica sus respuestas!\n",
    "\n",
    "\n",
    "# Ejemplo\n",
    "# para una cadena dada, devuelva una nueva cadena hecha de \n",
    "# primer y último carácter \n",
    "# si la cadena tiene menos que dos caracteres devuelva la nueva cadena con solo el primer carácter\n",
    "# si la cadena es vacia devuelve cadena vacia\n",
    "\n",
    "def first_last(some_string):\n",
    "    if len(some_string)==0:\n",
    "        result=''\n",
    "    if len(some_string)==1:\n",
    "        result=some_string[0]\n",
    "    if len(some_string)>1:\n",
    "        result=some_string[0]+some_string[-1]\n",
    "    return result\n",
    "\n",
    "# A. donas\n",
    "# Dado un numero entero integer de un número de donas, devuelva una cadena\n",
    "# de la forma 'Numero de donas: <count>', donde <count> es el número\n",
    "# Sin embargo, si el recuento es 10 o más, use la palabra 'muchos'\n",
    "# Entonces donuts(5) devuelve 'Numero de donas: 5'\n",
    "# y donuts(23) devuelve 'Numero de donas: muchos\n",
    "\n",
    "def donuts(count):\n",
    "  # +++ su codigo aqui +++\n",
    "  return\n",
    "\n",
    "\n",
    "# B. both_ends\n",
    "# Dada una cadena s, devuelve una cadena hecha de las primeras 2\n",
    "# y los últimos 2 caracteres de la cuerda original,\n",
    "# así que 'spring' produce 'spng'. Sin embargo, \n",
    "# si la longitud de la cadena es menor que 2, \n",
    "# devuelva en su lugar la cadena vacía.\n",
    "def both_ends(s):\n",
    "  # +++ su codigo aqui +++\n",
    "  return \n",
    "\n",
    "\n",
    "# C. fix_start\n",
    "# Dada una cadena s, devuelve una cadena\n",
    "# donde todas las ocurrencias de su primer caracter tienen\n",
    "# se ha cambiado a '*', excepto que no cambie el primer char en sí.\n",
    "# por ejemplo, 'babble' produce 'ba**le'\n",
    "# Supongamos que la cadena tiene una longitud 1 o superior.\n",
    "# Sugerencia: s.replace(stra, strb) devuelve una versión de string s\n",
    "# donde todas las instancias de stra han sido reemplazadas por strb.\n",
    "def fix_start(s):\n",
    "  # +++ su codigo aqui +++\n",
    "  return\n",
    "\n",
    "\n",
    "# D. MixUp\n",
    "# Dadas las cadenas a y b, devuelve una sola cadena con a y b separadas\n",
    "# por un espacio '<a> <b>', excepto intercambiar los primeros 2 caracteres de cada cadena.\n",
    "# por ejemplo.\n",
    "#   'mix', pod' -> 'pox mid'\n",
    "#   'dog', 'dinner' -> 'dig donner'\n",
    "# Supongamos que a y b son de longitud 2 o más.\n",
    "def mix_up(a, b):\n",
    "  # +++ su codigo aqui +++\n",
    "  return \n",
    "\n",
    "\n",
    "# E. front_back\n",
    "# Considere dividir una cadena en dos mitades.\n",
    "# Si la longitud es par, las mitades delantera y trasera tienen la misma longitud.\n",
    "# Si la longitud es impar, diremos que el caracter extra va en la mitad delantera.\n",
    "# por ejemplo, 'abcde', la mitad delantera es 'abc', la mitad trasera 'de'.\n",
    "# Dadas 2 cadenas, a y b, devuelven una cadena de la forma\n",
    "# a-front + b-front + a-back + b-back\n",
    "# ejemplo si dos cadenas son pares: a='xyzt', b='abcd'. result='xyabztcd'\n",
    "\n",
    "def front_back(a, b):\n",
    "  # +++ su codigo aqui +++\n",
    "  return \n",
    "\n",
    "# Desafío\n",
    "# F. Extraer el valor del tiempo (time=...) como float de una cadena\n",
    "# conversion se hace usando float(14) que devuelve 14.0\n",
    "# recuerda que el valor del tiempo puede tener formato de dos digitos o tres digitos como\n",
    "# dd.dd o ddd.d o dd.dd... pero siempre terminará con la cadena 'ms'\n",
    "# ejemplo de cadena: \n",
    "# '64 bytes de bogota.net (172.217.173.36): ttl=117 time=14.4 ms'\n",
    "def extract_time(s):\n",
    "  # +++ su codigo aqui +++\n",
    "  return \n",
    "\n",
    "\n",
    "\n",
    "\n",
    "\n",
    "\n",
    "\n",
    "\n",
    "\n",
    "\n",
    "\n",
    "\n",
    "\n",
    "\n",
    "\n",
    "\n",
    "# DO NOT EDIT BELOW\n",
    "#############################################################################################################################################\n",
    "#############################################################################################################################################\n",
    "# Provided simple test() function used in main() to print\n",
    "# what each function returns vs. what it's supposed to return.\n",
    "def test(got, expected):\n",
    "  if got == expected:\n",
    "    prefix = ' OK '\n",
    "  else:\n",
    "    prefix = '  X '\n",
    "  print('%s got: %s expected: %s' % (prefix, repr(got), repr(expected)))\n",
    "\n",
    "\n",
    "# Provided main() calls the above functions with interesting inputs,\n",
    "# using test() to check if each result is correct or not.\n",
    "def main():\n",
    "    \n",
    "  print('example')\n",
    "  test(first_last('H'), 'H')\n",
    "  test(first_last('what an amazing day'), 'wy')\n",
    "  test(first_last(''), '')\n",
    "\n",
    "  print('donuts')\n",
    "  # Each line calls donuts, compares its result to the expected for that call.\n",
    "  test(donuts(4), 'Numbero de donas: 4')\n",
    "  test(donuts(9), 'Numbero de donas: 9')\n",
    "  test(donuts(10), 'Numbero de donas: muchos')\n",
    "  test(donuts(99), 'Numbero de donas: muchos')\n",
    "\n",
    "  print\n",
    "  print('both_ends')\n",
    "  test(both_ends('spring'), 'spng')\n",
    "  test(both_ends('Hello'), 'Helo')\n",
    "  test(both_ends('a'), '')\n",
    "  test(both_ends('xyz'), 'xyyz')\n",
    "\n",
    "  \n",
    "  print\n",
    "  print('fix_start')\n",
    "  test(fix_start('babble'), 'ba**le')\n",
    "  test(fix_start('aardvark'), 'a*rdv*rk')\n",
    "  test(fix_start('google'), 'goo*le')\n",
    "  test(fix_start('donut'), 'donut')\n",
    "\n",
    "  print\n",
    "  print('mix_up')\n",
    "  test(mix_up('mix', 'pod'), 'pox mid')\n",
    "  test(mix_up('dog', 'dinner'), 'dig donner')\n",
    "  test(mix_up('gnash', 'sport'), 'spash gnort')\n",
    "  test(mix_up('pezzy', 'firm'), 'fizzy perm')\n",
    "\n",
    "  print\n",
    "  print('front_back')\n",
    "  test(front_back('abcd', 'xy'), 'abxcdy')\n",
    "  test(front_back('abcde', 'xyz'), 'abcxydez')\n",
    "  test(front_back('Kitten', 'Donut'), 'KitDontenut')\n",
    "\n",
    "  print\n",
    "  print('extract')\n",
    "  test(extract_time('64 bytes from bog02s12-in-f4.1e100.net (172.217.173.36): icmp_seq=1 ttl=117 time=14.4 ms'), 14.4)\n",
    "  test(extract_time('64 bytes from bog02s12-in-f4.1e100.net (172.217.173.36): icmp_seq=1 ttl=1147 time=1250.42 ms'), 1250.42)\n",
    "  test(extract_time('64 bytes from bog02s12-in-.net (172.217.173.36): icmp_seq=1 ttl=1217 time=25.1 ms google statistics'), 25.1)\n",
    "\n",
    "\n",
    "# Standard boilerplate to call the main() function.\n",
    "if __name__ == '__main__':\n",
    "  main()\n"
   ]
  },
  {
   "cell_type": "code",
   "execution_count": 1,
   "id": "39bca8e9-1d1d-4bab-82ee-f026e37875b3",
   "metadata": {},
   "outputs": [
    {
     "name": "stdout",
     "output_type": "stream",
     "text": [
      "Numero de donas:  Muchos\n"
     ]
    }
   ],
   "source": [
    "#Solucion A\n",
    "def donuts(count):\n",
    "    if count>=10:\n",
    "        donas=\"Muchos\"\n",
    "    else:\n",
    "        donas=count\n",
    "    return donas\n",
    "donas =donuts(10)\n",
    "print(\"Numero de donas: \",donas)"
   ]
  },
  {
   "cell_type": "code",
   "execution_count": 2,
   "id": "d7a0a1de-58e8-41e7-b1bf-43a08517ca3e",
   "metadata": {
    "tags": []
   },
   "outputs": [
    {
     "name": "stdout",
     "output_type": "stream",
     "text": [
      "Helo\n"
     ]
    }
   ],
   "source": [
    "#Solucion B\n",
    "def both_ends(s):\n",
    "    str1=len(s)\n",
    "    if str1<2:\n",
    "        result=\" \"\n",
    "    else:\n",
    "        result= s[0:2]+ s[-2:]\n",
    "    return result\n",
    "result = both_ends('Hello')\n",
    "print(result)"
   ]
  },
  {
   "cell_type": "code",
   "execution_count": 3,
   "id": "2fb350bf-fa57-462c-aa36-4e0fc806827e",
   "metadata": {},
   "outputs": [
    {
     "name": "stdout",
     "output_type": "stream",
     "text": [
      "bu**le\n"
     ]
    }
   ],
   "source": [
    "#Solucion C\n",
    "#Defina Primero los stra(el que va a ser reemplazado) y strb (el reemplazo)\n",
    "\n",
    "def fix_start(s):\n",
    "    stra,strb = \"b\", \"*\"\n",
    "    s2=s[1:]\n",
    "    result = s[0] + s2.replace(stra,strb)\n",
    "    return result\n",
    "\n",
    "result = fix_start('bubble')\n",
    "print(result)"
   ]
  },
  {
   "cell_type": "code",
   "execution_count": 4,
   "id": "bfa49238-d762-433b-9133-dafc2319d38c",
   "metadata": {},
   "outputs": [
    {
     "name": "stdout",
     "output_type": "stream",
     "text": [
      "pox mid\n"
     ]
    }
   ],
   "source": [
    "#Solucion D\n",
    "def mix_up(a, b):\n",
    "    result = b[:2]+a[2:] + \" \" + a[:2]+b[2:]\n",
    "    return result\n",
    "\n",
    "result = mix_up(\"mix\", \"pod\")\n",
    "print(result)"
   ]
  },
  {
   "cell_type": "code",
   "execution_count": 5,
   "id": "6820f2c9-76b7-4d1d-8030-2286b8c30ce5",
   "metadata": {},
   "outputs": [
    {
     "name": "stdout",
     "output_type": "stream",
     "text": [
      "xyabztcd\n"
     ]
    }
   ],
   "source": [
    "#Solucion E\n",
    "def front_back(a, b):\n",
    "    numa, numb = len(a), len (b)          #numero de letras de cada parametro\n",
    "    if numa%2==0:\n",
    "        mitada= int(numa/2)               #Mitad del numero \n",
    "        afront=a[:mitada]\n",
    "        aback=a[mitada:]\n",
    "    else:\n",
    "        mitada= int((numa//2)+1)          #Mitad del numero entero mas el extra\n",
    "        afront=a[:mitada]\n",
    "        aback=a[mitada:]\n",
    "    if numb%2==0:\n",
    "        mitadb = int(numb/2)             #Mitad del numero \n",
    "        bfront=b[:mitadb]\n",
    "        bback=b[mitadb:]\n",
    "    else:\n",
    "        mitadb = int((numb//2)+1)       #Mitad del numero entero mas el extra\n",
    "        bfront=b[:mitadb]\n",
    "        bback=b[mitadb:]\n",
    "    return afront, aback, bfront, bback\n",
    "\n",
    "afront, aback, bfront, bback = front_back(\"xyzt\", \"abcd\")\n",
    "resultado = afront + bfront + aback + bback\n",
    "print(resultado)"
   ]
  },
  {
   "cell_type": "code",
   "execution_count": 6,
   "id": "91e7cf5e-170e-4ad0-b8d1-7a173f712eb9",
   "metadata": {},
   "outputs": [
    {
     "name": "stdout",
     "output_type": "stream",
     "text": [
      "1250.42 \n"
     ]
    }
   ],
   "source": [
    "#Intento F\n",
    "#Este ejercicio no pude resolverlo, no conseguir extraer el ping desde jupyte\n",
    "#Sin embargo adjunto una idea que considero funcionaria \n",
    "\n",
    "ping=\"64 bytes from bog02s12-in-f4.1e100.net (172.217.173.36): icmp_seq=1 ttl=1147 time=1250.42 ms\" #comando para extraer ping\n",
    "valor=ping.index(\"time=\")\n",
    "ms=ping.index(\"ms\")\n",
    "resultado=ping[valor+5:ms]\n",
    "print(resultado)"
   ]
  },
  {
   "cell_type": "code",
   "execution_count": null,
   "id": "dc4b7e25-ccfe-4a76-90c5-066425b4e23b",
   "metadata": {},
   "outputs": [],
   "source": []
  }
 ],
 "metadata": {
  "kernelspec": {
   "display_name": "Python 3",
   "language": "python",
   "name": "python3"
  },
  "language_info": {
   "codemirror_mode": {
    "name": "ipython",
    "version": 3
   },
   "file_extension": ".py",
   "mimetype": "text/x-python",
   "name": "python",
   "nbconvert_exporter": "python",
   "pygments_lexer": "ipython3",
   "version": "3.7.2"
  }
 },
 "nbformat": 4,
 "nbformat_minor": 5
}
