{
  "nbformat": 4,
  "nbformat_minor": 0,
  "metadata": {
    "colab": {
      "name": "homework_07",
      "provenance": []
    },
    "kernelspec": {
      "name": "python3",
      "display_name": "Python 3"
    },
    "language_info": {
      "name": "python"
    }
  },
  "cells": [
    {
      "cell_type": "code",
      "execution_count": 1,
      "metadata": {
        "colab": {
          "base_uri": "https://localhost:8080/"
        },
        "id": "V6PSXa88sSpe",
        "outputId": "cfa9d32d-5112-484f-9e86-3a631d01b31c"
      },
      "outputs": [
        {
          "output_type": "stream",
          "name": "stdout",
          "text": [
            "Hello, this is Juan's homework 7\n"
          ]
        }
      ],
      "source": [
        "print(\"Hello, this is Juan's homework 7\")"
      ]
    },
    {
      "cell_type": "code",
      "source": [
        ""
      ],
      "metadata": {
        "id": "hDsvryxTsnsO"
      },
      "execution_count": null,
      "outputs": []
    },
    {
      "cell_type": "code",
      "source": [
        "#Importamos las librerias\n",
        "import numpy as np\n",
        "import math\n",
        "import random\n",
        "from sympy import Symbol  \n",
        "\n",
        "\n",
        "\n",
        "def INT(x):\n",
        "    return (((15*x**3)+(21*x**2)+(41*x)+3)**1/4)*(math.e)**-0.5*x    #Definimos el integrando de prueba\n",
        "\n",
        "def integral_monte_carlo_1D(integrand,lim1,lim2,N):  #Definimos nuestra funcion\n",
        "  E=0              #Usamos metodo monte carlo y decimos que nos retorne el valor de la integral\n",
        "  for i in range(N):\n",
        "    x=np.random.uniform(lim1,lim2)\n",
        "    E=E+integrand(x)\n",
        "  \n",
        "  E=E/N\n",
        "  I=-E*(lim1-lim2)\n",
        "\n",
        "  return I"
      ],
      "metadata": {
        "id": "JbGOeqyMseF3"
      },
      "execution_count": 2,
      "outputs": []
    },
    {
      "cell_type": "code",
      "source": [
        "integral_monte_carlo_1D(INT,0,4,100000)"
      ],
      "metadata": {
        "colab": {
          "base_uri": "https://localhost:8080/"
        },
        "id": "GKgCWjDGsq89",
        "outputId": "02df5873-821d-4b78-aab0-578fd421f5e3"
      },
      "execution_count": 3,
      "outputs": [
        {
          "output_type": "execute_result",
          "data": {
            "text/plain": [
              "805.3144263506628"
            ]
          },
          "metadata": {},
          "execution_count": 3
        }
      ]
    }
  ]
}