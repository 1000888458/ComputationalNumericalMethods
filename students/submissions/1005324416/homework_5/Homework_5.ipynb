{
 "cells": [
  {
   "cell_type": "code",
   "execution_count": 1,
   "id": "contrary-sheet",
   "metadata": {},
   "outputs": [],
   "source": [
    "# homework 5\n",
    "# autor: Juan Cristancho\n",
    "# cc: 1005324416"
   ]
  },
  {
   "cell_type": "code",
   "execution_count": 2,
   "id": "municipal-lender",
   "metadata": {},
   "outputs": [
    {
     "name": "stdout",
     "output_type": "stream",
     "text": [
      "Hello, this is Juan Cristancho's homework 5\n"
     ]
    }
   ],
   "source": [
    "print(\"Hello, this is Juan Cristancho's homework 5\")"
   ]
  },
  {
   "cell_type": "code",
   "execution_count": 2,
   "id": "lesser-wagon",
   "metadata": {},
   "outputs": [],
   "source": [
    "# This formula calculates coefficients b0,b1,b2... of the Newton divided differences (recursive code)\n",
    "import numpy as np\n",
    "\n",
    "def b_coeffs(i,k,X,Y):\n",
    "    # i, k are the first and last INDEX of `x`\n",
    "    b0=y[0]\n",
    "    b1=(y[1]-y[0])/(x[1]-x[0])\n",
    "    b2=(((y[2]-y[1])/(x[2]-x[1]))-((y[1]-y[0])/(x[1]-x[0])))/(x[2]-x[0]\n",
    "    #If i+k>N\n",
    "    if i+k>=len(X):\n",
    "        return 0\n",
    "    #Zeroth divided difference\n",
    "    elif k == 0:\n",
    "        return Y[i]\n",
    "    #If higher divided difference\n",
    "    else:\n",
    "        return (b_coeffs(i+1, k-1, X, Y)-b_coeffs(i, k-1, X, Y))/(X[i+k]-X[i])"
   ]
  },
  {
   "cell_type": "code",
   "execution_count": 4,
   "id": "activated-plasma",
   "metadata": {},
   "outputs": [],
   "source": [
    "import numpy as np\n",
    "\n",
    "def cuadratic_interp(x,y,xinterp):\n",
    "    yinterp = b0 + b1*(xinterp-x[0]) + b2*(xinterp-x[0])*(xinterp-x[1])\n",
    "    return yinterp"
   ]
  }
 ],
 "metadata": {
  "kernelspec": {
   "display_name": "Python 3",
   "language": "python",
   "name": "python3"
  },
  "language_info": {
   "codemirror_mode": {
    "name": "ipython",
    "version": 3
   },
   "file_extension": ".py",
   "mimetype": "text/x-python",
   "name": "python",
   "nbconvert_exporter": "python",
   "pygments_lexer": "ipython3",
   "version": "3.8.8"
  }
 },
 "nbformat": 4,
 "nbformat_minor": 5
}
