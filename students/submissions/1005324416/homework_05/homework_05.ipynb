{
 "cells": [
  {
   "cell_type": "code",
   "execution_count": 2,
   "metadata": {
    "colab": {
     "base_uri": "https://localhost:8080/"
    },
    "id": "neqKlMKGvw8d",
    "outputId": "edaa356d-7bf8-4034-940c-b86fec517694"
   },
   "outputs": [
    {
     "name": "stdout",
     "output_type": "stream",
     "text": [
      "Hello, this is Juan's homework 5\n"
     ]
    }
   ],
   "source": [
    "print(\"Hello, this is Juan's homework 5\")"
   ]
  },
  {
   "cell_type": "code",
   "execution_count": 5,
   "metadata": {
    "id": "pVyUDjsAvxo_"
   },
   "outputs": [],
   "source": [
    "import numpy as np\n",
    "def cuadratic_interp(x,y,xinterp):\n",
    "    #Los coeficientes\n",
    "    b_0 = y[0]\n",
    "    b_1 = ((y[1]-y[0])/(x[1]-x[0]))\n",
    "    b_2 = (((y[1]-y[0])/(x[2]-x[1]))- b_1)/(x[2]-x[0])\n",
    "    #Interpolacion:\n",
    "    yinterp = b_0+b_1*(x[2]-x[0])+b_2*(x[2]-x[0])*(x[2]-x[1])\n",
    "    return yinterp"
   ]
  },
  {
   "cell_type": "code",
   "execution_count": 6,
   "metadata": {
    "id": "37kc31YLwf6s"
   },
   "outputs": [
    {
     "data": {
      "text/plain": [
       "[0.7958800173440753,\n",
       " 0.7958800173440753,\n",
       " 0.7958800173440753,\n",
       " 0.7958800173440753,\n",
       " 0.7958800173440753,\n",
       " 0.7958800173440753,\n",
       " 0.7958800173440753,\n",
       " 0.7958800173440753,\n",
       " 0.7958800173440753,\n",
       " 0.7958800173440753,\n",
       " 0.7958800173440753,\n",
       " 0.7958800173440753,\n",
       " 0.7958800173440753,\n",
       " 0.7958800173440753,\n",
       " 0.7958800173440753,\n",
       " 0.7958800173440753,\n",
       " 0.7958800173440753,\n",
       " 0.7958800173440753,\n",
       " 0.7958800173440753,\n",
       " 0.7958800173440753,\n",
       " 0.7958800173440753,\n",
       " 0.7958800173440753,\n",
       " 0.7958800173440753,\n",
       " 0.7958800173440753,\n",
       " 0.7958800173440753,\n",
       " 0.7958800173440753,\n",
       " 0.7958800173440753,\n",
       " 0.7958800173440753,\n",
       " 0.7958800173440753,\n",
       " 0.7958800173440753,\n",
       " 0.7958800173440753,\n",
       " 0.7958800173440753,\n",
       " 0.7958800173440753,\n",
       " 0.7958800173440753,\n",
       " 0.7958800173440753,\n",
       " 0.7958800173440753,\n",
       " 0.7958800173440753,\n",
       " 0.7958800173440753,\n",
       " 0.7958800173440753,\n",
       " 0.7958800173440753]"
      ]
     },
     "execution_count": 6,
     "metadata": {},
     "output_type": "execute_result"
    }
   ],
   "source": [
    "import numpy as np\n",
    "import os\n",
    "import pandas as pd\n",
    "import matplotlib.pyplot as plt\n",
    "x=np.array([4,5,6])\n",
    "y=np.array([np.log10(4),np.log10(5),np.log10(6)])\n",
    "test_vals=np.arange(3,7,0.1)\n",
    "\n",
    "\n",
    "my_results=[]\n",
    "for val in test_vals:\n",
    "    result=cuadratic_interp(x,y,val)\n",
    "    my_results.append(result)\n",
    "my_results"
   ]
  },
  {
   "cell_type": "code",
   "execution_count": null,
   "metadata": {},
   "outputs": [],
   "source": []
  }
 ],
 "metadata": {
  "colab": {
   "name": "homework_05",
   "provenance": []
  },
  "kernelspec": {
   "display_name": "Python 3",
   "language": "python",
   "name": "python3"
  },
  "language_info": {
   "codemirror_mode": {
    "name": "ipython",
    "version": 3
   },
   "file_extension": ".py",
   "mimetype": "text/x-python",
   "name": "python",
   "nbconvert_exporter": "python",
   "pygments_lexer": "ipython3",
   "version": "3.7.2"
  }
 },
 "nbformat": 4,
 "nbformat_minor": 1
}
