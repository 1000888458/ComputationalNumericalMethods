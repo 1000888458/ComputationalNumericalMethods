{
  "nbformat": 4,
  "nbformat_minor": 0,
  "metadata": {
    "colab": {
      "name": "homework_05",
      "provenance": []
    },
    "kernelspec": {
      "name": "python3",
      "display_name": "Python 3"
    },
    "language_info": {
      "name": "python"
    }
  },
  "cells": [
    {
      "cell_type": "code",
      "execution_count": 2,
      "metadata": {
        "colab": {
          "base_uri": "https://localhost:8080/"
        },
        "id": "neqKlMKGvw8d",
        "outputId": "edaa356d-7bf8-4034-940c-b86fec517694"
      },
      "outputs": [
        {
          "output_type": "stream",
          "name": "stdout",
          "text": [
            "Hello, this is Juan's homework 5\n"
          ]
        }
      ],
      "source": [
        "print(\"Hello, this is Juan's homework 5\")"
      ]
    },
    {
      "cell_type": "code",
      "source": [
        "import numpy as np\n",
        "def cuadratic_interp(x,y,xinterp):\n",
        "    #Los coeficientes\n",
        "    b_0 = y[0]\n",
        "    b_1 = ((y[1]-y[0])/(x[1]-x[0]))\n",
        "    b_2 = (((y[1]-y[0])/(x[2]-x[1]))- b_1)/(x[2]-x[0])\n",
        "    #Interpolacion:\n",
        "    yinterp = b_0+b_1*(x[2]-x[0])+b_2*(x[2]-x[0])*(x[2]-x[1])\n",
        "    return yinterp"
      ],
      "metadata": {
        "id": "pVyUDjsAvxo_"
      },
      "execution_count": 3,
      "outputs": []
    },
    {
      "cell_type": "code",
      "source": [
        ""
      ],
      "metadata": {
        "id": "37kc31YLwf6s"
      },
      "execution_count": null,
      "outputs": []
    }
  ]
}