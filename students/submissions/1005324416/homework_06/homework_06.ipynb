{
  "nbformat": 4,
  "nbformat_minor": 0,
  "metadata": {
    "colab": {
      "name": "homework_06",
      "provenance": []
    },
    "kernelspec": {
      "name": "python3",
      "display_name": "Python 3"
    },
    "language_info": {
      "name": "python"
    }
  },
  "cells": [
    {
      "cell_type": "code",
      "execution_count": 1,
      "metadata": {
        "colab": {
          "base_uri": "https://localhost:8080/"
        },
        "id": "uoowE-6rtOfb",
        "outputId": "53715a97-1801-4382-c2d3-da482088770c"
      },
      "outputs": [
        {
          "output_type": "stream",
          "name": "stdout",
          "text": [
            "Hello, this is Juan's homework 6\n"
          ]
        }
      ],
      "source": [
        "print(\"Hello, this is Juan's homework 6\")"
      ]
    },
    {
      "cell_type": "code",
      "source": [
        "import numpy as np\n",
        "def deriv(func,a,method,h):\n",
        "    \n",
        "    if method==\"forward\":\n",
        "        return (func(a + h) - func(a))/h\n",
        "    elif method==\"central\":\n",
        "        return (func(a + h) - func(a - h))/(2*h)\n",
        "    elif method==\"backward\":\n",
        "        return (func(a) - func(a - h))/h\n",
        "    else:\n",
        "        print('Los metodos solo pueden ser str: \"central\", \"backward\" or \"forward\" ')"
      ],
      "metadata": {
        "id": "FK_qw1E9tYub"
      },
      "execution_count": 2,
      "outputs": []
    }
  ]
}