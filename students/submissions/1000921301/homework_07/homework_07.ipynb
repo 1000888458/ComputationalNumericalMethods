{
  "nbformat": 4,
  "nbformat_minor": 0,
  "metadata": {
    "colab": {
      "name": "homework_07.ipynb",
      "provenance": []
    },
    "kernelspec": {
      "name": "python3",
      "display_name": "Python 3"
    },
    "language_info": {
      "name": "python"
    }
  },
  "cells": [
    {
      "cell_type": "code",
      "execution_count": 24,
      "metadata": {
        "id": "kDwqXC1VdWAN"
      },
      "outputs": [],
      "source": [
        "import numpy as np\n",
        "import scipy.integrate as integrate"
      ]
    },
    {
      "cell_type": "code",
      "source": [
        "def function(x):\n",
        "  return ((15*x**3 + 21*x**2 + 41*x + 3)**(1/4))*(np.e**(-1/2))"
      ],
      "metadata": {
        "id": "bLMvEqQ_ZisJ"
      },
      "execution_count": 23,
      "outputs": []
    },
    {
      "cell_type": "code",
      "source": [
        "def integral_monte_carlo_1D(integrand, lim1, lim2, N):\n",
        "  X = np.random.uniform(0, 4, N)\n",
        "  prom = np.sum(function(X)) / N\n",
        "  I = (lim2 - lim1) * prom / N\n",
        "\n",
        "  return I"
      ],
      "metadata": {
        "id": "3NJ6zj7qdevX"
      },
      "execution_count": 59,
      "outputs": []
    },
    {
      "cell_type": "code",
      "source": [
        "integral_monte_carlo_1D(function, 0, 4, 100000)"
      ],
      "metadata": {
        "colab": {
          "base_uri": "https://localhost:8080/"
        },
        "id": "pPXlW53daYE6",
        "outputId": "a4a502f0-4007-4a23-da3d-5092c3cafa49"
      },
      "execution_count": 62,
      "outputs": [
        {
          "output_type": "execute_result",
          "data": {
            "text/plain": [
              "9.837500699091675e-05"
            ]
          },
          "metadata": {},
          "execution_count": 62
        }
      ]
    },
    {
      "cell_type": "code",
      "source": [
        "I, e = integrate.quad(function, 0, 4)\n",
        "I"
      ],
      "metadata": {
        "colab": {
          "base_uri": "https://localhost:8080/"
        },
        "id": "zbtz-EyCaGA-",
        "outputId": "21d1d373-3091-43ac-c9b8-1cf34dfbbc2f"
      },
      "execution_count": 45,
      "outputs": [
        {
          "output_type": "execute_result",
          "data": {
            "text/plain": [
              "9.83236062564931"
            ]
          },
          "metadata": {},
          "execution_count": 45
        }
      ]
    }
  ]
}