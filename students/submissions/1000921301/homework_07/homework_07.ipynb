{
  "nbformat": 4,
  "nbformat_minor": 0,
  "metadata": {
    "colab": {
      "name": "homework_07.ipynb",
      "provenance": []
    },
    "kernelspec": {
      "name": "python3",
      "display_name": "Python 3"
    },
    "language_info": {
      "name": "python"
    }
  },
  "cells": [
    {
      "cell_type": "code",
      "execution_count": 1,
      "metadata": {
        "id": "kDwqXC1VdWAN"
      },
      "outputs": [],
      "source": [
        "import numpy as np\n",
        "import scipy.integrate as integrate"
      ]
    },
    {
      "cell_type": "code",
      "source": [
        "def function(x):\n",
        "  return ((15*x**3 + 21*x**2 + 41*x + 3)**(1/4))*(np.e**(-0.5*x))"
      ],
      "metadata": {
        "id": "bLMvEqQ_ZisJ"
      },
      "execution_count": 2,
      "outputs": []
    },
    {
      "cell_type": "code",
      "source": [
        "def integral_monte_carlo_1D(integrand, lim1, lim2, N):\n",
        "  X = np.random.uniform(0, 4, N)\n",
        "  prom = np.sum(function(X)) / N\n",
        "  I = (lim2 - lim1) * prom / N\n",
        "\n",
        "  return I"
      ],
      "metadata": {
        "id": "3NJ6zj7qdevX"
      },
      "execution_count": 3,
      "outputs": []
    },
    {
      "cell_type": "code",
      "source": [
        "integral_monte_carlo_1D(function, 0, 4, 100000)"
      ],
      "metadata": {
        "colab": {
          "base_uri": "https://localhost:8080/"
        },
        "id": "pPXlW53daYE6",
        "outputId": "39b11cea-c2dc-47f1-c1b7-4c0a6e466bd5"
      },
      "execution_count": 4,
      "outputs": [
        {
          "output_type": "execute_result",
          "data": {
            "text/plain": [
              "5.764705392268625e-05"
            ]
          },
          "metadata": {},
          "execution_count": 4
        }
      ]
    },
    {
      "cell_type": "code",
      "source": [
        "I, e = integrate.quad(function, 0, 4)\n",
        "I"
      ],
      "metadata": {
        "colab": {
          "base_uri": "https://localhost:8080/"
        },
        "id": "zbtz-EyCaGA-",
        "outputId": "1529dd60-600c-4ec2-8d66-318084532511"
      },
      "execution_count": 5,
      "outputs": [
        {
          "output_type": "execute_result",
          "data": {
            "text/plain": [
              "5.767433490695931"
            ]
          },
          "metadata": {},
          "execution_count": 5
        }
      ]
    }
  ]
}