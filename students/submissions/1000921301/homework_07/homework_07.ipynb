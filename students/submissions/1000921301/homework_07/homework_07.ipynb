{
  "nbformat": 4,
  "nbformat_minor": 0,
  "metadata": {
    "colab": {
      "name": "homework_07.ipynb",
      "provenance": []
    },
    "kernelspec": {
      "name": "python3",
      "display_name": "Python 3"
    },
    "language_info": {
      "name": "python"
    }
  },
  "cells": [
    {
      "cell_type": "code",
      "execution_count": 1,
      "metadata": {
        "id": "jsc5DYJBnjnR"
      },
      "outputs": [],
      "source": [
        "import numpy as np\n",
        "import scipy.integrate as integrate"
      ]
    },
    {
      "cell_type": "code",
      "source": [
        "def function(x):\n",
        "  return ((15*x**3 + 21*x**2 + 41*x + 3)**(1/4))*(np.e**(-0.5*x))"
      ],
      "metadata": {
        "id": "adhiLgrVnmN5"
      },
      "execution_count": 8,
      "outputs": []
    },
    {
      "cell_type": "code",
      "source": [
        "def integral_monte_carlo_1D(integrand, lim1, lim2, N):\n",
        "  X = np.random.uniform(0, 4, N)\n",
        "  prom = np.sum(function(X)) / N\n",
        "  I = (lim2 - lim1) * prom\n",
        "\n",
        "  return I"
      ],
      "metadata": {
        "id": "ehiEg9q-nn2q"
      },
      "execution_count": 11,
      "outputs": []
    },
    {
      "cell_type": "code",
      "source": [
        "integral_monte_carlo_1D(function, 0, 4, 100000)"
      ],
      "metadata": {
        "colab": {
          "base_uri": "https://localhost:8080/"
        },
        "id": "pvpi7aEunpRh",
        "outputId": "2cb6100a-2351-4195-9518-ae3697010753"
      },
      "execution_count": 12,
      "outputs": [
        {
          "output_type": "execute_result",
          "data": {
            "text/plain": [
              "5.766906951499154"
            ]
          },
          "metadata": {},
          "execution_count": 12
        }
      ]
    },
    {
      "cell_type": "code",
      "source": [
        "I, e = integrate.quad(function, 0, 4)\n",
        "I"
      ],
      "metadata": {
        "id": "rWV2G0FhoUU6",
        "outputId": "a4b23156-d293-457b-b20c-4144cb6481b7",
        "colab": {
          "base_uri": "https://localhost:8080/"
        }
      },
      "execution_count": 13,
      "outputs": [
        {
          "output_type": "execute_result",
          "data": {
            "text/plain": [
              "5.767433490695931"
            ]
          },
          "metadata": {},
          "execution_count": 13
        }
      ]
    }
  ]
}