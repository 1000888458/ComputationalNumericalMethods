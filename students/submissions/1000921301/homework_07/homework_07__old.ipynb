{
 "cells": [
  {
   "cell_type": "code",
   "execution_count": 13,
   "metadata": {
    "id": "jsc5DYJBnjnR"
   },
   "outputs": [],
   "source": [
    "import numpy as np\n",
    "import scipy.integrate as integrate"
   ]
  },
  {
   "cell_type": "code",
   "execution_count": 20,
   "metadata": {
    "id": "adhiLgrVnmN5"
   },
   "outputs": [],
   "source": [
    "def function(x):\n",
    "  return ((15*x**3 + 21*x**2 + 41*x + 3)**(1/4))*(np.e**(-0.5*x))"
   ]
  },
  {
   "cell_type": "code",
   "execution_count": 21,
   "metadata": {
    "id": "ehiEg9q-nn2q"
   },
   "outputs": [],
   "source": [
    "def integral_monte_carlo_1D(integrand, lim1, lim2, N):\n",
    "  X = np.random.uniform(lim1, lim2, N)\n",
    "  prom = np.sum(function(X)) / N\n",
    "  I = (lim2 - lim1) * prom\n",
    "\n",
    "  return I"
   ]
  },
  {
   "cell_type": "code",
   "execution_count": 22,
   "metadata": {
    "colab": {
     "base_uri": "https://localhost:8080/"
    },
    "id": "pvpi7aEunpRh",
    "outputId": "2cb6100a-2351-4195-9518-ae3697010753"
   },
   "outputs": [
    {
     "data": {
      "text/plain": [
       "5.764937669911709"
      ]
     },
     "execution_count": 22,
     "metadata": {},
     "output_type": "execute_result"
    }
   ],
   "source": [
    "integral_monte_carlo_1D(function, 0, 4, 100000)"
   ]
  },
  {
   "cell_type": "code",
   "execution_count": 23,
   "metadata": {
    "colab": {
     "base_uri": "https://localhost:8080/"
    },
    "id": "rWV2G0FhoUU6",
    "outputId": "a4b23156-d293-457b-b20c-4144cb6481b7"
   },
   "outputs": [
    {
     "data": {
      "text/plain": [
       "5.767433490695931"
      ]
     },
     "execution_count": 23,
     "metadata": {},
     "output_type": "execute_result"
    }
   ],
   "source": [
    "I, e = integrate.quad(function, 0, 4)\n",
    "I"
   ]
  },
  {
   "cell_type": "code",
   "execution_count": 24,
   "metadata": {},
   "outputs": [],
   "source": [
    "def integrand(x):\n",
    "    return x/(1+x)**3"
   ]
  },
  {
   "cell_type": "code",
   "execution_count": 25,
   "metadata": {},
   "outputs": [
    {
     "data": {
      "text/plain": [
       "[1.4661621888744822]"
      ]
     },
     "execution_count": 25,
     "metadata": {},
     "output_type": "execute_result"
    }
   ],
   "source": [
    "import numpy as np\n",
    "import os\n",
    "import pandas as pd\n",
    "import matplotlib.pyplot as plt\n",
    "test_vals=np.array([5.0])\n",
    "\n",
    "my_results=[]\n",
    "for val in test_vals:\n",
    "    result=integral_monte_carlo_1D(integrand,val,20,1000000)\n",
    "    my_results.append(result)\n",
    "my_results"
   ]
  },
  {
   "cell_type": "code",
   "execution_count": null,
   "metadata": {},
   "outputs": [],
   "source": []
  },
  {
   "cell_type": "code",
   "execution_count": null,
   "metadata": {},
   "outputs": [],
   "source": []
  }
 ],
 "metadata": {
  "colab": {
   "name": "homework_07.ipynb",
   "provenance": []
  },
  "kernelspec": {
   "display_name": "Python 3",
   "language": "python",
   "name": "python3"
  },
  "language_info": {
   "codemirror_mode": {
    "name": "ipython",
    "version": 3
   },
   "file_extension": ".py",
   "mimetype": "text/x-python",
   "name": "python",
   "nbconvert_exporter": "python",
   "pygments_lexer": "ipython3",
   "version": "3.7.2"
  }
 },
 "nbformat": 4,
 "nbformat_minor": 1
}
