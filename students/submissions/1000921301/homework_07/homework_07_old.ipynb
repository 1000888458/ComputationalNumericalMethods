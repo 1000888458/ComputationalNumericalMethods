{
 "cells": [
  {
   "cell_type": "code",
   "execution_count": 1,
   "metadata": {
    "id": "kDwqXC1VdWAN"
   },
   "outputs": [],
   "source": [
    "import numpy as np\n",
    "import scipy.integrate as integrate"
   ]
  },
  {
   "cell_type": "code",
   "execution_count": 2,
   "metadata": {
    "id": "bLMvEqQ_ZisJ"
   },
   "outputs": [],
   "source": [
    "def function(x):\n",
    "  return ((15*x**3 + 21*x**2 + 41*x + 3)**(1/4))*(np.e**(-0.5*x))"
   ]
  },
  {
   "cell_type": "code",
   "execution_count": 3,
   "metadata": {
    "id": "3NJ6zj7qdevX"
   },
   "outputs": [],
   "source": [
    "def integral_monte_carlo_1D(integrand, lim1, lim2, N):\n",
    "  X = np.random.uniform(0, 4, N)\n",
    "  prom = np.sum(function(X)) / N\n",
    "  I = (lim2 - lim1) * prom / N\n",
    "\n",
    "  return I"
   ]
  },
  {
   "cell_type": "code",
   "execution_count": 4,
   "metadata": {
    "colab": {
     "base_uri": "https://localhost:8080/"
    },
    "id": "pPXlW53daYE6",
    "outputId": "39b11cea-c2dc-47f1-c1b7-4c0a6e466bd5"
   },
   "outputs": [
    {
     "data": {
      "text/plain": [
       "5.764705392268625e-05"
      ]
     },
     "execution_count": 4,
     "metadata": {},
     "output_type": "execute_result"
    }
   ],
   "source": [
    "integral_monte_carlo_1D(function, 0, 4, 100000)"
   ]
  },
  {
   "cell_type": "code",
   "execution_count": 5,
   "metadata": {
    "colab": {
     "base_uri": "https://localhost:8080/"
    },
    "id": "zbtz-EyCaGA-",
    "outputId": "1529dd60-600c-4ec2-8d66-318084532511"
   },
   "outputs": [
    {
     "data": {
      "text/plain": [
       "5.767433490695931"
      ]
     },
     "execution_count": 5,
     "metadata": {},
     "output_type": "execute_result"
    }
   ],
   "source": [
    "I, e = integrate.quad(function, 0, 4)\n",
    "I"
   ]
  }
 ],
 "metadata": {
  "colab": {
   "name": "homework_07.ipynb",
   "provenance": []
  },
  "kernelspec": {
   "display_name": "Python 3",
   "language": "python",
   "name": "python3"
  },
  "language_info": {
   "codemirror_mode": {
    "name": "ipython",
    "version": 3
   },
   "file_extension": ".py",
   "mimetype": "text/x-python",
   "name": "python",
   "nbconvert_exporter": "python",
   "pygments_lexer": "ipython3",
   "version": "3.7.2"
  }
 },
 "nbformat": 4,
 "nbformat_minor": 1
}
