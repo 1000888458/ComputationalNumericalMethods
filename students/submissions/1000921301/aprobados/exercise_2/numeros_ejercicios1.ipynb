{
  "nbformat": 4,
  "nbformat_minor": 5,
  "metadata": {
    "kernelspec": {
      "display_name": "Python 3",
      "language": "python",
      "name": "python3"
    },
    "language_info": {
      "codemirror_mode": {
        "name": "ipython",
        "version": 3
      },
      "file_extension": ".py",
      "mimetype": "text/x-python",
      "name": "python",
      "nbconvert_exporter": "python",
      "pygments_lexer": "ipython3",
      "version": "3.7.2"
    },
    "colab": {
      "name": "numeros_ejercicios.ipynb",
      "provenance": [],
      "collapsed_sections": []
    }
  },
  "cells": [
    {
      "cell_type": "markdown",
      "metadata": {
        "id": "super-silicon"
      },
      "source": [
        "# Exercicios sobre numeros :"
      ],
      "id": "super-silicon"
    },
    {
      "cell_type": "markdown",
      "metadata": {
        "id": "environmental-observation"
      },
      "source": [
        "#### 1. Imprime primero 10 numeros naturales (1,2,3,4,5,6,7,8,9,10) usando \"for loop\" y print ()"
      ],
      "id": "environmental-observation"
    },
    {
      "cell_type": "code",
      "metadata": {
        "id": "executive-austria",
        "colab": {
          "base_uri": "https://localhost:8080/"
        },
        "outputId": "c7196cd0-6af8-4170-94d8-e8e3232df6c2"
      },
      "source": [
        "# tu codigo aqui:\n",
        "for i in range(10):\n",
        "  i=i+1\n",
        "  print(i)"
      ],
      "id": "executive-austria",
      "execution_count": 1,
      "outputs": [
        {
          "output_type": "stream",
          "name": "stdout",
          "text": [
            "1\n",
            "2\n",
            "3\n",
            "4\n",
            "5\n",
            "6\n",
            "7\n",
            "8\n",
            "9\n",
            "10\n"
          ]
        }
      ]
    },
    {
      "cell_type": "markdown",
      "metadata": {
        "id": "loving-george"
      },
      "source": [
        "#### 2. Imprime primero 10 numeros naturales (1,2,3,4,5,6,7,8,9,10)  usando \"while loop\" y print ()"
      ],
      "id": "loving-george"
    },
    {
      "cell_type": "code",
      "metadata": {
        "id": "manufactured-international",
        "colab": {
          "base_uri": "https://localhost:8080/"
        },
        "outputId": "e21c773d-6137-474b-f72f-cadfe39161d2"
      },
      "source": [
        "# tu codigo aqui:\n",
        "i=0\n",
        "while i+1<=10:\n",
        "  i=i+1\n",
        "  print(i)"
      ],
      "id": "manufactured-international",
      "execution_count": 2,
      "outputs": [
        {
          "output_type": "stream",
          "name": "stdout",
          "text": [
            "1\n",
            "2\n",
            "3\n",
            "4\n",
            "5\n",
            "6\n",
            "7\n",
            "8\n",
            "9\n",
            "10\n"
          ]
        }
      ]
    },
    {
      "cell_type": "markdown",
      "metadata": {
        "id": "beginning-marine"
      },
      "source": [
        "#### 3. Calcular la soma de numeros (1+2+3+4+5+6+7+8+9+10) usando \"for loop\" y guarda resultado en variable \"my_result\""
      ],
      "id": "beginning-marine"
    },
    {
      "cell_type": "code",
      "metadata": {
        "id": "neither-segment",
        "colab": {
          "base_uri": "https://localhost:8080/"
        },
        "outputId": "f4c09640-0f33-4155-d110-bfbcadbfcee6"
      },
      "source": [
        "# tu codigo aqui:\n",
        "x=0\n",
        "for i in range(11):\n",
        "  x=x+i\n",
        "my_result=x\n",
        "print(my_result)"
      ],
      "id": "neither-segment",
      "execution_count": 39,
      "outputs": [
        {
          "output_type": "stream",
          "name": "stdout",
          "text": [
            "55\n"
          ]
        }
      ]
    },
    {
      "cell_type": "markdown",
      "metadata": {
        "id": "indoor-roots"
      },
      "source": [
        "#### 4. Calcular la soma de numeros (1+2+3+4+5+6+7+8+9+10) usando \"while loop\" y guardar resultado en variable \"my_result\""
      ],
      "id": "indoor-roots"
    },
    {
      "cell_type": "code",
      "metadata": {
        "id": "infrared-respondent",
        "colab": {
          "base_uri": "https://localhost:8080/"
        },
        "outputId": "97eec7ca-8f97-42a0-e232-cbc21401c489"
      },
      "source": [
        "# tu codigo aqui:\n",
        "i=0\n",
        "x=0\n",
        "while i<=10:\n",
        "  x=x+i\n",
        "  i=i+1\n",
        "my_result=x\n",
        "print(my_result)"
      ],
      "id": "infrared-respondent",
      "execution_count": 37,
      "outputs": [
        {
          "output_type": "stream",
          "name": "stdout",
          "text": [
            "55\n"
          ]
        }
      ]
    },
    {
      "cell_type": "markdown",
      "metadata": {
        "id": "polished-reason"
      },
      "source": [
        "#### 5. Calcular la soma de numeros par (2+4+6+8+10.. + ...100) usando \"for loop\" y guardar resultado en variable \"my_result\" (pista: usa condicion \"if\" y \"%\")"
      ],
      "id": "polished-reason"
    },
    {
      "cell_type": "code",
      "metadata": {
        "id": "asian-publisher",
        "colab": {
          "base_uri": "https://localhost:8080/"
        },
        "outputId": "b30a0430-9e0c-44b2-caf3-a8cdd609a42b"
      },
      "source": [
        "# tu codigo aqui:\n",
        "x=0\n",
        "for i in range(101):\n",
        "  if i%2==0:\n",
        "    x=x+i\n",
        "my_result=x\n",
        "print(my_result)"
      ],
      "id": "asian-publisher",
      "execution_count": 36,
      "outputs": [
        {
          "output_type": "stream",
          "name": "stdout",
          "text": [
            "2550\n"
          ]
        }
      ]
    },
    {
      "cell_type": "markdown",
      "metadata": {
        "id": "accepted-jacksonville"
      },
      "source": [
        "#### 6. Calcular la soma de numeros impar (1+3+5+7+9+... + ...99) usando \"while loop\" y guardar resultado en variable \"my_result\" (pista: usa condicion \"if\" y \"%\")"
      ],
      "id": "accepted-jacksonville"
    },
    {
      "cell_type": "code",
      "metadata": {
        "id": "assigned-parameter",
        "colab": {
          "base_uri": "https://localhost:8080/"
        },
        "outputId": "6867de89-5d41-4431-de95-f1d3d3eccc9b"
      },
      "source": [
        "# tu codigo aqui:\n",
        "i=0\n",
        "x=0\n",
        "while i<=99:\n",
        "  i=i+1\n",
        "  if i%2==1:\n",
        "     x=x+i\n",
        "my_result=x\n",
        "print(my_result)"
      ],
      "id": "assigned-parameter",
      "execution_count": 35,
      "outputs": [
        {
          "output_type": "stream",
          "name": "stdout",
          "text": [
            "2500\n"
          ]
        }
      ]
    },
    {
      "cell_type": "markdown",
      "metadata": {
        "id": "crucial-treat"
      },
      "source": [
        "#### 7. Definir una function que se llama func_sum_even_odd(b) que recibe un parametro \"b\" - valor numerico. La funcion calcula soma de numeros pares y numeros impares separamente entre 0 y b (los dos valores incluidos) . La funcion guarda resultados en dos variables en sum_even, sum_odd y devuelve ambos usando \"return\". (usa metodo: while)\n",
        "\n",
        "ejemplo de ejecucion:   \n",
        "sum_even,sum_odd = func_sum_even_odd(10)  \n",
        "print(sum_even,sum_odd)  \n",
        "30,25  \n",
        "\n",
        "#### Pero si \"b\" no es ni integer ni float funcion devuelve sum_even=0,y sum_odd=0 y imprime mensaje: \"argument must be an integer or float\"   (usa: \"isinstance\" o negacion de isinstance: \"not isinstance\" conjunto con operador logico \"or\" para verificar si el argumento es int of float)\n",
        "\n",
        "ejemplo de ejecucion:  \n",
        "sum_even,sum_odd = func_sum_even_odd('z')  \n",
        "\"argument must be an integer or float\"  "
      ],
      "id": "crucial-treat"
    },
    {
      "cell_type": "code",
      "metadata": {
        "id": "comparative-corruption",
        "colab": {
          "base_uri": "https://localhost:8080/"
        },
        "outputId": "105d9ee5-6c97-4617-e7f7-01417426703b"
      },
      "source": [
        "# tu codigo aqui\n",
        "def func_sum_even_odd(b):\n",
        "  i=0\n",
        "  x=0\n",
        "  z=0\n",
        "  if (isinstance(b,int)) or (isinstance(b,float)):\n",
        "    while i<int(b):\n",
        "      i=i+1\n",
        "      if i%2!=0:\n",
        "        x=x+i\n",
        "      elif i%2==0:\n",
        "        z=z+i\n",
        "    sum_odd = z\n",
        "    sum_even = x\n",
        "    return sum_even,sum_odd\n",
        "  else:\n",
        "    sum_odd = 0\n",
        "    sum_even = 0\n",
        "    print(\"argument must be an integer or float\")\n",
        "    return sum_even,sum_odd\n",
        "sum_even,sum_odd = func_sum_even_odd(\"z\")\n",
        "print(sum_even,sum_odd)\n",
        "\n"
      ],
      "id": "comparative-corruption",
      "execution_count": 30,
      "outputs": [
        {
          "output_type": "stream",
          "name": "stdout",
          "text": [
            "argument must be an integer or float\n",
            "0 0\n"
          ]
        }
      ]
    },
    {
      "cell_type": "markdown",
      "metadata": {
        "id": "contemporary-exemption"
      },
      "source": [
        "#### 8. Modifica funcion anterior y usa conjunto: try:... except:... (mira arriva en el texto de la classe)\n",
        "try:   \n",
        "--->intenta hacer si no sale error  \n",
        "except:  \n",
        "--->hace otra cosa si sale error    "
      ],
      "id": "contemporary-exemption"
    },
    {
      "cell_type": "code",
      "metadata": {
        "id": "dominican-tomato",
        "colab": {
          "base_uri": "https://localhost:8080/"
        },
        "outputId": "d6eb12d4-885e-4ad2-cacb-1b17d1008f4e"
      },
      "source": [
        "# tu codigo aqui\n",
        "def func_sum_even_odd(b):\n",
        "  i=0\n",
        "  x=0\n",
        "  z=0\n",
        "  try:\n",
        "    while i<int(b):\n",
        "      i=i+1\n",
        "      if i%2!=0:\n",
        "        x=x+i\n",
        "      elif i%2==0:\n",
        "        z=z+i\n",
        "    sum_odd = z\n",
        "    sum_even = x\n",
        "    return sum_even,sum_odd\n",
        "  except:\n",
        "    sum_odd = 0\n",
        "    sum_even = 0\n",
        "    print(\"argument must be an integer or float\")\n",
        "    return sum_even,sum_odd\n",
        "sum_even,sum_odd = func_sum_even_odd(\"f\")\n",
        "print(sum_even,sum_odd)"
      ],
      "id": "dominican-tomato",
      "execution_count": 33,
      "outputs": [
        {
          "output_type": "stream",
          "name": "stdout",
          "text": [
            "argument must be an integer or float\n",
            "0 0\n"
          ]
        }
      ]
    }
  ]
}