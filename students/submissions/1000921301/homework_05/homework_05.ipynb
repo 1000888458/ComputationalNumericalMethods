{
  "nbformat": 4,
  "nbformat_minor": 0,
  "metadata": {
    "colab": {
      "name": "homework_5.ipynb",
      "provenance": []
    },
    "kernelspec": {
      "name": "python3",
      "display_name": "Python 3"
    },
    "language_info": {
      "name": "python"
    }
  },
  "cells": [
    {
      "cell_type": "code",
      "execution_count": 14,
      "metadata": {
        "colab": {
          "base_uri": "https://localhost:8080/"
        },
        "id": "WzX2PnBFJFS2",
        "outputId": "2f16010d-99c5-4bd8-c80c-c86297db603f"
      },
      "outputs": [
        {
          "output_type": "execute_result",
          "data": {
            "text/plain": [
              "0.6986125402060799"
            ]
          },
          "metadata": {},
          "execution_count": 14
        }
      ],
      "source": [
        "import numpy as np\n",
        "\n",
        "def cuadratic_interp(x, y, xinterp):\n",
        "  b0 = y[0]\n",
        "  b1 = (y[1]-y[0])/(x[1]-x[0])\n",
        "  b2 = (((y[2]-y[1])/(x[2]-x[1])) - ((y[1]-y[0])/(x[1]-x[0]))) / (x[2]-x[0])\n",
        "  yinterp = b0 + b1*(xinterp-x[0]) + b2*(xinterp-x[0])*(xinterp-x[1])\n",
        "  return yinterp\n",
        "\n",
        "x1=np.array([4.5, 5.5, 6.5])\n",
        "y1=np.array([np.log10(4.5), np.log10(5.5), np.log10(6.5)])\n",
        "\n",
        "w = cuadratic_interp(x1, y1, 5)\n",
        "w"
      ]
    }
  ]
}