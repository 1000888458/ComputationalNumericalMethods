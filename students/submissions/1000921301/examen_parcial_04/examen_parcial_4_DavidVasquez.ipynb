{
 "cells": [
  {
   "cell_type": "markdown",
   "id": "impossible-command",
   "metadata": {
    "id": "impossible-command"
   },
   "source": [
    "# Examen parcial 4  $\\color{red}{\\text{(10p max)}}$ (Equaciones diferenciales)\n",
    "* Antes de enviar el archivo, $\\textbf{reiniciar y ejecutar el kernel}$ y ver que el archivo se compila sin errores\n",
    "* enviar el archivo jupyter sin anexos antes de las 10.20am del 08.04.2022 a mi dirección de correo electrónico: michal.hemmerling@udea.edu.co "
   ]
  },
  {
   "cell_type": "markdown",
   "id": "focused-michigan",
   "metadata": {
    "id": "focused-michigan"
   },
   "source": [
    "## Ejercicio 1. $\\color{red}{\\text{(3p)}}$ Equaciones diferenciales - problema de valor de limite (boundary value problem).\n",
    "\n",
    "Transporte de calor en un objeto puede ser escrito usando segunda orden equacion diferencial:\n",
    "$$\\frac{d^2T}{dx^2}=0.01T-0.2$$\n",
    "a) Usando `scipy.integrate.solve_bvp` resolver este equacion diferencial cumpliendo siguientes condiciones de limite:\n",
    "\n",
    "T(x=0)=40  \n",
    "T(x=10)=200\n",
    "\n",
    "b) Hace grafico de T(x) vs x (con etiquietas y legend) "
   ]
  },
  {
   "cell_type": "code",
   "execution_count": 1,
   "id": "Yo9iTvEBUvte",
   "metadata": {
    "id": "Yo9iTvEBUvte"
   },
   "outputs": [],
   "source": [
    "from scipy.integrate import solve_ivp\n",
    "from scipy.integrate import solve_bvp\n",
    "import matplotlib.pyplot as plt\n",
    "import numpy as np"
   ]
  },
  {
   "cell_type": "code",
   "execution_count": 2,
   "id": "kHNInzVIcaLZ",
   "metadata": {
    "id": "kHNInzVIcaLZ"
   },
   "outputs": [],
   "source": [
    "x_steps = 100\n",
    "y0 = np.ones((2, x_steps))\n",
    "x = np.linspace(0, 10, x_steps)"
   ]
  },
  {
   "cell_type": "code",
   "execution_count": 39,
   "id": "ZehpzNR4UwVj",
   "metadata": {
    "id": "ZehpzNR4UwVj"
   },
   "outputs": [],
   "source": [
    "def derivs(x, y):\n",
    "    dTdx = np.zeros((y.shape))\n",
    "    dTdx[0] = y[1]\n",
    "    dTdx[1] = 0.01*y[0] - 0.2\n",
    "    return dTdx\n",
    "\n",
    "def bc(ya, yb):\n",
    "    residuals = np.array([0.0,0.0])\n",
    "    residuals[0] = ya[0] - 0.0\n",
    "    residuals[1] = yb[0] - 200\n",
    "    print(ya[1])\n",
    "\n",
    "    return residuals"
   ]
  },
  {
   "cell_type": "code",
   "execution_count": 40,
   "id": "YUDoKr7AdfLU",
   "metadata": {
    "colab": {
     "base_uri": "https://localhost:8080/"
    },
    "id": "YUDoKr7AdfLU",
    "outputId": "21be92ae-e993-4472-c2db-90d728a6e3bd"
   },
   "outputs": [
    {
     "name": "stdout",
     "output_type": "stream",
     "text": [
      "1.0\n",
      "1.0\n",
      "1.0\n",
      "1.0000000298023224\n",
      "1.0\n",
      "1.0\n",
      "17.942596939662874\n",
      "17.942596939662874\n"
     ]
    }
   ],
   "source": [
    "sol = solve_bvp(derivs, bc, x, y0)"
   ]
  },
  {
   "cell_type": "code",
   "execution_count": 41,
   "id": "y41W0eLVd57V",
   "metadata": {
    "colab": {
     "base_uri": "https://localhost:8080/"
    },
    "id": "y41W0eLVd57V",
    "outputId": "245dc651-5d87-4887-b441-73a1b182a341"
   },
   "outputs": [
    {
     "data": {
      "text/plain": [
       "17.942596939662874"
      ]
     },
     "execution_count": 41,
     "metadata": {},
     "output_type": "execute_result"
    }
   ],
   "source": [
    "sol.y[1][0]"
   ]
  },
  {
   "cell_type": "code",
   "execution_count": 42,
   "id": "PfUTfFfgeDKs",
   "metadata": {
    "colab": {
     "base_uri": "https://localhost:8080/",
     "height": 378
    },
    "id": "PfUTfFfgeDKs",
    "outputId": "d759710c-9cee-4588-fc7d-7f25fa9492b9"
   },
   "outputs": [
    {
     "name": "stdout",
     "output_type": "stream",
     "text": [
      "\n"
     ]
    },
    {
     "data": {
      "image/png": "[encoded data removed]",
      "text/plain": [
       "<Figure size 576x396 with 1 Axes>"
      ]
     },
     "metadata": {},
     "output_type": "display_data"
    }
   ],
   "source": [
    "plt.style.use(\"seaborn\")\n",
    "fig, ax = plt.subplots()\n",
    "ax.plot(sol.x, sol.y[0],'-r',label='Transporte de calor en un objeto')\n",
    "ax.plot(10, 200,'.b')\n",
    "ax.set_xlabel('$x$')\n",
    "ax.set_ylabel('$T(x)$')\n",
    "ax.legend()\n",
    "print(\"\")"
   ]
  },
  {
   "cell_type": "markdown",
   "id": "sized-liberty",
   "metadata": {
    "id": "sized-liberty"
   },
   "source": [
    "## Ejercicio 2.  $\\color{red}{\\text{(4p)}}$ Ecuaciones diferenciales - problema de valor inicial (initial value problem).\n",
    "\n",
    "La ley de Newton del enfriamiento tiene forma de ecuación diferencial\n",
    "\n",
    "$$\\frac{dy}{dt}=k(y-T_{amb}) $$\n",
    "\n",
    "\n",
    "donde:\n",
    "* y es la temperatura actual de un objeto\n",
    "* t es tiempo\n",
    "* k es un valor constante de enfriamiento\n",
    "* $T_{amb}$ es la temperatura del ambiente\n",
    "\n",
    "Digamos que una taza de café tiene una temperatura inicial de 90 centígrados y la temperatura ambiente es de 25 centígrados.\n",
    "\n",
    "a) usando `scipy.integrate.solve_ivp` resolver ecuación diferencial:\n",
    "\n",
    "* para el rango t: t=[0:60], [minutos] (use 100 puntos)\n",
    "* asumir k=-0.06\n",
    "\n",
    "b) Hace grafico de $y(t)$ vs $t$ (con leyenda)\n",
    "* si le gusta tomar café cuando está a más de 70 grados, ¿cuál es el tiempo máximo que puede esperar antes de beber el café (puede obtener índices usando `np.argwhere` para obtener un rango de temperatura más preciso)"
   ]
  },
  {
   "cell_type": "code",
   "execution_count": 7,
   "id": "e2hmop4ugz9N",
   "metadata": {
    "id": "e2hmop4ugz9N"
   },
   "outputs": [],
   "source": [
    "myt_eval = np.linspace(0, 60, 100)\n",
    "y01 = [90.0]\n",
    "Tamb = 25\n",
    "k = -0.06\n",
    "t_span=[0, 60.0]\n",
    "\n",
    "def dervs(t, y):\n",
    "    return k * (y-Tamb)"
   ]
  },
  {
   "cell_type": "code",
   "execution_count": 8,
   "id": "poG-Augwnyhx",
   "metadata": {
    "id": "poG-Augwnyhx"
   },
   "outputs": [],
   "source": [
    "sol1 = solve_ivp(dervs, t_span, y01, method='RK45', t_eval = myt_eval)"
   ]
  },
  {
   "cell_type": "code",
   "execution_count": 9,
   "id": "GyywEsxFoW-x",
   "metadata": {
    "colab": {
     "base_uri": "https://localhost:8080/",
     "height": 398
    },
    "id": "GyywEsxFoW-x",
    "outputId": "24606023-9991-4774-92f2-ef6c3a02b008"
   },
   "outputs": [
    {
     "name": "stdout",
     "output_type": "stream",
     "text": [
      "The solver successfully reached the end of the integration interval.\n",
      "\n"
     ]
    },
    {
     "data": {
      "image/png": "[encoded data removed]",
      "text/plain": [
       "<Figure size 576x396 with 1 Axes>"
      ]
     },
     "metadata": {},
     "output_type": "display_data"
    }
   ],
   "source": [
    "fig, ax = plt.subplots()\n",
    "print(sol1.message)\n",
    "ax.plot(sol1.t, sol1.y[0], color = \"purple\",label='scipy.integrate.solve_ivp')\n",
    "ax.set_xlabel('$t$')\n",
    "ax.set_ylabel('$y(t)$')\n",
    "ax.legend()\n",
    "print(\"\")"
   ]
  },
  {
   "cell_type": "code",
   "execution_count": 10,
   "id": "xjGWAiONrqOr",
   "metadata": {
    "colab": {
     "base_uri": "https://localhost:8080/"
    },
    "id": "xjGWAiONrqOr",
    "outputId": "79aa34c5-5f15-4d40-f1f4-e1e5effa22e2"
   },
   "outputs": [
    {
     "data": {
      "text/plain": [
       "70.15679530182268"
      ]
     },
     "execution_count": 10,
     "metadata": {},
     "output_type": "execute_result"
    }
   ],
   "source": [
    "sol1.y[0][10] # Temperatura"
   ]
  },
  {
   "cell_type": "code",
   "execution_count": 11,
   "id": "B8Bjvm1qr4Lx",
   "metadata": {
    "colab": {
     "base_uri": "https://localhost:8080/"
    },
    "id": "B8Bjvm1qr4Lx",
    "outputId": "45695436-2c5a-4039-9ae8-1759798618b9"
   },
   "outputs": [
    {
     "data": {
      "text/plain": [
       "6.0606060606060606"
      ]
     },
     "execution_count": 11,
     "metadata": {},
     "output_type": "execute_result"
    }
   ],
   "source": [
    "sol1.t[10] # Segundos"
   ]
  },
  {
   "cell_type": "code",
   "execution_count": 12,
   "id": "rFPbMIutsEbC",
   "metadata": {
    "colab": {
     "base_uri": "https://localhost:8080/"
    },
    "id": "rFPbMIutsEbC",
    "outputId": "9bfed534-524a-4fba-91fa-75b37053e893"
   },
   "outputs": [
    {
     "name": "stdout",
     "output_type": "stream",
     "text": [
      "El tiempo máximo que puede esperar antes de beber el café es 6.06 segundos aproximadamente.\n"
     ]
    }
   ],
   "source": [
    "print(f\"El tiempo máximo que puede esperar antes de beber el café es {sol1.t[10]:.2f} segundos aproximadamente.\")"
   ]
  },
  {
   "cell_type": "markdown",
   "id": "growing-acceptance",
   "metadata": {
    "id": "growing-acceptance"
   },
   "source": [
    "## Ejercicio 3.  $\\color{red}{\\text{(3p)}}$ Equaciones diferenciales - problema de valor de limite (boundary value problem).\n",
    "\n",
    "Los organizadores de un espectáculo de fuegos artificiales quieren que los fuegos exploten a 40 metros sobre el suelo 5 segundos después del lanzamiento. Encuentra la velocidad inicial del cohete. \n",
    "\n",
    "a) usar ecuacion diferencial segunda orden:\n",
    "\n",
    "$$\\frac{d^2y}{dt^2}= −g $$\n",
    "\n",
    "donde $y$ es altitud de cohete y,   \n",
    "\n",
    "b) hacer plot $y(t)$ vs $t$\n"
   ]
  },
  {
   "cell_type": "code",
   "execution_count": 13,
   "id": "4XPuKz_yhMBN",
   "metadata": {
    "id": "4XPuKz_yhMBN"
   },
   "outputs": [],
   "source": [
    "t_steps = 100\n",
    "y02 = np.ones((2, t_steps))\n",
    "t = np.linspace(0, 5, t_steps)"
   ]
  },
  {
   "cell_type": "code",
   "execution_count": 14,
   "id": "0ItPp0hIg8na",
   "metadata": {
    "id": "0ItPp0hIg8na"
   },
   "outputs": [],
   "source": [
    "def derivs2(t, y):\n",
    "    dydt = np.zeros((y.shape))\n",
    "    dydt[0] = y[1]\n",
    "    dydt[1] = -9.81\n",
    "    return dydt\n",
    "\n",
    "def bc2(ya, yb):\n",
    "    residuals = np.array([0.0,0.0])\n",
    "    residuals[0] = ya[0] - 0.0\n",
    "    residuals[1] = yb[0] - 40.0\n",
    "    print(ya[1])\n",
    "\n",
    "    return residuals"
   ]
  },
  {
   "cell_type": "code",
   "execution_count": 15,
   "id": "i5oJhj8BiPU8",
   "metadata": {
    "colab": {
     "base_uri": "https://localhost:8080/"
    },
    "id": "i5oJhj8BiPU8",
    "outputId": "9f2d9d3b-9351-492c-924f-fd0124d5aa07"
   },
   "outputs": [
    {
     "name": "stdout",
     "output_type": "stream",
     "text": [
      "1.0\n",
      "1.0\n",
      "1.0\n",
      "1.0000000298023224\n",
      "1.0\n",
      "1.0\n",
      "32.52499999999998\n",
      "32.52499999999998\n"
     ]
    }
   ],
   "source": [
    "sol2 = solve_bvp(derivs2, bc2, t, y02)"
   ]
  },
  {
   "cell_type": "code",
   "execution_count": 16,
   "id": "jk8Dn2Q7iXr-",
   "metadata": {
    "colab": {
     "base_uri": "https://localhost:8080/"
    },
    "id": "jk8Dn2Q7iXr-",
    "outputId": "947a73fd-37bf-4391-b90c-8d3bacbe21df"
   },
   "outputs": [
    {
     "data": {
      "text/plain": [
       "32.52499999999998"
      ]
     },
     "execution_count": 16,
     "metadata": {},
     "output_type": "execute_result"
    }
   ],
   "source": [
    "sol2.y[1][0] # Vel. inicial"
   ]
  },
  {
   "cell_type": "code",
   "execution_count": 17,
   "id": "0-povBogif4m",
   "metadata": {
    "colab": {
     "base_uri": "https://localhost:8080/",
     "height": 380
    },
    "id": "0-povBogif4m",
    "outputId": "5380bc85-bdcf-41f7-8cf5-fc3a2ac6af86"
   },
   "outputs": [
    {
     "name": "stdout",
     "output_type": "stream",
     "text": [
      "\n"
     ]
    },
    {
     "data": {
      "image/png": "[encoded data removed]",
      "text/plain": [
       "<Figure size 576x396 with 1 Axes>"
      ]
     },
     "metadata": {},
     "output_type": "display_data"
    }
   ],
   "source": [
    "fig, ax = plt.subplots()\n",
    "ax.plot(sol2.x, sol2.y[0], color = \"darkgreen\", label='vertical launch: y vs time')\n",
    "ax.plot(5, 40,'.b')\n",
    "ax.set_xlabel('$t$')\n",
    "ax.set_ylabel('$y(t)$')\n",
    "ax.legend()\n",
    "print(\"\")"
   ]
  },
  {
   "cell_type": "markdown",
   "id": "insured-suspect",
   "metadata": {
    "id": "insured-suspect"
   },
   "source": [
    "## Ejercicio 4 Ecuaciones diferenciales acopladas - problema de valor inicial `scipy.integrate.solve_ivp` $\\color{red}{\\text{(10p)}}$ o `otros metodos`  $\\color{red}{\\text{(7p)}}$\n",
    "\n",
    "Las ecuaciones de Lotka-Volterra, también conocidas como ecuaciones depredador-presa, son un par de ecuaciones de primer orden, no lineales, ecuaciones diferenciales utilizadas con frecuencia para describir la dinámica de los sistemas biológicos en los que interactúan dos especies, uno como depredador y el otro como presa. Las poblaciones cambian a través del tiempo de acuerdo con el par de ecuaciones:"
   ]
  },
  {
   "cell_type": "markdown",
   "id": "interesting-luxury",
   "metadata": {
    "id": "interesting-luxury"
   },
   "source": [
    "$$\\frac{dx}{dt}=x(\\color{red}{\\alpha}-\\color{red}{\\beta} y)$$\n",
    "$$\\frac{dy}{dt}=-y(\\color{red}{\\gamma}-\\color{red}{\\delta} x)$$"
   ]
  },
  {
   "cell_type": "markdown",
   "id": "compliant-potato",
   "metadata": {
    "id": "compliant-potato"
   },
   "source": [
    "Esa ecuación describiría la evolución de la población de conejos y zorros (condiciones perfectas)\n",
    "\n",
    "* x - numbero de conejos  \n",
    "* y - numbero de zorros\n",
    "\n",
    "* $\\color{red}{\\alpha, \\beta, \\gamma, \\delta }$ son parámetros que describen la interacción de las dos especies\n",
    "\n",
    "* $\\frac{dx}{dt}, \\frac{dy}{dt}$ representan las tasas de crecimiento de las dos poblaciones a lo largo del tiempo\n",
    "\n",
    "* $t$ es tiempo"
   ]
  },
  {
   "cell_type": "markdown",
   "id": "auburn-charlotte",
   "metadata": {
    "id": "auburn-charlotte"
   },
   "source": [
    "<img src=\"rabbits_foxes.png\" width=\"400\" />"
   ]
  },
  {
   "cell_type": "markdown",
   "id": "wrapped-edmonton",
   "metadata": {
    "id": "wrapped-edmonton"
   },
   "source": [
    "a) solucionar los ecuaciones diferenciales usando `scipy.integrate.solve_ivp` $\\color{red}{\\text{(10p)}}$ o `otros metodos`  $\\color{red}{\\text{(7p)}}$\n",
    "asumir: \n",
    "* $\\alpha, \\beta, \\gamma, \\delta = 1$\n",
    "* $x_{ini}=4$\n",
    "* $y_{ini}=2$\n",
    "* $t=0:30$ (unidades arbitrarias, asumir meses)\n",
    "\n",
    "b) hacer plot con dos curvas: $x$ vs. $t$ , $y$ vs. $t$   \n",
    "c) hacer plot $x vs y$  \n",
    "d) comentar sobre los dos plots  "
   ]
  },
  {
   "cell_type": "markdown",
   "id": "central-dispute",
   "metadata": {
    "id": "lasting-courtesy"
   },
   "source": [
    "# Feedback:\n",
    "```\n",
    "Exercise 1.\n",
    "Solution + presentation of the results\t            (max 3.0p):\t2.5p\n",
    "error: residuals[0] = ya[0] - 0.0\n",
    "    \n",
    "Exercise 2.\n",
    "Solution + presentation of the results\t            (max 4.0p):\t4.0p\n",
    "\n",
    "Exercise 3.\n",
    "Solution + presentation of the results\t            (max 3.0p):\t3.0p\n",
    "\n",
    "Exercise 4 ODEINT.\n",
    "Solution + presentation of the results\t            (max 7.0p):\t0.0p\n",
    "\n",
    "Exercise 4 IVP.\n",
    "Solution + presentation of the results\t            (max 10.0p):  00.0p\n",
    "\n",
    "\n",
    "\n",
    "- Total:                                              (max 10.0p):   9.5p\n",
    "```"
   ]
  },
  {
   "cell_type": "code",
   "execution_count": null,
   "id": "violent-helena",
   "metadata": {},
   "outputs": [],
   "source": []
  }
 ],
 "metadata": {
  "colab": {
   "name": "examen_parcial_4_DavidVasquez.ipynb",
   "provenance": []
  },
  "kernelspec": {
   "display_name": "Python 3",
   "language": "python",
   "name": "python3"
  },
  "language_info": {
   "codemirror_mode": {
    "name": "ipython",
    "version": 3
   },
   "file_extension": ".py",
   "mimetype": "text/x-python",
   "name": "python",
   "nbconvert_exporter": "python",
   "pygments_lexer": "ipython3",
   "version": "3.7.2"
  }
 },
 "nbformat": 4,
 "nbformat_minor": 5
}
