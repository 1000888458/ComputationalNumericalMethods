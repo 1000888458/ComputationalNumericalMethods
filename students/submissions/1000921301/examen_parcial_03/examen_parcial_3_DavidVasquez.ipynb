{
 "cells": [
  {
   "cell_type": "markdown",
   "id": "plain-rugby",
   "metadata": {
    "id": "plain-rugby"
   },
   "source": [
    "# Examen parcial 3 (calculo numerico y algebra lineal)\n",
    "* Antes de enviar el archivo, $\\textbf{reiniciar y ejecutar el kernel}$ para ver que el archivo se compila sin errores\n",
    "* enviar el archivo jupyter sin anexos antes de las 10.10am del 30.03.2022 a mi dirección de correo electrónico: michal.hemmerling@udea.edu.co "
   ]
  },
  {
   "cell_type": "markdown",
   "id": "usual-washer",
   "metadata": {
    "id": "usual-washer"
   },
   "source": [
    "# Ejercicio 1"
   ]
  },
  {
   "cell_type": "markdown",
   "id": "pretty-conference",
   "metadata": {
    "id": "pretty-conference"
   },
   "source": [
    "El archivo $\\textbf{data_radius_density.csv}$ contiene dos columnas: radio ($ r $) y la densidad ($ \\rho (r) $) de un disco plano en función del radio\n",
    "\n",
    "El disco es lo suficientemente delgado como para que, con fines matemáticos, podamos tratarlo como un objeto bidimensional. Asumimos que la densidad se da en términos de masa por unidad de área (llamada densidad de área), y además asumimos que la densidad varía solo a lo largo del radio del disco (llamada densidad radial). Orientamos el disco en el plano xy, con el centro en el origen. Entonces, la densidad del disco puede ser tratada como una función de x, denotada $\\rho(x)$.\n",
    "<table><tr>\n",
    "<td> <img src=\"disk_radius_density.png\" width=\"500\" /> </td>\n",
    "</tr></table>   \n",
    "\n",
    "* a) importar los datos usando Pandas, graficar la densidad del disco frente a su radio (los gráficos deben tener etiquetas para el eje `x` y el eje `y`).\n",
    "\n",
    "* b) sabiendo que la masa del disco viene dada por una integral:\n",
    "$$ m = \\int_0^{r} 2 \\pi \\ r * \\rho (r) \\ dr $$\n",
    "     calcular la masa del disco mediante integración numérica\n",
    "\n",
    "* Pista:`x`: is radius and `y`: is ***integrand***\n"
   ]
  },
  {
   "cell_type": "code",
   "execution_count": 46,
   "id": "valuable-august",
   "metadata": {
    "id": "valuable-august"
   },
   "outputs": [],
   "source": [
    "import pandas as pd\n",
    "import numpy as np\n",
    "import matplotlib.pyplot as plt\n",
    "import scipy.integrate as integrate\n",
    "from scipy.interpolate import interp1d"
   ]
  },
  {
   "cell_type": "code",
   "execution_count": 6,
   "id": "YURIPqHe-ZCE",
   "metadata": {
    "colab": {
     "base_uri": "https://localhost:8080/",
     "height": 423
    },
    "id": "YURIPqHe-ZCE",
    "outputId": "97754b1a-2b04-4018-b93f-75a0fc8c5429"
   },
   "outputs": [
    {
     "data": {
      "text/html": [
       "\n",
       "  <div id=\"df-0451dbb9-3cfa-4f08-9b49-b2d969c875d5\">\n",
       "    <div class=\"colab-df-container\">\n",
       "      <div>\n",
       "<style scoped>\n",
       "    .dataframe tbody tr th:only-of-type {\n",
       "        vertical-align: middle;\n",
       "    }\n",
       "\n",
       "    .dataframe tbody tr th {\n",
       "        vertical-align: top;\n",
       "    }\n",
       "\n",
       "    .dataframe thead th {\n",
       "        text-align: right;\n",
       "    }\n",
       "</style>\n",
       "<table border=\"1\" class=\"dataframe\">\n",
       "  <thead>\n",
       "    <tr style=\"text-align: right;\">\n",
       "      <th></th>\n",
       "      <th>radius</th>\n",
       "      <th>density</th>\n",
       "    </tr>\n",
       "  </thead>\n",
       "  <tbody>\n",
       "    <tr>\n",
       "      <th>0</th>\n",
       "      <td>0.000000</td>\n",
       "      <td>0.000000</td>\n",
       "    </tr>\n",
       "    <tr>\n",
       "      <th>1</th>\n",
       "      <td>0.040404</td>\n",
       "      <td>0.201008</td>\n",
       "    </tr>\n",
       "    <tr>\n",
       "      <th>2</th>\n",
       "      <td>0.080808</td>\n",
       "      <td>0.284268</td>\n",
       "    </tr>\n",
       "    <tr>\n",
       "      <th>3</th>\n",
       "      <td>0.121212</td>\n",
       "      <td>0.348155</td>\n",
       "    </tr>\n",
       "    <tr>\n",
       "      <th>4</th>\n",
       "      <td>0.161616</td>\n",
       "      <td>0.402015</td>\n",
       "    </tr>\n",
       "    <tr>\n",
       "      <th>...</th>\n",
       "      <td>...</td>\n",
       "      <td>...</td>\n",
       "    </tr>\n",
       "    <tr>\n",
       "      <th>95</th>\n",
       "      <td>3.838384</td>\n",
       "      <td>1.959179</td>\n",
       "    </tr>\n",
       "    <tr>\n",
       "      <th>96</th>\n",
       "      <td>3.878788</td>\n",
       "      <td>1.969464</td>\n",
       "    </tr>\n",
       "    <tr>\n",
       "      <th>97</th>\n",
       "      <td>3.919192</td>\n",
       "      <td>1.979695</td>\n",
       "    </tr>\n",
       "    <tr>\n",
       "      <th>98</th>\n",
       "      <td>3.959596</td>\n",
       "      <td>1.989873</td>\n",
       "    </tr>\n",
       "    <tr>\n",
       "      <th>99</th>\n",
       "      <td>4.000000</td>\n",
       "      <td>2.000000</td>\n",
       "    </tr>\n",
       "  </tbody>\n",
       "</table>\n",
       "<p>100 rows × 2 columns</p>\n",
       "</div>\n",
       "      <button class=\"colab-df-convert\" onclick=\"convertToInteractive('df-0451dbb9-3cfa-4f08-9b49-b2d969c875d5')\"\n",
       "              title=\"Convert this dataframe to an interactive table.\"\n",
       "              style=\"display:none;\">\n",
       "        \n",
       "  <svg xmlns=\"http://www.w3.org/2000/svg\" height=\"24px\"viewBox=\"0 0 24 24\"\n",
       "       width=\"24px\">\n",
       "    <path d=\"M0 0h24v24H0V0z\" fill=\"none\"/>\n",
       "    <path d=\"M18.56 5.44l.94 2.06.94-2.06 2.06-.94-2.06-.94-.94-2.06-.94 2.06-2.06.94zm-11 1L8.5 8.5l.94-2.06 2.06-.94-2.06-.94L8.5 2.5l-.94 2.06-2.06.94zm10 10l.94 2.06.94-2.06 2.06-.94-2.06-.94-.94-2.06-.94 2.06-2.06.94z\"/><path d=\"M17.41 7.96l-1.37-1.37c-.4-.4-.92-.59-1.43-.59-.52 0-1.04.2-1.43.59L10.3 9.45l-7.72 7.72c-.78.78-.78 2.05 0 2.83L4 21.41c.39.39.9.59 1.41.59.51 0 1.02-.2 1.41-.59l7.78-7.78 2.81-2.81c.8-.78.8-2.07 0-2.86zM5.41 20L4 18.59l7.72-7.72 1.47 1.35L5.41 20z\"/>\n",
       "  </svg>\n",
       "      </button>\n",
       "      \n",
       "  <style>\n",
       "    .colab-df-container {\n",
       "      display:flex;\n",
       "      flex-wrap:wrap;\n",
       "      gap: 12px;\n",
       "    }\n",
       "\n",
       "    .colab-df-convert {\n",
       "      background-color: #E8F0FE;\n",
       "      border: none;\n",
       "      border-radius: 50%;\n",
       "      cursor: pointer;\n",
       "      display: none;\n",
       "      fill: #1967D2;\n",
       "      height: 32px;\n",
       "      padding: 0 0 0 0;\n",
       "      width: 32px;\n",
       "    }\n",
       "\n",
       "    .colab-df-convert:hover {\n",
       "      background-color: #E2EBFA;\n",
       "      box-shadow: 0px 1px 2px rgba(60, 64, 67, 0.3), 0px 1px 3px 1px rgba(60, 64, 67, 0.15);\n",
       "      fill: #174EA6;\n",
       "    }\n",
       "\n",
       "    [theme=dark] .colab-df-convert {\n",
       "      background-color: #3B4455;\n",
       "      fill: #D2E3FC;\n",
       "    }\n",
       "\n",
       "    [theme=dark] .colab-df-convert:hover {\n",
       "      background-color: #434B5C;\n",
       "      box-shadow: 0px 1px 3px 1px rgba(0, 0, 0, 0.15);\n",
       "      filter: drop-shadow(0px 1px 2px rgba(0, 0, 0, 0.3));\n",
       "      fill: #FFFFFF;\n",
       "    }\n",
       "  </style>\n",
       "\n",
       "      <script>\n",
       "        const buttonEl =\n",
       "          document.querySelector('#df-0451dbb9-3cfa-4f08-9b49-b2d969c875d5 button.colab-df-convert');\n",
       "        buttonEl.style.display =\n",
       "          google.colab.kernel.accessAllowed ? 'block' : 'none';\n",
       "\n",
       "        async function convertToInteractive(key) {\n",
       "          const element = document.querySelector('#df-0451dbb9-3cfa-4f08-9b49-b2d969c875d5');\n",
       "          const dataTable =\n",
       "            await google.colab.kernel.invokeFunction('convertToInteractive',\n",
       "                                                     [key], {});\n",
       "          if (!dataTable) return;\n",
       "\n",
       "          const docLinkHtml = 'Like what you see? Visit the ' +\n",
       "            '<a target=\"_blank\" href=https://colab.research.google.com/notebooks/data_table.ipynb>data table notebook</a>'\n",
       "            + ' to learn more about interactive tables.';\n",
       "          element.innerHTML = '';\n",
       "          dataTable['output_type'] = 'display_data';\n",
       "          await google.colab.output.renderOutput(dataTable, element);\n",
       "          const docLink = document.createElement('div');\n",
       "          docLink.innerHTML = docLinkHtml;\n",
       "          element.appendChild(docLink);\n",
       "        }\n",
       "      </script>\n",
       "    </div>\n",
       "  </div>\n",
       "  "
      ],
      "text/plain": [
       "      radius   density\n",
       "0   0.000000  0.000000\n",
       "1   0.040404  0.201008\n",
       "2   0.080808  0.284268\n",
       "3   0.121212  0.348155\n",
       "4   0.161616  0.402015\n",
       "..       ...       ...\n",
       "95  3.838384  1.959179\n",
       "96  3.878788  1.969464\n",
       "97  3.919192  1.979695\n",
       "98  3.959596  1.989873\n",
       "99  4.000000  2.000000\n",
       "\n",
       "[100 rows x 2 columns]"
      ]
     },
     "execution_count": 6,
     "metadata": {},
     "output_type": "execute_result"
    }
   ],
   "source": [
    "Data1 = pd.read_csv('data_radius_density.csv')\n",
    "Data1"
   ]
  },
  {
   "cell_type": "code",
   "execution_count": 36,
   "id": "WUsRmWvC_5y_",
   "metadata": {
    "colab": {
     "base_uri": "https://localhost:8080/",
     "height": 478
    },
    "id": "WUsRmWvC_5y_",
    "outputId": "1001bc98-5e79-4789-f4d4-764f7257d5d4"
   },
   "outputs": [
    {
     "name": "stdout",
     "output_type": "stream",
     "text": [
      "\n"
     ]
    },
    {
     "data": {
      "image/png": "[encoded data removed]",
      "text/plain": [
       "<Figure size 720x504 with 1 Axes>"
      ]
     },
     "metadata": {},
     "output_type": "display_data"
    }
   ],
   "source": [
    "# PUNTO a).\n",
    "plt.style.use(\"seaborn\")\n",
    "fig, ax = plt.subplots(figsize = (10,7))\n",
    "\n",
    "ax.set_title(\"Density vs Radius\")\n",
    "ax.set_xlabel(\"$Radius[m]$\")\n",
    "ax.set_ylabel(\"$Density[kg/m^2]$\")\n",
    "\n",
    "ax.plot(Data1[\"radius\"], Data1[\"density\"], color = \"darkred\", label = \"Density\")\n",
    "ax.legend(loc = \"center right\")\n",
    "print(\"\")"
   ]
  },
  {
   "cell_type": "code",
   "execution_count": 55,
   "id": "qcb6pDifEGcS",
   "metadata": {
    "colab": {
     "base_uri": "https://localhost:8080/"
    },
    "id": "qcb6pDifEGcS",
    "outputId": "6e478ad4-2847-40ba-8d8a-96c6e159045f"
   },
   "outputs": [
    {
     "name": "stdout",
     "output_type": "stream",
     "text": [
      "La masa del disco es de: 80.42 kg.\n"
     ]
    }
   ],
   "source": [
    "# PUNTO b).\n",
    "X = Data1[\"radius\"]\n",
    "Y = Data1[\"density\"] * 2*np.pi*X\n",
    "\n",
    "m = integrate.simps(Y,X)\n",
    "\n",
    "print(f\"La masa del disco es de: {m:.2f} kg.\")"
   ]
  },
  {
   "cell_type": "markdown",
   "id": "handy-obligation",
   "metadata": {
    "id": "handy-obligation"
   },
   "source": [
    "# Ejercicio 2"
   ]
  },
  {
   "cell_type": "markdown",
   "id": "broken-belfast",
   "metadata": {
    "id": "broken-belfast"
   },
   "source": [
    "La capacidad calorífica de un gas muy frío se puede aproximar mediante:\n",
    "\n",
    "$$ C_v \\approx \\left (\\frac{dP}{dT} \\right) $$\n",
    "(en las unidades de $ \\left [\\frac {J} {K} \\right] $)\n",
    "\n",
    "Donde $P$ es la presión $ [J / s^3] $ del gas y $ T \\ [K] $ es la temperatura del gas.\n",
    "\n",
    "Los datos para la presión frente a la temperatura se dan en el archivo csv ($ \\textbf{data_pressure_vs_temperature.csv} $).\n",
    "\n",
    "* a) importar los datos usando pandas\n",
    "* b) hacer un gráfico de $P$ vs $T$ (grafico tiene que tener etiquietas)\n",
    "* c) utilizando la derivada numérica, encuentre la capacidad calorífica.\n",
    "* d) hacer un gráfico de $C_v$ vs $T$ (grafico tiene que tener etiquietas)\n",
    "* e) usando el ultimo grafico hace una estimacion de Temperatura Critica de este gas (Temperatura Critica es Temperatura de cambio abrupto del comportamiento de Capacidad Termica)\n",
    "* f) hace interpolacion cubica (100 puntos) de los valores de pression $P$, repite puntos `c)` y `d)`\n",
    "\n",
    "*gas muy frío se refiere a un gas Bose no homogéneo, y la teoría que relaciona $ C_v $ y $ P $ se refiere a la Teoría de Variables Globales Termodinámicas. La presión en realidad se llama parámetro de presión."
   ]
  },
  {
   "cell_type": "code",
   "execution_count": 34,
   "id": "written-adrian",
   "metadata": {
    "colab": {
     "base_uri": "https://localhost:8080/",
     "height": 1000
    },
    "id": "written-adrian",
    "outputId": "8d5790d8-eda6-4bc2-ce85-d23dd6f1ad22"
   },
   "outputs": [
    {
     "data": {
      "text/html": [
       "\n",
       "  <div id=\"df-13264224-5aed-4cdb-bb3c-753c62b52be7\">\n",
       "    <div class=\"colab-df-container\">\n",
       "      <div>\n",
       "<style scoped>\n",
       "    .dataframe tbody tr th:only-of-type {\n",
       "        vertical-align: middle;\n",
       "    }\n",
       "\n",
       "    .dataframe tbody tr th {\n",
       "        vertical-align: top;\n",
       "    }\n",
       "\n",
       "    .dataframe thead th {\n",
       "        text-align: right;\n",
       "    }\n",
       "</style>\n",
       "<table border=\"1\" class=\"dataframe\">\n",
       "  <thead>\n",
       "    <tr style=\"text-align: right;\">\n",
       "      <th></th>\n",
       "      <th>Temperature</th>\n",
       "      <th>Pressure</th>\n",
       "    </tr>\n",
       "  </thead>\n",
       "  <tbody>\n",
       "    <tr>\n",
       "      <th>0</th>\n",
       "      <td>4.789201e-08</td>\n",
       "      <td>1.958251e-17</td>\n",
       "    </tr>\n",
       "    <tr>\n",
       "      <th>1</th>\n",
       "      <td>6.625061e-08</td>\n",
       "      <td>2.055515e-17</td>\n",
       "    </tr>\n",
       "    <tr>\n",
       "      <th>2</th>\n",
       "      <td>8.460922e-08</td>\n",
       "      <td>2.237848e-17</td>\n",
       "    </tr>\n",
       "    <tr>\n",
       "      <th>3</th>\n",
       "      <td>1.029678e-07</td>\n",
       "      <td>2.534132e-17</td>\n",
       "    </tr>\n",
       "    <tr>\n",
       "      <th>4</th>\n",
       "      <td>1.213264e-07</td>\n",
       "      <td>2.994527e-17</td>\n",
       "    </tr>\n",
       "    <tr>\n",
       "      <th>5</th>\n",
       "      <td>1.396850e-07</td>\n",
       "      <td>3.681453e-17</td>\n",
       "    </tr>\n",
       "    <tr>\n",
       "      <th>6</th>\n",
       "      <td>1.580436e-07</td>\n",
       "      <td>4.642824e-17</td>\n",
       "    </tr>\n",
       "    <tr>\n",
       "      <th>7</th>\n",
       "      <td>1.764022e-07</td>\n",
       "      <td>5.895152e-17</td>\n",
       "    </tr>\n",
       "    <tr>\n",
       "      <th>8</th>\n",
       "      <td>1.947608e-07</td>\n",
       "      <td>7.447724e-17</td>\n",
       "    </tr>\n",
       "    <tr>\n",
       "      <th>9</th>\n",
       "      <td>2.131194e-07</td>\n",
       "      <td>9.347272e-17</td>\n",
       "    </tr>\n",
       "    <tr>\n",
       "      <th>10</th>\n",
       "      <td>2.314781e-07</td>\n",
       "      <td>1.154354e-16</td>\n",
       "    </tr>\n",
       "    <tr>\n",
       "      <th>11</th>\n",
       "      <td>2.498367e-07</td>\n",
       "      <td>1.374488e-16</td>\n",
       "    </tr>\n",
       "    <tr>\n",
       "      <th>12</th>\n",
       "      <td>2.681953e-07</td>\n",
       "      <td>1.534382e-16</td>\n",
       "    </tr>\n",
       "    <tr>\n",
       "      <th>13</th>\n",
       "      <td>2.865539e-07</td>\n",
       "      <td>1.671772e-16</td>\n",
       "    </tr>\n",
       "    <tr>\n",
       "      <th>14</th>\n",
       "      <td>3.049125e-07</td>\n",
       "      <td>1.802543e-16</td>\n",
       "    </tr>\n",
       "    <tr>\n",
       "      <th>15</th>\n",
       "      <td>3.232711e-07</td>\n",
       "      <td>1.929425e-16</td>\n",
       "    </tr>\n",
       "    <tr>\n",
       "      <th>16</th>\n",
       "      <td>3.416297e-07</td>\n",
       "      <td>2.053711e-16</td>\n",
       "    </tr>\n",
       "    <tr>\n",
       "      <th>17</th>\n",
       "      <td>3.599883e-07</td>\n",
       "      <td>2.176142e-16</td>\n",
       "    </tr>\n",
       "    <tr>\n",
       "      <th>18</th>\n",
       "      <td>3.783469e-07</td>\n",
       "      <td>2.297188e-16</td>\n",
       "    </tr>\n",
       "    <tr>\n",
       "      <th>19</th>\n",
       "      <td>3.967055e-07</td>\n",
       "      <td>2.417169e-16</td>\n",
       "    </tr>\n",
       "    <tr>\n",
       "      <th>20</th>\n",
       "      <td>4.150641e-07</td>\n",
       "      <td>2.536311e-16</td>\n",
       "    </tr>\n",
       "    <tr>\n",
       "      <th>21</th>\n",
       "      <td>4.334227e-07</td>\n",
       "      <td>2.654779e-16</td>\n",
       "    </tr>\n",
       "    <tr>\n",
       "      <th>22</th>\n",
       "      <td>4.517813e-07</td>\n",
       "      <td>2.772699e-16</td>\n",
       "    </tr>\n",
       "    <tr>\n",
       "      <th>23</th>\n",
       "      <td>4.701399e-07</td>\n",
       "      <td>2.890164e-16</td>\n",
       "    </tr>\n",
       "    <tr>\n",
       "      <th>24</th>\n",
       "      <td>4.884985e-07</td>\n",
       "      <td>3.007252e-16</td>\n",
       "    </tr>\n",
       "    <tr>\n",
       "      <th>25</th>\n",
       "      <td>5.068571e-07</td>\n",
       "      <td>3.124020e-16</td>\n",
       "    </tr>\n",
       "    <tr>\n",
       "      <th>26</th>\n",
       "      <td>5.252157e-07</td>\n",
       "      <td>3.240518e-16</td>\n",
       "    </tr>\n",
       "    <tr>\n",
       "      <th>27</th>\n",
       "      <td>5.435743e-07</td>\n",
       "      <td>3.356784e-16</td>\n",
       "    </tr>\n",
       "    <tr>\n",
       "      <th>28</th>\n",
       "      <td>5.619329e-07</td>\n",
       "      <td>3.472849e-16</td>\n",
       "    </tr>\n",
       "    <tr>\n",
       "      <th>29</th>\n",
       "      <td>5.802915e-07</td>\n",
       "      <td>3.588741e-16</td>\n",
       "    </tr>\n",
       "    <tr>\n",
       "      <th>30</th>\n",
       "      <td>5.986501e-07</td>\n",
       "      <td>3.704482e-16</td>\n",
       "    </tr>\n",
       "  </tbody>\n",
       "</table>\n",
       "</div>\n",
       "      <button class=\"colab-df-convert\" onclick=\"convertToInteractive('df-13264224-5aed-4cdb-bb3c-753c62b52be7')\"\n",
       "              title=\"Convert this dataframe to an interactive table.\"\n",
       "              style=\"display:none;\">\n",
       "        \n",
       "  <svg xmlns=\"http://www.w3.org/2000/svg\" height=\"24px\"viewBox=\"0 0 24 24\"\n",
       "       width=\"24px\">\n",
       "    <path d=\"M0 0h24v24H0V0z\" fill=\"none\"/>\n",
       "    <path d=\"M18.56 5.44l.94 2.06.94-2.06 2.06-.94-2.06-.94-.94-2.06-.94 2.06-2.06.94zm-11 1L8.5 8.5l.94-2.06 2.06-.94-2.06-.94L8.5 2.5l-.94 2.06-2.06.94zm10 10l.94 2.06.94-2.06 2.06-.94-2.06-.94-.94-2.06-.94 2.06-2.06.94z\"/><path d=\"M17.41 7.96l-1.37-1.37c-.4-.4-.92-.59-1.43-.59-.52 0-1.04.2-1.43.59L10.3 9.45l-7.72 7.72c-.78.78-.78 2.05 0 2.83L4 21.41c.39.39.9.59 1.41.59.51 0 1.02-.2 1.41-.59l7.78-7.78 2.81-2.81c.8-.78.8-2.07 0-2.86zM5.41 20L4 18.59l7.72-7.72 1.47 1.35L5.41 20z\"/>\n",
       "  </svg>\n",
       "      </button>\n",
       "      \n",
       "  <style>\n",
       "    .colab-df-container {\n",
       "      display:flex;\n",
       "      flex-wrap:wrap;\n",
       "      gap: 12px;\n",
       "    }\n",
       "\n",
       "    .colab-df-convert {\n",
       "      background-color: #E8F0FE;\n",
       "      border: none;\n",
       "      border-radius: 50%;\n",
       "      cursor: pointer;\n",
       "      display: none;\n",
       "      fill: #1967D2;\n",
       "      height: 32px;\n",
       "      padding: 0 0 0 0;\n",
       "      width: 32px;\n",
       "    }\n",
       "\n",
       "    .colab-df-convert:hover {\n",
       "      background-color: #E2EBFA;\n",
       "      box-shadow: 0px 1px 2px rgba(60, 64, 67, 0.3), 0px 1px 3px 1px rgba(60, 64, 67, 0.15);\n",
       "      fill: #174EA6;\n",
       "    }\n",
       "\n",
       "    [theme=dark] .colab-df-convert {\n",
       "      background-color: #3B4455;\n",
       "      fill: #D2E3FC;\n",
       "    }\n",
       "\n",
       "    [theme=dark] .colab-df-convert:hover {\n",
       "      background-color: #434B5C;\n",
       "      box-shadow: 0px 1px 3px 1px rgba(0, 0, 0, 0.15);\n",
       "      filter: drop-shadow(0px 1px 2px rgba(0, 0, 0, 0.3));\n",
       "      fill: #FFFFFF;\n",
       "    }\n",
       "  </style>\n",
       "\n",
       "      <script>\n",
       "        const buttonEl =\n",
       "          document.querySelector('#df-13264224-5aed-4cdb-bb3c-753c62b52be7 button.colab-df-convert');\n",
       "        buttonEl.style.display =\n",
       "          google.colab.kernel.accessAllowed ? 'block' : 'none';\n",
       "\n",
       "        async function convertToInteractive(key) {\n",
       "          const element = document.querySelector('#df-13264224-5aed-4cdb-bb3c-753c62b52be7');\n",
       "          const dataTable =\n",
       "            await google.colab.kernel.invokeFunction('convertToInteractive',\n",
       "                                                     [key], {});\n",
       "          if (!dataTable) return;\n",
       "\n",
       "          const docLinkHtml = 'Like what you see? Visit the ' +\n",
       "            '<a target=\"_blank\" href=https://colab.research.google.com/notebooks/data_table.ipynb>data table notebook</a>'\n",
       "            + ' to learn more about interactive tables.';\n",
       "          element.innerHTML = '';\n",
       "          dataTable['output_type'] = 'display_data';\n",
       "          await google.colab.output.renderOutput(dataTable, element);\n",
       "          const docLink = document.createElement('div');\n",
       "          docLink.innerHTML = docLinkHtml;\n",
       "          element.appendChild(docLink);\n",
       "        }\n",
       "      </script>\n",
       "    </div>\n",
       "  </div>\n",
       "  "
      ],
      "text/plain": [
       "     Temperature      Pressure\n",
       "0   4.789201e-08  1.958251e-17\n",
       "1   6.625061e-08  2.055515e-17\n",
       "2   8.460922e-08  2.237848e-17\n",
       "3   1.029678e-07  2.534132e-17\n",
       "4   1.213264e-07  2.994527e-17\n",
       "5   1.396850e-07  3.681453e-17\n",
       "6   1.580436e-07  4.642824e-17\n",
       "7   1.764022e-07  5.895152e-17\n",
       "8   1.947608e-07  7.447724e-17\n",
       "9   2.131194e-07  9.347272e-17\n",
       "10  2.314781e-07  1.154354e-16\n",
       "11  2.498367e-07  1.374488e-16\n",
       "12  2.681953e-07  1.534382e-16\n",
       "13  2.865539e-07  1.671772e-16\n",
       "14  3.049125e-07  1.802543e-16\n",
       "15  3.232711e-07  1.929425e-16\n",
       "16  3.416297e-07  2.053711e-16\n",
       "17  3.599883e-07  2.176142e-16\n",
       "18  3.783469e-07  2.297188e-16\n",
       "19  3.967055e-07  2.417169e-16\n",
       "20  4.150641e-07  2.536311e-16\n",
       "21  4.334227e-07  2.654779e-16\n",
       "22  4.517813e-07  2.772699e-16\n",
       "23  4.701399e-07  2.890164e-16\n",
       "24  4.884985e-07  3.007252e-16\n",
       "25  5.068571e-07  3.124020e-16\n",
       "26  5.252157e-07  3.240518e-16\n",
       "27  5.435743e-07  3.356784e-16\n",
       "28  5.619329e-07  3.472849e-16\n",
       "29  5.802915e-07  3.588741e-16\n",
       "30  5.986501e-07  3.704482e-16"
      ]
     },
     "execution_count": 34,
     "metadata": {},
     "output_type": "execute_result"
    }
   ],
   "source": [
    "# PUNTO a).\n",
    "Data2 = pd.read_csv('data_pressure_vs_temparature.csv')\n",
    "Data2"
   ]
  },
  {
   "cell_type": "code",
   "execution_count": 37,
   "id": "OYnEGLJbG4zR",
   "metadata": {
    "colab": {
     "base_uri": "https://localhost:8080/",
     "height": 478
    },
    "id": "OYnEGLJbG4zR",
    "outputId": "43d93f25-abd4-47fc-e157-ce505548878b"
   },
   "outputs": [
    {
     "name": "stdout",
     "output_type": "stream",
     "text": [
      "\n"
     ]
    },
    {
     "data": {
      "image/png": "[encoded data removed]",
      "text/plain": [
       "<Figure size 720x504 with 1 Axes>"
      ]
     },
     "metadata": {},
     "output_type": "display_data"
    }
   ],
   "source": [
    "# PUNTO b).\n",
    "fig, ax = plt.subplots(figsize = (10,7))\n",
    "\n",
    "ax.set_title(\"Pressure vs Temperature\")\n",
    "ax.set_xlabel(\"$Temperature[K]$\")\n",
    "ax.set_ylabel(\"$Pressure[J/s3]$\")\n",
    "\n",
    "ax.plot(Data2[\"Temperature\"], Data2[\"Pressure\"], color = \"darkgreen\", label = \"Pressure\")\n",
    "ax.legend(loc = \"center right\")\n",
    "print(\"\")"
   ]
  },
  {
   "cell_type": "code",
   "execution_count": 49,
   "id": "A86FjhnfIgF8",
   "metadata": {
    "id": "A86FjhnfIgF8"
   },
   "outputs": [],
   "source": [
    "# PUNTO c).\n",
    "X = Data2[\"Temperature\"]\n",
    "Y = Data2[\"Pressure\"]\n",
    "\n",
    "Cv = np.gradient(Y, X)"
   ]
  },
  {
   "cell_type": "code",
   "execution_count": 41,
   "id": "PQ2AP9M4Jpi5",
   "metadata": {
    "colab": {
     "base_uri": "https://localhost:8080/",
     "height": 478
    },
    "id": "PQ2AP9M4Jpi5",
    "outputId": "973c6494-de98-4205-971f-65dc5c2c76a4"
   },
   "outputs": [
    {
     "name": "stdout",
     "output_type": "stream",
     "text": [
      "\n"
     ]
    },
    {
     "data": {
      "image/png": "[encoded data removed]",
      "text/plain": [
       "<Figure size 720x504 with 1 Axes>"
      ]
     },
     "metadata": {},
     "output_type": "display_data"
    }
   ],
   "source": [
    "# PUNTO d).\n",
    "fig, ax = plt.subplots(figsize = (10,7))\n",
    "\n",
    "ax.set_title(\"C_v vs Temperature\")\n",
    "ax.set_xlabel(\"$Temperature[K]$\")\n",
    "ax.set_ylabel(\"$C_v[J/K]$\")\n",
    "\n",
    "ax.plot(Data2[\"Temperature\"], Cv, color = \"darkblue\", label = \"$C_v$\")\n",
    "ax.legend(loc = \"upper left\")\n",
    "print(\"\")"
   ]
  },
  {
   "cell_type": "code",
   "execution_count": 47,
   "id": "W9vuTGJIMsda",
   "metadata": {
    "id": "W9vuTGJIMsda"
   },
   "outputs": [],
   "source": [
    "# PUNTO e).\n",
    "\n",
    "# Vemos que la temperatura crítica de este gas está alrededor de 2.3e-7 K."
   ]
  },
  {
   "cell_type": "code",
   "execution_count": 53,
   "id": "XJSmh59eObG3",
   "metadata": {
    "id": "XJSmh59eObG3"
   },
   "outputs": [],
   "source": [
    "# PUNTO f).\n",
    "Xi = np.linspace(Data2[\"Temperature\"][0], Data2[\"Temperature\"][30], 100)\n",
    "intrp = interp1d(X, Y, kind='cubic')"
   ]
  },
  {
   "cell_type": "code",
   "execution_count": 54,
   "id": "mafXMLREPtWv",
   "metadata": {
    "colab": {
     "base_uri": "https://localhost:8080/",
     "height": 478
    },
    "id": "mafXMLREPtWv",
    "outputId": "81da724b-5a2d-4ab5-ae1a-e0314e9b2443"
   },
   "outputs": [
    {
     "name": "stdout",
     "output_type": "stream",
     "text": [
      "\n"
     ]
    },
    {
     "data": {
      "image/png": "[encoded data removed]",
      "text/plain": [
       "<Figure size 720x504 with 1 Axes>"
      ]
     },
     "metadata": {},
     "output_type": "display_data"
    }
   ],
   "source": [
    "Cv = np.gradient(intrp(Xi), Xi)\n",
    "\n",
    "fig, ax = plt.subplots(figsize = (10,7))\n",
    "\n",
    "ax.set_title(\"C_v vs Temperature\")\n",
    "ax.set_xlabel(\"$Temperature[K]$\")\n",
    "ax.set_ylabel(\"$C_v[J/K]$\")\n",
    "\n",
    "ax.plot(Xi, Cv, color = \"darkblue\", label = \"$C_v$\")\n",
    "ax.legend(loc = \"upper left\")\n",
    "print(\"\")"
   ]
  },
  {
   "cell_type": "markdown",
   "id": "nominated-beast",
   "metadata": {
    "id": "nominated-beast"
   },
   "source": [
    "# Ejercicio 3"
   ]
  },
  {
   "cell_type": "markdown",
   "id": "amended-french",
   "metadata": {
    "id": "amended-french"
   },
   "source": [
    "Dada es Matrix $S$:\n",
    "\n",
    "$$S=\n",
    "\\begin{bmatrix}\n",
    "1 &  -1 & -1 & -1\\\\\n",
    "-1 &  2 & 0 & 0\\\\\n",
    "-1 &  3 & 3 & 0 \\\\\n",
    "-1 &  0 & 1 & 4 \\\\\n",
    "\\end{bmatrix}$$\n",
    "\n",
    "\n",
    "a) calcular $S^5$ utilizando diagonalización.  \n",
    "\n",
    "b) crear una funcion `matrix_power(A,n)` que recive dos parametros: matrix $A$, y valor entero de la potencia $n$. Funcion tiene que devolver una matrix $M=A^n$ (usa diagonalizacion)"
   ]
  },
  {
   "cell_type": "code",
   "execution_count": 60,
   "id": "interested-joshua",
   "metadata": {
    "colab": {
     "base_uri": "https://localhost:8080/"
    },
    "id": "interested-joshua",
    "outputId": "7fa183ed-ee24-4c8b-b8af-9329b5816225"
   },
   "outputs": [
    {
     "data": {
      "text/plain": [
       "array([[ 1, -1, -1, -1],\n",
       "       [-1,  2,  0,  0],\n",
       "       [-1,  3,  3,  0],\n",
       "       [-1,  0,  1,  4]])"
      ]
     },
     "execution_count": 60,
     "metadata": {},
     "output_type": "execute_result"
    }
   ],
   "source": [
    "# PUNTO a).\n",
    "S = np.array([[1,-1,-1,-1],\n",
    "            [-1,2,0,0],\n",
    "            [-1,3,3,0],\n",
    "            [-1,0,1,4]])\n",
    "S"
   ]
  },
  {
   "cell_type": "code",
   "execution_count": 64,
   "id": "QMnc372uWMXd",
   "metadata": {
    "colab": {
     "base_uri": "https://localhost:8080/"
    },
    "id": "QMnc372uWMXd",
    "outputId": "44fbec14-eb19-470c-bf89-aafc81fe3c8e"
   },
   "outputs": [
    {
     "data": {
      "text/plain": [
       "array([[  485.,  -755.,  -563.,  -563.],\n",
       "       [ -179.,   280.,   192.,   192.],\n",
       "       [ -675.,  1201.,   707.,   464.],\n",
       "       [-1027.,  1448.,  1275.,  1518.]])"
      ]
     },
     "execution_count": 64,
     "metadata": {},
     "output_type": "execute_result"
    }
   ],
   "source": [
    "evalues, evectors = np.linalg.eig(S)\n",
    "P = evectors\n",
    "D = np.diag(evalues)\n",
    "D = np.diag(evalues**5)\n",
    "\n",
    "S5 = P@D@np.linalg.inv(P)\n",
    "S5"
   ]
  },
  {
   "cell_type": "code",
   "execution_count": 66,
   "id": "DRHGbMLvXKD4",
   "metadata": {
    "id": "DRHGbMLvXKD4"
   },
   "outputs": [],
   "source": [
    "# PUNTO b).\n",
    "\n",
    "def my_matrix_power(A, n):\n",
    "  evalues, evectors = np.linalg.eig(A)\n",
    "  P = evectors\n",
    "  D = np.diag(evalues**n)\n",
    "\n",
    "  result = P@D@np.linalg.inv(P)\n",
    "\n",
    "  return result"
   ]
  },
  {
   "cell_type": "code",
   "execution_count": 67,
   "id": "viAXvRBoXikF",
   "metadata": {
    "colab": {
     "base_uri": "https://localhost:8080/"
    },
    "id": "viAXvRBoXikF",
    "outputId": "96b182b9-1e04-42a8-d55c-4228a9ebcdd8"
   },
   "outputs": [
    {
     "data": {
      "text/plain": [
       "array([[  485.,  -755.,  -563.,  -563.],\n",
       "       [ -179.,   280.,   192.,   192.],\n",
       "       [ -675.,  1201.,   707.,   464.],\n",
       "       [-1027.,  1448.,  1275.,  1518.]])"
      ]
     },
     "execution_count": 67,
     "metadata": {},
     "output_type": "execute_result"
    }
   ],
   "source": [
    "my_matrix_power(S, 5)"
   ]
  },
  {
   "cell_type": "code",
   "execution_count": 68,
   "id": "ZdF2Lw70Xuc9",
   "metadata": {
    "colab": {
     "base_uri": "https://localhost:8080/"
    },
    "id": "ZdF2Lw70Xuc9",
    "outputId": "1d5cf497-631a-4e12-d517-857386efe3c6"
   },
   "outputs": [
    {
     "name": "stdout",
     "output_type": "stream",
     "text": [
      "[[  485  -755  -563  -563]\n",
      " [ -179   280   192   192]\n",
      " [ -675  1201   707   464]\n",
      " [-1027  1448  1275  1518]]\n"
     ]
    }
   ],
   "source": [
    "# COMPARACION\n",
    "Spow = np.linalg.matrix_power(S, 5)\n",
    "print(Spow)"
   ]
  },
  {
   "cell_type": "markdown",
   "id": "liberal-renewal",
   "metadata": {},
   "source": [
    "# Feedback:\n",
    "```\n",
    "Exercise 1.\n",
    "Importation of the data + labeled plot (rho vs. r)\t            (max 0.5p):\t0.5p\n",
    "Calculation of the integral                 \t\t              (max 1.5p):\t1.5p\n",
    "\n",
    "Exercise 2.\n",
    "Importation of the data + labeled plot P vs. T \t               (max 0.5p):\t0.5p\n",
    "Calculation of the derivative and plot Cv vs. T        \t\t   (max 2.0p):\t2.0p\n",
    "Approximation of the critical temperature                         (max 0.5p):\t0.5p\n",
    "Interpolation                                                     (max 1.0p):\t1.0p\n",
    "\n",
    "Exercise 3.\n",
    "Calculation of the M^n                                 \t       (max 2.0p):\t2.0p\n",
    "Function of the M^n                                    \t       (max 2.0p):\t2.0p\n",
    "\n",
    "- Total:                                                          (max 10.0p):   10.0p\n",
    "```"
   ]
  },
  {
   "cell_type": "code",
   "execution_count": null,
   "id": "conventional-muslim",
   "metadata": {},
   "outputs": [],
   "source": []
  }
 ],
 "metadata": {
  "colab": {
   "name": "examen_parcial_3_DavidVasquez.ipynb",
   "provenance": []
  },
  "kernelspec": {
   "display_name": "Python 3",
   "language": "python",
   "name": "python3"
  },
  "language_info": {
   "codemirror_mode": {
    "name": "ipython",
    "version": 3
   },
   "file_extension": ".py",
   "mimetype": "text/x-python",
   "name": "python",
   "nbconvert_exporter": "python",
   "pygments_lexer": "ipython3",
   "version": "3.7.2"
  }
 },
 "nbformat": 4,
 "nbformat_minor": 5
}
