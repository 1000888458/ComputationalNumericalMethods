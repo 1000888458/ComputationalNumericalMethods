{
 "cells": [
  {
   "cell_type": "code",
   "execution_count": 1,
   "metadata": {
    "id": "WzX2PnBFJFS2"
   },
   "outputs": [],
   "source": [
    "import numpy as np\n",
    "import math\n",
    "from scipy.misc import derivative\n",
    "\n",
    "def function(x):\n",
    "    return x**3.0\n",
    "\n",
    "def deriv(func, a, method, h):\n",
    "  if method == \"forward\":\n",
    "    O_h = derivative(func, a, dx=h, n=2, order=5)*h/math.factorial(2)\n",
    "    yprime = ((func(a + h) - func(a)) / h) - O_h\n",
    "  \n",
    "  elif method == \"central\":\n",
    "    O_h2 = derivative(func, a, dx=h, n=3, order=5)*(h**2)/math.factorial(3)\n",
    "    yprime = ((func(a + h) - func(a - h)) / (2*h)) - O_h2\n",
    "\n",
    "  elif method == \"backward\":\n",
    "    O_h = derivative(func, a, dx=h, n=2, order=5)*h/math.factorial(2)\n",
    "    yprime = ((func(a) - func(a - h)) / h) + O_h\n",
    "  \n",
    "  return yprime"
   ]
  },
  {
   "cell_type": "code",
   "execution_count": 2,
   "metadata": {
    "colab": {
     "base_uri": "https://localhost:8080/"
    },
    "id": "rFy7kEQnI5yd",
    "outputId": "46c255df-13b6-4cfe-e3db-1cdf9b11d48b"
   },
   "outputs": [
    {
     "name": "stdout",
     "output_type": "stream",
     "text": [
      "12.01000000000002\n"
     ]
    }
   ],
   "source": [
    "print(deriv(function,2.0,method='forward',h=0.1) )"
   ]
  },
  {
   "cell_type": "code",
   "execution_count": 3,
   "metadata": {
    "colab": {
     "base_uri": "https://localhost:8080/"
    },
    "id": "91Fkl8h7I7et",
    "outputId": "826b903b-f1b9-4941-9361-1c8065b3a86b"
   },
   "outputs": [
    {
     "name": "stdout",
     "output_type": "stream",
     "text": [
      "12.01\n"
     ]
    }
   ],
   "source": [
    "print(deriv(function,2.0,method='backward',h=0.1))  "
   ]
  },
  {
   "cell_type": "code",
   "execution_count": 4,
   "metadata": {
    "colab": {
     "base_uri": "https://localhost:8080/"
    },
    "id": "n1aEQFe9I7zs",
    "outputId": "1b3504dd-7545-4f56-b821-0a5bf219d444"
   },
   "outputs": [
    {
     "name": "stdout",
     "output_type": "stream",
     "text": [
      "12.00000000000001\n"
     ]
    }
   ],
   "source": [
    "print(deriv(function,2.0,method='central',h=0.1)) "
   ]
  },
  {
   "cell_type": "code",
   "execution_count": null,
   "metadata": {},
   "outputs": [],
   "source": []
  },
  {
   "cell_type": "code",
   "execution_count": null,
   "metadata": {},
   "outputs": [],
   "source": []
  }
 ],
 "metadata": {
  "colab": {
   "collapsed_sections": [],
   "name": "homework_6.ipynb",
   "provenance": []
  },
  "kernelspec": {
   "display_name": "Python 3",
   "language": "python",
   "name": "python3"
  },
  "language_info": {
   "codemirror_mode": {
    "name": "ipython",
    "version": 3
   },
   "file_extension": ".py",
   "mimetype": "text/x-python",
   "name": "python",
   "nbconvert_exporter": "python",
   "pygments_lexer": "ipython3",
   "version": "3.7.2"
  }
 },
 "nbformat": 4,
 "nbformat_minor": 1
}
