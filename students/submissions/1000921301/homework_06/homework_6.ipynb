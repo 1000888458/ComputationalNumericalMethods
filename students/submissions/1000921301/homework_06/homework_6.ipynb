{
  "nbformat": 4,
  "nbformat_minor": 0,
  "metadata": {
    "colab": {
      "name": "homework_6.ipynb",
      "provenance": [],
      "collapsed_sections": []
    },
    "kernelspec": {
      "name": "python3",
      "display_name": "Python 3"
    },
    "language_info": {
      "name": "python"
    }
  },
  "cells": [
    {
      "cell_type": "code",
      "execution_count": 16,
      "metadata": {
        "id": "WzX2PnBFJFS2"
      },
      "outputs": [],
      "source": [
        "import numpy as np\n",
        "import math\n",
        "from scipy.misc import derivative\n",
        "\n",
        "def function(x):\n",
        "    return x**3.0\n",
        "\n",
        "def deriv(func, a, method, h):\n",
        "  if method == \"forward\":\n",
        "    O_h = derivative(func, a, dx=h, n=2, order=5)*h/math.factorial(2)\n",
        "    yprime = ((func(a + h) - func(a)) / h) - O_h\n",
        "  \n",
        "  elif method == \"central\":\n",
        "    O_h2 = derivative(func, a, dx=h, n=3, order=5)*(h**2)/math.factorial(3)\n",
        "    yprime = ((func(a + h) - func(a - h)) / (2*h)) - O_h2\n",
        "\n",
        "  elif method == \"backward\":\n",
        "    O_h = derivative(func, a, dx=h, n=2, order=5)*h/math.factorial(2)\n",
        "    yprime = ((func(a) - func(a - h)) / h) + O_h\n",
        "  \n",
        "  return yprime"
      ]
    },
    {
      "cell_type": "code",
      "source": [
        "print(deriv(function,2.0,method='forward',h=0.1) )"
      ],
      "metadata": {
        "colab": {
          "base_uri": "https://localhost:8080/"
        },
        "id": "rFy7kEQnI5yd",
        "outputId": "46c255df-13b6-4cfe-e3db-1cdf9b11d48b"
      },
      "execution_count": 17,
      "outputs": [
        {
          "output_type": "stream",
          "name": "stdout",
          "text": [
            "12.01000000000002\n"
          ]
        }
      ]
    },
    {
      "cell_type": "code",
      "source": [
        "print(deriv(function,2.0,method='backward',h=0.1))  "
      ],
      "metadata": {
        "colab": {
          "base_uri": "https://localhost:8080/"
        },
        "id": "91Fkl8h7I7et",
        "outputId": "826b903b-f1b9-4941-9361-1c8065b3a86b"
      },
      "execution_count": 18,
      "outputs": [
        {
          "output_type": "stream",
          "name": "stdout",
          "text": [
            "12.01\n"
          ]
        }
      ]
    },
    {
      "cell_type": "code",
      "source": [
        "print(deriv(function,2.0,method='central',h=0.1)) "
      ],
      "metadata": {
        "colab": {
          "base_uri": "https://localhost:8080/"
        },
        "id": "n1aEQFe9I7zs",
        "outputId": "1b3504dd-7545-4f56-b821-0a5bf219d444"
      },
      "execution_count": 19,
      "outputs": [
        {
          "output_type": "stream",
          "name": "stdout",
          "text": [
            "12.00000000000001\n"
          ]
        }
      ]
    }
  ]
}