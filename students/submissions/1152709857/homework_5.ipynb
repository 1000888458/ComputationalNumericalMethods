{
  "nbformat": 4,
  "nbformat_minor": 0,
  "metadata": {
    "colab": {
      "name": "homework_5.ipynb.ipynb",
      "provenance": []
    },
    "kernelspec": {
      "name": "python3",
      "display_name": "Python 3"
    },
    "language_info": {
      "name": "python"
    }
  },
  "cells": [
    {
      "cell_type": "code",
      "execution_count": 9,
      "metadata": {
        "id": "mpaX62GYHgtG"
      },
      "outputs": [],
      "source": [
        "import numpy as np\n",
        "def cuadratic_interp(x,y,xinterp):\n",
        "    b0 = y[0]\n",
        "    b1 = (y[1]-y[0])/(x[1]-x[0])\n",
        "    b2 = (((y[2]-y[1])/(x[2]-x[1]))-b1)/(x[2]-x[0])\n",
        "    yinterp = b0 + b1*(xinterp-x[0]) + b2*(xinterp-x[0])*(xinterp-x[1])\n",
        "    return yinterp"
      ]
    },
    {
      "cell_type": "code",
      "source": [
        "cuadratic_interp(np.array([2,4,6]), np.array([np.log10(2),np.log10(4),np.log10(6)]), 5)"
      ],
      "metadata": {
        "colab": {
          "base_uri": "https://localhost:8080/"
        },
        "id": "ehw5Jjk_Kv5A",
        "outputId": "84ce826e-4383-44bf-c4a9-65c521f7d022"
      },
      "execution_count": 10,
      "outputs": [
        {
          "output_type": "execute_result",
          "data": {
            "text/plain": [
              "0.7057229629318404"
            ]
          },
          "metadata": {},
          "execution_count": 10
        }
      ]
    }
  ]
}