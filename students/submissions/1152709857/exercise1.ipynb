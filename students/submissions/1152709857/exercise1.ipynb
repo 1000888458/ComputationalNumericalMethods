{
  "nbformat": 4,
  "nbformat_minor": 0,
  "metadata": {
    "colab": {
      "name": "exercise1.ipynb",
      "provenance": []
    },
    "kernelspec": {
      "name": "python3",
      "display_name": "Python 3"
    },
    "language_info": {
      "name": "python"
    }
  },
  "cells": [
    {
      "cell_type": "code",
      "execution_count": 13,
      "metadata": {
        "colab": {
          "base_uri": "https://localhost:8080/"
        },
        "id": "fZkBy5FLqJ3n",
        "outputId": "4eb23e17-6f6a-4b0d-b390-dc8bac2dd39d"
      },
      "outputs": [
        {
          "output_type": "stream",
          "name": "stdout",
          "text": [
            "1\n",
            "2\n",
            "3\n",
            "4\n",
            "5\n",
            "6\n",
            "7\n",
            "8\n",
            "9\n",
            "10\n"
          ]
        }
      ],
      "source": [
        "#1. Imprime primero 10 numeros naturales (1,2,3,4,5,6,7,8,9,10) usando \"for loop\" y print ()\n",
        "\n",
        "for i in range(1,11):\n",
        "  print(i)"
      ]
    },
    {
      "cell_type": "code",
      "source": [
        "#2. Imprime primero 10 numeros naturales (1,2,3,4,5,6,7,8,9,10) usando \"while loop\" y print ()\n",
        "\n",
        "num=1\n",
        "while num<11:\n",
        "    print(num)\n",
        "    num=num+1"
      ],
      "metadata": {
        "colab": {
          "base_uri": "https://localhost:8080/"
        },
        "id": "LWtQENQKqRxU",
        "outputId": "f511b32c-9c5b-4a65-aed2-c952c344660e"
      },
      "execution_count": 2,
      "outputs": [
        {
          "output_type": "stream",
          "name": "stdout",
          "text": [
            "1\n",
            "2\n",
            "3\n",
            "4\n",
            "5\n",
            "6\n",
            "7\n",
            "8\n",
            "9\n",
            "10\n"
          ]
        }
      ]
    },
    {
      "cell_type": "code",
      "source": [
        "#3. Calcular la soma de numeros (1+2+3+4+5+6+7+8+9+10) usando \"for loop\" y guarda resultado en variable \"my_result\"\n",
        "\n",
        "my_result=0\n",
        "for i in range (1,11,1):\n",
        "  my_result=my_result + i\n",
        "\n",
        "print(\"la suma de los diez primeros numeros es:\", my_result)"
      ],
      "metadata": {
        "colab": {
          "base_uri": "https://localhost:8080/"
        },
        "id": "MR_4yZnIqbUk",
        "outputId": "f37b327e-b83c-4157-86ce-d227dbddd17e"
      },
      "execution_count": 5,
      "outputs": [
        {
          "output_type": "stream",
          "name": "stdout",
          "text": [
            "la suma de los diez primeros numeros es: 55\n"
          ]
        }
      ]
    },
    {
      "cell_type": "code",
      "source": [
        "#4. Calcular la soma de numeros (1+2+3+4+5+6+7+8+9+10) usando \"while loop\" y guardar resultado en variable \"my_result\"\n",
        "\n",
        "num=0\n",
        "my_result=0\n",
        "\n",
        "while num<11:\n",
        "  my_result=my_result+num\n",
        "  num=num+1\n",
        "\n",
        "print(\"la suma de los diez primeros numeros es:\", my_result)"
      ],
      "metadata": {
        "colab": {
          "base_uri": "https://localhost:8080/"
        },
        "id": "zrCQUAInrSA9",
        "outputId": "dfbc5da6-0bbf-435b-dae4-b48c5006beab"
      },
      "execution_count": 6,
      "outputs": [
        {
          "output_type": "stream",
          "name": "stdout",
          "text": [
            "la suma de los diez primeros numeros es: 55\n"
          ]
        }
      ]
    },
    {
      "cell_type": "code",
      "source": [
        "#5. Calcular la soma de numeros par (2+4+6+8+10.. + ...100) usando \"for loop\" y guardar resultado en variable \"my_result\" (pista: usa condicion \"if\" y \"%\")\n",
        "\n",
        "my_result=0\n",
        "for i in range(1,101,1):\n",
        "  if i%2==0:\n",
        "    my_result=my_result+i\n",
        "\n",
        "print(\"la suma de los primeros numeros pares es:\", my_result)"
      ],
      "metadata": {
        "colab": {
          "base_uri": "https://localhost:8080/"
        },
        "id": "yuaoT7mwrp7c",
        "outputId": "4870fa13-98cd-4b38-a640-ef18cf7d61c9"
      },
      "execution_count": 11,
      "outputs": [
        {
          "output_type": "stream",
          "name": "stdout",
          "text": [
            "la suma de los primeros numeros pares es: 2550\n"
          ]
        }
      ]
    },
    {
      "cell_type": "code",
      "source": [
        "#6. Calcular la soma de numeros impar (1+3+5+7+9+... + ...99) usando \"while loop\" y guardar resultado en variable \"my_result\" (pista: usa condicion \"if\" y \"%\")\n",
        "\n",
        "num=1\n",
        "my_result=0\n",
        "while num<101:\n",
        "  if num%2!=0:\n",
        "    my_result=my_result+num\n",
        "    num=num+1\n",
        "\n",
        "print(\"la suma de los primeros numeros impares es:\", my_result)"
      ],
      "metadata": {
        "colab": {
          "base_uri": "https://localhost:8080/",
          "height": 237
        },
        "id": "NFu2jttVse29",
        "outputId": "3bbe4c51-6773-4ff1-9907-ab535abca667"
      },
      "execution_count": 12,
      "outputs": [
        {
          "output_type": "error",
          "ename": "KeyboardInterrupt",
          "evalue": "ignored",
          "traceback": [
            "\u001b[0;31m---------------------------------------------------------------------------\u001b[0m",
            "\u001b[0;31mKeyboardInterrupt\u001b[0m                         Traceback (most recent call last)",
            "\u001b[0;32m<ipython-input-12-52b39bf839f5>\u001b[0m in \u001b[0;36m<module>\u001b[0;34m()\u001b[0m\n\u001b[1;32m      4\u001b[0m \u001b[0mmy_result\u001b[0m\u001b[0;34m=\u001b[0m\u001b[0;36m0\u001b[0m\u001b[0;34m\u001b[0m\u001b[0;34m\u001b[0m\u001b[0m\n\u001b[1;32m      5\u001b[0m \u001b[0;32mwhile\u001b[0m \u001b[0mnum\u001b[0m\u001b[0;34m<\u001b[0m\u001b[0;36m101\u001b[0m\u001b[0;34m:\u001b[0m\u001b[0;34m\u001b[0m\u001b[0;34m\u001b[0m\u001b[0m\n\u001b[0;32m----> 6\u001b[0;31m   \u001b[0;32mif\u001b[0m \u001b[0mnum\u001b[0m\u001b[0;34m%\u001b[0m\u001b[0;36m2\u001b[0m\u001b[0;34m!=\u001b[0m\u001b[0;36m0\u001b[0m\u001b[0;34m:\u001b[0m\u001b[0;34m\u001b[0m\u001b[0;34m\u001b[0m\u001b[0m\n\u001b[0m\u001b[1;32m      7\u001b[0m     \u001b[0mmy_result\u001b[0m\u001b[0;34m=\u001b[0m\u001b[0mmy_result\u001b[0m\u001b[0;34m+\u001b[0m\u001b[0mnum\u001b[0m\u001b[0;34m\u001b[0m\u001b[0;34m\u001b[0m\u001b[0m\n\u001b[1;32m      8\u001b[0m     \u001b[0mnum\u001b[0m\u001b[0;34m=\u001b[0m\u001b[0mnum\u001b[0m\u001b[0;34m+\u001b[0m\u001b[0;36m1\u001b[0m\u001b[0;34m\u001b[0m\u001b[0;34m\u001b[0m\u001b[0m\n",
            "\u001b[0;31mKeyboardInterrupt\u001b[0m: "
          ]
        }
      ]
    },
    {
      "cell_type": "code",
      "source": [
        "#7. Definir una function que se llama func_sum_even_odd(b) que recibe un parametro \"b\" - valor numerico. La funcion calcula soma de numeros pares y numeros impares \n",
        "#separamente entre 0 y b (los dos valores incluidos) . La funcion guarda resultados en dos variables en sum_even, sum_odd y devuelve ambos usando \"return\". (usa metodo: while)\n",
        "def func_sum_even_odd(b):\n",
        "  sum_even=0\n",
        "  sum_odd=0\n",
        "  i=1\n",
        "  if isinstance(b,int)==True:\n",
        "    while i<b+1:\n",
        "      sum_even=sum_even+(2*i)\n",
        "      sum_odd=sum_odd+(2*i + 1)\n",
        "      i=i+1\n",
        "    return(sum_even, sum_odd)\n",
        "  elif isinstance(b,float):\n",
        "    b=int(b)\n",
        "    while i<b+1:\n",
        "      sum_even=sum_even+(2*i)\n",
        "      sum_odd=sum_odd+(2*i + 1)\n",
        "      i=i+1\n",
        "    return(sum_even, sum_odd)\n",
        "  elif not isinstance(b,int) or not isinstance(b,float):\n",
        "    sum_even=0\n",
        "    sum_odd=0\n",
        "    return(sum_even, sum_odd)\n",
        "b=15\n",
        "func_sum_even_odd(b)"
      ],
      "metadata": {
        "colab": {
          "base_uri": "https://localhost:8080/"
        },
        "id": "Zs6n5vPhu7VG",
        "outputId": "fbf71ee0-f1ef-4644-9ea9-9280e43b1f53"
      },
      "execution_count": 15,
      "outputs": [
        {
          "output_type": "execute_result",
          "data": {
            "text/plain": [
              "(240, 255)"
            ]
          },
          "metadata": {},
          "execution_count": 15
        }
      ]
    },
    {
      "cell_type": "code",
      "source": [
        "#8. Modifica funcion anterior y usa conjunto: try:... except:... (mira arriva en el texto de la classe)\n",
        "\n",
        "def func_sum_even_odd(b):\n",
        "  numero=0\n",
        "  sum_even=0\n",
        "  sum_odd=0\n",
        "  try:\n",
        "    while numero<=b-1:\n",
        "      numero=numero+1\n",
        "      if numero%2==0:\n",
        "        sum_even=sum_even+numero\n",
        "      if numero%2!=0:\n",
        "        sum_odd=sum_odd+numero\n",
        "      return sum_even,sum_odd\n",
        "\n",
        "  except TypeError:\n",
        "    print(\"Argument must be and integer or float\")\n",
        "    sum_even=0\n",
        "    sum_odd=0\n",
        "    return sum_even,sum_odd\n",
        "    \n",
        "func_sum_even_odd(15)"
      ],
      "metadata": {
        "colab": {
          "base_uri": "https://localhost:8080/"
        },
        "id": "B3NgA1zsvinO",
        "outputId": "4b6e168d-f0a8-448a-c0fa-05854bc05b67"
      },
      "execution_count": 20,
      "outputs": [
        {
          "output_type": "execute_result",
          "data": {
            "text/plain": [
              "(0, 1)"
            ]
          },
          "metadata": {},
          "execution_count": 20
        }
      ]
    }
  ]
}