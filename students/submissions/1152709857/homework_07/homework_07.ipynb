{
  "nbformat": 4,
  "nbformat_minor": 0,
  "metadata": {
    "colab": {
      "name": "homework_07.ipynb.ipynb",
      "provenance": []
    },
    "kernelspec": {
      "name": "python3",
      "display_name": "Python 3"
    },
    "language_info": {
      "name": "python"
    }
  },
  "cells": [
    {
      "cell_type": "code",
      "execution_count": 3,
      "metadata": {
        "colab": {
          "base_uri": "https://localhost:8080/"
        },
        "id": "Hwef-qWXLe8i",
        "outputId": "87e6a1e4-b7bd-4208-927f-4d35649f8176"
      },
      "outputs": [
        {
          "output_type": "execute_result",
          "data": {
            "text/plain": [
              "5.76852974634248"
            ]
          },
          "metadata": {},
          "execution_count": 3
        }
      ],
      "source": [
        "import numpy as np\n",
        "\n",
        "def integrand(x):\n",
        "  return ((15*x**3+21*x**2+41*x+3)**(1/4))*np.exp(-0.5*x)\n",
        "\n",
        "def integral_monte_carlo_1D(integrand,lim1,lim2,N):\n",
        "  Np = np.arange(0, N+1, N/10)\n",
        "  paso=N/10\n",
        "  u=np.zeros(N)\n",
        "  for i in range(10):\n",
        "    start=int(Np[i])\n",
        "    end=int(Np[i+1])\n",
        "    u[start:end]=np.random.uniform(low=i/10, high=(i+1)/10,size=end-start)\n",
        "  np.random.shuffle(u)\n",
        "  u_func=integrand(lim1+(lim2-lim1)*u)\n",
        "  I=((lim2-lim1)/N)*u_func.sum()  \n",
        "       \n",
        "  return I\n",
        "\n",
        "integral_monte_carlo_1D(integrand, 0, 4, 100000)"
      ]
    }
  ]
}