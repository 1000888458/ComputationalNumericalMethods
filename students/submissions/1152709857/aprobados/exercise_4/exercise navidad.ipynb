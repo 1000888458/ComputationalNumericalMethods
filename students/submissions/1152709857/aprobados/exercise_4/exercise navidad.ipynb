{
 "cells": [
  {
   "cell_type": "code",
   "execution_count": 1,
   "metadata": {
    "colab": {
     "base_uri": "https://localhost:8080/"
    },
    "id": "Lb6vWITr1067",
    "outputId": "681558d1-5a0e-4b2a-e364-116e006487fe"
   },
   "outputs": [
    {
     "data": {
      "text/plain": [
       "('la raiz de la funcion es:', 3.375)"
      ]
     },
     "execution_count": 1,
     "metadata": {},
     "output_type": "execute_result"
    }
   ],
   "source": [
    "import numpy as np\n",
    "import matplotlib.pyplot as plt\n",
    "import math\n",
    "\n",
    "def raiz(x1):\n",
    "  xd = x1-((x1**2-11))/(2*x1)   \n",
    "  return \"la raiz de la funcion es:\",xd\n",
    "raiz(4)"
   ]
  },
  {
   "cell_type": "code",
   "execution_count": 2,
   "metadata": {
    "colab": {
     "base_uri": "https://localhost:8080/"
    },
    "id": "XwABSKS_2deI",
    "outputId": "3ecf7873-fd9d-4d07-e736-9470568376e6"
   },
   "outputs": [
    {
     "name": "stdout",
     "output_type": "stream",
     "text": [
      "El valor de la raiz de la funcion es de  3.3166247978806496\n"
     ]
    }
   ],
   "source": [
    "x1= 1\n",
    "x2=10\n",
    "tolerancia=0.0000001\n",
    "tramo= x2-x1\n",
    "\n",
    "#definimos funcione para encontrar la raiz\n",
    "def raiz(x):            \n",
    "  a= x**2-11          \n",
    "  return a\n",
    "#hacemos el ciclo\n",
    "while not tramo< tolerancia:\n",
    "  xf = (x1 + x2)/2  # nuevos valores de los extremos\n",
    "  signo = np.sign(raiz(x1)) * np.sign(raiz(xf))     #evaluamos el signo\n",
    "  if signo < 0 : # Si el valor obtenido es negativo \n",
    "    x2 = xf\n",
    "    x1 = x1\n",
    "  if signo > 0 : #si es positivo\n",
    "    x1 = xf\n",
    "    x2 = x2\n",
    "  tramo = x2-x1\n",
    "\n",
    "print('El valor de la raiz de la funcion es de ' , xf)"
   ]
  },
  {
   "cell_type": "code",
   "execution_count": null,
   "metadata": {
    "id": "400a0BR_3va_"
   },
   "outputs": [],
   "source": [
    "x1 = 3\n",
    "x2 = 4\n",
    "tolerancia = 0.0000001\n",
    "tramo = x2-x1   \n",
    "x_n = []  \n",
    "\n",
    "while not tramo< tolerancia:\n",
    "  xn = (x1 + x2)/2 \n",
    "  x_n.append(xn)            \n",
    "  signo = np.sign(raiz(x1)) * np.sign(raiz(xn))    \n",
    "  if signo < 0 :    \n",
    "    x2 = xn\n",
    "    x1 = x1\n",
    "  if signo > 0 :  \n",
    "    x2 = x2\n",
    "  tramo = x2-x1"
   ]
  },
  {
   "cell_type": "code",
   "execution_count": null,
   "metadata": {
    "id": "KUW2st9G3x1W"
   },
   "outputs": [],
   "source": [
    "xi = np.array(x_n)\n",
    "yi = raiz(np.array(x_n))\n",
    "\n",
    "plt.title('Valores  de la raiz de la funcion')\n",
    "plt.plot(xi,yi)\n",
    "plt.plot(xi,yi,'o',color = 'green',label = 'Valores')\n",
    "plt.axhline(0, color=\"black\")\n",
    "plt.legend()"
   ]
  }
 ],
 "metadata": {
  "colab": {
   "name": "Untitled7.ipynb",
   "provenance": []
  },
  "kernelspec": {
   "display_name": "Python 3",
   "language": "python",
   "name": "python3"
  },
  "language_info": {
   "codemirror_mode": {
    "name": "ipython",
    "version": 3
   },
   "file_extension": ".py",
   "mimetype": "text/x-python",
   "name": "python",
   "nbconvert_exporter": "python",
   "pygments_lexer": "ipython3",
   "version": "3.7.2"
  }
 },
 "nbformat": 4,
 "nbformat_minor": 1
}
