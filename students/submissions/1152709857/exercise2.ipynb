{
  "nbformat": 4,
  "nbformat_minor": 0,
  "metadata": {
    "colab": {
      "name": "exercise2.ipynb",
      "provenance": []
    },
    "kernelspec": {
      "name": "python3",
      "display_name": "Python 3"
    },
    "language_info": {
      "name": "python"
    }
  },
  "cells": [
    {
      "cell_type": "code",
      "execution_count": 2,
      "metadata": {
        "colab": {
          "base_uri": "https://localhost:8080/"
        },
        "id": "FL1nrH2Rw1Nc",
        "outputId": "05e4100d-08cf-4e0e-8dab-797b193e90dd"
      },
      "outputs": [
        {
          "output_type": "stream",
          "name": "stdout",
          "text": [
            "Numero de donas : 8\n"
          ]
        }
      ],
      "source": [
        "# A. donas\n",
        "# Dado un numero entero integer de un número de donas, devuelva una cadena\n",
        "# de la forma 'Numero de donas: <count>', donde <count> es el número\n",
        "# Sin embargo, si el recuento es 10 o más, use la palabra 'muchos'\n",
        "# Entonces donuts(5) devuelve 'Numero de donas: 5'\n",
        "# y donuts(23) devuelve 'Numero de donas: muchos\n",
        "def donuts(count):\n",
        "  if 0<count<10:\n",
        "    print(\"Numero de donas : \" + str(count))\n",
        "  if count>=10:\n",
        "      count= \" muchos\"\n",
        "      print(\"Numero de donas : \" + count )\n",
        "\n",
        "donuts(8)"
      ]
    },
    {
      "cell_type": "code",
      "source": [
        "# B. both_ends\n",
        "# Dada una cadena s, devuelve una cadena hecha de las primeras 2\n",
        "# y los últimos 2 caracteres de la cuerda original,\n",
        "# así que 'spring' produce 'spng'. Sin embargo, \n",
        "# si la longitud de la cadena es menor que 2, \n",
        "# devuelva en su lugar la cadena vacía.\n",
        "\n",
        "def both_ends(s):\n",
        "  if len(s)<2:\n",
        "    result=' '\n",
        "  if len(s)>=2:\n",
        "    result=s[0]+s[1]+s[-2]+s[-1]\n",
        "  print(result)\n",
        "  return result\n",
        "    \n",
        "both_ends(\"Spring\")"
      ],
      "metadata": {
        "colab": {
          "base_uri": "https://localhost:8080/",
          "height": 53
        },
        "id": "gvgRmLKFxECO",
        "outputId": "f39b6d05-5fb0-4381-f0e0-1b5abdbbe9a1"
      },
      "execution_count": 3,
      "outputs": [
        {
          "output_type": "stream",
          "name": "stdout",
          "text": [
            "Spng\n"
          ]
        },
        {
          "output_type": "execute_result",
          "data": {
            "application/vnd.google.colaboratory.intrinsic+json": {
              "type": "string"
            },
            "text/plain": [
              "'Spng'"
            ]
          },
          "metadata": {},
          "execution_count": 3
        }
      ]
    },
    {
      "cell_type": "code",
      "source": [
        "# C. fix_start\n",
        "# Dada una cadena s, devuelve una cadena\n",
        "# donde todas las ocurrencias de su primer caracter tienen\n",
        "# se ha cambiado a '*', excepto que no cambie el primer char en sí.\n",
        "# por ejemplo, 'babble' produce 'ba**le'\n",
        "# Supongamos que la cadena tiene una longitud 1 o superior.\n",
        "# Sugerencia: s.replace(stra, strb) devuelve una versión de string s\n",
        "# donde todas las instancias de stra han sido reemplazadas por strb.\n",
        "\n",
        "def fix_start(palabra):\n",
        "  for i in palabra:\n",
        "    word=palabra.replace(palabra[0] ,\"*\") \n",
        "  print(word)\n",
        " \n",
        "fix_start(\"babble\")"
      ],
      "metadata": {
        "colab": {
          "base_uri": "https://localhost:8080/"
        },
        "id": "oVW8qiA_xP4k",
        "outputId": "b095fbc7-db86-4547-888f-6f494b50b998"
      },
      "execution_count": 14,
      "outputs": [
        {
          "output_type": "stream",
          "name": "stdout",
          "text": [
            "*a**le\n"
          ]
        }
      ]
    },
    {
      "cell_type": "code",
      "source": [
        "# D. MixUp\n",
        "# Dadas las cadenas a y b, devuelve una sola cadena con a y b separadas\n",
        "# por un espacio '<a> <b>', excepto intercambiar los primeros 2 caracteres de cada cadena.\n",
        "# por ejemplo.\n",
        "#   'mix', pod' -> 'pox mid'\n",
        "#   'dog', 'dinner' -> 'dig donner'\n",
        "# Supongamos que a y b son de longitud 2 o más.\n",
        "def mix_up(a,b):\n",
        "  a,b=b[0]+b[1]+a[2:],a[0]+a[1]+b[2:]\n",
        "  print(a + \" \" + b)\n",
        "mix_up(\"Dog\",\"Dinner\")"
      ],
      "metadata": {
        "colab": {
          "base_uri": "https://localhost:8080/"
        },
        "id": "tHYUOOHKzzEm",
        "outputId": "a8b37d74-c112-4806-bed2-18737284cfb4"
      },
      "execution_count": 15,
      "outputs": [
        {
          "output_type": "stream",
          "name": "stdout",
          "text": [
            "Dig Donner\n"
          ]
        }
      ]
    },
    {
      "cell_type": "code",
      "source": [
        "# E. front_back\n",
        "# Considere dividir una cadena en dos mitades.\n",
        "# Si la longitud es par, las mitades delantera y trasera tienen la misma longitud.\n",
        "# Si la longitud es impar, diremos que el caracter extra va en la mitad delantera.\n",
        "# por ejemplo, 'abcde', la mitad delantera es 'abc', la mitad trasera 'de'.\n",
        "# Dadas 2 cadenas, a y b, devuelven una cadena de la forma\n",
        "# a-front + b-front + a-back + b-back\n",
        "# ejemplo si dos cadenas son pares: a='xyzt', b='abcd'. result='xyabztcd'\n",
        "\n",
        "def front_back(a,b):\n",
        "  a1 = a[:len(a)//2]\n",
        "  a2 = a[len(a)//2:]    \n",
        "  b1 = b[:len(b)//2]\n",
        "  b2 = b[len(b)//2:]\n",
        "  print(a1+b1+a2+b2)\n",
        "\n",
        "front_back(\"xyzt\",\"abcd\")"
      ],
      "metadata": {
        "colab": {
          "base_uri": "https://localhost:8080/"
        },
        "id": "QkRfAfyWz5I9",
        "outputId": "31c1a62f-f11a-4c52-b93f-d64988a4370b"
      },
      "execution_count": 16,
      "outputs": [
        {
          "output_type": "stream",
          "name": "stdout",
          "text": [
            "xyabztcd\n"
          ]
        }
      ]
    }
  ]
}