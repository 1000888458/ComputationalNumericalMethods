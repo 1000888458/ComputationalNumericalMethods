{
  "nbformat": 4,
  "nbformat_minor": 0,
  "metadata": {
    "colab": {
      "name": "homework_6.ipynb.ipynb",
      "provenance": []
    },
    "kernelspec": {
      "name": "python3",
      "display_name": "Python 3"
    },
    "language_info": {
      "name": "python"
    }
  },
  "cells": [
    {
      "cell_type": "code",
      "execution_count": 1,
      "metadata": {
        "id": "TwHQ5nSOK4-H"
      },
      "outputs": [],
      "source": [
        "def function(x):\n",
        "  return x**3.0"
      ]
    },
    {
      "cell_type": "code",
      "source": [
        "def deriv(function, a, method, h):\n",
        "    if method == 'central':\n",
        "        return (function(a+h)-function(a-h))/(2*h)\n",
        "    elif method == 'forward':\n",
        "        return (function(a+h)-function(a))/h\n",
        "    elif method == 'backward':\n",
        "        return (function(a)-function(a-h))/h\n",
        "    else:\n",
        "        raise ValueError('The method is invalid')"
      ],
      "metadata": {
        "id": "ZYLtzm6VLIIi"
      },
      "execution_count": 2,
      "outputs": []
    }
  ]
}