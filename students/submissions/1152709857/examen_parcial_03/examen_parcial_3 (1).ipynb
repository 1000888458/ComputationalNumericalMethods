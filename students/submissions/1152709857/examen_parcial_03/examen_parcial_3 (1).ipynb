{
 "cells": [
  {
   "cell_type": "code",
   "execution_count": 1,
   "id": "2yicoWm_BPTN",
   "metadata": {
    "colab": {
     "base_uri": "https://localhost:8080/"
    },
    "id": "2yicoWm_BPTN",
    "outputId": "25fb64fb-de43-4321-801f-49e19efa5d4a"
   },
   "outputs": [
    {
     "name": "stdout",
     "output_type": "stream",
     "text": [
      "Drive already mounted at /content/gdrive; to attempt to forcibly remount, call drive.mount(\"/content/gdrive\", force_remount=True).\n"
     ]
    }
   ],
   "source": [
    "from google.colab import drive \n",
    "drive.mount('/content/gdrive')\n",
    " \n",
    "!cp '/content/gdrive/My Drive/parcial 3/data_radius_density.csv' 'data_radius_density.csv'\n",
    "\n",
    "!cp '/content/gdrive/My Drive/parcial 3/data_pressure_vs_temparature.csv' 'data_pressure_vs_temparature.csv'"
   ]
  },
  {
   "cell_type": "markdown",
   "id": "plain-rugby",
   "metadata": {
    "id": "plain-rugby"
   },
   "source": [
    "# Examen parcial 3 (calculo numerico y algebra lineal)\n",
    "* Antes de enviar el archivo, $\\textbf{reiniciar y ejecutar el kernel}$ para ver que el archivo se compila sin errores\n",
    "* enviar el archivo jupyter sin anexos antes de las 10.10am del 30.03.2022 a mi dirección de correo electrónico: michal.hemmerling@udea.edu.co "
   ]
  },
  {
   "cell_type": "markdown",
   "id": "usual-washer",
   "metadata": {
    "id": "usual-washer"
   },
   "source": [
    "# Ejercicio 1"
   ]
  },
  {
   "cell_type": "markdown",
   "id": "pretty-conference",
   "metadata": {
    "id": "pretty-conference"
   },
   "source": [
    "El archivo $\\textbf{data_radius_density.csv}$ contiene dos columnas: radio ($ r $) y la densidad ($ \\rho (r) $) de un disco plano en función del radio\n",
    "\n",
    "El disco es lo suficientemente delgado como para que, con fines matemáticos, podamos tratarlo como un objeto bidimensional. Asumimos que la densidad se da en términos de masa por unidad de área (llamada densidad de área), y además asumimos que la densidad varía solo a lo largo del radio del disco (llamada densidad radial). Orientamos el disco en el plano xy, con el centro en el origen. Entonces, la densidad del disco puede ser tratada como una función de x, denotada $\\rho(x)$.\n",
    "<table><tr>\n",
    "<td> <img src=\"disk_radius_density.png\" width=\"500\" /> </td>\n",
    "</tr></table>   \n",
    "\n",
    "* a) importar los datos usando Pandas, graficar la densidad del disco frente a su radio (los gráficos deben tener etiquetas para el eje `x` y el eje `y`).\n",
    "\n",
    "* b) sabiendo que la masa del disco viene dada por una integral:\n",
    "$$ m = \\int_0^{r} 2 \\pi \\ r * \\rho (r) \\ dr $$\n",
    "     calcular la masa del disco mediante integración numérica\n",
    "\n",
    "* Pista:`x`: is radius and `y`: is ***integrand***\n"
   ]
  },
  {
   "cell_type": "code",
   "execution_count": 2,
   "id": "valuable-august",
   "metadata": {
    "colab": {
     "base_uri": "https://localhost:8080/"
    },
    "id": "valuable-august",
    "outputId": "23789975-8d89-441f-b637-7151ea6aa141"
   },
   "outputs": [
    {
     "name": "stdout",
     "output_type": "stream",
     "text": [
      "      radius   density\n",
      "0   0.000000  0.000000\n",
      "1   0.040404  0.201008\n",
      "2   0.080808  0.284268\n",
      "3   0.121212  0.348155\n",
      "4   0.161616  0.402015\n",
      "..       ...       ...\n",
      "95  3.838384  1.959179\n",
      "96  3.878788  1.969464\n",
      "97  3.919192  1.979695\n",
      "98  3.959596  1.989873\n",
      "99  4.000000  2.000000\n",
      "\n",
      "[100 rows x 2 columns]\n"
     ]
    }
   ],
   "source": [
    "import pandas as pd\n",
    "\n",
    "df=pd.read_csv('data_radius_density.csv')\n",
    "df.head()\n",
    "radius=df['radius']\n",
    "density=df['density']\n",
    "print (df)"
   ]
  },
  {
   "cell_type": "code",
   "execution_count": 3,
   "id": "sB5iktURCXxM",
   "metadata": {
    "colab": {
     "base_uri": "https://localhost:8080/",
     "height": 279
    },
    "id": "sB5iktURCXxM",
    "outputId": "26349a4f-b327-47ce-e592-69102d40210e"
   },
   "outputs": [
    {
     "data": {
      "image/png": "[encoded data removed]",
      "text/plain": [
       "<Figure size 432x288 with 1 Axes>"
      ]
     },
     "metadata": {
      "needs_background": "light"
     },
     "output_type": "display_data"
    }
   ],
   "source": [
    "import matplotlib.pyplot as plt\n",
    "\n",
    "plt.plot(radius,density,'.k')\n",
    "plt.xlabel('radius')\n",
    "plt.ylabel('density')\n",
    "plt.grid()"
   ]
  },
  {
   "cell_type": "code",
   "execution_count": 4,
   "id": "wzpZ-qWrD2Eb",
   "metadata": {
    "colab": {
     "base_uri": "https://localhost:8080/"
    },
    "id": "wzpZ-qWrD2Eb",
    "outputId": "fc187de5-9f71-427d-ad25-4126d3f62746"
   },
   "outputs": [
    {
     "name": "stdout",
     "output_type": "stream",
     "text": [
      "      radius   density   distance\n",
      "0   0.000000  0.000000   0.000000\n",
      "1   0.040404  0.201008   0.253866\n",
      "2   0.080808  0.284268   0.507732\n",
      "3   0.121212  0.348155   0.761598\n",
      "4   0.161616  0.402015   1.015464\n",
      "..       ...       ...        ...\n",
      "95  3.838384  1.959179  24.117277\n",
      "96  3.878788  1.969464  24.371143\n",
      "97  3.919192  1.979695  24.625009\n",
      "98  3.959596  1.989873  24.878875\n",
      "99  4.000000  2.000000  25.132741\n",
      "\n",
      "[100 rows x 3 columns]\n"
     ]
    }
   ],
   "source": [
    "import numpy as np\n",
    "\n",
    "def distance(radius):\n",
    "  distancia=radius*2*np.pi\n",
    "  return distancia\n",
    "\n",
    "df[\"distance\"]=df[\"radius\"].apply(distance)\n",
    "df.head()\n",
    "distance=df[\"distance\"]\n",
    "print(df)"
   ]
  },
  {
   "cell_type": "code",
   "execution_count": 5,
   "id": "WpwZhQ13F2MM",
   "metadata": {
    "colab": {
     "base_uri": "https://localhost:8080/"
    },
    "id": "WpwZhQ13F2MM",
    "outputId": "bdb06057-ba3d-4dbf-c1b0-ffbf93a19a0b"
   },
   "outputs": [
    {
     "name": "stdout",
     "output_type": "stream",
     "text": [
      "la masa de la barra es:\n",
      "16.765555353752916\n",
      "la masa de la barra es:\n",
      "16.765555353752916\n"
     ]
    }
   ],
   "source": [
    "import scipy.integrate\n",
    "from scipy.integrate import quad\n",
    "\n",
    "m=np.trapz(distance,density)\n",
    "print ('la masa de la barra es:')\n",
    "print (m)\n",
    "\n",
    "mass=scipy.integrate.trapz(distance,density)\n",
    "\n",
    "print ('la masa de la barra es:')\n",
    "print (mass)"
   ]
  },
  {
   "cell_type": "markdown",
   "id": "handy-obligation",
   "metadata": {
    "id": "handy-obligation"
   },
   "source": [
    "# Ejercicio 2"
   ]
  },
  {
   "cell_type": "markdown",
   "id": "broken-belfast",
   "metadata": {
    "id": "broken-belfast"
   },
   "source": [
    "La capacidad calorífica de un gas muy frío se puede aproximar mediante:\n",
    "\n",
    "$$ C_v \\approx \\left (\\frac{dP}{dT} \\right) $$\n",
    "(en las unidades de $ \\left [\\frac {J} {K} \\right] $)\n",
    "\n",
    "Donde $P$ es la presión $ [J / s^3] $ del gas y $ T \\ [K] $ es la temperatura del gas.\n",
    "\n",
    "Los datos para la presión frente a la temperatura se dan en el archivo csv ($ \\textbf{data_pressure_vs_temperature.csv} $).\n",
    "\n",
    "* a) importar los datos usando pandas\n",
    "* b) hacer un gráfico de $P$ vs $T$ (grafico tiene que tener etiquietas)\n",
    "* c) utilizando la derivada numérica, encuentre la capacidad calorífica.\n",
    "* d) hacer un gráfico de $C_v$ vs $T$ (grafico tiene que tener etiquietas)\n",
    "* e) usando el ultimo grafico hace una estimacion de Temperatura Critica de este gas (Temperatura Critica es Temperatura de cambio abrupto del comportamiento de Capacidad Termica)\n",
    "* f) hace interpolacion cubica (100 puntos) de los valores de pression $P$, repite puntos `c)` y `d)`\n",
    "\n",
    "*gas muy frío se refiere a un gas Bose no homogéneo, y la teoría que relaciona $ C_v $ y $ P $ se refiere a la Teoría de Variables Globales Termodinámicas. La presión en realidad se llama parámetro de presión."
   ]
  },
  {
   "cell_type": "code",
   "execution_count": 6,
   "id": "written-adrian",
   "metadata": {
    "colab": {
     "base_uri": "https://localhost:8080/"
    },
    "id": "written-adrian",
    "outputId": "0e8dd6c9-f61b-4c0e-aed2-2815dc28ee43"
   },
   "outputs": [
    {
     "name": "stdout",
     "output_type": "stream",
     "text": [
      "     Temperature      Pressure\n",
      "0   4.789201e-08  1.958251e-17\n",
      "1   6.625061e-08  2.055515e-17\n",
      "2   8.460922e-08  2.237848e-17\n",
      "3   1.029678e-07  2.534132e-17\n",
      "4   1.213264e-07  2.994527e-17\n",
      "5   1.396850e-07  3.681453e-17\n",
      "6   1.580436e-07  4.642824e-17\n",
      "7   1.764022e-07  5.895152e-17\n",
      "8   1.947608e-07  7.447724e-17\n",
      "9   2.131194e-07  9.347272e-17\n",
      "10  2.314781e-07  1.154354e-16\n",
      "11  2.498367e-07  1.374488e-16\n",
      "12  2.681953e-07  1.534382e-16\n",
      "13  2.865539e-07  1.671772e-16\n",
      "14  3.049125e-07  1.802543e-16\n",
      "15  3.232711e-07  1.929425e-16\n",
      "16  3.416297e-07  2.053711e-16\n",
      "17  3.599883e-07  2.176142e-16\n",
      "18  3.783469e-07  2.297188e-16\n",
      "19  3.967055e-07  2.417169e-16\n",
      "20  4.150641e-07  2.536311e-16\n",
      "21  4.334227e-07  2.654779e-16\n",
      "22  4.517813e-07  2.772699e-16\n",
      "23  4.701399e-07  2.890164e-16\n",
      "24  4.884985e-07  3.007252e-16\n",
      "25  5.068571e-07  3.124020e-16\n",
      "26  5.252157e-07  3.240518e-16\n",
      "27  5.435743e-07  3.356784e-16\n",
      "28  5.619329e-07  3.472849e-16\n",
      "29  5.802915e-07  3.588741e-16\n",
      "30  5.986501e-07  3.704482e-16\n"
     ]
    }
   ],
   "source": [
    "df=pd.read_csv('data_pressure_vs_temparature.csv')\n",
    "df.head()\n",
    "Pressure=df['Pressure']\n",
    "Temperature=df['Temperature']\n",
    "print (df)"
   ]
  },
  {
   "cell_type": "code",
   "execution_count": 7,
   "id": "Jyz3W7-cHUnB",
   "metadata": {
    "colab": {
     "base_uri": "https://localhost:8080/",
     "height": 290
    },
    "id": "Jyz3W7-cHUnB",
    "outputId": "a2625954-17e4-4e29-adf3-a4fe69ccd89a"
   },
   "outputs": [
    {
     "data": {
      "image/png": "[encoded data removed]",
      "text/plain": [
       "<Figure size 432x288 with 1 Axes>"
      ]
     },
     "metadata": {
      "needs_background": "light"
     },
     "output_type": "display_data"
    }
   ],
   "source": [
    "plt.plot(Temperature,Pressure,'.k')\n",
    "plt.xlabel('Temperature')\n",
    "plt.ylabel('Pressure')\n",
    "plt.grid()"
   ]
  },
  {
   "cell_type": "code",
   "execution_count": 8,
   "id": "Cyo6iELEHqxY",
   "metadata": {
    "colab": {
     "base_uri": "https://localhost:8080/"
    },
    "id": "Cyo6iELEHqxY",
    "outputId": "969cac87-0a4a-4966-edfe-71f0c9a7293b"
   },
   "outputs": [
    {
     "name": "stdout",
     "output_type": "stream",
     "text": [
      "[5.29799802e-11 7.61486415e-11 1.30352287e-10 2.06082997e-10\n",
      " 3.12475005e-10 4.48916825e-10 6.02904968e-10 7.63919658e-10\n",
      " 9.40191259e-10 1.11550372e-09 1.19769793e-09 1.03501324e-09\n",
      " 8.09658111e-10 7.30340985e-10 7.01723220e-10 6.84061313e-10\n",
      " 6.71936615e-10 6.63114111e-10 6.56443006e-10 6.51256053e-10\n",
      " 6.47135543e-10 6.43805355e-10 6.41075324e-10 6.38810197e-10\n",
      " 6.36911237e-10 6.35304785e-10 6.33934876e-10 6.32758315e-10\n",
      " 6.31741302e-10 6.30857069e-10 6.30445179e-10]\n"
     ]
    }
   ],
   "source": [
    "Cv=np.gradient(Pressure,Temperature)\n",
    "print (Cv)"
   ]
  },
  {
   "cell_type": "code",
   "execution_count": 9,
   "id": "ycz9nEPVIxPr",
   "metadata": {
    "colab": {
     "base_uri": "https://localhost:8080/",
     "height": 290
    },
    "id": "ycz9nEPVIxPr",
    "outputId": "557e313b-a703-48d6-8bcc-68979ab89cf3"
   },
   "outputs": [
    {
     "data": {
      "image/png": "[encoded data removed]",
      "text/plain": [
       "<Figure size 432x288 with 1 Axes>"
      ]
     },
     "metadata": {
      "needs_background": "light"
     },
     "output_type": "display_data"
    }
   ],
   "source": [
    "plt.plot(Temperature, Cv, '.k')\n",
    "\n",
    "plt.xlabel('temperature')\n",
    "plt.ylabel('Cv')\n",
    "plt.grid()"
   ]
  },
  {
   "cell_type": "code",
   "execution_count": 10,
   "id": "b-Wm7qg5JvJf",
   "metadata": {
    "colab": {
     "base_uri": "https://localhost:8080/",
     "height": 771
    },
    "id": "b-Wm7qg5JvJf",
    "outputId": "124e66c1-befa-4637-debb-11d2bba1d247"
   },
   "outputs": [
    {
     "data": {
      "text/html": [
       "\n",
       "  <div id=\"df-055e2e9f-01cb-44a8-bffc-dd0dc086a0a9\">\n",
       "    <div class=\"colab-df-container\">\n",
       "      <div>\n",
       "<style scoped>\n",
       "    .dataframe tbody tr th:only-of-type {\n",
       "        vertical-align: middle;\n",
       "    }\n",
       "\n",
       "    .dataframe tbody tr th {\n",
       "        vertical-align: top;\n",
       "    }\n",
       "\n",
       "    .dataframe thead th {\n",
       "        text-align: right;\n",
       "    }\n",
       "</style>\n",
       "<table border=\"1\" class=\"dataframe\">\n",
       "  <thead>\n",
       "    <tr style=\"text-align: right;\">\n",
       "      <th></th>\n",
       "      <th>Temperature</th>\n",
       "      <th>Pressure</th>\n",
       "    </tr>\n",
       "  </thead>\n",
       "  <tbody>\n",
       "    <tr>\n",
       "      <th>8</th>\n",
       "      <td>1.947608e-07</td>\n",
       "      <td>7.447724e-17</td>\n",
       "    </tr>\n",
       "    <tr>\n",
       "      <th>9</th>\n",
       "      <td>2.131194e-07</td>\n",
       "      <td>9.347272e-17</td>\n",
       "    </tr>\n",
       "    <tr>\n",
       "      <th>10</th>\n",
       "      <td>2.314781e-07</td>\n",
       "      <td>1.154354e-16</td>\n",
       "    </tr>\n",
       "    <tr>\n",
       "      <th>11</th>\n",
       "      <td>2.498367e-07</td>\n",
       "      <td>1.374488e-16</td>\n",
       "    </tr>\n",
       "    <tr>\n",
       "      <th>12</th>\n",
       "      <td>2.681953e-07</td>\n",
       "      <td>1.534382e-16</td>\n",
       "    </tr>\n",
       "    <tr>\n",
       "      <th>13</th>\n",
       "      <td>2.865539e-07</td>\n",
       "      <td>1.671772e-16</td>\n",
       "    </tr>\n",
       "    <tr>\n",
       "      <th>14</th>\n",
       "      <td>3.049125e-07</td>\n",
       "      <td>1.802543e-16</td>\n",
       "    </tr>\n",
       "    <tr>\n",
       "      <th>15</th>\n",
       "      <td>3.232711e-07</td>\n",
       "      <td>1.929425e-16</td>\n",
       "    </tr>\n",
       "    <tr>\n",
       "      <th>16</th>\n",
       "      <td>3.416297e-07</td>\n",
       "      <td>2.053711e-16</td>\n",
       "    </tr>\n",
       "    <tr>\n",
       "      <th>17</th>\n",
       "      <td>3.599883e-07</td>\n",
       "      <td>2.176142e-16</td>\n",
       "    </tr>\n",
       "    <tr>\n",
       "      <th>18</th>\n",
       "      <td>3.783469e-07</td>\n",
       "      <td>2.297188e-16</td>\n",
       "    </tr>\n",
       "    <tr>\n",
       "      <th>19</th>\n",
       "      <td>3.967055e-07</td>\n",
       "      <td>2.417169e-16</td>\n",
       "    </tr>\n",
       "    <tr>\n",
       "      <th>20</th>\n",
       "      <td>4.150641e-07</td>\n",
       "      <td>2.536311e-16</td>\n",
       "    </tr>\n",
       "    <tr>\n",
       "      <th>21</th>\n",
       "      <td>4.334227e-07</td>\n",
       "      <td>2.654779e-16</td>\n",
       "    </tr>\n",
       "    <tr>\n",
       "      <th>22</th>\n",
       "      <td>4.517813e-07</td>\n",
       "      <td>2.772699e-16</td>\n",
       "    </tr>\n",
       "    <tr>\n",
       "      <th>23</th>\n",
       "      <td>4.701399e-07</td>\n",
       "      <td>2.890164e-16</td>\n",
       "    </tr>\n",
       "    <tr>\n",
       "      <th>24</th>\n",
       "      <td>4.884985e-07</td>\n",
       "      <td>3.007252e-16</td>\n",
       "    </tr>\n",
       "    <tr>\n",
       "      <th>25</th>\n",
       "      <td>5.068571e-07</td>\n",
       "      <td>3.124020e-16</td>\n",
       "    </tr>\n",
       "    <tr>\n",
       "      <th>26</th>\n",
       "      <td>5.252157e-07</td>\n",
       "      <td>3.240518e-16</td>\n",
       "    </tr>\n",
       "    <tr>\n",
       "      <th>27</th>\n",
       "      <td>5.435743e-07</td>\n",
       "      <td>3.356784e-16</td>\n",
       "    </tr>\n",
       "    <tr>\n",
       "      <th>28</th>\n",
       "      <td>5.619329e-07</td>\n",
       "      <td>3.472849e-16</td>\n",
       "    </tr>\n",
       "    <tr>\n",
       "      <th>29</th>\n",
       "      <td>5.802915e-07</td>\n",
       "      <td>3.588741e-16</td>\n",
       "    </tr>\n",
       "    <tr>\n",
       "      <th>30</th>\n",
       "      <td>5.986501e-07</td>\n",
       "      <td>3.704482e-16</td>\n",
       "    </tr>\n",
       "  </tbody>\n",
       "</table>\n",
       "</div>\n",
       "      <button class=\"colab-df-convert\" onclick=\"convertToInteractive('df-055e2e9f-01cb-44a8-bffc-dd0dc086a0a9')\"\n",
       "              title=\"Convert this dataframe to an interactive table.\"\n",
       "              style=\"display:none;\">\n",
       "        \n",
       "  <svg xmlns=\"http://www.w3.org/2000/svg\" height=\"24px\"viewBox=\"0 0 24 24\"\n",
       "       width=\"24px\">\n",
       "    <path d=\"M0 0h24v24H0V0z\" fill=\"none\"/>\n",
       "    <path d=\"M18.56 5.44l.94 2.06.94-2.06 2.06-.94-2.06-.94-.94-2.06-.94 2.06-2.06.94zm-11 1L8.5 8.5l.94-2.06 2.06-.94-2.06-.94L8.5 2.5l-.94 2.06-2.06.94zm10 10l.94 2.06.94-2.06 2.06-.94-2.06-.94-.94-2.06-.94 2.06-2.06.94z\"/><path d=\"M17.41 7.96l-1.37-1.37c-.4-.4-.92-.59-1.43-.59-.52 0-1.04.2-1.43.59L10.3 9.45l-7.72 7.72c-.78.78-.78 2.05 0 2.83L4 21.41c.39.39.9.59 1.41.59.51 0 1.02-.2 1.41-.59l7.78-7.78 2.81-2.81c.8-.78.8-2.07 0-2.86zM5.41 20L4 18.59l7.72-7.72 1.47 1.35L5.41 20z\"/>\n",
       "  </svg>\n",
       "      </button>\n",
       "      \n",
       "  <style>\n",
       "    .colab-df-container {\n",
       "      display:flex;\n",
       "      flex-wrap:wrap;\n",
       "      gap: 12px;\n",
       "    }\n",
       "\n",
       "    .colab-df-convert {\n",
       "      background-color: #E8F0FE;\n",
       "      border: none;\n",
       "      border-radius: 50%;\n",
       "      cursor: pointer;\n",
       "      display: none;\n",
       "      fill: #1967D2;\n",
       "      height: 32px;\n",
       "      padding: 0 0 0 0;\n",
       "      width: 32px;\n",
       "    }\n",
       "\n",
       "    .colab-df-convert:hover {\n",
       "      background-color: #E2EBFA;\n",
       "      box-shadow: 0px 1px 2px rgba(60, 64, 67, 0.3), 0px 1px 3px 1px rgba(60, 64, 67, 0.15);\n",
       "      fill: #174EA6;\n",
       "    }\n",
       "\n",
       "    [theme=dark] .colab-df-convert {\n",
       "      background-color: #3B4455;\n",
       "      fill: #D2E3FC;\n",
       "    }\n",
       "\n",
       "    [theme=dark] .colab-df-convert:hover {\n",
       "      background-color: #434B5C;\n",
       "      box-shadow: 0px 1px 3px 1px rgba(0, 0, 0, 0.15);\n",
       "      filter: drop-shadow(0px 1px 2px rgba(0, 0, 0, 0.3));\n",
       "      fill: #FFFFFF;\n",
       "    }\n",
       "  </style>\n",
       "\n",
       "      <script>\n",
       "        const buttonEl =\n",
       "          document.querySelector('#df-055e2e9f-01cb-44a8-bffc-dd0dc086a0a9 button.colab-df-convert');\n",
       "        buttonEl.style.display =\n",
       "          google.colab.kernel.accessAllowed ? 'block' : 'none';\n",
       "\n",
       "        async function convertToInteractive(key) {\n",
       "          const element = document.querySelector('#df-055e2e9f-01cb-44a8-bffc-dd0dc086a0a9');\n",
       "          const dataTable =\n",
       "            await google.colab.kernel.invokeFunction('convertToInteractive',\n",
       "                                                     [key], {});\n",
       "          if (!dataTable) return;\n",
       "\n",
       "          const docLinkHtml = 'Like what you see? Visit the ' +\n",
       "            '<a target=\"_blank\" href=https://colab.research.google.com/notebooks/data_table.ipynb>data table notebook</a>'\n",
       "            + ' to learn more about interactive tables.';\n",
       "          element.innerHTML = '';\n",
       "          dataTable['output_type'] = 'display_data';\n",
       "          await google.colab.output.renderOutput(dataTable, element);\n",
       "          const docLink = document.createElement('div');\n",
       "          docLink.innerHTML = docLinkHtml;\n",
       "          element.appendChild(docLink);\n",
       "        }\n",
       "      </script>\n",
       "    </div>\n",
       "  </div>\n",
       "  "
      ],
      "text/plain": [
       "     Temperature      Pressure\n",
       "8   1.947608e-07  7.447724e-17\n",
       "9   2.131194e-07  9.347272e-17\n",
       "10  2.314781e-07  1.154354e-16\n",
       "11  2.498367e-07  1.374488e-16\n",
       "12  2.681953e-07  1.534382e-16\n",
       "13  2.865539e-07  1.671772e-16\n",
       "14  3.049125e-07  1.802543e-16\n",
       "15  3.232711e-07  1.929425e-16\n",
       "16  3.416297e-07  2.053711e-16\n",
       "17  3.599883e-07  2.176142e-16\n",
       "18  3.783469e-07  2.297188e-16\n",
       "19  3.967055e-07  2.417169e-16\n",
       "20  4.150641e-07  2.536311e-16\n",
       "21  4.334227e-07  2.654779e-16\n",
       "22  4.517813e-07  2.772699e-16\n",
       "23  4.701399e-07  2.890164e-16\n",
       "24  4.884985e-07  3.007252e-16\n",
       "25  5.068571e-07  3.124020e-16\n",
       "26  5.252157e-07  3.240518e-16\n",
       "27  5.435743e-07  3.356784e-16\n",
       "28  5.619329e-07  3.472849e-16\n",
       "29  5.802915e-07  3.588741e-16\n",
       "30  5.986501e-07  3.704482e-16"
      ]
     },
     "execution_count": 10,
     "metadata": {},
     "output_type": "execute_result"
    }
   ],
   "source": [
    "df.iloc[8:,]"
   ]
  },
  {
   "cell_type": "markdown",
   "id": "FSwjIsP5LfiH",
   "metadata": {
    "id": "FSwjIsP5LfiH"
   },
   "source": [
    "Observemos que a partir de  2.131194e-07 K, la relacion entre la temperatura y la presion comienza a ser lineal. Se puede considerar a esta como la temperatura critica"
   ]
  },
  {
   "cell_type": "code",
   "execution_count": 11,
   "id": "tn1egDOHL1SQ",
   "metadata": {
    "colab": {
     "base_uri": "https://localhost:8080/",
     "height": 307
    },
    "id": "tn1egDOHL1SQ",
    "outputId": "2ede1751-6d0e-4dcf-9e7a-45e34155b75c"
   },
   "outputs": [
    {
     "data": {
      "text/plain": [
       "<matplotlib.legend.Legend at 0x7fabb926eed0>"
      ]
     },
     "execution_count": 11,
     "metadata": {},
     "output_type": "execute_result"
    },
    {
     "data": {
      "image/png": "[encoded data removed]",
      "text/plain": [
       "<Figure size 432x288 with 1 Axes>"
      ]
     },
     "metadata": {
      "needs_background": "light"
     },
     "output_type": "display_data"
    }
   ],
   "source": [
    "from scipy import interpolate\n",
    "\n",
    "f_interpolation = interpolate.interp1d(Temperature,Pressure,kind='cubic')\n",
    "Temp_interp=np.linspace(np.min(Temperature),np.max(Temperature),100)\n",
    "Pressure_interp=f_interpolation(Temp_interp)\n",
    "\n",
    "plt.plot(Temp_interp,Pressure_interp,'.r',label='interpolated points')\n",
    "plt.plot(Temperature,Pressure,'.k',label='original points')\n",
    "plt.xlabel('temperature')\n",
    "plt.ylabel('pressure')\n",
    "plt.grid()\n",
    "plt.legend()"
   ]
  },
  {
   "cell_type": "code",
   "execution_count": 12,
   "id": "UX20EWHDNPNW",
   "metadata": {
    "colab": {
     "base_uri": "https://localhost:8080/"
    },
    "id": "UX20EWHDNPNW",
    "outputId": "084d8562-88ba-48cf-de2f-443eeaef07d1"
   },
   "outputs": [
    {
     "name": "stdout",
     "output_type": "stream",
     "text": [
      "[3.94317588e-11 4.50599045e-11 5.69217006e-11 6.99945060e-11\n",
      " 8.42783207e-11 9.97731448e-11 1.16486456e-10 1.34716427e-10\n",
      " 1.55131378e-10 1.78134235e-10 2.03836196e-10 2.32578387e-10\n",
      " 2.64663227e-10 3.00102538e-10 3.38599587e-10 3.79775860e-10\n",
      " 4.23494748e-10 4.69301860e-10 5.16327340e-10 5.64116460e-10\n",
      " 6.12460936e-10 6.60751746e-10 7.08511453e-10 7.55985793e-10\n",
      " 8.05114313e-10 8.58084814e-10 9.15316201e-10 9.74695322e-10\n",
      " 1.03271591e-09 1.08780313e-09 1.13909520e-09 1.18440351e-09\n",
      " 1.22221822e-09 1.24853672e-09 1.24401268e-09 1.18929976e-09\n",
      " 1.08326146e-09 9.56842448e-10 8.54898202e-10 7.94071726e-10\n",
      " 7.65979639e-10 7.51349459e-10 7.38563830e-10 7.26954581e-10\n",
      " 7.16758233e-10 7.08184467e-10 7.01214932e-10 6.95421129e-10\n",
      " 6.90256461e-10 6.85550226e-10 6.81283900e-10 6.77423508e-10\n",
      " 6.73951209e-10 6.70842072e-10 6.68018293e-10 6.65418878e-10\n",
      " 6.63032942e-10 6.60837320e-10 6.58805881e-10 6.56931180e-10\n",
      " 6.55199474e-10 6.53587970e-10 6.52086436e-10 6.50689626e-10\n",
      " 6.49384259e-10 6.48161174e-10 6.47017880e-10 6.45945969e-10\n",
      " 6.44937033e-10 6.43988988e-10 6.43097298e-10 6.42255383e-10\n",
      " 6.41460716e-10 6.40711089e-10 6.40001623e-10 6.39329377e-10\n",
      " 6.38693329e-10 6.38090151e-10 6.37516895e-10 6.36972856e-10\n",
      " 6.36455982e-10 6.35963654e-10 6.35495013e-10 6.35048956e-10\n",
      " 6.34623379e-10 6.34217181e-10 6.33829824e-10 6.33459727e-10\n",
      " 6.33105650e-10 6.32767287e-10 6.32443634e-10 6.32133557e-10\n",
      " 6.31836724e-10 6.31552379e-10 6.31279272e-10 6.31016843e-10\n",
      " 6.30765080e-10 6.30523982e-10 6.30293548e-10 6.30180998e-10]\n"
     ]
    }
   ],
   "source": [
    "Cv_interp=np.gradient(Pressure_interp,Temp_interp)\n",
    "print (Cv_interp)"
   ]
  },
  {
   "cell_type": "code",
   "execution_count": 13,
   "id": "JeyI4S4BNZYG",
   "metadata": {
    "colab": {
     "base_uri": "https://localhost:8080/",
     "height": 307
    },
    "id": "JeyI4S4BNZYG",
    "outputId": "90ebed0f-7283-4a8a-c175-d73e1d1d5065"
   },
   "outputs": [
    {
     "data": {
      "text/plain": [
       "<matplotlib.legend.Legend at 0x7fabb66067d0>"
      ]
     },
     "execution_count": 13,
     "metadata": {},
     "output_type": "execute_result"
    },
    {
     "data": {
      "image/png": "[encoded data removed]",
      "text/plain": [
       "<Figure size 432x288 with 1 Axes>"
      ]
     },
     "metadata": {
      "needs_background": "light"
     },
     "output_type": "display_data"
    }
   ],
   "source": [
    "plt.plot(Temp_interp, Cv_interp, '.r',label='Cv interp points')\n",
    "plt.plot(Temperature, Cv, '.k',label='Cv original points')\n",
    "\n",
    "plt.xlabel('temperature')\n",
    "plt.ylabel('Cv')\n",
    "plt.grid()\n",
    "plt.legend()"
   ]
  },
  {
   "cell_type": "markdown",
   "id": "nominated-beast",
   "metadata": {
    "id": "nominated-beast"
   },
   "source": [
    "# Ejercicio 3"
   ]
  },
  {
   "cell_type": "markdown",
   "id": "amended-french",
   "metadata": {
    "id": "amended-french"
   },
   "source": [
    "Dada es Matrix $S$:\n",
    "\n",
    "$$S=\n",
    "\\begin{bmatrix}\n",
    "1 &  -1 & -1 & -1\\\\\n",
    "-1 &  2 & 0 & 0\\\\\n",
    "-1 &  3 & 3 & 0 \\\\\n",
    "-1 &  0 & 1 & 4 \\\\\n",
    "\\end{bmatrix}$$\n",
    "\n",
    "\n",
    "a) calcular $S^5$ utilizando diagonalización.  \n",
    "\n",
    "b) crear una funcion `matrix_power(A,n)` que recive dos parametros: matrix $A$, y valor entero de la potencia $n$. Funcion tiene que devolver una matrix $M=A^n$ (usa diagonalizacion)"
   ]
  },
  {
   "cell_type": "code",
   "execution_count": 3,
   "id": "interested-joshua",
   "metadata": {
    "colab": {
     "base_uri": "https://localhost:8080/"
    },
    "id": "interested-joshua",
    "outputId": "01c3a3a4-bc29-4dd4-da9b-aefc0f21541a"
   },
   "outputs": [
    {
     "name": "stdout",
     "output_type": "stream",
     "text": [
      "matriz original\n",
      "[[ 1 -1 -1 -1]\n",
      " [-1  2  0  0]\n",
      " [-1  3  3  0]\n",
      " [-1  0  1  4]]\n",
      "matriz elevada a la quinta potencia\n",
      "[[  485.  -755.  -563.  -563.]\n",
      " [ -179.   280.   192.   192.]\n",
      " [ -675.  1201.   707.   464.]\n",
      " [-1027.  1448.  1275.  1518.]]\n",
      "potencia de la matriz usando numpy\n",
      "[[  485  -755  -563  -563]\n",
      " [ -179   280   192   192]\n",
      " [ -675  1201   707   464]\n",
      " [-1027  1448  1275  1518]]\n"
     ]
    }
   ],
   "source": [
    "from numpy.linalg import eig\n",
    "import numpy as np\n",
    "S=np.array([[1,-1,-1,-1],[-1,2,0,0],[-1,3,3,0],[-1,0,1,4]])\n",
    "print(\"matriz original\")\n",
    "print(S)\n",
    "\n",
    "values, vectors=eig(S)\n",
    "P=vectors\n",
    "D=np.zeros((4,4))\n",
    "for i in range(0,4):\n",
    "  D[i][i]=values[i]\n",
    "D_power=np.zeros((4,4))\n",
    "for j in range(0,4):\n",
    "  D_power[j][j]=values[j]**5\n",
    "inv_P=np.linalg.inv(P)\n",
    "A=np.dot(P,D_power)\n",
    "S_power=np.dot(A,inv_P)\n",
    "print(\"matriz elevada a la quinta potencia\")\n",
    "print(S_power)\n",
    "power = np.linalg.matrix_power(S,5)\n",
    "print(\"potencia de la matriz usando numpy\")\n",
    "print(power)"
   ]
  },
  {
   "cell_type": "code",
   "execution_count": 4,
   "id": "4bK8gtR2YGBJ",
   "metadata": {
    "colab": {
     "base_uri": "https://localhost:8080/"
    },
    "id": "4bK8gtR2YGBJ",
    "outputId": "3e887f00-77ff-451e-cc50-c8269843fc8b"
   },
   "outputs": [
    {
     "name": "stdout",
     "output_type": "stream",
     "text": [
      "[[  485.  -755.  -563.  -563.]\n",
      " [ -179.   280.   192.   192.]\n",
      " [ -675.  1201.   707.   464.]\n",
      " [-1027.  1448.  1275.  1518.]]\n",
      "[[  485  -755  -563  -563]\n",
      " [ -179   280   192   192]\n",
      " [ -675  1201   707   464]\n",
      " [-1027  1448  1275  1518]]\n"
     ]
    }
   ],
   "source": [
    "def my_matriz_power(A,n):\n",
    "  values, vectors=eig(A)\n",
    "  P=vectors\n",
    "  D=np.zeros((len(A),len(A)))\n",
    "  for i in range(0,len(A)):\n",
    "    D[i][i]=values[i]\n",
    "  D_power=np.zeros((len(A),len(A)))\n",
    "  for j in range(0,len(A)):\n",
    "    D_power[j][j]=values[j]**n\n",
    "  inv_P=np.linalg.inv(P)\n",
    "  B=np.dot(P,D_power)\n",
    "  A_power=np.dot(B,inv_P)\n",
    "  return A_power\n",
    "\n",
    "print(my_matriz_power(S,5))\n",
    "\n",
    "power = np.linalg.matrix_power(S,5)\n",
    "print(power)"
   ]
  },
  {
   "cell_type": "markdown",
   "id": "grand-authentication",
   "metadata": {},
   "source": [
    "# Feedback:\n",
    "```\n",
    "Exercise 1.\n",
    "Importation of the data + labeled plot (rho vs. r)\t            (max 0.5p):\t0.5p\n",
    "Calculation of the integral                 \t\t              (max 1.5p):\t0.5p\n",
    "\n",
    "Exercise 2.\n",
    "Importation of the data + labeled plot P vs. T \t               (max 0.5p):\t0.5p\n",
    "Calculation of the derivative and plot Cv vs. T        \t\t   (max 2.0p):\t2.0p\n",
    "Approximation of the critical temperature                         (max 0.5p):\t0.5p\n",
    "Interpolation                                                     (max 1.0p):\t1.0p\n",
    "\n",
    "Exercise 3.\n",
    "Calculation of the M^n                                 \t       (max 2.0p):\t2.0p\n",
    "Function of the M^n                                    \t       (max 2.0p):\t2.0p\n",
    "\n",
    "- Total:                                                          (max 10.0p):   10.0p\n",
    "```"
   ]
  },
  {
   "cell_type": "code",
   "execution_count": null,
   "id": "confidential-genius",
   "metadata": {},
   "outputs": [],
   "source": []
  }
 ],
 "metadata": {
  "colab": {
   "collapsed_sections": [],
   "name": "examen_parcial_3.ipynb",
   "provenance": []
  },
  "kernelspec": {
   "display_name": "Python 3",
   "language": "python",
   "name": "python3"
  },
  "language_info": {
   "codemirror_mode": {
    "name": "ipython",
    "version": 3
   },
   "file_extension": ".py",
   "mimetype": "text/x-python",
   "name": "python",
   "nbconvert_exporter": "python",
   "pygments_lexer": "ipython3",
   "version": "3.7.2"
  }
 },
 "nbformat": 4,
 "nbformat_minor": 5
}
