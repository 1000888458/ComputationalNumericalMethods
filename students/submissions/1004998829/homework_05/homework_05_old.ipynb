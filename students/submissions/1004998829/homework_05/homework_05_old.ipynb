{
 "cells": [
  {
   "cell_type": "code",
   "execution_count": 1,
   "metadata": {
    "id": "STYoDpKIRJ2T"
   },
   "outputs": [],
   "source": [
    "def cuadratic_interp(x,y,xinterp):\n",
    "  import numpy as np\n",
    "  #interpolacion cuadratica\n",
    "  yint=y[0]+((y[1]-y[0])/(x[1]-x[0]))*(xinterp-x[0])\n",
    "\n",
    "  return (yint)\n"
   ]
  },
  {
   "cell_type": "code",
   "execution_count": 9,
   "metadata": {
    "colab": {
     "base_uri": "https://localhost:8080/"
    },
    "id": "SSbcgrC7UG61",
    "outputId": "18363fa6-49b0-4787-d51c-eadc3d941410"
   },
   "outputs": [
    {
     "name": "stdout",
     "output_type": "stream",
     "text": [
      "cuadratic_interp([6.5,7.5],[np.log10(6.5),np.log10(7.5)],7.0)---> 0.8439873100172779 Valor real= 0.8450980400142568\n",
      "cuadratic_interp([0.5,1.5],[np.sqrt(0.5),np.sqrt(1.5)],1.0)-----> 0.9659258262890682 Valor real= 1.0\n",
      "cuadratic_interp([0.1,0.9],[np.cos(0.1),np.cos(0.9)],0.5)-------> 0.808307066774345 Valor real= 0.8775825618903728\n",
      "cuadratic_interp([0.1,0.9],[np.sin(0.1),np.sin(0.9)],0.5)-------> 0.4415801631371558 Valor real= 0.479425538604203\n"
     ]
    }
   ],
   "source": [
    "import numpy as np #Ejemplos:\n",
    "print(\"cuadratic_interp([6.5,7.5],[np.log10(6.5),np.log10(7.5)],7.0)--->\",cuadratic_interp([6.5,7.5],[np.log10(6.5),np.log10(7.5)],7.0),\"Valor real=\",np.log10(7))\n",
    "print(\"cuadratic_interp([0.5,1.5],[np.sqrt(0.5),np.sqrt(1.5)],1.0)----->\",cuadratic_interp([0.5,1.5],[np.sqrt(0.5),np.sqrt(1.5)],1.0),\"Valor real=\",np.sqrt(1))\n",
    "print(\"cuadratic_interp([0.1,0.9],[np.cos(0.1),np.cos(0.9)],0.5)------->\",cuadratic_interp([0.1,0.9],[np.cos(0.1),np.cos(0.9)],0.5),\"Valor real=\",np.cos(0.5))\n",
    "print(\"cuadratic_interp([0.1,0.9],[np.sin(0.1),np.sin(0.9)],0.5)------->\",cuadratic_interp([0.1,0.9],[np.sin(0.1),np.sin(0.9)],0.5),\"Valor real=\",np.sin(0.5))"
   ]
  },
  {
   "cell_type": "code",
   "execution_count": 3,
   "metadata": {},
   "outputs": [
    {
     "data": {
      "text/plain": [
       "[<matplotlib.lines.Line2D at 0x7f5d5227c5f8>]"
      ]
     },
     "execution_count": 3,
     "metadata": {},
     "output_type": "execute_result"
    },
    {
     "data": {
      "image/png": "[encoded data removed]",
      "text/plain": [
       "<Figure size 432x288 with 1 Axes>"
      ]
     },
     "metadata": {
      "needs_background": "light"
     },
     "output_type": "display_data"
    }
   ],
   "source": []
  },
  {
   "cell_type": "code",
   "execution_count": null,
   "metadata": {},
   "outputs": [],
   "source": []
  }
 ],
 "metadata": {
  "colab": {
   "name": "homework_5.ipynb",
   "provenance": []
  },
  "kernelspec": {
   "display_name": "Python 3",
   "language": "python",
   "name": "python3"
  },
  "language_info": {
   "codemirror_mode": {
    "name": "ipython",
    "version": 3
   },
   "file_extension": ".py",
   "mimetype": "text/x-python",
   "name": "python",
   "nbconvert_exporter": "python",
   "pygments_lexer": "ipython3",
   "version": "3.7.2"
  }
 },
 "nbformat": 4,
 "nbformat_minor": 1
}
