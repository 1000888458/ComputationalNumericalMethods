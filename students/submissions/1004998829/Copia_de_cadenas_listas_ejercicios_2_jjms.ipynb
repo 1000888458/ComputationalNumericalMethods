{
  "nbformat": 4,
  "nbformat_minor": 5,
  "metadata": {
    "kernelspec": {
      "display_name": "Python 3",
      "language": "python",
      "name": "python3"
    },
    "language_info": {
      "codemirror_mode": {
        "name": "ipython",
        "version": 3
      },
      "file_extension": ".py",
      "mimetype": "text/x-python",
      "name": "python",
      "nbconvert_exporter": "python",
      "pygments_lexer": "ipython3",
      "version": "3.7.2"
    },
    "colab": {
      "name": "Copia de cadenas_listas_ejercicios_2_jjms.ipynb",
      "provenance": [],
      "collapsed_sections": []
    }
  },
  "cells": [
    {
      "cell_type": "markdown",
      "metadata": {
        "id": "adolescent-sally"
      },
      "source": [
        "## Exercise 2: Lists"
      ],
      "id": "adolescent-sally"
    },
    {
      "cell_type": "markdown",
      "metadata": {
        "id": "prime-undergraduate"
      },
      "source": [
        "### Este codigo abajo importa un libro entero a un string que se llama \"book\""
      ],
      "id": "prime-undergraduate"
    },
    {
      "cell_type": "code",
      "metadata": {
        "colab": {
          "base_uri": "https://localhost:8080/"
        },
        "id": "documentary-museum",
        "outputId": "4c6cc6a5-861f-48e6-f6ad-6e9eabbdc082"
      },
      "source": [
        "## Challange:\n",
        "## List comprehenions are not necessary for this challenge\n",
        "\n",
        "from urllib.request import urlopen\n",
        "response = urlopen('https://www.gutenberg.org/files/74/74-0.txt')\n",
        "book = str(response.read())\n",
        "book.find('HARTFORD, 1876.')"
      ],
      "id": "documentary-museum",
      "execution_count": null,
      "outputs": [
        {
          "output_type": "execute_result",
          "data": {
            "text/plain": [
              "10396"
            ]
          },
          "metadata": {},
          "execution_count": 2
        }
      ]
    },
    {
      "cell_type": "code",
      "metadata": {
        "id": "metropolitan-magazine",
        "colab": {
          "base_uri": "https://localhost:8080/"
        },
        "outputId": "dea5e06d-cecb-468d-9ef9-6e08d5acda84"
      },
      "source": [
        "print(len(book))"
      ],
      "id": "metropolitan-magazine",
      "execution_count": null,
      "outputs": [
        {
          "output_type": "stream",
          "name": "stdout",
          "text": [
            "510671\n"
          ]
        }
      ]
    },
    {
      "cell_type": "code",
      "metadata": {
        "id": "adaptive-elder",
        "colab": {
          "base_uri": "https://localhost:8080/"
        },
        "outputId": "9f03155f-f252-4439-85e1-8ab3a1c711f0"
      },
      "source": [
        "print(book[14:100])"
      ],
      "id": "adaptive-elder",
      "execution_count": null,
      "outputs": [
        {
          "output_type": "stream",
          "name": "stdout",
          "text": [
            "The Project Gutenberg eBook of The Adventures of Tom Sawyer, by Mark Twain\\r\\n\\r\\nThis\n"
          ]
        }
      ]
    },
    {
      "cell_type": "markdown",
      "metadata": {
        "id": "continuing-metabolism"
      },
      "source": [
        "#### Siguiendo el material de la clase pasada hacer un plot de occurencia de un caracter (Jim o Tom o Huck) de libro atraves de los capitulos\n"
      ],
      "id": "continuing-metabolism"
    },
    {
      "cell_type": "code",
      "metadata": {
        "id": "fpUnLGBV8_J6",
        "colab": {
          "base_uri": "https://localhost:8080/",
          "height": 334
        },
        "outputId": "5b9133c3-e10b-4696-f999-bb3dd276474b"
      },
      "source": [
        "ch=book.split(\"CHAPTER\") #separa el libro con respecto a \"CHAPTER\" que es como se marca cada capitulo \n",
        "#print(len(ch)) Esto fue para saber que longitud tiene el str dividido por capitulos\n",
        "#sin embargo, para deshacernos de las partes del libro que tienen \"chapter\" pero no son capitulos\n",
        "#la len de ch es 71, el libro tiene 35 capitulos, o que significa que hay 36 valores al inico del str estorbando.\n",
        "li_tom=[] #se crea una lista vacia\n",
        "for i in range(36,len(ch)):#el rango se inicia en 36 para deshacernos de los datos que estorban al inicio\n",
        "  n_toms=ch[i].count(\"Tom\")+ch[i].count(\"TOM\")#para cada elemento de \"ch\" se cuentan los \"Tom\" y \"TOM\"\n",
        "  li_tom.append(n_toms)#Se agrega lo contado a la lista vacia, paulatinamente\n",
        "  i=i+1\n",
        "#print(li_tom)\n",
        "#chap=[x for x in range(1,36)]\n",
        "#print(chap)\n",
        "import matplotlib.pyplot as plt\n",
        "fig, ax = plt.subplots(1,1)\n",
        "\n",
        "ax.plot(li_tom)\n",
        "ax.set_xlabel('Chapters')\n",
        "ax.set_ylabel('Numero de \"Tom\"')"
      ],
      "id": "fpUnLGBV8_J6",
      "execution_count": null,
      "outputs": [
        {
          "output_type": "stream",
          "name": "stdout",
          "text": [
            "[35, 24, 21, 31, 8, 56, 32, 13, 17, 39, 20, 27, 17, 19, 19, 26, 7, 52, 15, 24, 2, 13, 13, 7, 20, 13, 9, 15, 8, 8, 61, 15, 43, 11, 34]\n"
          ]
        },
        {
          "output_type": "execute_result",
          "data": {
            "text/plain": [
              "Text(0, 0.5, 'Numero de \"Tom\"')"
            ]
          },
          "metadata": {},
          "execution_count": 17
        },
        {
          "output_type": "display_data",
          "data": {
            "image/png": "[encoded data removed]",
            "text/plain": [
              "<Figure size 432x288 with 1 Axes>"
            ]
          },
          "metadata": {
            "needs_background": "light"
          }
        }
      ]
    }
  ]
}