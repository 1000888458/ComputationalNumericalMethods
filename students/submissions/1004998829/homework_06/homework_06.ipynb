{
  "nbformat": 4,
  "nbformat_minor": 0,
  "metadata": {
    "colab": {
      "name": "homework_6.ipynb",
      "provenance": [],
      "collapsed_sections": []
    },
    "kernelspec": {
      "name": "python3",
      "display_name": "Python 3"
    },
    "language_info": {
      "name": "python"
    }
  },
  "cells": [
    {
      "cell_type": "code",
      "execution_count": 1,
      "metadata": {
        "id": "NQGM2Egzwtj2"
      },
      "outputs": [],
      "source": [
        "def deriv(func,a,method,h):\n",
        "  if method=='forward': return((func(a+h)-func(a))/h)\n",
        "  elif method=='backward': return((func(a)-func(a-h))/h)\n",
        "  elif method=='central': return((func(a+h)-func(a-h))/(2*h))\n",
        "  "
      ]
    },
    {
      "cell_type": "code",
      "source": [
        "import numpy as np\n",
        "deriv(np.sin,np.pi,\"central\",0.0000000001)"
      ],
      "metadata": {
        "colab": {
          "base_uri": "https://localhost:8080/"
        },
        "id": "_DHjdXEV6K_G",
        "outputId": "097a7676-dc53-44fc-ab70-ad34f22c7327"
      },
      "execution_count": 3,
      "outputs": [
        {
          "output_type": "execute_result",
          "data": {
            "text/plain": [
              "-1.000000082740371"
            ]
          },
          "metadata": {},
          "execution_count": 3
        }
      ]
    },
    {
      "cell_type": "code",
      "source": [
        "deriv(np.sin,np.pi,\"forward\",0.0000000001)"
      ],
      "metadata": {
        "colab": {
          "base_uri": "https://localhost:8080/"
        },
        "id": "oiCnaHia6yUt",
        "outputId": "86ca012a-85ea-4f08-889a-b61f8f62d066"
      },
      "execution_count": 5,
      "outputs": [
        {
          "output_type": "execute_result",
          "data": {
            "text/plain": [
              "-1.000000082740371"
            ]
          },
          "metadata": {},
          "execution_count": 5
        }
      ]
    },
    {
      "cell_type": "code",
      "source": [
        "deriv(np.sin,np.pi,\"backward\",0.0000000001)"
      ],
      "metadata": {
        "colab": {
          "base_uri": "https://localhost:8080/"
        },
        "id": "h3K3V8-E65S0",
        "outputId": "c5a4ad7d-e96d-4dbe-d7ec-adfcd76c573a"
      },
      "execution_count": 6,
      "outputs": [
        {
          "output_type": "execute_result",
          "data": {
            "text/plain": [
              "-1.000000082740371"
            ]
          },
          "metadata": {},
          "execution_count": 6
        }
      ]
    },
    {
      "cell_type": "code",
      "source": [
        "np.cos(np.pi)"
      ],
      "metadata": {
        "colab": {
          "base_uri": "https://localhost:8080/"
        },
        "id": "-HCCbJxB6oRk",
        "outputId": "efeeab14-abf4-4e7b-b11f-6d6868216549"
      },
      "execution_count": 4,
      "outputs": [
        {
          "output_type": "execute_result",
          "data": {
            "text/plain": [
              "-1.0"
            ]
          },
          "metadata": {},
          "execution_count": 4
        }
      ]
    }
  ]
}