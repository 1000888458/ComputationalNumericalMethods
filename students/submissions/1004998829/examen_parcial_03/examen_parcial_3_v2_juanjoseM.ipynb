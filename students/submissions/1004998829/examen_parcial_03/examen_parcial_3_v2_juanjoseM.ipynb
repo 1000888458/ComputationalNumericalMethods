{
 "cells": [
  {
   "cell_type": "markdown",
   "id": "plain-rugby",
   "metadata": {
    "id": "plain-rugby"
   },
   "source": [
    "# Examen parcial 3 v2. (calculo numerico y algebra lineal)\n",
    "* Antes de enviar el archivo, $\\textbf{reiniciar y ejecutar el kernel}$ para ver que el archivo se compila sin errores\n",
    "* enviar el archivo jupyter sin anexos antes de las 11.00am del 06.04.2022 a mi dirección de correo electrónico: michal.hemmerling@udea.edu.co "
   ]
  },
  {
   "cell_type": "markdown",
   "id": "usual-washer",
   "metadata": {
    "id": "usual-washer"
   },
   "source": [
    "# Ejercicio 1"
   ]
  },
  {
   "cell_type": "markdown",
   "id": "pretty-conference",
   "metadata": {
    "id": "pretty-conference"
   },
   "source": [
    "Masa de una barra delgada en el intervalo [a, b] es dada por Integral:\n",
    "\n",
    "$$ m =  \\int_{a}^{b} \\rho (x) \\ dx $$\n",
    "\n",
    "donde $\\rho(x)$ es una función de densidad linear\n",
    "\n",
    "<table><tr>\n",
    "<td> <img src=\"rod.jpg\" width=\"300\" /> </td>\n",
    "</tr></table>   \n",
    "\n",
    "\n",
    "El archivo $\\textbf{data_distance_density.csv}$ contiene dos columnas: la distancia un la barra ($ x $) y la densidad ($ \\rho (x) $) de la barra como función del distancia.\n",
    "\n",
    "* a) importar los datos usando pandas, graficar la densidad de la barra $\\rho(x)$ vs $x$ (los gráficos deben tener etiquetas para el eje x y el eje y).\n",
    "\n",
    "* b) calcular la masa de la barra mediante integración numérica"
   ]
  },
  {
   "cell_type": "code",
   "execution_count": 12,
   "id": "P9jqZUU1IGev",
   "metadata": {
    "colab": {
     "base_uri": "https://localhost:8080/",
     "height": 224
    },
    "id": "P9jqZUU1IGev",
    "outputId": "6dc24ae6-1f3f-4f81-acbe-79bc269ef822"
   },
   "outputs": [
    {
     "data": {
      "text/html": [
       "<div>\n",
       "<style scoped>\n",
       "    .dataframe tbody tr th:only-of-type {\n",
       "        vertical-align: middle;\n",
       "    }\n",
       "\n",
       "    .dataframe tbody tr th {\n",
       "        vertical-align: top;\n",
       "    }\n",
       "\n",
       "    .dataframe thead th {\n",
       "        text-align: right;\n",
       "    }\n",
       "</style>\n",
       "<table border=\"1\" class=\"dataframe\">\n",
       "  <thead>\n",
       "    <tr style=\"text-align: right;\">\n",
       "      <th></th>\n",
       "      <th>distance</th>\n",
       "      <th>density</th>\n",
       "    </tr>\n",
       "  </thead>\n",
       "  <tbody>\n",
       "    <tr>\n",
       "      <th>0</th>\n",
       "      <td>1.570796</td>\n",
       "      <td>1.000000</td>\n",
       "    </tr>\n",
       "    <tr>\n",
       "      <th>1</th>\n",
       "      <td>1.586663</td>\n",
       "      <td>0.999874</td>\n",
       "    </tr>\n",
       "    <tr>\n",
       "      <th>2</th>\n",
       "      <td>1.602530</td>\n",
       "      <td>0.999497</td>\n",
       "    </tr>\n",
       "    <tr>\n",
       "      <th>3</th>\n",
       "      <td>1.618396</td>\n",
       "      <td>0.998867</td>\n",
       "    </tr>\n",
       "    <tr>\n",
       "      <th>4</th>\n",
       "      <td>1.634263</td>\n",
       "      <td>0.997987</td>\n",
       "    </tr>\n",
       "  </tbody>\n",
       "</table>\n",
       "</div>"
      ],
      "text/plain": [
       "   distance   density\n",
       "0  1.570796  1.000000\n",
       "1  1.586663  0.999874\n",
       "2  1.602530  0.999497\n",
       "3  1.618396  0.998867\n",
       "4  1.634263  0.997987"
      ]
     },
     "execution_count": 12,
     "metadata": {},
     "output_type": "execute_result"
    }
   ],
   "source": [
    "#from google.colab import drive #Lo primero es acceder a drive puesto que ahi tengo el archivo csv\n",
    "import pandas as pd\n",
    "#drive.mount('/content/drive')\n",
    "#df=pd.read_csv('/content/drive/MyDrive/Colab Notebooks/data_distance_density.csv') \n",
    "df=pd.read_csv('data_distance_density.csv') \n",
    "\n",
    "df.head()"
   ]
  },
  {
   "cell_type": "code",
   "execution_count": 13,
   "id": "yr8eT5WHIban",
   "metadata": {
    "colab": {
     "base_uri": "https://localhost:8080/",
     "height": 279
    },
    "id": "yr8eT5WHIban",
    "outputId": "25bb1aa5-4f92-4b77-ac65-41995fd730dd"
   },
   "outputs": [
    {
     "data": {
      "image/png": "[encoded data removed]",
      "text/plain": [
       "<Figure size 432x288 with 1 Axes>"
      ]
     },
     "metadata": {
      "needs_background": "light"
     },
     "output_type": "display_data"
    }
   ],
   "source": [
    "import numpy as np\n",
    "df_np=df.to_numpy()   # pasamos los datos de los pixeles y los de la etiqueta a un array de numpy\n",
    "import matplotlib.pyplot as plt\n",
    "distance=[df_np[x][0] for x in range(len(df_np))]#asignamos los datos a listas\n",
    "density=[df_np[x][1] for x in range(len(df_np))]\n",
    "plt.plot(distance,density)\n",
    "plt.xlabel(\"distancia\")\n",
    "plt.ylabel(\"densidad\")\n",
    "plt.grid()\n",
    "plt.show()"
   ]
  },
  {
   "cell_type": "code",
   "execution_count": 14,
   "id": "jZoNPQGkI5Qu",
   "metadata": {
    "colab": {
     "base_uri": "https://localhost:8080/"
    },
    "id": "jZoNPQGkI5Qu",
    "outputId": "c4974be3-17bd-41df-ec35-4dddde42d647"
   },
   "outputs": [
    {
     "name": "stdout",
     "output_type": "stream",
     "text": [
      "La masa es: 2.14150576590951\n"
     ]
    }
   ],
   "source": [
    "from scipy.integrate import trapz\n",
    "y=[]\n",
    "for i in range(len(df['distance'])):\n",
    "  y.append(df['density'][i]*df['distance'][i])\n",
    "I=trapz(y,df['distance'])\n",
    "print(\"La masa es:\",I)"
   ]
  },
  {
   "cell_type": "markdown",
   "id": "handy-obligation",
   "metadata": {
    "id": "handy-obligation"
   },
   "source": [
    "# Ejercicio 2"
   ]
  },
  {
   "cell_type": "markdown",
   "id": "broken-belfast",
   "metadata": {
    "id": "broken-belfast"
   },
   "source": [
    "La capacidad calorífica de un gas muy frío se puede aproximar mediante:\n",
    "\n",
    "$$ C_v \\approx \\left (\\frac{dP}{dT} \\right) $$\n",
    "(en las unidades de $ \\left [\\frac {J} {K} \\right] $)\n",
    "\n",
    "Donde $P$ es la presión $ [J / s^3] $ del gas y $ T \\ [K] $ es la temperatura del gas.\n",
    "\n",
    "Los datos para la presión frente a la temperatura se dan en el archivo csv ($ \\textbf{data_pressure_vs_temperature.csv} $).\n",
    "\n",
    "* a) importar los datos usando Pandas\n",
    "* b) hacer un gráfico de $P$ vs $T$ (grafico tiene que tener etiquietas)\n",
    "* c) utilizando la derivada numérica, encuentre la capacidad calorífica y hace un gráfico de $C_v$ vs $T$ (grafico tiene que tener etiquietas)\n",
    "* d) encontrar Temperatura Critica de este gas (Temperatura Critica es Temperatura de cambio abrupto del comportamiento de Capacidad Termica)\n",
    "\n",
    "*gas muy frío se refiere a un gas Bose no homogéneo, y la teoría que relaciona $ C_v $ y $ P $ se refiere a la Teoría de Variables Globales Termodinámicas. La presión en realidad se llama parámetro de presión."
   ]
  },
  {
   "cell_type": "code",
   "execution_count": 15,
   "id": "goHxGfMhSaGN",
   "metadata": {
    "colab": {
     "base_uri": "https://localhost:8080/",
     "height": 206
    },
    "id": "goHxGfMhSaGN",
    "outputId": "b2f820ea-3ac2-4fb0-b0e0-b1c0b2604adf"
   },
   "outputs": [
    {
     "data": {
      "text/html": [
       "<div>\n",
       "<style scoped>\n",
       "    .dataframe tbody tr th:only-of-type {\n",
       "        vertical-align: middle;\n",
       "    }\n",
       "\n",
       "    .dataframe tbody tr th {\n",
       "        vertical-align: top;\n",
       "    }\n",
       "\n",
       "    .dataframe thead th {\n",
       "        text-align: right;\n",
       "    }\n",
       "</style>\n",
       "<table border=\"1\" class=\"dataframe\">\n",
       "  <thead>\n",
       "    <tr style=\"text-align: right;\">\n",
       "      <th></th>\n",
       "      <th>Temperature</th>\n",
       "      <th>Pressure</th>\n",
       "    </tr>\n",
       "  </thead>\n",
       "  <tbody>\n",
       "    <tr>\n",
       "      <th>0</th>\n",
       "      <td>4.789201e-08</td>\n",
       "      <td>1.958251e-17</td>\n",
       "    </tr>\n",
       "    <tr>\n",
       "      <th>1</th>\n",
       "      <td>6.625061e-08</td>\n",
       "      <td>2.055515e-17</td>\n",
       "    </tr>\n",
       "    <tr>\n",
       "      <th>2</th>\n",
       "      <td>8.460922e-08</td>\n",
       "      <td>2.237848e-17</td>\n",
       "    </tr>\n",
       "    <tr>\n",
       "      <th>3</th>\n",
       "      <td>1.029678e-07</td>\n",
       "      <td>2.534132e-17</td>\n",
       "    </tr>\n",
       "    <tr>\n",
       "      <th>4</th>\n",
       "      <td>1.213264e-07</td>\n",
       "      <td>2.994527e-17</td>\n",
       "    </tr>\n",
       "  </tbody>\n",
       "</table>\n",
       "</div>"
      ],
      "text/plain": [
       "    Temperature      Pressure\n",
       "0  4.789201e-08  1.958251e-17\n",
       "1  6.625061e-08  2.055515e-17\n",
       "2  8.460922e-08  2.237848e-17\n",
       "3  1.029678e-07  2.534132e-17\n",
       "4  1.213264e-07  2.994527e-17"
      ]
     },
     "execution_count": 15,
     "metadata": {},
     "output_type": "execute_result"
    }
   ],
   "source": [
    "df2=pd.read_csv('data_pressure_vs_temparature.csv') \n",
    "df2.head()"
   ]
  },
  {
   "cell_type": "code",
   "execution_count": 16,
   "id": "l8LtABTgSkN9",
   "metadata": {
    "colab": {
     "base_uri": "https://localhost:8080/",
     "height": 290
    },
    "id": "l8LtABTgSkN9",
    "outputId": "16e9d298-2699-495c-e3d8-e9db60cd0daa"
   },
   "outputs": [
    {
     "data": {
      "image/png": "[encoded data removed]",
      "text/plain": [
       "<Figure size 432x288 with 1 Axes>"
      ]
     },
     "metadata": {
      "needs_background": "light"
     },
     "output_type": "display_data"
    }
   ],
   "source": [
    "import numpy as np\n",
    "df2_np=df2.to_numpy()   # pasamos los datos de los pixeles y los de la etiqueta a un array de numpy\n",
    "import matplotlib.pyplot as plt\n",
    "temperatura=[df2_np[x][0] for x in range(len(df2_np))]#asignamos los datos a listas\n",
    "presion=[df2_np[x][1] for x in range(len(df2_np))]\n",
    "plt.plot(temperatura,presion)\n",
    "plt.xlabel(\"temperatura\")\n",
    "plt.ylabel(\"densidad\")\n",
    "plt.grid()\n",
    "plt.show()"
   ]
  },
  {
   "cell_type": "code",
   "execution_count": 17,
   "id": "bhvYeYMNSsYy",
   "metadata": {
    "colab": {
     "base_uri": "https://localhost:8080/",
     "height": 290
    },
    "id": "bhvYeYMNSsYy",
    "outputId": "9d4fdb87-6ac1-4278-8437-a03651ba1187"
   },
   "outputs": [
    {
     "data": {
      "image/png": "[encoded data removed]",
      "text/plain": [
       "<Figure size 432x288 with 1 Axes>"
      ]
     },
     "metadata": {
      "needs_background": "light"
     },
     "output_type": "display_data"
    }
   ],
   "source": [
    "c=[]\n",
    "h=0.00000000001\n",
    "for i in range(len(presion)):\n",
    "  if i==0:\n",
    "    c.append(((presion[i+1]-presion[i])/h))\n",
    "  else:\n",
    "    c.append(((presion[i]-presion[i-1])/h))\n",
    "\n",
    "plt.plot(temperatura,c)\n",
    "plt.xlabel(\"temperatura\")\n",
    "plt.ylabel(\"C\")\n",
    "plt.grid()\n",
    "plt.show()"
   ]
  },
  {
   "cell_type": "code",
   "execution_count": 18,
   "id": "phGm6c9sS2iw",
   "metadata": {
    "id": "phGm6c9sS2iw"
   },
   "outputs": [
    {
     "data": {
      "text/plain": [
       "'La temeperarura critica es 2.5'"
      ]
     },
     "execution_count": 18,
     "metadata": {},
     "output_type": "execute_result"
    }
   ],
   "source": [
    "\"La temeperarura critica es 2.5\""
   ]
  },
  {
   "cell_type": "markdown",
   "id": "molecular-meaning",
   "metadata": {
    "id": "molecular-meaning"
   },
   "source": [
    "# Ejercicio 3."
   ]
  },
  {
   "cell_type": "markdown",
   "id": "skilled-replica",
   "metadata": {
    "id": "skilled-replica"
   },
   "source": [
    "Grafica la función:\n",
    "\n",
    "$$ F_{a, b} = \\int_0 ^{10} sin (ax) + cos (bx^ 2) \\ \\ dx $$\n",
    "\n",
    "donde $ a $ es solo un número:\n",
    "\n",
    "`a = 1`\n",
    "\n",
    "y $ b $ es una numpy arrray, digamos:\n",
    " \n",
    "`b = np.linspace (0,1,101)`\n",
    "\n",
    "El gráfico deben tener etiquetas para eje `x` y eje `y`. "
   ]
  },
  {
   "cell_type": "code",
   "execution_count": 19,
   "id": "wAtZ6mEbQc0n",
   "metadata": {
    "colab": {
     "base_uri": "https://localhost:8080/",
     "height": 279
    },
    "id": "wAtZ6mEbQc0n",
    "outputId": "938c4031-a5ee-450f-d3f8-3d3308b91320"
   },
   "outputs": [
    {
     "data": {
      "image/png": "[encoded data removed]",
      "text/plain": [
       "<Figure size 432x288 with 1 Axes>"
      ]
     },
     "metadata": {
      "needs_background": "light"
     },
     "output_type": "display_data"
    }
   ],
   "source": [
    "import scipy\n",
    "a=1\n",
    "b = np.linspace (0,1,101)\n",
    "x= np.linspace (0,10,101)\n",
    "def integr(x):\n",
    "  return np.sin(a*x)+np.cos(b*(x**2))\n",
    "y=[]\n",
    "for i in range(len(x)):\n",
    "  y.append(integr(x[i])*x[i])\n",
    "  I=trapz(y,x)\n",
    "plt.plot(x,I)\n",
    "plt.xlabel(\"X\")\n",
    "plt.ylabel(\"Y\")\n",
    "plt.grid()\n",
    "plt.show()"
   ]
  },
  {
   "cell_type": "markdown",
   "id": "pointed-ultimate",
   "metadata": {
    "id": "pointed-ultimate"
   },
   "source": [
    "## Ejercicio 4. Algebra linear.\n",
    "#### Introducion:\n",
    "\n",
    "En varios casos, sistema de equaciones diferentiales lineares\n",
    "tipo \n",
    "$$\\frac{d\\textbf{x}}{dt}=\\textbf{A}\\textbf{x}$$\n",
    "con solucion:\n",
    "$$ \\textbf{x}(t) = e^{t\\textbf{A}} \\textbf{C}$$\n",
    "\n",
    "(donde $\\textbf{x}$ es un vector, $\\textbf{A}$ es matrix y $\\textbf{C}$ es vector de condiciones iniciales)\n",
    "\n",
    "se simplifica a calcular exponente de matriz: $e^{\\textbf{A}t}$!!!!\n",
    "\n",
    "$\\textbf{Como ejercicio, calcule $e^{A}$}$ definido como:\n",
    "\n",
    "$$e^A=Pe^DP^{-1}$$\n",
    "\n",
    "donde $e^D$ es\n",
    "\n",
    "$$e^D=\n",
    "\\begin{bmatrix}\n",
    "e^{\\lambda_1} & 0 & \\cdots & 0 \\\\\n",
    "0 & e^{\\lambda_2} & \\cdots & 0 \\\\\n",
    "\\vdots & \\vdots & \\ddots & \\vdots\\\\\n",
    "0 & 0 & \\cdots & e^{\\lambda_n} \\\\\n",
    "\\end{bmatrix}\n",
    "$$\n",
    "\n",
    "$P$ son eigenvectors y $P^{-1}$ es inversion de $P$\n",
    "\n",
    "* a) Construye una function $\\textbf{matrix_exp(A)}$ que acepta una matrix A como un argumento\n",
    "* b) si matrix no es cuadrada: imprime \"Matrix must be square\" y sale la funcion usando: $\\textbf{return}$\n",
    "* c) si matrix es cuadrada ($\\textbf{else:}$): calcule y imprime valor de $e^A$\n",
    "* para verificar su resultado uno puede usar scipy.linalg.expm(A)"
   ]
  },
  {
   "cell_type": "code",
   "execution_count": 20,
   "id": "yfkUvYGxNrAr",
   "metadata": {
    "colab": {
     "base_uri": "https://localhost:8080/"
    },
    "id": "yfkUvYGxNrAr",
    "outputId": "9ab6a66e-9326-4f82-893b-9be12006f238"
   },
   "outputs": [
    {
     "data": {
      "text/plain": [
       "array([[131.55010207, 160.28420467, 111.59448675],\n",
       "       [130.55378461, 163.00248649, 109.87252239],\n",
       "       [131.41476679, 160.28420467, 111.72982204]])"
      ]
     },
     "execution_count": 20,
     "metadata": {},
     "output_type": "execute_result"
    }
   ],
   "source": [
    "from scipy.linalg import expm\n",
    "A=[[1,2,3],[2,3,1],[3,2,1]]\n",
    "expm(A)"
   ]
  },
  {
   "cell_type": "code",
   "execution_count": 21,
   "id": "KcMhd80-Kzud",
   "metadata": {
    "id": "KcMhd80-Kzud"
   },
   "outputs": [],
   "source": [
    "def matrix_exp(A):\n",
    "  if len(A)!=len(A[0]):\n",
    "    return \"La matriz debe ser cuadrada\"\n",
    "  else:\n",
    "    evalues, evectors = np.linalg.eig(A)\n",
    "    P=evectors\n",
    "    Pinv=np.linalg.inv(P)\n",
    "    e_A=np.zeros(np.shape(A))\n",
    "    for i in range(len(A)):\n",
    "      e_A[i,i] = np.exp(evalues[i])\n",
    "    return np.matmul(P,np.matmul(e_A,Pinv))"
   ]
  },
  {
   "cell_type": "code",
   "execution_count": 22,
   "id": "hvadR542OR1N",
   "metadata": {
    "colab": {
     "base_uri": "https://localhost:8080/"
    },
    "id": "hvadR542OR1N",
    "outputId": "6f231add-55c1-428d-c511-3afb12555312"
   },
   "outputs": [
    {
     "data": {
      "text/plain": [
       "array([[131.55010207, 160.28420467, 111.59448675],\n",
       "       [130.55378461, 163.00248649, 109.87252239],\n",
       "       [131.41476679, 160.28420467, 111.72982204]])"
      ]
     },
     "execution_count": 22,
     "metadata": {},
     "output_type": "execute_result"
    }
   ],
   "source": [
    "matrix_exp(A)"
   ]
  },
  {
   "cell_type": "markdown",
   "id": "varied-chess",
   "metadata": {},
   "source": [
    "# Feedback:\n",
    "```\n",
    "Exercise 1.\n",
    "Solution + presentation of the results\t            (max 2.5p):\t0.5p\n",
    "* el resultado es incorecto\n",
    "\n",
    "Exercise 2.\n",
    "Solution + presentation of the results\t            (max 2.5p):\t2.5p\n",
    "\n",
    "Exercise 3.\n",
    "Solution + presentation of the results\t            (max 2.5p):\t0.5p\n",
    "* el resultado es incorecto\n",
    "\n",
    "Exercise 4 \n",
    "Solution + presentation of the results\t            (max 2.5p):\t2.5p\n",
    "\n",
    "\n",
    "\n",
    "\n",
    "- Total:                                              (max 10.0p):   6.0p\n",
    "```"
   ]
  },
  {
   "cell_type": "code",
   "execution_count": null,
   "id": "noted-income",
   "metadata": {},
   "outputs": [],
   "source": []
  },
  {
   "cell_type": "code",
   "execution_count": null,
   "id": "hindu-columbia",
   "metadata": {},
   "outputs": [],
   "source": []
  }
 ],
 "metadata": {
  "colab": {
   "name": "examen_parcial_3_v2_juanjoseM.ipynb",
   "provenance": []
  },
  "kernelspec": {
   "display_name": "Python 3",
   "language": "python",
   "name": "python3"
  },
  "language_info": {
   "codemirror_mode": {
    "name": "ipython",
    "version": 3
   },
   "file_extension": ".py",
   "mimetype": "text/x-python",
   "name": "python",
   "nbconvert_exporter": "python",
   "pygments_lexer": "ipython3",
   "version": "3.7.2"
  }
 },
 "nbformat": 4,
 "nbformat_minor": 5
}
