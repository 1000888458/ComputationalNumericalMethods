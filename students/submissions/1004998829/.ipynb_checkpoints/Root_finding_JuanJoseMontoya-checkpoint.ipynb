{
 "cells": [
  {
   "cell_type": "markdown",
   "id": "empirical-longer",
   "metadata": {
    "id": "empirical-longer"
   },
   "source": [
    "# What does root mean\n",
    "* if there is a function $f(x)= x^2-11$  \n",
    "* root means when $f(x)=0$ for which $x$ $f(x)=0$  \n",
    "* in other words if you have anything that is equal to zero find variables the    \n",
    "* $0=x^2-11$ and you find $x$ so the $RHS$ equals $LHS$  \n",
    "* in this example $x=\\sqrt(11)$"
   ]
  },
  {
   "cell_type": "markdown",
   "id": "delayed-compiler",
   "metadata": {
    "id": "delayed-compiler"
   },
   "source": [
    "<table><tr>\n",
    "<td> <img src=\"imgs/root_finding_1.png\" width=\"500\" /> </td>\n",
    "</tr></table>"
   ]
  },
  {
   "cell_type": "markdown",
   "id": "horizontal-charm",
   "metadata": {
    "id": "horizontal-charm"
   },
   "source": [
    "# Lets imagine we know the function or we can calculate the value of the funcion (not just points in csv file...)"
   ]
  },
  {
   "cell_type": "markdown",
   "id": "monthly-universe",
   "metadata": {
    "id": "monthly-universe"
   },
   "source": [
    "<table><tr>\n",
    "<td> <img src=\"imgs/root_finding_2.png\" width=\"800\" /> </td>\n",
    "</tr></table>"
   ]
  },
  {
   "cell_type": "markdown",
   "id": "breeding-lyric",
   "metadata": {
    "id": "breeding-lyric"
   },
   "source": [
    "<table><tr>\n",
    "<td> <img src=\"imgs/root_finding_3.png\" width=\"600\" /> </td>\n",
    "</tr></table>"
   ]
  },
  {
   "cell_type": "markdown",
   "id": "ignored-magazine",
   "metadata": {
    "id": "ignored-magazine"
   },
   "source": [
    "## There are two most common methods\n",
    "* bisection method\n",
    "* Newton-Rapson"
   ]
  },
  {
   "cell_type": "markdown",
   "id": "bacterial-slovak",
   "metadata": {
    "id": "bacterial-slovak"
   },
   "source": [
    "# Steps\n",
    "* visualize the function\n",
    "* choose the method\n",
    "* bracketing the function so it changes the values between the brackets\n",
    "* verify the results"
   ]
  },
  {
   "cell_type": "markdown",
   "id": "mediterranean-hypothetical",
   "metadata": {
    "id": "mediterranean-hypothetical"
   },
   "source": [
    "## Bisection method\n",
    "* reliable if good brackets\n",
    "* slow\n",
    "* may give oscillations around the root"
   ]
  },
  {
   "cell_type": "markdown",
   "id": "lonely-mentor",
   "metadata": {
    "id": "lonely-mentor"
   },
   "source": [
    "<table><tr>\n",
    "<td> <img src=\"imgs/root_finding_4.png\" width=\"600\" /> </td>\n",
    "</tr></table>"
   ]
  },
  {
   "cell_type": "markdown",
   "id": "promising-brave",
   "metadata": {
    "id": "promising-brave"
   },
   "source": [
    "<table><tr>\n",
    "<td> <img src=\"imgs/root_finding_5.png\" width=\"600\" /> </td>\n",
    "</tr></table>"
   ]
  },
  {
   "cell_type": "markdown",
   "id": "reliable-fortune",
   "metadata": {
    "id": "reliable-fortune"
   },
   "source": [
    "### important equations:\n",
    "* new point\n",
    "$$x_n = \\frac{(x_l+x_r)}{2}$$\n",
    "\n",
    "* tolerance is a value that we are willing to accept\n",
    "$$root = abs(f(\\frac{(x_l+x_r)}{2}))$$\n",
    "\n",
    "* if abs(f(x_n))<tol ##STOP\n",
    "* tol=0.01              \n",
    "* tol=0.001                            \n",
    "* tol=0.0001 ...                            "
   ]
  },
  {
   "cell_type": "code",
   "execution_count": 1,
   "id": "laughing-reputation",
   "metadata": {
    "id": "laughing-reputation"
   },
   "outputs": [],
   "source": [
    "import numpy as np\n",
    "import matplotlib.pyplot as plt"
   ]
  },
  {
   "cell_type": "code",
   "execution_count": 2,
   "id": "secret-jewel",
   "metadata": {
    "id": "secret-jewel"
   },
   "outputs": [],
   "source": [
    "def f_cost(x):\n",
    "    return x**2-11"
   ]
  },
  {
   "cell_type": "code",
   "execution_count": 3,
   "id": "polyphonic-split",
   "metadata": {
    "colab": {
     "base_uri": "https://localhost:8080/",
     "height": 283
    },
    "id": "polyphonic-split",
    "outputId": "d9dfc568-e956-4984-f9c5-dcca528ab735"
   },
   "outputs": [
    {
     "data": {
      "text/plain": [
       "3.3166247903554"
      ]
     },
     "execution_count": 3,
     "metadata": {},
     "output_type": "execute_result"
    },
    {
     "data": {
      "image/png": "[encoded data removed]",
      "text/plain": [
       "<Figure size 432x288 with 1 Axes>"
      ]
     },
     "metadata": {
      "needs_background": "light"
     },
     "output_type": "display_data"
    }
   ],
   "source": [
    "x=np.linspace(-5,5,100)\n",
    "fig,ax = plt.subplots(1,1)\n",
    "ax.plot(x,f_cost(x))\n",
    "ax.grid('True')\n",
    "np.sqrt(11)"
   ]
  },
  {
   "cell_type": "code",
   "execution_count": 4,
   "id": "crazy-august",
   "metadata": {
    "id": "crazy-august"
   },
   "outputs": [],
   "source": [
    "xl=3\n",
    "xr=4"
   ]
  },
  {
   "cell_type": "code",
   "execution_count": 5,
   "id": "north-biology",
   "metadata": {
    "id": "north-biology",
    "outputId": "e91b1738-fa5e-4d36-dd20-ce345b962201"
   },
   "outputs": [
    {
     "data": {
      "text/plain": [
       "-10"
      ]
     },
     "execution_count": 5,
     "metadata": {},
     "output_type": "execute_result"
    }
   ],
   "source": [
    "f_cost(xl)*f_cost(xr)"
   ]
  },
  {
   "cell_type": "code",
   "execution_count": 6,
   "id": "indian-linux",
   "metadata": {
    "id": "indian-linux",
    "outputId": "62f246fd-f10d-4267-a477-70e3db658c13"
   },
   "outputs": [
    {
     "name": "stdout",
     "output_type": "stream",
     "text": [
      "3.5\n"
     ]
    }
   ],
   "source": [
    "xn=(xl+xr)/2\n",
    "print(xn)"
   ]
  },
  {
   "cell_type": "code",
   "execution_count": 7,
   "id": "monetary-departure",
   "metadata": {
    "id": "monetary-departure",
    "outputId": "bae54c8e-b44a-4f0d-95c6-1d18e29604ed"
   },
   "outputs": [
    {
     "data": {
      "text/plain": [
       "-2.5"
      ]
     },
     "execution_count": 7,
     "metadata": {},
     "output_type": "execute_result"
    }
   ],
   "source": [
    "f_cost(xl)*f_cost(xn)"
   ]
  },
  {
   "cell_type": "code",
   "execution_count": 8,
   "id": "hazardous-filename",
   "metadata": {
    "id": "hazardous-filename"
   },
   "outputs": [],
   "source": [
    "xr=xn"
   ]
  },
  {
   "cell_type": "code",
   "execution_count": 9,
   "id": "twenty-uganda",
   "metadata": {
    "id": "twenty-uganda",
    "outputId": "6a222767-b227-49da-8115-b88f1de4c449"
   },
   "outputs": [
    {
     "data": {
      "text/plain": [
       "0.4375"
      ]
     },
     "execution_count": 9,
     "metadata": {},
     "output_type": "execute_result"
    }
   ],
   "source": [
    "abs(f_cost((xl+xr)/2))"
   ]
  },
  {
   "cell_type": "code",
   "execution_count": 10,
   "id": "funded-importance",
   "metadata": {
    "id": "funded-importance",
    "outputId": "ff7c5749-ff3f-4218-8a95-f574a8a3c6d7"
   },
   "outputs": [
    {
     "name": "stdout",
     "output_type": "stream",
     "text": [
      "3.25\n"
     ]
    }
   ],
   "source": [
    "xn=(xl+xr)/2\n",
    "print(xn)"
   ]
  },
  {
   "cell_type": "code",
   "execution_count": 11,
   "id": "abroad-companion",
   "metadata": {
    "id": "abroad-companion",
    "outputId": "1d3a5a08-d131-471f-b19a-7645c49048e5"
   },
   "outputs": [
    {
     "data": {
      "text/plain": [
       "0.875"
      ]
     },
     "execution_count": 11,
     "metadata": {},
     "output_type": "execute_result"
    }
   ],
   "source": [
    "f_cost(xl)*f_cost(xn)"
   ]
  },
  {
   "cell_type": "code",
   "execution_count": 12,
   "id": "amber-forestry",
   "metadata": {
    "id": "amber-forestry"
   },
   "outputs": [],
   "source": [
    "xl=xn"
   ]
  },
  {
   "cell_type": "code",
   "execution_count": 13,
   "id": "existing-purse",
   "metadata": {
    "id": "existing-purse",
    "outputId": "022fefb4-9936-4966-84b6-748d806b7173"
   },
   "outputs": [
    {
     "data": {
      "text/plain": [
       "0.390625"
      ]
     },
     "execution_count": 13,
     "metadata": {},
     "output_type": "execute_result"
    }
   ],
   "source": [
    "abs(f_cost((xl+xr)/2))"
   ]
  },
  {
   "cell_type": "code",
   "execution_count": 14,
   "id": "vocal-journalist",
   "metadata": {
    "id": "vocal-journalist",
    "outputId": "3fa55e4f-d691-4690-f2e0-08491be4ca75"
   },
   "outputs": [
    {
     "name": "stdout",
     "output_type": "stream",
     "text": [
      "3.375\n"
     ]
    }
   ],
   "source": [
    "xn=(xl+xr)/2\n",
    "print(xn)"
   ]
  },
  {
   "cell_type": "code",
   "execution_count": 15,
   "id": "sharp-ready",
   "metadata": {
    "id": "sharp-ready",
    "outputId": "ae00db30-b23a-4fc6-883d-e622bbd0d8aa"
   },
   "outputs": [
    {
     "data": {
      "text/plain": [
       "-0.1708984375"
      ]
     },
     "execution_count": 15,
     "metadata": {},
     "output_type": "execute_result"
    }
   ],
   "source": [
    "f_cost(xl)*f_cost(xn)"
   ]
  },
  {
   "cell_type": "code",
   "execution_count": 16,
   "id": "organizational-electronics",
   "metadata": {
    "id": "organizational-electronics"
   },
   "outputs": [],
   "source": [
    "xr=xn"
   ]
  },
  {
   "cell_type": "code",
   "execution_count": 17,
   "id": "threaded-breach",
   "metadata": {
    "id": "threaded-breach",
    "outputId": "cec28055-6784-46b8-fc08-173820f6a27a"
   },
   "outputs": [
    {
     "data": {
      "text/plain": [
       "0.02734375"
      ]
     },
     "execution_count": 17,
     "metadata": {},
     "output_type": "execute_result"
    }
   ],
   "source": [
    "abs(f_cost((xl+xr)/2))"
   ]
  },
  {
   "cell_type": "code",
   "execution_count": 18,
   "id": "dated-indiana",
   "metadata": {
    "id": "dated-indiana"
   },
   "outputs": [],
   "source": [
    "tol=0.1"
   ]
  },
  {
   "cell_type": "markdown",
   "id": "chronic-replication",
   "metadata": {
    "id": "chronic-replication"
   },
   "source": [
    "etc..."
   ]
  },
  {
   "cell_type": "markdown",
   "id": "liable-spice",
   "metadata": {
    "id": "liable-spice"
   },
   "source": [
    "## The  best loop would be a while loop but for is also OK\n",
    "* choose initial brackets\n",
    "* create empty list of results of xn\n",
    "* define tol=0.0001\n",
    "* make while loop which should continue as long as  abs(f_cost((xl+xr)/2)) > tol\n",
    "* calculate new point\n",
    "* check if the f_cost(xl)*f_cost(xn) is negative or positive...\n",
    "* replace xl or xr with xn depending on the previous result\n",
    "* if you plot the evolution of x_n you should see oscillations"
   ]
  },
  {
   "cell_type": "markdown",
   "id": "floppy-natural",
   "metadata": {
    "id": "floppy-natural"
   },
   "source": [
    "## Newton-Rapson method\n",
    "* very fast\n",
    "* but we need to know the derivative of the function\n",
    "* may give oscillations around the root"
   ]
  },
  {
   "cell_type": "markdown",
   "id": "advance-taiwan",
   "metadata": {
    "id": "advance-taiwan"
   },
   "source": [
    "<table><tr>\n",
    "<td> <img src=\"imgs/root_finding_6.png\" width=\"600\" /> </td>\n",
    "</tr></table>"
   ]
  },
  {
   "cell_type": "markdown",
   "id": "executive-clarity",
   "metadata": {
    "id": "executive-clarity"
   },
   "source": [
    "<table><tr>\n",
    "<td> <img src=\"imgs/root_finding_7.png\" width=\"800\" /> </td>\n",
    "</tr></table>"
   ]
  },
  {
   "cell_type": "markdown",
   "id": "bizarre-australian",
   "metadata": {
    "id": "bizarre-australian"
   },
   "source": [
    "# So the Newton-Rapson involves points and the derivatives of the function at that points.. \n",
    "hence its easy to guess where is the derivation coming from"
   ]
  },
  {
   "cell_type": "markdown",
   "id": "ceramic-bandwidth",
   "metadata": {
    "id": "ceramic-bandwidth"
   },
   "source": [
    "### General form\n",
    "$$ f(x) = f(a) + \\frac{f'(a)}{1!}(x-a) + \\frac{f''(a)}{2!}(x-a)^2 + \\frac{f'''(a)(}{3!}(x-a)^3 + ...$$\n",
    "\n",
    "### Next point - previous point form\n",
    "$$ f(x_{i+1}) = f(x_i) + \\frac{f'(x_i)}{1!}h + \\frac{f''(x_i)}{2!}h^2 + \\frac{f'''(x_i)}{3!}h^3 + ...  $$\n",
    "\n",
    "\n",
    "### If we take only the first order approximation (replace h)\n",
    "$$ f(x_{i+1}) \\approx f(x_i) + \\frac{f'(x_i)}{1!}(x_{i+1}-x_i) $$\n",
    "\n",
    "### But we want the function to be zero, hence:\n",
    "$$ 0 \\approx f(x_i) + \\frac{f'(x_i)}{1!}(x_{i+1}-x_i) $$\n",
    "\n",
    "### and from that\n",
    "$$ x_{i+1} = x_i - \\frac{f(x_i)}{f'(x_i)} $$"
   ]
  },
  {
   "cell_type": "markdown",
   "id": "israeli-hello",
   "metadata": {
    "id": "israeli-hello"
   },
   "source": [
    "## Lets try to implement the Newton-Rapson method"
   ]
  },
  {
   "cell_type": "code",
   "execution_count": 19,
   "id": "emerging-heater",
   "metadata": {
    "id": "emerging-heater"
   },
   "outputs": [],
   "source": [
    "def f_cost(x):\n",
    "    return x**2-11.0"
   ]
  },
  {
   "cell_type": "code",
   "execution_count": 20,
   "id": "interpreted-preserve",
   "metadata": {
    "id": "interpreted-preserve"
   },
   "outputs": [],
   "source": [
    "def f_cost_prime(x):\n",
    "    return 2*x"
   ]
  },
  {
   "cell_type": "code",
   "execution_count": 21,
   "id": "alive-custody",
   "metadata": {
    "id": "alive-custody",
    "outputId": "132547da-c737-4f84-b3a8-9cff2dec59be"
   },
   "outputs": [
    {
     "name": "stdout",
     "output_type": "stream",
     "text": [
      "3.375\n"
     ]
    }
   ],
   "source": [
    "xr=4\n",
    "xn=xr-f_cost(xr)/f_cost_prime(xr)\n",
    "print(xn)"
   ]
  },
  {
   "cell_type": "markdown",
   "id": "quiet-cigarette",
   "metadata": {
    "id": "quiet-cigarette"
   },
   "source": [
    "# In a real life sytuation use PYTHON build-in function\n",
    "* brentq - bisection\n",
    "https://docs.scipy.org/doc/scipy/reference/generated/scipy.optimize.brentq.html"
   ]
  },
  {
   "cell_type": "code",
   "execution_count": 22,
   "id": "collectible-canadian",
   "metadata": {
    "id": "collectible-canadian"
   },
   "outputs": [],
   "source": [
    "import scipy.optimize as optimize"
   ]
  },
  {
   "cell_type": "code",
   "execution_count": 23,
   "id": "acute-bride",
   "metadata": {
    "id": "acute-bride",
    "outputId": "08e61d96-5f3c-4182-9ee9-0710d8775256"
   },
   "outputs": [
    {
     "name": "stdout",
     "output_type": "stream",
     "text": [
      "3.3166247903554\n"
     ]
    }
   ],
   "source": [
    "root = optimize.brentq(f_cost, 3, 4,xtol=1.0e-10) # args=(N0,T,omega) # args to the function\n",
    "print(root)"
   ]
  },
  {
   "cell_type": "code",
   "execution_count": 24,
   "id": "heavy-hunter",
   "metadata": {
    "id": "heavy-hunter",
    "outputId": "2c1a05ad-dfb4-442a-a753-ed84add61acf"
   },
   "outputs": [
    {
     "data": {
      "text/plain": [
       "3.3166247903554"
      ]
     },
     "execution_count": 24,
     "metadata": {},
     "output_type": "execute_result"
    }
   ],
   "source": [
    "np.sqrt(11)"
   ]
  },
  {
   "cell_type": "markdown",
   "id": "healthy-given",
   "metadata": {
    "id": "healthy-given"
   },
   "source": [
    "# TAREA PARA NAVIDAD: \n",
    "* hacer el mismo ejemplo y encuentra raiz para $f(x)=x^2 - 11$\n",
    "* construye su propia función de método de bisección usando el loop **while**\n",
    "* hacer plot de evolucion de approximacion (append results to an initially empty list of x_n)\n",
    "* construye su propia función de método Newton-Rapson usando el loop **while**\n",
    "* hacer plot de evolucion de approximacion (append results to an initially empty list of x_n)"
   ]
  },
  {
   "cell_type": "markdown",
   "id": "H_SVi2uGpDPP",
   "metadata": {
    "id": "H_SVi2uGpDPP"
   },
   "source": [
    "# ***Primero visualizamos la funncion para estimar a ojo la posible raiz***"
   ]
  },
  {
   "cell_type": "code",
   "execution_count": 25,
   "id": "square-remove",
   "metadata": {
    "colab": {
     "base_uri": "https://localhost:8080/",
     "height": 250
    },
    "id": "square-remove",
    "outputId": "43a900fc-64e3-4f8b-e7fc-9dded565549d"
   },
   "outputs": [
    {
     "data": {
      "image/png": "[encoded data removed]",
      "text/plain": [
       "<Figure size 432x288 with 1 Axes>"
      ]
     },
     "metadata": {
      "needs_background": "light"
     },
     "output_type": "display_data"
    }
   ],
   "source": [
    "def f(x):                      ### Definimos la funcion\n",
    "    return (x**2)-11\n",
    "import numpy as np\n",
    "import matplotlib.pyplot as plt\n",
    "x=np.linspace(-5,5,100)\n",
    "fig,ax = plt.subplots(1,1)\n",
    "ax.plot(x,f(x))\n",
    "ax.spines['left'].set_position('center')\n",
    "ax.spines['bottom'].set_position('center')"
   ]
  },
  {
   "cell_type": "markdown",
   "id": "hnR8bbqKpnp7",
   "metadata": {
    "id": "hnR8bbqKpnp7"
   },
   "source": [
    "# ***Metodo de la biseccion usando loop while:***"
   ]
  },
  {
   "cell_type": "code",
   "execution_count": 26,
   "id": "visible-orchestra",
   "metadata": {
    "id": "visible-orchestra"
   },
   "outputs": [],
   "source": [
    "def f(x):\n",
    "    return (x**2)-11\n",
    "def bisec_meth_xe2menos11(xl,xr,tol): #Las variables que necesitamos son \"xl\" que es el limite inferior, limite superior \"xr\" \n",
    "  l_xn=[]                    # y \"tol\" es el margen de error. l_xn es una lista para guardar la evolucion de intentos de raices para luego graficar\n",
    "  c=True\n",
    "  while c: # usamos c para inicar el loop\n",
    "    xn=(xl+xr)/2  # xn es el punto medio, candidato para raiz\n",
    "    l_xn.append(xn) #guardamos en la lista\n",
    "    if f(xl) * f(xn) < 0: #test del signo para ver que limmite se remplaza\n",
    "            xr = xn\n",
    "    else:\n",
    "            xl = xn\n",
    "    c = abs(f(xn)) > tol #si no cumple la tolerancia, repetimos.\n",
    "  print('La raiz de la funcion es:',xn)\n",
    "  "
   ]
  },
  {
   "cell_type": "markdown",
   "id": "uSMr37x_wDE0",
   "metadata": {
    "id": "uSMr37x_wDE0"
   },
   "source": [
    "# ***Ejemplo:***"
   ]
  },
  {
   "cell_type": "code",
   "execution_count": 27,
   "id": "R87x7wMh_G-f",
   "metadata": {
    "colab": {
     "base_uri": "https://localhost:8080/"
    },
    "id": "R87x7wMh_G-f",
    "outputId": "4842dc2a-c07f-4a26-9b0f-03acad60fa5f"
   },
   "outputs": [
    {
     "name": "stdout",
     "output_type": "stream",
     "text": [
      "La raiz de la funcion es: 3.3166247903554\n"
     ]
    }
   ],
   "source": [
    "bisec_meth_xe2menos11(2,4,0.00000000000001)"
   ]
  },
  {
   "cell_type": "markdown",
   "id": "Qm9Zvhnjwlbk",
   "metadata": {
    "id": "Qm9Zvhnjwlbk"
   },
   "source": [
    "# ***Grafica de la evolucion de la aproximacion:***"
   ]
  },
  {
   "cell_type": "code",
   "execution_count": 28,
   "id": "monthly-mediterranean",
   "metadata": {
    "colab": {
     "base_uri": "https://localhost:8080/",
     "height": 391
    },
    "id": "monthly-mediterranean",
    "outputId": "0f0ce437-ffab-4b9e-de98-3bec9c9e5b9c"
   },
   "outputs": [
    {
     "data": {
      "text/plain": [
       "<matplotlib.collections.LineCollection at 0x7ff850c042e8>"
      ]
     },
     "execution_count": 28,
     "metadata": {},
     "output_type": "execute_result"
    },
    {
     "data": {
      "image/png": "[encoded data removed]",
      "text/plain": [
       "<Figure size 720x432 with 1 Axes>"
      ]
     },
     "metadata": {
      "needs_background": "light"
     },
     "output_type": "display_data"
    }
   ],
   "source": [
    "l_xn=[3.0, 3.5, 3.25, 3.375, 3.3125, 3.34375, 3.328125, 3.3203125, 3.31640625, 3.318359375, 3.3173828125, 3.31689453125, 3.316650390625, 3.3165283203125, 3.31658935546875, 3.316619873046875, 3.3166351318359375, 3.3166275024414062, 3.3166236877441406, 3.3166255950927734, 3.316624641418457, 3.3166251182556152, 3.316624879837036, 3.3166247606277466, 3.3166248202323914, 3.316624790430069, 3.3166247755289078, 3.3166247829794884, 3.3166247867047787, 3.316624788567424, 3.3166247894987464, 3.3166247899644077, 3.3166247901972383, 3.3166247903136536, 3.3166247903718613, 3.3166247903427575, 3.3166247903573094, 3.3166247903500334, 3.3166247903536714, 3.3166247903554904, 3.316624790354581, 3.3166247903550357, 3.316624790355263, 3.3166247903553767, 3.3166247903554336, 3.316624790355405, 3.316624790355391, 3.316624790355398, 3.3166247903554016, 3.3166247903554]\n",
    "x=np.linspace(0,50,50)\n",
    "plt.figure(figsize=(10,6))\n",
    "plt.plot(x,l_xn)\n",
    "plt.grid('True')\n",
    "plt.hlines(y=3.3166247903554, xmin=0, xmax=50) #Esto es una linea para ver como la aproximacion se acerca al resultado"
   ]
  },
  {
   "cell_type": "markdown",
   "id": "AD8tG35Ww_cK",
   "metadata": {
    "id": "AD8tG35Ww_cK"
   },
   "source": [
    "# ***Metodo Newton-Rapson usando loop while:***"
   ]
  },
  {
   "cell_type": "code",
   "execution_count": 29,
   "id": "pLjMzSV4rsVr",
   "metadata": {
    "id": "pLjMzSV4rsVr"
   },
   "outputs": [],
   "source": [
    "def f(x):\n",
    "  return (x**2)-11\n",
    "def f_p(x): # Ademas de la funcion, debemos definir su derivada.\n",
    "  return 2*x\n",
    "def NwRp_meth_xe2meos11(xn,tol): #Solo necesitamos un punto inical y el margen de error.\n",
    "  l_xn=[] #Lista para luegp graficar\n",
    "  c=True\n",
    "  while c:\n",
    "    l_xn.append(xn)\n",
    "    xn=xn-f(xn)/f_p(xn+0.0000000000000000001) #Añadimos la funcion y para evitar dividir por \"0\" sumo un numero diminuto para que nunca se haga 0\n",
    "    c = abs(f(xn)) > tol\n",
    "  print(\"La raiz es:\",xn)"
   ]
  },
  {
   "cell_type": "markdown",
   "id": "4xmA_uy33Tp-",
   "metadata": {
    "id": "4xmA_uy33Tp-"
   },
   "source": [
    "# ***Ejemplo:***"
   ]
  },
  {
   "cell_type": "code",
   "execution_count": 30,
   "id": "XrBQeg82rsKP",
   "metadata": {
    "colab": {
     "base_uri": "https://localhost:8080/"
    },
    "id": "XrBQeg82rsKP",
    "outputId": "f225fa4f-7558-436d-b5f7-e7cb96d099a1"
   },
   "outputs": [
    {
     "name": "stdout",
     "output_type": "stream",
     "text": [
      "La raiz es: 3.3166247903554\n"
     ]
    }
   ],
   "source": [
    "NwRp_meth_xe2meos11(1,0.0000000000000000000000000001)"
   ]
  },
  {
   "cell_type": "markdown",
   "id": "bxjDpMVY3k8z",
   "metadata": {
    "id": "bxjDpMVY3k8z"
   },
   "source": [
    "# ***Grafica de la evolucion de la aproximacion:***"
   ]
  },
  {
   "cell_type": "code",
   "execution_count": 31,
   "id": "uz16QeZf5gyA",
   "metadata": {
    "colab": {
     "base_uri": "https://localhost:8080/",
     "height": 391
    },
    "id": "uz16QeZf5gyA",
    "outputId": "e7eb8b47-a637-4a32-d566-25136412712f"
   },
   "outputs": [
    {
     "data": {
      "text/plain": [
       "<matplotlib.collections.LineCollection at 0x7ff850b75fd0>"
      ]
     },
     "execution_count": 31,
     "metadata": {},
     "output_type": "execute_result"
    },
    {
     "data": {
      "image/png": "[encoded data removed]",
      "text/plain": [
       "<Figure size 720x432 with 1 Axes>"
      ]
     },
     "metadata": {
      "needs_background": "light"
     },
     "output_type": "display_data"
    }
   ],
   "source": [
    "l_xn=[1, 6.0, 3.9166666666666665, 3.3625886524822697, 3.316938934730457, 3.316624805231569]\n",
    "x=np.linspace(0,6,6)\n",
    "plt.figure(figsize=(10,6))\n",
    "plt.plot(x,l_xn)\n",
    "plt.grid('True')\n",
    "plt.hlines(y=3.3166247903554, xmin=0, xmax=6) #Esto es una linea para ver como la aproximacion se acerca al resultado"
   ]
  }
 ],
 "metadata": {
  "colab": {
   "name": "Root_finding_JuanJoseMontoya.ipynb",
   "provenance": []
  },
  "kernelspec": {
   "display_name": "Python 3",
   "language": "python",
   "name": "python3"
  },
  "language_info": {
   "codemirror_mode": {
    "name": "ipython",
    "version": 3
   },
   "file_extension": ".py",
   "mimetype": "text/x-python",
   "name": "python",
   "nbconvert_exporter": "python",
   "pygments_lexer": "ipython3",
   "version": "3.7.2"
  }
 },
 "nbformat": 4,
 "nbformat_minor": 5
}
