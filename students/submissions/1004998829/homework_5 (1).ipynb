{
  "nbformat": 4,
  "nbformat_minor": 0,
  "metadata": {
    "colab": {
      "name": "homework_5.ipynb",
      "provenance": []
    },
    "kernelspec": {
      "name": "python3",
      "display_name": "Python 3"
    },
    "language_info": {
      "name": "python"
    }
  },
  "cells": [
    {
      "cell_type": "code",
      "execution_count": 3,
      "metadata": {
        "id": "STYoDpKIRJ2T"
      },
      "outputs": [],
      "source": [
        "def cuadratic_interp(x,y,xinterp):\n",
        "  import numpy as np\n",
        "  #interpolacion cuadratica\n",
        "  yint=y[0]+((y[1]-y[0])/(x[1]-x[0]))*(xinterp-x[0])\n",
        "\n",
        "  return (yint)\n"
      ]
    },
    {
      "cell_type": "code",
      "source": [
        "import numpy as np #Ejemplos:\n",
        "print(\"cuadratic_interp([6.5,7.5],[np.log10(6.5),np.log10(7.5)],7.0)--->\",cuadratic_interp([6.5,7.5],[np.log10(6.5),np.log10(7.5)],7.0),\"Valor real=\",np.log10(7))\n",
        "print(\"cuadratic_interp([0.5,1.5],[np.sqrt(0.5),np.sqrt(1.5)],1.0)----->\",cuadratic_interp([0.5,1.5],[np.sqrt(0.5),np.sqrt(1.5)],1.0),\"Valor real=\",np.sqrt(1))\n",
        "print(\"cuadratic_interp([0.1,0.9],[np.cos(0.1),np.cos(0.9)],0.5)------->\",cuadratic_interp([0.1,0.9],[np.cos(0.1),np.cos(0.9)],0.5),\"Valor real=\",np.cos(0.5))\n",
        "print(\"cuadratic_interp([0.1,0.9],[np.sin(0.1),np.sin(0.9)],0.5)------->\",cuadratic_interp([0.1,0.9],[np.sin(0.1),np.sin(0.9)],0.5),\"Valor real=\",np.sin(0.5))"
      ],
      "metadata": {
        "colab": {
          "base_uri": "https://localhost:8080/"
        },
        "id": "SSbcgrC7UG61",
        "outputId": "18363fa6-49b0-4787-d51c-eadc3d941410"
      },
      "execution_count": 9,
      "outputs": [
        {
          "output_type": "stream",
          "name": "stdout",
          "text": [
            "cuadratic_interp([6.5,7.5],[np.log10(6.5),np.log10(7.5)],7.0)---> 0.8439873100172779 Valor real= 0.8450980400142568\n",
            "cuadratic_interp([0.5,1.5],[np.sqrt(0.5),np.sqrt(1.5)],1.0)-----> 0.9659258262890682 Valor real= 1.0\n",
            "cuadratic_interp([0.1,0.9],[np.cos(0.1),np.cos(0.9)],0.5)-------> 0.808307066774345 Valor real= 0.8775825618903728\n",
            "cuadratic_interp([0.1,0.9],[np.sin(0.1),np.sin(0.9)],0.5)-------> 0.4415801631371558 Valor real= 0.479425538604203\n"
          ]
        }
      ]
    }
  ]
}