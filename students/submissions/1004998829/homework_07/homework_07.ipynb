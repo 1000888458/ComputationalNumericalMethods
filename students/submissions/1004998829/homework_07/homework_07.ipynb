{
  "nbformat": 4,
  "nbformat_minor": 0,
  "metadata": {
    "colab": {
      "name": "homework_07.ipynb",
      "provenance": [],
      "collapsed_sections": []
    },
    "kernelspec": {
      "name": "python3",
      "display_name": "Python 3"
    },
    "language_info": {
      "name": "python"
    }
  },
  "cells": [
    {
      "cell_type": "code",
      "execution_count": 30,
      "metadata": {
        "id": "NQGM2Egzwtj2"
      },
      "outputs": [],
      "source": [
        "def integrand(x):\n",
        "  import numpy as np\n",
        "  return(((15*(x**3)+21*(x**2)+41*(x)+3)**(1/4))*(np.e**(-0.5*x)))\n",
        "def integral_monte_carlo_1D(integrand,lim1,lim2,N):\n",
        "  import random\n",
        "  import numpy as np\n",
        "  N_l=[x for x in range(N)] #convertimos a N en una lista para poder iterar N veces\n",
        "  for i in range (len(N_l)):\n",
        "    N_l[i] = random.uniform(lim1,lim2) #de forma aleatoria las distribuimos a lo largo del rango\n",
        "  integ= 0\n",
        "  for i in N_l: #damos valores a cada elemeto del rango\n",
        "    integ+=integrand(i)\n",
        "  I =(lim2-lim1)*integ/float(N) #puesto que la integral es iguual al valor promedio por el rango, siendo \"integ/N\" el promedio\n",
        "  return I"
      ]
    },
    {
      "cell_type": "code",
      "source": [
        "import scipy.integrate as integrate\n",
        "I,error = integrate.quad(integrand,0,4)\n",
        "print(I)"
      ],
      "metadata": {
        "colab": {
          "base_uri": "https://localhost:8080/"
        },
        "id": "-iUpU32Shcgx",
        "outputId": "000a7f41-44a1-4d79-db6d-cd3b19611813"
      },
      "execution_count": 31,
      "outputs": [
        {
          "output_type": "stream",
          "name": "stdout",
          "text": [
            "5.767433490695931\n"
          ]
        }
      ]
    },
    {
      "cell_type": "code",
      "source": [
        "IMC=integral_monte_carlo_1D(integrand,0,4,1000000)\n",
        "IMC"
      ],
      "metadata": {
        "colab": {
          "base_uri": "https://localhost:8080/"
        },
        "id": "CnNnpk_BiRlj",
        "outputId": "89c07f2e-64cf-4c9f-a7f9-e62d3ad6902f"
      },
      "execution_count": 32,
      "outputs": [
        {
          "output_type": "execute_result",
          "data": {
            "text/plain": [
              "5.767447403769032"
            ]
          },
          "metadata": {},
          "execution_count": 32
        }
      ]
    },
    {
      "cell_type": "code",
      "source": [
        "print(\"EL error es aproximadamente:\",(IMC-I)*100/I,\"%\")"
      ],
      "metadata": {
        "colab": {
          "base_uri": "https://localhost:8080/"
        },
        "id": "oxCMRju-rKLX",
        "outputId": "dceb92db-261e-4cbf-a26f-1f861f887911"
      },
      "execution_count": 34,
      "outputs": [
        {
          "output_type": "stream",
          "name": "stdout",
          "text": [
            "EL error es aproximadamente: 0.00024123508531233282 %\n"
          ]
        }
      ]
    }
  ]
}