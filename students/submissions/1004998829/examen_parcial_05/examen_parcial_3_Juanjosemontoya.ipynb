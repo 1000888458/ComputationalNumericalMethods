{
 "cells": [
  {
   "cell_type": "markdown",
   "id": "plain-rugby",
   "metadata": {
    "id": "plain-rugby"
   },
   "source": [
    "# Examen parcial 3 (calculo numerico y algebra lineal)\n",
    "* Antes de enviar el archivo, $\\textbf{reiniciar y ejecutar el kernel}$ para ver que el archivo se compila sin errores\n",
    "* enviar el archivo jupyter sin anexos antes de las 10.10am del 30.03.2022 a mi dirección de correo electrónico: michal.hemmerling@udea.edu.co "
   ]
  },
  {
   "cell_type": "markdown",
   "id": "usual-washer",
   "metadata": {
    "id": "usual-washer"
   },
   "source": [
    "# Ejercicio 1"
   ]
  },
  {
   "cell_type": "markdown",
   "id": "pretty-conference",
   "metadata": {
    "id": "pretty-conference"
   },
   "source": [
    "El archivo $\\textbf{data_radius_density.csv}$ contiene dos columnas: radio ($ r $) y la densidad ($ \\rho (r) $) de un disco plano en función del radio\n",
    "\n",
    "El disco es lo suficientemente delgado como para que, con fines matemáticos, podamos tratarlo como un objeto bidimensional. Asumimos que la densidad se da en términos de masa por unidad de área (llamada densidad de área), y además asumimos que la densidad varía solo a lo largo del radio del disco (llamada densidad radial). Orientamos el disco en el plano xy, con el centro en el origen. Entonces, la densidad del disco puede ser tratada como una función de x, denotada $\\rho(x)$.\n",
    "<table><tr>\n",
    "<td> <img src=\"disk_radius_density.png\" width=\"500\" /> </td>\n",
    "</tr></table>   \n",
    "\n",
    "* a) importar los datos usando Pandas, graficar la densidad del disco frente a su radio (los gráficos deben tener etiquetas para el eje `x` y el eje `y`).\n",
    "\n",
    "* b) sabiendo que la masa del disco viene dada por una integral:\n",
    "$$ m = \\int_0^{r} 2 \\pi \\ r * \\rho (r) \\ dr $$\n",
    "     calcular la masa del disco mediante integración numérica\n",
    "\n",
    "* Pista:`x`: is radius and `y`: is ***integrand***\n"
   ]
  },
  {
   "cell_type": "code",
   "execution_count": 71,
   "id": "valuable-august",
   "metadata": {
    "colab": {
     "base_uri": "https://localhost:8080/",
     "height": 224
    },
    "id": "valuable-august",
    "outputId": "8ee82d5f-b6cc-4d25-bf70-67f7168c7ea5"
   },
   "outputs": [
    {
     "name": "stdout",
     "output_type": "stream",
     "text": [
      "Drive already mounted at /content/drive; to attempt to forcibly remount, call drive.mount(\"/content/drive\", force_remount=True).\n"
     ]
    },
    {
     "data": {
      "text/html": [
       "\n",
       "  <div id=\"df-a3447c30-f0fe-4848-8672-22ecb997035b\">\n",
       "    <div class=\"colab-df-container\">\n",
       "      <div>\n",
       "<style scoped>\n",
       "    .dataframe tbody tr th:only-of-type {\n",
       "        vertical-align: middle;\n",
       "    }\n",
       "\n",
       "    .dataframe tbody tr th {\n",
       "        vertical-align: top;\n",
       "    }\n",
       "\n",
       "    .dataframe thead th {\n",
       "        text-align: right;\n",
       "    }\n",
       "</style>\n",
       "<table border=\"1\" class=\"dataframe\">\n",
       "  <thead>\n",
       "    <tr style=\"text-align: right;\">\n",
       "      <th></th>\n",
       "      <th>radius</th>\n",
       "      <th>density</th>\n",
       "    </tr>\n",
       "  </thead>\n",
       "  <tbody>\n",
       "    <tr>\n",
       "      <th>0</th>\n",
       "      <td>0.000000</td>\n",
       "      <td>0.000000</td>\n",
       "    </tr>\n",
       "    <tr>\n",
       "      <th>1</th>\n",
       "      <td>0.040404</td>\n",
       "      <td>0.201008</td>\n",
       "    </tr>\n",
       "    <tr>\n",
       "      <th>2</th>\n",
       "      <td>0.080808</td>\n",
       "      <td>0.284268</td>\n",
       "    </tr>\n",
       "    <tr>\n",
       "      <th>3</th>\n",
       "      <td>0.121212</td>\n",
       "      <td>0.348155</td>\n",
       "    </tr>\n",
       "    <tr>\n",
       "      <th>4</th>\n",
       "      <td>0.161616</td>\n",
       "      <td>0.402015</td>\n",
       "    </tr>\n",
       "  </tbody>\n",
       "</table>\n",
       "</div>\n",
       "      <button class=\"colab-df-convert\" onclick=\"convertToInteractive('df-a3447c30-f0fe-4848-8672-22ecb997035b')\"\n",
       "              title=\"Convert this dataframe to an interactive table.\"\n",
       "              style=\"display:none;\">\n",
       "        \n",
       "  <svg xmlns=\"http://www.w3.org/2000/svg\" height=\"24px\"viewBox=\"0 0 24 24\"\n",
       "       width=\"24px\">\n",
       "    <path d=\"M0 0h24v24H0V0z\" fill=\"none\"/>\n",
       "    <path d=\"M18.56 5.44l.94 2.06.94-2.06 2.06-.94-2.06-.94-.94-2.06-.94 2.06-2.06.94zm-11 1L8.5 8.5l.94-2.06 2.06-.94-2.06-.94L8.5 2.5l-.94 2.06-2.06.94zm10 10l.94 2.06.94-2.06 2.06-.94-2.06-.94-.94-2.06-.94 2.06-2.06.94z\"/><path d=\"M17.41 7.96l-1.37-1.37c-.4-.4-.92-.59-1.43-.59-.52 0-1.04.2-1.43.59L10.3 9.45l-7.72 7.72c-.78.78-.78 2.05 0 2.83L4 21.41c.39.39.9.59 1.41.59.51 0 1.02-.2 1.41-.59l7.78-7.78 2.81-2.81c.8-.78.8-2.07 0-2.86zM5.41 20L4 18.59l7.72-7.72 1.47 1.35L5.41 20z\"/>\n",
       "  </svg>\n",
       "      </button>\n",
       "      \n",
       "  <style>\n",
       "    .colab-df-container {\n",
       "      display:flex;\n",
       "      flex-wrap:wrap;\n",
       "      gap: 12px;\n",
       "    }\n",
       "\n",
       "    .colab-df-convert {\n",
       "      background-color: #E8F0FE;\n",
       "      border: none;\n",
       "      border-radius: 50%;\n",
       "      cursor: pointer;\n",
       "      display: none;\n",
       "      fill: #1967D2;\n",
       "      height: 32px;\n",
       "      padding: 0 0 0 0;\n",
       "      width: 32px;\n",
       "    }\n",
       "\n",
       "    .colab-df-convert:hover {\n",
       "      background-color: #E2EBFA;\n",
       "      box-shadow: 0px 1px 2px rgba(60, 64, 67, 0.3), 0px 1px 3px 1px rgba(60, 64, 67, 0.15);\n",
       "      fill: #174EA6;\n",
       "    }\n",
       "\n",
       "    [theme=dark] .colab-df-convert {\n",
       "      background-color: #3B4455;\n",
       "      fill: #D2E3FC;\n",
       "    }\n",
       "\n",
       "    [theme=dark] .colab-df-convert:hover {\n",
       "      background-color: #434B5C;\n",
       "      box-shadow: 0px 1px 3px 1px rgba(0, 0, 0, 0.15);\n",
       "      filter: drop-shadow(0px 1px 2px rgba(0, 0, 0, 0.3));\n",
       "      fill: #FFFFFF;\n",
       "    }\n",
       "  </style>\n",
       "\n",
       "      <script>\n",
       "        const buttonEl =\n",
       "          document.querySelector('#df-a3447c30-f0fe-4848-8672-22ecb997035b button.colab-df-convert');\n",
       "        buttonEl.style.display =\n",
       "          google.colab.kernel.accessAllowed ? 'block' : 'none';\n",
       "\n",
       "        async function convertToInteractive(key) {\n",
       "          const element = document.querySelector('#df-a3447c30-f0fe-4848-8672-22ecb997035b');\n",
       "          const dataTable =\n",
       "            await google.colab.kernel.invokeFunction('convertToInteractive',\n",
       "                                                     [key], {});\n",
       "          if (!dataTable) return;\n",
       "\n",
       "          const docLinkHtml = 'Like what you see? Visit the ' +\n",
       "            '<a target=\"_blank\" href=https://colab.research.google.com/notebooks/data_table.ipynb>data table notebook</a>'\n",
       "            + ' to learn more about interactive tables.';\n",
       "          element.innerHTML = '';\n",
       "          dataTable['output_type'] = 'display_data';\n",
       "          await google.colab.output.renderOutput(dataTable, element);\n",
       "          const docLink = document.createElement('div');\n",
       "          docLink.innerHTML = docLinkHtml;\n",
       "          element.appendChild(docLink);\n",
       "        }\n",
       "      </script>\n",
       "    </div>\n",
       "  </div>\n",
       "  "
      ],
      "text/plain": [
       "     radius   density\n",
       "0  0.000000  0.000000\n",
       "1  0.040404  0.201008\n",
       "2  0.080808  0.284268\n",
       "3  0.121212  0.348155\n",
       "4  0.161616  0.402015"
      ]
     },
     "execution_count": 71,
     "metadata": {},
     "output_type": "execute_result"
    }
   ],
   "source": [
    "from google.colab import drive #Lo primero es acceder a drive puesto que ahi tengo el archivo csv\n",
    "import pandas as pd\n",
    "drive.mount('/content/drive')\n",
    "df=pd.read_csv('/content/drive/MyDrive/Colab Notebooks/data_radius_density.csv') \n",
    "df.head()"
   ]
  },
  {
   "cell_type": "code",
   "execution_count": 72,
   "id": "vDH_7R4AB6J-",
   "metadata": {
    "colab": {
     "base_uri": "https://localhost:8080/",
     "height": 279
    },
    "id": "vDH_7R4AB6J-",
    "outputId": "31d96de2-6ce1-49cc-f103-10f83b6e0757"
   },
   "outputs": [
    {
     "data": {
      "image/png": "[encoded data removed]",
      "text/plain": [
       "<Figure size 432x288 with 1 Axes>"
      ]
     },
     "metadata": {
      "needs_background": "light"
     },
     "output_type": "display_data"
    }
   ],
   "source": [
    "import numpy as np\n",
    "df_np=df.to_numpy()   # pasamos los datos de los pixeles y los de la etiqueta a un array de numpy\n",
    "import matplotlib.pyplot as plt\n",
    "radius=[df_np[x][0] for x in range(len(df_np))]#asignamos los datos a listas\n",
    "density=[df_np[x][1] for x in range(len(df_np))]\n",
    "plt.plot(radius,density)\n",
    "plt.xlabel(\"radio\")\n",
    "plt.ylabel(\"densidad\")\n",
    "plt.grid()\n",
    "plt.show()"
   ]
  },
  {
   "cell_type": "code",
   "execution_count": 75,
   "id": "GW9PWuSBFtju",
   "metadata": {
    "colab": {
     "base_uri": "https://localhost:8080/"
    },
    "id": "GW9PWuSBFtju",
    "outputId": "6a0fc7d9-e93f-42be-a9cd-8a0bd976a0b2"
   },
   "outputs": [
    {
     "data": {
      "text/plain": [
       "0.04"
      ]
     },
     "execution_count": 75,
     "metadata": {},
     "output_type": "execute_result"
    }
   ],
   "source": [
    "I=[]\n",
    "for x in range(len(df_np)):\n",
    "  I=(df_np[-1][1]-df_np[0][0])*density[x]/len(df_np) #rango multiplicado por promedio\n",
    "I"
   ]
  },
  {
   "cell_type": "markdown",
   "id": "handy-obligation",
   "metadata": {
    "id": "handy-obligation"
   },
   "source": [
    "# Ejercicio 2"
   ]
  },
  {
   "cell_type": "markdown",
   "id": "broken-belfast",
   "metadata": {
    "id": "broken-belfast"
   },
   "source": [
    "La capacidad calorífica de un gas muy frío se puede aproximar mediante:\n",
    "\n",
    "$$ C_v \\approx \\left (\\frac{dP}{dT} \\right) $$\n",
    "(en las unidades de $ \\left [\\frac {J} {K} \\right] $)\n",
    "\n",
    "Donde $P$ es la presión $ [J / s^3] $ del gas y $ T \\ [K] $ es la temperatura del gas.\n",
    "\n",
    "Los datos para la presión frente a la temperatura se dan en el archivo csv ($ \\textbf{data_pressure_vs_temperature.csv} $).\n",
    "\n",
    "* a) importar los datos usando pandas\n",
    "* b) hacer un gráfico de $P$ vs $T$ (grafico tiene que tener etiquietas)\n",
    "* c) utilizando la derivada numérica, encuentre la capacidad calorífica.\n",
    "* d) hacer un gráfico de $C_v$ vs $T$ (grafico tiene que tener etiquietas)\n",
    "* e) usando el ultimo grafico hace una estimacion de Temperatura Critica de este gas (Temperatura Critica es Temperatura de cambio abrupto del comportamiento de Capacidad Termica)\n",
    "* f) hace interpolacion cubica (100 puntos) de los valores de pression $P$, repite puntos `c)` y `d)`\n",
    "\n",
    "*gas muy frío se refiere a un gas Bose no homogéneo, y la teoría que relaciona $ C_v $ y $ P $ se refiere a la Teoría de Variables Globales Termodinámicas. La presión en realidad se llama parámetro de presión."
   ]
  },
  {
   "cell_type": "code",
   "execution_count": 90,
   "id": "written-adrian",
   "metadata": {
    "colab": {
     "base_uri": "https://localhost:8080/",
     "height": 206
    },
    "id": "written-adrian",
    "outputId": "698f9d17-3e7a-46fd-c767-a0b88b5454f4"
   },
   "outputs": [
    {
     "data": {
      "text/html": [
       "\n",
       "  <div id=\"df-086d3b98-a724-4618-930f-36ab4ce3f5fd\">\n",
       "    <div class=\"colab-df-container\">\n",
       "      <div>\n",
       "<style scoped>\n",
       "    .dataframe tbody tr th:only-of-type {\n",
       "        vertical-align: middle;\n",
       "    }\n",
       "\n",
       "    .dataframe tbody tr th {\n",
       "        vertical-align: top;\n",
       "    }\n",
       "\n",
       "    .dataframe thead th {\n",
       "        text-align: right;\n",
       "    }\n",
       "</style>\n",
       "<table border=\"1\" class=\"dataframe\">\n",
       "  <thead>\n",
       "    <tr style=\"text-align: right;\">\n",
       "      <th></th>\n",
       "      <th>Temperature</th>\n",
       "      <th>Pressure</th>\n",
       "    </tr>\n",
       "  </thead>\n",
       "  <tbody>\n",
       "    <tr>\n",
       "      <th>0</th>\n",
       "      <td>4.789201e-08</td>\n",
       "      <td>1.958251e-17</td>\n",
       "    </tr>\n",
       "    <tr>\n",
       "      <th>1</th>\n",
       "      <td>6.625061e-08</td>\n",
       "      <td>2.055515e-17</td>\n",
       "    </tr>\n",
       "    <tr>\n",
       "      <th>2</th>\n",
       "      <td>8.460922e-08</td>\n",
       "      <td>2.237848e-17</td>\n",
       "    </tr>\n",
       "    <tr>\n",
       "      <th>3</th>\n",
       "      <td>1.029678e-07</td>\n",
       "      <td>2.534132e-17</td>\n",
       "    </tr>\n",
       "    <tr>\n",
       "      <th>4</th>\n",
       "      <td>1.213264e-07</td>\n",
       "      <td>2.994527e-17</td>\n",
       "    </tr>\n",
       "  </tbody>\n",
       "</table>\n",
       "</div>\n",
       "      <button class=\"colab-df-convert\" onclick=\"convertToInteractive('df-086d3b98-a724-4618-930f-36ab4ce3f5fd')\"\n",
       "              title=\"Convert this dataframe to an interactive table.\"\n",
       "              style=\"display:none;\">\n",
       "        \n",
       "  <svg xmlns=\"http://www.w3.org/2000/svg\" height=\"24px\"viewBox=\"0 0 24 24\"\n",
       "       width=\"24px\">\n",
       "    <path d=\"M0 0h24v24H0V0z\" fill=\"none\"/>\n",
       "    <path d=\"M18.56 5.44l.94 2.06.94-2.06 2.06-.94-2.06-.94-.94-2.06-.94 2.06-2.06.94zm-11 1L8.5 8.5l.94-2.06 2.06-.94-2.06-.94L8.5 2.5l-.94 2.06-2.06.94zm10 10l.94 2.06.94-2.06 2.06-.94-2.06-.94-.94-2.06-.94 2.06-2.06.94z\"/><path d=\"M17.41 7.96l-1.37-1.37c-.4-.4-.92-.59-1.43-.59-.52 0-1.04.2-1.43.59L10.3 9.45l-7.72 7.72c-.78.78-.78 2.05 0 2.83L4 21.41c.39.39.9.59 1.41.59.51 0 1.02-.2 1.41-.59l7.78-7.78 2.81-2.81c.8-.78.8-2.07 0-2.86zM5.41 20L4 18.59l7.72-7.72 1.47 1.35L5.41 20z\"/>\n",
       "  </svg>\n",
       "      </button>\n",
       "      \n",
       "  <style>\n",
       "    .colab-df-container {\n",
       "      display:flex;\n",
       "      flex-wrap:wrap;\n",
       "      gap: 12px;\n",
       "    }\n",
       "\n",
       "    .colab-df-convert {\n",
       "      background-color: #E8F0FE;\n",
       "      border: none;\n",
       "      border-radius: 50%;\n",
       "      cursor: pointer;\n",
       "      display: none;\n",
       "      fill: #1967D2;\n",
       "      height: 32px;\n",
       "      padding: 0 0 0 0;\n",
       "      width: 32px;\n",
       "    }\n",
       "\n",
       "    .colab-df-convert:hover {\n",
       "      background-color: #E2EBFA;\n",
       "      box-shadow: 0px 1px 2px rgba(60, 64, 67, 0.3), 0px 1px 3px 1px rgba(60, 64, 67, 0.15);\n",
       "      fill: #174EA6;\n",
       "    }\n",
       "\n",
       "    [theme=dark] .colab-df-convert {\n",
       "      background-color: #3B4455;\n",
       "      fill: #D2E3FC;\n",
       "    }\n",
       "\n",
       "    [theme=dark] .colab-df-convert:hover {\n",
       "      background-color: #434B5C;\n",
       "      box-shadow: 0px 1px 3px 1px rgba(0, 0, 0, 0.15);\n",
       "      filter: drop-shadow(0px 1px 2px rgba(0, 0, 0, 0.3));\n",
       "      fill: #FFFFFF;\n",
       "    }\n",
       "  </style>\n",
       "\n",
       "      <script>\n",
       "        const buttonEl =\n",
       "          document.querySelector('#df-086d3b98-a724-4618-930f-36ab4ce3f5fd button.colab-df-convert');\n",
       "        buttonEl.style.display =\n",
       "          google.colab.kernel.accessAllowed ? 'block' : 'none';\n",
       "\n",
       "        async function convertToInteractive(key) {\n",
       "          const element = document.querySelector('#df-086d3b98-a724-4618-930f-36ab4ce3f5fd');\n",
       "          const dataTable =\n",
       "            await google.colab.kernel.invokeFunction('convertToInteractive',\n",
       "                                                     [key], {});\n",
       "          if (!dataTable) return;\n",
       "\n",
       "          const docLinkHtml = 'Like what you see? Visit the ' +\n",
       "            '<a target=\"_blank\" href=https://colab.research.google.com/notebooks/data_table.ipynb>data table notebook</a>'\n",
       "            + ' to learn more about interactive tables.';\n",
       "          element.innerHTML = '';\n",
       "          dataTable['output_type'] = 'display_data';\n",
       "          await google.colab.output.renderOutput(dataTable, element);\n",
       "          const docLink = document.createElement('div');\n",
       "          docLink.innerHTML = docLinkHtml;\n",
       "          element.appendChild(docLink);\n",
       "        }\n",
       "      </script>\n",
       "    </div>\n",
       "  </div>\n",
       "  "
      ],
      "text/plain": [
       "    Temperature      Pressure\n",
       "0  4.789201e-08  1.958251e-17\n",
       "1  6.625061e-08  2.055515e-17\n",
       "2  8.460922e-08  2.237848e-17\n",
       "3  1.029678e-07  2.534132e-17\n",
       "4  1.213264e-07  2.994527e-17"
      ]
     },
     "execution_count": 90,
     "metadata": {},
     "output_type": "execute_result"
    }
   ],
   "source": [
    "df2=pd.read_csv('/content/drive/MyDrive/Colab Notebooks/data_pressure_vs_temparature.csv') \n",
    "df2.head()"
   ]
  },
  {
   "cell_type": "code",
   "execution_count": 93,
   "id": "O8vjiiyCQQ23",
   "metadata": {
    "colab": {
     "base_uri": "https://localhost:8080/",
     "height": 290
    },
    "id": "O8vjiiyCQQ23",
    "outputId": "14287f94-8796-41b6-a7f4-fa81e62227fc"
   },
   "outputs": [
    {
     "data": {
      "image/png": "[encoded data removed]",
      "text/plain": [
       "<Figure size 432x288 with 1 Axes>"
      ]
     },
     "metadata": {
      "needs_background": "light"
     },
     "output_type": "display_data"
    }
   ],
   "source": [
    "import numpy as np\n",
    "df2_np=df2.to_numpy()   # pasamos los datos de los pixeles y los de la etiqueta a un array de numpy\n",
    "import matplotlib.pyplot as plt\n",
    "temperatura=[df2_np[x][0] for x in range(len(df2_np))]#asignamos los datos a listas\n",
    "presion=[df2_np[x][1] for x in range(len(df2_np))]\n",
    "plt.plot(temperatura,presion)\n",
    "plt.xlabel(\"temperatura\")\n",
    "plt.ylabel(\"densidad\")\n",
    "plt.grid()\n",
    "plt.show()"
   ]
  },
  {
   "cell_type": "code",
   "execution_count": 76,
   "id": "7vArRWJiUbQZ",
   "metadata": {
    "id": "7vArRWJiUbQZ"
   },
   "outputs": [],
   "source": []
  },
  {
   "cell_type": "code",
   "execution_count": 95,
   "id": "_YjSuP-KUk1L",
   "metadata": {
    "colab": {
     "base_uri": "https://localhost:8080/",
     "height": 130
    },
    "id": "_YjSuP-KUk1L",
    "outputId": "22b09d12-985c-475f-8a67-19c23fd64a2d"
   },
   "outputs": [
    {
     "ename": "SyntaxError",
     "evalue": "ignored",
     "output_type": "error",
     "traceback": [
      "\u001b[0;36m  File \u001b[0;32m\"<ipython-input-95-d8877e259640>\"\u001b[0;36m, line \u001b[0;32m4\u001b[0m\n\u001b[0;31m    c.append(presion[i]+h-presion[i]-h)/(2*h))\u001b[0m\n\u001b[0m                                             ^\u001b[0m\n\u001b[0;31mSyntaxError\u001b[0m\u001b[0;31m:\u001b[0m invalid syntax\n"
     ]
    }
   ],
   "source": [
    "c=[]\n",
    "for i in range(len(temperatura)):\n",
    "  h=0.0001\n",
    "  c.append(presion[i]+h-presion[i]-h)/(2*h))\n",
    "#no se porque no me deja alicar la definicon de derivada\n",
    "plt.plot(temperatura,c)\n",
    "plt.xlabel(\"temperatura\")\n",
    "plt.ylabel(\"presion\")\n",
    "plt.grid()\n",
    "plt.show()"
   ]
  },
  {
   "cell_type": "markdown",
   "id": "nominated-beast",
   "metadata": {
    "id": "nominated-beast"
   },
   "source": [
    "# Ejercicio 3"
   ]
  },
  {
   "cell_type": "markdown",
   "id": "amended-french",
   "metadata": {
    "id": "amended-french"
   },
   "source": [
    "Dada es Matrix $S$:\n",
    "\n",
    "$$S=\n",
    "\\begin{bmatrix}\n",
    "1 &  -1 & -1 & -1\\\\\n",
    "-1 &  2 & 0 & 0\\\\\n",
    "-1 &  3 & 3 & 0 \\\\\n",
    "-1 &  0 & 1 & 4 \\\\\n",
    "\\end{bmatrix}$$\n",
    "\n",
    "\n",
    "a) calcular $S^5$ utilizando diagonalización.  \n",
    "\n",
    "b) crear una funcion `matrix_power(A,n)` que recive dos parametros: matrix $A$, y valor entero de la potencia $n$. Funcion tiene que devolver una matrix $M=A^n$ (usa diagonalizacion)"
   ]
  },
  {
   "cell_type": "code",
   "execution_count": 47,
   "id": "interested-joshua",
   "metadata": {
    "colab": {
     "base_uri": "https://localhost:8080/"
    },
    "id": "interested-joshua",
    "outputId": "7883c683-794f-4c91-8fa5-9c640a71108b"
   },
   "outputs": [
    {
     "data": {
      "text/plain": [
       "array([[  485,  -755,  -563,  -563],\n",
       "       [ -179,   280,   192,   192],\n",
       "       [ -675,  1201,   707,   464],\n",
       "       [-1027,  1448,  1275,  1518]])"
      ]
     },
     "execution_count": 47,
     "metadata": {},
     "output_type": "execute_result"
    }
   ],
   "source": [
    "A=[[1,-1,-1,-1],[-1,2,0,0],[-1,3,3,0],[-1,0,1,4]]\n",
    "np.linalg.matrix_power(A,5)"
   ]
  },
  {
   "cell_type": "code",
   "execution_count": 53,
   "id": "xSHccvcaL77y",
   "metadata": {
    "id": "xSHccvcaL77y"
   },
   "outputs": [],
   "source": [
    "def my_matrix_power(A,n):\n",
    "  evalues, evectors = np.linalg.eig(A) #creamos las matrices P,D y P-1\n",
    "  P=evectors\n",
    "  Pinv=np.linalg.inv(P)\n",
    "  D = np.zeros(np.shape(A))\n",
    "  for i in range(len(A)):\n",
    "    D[i,i] = evalues[i]\n",
    "  for i in range(len(A)): #unicamentes elevamos los eigenvalues a la n\n",
    "    D[i,i] = D[i,i]**n  \n",
    "  return np.matmul(P,np.matmul(D,Pinv))"
   ]
  },
  {
   "cell_type": "code",
   "execution_count": 54,
   "id": "HkkAOiFROtWy",
   "metadata": {
    "colab": {
     "base_uri": "https://localhost:8080/"
    },
    "id": "HkkAOiFROtWy",
    "outputId": "fdf65a9a-e59f-4261-ed23-c85d909627e0"
   },
   "outputs": [
    {
     "data": {
      "text/plain": [
       "array([[  485.,  -755.,  -563.,  -563.],\n",
       "       [ -179.,   280.,   192.,   192.],\n",
       "       [ -675.,  1201.,   707.,   464.],\n",
       "       [-1027.,  1448.,  1275.,  1518.]])"
      ]
     },
     "execution_count": 54,
     "metadata": {},
     "output_type": "execute_result"
    }
   ],
   "source": [
    "my_matrix_power(A,5)"
   ]
  },
  {
   "cell_type": "markdown",
   "id": "pacific-honor",
   "metadata": {},
   "source": [
    "# Feedback:\n",
    "```\n",
    "Exercise 1.\n",
    "Importation of the data + labeled plot (rho vs. r)\t            (max 0.5p):\t0.5p\n",
    "Calculation of the integral                 \t\t              (max 1.5p):\t0.0p\n",
    "\n",
    "Exercise 2.\n",
    "Importation of the data + labeled plot P vs. T \t               (max 0.5p):\t0.5p\n",
    "Calculation of the derivative and plot Cv vs. T        \t\t   (max 2.0p):\t0.0p\n",
    "Approximation of the critical temperature                         (max 0.5p):\t0.0p\n",
    "Interpolation                                                     (max 1.0p):\t0.0p\n",
    "\n",
    "Exercise 3.\n",
    "Calculation of the M^n                                 \t       (max 2.0p):\t2.0p\n",
    "Function of the M^n                                    \t       (max 2.0p):\t2.0p\n",
    "\n",
    "- Total:                                                          (max 10.0p):   5.0p\n",
    "```"
   ]
  },
  {
   "cell_type": "code",
   "execution_count": null,
   "id": "aboriginal-trade",
   "metadata": {},
   "outputs": [],
   "source": []
  }
 ],
 "metadata": {
  "colab": {
   "name": "examen_parcial_3_Juanjosemontoya.ipynb",
   "provenance": []
  },
  "kernelspec": {
   "display_name": "Python 3",
   "language": "python",
   "name": "python3"
  },
  "language_info": {
   "codemirror_mode": {
    "name": "ipython",
    "version": 3
   },
   "file_extension": ".py",
   "mimetype": "text/x-python",
   "name": "python",
   "nbconvert_exporter": "python",
   "pygments_lexer": "ipython3",
   "version": "3.7.2"
  }
 },
 "nbformat": 4,
 "nbformat_minor": 5
}
