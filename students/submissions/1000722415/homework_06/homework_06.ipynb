{
  "nbformat": 4,
  "nbformat_minor": 0,
  "metadata": {
    "colab": {
      "name": "homework_6.ipynb",
      "provenance": []
    },
    "kernelspec": {
      "name": "python3",
      "display_name": "Python 3"
    },
    "language_info": {
      "name": "python"
    }
  },
  "cells": [
    {
      "cell_type": "markdown",
      "source": [
        "<p> \n",
        "<img src=\"https://drive.google.com/uc?id=15e9jqlH6r33n0cd5s9LQGCmVg3gzlyNN\" align=\"left\" width=\"250\" height=\"300\" > \n",
        "<br>\n",
        "<h1><b><center>Computational Methods </center></b></h1>\n",
        "<h2><b><center>Homework 6</center></b><h2>\n",
        "<h3><i><center>Juanita Andrea Agudelo</center></i><h2>\n",
        "<h3><i><center>1000722415</center></i><h2>\n"
      ],
      "metadata": {
        "id": "_tfB-vXStYSv"
      }
    },
    {
      "cell_type": "code",
      "execution_count": 7,
      "metadata": {
        "id": "1L1LyNvlsos1"
      },
      "outputs": [],
      "source": [
        "def deriv(func, a, method, h):\n",
        "  if method == 'central':\n",
        "        return (func(a + h) - func(a - h))/(2*h)\n",
        "  elif method == 'forward':\n",
        "        return (func(a + h) - func(a))/h\n",
        "  elif method == 'backward':\n",
        "        return (func(a) - func(a - h))/h \n",
        "  \n"
      ]
    },
    {
      "cell_type": "code",
      "source": [
        ""
      ],
      "metadata": {
        "id": "IhPHTduCv5Pt"
      },
      "execution_count": null,
      "outputs": []
    }
  ]
}