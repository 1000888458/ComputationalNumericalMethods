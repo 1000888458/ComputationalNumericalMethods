{
  "nbformat": 4,
  "nbformat_minor": 0,
  "metadata": {
    "colab": {
      "name": "homework_07.ipynb",
      "provenance": []
    },
    "kernelspec": {
      "name": "python3",
      "display_name": "Python 3"
    },
    "language_info": {
      "name": "python"
    }
  },
  "cells": [
    {
      "cell_type": "markdown",
      "source": [
        "<p> \n",
        "<img src=\"https://drive.google.com/uc?id=15e9jqlH6r33n0cd5s9LQGCmVg3gzlyNN\" align=\"left\" width=\"250\" height=\"300\" > \n",
        "<br>\n",
        "<h1><b><center>Computational Methods </center></b></h1>\n",
        "<h2><b><center>Homework 7</center></b><h2>\n",
        "<h3><i><center>Juanita Andrea Agudelo</center></i><h2>\n",
        "<h3><i><center>1000722415</center></i><h2>\n"
      ],
      "metadata": {
        "id": "4pQdNOyRwii9"
      }
    },
    {
      "cell_type": "code",
      "execution_count": 6,
      "metadata": {
        "id": "MI1cGAbrwbHJ"
      },
      "outputs": [],
      "source": [
        "def integral_monte_carlo_1D(integrand,lim1,lim2,N):\n",
        "  import numpy as np\n",
        "  Np = np.arange(0, N+1, N/10)\n",
        "  paso=N/10\n",
        "  u=np.zeros(N)\n",
        "  for i in range(10):\n",
        "    start=int(Np[i])\n",
        "    end=int(Np[i+1])\n",
        "    u[start:end]=np.random.uniform(low=i/10, high=(i+1)/10,size=end-start)\n",
        "  np.random.shuffle(u)\n",
        "  u_func=integrand(lim1+(lim2-lim1)*u)\n",
        "  I=((lim2-lim1)/N)*u_func.sum()  \n",
        "       \n",
        "  return I\n"
      ]
    },
    {
      "cell_type": "code",
      "source": [
        ""
      ],
      "metadata": {
        "id": "uQ2cqmr02u87"
      },
      "execution_count": null,
      "outputs": []
    }
  ]
}