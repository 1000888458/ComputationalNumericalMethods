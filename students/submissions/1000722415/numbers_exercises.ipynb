{
  "nbformat": 4,
  "nbformat_minor": 5,
  "metadata": {
    "kernelspec": {
      "display_name": "Python 3",
      "language": "python",
      "name": "python3"
    },
    "language_info": {
      "codemirror_mode": {
        "name": "ipython",
        "version": 3
      },
      "file_extension": ".py",
      "mimetype": "text/x-python",
      "name": "python",
      "nbconvert_exporter": "python",
      "pygments_lexer": "ipython3",
      "version": "3.7.2"
    },
    "colab": {
      "name": "numbers_exercises.ipynb",
      "provenance": []
    }
  },
  "cells": [
    {
      "cell_type": "markdown",
      "metadata": {
        "id": "super-silicon"
      },
      "source": [
        "<h1><center ><b>Juanita Andrea Agudelo</ center></h1>\n",
        "<h2><center><i>Excercises about numbers - Computational Methods</center></h1>\n",
        "<h3><center>CC 1000722415</center></h1>"
      ],
      "id": "super-silicon"
    },
    {
      "cell_type": "markdown",
      "metadata": {
        "id": "environmental-observation"
      },
      "source": [
        "#### 1. Imprime primero 10 numeros naturales (1,2,3,4,5,6,7,8,9,10) usando \"for loop\" y print ()"
      ],
      "id": "environmental-observation"
    },
    {
      "cell_type": "code",
      "metadata": {
        "colab": {
          "base_uri": "https://localhost:8080/"
        },
        "id": "executive-austria",
        "outputId": "379ea71c-4e00-481a-9ef3-eff3e13bbd17"
      },
      "source": [
        "for i in range(1,11):\n",
        "  print(i)"
      ],
      "id": "executive-austria",
      "execution_count": null,
      "outputs": [
        {
          "output_type": "stream",
          "name": "stdout",
          "text": [
            "1\n",
            "2\n",
            "3\n",
            "4\n",
            "5\n",
            "6\n",
            "7\n",
            "8\n",
            "9\n",
            "10\n"
          ]
        }
      ]
    },
    {
      "cell_type": "markdown",
      "metadata": {
        "id": "loving-george"
      },
      "source": [
        "#### 2. Imprime primero 10 numeros naturales (1,2,3,4,5,6,7,8,9,10)  usando \"while loop\" y print ()"
      ],
      "id": "loving-george"
    },
    {
      "cell_type": "code",
      "metadata": {
        "colab": {
          "base_uri": "https://localhost:8080/"
        },
        "id": "manufactured-international",
        "outputId": "ce6b7c5b-3065-4973-e263-138a139c4393"
      },
      "source": [
        "i=0\n",
        "while i<10:\n",
        "  i+=1\n",
        "  print(i)"
      ],
      "id": "manufactured-international",
      "execution_count": null,
      "outputs": [
        {
          "output_type": "stream",
          "name": "stdout",
          "text": [
            "1\n",
            "2\n",
            "3\n",
            "4\n",
            "5\n",
            "6\n",
            "7\n",
            "8\n",
            "9\n",
            "10\n"
          ]
        }
      ]
    },
    {
      "cell_type": "markdown",
      "metadata": {
        "id": "beginning-marine"
      },
      "source": [
        "#### 3. Calcular la soma de numeros (1+2+3+4+5+6+7+8+9+10) usando \"for loop\" y guarda resultado en variable \"my_result\""
      ],
      "id": "beginning-marine"
    },
    {
      "cell_type": "code",
      "metadata": {
        "colab": {
          "base_uri": "https://localhost:8080/"
        },
        "id": "neither-segment",
        "outputId": "6106d52e-38f6-4e8c-ba15-1f9320324fb7"
      },
      "source": [
        "sum=0\n",
        "for i in range(1,11):\n",
        "  sum+=i\n",
        "  my_result=sum\n",
        "print(my_result)\n",
        "\n"
      ],
      "id": "neither-segment",
      "execution_count": null,
      "outputs": [
        {
          "output_type": "stream",
          "name": "stdout",
          "text": [
            "55\n"
          ]
        }
      ]
    },
    {
      "cell_type": "markdown",
      "metadata": {
        "id": "indoor-roots"
      },
      "source": [
        "#### 4. Calcular la soma de numeros (1+2+3+4+5+6+7+8+9+10) usando \"while loop\" y guardar resultado en variable \"my_result\""
      ],
      "id": "indoor-roots"
    },
    {
      "cell_type": "code",
      "metadata": {
        "colab": {
          "base_uri": "https://localhost:8080/"
        },
        "id": "infrared-respondent",
        "outputId": "5ec49035-ca74-45f0-e786-7f9be696c764"
      },
      "source": [
        "sum=0\n",
        "i=0\n",
        "while i < 10:\n",
        "  i+=1\n",
        "  sum+=i\n",
        "  my_result=sum\n",
        "print(my_result)   "
      ],
      "id": "infrared-respondent",
      "execution_count": null,
      "outputs": [
        {
          "output_type": "stream",
          "name": "stdout",
          "text": [
            "55\n"
          ]
        }
      ]
    },
    {
      "cell_type": "markdown",
      "metadata": {
        "id": "polished-reason"
      },
      "source": [
        "#### 5. Calcular la soma de numeros par (2+4+6+8+10.. + ...100) usando \"for loop\" y guardar resultado en variable \"my_result\" (pista: usa condicion \"if\" y \"%\")"
      ],
      "id": "polished-reason"
    },
    {
      "cell_type": "code",
      "metadata": {
        "colab": {
          "base_uri": "https://localhost:8080/"
        },
        "id": "asian-publisher",
        "outputId": "14d6dc72-af3f-4ee2-d828-c7539d21cb8f"
      },
      "source": [
        "sum=0\n",
        "for i in range(1,101):\n",
        "  if i%2==0:\n",
        "    sum+=i\n",
        "    my_result=sum\n",
        "print(my_result)    \n",
        " \n"
      ],
      "id": "asian-publisher",
      "execution_count": null,
      "outputs": [
        {
          "output_type": "stream",
          "name": "stdout",
          "text": [
            "2550\n"
          ]
        }
      ]
    },
    {
      "cell_type": "markdown",
      "metadata": {
        "id": "accepted-jacksonville"
      },
      "source": [
        "#### 6. Calcular la soma de numeros impar (1+3+5+7+9+... + ...99) usando \"while loop\" y guardar resultado en variable \"my_result\" (pista: usa condicion \"if\" y \"%\")"
      ],
      "id": "accepted-jacksonville"
    },
    {
      "cell_type": "code",
      "metadata": {
        "colab": {
          "base_uri": "https://localhost:8080/"
        },
        "id": "assigned-parameter",
        "outputId": "f98d4bba-4054-4037-d8ce-97028cbf8026"
      },
      "source": [
        "suma=0\n",
        "i=0\n",
        "while i < 99:\n",
        "  i+=1\n",
        "  if i % 2 != 0:\n",
        "    suma+=i\n",
        "my_result=suma\n",
        "print(my_result)"
      ],
      "id": "assigned-parameter",
      "execution_count": null,
      "outputs": [
        {
          "output_type": "stream",
          "name": "stdout",
          "text": [
            "2500\n"
          ]
        }
      ]
    },
    {
      "cell_type": "markdown",
      "metadata": {
        "id": "crucial-treat"
      },
      "source": [
        "#### 7. Definir una function que se llama func_sum_even_odd(b) que recibe un parametro \"b\" - valor numerico. La funcion calcula soma de numeros pares y numeros impares separamente entre 0 y b (los dos valores incluidos) . La funcion guarda resultados en dos variables en sum_even, sum_odd y devuelve ambos usando \"return\". (usa metodo: while)\n",
        "\n",
        "ejemplo de ejecucion:   \n",
        "sum_even,sum_odd = func_sum_even_odd(10)  \n",
        "print(sum_even,sum_odd)  \n",
        "30,25  \n",
        "\n",
        "#### Pero si \"b\" no es ni integer ni float funcion devuelve sum_even=0,y sum_odd=0 y imprime mensaje: \"argument must be an integer or float\"   (usa: \"isinstance\" o negacion de isinstance: \"not isinstance\" conjunto con operador logico \"or\" para verificar si el argumento es int of float)\n",
        "\n",
        "ejemplo de ejecucion:  \n",
        "sum_even,sum_odd = func_sum_even_odd('z')  \n",
        "\"argument must be an integer or float\"  "
      ],
      "id": "crucial-treat"
    },
    {
      "cell_type": "code",
      "metadata": {
        "id": "comparative-corruption"
      },
      "source": [
        "def func_sum_even_odd(b):\n",
        "  sum_even=0\n",
        "  sum_odd=0\n",
        "  i=0\n",
        "  if type(b)==int or type(b)==float:\n",
        "    while i <= b:\n",
        "      if i%2==0:\n",
        "        sum_even+=i\n",
        "        i+=1\n",
        "      else:\n",
        "        sum_odd+=i\n",
        "        i+=1        \n",
        "  else:\n",
        "    \n",
        "    print('WARNING: argument must be an integer or float')\n",
        "  \n",
        "  return sum_even, sum_odd    "
      ],
      "id": "comparative-corruption",
      "execution_count": 50,
      "outputs": []
    },
    {
      "cell_type": "code",
      "metadata": {
        "colab": {
          "base_uri": "https://localhost:8080/"
        },
        "id": "GsyUMTJelvyp",
        "outputId": "1e5379b4-e113-44be-f93a-c5757d825105"
      },
      "source": [
        "#try the code use b='4', a variable other than integer or float\n",
        "sum_even, sum_odd  = func_sum_even_odd('4')\n",
        "\n",
        "print('sum_even=', sum_even)\n",
        "print('sum_odd=', sum_odd )"
      ],
      "id": "GsyUMTJelvyp",
      "execution_count": 51,
      "outputs": [
        {
          "output_type": "stream",
          "name": "stdout",
          "text": [
            "WARNING: argument must be an integer or float\n",
            "sum_even= 0\n",
            "sum_odd= 0\n"
          ]
        }
      ]
    },
    {
      "cell_type": "code",
      "metadata": {
        "colab": {
          "base_uri": "https://localhost:8080/"
        },
        "id": "6xKDW6JEMhXX",
        "outputId": "3cb11a7d-9cdb-438f-a6d2-e7347cf6b09f"
      },
      "source": [
        "#try the code use b=4, a number\n",
        "sum_even, sum_odd  = func_sum_even_odd(4)\n",
        "\n",
        "print('The sum of even and odd numbers are')\n",
        "print('sum_even=', sum_even)\n",
        "print('sum_odd=', sum_odd )"
      ],
      "id": "6xKDW6JEMhXX",
      "execution_count": 64,
      "outputs": [
        {
          "output_type": "stream",
          "name": "stdout",
          "text": [
            "The sum of even and odd numbers are\n",
            "sum_even= 6\n",
            "sum_odd= 4\n"
          ]
        }
      ]
    },
    {
      "cell_type": "markdown",
      "metadata": {
        "id": "contemporary-exemption"
      },
      "source": [
        "#### 8. Modifica funcion anterior y usa conjunto: try:... except:... (mira arriva en el texto de la classe)\n",
        "try:   \n",
        "--->intenta hacer si no sale error  \n",
        "except:  \n",
        "--->hace otra cosa si sale error    "
      ],
      "id": "contemporary-exemption"
    },
    {
      "cell_type": "code",
      "metadata": {
        "id": "PpTrHNQ63Kc4"
      },
      "source": [
        "def func_sum_even_odd1(b):\n",
        "  try:\n",
        "    sum_even=0\n",
        "    sum_odd=0\n",
        "    i=0\n",
        "    while i <= b:\n",
        "      if i%2==0:\n",
        "        sum_even+=i\n",
        "        i+=1\n",
        "      else:\n",
        "        sum_odd+=i\n",
        "        i+=1        \n",
        "  except:\n",
        "    print('WARNING: argument must be an integer or float')\n",
        "  \n",
        "  return sum_even, sum_odd  \n"
      ],
      "id": "PpTrHNQ63Kc4",
      "execution_count": 59,
      "outputs": []
    },
    {
      "cell_type": "code",
      "metadata": {
        "colab": {
          "base_uri": "https://localhost:8080/"
        },
        "id": "tKl68Kto3Rm_",
        "outputId": "c86f4a0f-39c7-454a-f33a-37d85c217f26"
      },
      "source": [
        "#try the code use b='4', a variable other than integer or float using TRY - EXCEPT \n",
        "sum_even, sum_odd  = func_sum_even_odd1('4')\n",
        "\n",
        "print('sum_even=', sum_even)\n",
        "print('sum_odd=', sum_odd )"
      ],
      "id": "tKl68Kto3Rm_",
      "execution_count": 60,
      "outputs": [
        {
          "output_type": "stream",
          "name": "stdout",
          "text": [
            "WARNING: argument must be an integer or float\n",
            "sum_even= 0\n",
            "sum_odd= 0\n"
          ]
        }
      ]
    },
    {
      "cell_type": "code",
      "metadata": {
        "colab": {
          "base_uri": "https://localhost:8080/"
        },
        "id": "xkdUFYQsNdoM",
        "outputId": "8cb4c877-8887-41eb-acc3-9c3ac69b08d4"
      },
      "source": [
        "#try the code use b=4, a number using TRY - EXCEOPT\n",
        "sum_even, sum_odd  = func_sum_even_odd1(4)\n",
        "\n",
        "print('The sum of even and odd numbers are')\n",
        "print('sum_even=', sum_even)\n",
        "print('sum_odd=', sum_odd )"
      ],
      "id": "xkdUFYQsNdoM",
      "execution_count": 63,
      "outputs": [
        {
          "output_type": "stream",
          "name": "stdout",
          "text": [
            "The sum of even and odd numbers are\n",
            "sum_even= 6\n",
            "sum_odd= 4\n"
          ]
        }
      ]
    }
  ]
}