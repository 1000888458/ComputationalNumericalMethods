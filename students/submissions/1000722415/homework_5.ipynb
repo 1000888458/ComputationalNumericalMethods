{
  "nbformat": 4,
  "nbformat_minor": 0,
  "metadata": {
    "colab": {
      "name": "homework_5.ipynb",
      "provenance": []
    },
    "kernelspec": {
      "name": "python3",
      "display_name": "Python 3"
    },
    "language_info": {
      "name": "python"
    }
  },
  "cells": [
    {
      "cell_type": "markdown",
      "source": [
        "<p> \n",
        "<img src=\"https://drive.google.com/uc?id=15e9jqlH6r33n0cd5s9LQGCmVg3gzlyNN\" align=\"left\" width=\"250\" height=\"300\" > \n",
        "<br>\n",
        "<h1><b><center>Computational Methods </center></b></h1>\n",
        "<h2><b><center>Homework 5</center></b><h2>\n",
        "<h3><i><center>Juanita Andrea Agudelo</center></i><h2>\n",
        "<h3><i><center>1000722415</center></i><h2>\n"
      ],
      "metadata": {
        "id": "-IS-95Hfqxpe"
      }
    },
    {
      "cell_type": "code",
      "execution_count": 3,
      "metadata": {
        "id": "Ak4bRUrZnxiY"
      },
      "outputs": [],
      "source": [
        "def quadratic_interp(x,y,xinterp):\n",
        "  b0 = y[0]\n",
        "  b1 = (y[1] - y[0])/(x[1] - x[0])\n",
        "  b2 = (((y[2] - y[1])/(x[2] - x[1])) - ((y[1] - y[0])/(x[1] - x[0])))/ (x[2] - x[0])\n",
        "  return b0 + (xinterp - x[0])*b1 + (xinterp - x[0])*(xinterp - x[1])*b2"
      ]
    },
    {
      "cell_type": "code",
      "source": [
        ""
      ],
      "metadata": {
        "id": "XCWur1UcqnQt"
      },
      "execution_count": null,
      "outputs": []
    }
  ]
}