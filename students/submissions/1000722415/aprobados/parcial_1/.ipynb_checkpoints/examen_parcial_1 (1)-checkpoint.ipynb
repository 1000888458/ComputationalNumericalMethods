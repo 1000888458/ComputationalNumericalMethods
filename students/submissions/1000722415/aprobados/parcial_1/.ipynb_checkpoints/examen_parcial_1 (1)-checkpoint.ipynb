{
 "cells": [
  {
   "cell_type": "markdown",
   "id": "6dtzPLVGq61t",
   "metadata": {
    "id": "6dtzPLVGq61t"
   },
   "source": [
    "<p> \n",
    "<img src=\"https://drive.google.com/uc?id=15e9jqlH6r33n0cd5s9LQGCmVg3gzlyNN\" align=\"left\" width=\"250\" height=\"300\" > \n",
    "<br>\n",
    "<h1><b><center> Computational methods </center></b></h1>\n",
    "<h2><b><center>Examen parcial 1</center></b><h2>\n",
    "<h3><i><center>Juanita Andrea Agudelo</center></i><h2>\n",
    "<h3><i><center>1000722415</center></i><h2>\n",
    "<h5><b><center>17 Diciembre 2021</center></b><h5>"
   ]
  },
  {
   "cell_type": "markdown",
   "id": "impossible-command",
   "metadata": {
    "id": "impossible-command"
   },
   "source": [
    "# Examen parcial 1 (Python basico y visualizaciones)\n",
    "* Antes de enviar el archivo, $\\textbf{reiniciar y ejecutar el kernel}$ para ver que el archivo se compila sin errores\n",
    "* enviar el archivo jupyter sin anexos antes de las 10.20am del 17.12.2021 a mi dirección de correo electrónico: michal.hemmerling@udea.edu.co "
   ]
  },
  {
   "cell_type": "markdown",
   "id": "chicken-fields",
   "metadata": {
    "id": "chicken-fields"
   },
   "source": [
    "# Cada de los dos ejercicios abajo vale 100%, \n",
    "* usted puede escojer cual ejercicio quiere hacer. \n",
    "* si hace dos ejercisios en la mitad tambien gana 100%\n",
    "* si hace los dos ejercicios completos, extra puntos voy a pasar para resultado de proximo parcial"
   ]
  },
  {
   "cell_type": "markdown",
   "id": "conceptual-swedish",
   "metadata": {
    "id": "conceptual-swedish"
   },
   "source": [
    "## Ejercicio 1a. Calcular una soma (Taylor aproximacion de funcion cos) usando loop \n",
    "\n",
    "\n",
    "$$cos(x)=\\sum_{k=0}^{\\infty}\\frac{(-1)^k x^{2k}}{(2k)!}$$ \n",
    "\n",
    "1) usando loop for calcular valor de cos(0.2) para k=2 (en loop k=0,1,2)\n",
    "* (puede comparar su resultado con $cos(x)=1 - \\frac{x^2}{2!}  + \\frac{x^4}{4!}$\n",
    "* (para hacer factorial-! usa: import math, math.factorial)\n",
    "\n"
   ]
  },
  {
   "cell_type": "code",
   "execution_count": 1,
   "id": "YNKn7YuPju1A",
   "metadata": {
    "colab": {
     "base_uri": "https://localhost:8080/"
    },
    "id": "YNKn7YuPju1A",
    "outputId": "1856008b-fa25-495a-b9e8-ffe6a4a9b1ed"
   },
   "outputs": [
    {
     "name": "stdout",
     "output_type": "stream",
     "text": [
      "el coseno de x=0.2 para k=2 usando series de taylor es: 0.9800666666666666\n",
      "el coseno de x=0.2 para k=2 usando series de taylor expandida es: 0.9800666666666666\n"
     ]
    }
   ],
   "source": [
    "import math as mth\n",
    "x=0.2\n",
    "k=2\n",
    "cos_x=0\n",
    "for i in range(0,k+1):\n",
    "  cos_x+=(((-1)**i)*((x)**(2*i)))/mth.factorial(2*i)\n",
    "print(f'el coseno de x=0.2 para k=2 usando series de taylor es: {cos_x}')  \n",
    "\n",
    "#comparación \n",
    "cos_x1=1-(x**2/mth.factorial(2))+(x**4/mth.factorial(4))\n",
    "print(f'el coseno de x=0.2 para k=2 usando series de taylor expandida es: {cos_x1}')"
   ]
  },
  {
   "cell_type": "markdown",
   "id": "uAGSR9fYlupQ",
   "metadata": {
    "id": "uAGSR9fYlupQ"
   },
   "source": [
    "2) crear una funcion cos_taylor(x,k) que acepta dos parametros x y k y vuelve valor de cos(x) para dado numero de termos k\n",
    "* (intenta con x=0.2 y k=2 para comparar con resultado de punto 1)"
   ]
  },
  {
   "cell_type": "code",
   "execution_count": 2,
   "id": "dWqO9WXdlv9H",
   "metadata": {
    "id": "dWqO9WXdlv9H"
   },
   "outputs": [],
   "source": [
    "def cos_taylor(x,k):\n",
    "  cos_x=0\n",
    "  for i in range(0,k+1):\n",
    "    cos_x+=(((-1)**i)*((x)**(2*i)))/mth.factorial(2*i)\n",
    "  return cos_x  "
   ]
  },
  {
   "cell_type": "code",
   "execution_count": 3,
   "id": "djLgF30Wl7_3",
   "metadata": {
    "colab": {
     "base_uri": "https://localhost:8080/"
    },
    "id": "djLgF30Wl7_3",
    "outputId": "bac1df5b-f1ac-49c1-a20d-5a4ed80848a7"
   },
   "outputs": [
    {
     "data": {
      "text/plain": [
       "0.9800666666666666"
      ]
     },
     "execution_count": 3,
     "metadata": {},
     "output_type": "execute_result"
    }
   ],
   "source": [
    "cos_taylor(0.2,2)"
   ]
  },
  {
   "cell_type": "markdown",
   "id": "_eVxOLaTmCsy",
   "metadata": {
    "id": "_eVxOLaTmCsy"
   },
   "source": [
    "3) crear un vector xvec que tiene 100 elementos en rango de $-\\pi$: $\\pi$ y usando loop for para cada elemento de este vector llama la funcion cos_taylor(x,k) y guarda resultados en una lista \"cos_approx=[]\" usando methodo append (cos_approx.append()). usa valor de k=3 \n",
    "* (pista sobre loop: for x in xvec:...)"
   ]
  },
  {
   "cell_type": "code",
   "execution_count": 4,
   "id": "Gh2TqiGemFX0",
   "metadata": {
    "id": "Gh2TqiGemFX0"
   },
   "outputs": [],
   "source": [
    "import numpy as np\n",
    "\n",
    "xvec=np.linspace(-np.pi, np.pi, 100)\n",
    "cos_approx=[]\n",
    "\n",
    "for j in xvec:\n",
    "  cos_approx.append(cos_taylor(j,3))\n"
   ]
  },
  {
   "cell_type": "markdown",
   "id": "afTZB70qnH-y",
   "metadata": {
    "id": "afTZB70qnH-y"
   },
   "source": [
    "4) hacer visualizacion de dos curvas en mismo plot:\n",
    "* xvec vs cos_approx (label: Taylor approximation)\n",
    "* xvec vs np.cos(xvec) (label: cos(x))\n",
    "* usa labels para cada curva"
   ]
  },
  {
   "cell_type": "code",
   "execution_count": 5,
   "id": "B53__PgknMV_",
   "metadata": {
    "colab": {
     "base_uri": "https://localhost:8080/",
     "height": 350
    },
    "id": "B53__PgknMV_",
    "outputId": "ac32e461-e043-4cb7-d6a8-ffcf7186fe93"
   },
   "outputs": [
    {
     "data": {
      "image/png": "[encoded data removed]",
      "text/plain": [
       "<Figure size 504x360 with 1 Axes>"
      ]
     },
     "metadata": {
      "needs_background": "light"
     },
     "output_type": "display_data"
    }
   ],
   "source": [
    "import matplotlib.pyplot as plt\n",
    "\n",
    "fig, ax = plt.subplots(1,1,figsize=(7,5))\n",
    "ax.plot(xvec,cos_approx,'--r',label='Taylor approximation')\n",
    "ax.plot(xvec,np.cos(xvec),'-b',label='cos(x)')\n",
    "ax.legend()\n",
    "ax.set_title('Approximation cos(x)')\n",
    "ax.set_xlabel('x')\n",
    "ax.set_ylabel('cos(x)')\n",
    "ax.grid()"
   ]
  },
  {
   "cell_type": "markdown",
   "id": "varying-colorado",
   "metadata": {
    "id": "varying-colorado"
   },
   "source": [
    "*la formula completa de approximacion\n",
    "<table><tr>\n",
    "<td> <img src=\"imgs/maclaurin_cos.png\" width=\"400\" /> </td>\n",
    "</tr></table>"
   ]
  },
  {
   "cell_type": "code",
   "execution_count": 4,
   "id": "solar-contractor",
   "metadata": {},
   "outputs": [],
   "source": [
    "# Comentarios:\n",
    "\n",
    "# Exercise 1:\n",
    "#   compilation (max: 2.5p):                    2.5p   \n",
    "#   correctness of the result (max: 2.5p):      2.5p \n",
    "#   implementation of the function (max: 2.5p): 2.5p \n",
    "#   plot (max: 2.5p):                           2.5p \n",
    "\n",
    "# TOTAL:                                        10p (out of 10p)  "
   ]
  },
  {
   "cell_type": "code",
   "execution_count": null,
   "id": "major-exclusive",
   "metadata": {},
   "outputs": [],
   "source": []
  }
 ],
 "metadata": {
  "colab": {
   "name": "examen_parcial_1.ipynb",
   "provenance": []
  },
  "kernelspec": {
   "display_name": "Python 3",
   "language": "python",
   "name": "python3"
  },
  "language_info": {
   "codemirror_mode": {
    "name": "ipython",
    "version": 3
   },
   "file_extension": ".py",
   "mimetype": "text/x-python",
   "name": "python",
   "nbconvert_exporter": "python",
   "pygments_lexer": "ipython3",
   "version": "3.7.2"
  }
 },
 "nbformat": 4,
 "nbformat_minor": 5
}
