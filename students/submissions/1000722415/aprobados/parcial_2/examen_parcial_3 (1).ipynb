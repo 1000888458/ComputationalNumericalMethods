{
 "cells": [
  {
   "cell_type": "markdown",
   "id": "Roxn2cXHSATc",
   "metadata": {
    "id": "Roxn2cXHSATc"
   },
   "source": [
    "<p> \n",
    "<center>\n",
    "<img src=\"https://drive.google.com/uc?id=1GkJc15QvDRudsBwF9Oq7d4Op1_tt2sBW\"\n",
    "width=\"350\" height=\"120\"> \n",
    "</center>\n",
    "<h1><b><center> \n",
    "Computational methods </center></b></h1>\n",
    "<h3><b><i><center>Parcial III</center><i></b><h3>\n",
    "<h4><i><center>Juanita Andrea Agudelo</center></i><h4>\n",
    "<h4><center>30 Marzo 2022</center><h4>"
   ]
  },
  {
   "cell_type": "markdown",
   "id": "plain-rugby",
   "metadata": {
    "id": "plain-rugby"
   },
   "source": [
    "# Examen parcial 3 (calculo numerico y algebra lineal)\n",
    "* Antes de enviar el archivo, $\\textbf{reiniciar y ejecutar el kernel}$ para ver que el archivo se compila sin errores\n",
    "* enviar el archivo jupyter sin anexos antes de las 10.10am del 30.03.2022 a mi dirección de correo electrónico: michal.hemmerling@udea.edu.co "
   ]
  },
  {
   "cell_type": "markdown",
   "id": "usual-washer",
   "metadata": {
    "id": "usual-washer"
   },
   "source": [
    "# Ejercicio 1"
   ]
  },
  {
   "cell_type": "markdown",
   "id": "pretty-conference",
   "metadata": {
    "id": "pretty-conference"
   },
   "source": [
    "El archivo $\\textbf{data_radius_density.csv}$ contiene dos columnas: radio ($ r $) y la densidad ($ \\rho (r) $) de un disco plano en función del radio\n",
    "\n",
    "El disco es lo suficientemente delgado como para que, con fines matemáticos, podamos tratarlo como un objeto bidimensional. Asumimos que la densidad se da en términos de masa por unidad de área (llamada densidad de área), y además asumimos que la densidad varía solo a lo largo del radio del disco (llamada densidad radial). Orientamos el disco en el plano xy, con el centro en el origen. Entonces, la densidad del disco puede ser tratada como una función de x, denotada $\\rho(x)$.\n",
    "<table><tr>\n",
    "<td> <img src=\"disk_radius_density.png\" width=\"500\" /> </td>\n",
    "</tr></table>   \n",
    "\n",
    "* a) importar los datos usando Pandas, graficar la densidad del disco frente a su radio (los gráficos deben tener etiquetas para el eje `x` y el eje `y`).\n",
    "\n",
    "* b) sabiendo que la masa del disco viene dada por una integral:\n",
    "$$ m = \\int_0^{r} 2 \\pi \\ r * \\rho (r) \\ dr $$\n",
    "     calcular la masa del disco mediante integración numérica\n",
    "\n",
    "* Pista:`x`: is radius and `y`: is ***integrand***\n"
   ]
  },
  {
   "cell_type": "code",
   "execution_count": 28,
   "id": "valuable-august",
   "metadata": {
    "colab": {
     "base_uri": "https://localhost:8080/",
     "height": 295
    },
    "id": "valuable-august",
    "outputId": "cd712397-9920-464d-fb57-7f27e93feeec"
   },
   "outputs": [
    {
     "data": {
      "image/png": "[encoded data removed]",
      "text/plain": [
       "<Figure size 432x288 with 1 Axes>"
      ]
     },
     "metadata": {
      "needs_background": "light"
     },
     "output_type": "display_data"
    }
   ],
   "source": [
    "import pandas as pd\n",
    "import numpy as np\n",
    "import matplotlib.pyplot as plt\n",
    "\n",
    "df = pd.read_csv(\"data_radius_density.csv\")\n",
    " \n",
    "plt.plot(df['radius'], df['density'], '.c')\n",
    "plt.title('Disk radius and their density')\n",
    "plt.xlabel('Radius')\n",
    "plt.ylabel('Density')\n",
    "plt.grid()"
   ]
  },
  {
   "cell_type": "markdown",
   "id": "Jnyr2fQmQm2D",
   "metadata": {
    "id": "Jnyr2fQmQm2D"
   },
   "source": [
    "Se realiza la integral del conjunto de datos en este caso de radio y densidad mediante el método de trapzoide haciendo uso de la librería scipy. Como se requiere calcular la masa y la masa viene dada por la siguiente integral \n",
    "$$ m = \\int_0^{r} 2 \\pi \\ r * \\rho (r) \\ dr $$\n",
    "debemos calcular el Y haciendo uso de la integral de la masa.\n",
    "\n",
    "$$Y=2 \\pi \\ r * \\rho (r)$$\n",
    "\n",
    "Usando los datos de densidad y radio proporcionados en el ejercicio. "
   ]
  },
  {
   "cell_type": "code",
   "execution_count": 29,
   "id": "kuYP4RznAZ1F",
   "metadata": {
    "colab": {
     "base_uri": "https://localhost:8080/"
    },
    "id": "kuYP4RznAZ1F",
    "outputId": "0f2ddbf2-645c-408c-b96c-380533042c48"
   },
   "outputs": [
    {
     "name": "stdout",
     "output_type": "stream",
     "text": [
      "La masa del disco:  80.42728369193307 Kg\n"
     ]
    }
   ],
   "source": [
    "import scipy\n",
    "\n",
    "y=[]\n",
    "for i in range(len(df['radius'])):\n",
    "  y.append(2*np.pi*df['radius'][i]*df['density'][i])\n",
    "\n",
    "I_trapz=scipy.integrate.trapz(y,df['radius'])\n",
    "\n",
    "print('La masa del disco: ', I_trapz, 'Kg')"
   ]
  },
  {
   "cell_type": "markdown",
   "id": "handy-obligation",
   "metadata": {
    "id": "handy-obligation"
   },
   "source": [
    "# Ejercicio 2"
   ]
  },
  {
   "cell_type": "markdown",
   "id": "broken-belfast",
   "metadata": {
    "id": "broken-belfast"
   },
   "source": [
    "La capacidad calorífica de un gas muy frío se puede aproximar mediante:\n",
    "\n",
    "$$ C_v \\approx \\left (\\frac{dP}{dT} \\right) $$\n",
    "(en las unidades de $ \\left [\\frac {J} {K} \\right] $)\n",
    "\n",
    "Donde $P$ es la presión $ [J / s^3] $ del gas y $ T \\ [K] $ es la temperatura del gas.\n",
    "\n",
    "Los datos para la presión frente a la temperatura se dan en el archivo csv ($ \\textbf{data_pressure_vs_temperature.csv} $).\n",
    "\n",
    "* a) importar los datos usando pandas\n",
    "* b) hacer un gráfico de $P$ vs $T$ (grafico tiene que tener etiquietas)\n",
    "* c) utilizando la derivada numérica, encuentre la capacidad calorífica.\n",
    "* d) hacer un gráfico de $C_v$ vs $T$ (grafico tiene que tener etiquietas)\n",
    "* e) usando el ultimo grafico hace una estimacion de Temperatura Critica de este gas (Temperatura Critica es Temperatura de cambio abrupto del comportamiento de Capacidad Termica)\n",
    "* f) hace interpolacion cubica (100 puntos) de los valores de pression $P$, repite puntos `c)` y `d)`\n",
    "\n",
    "*gas muy frío se refiere a un gas Bose no homogéneo, y la teoría que relaciona $ C_v $ y $ P $ se refiere a la Teoría de Variables Globales Termodinámicas. La presión en realidad se llama parámetro de presión."
   ]
  },
  {
   "cell_type": "code",
   "execution_count": 30,
   "id": "written-adrian",
   "metadata": {
    "colab": {
     "base_uri": "https://localhost:8080/",
     "height": 295
    },
    "id": "written-adrian",
    "outputId": "07aab328-9dd5-47b7-a339-3ac280fa6a13"
   },
   "outputs": [
    {
     "data": {
      "image/png": "[encoded data removed]",
      "text/plain": [
       "<Figure size 432x288 with 1 Axes>"
      ]
     },
     "metadata": {
      "needs_background": "light"
     },
     "output_type": "display_data"
    }
   ],
   "source": [
    "df2 = pd.read_csv(\"data_pressure_vs_temparature.csv\")\n",
    "\n",
    "plt.plot(df2['Temperature'], df2['Pressure'], '.r')\n",
    "plt.title('Temperature vs pressure')\n",
    "plt.xlabel('Temperature [K]')\n",
    "plt.ylabel('Pressure [$J/s^3$]')\n",
    "plt.grid()"
   ]
  },
  {
   "cell_type": "markdown",
   "id": "D0PcpRacPNYM",
   "metadata": {
    "id": "D0PcpRacPNYM"
   },
   "source": [
    "Como se tiene un conjunto de datos, en este caso de temperatura y presión, se realiza el cálculo para encontrar la capacidad calorífica usando el método gradient de la librería numpy, el cual calcula la derivada o gradiente del conjunto de datos "
   ]
  },
  {
   "cell_type": "code",
   "execution_count": 31,
   "id": "8jX3DwIYD4pX",
   "metadata": {
    "colab": {
     "base_uri": "https://localhost:8080/",
     "height": 312
    },
    "id": "8jX3DwIYD4pX",
    "outputId": "e5ae2f5f-8847-46d9-c415-a8697bd196ac"
   },
   "outputs": [
    {
     "name": "stdout",
     "output_type": "stream",
     "text": [
      "El valor máximo de la derivada (gradiente) es  1.1976979318858835e-09\n"
     ]
    },
    {
     "data": {
      "image/png": "[encoded data removed]",
      "text/plain": [
       "<Figure size 432x288 with 1 Axes>"
      ]
     },
     "metadata": {
      "needs_background": "light"
     },
     "output_type": "display_data"
    }
   ],
   "source": [
    "import matplotlib.pyplot as plt\n",
    "Derivate=np.gradient(df2['Pressure'], df2['Temperature'])\n",
    "\n",
    "plt.plot(df2['Temperature'], Derivate, '.b')\n",
    "plt.title('Cv vs Temperature')\n",
    "plt.xlabel('Temperature [K]')\n",
    "plt.ylabel('Cv [J/K]')\n",
    "plt.grid()\n",
    "\n",
    "#Para saber el valor máximo de Cv y encontrar el punto crítico de temperatura \n",
    "max_Derivate=np.max(Derivate)\n",
    "print('El valor máximo de la derivada (gradiente) es ', max_Derivate)"
   ]
  },
  {
   "cell_type": "markdown",
   "id": "1zR7GEuCH-3v",
   "metadata": {
    "id": "1zR7GEuCH-3v"
   },
   "source": [
    "Del gráfico anterior se observa que el valor de temperatura crítico del gas ocurre al rededor del punto (2.3e-7, 1.1976e-9). El valor crítico ocurre cuando existe un cambio abrupto en la dirección del gradiente."
   ]
  },
  {
   "cell_type": "markdown",
   "id": "nominated-beast",
   "metadata": {
    "id": "nominated-beast"
   },
   "source": [
    "# Ejercicio 3"
   ]
  },
  {
   "cell_type": "markdown",
   "id": "amended-french",
   "metadata": {
    "id": "amended-french"
   },
   "source": [
    "Dada es Matrix $S$:\n",
    "\n",
    "$$S=\n",
    "\\begin{bmatrix}\n",
    "1 &  -1 & -1 & -1\\\\\n",
    "-1 &  2 & 0 & 0\\\\\n",
    "-1 &  3 & 3 & 0 \\\\\n",
    "-1 &  0 & 1 & 4 \\\\\n",
    "\\end{bmatrix}$$\n",
    "\n",
    "\n",
    "a) calcular $S^5$ utilizando diagonalización.  \n",
    "\n",
    "b) crear una funcion `matrix_power(A,n)` que recive dos parametros: matrix $A$, y valor entero de la potencia $n$. Funcion tiene que devolver una matrix $M=A^n$ (usa diagonalizacion)"
   ]
  },
  {
   "cell_type": "code",
   "execution_count": 32,
   "id": "interested-joshua",
   "metadata": {
    "id": "interested-joshua"
   },
   "outputs": [],
   "source": [
    "S = np.array([[1,-1,-1,-1],\n",
    "              [-1,2,0,0],\n",
    "              [-1,3,3,0],\n",
    "              [-1,0,1,4]])"
   ]
  },
  {
   "cell_type": "code",
   "execution_count": 33,
   "id": "KXG3GR-iMnKr",
   "metadata": {
    "colab": {
     "base_uri": "https://localhost:8080/"
    },
    "id": "KXG3GR-iMnKr",
    "outputId": "9bafcb3c-e8e3-4c1f-b4b9-40b52bbb09c9"
   },
   "outputs": [
    {
     "name": "stdout",
     "output_type": "stream",
     "text": [
      "U =  [[-0.  1.  0.  0.]\n",
      " [ 0.  0.  0.  0.]\n",
      " [ 0. -0. -1. -1.]\n",
      " [ 1.  0.  0.  1.]]\n",
      "D =  [[5. 0. 0. 0.]\n",
      " [0. 0. 0. 0.]\n",
      " [0. 0. 2. 0.]\n",
      " [0. 0. 0. 3.]]\n",
      "UDU^-1 =  [[ 1. -1. -1. -1.]\n",
      " [-1.  2. -0.  0.]\n",
      " [-1.  3.  3.  0.]\n",
      " [-1.  0.  1.  4.]]\n"
     ]
    }
   ],
   "source": [
    "from numpy.linalg import *\n",
    "e, U = eig(S)\n",
    "D = np.diag(e,0)\n",
    "\n",
    "print('U = ',np.around(U).real)\n",
    "print('D = ',np.around(D).real)\n",
    "\n",
    "print('UDU^-1 = ', np.around(U@D@inv(U)).real)"
   ]
  },
  {
   "cell_type": "markdown",
   "id": "u2AGdbhPNTmC",
   "metadata": {
    "id": "u2AGdbhPNTmC"
   },
   "source": [
    "Como se espera $UDU^{-1} = S$, así, nos aseguramos que nuestro proceso de diagonalización se realizó de manera exitosa.\n",
    "\n",
    "Ahora, notemos que:\n",
    "\n",
    "$$S^{5} = (UDU^{-1})^{5}$$\n",
    "\n",
    "Lo que se puede expresar de manera equivalente como:\n",
    "\n",
    "$$S^{5} = UDU^{-1}UDU^{-1}UDU^{-1}UDU^{-1}UDU^{-1}$$\n",
    "\n",
    "Pero notemos que:\n",
    "\n",
    "$$S^{5} = UD\\underbrace{U^{-1}U}_{I}D\\underbrace{U^{-1}U}_{I}D\\underbrace{U^{-1}U}_{I}D\\underbrace{U^{-1}U}_{I}DU^{-1}$$\n",
    "\n",
    "Así, obtenemos que:\n",
    "\n",
    "$$S^{5} = UDDDDDU^{-1} = UD^{5}U^{-1}$$\n",
    "\n",
    "Esto facilita nuestro proceso ya que $D$ es una matriz diagonal por lo que su potencia está dada por elevar cada una de las componente de su diagonal a la potencia indicada:"
   ]
  },
  {
   "cell_type": "code",
   "execution_count": 34,
   "id": "hLC4t_WhM9id",
   "metadata": {
    "colab": {
     "base_uri": "https://localhost:8080/"
    },
    "id": "hLC4t_WhM9id",
    "outputId": "4fa8af36-c228-40ea-83d7-401adce76810"
   },
   "outputs": [
    {
     "name": "stdout",
     "output_type": "stream",
     "text": [
      "S^5 = U(D^5)U^-1 = \n",
      " [[  485.  -755.  -563.  -563.]\n",
      " [ -179.   280.   192.   192.]\n",
      " [ -675.  1201.   707.   464.]\n",
      " [-1027.  1448.  1275.  1518.]]\n"
     ]
    }
   ],
   "source": [
    "print('S^5 = U(D^5)U^-1 = \\n', np.around(U@D**5@inv(U)).real)"
   ]
  },
  {
   "cell_type": "markdown",
   "id": "gNIZS5OwNYhV",
   "metadata": {
    "id": "gNIZS5OwNYhV"
   },
   "source": [
    "Notemos que el precedimiento mostrado anteriormente para llegar a la potencia 5 de una matriz utilizando diagonalización se puede extender a cualquier potencia $n$, es decir:\n",
    "\n",
    "$$S^{n} = UD^{n}U^{-1}$$\n",
    "\n",
    "Así pues:"
   ]
  },
  {
   "cell_type": "code",
   "execution_count": 35,
   "id": "IyPQRTrqNGMQ",
   "metadata": {
    "id": "IyPQRTrqNGMQ"
   },
   "outputs": [],
   "source": [
    "def matrix_power(A,n):\n",
    " \n",
    "  e, U = eig(S)\n",
    "  D = np.diag(e,0)\n",
    "  \n",
    "  print('S^', n, '= U(D^',n,')U^-1 = \\n', np.around(U@D**n@inv(U)).real)"
   ]
  },
  {
   "cell_type": "code",
   "execution_count": 36,
   "id": "4FcNFsd7NLd3",
   "metadata": {
    "colab": {
     "base_uri": "https://localhost:8080/"
    },
    "id": "4FcNFsd7NLd3",
    "outputId": "827dd6a9-b69e-4ffb-f730-44ac92763a4c"
   },
   "outputs": [
    {
     "name": "stdout",
     "output_type": "stream",
     "text": [
      "S^ 5 = U(D^ 5 )U^-1 = \n",
      " [[  485.  -755.  -563.  -563.]\n",
      " [ -179.   280.   192.   192.]\n",
      " [ -675.  1201.   707.   464.]\n",
      " [-1027.  1448.  1275.  1518.]]\n"
     ]
    }
   ],
   "source": [
    "matrix_power(S,5)"
   ]
  },
  {
   "cell_type": "markdown",
   "id": "micro-professional",
   "metadata": {
    "id": "vStcuq24NM93"
   },
   "source": [
    "# Feedback:\n",
    "```\n",
    "Exercise 1.\n",
    "Importation of the data + labeled plot (rho vs. r)\t            (max 0.5p):\t0.5p\n",
    "Calculation of the integral                 \t\t              (max 1.5p):\t1.5p\n",
    "\n",
    "Exercise 2.\n",
    "Importation of the data + labeled plot P vs. T \t               (max 0.5p):\t0.5p\n",
    "Calculation of the derivative and plot Cv vs. T        \t\t   (max 2.0p):\t2.0p\n",
    "Approximation of the critical temperature                         (max 0.5p):\t0.5p\n",
    "Interpolation                                                     (max 1.0p):\t0.0p\n",
    "\n",
    "Exercise 3.\n",
    "Calculation of the M^n                                 \t       (max 2.0p):\t2.0p\n",
    "Function of the M^n                                    \t       (max 2.0p):\t2.0p\n",
    "\n",
    "- Total:                                                          (max 10.0p):   9.0p\n",
    "```"
   ]
  },
  {
   "cell_type": "code",
   "execution_count": null,
   "id": "smaller-birthday",
   "metadata": {},
   "outputs": [],
   "source": []
  }
 ],
 "metadata": {
  "colab": {
   "name": "examen_parcial_3.ipynb",
   "provenance": []
  },
  "kernelspec": {
   "display_name": "Python 3",
   "language": "python",
   "name": "python3"
  },
  "language_info": {
   "codemirror_mode": {
    "name": "ipython",
    "version": 3
   },
   "file_extension": ".py",
   "mimetype": "text/x-python",
   "name": "python",
   "nbconvert_exporter": "python",
   "pygments_lexer": "ipython3",
   "version": "3.7.2"
  }
 },
 "nbformat": 4,
 "nbformat_minor": 5
}
