{
 "cells": [
  {
   "cell_type": "markdown",
   "id": "VMhCmY2EofZ1",
   "metadata": {
    "id": "VMhCmY2EofZ1"
   },
   "source": [
    "<p> \n",
    "<img src=\"https://drive.google.com/uc?id=15e9jqlH6r33n0cd5s9LQGCmVg3gzlyNN\" align=\"left\" width=\"250\" height=\"300\" > \n",
    "<br>\n",
    "<h1><b><center>Computational Methods </center></b></h1>\n",
    "<h2><b><center>Parcial 4</center></b><h2>\n",
    "<h3><i><center>Juanita Andrea Agudelo</center></i><h2>\n",
    "<h3><i><center>1000722415</center></i><h2>\n",
    "<h5><b><center>8 Abril 2022</center></b><h5>"
   ]
  },
  {
   "cell_type": "markdown",
   "id": "impossible-command",
   "metadata": {
    "id": "impossible-command"
   },
   "source": [
    "# Examen parcial 4  $\\color{red}{\\text{(10p max)}}$ (Equaciones diferenciales)\n",
    "* Antes de enviar el archivo, $\\textbf{reiniciar y ejecutar el kernel}$ y ver que el archivo se compila sin errores\n",
    "* enviar el archivo jupyter sin anexos antes de las 10.20am del 08.04.2022 a mi dirección de correo electrónico: michal.hemmerling@udea.edu.co "
   ]
  },
  {
   "cell_type": "markdown",
   "id": "focused-michigan",
   "metadata": {
    "id": "focused-michigan"
   },
   "source": [
    "## Ejercicio 1. $\\color{red}{\\text{(3p)}}$ Equaciones diferenciales - problema de valor de limite (boundary value problem).\n",
    "\n",
    "Transporte de calor en un objeto puede ser escrito usando segunda orden equacion diferencial:\n",
    "$$\\frac{d^2T}{dx^2}=0.01T-0.2$$\n",
    "a) Usando `scipy.integrate.solve_bvp` resolver este equacion diferencial cumpliendo siguientes condiciones de limite:\n",
    "\n",
    "T(x=0)=40  \n",
    "T(x=10)=200\n",
    "\n",
    "b) Hace grafico de T(x) vs x (con etiquietas y legend) "
   ]
  },
  {
   "cell_type": "markdown",
   "id": "sized-liberty",
   "metadata": {
    "id": "sized-liberty"
   },
   "source": [
    "## Ejercicio 2.  $\\color{red}{\\text{(4p)}}$ Ecuaciones diferenciales - problema de valor inicial (initial value problem).\n",
    "\n",
    "La ley de Newton del enfriamiento tiene forma de ecuación diferencial\n",
    "\n",
    "$$\\frac{dy}{dt}=k(y-T_{amb}) $$\n",
    "\n",
    "\n",
    "donde:\n",
    "* y es la temperatura actual de un objeto\n",
    "* t es tiempo\n",
    "* k es un valor constante de enfriamiento\n",
    "* $T_{amb}$ es la temperatura del ambiente\n",
    "\n",
    "Digamos que una taza de café tiene una temperatura inicial de 90 centígrados y la temperatura ambiente es de 25 centígrados.\n",
    "\n",
    "a) usando `scipy.integrate.solve_ivp` resolver ecuación diferencial:\n",
    "\n",
    "* para el rango t: t=[0:60], [minutos] (use 100 puntos)\n",
    "* asumir k=-0.06\n",
    "\n",
    "b) Hace grafico de $y(t)$ vs $t$ (con leyenda)\n",
    "* si le gusta tomar café cuando está a más de 70 grados, ¿cuál es el tiempo máximo que puede esperar antes de beber el café (puede obtener índices usando `np.argwhere` para obtener un rango de temperatura más preciso)"
   ]
  },
  {
   "cell_type": "markdown",
   "id": "growing-acceptance",
   "metadata": {
    "id": "growing-acceptance"
   },
   "source": [
    "## Ejercicio 3.  $\\color{red}{\\text{(3p)}}$ Equaciones diferenciales - problema de valor de limite (boundary value problem).\n",
    "\n",
    "Los organizadores de un espectáculo de fuegos artificiales quieren que los fuegos exploten a 40 metros sobre el suelo 5 segundos después del lanzamiento. Encuentra la velocidad inicial del cohete. \n",
    "\n",
    "a) usar ecuacion diferencial segunda orden:\n",
    "\n",
    "$$\\frac{d^2y}{dt^2}= −g $$\n",
    "\n",
    "donde $y$ es altitud de cohete y,   \n",
    "\n",
    "b) hacer plot $y(t)$ vs $t$\n"
   ]
  },
  {
   "cell_type": "markdown",
   "id": "insured-suspect",
   "metadata": {
    "id": "insured-suspect"
   },
   "source": [
    "## Ejercicio 4 Ecuaciones diferenciales acopladas - problema de valor inicial `scipy.integrate.solve_ivp` $\\color{red}{\\text{(10p)}}$ o `otros metodos`  $\\color{red}{\\text{(7p)}}$\n",
    "\n",
    "Las ecuaciones de Lotka-Volterra, también conocidas como ecuaciones depredador-presa, son un par de ecuaciones de primer orden, no lineales, ecuaciones diferenciales utilizadas con frecuencia para describir la dinámica de los sistemas biológicos en los que interactúan dos especies, uno como depredador y el otro como presa. Las poblaciones cambian a través del tiempo de acuerdo con el par de ecuaciones:"
   ]
  },
  {
   "cell_type": "markdown",
   "id": "interesting-luxury",
   "metadata": {
    "id": "interesting-luxury"
   },
   "source": [
    "$$\\frac{dx}{dt}=x(\\color{red}{\\alpha}-\\color{red}{\\beta} y)$$\n",
    "$$\\frac{dy}{dt}=-y(\\color{red}{\\gamma}-\\color{red}{\\delta} x)$$"
   ]
  },
  {
   "cell_type": "markdown",
   "id": "compliant-potato",
   "metadata": {
    "id": "compliant-potato"
   },
   "source": [
    "Esa ecuación describiría la evolución de la población de conejos y zorros (condiciones perfectas)\n",
    "\n",
    "* x - numbero de conejos  \n",
    "* y - numbero de zorros\n",
    "\n",
    "* $\\color{red}{\\alpha, \\beta, \\gamma, \\delta }$ son parámetros que describen la interacción de las dos especies\n",
    "\n",
    "* $\\frac{dx}{dt}, \\frac{dy}{dt}$ representan las tasas de crecimiento de las dos poblaciones a lo largo del tiempo\n",
    "\n",
    "* $t$ es tiempo"
   ]
  },
  {
   "cell_type": "markdown",
   "id": "auburn-charlotte",
   "metadata": {
    "id": "auburn-charlotte"
   },
   "source": [
    "<img src=\"rabbits_foxes.png\" width=\"400\" />"
   ]
  },
  {
   "cell_type": "markdown",
   "id": "wrapped-edmonton",
   "metadata": {
    "id": "wrapped-edmonton"
   },
   "source": [
    "a) solucionar los ecuaciones diferenciales usando `scipy.integrate.solve_ivp` $\\color{red}{\\text{(10p)}}$ o `otros metodos`  $\\color{red}{\\text{(7p)}}$\n",
    "asumir: \n",
    "* $\\alpha, \\beta, \\gamma, \\delta = 1$\n",
    "* $x_{ini}=4$\n",
    "* $y_{ini}=2$\n",
    "* $t=0:30$ (unidades arbitrarias, asumir meses)\n",
    "\n",
    "b) hacer plot con dos curvas: $x$ vs. $t$ , $y$ vs. $t$   \n",
    "c) hacer plot $x vs y$  \n",
    "d) comentar sobre los dos plots  "
   ]
  },
  {
   "cell_type": "code",
   "execution_count": 1,
   "id": "Vxj83BaKZP2z",
   "metadata": {
    "id": "Vxj83BaKZP2z"
   },
   "outputs": [],
   "source": [
    "import numpy as np\n",
    "from scipy.integrate import odeint, solve_ivp\n",
    "import matplotlib.pyplot as plt"
   ]
  },
  {
   "cell_type": "code",
   "execution_count": 2,
   "id": "lasting-courtesy",
   "metadata": {
    "id": "lasting-courtesy"
   },
   "outputs": [],
   "source": [
    "def Lotka_Volterra(t, y):\n",
    "    dydx = np.array([0.0,\n",
    "                     0.0])\n",
    "    α=1.0\n",
    "    β=1.0\n",
    "    γ=1.0\n",
    "    δ=1.0\n",
    "    \n",
    "    dydx[0] = y[0] * (α - β * y[1])\n",
    "    dydx[1] = (-1) * y[1] * (γ - δ * y[0]) \n",
    "\n",
    "    return dydx   "
   ]
  },
  {
   "cell_type": "code",
   "execution_count": 3,
   "id": "2c65L-U0XQkO",
   "metadata": {
    "id": "2c65L-U0XQkO"
   },
   "outputs": [],
   "source": [
    "y0 = np.array([4.0,\n",
    "               2.0])\n",
    "\n",
    "t_span = (0.0, 30.0)\n",
    "t = np.arange(0.0, 30.0, 0.01)\n",
    "\n",
    "result_solve_ivp = solve_ivp(Lotka_Volterra, t_span, y0,\n",
    "                             method='LSODA', t_eval=t)"
   ]
  },
  {
   "cell_type": "code",
   "execution_count": 4,
   "id": "i-9X6DKkZUEt",
   "metadata": {
    "colab": {
     "base_uri": "https://localhost:8080/",
     "height": 312
    },
    "id": "i-9X6DKkZUEt",
    "outputId": "e9223f92-9e58-402f-e950-f4207ac9223e"
   },
   "outputs": [
    {
     "data": {
      "text/plain": [
       "<matplotlib.legend.Legend at 0x7f0beb2bc9d0>"
      ]
     },
     "execution_count": 4,
     "metadata": {},
     "output_type": "execute_result"
    },
    {
     "data": {
      "image/png": "[encoded data removed]",
      "text/plain": [
       "<Figure size 432x288 with 1 Axes>"
      ]
     },
     "metadata": {
      "needs_background": "light"
     },
     "output_type": "display_data"
    }
   ],
   "source": [
    "plt.plot( t, result_solve_ivp.y[0, :], 'r', label='Rabbits')\n",
    "plt.plot(t, result_solve_ivp.y[1, :], label='Foxes')\n",
    "plt.xlabel('Time')\n",
    "plt.ylabel('Population')  \n",
    "plt.title('Predator - deer Model')\n",
    "plt.grid()\n",
    "plt.legend()     "
   ]
  },
  {
   "cell_type": "markdown",
   "id": "AE3iyg3mi_i1",
   "metadata": {
    "id": "AE3iyg3mi_i1"
   },
   "source": [
    "Hay que tener en cuenta que el modelo presa - depredador de Lotka-Volterra tiene varias supociciones, por ejemplo, se supone que el depredador se alimenta exclusivamente de cierta presa entonces su alimentación depende totalmente del bienestar de la presa. También se supone cierta homogeneidad en el medio, es decir, que los cambios climáticos no afectan las interacciones de la presa ni del depredador, y por último que solo hay dos animales en la interracción, presa y depredador. Las ecuaciones que modelan el sistema son \n",
    "\n",
    "$$\\frac{dx}{dt}=x({\\alpha}-{\\beta} y)$$\n",
    "$$\\frac{dy}{dt}=-y({\\gamma}-{\\delta} x)$$\n",
    "\n",
    "$\\frac{dx}{dt}$ describe la taza de cambio en la poblacion de conejos \n",
    "\n",
    "$\\frac{dy}{dt}$ describe la taza de cambio en la poblacion de zorros\n",
    "\n",
    "Cada parámetro describe:\n",
    "\n",
    "$\\alpha:$ Natalidad de los conejos\n",
    "\n",
    "$\\beta:$ Probabilidad de que los zorros cacen a un conejo\n",
    "\n",
    "$\\gamma:$ tasa de decrecimiento de la población de zorros\n",
    "\n",
    "$\\delta:$ La couta de presas que necesita cada zorro para sobrevivir \n",
    "\n",
    "Para nuestro ejercicio, cada uno de los parámetros anteriores será igual a uno.\n",
    "\n",
    "Lo primero que podemos notar en la gráfica es que ambos gráficos tienen picos seguidos, una interpretación a este suceso es que a medida que crece la población de conejos, los zorros tienen mas alimento para consumir por ende su población también crece, pero cuando la población de zorros crece hasta una cantidad que iguale a la población de conejos entonces se va a suceder un decrecimiento en la población de conejos ya que hay mas depredadores que presas y al disminuir la población de conejos también disminuye la población de zorros. Estas interacciones se repiten de forma periódica y cíclica. \n",
    "\n",
    "Ahora bien, es observable que la altura de ambas gráficas, la azul y la roja, es la misma. Esto sucede ya que tomamos los parámetros de las ecuaciones iguales a uno. Si cambiamos el valor de estos parámetros, la altura de cada gráfico cambia ya que estos parametros modelan comportamientos mas específicos del sistema, como por ejemplo, la tasa de decrecimiento de la población de zorros. \n",
    "\n",
    "La periodicidad o interaccón cíclica del sistema se puede visualizar mejor en el siguiente gráfico: \n",
    " "
   ]
  },
  {
   "cell_type": "code",
   "execution_count": 5,
   "id": "lhJ-3KwaagMY",
   "metadata": {
    "colab": {
     "base_uri": "https://localhost:8080/",
     "height": 295
    },
    "id": "lhJ-3KwaagMY",
    "outputId": "4464e836-9470-46bf-d495-eeef2ced3284"
   },
   "outputs": [
    {
     "data": {
      "image/png": "[encoded data removed]",
      "text/plain": [
       "<Figure size 432x288 with 1 Axes>"
      ]
     },
     "metadata": {
      "needs_background": "light"
     },
     "output_type": "display_data"
    }
   ],
   "source": [
    "plt.plot(result_solve_ivp.y[0, :], result_solve_ivp.y[1, :])\n",
    "plt.title('Deer and Predator Population')\n",
    "plt.xlabel('Rabbits population')\n",
    "plt.ylabel('Foxes population')\n",
    "plt.grid()"
   ]
  },
  {
   "cell_type": "markdown",
   "id": "tGGrwmnSnyMm",
   "metadata": {
    "id": "tGGrwmnSnyMm"
   },
   "source": [
    "En este grafico se puede observar que a medida que aumenta la población de conejos aumenta la población de zorros y a medida que disminuye la población de conejos disminuye la de zorros de manera cíclica, esa es la razón de la forma del gráfico anterior. "
   ]
  },
  {
   "cell_type": "markdown",
   "id": "gentle-wesley",
   "metadata": {
    "id": "louB9NiQc_52"
   },
   "source": [
    "# Feedback:\n",
    "```\n",
    "Exercise 1.\n",
    "Solution + presentation of the results\t            (max 3.0p):\t0.0p\n",
    "\n",
    "Exercise 2.\n",
    "Solution + presentation of the results\t            (max 4.0p):\t0.0p\n",
    "\n",
    "Exercise 3.\n",
    "Solution + presentation of the results\t            (max 3.0p):\t0.0p\n",
    "\n",
    "Exercise 4 ODEINT.\n",
    "Solution + presentation of the results\t            (max 7.0p):\t0.0p\n",
    "\n",
    "Exercise 4 IVP.\n",
    "Solution + presentation of the results\t            (max 10.0p):  10.0p\n",
    "\n",
    "\n",
    "\n",
    "- Total:                                              (max 10.0p):   10.0p\n",
    "```"
   ]
  },
  {
   "cell_type": "code",
   "execution_count": null,
   "id": "quarterly-horror",
   "metadata": {},
   "outputs": [],
   "source": []
  }
 ],
 "metadata": {
  "colab": {
   "name": "examen_parcial_4_1_Juanita.ipynb",
   "provenance": []
  },
  "kernelspec": {
   "display_name": "Python 3",
   "language": "python",
   "name": "python3"
  },
  "language_info": {
   "codemirror_mode": {
    "name": "ipython",
    "version": 3
   },
   "file_extension": ".py",
   "mimetype": "text/x-python",
   "name": "python",
   "nbconvert_exporter": "python",
   "pygments_lexer": "ipython3",
   "version": "3.7.2"
  }
 },
 "nbformat": 4,
 "nbformat_minor": 5
}
