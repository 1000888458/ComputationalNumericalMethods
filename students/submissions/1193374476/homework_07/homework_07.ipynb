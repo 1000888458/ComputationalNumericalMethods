{
  "nbformat": 4,
  "nbformat_minor": 0,
  "metadata": {
    "colab": {
      "name": "homework_07.ipynb",
      "provenance": []
    },
    "kernelspec": {
      "name": "python3",
      "display_name": "Python 3"
    },
    "language_info": {
      "name": "python"
    }
  },
  "cells": [
    {
      "cell_type": "code",
      "execution_count": 1,
      "metadata": {
        "id": "8D-rgy4G13JC"
      },
      "outputs": [],
      "source": [
        "#Importamos Librerias\n",
        "\n",
        "import numpy as np\n",
        "from scipy import integrate"
      ]
    },
    {
      "cell_type": "code",
      "source": [
        "#Definimos la función\n",
        "\n",
        "def integral_monte_carlo_1D(f,a,b,N):\n",
        "    R = 0                                                                       # Se inicializa la sumatoria\n",
        "    for i in range(N):\n",
        "        x = np.random.uniform(a,b)                                              # Se crea una variable aleatoria uniforme\n",
        "        R = R+f(x)                                                              # Se evalúa el valor de x en la función\n",
        "    R = R/N                                                                     # El valor de la integral en términos de la cantidad de rectángulos\n",
        "    return np.mean(R)*(b-a)"
      ],
      "metadata": {
        "id": "tnTrve0815S-"
      },
      "execution_count": 2,
      "outputs": []
    }
  ]
}