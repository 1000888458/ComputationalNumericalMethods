{
  "nbformat": 4,
  "nbformat_minor": 5,
  "metadata": {
    "kernelspec": {
      "display_name": "Python 3",
      "language": "python",
      "name": "python3"
    },
    "language_info": {
      "codemirror_mode": {
        "name": "ipython",
        "version": 3
      },
      "file_extension": ".py",
      "mimetype": "text/x-python",
      "name": "python",
      "nbconvert_exporter": "python",
      "pygments_lexer": "ipython3",
      "version": "3.7.2"
    },
    "colab": {
      "name": "Tarea 2 P2",
      "provenance": []
    }
  },
  "cells": [
    {
      "cell_type": "markdown",
      "metadata": {
        "id": "adolescent-sally"
      },
      "source": [
        "## Exercise 2: Lists"
      ],
      "id": "adolescent-sally"
    },
    {
      "cell_type": "markdown",
      "metadata": {
        "id": "prime-undergraduate"
      },
      "source": [
        "### Este codigo abajo importa un libro entero a un string que se llama \"book\""
      ],
      "id": "prime-undergraduate"
    },
    {
      "cell_type": "code",
      "metadata": {
        "id": "documentary-museum",
        "outputId": "92def5f7-2074-4971-a129-d6b367b21b30"
      },
      "source": [
        "## Challange:\n",
        "## List comprehenions are not necessary for this challenge\n",
        "\n",
        "from urllib.request import urlopen\n",
        "response = urlopen('https://www.gutenberg.org/files/74/74-0.txt')\n",
        "book = str(response.read())\n",
        "book.find('HARTFORD, 1876.')"
      ],
      "id": "documentary-museum",
      "execution_count": null,
      "outputs": [
        {
          "data": {
            "text/plain": [
              "10396"
            ]
          },
          "execution_count": 4,
          "metadata": {},
          "output_type": "execute_result"
        }
      ]
    },
    {
      "cell_type": "code",
      "metadata": {
        "id": "metropolitan-magazine",
        "outputId": "9b370f0f-34a2-47d8-8aad-ab9ba18d9bd6"
      },
      "source": [
        "print(len(book))"
      ],
      "id": "metropolitan-magazine",
      "execution_count": null,
      "outputs": [
        {
          "name": "stdout",
          "output_type": "stream",
          "text": [
            "510671\n"
          ]
        }
      ]
    },
    {
      "cell_type": "code",
      "metadata": {
        "id": "adaptive-elder",
        "outputId": "58a8d5c7-4898-4cf6-da85-8fd305774acc"
      },
      "source": [
        "print(book[14:100])"
      ],
      "id": "adaptive-elder",
      "execution_count": null,
      "outputs": [
        {
          "name": "stdout",
          "output_type": "stream",
          "text": [
            "The Project Gutenberg eBook of The Adventures of Tom Sawyer, by Mark Twain\\r\\n\\r\\nThis\n"
          ]
        }
      ]
    },
    {
      "cell_type": "markdown",
      "metadata": {
        "id": "continuing-metabolism"
      },
      "source": [
        "### Siguiendo el material de la clase pasada hacer un plot de occurencia de un caracter (Jim o Tom o Huck) de libro atraves de los capitulos\n"
      ],
      "id": "continuing-metabolism"
    },
    {
      "cell_type": "code",
      "metadata": {
        "colab": {
          "base_uri": "https://localhost:8080/"
        },
        "id": "aFhjD0f0MpLu",
        "outputId": "f513a264-dd47-4968-9832-ccd7d304f00e"
      },
      "source": [
        "from urllib.request import urlopen\n",
        "response = urlopen('https://www.gutenberg.org/files/74/74-0.txt')\n",
        "book = str(response.read())\n",
        "book.find('Jim')\n"
      ],
      "id": "aFhjD0f0MpLu",
      "execution_count": null,
      "outputs": [
        {
          "output_type": "execute_result",
          "data": {
            "text/plain": [
              "5454"
            ]
          },
          "metadata": {},
          "execution_count": 2
        }
      ]
    }
  ]
}