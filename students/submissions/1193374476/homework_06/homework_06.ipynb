{
  "nbformat": 4,
  "nbformat_minor": 0,
  "metadata": {
    "colab": {
      "name": "homework_6.ipynb",
      "provenance": []
    },
    "kernelspec": {
      "name": "python3",
      "display_name": "Python 3"
    },
    "language_info": {
      "name": "python"
    }
  },
  "cells": [
    {
      "cell_type": "code",
      "execution_count": 2,
      "metadata": {
        "id": "2CbTwa9vgPd0"
      },
      "outputs": [],
      "source": [
        "def function(x):\n",
        "    return x**6"
      ]
    },
    {
      "cell_type": "code",
      "source": [
        "def deriv(function, a, method, h):\n",
        "    if method == 'central':\n",
        "        return (function(a+h)-function(a-h))/(2*h)\n",
        "    elif method == 'forward':\n",
        "        return (function(a+h)-function(a))/h\n",
        "    elif method == 'backward':\n",
        "        return (function(a)-function(a-h))/h\n",
        "    else:\n",
        "        raise ValueError('The method is invalid')\n",
        "\n"
      ],
      "metadata": {
        "id": "EE5iJw4AhL14"
      },
      "execution_count": 3,
      "outputs": []
    },
    {
      "cell_type": "code",
      "source": [
        "deriv(function,2.0,'forward',0.1),deriv(function,2.0,'backward',0.1),deriv(function,2.0,'central',0.1)"
      ],
      "metadata": {
        "colab": {
          "base_uri": "https://localhost:8080/"
        },
        "id": "Rf3E8WYChs-8",
        "outputId": "2449812c-d7e1-42d8-e79f-1d2f8fc88bbe"
      },
      "execution_count": 5,
      "outputs": [
        {
          "output_type": "execute_result",
          "data": {
            "text/plain": [
              "(217.66121000000027, 169.5411900000001, 193.60120000000018)"
            ]
          },
          "metadata": {},
          "execution_count": 5
        }
      ]
    }
  ]
}