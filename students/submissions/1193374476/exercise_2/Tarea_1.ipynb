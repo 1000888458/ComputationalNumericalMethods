{
 "cells": [
  {
   "cell_type": "markdown",
   "id": "super-silicon",
   "metadata": {
    "id": "super-silicon"
   },
   "source": [
    "# Exercicios sobre numeros :"
   ]
  },
  {
   "cell_type": "markdown",
   "id": "environmental-observation",
   "metadata": {
    "id": "environmental-observation"
   },
   "source": [
    "#### 1. Imprime primero 10 numeros naturales (1,2,3,4,5,6,7,8,9,10) usando \"for loop\" y print ()"
   ]
  },
  {
   "cell_type": "code",
   "execution_count": 1,
   "id": "executive-austria",
   "metadata": {
    "colab": {
     "base_uri": "https://localhost:8080/"
    },
    "id": "executive-austria",
    "outputId": "389d4a31-f705-4af9-cbbe-22d469987120"
   },
   "outputs": [
    {
     "name": "stdout",
     "output_type": "stream",
     "text": [
      "1\n",
      "2\n",
      "3\n",
      "4\n",
      "5\n",
      "6\n",
      "7\n",
      "8\n",
      "9\n",
      "10\n"
     ]
    }
   ],
   "source": [
    "for n in range(1,11):\n",
    "      print(n)\n"
   ]
  },
  {
   "cell_type": "markdown",
   "id": "loving-george",
   "metadata": {
    "id": "loving-george"
   },
   "source": [
    "#### 2. Imprime primero 10 numeros naturales (1,2,3,4,5,6,7,8,9,10)  usando \"while loop\" y print ()"
   ]
  },
  {
   "cell_type": "code",
   "execution_count": 2,
   "id": "manufactured-international",
   "metadata": {
    "colab": {
     "base_uri": "https://localhost:8080/"
    },
    "id": "manufactured-international",
    "outputId": "e6c6df35-82d4-4d12-9f30-6e470123fa87"
   },
   "outputs": [
    {
     "name": "stdout",
     "output_type": "stream",
     "text": [
      "1\n",
      "2\n",
      "3\n",
      "4\n",
      "5\n",
      "6\n",
      "7\n",
      "8\n",
      "9\n",
      "10\n"
     ]
    }
   ],
   "source": [
    "i = 1\n",
    "while (i < 11):\n",
    "    print(i)\n",
    "    i = i + 1"
   ]
  },
  {
   "cell_type": "markdown",
   "id": "beginning-marine",
   "metadata": {
    "id": "beginning-marine"
   },
   "source": [
    "#### 3. Calcular la soma de numeros (1+2+3+4+5+6+7+8+9+10) usando \"for loop\" y guarda resultado en variable \"my_result\""
   ]
  },
  {
   "cell_type": "code",
   "execution_count": 3,
   "id": "neither-segment",
   "metadata": {
    "colab": {
     "base_uri": "https://localhost:8080/"
    },
    "id": "neither-segment",
    "outputId": "d6247538-b304-401a-faa5-7452880e2c74"
   },
   "outputs": [
    {
     "name": "stdout",
     "output_type": "stream",
     "text": [
      "La suma de numeros impares de 0 a 10 = 55\n"
     ]
    }
   ],
   "source": [
    "k = 0\n",
    "\n",
    "for n in range(0,11):\n",
    "   k = k + n\n",
    " \n",
    "my_result= k\n",
    "\n",
    "print(\"La suma de numeros impares de 0 a {0} = {1}\".format(n, k))\n"
   ]
  },
  {
   "cell_type": "markdown",
   "id": "indoor-roots",
   "metadata": {
    "id": "indoor-roots"
   },
   "source": [
    "#### 4. Calcular la soma de numeros (1+2+3+4+5+6+7+8+9+10) usando \"while loop\" y guardar resultado en variable \"my_result\""
   ]
  },
  {
   "cell_type": "code",
   "execution_count": 4,
   "id": "infrared-respondent",
   "metadata": {
    "colab": {
     "base_uri": "https://localhost:8080/"
    },
    "id": "infrared-respondent",
    "outputId": "c5c1df10-b960-47c6-e692-a4cf8779e2d3"
   },
   "outputs": [
    {
     "name": "stdout",
     "output_type": "stream",
     "text": [
      "La suma de numeros impares de 0 a 10 = 55\n"
     ]
    }
   ],
   "source": [
    "n = 10\n",
    "count = 0\n",
    "sum = 0\n",
    "while count <= n:\n",
    "    sum = sum+count\n",
    "    count = count + 1\n",
    "\n",
    "my_result = sum\n",
    "\n",
    "print(\"La suma de numeros impares de 0 a {0} = {1}\".format(n, sum))"
   ]
  },
  {
   "cell_type": "markdown",
   "id": "polished-reason",
   "metadata": {
    "id": "polished-reason"
   },
   "source": [
    "#### 5. Calcular la soma de numeros par (2+4+6+8+10.. + ...100) usando \"for loop\" y guardar resultado en variable \"my_result\" (pista: usa condicion \"if\" y \"%\")"
   ]
  },
  {
   "cell_type": "code",
   "execution_count": 5,
   "id": "asian-publisher",
   "metadata": {
    "colab": {
     "base_uri": "https://localhost:8080/"
    },
    "id": "asian-publisher",
    "outputId": "bd3ac87c-d526-4008-968d-0d594c23e3c5"
   },
   "outputs": [
    {
     "name": "stdout",
     "output_type": "stream",
     "text": [
      "La suma de numeros pares de 0 a 100 = 2550\n"
     ]
    }
   ],
   "source": [
    "sum = 0\n",
    "m = 100\n",
    " \n",
    "for i in range(1,m+1):\n",
    "  if i % 2 == 0:\n",
    "    sum += i\n",
    "\n",
    "my_result = sum\n",
    "\n",
    "\n",
    "print(\"La suma de numeros pares de 0 a {0} = {1}\".format(m, sum))"
   ]
  },
  {
   "cell_type": "markdown",
   "id": "accepted-jacksonville",
   "metadata": {
    "id": "accepted-jacksonville"
   },
   "source": [
    "#### 6. Calcular la soma de numeros impar (1+3+5+7+9+... + ...99) usando \"while loop\" y guardar resultado en variable \"my_result\" (pista: usa condicion \"if\" y \"%\")"
   ]
  },
  {
   "cell_type": "code",
   "execution_count": 6,
   "id": "assigned-parameter",
   "metadata": {
    "colab": {
     "base_uri": "https://localhost:8080/"
    },
    "id": "assigned-parameter",
    "outputId": "fb57fa3b-59f6-4332-ebb3-c323e0bd1f3e"
   },
   "outputs": [
    {
     "name": "stdout",
     "output_type": "stream",
     "text": [
      "La suma de numeros impares de 0 a 100 = 2500\n"
     ]
    }
   ],
   "source": [
    "n = 100\n",
    "sum = 0\n",
    "init = 1\n",
    " \n",
    "while init <= n:\n",
    "    if(init % 2 != 0):\n",
    "        sum = sum + init\n",
    "    init = init + 1\n",
    "\n",
    "my_result = sum\n",
    "\n",
    "print(\"La suma de numeros impares de 0 a {0} = {1}\".format(n, sum))\n"
   ]
  },
  {
   "cell_type": "markdown",
   "id": "crucial-treat",
   "metadata": {
    "id": "crucial-treat"
   },
   "source": [
    "#### 7. Definir una function que se llama func_sum_even_odd(b) que recibe un parametro \"b\" - valor numerico. La funcion calcula soma de numeros pares y numeros impares separamente entre 0 y b (los dos valores incluidos) . La funcion guarda resultados en dos variables en sum_even, sum_odd y devuelve ambos usando \"return\". (usa metodo: while)\n",
    "\n",
    "ejemplo de ejecucion:   \n",
    "sum_even,sum_odd = func_sum_even_odd(10)  \n",
    "print(sum_even,sum_odd)  \n",
    "30,25  \n",
    "\n",
    "#### Pero si \"b\" no es ni integer ni float funcion devuelve sum_even=0,y sum_odd=0 y imprime mensaje: \"argument must be an integer or float\"   (usa: \"isinstance\" o negacion de isinstance: \"not isinstance\" conjunto con operador logico \"or\" para verificar si el argumento es int of float)\n",
    "\n",
    "ejemplo de ejecucion:  \n",
    "sum_even,sum_odd = func_sum_even_odd('z')  \n",
    "\"argument must be an integer or float\"  "
   ]
  },
  {
   "cell_type": "code",
   "execution_count": 7,
   "id": "comparative-corruption",
   "metadata": {
    "colab": {
     "base_uri": "https://localhost:8080/"
    },
    "id": "comparative-corruption",
    "outputId": "81fa80b7-af90-42f0-cf36-756ba72e530d"
   },
   "outputs": [
    {
     "name": "stdout",
     "output_type": "stream",
     "text": [
      "(30, 25)\n"
     ]
    }
   ],
   "source": [
    "def sum_even_odd(b):\n",
    "    i=1\n",
    "    sum_odd=0\n",
    "    sum_even=0\n",
    "    if not(isinstance(b,int)) and not(isinstance(b,float)):\n",
    "        return \"argument must be an integer or float\"\n",
    "    while i<=b:\n",
    "        if i%2==0:\n",
    "            sum_even+=i\n",
    "        else:\n",
    "            sum_odd+=i\n",
    "        i+=1\n",
    "    return sum_even,sum_odd\n",
    "\n",
    "print(sum_even_odd(10.1))"
   ]
  },
  {
   "cell_type": "markdown",
   "id": "contemporary-exemption",
   "metadata": {
    "id": "contemporary-exemption"
   },
   "source": [
    "#### 8. Modifica funcion anterior y usa conjunto: try:... except:... (mira arriva en el texto de la classe)\n",
    "try:   \n",
    "--->intenta hacer si no sale error  \n",
    "except:  \n",
    "--->hace otra cosa si sale error    "
   ]
  },
  {
   "cell_type": "code",
   "execution_count": 8,
   "id": "dominican-tomato",
   "metadata": {
    "colab": {
     "base_uri": "https://localhost:8080/"
    },
    "id": "dominican-tomato",
    "outputId": "1831f0c3-f6e6-4e6a-eac7-63513f23bf25"
   },
   "outputs": [
    {
     "ename": "TypeError",
     "evalue": "sum_even_odd() missing 1 required positional argument: 'b'",
     "output_type": "error",
     "traceback": [
      "\u001b[0;31m---------------------------------------------------------------------------\u001b[0m",
      "\u001b[0;31mTypeError\u001b[0m                                 Traceback (most recent call last)",
      "\u001b[0;32m<ipython-input-8-7fc8f221f71b>\u001b[0m in \u001b[0;36m<module>\u001b[0;34m\u001b[0m\n\u001b[1;32m     17\u001b[0m        \u001b[0mprint\u001b[0m\u001b[0;34m(\u001b[0m\u001b[0;34m\"an error have ocurred\"\u001b[0m\u001b[0;34m)\u001b[0m\u001b[0;34m\u001b[0m\u001b[0;34m\u001b[0m\u001b[0m\n\u001b[1;32m     18\u001b[0m \u001b[0;34m\u001b[0m\u001b[0m\n\u001b[0;32m---> 19\u001b[0;31m \u001b[0mprint\u001b[0m\u001b[0;34m(\u001b[0m\u001b[0msum_even_odd\u001b[0m\u001b[0;34m(\u001b[0m\u001b[0;34m)\u001b[0m\u001b[0;34m)\u001b[0m\u001b[0;34m\u001b[0m\u001b[0;34m\u001b[0m\u001b[0m\n\u001b[0m",
      "\u001b[0;31mTypeError\u001b[0m: sum_even_odd() missing 1 required positional argument: 'b'"
     ]
    }
   ],
   "source": [
    "def sum_even_odd(b):\n",
    "    i=1\n",
    "    sum_odd=0\n",
    "    sum_even=0\n",
    "    if not(isinstance(b,int)) and not(isinstance(b,float)):\n",
    "        return \"argument must be an integer or float\"\n",
    "    try:\n",
    "     while i<=b:\n",
    "         if i%2==0:\n",
    "             sum_even+=i\n",
    "         else:\n",
    "             sum_odd+=i\n",
    "         i+=1\n",
    "     return sum_even,sum_odd\n",
    "\n",
    "    except:\n",
    "       print(\"an error have ocurred\")\n",
    "\n",
    "print(sum_even_odd())"
   ]
  }
 ],
 "metadata": {
  "colab": {
   "collapsed_sections": [],
   "name": "Tarea 1",
   "provenance": []
  },
  "kernelspec": {
   "display_name": "Python 3",
   "language": "python",
   "name": "python3"
  },
  "language_info": {
   "codemirror_mode": {
    "name": "ipython",
    "version": 3
   },
   "file_extension": ".py",
   "mimetype": "text/x-python",
   "name": "python",
   "nbconvert_exporter": "python",
   "pygments_lexer": "ipython3",
   "version": "3.7.2"
  }
 },
 "nbformat": 4,
 "nbformat_minor": 5
}
