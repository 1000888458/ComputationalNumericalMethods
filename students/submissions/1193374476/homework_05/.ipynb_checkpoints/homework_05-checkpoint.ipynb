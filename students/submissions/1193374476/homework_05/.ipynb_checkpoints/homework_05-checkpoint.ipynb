{
 "cells": [
  {
   "cell_type": "code",
   "execution_count": 1,
   "metadata": {
    "id": "EjJ9e7HdQzQr"
   },
   "outputs": [],
   "source": [
    "#Tarea 5 \n",
    "\n",
    "\n",
    "def cuadratic_interp(x,y,xinterp):                                                       \n",
    "\n",
    "    b0 = y[0]                                                                             \n",
    "\n",
    "    b1 = (y[1]-y[0])/(x[1]-x[0])\n",
    "\n",
    "    b2 = (((y[2]-y[1])/(x[2]-x[1]))-b1)/(x[2]-x[0])\n",
    "\n",
    "    Interpolation = b0+b1*(xinterp-x[0])+b2*(xinterp-x[0])*(xinterp-x[1])\n",
    "    \n",
    "    return Interpolation\n",
    "\n",
    "\n"
   ]
  }
 ],
 "metadata": {
  "colab": {
   "name": "homework_5.ipynb",
   "provenance": []
  },
  "kernelspec": {
   "display_name": "Python 3",
   "language": "python",
   "name": "python3"
  },
  "language_info": {
   "codemirror_mode": {
    "name": "ipython",
    "version": 3
   },
   "file_extension": ".py",
   "mimetype": "text/x-python",
   "name": "python",
   "nbconvert_exporter": "python",
   "pygments_lexer": "ipython3",
   "version": "3.7.2"
  }
 },
 "nbformat": 4,
 "nbformat_minor": 1
}
