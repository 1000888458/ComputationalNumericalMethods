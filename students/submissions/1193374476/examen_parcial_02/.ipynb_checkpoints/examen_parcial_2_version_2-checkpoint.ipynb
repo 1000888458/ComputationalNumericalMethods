{
 "cells": [
  {
   "cell_type": "markdown",
   "id": "plain-rugby",
   "metadata": {
    "id": "plain-rugby"
   },
   "source": [
    "# Examen parcial 2 (raizes y ~interpolacion)\n",
    "* Antes de enviar el archivo, $\\textbf{reiniciar y ejecutar el kernel}$ para ver que el archivo se compila sin errores\n",
    "* enviar el archivo jupyter sin anexos antes de las 10.10am del 04.03.2022 a mi dirección de correo electrónico: michal.hemmerling@udea.edu.co "
   ]
  },
  {
   "cell_type": "markdown",
   "id": "usual-washer",
   "metadata": {
    "id": "usual-washer"
   },
   "source": [
    "# Ejercicio"
   ]
  },
  {
   "cell_type": "markdown",
   "id": "complete-chester",
   "metadata": {
    "id": "complete-chester"
   },
   "source": [
    "Bajo ciertas condiciones, los dispositivos ópticos como los láseres pueden mostrar un comportamiento complejo en el perfil del rayo de luz.\n",
    "\n",
    "\n",
    "<table><tr>\n",
    "<td> <img src=\"nonlinear_behaviour.png\" width=\"600\" /> </td>\n",
    "</tr></table>\n",
    " \n",
    "Para un dispositivo óptico particular que consiste en un medio no lineal dentro de una cavidad óptica, esto sólo ocurre cuando la intensidad I se encuentra dentro de un cierto rango que está dado por la ecuación: \n",
    "\n",
    "$$f(x)=(x+1)^2 - c(x-1) < 0 $$\n",
    "\n",
    "donde $x$ es la intensidad del campo eléctrico y $c$ es la fuerza de la absorción del \n",
    "medio no lineal. "
   ]
  },
  {
   "cell_type": "markdown",
   "id": "pretty-conference",
   "metadata": {
    "id": "pretty-conference"
   },
   "source": [
    "## 1. \n",
    "Cree una función llamada `f_cost` que reciba dos parámetros (x,c) y solo devuelva la función f(x) como se mencionó anteriormente."
   ]
  },
  {
   "cell_type": "code",
   "execution_count": 27,
   "id": "valuable-august",
   "metadata": {
    "id": "valuable-august"
   },
   "outputs": [],
   "source": [
    "# tu codigo:\n",
    "\n",
    "def f_cost(x,c):\n",
    "    return ((x+1)**2)-c*(x-1)\n",
    "\n"
   ]
  },
  {
   "cell_type": "code",
   "execution_count": 31,
   "id": "87ZZ5RfEI8VU",
   "metadata": {
    "id": "87ZZ5RfEI8VU"
   },
   "outputs": [],
   "source": [
    "import scipy.optimize as optimize\n",
    "import numpy as np\n",
    "import matplotlib.pyplot as plt"
   ]
  },
  {
   "cell_type": "markdown",
   "id": "broken-belfast",
   "metadata": {
    "id": "broken-belfast"
   },
   "source": [
    "## 2. \n",
    "Usando funcion `f_cost` haz un gráfico con cuatro curvas para c=5,10,15,20 y con x entre -10,20 (50 puntos)\n",
    "* hacer que cada curva sea de un color diferente\n",
    "* añadir etiquetas"
   ]
  },
  {
   "cell_type": "code",
   "execution_count": 37,
   "id": "written-adrian",
   "metadata": {
    "colab": {
     "base_uri": "https://localhost:8080/",
     "height": 312
    },
    "id": "written-adrian",
    "outputId": "7e16ec5b-62be-4396-a134-038f802bbac7"
   },
   "outputs": [
    {
     "data": {
      "text/plain": [
       "Text(0, 0.5, 'Comportamiento')"
      ]
     },
     "execution_count": 37,
     "metadata": {},
     "output_type": "execute_result"
    },
    {
     "data": {
      "image/png": "[encoded data removed]",
      "text/plain": [
       "<Figure size 432x288 with 1 Axes>"
      ]
     },
     "metadata": {
      "needs_background": "light"
     },
     "output_type": "display_data"
    }
   ],
   "source": [
    "# tu codigo:\n",
    "\n",
    "\n",
    "x=np.linspace(-10,20,50)\n",
    "fig,ax = plt.subplots(1,1)\n",
    "ax.plot(x,f_cost(x,5),'.k')\n",
    "ax.plot(x,f_cost(x,10),'.b')\n",
    "ax.plot(x,f_cost(x,15),'.r')\n",
    "ax.plot(x,f_cost(x,20),'.y')\n",
    "ax.grid('True')\n",
    "plt.title(\"Perfil de Rayo de Luz (C=5)\", \n",
    "          fontdict={'family': 'serif', \n",
    "                    'color' : 'black',\n",
    "                    'weight': 'bold'})\n",
    "\n",
    "plt.xlabel(\"Intensidad del campo electrico\" )\n",
    "plt.ylabel(\"Comportamiento\")"
   ]
  },
  {
   "cell_type": "markdown",
   "id": "dietary-steel",
   "metadata": {
    "id": "dietary-steel"
   },
   "source": [
    "## 2a. Para cual `c` esta funcion no tiene raices?"
   ]
  },
  {
   "cell_type": "code",
   "execution_count": 63,
   "id": "handy-teaching",
   "metadata": {
    "colab": {
     "base_uri": "https://localhost:8080/"
    },
    "id": "handy-teaching",
    "outputId": "1dc2e48d-ae7c-4810-f0ea-be856bd6ea05"
   },
   "outputs": [
    {
     "name": "stdout",
     "output_type": "stream",
     "text": [
      "nan\n"
     ]
    }
   ],
   "source": [
    "# tu respuesta\n",
    "\n",
    "c= 5\n",
    "\n",
    "try:\n",
    "  root = optimize.newton(f_cost, 1,args=(c,))\n",
    "except:\n",
    "  root=np.nan\n",
    "print(root)\n",
    "\n",
    "#Como se puede observar, falla al converger hacia un valor especifico, por ende para c=5 la funcion no tiene raices."
   ]
  },
  {
   "cell_type": "markdown",
   "id": "hollywood-respondent",
   "metadata": {
    "id": "hollywood-respondent"
   },
   "source": [
    "## 3. \n",
    "Cree una función llamada `root_finding()` que devuelva el valor de la raíz (si existiera) para cada parametro `c` (pense `Newton` o `bisecion`). Usando esta funcion vamos a buscar primero raiz izquierda y despues raiz derecha."
   ]
  },
  {
   "cell_type": "code",
   "execution_count": 64,
   "id": "korean-mistake",
   "metadata": {
    "id": "korean-mistake"
   },
   "outputs": [],
   "source": [
    "# tu codigo:\n",
    "\n",
    "\n",
    "def root_finding(f_cost,start,c): \n",
    "    try:\n",
    "        root = optimize.newton(f_cost, start,args=(c,))\n",
    "    except:\n",
    "        root=np.nan\n",
    "    return root\n",
    "\n"
   ]
  },
  {
   "cell_type": "markdown",
   "id": "improving-vault",
   "metadata": {
    "id": "improving-vault"
   },
   "source": [
    "## 4a. \n",
    "Primero vamos a mirar el comportamiento de raiz de lado izquierda: Defina el vector `c_vec` que contiene 50 valores de 5 a 100. En el loop, llame a la función `root_finding()` para cada valor `c` en el vector `c_vec`. Guarda los resultados en variable `left_roots`"
   ]
  },
  {
   "cell_type": "code",
   "execution_count": 83,
   "id": "aging-binary",
   "metadata": {
    "colab": {
     "base_uri": "https://localhost:8080/"
    },
    "id": "aging-binary",
    "outputId": "708efaf8-de87-4f79-baaa-b9397f477d47"
   },
   "outputs": [
    {
     "name": "stdout",
     "output_type": "stream",
     "text": [
      "[nan, nan, 2.0432017969337366, 1.648529803597468, 1.4835873667158805, 1.3881330453918561, 1.3250010644640304, 1.2798858084347267, 1.2459379331025728, 1.2194238886080733, 1.198121475305182, 1.180620256095696, 1.1659797430445376, 1.1535477166378112, 1.1428571428571428, 1.1335645419651614, 1.125411519703276, 1.118199873373322, 1.1117749793372864, 1.1060144086771908, 1.1008199427305063, 1.0961118576172002, 1.0918247580755427, 1.087904490947587, 1.0843058248747457, 1.0809906827739744, 1.077926779103681, 1.0750865575996467, 1.0724463548328165, 1.0699857354333249, 1.0676869591920624, 1.0655345504635667, 1.063514947646537, 1.0616162158746472, 1.0598278099956069, 1.0581403778521943, 1.056545596084575, 1.0550360323451062, 1.0536050290948533, 1.052246605135765, 1.0509553717967868, 1.049726461289723, 1.0485554652208313, 1.0474383816164656, 1.0463715691176874, 1.0453517072363814, 1.0443757617568101, 1.0434409545214791, 1.0425447369662688, 1.0416847668727875]\n"
     ]
    }
   ],
   "source": [
    "# tu codigo:\n",
    "\n",
    "c_vec=np.linspace(5,100,50)\n",
    "left_roots=[]\n",
    "start=0\n",
    "\n",
    "for c in c_vec:\n",
    "    try:\n",
    "        root = root_finding(f_cost,start,c)\n",
    "    except:\n",
    "        root=np.nan\n",
    "        \n",
    "    left_roots.append(root)\n",
    "\n",
    "print(left_roots)"
   ]
  },
  {
   "cell_type": "markdown",
   "id": "another-jacksonville",
   "metadata": {
    "id": "another-jacksonville"
   },
   "source": [
    "## 4b \n",
    "Hacer un gráfico de raíz izquierda vs c"
   ]
  },
  {
   "cell_type": "code",
   "execution_count": 89,
   "id": "impaired-miniature",
   "metadata": {
    "colab": {
     "base_uri": "https://localhost:8080/",
     "height": 296
    },
    "id": "impaired-miniature",
    "outputId": "20fee956-cec7-44ea-cd7c-2e62f7d0546c"
   },
   "outputs": [
    {
     "data": {
      "text/plain": [
       "Text(0, 0.5, 'Raiz Izquierda')"
      ]
     },
     "execution_count": 89,
     "metadata": {},
     "output_type": "execute_result"
    },
    {
     "data": {
      "image/png": "[encoded data removed]",
      "text/plain": [
       "<Figure size 432x288 with 1 Axes>"
      ]
     },
     "metadata": {
      "needs_background": "light"
     },
     "output_type": "display_data"
    }
   ],
   "source": [
    "# tu codigo:\n",
    "\n",
    "import numpy as np\n",
    "import matplotlib.pyplot as plt\n",
    "fig,ax = plt.subplots(1,1)\n",
    "ax.scatter(c_vec,left_roots,s=10,c='r')\n",
    "ax.grid('True')\n",
    "ax.set_xlabel('C')\n",
    "ax.set_ylabel('Raiz Izquierda')\n"
   ]
  },
  {
   "cell_type": "markdown",
   "id": "seasonal-seafood",
   "metadata": {
    "id": "seasonal-seafood"
   },
   "source": [
    "## 5a. \n",
    "Ahora vamos a mirar el comportamiento de raiz de lado derecha: Defina el vector `c_vec` que contiene 50 valores de 5 a 100. En el loop, llame a la función `root_finding()` para cada valor `c` en el vector `c_vec`. Guarda los resultados en variable `right_roots`."
   ]
  },
  {
   "cell_type": "code",
   "execution_count": 85,
   "id": "mobile-finger",
   "metadata": {
    "colab": {
     "base_uri": "https://localhost:8080/"
    },
    "id": "mobile-finger",
    "outputId": "4b30db6e-1bdd-453e-ea68-40e01cd650d8"
   },
   "outputs": [
    {
     "name": "stdout",
     "output_type": "stream",
     "text": [
      "[nan, nan, 4.834349223474424, 7.167796727014783, 9.271514674100445, 11.305744505628551, 13.307651996760457, 15.291542762993851, 17.264266148530055, 19.22955570322866, 21.18963362673563, 23.1459103561492, 25.09932637940444, 27.050533916015247, 29.0, 30.948068111096056, 32.894996643562024, 34.840983800096076, 36.78618420433619, 38.73072028520036, 40.67469026135112, 42.61817385666851, 44.56123646641426, 46.503932243746284, 48.44630642002323, 50.388397072328075, 52.330236486202445, 54.271852217910556, 56.21326793088147, 58.15450406048505, 60.09557834693039, 62.036506265862975, 63.97730137888406, 65.91797562086008, 67.85853953694317, 69.79900247929066, 71.73937277126238, 73.67965784520591, 75.61986435866025, 77.55999829282342, 79.50006503636646, 81.44006945707764, 83.38001596335059, 85.31990855715904, 87.25975087986191, 89.19954625194728, 91.13929770763093, 93.07900802507037, 95.01867975282966, 96.9583152331272]\n"
     ]
    }
   ],
   "source": [
    "# tu codigo:\n",
    "\n",
    "c_vec=np.linspace(5,100,50)\n",
    "right_roots=[]\n",
    "start=100\n",
    "\n",
    "for c in c_vec:\n",
    "    try:\n",
    "        root = root_finding(f_cost,start,c)\n",
    "    except:\n",
    "        root=np.nan\n",
    "        \n",
    "    right_roots.append(root)\n",
    "\n",
    "print(right_roots)"
   ]
  },
  {
   "cell_type": "markdown",
   "id": "direct-wrestling",
   "metadata": {
    "id": "direct-wrestling"
   },
   "source": [
    "## 5b\n",
    "* Hacer un gráfico de raíz derecha vs c"
   ]
  },
  {
   "cell_type": "code",
   "execution_count": 88,
   "id": "forty-importance",
   "metadata": {
    "colab": {
     "base_uri": "https://localhost:8080/",
     "height": 298
    },
    "id": "forty-importance",
    "outputId": "6f62565e-3060-4ede-ca70-d675db10798d"
   },
   "outputs": [
    {
     "data": {
      "text/plain": [
       "Text(0, 0.5, 'Raiz Derecha')"
      ]
     },
     "execution_count": 88,
     "metadata": {},
     "output_type": "execute_result"
    },
    {
     "data": {
      "image/png": "[encoded data removed]",
      "text/plain": [
       "<Figure size 432x288 with 1 Axes>"
      ]
     },
     "metadata": {
      "needs_background": "light"
     },
     "output_type": "display_data"
    }
   ],
   "source": [
    "# tu codigo:\n",
    "\n",
    "import numpy as np\n",
    "import matplotlib.pyplot as plt\n",
    "fig,ax = plt.subplots(1,1)\n",
    "ax.scatter(c_vec,right_roots,s=10,c='b')\n",
    "ax.grid('True')\n",
    "ax.set_xlabel('C')\n",
    "ax.set_ylabel('Raiz Derecha')"
   ]
  },
  {
   "cell_type": "markdown",
   "id": "portuguese-martial",
   "metadata": {
    "id": "portuguese-martial"
   },
   "source": [
    "## 6. \n",
    "Pregunta:\n",
    "* este cierto *rango* para cual se obtiene un comportamiento complejo esta convergente o divergente cuando `c` es creciente\n",
    "* si este rango esta convergiendo, ¿a qué valor?\n",
    "* si este rango esta divergente, como esta divergente (lineal, cuadrático, diferente)"
   ]
  },
  {
   "cell_type": "code",
   "execution_count": null,
   "id": "stretch-hypothetical",
   "metadata": {
    "id": "stretch-hypothetical"
   },
   "outputs": [],
   "source": [
    "# respuesta:\n",
    "# [0,20]\n",
    "# Se encuentra convergiendo a 1\n",
    "# Lineal\n",
    "#\n",
    "#"
   ]
  },
  {
   "cell_type": "markdown",
   "id": "ordinary-interval",
   "metadata": {},
   "source": [
    "# Feedback:\n",
    "\n",
    "`Correct implementation of the f_cost function + labeled plot \t  (max 2.0p):\t2.0p`\n",
    "`Correct implementation of the root finding function \t\t       (max 2.0p):\t2.0p`\n",
    "`Correct result of the evolution of the left roots (+ plot)\t     (max 2.0p):\t2.0p`\n",
    "`Correct result of the evolution of the right roots (+ plot)\t    (max 2.0p):\t2.0p`\n",
    "`Correct conclusion of the range behavious\t\t\t              (max 2.0p):\t2.0p`\n",
    "\n",
    "`- Total:                                                          (max 10.0p):   10.0p`\n",
    "`"
   ]
  },
  {
   "cell_type": "code",
   "execution_count": null,
   "id": "wound-madagascar",
   "metadata": {},
   "outputs": [],
   "source": []
  }
 ],
 "metadata": {
  "colab": {
   "name": "examen_parcial_2_version_2.ipynb",
   "provenance": []
  },
  "kernelspec": {
   "display_name": "Python 3",
   "language": "python",
   "name": "python3"
  },
  "language_info": {
   "codemirror_mode": {
    "name": "ipython",
    "version": 3
   },
   "file_extension": ".py",
   "mimetype": "text/x-python",
   "name": "python",
   "nbconvert_exporter": "python",
   "pygments_lexer": "ipython3",
   "version": "3.7.2"
  }
 },
 "nbformat": 4,
 "nbformat_minor": 5
}
