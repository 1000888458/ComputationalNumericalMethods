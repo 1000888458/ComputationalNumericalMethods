{
  "nbformat": 4,
  "nbformat_minor": 0,
  "metadata": {
    "colab": {
      "name": "homework_07.ipynb",
      "provenance": []
    },
    "kernelspec": {
      "name": "python3",
      "display_name": "Python 3"
    },
    "language_info": {
      "name": "python"
    }
  },
  "cells": [
    {
      "cell_type": "markdown",
      "source": [
        "## Homework 07\n",
        "\n",
        "Create a notebook: ***homework_07.ipynb*** and inside make function:\n",
        "\n",
        "a function called `integral_monte_carlo_1D(integrand,lim1,lim2,N)` (with that order) that receives four parameters: integrand (function), limit1, limit2 and number of iterations `N`, and returns the value of `I` (just the numerical value)  \n",
        "*use vectorized form of the calculations\n",
        "\n",
        "Test your funcion on the following integral:\n",
        "\n",
        "$$\\int_{0}^{4} \\sqrt[4]{15 x^3 + 21x^2 + 41x + 3} \\cdot e^{-0.5x} dx$$\n",
        "\n",
        " where the integrand is\n",
        "$$f(x)=\\sqrt[4]{15 x^3 + 21x^2 + 41x + 3} \\cdot e^{-0.5x}$$\n",
        "\n",
        "compare with the scipy.integrate.quad results\n"
      ],
      "metadata": {
        "id": "6A3x1w-KPk8T"
      }
    },
    {
      "cell_type": "code",
      "execution_count": 7,
      "metadata": {
        "id": "4prRoQd_PW2v"
      },
      "outputs": [],
      "source": [
        "def integrand(x):\n",
        "  import numpy as np\n",
        "\n",
        "  return ((15*x**3+21*x**2+41*x+3)**(1/4))*np.exp(-0.5*x)\n",
        "\n",
        "\n",
        "def integral_monte_carlo_1D(integrand,lim1,lim2,N):\n",
        "  import numpy as np\n",
        "  \n",
        "  E = 0\n",
        "  x = np.random.uniform(lim1,lim2,N)\n",
        "  I = np.mean(integrand(x))*(lim2-lim1)\n",
        "  return I"
      ]
    },
    {
      "cell_type": "code",
      "source": [
        "#function\n",
        "integral_monte_carlo_1D(integrand, 0, 4, 100000)"
      ],
      "metadata": {
        "colab": {
          "base_uri": "https://localhost:8080/"
        },
        "id": "o1wV1eXLQwKG",
        "outputId": "cd02b9e6-d0ff-4626-88f1-e44c173c899b"
      },
      "execution_count": 9,
      "outputs": [
        {
          "output_type": "execute_result",
          "data": {
            "text/plain": [
              "5.767167544782838"
            ]
          },
          "metadata": {},
          "execution_count": 9
        }
      ]
    },
    {
      "cell_type": "code",
      "source": [
        "#scipy\n",
        "from scipy import integrate\n",
        "I,error = integrate.quad(integrand,0,4)\n",
        "print(I)"
      ],
      "metadata": {
        "colab": {
          "base_uri": "https://localhost:8080/"
        },
        "id": "ZHQXEFWRSRBy",
        "outputId": "a66d6879-d875-4433-f097-c40efb16cf54"
      },
      "execution_count": 3,
      "outputs": [
        {
          "output_type": "stream",
          "name": "stdout",
          "text": [
            "5.767433490695931\n"
          ]
        }
      ]
    }
  ]
}