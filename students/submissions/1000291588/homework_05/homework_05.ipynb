{
 "cells": [
  {
   "cell_type": "markdown",
   "id": "d2812cb5-8aaa-4a91-bdeb-e96c0065aeab",
   "metadata": {
    "tags": []
   },
   "source": [
    "### Homework5 (testing new idea of ):\n",
    "* ***this is the right way to program - just making functions and classes and calling them***!!!\n",
    "\n",
    "\n",
    "\n",
    "* create notebook called: homework_5.ipynb (no spaces please)\n",
    "\n",
    "* inside write a function: `cuadratic_interp(x,y,xinterp)`:\n",
    "\n",
    "`cuadratic_interp(x,y,xinterp)` accepts three elements (vector `x`, vector `y` and float `xinterp` to be interpolated) an returns `yinterp`  value of the interpolated point `xinterp`\n",
    "\n",
    "\n",
    "* ***similar problem will be in the next partial***!!!\n",
    "* ***remember the function must not print anything, just return a single value***!!!"
   ]
  },
  {
   "cell_type": "markdown",
   "id": "e66d855f-fe3f-48ad-aa91-87fc2739e0e0",
   "metadata": {},
   "source": [
    "Analogically to the first order polynomial, the second order polynomial can be written as (cuadratic polynomial formula):\n",
    "\n",
    "$$f_1(x) = b_0 + b_1 (x-x_0)$$\n",
    "\n",
    "$$f_2(x) = b_0 + b_1 (x-x_0)  + b_2 (x-x_0) (x-x_1) $$\n",
    "\n",
    "Lets find $b_0, b_1, b_2$ looking at the polynomial above and substituting the values:\n",
    "\n",
    "\n",
    "* $$ \\text{at} \\quad x=x_0 \\quad f_2(x)=f(x_0)=b_0$$\n",
    "\n",
    "$$ \\rightarrow b_0 = f(x_0)$$\n",
    "\n",
    "* $$ \\text{at} \\quad x=x_1 \\quad f_2(x)=f(x_1)=b_0+b_1(x_1-x_0)$$\n",
    "\n",
    "$$ \\rightarrow b_1 = \\frac{f(x_1)-f(x_0)}{x_1-x_0}$$\n",
    "\n",
    "* $$ \\text{at} \\quad x=x_2 \\quad f_2(x)=f(x_2)=b_0 + b_1 (x_2-x_0)  + b_2 (x_2-x_0) (x_2-x_1)$$\n",
    "\n",
    "$$\\rightarrow b_2 = \\frac{\\frac{f(x_2) - f(x_1)}{x_2 - x_1} - \\frac{f(x_1) - f(x_0)}{x_1 - x_0}}{x_2-x_0}$$"
   ]
  },
  {
   "cell_type": "code",
   "execution_count": 1,
   "id": "d6e2b507-b758-40d8-93c4-5b8cc994a6ff",
   "metadata": {},
   "outputs": [],
   "source": [
    "import numpy as np\n",
    "def cuadratic_interp(x,y,xinterp):\n",
    "    b0 = y[0]\n",
    "    b1 = (y[1]-y[0])/(x[1]-x[0])\n",
    "    b2 = (((y[2]-y[1])/(x[2]-x[1]))-b1)/(x[2]-x[0])\n",
    "    yinterp = b0 + b1*(xinterp-x[0]) + b2*(xinterp-x[0])*(xinterp-x[1])\n",
    "    return yinterp\n"
   ]
  },
  {
   "cell_type": "code",
   "execution_count": 2,
   "id": "ca3b5b0c-8bbe-43ed-8d11-b26375c7068c",
   "metadata": {},
   "outputs": [
    {
     "data": {
      "text/plain": [
       "0.7057229629318404"
      ]
     },
     "execution_count": 2,
     "metadata": {},
     "output_type": "execute_result"
    }
   ],
   "source": [
    "cuadratic_interp(np.array([2,4,6]), np.array([np.log10(2),np.log10(4),np.log10(6)]), 5)"
   ]
  }
 ],
 "metadata": {
  "kernelspec": {
   "display_name": "Python 3",
   "language": "python",
   "name": "python3"
  },
  "language_info": {
   "codemirror_mode": {
    "name": "ipython",
    "version": 3
   },
   "file_extension": ".py",
   "mimetype": "text/x-python",
   "name": "python",
   "nbconvert_exporter": "python",
   "pygments_lexer": "ipython3",
   "version": "3.7.2"
  }
 },
 "nbformat": 4,
 "nbformat_minor": 5
}
