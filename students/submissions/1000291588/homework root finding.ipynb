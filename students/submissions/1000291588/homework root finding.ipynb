{
 "cells": [
  {
   "cell_type": "markdown",
   "id": "a29c489d-220b-4d6f-ab11-8859c65fa9ed",
   "metadata": {},
   "source": [
    "# TAREA PARA NAVIDAD: \n",
    "* hacer el mismo ejemplo y encuentra raiz para $f(x)=x^2 - 11$\n",
    "* construye su propia función de método de bisección usando el loop **while**\n",
    "* hacer plot de evolucion de approximacion (append results to an initially empty list of x_n)\n",
    "* construye su propia función de método Newton-Rapson usando el loop **while**\n",
    "* hacer plot de evolucion de approximacion (append results to an initially empty list of x_n)"
   ]
  },
  {
   "cell_type": "code",
   "execution_count": 1,
   "id": "9212ae95-acdb-478e-b128-41f2dd5ba3f8",
   "metadata": {},
   "outputs": [],
   "source": [
    "import numpy as np\n",
    "import sympy as sp\n",
    "from matplotlib import pyplot as plt"
   ]
  },
  {
   "cell_type": "markdown",
   "id": "c67a9175-6c7a-4724-872c-ee318e04c0b6",
   "metadata": {
    "tags": []
   },
   "source": [
    "## Bisection Method"
   ]
  },
  {
   "cell_type": "code",
   "execution_count": 2,
   "id": "64641b5c-3b8d-4abb-b1af-9a3909d90736",
   "metadata": {
    "tags": []
   },
   "outputs": [
    {
     "data": {
      "text/plain": [
       "3.31658935546875"
      ]
     },
     "execution_count": 2,
     "metadata": {},
     "output_type": "execute_result"
    }
   ],
   "source": [
    "#Loop while for bisection method\n",
    "x = sp.Symbol('x')\n",
    "x_n=[]\n",
    "\n",
    "def Bisection(f,a,b,tol):\n",
    "    xn = (a+b)/2\n",
    "    global x_n\n",
    "    while True:\n",
    "        if b-a<tol:\n",
    "            x_n.append(xn)\n",
    "            return xn\n",
    "        elif f.subs(x,a)*f.subs(x,xn)<0:\n",
    "            b=xn\n",
    "        else:\n",
    "            a=xn\n",
    "        xn = abs((a+b)/2)\n",
    "        x_n.append(xn)\n",
    "\n",
    "    return xn\n",
    "\n",
    "Bisection(x**2-11, 3, 17, 0.001)"
   ]
  },
  {
   "cell_type": "code",
   "execution_count": 3,
   "id": "cb1458bc-c562-471c-8cd3-a20c415a430a",
   "metadata": {},
   "outputs": [
    {
     "data": {
      "image/png": "[encoded data removed]",
      "text/plain": [
       "<Figure size 504x288 with 1 Axes>"
      ]
     },
     "metadata": {
      "needs_background": "light"
     },
     "output_type": "display_data"
    }
   ],
   "source": [
    "#Bisection method Approximation Plot for \n",
    "x = np.linspace(-10, 10, 100)\n",
    "yx = x**2-11 #if we have a different function (previously changed in Bisection), change this variable to that function\n",
    "y_n=[]\n",
    "\n",
    "for i in x_n:\n",
    "    y = i**2-11\n",
    "    y_n.append(y)\n",
    "\n",
    "fig, ax = plt.subplots(1,1,figsize=(7,4)) \n",
    "ax.plot(x, yx, '--b') #function\n",
    "ax.scatter(x_n, y_n, color='black') #approximation points\n",
    "\n",
    "#coordinate axes \n",
    "ax.spines.left.set_position('zero')\n",
    "ax.spines.right.set_color('none')\n",
    "ax.spines.bottom.set_position('zero')\n",
    "ax.spines.top.set_color('none')"
   ]
  },
  {
   "cell_type": "markdown",
   "id": "a2d70f6b-1f7d-47eb-875a-b2989efd756a",
   "metadata": {},
   "source": [
    "## Newton-Rapson method"
   ]
  },
  {
   "cell_type": "code",
   "execution_count": 4,
   "id": "11553409-2c8c-482f-9d00-fcc1ea5e9dc6",
   "metadata": {},
   "outputs": [],
   "source": [
    "from sympy import Float \n",
    "#Loop while for Newton-Rapson method\n",
    "x = sp.Symbol('x')\n",
    "x_n=[]\n",
    "\n",
    "def Newton_Rapson(f,xr,tol):\n",
    "    \n",
    "    derivate = sp.diff(f,x)\n",
    "    xn = xr-f.subs(x,xr)/derivate.subs(x,xr)\n",
    "    global x_n\n",
    "    while True:\n",
    "        if xr-xn<tol:\n",
    "            x_n.append(xn)\n",
    "            return xn \n",
    "        else:\n",
    "            xr=xn\n",
    "        xn = Float(xr-f.subs(x,xr)/derivate.subs(x,xr))\n",
    "        x_n.append(xn)\n",
    "    return xn\n"
   ]
  },
  {
   "cell_type": "code",
   "execution_count": 5,
   "id": "0ee70241-3578-4281-8ee5-a7cd2b464507",
   "metadata": {},
   "outputs": [
    {
     "data": {
      "text/latex": [
       "$\\displaystyle 3.31662479036886$"
      ],
      "text/plain": [
       "3.31662479036886"
      ]
     },
     "execution_count": 5,
     "metadata": {},
     "output_type": "execute_result"
    }
   ],
   "source": [
    "Newton_Rapson(x**2-11,16,0.0001)"
   ]
  },
  {
   "cell_type": "code",
   "execution_count": 6,
   "id": "d09666a3-2ffd-4a70-b2c6-abe0fe0ef2eb",
   "metadata": {},
   "outputs": [
    {
     "data": {
      "image/png": "[encoded data removed]",
      "text/plain": [
       "<Figure size 504x288 with 1 Axes>"
      ]
     },
     "metadata": {
      "needs_background": "light"
     },
     "output_type": "display_data"
    }
   ],
   "source": [
    "#Newton-Rapson method Approximation Plot\n",
    "x = np.linspace(-10, 10, 100)\n",
    "yx = x**2-11 #if we have a different function (previously changed in Newton-Rapson), change this variable to that function\n",
    "y_n=[]\n",
    "\n",
    "for i in x_n:\n",
    "    y = i**2-11\n",
    "    y_n.append(y)\n",
    "\n",
    "fig, ax = plt.subplots(1,1,figsize=(7,4)) \n",
    "ax.plot(x, yx, '--b') #function\n",
    "ax.scatter(x_n, y_n, color='black') #approximation points\n",
    "\n",
    "#cordinate axes\n",
    "ax.spines.left.set_position('zero')\n",
    "ax.spines.right.set_color('none')\n",
    "ax.spines.bottom.set_position('zero')\n",
    "ax.spines.top.set_color('none')"
   ]
  }
 ],
 "metadata": {
  "kernelspec": {
   "display_name": "Python 3 (ipykernel)",
   "language": "python",
   "name": "python3"
  },
  "language_info": {
   "codemirror_mode": {
    "name": "ipython",
    "version": 3
   },
   "file_extension": ".py",
   "mimetype": "text/x-python",
   "name": "python",
   "nbconvert_exporter": "python",
   "pygments_lexer": "ipython3",
   "version": "3.9.7"
  }
 },
 "nbformat": 4,
 "nbformat_minor": 5
}
