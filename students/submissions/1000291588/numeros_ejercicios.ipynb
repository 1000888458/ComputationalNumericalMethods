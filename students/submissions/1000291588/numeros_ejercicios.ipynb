{
 "cells": [
  {
   "cell_type": "markdown",
   "id": "super-silicon",
   "metadata": {},
   "source": [
    "# Exercicios sobre numeros :"
   ]
  },
  {
   "cell_type": "markdown",
   "id": "environmental-observation",
   "metadata": {},
   "source": [
    "#### 1. Imprime primero 10 numeros naturales (1,2,3,4,5,6,7,8,9,10) usando \"for loop\" y print ()"
   ]
  },
  {
   "cell_type": "code",
   "execution_count": 3,
   "id": "executive-austria",
   "metadata": {},
   "outputs": [
    {
     "name": "stdout",
     "output_type": "stream",
     "text": [
      "1\n",
      "2\n",
      "3\n",
      "4\n",
      "5\n",
      "6\n",
      "7\n",
      "8\n",
      "9\n",
      "10\n"
     ]
    }
   ],
   "source": [
    "#Loop for\n",
    "for number in range(1,11,1):\n",
    "    print(number)"
   ]
  },
  {
   "cell_type": "markdown",
   "id": "loving-george",
   "metadata": {},
   "source": [
    "#### 2. Imprime primero 10 numeros naturales (1,2,3,4,5,6,7,8,9,10)  usando \"while loop\" y print ()"
   ]
  },
  {
   "cell_type": "code",
   "execution_count": 7,
   "id": "manufactured-international",
   "metadata": {},
   "outputs": [
    {
     "name": "stdout",
     "output_type": "stream",
     "text": [
      "1\n",
      "2\n",
      "3\n",
      "4\n",
      "5\n",
      "6\n",
      "7\n",
      "8\n",
      "9\n",
      "10\n"
     ]
    }
   ],
   "source": [
    "#Loop while\n",
    "i = 0\n",
    "while i < 10:\n",
    "    i += 1\n",
    "    print(i)"
   ]
  },
  {
   "cell_type": "markdown",
   "id": "beginning-marine",
   "metadata": {},
   "source": [
    "#### 3. Calcular la soma de numeros (1+2+3+4+5+6+7+8+9+10) usando \"for loop\" y guarda resultado en variable \"my_result\""
   ]
  },
  {
   "cell_type": "code",
   "execution_count": 16,
   "id": "neither-segment",
   "metadata": {},
   "outputs": [
    {
     "name": "stdout",
     "output_type": "stream",
     "text": [
      "55\n"
     ]
    }
   ],
   "source": [
    "#Loop for\n",
    "my_result = 0\n",
    "for number in range(0,11,1):\n",
    "    my_result += number\n",
    "print(my_result)"
   ]
  },
  {
   "cell_type": "markdown",
   "id": "indoor-roots",
   "metadata": {},
   "source": [
    "#### 4. Calcular la soma de numeros (1+2+3+4+5+6+7+8+9+10) usando \"while loop\" y guardar resultado en variable \"my_result\""
   ]
  },
  {
   "cell_type": "code",
   "execution_count": 12,
   "id": "infrared-respondent",
   "metadata": {},
   "outputs": [
    {
     "name": "stdout",
     "output_type": "stream",
     "text": [
      "55\n"
     ]
    }
   ],
   "source": [
    "#Loop while\n",
    "my_result = 0\n",
    "i = 0\n",
    "while i<10:\n",
    "    i += 1\n",
    "    my_result += i \n",
    "print(my_result)"
   ]
  },
  {
   "cell_type": "markdown",
   "id": "polished-reason",
   "metadata": {},
   "source": [
    "#### 5. Calcular la soma de numeros par (2+4+6+8+10.. + ...100) usando \"for loop\" y guardar resultado en variable \"my_result\" (pista: usa condicion \"if\" y \"%\")"
   ]
  },
  {
   "cell_type": "code",
   "execution_count": 20,
   "id": "df7f67d1-d6af-49c2-9e36-8971bcb47f68",
   "metadata": {},
   "outputs": [
    {
     "name": "stdout",
     "output_type": "stream",
     "text": [
      "2550\n"
     ]
    }
   ],
   "source": [
    "#Loop for \n",
    "my_result = 0\n",
    "for number in range(0,101,1):\n",
    "    if number%2==0:\n",
    "        my_result += number\n",
    "print(my_result)"
   ]
  },
  {
   "cell_type": "code",
   "execution_count": 17,
   "id": "asian-publisher",
   "metadata": {},
   "outputs": [
    {
     "name": "stdout",
     "output_type": "stream",
     "text": [
      "2550\n"
     ]
    }
   ],
   "source": [
    "#Loop for alternative\n",
    "my_result = 0\n",
    "for number in range(0,101,2): #Ajustar los pasos en los que se va recorriendo el rango\n",
    "    my_result += number\n",
    "print(my_result)"
   ]
  },
  {
   "cell_type": "markdown",
   "id": "accepted-jacksonville",
   "metadata": {},
   "source": [
    "#### 6. Calcular la soma de numeros impar (1+3+5+7+9+... + ...99) usando \"while loop\" y guardar resultado en variable \"my_result\" (pista: usa condicion \"if\" y \"%\")"
   ]
  },
  {
   "cell_type": "code",
   "execution_count": 1,
   "id": "6341df1a-972f-40ba-9cc8-6562b0bf36ed",
   "metadata": {},
   "outputs": [
    {
     "name": "stdout",
     "output_type": "stream",
     "text": [
      "2500\n"
     ]
    }
   ],
   "source": [
    "#Loop while\n",
    "my_result = 0\n",
    "i = 0\n",
    "while i<100:\n",
    "    i += 1\n",
    "    if i%2!=0:\n",
    "        my_result += i\n",
    "print(my_result)"
   ]
  },
  {
   "cell_type": "markdown",
   "id": "crucial-treat",
   "metadata": {},
   "source": [
    "#### 7. Definir una function que se llama func_sum_even_odd(b) que recibe un parametro \"b\" - valor numerico. La funcion calcula soma de numeros pares y numeros impares separamente entre 0 y b (los dos valores incluidos) . La funcion guarda resultados en dos variables en sum_even, sum_odd y devuelve ambos usando \"return\". (usa metodo: while)\n",
    "\n",
    "ejemplo de ejecucion:   \n",
    "sum_even,sum_odd = func_sum_even_odd(10)  \n",
    "print(sum_even,sum_odd)  \n",
    "30,25  \n",
    "\n",
    "#### Pero si \"b\" no es ni integer ni float funcion devuelve sum_even=0,y sum_odd=0 y imprime mensaje: \"argument must be an integer or float\"   (usa: \"isinstance\" o negacion de isinstance: \"not isinstance\" conjunto con operador logico \"or\" para verificar si el argumento es int of float)\n",
    "\n",
    "ejemplo de ejecucion:  \n",
    "sum_even,sum_odd = func_sum_even_odd('z')  \n",
    "\"argument must be an integer or float\"  "
   ]
  },
  {
   "cell_type": "code",
   "execution_count": 23,
   "id": "38a6dd67-fd2d-4d57-8428-ed1bd85df4bc",
   "metadata": {},
   "outputs": [
    {
     "name": "stdout",
     "output_type": "stream",
     "text": [
      "30 25\n"
     ]
    }
   ],
   "source": [
    "#Fuction\n",
    "def func_sum_even_odd(b):\n",
    "    number = 0\n",
    "    sum_even = 0\n",
    "    sum_odd = 0\n",
    "    if type(b) == int or type(b) == float:\n",
    "        while number<b:\n",
    "            number += 1\n",
    "            if number%2==0:\n",
    "                sum_even += number\n",
    "            else:\n",
    "                sum_odd += number\n",
    "    else:\n",
    "        print('argument must be an int or float')\n",
    "    return (sum_even, sum_odd)\n",
    "\n",
    "sum_even,sum_odd = func_sum_even_odd(10)\n",
    "print(sum_even,sum_odd)"
   ]
  },
  {
   "cell_type": "markdown",
   "id": "contemporary-exemption",
   "metadata": {},
   "source": [
    "#### 8. Modifica funcion anterior y usa conjunto: try:... except:... (mira arriva en el texto de la classe)\n",
    "try:   \n",
    "--->intenta hacer si no sale error  \n",
    "except:  \n",
    "--->hace otra cosa si sale error    "
   ]
  },
  {
   "cell_type": "code",
   "execution_count": 26,
   "id": "dominican-tomato",
   "metadata": {},
   "outputs": [
    {
     "name": "stdout",
     "output_type": "stream",
     "text": [
      "argument must be an int or float\n",
      "0 0\n"
     ]
    }
   ],
   "source": [
    "#Fuction\n",
    "def func_sum_even_odd(b):\n",
    "    number = 0\n",
    "    sum_even = 0\n",
    "    sum_odd = 0\n",
    "    try:  #Intenta hacer\n",
    "        while number<b:\n",
    "            number += 1\n",
    "            if number%2==0:\n",
    "                sum_even += number\n",
    "            else:\n",
    "                sum_odd += number\n",
    "    except:  #Si sale error entonces\n",
    "        print('argument must be an int or float')\n",
    "    return (sum_even, sum_odd)\n",
    "\n",
    "sum_even,sum_odd = func_sum_even_odd('10')\n",
    "print(sum_even,sum_odd)"
   ]
  }
 ],
 "metadata": {
  "kernelspec": {
   "display_name": "Python 3",
   "language": "python",
   "name": "python3"
  },
  "language_info": {
   "codemirror_mode": {
    "name": "ipython",
    "version": 3
   },
   "file_extension": ".py",
   "mimetype": "text/x-python",
   "name": "python",
   "nbconvert_exporter": "python",
   "pygments_lexer": "ipython3",
   "version": "3.8.8"
  }
 },
 "nbformat": 4,
 "nbformat_minor": 5
}
