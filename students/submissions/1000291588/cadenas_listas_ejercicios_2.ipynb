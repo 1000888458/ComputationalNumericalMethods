{
  "nbformat": 4,
  "nbformat_minor": 0,
  "metadata": {
    "colab": {
      "name": "cadenas_listas_ejercicios_2.ipynb",
      "provenance": []
    },
    "kernelspec": {
      "name": "python3",
      "display_name": "Python 3"
    },
    "language_info": {
      "name": "python"
    }
  },
  "cells": [
    {
      "cell_type": "code",
      "metadata": {
        "colab": {
          "base_uri": "https://localhost:8080/"
        },
        "id": "VEudFeXP8PaP",
        "outputId": "610e38c0-d0e7-463f-8443-5e0fef7b1548"
      },
      "source": [
        "# Código de Google Colaboratory para subir el archivo txt y trabajar con él\n",
        "from google.colab import drive \n",
        "drive.mount('/content/gdrive')\n",
        "\n",
        "!cp '/content/gdrive/My Drive/Colab Notebooks/huck_finn.txt' 'huck_finn.txt'"
      ],
      "execution_count": 2,
      "outputs": [
        {
          "output_type": "stream",
          "name": "stdout",
          "text": [
            "Mounted at /content/gdrive\n"
          ]
        }
      ]
    },
    {
      "cell_type": "markdown",
      "metadata": {
        "id": "o5m4So0a8cyQ"
      },
      "source": [
        "## LIBRARIES"
      ]
    },
    {
      "cell_type": "code",
      "metadata": {
        "colab": {
          "base_uri": "https://localhost:8080/"
        },
        "id": "KBF-_e1P8W1C",
        "outputId": "d6c9e440-c154-476f-d952-2425e052c4ab"
      },
      "source": [
        "from datascience import *\n",
        "import numpy as np\n",
        "import matplotlib\n",
        "%matplotlib inline\n",
        "import matplotlib.pyplot as plt"
      ],
      "execution_count": 3,
      "outputs": [
        {
          "output_type": "stream",
          "name": "stderr",
          "text": [
            "/usr/local/lib/python3.7/dist-packages/datascience/tables.py:17: MatplotlibDeprecationWarning: The 'warn' parameter of use() is deprecated since Matplotlib 3.1 and will be removed in 3.3.  If any parameter follows 'warn', they should be pass as keyword, not positionally.\n",
            "  matplotlib.use('agg', warn=False)\n",
            "/usr/local/lib/python3.7/dist-packages/datascience/util.py:10: MatplotlibDeprecationWarning: The 'warn' parameter of use() is deprecated since Matplotlib 3.1 and will be removed in 3.3.  If any parameter follows 'warn', they should be pass as keyword, not positionally.\n",
            "  matplotlib.use('agg', warn=False)\n"
          ]
        }
      ]
    },
    {
      "cell_type": "markdown",
      "metadata": {
        "id": "mc7sFhU98m3B"
      },
      "source": [
        "## READ THE BOOK"
      ]
    },
    {
      "cell_type": "code",
      "metadata": {
        "id": "q6YLyy_D80RH"
      },
      "source": [
        "def read_file(f):\n",
        "    with open (f, 'r') as file:\n",
        "        data=file.read()\n",
        "    return data\n",
        "\n",
        "book = read_file('huck_finn.txt')\n",
        "book_chapters = book.split('CHAPTER ')[44:]"
      ],
      "execution_count": 4,
      "outputs": []
    },
    {
      "cell_type": "markdown",
      "metadata": {
        "id": "NJoZxPOq9RPK"
      },
      "source": [
        "### Siguiendo el material de la clase pasada hacer un plot de occurencia de un caracter (Jim o Tom o Huck) de libro atraves de los capitulos"
      ]
    },
    {
      "cell_type": "code",
      "metadata": {
        "colab": {
          "base_uri": "https://localhost:8080/",
          "height": 314
        },
        "id": "AQemUFew9ZWM",
        "outputId": "cf747f4c-4a43-4f4e-8eff-ba3bd814cc97"
      },
      "source": [
        "# Cuántas veces aparecen los nombres Jim, Tom y Huck en cada capítulo\n",
        "\n",
        "counts = Table().with_columns([\n",
        "        'Jim', np.char.count(book_chapters, 'Jim'),\n",
        "        'Tom', np.char.count(book_chapters, 'Tom'),\n",
        "        'Huck', np.char.count(book_chapters, 'Huck')])\n",
        "# Plot\n",
        "cum_counts = counts.cumsum().with_column('Chapter', np.arange(1, 44, 1))\n",
        "cum_counts.plot(column_for_xticks=3)\n",
        "plt.show()"
      ],
      "execution_count": 6,
      "outputs": [
        {
          "output_type": "stream",
          "name": "stderr",
          "text": [
            "/usr/local/lib/python3.7/dist-packages/datascience/tables.py:192: FutureWarning: Implicit column method lookup is deprecated.\n",
            "  warnings.warn(\"Implicit column method lookup is deprecated.\", FutureWarning)\n"
          ]
        },
        {
          "output_type": "display_data",
          "data": {
            "image/png": "[encoded data removed]",
            "text/plain": [
              "<Figure size 432x288 with 1 Axes>"
            ]
          },
          "metadata": {
            "needs_background": "light"
          }
        }
      ]
    }
  ]
}