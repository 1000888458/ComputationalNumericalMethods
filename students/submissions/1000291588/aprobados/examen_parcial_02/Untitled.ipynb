{
 "cells": [
  {
   "cell_type": "code",
   "execution_count": null,
   "id": "classical-patrol",
   "metadata": {},
   "outputs": [],
   "source": [
    "# Feedback:\n",
    "\n",
    "`Correct implementation of the f_cost function + labeled plot \t  (max 2.0p):\t2.0p`\n",
    "`Correct implementation of the root finding function \t\t       (max 2.0p):\t2.0p`\n",
    "`Correct result of the evolution of the left roots (+ plot)\t     (max 2.0p):\t2.0p`\n",
    "`Correct result of the evolution of the right roots (+ plot)\t    (max 2.0p):\t2.0p`\n",
    "`Correct conclusion of the range behavious\t\t\t              (max 2.0p):\t2.0p`\n",
    "\n",
    "`- Total:                                                          (max 10.0p):   10.0p`\n",
    "`"
   ]
  }
 ],
 "metadata": {
  "kernelspec": {
   "display_name": "Python 3",
   "language": "python",
   "name": "python3"
  },
  "language_info": {
   "codemirror_mode": {
    "name": "ipython",
    "version": 3
   },
   "file_extension": ".py",
   "mimetype": "text/x-python",
   "name": "python",
   "nbconvert_exporter": "python",
   "pygments_lexer": "ipython3",
   "version": "3.7.2"
  }
 },
 "nbformat": 4,
 "nbformat_minor": 5
}
