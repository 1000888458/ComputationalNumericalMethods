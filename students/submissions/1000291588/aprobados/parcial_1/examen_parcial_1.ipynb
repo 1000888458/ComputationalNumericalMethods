{
 "cells": [
  {
   "cell_type": "markdown",
   "id": "impossible-command",
   "metadata": {},
   "source": [
    "# Examen parcial 1 (Python basico y visualizaciones)\n",
    "* Antes de enviar el archivo, $\\textbf{reiniciar y ejecutar el kernel}$ para ver que el archivo se compila sin errores\n",
    "* enviar el archivo jupyter sin anexos antes de las 10am del 17.12.2021 a mi dirección de correo electrónico: michal.hemmerling@udea.edu.co "
   ]
  },
  {
   "cell_type": "markdown",
   "id": "chicken-fields",
   "metadata": {},
   "source": [
    "# Cada de los dos ejercicios abajo vale 100%, \n",
    "* usted puede escojer cual ejercicio quiere hacer. \n",
    "* si hace dos ejercisios en la mitad tambien gana 100%\n",
    "* si hace los dos ejercicios completos, extra puntos voy a pasar para resultado de proximo parcial"
   ]
  },
  {
   "cell_type": "markdown",
   "id": "conceptual-swedish",
   "metadata": {},
   "source": [
    "## Ejercicio 1a. Calcular una soma (Taylor aproximacion de funcion cos) usando loop \n",
    "\n",
    "\n",
    "$$cos(x)=\\sum_{k=0}^{\\infty}\\frac{(-1)^k x^{2k}}{(2k)!}$$ \n",
    "\n",
    "1) usando loop for calcular valor de cos(0.2) para k=2 (en loop k=0,1,2)\n",
    "* (puede comparar su resultado con $cos(x)=1 - \\frac{x^2}{2!}  + \\frac{x^4}{4!}$\n",
    "* (para hacer factorial-! usa: import math, math.factorial)\n",
    "\n",
    "2) crear una funcion cos_taylor(x,k) que acepta dos parametros x y k y vuelve valor de cos(x) para dado numero de termos k\n",
    "* (intenta con x=0.2 y k=2 para comparar con resultado de punto 1)\n",
    "\n",
    "3) crear un vector xvec que tiene 100 elementos en rango de $-\\pi$: $\\pi$ y usando loop for para cada elemento de este vector llama la funcion cos_taylor(x,k) y guarda resultados en una lista \"cos_approx=[]\" usando methodo append (cos_approx.append()). usa valor de k=3 \n",
    "* (pista sobre loop: for x in xvec:...)\n",
    "\n",
    "4) hacer visualizacion de dos curvas en mismo plot:\n",
    "* xvec vs cos_approx (label: Taylor approximation)\n",
    "* xvec vs np.cos(xvec) (label: cos(x))\n",
    "* usa labels para cada curva"
   ]
  },
  {
   "cell_type": "code",
   "execution_count": 12,
   "id": "ed8e65e6-5d0c-42ee-a54f-c3e4364320cb",
   "metadata": {},
   "outputs": [],
   "source": [
    "import math \n",
    "import numpy as np\n",
    "from matplotlib import pyplot as plt"
   ]
  },
  {
   "cell_type": "code",
   "execution_count": 15,
   "id": "c0831feb-7c89-461b-aa24-5de5e56109a3",
   "metadata": {},
   "outputs": [
    {
     "name": "stdout",
     "output_type": "stream",
     "text": [
      "0.9800666666666666\n"
     ]
    }
   ],
   "source": [
    "#1. usando loop for calcular valor de cos(0.2) para k=2 (en loop k=0,1,2)\n",
    "x = 0.2\n",
    "cos = 0\n",
    "for k in range(0,3):\n",
    "    cos += (-1)**k*x**(2*k)/(math.factorial(2*k))\n",
    "print(cos) "
   ]
  },
  {
   "cell_type": "code",
   "execution_count": 14,
   "id": "59a462d4-bb42-4d5d-882a-38bd3083a950",
   "metadata": {},
   "outputs": [
    {
     "data": {
      "text/plain": [
       "0.9800666666666666"
      ]
     },
     "execution_count": 14,
     "metadata": {},
     "output_type": "execute_result"
    }
   ],
   "source": [
    "#2. crear una funcion cos_taylor(x,k) que acepta dos parametros x y k y vuelve valor de cos(x) para dado numero de termos k\n",
    "\n",
    "def cos_taylor(x,k):\n",
    "    cos = 0\n",
    "    for k in range(0,k+1):\n",
    "        cos += (-1)**k*x**(2*k)/(math.factorial(2*k))\n",
    "    return cos\n",
    "\n",
    "cos_taylor(0.2,2)"
   ]
  },
  {
   "cell_type": "code",
   "execution_count": 4,
   "id": "78ddf34e-30b6-4860-9aab-0cd967db788a",
   "metadata": {},
   "outputs": [
    {
     "data": {
      "text/plain": [
       "[-1.2113528429825007,\n",
       " -1.1782594608355015,\n",
       " -1.145183661800319,\n",
       " -1.1116992495092575,\n",
       " -1.077437540491316,\n",
       " -1.0420842925634126,\n",
       " -1.0053766985749741,\n",
       " -0.967100445505919,\n",
       " -0.9270868389180056,\n",
       " -0.8852099927595652]"
      ]
     },
     "execution_count": 4,
     "metadata": {},
     "output_type": "execute_result"
    }
   ],
   "source": [
    "#3. crear un vector xvec que tiene 100 elementos en rango de  −𝜋 :  𝜋  y usando loop for para cada elemento de este vector \n",
    "#llama la funcion cos_taylor(x,k) y guarda resultados en una lista \"cos_approx=[]\" usando methodo append \n",
    "#(cos_approx.append()). usa valor de k=3\n",
    "\n",
    "x = np.linspace(-np.pi,np.pi,100)\n",
    "cos_approx = []\n",
    "for i in x:\n",
    "    result = cos_taylor(i,3)\n",
    "    cos_approx.append(result)\n",
    "    \n",
    "cos_approx[0:10] #Visualization"
   ]
  },
  {
   "cell_type": "code",
   "execution_count": 5,
   "id": "d95df854-9d15-4cfd-8490-f36d896dc504",
   "metadata": {},
   "outputs": [
    {
     "data": {
      "text/plain": [
       "<matplotlib.legend.Legend at 0x7f9ff06aee48>"
      ]
     },
     "execution_count": 5,
     "metadata": {},
     "output_type": "execute_result"
    },
    {
     "data": {
      "image/png": "[encoded data removed]",
      "text/plain": [
       "<Figure size 432x288 with 1 Axes>"
      ]
     },
     "metadata": {
      "needs_background": "light"
     },
     "output_type": "display_data"
    }
   ],
   "source": [
    "#4. hacer visualizacion de dos curvas en mismo plot:\n",
    "fig, ax = plt.subplots(1,1)\n",
    "ax.plot(x, np.cos(x), label='cos(x)')\n",
    "ax.grid()\n",
    "ax.plot(x,cos_approx,label='Taylor aproximation')\n",
    "ax.legend()"
   ]
  },
  {
   "cell_type": "markdown",
   "id": "accomplished-increase",
   "metadata": {},
   "source": [
    "## Ejercicio 1b. Visualizar imagenes de un conjunto de datos\n",
    "\n"
   ]
  },
  {
   "cell_type": "markdown",
   "id": "institutional-dating",
   "metadata": {},
   "source": [
    "#### Un documento 'images_32x32.mat' contiene ~ 25,000 de imagenes de digitos, images son en colores (cada imagen tiene 3 capas RGB) y cada imagen es 32x32 pixeles\n",
    "\n",
    "1) convertir este conjunto de tipo MAT a un dicionario\n",
    "* (import scipy.io,   \n",
    "   imgs_dict = scipy.io.loadmat(images_32x32.mat)\n",
    "\n",
    "2) muestra que llaves tiene este dicionario y muestra que dimensiones tienen las llaves **X** y **y**\n",
    "\n",
    "3) visualiza aleatoriamente 10 de estos imagenes en una forma de matriz 1x10 (fila de 10 imagenes)\n",
    "* los imagenes son guardados en llave 'X' de este dicionario\n",
    "\n",
    "4) convertir las imágenes en color a escala de grises promediando una de las dimensiones y volver a mostrar las mismos 10 imagenes aleatorios en otra matriz de 1x10 (fila de 10 imagenes)\n",
    "\n",
    "5) seria bien que los titulos de los 10 imagenes coresponden a etiquietas de llave \"y\""
   ]
  },
  {
   "cell_type": "code",
   "execution_count": 6,
   "id": "interstate-addition",
   "metadata": {},
   "outputs": [],
   "source": [
    "import scipy.io\n"
   ]
  },
  {
   "cell_type": "code",
   "execution_count": 7,
   "id": "metropolitan-entry",
   "metadata": {},
   "outputs": [
    {
     "data": {
      "text/plain": [
       "{'__header__': b'MATLAB 5.0 MAT-file, Platform: GLNXA64, Created on: Mon Dec  5 21:18:15 2011',\n",
       " '__version__': '1.0',\n",
       " '__globals__': [],\n",
       " 'X': array([[[[ 38, 129, 150, ..., 115,  96, 101],\n",
       "          [103, 142, 160, ..., 132,  65,  75],\n",
       "          [ 60, 153, 169, ..., 142,  47,  60]],\n",
       " \n",
       "         [[ 39, 127, 150, ..., 116,  97, 100],\n",
       "          [104, 143, 163, ..., 133,  65,  73],\n",
       "          [ 61, 152, 170, ..., 143,  49,  60]],\n",
       " \n",
       "         [[ 39, 125, 152, ..., 117,  97,  99],\n",
       "          [104, 143, 168, ..., 134,  65,  71],\n",
       "          [ 62, 151, 172, ..., 144,  50,  59]],\n",
       " \n",
       "         ...,\n",
       " \n",
       "         [[ 41, 121, 153, ..., 114,  86,  95],\n",
       "          [102, 133, 172, ..., 136,  61,  63],\n",
       "          [ 61, 153, 180, ..., 141,  54,  52]],\n",
       " \n",
       "         [[ 42, 123, 150, ..., 114,  87,  95],\n",
       "          [103, 134, 171, ..., 136,  62,  63],\n",
       "          [ 62, 156, 181, ..., 142,  55,  52]],\n",
       " \n",
       "         [[ 39, 123, 147, ..., 115,  88,  96],\n",
       "          [ 97, 135, 169, ..., 136,  63,  64],\n",
       "          [ 57, 157, 180, ..., 143,  56,  51]]],\n",
       " \n",
       " \n",
       "        [[[ 39, 134, 150, ..., 122,  96, 109],\n",
       "          [104, 150, 160, ..., 139,  65,  84],\n",
       "          [ 61, 160, 169, ..., 148,  48,  69]],\n",
       " \n",
       "         [[ 39, 133, 151, ..., 123,  97, 107],\n",
       "          [104, 149, 163, ..., 140,  65,  80],\n",
       "          [ 61, 158, 169, ..., 149,  50,  67]],\n",
       " \n",
       "         [[ 39, 132, 153, ..., 124,  97, 104],\n",
       "          [104, 149, 168, ..., 141,  65,  76],\n",
       "          [ 62, 157, 171, ..., 150,  51,  64]],\n",
       " \n",
       "         ...,\n",
       " \n",
       "         [[ 41, 127, 156, ..., 118,  85,  95],\n",
       "          [102, 138, 174, ..., 139,  62,  62],\n",
       "          [ 61, 157, 180, ..., 143,  53,  53]],\n",
       " \n",
       "         [[ 43, 126, 153, ..., 118,  87,  93],\n",
       "          [101, 137, 171, ..., 139,  63,  61],\n",
       "          [ 63, 157, 180, ..., 145,  54,  50]],\n",
       " \n",
       "         [[ 39, 125, 150, ..., 119,  88,  93],\n",
       "          [ 97, 137, 169, ..., 139,  64,  61],\n",
       "          [ 57, 158, 179, ..., 146,  55,  49]]],\n",
       " \n",
       " \n",
       "        [[[ 38, 141, 144, ..., 131,  96, 117],\n",
       "          [105, 158, 154, ..., 148,  64,  95],\n",
       "          [ 62, 168, 163, ..., 155,  49,  78]],\n",
       " \n",
       "         [[ 37, 140, 146, ..., 132,  96, 114],\n",
       "          [104, 157, 157, ..., 149,  64,  90],\n",
       "          [ 61, 166, 163, ..., 156,  50,  75]],\n",
       " \n",
       "         [[ 39, 140, 148, ..., 133,  96, 108],\n",
       "          [106, 157, 162, ..., 149,  64,  83],\n",
       "          [ 63, 165, 165, ..., 157,  51,  70]],\n",
       " \n",
       "         ...,\n",
       " \n",
       "         [[ 43, 135, 157, ..., 125,  87,  95],\n",
       "          [101, 147, 172, ..., 143,  66,  62],\n",
       "          [ 63, 163, 177, ..., 147,  54,  53]],\n",
       " \n",
       "         [[ 43, 132, 153, ..., 125,  90,  92],\n",
       "          [100, 143, 168, ..., 143,  68,  60],\n",
       "          [ 64, 161, 175, ..., 149,  57,  50]],\n",
       " \n",
       "         [[ 39, 130, 150, ..., 126,  91,  91],\n",
       "          [ 97, 141, 165, ..., 144,  69,  59],\n",
       "          [ 59, 160, 173, ..., 150,  58,  48]]],\n",
       " \n",
       " \n",
       "        ...,\n",
       " \n",
       " \n",
       "        [[[ 52, 147, 135, ...,  94,  99, 116],\n",
       "          [119, 161, 150, ...,  97,  68,  96],\n",
       "          [ 78, 174, 167, ..., 114,  48,  85]],\n",
       " \n",
       "         [[ 53, 142, 134, ...,  93,  99, 116],\n",
       "          [120, 156, 149, ...,  96,  70,  96],\n",
       "          [ 79, 169, 166, ..., 113,  50,  87]],\n",
       " \n",
       "         [[ 51, 136, 132, ...,  92, 100, 115],\n",
       "          [118, 151, 147, ...,  95,  73,  95],\n",
       "          [ 77, 163, 165, ..., 112,  53,  87]],\n",
       " \n",
       "         ...,\n",
       " \n",
       "         [[ 44,  93, 124, ..., 140, 138, 101],\n",
       "          [118,  97, 140, ..., 153, 121,  70],\n",
       "          [ 69, 126, 157, ..., 162, 105,  50]],\n",
       " \n",
       "         [[ 44,  96, 122, ..., 142, 127, 101],\n",
       "          [117, 100, 139, ..., 155, 109,  70],\n",
       "          [ 71, 128, 157, ..., 164,  93,  50]],\n",
       " \n",
       "         [[ 41, 104, 121, ..., 144, 117, 101],\n",
       "          [114, 109, 138, ..., 157,  98,  70],\n",
       "          [ 69, 136, 158, ..., 165,  83,  50]]],\n",
       " \n",
       " \n",
       "        [[[ 50, 138, 147, ..., 117,  98, 104],\n",
       "          [117, 152, 165, ..., 122,  67,  83],\n",
       "          [ 76, 165, 179, ..., 137,  46,  71]],\n",
       " \n",
       "         [[ 51, 130, 147, ..., 117,  99, 105],\n",
       "          [118, 144, 164, ..., 122,  70,  84],\n",
       "          [ 77, 157, 179, ..., 137,  48,  73]],\n",
       " \n",
       "         [[ 49, 121, 147, ..., 118, 100, 105],\n",
       "          [116, 136, 164, ..., 123,  73,  84],\n",
       "          [ 75, 148, 179, ..., 137,  51,  74]],\n",
       " \n",
       "         ...,\n",
       " \n",
       "         [[ 44,  93, 139, ..., 141, 126, 101],\n",
       "          [117,  99, 155, ..., 154, 108,  70],\n",
       "          [ 71, 128, 170, ..., 163,  92,  49]],\n",
       " \n",
       "         [[ 45, 101, 139, ..., 143, 118, 102],\n",
       "          [116, 107, 155, ..., 156,  99,  71],\n",
       "          [ 72, 134, 170, ..., 164,  83,  50]],\n",
       " \n",
       "         [[ 42, 112, 138, ..., 144, 110, 102],\n",
       "          [113, 118, 155, ..., 157,  91,  71],\n",
       "          [ 69, 144, 171, ..., 165,  75,  50]]],\n",
       " \n",
       " \n",
       "        [[[ 48, 131, 159, ..., 132,  97,  95],\n",
       "          [115, 145, 177, ..., 138,  66,  73],\n",
       "          [ 74, 158, 189, ..., 152,  45,  62]],\n",
       " \n",
       "         [[ 48, 122, 159, ..., 133,  99,  96],\n",
       "          [115, 136, 177, ..., 140,  69,  74],\n",
       "          [ 74, 149, 190, ..., 152,  48,  63]],\n",
       " \n",
       "         [[ 46, 111, 159, ..., 135, 100,  97],\n",
       "          [113, 126, 177, ..., 142,  72,  75],\n",
       "          [ 72, 139, 191, ..., 153,  51,  64]],\n",
       " \n",
       "         ...,\n",
       " \n",
       "         [[ 43, 101, 152, ..., 142, 118, 101],\n",
       "          [116, 108, 168, ..., 155,  99,  70],\n",
       "          [ 71, 135, 181, ..., 164,  82,  49]],\n",
       " \n",
       "         [[ 44, 111, 152, ..., 143, 111, 102],\n",
       "          [115, 118, 168, ..., 156,  92,  71],\n",
       "          [ 71, 144, 182, ..., 165,  74,  50]],\n",
       " \n",
       "         [[ 42, 123, 152, ..., 144, 104, 102],\n",
       "          [113, 130, 168, ..., 157,  85,  71],\n",
       "          [ 71, 156, 183, ..., 165,  68,  50]]]], dtype=uint8),\n",
       " 'y': array([[5],\n",
       "        [2],\n",
       "        [1],\n",
       "        ...,\n",
       "        [7],\n",
       "        [6],\n",
       "        [7]], dtype=uint8)}"
      ]
     },
     "execution_count": 7,
     "metadata": {},
     "output_type": "execute_result"
    }
   ],
   "source": [
    "#1. convertir este conjunto de tipo MAT a un dicionario\n",
    "imgs_dict = scipy.io.loadmat('images_32x32.mat')\n",
    "imgs_dict"
   ]
  },
  {
   "cell_type": "code",
   "execution_count": 8,
   "id": "0074e1e5-8e25-4b78-8fc1-d626eb064f48",
   "metadata": {},
   "outputs": [
    {
     "name": "stdout",
     "output_type": "stream",
     "text": [
      "dict_keys(['__header__', '__version__', '__globals__', 'X', 'y'])\n",
      "(32, 32, 3, 26032)\n",
      "(26032, 1)\n"
     ]
    }
   ],
   "source": [
    "#2.muestra que llaves tiene este dicionario y muestra que dimensiones tienen las llaves X y y\n",
    "print(imgs_dict.keys())\n",
    "print(imgs_dict['X'].shape)\n",
    "print(imgs_dict['y'].shape)"
   ]
  },
  {
   "cell_type": "code",
   "execution_count": 9,
   "id": "269d3b23-749f-4319-8601-5ba781cd0bf6",
   "metadata": {},
   "outputs": [
    {
     "ename": "IndexError",
     "evalue": "index 5776 is out of bounds for axis 0 with size 32",
     "output_type": "error",
     "traceback": [
      "\u001b[0;31m---------------------------------------------------------------------------\u001b[0m",
      "\u001b[0;31mIndexError\u001b[0m                                Traceback (most recent call last)",
      "\u001b[0;32m<ipython-input-9-e44c75877803>\u001b[0m in \u001b[0;36m<module>\u001b[0;34m\u001b[0m\n\u001b[1;32m      7\u001b[0m \u001b[0;34m\u001b[0m\u001b[0m\n\u001b[1;32m      8\u001b[0m \u001b[0;32mfor\u001b[0m \u001b[0mn\u001b[0m \u001b[0;32min\u001b[0m \u001b[0mrange\u001b[0m\u001b[0;34m(\u001b[0m\u001b[0;36m0\u001b[0m\u001b[0;34m,\u001b[0m\u001b[0;36m25\u001b[0m\u001b[0;34m)\u001b[0m\u001b[0;34m:\u001b[0m\u001b[0;34m\u001b[0m\u001b[0;34m\u001b[0m\u001b[0m\n\u001b[0;32m----> 9\u001b[0;31m     \u001b[0mimg_row\u001b[0m \u001b[0;34m=\u001b[0m \u001b[0mimgs_dict\u001b[0m\u001b[0;34m[\u001b[0m\u001b[0;34m'X'\u001b[0m\u001b[0;34m]\u001b[0m\u001b[0;34m[\u001b[0m\u001b[0mlista\u001b[0m\u001b[0;34m[\u001b[0m\u001b[0;36m0\u001b[0m\u001b[0;34m]\u001b[0m\u001b[0;34m[\u001b[0m\u001b[0mn\u001b[0m\u001b[0;34m]\u001b[0m\u001b[0;34m]\u001b[0m\u001b[0;34m\u001b[0m\u001b[0;34m\u001b[0m\u001b[0m\n\u001b[0m\u001b[1;32m     10\u001b[0m     \u001b[0mimg_array\u001b[0m \u001b[0;34m=\u001b[0m \u001b[0mnp\u001b[0m\u001b[0;34m.\u001b[0m\u001b[0mreshape\u001b[0m\u001b[0;34m(\u001b[0m\u001b[0mimg_row\u001b[0m\u001b[0;34m,\u001b[0m\u001b[0;34m(\u001b[0m\u001b[0;36m32\u001b[0m\u001b[0;34m,\u001b[0m\u001b[0;36m32\u001b[0m\u001b[0;34m)\u001b[0m\u001b[0;34m)\u001b[0m\u001b[0;34m\u001b[0m\u001b[0;34m\u001b[0m\u001b[0m\n\u001b[1;32m     11\u001b[0m     \u001b[0ml\u001b[0m\u001b[0;34m.\u001b[0m\u001b[0mappend\u001b[0m\u001b[0;34m(\u001b[0m\u001b[0mimg_array\u001b[0m\u001b[0;34m)\u001b[0m\u001b[0;34m\u001b[0m\u001b[0;34m\u001b[0m\u001b[0m\n",
      "\u001b[0;31mIndexError\u001b[0m: index 5776 is out of bounds for axis 0 with size 32"
     ]
    },
    {
     "data": {
      "text/plain": [
       "<Figure size 864x864 with 0 Axes>"
      ]
     },
     "metadata": {},
     "output_type": "display_data"
    }
   ],
   "source": [
    "#3. visualiza aleatoriamente 10 de estos imagenes en una forma de matriz 1x10 (fila de 10 imagenes)\n",
    "fig = plt.figure(figsize=(12,12))\n",
    "fig.subplots_adjust()\n",
    "lista = np.random.randint(0,25000,size=(1,25))\n",
    "l=[]\n",
    "labels=[]\n",
    "\n",
    "for n in range(0,25):\n",
    "    img_row = imgs_dict['X'][lista[0][n]]\n",
    "    img_array = np.reshape(img_row,(32,32))\n",
    "    l.append(img_array)\n",
    "    #tittle = digits['target'][lista[0][n]]\n",
    "    #labels.append(tittle)\n",
    "\n",
    "    ax = fig.add_subplot(5,5,n+1, xticks=[], yticks=[])\n",
    "    ax.imshow(l[n], cmap=plt.cm.binary)\n",
    "    ax.title.set_text(labels[n])"
   ]
  },
  {
   "cell_type": "code",
   "execution_count": null,
   "id": "badfc6ca-88c5-4ad1-8e2f-52b9e739fb11",
   "metadata": {},
   "outputs": [],
   "source": []
  },
  {
   "cell_type": "code",
   "execution_count": 10,
   "id": "a947c634-c358-43fa-8bcd-5ec944a43b66",
   "metadata": {},
   "outputs": [
    {
     "data": {
      "text/plain": [
       "(32, 32, 3, 26032)"
      ]
     },
     "execution_count": 10,
     "metadata": {},
     "output_type": "execute_result"
    }
   ],
   "source": [
    "#array = imgs_dict['X'][::-1]\n",
    "array = np.flip(imgs_dict['X'], axis=0)\n",
    "array.shape"
   ]
  },
  {
   "cell_type": "code",
   "execution_count": 11,
   "id": "e51fbef6-d929-457a-871d-b8415dc30960",
   "metadata": {},
   "outputs": [
    {
     "ename": "IndexError",
     "evalue": "index 17298 is out of bounds for axis 0 with size 32",
     "output_type": "error",
     "traceback": [
      "\u001b[0;31m---------------------------------------------------------------------------\u001b[0m",
      "\u001b[0;31mIndexError\u001b[0m                                Traceback (most recent call last)",
      "\u001b[0;32m<ipython-input-11-41bd61d6dbfa>\u001b[0m in \u001b[0;36m<module>\u001b[0;34m\u001b[0m\n\u001b[1;32m      6\u001b[0m \u001b[0;34m\u001b[0m\u001b[0m\n\u001b[1;32m      7\u001b[0m \u001b[0;32mfor\u001b[0m \u001b[0mn\u001b[0m \u001b[0;32min\u001b[0m \u001b[0mrange\u001b[0m\u001b[0;34m(\u001b[0m\u001b[0;36m0\u001b[0m\u001b[0;34m,\u001b[0m\u001b[0;36m25\u001b[0m\u001b[0;34m)\u001b[0m\u001b[0;34m:\u001b[0m\u001b[0;34m\u001b[0m\u001b[0;34m\u001b[0m\u001b[0m\n\u001b[0;32m----> 8\u001b[0;31m     \u001b[0mimg_row\u001b[0m \u001b[0;34m=\u001b[0m \u001b[0mimgs_dict\u001b[0m\u001b[0;34m[\u001b[0m\u001b[0;34m'X'\u001b[0m\u001b[0;34m]\u001b[0m\u001b[0;34m[\u001b[0m\u001b[0mlista\u001b[0m\u001b[0;34m[\u001b[0m\u001b[0;36m0\u001b[0m\u001b[0;34m]\u001b[0m\u001b[0;34m[\u001b[0m\u001b[0mn\u001b[0m\u001b[0;34m]\u001b[0m\u001b[0;34m]\u001b[0m\u001b[0;34m\u001b[0m\u001b[0;34m\u001b[0m\u001b[0m\n\u001b[0m\u001b[1;32m      9\u001b[0m     \u001b[0mimg_array\u001b[0m \u001b[0;34m=\u001b[0m \u001b[0mnp\u001b[0m\u001b[0;34m.\u001b[0m\u001b[0mreshape\u001b[0m\u001b[0;34m(\u001b[0m\u001b[0mimg_row\u001b[0m\u001b[0;34m,\u001b[0m\u001b[0;34m(\u001b[0m\u001b[0;36m48\u001b[0m\u001b[0;34m,\u001b[0m\u001b[0;36m64\u001b[0m\u001b[0;34m)\u001b[0m\u001b[0;34m)\u001b[0m\u001b[0;34m\u001b[0m\u001b[0;34m\u001b[0m\u001b[0m\n\u001b[1;32m     10\u001b[0m     \u001b[0ml\u001b[0m\u001b[0;34m.\u001b[0m\u001b[0mappend\u001b[0m\u001b[0;34m(\u001b[0m\u001b[0mimg_row\u001b[0m\u001b[0;34m)\u001b[0m\u001b[0;34m\u001b[0m\u001b[0;34m\u001b[0m\u001b[0m\n",
      "\u001b[0;31mIndexError\u001b[0m: index 17298 is out of bounds for axis 0 with size 32"
     ]
    },
    {
     "data": {
      "text/plain": [
       "<Figure size 864x864 with 0 Axes>"
      ]
     },
     "metadata": {},
     "output_type": "display_data"
    }
   ],
   "source": [
    "fig = plt.figure(figsize=(12,12))\n",
    "fig.subplots_adjust()\n",
    "lista = np.random.randint(0,25000,size=(1,25))\n",
    "l=[]\n",
    "labels=[]\n",
    "\n",
    "for n in range(0,25):\n",
    "    img_row = imgs_dict['X'][lista[0][n]]\n",
    "    img_array = np.reshape(img_row,(48,64))\n",
    "    l.append(img_row)\n",
    "    tittle = y_data[lista[0][n]]\n",
    "    labels.append(tittle)\n",
    "    img_avarage = np.average(img_row, axis=-1)\n",
    "    ax = fig.add_subplot(5,5,n+1, xticks=[], yticks=[])\n",
    "    ax.imshow(l[n])\n",
    "    ax.title.set_text(labels[n])"
   ]
  },
  {
   "cell_type": "markdown",
   "id": "homeless-bottom",
   "metadata": {},
   "source": [
    "# Comentarios:\n",
    "\n",
    "* Exercise 1:\n",
    "  * compilation (max: 2.5p):                   2.5p   \n",
    "  * correctness of the result (max: 2.5p):     2.5p \n",
    "  * implementation of the function (max: 2.5p):2.5p \n",
    "  * plot (max: 2.5p):                          2.5p \n",
    "TOTAL: 10p (out of 10p)  \n",
    "  \n",
    "* Exercise 2:\n",
    "  * the program doesnt compile"
   ]
  }
 ],
 "metadata": {
  "kernelspec": {
   "display_name": "Python 3",
   "language": "python",
   "name": "python3"
  },
  "language_info": {
   "codemirror_mode": {
    "name": "ipython",
    "version": 3
   },
   "file_extension": ".py",
   "mimetype": "text/x-python",
   "name": "python",
   "nbconvert_exporter": "python",
   "pygments_lexer": "ipython3",
   "version": "3.7.2"
  }
 },
 "nbformat": 4,
 "nbformat_minor": 5
}
