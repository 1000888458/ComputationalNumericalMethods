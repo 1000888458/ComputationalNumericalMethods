{
 "cells": [
  {
   "cell_type": "code",
   "execution_count": null,
   "metadata": {
    "id": "o6YkG8yune33"
   },
   "outputs": [],
   "source": []
  },
  {
   "cell_type": "code",
   "execution_count": 1,
   "metadata": {
    "id": "dJpbuEPO3h2l"
   },
   "outputs": [
    {
     "name": "stdout",
     "output_type": "stream",
     "text": [
      "1_invitacion_a_presentar_propuesta_-_infraestructuras_de_investigacion_compartidas_2_nov_21(1).pdf\r\n",
      "2021-11-30 07-59-56.mkv\r\n",
      "2021-12-06 10-38-07.mkv\r\n",
      "2021-12-10 09-59-53.mkv\r\n",
      "2_anexo_1_especificaciones_de_las_condiciones_tecnicas_1.pdf\r\n",
      "BEC1-BACKUP\r\n",
      "BEC1-IMG\r\n",
      "BUFFER_WIN_SLACK\r\n",
      "COPA\r\n",
      "DecryptedMEGAsync\r\n",
      "Desktop\r\n",
      "Diego.txt\r\n",
      "Documents\r\n",
      "Downloads\r\n",
      "Dropbox\r\n",
      "FlammarionUniversum.jpg\r\n",
      "GNUstep\r\n",
      "Intento_punto_1.ipynb\r\n",
      "Josh Kerr - SWAY - 3 months in Indonesia riding twin fins--ilFR_rI_ow.f313.webm.part\r\n",
      "Josh Kerr - SWAY - 3 months in Indonesia riding twin fins--ilFR_rI_ow.webm\r\n",
      "MEGASyncBuffer\r\n",
      "MEGASyncDownload\r\n",
      "MEGASyncMovies\r\n",
      "MEGASyncMusic\r\n",
      "MEGASyncPriv\r\n",
      "MEGASyncSlackware\r\n",
      "MEGASyncSoftware\r\n",
      "MEGASyncWork\r\n",
      "MEGAsync\r\n",
      "MEGAsync_camera_uploads\r\n",
      "MINCIENCIAS.txt\r\n",
      "Mail\r\n",
      "Metodos Computacionales - Teoria (2021-12-10 at 05_07 GMT-8).mp4\r\n",
      "Michael Kiwanuka - Love & Hate (Live Session)-aMZ4QL0orw0.f248.webm.part\r\n",
      "Michael Kiwanuka - Love & Hate (Live Session)-aMZ4QL0orw0.m4a\r\n",
      "Minha Conta - Meus pedidos | 123Milhas.pdf\r\n",
      "Project_management\r\n",
      "SO_backup\r\n",
      "SpiderOak Hive\r\n",
      "Sync\r\n",
      "TEMP\r\n",
      "TMP\r\n",
      "Templates\r\n",
      "Untitled.ipynb\r\n",
      "Untitled1.ipynb\r\n",
      "Untitled2.ipynb\r\n",
      "Untitled3.ipynb\r\n",
      "Videos\r\n",
      "VirtualBox VMs\r\n",
      "__pycache__\r\n",
      "_killPython.x\r\n",
      "battery_monitor.sh\r\n",
      "bin\r\n",
      "capela\r\n",
      "cats_and_dogs_filtered\r\n",
      "cdlabx.x\r\n",
      "checkpoints\r\n",
      "clouds\r\n",
      "data\r\n",
      "decrypted_backup\r\n",
      "deep_problem_with_deep_learning.png\r\n",
      "demo\r\n",
      "droopbox\r\n",
      "encrypted_MEGAsync\r\n",
      "intro.txt\r\n",
      "jupyter_shortcuts.txt\r\n",
      "kagglecatsanddogs_3367a.zip\r\n",
      "listDir.sh\r\n",
      "listDir2.sh\r\n",
      "matlab\r\n",
      "matlab_data_corn\r\n",
      "mnist_test.csv\r\n",
      "mnist_test.csv.1\r\n",
      "mnist_test.csv.2\r\n",
      "motion_camera1\r\n",
      "motion_camera2\r\n",
      "msmtp.log\r\n",
      "mutt-wizard\r\n",
      "my_plot.png\r\n",
      "myproject\r\n",
      "notebook.ipynb\r\n",
      "oftc.txt\r\n",
      "pCloudDrive\r\n",
      "pagekite.py\r\n",
      "pcloud_install\r\n",
      "semillero_links.txt\r\n",
      "sent\r\n",
      "students\r\n",
      "syscam\r\n",
      "tensorflow_datasets\r\n",
      "testGit\r\n",
      "testGit2\r\n",
      "thermal\r\n",
      "tmp\r\n",
      "tst\r\n",
      "usb-ntfs\r\n",
      "wifiOn.x\r\n",
      "wifireloader.sh\r\n",
      "wifiroot.sh\r\n",
      "zoom\r\n",
      "~Untitled\r\n",
      "~intro.txt\r\n"
     ]
    }
   ],
   "source": [
    "!ls"
   ]
  },
  {
   "cell_type": "code",
   "execution_count": 2,
   "metadata": {
    "id": "KjMWLE6rLbrY"
   },
   "outputs": [],
   "source": [
    "#from google.colab import drive\n",
    "#drive.mount('/content/drive')\n"
   ]
  },
  {
   "cell_type": "code",
   "execution_count": 3,
   "metadata": {
    "id": "6xmcrEuHS4LV"
   },
   "outputs": [
    {
     "data": {
      "text/plain": [
       "(10000, 785)"
      ]
     },
     "execution_count": 3,
     "metadata": {},
     "output_type": "execute_result"
    }
   ],
   "source": [
    "import pandas as pd\n",
    "import numpy as np\n",
    "import matplotlib.pyplot as plt\n",
    "\n",
    "mnist = pd.read_csv('mnist_test.csv')\n",
    "mn_np = mnist.to_numpy()\n",
    "mn_np.shape\n"
   ]
  },
  {
   "cell_type": "code",
   "execution_count": 4,
   "metadata": {
    "id": "vvD_8vYn2btb"
   },
   "outputs": [
    {
     "data": {
      "text/plain": [
       "0       7\n",
       "1       2\n",
       "2       1\n",
       "3       0\n",
       "4       4\n",
       "       ..\n",
       "9995    2\n",
       "9996    3\n",
       "9997    4\n",
       "9998    5\n",
       "9999    6\n",
       "Name: label, Length: 10000, dtype: int64"
      ]
     },
     "execution_count": 4,
     "metadata": {},
     "output_type": "execute_result"
    }
   ],
   "source": [
    "mnist['label']\n"
   ]
  },
  {
   "cell_type": "code",
   "execution_count": 5,
   "metadata": {
    "id": "TI04ZaIajAbK"
   },
   "outputs": [
    {
     "name": "stdout",
     "output_type": "stream",
     "text": [
      "[  0   0   0   0   0   0   0   0   0   0   0   0   0   0   0   0   0   0\n",
      "   0   0   0   0   0   0   0   0   0   0   0   0   0   0   0   0   0   0\n",
      "   0   0   0   0   0   0   0   0   0   0   0   0   0   0   0   0   0   0\n",
      "   0   0   0   0   0   0   0   0   0   0   0   0   0   0   0   0   0   0\n",
      "   0   0   0   0   0   0   0   0   0   0   0   0   0   0   0   0   0   0\n",
      "   0   0   0   0   0   0   0   0   0   0   0   0   0   0   0   0   0   0\n",
      "   0   0   0   0   0   0   0   0   0   0   0   0   0   0   0   0   0   0\n",
      "   0   0   0   0   0   0   0   0   0   0   0   0   0   0   0   0   0   0\n",
      "   0   0   0   0   0   0   0   0   0   0   0   0   0   0   0   0   0   0\n",
      "   0   0   0   0   0   0   0   0   0   0   0   0   0   0   0   0   0   0\n",
      "   0   0   0   0   0   0   0   0   0   0   0   0   0   0   0   0   0   0\n",
      "   0   0   0   0  84 185 159 151  60  36   0   0   0   0   0   0   0   0\n",
      "   0   0   0   0   0   0   0   0   0   0   0   0   0   0 222 254 254 254\n",
      " 254 241 198 198 198 198 198 198 198 198 170  52   0   0   0   0   0   0\n",
      "   0   0   0   0   0   0  67 114  72 114 163 227 254 225 254 254 254 250\n",
      " 229 254 254 140   0   0   0   0   0   0   0   0   0   0   0   0   0   0\n",
      "   0   0   0  17  66  14  67  67  67  59  21 236 254 106   0   0   0   0\n",
      "   0   0   0   0   0   0   0   0   0   0   0   0   0   0   0   0   0   0\n",
      "   0   0  83 253 209  18   0   0   0   0   0   0   0   0   0   0   0   0\n",
      "   0   0   0   0   0   0   0   0   0   0   0  22 233 255  83   0   0   0\n",
      "   0   0   0   0   0   0   0   0   0   0   0   0   0   0   0   0   0   0\n",
      "   0   0   0 129 254 238  44   0   0   0   0   0   0   0   0   0   0   0\n",
      "   0   0   0   0   0   0   0   0   0   0   0   0  59 249 254  62   0   0\n",
      "   0   0   0   0   0   0   0   0   0   0   0   0   0   0   0   0   0   0\n",
      "   0   0   0   0 133 254 187   5   0   0   0   0   0   0   0   0   0   0\n",
      "   0   0   0   0   0   0   0   0   0   0   0   0   0   9 205 248  58   0\n",
      "   0   0   0   0   0   0   0   0   0   0   0   0   0   0   0   0   0   0\n",
      "   0   0   0   0   0 126 254 182   0   0   0   0   0   0   0   0   0   0\n",
      "   0   0   0   0   0   0   0   0   0   0   0   0   0   0  75 251 240  57\n",
      "   0   0   0   0   0   0   0   0   0   0   0   0   0   0   0   0   0   0\n",
      "   0   0   0   0   0  19 221 254 166   0   0   0   0   0   0   0   0   0\n",
      "   0   0   0   0   0   0   0   0   0   0   0   0   0   0   3 203 254 219\n",
      "  35   0   0   0   0   0   0   0   0   0   0   0   0   0   0   0   0   0\n",
      "   0   0   0   0   0   0  38 254 254  77   0   0   0   0   0   0   0   0\n",
      "   0   0   0   0   0   0   0   0   0   0   0   0   0   0   0  31 224 254\n",
      " 115   1   0   0   0   0   0   0   0   0   0   0   0   0   0   0   0   0\n",
      "   0   0   0   0   0   0   0 133 254 254  52   0   0   0   0   0   0   0\n",
      "   0   0   0   0   0   0   0   0   0   0   0   0   0   0   0   0  61 242\n",
      " 254 254  52   0   0   0   0   0   0   0   0   0   0   0   0   0   0   0\n",
      "   0   0   0   0   0   0   0   0 121 254 254 219  40   0   0   0   0   0\n",
      "   0   0   0   0   0   0   0   0   0   0   0   0   0   0   0   0   0   0\n",
      " 121 254 207  18   0   0   0   0   0   0   0   0   0   0   0   0   0   0\n",
      "   0   0   0   0   0   0   0   0   0   0   0   0   0   0   0   0   0   0\n",
      "   0   0   0   0   0   0   0   0   0   0]\n"
     ]
    }
   ],
   "source": [
    "img_row= mn_np[0,1:]\n",
    "print(img_row)"
   ]
  },
  {
   "cell_type": "code",
   "execution_count": 6,
   "metadata": {
    "id": "_fAv4X6D3atS"
   },
   "outputs": [
    {
     "ename": "TypeError",
     "evalue": "'numpy.ndarray' object is not callable",
     "output_type": "error",
     "traceback": [
      "\u001b[0;31m---------------------------------------------------------------------------\u001b[0m",
      "\u001b[0;31mTypeError\u001b[0m                                 Traceback (most recent call last)",
      "\u001b[0;32m<ipython-input-6-6b9a36e0e96d>\u001b[0m in \u001b[0;36m<module>\u001b[0;34m\u001b[0m\n\u001b[0;32m----> 1\u001b[0;31m \u001b[0mimg_arr\u001b[0m\u001b[0;34m=\u001b[0m \u001b[0mnp\u001b[0m\u001b[0;34m.\u001b[0m\u001b[0mreshape\u001b[0m\u001b[0;34m(\u001b[0m\u001b[0mimg_row\u001b[0m\u001b[0;34m(\u001b[0m\u001b[0;36m5\u001b[0m\u001b[0;34m,\u001b[0m\u001b[0;36m5\u001b[0m\u001b[0;34m)\u001b[0m\u001b[0;34m)\u001b[0m\u001b[0;34m\u001b[0m\u001b[0;34m\u001b[0m\u001b[0m\n\u001b[0m\u001b[1;32m      2\u001b[0m \u001b[0;31m#De verdad que no supe la medida :(\u001b[0m\u001b[0;34m\u001b[0m\u001b[0;34m\u001b[0m\u001b[0;34m\u001b[0m\u001b[0m\n",
      "\u001b[0;31mTypeError\u001b[0m: 'numpy.ndarray' object is not callable"
     ]
    }
   ],
   "source": [
    "img_arr= np.reshape(img_row(5,5))\n",
    "#De verdad que no supe la medida :("
   ]
  },
  {
   "cell_type": "code",
   "execution_count": null,
   "metadata": {
    "id": "qHAc30BwLBYB"
   },
   "outputs": [],
   "source": [
    "figura= plt.figure()\n",
    "aleatorio= np.random.randint(0,10000,size=(1,25))\n",
    "nombre= []\n",
    "l= []\n",
    "for i in range (0,25):\n",
    "  imagen= mn_np[aleatorio[:i]]\n",
    "  #dim= np.reshape(imagen,(25))\n",
    "  l.append(imagen)\n",
    "  tittle= mn_np[aleatorio[:i]]\n",
    "  nombre.append(tittle)\n",
    "  ax= figura.add_subplot(5,5,i+1,xticks=[],yticks=[])\n",
    "  #ax.title(nombre['label'])\n",
    "  ax.imshow(mn_np[:i], cmap=plt.cm.binary)\n"
   ]
  },
  {
   "cell_type": "code",
   "execution_count": null,
   "metadata": {
    "id": "I4x8dPlu3h2q"
   },
   "outputs": [],
   "source": []
  }
 ],
 "metadata": {
  "colab": {
   "name": "Intento punto 1.ipynb",
   "private_outputs": true,
   "provenance": []
  },
  "kernelspec": {
   "display_name": "Python 3",
   "language": "python",
   "name": "python3"
  },
  "language_info": {
   "codemirror_mode": {
    "name": "ipython",
    "version": 3
   },
   "file_extension": ".py",
   "mimetype": "text/x-python",
   "name": "python",
   "nbconvert_exporter": "python",
   "pygments_lexer": "ipython3",
   "version": "3.7.2"
  }
 },
 "nbformat": 4,
 "nbformat_minor": 1
}
