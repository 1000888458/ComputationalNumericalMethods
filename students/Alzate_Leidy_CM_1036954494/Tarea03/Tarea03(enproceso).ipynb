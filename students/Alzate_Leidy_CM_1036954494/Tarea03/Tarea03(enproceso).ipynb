{
 "metadata": {
  "name": ""
 },
 "nbformat": 3,
 "nbformat_minor": 0,
 "worksheets": [
  {
   "cells": [
    {
     "cell_type": "heading",
     "level": 1,
     "metadata": {},
     "source": [
      "Task 03"
     ]
    },
    {
     "cell_type": "markdown",
     "metadata": {},
     "source": [
      "The code below calculates the binary representation of a number according to the IEEE 754-2008 standard"
     ]
    },
    {
     "cell_type": "code",
     "collapsed": false,
     "input": [
      "#### NUMERO REAL A BINARIO\n",
      "def realtobin(n):\n",
      "    #######convirtiendo la parte entera\n",
      "    ent = int(n)\n",
      "    frac= n-int(n)\n",
      "    entbin=[]\n",
      "    i=0\n",
      "    while ent>0:\n",
      "        mod = ent%2\n",
      "        ent = ent/2\n",
      "        entbin.insert(0,mod)\n",
      "        i += 1\n",
      "\n",
      "    ########convirtiendo la parte fraccionaria\n",
      "    fracbin=[]\n",
      "    while frac>0:\n",
      "        frac=frac*2\n",
      "        infrac=int(frac)\n",
      "        if infrac>0:\n",
      "            frac=frac-infrac\n",
      "        fracbin.append(infrac)\n",
      "    \n",
      "    #######Obteniendo el numero binario\n",
      "    binario1=\"\"\n",
      "    for i in entbin:\n",
      "        binario1 += str(i)\n",
      "    exp1=len(binario1)\n",
      "    binario2=\"\"\n",
      "    for i in fracbin:\n",
      "        binario2 += str(i)\n",
      "    exp2=len(binario2)\n",
      "\n",
      "    binsum=binario1+binario2\n",
      "    lensum=len(binsum)\n",
      "    binario=int(binsum)*10**(-exp2)\n",
      "    print 'El numero dado en binario es', binario\n",
      "    \n",
      "### REPRESENTACION EN IEEE 754\n",
      "\n",
      "#### Normalizacion del binario\n",
      "    if int(binario)==0:\n",
      "        exp=exp2\n",
      "        normalbin=binario*10**(exp)\n",
      "        if int(normalbin)>1:\n",
      "            exp=exp-1\n",
      "            'exp es', exp\n",
      "    else:\n",
      "        exp=exp1-1\n",
      "\n",
      "    normalbin=binario*10**(exp)\n",
      "    print 'binario normalizado: ', normalbin\n",
      "    print 'exponente del binario normalizado', exp\n",
      "\n",
      "    exp=exp+127\n",
      "#    print 'exponente a convertir en binario:', exp\n",
      "    \n",
      "    return binario\n",
      "    return exp\n",
      "\n",
      "#convertir exponente a binario usando la rutina\n",
      "\n",
      "#mantisa=(normalbin-int(normalbin))*10\n",
      "#print 'mantisa:', mantisa\n"
     ],
     "language": "python",
     "metadata": {},
     "outputs": [],
     "prompt_number": 28
    },
    {
     "cell_type": "code",
     "collapsed": false,
     "input": [
      "real = input('Ingrese el numero real que desea convertir a binario: ' )\n",
      "binario=realtobin(real)"
     ],
     "language": "python",
     "metadata": {},
     "outputs": [
      {
       "name": "stdout",
       "output_type": "stream",
       "stream": "stdout",
       "text": [
        "Ingrese el numero real que desea convertir a binario: 0.25\n"
       ]
      },
      {
       "output_type": "stream",
       "stream": "stdout",
       "text": [
        "El numero dado en binario es 0.01\n",
        "binario normalizado:  1.0\n",
        "exponente del binario normalizado 2\n"
       ]
      }
     ],
     "prompt_number": 29
    },
    {
     "cell_type": "heading",
     "level": 2,
     "metadata": {},
     "source": [
      "Tarea en proceso..."
     ]
    }
   ],
   "metadata": {}
  }
 ]
}