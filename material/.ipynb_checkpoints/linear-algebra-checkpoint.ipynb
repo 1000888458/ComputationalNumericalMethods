{
 "cells": [
  {
   "cell_type": "markdown",
   "metadata": {},
   "source": [
    "# Linear Algebra"
   ]
  },
  {
   "cell_type": "markdown",
   "metadata": {},
   "source": [
    "Linear Algebra is a discipline where vector spaces and linear mapping between them are studied. In physics and astronomy, several phenomena can be readily written in terms of linear variables, what makes Computational Linear Algebra a very important topic to be covered throughout this course. We shall cover linear systems of equations, techniques for calculating inverses and determinants and factorization methods.\n",
    "\n",
    "An interesting fact of Computational Linear Algebra is that it does not comprises numerical approaches as most of the methods are exact. The usage of a computer is then necessary because of the large number of calculations rather than the non-soluble nature of the problems. Numerical errors come then from round-off approximations."
   ]
  },
  {
   "cell_type": "markdown",
   "metadata": {},
   "source": [
    "- - -\n",
    "- [Linear Systems of Equations](#Linear-Systems-of-Equations) \n",
    "    - [Matrices and vectors](#Matrices-and-vectors)\n",
    "    - [Example 1](#Example-1)\n",
    "    - [Matrices in Python](#Matrices-in-Python)\n",
    "    - [Basic operations with matrices](#Basic-operations-with-matrices)\n",
    "- [Gaussian Elimination](#Gaussian-Elimination)\n",
    "    - [General Gaussian elimination](#General-Gaussian-elimination)\n",
    "    - [Computing time](#Computing-time)\n",
    "    - [Example 2](#Example-2)\n",
    "- [Pivoting Strategies](#Pivoting-Strategies)\n",
    "    - [Partial pivoting](#Partial-pivoting)\n",
    "- [Matrix Inversion](#Matrix-Inversion)\n",
    "- [Determinant of a Matrix](#Determinant-of-a-Matrix)\n",
    "    - [Calculating determinants](#Calculating-determinants)\n",
    "    - [Computing time of determinants](#Computing-time-of-determinants)\n",
    "    - [Properties of determinants](#Properties-of-determinants)\n",
    "- [LU Factorization](#LU-Factorization)\n",
    "    - [Derivation of LU factorization](#Derivation-of-LU-factorization)\n",
    "    - [Algorithm for LU factorization](#Algorithm-for-LU-factorization)\n",
    "\n",
    "- - -"
   ]
  },
  {
   "cell_type": "code",
   "execution_count": 1,
   "metadata": {},
   "outputs": [
    {
     "name": "stdout",
     "output_type": "stream",
     "text": [
      "Populating the interactive namespace from numpy and matplotlib\n"
     ]
    },
    {
     "ename": "ModuleNotFoundError",
     "evalue": "No module named 'JSAnimation'",
     "output_type": "error",
     "traceback": [
      "\u001b[0;31m---------------------------------------------------------------------------\u001b[0m",
      "\u001b[0;31mModuleNotFoundError\u001b[0m                       Traceback (most recent call last)",
      "\u001b[0;32m<ipython-input-1-8e9e748e6723>\u001b[0m in \u001b[0;36m<module>\u001b[0;34m\u001b[0m\n\u001b[1;32m      3\u001b[0m \u001b[0;32mimport\u001b[0m \u001b[0mmatplotlib\u001b[0m\u001b[0;34m.\u001b[0m\u001b[0mpyplot\u001b[0m \u001b[0;32mas\u001b[0m \u001b[0mplt\u001b[0m\u001b[0;34m\u001b[0m\u001b[0;34m\u001b[0m\u001b[0m\n\u001b[1;32m      4\u001b[0m \u001b[0;31m# JSAnimation import available at https://github.com/jakevdp/JSAnimation\u001b[0m\u001b[0;34m\u001b[0m\u001b[0;34m\u001b[0m\u001b[0;34m\u001b[0m\u001b[0m\n\u001b[0;32m----> 5\u001b[0;31m \u001b[0;32mfrom\u001b[0m \u001b[0mJSAnimation\u001b[0m \u001b[0;32mimport\u001b[0m \u001b[0mIPython_display\u001b[0m\u001b[0;34m\u001b[0m\u001b[0;34m\u001b[0m\u001b[0m\n\u001b[0m\u001b[1;32m      6\u001b[0m \u001b[0;32mfrom\u001b[0m \u001b[0mmatplotlib\u001b[0m \u001b[0;32mimport\u001b[0m \u001b[0manimation\u001b[0m\u001b[0;34m\u001b[0m\u001b[0;34m\u001b[0m\u001b[0m\n\u001b[1;32m      7\u001b[0m \u001b[0;31m#Interpolation add-on\u001b[0m\u001b[0;34m\u001b[0m\u001b[0;34m\u001b[0m\u001b[0;34m\u001b[0m\u001b[0m\n",
      "\u001b[0;31mModuleNotFoundError\u001b[0m: No module named 'JSAnimation'"
     ]
    }
   ],
   "source": [
    "import numpy as np\n",
    "%pylab inline\n",
    "import matplotlib.pyplot as plt\n",
    "# JSAnimation import available at https://github.com/jakevdp/JSAnimation\n",
    "from JSAnimation import IPython_display\n",
    "from matplotlib import animation\n",
    "#Interpolation add-on\n",
    "import scipy.interpolate as interp"
   ]
  },
  {
   "cell_type": "markdown",
   "metadata": {},
   "source": [
    "- - - "
   ]
  },
  {
   "cell_type": "markdown",
   "metadata": {},
   "source": [
    "# Linear Systems of Equations"
   ]
  },
  {
   "cell_type": "markdown",
   "metadata": {},
   "source": [
    "A linear system is a set of equations of $n$ variables that can be written in a general form:\n",
    "\n",
    "$$ a_{11}x_1 + a_{12}x_2 + \\cdots a_{1n}x_n = b_1 $$\n",
    "$$\\vdots$$\n",
    "$$ a_{m1}x_1 + a_{m2}x_2 + \\cdots a_{mn}x_n = b_m $$\n",
    "\n",
    "where $n$ is, again, the number of variables, and $m$ the number of equations. \n",
    "\n",
    "A linear system has solution if and only if $m\\geq n$. This leads us to the main objetive of a linear system, find the set $\\{x_i\\}_{i=0}^n$ that fulfills all the equations.\n",
    "\n",
    "Although there is an intuitive way to solve this type of systems, by just adding and subtracting equations until reaching the desire result, the large number of variables of some systems found in physics and astronomy makes necessary to develop iterative and general approaches. Next, we shall introduce matrix and vector notation and some basic operations that will be the basis of the methods to be developed in this section."
   ]
  },
  {
   "cell_type": "markdown",
   "metadata": {},
   "source": [
    "## Matrices and vectors"
   ]
  },
  {
   "cell_type": "markdown",
   "metadata": {},
   "source": [
    "A $m\\times n$ matrix can be defined as a set of numbers arranged in columns and rows such as:\n",
    "\n",
    "$$ A = [a_{ij}] = \\left[ \\matrix{\n",
    "a_{11} & a_{12} & \\cdots & a_{1n} \\\\\n",
    "a_{21} & a_{22} & \\cdots & a_{2n} \\\\\n",
    "\\vdots & \\vdots & & \\vdots\\\\\n",
    "a_{m1} & a_{m2} & \\cdots & a_{mn} \n",
    "}\\right] $$\n",
    "\n",
    "In the same way, it is possible to define a $n$-dimensional column vector as\n",
    "\n",
    "$$ \\textbf{x} = \\left[ \\matrix{\n",
    "x_{1} \\\\\n",
    "x_{2} \\\\\n",
    "\\vdots\\\\\n",
    "x_{n} \n",
    "}\\right] $$\n",
    "\n",
    "and a row vector \n",
    "\n",
    "$$ \\textbf{y} = \\left[ \\matrix{\n",
    "y_{1} &\n",
    "y_{2} &\n",
    "\\cdots &\n",
    "y_{n} \n",
    "}\\right] $$"
   ]
  },
  {
   "cell_type": "markdown",
   "metadata": {},
   "source": [
    "The system of equations \n",
    "\n",
    "$$ a_{11}x_1 + a_{12}x_2 + \\cdots a_{1n}x_n = b_1 $$\n",
    "$$\\vdots$$\n",
    "$$ a_{m1}x_1 + a_{m2}x_2 + \\cdots a_{mn}x_n = b_m $$\n",
    "\n",
    "can be then written in a more convenient way as\n",
    "\n",
    "$$ A \\textbf{x} =  \\left[ \\matrix{\n",
    "a_{11} & a_{12} & \\cdots & a_{1n} \\\\\n",
    "a_{21} & a_{22} & \\cdots & a_{2n} \\\\\n",
    "\\vdots & \\vdots & & \\vdots\\\\\n",
    "a_{m1} & a_{m2} & \\cdots & a_{mn} \n",
    "}\\right] \n",
    "\\left[ \\matrix{\n",
    "x_{1} \\\\\n",
    "x_{2} \\\\\n",
    "\\vdots\\\\\n",
    "x_{n} \n",
    "}\\right]  = b = \n",
    "\\left[ \\matrix{\n",
    "b_{1} \\\\\n",
    "b_{2} \\\\\n",
    "\\vdots\\\\\n",
    "b_{n} \n",
    "}\\right]$$\n",
    "\n",
    "We can also introducing the $n\\times (n+1)$ **augmented matrix** as\n",
    "\n",
    "$$[A:\\textbf{b}] =  \\left[ \\matrix{\n",
    "a_{11} & a_{12} & \\cdots & a_{1n} & \\vdots & b_1 \\\\\n",
    "a_{21} & a_{22} & \\cdots & a_{2n} & \\vdots & b_2 \\\\\n",
    "\\vdots & \\vdots & & \\vdots & \\vdots & \\vdots \\\\\n",
    "a_{m1} & a_{n2} & \\cdots & a_{nn} & \\vdots & b_n\n",
    "}\\right]$$"
   ]
  },
  {
   "cell_type": "markdown",
   "metadata": {},
   "source": [
    "## Example 1"
   ]
  },
  {
   "cell_type": "markdown",
   "metadata": {},
   "source": [
    "Using Kirchhoff's circuit laws, it is possible to solve the next system:\n",
    "\n",
    "![](https://raw.githubusercontent.com/sbustamante/ComputationalMethods/master/material/figures/circuit.png)\n",
    "\n",
    "obtaining the next equations:\n",
    "\n",
    "$$ I_A( R+4R ) - I_B( 4R ) = E $$\n",
    "$$ -I_A( 4R ) + I_B( 4R + 3R ) - I_C(3R) = 0 $$\n",
    "$$ -I_B( 3R ) + I_C(3R+2R) = -2E $$\n",
    "\n",
    "Define the variables $x_1 = R I_A/E$, $x_2 = R I_B/E$ and $x_3 = R I_C/E$ and solve."
   ]
  },
  {
   "cell_type": "markdown",
   "metadata": {},
   "source": [
    "## Matrices in Python"
   ]
  },
  {
   "cell_type": "markdown",
   "metadata": {},
   "source": [
    "One of the most useful advantages of high level languages like Python, is the manipulation of complex objects like matrices and vectors. For this part we are going to use advanced capabilities for handling matrices, provided by the library NumPy.\n",
    "\n",
    "NumPy, besides the extreme useful NumPy array objects, also provides the Matrix objects that are overloaded with proper matrix operations."
   ]
  },
  {
   "cell_type": "code",
   "execution_count": null,
   "metadata": {},
   "outputs": [],
   "source": [
    "#NumPy Arrays\n",
    "M1 = np.array( [[5,-4,0],[-4,7,-3],[0,-3,5]] )\n",
    "M2 = np.array( [[3,-2,1],[-1,5,4],[1,-2,3]] )\n",
    "print M1, \"\\n\"\n",
    "print M2"
   ]
  },
  {
   "cell_type": "code",
   "execution_count": null,
   "metadata": {},
   "outputs": [],
   "source": [
    "#Addition\n",
    "print M1+M2"
   ]
  },
  {
   "cell_type": "code",
   "execution_count": null,
   "metadata": {},
   "outputs": [],
   "source": [
    "#Multiplication\n",
    "print M1*M2"
   ]
  },
  {
   "cell_type": "code",
   "execution_count": null,
   "metadata": {},
   "outputs": [],
   "source": [
    "#Division\n",
    "print 1.0*M1/M2"
   ]
  },
  {
   "cell_type": "code",
   "execution_count": null,
   "metadata": {},
   "outputs": [],
   "source": [
    "#NumPy Matrix\n",
    "M1 = np.matrix( [[5,-4,0],[-4,7,-3],[0,-3,5]] )\n",
    "M2 = np.matrix( [[3,-2,1],[-1,5,4],[1,-2,3]] )\n",
    "\n",
    "print M1, \"\\n\"\n",
    "print M2"
   ]
  },
  {
   "cell_type": "code",
   "execution_count": null,
   "metadata": {},
   "outputs": [],
   "source": [
    "#Addition\n",
    "print M1+M2"
   ]
  },
  {
   "cell_type": "code",
   "execution_count": null,
   "metadata": {},
   "outputs": [],
   "source": [
    "#Multiplication\n",
    "print M1*M2"
   ]
  },
  {
   "cell_type": "markdown",
   "metadata": {},
   "source": [
    "## Basic operations with matrices"
   ]
  },
  {
   "cell_type": "markdown",
   "metadata": {},
   "source": [
    "In order to simplify following methods, we introduce here 3 basic operations over linear systems:\n",
    "\n",
    "**1.** The $i$-th row $E_i$ can be multiplied by a non-zero constant $\\lambda$, and then a new row used in place of $E_i$, i.e. $(\\lambda E_i)\\rightarrow (E_i)$. We denote this operation as $Lamb(E_i,\\lambda)$.\n",
    "\n",
    "**2.** The $j$-th row $E_j$ can be multiplied by a non-zero constant $\\lambda$ and added to some row $E_i$. The resulting value take the place of $E_i$, i.e. $(E_i + \\lambda E_j)\\rightarrow (E_i)$. We denote this operation as $Comb(E_i,E_j,\\lambda)$.\n",
    "\n",
    "**3.** Finally, we define a swapping of two rows as $(E_i)\\leftrightarrow (E_j)$, denoted as $Swap(E_i,E_j)$"
   ]
  },
  {
   "cell_type": "markdown",
   "metadata": {},
   "source": [
    "## <font color='red'> Activity </font>"
   ]
  },
  {
   "cell_type": "markdown",
   "metadata": {},
   "source": [
    "<font color='red'>\n",
    "Write three routines that perform, given a matrix $A$, the previous operations over matrices:\n",
    "</font>"
   ]
  },
  {
   "cell_type": "markdown",
   "metadata": {},
   "source": [
    "<font color='red'>\n",
    " **row_lamb($i$, $\\lambda$, $A$)**: $i$ is the row to be changed, $\\lambda$ the multiplicative factor and A the matrix. This function should return the new matrix with the performed operation $(\\lambda E_i)\\rightarrow (E_i)$.\n",
    "</font>"
   ]
  },
  {
   "cell_type": "markdown",
   "metadata": {},
   "source": [
    "<font color='red'>\n",
    " **row_comb($i$, $j$ $\\lambda$, $A$)**: $i$ is the row to be changed, $j$ the row to be added, $\\lambda$ the multiplicative factor and A the matrix. This function should return the new matrix with the performed operation $(E_i + \\lambda E_j)\\rightarrow (E_i)$.\n",
    "</font>"
   ]
  },
  {
   "cell_type": "markdown",
   "metadata": {},
   "source": [
    "<font color='red'>\n",
    " **row_swap($i$, $j$, $A$)**: $i$ and $j$ are the rows to be swapped. This function should return the new matrix with the performed operation $(E_i)\\leftrightarrow (E_j)$.\n",
    "</font>"
   ]
  },
  {
   "cell_type": "code",
   "execution_count": null,
   "metadata": {},
   "outputs": [],
   "source": [
    "#Lambda function\n",
    "def row_lamb( i, lamb, A ):\n",
    "    B = np.copy(A)\n",
    "    B[i] = lamb*B[i]\n",
    "    return B\n",
    "\n",
    "#Combination function\n",
    "def row_comb( i, j, lamb, A ):\n",
    "    B = np.copy(A)\n",
    "    B[i] = lamb*B[j] + B[i]\n",
    "    return B\n",
    "\n",
    "#Swap function\n",
    "def row_swap( i, j, A ):\n",
    "    B = np.copy(A)\n",
    "    B[[i,j]] = B[[j,i]]\n",
    "    return B"
   ]
  },
  {
   "cell_type": "markdown",
   "metadata": {},
   "source": [
    "- - -"
   ]
  },
  {
   "cell_type": "markdown",
   "metadata": {},
   "source": [
    "# Gaussian Elimination"
   ]
  },
  {
   "cell_type": "markdown",
   "metadata": {},
   "source": [
    "A first method to solve linear systems of equations is the Gaussian elimination. This procedure consists of a set of recursive steps performed in order to diagonalise the matrix of the problem. A suitable way to introduce this method is applying it to some basic problem. To do so, let's take the result of the [Example 1](#Example-1):\n",
    "\n",
    "$$ \\left[ \\matrix{\n",
    "5 & -4 & 0 \\\\\n",
    "-4 & 7 & -3 \\\\ \n",
    "0 & -3 & 5\n",
    "}\\right] \n",
    "\\left[ \\matrix{\n",
    "x_{1} \\\\\n",
    "x_{2} \\\\\n",
    "x_{3} \n",
    "}\\right]  =\n",
    "\\left[ \\matrix{\n",
    "1 \\\\\n",
    "0 \\\\\n",
    "-2\n",
    "}\\right]$$\n",
    "\n",
    "Constructing the associated augmented matrix, we obtain\n",
    "\n",
    "$$ \\left[ \\matrix{\n",
    "5 & -4 & 0 & \\vdots & 1 \\\\\n",
    "-4 & 7 & -3 & \\vdots & 0 \\\\\n",
    "0 & -3 & 5 & \\vdots & -2\n",
    "}\\right] $$\n",
    "\n",
    "At this point, we can eliminate the coefficients of the variable $x_1$ in the second and third equations. For this, we apply the operations $Comb(E_2,E_1,4/5)$. The coefficient in the third equation is already null. We then obtain:\n",
    "\n",
    "$$ \\left[ \\matrix{\n",
    "5 & -4 & 0 & \\vdots & 1 \\\\\n",
    "0 & 3.8 & -3 & \\vdots & 0.8 \\\\\n",
    "0 & -3 & 5 & \\vdots & -2\n",
    "}\\right] $$\n",
    "\n",
    "Now, we proceed to eliminate the coefficient of $x_2$ in the third equation. For this, we apply again $Comb(E_3,E_2,0.789)$, where $3/3.8 = 0.789$.\n",
    "\n",
    "$$ \\left[ \\matrix{\n",
    "5 & -4 & 0 & \\vdots & 1 \\\\\n",
    "0 & 3.8 & -3 & \\vdots & 0.8 \\\\\n",
    "0 & 0 & 2.632 & \\vdots & -1.368\n",
    "}\\right] $$\n",
    "\n",
    "The final step is to solve for $x_3$ in the last equation, doing the operation $Lamb(E_3,1/2.632)$, yielding:\n",
    "\n",
    "$$ \\left[ \\matrix{\n",
    "5 & -4 & 0 & \\vdots & 1 \\\\\n",
    "0 & 3.8 & -3 & \\vdots & 0.8 \\\\\n",
    "0 & 0 & 1 & \\vdots & -0.520\n",
    "}\\right] $$\n",
    "\n",
    "From this, it is direct to conclude that $x_3 = -0.502$, for $x_2$ and $x_1$ it is only necessary to replace the found value of $x_3$."
   ]
  },
  {
   "cell_type": "markdown",
   "metadata": {},
   "source": [
    "## <font color='red'> Activity </font>"
   ]
  },
  {
   "cell_type": "markdown",
   "metadata": {},
   "source": [
    "<font color='red'>\n",
    "Using the three routines written in the previous activity, reproduce the last steps for the matrix of the Example 1.\n",
    "</font>"
   ]
  },
  {
   "cell_type": "markdown",
   "metadata": {},
   "source": [
    "## General Gaussian elimination"
   ]
  },
  {
   "cell_type": "markdown",
   "metadata": {},
   "source": [
    "Now, we shall describe the general procedure for Gaussian elimination: \n",
    "\n",
    "**1.** Give an augmented matrix $\\hat{A}=[A:\\textbf{b}]$.\n",
    "\n",
    "**2.** Find the first non-zero coefficient $a_{i1}$ associated to $x_1$. This element is called **pivot**.\n",
    "\n",
    "**3.** Apply the operation $Swap(E_1,E_i)$. This guarantee the first row has a non-zero coefficient $a_{11}$.\n",
    "\n",
    "**4.** Apply the operation $Comb(E_j,E_1,-a_{j1}/a_{11})$. This eliminates the coefficients associated to $x_1$ in all the rows but in the first one.\n",
    "\n",
    "**5.** Repeat steps **2** to **4** but for the coefficients of $x_2$ and then $x_3$ and so up to $x_n$. When iterating the coefficients of $x_{k}$, do not take into account the first $k$-th rows as they are already sorted.\n",
    "\n",
    "**6.** Once you obtain a diagonal form of the matrix, apply the operation $Lamb(E_n,1/a_{nn})$. This will make the coefficient of $x_n$ in the last equation equal to 1.\n",
    "\n",
    "**7.** The final result should be an augmented matrix of the form:\n",
    "\n",
    "$$\\left[ \\matrix{\n",
    "a_{11} & a_{12} & \\cdots & a_{1(n-1)} & a_{1n} & \\vdots & \\hat b_1 \\\\\n",
    "0 & a_{22} & \\cdots & a_{2(n-1)} & a_{2n} & \\vdots & \\hat b_2 \\\\\n",
    "\\vdots & \\vdots &  & \\vdots & \\vdots & \\vdots & \\vdots \\\\\n",
    "0 & 0 & \\cdots & a_{(n-1)(n-1)} & a_{(n-1)n} & \\vdots & \\hat b_{n-1} \\\\\n",
    "0 & 0 & \\cdots & 0 & 1 & \\vdots & \\hat b_n\n",
    "}\\right]$$\n",
    "\n",
    "**8.** The solution to the problem is then obtained through backward substitutions, i.e.\n",
    "\n",
    "$$x_n = \\hat b_n$$\n",
    "$$ x_{n-1} =  \\frac{\\hat b_{n-1} + a_{(n-1)n}x_n}{a_{(n-1)(n-1)}}$$\n",
    "$$\\vdots$$\n",
    "$$x_i = \\frac{\\hat b_i - \\sum_{j=i+1}^n a_{ij}x_j}{a_{ii}}\\ \\ \\ \\ \\mbox{for}\\ \\ \\ i=n-1, n-2, \\cdots, 1$$"
   ]
  },
  {
   "cell_type": "code",
   "execution_count": null,
   "metadata": {},
   "outputs": [],
   "source": [
    "#Gaussian Elimination\n",
    "def Gaussian_Elimination( A0):\n",
    "    #Making local copy of matrix\n",
    "    A=A0\n",
    "    A = np.copy(A0)\n",
    "    #Detecting size of matrix\n",
    "    n = len(A)\n",
    "    \n",
    "    #Sweeping all the columns in order to eliminate coefficients of the i-th variable\n",
    "    for i in range( 0, n ):\n",
    "        \n",
    "        #Sweeping all the rows for the i-th column in order to find the first non-zero coefficient\n",
    "        for j in range( i, n ):\n",
    "            if A[i,j] != 0:\n",
    "                #Normalization coefficient\n",
    "                Norm = 1.0*A[i,j]\n",
    "                break\n",
    "                \n",
    "        #Applying swap operation to put the non-zero coefficient in the i-th row\n",
    "        A = row_swap( i, j, A )\n",
    "        \n",
    "        #Eliminating the coefficient associated to the i-th variable\n",
    "        for j in range( i+1, n ):\n",
    "            A = row_comb( j, i, -A[j,i]/Norm, A )\n",
    "            \n",
    "    #Normalizing n-th variable\n",
    "    A = row_lamb( n-1, 1.0/A[n-1,n-1], A )\n",
    "        \n",
    "    #Finding solution\n",
    "    x = np.zeros( n )\n",
    "    x[n-1] = A[n-1,n]\n",
    "    for i in range( n-1, -1, -1 ):\n",
    "        x[i] = ( A[i,n] - sum(A[i,i+1:n]*x[i+1:n]) )/A[i,i]\n",
    "    \n",
    "    #Upper diagonal matrix and solutions x\n",
    "    return A, x"
   ]
  },
  {
   "cell_type": "code",
   "execution_count": 2,
   "metadata": {},
   "outputs": [
    {
     "name": "stdout",
     "output_type": "stream",
     "text": [
      "Augmented Matrix M:\n",
      " [[0.66597371 0.69683415 0.91307907 0.35925914 0.44906185]\n",
      " [0.78035065 0.94324115 0.11851405 0.66796739 0.80099773]\n",
      " [0.77443401 0.97867271 0.2709107  0.33807994 0.93119976]\n",
      " [0.03751006 0.42166987 0.18703669 0.54846743 0.4304317 ]] \n",
      "\n"
     ]
    },
    {
     "ename": "NameError",
     "evalue": "name 'Gaussian_Elimination' is not defined",
     "output_type": "error",
     "traceback": [
      "\u001b[0;31m---------------------------------------------------------------------------\u001b[0m",
      "\u001b[0;31mNameError\u001b[0m                                 Traceback (most recent call last)",
      "\u001b[0;32m<ipython-input-2-8eebeeff8694>\u001b[0m in \u001b[0;36m<module>\u001b[0;34m\u001b[0m\n\u001b[1;32m      3\u001b[0m \u001b[0mprint\u001b[0m\u001b[0;34m(\u001b[0m\u001b[0;34m\"Augmented Matrix M:\\n\"\u001b[0m\u001b[0;34m,\u001b[0m \u001b[0mM\u001b[0m\u001b[0;34m,\u001b[0m \u001b[0;34m\"\\n\"\u001b[0m\u001b[0;34m)\u001b[0m\u001b[0;34m\u001b[0m\u001b[0;34m\u001b[0m\u001b[0m\n\u001b[1;32m      4\u001b[0m \u001b[0;31m#Solving using Gaussian Elimination\u001b[0m\u001b[0;34m\u001b[0m\u001b[0;34m\u001b[0m\u001b[0;34m\u001b[0m\u001b[0m\n\u001b[0;32m----> 5\u001b[0;31m \u001b[0mD\u001b[0m\u001b[0;34m,\u001b[0m \u001b[0mx\u001b[0m \u001b[0;34m=\u001b[0m \u001b[0mGaussian_Elimination\u001b[0m\u001b[0;34m(\u001b[0m\u001b[0mM\u001b[0m\u001b[0;34m)\u001b[0m\u001b[0;34m\u001b[0m\u001b[0;34m\u001b[0m\u001b[0m\n\u001b[0m\u001b[1;32m      6\u001b[0m \u001b[0mprint\u001b[0m \u001b[0;34m(\u001b[0m\u001b[0;34m\"Augmented Diagonal Matrix D:\\n\"\u001b[0m\u001b[0;34m,\u001b[0m \u001b[0mD\u001b[0m\u001b[0;34m,\u001b[0m \u001b[0;34m\"\\n\"\u001b[0m\u001b[0;34m)\u001b[0m\u001b[0;34m\u001b[0m\u001b[0;34m\u001b[0m\u001b[0m\n\u001b[1;32m      7\u001b[0m \u001b[0mprint\u001b[0m \u001b[0;34m(\u001b[0m\u001b[0;34m\"Obtained solution:\\n\"\u001b[0m\u001b[0;34m,\u001b[0m \u001b[0mx\u001b[0m\u001b[0;34m,\u001b[0m \u001b[0;34m\"\\n\"\u001b[0m\u001b[0;34m)\u001b[0m\u001b[0;34m\u001b[0m\u001b[0;34m\u001b[0m\u001b[0m\n",
      "\u001b[0;31mNameError\u001b[0m: name 'Gaussian_Elimination' is not defined"
     ]
    }
   ],
   "source": [
    "#Generating random matrix\n",
    "M = np.matrix( np.random.random( (4,5) ) )\n",
    "print(\"Augmented Matrix M:\\n\", M, \"\\n\")\n",
    "#Solving using Gaussian Elimination\n",
    "D, x = Gaussian_Elimination(M)\n",
    "print (\"Augmented Diagonal Matrix D:\\n\", D, \"\\n\")\n",
    "print (\"Obtained solution:\\n\", x, \"\\n\")\n",
    "print (\"Exact solution:\\n\", (M[:,:4]**-1*M[:,4]).T, \"\\n\")"
   ]
  },
  {
   "cell_type": "code",
   "execution_count": null,
   "metadata": {},
   "outputs": [],
   "source": [
    "x2=np.linalg.solve(M[:,0:-1],M[:,-1])\n",
    "print(x2)"
   ]
  },
  {
   "cell_type": "markdown",
   "metadata": {},
   "source": [
    "## Computing time"
   ]
  },
  {
   "cell_type": "markdown",
   "metadata": {},
   "source": [
    "As mentioned before, Algebra Linear methods do not invole numerical approximations excepting round-off errors. This implies the computing time depends on the number of involved operations (multiplications, divisions, additions and subtractions). It is possible to demonstrate that the numbers of required divisions/multiplications is given by:\n",
    "\n",
    "$$\\frac{n^3}{3}+n^2-\\frac{n}{3}$$\n",
    "\n",
    "and the required additions/subtractions:\n",
    "\n",
    "$$\\frac{n^3}{3}+\\frac{n^2}{2}-\\frac{5n}{6}$$\n",
    "\n",
    "These numbers are calculated separately as the computing time per operation for divisions and multiplications are similar and much larger than computing times for additions and subtractions. According to this, the overall computing time, for large $n$, scales as $n^3$/3."
   ]
  },
  {
   "cell_type": "markdown",
   "metadata": {},
   "source": [
    "## Example 2"
   ]
  },
  {
   "cell_type": "markdown",
   "metadata": {},
   "source": [
    "Using the library `datetime` of python, evaluate the computing time required for `Gaussian_Elimination` to find the solution of a system of $n=20$ equations and $20$ unknowns. For this purpose you can generate random systems. For a more robust result, repeat $500$ times, give a mean value and plot an histrogram of the computing times."
   ]
  },
  {
   "cell_type": "code",
   "execution_count": null,
   "metadata": {},
   "outputs": [],
   "source": [
    "#Importing datatime\n",
    "from datetime import datetime\n",
    "\n",
    "#Number of repeats\n",
    "Nrep = 500\n",
    "#Size of matrix\n",
    "n = 20\n",
    "\n",
    "def Gaussian_Time( n, Nrep ):\n",
    "    #Arrays of times\n",
    "    Times = []\n",
    "    #Cicle for number of repeats\n",
    "    for i in xrange(Nrep):\n",
    "        #Generating random matrix\n",
    "        M = np.matrix( np.random.random( (n,n+1) ) )\n",
    "        \n",
    "        #Starting time counter\n",
    "        tstart = datetime.now()\n",
    "        #Invoking Gaussian Elimination routine\n",
    "        Gaussian_Elimination(M)\n",
    "        #Killing time counter\n",
    "        tend = datetime.now()\n",
    "        \n",
    "        #Saving computing time\n",
    "        Times.append( (tend-tstart).microseconds )\n",
    "        \n",
    "    #Numpy Array\n",
    "    Times = np.array(Times)\n",
    "    \n",
    "    print \"The mean computing time for a %dx%d matrix is: %lf microseconds\"%(n,n,Times.mean())\n",
    "    \n",
    "    #Histrogram\n",
    "    plt.figure( figsize=(8,5) )\n",
    "    histo = plt.hist( Times, bins = 30 )\n",
    "    plt.xlabel( \"Computing Time [microseconds]\" )\n",
    "    plt.ylabel( \"Ocurrences\" )\n",
    "    plt.grid()\n",
    "    \n",
    "    return Times.mean()\n",
    "    \n",
    "    \n",
    "Gaussian_Time( n, Nrep )"
   ]
  },
  {
   "cell_type": "markdown",
   "metadata": {},
   "source": [
    "## <font color='red'> Activity </font>"
   ]
  },
  {
   "cell_type": "markdown",
   "metadata": {},
   "source": [
    "<font color='red'>\n",
    "Using the previous code, estimate the computing time for random matrices of size $n=5,10,50,100,500,1000$. For each size, compute $500$ times in order to reduce spurious errors. Plot the results in a figure of $n$ vs computing time. Is it verified the some of scaling laws (Multiplication/Division or Addition/Sustraction). Note that for large values of $n$, both scaling laws converge to the same.\n",
    "</font>"
   ]
  },
  {
   "cell_type": "markdown",
   "metadata": {},
   "source": [
    "- - -"
   ]
  },
  {
   "cell_type": "markdown",
   "metadata": {},
   "source": [
    "# Pivoting Strategies"
   ]
  },
  {
   "cell_type": "markdown",
   "metadata": {},
   "source": [
    "The previous method of Gaussian Elimination for finding solutions of linear systems is mathematically exact, however round-off errors that appear in computational arithmetics can represent a real problem when high accuracy is required.\n",
    "\n",
    "In order to illustrate this, consider the next situation:\n",
    "\n",
    "$$ E_1: 0.00300x_1 + 59.14x_2 = 59.17 $$\n",
    "$$ E_2: 5.291x_1 - 6.130x_2 = 46.78 $$\n",
    "\n",
    "Using four-digit arithmetic we obtain:\n",
    "\n",
    "**1.** Constructing the augmented matrix:\n",
    "\n",
    "$$ \\left[ \\matrix{\n",
    "0.003 & 59.14 & \\vdots & 59.17 \\\\\n",
    "5.291 & -6.130 & \\vdots & 46.78\n",
    "}\\right] $$\n",
    "\n",
    "**2.** Applying the reduction with the first pivot, we obtain:\n",
    "\n",
    "$$(E_1 + m E_2)\\rightarrow (E_1)$$\n",
    "\n",
    "where:\n",
    "\n",
    "$$m = -\\frac{a_{21}}{a_{11}} = -\\frac{5.291}{0.003} = 1763.666\\cdots \\approx 1764$$\n",
    "\n",
    "In this step, we have taken the first four digits. This leads us to:\n",
    "\n",
    "$$ \\left[ \\matrix{\n",
    "0.003 & 59.14 & \\vdots & 59.17 \\\\\n",
    "0 & -104300 & \\vdots & -104400\n",
    "}\\right] $$\n",
    "\n",
    "The exact system is instead\n",
    "\n",
    "$$ \\left[ \\matrix{\n",
    "0.003 & 59.14 & \\vdots & 59.17 \\\\\n",
    "0 & -104309.37\\bar{6} & \\vdots & -104309.37\\bar{6}\n",
    "}\\right] $$\n",
    "\n",
    "Using the solution $x_2 \\approx 1.001$, we obtain\n",
    "\n",
    "$$ x_1 \\approx \\frac{59.17 - (59.14)(1.001)}{0.00300} = -10 $$\n",
    "\n",
    "The exact solution is however:\n",
    "\n",
    "$$ x_1 = 10.00 $$\n",
    "\n",
    "The source of such a large error is that the factor $59.14/0.00300 \\approx 20000$. This quantity is propagated through the combination steps of the Gaussian Elimination, yielding a complete wrong result."
   ]
  },
  {
   "cell_type": "markdown",
   "metadata": {},
   "source": [
    "## Partial pivoting"
   ]
  },
  {
   "cell_type": "markdown",
   "metadata": {},
   "source": [
    "A suitable method to reduce round-off errors is to choose a pivot more conveniently. As we saw before, a small pivot generally implies larger propagated errors as they appear usually as dividends. The partial pivoting method consists then of a choosing of the largest absolute coefficient associated to $x_i$ instead of the first non-null one, i.e.\n",
    "\n",
    "$$ |a_{ii}| = \\max_{i\\leq j\\leq n}|a_{ji}| $$\n",
    "\n",
    "This way, propagated multiplication errors would be minimized."
   ]
  },
  {
   "cell_type": "markdown",
   "metadata": {},
   "source": [
    "## <font color='red'> Activity </font>"
   ]
  },
  {
   "cell_type": "markdown",
   "metadata": {},
   "source": [
    "<font color='red'>\n",
    "Create a new routine `Gaussian_Elimination_Pivoting` from `Gaussian_Elimination` in order to include the partial pivoting method. Compare both routines with some random matrix and with the exact solution.\n",
    "</font>"
   ]
  },
  {
   "cell_type": "markdown",
   "metadata": {},
   "source": [
    "- - -"
   ]
  },
  {
   "cell_type": "markdown",
   "metadata": {},
   "source": [
    "# Matrix Inversion"
   ]
  },
  {
   "cell_type": "markdown",
   "metadata": {},
   "source": [
    "Asumming a nonsingular matrix $A$, if a matrix $A^{-1}$ exists, with $AA^{-1} = I$ and $A^{-1}A = I$, where $I$ is the identity matrix, then $A^{-1}$ is called the inverse matrix of $A$. If such a matrix does not exist, $A$ is said to be a singular matrix.\n",
    "\n",
    "A corollary of this definition is that $A$ is also the inverse matrix of $A^{-1}$.\n",
    "\n",
    "Once defined the Gaussian Elimination method, it is possible to extend it in order to find the inverse of any nonsingular matrix.\n",
    "Let's consider the next equation:\n",
    "\n",
    "$$ AA^{-1} = AB= \\left[ \\matrix{\n",
    "a_{11} & a_{12} & \\cdots & a_{1n} \\\\\n",
    "a_{21} & a_{22} & \\cdots & a_{2n} \\\\\n",
    "\\vdots & \\vdots & & \\vdots\\\\\n",
    "a_{m1} & a_{n2} & \\cdots & a_{nn} \n",
    "}\\right]\\left[ \\matrix{\n",
    "b_{11} & b_{12} & \\cdots & b_{1n} \\\\\n",
    "b_{21} & b_{22} & \\cdots & b_{2n} \\\\\n",
    "\\vdots & \\vdots & & \\vdots\\\\\n",
    "b_{n1} & b_{n2} & \\cdots & b_{nn} \n",
    "}\\right] = \n",
    "\\left[ \\matrix{\n",
    "1 & 0 & \\cdots & 0 \\\\\n",
    "0 & 1 & \\cdots & 0 \\\\\n",
    "\\vdots & \\vdots & \\ddots & \\vdots\\\\\n",
    "0 & 0 & \\cdots & 1\n",
    "}\\right]$$\n",
    "\n",
    "This can be rewritten as a set of $n$ systems of equations, i.e.\n",
    "\n",
    "$$ \\left[ \\matrix{\n",
    "a_{11} & a_{12} & \\cdots & a_{1n} \\\\\n",
    "a_{21} & a_{22} & \\cdots & a_{2n} \\\\\n",
    "\\vdots & \\vdots & & \\vdots\\\\\n",
    "a_{n1} & a_{n2} & \\cdots & a_{nn} \n",
    "}\\right]\\left[ \\matrix{\n",
    "b_{11} \\\\\n",
    "b_{21} \\\\\n",
    "\\vdots \\\\\n",
    "b_{n1}\n",
    "}\\right] = \n",
    "\\left[ \\matrix{\n",
    "1 \\\\\n",
    "0 \\\\\n",
    "\\vdots \\\\\n",
    "0\n",
    "}\\right],$$\n",
    "\n",
    "$$\\left[ \\matrix{\n",
    "a_{11} & a_{12} & \\cdots & a_{1n} \\\\\n",
    "a_{21} & a_{22} & \\cdots & a_{2n} \\\\\n",
    "\\vdots & \\vdots & & \\vdots\\\\\n",
    "a_{n1} & a_{n2} & \\cdots & a_{nn} \n",
    "}\\right]\\left[ \\matrix{\n",
    "b_{12} \\\\\n",
    "b_{22} \\\\\n",
    "\\vdots \\\\\n",
    "b_{n2}\n",
    "}\\right] = \n",
    "\\left[ \\matrix{\n",
    "0 \\\\\n",
    "1 \\\\\n",
    "\\vdots \\\\\n",
    "0\n",
    "}\\right]$$\n",
    "\n",
    "$$\\vdots$$ \n",
    "$$\\left[ \\matrix{\n",
    "a_{11} & a_{12} & \\cdots & a_{1n} \\\\\n",
    "a_{21} & a_{22} & \\cdots & a_{2n} \\\\\n",
    "\\vdots & \\vdots & & \\vdots\\\\\n",
    "a_{n1} & a_{n2} & \\cdots & a_{nn} \n",
    "}\\right]\\left[ \\matrix{\n",
    "b_{1n} \\\\\n",
    "b_{2n} \\\\\n",
    "\\vdots \\\\\n",
    "b_{nn}\n",
    "}\\right] = \n",
    "\\left[ \\matrix{\n",
    "0 \\\\\n",
    "0 \\\\\n",
    "\\vdots \\\\\n",
    "1\n",
    "}\\right]$$\n",
    "\n",
    "These systems can be solved individually by using Gaussian Elimination, however we can mix all the problems, obtaining the augmented matrix:\n",
    "\n",
    "$$\\left[ \\matrix{\n",
    "a_{11} & a_{12} & \\cdots & a_{1n} & \\vdots & 1 & 0 & \\cdots & 0 \\\\\n",
    "a_{21} & a_{22} & \\cdots & a_{2n} & \\vdots & 0 & 1 & \\cdots & 0 \\\\\n",
    "\\vdots & \\vdots & & \\vdots & \\vdots & \\vdots & \\vdots & \\ddots & \\vdots\\\\\n",
    "a_{n1} & a_{n2} & \\cdots & a_{nn} & \\vdots & 0 & 0 & \\cdots & 1\n",
    "}\\right]$$\n",
    "\n",
    "Now, applying Gaussian Elimination we can obtain a upper diagonal form for the first matrix. Completing the steps using forwards elimination we can convert the first matrix into the identity matrix, obtaining \n",
    "\n",
    "$$\\left[ \\matrix{\n",
    "1 & 0 & \\cdots & 0 & \\vdots & b_{11} & b_{12} & \\cdots & b_{1n} \\\\\n",
    "0 & 1 & \\cdots & 0 & \\vdots & b_{21} & b_{22} & \\cdots & b_{2n} \\\\\n",
    "\\vdots & \\vdots & \\ddots & \\vdots & \\vdots & \\vdots & \\vdots & & \\vdots\\\\\n",
    "0 & 0 & \\cdots & 1 & \\vdots & b_{n1} & b_{n2} & \\cdots & b_{nn}\n",
    "}\\right]$$\n",
    "\n",
    "Where the second matrix is then the inverse $B=A^{-1}$."
   ]
  },
  {
   "cell_type": "markdown",
   "metadata": {},
   "source": [
    "## <font color='red'> Activity </font>"
   ]
  },
  {
   "cell_type": "markdown",
   "metadata": {},
   "source": [
    "<font color='red'>\n",
    "Using the previous routine `Gaussian_Elimination_Pivoting`, create a new routine `Inverse` that calculates the inverse of any given squared matrix.\n",
    "</font>"
   ]
  },
  {
   "cell_type": "markdown",
   "metadata": {},
   "source": [
    "- - -"
   ]
  },
  {
   "cell_type": "markdown",
   "metadata": {},
   "source": [
    "# Determinant of a Matrix"
   ]
  },
  {
   "cell_type": "markdown",
   "metadata": {},
   "source": [
    "The determinant of a matrix is a scalar quantity calculated for square matrix. This provides important information about the matrix of coefficients of a system of linear of equations. For example, any system of $n$ equations and $n$ unknowns has an unique solution if the associated determinant is nonzero. This also implies the determinant allows to evaluate whether a matrix is singular or nonsingular."
   ]
  },
  {
   "cell_type": "markdown",
   "metadata": {},
   "source": [
    "## Calculating determinants"
   ]
  },
  {
   "cell_type": "markdown",
   "metadata": {},
   "source": [
    "Next, we shall define some properties of determinants that will allow us to calculate determinants by using a recursive code:\n",
    "\n",
    "**1.** If $A = [a]$ is a $1\\times 1$ matrix, its determinant is then $\\det A = a$.\n",
    "\n",
    "**2.** If $A$ is a $n\\times n$ matrix, the minor matrix $M_{ij}$ is the determinant of the $(n-1)\\times(n-1)$ matrix obtained by deleting the $i$th row and the $j$th column.\n",
    "\n",
    "**3.** The cofactor $A_{ij}$ associated with $M_{ij}$ is defined by $A_{ij} = (-1)^{i+j}M_{ij}$.\n",
    "\n",
    "**4.** The determinant of a $n\\times n$ matrix $A$ is given by:\n",
    "\n",
    "$$ \\det A = \\sum_{j=1}^n a_{ij}A_{ij} $$\n",
    "\n",
    "or \n",
    "\n",
    "$$ \\det A = \\sum_{i=1}^n a_{ij}A_{ij} $$\n",
    "\n",
    "This is, it is possible to use both, a row or a column for calculating the determinant."
   ]
  },
  {
   "cell_type": "code",
   "execution_count": null,
   "metadata": {},
   "outputs": [],
   "source": [
    "#Determinant of a Matrix\n",
    "def Determinant( A0 ):\n",
    "    #Local copy of matrix\n",
    "    A = np.copy(A0)\n",
    "    #Size of matrix\n",
    "    n = len(A)\n",
    "    \n",
    "    #How to be swept\n",
    "    i = 0\n",
    "    \n",
    "    #Detecting 1x1 matrices\n",
    "    if n==1:\n",
    "        return A[0][0]\n",
    "    #Detecting nxn matrices\n",
    "    else:\n",
    "        #Cumulative variable\n",
    "        determ = 0\n",
    "        for j in xrange(n):\n",
    "            determ += (-1)**(i+j)*A[i,j]*determinant( A[delete(range(n),i)][:,delete(range(n),j)] )\n",
    "        return determ"
   ]
  },
  {
   "cell_type": "code",
   "execution_count": null,
   "metadata": {},
   "outputs": [],
   "source": [
    "#Generating random matrix\n",
    "M = np.matrix( np.random.random( (4,4) ) )\n",
    "print \"Matrix nxn A:\\n\", M, \"\\n\"\n",
    "print \"Determinant by our method D:\\n\", Determinant( M ), \"\\n\"\n",
    "print \"Determinant by NumPy method D:\\n\", det( M ), \"\\n\""
   ]
  },
  {
   "cell_type": "markdown",
   "metadata": {},
   "source": [
    "## Computing time of determinants"
   ]
  },
  {
   "cell_type": "markdown",
   "metadata": {},
   "source": [
    "Using the previous recurrence, we can calculate the computing time of the previous algorithm. First, let's consider the number of required operations for a $2\\times 2$ matrix: let $A$ be a $2\\times 2$ matrix given by:\n",
    "\n",
    "$$ A = \\left[ \\matrix{\n",
    "a_{11} & a_{12} \\\\\n",
    "a_{21} & a_{22}}\\right]$$\n",
    "\n",
    "The determinant is then given by:\n",
    "\n",
    "$$det(A) = a_{11}a_{22} - a_{12}a_{21}$$\n",
    "\n",
    "the number of required multiplications was $2$ and subtractions is $1$.\n",
    "\n",
    "Now, using the previous formula for the determinant\n",
    "\n",
    "$$ \\det A = \\sum_{j=1}^n a_{ij}A_{ij} $$\n",
    "\n",
    "For a $3\\times 3$ matrix, it is necessary to calculate $3$ times $2\\times 2$ determinants. Besides, it is necessary to multiply the cofactor $A_{ij}$ with the coefficient $a_{ij}$, that leads us with $t_{n=3}=3\\times 2 + 3$ multiplications. Additions are not important as their computing time is far less than multiplications.\n",
    "\n",
    "For a $4\\times 4$ matrix, we need four deteminants of $3\\times 3$ submatrices, leading $t_{n=4} = 4\\times( 3\\times 2 + 3 ) + 4 = 4! + \\frac{4!}{2!} + \\frac{4!}{3!}$. In general, for a $n\\times n$ matrix, we have then:\n",
    "\n",
    "$$ t_{n} = \\frac{n!}{(n-1)!} + \\frac{n!}{(n-2)!} + \\cdots + \\frac{n!}{1!} = n!\\left( \\sum_{i=1}^{n-1}\\frac{1}{i!} \\right)$$\n",
    "\n",
    "If $n$ is large enough, we can approximate $t_{n}\\approx n!$.\n",
    "\n",
    "In computers, this is a prohibitive computing time so other schemes have to be proposed."
   ]
  },
  {
   "cell_type": "markdown",
   "metadata": {},
   "source": [
    "## <font color='red'> Activity </font>"
   ]
  },
  {
   "cell_type": "markdown",
   "metadata": {},
   "source": [
    "<font color='red'>\n",
    "Evaluate the computing time of the `Determinant` routine for matrix sizes of $n=1,2,3,\\cdots,10$ and doing several repeats. Plot your result ($n$ vs $t_n$). What can you conclude about the behaviour of the computing time?\n",
    "</font>"
   ]
  },
  {
   "cell_type": "markdown",
   "metadata": {},
   "source": [
    "## Properties of determinants"
   ]
  },
  {
   "cell_type": "markdown",
   "metadata": {},
   "source": [
    "Determinants have a set of properties that can reduce considerably computing times. Suppose $A$ is a $n\\times n$ matrix:\n",
    "\n",
    "**1.** If any row or column of $A$ has only zero entries, then $\\det A = 0$.\n",
    "\n",
    "**2.** If two rows or columns of $A$ are the same, then $\\det A = 0$.\n",
    "\n",
    "**3.** If $\\hat A$ is obtained from $A$ by using a swap operation $(E_i)\\leftrightarrow (E_j)$, then $\\det \\hat A=-\\det A$.\n",
    "\n",
    "**4.** If $\\hat A$ is obtained from $A$ by using a escalation operation $(\\lambda E_i)\\leftrightarrow (E_i)$, then $\\det \\hat A=\\lambda \\det A$.\n",
    "\n",
    "**5.** If $\\hat A$ is obtained from $A$ by using a combination operation $(E_i+\\lambda E_j) \\leftrightarrow (E_i)$, then $\\det \\hat A=\\det A$.\n",
    "\n",
    "**6.** If $B$ is also a $n\\times n$ matrix, then $\\det(AB)=(\\det A)(\\det B).$\n",
    "\n",
    "**7.** $\\det A^t=\\det A.$\n",
    "\n",
    "**8.** $\\det A^{-1}=(\\det A)^{-1}$\n",
    "\n",
    "**9.** Finally and most importantly: if $A$ is an upper, lower or diagonal matrix, then:\n",
    "\n",
    "$$ det A = \\prod_{i=1}^n a_{ii} $$"
   ]
  },
  {
   "cell_type": "markdown",
   "metadata": {},
   "source": [
    "As we analysed before, Gaussian Elimination takes a computing time scaling like $n^3$ for large matrix sizes. According to the previous properties, the determinant of a upper diagonal matrix just takes $n-1$ multiplications, far less than a nondiagonal matrix. Combining these properties, we can track back and relate the determinant of the resulting upper diagonal matrix and the original one. Leading us to a computing time scaling like $n^3$, much better than the original $n!$."
   ]
  },
  {
   "cell_type": "markdown",
   "metadata": {},
   "source": [
    "## <font color='red'> Activity </font>"
   ]
  },
  {
   "cell_type": "markdown",
   "metadata": {},
   "source": [
    "<font color='red'>\n",
    "Using the `Gaussian_Elimination` routine and tracking back the performed operations, construct a new routine called `Gaussian_Determinant`. Make the same analysis of the computing time as the previous activity. Compare both results.\n",
    "</font>"
   ]
  },
  {
   "cell_type": "markdown",
   "metadata": {},
   "source": [
    "- - -"
   ]
  },
  {
   "cell_type": "markdown",
   "metadata": {},
   "source": [
    "# LU Factorization"
   ]
  },
  {
   "cell_type": "markdown",
   "metadata": {},
   "source": [
    "As we saw before, the Gaussian Elimination algorithm takes a computing time scaling as $\\mathcal{O}(n^3/3)$ in order to solve a system of $n$ equations and $n$ unknowns. Let's assume a system of equations $\\mathbf{A}\\mathbf{x} = \\mathbf{b}$ where $\\mathbf{b}$ is already in upper diagonal form. \n",
    "\n",
    "$$\\left[ \\matrix{\n",
    "a_{11} & a_{12} & \\cdots & a_{1(n-1)} & a_{1n} & \\vdots & \\hat b_1 \\\\\n",
    "0 & a_{22} & \\cdots & a_{2(n-1)} & a_{2n} & \\vdots & \\hat b_2 \\\\\n",
    "\\vdots & \\vdots &  & \\vdots & \\vdots & \\vdots & \\vdots \\\\\n",
    "0 & 0 & \\cdots & a_{(n-1)(n-1)} & a_{(n-1)n} & \\vdots & \\hat b_{n-1} \\\\\n",
    "0 & 0 & \\cdots & 0 & a_{nn} & \\vdots & \\hat b_n\n",
    "}\\right]$$\n",
    "\n",
    "The Gauss-Jordan algorithm can reduce even more this problem in order to solve it directly, yielding:\n",
    "\n",
    "$$\\left[ \\matrix{\n",
    "1 & 0 & \\cdots & 0 & 0 & \\vdots & x_1 \\\\\n",
    "0 & 1 & \\cdots & 0 & 0 & \\vdots & x_2 \\\\\n",
    "\\vdots & \\vdots &  & \\vdots & \\vdots & \\vdots & \\vdots \\\\\n",
    "0 & 0 & \\cdots & 1 & 0 & \\vdots & x_{n-1} \\\\\n",
    "0 & 0 & \\cdots & 0 & 1 & \\vdots & x_n\n",
    "}\\right]$$\n",
    "\n",
    "From the upper diagonal form to the completely reduced one, it is necessary to perform $n+(n-1)+(n-2)+\\cdots\\propto n(n-1)$ backwards substitutions. The computing time for solving a upper diagonal system is then $\\mathcal{O}(n^2)$.\n",
    "\n",
    "\n",
    "Now, let $\\mathbf{A}\\mathbf{x} = \\mathbf{b}$ be a general system of equations of $n$ dimensions. Let's assume $\\mathbf{A}$ can be written as a multiplication of two matrices, one lower diagonal $\\mathbf{L}$ and other upper diagonal $\\mathbf{U}$, such that $\\mathbf{A}=\\mathbf{L}\\mathbf{U}$. Defining a vector $\\mathbf{y} = \\mathbf{U}\\mathbf{x}$, it is obtained for the original system \n",
    "\n",
    "$$ \\mathbf{A} \\mathbf{x}=\\mathbf{L}(\\mathbf{U}\\mathbf{x}) = \\mathbf{L}\\mathbf{y} = \\mathbf{b}$$\n",
    "\n",
    "For solving this system we can then:\n",
    "\n",
    "**1.** Solve the equivalent system $\\mathbf{L}\\mathbf{y} = \\mathbf{b}$, what takes a computing time of $\\mathcal{O}(n^2)$.\n",
    "\n",
    "**2.** Once we know $\\mathbf{y}$, we can solve the system $\\mathbf{U}\\mathbf{x} = \\mathbf{y}$, with a computing time of $\\mathcal{O}(n^2)$.\n",
    "\n",
    "The global computing time is then $\\mathcal{O}(2n^2)$"
   ]
  },
  {
   "cell_type": "markdown",
   "metadata": {},
   "source": [
    "## <font color='red'> Activity </font>"
   ]
  },
  {
   "cell_type": "markdown",
   "metadata": {},
   "source": [
    "<font color='red'>\n",
    "In order to compare the computing time that Gaussian Elimination takes and the previous time for the LU factorization, make a plot of both computing times. What can you conclude when $n$ becomes large enough?\n",
    "</font>"
   ]
  },
  {
   "cell_type": "markdown",
   "metadata": {},
   "source": [
    "## Derivation of LU factorization"
   ]
  },
  {
   "cell_type": "markdown",
   "metadata": {},
   "source": [
    "Although the LU factorization seems to be a far better method for solving linear systems as compared with say Gaussian Elimination, we was assuming we already knew the matrices $\\mathbf{L}$ and $\\mathbf{U}$. Now we are going to see the algorithm for perfoming this reduction takes a computing time of $\\mathcal{O}(n^3/3)$.\n",
    "\n",
    "You may wonder then, what advantage implies the use of this factorization? Well, matrices $\\mathbf{L}$ and $\\mathbf{U}$ do not depend on the specific system to be solved, i.e. there is not dependence on the $\\mathbf{b}$ vector, so once we have both matrices, we can use them to solve any system we want, just taking a $\\mathcal{O}(2n^2)$ computing time.\n",
    "\n",
    "First, let's assume a matrix $\\mathbf{A}$ with all its pivots are nonzero, so there is not need to swap rows. Now, when we want to eliminate all the coefficients associated to $x_1$, we perform the next operations:\n",
    "\n",
    "$$ (E_j-m_{j1}E_1)\\rightarrow (E_j), \\ \\ \\ \\ \\mbox{where}\\ \\ \\ \\ m_{j1} = \\frac{a^{(1)}_{j1}}{a^{(1)}_{11}} $$\n",
    "\n",
    "henceforth, $a^{(1)}_{ij}$ denotes the components of the original matrix $\\mathbf{A}=\\mathbf{A}^{(1)}$, $a^{(2)}_{ij}$ the components of the matrix after eliminating the coefficients of $x_1$, and generally, $a^{(k)}_{ij}$ the components of the matrix after eliminating the coefficients of $x_{k-1}$.\n",
    "\n",
    "The previous operation over the matrix $\\mathbf{A}$ can be also reproduced defining the matrix $\\mathbf{M}^{(1)}$\n",
    "\n",
    "$$\\mathbf{M}^{(1)} = \\left[ \\matrix{\n",
    "1 & 0 & \\cdots & 0 & 0 \\\\\n",
    "-m_{21} & 1 & \\cdots & 0 & 0 \\\\\n",
    "\\vdots & \\vdots & \\ddots & \\vdots & \\vdots \\\\\n",
    "-m_{(n-1)1} & 0 & \\cdots & 1 & 0 \\\\\n",
    "-m_{n1} & 0 & \\cdots & 0 & 1\n",
    "}\\right]$$\n",
    "\n",
    "This is called the **first Gaussian transformation matrix**. From this, we have\n",
    "\n",
    "$$ \\mathbf{A}^{(2)}\\mathbf{x} = \\mathbf{M}^{(1)}\\mathbf{A}^{(1)}\\mathbf{x} = \\mathbf{M}^{(1)}\\mathbf{b}^{(1)} = \\mathbf{b}^{(2)} $$\n",
    "\n",
    "where $\\mathbf{A}^{(2)}$ is matrix with null coefficients associated to $x_1$ but the first one.\n",
    "\n",
    "Repeating the same procedure for the next pivots, we obtain then\n",
    "\n",
    "$$ \\mathbf{A}^{(n)} = \\mathbf{M}^{(n-1)}\\mathbf{M}^{(n-2)}\\cdots \\mathbf{M}^{(1)}\\mathbf{A}^{(1)} $$\n",
    "\n",
    "where the **$k$th Gaussian transformation matrix** is defined as\n",
    "\n",
    "$$\\mathbf{M}^{(k)}_{ij} = \\left\\{ \\matrix{\n",
    "1 & \\mbox{if}\\ \\ i=j \\\\\n",
    "-m_{ij} & \\mbox{if}\\ \\ j=k\\ \\ \\mbox{and}\\ \\ k+1\\leq i \\leq n \\\\\n",
    "0 & \\mbox{otherwise}\n",
    "}  \\right.$$\n",
    "\n",
    "and\n",
    "\n",
    "$$m_{ij} = \\frac{a^{(j)}_{ij}}{a^{(j)}_{jj}} $$\n",
    "\n",
    "Note $\\mathbf{A}^{(n)}$ is a upper diagonal matrix given by\n",
    "\n",
    "$$\\mathbf{A}^{(n)} = \\left[ \\matrix{\n",
    "a_{11}^{(n)} & a_{12}^{(n)} & \\cdots & a_{1(n-1)}^{(n)} & a_{1n}^{(n)}\\\\\n",
    "0 & a_{22}^{(n)} & \\cdots & a_{2(n-1)}^{(n)} & a_{2n}^{(n)} \\\\\n",
    "\\vdots & \\vdots &  & \\vdots & \\vdots &\\\\\n",
    "0 & 0 & \\cdots & a_{(n-1)(n-1)}^{(n)} & a_{(n-1)n}^{(n)} \\\\\n",
    "0 & 0 & \\cdots & 0 & a_{nn}^{(n)}\n",
    "}\\right]$$\n",
    "\n",
    "so we can define $\\mathbf{U}\\equiv \\mathbf{A}^{(n)}$.\n",
    "\n",
    "Now, taking the equation \n",
    "\n",
    "$$ \\mathbf{A}^{(n)} = \\mathbf{M}^{(n-1)}\\mathbf{M}^{(n-2)}\\cdots \\mathbf{M}^{(1)}\\mathbf{A}^{(1)} $$\n",
    "\n",
    "and defining the inverse of $\\mathbf{M}^{(k)}$ as \n",
    "\n",
    "$$ \\mathbf{L}^{(k)}_{ij} = \\left(\\mathbf{M}^{(k)}\\right)^{-1}_{ij} =  \\left\\{ \\matrix{\n",
    "1 & \\mbox{if}\\ \\ i=j \\\\\n",
    "m_{ij} & \\mbox{if}\\ \\ j=k\\ \\ \\mbox{and}\\ \\ k+1\\leq i \\leq n \\\\\n",
    "0 & \\mbox{otherwise}\n",
    "}  \\right.$$\n",
    "\n",
    "we obtain\n",
    "\n",
    "$$ \\mathbf{L}^{(1)} \\cdots \\mathbf{L}^{(n-2)}\\mathbf{L}^{(n-1)}\\mathbf{A}^{(n)} = \\mathbf{L}^{(1)} \\cdots \\mathbf{L}^{(n-2)}\\mathbf{L}^{(n-1)}\\mathbf{M}^{(n-1)}\\mathbf{M}^{(n-2)}\\cdots \\mathbf{M}^{(1)}\\mathbf{A}^{(1)} = \\mathbf{L}\\mathbf{U} $$\n",
    "\n",
    "where the lower diagonal matrix $\\mathbf{L}$ is given by:\n",
    "\n",
    "$$ \\mathbf{L} = \\mathbf{L}^{(1)} \\cdots \\mathbf{L}^{(n-2)}\\mathbf{L}^{(n-1)} $$."
   ]
  },
  {
   "cell_type": "markdown",
   "metadata": {},
   "source": [
    "## Algorithm for LU factorization"
   ]
  },
  {
   "cell_type": "markdown",
   "metadata": {},
   "source": [
    "The algorithm is then given by:\n",
    "\n",
    "**1.** Give a square matrix $\\mathbf{A}$ where the pivots are nonzero.\n",
    "\n",
    "**2.** Apply the operation $Comb(E_j,E_1,-a^{(1)}_{j1}/aa^{(1)}_{11})$. This eliminates the coefficients associated to $x_1$ in all the rows but in the first one.\n",
    "\n",
    "**3.** Construct the matrix $\\mathbf{L}^{(1)}$ given by\n",
    "\n",
    "$$ \\mathbf{L}^{(k)}_{ij} =  \\left\\{ \\matrix{\n",
    "1 & \\mbox{if}\\ \\ i=j \\\\\n",
    "m_{ij} = \\frac{a^{(j)}_{ij}}{a^{(j)}_{jj}} & \\mbox{if}\\ \\ j=k\\ \\ \\mbox{and}\\ \\ k+1\\leq i \\leq n \\\\\n",
    "0 & \\mbox{otherwise}\n",
    "}  \\right.$$\n",
    "\n",
    "with $k=1$.\n",
    "\n",
    "**4.** Repeat the steps **2** and **3** for the next column until reaching the last one.\n",
    "\n",
    "**5.** Return the matrices $\\mathbf{U} = \\mathbf{A}^{(n)}$ and $ \\mathbf{L} = \\mathbf{L}^{(1)} \\cdots \\mathbf{L}^{(n-2)}\\mathbf{L}^{(n-1)} $."
   ]
  },
  {
   "cell_type": "markdown",
   "metadata": {},
   "source": [
    "## <font color='red'> Activity </font>"
   ]
  },
  {
   "cell_type": "markdown",
   "metadata": {},
   "source": [
    "<font color='red'>\n",
    "Create a routine called `LU_Factorization` that, given a matrix $\\mathbf{A}$ and the previous algorithm, calculate the LU factorization of the matrix. Test your routine with a random square matrix, verify that $\\mathbf{A} = \\mathbf{L}\\mathbf{U}$.\n",
    "</font>"
   ]
  },
  {
   "cell_type": "markdown",
   "metadata": {},
   "source": [
    "- - -"
   ]
  },
  {
   "cell_type": "markdown",
   "metadata": {},
   "source": [
    "## <font color='red'> Eigenvalues and Eigenvectors activity  </font>"
   ]
  },
  {
   "cell_type": "markdown",
   "metadata": {},
   "source": [
    "###**Electron interacting with a magnetic field**\n",
    "\n",
    "An electron is placed to interact with an uniform magnetic field. To give account of the possible allowed levels of the electron in the presence of the magnetic field it is necessary to solve the next equation\n",
    "\n",
    "\\begin{equation}\n",
    "\\hat{H}|\\Psi\\rangle = E|\\Psi\\rangle\n",
    "\\end{equation}\n",
    "\n",
    "where the hamiltonian is equal to $H = -\\mu \\cdot B = -\\gamma B \\cdot S$, with the gyromagnetic ratio $\\gamma$, $\\textbf{B}$ the magnetic field and $\\textbf{S}$ the spin. It can be shown that the hamiltonian expression is transformed in \n",
    "\n",
    "\\begin{equation}\n",
    "\\hat{\\textbf{H}} = - \\frac{\\gamma \\hbar}{2} \\left( \\begin{array}{cc}\n",
    "B_z  & B_x -i B_y \\\\\n",
    "B_x + i B_y  & -B_z  \\end{array} \\right) \n",
    "\\end{equation}\n",
    "\n",
    "Then, by solving the problem $|H - EI|=0$ is found the allowed energy levels, i.e., finding the determinant of the \n",
    "matrix $H - EI$ allows to get the values $E_1$ and $E_2$.\n",
    "\n",
    "\n",
    "\n",
    "And solving the problem $\\hat{H}\\Psi$ - E$\\Psi = 0$ gives the autofunctions $\\Psi$, i.e., the column vector $\\Psi= \\{\\Psi_1, \\Psi_2\\}$. \n",
    "\n",
    "The function scipy.optimize.root can be used to get roots of a given equation. The experimental value of $\\gamma$ for the electron is 2. The order of magnitude of the magnetic field is $1g$. \n",
    "\n",
    "\n",
    "\n",
    "1)  Find the allowed energy levels.\n",
    "\n",
    "\n",
    "\n",
    "2)  Find the autofunctions and normalize them. \n",
    "\n",
    "\n",
    "\n",
    "**Hint:** An imaginary number in python can be written as 1j.  \n"
   ]
  }
 ],
 "metadata": {
  "kernelspec": {
   "display_name": "Python 3",
   "language": "python",
   "name": "python3"
  },
  "language_info": {
   "codemirror_mode": {
    "name": "ipython",
    "version": 3
   },
   "file_extension": ".py",
   "mimetype": "text/x-python",
   "name": "python",
   "nbconvert_exporter": "python",
   "pygments_lexer": "ipython3",
   "version": "3.7.2"
  }
 },
 "nbformat": 4,
 "nbformat_minor": 1
}
