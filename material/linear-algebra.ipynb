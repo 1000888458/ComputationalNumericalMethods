{
 "metadata": {
  "name": ""
 },
 "nbformat": 3,
 "nbformat_minor": 0,
 "worksheets": [
  {
   "cells": [
    {
     "cell_type": "heading",
     "level": 1,
     "metadata": {},
     "source": [
      "Linear Algebra"
     ]
    },
    {
     "cell_type": "markdown",
     "metadata": {},
     "source": [
      "Linear Algebra is a discipline where vector spaces and linear mapping between them are studied. In physics and astronomy, several phenomena can be readily written in terms of linear variables, what makes Computational Linear Algebra a very important topic to be covered throughout this course. We shall cover linear systems of equations, techniques for calculating inverses and determinants and factorization methods.\n",
      "\n",
      "An interesting fact of Computational Linear Algebra is that it does not comprises numerical approaches as most of the methods are exact. The usage of a computer is then necessary because of the large number of calculations rather than the non-soluble nature of the problems. Numerical errors come then from round-off approximations."
     ]
    },
    {
     "cell_type": "markdown",
     "metadata": {},
     "source": [
      "- - -\n",
      "- [Linear Systems of Equations](#Linear-Systems-of-Equations) \n",
      "    - [Matrices and vectors](#Matrices-and-vectors)\n",
      "    - [Example 1](#Example-1)\n",
      "    - [Matrices in Python](#Matrices-in-Python)\n",
      "    - [Basic operations with matrices](#Basic-operations-with-matrices)\n",
      "- [Gaussian elimination](#Gaussian-elimination)\n",
      "    - [General Gaussian elimination](#General-Gaussian-elimination)\n",
      "    \n",
      "- - -"
     ]
    },
    {
     "cell_type": "code",
     "collapsed": false,
     "input": [
      "import numpy as np\n",
      "%pylab inline\n",
      "import matplotlib.pyplot as plt\n",
      "# JSAnimation import available at https://github.com/jakevdp/JSAnimation\n",
      "from JSAnimation import IPython_display\n",
      "from matplotlib import animation\n",
      "#Interpolation add-on\n",
      "import scipy.interpolate as interp"
     ],
     "language": "python",
     "metadata": {},
     "outputs": [
      {
       "output_type": "stream",
       "stream": "stdout",
       "text": [
        "Populating the interactive namespace from numpy and matplotlib\n"
       ]
      }
     ],
     "prompt_number": 1
    },
    {
     "cell_type": "markdown",
     "metadata": {},
     "source": [
      "- - - "
     ]
    },
    {
     "cell_type": "heading",
     "level": 1,
     "metadata": {},
     "source": [
      "Linear Systems of Equations"
     ]
    },
    {
     "cell_type": "markdown",
     "metadata": {},
     "source": [
      "A linear system is a set of equations of $n$ variables that can be written in a general form:\n",
      "\n",
      "$$ a_{11}x_1 + a_{12}x_2 + \\cdots a_{1n}x_n = b_1 $$\n",
      "$$\\vdots$$\n",
      "$$ a_{m1}x_1 + a_{m2}x_2 + \\cdots a_{mn}x_n = b_m $$\n",
      "\n",
      "where $n$ is, again, the number of variables, and $m$ the number of equations. \n",
      "\n",
      "A linear system has solution if and only if $m\\geq n$. This leads us to the main objetive of a linear system, find the set $\\{x_i\\}_{i=0}^n$ that fulfills all the equations.\n",
      "\n",
      "Although there is an intuitive way to solve this type of systems, by just adding and substracting equations until reaching the desire result, the large number of variables of some systems found in physics and astronomy makes necessary to develop iterative and general approaches. Next, we shall introduce matrix and vector notation and some basic operations that will be the basis of the methods to be developed in this section."
     ]
    },
    {
     "cell_type": "heading",
     "level": 2,
     "metadata": {},
     "source": [
      "Matrices and vectors"
     ]
    },
    {
     "cell_type": "markdown",
     "metadata": {},
     "source": [
      "A $m\\times n$ matrix can be defined as a set of numbers arranged in columns and rows such as:\n",
      "\n",
      "$$ A = [a_{ij}] = \\left[ \\matrix{\n",
      "a_{11} & a_{12} & \\cdots & a_{1n} \\\\\n",
      "a_{21} & a_{22} & \\cdots & a_{2n} \\\\\n",
      "\\vdots & \\vdots & & \\vdots\\\\\n",
      "a_{m1} & a_{m2} & \\cdots & a_{mn} \n",
      "}\\right] $$\n",
      "\n",
      "In the same way, it is possible to define a $n$-dimensional column vector as\n",
      "\n",
      "$$ \\textbf{x} = \\left[ \\matrix{\n",
      "x_{1} \\\\\n",
      "x_{2} \\\\\n",
      "\\vdots\\\\\n",
      "x_{n} \n",
      "}\\right] $$\n",
      "\n",
      "and a row vector \n",
      "\n",
      "$$ \\textbf{y} = \\left[ \\matrix{\n",
      "y_{1} &\n",
      "y_{2} &\n",
      "\\cdots &\n",
      "y_{n} \n",
      "}\\right] $$"
     ]
    },
    {
     "cell_type": "markdown",
     "metadata": {},
     "source": [
      "The system of equations \n",
      "\n",
      "$$ a_{11}x_1 + a_{12}x_2 + \\cdots a_{1n}x_n = b_1 $$\n",
      "$$\\vdots$$\n",
      "$$ a_{m1}x_1 + a_{m2}x_2 + \\cdots a_{mn}x_n = b_m $$\n",
      "\n",
      "can be then written in a more convenient way as\n",
      "\n",
      "$$ A \\textbf{x} =  \\left[ \\matrix{\n",
      "a_{11} & a_{12} & \\cdots & a_{1n} \\\\\n",
      "a_{21} & a_{22} & \\cdots & a_{2n} \\\\\n",
      "\\vdots & \\vdots & & \\vdots\\\\\n",
      "a_{m1} & a_{m2} & \\cdots & a_{mn} \n",
      "}\\right] \n",
      "\\left[ \\matrix{\n",
      "x_{1} \\\\\n",
      "x_{2} \\\\\n",
      "\\vdots\\\\\n",
      "x_{n} \n",
      "}\\right]  = b = \n",
      "\\left[ \\matrix{\n",
      "b_{1} \\\\\n",
      "b_{2} \\\\\n",
      "\\vdots\\\\\n",
      "b_{n} \n",
      "}\\right]$$\n",
      "\n",
      "We can also introducing the $n\\times (n+1)$ **augmented matrix** as\n",
      "\n",
      "$$[A:\\textbf{b}] =  \\left[ \\matrix{\n",
      "a_{11} & a_{12} & \\cdots & a_{1n} & \\vdots & b_1 \\\\\n",
      "a_{21} & a_{22} & \\cdots & a_{2n} & \\vdots & b_2 \\\\\n",
      "\\vdots & \\vdots & & \\vdots & \\vdots & \\vdots \\\\\n",
      "a_{m1} & a_{n2} & \\cdots & a_{nn} & \\vdots & b_n\n",
      "}\\right]$$"
     ]
    },
    {
     "cell_type": "heading",
     "level": 2,
     "metadata": {},
     "source": [
      "Example 1"
     ]
    },
    {
     "cell_type": "markdown",
     "metadata": {},
     "source": [
      "Using Kirchhoff's circuit laws, it is possible to solve the next system:\n",
      "\n",
      "![](https://raw.githubusercontent.com/sbustamante/ComputationalMethods/master/material/figures/circuit.png)\n",
      "\n",
      "obtaining the next equations:\n",
      "\n",
      "$$ I_A( R+4R ) - I_B( 4R ) = E $$\n",
      "$$ -I_A( 4R ) + I_B( 4R + 3R ) - I_C(3R) = 0 $$\n",
      "$$ -I_B( 3R ) + I_C(3R+2R) = -2E $$\n",
      "\n",
      "Defining the variables $x_1 = R I_A/E$, $x_2 = R I_B/E$ and $x_3 = R I_C/E$, it is possible to rewrite the previous problem in matrix notation as:\n",
      "\n",
      "$$ \\left[ \\matrix{\n",
      "5 & -4 & 0 \\\\\n",
      "-4 & 7 & -3 \\\\ \n",
      "0 & -3 & 5\n",
      "}\\right] \n",
      "\\left[ \\matrix{\n",
      "x_{1} \\\\\n",
      "x_{2} \\\\\n",
      "x_{3} \n",
      "}\\right]  =\n",
      "\\left[ \\matrix{\n",
      "1 \\\\\n",
      "0 \\\\\n",
      "-2\n",
      "}\\right]$$"
     ]
    },
    {
     "cell_type": "heading",
     "level": 2,
     "metadata": {},
     "source": [
      "Matrices in Python"
     ]
    },
    {
     "cell_type": "markdown",
     "metadata": {},
     "source": [
      "One of the most useful advantages of high level languages like Python, is the manipulation of complex objects like matrices and vectors. For this part we are going to use advanced capabilities for handling matrices, provided by the library NumPy.\n",
      "\n",
      "NumPy, besides the extreme useful NumPy array objects, also provides the Matrix objects that are overloaded with proper matrix operations."
     ]
    },
    {
     "cell_type": "code",
     "collapsed": false,
     "input": [
      "#NumPy Arrays\n",
      "M1 = np.array( [[5,-4,0],[-4,7,-3],[0,-3,5]] )\n",
      "M2 = np.array( [[3,-2,1],[-1,5,4],[1,-2,3]] )\n",
      "print M1, \"\\n\"\n",
      "print M2"
     ],
     "language": "python",
     "metadata": {},
     "outputs": [
      {
       "output_type": "stream",
       "stream": "stdout",
       "text": [
        "[[ 5 -4  0]\n",
        " [-4  7 -3]\n",
        " [ 0 -3  5]] \n",
        "\n",
        "[[ 3 -2  1]\n",
        " [-1  5  4]\n",
        " [ 1 -2  3]]\n"
       ]
      }
     ],
     "prompt_number": 48
    },
    {
     "cell_type": "code",
     "collapsed": false,
     "input": [
      "#Addition\n",
      "print M1+M2"
     ],
     "language": "python",
     "metadata": {},
     "outputs": [
      {
       "output_type": "stream",
       "stream": "stdout",
       "text": [
        "[[ 8 -6  1]\n",
        " [-5 12  1]\n",
        " [ 1 -5  8]]\n"
       ]
      }
     ],
     "prompt_number": 49
    },
    {
     "cell_type": "code",
     "collapsed": false,
     "input": [
      "#Multiplication\n",
      "print M1*M2"
     ],
     "language": "python",
     "metadata": {},
     "outputs": [
      {
       "output_type": "stream",
       "stream": "stdout",
       "text": [
        "[[ 15   8   0]\n",
        " [  4  35 -12]\n",
        " [  0   6  15]]\n"
       ]
      }
     ],
     "prompt_number": 50
    },
    {
     "cell_type": "code",
     "collapsed": false,
     "input": [
      "#Division\n",
      "print 1.0*M1/M2"
     ],
     "language": "python",
     "metadata": {},
     "outputs": [
      {
       "output_type": "stream",
       "stream": "stdout",
       "text": [
        "[[ 1.66666667  2.          0.        ]\n",
        " [ 4.          1.4        -0.75      ]\n",
        " [ 0.          1.5         1.66666667]]\n"
       ]
      }
     ],
     "prompt_number": 51
    },
    {
     "cell_type": "code",
     "collapsed": false,
     "input": [
      "#NumPy Matrix\n",
      "M1 = np.matrix( [[5,-4,0],[-4,7,-3],[0,-3,5]] )\n",
      "M2 = np.matrix( [[3,-2,1],[-1,5,4],[1,-2,3]] )\n",
      "\n",
      "print M1, \"\\n\"\n",
      "print M2"
     ],
     "language": "python",
     "metadata": {},
     "outputs": [
      {
       "output_type": "stream",
       "stream": "stdout",
       "text": [
        "[[ 5 -4  0]\n",
        " [-4  7 -3]\n",
        " [ 0 -3  5]] \n",
        "\n",
        "[[ 3 -2  1]\n",
        " [-1  5  4]\n",
        " [ 1 -2  3]]\n"
       ]
      }
     ],
     "prompt_number": 52
    },
    {
     "cell_type": "code",
     "collapsed": false,
     "input": [
      "#Addition\n",
      "print M1+M2"
     ],
     "language": "python",
     "metadata": {},
     "outputs": [
      {
       "output_type": "stream",
       "stream": "stdout",
       "text": [
        "[[ 8 -6  1]\n",
        " [-5 12  1]\n",
        " [ 1 -5  8]]\n"
       ]
      }
     ],
     "prompt_number": 53
    },
    {
     "cell_type": "code",
     "collapsed": false,
     "input": [
      "#Multiplication\n",
      "print M1*M2"
     ],
     "language": "python",
     "metadata": {},
     "outputs": [
      {
       "output_type": "stream",
       "stream": "stdout",
       "text": [
        "[[ 19 -30 -11]\n",
        " [-22  49  15]\n",
        " [  8 -25   3]]\n"
       ]
      }
     ],
     "prompt_number": 54
    },
    {
     "cell_type": "heading",
     "level": 2,
     "metadata": {},
     "source": [
      "Basic operations with matrices"
     ]
    },
    {
     "cell_type": "markdown",
     "metadata": {},
     "source": [
      "In order to simplify following methods, we introduce here 3 basic operations over linear systems:\n",
      "\n",
      "**1.** The $i$-th row $E_i$ can be multiplied by a non-zero constant $\\lambda$, and then a new row used in place of $E_i$, i.e. $(\\lambda E_i)\\rightarrow (E_i)$. We denote this operation as $Lamb(E_i,\\lambda)$.\n",
      "\n",
      "**2.** The $j$-th row $E_j$ can be multiplied by a non-zero constant $\\lambda$ and added to some row $E_i$. The resulting value take the place of $E_i$, i.e. $(E_i + \\lambda E_j)\\rightarrow (E_i)$. We denote this operation as $Comb(E_i,E_j,\\lambda)$.\n",
      "\n",
      "**3.** Finally, we define a swapping of two rows as $(E_i)\\leftrightarrow (E_j)$, denoted as $Swap(E_i,E_j)$"
     ]
    },
    {
     "cell_type": "heading",
     "level": 2,
     "metadata": {},
     "source": [
      "<font color='red'>\n",
      "Activity\n",
      "</font>"
     ]
    },
    {
     "cell_type": "markdown",
     "metadata": {},
     "source": [
      "<font color='red'>\n",
      "Write three routines that perform, given a matrix $A$, the previous operations over matrices:\n",
      "</font>"
     ]
    },
    {
     "cell_type": "markdown",
     "metadata": {},
     "source": [
      "<font color='red'>\n",
      " **row_lamb($i$, $\\lambda$, $A$)**: $i$ is the row to be changed, $\\lambda$ the multiplicative factor and A the matrix. This function should return the new matrix with the performed operation $(\\lambda E_i)\\rightarrow (E_i)$.\n",
      "</font>"
     ]
    },
    {
     "cell_type": "markdown",
     "metadata": {},
     "source": [
      "<font color='red'>\n",
      " **row_comb($i$, $j$ $\\lambda$, $A$)**: $i$ is the row to be changed, $j$ the row to be added, $\\lambda$ the multiplicative factor and A the matrix. This function should return the new matrix with the performed operation $(E_i + \\lambda E_j)\\rightarrow (E_i)$.\n",
      "</font>"
     ]
    },
    {
     "cell_type": "markdown",
     "metadata": {},
     "source": [
      "<font color='red'>\n",
      " **row_swap($i$, $j$, $A$)**: $i$ and $j$ are the rows to be swapped. This function should return the new matrix with the performed operation $(E_i)\\leftrightarrow (E_j)$.\n",
      "</font>"
     ]
    },
    {
     "cell_type": "markdown",
     "metadata": {},
     "source": [
      "- - -"
     ]
    },
    {
     "cell_type": "heading",
     "level": 1,
     "metadata": {},
     "source": [
      "Gaussian elimination"
     ]
    },
    {
     "cell_type": "markdown",
     "metadata": {},
     "source": [
      "A first method to solve linear systems of equations is the Gaussian elimination. This procedure consists of a set of recursive steps performed in order to diagonalise the matrix of the problem. A suitable way to introduce this method is applying it to some basic problem. To do so, let's take the result of the [Example 1](#Example-1):\n",
      "\n",
      "$$ \\left[ \\matrix{\n",
      "5 & -4 & 0 \\\\\n",
      "-4 & 7 & -3 \\\\ \n",
      "0 & -3 & 5\n",
      "}\\right] \n",
      "\\left[ \\matrix{\n",
      "x_{1} \\\\\n",
      "x_{2} \\\\\n",
      "x_{3} \n",
      "}\\right]  =\n",
      "\\left[ \\matrix{\n",
      "1 \\\\\n",
      "0 \\\\\n",
      "-2\n",
      "}\\right]$$\n",
      "\n",
      "Constructing the associated augmented matrix, we obtain\n",
      "\n",
      "$$ \\left[ \\matrix{\n",
      "5 & -4 & 0 & \\vdots & 1 \\\\\n",
      "-4 & 7 & -3 & \\vdots & 0 \\\\\n",
      "0 & -3 & 5 & \\vdots & -2\n",
      "}\\right] $$\n",
      "\n",
      "At this point, we can eliminate the coefficients of the variable $x_1$ in the second and third equations. For this, we apply the operations $Comb(E_2,E_1,4/5)$. The coefficient in the third equation is already null. We then obtain:\n",
      "\n",
      "$$ \\left[ \\matrix{\n",
      "5 & -4 & 0 & \\vdots & 1 \\\\\n",
      "0 & 3.8 & -3 & \\vdots & 0.8 \\\\\n",
      "0 & -3 & 5 & \\vdots & -2\n",
      "}\\right] $$\n",
      "\n",
      "Now, we proceed to eliminate the coefficient of $x_2$ in the third equation. For this, we apply again $Comb(E_3,E_2,0.789)$, where $3/3.8 = 0.789$.\n",
      "\n",
      "$$ \\left[ \\matrix{\n",
      "5 & -4 & 0 & \\vdots & 1 \\\\\n",
      "0 & 3.8 & -3 & \\vdots & 0.8 \\\\\n",
      "0 & 0 & 2.632 & \\vdots & -1.368\n",
      "}\\right] $$\n",
      "\n",
      "The final step is to solve for $x_3$ in the last equation, doing the operation $Lamb(E_3,1/2.632)$, yielding:\n",
      "\n",
      "$$ \\left[ \\matrix{\n",
      "5 & -4 & 0 & \\vdots & 1 \\\\\n",
      "0 & 3.8 & -3 & \\vdots & 0.8 \\\\\n",
      "0 & 0 & 1 & \\vdots & -0.520\n",
      "}\\right] $$\n",
      "\n",
      "From this, it is direct to conclude that $x_3 = -0.502$, for $x_2$ and $x_1$ it is only necessary to replace the found value of $x_3$."
     ]
    },
    {
     "cell_type": "heading",
     "level": 2,
     "metadata": {},
     "source": [
      "<font color='red'>\n",
      "Activity\n",
      "</font>"
     ]
    },
    {
     "cell_type": "markdown",
     "metadata": {},
     "source": [
      "<font color='red'>\n",
      "Using the three routines written in the previous activity, reproduce the last steps for the matrix of the Example 1.\n",
      "</font>"
     ]
    },
    {
     "cell_type": "heading",
     "level": 2,
     "metadata": {},
     "source": [
      "General Gaussian elimination"
     ]
    },
    {
     "cell_type": "markdown",
     "metadata": {},
     "source": [
      "Now, we shall describe the general procedure for Gaussian elimination: \n",
      "\n",
      "**1.** Give an augmented matrix $\\hat{A}=[A:\\textbf{b}]$.\n",
      "\n",
      "**2.** Find the first non-zero coefficient $a_{i1}$ associated to $x_1$.\n",
      "\n",
      "**3.** Apply the operation $Swap(E_1,E_i)$. This guarantee the first row has a non-zero coefficient $a_{11}$.\n",
      "\n",
      "**4.** Apply the operation $Comb(E_j,E_1,-a_{j1}/a_{11})$. This eliminates the coefficients associated to $x_1$ in all the rows but in the first one.\n",
      "\n",
      "**5.** Repeat steps **2** to **4** but for the coefficients of $x_2$ and then $x_3$ and so up to $x_n$. When iterating the coefficients of $x_{k}$, do not take into account the first $k$-th rows as they are already sorted.\n",
      "\n",
      "**6.** Once you obtain a diagonal form of the matrix, apply the operation $Lamb(E_n,1/a_{nn})$. This will make the coefficient of $x_n$ in the last equation equal to 1.\n",
      "\n",
      "**7.** The final result should be an augmented matrix of the form:\n",
      "\n",
      "$$\\left[ \\matrix{\n",
      "a_{11} & a_{12} & \\cdots & a_{1(n-1)} & a_{1n} & \\vdots & \\hat b_1 \\\\\n",
      "0 & a_{22} & \\cdots & a_{2(n-1)} & a_{2n} & \\vdots & \\hat b_2 \\\\\n",
      "\\vdots & \\vdots &  & \\vdots & \\vdots & \\vdots & \\vdots \\\\\n",
      "0 & 0 & \\cdots & a_{(n-1)(n-1)} & a_{(n-1)n} & \\vdots & \\hat b_{n-1} \\\\\n",
      "0 & 0 & \\cdots & 0 & 1 & \\vdots & \\hat b_n\n",
      "}\\right]$$\n",
      "\n",
      "**8.** The solution to the problem is then obtained through backward substitutions, i.e.\n",
      "\n",
      "$$x_n = \\hat b_n$$\n",
      "$$ x_{n-1} =  \\frac{\\hat b_{n-1} + a_{(n-1)n}x_n}{a_{(n-1)(n-1)}}$$\n",
      "$$\\vdots$$\n",
      "$$x_i = \\frac{\\hat b_n - \\sum_{j=i+1}^n a_{ij}x_j}{a_{ii}}\\ \\ \\ \\ \\mbox{for}\\ \\ \\ i=n-1, n-2, \\cdots, 1$$"
     ]
    },
    {
     "cell_type": "heading",
     "level": 2,
     "metadata": {},
     "source": [
      "<font color='red'>\n",
      "Activity\n",
      "</font>"
     ]
    },
    {
     "cell_type": "markdown",
     "metadata": {},
     "source": [
      "<font color='red'>\n",
      "Create a routine called GuassianElimination that finds the solution of a linear system $A\\textbf{x}=\\textbf{b} $. Test it with the result of the previous activity.\n",
      "</font>"
     ]
    },
    {
     "cell_type": "markdown",
     "metadata": {},
     "source": [
      "- - -"
     ]
    }
   ],
   "metadata": {}
  }
 ]
}