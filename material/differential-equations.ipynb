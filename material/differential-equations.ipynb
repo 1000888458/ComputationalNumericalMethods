{
 "metadata": {
  "name": ""
 },
 "nbformat": 3,
 "nbformat_minor": 0,
 "worksheets": [
  {
   "cells": [
    {
     "cell_type": "heading",
     "level": 1,
     "metadata": {},
     "source": [
      "Differential Equations"
     ]
    },
    {
     "cell_type": "markdown",
     "metadata": {},
     "source": [
      "Differential equations is without doubt one of the more useful branch of mathematics in science. They are used to model problems involving the change of some variable with respect to another. Differential equations cover a wide range of different applications, ranging from ordinary differential equations (ODE) until boundary-value problems involving many variables. For the sake of simplicity, throughout this section we shall cover only ODE systems as they are more elemental and equally useful. First, we shall cover first order methods, then second order methods and finally, system of differential equations."
     ]
    },
    {
     "cell_type": "markdown",
     "metadata": {},
     "source": [
      "- - -\n",
      "- [First Order Methods](#First-Order-Methods) \n",
      "    - [Euler's method](#Euler's-method)\n",
      "    - [Example 1](#Example-1)\n",
      "\n",
      "- - -"
     ]
    },
    {
     "cell_type": "code",
     "collapsed": false,
     "input": [
      "import numpy as np\n",
      "%pylab inline\n",
      "import matplotlib.pyplot as plt\n",
      "# JSAnimation import available at https://github.com/jakevdp/JSAnimation\n",
      "from JSAnimation import IPython_display\n",
      "from matplotlib import animation"
     ],
     "language": "python",
     "metadata": {},
     "outputs": [
      {
       "output_type": "stream",
       "stream": "stdout",
       "text": [
        "Populating the interactive namespace from numpy and matplotlib\n"
       ]
      }
     ],
     "prompt_number": 1
    },
    {
     "cell_type": "markdown",
     "metadata": {},
     "source": [
      "- - - "
     ]
    },
    {
     "cell_type": "heading",
     "level": 1,
     "metadata": {},
     "source": [
      "First Order Methods"
     ]
    },
    {
     "cell_type": "markdown",
     "metadata": {},
     "source": [
      "Ordinary differential equations normally implies the solution of an initial-value problem, i.e., the solution has to satisfy the differential equation together with some initial condition. Real-life problems usually imply very complicated problems and even non-soluble ones, making any analytical approximation unfeasible. Fortunately, there are two ways to handle this. First, for almost every situation, it is generally posible to simplify the original problem and obtain a simpler one that can be easily solved. Then, using perturbation theory, we can perturbate this solution in order to approximate the real one. This approach is useful, however, it depends very much on the specific problem and a systematic study is rather complicated.\n",
      "\n",
      "The second approximation, and the one used here, consists of a complete numerical reduction of the problem, solving it exactly within the accuracy allowed by implicit errors of the methods. For this part, we are going to assume well-defined problems, where solutions are expected to be well-behaved."
     ]
    },
    {
     "cell_type": "heading",
     "level": 2,
     "metadata": {},
     "source": [
      "Euler's method"
     ]
    },
    {
     "cell_type": "markdown",
     "metadata": {},
     "source": [
      "This method is the most basic of all methods, however, it is useful to understand basic concepts and definitions of differential equations problems. \n",
      "\n",
      "Suppose we have a well-posed initial-value problem given by:\n",
      "\n",
      "$$ \\frac{dy}{dt}=f(t,y),\\ \\ \\ a\\leq t\\leq b, \\ \\ \\ \\ y(a) = \\alpha $$\n",
      "\n",
      "Now, let's define a **mesh points** as a set of values $\\{t_i\\}t_i$ where we are going to approximate the solution $y(t)$. These points can be equal-spaced such that\n",
      "\n",
      "$$ t_i = a+ i h,\\ \\ \\ \\ \\mbox{with}\\ \\ i=1,2,3,\\cdots,N \\ \\ \\mbox{and}\\ h = \\frac{b-a}{N}. $$\n",
      "\n",
      "Here, $h$ is called the **step size** of the **mesh points**.\n",
      "\n",
      "Now, using the first-order approximation of the derivative saw in [Numerical Differentiation](http://nbviewer.ipython.org/github/sbustamante/ComputationalMethods/blob/master/material/numerical-calculus.ipynb#Numerical-Differentiation), we obtain\n",
      "\n",
      "$$ \\frac{dy}{dt}\\approx \\frac{y(t+h)-y(t)}{h} $$\n",
      "\n",
      "or\n",
      "\n",
      "$$ \\left.\\frac{dy}{dt}\\right|_{t=t_i}\\approx \\frac{y(t_{i+1})-y(t_i)}{h} $$\n",
      "\n",
      "The original problem can be rewritten as\n",
      "\n",
      "$$ y_{i+1} = y_i + hf(t_i, y_i) + \\frac{h^2}{2}y^{''}(\\xi_i) $$\n",
      "\n",
      "where the notation $y(t_i)\\equiv y_i$ has been introduced and the last term (error term) can be obtained taking a second-order approximation of the derivative.\n",
      "\n",
      "This equation can be solved recursively as we know the initial value $y_0 = y(a) = \\alpha$."
     ]
    },
    {
     "cell_type": "heading",
     "level": 2,
     "metadata": {},
     "source": [
      "Example 1"
     ]
    },
    {
     "cell_type": "markdown",
     "metadata": {},
     "source": [
      "The formalism of the Euler's method can be applied for any system of the form:\n",
      "\n",
      "$$ \\frac{dy}{dt}=f(t,y),\\ \\ \\ a\\leq t\\leq b, \\ \\ \\ \\ y(a) = \\alpha $$\n",
      "\n",
      "However, it is possible to extend this to second-order systems, i.e., systems involving second derivatives. Let's suppose a general system of the form:\n",
      "\n",
      "$$ \\frac{d^2y}{dt^2}+ g(t,y)\\frac{dy}{dt}=f(t,y),\\ \\ \\ a\\leq t\\leq b, \\ \\ \\ \\ y(a) = \\alpha\\ \\ \\mbox{and}\\ y'(a) = \\beta$$\n",
      "\n",
      "For this system we have to provide both, the initial value $y(a)$ and the initial derivative $y'(a)$.\n",
      "\n",
      "Now, let's define a new variable $w(t) = y'(t)$, the previous problem can be then written as \n",
      "\n",
      "$$ \\matrix{\\frac{dw}{dt}=g(t,y)w-f(t,y) \\\\  \\frac{dy}{dt}=w(t)} ,\\ \\ \\ a\\leq t\\leq b, \\ \\ \\ \\ y(a) = \\alpha\\ \\ \\mbox{and}\\ w(a) = \\beta$$\n",
      "\n",
      "Each of this problem has now the form required by the Euler's algorithm, and the solution can be computed as:\n",
      "\n",
      "$$ \\matrix{w_{i+1}= w_{i} + h[g(t_i,y_i)w_i-f(t_i,y_i)] \\\\  y_{i+1}=y_i + hw_i} ,\\ \\ \\ a\\leq t\\leq b, \\ \\ \\ \\ y(a) = \\alpha\\ \\ \\mbox{and}\\ w(a) = \\beta$$\n",
      "\n",
      "\n",
      "In order to apply this, let's assume a simple mass-spring.\n",
      "\n",
      "![](https://raw.githubusercontent.com/sbustamante/ComputationalMethods/master/material/figures/mass_spring.png)\n",
      "\n",
      "The equation of motion according to Newton's second law is\n",
      "\n",
      "$$ m\\frac{d^2x}{dt^2} = -kx $$\n",
      "\n",
      "Using the previous results, we can rewrite this as:\n",
      "\n",
      "$$ \\frac{dv}{dt} = -\\frac{k}{m}x $$\n",
      "$$ \\frac{dx}{dt} = v $$\n",
      "\n",
      "And the equivalent Euler system is\n",
      "\n",
      "$$ \\matrix{v_{i+1}= v_{i} - h\\frac{k}{m}x_i \\\\  x_{i+1}=x_i + hv_i} ,\\ \\ \\ x(0) = x_0\\ \\ \\mbox{and}\\ v(0) = v_0$$"
     ]
    },
    {
     "cell_type": "heading",
     "level": 2,
     "metadata": {},
     "source": [
      "<font color='red'>    \n",
      "**Activity**\n",
      "</font>"
     ]
    },
    {
     "cell_type": "markdown",
     "metadata": {},
     "source": [
      "<font color='red'>    \n",
      "**1.** Using the initial conditions $x(0) = 0$ and $v(0) = 3$, solve the previous system. Plot the solutions $x(t)$ and $y(t)$ and compare with real solutions. Furthermore, calculate the total energy of the system. What can you conclude about the behaviour of the energy? Does it make any sense?\n",
      "</font>"
     ]
    },
    {
     "cell_type": "markdown",
     "metadata": {},
     "source": [
      "<font color='red'>    \n",
      "**2.** Using the same reasoning, derive the equations for a simple pendulum. Compare the solution for small oscillations with the analytic one. What happens when increasing the initial amplitude of the movement?\n",
      "</font>"
     ]
    },
    {
     "cell_type": "markdown",
     "metadata": {},
     "source": [
      "- - -"
     ]
    }
   ],
   "metadata": {}
  }
 ]
}