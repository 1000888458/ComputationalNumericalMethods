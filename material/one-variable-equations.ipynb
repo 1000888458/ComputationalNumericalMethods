{
 "metadata": {
  "name": "one-variable-equations"
 },
 "nbformat": 3,
 "nbformat_minor": 0,
 "worksheets": [
  {
   "cells": [
    {
     "cell_type": "heading",
     "level": 1,
     "metadata": {},
     "source": [
      "One Variable Equations"
     ]
    },
    {
     "cell_type": "markdown",
     "metadata": {},
     "source": [
      "Throughout this section and the next ones we shall cover the topic of solutions to one variable equations. Many different problems in physics and astronomy require the use of complex expressions, even with implicit dependence of variables. When it is necessary to solve for one of those variable, an analytical approach is not usually the best solution, because of its complexity or even because it does not exist at all. Different approaches for dealing with this comprehend series expansions and numerical solutions. Among the most widely used numerical approaches are the Bisection or Binary-search method, fixed-point iteration, Newton's methods.\n"
     ]
    },
    {
     "cell_type": "markdown",
     "metadata": {},
     "source": [
      "- - -\n",
      "- [Bisection Method](#Bisection-Method) \n",
      "    - [Steps](#Steps)\n",
      "    - [Stop condition](#Stop-condition)\n",
      "    - [Error analysis](#Error-analysis)\n",
      "    - [Example 1](#Example-1)\n",
      "    - [Example 2](#Example-2)\n",
      "- Fixed-point iteration\n",
      "\n",
      "- - -"
     ]
    },
    {
     "cell_type": "code",
     "collapsed": false,
     "input": [
      "import numpy as np\n",
      "%pylab inline\n",
      "import matplotlib.pyplot as plt"
     ],
     "language": "python",
     "metadata": {},
     "outputs": [
      {
       "output_type": "stream",
       "stream": "stdout",
       "text": [
        "\n",
        "Welcome to pylab, a matplotlib-based Python environment [backend: module://IPython.zmq.pylab.backend_inline].\n",
        "For more information, type 'help(pylab)'.\n"
       ]
      }
     ],
     "prompt_number": 1
    },
    {
     "cell_type": "markdown",
     "metadata": {},
     "source": [
      "- - - "
     ]
    },
    {
     "cell_type": "heading",
     "level": 1,
     "metadata": {},
     "source": [
      "Bisection Method"
     ]
    },
    {
     "cell_type": "markdown",
     "metadata": {},
     "source": [
      "The Bisection method exploits the [intermediate value theorem](http://en.wikipedia.org/wiki/Intermediate_value_theorem), where a continuous and differentiable function $f$ must have a zero between a interval $[a,b]$ such that $f(a)f(b)<0$, or equivalently, there must be a value $p\\in[a,b]$ such that $f(p)=0$. Below the algorithmm is stated explicitly."
     ]
    },
    {
     "cell_type": "heading",
     "level": 2,
     "metadata": {},
     "source": [
      "Steps"
     ]
    },
    {
     "cell_type": "markdown",
     "metadata": {},
     "source": [
      "<div style=\"float: right;\" markdown=\"1\">\n",
      "    <img src=\"http://upload.wikimedia.org/wikipedia/commons/thumb/8/8c/Bisection_method.svg/300px-Bisection_method.svg.png\">\n",
      "</div>\n",
      "\n",
      "\n",
      "1. There must be selected two values $a$ and $b$ such that $f(a)f(b)<0$ and $p\\in[a,b]$ where $f(p)=0$. In other words, though we do not know the value of the root, we must know that there is at least one within the selected interval.\n",
      "\n",
      "2. To begin, it must be set $a_1=a$ and $b_1=b$.\n",
      "\n",
      "3. Calculate the mid-point $p_1$ as\n",
      "\n",
      "    $p_1 = a_1 + \\frac{b_1-a_1}{2} = \\frac{a_1+b_1}{2}$\n",
      "\n",
      "4. Evaluate the function in $p_1$, if the [stop condition](#Stop-Condition) is true, go to step 6.\n",
      "\n",
      "5. If the [stop condition](#Stop-Condition) is not satisfied, then:\n",
      "\n",
      "    1. If $f(p_1)f(a_1) > 0$, $p\\in(p_1,b_1)$. Then set $a_2=p_1$ and $b_2=b_1$\n",
      "\n",
      "    2. If $f(p_1)f(a_1) < 0$, $p\\in(a_1,p_1)$. Then set $a_2=a_1$ and $b_2=p_1$\n",
      "\n",
      "    3. Go to step 3 using $p_2$, $a_2$ and $b_2$ instead of $p_1$, $a_1$ and $b_1$. For next iterations the index increases until the [stop condition](#Stop-Condition) is reached.\n"
     ]
    },
    {
     "cell_type": "heading",
     "level": 2,
     "metadata": {},
     "source": [
      "Stop condition"
     ]
    },
    {
     "cell_type": "markdown",
     "metadata": {},
     "source": [
      "There are several different stop conditions for this algorithm. The most used are stated below:\n",
      "\n",
      "* A fixed distance between the last two steps (absolute convergence):\n",
      "\n",
      "    $|p_i - p_{i-1}|<\\epsilon$\n",
      "\n",
      "* A fixed relative distance between the last two steps (relative convergence):\n",
      "\n",
      "    $\\frac{|p_i - p_{i-1}|}{|p_i|}<\\epsilon\\ \\ \\ \\ \\ p_i \\neq 0$\n",
      "\n",
      "* Function tolerance:\n",
      "\n",
      "    $f(p_i)< \\epsilon$\n",
      "\n",
      "All these conditions should lead to a desired convergence expressed by the $\\epsilon$ value. However, the first and the third conditions present some problems when the function has a derivative very large or close to $0$ as evaluated in the root value. When the function is very inclined, the first condition fails as a convergence in the $x$ axis does not guarantee a convergence in the $y$ axis, so the found root $p$ may be far from the real value. When the function is very flat ($dF/dx\\rightarrow 0$), the third condition fails due to an analogous reason.\n",
      "\n",
      "A final stop condition that does not have mathematical motivation yet computational is a maximum number of allowed iterations. This condition should be used not only for this algorithm but for all iteration-based numerical methods. This condition guarantees a finite computing time and prevents undesired infinite bucles.\n",
      "\n",
      "* If $N>N_{max}$, stop!"
     ]
    },
    {
     "cell_type": "heading",
     "level": 2,
     "metadata": {},
     "source": [
      "Error analysis"
     ]
    },
    {
     "cell_type": "markdown",
     "metadata": {},
     "source": [
      "If we suppose $f\\in C[a,b]$ and $f(a)f(b)<0$, the Bisection method generates a sequence of numbers $\\left\\{p_i\\right\\}_{i=1}^\\infty$ approximating a root $p$ of $f$ as:\n",
      "\n",
      "$|p_i-p|\\leq \\frac{b-a}{2^n},\\ \\ \\ \\ \\ i\\geq 1$\n",
      "\n",
      "From this, we can conclude the convergence rate of the method is\n",
      "\n",
      "$p_i = p + \\mathcal{O}\\left( \\frac{1}{2^n} \\right)$\n",
      "\n",
      "This expression allows us to estimate the maximum number of required iterations for achieving a desired precision. The next figure sketches the number of iterations required for some precision."
     ]
    },
    {
     "cell_type": "code",
     "collapsed": false,
     "input": [
      "#Array of iterations\n",
      "Niter = np.arange( 1, 100, 1 )\n",
      "\n",
      "plt.figure( figsize=(6,6) )\n",
      "plt.semilogy( Niter, 2.0**-Niter, color=\"green\", lw = 2 )\n",
      "plt.grid(True)\n",
      "plt.xlabel(\"Number of Iterations\")\n",
      "plt.ylabel(\"Absolute Error $|p_n-p|$\")"
     ],
     "language": "python",
     "metadata": {},
     "outputs": [
      {
       "output_type": "pyout",
       "prompt_number": 17,
       "text": [
        "<matplotlib.text.Text at 0x38f6290>"
       ]
      },
      {
       "output_type": "display_data",
       "png": "[encoded data removed]"
      }
     ],
     "prompt_number": 17
    },
    {
     "cell_type": "heading",
     "level": 2,
     "metadata": {},
     "source": [
      "Example 1"
     ]
    },
    {
     "cell_type": "markdown",
     "metadata": {},
     "source": [
      "Find the root of the function $f$\n",
      "\n",
      "$f(x) = x^3 - 2$\n",
      "\n",
      "for $20$ iterations, show the result and the relative error in each iteration."
     ]
    },
    {
     "cell_type": "code",
     "collapsed": false,
     "input": [
      "#Defining Bisection function\n",
      "def Bisection( f, a, b, Nmax, printer=False ):\n",
      "    #verifying the STEP1, a and b with different signs\n",
      "    if f(a)*f(b)>0:\n",
      "        print \"Error, f(a) and f(b) should have opposite signs\"\n",
      "        return False\n",
      "    #Assigning the current extreme values, STEP2\n",
      "    ai = a\n",
      "    bi = b\n",
      "    #Iterations\n",
      "    n = 1\n",
      "    while n<=Nmax:\n",
      "        #Bisection, STEP3\n",
      "        pi = (ai+bi)/2.0\n",
      "        #Evaluating function in pi, STEP4 and STEP5\n",
      "        if printer:\n",
      "            print \"Value for %d iterations:\"%(n),pi\n",
      "        #Condition A\n",
      "        if f(pi)*f(ai)>0:\n",
      "            ai = pi\n",
      "        #Condition B\n",
      "        elif f(pi)*f(ai)<0:\n",
      "            bi = pi\n",
      "        #Condition C: repeat the cycle\n",
      "        n+=1\n",
      "    #Final result\n",
      "    return pi"
     ],
     "language": "python",
     "metadata": {},
     "outputs": [],
     "prompt_number": 71
    },
    {
     "cell_type": "code",
     "collapsed": false,
     "input": [
      "#Defining function\n",
      "def function(x):\n",
      "    f = x**3.0 - 2.0\n",
      "    return f\n",
      "\n",
      "#Finding the root of the function. The real root is 2**(1/3), so a & b should enclose this value\n",
      "a = 0.0\n",
      "b = 2.0\n",
      "Nmax = 20\n",
      "\n",
      "result = Bisection(function, a, b, Nmax, True)\n",
      "print \"Real value:\", 2**(1/3.0)\n",
      "print \"Absolute error\", abs((2**(1/3.0)-result))"
     ],
     "language": "python",
     "metadata": {},
     "outputs": [
      {
       "output_type": "stream",
       "stream": "stdout",
       "text": [
        "Value for 1 iterations: 1.0\n",
        "Value for 2 iterations: 1.5\n",
        "Value for 3 iterations: 1.25\n",
        "Value for 4 iterations: 1.375\n",
        "Value for 5 iterations: 1.3125\n",
        "Value for 6 iterations: 1.28125\n",
        "Value for 7 iterations: 1.265625\n",
        "Value for 8 iterations: 1.2578125\n",
        "Value for 9 iterations: 1.26171875\n",
        "Value for 10 iterations: 1.259765625\n",
        "Value for 11 iterations: 1.2607421875\n",
        "Value for 12 iterations: 1.26025390625\n",
        "Value for 13 iterations: 1.26000976562\n",
        "Value for 14 iterations: 1.25988769531\n",
        "Value for 15 iterations: 1.25994873047\n",
        "Value for 16 iterations: 1.25991821289\n",
        "Value for 17 iterations: 1.25993347168\n",
        "Value for 18 iterations: 1.25992584229\n",
        "Value for 19 iterations: 1.25992202759\n",
        "Value for 20 iterations: 1.25992012024\n",
        "Real value: 1.25992104989\n",
        "Absolute error 9.29655615378e-07\n"
       ]
      }
     ],
     "prompt_number": 72
    },
    {
     "cell_type": "markdown",
     "metadata": {},
     "source": [
      "Using the error analysis, we can predict the produced error at $20$ iterations by computing:\n",
      "\n",
      "$ \\left( \\frac{1}{2^{20}}\\right) \\approx 9.53674316\\times 10^{-7} $\n",
      "\n",
      "This value is very close to the obtained relative error.\n",
      "\n",
      "If we were interested in a double precision, i.e. $\\epsilon \\sim 10^{-17}$, the number of required iterations would be:\n",
      "\n",
      "$ 10^{-17} = \\left( \\frac{1}{2^{N}}\\right) \\longrightarrow N = \\frac{17}{\\log_{10}(2)} \\approx 56 $"
     ]
    },
    {
     "cell_type": "markdown",
     "metadata": {},
     "source": [
      "<font color='red'>\n",
      "**ACTIVITY**\n",
      "\n",
      "In a IPython notebook, copy the last function and find the first solution to the equation\n",
      "    \n",
      "$ 7 = \\sqrt{x^2+1}+e^x\\sin x $\n",
      "    \n",
      "*CLUE:* this solution is within the interval $[0,4]$.\n",
      "</font>"
     ]
    },
    {
     "cell_type": "heading",
     "level": 2,
     "metadata": {},
     "source": [
      "Example 2"
     ]
    },
    {
     "cell_type": "markdown",
     "metadata": {},
     "source": [
      "In orbital mechanics, when solving the central-force problem it becomes necessary to solve the Kepler's equation. This is a transcendental equation that relates the orbital parameters of the trajectory.\n",
      "\n",
      "*Kepler equation:* $M = E - \\epsilon \\sin E$\n",
      "\n",
      "where $M$ is the mean anomaly, $E$ the eccentric anomaly and $\\epsilon$ the eccentricity. The mean anomaly can be computed with the expression\n",
      "\n",
      "$M = n\\ t = \\sqrt{ \\frac{GM}{a^3} } t$\n",
      "\n",
      "where $n$ is the mean motion, $G$ the gravitational constant, $M$ the mass of the central body and $a$ the semi-major axis. $t$ is the time where the position in the trajectory will be computed.\n",
      "\n",
      "The coordinates $x$ and $y$ as time functions can be recovered by means of the next expressions\n",
      "\n",
      "$x(t) = a(\\cos E - \\epsilon)$\n",
      "\n",
      "$y(t) = b\\sin E$\n",
      "\n",
      "where $b = a \\sqrt{1-\\epsilon^2}$ is the semi-minor axis of the orbit and the implicit time-dependence of the eccentric anomaly $E$ is computed through the Kepler's equation."
     ]
    },
    {
     "cell_type": "markdown",
     "metadata": {},
     "source": [
      "**Problem:**\n",
      "\n",
      "For a stallite orbiting the earth in a equatorial trajectory with eccentricity $\\epsilon = 0.5$ at a geostationary distance for the semi-major axis, tabulate the positions $x$ and $y$ within the orbital plane in intervals of $15$ min during $5$ hours.\n",
      "\n",
      "**Parameters:**\n",
      "\n",
      "- $\\epsilon = 0.5$\n",
      "\n",
      "- $a = 35900$ km\n",
      "\n",
      "- $G = 6.67384 \\times 10^{-11}$ m$^3$ kg$^{-1}$ s$^{-2}$\n",
      "\n",
      "- $M_{\\oplus} = 5.972\\times 10^{24}$ kg"
     ]
    },
    {
     "cell_type": "code",
     "collapsed": false,
     "input": [
      "#====================================================================\n",
      "#Parameters\n",
      "#====================================================================\n",
      "#Eccentricity\n",
      "eps = 0.5\n",
      "#Semi-major axis    [m]\n",
      "a = 35900e3\n",
      "#Gravitational constant    [m3kg-1s-2]\n",
      "GC = 6.67384e-11\n",
      "#Earth mass    [kg]\n",
      "Me = 5.972e24\n",
      "\n",
      "#Semi-minor axis    [m]\n",
      "b = a*(1-eps**2.0)**0.5\n",
      "#Mean motion\n",
      "n = ( GC*Me/a**3.0 )**0.5\n",
      "\n",
      "#Hour to Second\n",
      "HR2SC = 3600.\n",
      "#Initial time    [hr]\n",
      "t0 = 0*HR2SC\n",
      "#Final time    [hr]\n",
      "tf = 5*HR2SC\n",
      "#Time step    [hr]\n",
      "tstep = 0.25*HR2SC\n",
      "#Number of maxim iterations\n",
      "Niter = 56\n",
      "#Root interval\n",
      "a0 = -10\n",
      "b0 = 10\n",
      "\n",
      "#====================================================================\n",
      "#Kepler Function\n",
      "#====================================================================\n",
      "def kepler( E ):\n",
      "    func = E - eps*np.sin(E) - n*t\n",
      "    return func\n",
      "\n",
      "#====================================================================\n",
      "#Position function\n",
      "#====================================================================\n",
      "def r(E):\n",
      "    x = a*(np.cos(E)-eps)\n",
      "    y = b*np.sin(E)\n",
      "    return [x/1.e3, y/1.e3]"
     ],
     "language": "python",
     "metadata": {},
     "outputs": [],
     "prompt_number": 106
    },
    {
     "cell_type": "code",
     "collapsed": false,
     "input": [
      "#====================================================================\n",
      "#Solving for different times\n",
      "#====================================================================\n",
      "#Time array\n",
      "times = np.arange( t0, tf, tstep )\n",
      "\n",
      "rpos = []\n",
      "for t in times:\n",
      "    #Finding the new eccentric anomaly\n",
      "    E = Bisection( kepler, a0, b0, Niter )\n",
      "    #Computing coordinates at this time\n",
      "    ri = r(E)\n",
      "    print \"In %f hours, the satellite is located at (%f,%f) km\"%(t/HR2SC, ri[0], ri[1])\n",
      "    rpos.append( ri )\n",
      "rpos = np.array(rpos)    \n",
      "\n",
      "#Plotting\n",
      "plt.plot( rpos[:,0], rpos[:,1], \"o-\", color=\"red\", lw = 2 )\n",
      "plt.grid(True)\n",
      "plt.xlabel(\"$x$ coordinate [km]\")\n",
      "plt.ylabel(\"$y$ coordinate [km]\")"
     ],
     "language": "python",
     "metadata": {},
     "outputs": [
      {
       "output_type": "stream",
       "stream": "stdout",
       "text": [
        "In 0.000000 hours, the satellite is located at (17950.000000,0.000000) km\n",
        "In 0.250000 hours, the satellite is located at (17454.741542,5146.426647) km\n",
        "In 0.500000 hours, the satellite is located at (16033.097675,10023.437750) km\n",
        "In 0.750000 hours, the satellite is located at (13848.847528,14430.262364) km\n",
        "In 1.000000 hours, the satellite is located at (11104.379909,18261.701894) km\n",
        "In 1.250000 hours, the satellite is located at (7989.437466,21493.410338) km\n",
        "In 1.500000 hours, the satellite is located at (4657.168469,24151.489610) km\n",
        "In 1.750000 hours, the satellite is located at (1221.066166,26286.121177) km\n",
        "In 2.000000 hours, the satellite is located at (-2238.747501,27954.872718) km\n",
        "In 2.250000 hours, the satellite is located at (-5667.264143,29214.008624) km\n",
        "In 2.500000 hours, the satellite is located at (-9027.373694,30114.739827) km\n",
        "In 2.750000 hours, the satellite is located at (-12294.392344,30702.085866) km\n",
        "In 3.000000 hours, the satellite is located at (-15452.164136,31014.965936) km\n",
        "In 3.250000 hours, the satellite is located at (-18490.361033,31086.789919) km\n",
        "In 3.500000 hours, the satellite is located at (-21402.633716,30946.195086) km\n",
        "In 3.750000 hours, the satellite is located at (-24185.347784,30617.769816) km\n",
        "In 4.000000 hours, the satellite is located at (-26836.717825,30122.702148) km\n",
        "In 4.250000 hours, the satellite is located at (-29356.211228,29479.336137) km\n",
        "In 4.500000 hours, the satellite is located at (-31744.135350,28703.638662) km\n",
        "In 4.750000 hours, the satellite is located at (-34001.350021,27809.586870) km\n"
       ]
      },
      {
       "output_type": "pyout",
       "prompt_number": 113,
       "text": [
        "<matplotlib.text.Text at 0x64dd5d0>"
       ]
      },
      {
       "output_type": "display_data",
       "png": "[encoded data removed]"
      }
     ],
     "prompt_number": 113
    },
    {
     "cell_type": "markdown",
     "metadata": {},
     "source": [
      "- - - "
     ]
    }
   ],
   "metadata": {}
  }
 ]
}