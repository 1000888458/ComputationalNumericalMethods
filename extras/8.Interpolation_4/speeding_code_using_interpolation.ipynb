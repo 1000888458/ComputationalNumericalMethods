{
 "cells": [
  {
   "cell_type": "code",
   "execution_count": null,
   "id": "respiratory-conservation",
   "metadata": {},
   "outputs": [],
   "source": []
  },
  {
   "cell_type": "markdown",
   "id": "hispanic-vintage",
   "metadata": {},
   "source": [
    "Sometimes we need to call some complicated funcions many times (1000 times) it is a part of some complex simulation... then the speed of the execution matters...\n",
    "\n",
    "* for example in the simulations of the atomic physics there is a function con polylogarithm (Li)\n",
    "* so PART of the loop was to calculate this polylogarithm for different inputs"
   ]
  },
  {
   "cell_type": "markdown",
   "id": "reflected-shield",
   "metadata": {},
   "source": [
    "https://www.mpmath.org/doc/current/functions/zeta.html"
   ]
  },
  {
   "cell_type": "code",
   "execution_count": 36,
   "id": "nervous-teacher",
   "metadata": {},
   "outputs": [],
   "source": [
    "import mpmath"
   ]
  },
  {
   "cell_type": "code",
   "execution_count": 37,
   "id": "corresponding-crash",
   "metadata": {},
   "outputs": [
    {
     "data": {
      "text/plain": [
       "mpf('0.62483702081991388')"
      ]
     },
     "execution_count": 37,
     "metadata": {},
     "output_type": "execute_result"
    }
   ],
   "source": [
    "mpmath.polylog(3.0/2.0, 0.5)"
   ]
  },
  {
   "cell_type": "code",
   "execution_count": 40,
   "id": "uniform-cricket",
   "metadata": {},
   "outputs": [],
   "source": [
    "xgrid=np.linspace(0.0,1.0,1001)"
   ]
  },
  {
   "cell_type": "code",
   "execution_count": 41,
   "id": "bigger-safety",
   "metadata": {},
   "outputs": [
    {
     "name": "stdout",
     "output_type": "stream",
     "text": [
      "Esta operacion tomo : 1.86 segundos\n"
     ]
    }
   ],
   "source": [
    "import time\n",
    "\n",
    "timestamp1 = time.time()\n",
    "for x in xgrid:\n",
    "    calculations.append(mpmath.polylog(3.0/2.0,x))\n",
    "timestamp2 = time.time()\n",
    "print (f\"Esta operacion tomo : {(timestamp2 - timestamp1):.2f} segundos\")"
   ]
  },
  {
   "cell_type": "code",
   "execution_count": null,
   "id": "strong-translation",
   "metadata": {},
   "outputs": [],
   "source": []
  },
  {
   "cell_type": "code",
   "execution_count": null,
   "id": "dirty-vintage",
   "metadata": {},
   "outputs": [],
   "source": []
  },
  {
   "cell_type": "code",
   "execution_count": null,
   "id": "congressional-establishment",
   "metadata": {},
   "outputs": [],
   "source": []
  },
  {
   "cell_type": "code",
   "execution_count": null,
   "id": "disciplinary-superintendent",
   "metadata": {},
   "outputs": [],
   "source": []
  },
  {
   "cell_type": "code",
   "execution_count": 33,
   "id": "academic-kidney",
   "metadata": {},
   "outputs": [],
   "source": [
    "import matplotlib.pyplot as plt\n",
    "import numpy as np"
   ]
  },
  {
   "cell_type": "code",
   "execution_count": 2,
   "id": "million-group",
   "metadata": {},
   "outputs": [],
   "source": [
    "def cos_taylor(x,k):\n",
    "    cos=0\n",
    "    for k in range(k):\n",
    "        cos=cos+(-1)**k/math.factorial(2*k)*x**(2*k)\n",
    "    return cos"
   ]
  },
  {
   "cell_type": "code",
   "execution_count": 14,
   "id": "polish-tiger",
   "metadata": {},
   "outputs": [
    {
     "name": "stdout",
     "output_type": "stream",
     "text": [
      "Esta operacion tomo : 13.84 segundos\n"
     ]
    }
   ],
   "source": [
    "import time\n",
    "xtointerp=np.linspace(0,1,50000)\n",
    "\n",
    "timestamp1 = time.time()\n",
    "for x in xtointerp:\n",
    "    calculations.append(cos_taylor(x,100))\n",
    "timestamp2 = time.time()\n",
    "print (f\"Esta operacion tomo : {(timestamp2 - timestamp1):.2f} segundos\")"
   ]
  },
  {
   "cell_type": "code",
   "execution_count": null,
   "id": "double-relaxation",
   "metadata": {},
   "outputs": [],
   "source": []
  },
  {
   "cell_type": "code",
   "execution_count": null,
   "id": "controlling-pathology",
   "metadata": {},
   "outputs": [],
   "source": []
  },
  {
   "cell_type": "code",
   "execution_count": 19,
   "id": "bearing-graduate",
   "metadata": {},
   "outputs": [],
   "source": [
    "xvec=np.linspace(0,1,10)\n",
    "yvec=[]\n",
    "for x in xvec:\n",
    "    yvec.append(cos_taylor(x,100))"
   ]
  },
  {
   "cell_type": "code",
   "execution_count": 32,
   "id": "supported-wayne",
   "metadata": {},
   "outputs": [
    {
     "data": {
      "image/png": "[encoded data removed]",
      "text/plain": [
       "<Figure size 432x288 with 1 Axes>"
      ]
     },
     "metadata": {
      "needs_background": "light"
     },
     "output_type": "display_data"
    }
   ],
   "source": [
    "fig,ax=plt.subplots(1,1)\n",
    "ax.plot(xvec,yvec,'.r',label='calculated points using Taylor exp.')\n",
    "ax.set_xlabel('x')\n",
    "ax.set_ylabel('cos(x)')\n",
    "\n",
    "ax.legend()\n",
    "ax.grid('True')"
   ]
  },
  {
   "cell_type": "code",
   "execution_count": null,
   "id": "printable-glossary",
   "metadata": {},
   "outputs": [],
   "source": []
  },
  {
   "cell_type": "code",
   "execution_count": 21,
   "id": "roman-chapter",
   "metadata": {},
   "outputs": [],
   "source": [
    "np.savetxt('yvec.txt', yvec,)\n",
    "yvec=np.loadtxt('yvec.txt')"
   ]
  },
  {
   "cell_type": "code",
   "execution_count": 22,
   "id": "legislative-furniture",
   "metadata": {},
   "outputs": [],
   "source": [
    "from scipy.interpolate import interp1d"
   ]
  },
  {
   "cell_type": "code",
   "execution_count": 23,
   "id": "weekly-cleaner",
   "metadata": {},
   "outputs": [],
   "source": [
    "spline3 = interp1d(xvec,yvec,kind='cubic')"
   ]
  },
  {
   "cell_type": "code",
   "execution_count": 24,
   "id": "swiss-establishment",
   "metadata": {},
   "outputs": [],
   "source": [
    "interpolations=[]\n",
    "calculations=[]"
   ]
  },
  {
   "cell_type": "code",
   "execution_count": 25,
   "id": "minor-gibson",
   "metadata": {},
   "outputs": [
    {
     "name": "stdout",
     "output_type": "stream",
     "text": [
      "Esta operacion tomo : 13.61 segundos\n"
     ]
    }
   ],
   "source": [
    "import time\n",
    "xtointerp=np.linspace(0,1,50000)\n",
    "\n",
    "timestamp1 = time.time()\n",
    "for x in xtointerp:\n",
    "    calculations.append(cos_taylor(x,100))\n",
    "timestamp2 = time.time()\n",
    "print (f\"Esta operacion tomo : {(timestamp2 - timestamp1):.2f} segundos\")"
   ]
  },
  {
   "cell_type": "code",
   "execution_count": 26,
   "id": "young-survivor",
   "metadata": {},
   "outputs": [
    {
     "name": "stdout",
     "output_type": "stream",
     "text": [
      "Esta operacion tomo : 2.32 segundos\n"
     ]
    }
   ],
   "source": [
    "import time\n",
    "xtointerp=np.linspace(0,1,50000)\n",
    "\n",
    "timestamp1 = time.time()\n",
    "for x in xtointerp:\n",
    "    # here Im calling ONLY the spline3(x) function for different x !!!!\n",
    "    interpolations.append(spline3(x))\n",
    "timestamp2 = time.time()\n",
    "print (f\"Esta operacion tomo : {(timestamp2 - timestamp1):.2f} segundos\")"
   ]
  },
  {
   "cell_type": "markdown",
   "id": "fossil-dealing",
   "metadata": {},
   "source": [
    "# Lets make it even faster\n",
    "* optimized Fortran routine"
   ]
  },
  {
   "cell_type": "code",
   "execution_count": 27,
   "id": "complimentary-titanium",
   "metadata": {},
   "outputs": [],
   "source": [
    "from scipy.interpolate import splev, splrep\n",
    "spl = splrep(xvec,yvec,k=3)\n",
    "# kind, optional: The degree of the spline fit. It is recommended to use cubic splines. Even values of k should be avoided especially with small s values. 1 <= k <= 5"
   ]
  },
  {
   "cell_type": "code",
   "execution_count": 28,
   "id": "vertical-calcium",
   "metadata": {},
   "outputs": [],
   "source": [
    "interpolations_splrep=[]"
   ]
  },
  {
   "cell_type": "code",
   "execution_count": 29,
   "id": "roman-compatibility",
   "metadata": {},
   "outputs": [
    {
     "name": "stdout",
     "output_type": "stream",
     "text": [
      "Esta operacion tomo : 0.48 segundos\n"
     ]
    }
   ],
   "source": [
    "import time\n",
    "xtointerp=np.linspace(0,1,50000)\n",
    "timestamp1 = time.time()\n",
    "\n",
    "for x in xtointerp:\n",
    "    # here Im calling ONLY the spline3(x) function for different x !!!!\n",
    "    # spline3 is already a function\n",
    "    interpolations_splrep.append(splev(x,spl))\n",
    "timestamp2 = time.time()\n",
    "print (f\"Esta operacion tomo : {(timestamp2 - timestamp1):.2f} segundos\")"
   ]
  },
  {
   "cell_type": "code",
   "execution_count": 30,
   "id": "meaning-hawaiian",
   "metadata": {},
   "outputs": [
    {
     "data": {
      "image/png": "[encoded data removed]",
      "text/plain": [
       "<Figure size 432x288 with 1 Axes>"
      ]
     },
     "metadata": {
      "needs_background": "light"
     },
     "output_type": "display_data"
    }
   ],
   "source": [
    "fig,ax=plt.subplots(1,1)\n",
    "ax.plot(xtointerp,calculations,'-r',label='calculated')\n",
    "ax.plot(xtointerp,interpolations,'-.b',label='interp interp1d')\n",
    "ax.plot(xtointerp,np.array(interpolations_splrep),'-.g',label='interp splrev')\n",
    "#ax.plot(xtointerp,np.cos(xtointerp),'-k',label='interpolations')\n",
    "ax.legend()\n",
    "ax.grid('True')"
   ]
  },
  {
   "cell_type": "code",
   "execution_count": null,
   "id": "unusual-wildlife",
   "metadata": {},
   "outputs": [],
   "source": []
  },
  {
   "cell_type": "code",
   "execution_count": null,
   "id": "incorrect-notion",
   "metadata": {},
   "outputs": [],
   "source": []
  }
 ],
 "metadata": {
  "kernelspec": {
   "display_name": "Python 3",
   "language": "python",
   "name": "python3"
  },
  "language_info": {
   "codemirror_mode": {
    "name": "ipython",
    "version": 3
   },
   "file_extension": ".py",
   "mimetype": "text/x-python",
   "name": "python",
   "nbconvert_exporter": "python",
   "pygments_lexer": "ipython3",
   "version": "3.7.2"
  }
 },
 "nbformat": 4,
 "nbformat_minor": 5
}
