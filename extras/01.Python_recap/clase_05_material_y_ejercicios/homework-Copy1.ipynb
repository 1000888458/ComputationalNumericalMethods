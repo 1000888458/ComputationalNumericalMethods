{
 "cells": [
  {
   "cell_type": "markdown",
   "metadata": {},
   "source": [
    "# Ejercicio 1\n",
    "* El archivo 'mnist_test.csv' contiene 10000 imágenes de dígitos en escala de grises guardadas como filas en el archivo CSV\n",
    "* la primera columna contiene el valor de los dígitos, luego 784 columnas corresponden a píxeles\n",
    "* hacer una matriz de gráficos de 25 imágenes elegidas aleatoriamente (5x5) \n",
    "* título de cada imagen tiene que tener el valor del digito corespondiente (columna 0)\n",
    "\n",
    "\n",
    "* pista - despues de cargar archivo a pandas dataframe mejor convertirlo entero a numpy"
   ]
  },
  {
   "cell_type": "code",
   "execution_count": 2,
   "metadata": {},
   "outputs": [
    {
     "name": "stdout",
     "output_type": "stream",
     "text": [
      "mnist_test.csv\tname_homework_3.ipynb\r\n"
     ]
    }
   ],
   "source": [
    "!ls"
   ]
  },
  {
   "cell_type": "code",
   "execution_count": null,
   "metadata": {},
   "outputs": [],
   "source": []
  },
  {
   "cell_type": "code",
   "execution_count": null,
   "metadata": {},
   "outputs": [],
   "source": []
  },
  {
   "cell_type": "code",
   "execution_count": null,
   "metadata": {},
   "outputs": [],
   "source": []
  },
  {
   "cell_type": "code",
   "execution_count": null,
   "metadata": {},
   "outputs": [],
   "source": []
  },
  {
   "cell_type": "code",
   "execution_count": null,
   "metadata": {},
   "outputs": [],
   "source": []
  },
  {
   "cell_type": "markdown",
   "metadata": {},
   "source": [
    "# Ejercicio 2\n",
    "\n",
    "* El conjunto de datos de dígitos de Sklearn (https://scikit-learn.org/stable/modules/generated/sklearn.datasets.load_digits.html) contiene 1797 imágenes de dígitos en escala de grises \n",
    "* descargue el conjunto de datos (el comando está a continuación) y:\n",
    "* hacer una matriz de gráficos de 25 imágenes elegidas aleatoriamente (5 imágenes x 5 imágenes) \n",
    "* cada imagen de la matriz tiene que tener un título correspondiente a un dígito \n",
    "\n",
    "* pista: comienza con digits.keys()\n",
    "* digits['data'] ya es una numpy array que contiene las imagenes\n",
    "* digits['targets'] es numpy vector que contiene las etiquietas de los imagenes"
   ]
  },
  {
   "cell_type": "code",
   "execution_count": 3,
   "metadata": {},
   "outputs": [],
   "source": [
    "from sklearn import datasets\n",
    "digits = datasets.load_digits() # digits is a dictionary"
   ]
  },
  {
   "cell_type": "code",
   "execution_count": null,
   "metadata": {},
   "outputs": [],
   "source": []
  },
  {
   "cell_type": "code",
   "execution_count": null,
   "metadata": {},
   "outputs": [],
   "source": []
  },
  {
   "cell_type": "code",
   "execution_count": null,
   "metadata": {},
   "outputs": [],
   "source": []
  },
  {
   "cell_type": "code",
   "execution_count": null,
   "metadata": {},
   "outputs": [],
   "source": []
  },
  {
   "cell_type": "code",
   "execution_count": null,
   "metadata": {},
   "outputs": [],
   "source": []
  },
  {
   "cell_type": "markdown",
   "metadata": {},
   "source": [
    "# Ejercicio 3\n",
    "El conjunto de datos CIFAR-10 consiste, en total, en 50000 **color** imágenes (tres canales), cada una con una de las 10 etiquetas: avión, automóvil, pájaro, gato, ciervo, perro, rana, caballo, barco, camión.\n",
    "\n",
    "http://www.cs.toronto.edu/~kriz/cifar.html\n",
    "\n",
    "* hacer una matriz de gráficos de 25 imágenes elegidas aleatoriamente (5 imágenes x 5 imágenes) \n",
    "* cada imagen (axis) tiene que tener un título con una etiqueta correspondiente\n",
    "\n",
    "\n",
    "* convertir las imágenes en color a escala de grises promediando una de las dimensiones y volver a mostrar las imágenes:\n",
    "* hacer una matriz de gráficos de 25 imágenes elegidas aleatoriamente (5 imágenes x 5 imágenes) \n",
    "* cada imagen (axis) tiene que tener un título con una etiqueta correspondiente\n",
    "\n",
    "\n",
    "\n",
    "* pista: comienza con X_data.shape y intenta entender la estructura de datos que contiene los imagenes (a que coresponde cada dimension)\n",
    "* muestra primero un imagen y despues segundo imagen para confirmar si se entiende como son organizados en la array de numpy "
   ]
  },
  {
   "cell_type": "code",
   "execution_count": 4,
   "metadata": {},
   "outputs": [],
   "source": [
    "import tensorflow as tf\n",
    "(X_data, y_data), (_, _) = tf.keras.datasets.cifar10.load_data()\n",
    "# X_data (numpy array) contiene los imagenes \n",
    "# y_data (numpy array) contiene las etiquietas"
   ]
  },
  {
   "cell_type": "code",
   "execution_count": null,
   "metadata": {},
   "outputs": [],
   "source": []
  },
  {
   "cell_type": "code",
   "execution_count": null,
   "metadata": {},
   "outputs": [],
   "source": []
  },
  {
   "cell_type": "markdown",
   "metadata": {},
   "source": [
    "# Ejercicio 4\n",
    "Modifica esta \"animacion\" abajo que hace un rolling plot de valor aleatorio (0:1) para cada momento de tiempo."
   ]
  },
  {
   "cell_type": "code",
   "execution_count": null,
   "metadata": {},
   "outputs": [],
   "source": [
    "%matplotlib notebook\n",
    "\n",
    "import numpy as np\n",
    "from matplotlib import pyplot as plt\n",
    "from time import sleep\n",
    "\n",
    "time_lap=[0]\n",
    "value=[0]\n",
    "t=1.0\n",
    "fig,ax=plt.subplots(1,1)\n",
    "\n",
    "while True:\n",
    "    ax.cla()                             # limpia el plot anterior\n",
    "    ax.plot(time_lap,value,'-k')         # hace plot de tiempo y valor\n",
    "    fig.canvas.draw()                    # refresca el plot\n",
    "    sleep(t)                             # hace una pausa  \n",
    "    time_lap.append(time_lap[-1]+t)      \n",
    "    value.append(np.random.uniform(0,1))"
   ]
  },
  {
   "cell_type": "markdown",
   "metadata": {},
   "source": [
    "reemplaza el valor aleatorio (0:1) con un valor de command: ping, especificamente valor de time que aqui es igual 13.9 pero cada vez va a ser diferente. \n",
    "*usa metodo find sobre el string ***response***"
   ]
  },
  {
   "cell_type": "code",
   "execution_count": 14,
   "metadata": {},
   "outputs": [
    {
     "name": "stdout",
     "output_type": "stream",
     "text": [
      "PING www.google.com (142.250.78.100) 56(84) bytes of data.\n",
      "64 bytes from bog02s17-in-f4.1e100.net (142.250.78.100): icmp_seq=1 ttl=118 time=13.8 ms\n",
      "\n",
      "--- www.google.com ping statistics ---\n",
      "1 packets transmitted, 1 received, 0% packet loss, time 0ms\n",
      "rtt min/avg/max/mdev = 13.892/13.892/13.892/0.000 ms\n",
      "\n"
     ]
    }
   ],
   "source": [
    "import os\n",
    "response=os.popen('ping -c 1 www.google.com ').read() # linux\n",
    "#response=os.popen('ping -n 1 www.google.com ').read() # Windows\n",
    "print(response)"
   ]
  },
  {
   "cell_type": "code",
   "execution_count": null,
   "metadata": {},
   "outputs": [],
   "source": []
  }
 ],
 "metadata": {
  "kernelspec": {
   "display_name": "Python 3",
   "language": "python",
   "name": "python3"
  },
  "language_info": {
   "codemirror_mode": {
    "name": "ipython",
    "version": 3
   },
   "file_extension": ".py",
   "mimetype": "text/x-python",
   "name": "python",
   "nbconvert_exporter": "python",
   "pygments_lexer": "ipython3",
   "version": "3.7.2"
  }
 },
 "nbformat": 4,
 "nbformat_minor": 2
}
