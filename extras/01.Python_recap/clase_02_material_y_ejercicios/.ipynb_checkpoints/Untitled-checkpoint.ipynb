{
 "cells": [
  {
   "cell_type": "markdown",
   "id": "ranking-agenda",
   "metadata": {},
   "source": [
    "#### 1. Construye una función `par_impar(x)` que recive un numero entero como argumento y devuelva una cadena diciendo si este numero es 'par' o 'impar'."
   ]
  },
  {
   "cell_type": "code",
   "execution_count": 1,
   "id": "animal-contrary",
   "metadata": {},
   "outputs": [],
   "source": [
    "def par_impar(x):\n",
    "    #tu codigo aqui       \n",
    "    return paridad"
   ]
  },
  {
   "cell_type": "markdown",
   "id": "foster-recognition",
   "metadata": {},
   "source": [
    "#### llama su function y verifica los resultados, por ejemplo:\n",
    "`par_impar(3) ` tiene que devolver cadena `'impar'`  \n",
    "`par_impar(46) ` tiene que devolver cadena `'par'`"
   ]
  },
  {
   "cell_type": "code",
   "execution_count": null,
   "id": "published-wales",
   "metadata": {},
   "outputs": [],
   "source": []
  },
  {
   "cell_type": "code",
   "execution_count": 28,
   "id": "dirty-radical",
   "metadata": {},
   "outputs": [],
   "source": [
    "def celsius_to_fahrenheit(c):\n",
    "    f = (9*(c)/5)+32\n",
    "    print(f)"
   ]
  },
  {
   "cell_type": "code",
   "execution_count": 29,
   "id": "looking-celebrity",
   "metadata": {},
   "outputs": [
    {
     "name": "stdout",
     "output_type": "stream",
     "text": [
      "50.36\n"
     ]
    }
   ],
   "source": [
    "celsius_to_fahrenheit(10.2)"
   ]
  },
  {
   "cell_type": "markdown",
   "id": "junior-chance",
   "metadata": {},
   "source": [
    "Calcular la soma de numeros par (2+4+6+8+10.. + ...100) usando \"for loop\" y guardar resultado en variable \"my_result\" (pista: usa condicion \"if\" y \"%\")"
   ]
  }
 ],
 "metadata": {
  "kernelspec": {
   "display_name": "Python 3",
   "language": "python",
   "name": "python3"
  },
  "language_info": {
   "codemirror_mode": {
    "name": "ipython",
    "version": 3
   },
   "file_extension": ".py",
   "mimetype": "text/x-python",
   "name": "python",
   "nbconvert_exporter": "python",
   "pygments_lexer": "ipython3",
   "version": "3.7.2"
  }
 },
 "nbformat": 4,
 "nbformat_minor": 5
}
