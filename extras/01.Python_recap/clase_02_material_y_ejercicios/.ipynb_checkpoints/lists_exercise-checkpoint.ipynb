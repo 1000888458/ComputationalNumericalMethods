{
 "cells": [
  {
   "cell_type": "markdown",
   "id": "adolescent-sally",
   "metadata": {},
   "source": [
    "## Exercise 2: Lists"
   ]
  },
  {
   "cell_type": "markdown",
   "id": "prime-undergraduate",
   "metadata": {},
   "source": [
    "### Este codigo abajo importa un libro entero a un string que se llama \"book\""
   ]
  },
  {
   "cell_type": "code",
   "execution_count": 4,
   "id": "documentary-museum",
   "metadata": {},
   "outputs": [
    {
     "data": {
      "text/plain": [
       "10396"
      ]
     },
     "execution_count": 4,
     "metadata": {},
     "output_type": "execute_result"
    }
   ],
   "source": [
    "## Challange:\n",
    "## List comprehenions are not necessary for this challenge\n",
    "\n",
    "from urllib.request import urlopen\n",
    "response = urlopen('https://www.gutenberg.org/files/74/74-0.txt')\n",
    "book = str(response.read())\n",
    "book.find('HARTFORD, 1876.')"
   ]
  },
  {
   "cell_type": "code",
   "execution_count": 5,
   "id": "metropolitan-magazine",
   "metadata": {},
   "outputs": [
    {
     "name": "stdout",
     "output_type": "stream",
     "text": [
      "510671\n"
     ]
    }
   ],
   "source": [
    "print(len(book))"
   ]
  },
  {
   "cell_type": "code",
   "execution_count": 9,
   "id": "adaptive-elder",
   "metadata": {},
   "outputs": [
    {
     "name": "stdout",
     "output_type": "stream",
     "text": [
      "The Project Gutenberg eBook of The Adventures of Tom Sawyer, by Mark Twain\\r\\n\\r\\nThis\n"
     ]
    }
   ],
   "source": [
    "print(book[14:100])"
   ]
  },
  {
   "cell_type": "markdown",
   "id": "continuing-metabolism",
   "metadata": {},
   "source": [
    "### Siguiendo el material de la clase pasada hacer un plot de occurencia de un caracter (Jim o Tom o Huck) de libro atraves de los capitulos\n"
   ]
  }
 ],
 "metadata": {
  "kernelspec": {
   "display_name": "Python 3",
   "language": "python",
   "name": "python3"
  },
  "language_info": {
   "codemirror_mode": {
    "name": "ipython",
    "version": 3
   },
   "file_extension": ".py",
   "mimetype": "text/x-python",
   "name": "python",
   "nbconvert_exporter": "python",
   "pygments_lexer": "ipython3",
   "version": "3.7.2"
  }
 },
 "nbformat": 4,
 "nbformat_minor": 5
}
