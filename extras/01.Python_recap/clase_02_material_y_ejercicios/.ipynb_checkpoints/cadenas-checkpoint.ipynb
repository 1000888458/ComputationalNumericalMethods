{
 "cells": [
  {
   "cell_type": "markdown",
   "id": "rolled-casino",
   "metadata": {},
   "source": [
    "## Strings\n",
    "* strings are in single or double quotes\n",
    "* they are immutable (cannot chage just one element)"
   ]
  },
  {
   "cell_type": "code",
   "execution_count": 2,
   "id": "swiss-sunday",
   "metadata": {},
   "outputs": [],
   "source": [
    "string1='Lunes no es mi dia favorito'\n",
    "string2=\"Lunes\""
   ]
  },
  {
   "cell_type": "markdown",
   "id": "informational-physics",
   "metadata": {},
   "source": [
    "### Example 1"
   ]
  },
  {
   "cell_type": "code",
   "execution_count": 4,
   "id": "genuine-lawsuit",
   "metadata": {},
   "outputs": [],
   "source": [
    "mystring='Python'"
   ]
  },
  {
   "cell_type": "markdown",
   "id": "integral-squad",
   "metadata": {},
   "source": [
    " ### Indexing [#]\n",
    " +---+---+---+---+---+---+\n",
    " | P | y | t | h | o | n |\n",
    " +---+---+---+---+---+---+\n",
    " \n",
    " 0   1   2   3   4   5   6\n",
    "-6  -5  -4  -3  -2  -1"
   ]
  },
  {
   "cell_type": "code",
   "execution_count": 14,
   "id": "oriental-pottery",
   "metadata": {},
   "outputs": [
    {
     "data": {
      "text/plain": [
       "'Python'"
      ]
     },
     "execution_count": 14,
     "metadata": {},
     "output_type": "execute_result"
    }
   ],
   "source": [
    "# corchetes\n",
    "mystring[-6:6]"
   ]
  },
  {
   "cell_type": "markdown",
   "id": "expanded-story",
   "metadata": {},
   "source": [
    "<table><tr>\n",
    "<td> <img src=\"imgs/string_slicing.png\" width=\"400\" /> </td>\n",
    "</tr></table>"
   ]
  },
  {
   "cell_type": "code",
   "execution_count": 16,
   "id": "convenient-karaoke",
   "metadata": {},
   "outputs": [
    {
     "data": {
      "text/plain": [
       "'thon'"
      ]
     },
     "execution_count": 16,
     "metadata": {},
     "output_type": "execute_result"
    }
   ],
   "source": [
    "mystring[2:]"
   ]
  },
  {
   "cell_type": "code",
   "execution_count": 17,
   "id": "polish-bottom",
   "metadata": {},
   "outputs": [
    {
     "data": {
      "text/plain": [
       "'Python'"
      ]
     },
     "execution_count": 17,
     "metadata": {},
     "output_type": "execute_result"
    }
   ],
   "source": [
    "mystring"
   ]
  },
  {
   "cell_type": "code",
   "execution_count": 18,
   "id": "lyric-syndication",
   "metadata": {},
   "outputs": [],
   "source": [
    "mystring='Python'"
   ]
  },
  {
   "cell_type": "code",
   "execution_count": 18,
   "id": "proprietary-somewhere",
   "metadata": {},
   "outputs": [
    {
     "name": "stdout",
     "output_type": "stream",
     "text": [
      "python\n"
     ]
    }
   ],
   "source": [
    "mystring_m= 'p' + mystring[1:]\n",
    "print(mystring_m)"
   ]
  },
  {
   "cell_type": "code",
   "execution_count": 21,
   "id": "metric-clone",
   "metadata": {},
   "outputs": [],
   "source": [
    "str1='hello'"
   ]
  },
  {
   "cell_type": "code",
   "execution_count": 22,
   "id": "express-lending",
   "metadata": {},
   "outputs": [],
   "source": [
    "str2='world'"
   ]
  },
  {
   "cell_type": "code",
   "execution_count": 24,
   "id": "acting-lawyer",
   "metadata": {},
   "outputs": [
    {
     "data": {
      "text/plain": [
       "'hello world'"
      ]
     },
     "execution_count": 24,
     "metadata": {},
     "output_type": "execute_result"
    }
   ],
   "source": [
    "str1 + ' ' + str2"
   ]
  },
  {
   "cell_type": "code",
   "execution_count": 19,
   "id": "exempt-stone",
   "metadata": {},
   "outputs": [
    {
     "data": {
      "text/plain": [
       "'python'"
      ]
     },
     "execution_count": 19,
     "metadata": {},
     "output_type": "execute_result"
    }
   ],
   "source": [
    "#mystring[0]='p'\n",
    "'p' + mystring[1:]"
   ]
  },
  {
   "cell_type": "markdown",
   "id": "optical-necessity",
   "metadata": {},
   "source": [
    "### Concatenating string + string"
   ]
  },
  {
   "cell_type": "code",
   "execution_count": 20,
   "id": "hidden-toyota",
   "metadata": {},
   "outputs": [],
   "source": [
    "mystring='Python'"
   ]
  },
  {
   "cell_type": "code",
   "execution_count": 64,
   "id": "continental-childhood",
   "metadata": {},
   "outputs": [
    {
     "data": {
      "text/plain": [
       "'Pnabc'"
      ]
     },
     "execution_count": 64,
     "metadata": {},
     "output_type": "execute_result"
    }
   ],
   "source": [
    "mystring[0] + mystring[-1] + 'abc'"
   ]
  },
  {
   "cell_type": "markdown",
   "id": "incorrect-official",
   "metadata": {},
   "source": [
    "## Converting number to string"
   ]
  },
  {
   "cell_type": "code",
   "execution_count": 25,
   "id": "grave-seminar",
   "metadata": {},
   "outputs": [],
   "source": [
    "str1='1'"
   ]
  },
  {
   "cell_type": "code",
   "execution_count": 28,
   "id": "corresponding-class",
   "metadata": {},
   "outputs": [
    {
     "data": {
      "text/plain": [
       "str"
      ]
     },
     "execution_count": 28,
     "metadata": {},
     "output_type": "execute_result"
    }
   ],
   "source": [
    "type(str1)"
   ]
  },
  {
   "cell_type": "code",
   "execution_count": 34,
   "id": "friendly-roulette",
   "metadata": {},
   "outputs": [
    {
     "data": {
      "text/plain": [
       "20.0"
      ]
     },
     "execution_count": 34,
     "metadata": {},
     "output_type": "execute_result"
    }
   ],
   "source": [
    "float('2')*10"
   ]
  },
  {
   "cell_type": "code",
   "execution_count": 40,
   "id": "frozen-wilderness",
   "metadata": {},
   "outputs": [
    {
     "data": {
      "text/plain": [
       "True"
      ]
     },
     "execution_count": 40,
     "metadata": {},
     "output_type": "execute_result"
    }
   ],
   "source": [
    "10==10.00000000000000001"
   ]
  },
  {
   "cell_type": "code",
   "execution_count": 22,
   "id": "unlikely-guidance",
   "metadata": {},
   "outputs": [
    {
     "name": "stdout",
     "output_type": "stream",
     "text": [
      "<class 'float'>\n",
      "<class 'str'>\n"
     ]
    }
   ],
   "source": [
    "num1=15.0\n",
    "print(type(num1))\n",
    "\n",
    "str1=str(num1)\n",
    "print(type(str1))"
   ]
  },
  {
   "cell_type": "code",
   "execution_count": 23,
   "id": "human-arthritis",
   "metadata": {},
   "outputs": [
    {
     "data": {
      "text/plain": [
       "'Python...15.0'"
      ]
     },
     "execution_count": 23,
     "metadata": {},
     "output_type": "execute_result"
    }
   ],
   "source": [
    "mystring + '...' + str(num1)"
   ]
  },
  {
   "cell_type": "code",
   "execution_count": 47,
   "id": "comprehensive-award",
   "metadata": {},
   "outputs": [
    {
     "name": "stdout",
     "output_type": "stream",
     "text": [
      "hello. world\n"
     ]
    }
   ],
   "source": [
    "mystring='hello. world'\n",
    "print(mystring)"
   ]
  },
  {
   "cell_type": "code",
   "execution_count": 48,
   "id": "liquid-chamber",
   "metadata": {},
   "outputs": [
    {
     "data": {
      "text/plain": [
       "12"
      ]
     },
     "execution_count": 48,
     "metadata": {},
     "output_type": "execute_result"
    }
   ],
   "source": [
    "len(mystring)"
   ]
  },
  {
   "cell_type": "code",
   "execution_count": 25,
   "id": "junior-liability",
   "metadata": {},
   "outputs": [
    {
     "name": "stdout",
     "output_type": "stream",
     "text": [
      "The word Python has 6 letters\n"
     ]
    }
   ],
   "source": [
    "longer_string='The word Python has ' + str(len(mystring)) + ' letters' \n",
    "\n",
    "print(longer_string)"
   ]
  },
  {
   "cell_type": "code",
   "execution_count": 26,
   "id": "attractive-thread",
   "metadata": {},
   "outputs": [
    {
     "name": "stdout",
     "output_type": "stream",
     "text": [
      "PythonPythonPython\n"
     ]
    }
   ],
   "source": [
    "long_python=3*'Python'\n",
    "print(long_python)"
   ]
  },
  {
   "cell_type": "code",
   "execution_count": 58,
   "id": "conservative-tractor",
   "metadata": {},
   "outputs": [
    {
     "data": {
      "text/plain": [
       "'11'"
      ]
     },
     "execution_count": 58,
     "metadata": {},
     "output_type": "execute_result"
    }
   ],
   "source": [
    "'1'*2"
   ]
  },
  {
   "cell_type": "markdown",
   "id": "german-rainbow",
   "metadata": {},
   "source": [
    "### Example 2"
   ]
  },
  {
   "cell_type": "code",
   "execution_count": 59,
   "id": "sunset-contamination",
   "metadata": {},
   "outputs": [],
   "source": [
    "mystring2 = 'It is 4pm. Good time to go to the sea'"
   ]
  },
  {
   "cell_type": "code",
   "execution_count": 60,
   "id": "numerical-chassis",
   "metadata": {},
   "outputs": [
    {
     "name": "stdout",
     "output_type": "stream",
     "text": [
      "It is 4pm. Good time to go to the sea\n"
     ]
    }
   ],
   "source": [
    "print(mystring2)"
   ]
  },
  {
   "cell_type": "code",
   "execution_count": 61,
   "id": "dried-recycling",
   "metadata": {},
   "outputs": [
    {
     "name": "stdout",
     "output_type": "stream",
     "text": [
      "37\n"
     ]
    }
   ],
   "source": [
    "print(len(mystring2))"
   ]
  },
  {
   "cell_type": "code",
   "execution_count": 62,
   "id": "isolated-miller",
   "metadata": {},
   "outputs": [
    {
     "name": "stdout",
     "output_type": "stream",
     "text": [
      "<class 'str'>\n"
     ]
    }
   ],
   "source": [
    "print(type(mystring2))"
   ]
  },
  {
   "cell_type": "code",
   "execution_count": 31,
   "id": "nutritional-closing",
   "metadata": {},
   "outputs": [
    {
     "data": {
      "text/plain": [
       "True"
      ]
     },
     "execution_count": 31,
     "metadata": {},
     "output_type": "execute_result"
    }
   ],
   "source": [
    "'a' in 'apple'"
   ]
  },
  {
   "cell_type": "code",
   "execution_count": 63,
   "id": "little-pointer",
   "metadata": {},
   "outputs": [],
   "source": [
    "mystring2='It is 4pm. Good time to go to the sea'"
   ]
  },
  {
   "cell_type": "code",
   "execution_count": 66,
   "id": "choice-slave",
   "metadata": {},
   "outputs": [
    {
     "name": "stdout",
     "output_type": "stream",
     "text": [
      "['__add__', '__class__', '__contains__', '__delattr__', '__dir__', '__doc__', '__eq__', '__format__', '__ge__', '__getattribute__', '__getitem__', '__getnewargs__', '__gt__', '__hash__', '__init__', '__init_subclass__', '__iter__', '__le__', '__len__', '__lt__', '__mod__', '__mul__', '__ne__', '__new__', '__reduce__', '__reduce_ex__', '__repr__', '__rmod__', '__rmul__', '__setattr__', '__sizeof__', '__str__', '__subclasshook__', 'capitalize', 'casefold', 'center', 'count', 'encode', 'endswith', 'expandtabs', 'find', 'format', 'format_map', 'index', 'isalnum', 'isalpha', 'isascii', 'isdecimal', 'isdigit', 'isidentifier', 'islower', 'isnumeric', 'isprintable', 'isspace', 'istitle', 'isupper', 'join', 'ljust', 'lower', 'lstrip', 'maketrans', 'partition', 'replace', 'rfind', 'rindex', 'rjust', 'rpartition', 'rsplit', 'rstrip', 'split', 'splitlines', 'startswith', 'strip', 'swapcase', 'title', 'translate', 'upper', 'zfill']\n"
     ]
    }
   ],
   "source": [
    "print(dir(mystring2))"
   ]
  },
  {
   "cell_type": "code",
   "execution_count": 67,
   "id": "physical-organizer",
   "metadata": {},
   "outputs": [
    {
     "name": "stdout",
     "output_type": "stream",
     "text": [
      "It is 4pm. Good time to go to the sea\n"
     ]
    }
   ],
   "source": [
    "print(mystring2)"
   ]
  },
  {
   "cell_type": "code",
   "execution_count": 70,
   "id": "musical-death",
   "metadata": {},
   "outputs": [],
   "source": [
    "mystring3=mystring2.upper()"
   ]
  },
  {
   "cell_type": "code",
   "execution_count": 72,
   "id": "printable-pennsylvania",
   "metadata": {},
   "outputs": [
    {
     "data": {
      "text/plain": [
       "'IT IS 4PM. GOOD TIME TO GO TO THE SEA'"
      ]
     },
     "execution_count": 72,
     "metadata": {},
     "output_type": "execute_result"
    }
   ],
   "source": [
    "mystring3"
   ]
  },
  {
   "cell_type": "code",
   "execution_count": 7,
   "id": "meaning-heather",
   "metadata": {},
   "outputs": [],
   "source": [
    "mystring_converted=mystring2.upper()"
   ]
  },
  {
   "cell_type": "code",
   "execution_count": 88,
   "id": "measured-niagara",
   "metadata": {},
   "outputs": [],
   "source": [
    "mystring2='It is 9pm. Good time to go to the sea'"
   ]
  },
  {
   "cell_type": "code",
   "execution_count": 89,
   "id": "angry-worth",
   "metadata": {},
   "outputs": [
    {
     "data": {
      "text/plain": [
       "16"
      ]
     },
     "execution_count": 89,
     "metadata": {},
     "output_type": "execute_result"
    }
   ],
   "source": [
    "mystring2.find('time')"
   ]
  },
  {
   "cell_type": "code",
   "execution_count": 90,
   "id": "logical-colonial",
   "metadata": {},
   "outputs": [
    {
     "data": {
      "text/plain": [
       "'time '"
      ]
     },
     "execution_count": 90,
     "metadata": {},
     "output_type": "execute_result"
    }
   ],
   "source": [
    "mystring2[16:16+5]"
   ]
  },
  {
   "cell_type": "code",
   "execution_count": 91,
   "id": "excellent-romantic",
   "metadata": {},
   "outputs": [
    {
     "data": {
      "text/plain": [
       "3"
      ]
     },
     "execution_count": 91,
     "metadata": {},
     "output_type": "execute_result"
    }
   ],
   "source": [
    "mystring2.find('is ')"
   ]
  },
  {
   "cell_type": "code",
   "execution_count": 92,
   "id": "efficient-student",
   "metadata": {},
   "outputs": [
    {
     "data": {
      "text/plain": [
       "'9'"
      ]
     },
     "execution_count": 92,
     "metadata": {},
     "output_type": "execute_result"
    }
   ],
   "source": [
    "mystring2[6]"
   ]
  },
  {
   "cell_type": "code",
   "execution_count": 37,
   "id": "parliamentary-secretariat",
   "metadata": {},
   "outputs": [
    {
     "data": {
      "text/plain": [
       "'time to go to the sea'"
      ]
     },
     "execution_count": 37,
     "metadata": {},
     "output_type": "execute_result"
    }
   ],
   "source": [
    "mystring2[16:]"
   ]
  },
  {
   "cell_type": "markdown",
   "id": "boolean-modern",
   "metadata": {},
   "source": [
    ".split()\n",
    ".find()\n",
    ".rfind()\n",
    ".upper()\n",
    ".lower()\n",
    ".capitalize()\n",
    ".replace()"
   ]
  },
  {
   "cell_type": "code",
   "execution_count": 93,
   "id": "advance-genre",
   "metadata": {},
   "outputs": [],
   "source": [
    "string='apple'"
   ]
  },
  {
   "cell_type": "code",
   "execution_count": 94,
   "id": "greatest-distribution",
   "metadata": {},
   "outputs": [
    {
     "data": {
      "text/plain": [
       "3"
      ]
     },
     "execution_count": 94,
     "metadata": {},
     "output_type": "execute_result"
    }
   ],
   "source": [
    "string.find('l')"
   ]
  },
  {
   "cell_type": "code",
   "execution_count": 38,
   "id": "better-eligibility",
   "metadata": {},
   "outputs": [
    {
     "name": "stdout",
     "output_type": "stream",
     "text": [
      "Help on built-in function replace:\n",
      "\n",
      "replace(old, new, count=-1, /) method of builtins.str instance\n",
      "    Return a copy with all occurrences of substring old replaced by new.\n",
      "    \n",
      "      count\n",
      "        Maximum number of occurrences to replace.\n",
      "        -1 (the default value) means replace all occurrences.\n",
      "    \n",
      "    If the optional argument count is given, only the first count occurrences are\n",
      "    replaced.\n",
      "\n"
     ]
    }
   ],
   "source": [
    "help(mystring2.replace)"
   ]
  },
  {
   "cell_type": "code",
   "execution_count": 95,
   "id": "federal-newfoundland",
   "metadata": {},
   "outputs": [
    {
     "data": {
      "text/plain": [
       "'It is 9pm. Good time to go to the sea'"
      ]
     },
     "execution_count": 95,
     "metadata": {},
     "output_type": "execute_result"
    }
   ],
   "source": [
    "mystring2"
   ]
  },
  {
   "cell_type": "code",
   "execution_count": 96,
   "id": "arctic-familiar",
   "metadata": {},
   "outputs": [
    {
     "data": {
      "text/plain": [
       "'It is 9pm. Bad time to go to the sea'"
      ]
     },
     "execution_count": 96,
     "metadata": {},
     "output_type": "execute_result"
    }
   ],
   "source": [
    "mystring2.replace('Good','Bad')"
   ]
  },
  {
   "cell_type": "code",
   "execution_count": 41,
   "id": "apart-monthly",
   "metadata": {},
   "outputs": [
    {
     "data": {
      "text/plain": [
       "['It is 4pm', ' Good time to go to the sea']"
      ]
     },
     "execution_count": 41,
     "metadata": {},
     "output_type": "execute_result"
    }
   ],
   "source": [
    "mystring2.split('.')"
   ]
  },
  {
   "cell_type": "code",
   "execution_count": 97,
   "id": "identical-flour",
   "metadata": {},
   "outputs": [],
   "source": [
    "string='apple'"
   ]
  },
  {
   "cell_type": "code",
   "execution_count": 99,
   "id": "minor-craps",
   "metadata": {},
   "outputs": [
    {
     "data": {
      "text/plain": [
       "2"
      ]
     },
     "execution_count": 99,
     "metadata": {},
     "output_type": "execute_result"
    }
   ],
   "source": [
    "string.rfind('p')"
   ]
  },
  {
   "cell_type": "code",
   "execution_count": 102,
   "id": "elder-graphics",
   "metadata": {},
   "outputs": [
    {
     "data": {
      "text/plain": [
       "1"
      ]
     },
     "execution_count": 102,
     "metadata": {},
     "output_type": "execute_result"
    }
   ],
   "source": [
    "string.count('l')"
   ]
  },
  {
   "cell_type": "markdown",
   "id": "union-edinburgh",
   "metadata": {},
   "source": [
    "https://www.w3schools.com/python/python_ref_string.asp"
   ]
  },
  {
   "cell_type": "code",
   "execution_count": 42,
   "id": "cross-badge",
   "metadata": {},
   "outputs": [
    {
     "data": {
      "text/plain": [
       "5"
      ]
     },
     "execution_count": 42,
     "metadata": {},
     "output_type": "execute_result"
    }
   ],
   "source": [
    "mystring2.count('t')"
   ]
  },
  {
   "cell_type": "markdown",
   "id": "linear-graphic",
   "metadata": {},
   "source": [
    "## Logical for comparison\n",
    "* '=='\n",
    "* '!='\n",
    "* '>,=>'\n",
    "* '<, <='"
   ]
  },
  {
   "cell_type": "code",
   "execution_count": 105,
   "id": "demanding-optics",
   "metadata": {},
   "outputs": [
    {
     "data": {
      "text/plain": [
       "False"
      ]
     },
     "execution_count": 105,
     "metadata": {},
     "output_type": "execute_result"
    }
   ],
   "source": [
    "mystring_1 = 'hello'\n",
    "mystring_2 = 'Hello'\n",
    "mystring_1==mystring_2"
   ]
  },
  {
   "cell_type": "markdown",
   "id": "lesser-hindu",
   "metadata": {},
   "source": [
    "## Conditionals\n",
    "(note indentation) 2 or 4 spaces\n",
    "if... else"
   ]
  },
  {
   "cell_type": "code",
   "execution_count": 107,
   "id": "found-bennett",
   "metadata": {},
   "outputs": [
    {
     "name": "stdout",
     "output_type": "stream",
     "text": [
      "los strings son diferentes\n"
     ]
    }
   ],
   "source": [
    "str1='hello'\n",
    "str2='Hello'\n",
    "\n",
    "if (str1==str2):\n",
    "    print('los strings son iguales')\n",
    "else:\n",
    "    print('los strings son diferentes')"
   ]
  },
  {
   "cell_type": "code",
   "execution_count": 110,
   "id": "robust-substance",
   "metadata": {},
   "outputs": [],
   "source": [
    "mystring2='metodos computacionales'"
   ]
  },
  {
   "cell_type": "code",
   "execution_count": 111,
   "id": "exempt-message",
   "metadata": {},
   "outputs": [
    {
     "name": "stdout",
     "output_type": "stream",
     "text": [
      "long\n"
     ]
    }
   ],
   "source": [
    "if (len(mystring2))<10:\n",
    "    print('short')\n",
    "else:\n",
    "    print('long')        "
   ]
  },
  {
   "cell_type": "markdown",
   "id": "enormous-shoulder",
   "metadata": {},
   "source": [
    "## Loops\n",
    "(note indentation) 2 or 4 spaces\n",
    "\n",
    "$\\textbf{for ... in... :} $"
   ]
  },
  {
   "cell_type": "code",
   "execution_count": 116,
   "id": "naval-alliance",
   "metadata": {},
   "outputs": [],
   "source": [
    "mystring='python'"
   ]
  },
  {
   "cell_type": "code",
   "execution_count": 117,
   "id": "prepared-ultimate",
   "metadata": {},
   "outputs": [
    {
     "name": "stdout",
     "output_type": "stream",
     "text": [
      "P\n",
      "Y\n",
      "T\n",
      "H\n",
      "O\n",
      "N\n"
     ]
    }
   ],
   "source": [
    "for i in mystring:\n",
    "    print(i.upper())"
   ]
  },
  {
   "cell_type": "markdown",
   "id": "strategic-stockholm",
   "metadata": {},
   "source": [
    "## Functions\n",
    "$\\textbf{def}$\n",
    "\n",
    "$\\textbf{return}$"
   ]
  },
  {
   "cell_type": "code",
   "execution_count": 118,
   "id": "magnetic-arizona",
   "metadata": {},
   "outputs": [],
   "source": [
    "mystring2='python'"
   ]
  },
  {
   "cell_type": "code",
   "execution_count": 119,
   "id": "antique-craps",
   "metadata": {},
   "outputs": [],
   "source": [
    "def my_function(some_string):\n",
    "    my_variable=len(some_string)\n",
    "    return my_variable"
   ]
  },
  {
   "cell_type": "code",
   "execution_count": 122,
   "id": "fewer-lodging",
   "metadata": {},
   "outputs": [],
   "source": [
    "result = my_function('hello, its Michal here')"
   ]
  },
  {
   "cell_type": "code",
   "execution_count": 123,
   "id": "vocational-serve",
   "metadata": {},
   "outputs": [
    {
     "name": "stdout",
     "output_type": "stream",
     "text": [
      "22\n"
     ]
    }
   ],
   "source": [
    "print(result)"
   ]
  },
  {
   "cell_type": "markdown",
   "id": "possible-netscape",
   "metadata": {},
   "source": [
    "## Real life string example and data analysis"
   ]
  },
  {
   "cell_type": "code",
   "execution_count": 52,
   "id": "developing-young",
   "metadata": {},
   "outputs": [
    {
     "data": {
      "text/plain": [
       "686030"
      ]
     },
     "execution_count": 52,
     "metadata": {},
     "output_type": "execute_result"
    }
   ],
   "source": [
    "from urllib.request import urlopen\n",
    "response = urlopen('https://www.gutenberg.org/files/521/521-0.txt')\n",
    "book = str(response.read())\n",
    "len(book)"
   ]
  },
  {
   "cell_type": "code",
   "execution_count": 128,
   "id": "affecting-appliance",
   "metadata": {},
   "outputs": [],
   "source": [
    "mystring='Today is Monday. It is not my favorite day of the week'"
   ]
  },
  {
   "cell_type": "code",
   "execution_count": 135,
   "id": "satisfied-amount",
   "metadata": {},
   "outputs": [
    {
     "name": "stdout",
     "output_type": "stream",
     "text": [
      "Today is Monday. It is not my favorite day of the week\n"
     ]
    }
   ],
   "source": [
    "print(mystring)"
   ]
  },
  {
   "cell_type": "code",
   "execution_count": 139,
   "id": "korean-chancellor",
   "metadata": {},
   "outputs": [],
   "source": [
    "mi_lista=mystring.split('.')"
   ]
  },
  {
   "cell_type": "code",
   "execution_count": 142,
   "id": "german-prescription",
   "metadata": {},
   "outputs": [
    {
     "data": {
      "text/plain": [
       "' It is not my favorite day of the week'"
      ]
     },
     "execution_count": 142,
     "metadata": {},
     "output_type": "execute_result"
    }
   ],
   "source": [
    "mi_lista[1]"
   ]
  },
  {
   "cell_type": "code",
   "execution_count": null,
   "id": "urban-pantyhose",
   "metadata": {},
   "outputs": [],
   "source": []
  },
  {
   "cell_type": "code",
   "execution_count": 53,
   "id": "exposed-colombia",
   "metadata": {},
   "outputs": [
    {
     "name": "stdout",
     "output_type": "stream",
     "text": [
      "<class 'float'>\n",
      "3.14\n"
     ]
    }
   ],
   "source": [
    "# lets define a number pi\n",
    "my_pi=3.14\n",
    "print(type(my_pi))\n",
    "print(my_pi)"
   ]
  },
  {
   "cell_type": "code",
   "execution_count": 54,
   "id": "offensive-physics",
   "metadata": {},
   "outputs": [
    {
     "name": "stdout",
     "output_type": "stream",
     "text": [
      "3.141592653589793\n"
     ]
    }
   ],
   "source": [
    "# import the module under its own namespace\n",
    "import numpy\n",
    "print(numpy.pi)"
   ]
  },
  {
   "cell_type": "code",
   "execution_count": 55,
   "id": "stainless-secretary",
   "metadata": {},
   "outputs": [
    {
     "name": "stdout",
     "output_type": "stream",
     "text": [
      "3.141592653589793\n"
     ]
    }
   ],
   "source": [
    "# explicitly import a few objects only\n",
    "from numpy import pi\n",
    "print(pi)"
   ]
  },
  {
   "cell_type": "code",
   "execution_count": 56,
   "id": "civilian-tablet",
   "metadata": {},
   "outputs": [
    {
     "data": {
      "text/plain": [
       "3.141592653589793"
      ]
     },
     "execution_count": 56,
     "metadata": {},
     "output_type": "execute_result"
    }
   ],
   "source": [
    "# importing into an alias\n",
    "import numpy as np\n",
    "np.pi"
   ]
  },
  {
   "cell_type": "code",
   "execution_count": 57,
   "id": "incorporated-positive",
   "metadata": {},
   "outputs": [
    {
     "name": "stdout",
     "output_type": "stream",
     "text": [
      "<class 'float'>\n"
     ]
    }
   ],
   "source": [
    "x=5.0\n",
    "print(type(x))"
   ]
  },
  {
   "cell_type": "code",
   "execution_count": 58,
   "id": "organized-comedy",
   "metadata": {},
   "outputs": [
    {
     "name": "stdout",
     "output_type": "stream",
     "text": [
      "['__abs__', '__add__', '__and__', '__bool__', '__ceil__', '__class__', '__delattr__', '__dir__', '__divmod__', '__doc__', '__eq__', '__float__', '__floor__', '__floordiv__', '__format__', '__ge__', '__getattribute__', '__getnewargs__', '__gt__', '__hash__', '__index__', '__init__', '__init_subclass__', '__int__', '__invert__', '__le__', '__lshift__', '__lt__', '__mod__', '__mul__', '__ne__', '__neg__', '__new__', '__or__', '__pos__', '__pow__', '__radd__', '__rand__', '__rdivmod__', '__reduce__', '__reduce_ex__', '__repr__', '__rfloordiv__', '__rlshift__', '__rmod__', '__rmul__', '__ror__', '__round__', '__rpow__', '__rrshift__', '__rshift__', '__rsub__', '__rtruediv__', '__rxor__', '__setattr__', '__sizeof__', '__str__', '__sub__', '__subclasshook__', '__truediv__', '__trunc__', '__xor__', 'bit_length', 'conjugate', 'denominator', 'from_bytes', 'imag', 'numerator', 'real', 'to_bytes']\n"
     ]
    }
   ],
   "source": [
    "y=int(x)\n",
    "print(dir(y))"
   ]
  },
  {
   "cell_type": "code",
   "execution_count": 59,
   "id": "cooperative-andrews",
   "metadata": {},
   "outputs": [
    {
     "name": "stdout",
     "output_type": "stream",
     "text": [
      "0\n",
      "1\n",
      "2\n",
      "3\n",
      "4\n",
      "5\n",
      "6\n",
      "7\n",
      "8\n",
      "9\n"
     ]
    }
   ],
   "source": [
    "for i in range(10):\n",
    "    print(i)"
   ]
  },
  {
   "cell_type": "code",
   "execution_count": 60,
   "id": "inappropriate-fence",
   "metadata": {},
   "outputs": [],
   "source": [
    "mystring='12345'"
   ]
  },
  {
   "cell_type": "code",
   "execution_count": 61,
   "id": "logical-papua",
   "metadata": {},
   "outputs": [
    {
     "name": "stdout",
     "output_type": "stream",
     "text": [
      "24690\n"
     ]
    }
   ],
   "source": [
    "print(int(mystring)*2)"
   ]
  },
  {
   "cell_type": "code",
   "execution_count": 65,
   "id": "fundamental-converter",
   "metadata": {},
   "outputs": [
    {
     "data": {
      "text/plain": [
       "'abcabcabc'"
      ]
     },
     "execution_count": 65,
     "metadata": {},
     "output_type": "execute_result"
    }
   ],
   "source": [
    "'abc'*3"
   ]
  },
  {
   "cell_type": "code",
   "execution_count": null,
   "id": "surgical-homeless",
   "metadata": {},
   "outputs": [],
   "source": []
  }
 ],
 "metadata": {
  "kernelspec": {
   "display_name": "Python 3",
   "language": "python",
   "name": "python3"
  },
  "language_info": {
   "codemirror_mode": {
    "name": "ipython",
    "version": 3
   },
   "file_extension": ".py",
   "mimetype": "text/x-python",
   "name": "python",
   "nbconvert_exporter": "python",
   "pygments_lexer": "ipython3",
   "version": "3.7.2"
  }
 },
 "nbformat": 4,
 "nbformat_minor": 5
}
