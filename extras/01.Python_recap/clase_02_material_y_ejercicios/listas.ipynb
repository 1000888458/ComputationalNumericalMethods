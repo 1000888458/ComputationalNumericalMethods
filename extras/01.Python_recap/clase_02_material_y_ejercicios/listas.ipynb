{
 "cells": [
  {
   "cell_type": "markdown",
   "id": "framed-emphasis",
   "metadata": {},
   "source": [
    "# Listas"
   ]
  },
  {
   "cell_type": "markdown",
   "id": "clear-tunnel",
   "metadata": {},
   "source": [
    "## Lists of strings\n",
    "all this below is for reference"
   ]
  },
  {
   "cell_type": "code",
   "execution_count": 4,
   "id": "blond-oasis",
   "metadata": {},
   "outputs": [],
   "source": [
    "str_1='apple'\n",
    "str_2='banana'\n",
    "str_3='mango'"
   ]
  },
  {
   "cell_type": "code",
   "execution_count": 1,
   "id": "functioning-venice",
   "metadata": {},
   "outputs": [],
   "source": [
    "str0='apple banana mango'"
   ]
  },
  {
   "cell_type": "markdown",
   "id": "inclusive-international",
   "metadata": {},
   "source": [
    "'for lists we use square brackets: []' (corchetes)"
   ]
  },
  {
   "cell_type": "code",
   "execution_count": 3,
   "id": "british-shield",
   "metadata": {},
   "outputs": [
    {
     "name": "stdout",
     "output_type": "stream",
     "text": [
      "['apple', 'banana', 'mango']\n",
      "<class 'list'>\n"
     ]
    }
   ],
   "source": [
    "fruits=['apple','banana','mango']\n",
    "print(fruits)\n",
    "print(type(fruits))"
   ]
  },
  {
   "cell_type": "code",
   "execution_count": 5,
   "id": "willing-swing",
   "metadata": {},
   "outputs": [
    {
     "name": "stdout",
     "output_type": "stream",
     "text": [
      "['apple', 'banana', 'mango']\n"
     ]
    }
   ],
   "source": [
    "fruits=[str_1, str_2, str_3]\n",
    "print(fruits)"
   ]
  },
  {
   "cell_type": "code",
   "execution_count": 13,
   "id": "weighted-exchange",
   "metadata": {},
   "outputs": [
    {
     "name": "stdout",
     "output_type": "stream",
     "text": [
      "['apple', 'banana']\n"
     ]
    }
   ],
   "source": [
    "print(fruits[0:2])"
   ]
  },
  {
   "cell_type": "code",
   "execution_count": 14,
   "id": "happy-example",
   "metadata": {},
   "outputs": [
    {
     "name": "stdout",
     "output_type": "stream",
     "text": [
      "3\n"
     ]
    }
   ],
   "source": [
    "print(len(fruits))"
   ]
  },
  {
   "cell_type": "code",
   "execution_count": 15,
   "id": "automated-gospel",
   "metadata": {},
   "outputs": [
    {
     "name": "stdout",
     "output_type": "stream",
     "text": [
      "5\n"
     ]
    }
   ],
   "source": [
    "print(len(fruits[0]))"
   ]
  },
  {
   "cell_type": "markdown",
   "id": "certified-guyana",
   "metadata": {},
   "source": [
    "## \"in\", boolean (True/False good for conditional statements) (in strings, in lists)"
   ]
  },
  {
   "cell_type": "code",
   "execution_count": 19,
   "id": "arbitrary-questionnaire",
   "metadata": {},
   "outputs": [
    {
     "data": {
      "text/plain": [
       "True"
      ]
     },
     "execution_count": 19,
     "metadata": {},
     "output_type": "execute_result"
    }
   ],
   "source": [
    "'appl' in 'apple'"
   ]
  },
  {
   "cell_type": "code",
   "execution_count": 23,
   "id": "dependent-favor",
   "metadata": {},
   "outputs": [
    {
     "data": {
      "text/plain": [
       "True"
      ]
     },
     "execution_count": 23,
     "metadata": {},
     "output_type": "execute_result"
    }
   ],
   "source": [
    "'apple' in fruits"
   ]
  },
  {
   "cell_type": "markdown",
   "id": "acting-transformation",
   "metadata": {},
   "source": [
    "<table><tr>\n",
    "<td> <img src=\"imgs/list_slicing.png\" width=\"400\" /> </td>\n",
    "</tr></table>"
   ]
  },
  {
   "cell_type": "code",
   "execution_count": 92,
   "id": "expensive-thirty",
   "metadata": {},
   "outputs": [
    {
     "name": "stdout",
     "output_type": "stream",
     "text": [
      "['pear', 'banana', 'mango']\n"
     ]
    },
    {
     "data": {
      "text/plain": [
       "'mango'"
      ]
     },
     "execution_count": 92,
     "metadata": {},
     "output_type": "execute_result"
    }
   ],
   "source": [
    "print(fruits)\n",
    "fruits[2]"
   ]
  },
  {
   "cell_type": "code",
   "execution_count": 8,
   "id": "vocational-governor",
   "metadata": {},
   "outputs": [
    {
     "data": {
      "text/plain": [
       "['apple', 'banana']"
      ]
     },
     "execution_count": 8,
     "metadata": {},
     "output_type": "execute_result"
    }
   ],
   "source": [
    "fruits[0:2]"
   ]
  },
  {
   "cell_type": "markdown",
   "id": "completed-lying",
   "metadata": {},
   "source": [
    "### lists are mutable!"
   ]
  },
  {
   "cell_type": "code",
   "execution_count": 84,
   "id": "raised-description",
   "metadata": {},
   "outputs": [
    {
     "name": "stdout",
     "output_type": "stream",
     "text": [
      "['apple', 'banana', 'mango']\n"
     ]
    }
   ],
   "source": [
    "print(fruits)"
   ]
  },
  {
   "cell_type": "code",
   "execution_count": 24,
   "id": "stock-finance",
   "metadata": {},
   "outputs": [
    {
     "name": "stdout",
     "output_type": "stream",
     "text": [
      "['apple', 'banana', 'mango']\n"
     ]
    }
   ],
   "source": [
    "print(fruits)"
   ]
  },
  {
   "cell_type": "code",
   "execution_count": 25,
   "id": "measured-crash",
   "metadata": {},
   "outputs": [],
   "source": [
    "fruits[0]='pear'\n"
   ]
  },
  {
   "cell_type": "code",
   "execution_count": 33,
   "id": "activated-bryan",
   "metadata": {},
   "outputs": [
    {
     "data": {
      "text/plain": [
       "'r'"
      ]
     },
     "execution_count": 33,
     "metadata": {},
     "output_type": "execute_result"
    }
   ],
   "source": [
    "fruits[0][3]"
   ]
  },
  {
   "cell_type": "code",
   "execution_count": 26,
   "id": "wrong-region",
   "metadata": {},
   "outputs": [
    {
     "name": "stdout",
     "output_type": "stream",
     "text": [
      "['pear', 'banana', 'mango']\n"
     ]
    }
   ],
   "source": [
    "print(fruits)"
   ]
  },
  {
   "cell_type": "code",
   "execution_count": 94,
   "id": "waiting-myanmar",
   "metadata": {},
   "outputs": [
    {
     "name": "stdout",
     "output_type": "stream",
     "text": [
      "p\n"
     ]
    }
   ],
   "source": [
    "print(fruits[0][0])"
   ]
  },
  {
   "cell_type": "code",
   "execution_count": 96,
   "id": "atmospheric-trade",
   "metadata": {},
   "outputs": [],
   "source": [
    "#fruits[0][0]='P'"
   ]
  },
  {
   "cell_type": "code",
   "execution_count": 99,
   "id": "descending-egyptian",
   "metadata": {},
   "outputs": [
    {
     "name": "stdout",
     "output_type": "stream",
     "text": [
      "['pear', 'banana', 'mango']\n"
     ]
    }
   ],
   "source": [
    "print(fruits)"
   ]
  },
  {
   "cell_type": "code",
   "execution_count": 35,
   "id": "narrative-essex",
   "metadata": {},
   "outputs": [
    {
     "name": "stdout",
     "output_type": "stream",
     "text": [
      "['__add__', '__class__', '__contains__', '__delattr__', '__delitem__', '__dir__', '__doc__', '__eq__', '__format__', '__ge__', '__getattribute__', '__getitem__', '__gt__', '__hash__', '__iadd__', '__imul__', '__init__', '__init_subclass__', '__iter__', '__le__', '__len__', '__lt__', '__mul__', '__ne__', '__new__', '__reduce__', '__reduce_ex__', '__repr__', '__reversed__', '__rmul__', '__setattr__', '__setitem__', '__sizeof__', '__str__', '__subclasshook__', 'append', 'clear', 'copy', 'count', 'extend', 'index', 'insert', 'pop', 'remove', 'reverse', 'sort']\n"
     ]
    }
   ],
   "source": [
    "print(dir(fruits))"
   ]
  },
  {
   "cell_type": "code",
   "execution_count": 42,
   "id": "bound-patch",
   "metadata": {},
   "outputs": [
    {
     "name": "stdout",
     "output_type": "stream",
     "text": [
      "['pear', 'banana', 'mango']\n",
      "3\n"
     ]
    }
   ],
   "source": [
    "print(fruits)\n",
    "print(fruits[1].count('a'))"
   ]
  },
  {
   "cell_type": "code",
   "execution_count": 44,
   "id": "aerial-hayes",
   "metadata": {},
   "outputs": [
    {
     "name": "stdout",
     "output_type": "stream",
     "text": [
      "['mango', 'banana', 'pear']\n",
      "['pear', 'banana', 'mango']\n"
     ]
    }
   ],
   "source": [
    "print(fruits)\n",
    "fruits.reverse() # hace operacion sobre misma lista\n",
    "print(fruits)"
   ]
  },
  {
   "cell_type": "code",
   "execution_count": null,
   "id": "weighted-ecuador",
   "metadata": {},
   "outputs": [],
   "source": [
    "print(fr)"
   ]
  },
  {
   "cell_type": "code",
   "execution_count": null,
   "id": "working-johnston",
   "metadata": {},
   "outputs": [],
   "source": [
    ".append()"
   ]
  },
  {
   "cell_type": "code",
   "execution_count": 61,
   "id": "sporting-reply",
   "metadata": {},
   "outputs": [
    {
     "name": "stdout",
     "output_type": "stream",
     "text": [
      "[]\n"
     ]
    }
   ],
   "source": [
    "national_vegetables=[]\n",
    "print(national_vegetables)\n"
   ]
  },
  {
   "cell_type": "code",
   "execution_count": 62,
   "id": "corresponding-equilibrium",
   "metadata": {},
   "outputs": [],
   "source": [
    "national_vegetables.append('onion')\n",
    "national_vegetables.append('carrot')\n",
    "national_vegetables.append('potatoe')"
   ]
  },
  {
   "cell_type": "code",
   "execution_count": 63,
   "id": "generous-collection",
   "metadata": {},
   "outputs": [
    {
     "name": "stdout",
     "output_type": "stream",
     "text": [
      "['onion', 'carrot', 'potatoe']\n"
     ]
    }
   ],
   "source": [
    "print(national_vegetables)"
   ]
  },
  {
   "cell_type": "markdown",
   "id": "heated-classification",
   "metadata": {},
   "source": [
    "## concatenation"
   ]
  },
  {
   "cell_type": "code",
   "execution_count": 70,
   "id": "continuing-pound",
   "metadata": {},
   "outputs": [],
   "source": [
    "imported_vegetables = ['asparagus']"
   ]
  },
  {
   "cell_type": "code",
   "execution_count": 71,
   "id": "regional-athletics",
   "metadata": {},
   "outputs": [
    {
     "name": "stdout",
     "output_type": "stream",
     "text": [
      "['onion', 'carrot', 'potatoe', 'asparagus']\n"
     ]
    }
   ],
   "source": [
    "vegetables = national_vegetables + imported_vegetables\n",
    "print(vegetables)"
   ]
  },
  {
   "cell_type": "code",
   "execution_count": 72,
   "id": "appropriate-notification",
   "metadata": {},
   "outputs": [
    {
     "data": {
      "text/plain": [
       "['asparagus', 'asparagus', 'asparagus', 'asparagus', 'asparagus']"
      ]
     },
     "execution_count": 72,
     "metadata": {},
     "output_type": "execute_result"
    }
   ],
   "source": [
    "imported_vegetables*5"
   ]
  },
  {
   "cell_type": "markdown",
   "id": "lucky-module",
   "metadata": {},
   "source": [
    "## \"nested\" lists"
   ]
  },
  {
   "cell_type": "code",
   "execution_count": 73,
   "id": "further-panama",
   "metadata": {},
   "outputs": [
    {
     "name": "stdout",
     "output_type": "stream",
     "text": [
      "['pear', 'banana', 'mango']\n"
     ]
    }
   ],
   "source": [
    "print(fruits)"
   ]
  },
  {
   "cell_type": "code",
   "execution_count": 74,
   "id": "higher-virtue",
   "metadata": {},
   "outputs": [
    {
     "name": "stdout",
     "output_type": "stream",
     "text": [
      "['onion', 'carrot', 'potatoe', 'asparagus']\n"
     ]
    }
   ],
   "source": [
    "print(vegetables)"
   ]
  },
  {
   "cell_type": "code",
   "execution_count": 75,
   "id": "dress-antarctica",
   "metadata": {},
   "outputs": [],
   "source": [
    "food=[fruits,vegetables]"
   ]
  },
  {
   "cell_type": "code",
   "execution_count": 76,
   "id": "opposite-objective",
   "metadata": {},
   "outputs": [
    {
     "name": "stdout",
     "output_type": "stream",
     "text": [
      "[['pear', 'banana', 'mango'], ['onion', 'carrot', 'potatoe', 'asparagus']]\n"
     ]
    }
   ],
   "source": [
    "print(food)"
   ]
  },
  {
   "cell_type": "code",
   "execution_count": 80,
   "id": "alpha-accused",
   "metadata": {},
   "outputs": [
    {
     "name": "stdout",
     "output_type": "stream",
     "text": [
      "4\n"
     ]
    }
   ],
   "source": [
    "print(len(food[1]))"
   ]
  },
  {
   "cell_type": "code",
   "execution_count": 84,
   "id": "isolated-phoenix",
   "metadata": {},
   "outputs": [
    {
     "name": "stdout",
     "output_type": "stream",
     "text": [
      "p\n"
     ]
    }
   ],
   "source": [
    "print(food[0][0][0])"
   ]
  },
  {
   "cell_type": "code",
   "execution_count": 134,
   "id": "differential-cause",
   "metadata": {},
   "outputs": [
    {
     "name": "stdout",
     "output_type": "stream",
     "text": [
      "7\n"
     ]
    }
   ],
   "source": [
    "print(len(food[1][2]))"
   ]
  },
  {
   "cell_type": "code",
   "execution_count": 86,
   "id": "dried-voltage",
   "metadata": {},
   "outputs": [
    {
     "data": {
      "text/plain": [
       "1"
      ]
     },
     "execution_count": 86,
     "metadata": {},
     "output_type": "execute_result"
    }
   ],
   "source": [
    "food[0].count('pear')"
   ]
  },
  {
   "cell_type": "code",
   "execution_count": 136,
   "id": "ethical-dealing",
   "metadata": {},
   "outputs": [
    {
     "data": {
      "text/plain": [
       "1"
      ]
     },
     "execution_count": 136,
     "metadata": {},
     "output_type": "execute_result"
    }
   ],
   "source": [
    "food[0].count('pear')"
   ]
  },
  {
   "cell_type": "markdown",
   "id": "outside-tactics",
   "metadata": {},
   "source": [
    "## Loops"
   ]
  },
  {
   "cell_type": "code",
   "execution_count": 91,
   "id": "stable-greek",
   "metadata": {},
   "outputs": [
    {
     "name": "stdout",
     "output_type": "stream",
     "text": [
      "[['pear', 'banana', 'mango'], ['onion', 'carrot', 'potatoe', 'asparagus']]\n"
     ]
    }
   ],
   "source": [
    "print(food)"
   ]
  },
  {
   "cell_type": "code",
   "execution_count": 94,
   "id": "cubic-anime",
   "metadata": {},
   "outputs": [
    {
     "name": "stdout",
     "output_type": "stream",
     "text": [
      "pear\n",
      "onion\n"
     ]
    }
   ],
   "source": [
    "for item in food:\n",
    "    print(item[0])"
   ]
  },
  {
   "cell_type": "code",
   "execution_count": 98,
   "id": "mechanical-gabriel",
   "metadata": {},
   "outputs": [
    {
     "name": "stdout",
     "output_type": "stream",
     "text": [
      "None\n"
     ]
    }
   ],
   "source": [
    "print(fruits.append('mango'))"
   ]
  },
  {
   "cell_type": "code",
   "execution_count": 99,
   "id": "leading-spray",
   "metadata": {},
   "outputs": [
    {
     "data": {
      "text/plain": [
       "['pear', 'banana', 'mango', 'mango']"
      ]
     },
     "execution_count": 99,
     "metadata": {},
     "output_type": "execute_result"
    }
   ],
   "source": [
    "fruits"
   ]
  },
  {
   "cell_type": "markdown",
   "id": "corporate-robert",
   "metadata": {},
   "source": [
    "<table><tr>\n",
    "<td> <img src=\"imgs/list_looping.png\" width=\"400\" /> </td>\n",
    "</tr></table>"
   ]
  },
  {
   "cell_type": "code",
   "execution_count": 143,
   "id": "imperial-momentum",
   "metadata": {},
   "outputs": [
    {
     "name": "stdout",
     "output_type": "stream",
     "text": [
      "[['mango', 'banana', 'pear'], ['onion', 'carrot', 'potatoe', 'asparagus']]\n"
     ]
    }
   ],
   "source": [
    "print(food)"
   ]
  },
  {
   "cell_type": "code",
   "execution_count": 149,
   "id": "coated-cooper",
   "metadata": {},
   "outputs": [
    {
     "name": "stdout",
     "output_type": "stream",
     "text": [
      "pear\n",
      "potatoe\n"
     ]
    }
   ],
   "source": [
    "# loops are slow but its good to use them for testing\n",
    "# dont be ashamed to use them, you can optimize later\n",
    "for item in food:\n",
    "    print(item[2])"
   ]
  },
  {
   "cell_type": "markdown",
   "id": "loaded-spyware",
   "metadata": {},
   "source": [
    "## Enumerate"
   ]
  },
  {
   "cell_type": "code",
   "execution_count": 109,
   "id": "thermal-stable",
   "metadata": {},
   "outputs": [
    {
     "data": {
      "text/plain": [
       "['pear']"
      ]
     },
     "execution_count": 109,
     "metadata": {},
     "output_type": "execute_result"
    }
   ],
   "source": [
    "fruits"
   ]
  },
  {
   "cell_type": "code",
   "execution_count": 110,
   "id": "approximate-dialogue",
   "metadata": {},
   "outputs": [
    {
     "name": "stdout",
     "output_type": "stream",
     "text": [
      "1\n"
     ]
    }
   ],
   "source": [
    "# enumerate\n",
    "for item in fruits:\n",
    "    print(fruits.count(item))"
   ]
  },
  {
   "cell_type": "code",
   "execution_count": 114,
   "id": "affiliated-reminder",
   "metadata": {},
   "outputs": [
    {
     "name": "stdout",
     "output_type": "stream",
     "text": [
      "['apple', 'banana', 'mango']\n"
     ]
    }
   ],
   "source": [
    "fruits=['apple','banana','mango','mango']\n",
    "fruits.pop(-1)\n",
    "print(fruits)"
   ]
  },
  {
   "cell_type": "code",
   "execution_count": 151,
   "id": "stunning-extraction",
   "metadata": {},
   "outputs": [
    {
     "name": "stdout",
     "output_type": "stream",
     "text": [
      "[['mango', 'banana', 'pear'], ['onion', 'carrot', 'potatoe', 'asparagus']]\n"
     ]
    },
    {
     "data": {
      "text/plain": [
       "2"
      ]
     },
     "execution_count": 151,
     "metadata": {},
     "output_type": "execute_result"
    }
   ],
   "source": [
    "print(food)\n",
    "len(food)"
   ]
  },
  {
   "cell_type": "code",
   "execution_count": 153,
   "id": "bound-report",
   "metadata": {},
   "outputs": [
    {
     "data": {
      "text/plain": [
       "3"
      ]
     },
     "execution_count": 153,
     "metadata": {},
     "output_type": "execute_result"
    }
   ],
   "source": [
    "len(fruits)"
   ]
  },
  {
   "cell_type": "code",
   "execution_count": 34,
   "id": "green-chrome",
   "metadata": {},
   "outputs": [
    {
     "name": "stdout",
     "output_type": "stream",
     "text": [
      "0\n",
      "1\n",
      "2\n"
     ]
    }
   ],
   "source": [
    "# if we want to use numbers\n",
    "for i in range(len(fruits)):\n",
    "        print(i)"
   ]
  },
  {
   "cell_type": "code",
   "execution_count": null,
   "id": "expanded-arcade",
   "metadata": {},
   "outputs": [],
   "source": []
  },
  {
   "cell_type": "code",
   "execution_count": 35,
   "id": "middle-cologne",
   "metadata": {},
   "outputs": [],
   "source": [
    "# searching list inside a list"
   ]
  },
  {
   "cell_type": "code",
   "execution_count": 36,
   "id": "personal-mongolia",
   "metadata": {},
   "outputs": [
    {
     "data": {
      "text/plain": [
       "1"
      ]
     },
     "execution_count": 36,
     "metadata": {},
     "output_type": "execute_result"
    }
   ],
   "source": [
    "salad=['mango','lemon','sugar','water']\n",
    "fruits.count('mango')"
   ]
  },
  {
   "cell_type": "code",
   "execution_count": 37,
   "id": "piano-syndication",
   "metadata": {},
   "outputs": [
    {
     "name": "stdout",
     "output_type": "stream",
     "text": [
      "mango 1\n",
      "lemon 0\n",
      "sugar 0\n",
      "water 0\n"
     ]
    }
   ],
   "source": [
    "for item in salad:\n",
    "    print(item,fruits.count(item))"
   ]
  },
  {
   "cell_type": "markdown",
   "id": "aerial-viking",
   "metadata": {},
   "source": [
    "## while loop"
   ]
  },
  {
   "cell_type": "code",
   "execution_count": 155,
   "id": "involved-intention",
   "metadata": {},
   "outputs": [
    {
     "name": "stdout",
     "output_type": "stream",
     "text": [
      "['mango', 'banana', 'pear']\n"
     ]
    }
   ],
   "source": [
    "print(fruits)"
   ]
  },
  {
   "cell_type": "code",
   "execution_count": 115,
   "id": "imported-michigan",
   "metadata": {},
   "outputs": [
    {
     "data": {
      "text/plain": [
       "['apple', 'banana', 'mango']"
      ]
     },
     "execution_count": 115,
     "metadata": {},
     "output_type": "execute_result"
    }
   ],
   "source": [
    "fruits"
   ]
  },
  {
   "cell_type": "code",
   "execution_count": 116,
   "id": "australian-movement",
   "metadata": {},
   "outputs": [
    {
     "name": "stdout",
     "output_type": "stream",
     "text": [
      "apple\n",
      "banana\n",
      "mango\n"
     ]
    }
   ],
   "source": [
    "counter=0\n",
    "while counter < len(fruits):\n",
    "    print(fruits[counter])\n",
    "    counter=counter+1"
   ]
  },
  {
   "cell_type": "markdown",
   "id": "norman-halloween",
   "metadata": {},
   "source": [
    "### bla bla bla.. how can this become less trivial"
   ]
  },
  {
   "cell_type": "code",
   "execution_count": 157,
   "id": "norwegian-stomach",
   "metadata": {},
   "outputs": [],
   "source": [
    "mystring2='today is a very nice but cold day'"
   ]
  },
  {
   "cell_type": "code",
   "execution_count": 158,
   "id": "specified-implement",
   "metadata": {},
   "outputs": [
    {
     "name": "stdout",
     "output_type": "stream",
     "text": [
      "today is a very nice but cold day\n"
     ]
    }
   ],
   "source": [
    "print(mystring2)"
   ]
  },
  {
   "cell_type": "code",
   "execution_count": 159,
   "id": "inside-london",
   "metadata": {},
   "outputs": [
    {
     "name": "stdout",
     "output_type": "stream",
     "text": [
      "<class 'str'>\n"
     ]
    }
   ],
   "source": [
    "print(type(mystring2))"
   ]
  },
  {
   "cell_type": "code",
   "execution_count": 163,
   "id": "talented-providence",
   "metadata": {},
   "outputs": [
    {
     "name": "stdout",
     "output_type": "stream",
     "text": [
      "['today', 'is', 'a', 'very', 'nice', 'but', 'cold', 'day']\n"
     ]
    }
   ],
   "source": [
    "list_de_este_mystring = mystring2.split(' ')\n",
    "print(list_de_este_mystring)"
   ]
  },
  {
   "cell_type": "code",
   "execution_count": 164,
   "id": "geological-justice",
   "metadata": {},
   "outputs": [
    {
     "name": "stdout",
     "output_type": "stream",
     "text": [
      "<class 'list'>\n"
     ]
    }
   ],
   "source": [
    "print(type(list_de_este_mystring))"
   ]
  },
  {
   "cell_type": "markdown",
   "id": "comparative-german",
   "metadata": {},
   "source": [
    "## example 2"
   ]
  },
  {
   "cell_type": "code",
   "execution_count": 118,
   "id": "revolutionary-promise",
   "metadata": {},
   "outputs": [],
   "source": [
    "my_diet='First day I had an apple and a banana, and the second day I had an apple, banana had a chocolate. Third day I had an apple, banana, chocolate. Forth day I had chocolate and arepa. Fifth day I had just chocolate. Sixth day I had chocolate and beer. Seventh day I had just a beer'"
   ]
  },
  {
   "cell_type": "code",
   "execution_count": 119,
   "id": "documentary-thickness",
   "metadata": {},
   "outputs": [
    {
     "data": {
      "text/plain": [
       "3"
      ]
     },
     "execution_count": 119,
     "metadata": {},
     "output_type": "execute_result"
    }
   ],
   "source": [
    "my_diet.count('apple')"
   ]
  },
  {
   "cell_type": "code",
   "execution_count": 120,
   "id": "spoken-riding",
   "metadata": {},
   "outputs": [],
   "source": [
    "diet_list_by_days=my_diet.split('day')"
   ]
  },
  {
   "cell_type": "code",
   "execution_count": 122,
   "id": "verified-northwest",
   "metadata": {},
   "outputs": [
    {
     "data": {
      "text/plain": [
       "['First ',\n",
       " ' I had an apple and a banana, and the second ',\n",
       " ' I had an apple, banana had a chocolate. Third ',\n",
       " ' I had an apple, banana, chocolate. Forth ',\n",
       " ' I had chocolate and arepa. Fifth ',\n",
       " ' I had just chocolate. Sixth ',\n",
       " ' I had chocolate and beer. Seventh ',\n",
       " ' I had just a beer']"
      ]
     },
     "execution_count": 122,
     "metadata": {},
     "output_type": "execute_result"
    }
   ],
   "source": [
    "my_diet.split('day')"
   ]
  },
  {
   "cell_type": "code",
   "execution_count": 167,
   "id": "instrumental-mileage",
   "metadata": {},
   "outputs": [
    {
     "data": {
      "text/plain": [
       "['First ',\n",
       " ' I had an apple and a banana, and the second ',\n",
       " ' I had an apple, banana had a chocolate. Third ',\n",
       " ' I had an apple, banana, chocolate. Forth ',\n",
       " ' I had chocolate and arepa. Fifth ',\n",
       " ' I had just chocolate. Sixth ',\n",
       " ' I had chocolate and beer. Seventh ',\n",
       " ' I had just a beer']"
      ]
     },
     "execution_count": 167,
     "metadata": {},
     "output_type": "execute_result"
    }
   ],
   "source": [
    "my_diet.split('day')"
   ]
  },
  {
   "cell_type": "code",
   "execution_count": 168,
   "id": "manual-canberra",
   "metadata": {},
   "outputs": [
    {
     "data": {
      "text/plain": [
       "1"
      ]
     },
     "execution_count": 168,
     "metadata": {},
     "output_type": "execute_result"
    }
   ],
   "source": [
    "diet_list_by_days[2].count('apple')"
   ]
  },
  {
   "cell_type": "code",
   "execution_count": 169,
   "id": "incoming-bulletin",
   "metadata": {},
   "outputs": [
    {
     "name": "stdout",
     "output_type": "stream",
     "text": [
      "['First ', ' I had an apple and a banana, and the second ', ' I had an apple, banana had a chocolate. Third ', ' I had an apple, banana, chocolate. Forth ', ' I had chocolate and arepa. Fifth ', ' I had just chocolate. Sixth ', ' I had chocolate and beer. Seventh ', ' I had just a beer']\n"
     ]
    }
   ],
   "source": [
    "print(diet_list_by_days)"
   ]
  },
  {
   "cell_type": "code",
   "execution_count": 43,
   "id": "seeing-jurisdiction",
   "metadata": {},
   "outputs": [
    {
     "name": "stdout",
     "output_type": "stream",
     "text": [
      "First \n",
      " I had an apple and a banana, and the second \n",
      " I had an apple, banana had a chocolate. Third \n",
      " I had an apple, banana, chocolate. Forth \n",
      " I had chocolate and arepa. Fifth \n",
      " I had just chocolate. Sixth \n",
      " I had chocolate and beer. Seventh \n",
      " I had just a beer\n"
     ]
    }
   ],
   "source": [
    "for list_item in diet_list_by_days:    \n",
    "    print(list_item)"
   ]
  },
  {
   "cell_type": "code",
   "execution_count": 126,
   "id": "finnish-packet",
   "metadata": {},
   "outputs": [
    {
     "name": "stdout",
     "output_type": "stream",
     "text": [
      "0\n",
      "0\n",
      "0\n",
      "0\n",
      "0\n",
      "1\n",
      "1\n"
     ]
    }
   ],
   "source": [
    "for list_item in diet_list_by_days[1:]:\n",
    "    print(list_item.count('beer'))"
   ]
  },
  {
   "cell_type": "code",
   "execution_count": 44,
   "id": "interested-scanning",
   "metadata": {},
   "outputs": [
    {
     "name": "stdout",
     "output_type": "stream",
     "text": [
      "0\n",
      "1\n",
      "1\n",
      "1\n",
      "0\n",
      "0\n",
      "0\n",
      "0\n"
     ]
    }
   ],
   "source": [
    "for list_item in diet_list_by_days:    \n",
    "    print(list_item.count('apple'))"
   ]
  },
  {
   "cell_type": "code",
   "execution_count": 124,
   "id": "short-picking",
   "metadata": {},
   "outputs": [
    {
     "name": "stdout",
     "output_type": "stream",
     "text": [
      "1\n",
      "1\n",
      "1\n",
      "0\n",
      "0\n",
      "0\n",
      "0\n"
     ]
    }
   ],
   "source": [
    "for list_item in diet_list_by_days[1:]:    \n",
    "    print(list_item.count('apple'))"
   ]
  },
  {
   "cell_type": "code",
   "execution_count": 127,
   "id": "alike-baking",
   "metadata": {},
   "outputs": [
    {
     "data": {
      "text/plain": [
       "[' I had an apple and a banana, and the second ',\n",
       " ' I had an apple, banana had a chocolate. Third ',\n",
       " ' I had an apple, banana, chocolate. Forth ',\n",
       " ' I had chocolate and arepa. Fifth ',\n",
       " ' I had just chocolate. Sixth ',\n",
       " ' I had chocolate and beer. Seventh ',\n",
       " ' I had just a beer']"
      ]
     },
     "execution_count": 127,
     "metadata": {},
     "output_type": "execute_result"
    }
   ],
   "source": [
    "diet_list_by_days[1:]"
   ]
  },
  {
   "cell_type": "code",
   "execution_count": 128,
   "id": "dominant-curtis",
   "metadata": {},
   "outputs": [],
   "source": [
    "apples=[]\n",
    "for list_item in diet_list_by_days[1:]:    \n",
    "    apples.append(list_item.count('apple'))"
   ]
  },
  {
   "cell_type": "code",
   "execution_count": 129,
   "id": "cooperative-likelihood",
   "metadata": {},
   "outputs": [
    {
     "data": {
      "text/plain": [
       "[1, 1, 1, 0, 0, 0, 0]"
      ]
     },
     "execution_count": 129,
     "metadata": {},
     "output_type": "execute_result"
    }
   ],
   "source": [
    "apples"
   ]
  },
  {
   "cell_type": "code",
   "execution_count": 133,
   "id": "unsigned-nirvana",
   "metadata": {},
   "outputs": [],
   "source": [
    "import matplotlib.pyplot as plt\n",
    "import numpy as np"
   ]
  },
  {
   "cell_type": "code",
   "execution_count": 132,
   "id": "interior-uncle",
   "metadata": {},
   "outputs": [
    {
     "name": "stdout",
     "output_type": "stream",
     "text": [
      "[1 2 3 3 3 3 3]\n"
     ]
    }
   ],
   "source": [
    "apples_cumsum = np.cumsum(apples)\n",
    "print(apples_cumsum)"
   ]
  },
  {
   "cell_type": "code",
   "execution_count": 151,
   "id": "superb-captain",
   "metadata": {},
   "outputs": [
    {
     "data": {
      "text/plain": [
       "Text(0, 0.5, 'suma cumulativa de mananzanas')"
      ]
     },
     "execution_count": 151,
     "metadata": {},
     "output_type": "execute_result"
    },
    {
     "data": {
      "image/png": "[encoded data removed]",
      "text/plain": [
       "<Figure size 432x288 with 1 Axes>"
      ]
     },
     "metadata": {
      "needs_background": "light"
     },
     "output_type": "display_data"
    }
   ],
   "source": [
    "import matplotlib.pyplot as plt\n",
    "fig, ax = plt.subplots(1,1)\n",
    "\n",
    "ax.plot(apples_cumsum)\n",
    "ax.set_xlabel('days')\n",
    "ax.set_ylabel('suma cumulativa de mananzanas')"
   ]
  },
  {
   "cell_type": "code",
   "execution_count": 153,
   "id": "early-interview",
   "metadata": {},
   "outputs": [
    {
     "data": {
      "text/plain": [
       "<matplotlib.image.AxesImage at 0x7fa47175f630>"
      ]
     },
     "execution_count": 153,
     "metadata": {},
     "output_type": "execute_result"
    },
    {
     "data": {
      "image/png": "[encoded data removed]",
      "text/plain": [
       "<Figure size 432x288 with 4 Axes>"
      ]
     },
     "metadata": {
      "needs_background": "light"
     },
     "output_type": "display_data"
    }
   ],
   "source": [
    "fig, axis = plt.subplots(2,2)\n",
    "axis[0,0].imshow(np.random.rand(10,10))\n",
    "axis[0,1].imshow(np.random.rand(5,5))\n",
    "axis[1,0].imshow(np.random.rand(2,2))\n",
    "axis[1,1].imshow(np.random.rand(3,4))"
   ]
  },
  {
   "cell_type": "code",
   "execution_count": 137,
   "id": "north-southwest",
   "metadata": {},
   "outputs": [
    {
     "data": {
      "text/plain": [
       "Text(3.200000000000003, 0.5, 'suma cumulativa de mananzanas')"
      ]
     },
     "execution_count": 137,
     "metadata": {},
     "output_type": "execute_result"
    }
   ],
   "source": [
    "ax.set_xlabel('days')\n",
    "ax.set_ylabel('suma cumulativa de mananzanas')"
   ]
  },
  {
   "cell_type": "markdown",
   "id": "dense-worst",
   "metadata": {},
   "source": [
    "## List of numbers"
   ]
  },
  {
   "cell_type": "code",
   "execution_count": 157,
   "id": "alike-belle",
   "metadata": {},
   "outputs": [],
   "source": [
    "my_list=[1,12,23,34,445,6,27,8,9]"
   ]
  },
  {
   "cell_type": "code",
   "execution_count": 158,
   "id": "muslim-movement",
   "metadata": {},
   "outputs": [
    {
     "name": "stdout",
     "output_type": "stream",
     "text": [
      "['__add__', '__class__', '__contains__', '__delattr__', '__delitem__', '__dir__', '__doc__', '__eq__', '__format__', '__ge__', '__getattribute__', '__getitem__', '__gt__', '__hash__', '__iadd__', '__imul__', '__init__', '__init_subclass__', '__iter__', '__le__', '__len__', '__lt__', '__mul__', '__ne__', '__new__', '__reduce__', '__reduce_ex__', '__repr__', '__reversed__', '__rmul__', '__setattr__', '__setitem__', '__sizeof__', '__str__', '__subclasshook__', 'append', 'clear', 'copy', 'count', 'extend', 'index', 'insert', 'pop', 'remove', 'reverse', 'sort']\n"
     ]
    }
   ],
   "source": [
    "print(dir(my_list))"
   ]
  },
  {
   "cell_type": "code",
   "execution_count": 161,
   "id": "oriented-monaco",
   "metadata": {},
   "outputs": [
    {
     "name": "stdout",
     "output_type": "stream",
     "text": [
      "[9, 8, 27, 6, 445, 34, 23, 12, 1]\n",
      "[1, 12, 23, 34, 445, 6, 27, 8, 9]\n"
     ]
    }
   ],
   "source": [
    "print(my_list)\n",
    "my_list.reverse()\n",
    "print(my_list)"
   ]
  },
  {
   "cell_type": "code",
   "execution_count": 164,
   "id": "young-reconstruction",
   "metadata": {},
   "outputs": [
    {
     "name": "stdout",
     "output_type": "stream",
     "text": [
      "[1, 12, 23, 34, 445, 6, 27, 8, 9, 10, 10, 10]\n"
     ]
    }
   ],
   "source": [
    "my_list.append(10)\n",
    "print(my_list)"
   ]
  },
  {
   "cell_type": "code",
   "execution_count": 187,
   "id": "brief-trunk",
   "metadata": {},
   "outputs": [
    {
     "name": "stdout",
     "output_type": "stream",
     "text": [
      "[1, 12, 23, 34, 445, 6, 27, 8, 9]\n"
     ]
    }
   ],
   "source": [
    "print(my_list)"
   ]
  },
  {
   "cell_type": "code",
   "execution_count": 188,
   "id": "quiet-training",
   "metadata": {},
   "outputs": [
    {
     "name": "stdout",
     "output_type": "stream",
     "text": [
      "[1, 6, 8, 9, 12, 23, 27, 34, 445]\n"
     ]
    }
   ],
   "source": [
    "my_list.sort()\n",
    "print(my_list)"
   ]
  },
  {
   "cell_type": "code",
   "execution_count": 192,
   "id": "boring-addition",
   "metadata": {},
   "outputs": [
    {
     "name": "stdout",
     "output_type": "stream",
     "text": [
      "['apple', 'banana', 'mango', 'aaa']\n"
     ]
    }
   ],
   "source": [
    "fruits=['apple','banana','mango']\n",
    "fruits.append('aaa')\n",
    "print(fruits)"
   ]
  },
  {
   "cell_type": "code",
   "execution_count": 194,
   "id": "korean-locking",
   "metadata": {},
   "outputs": [
    {
     "name": "stdout",
     "output_type": "stream",
     "text": [
      "['aaa', 'apple', 'banana', 'mango']\n"
     ]
    }
   ],
   "source": [
    "fruits.sort()\n",
    "print(fruits)"
   ]
  },
  {
   "cell_type": "code",
   "execution_count": 197,
   "id": "interior-nashville",
   "metadata": {},
   "outputs": [
    {
     "data": {
      "text/plain": [
       "2"
      ]
     },
     "execution_count": 197,
     "metadata": {},
     "output_type": "execute_result"
    }
   ],
   "source": [
    "fruits.index('banana')"
   ]
  },
  {
   "cell_type": "code",
   "execution_count": 196,
   "id": "loose-workstation",
   "metadata": {},
   "outputs": [
    {
     "data": {
      "text/plain": [
       "7"
      ]
     },
     "execution_count": 196,
     "metadata": {},
     "output_type": "execute_result"
    }
   ],
   "source": [
    "my_list.index(8)"
   ]
  },
  {
   "cell_type": "code",
   "execution_count": 172,
   "id": "early-manhattan",
   "metadata": {},
   "outputs": [],
   "source": [
    "List_1=[1,2,3,4]\n",
    "List_2=[5,6,7,8]"
   ]
  },
  {
   "cell_type": "code",
   "execution_count": 169,
   "id": "monthly-prayer",
   "metadata": {},
   "outputs": [
    {
     "name": "stdout",
     "output_type": "stream",
     "text": [
      "[1, 2, 3, 4, 5, 6, 7, 8]\n"
     ]
    }
   ],
   "source": [
    "Lista_cont=List_1 + List_2\n",
    "print(Lista_cont)"
   ]
  },
  {
   "cell_type": "code",
   "execution_count": 173,
   "id": "monthly-malpractice",
   "metadata": {},
   "outputs": [
    {
     "name": "stdout",
     "output_type": "stream",
     "text": [
      "[1, 2, 3, 4]\n"
     ]
    },
    {
     "data": {
      "text/plain": [
       "[1, 2, 3, 4, 1, 2, 3, 4]"
      ]
     },
     "execution_count": 173,
     "metadata": {},
     "output_type": "execute_result"
    }
   ],
   "source": [
    "print(List_1)\n",
    "List_1*2"
   ]
  },
  {
   "cell_type": "code",
   "execution_count": 177,
   "id": "boolean-tender",
   "metadata": {},
   "outputs": [
    {
     "data": {
      "text/plain": [
       "[1, 2, 3, 4]"
      ]
     },
     "execution_count": 177,
     "metadata": {},
     "output_type": "execute_result"
    }
   ],
   "source": [
    "List_1"
   ]
  },
  {
   "cell_type": "code",
   "execution_count": 178,
   "id": "vanilla-stand",
   "metadata": {},
   "outputs": [
    {
     "name": "stdout",
     "output_type": "stream",
     "text": [
      "1\n",
      "4\n",
      "9\n",
      "16\n"
     ]
    }
   ],
   "source": [
    "for item in List_1:\n",
    "    print(item**2)"
   ]
  },
  {
   "cell_type": "code",
   "execution_count": 203,
   "id": "bridal-overall",
   "metadata": {},
   "outputs": [
    {
     "data": {
      "text/plain": [
       "[1, 2, 3, 4]"
      ]
     },
     "execution_count": 203,
     "metadata": {},
     "output_type": "execute_result"
    }
   ],
   "source": [
    "List_1"
   ]
  },
  {
   "cell_type": "code",
   "execution_count": 204,
   "id": "wireless-coating",
   "metadata": {},
   "outputs": [
    {
     "name": "stdout",
     "output_type": "stream",
     "text": [
      "1\n",
      "4\n",
      "9\n",
      "16\n"
     ]
    }
   ],
   "source": [
    "## read line by line at least twice!\n",
    "## watch carefully and dont assume anything\n",
    "## be critical\n",
    "counter=0\n",
    "while counter < len(List_1):\n",
    "    print(List_1[counter]**2)\n",
    "    counter=counter+1"
   ]
  },
  {
   "cell_type": "code",
   "execution_count": 179,
   "id": "amateur-satisfaction",
   "metadata": {},
   "outputs": [
    {
     "name": "stdout",
     "output_type": "stream",
     "text": [
      "[1, 2, 3, 4, 5, 6, 7, 8, 9]\n"
     ]
    }
   ],
   "source": [
    "numbers=[1,2,3,4,5,6,7,8,9]\n",
    "print(numbers)\n"
   ]
  },
  {
   "cell_type": "code",
   "execution_count": 180,
   "id": "timely-tiger",
   "metadata": {},
   "outputs": [],
   "source": [
    "squares=[]"
   ]
  },
  {
   "cell_type": "code",
   "execution_count": 181,
   "id": "limited-oklahoma",
   "metadata": {},
   "outputs": [],
   "source": [
    "itegral=[]\n",
    "for number in numbers:\n",
    "    integral.append(number**2)"
   ]
  },
  {
   "cell_type": "code",
   "execution_count": 182,
   "id": "closed-utility",
   "metadata": {},
   "outputs": [
    {
     "data": {
      "text/plain": [
       "[1, 4, 9, 16, 25, 36, 49, 64, 81]"
      ]
     },
     "execution_count": 182,
     "metadata": {},
     "output_type": "execute_result"
    }
   ],
   "source": [
    "squares"
   ]
  },
  {
   "cell_type": "markdown",
   "id": "chief-light",
   "metadata": {},
   "source": [
    "## List comprehension - Pythonic way"
   ]
  },
  {
   "cell_type": "markdown",
   "id": "orange-camel",
   "metadata": {},
   "source": [
    "name_of_list=[.. and expression ... loop / conditional will produce list]"
   ]
  },
  {
   "cell_type": "code",
   "execution_count": 183,
   "id": "spare-modem",
   "metadata": {},
   "outputs": [
    {
     "name": "stdout",
     "output_type": "stream",
     "text": [
      "[1, 2, 3, 4, 5, 6, 7, 8, 9]\n"
     ]
    }
   ],
   "source": [
    "print(numbers)"
   ]
  },
  {
   "cell_type": "code",
   "execution_count": 190,
   "id": "latin-carpet",
   "metadata": {},
   "outputs": [
    {
     "data": {
      "text/plain": [
       "False"
      ]
     },
     "execution_count": 190,
     "metadata": {},
     "output_type": "execute_result"
    }
   ],
   "source": [
    "11%2==0"
   ]
  },
  {
   "cell_type": "code",
   "execution_count": 195,
   "id": "optional-qatar",
   "metadata": {},
   "outputs": [
    {
     "name": "stdout",
     "output_type": "stream",
     "text": [
      "[0, 1, 2, 3, 4, 5, 6, 7, 8, 9, 10]\n"
     ]
    }
   ],
   "source": [
    "# list comprehension - examples 1\n",
    "# rango\n",
    "squares2 = [ x for x in range(11)]\n",
    "print(squares2)"
   ]
  },
  {
   "cell_type": "code",
   "execution_count": 218,
   "id": "animal-taste",
   "metadata": {},
   "outputs": [
    {
     "name": "stdout",
     "output_type": "stream",
     "text": [
      "[4, 16, 36, 64]\n"
     ]
    }
   ],
   "source": [
    "# list comprehension - examples 2\n",
    "squares_even = [x**2 for x in numbers if (x%2==0)]\n",
    "print(squares_even)"
   ]
  },
  {
   "cell_type": "code",
   "execution_count": 196,
   "id": "convenient-bedroom",
   "metadata": {},
   "outputs": [
    {
     "data": {
      "text/plain": [
       "['apple', 'banana', 'mango']"
      ]
     },
     "execution_count": 196,
     "metadata": {},
     "output_type": "execute_result"
    }
   ],
   "source": [
    "fruits"
   ]
  },
  {
   "cell_type": "code",
   "execution_count": 200,
   "id": "adaptive-brave",
   "metadata": {},
   "outputs": [
    {
     "name": "stdout",
     "output_type": "stream",
     "text": [
      "['mango']\n"
     ]
    }
   ],
   "source": [
    "fruits2=[ item for item in fruits if ('m' in item)]\n",
    "print(fruits2)"
   ]
  },
  {
   "cell_type": "code",
   "execution_count": 68,
   "id": "beginning-agreement",
   "metadata": {},
   "outputs": [
    {
     "name": "stdout",
     "output_type": "stream",
     "text": [
      "['mango', 'banana', 'pear']\n",
      "['mango', 'banana', 'pear', 'cherry']\n",
      "['mango', 'banana', 'pear']\n"
     ]
    }
   ],
   "source": [
    "# list comprehension - examples 3, works with list of strings\n",
    "print(fruits)\n",
    "fruits.append('cherry')\n",
    "print(fruits)\n",
    "a_fruits = [item for item in fruits if (\"a\" in item) ] # boolean (True/False)\n",
    "print(a_fruits)"
   ]
  },
  {
   "cell_type": "markdown",
   "id": "gorgeous-therapy",
   "metadata": {},
   "source": [
    "## Mixed lists\n"
   ]
  },
  {
   "cell_type": "code",
   "execution_count": 69,
   "id": "hollow-conditioning",
   "metadata": {},
   "outputs": [],
   "source": [
    "list1 = [\"abc\", 34, True, 40, \"male\"]"
   ]
  },
  {
   "cell_type": "markdown",
   "id": "comic-father",
   "metadata": {},
   "source": [
    "## Challange? (challenge accepted!)"
   ]
  },
  {
   "cell_type": "code",
   "execution_count": 70,
   "id": "biological-recruitment",
   "metadata": {},
   "outputs": [
    {
     "data": {
      "text/plain": [
       "10396"
      ]
     },
     "execution_count": 70,
     "metadata": {},
     "output_type": "execute_result"
    }
   ],
   "source": [
    "## Challange:\n",
    "## List comprehenions are not necessary for this challenge\n",
    "\n",
    "from urllib.request import urlopen\n",
    "response = urlopen('https://www.gutenberg.org/files/74/74-0.txt')\n",
    "book = str(response.read())\n",
    "book.find('HARTFORD, 1876.')"
   ]
  },
  {
   "cell_type": "code",
   "execution_count": 220,
   "id": "transparent-canada",
   "metadata": {},
   "outputs": [
    {
     "name": "stdout",
     "output_type": "stream",
     "text": [
      "510671\n"
     ]
    }
   ],
   "source": [
    "print(len(book))"
   ]
  },
  {
   "cell_type": "code",
   "execution_count": null,
   "id": "latin-judges",
   "metadata": {},
   "outputs": [],
   "source": [
    "chapters_of_the_book=book.split('CHAPTER')"
   ]
  },
  {
   "cell_type": "markdown",
   "id": "distinguished-singing",
   "metadata": {},
   "source": [
    "## Would that be possible to use ML to find out who was the murderer in a criminal book ? :)"
   ]
  },
  {
   "cell_type": "markdown",
   "id": "hourly-luther",
   "metadata": {},
   "source": [
    "## Quiz\n",
    "https://poll-maker.com/poll4008825x16b14275-127\n",
    "https://poll-maker.com/poll4008827x49aDD681-127\n",
    "https://poll-maker.com/poll4008829xfD0F4fb5-127\n",
    "https://poll-maker.com/poll4008834xdDd4dA33-127\n",
    "https://poll-maker.com/poll4008849x0979486a-127\n",
    "https://poll-maker.com/poll4008838x90aE41e1-127\n",
    "https://poll-maker.com/poll4008841xAA0d068a-127\n",
    "\n",
    "my_numbers=[1,2,3,4]\n",
    "\n",
    "a) \n",
    "\n",
    "for number in my_numbers:\n",
    " print(number**3)\n",
    "\n",
    "b)\n",
    "len_of_list=len(my_numbers)\n",
    "counter=0\n",
    "while (counter < len_of_list):\n",
    " print(my_numbers[counter]**3)\n",
    " counter=counter+0"
   ]
  },
  {
   "cell_type": "code",
   "execution_count": 222,
   "id": "tropical-digit",
   "metadata": {},
   "outputs": [
    {
     "data": {
      "text/plain": [
       "'11'"
      ]
     },
     "execution_count": 222,
     "metadata": {},
     "output_type": "execute_result"
    }
   ],
   "source": [
    "'1' + str(1)"
   ]
  },
  {
   "cell_type": "code",
   "execution_count": 223,
   "id": "severe-advantage",
   "metadata": {},
   "outputs": [],
   "source": [
    "numero_de_frutas = [['manzanas',5],['bananas',7]]"
   ]
  },
  {
   "cell_type": "code",
   "execution_count": 225,
   "id": "expressed-parks",
   "metadata": {},
   "outputs": [
    {
     "data": {
      "text/plain": [
       "5"
      ]
     },
     "execution_count": 225,
     "metadata": {},
     "output_type": "execute_result"
    }
   ],
   "source": [
    "numero_de_frutas[0][1]"
   ]
  },
  {
   "cell_type": "code",
   "execution_count": null,
   "id": "taken-equality",
   "metadata": {},
   "outputs": [],
   "source": []
  }
 ],
 "metadata": {
  "kernelspec": {
   "display_name": "Python 3",
   "language": "python",
   "name": "python3"
  },
  "language_info": {
   "codemirror_mode": {
    "name": "ipython",
    "version": 3
   },
   "file_extension": ".py",
   "mimetype": "text/x-python",
   "name": "python",
   "nbconvert_exporter": "python",
   "pygments_lexer": "ipython3",
   "version": "3.7.2"
  }
 },
 "nbformat": 4,
 "nbformat_minor": 5
}
