{
 "cells": [
  {
   "cell_type": "markdown",
   "id": "equivalent-lincoln",
   "metadata": {},
   "source": [
    " # 1. Numeros\n",
    "   #### [a) Python como una calculadora: floats, integers (cometarios)](#python_calculator)\n",
    "   #### [b) Variables y nombres](#variables_and_names)\n",
    "   #### [c) Useful build-in functions: print(), type(), float(), int(), isinstance()](#useful_functions)\n",
    "   #### [d) Logical operators](#logical_operators)\n",
    "   #### [e) Conditional statements, if, elseif, else (indentation)](#conditional_statements)\n",
    "   #### [f) Loops_usando numeros, while, for, range()](#loops_using_numbers)\n",
    "   #### [g) Personal functions](#personal_functions)\n",
    "   #### [h) Formateo print()](#formateo_print)   "
   ]
  },
  {
   "cell_type": "markdown",
   "id": "bulgarian-search",
   "metadata": {},
   "source": [
    "<a id=\"python_calculator\"></a>\n",
    "## Python como una calculadora"
   ]
  },
  {
   "cell_type": "markdown",
   "id": "biological-possession",
   "metadata": {},
   "source": [
    "El intérprete puede utilizarse como una simple calculadora; puedes introducir una expresión y este escribirá los valores. La sintaxis es sencilla: los operadores +, -, *, **\n"
   ]
  },
  {
   "cell_type": "code",
   "execution_count": 1,
   "id": "fifty-stream",
   "metadata": {},
   "outputs": [
    {
     "data": {
      "text/plain": [
       "4"
      ]
     },
     "execution_count": 1,
     "metadata": {},
     "output_type": "execute_result"
    }
   ],
   "source": [
    "2 + 2"
   ]
  },
  {
   "cell_type": "code",
   "execution_count": 2,
   "id": "square-convert",
   "metadata": {},
   "outputs": [
    {
     "data": {
      "text/plain": [
       "5.0"
      ]
     },
     "execution_count": 2,
     "metadata": {},
     "output_type": "execute_result"
    }
   ],
   "source": [
    "(50 - 5*6) / 4"
   ]
  },
  {
   "cell_type": "code",
   "execution_count": 3,
   "id": "resident-feeling",
   "metadata": {},
   "outputs": [
    {
     "data": {
      "text/plain": [
       "1.6"
      ]
     },
     "execution_count": 3,
     "metadata": {},
     "output_type": "execute_result"
    }
   ],
   "source": [
    "8 / 5"
   ]
  },
  {
   "cell_type": "markdown",
   "id": "premium-harvest",
   "metadata": {},
   "source": [
    "Los números enteros (ej. 2, 4, 20) tienen tipo int, los que tienen una parte fraccionaria (por ejemplo 5.0, 1.6) tiene el tipo float. Vamos a ver más acerca de los tipos numéricos más adelante en el tutorial.\n",
    "La división (/) siempre retorna un punto flotante. Para hacer floor division y obtener un resultado entero (descartando cualquier resultado fraccionario) puede usarse el operador //; para calcular el resto puedes usar %:"
   ]
  },
  {
   "cell_type": "code",
   "execution_count": 4,
   "id": "experienced-motel",
   "metadata": {},
   "outputs": [
    {
     "data": {
      "text/plain": [
       "5.666666666666667"
      ]
     },
     "execution_count": 4,
     "metadata": {},
     "output_type": "execute_result"
    }
   ],
   "source": [
    "17 / 3  # classic division returns a float"
   ]
  },
  {
   "cell_type": "code",
   "execution_count": 5,
   "id": "intended-worker",
   "metadata": {},
   "outputs": [
    {
     "data": {
      "text/plain": [
       "5"
      ]
     },
     "execution_count": 5,
     "metadata": {},
     "output_type": "execute_result"
    }
   ],
   "source": [
    "17 // 3  # floor division discards the fractional part"
   ]
  },
  {
   "cell_type": "code",
   "execution_count": 6,
   "id": "cross-newfoundland",
   "metadata": {},
   "outputs": [
    {
     "data": {
      "text/plain": [
       "1"
      ]
     },
     "execution_count": 6,
     "metadata": {},
     "output_type": "execute_result"
    }
   ],
   "source": [
    "17 % 2  # the % operator returns the remainder of the division"
   ]
  },
  {
   "cell_type": "code",
   "execution_count": 7,
   "id": "studied-master",
   "metadata": {},
   "outputs": [
    {
     "data": {
      "text/plain": [
       "1"
      ]
     },
     "execution_count": 7,
     "metadata": {},
     "output_type": "execute_result"
    }
   ],
   "source": [
    "15 % 2"
   ]
  },
  {
   "cell_type": "code",
   "execution_count": 8,
   "id": "civilian-organic",
   "metadata": {},
   "outputs": [
    {
     "data": {
      "text/plain": [
       "3125"
      ]
     },
     "execution_count": 8,
     "metadata": {},
     "output_type": "execute_result"
    }
   ],
   "source": [
    "5 ** 5  # 5 squared a la potencia / elevado / 5 a la 5"
   ]
  },
  {
   "cell_type": "code",
   "execution_count": 9,
   "id": "vocal-scott",
   "metadata": {},
   "outputs": [
    {
     "data": {
      "text/plain": [
       "3125"
      ]
     },
     "execution_count": 9,
     "metadata": {},
     "output_type": "execute_result"
    }
   ],
   "source": [
    "5**5"
   ]
  },
  {
   "cell_type": "code",
   "execution_count": 10,
   "id": "heavy-prisoner",
   "metadata": {},
   "outputs": [
    {
     "data": {
      "text/plain": [
       "10"
      ]
     },
     "execution_count": 10,
     "metadata": {},
     "output_type": "execute_result"
    }
   ],
   "source": [
    "5+5"
   ]
  },
  {
   "cell_type": "code",
   "execution_count": 11,
   "id": "pursuant-seventh",
   "metadata": {},
   "outputs": [
    {
     "data": {
      "text/plain": [
       "20"
      ]
     },
     "execution_count": 11,
     "metadata": {},
     "output_type": "execute_result"
    }
   ],
   "source": [
    "10+_"
   ]
  },
  {
   "cell_type": "markdown",
   "id": "conscious-progress",
   "metadata": {},
   "source": [
    "<a id=\"variables_and_names\"></a>\n",
    "## Variables y nombres"
   ]
  },
  {
   "cell_type": "markdown",
   "id": "federal-consent",
   "metadata": {},
   "source": [
    "El signo igual (=) se usa para asignar un valor a una variable. Ningún resultado se mostrará antes del siguiente prompt interactivo:"
   ]
  },
  {
   "cell_type": "code",
   "execution_count": 12,
   "id": "solved-prediction",
   "metadata": {},
   "outputs": [
    {
     "data": {
      "text/plain": [
       "900"
      ]
     },
     "execution_count": 12,
     "metadata": {},
     "output_type": "execute_result"
    }
   ],
   "source": [
    "width = 20\n",
    "height = 5 * 9\n",
    "width * height"
   ]
  },
  {
   "cell_type": "markdown",
   "id": "smart-scheduling",
   "metadata": {},
   "source": [
    "Si una variable no está «definida» (no se le ha asignado un valor), al intentar usarla dará un error:"
   ]
  },
  {
   "cell_type": "code",
   "execution_count": 13,
   "id": "pretty-script",
   "metadata": {},
   "outputs": [],
   "source": [
    "#area"
   ]
  },
  {
   "cell_type": "markdown",
   "id": "aerial-porter",
   "metadata": {},
   "source": [
    "En el modo interactivo, la última expresión impresa se asigna a la variable _ (Guión bajo). Esto significa que cuando se está utilizando Python como calculadora, es más fácil seguir calculando, por ejemplo:"
   ]
  },
  {
   "cell_type": "code",
   "execution_count": 14,
   "id": "three-angel",
   "metadata": {},
   "outputs": [],
   "source": [
    "tax = 12.5 / 100\n",
    "price = 100.50\n",
    "price * tax\n",
    "result=price + _"
   ]
  },
  {
   "cell_type": "markdown",
   "id": "false-naples",
   "metadata": {},
   "source": [
    "<a id=\"useful_functions\"></a>\n",
    "## Useful build-in functions: print(), type(), float(), int(), isinstance()"
   ]
  },
  {
   "cell_type": "code",
   "execution_count": 15,
   "id": "strong-folks",
   "metadata": {},
   "outputs": [
    {
     "name": "stdout",
     "output_type": "stream",
     "text": [
      "1000.5\n"
     ]
    }
   ],
   "source": [
    "print(result)"
   ]
  },
  {
   "cell_type": "code",
   "execution_count": 16,
   "id": "swiss-tablet",
   "metadata": {},
   "outputs": [
    {
     "data": {
      "text/plain": [
       "float"
      ]
     },
     "execution_count": 16,
     "metadata": {},
     "output_type": "execute_result"
    }
   ],
   "source": [
    "type(result)"
   ]
  },
  {
   "cell_type": "code",
   "execution_count": 17,
   "id": "understanding-refrigerator",
   "metadata": {},
   "outputs": [
    {
     "name": "stdout",
     "output_type": "stream",
     "text": [
      "<class 'float'>\n"
     ]
    }
   ],
   "source": [
    "print(type(result))"
   ]
  },
  {
   "cell_type": "code",
   "execution_count": 18,
   "id": "capital-victim",
   "metadata": {},
   "outputs": [
    {
     "name": "stdout",
     "output_type": "stream",
     "text": [
      "1000\n"
     ]
    }
   ],
   "source": [
    "result_int=int(result)\n",
    "print(result_int)"
   ]
  },
  {
   "cell_type": "code",
   "execution_count": 19,
   "id": "juvenile-wednesday",
   "metadata": {},
   "outputs": [
    {
     "name": "stdout",
     "output_type": "stream",
     "text": [
      "<class 'int'>\n"
     ]
    }
   ],
   "source": [
    "print(type(result_int))"
   ]
  },
  {
   "cell_type": "code",
   "execution_count": 20,
   "id": "wired-geneva",
   "metadata": {},
   "outputs": [
    {
     "name": "stdout",
     "output_type": "stream",
     "text": [
      "<class 'int'>\n"
     ]
    }
   ],
   "source": [
    "print(type(int('1')))"
   ]
  },
  {
   "cell_type": "code",
   "execution_count": 21,
   "id": "empty-vitamin",
   "metadata": {},
   "outputs": [
    {
     "name": "stdout",
     "output_type": "stream",
     "text": [
      "<class 'float'>\n",
      "1000.0\n"
     ]
    }
   ],
   "source": [
    "result_float=float(result_int)\n",
    "print(type(result_float))\n",
    "print(result_float)"
   ]
  },
  {
   "cell_type": "code",
   "execution_count": 22,
   "id": "fourth-output",
   "metadata": {},
   "outputs": [
    {
     "data": {
      "text/plain": [
       "1000"
      ]
     },
     "execution_count": 22,
     "metadata": {},
     "output_type": "execute_result"
    }
   ],
   "source": [
    "int(1000.9)"
   ]
  },
  {
   "cell_type": "code",
   "execution_count": 23,
   "id": "regional-spanish",
   "metadata": {},
   "outputs": [
    {
     "data": {
      "text/plain": [
       "1000"
      ]
     },
     "execution_count": 23,
     "metadata": {},
     "output_type": "execute_result"
    }
   ],
   "source": [
    "int(result)"
   ]
  },
  {
   "cell_type": "code",
   "execution_count": 24,
   "id": "aboriginal-modeling",
   "metadata": {},
   "outputs": [
    {
     "data": {
      "text/plain": [
       "False"
      ]
     },
     "execution_count": 24,
     "metadata": {},
     "output_type": "execute_result"
    }
   ],
   "source": [
    "isinstance(int(result),float)"
   ]
  },
  {
   "cell_type": "code",
   "execution_count": 25,
   "id": "gorgeous-forward",
   "metadata": {},
   "outputs": [],
   "source": [
    "myint=10"
   ]
  },
  {
   "cell_type": "code",
   "execution_count": 26,
   "id": "grave-abuse",
   "metadata": {},
   "outputs": [
    {
     "name": "stdout",
     "output_type": "stream",
     "text": [
      "<class 'float'>\n"
     ]
    }
   ],
   "source": [
    "print(type(float(myint)))"
   ]
  },
  {
   "cell_type": "markdown",
   "id": "painful-intellectual",
   "metadata": {},
   "source": [
    "<a id=\"logical_operators\"></a>\n",
    "## Logical operators\n",
    "* '=='\n",
    "* '!='\n",
    "* '>,=>'\n",
    "* '<, <='\n",
    "* or\n",
    "* not\n",
    "* and"
   ]
  },
  {
   "cell_type": "code",
   "execution_count": 27,
   "id": "tropical-rebate",
   "metadata": {},
   "outputs": [
    {
     "name": "stdout",
     "output_type": "stream",
     "text": [
      "True\n"
     ]
    }
   ],
   "source": [
    "int_1=10\n",
    "int_2=20\n",
    "print(int_1!=int_2)"
   ]
  },
  {
   "cell_type": "code",
   "execution_count": 28,
   "id": "funny-rachel",
   "metadata": {},
   "outputs": [
    {
     "name": "stdout",
     "output_type": "stream",
     "text": [
      "True\n"
     ]
    }
   ],
   "source": [
    "print(int_1!=int_2)"
   ]
  },
  {
   "cell_type": "markdown",
   "id": "copyrighted-grain",
   "metadata": {},
   "source": [
    "<a id=\"conditional_statements\"></a>\n",
    "## Conditional statements, if, elseif, else (indentation)"
   ]
  },
  {
   "cell_type": "code",
   "execution_count": 29,
   "id": "returning-observer",
   "metadata": {},
   "outputs": [],
   "source": [
    "a = 200\n",
    "b = 33"
   ]
  },
  {
   "cell_type": "code",
   "execution_count": 30,
   "id": "infectious-biotechnology",
   "metadata": {},
   "outputs": [
    {
     "data": {
      "text/plain": [
       "False"
      ]
     },
     "execution_count": 30,
     "metadata": {},
     "output_type": "execute_result"
    }
   ],
   "source": [
    "(b > a)"
   ]
  },
  {
   "cell_type": "code",
   "execution_count": 31,
   "id": "circular-circulation",
   "metadata": {},
   "outputs": [
    {
     "name": "stdout",
     "output_type": "stream",
     "text": [
      "a is greater than b\n"
     ]
    }
   ],
   "source": [
    "a = 200\n",
    "b = 10\n",
    "\n",
    "if (b > a):\n",
    "    print(\"b is greater than a\")\n",
    "else:\n",
    "    print(\"a is greater than b\")"
   ]
  },
  {
   "cell_type": "code",
   "execution_count": 32,
   "id": "severe-contrast",
   "metadata": {},
   "outputs": [
    {
     "name": "stdout",
     "output_type": "stream",
     "text": [
      "a is greater than b\n"
     ]
    }
   ],
   "source": [
    "a = 200\n",
    "b = 10\n",
    "\n",
    "if (not isinstance(a,str)) and (not isinstance(b,str)):\n",
    "    if (b > a):\n",
    "        print(\"b is greater than a\")\n",
    "    else:\n",
    "        print(\"a is greater than b\")"
   ]
  },
  {
   "cell_type": "markdown",
   "id": "private-contest",
   "metadata": {},
   "source": [
    "## not"
   ]
  },
  {
   "cell_type": "code",
   "execution_count": 33,
   "id": "guilty-monroe",
   "metadata": {},
   "outputs": [
    {
     "name": "stdout",
     "output_type": "stream",
     "text": [
      "b is greater than a\n"
     ]
    }
   ],
   "source": [
    "a = 20\n",
    "b = 33\n",
    "\n",
    "if not (b < a):\n",
    "    print(\"b is greater than a\")\n",
    "else:\n",
    "    print(\"a is greater than b\")"
   ]
  },
  {
   "cell_type": "code",
   "execution_count": 34,
   "id": "handy-union",
   "metadata": {},
   "outputs": [
    {
     "name": "stdout",
     "output_type": "stream",
     "text": [
      "b is greater than a\n"
     ]
    }
   ],
   "source": [
    "a = 20\n",
    "b = 33\n",
    "\n",
    "if not (b < a) or (b > a):\n",
    "    print(\"b is greater than a\")\n",
    "else:\n",
    "    print(\"a is greater than b\")"
   ]
  },
  {
   "cell_type": "markdown",
   "id": "composed-burst",
   "metadata": {},
   "source": [
    "<a id=\"loops_using_numbers\"></a>\n",
    "## Loops usando numeros, while, for, range()"
   ]
  },
  {
   "cell_type": "code",
   "execution_count": 35,
   "id": "chicken-international",
   "metadata": {},
   "outputs": [
    {
     "name": "stdout",
     "output_type": "stream",
     "text": [
      "1\n",
      "2\n"
     ]
    }
   ],
   "source": [
    "for ii in range(1,5): # 0:10\n",
    "    if ii<3:\n",
    "        print(ii)"
   ]
  },
  {
   "cell_type": "markdown",
   "id": "automotive-partition",
   "metadata": {},
   "source": [
    "range(5) includes numbers 0:4 (last is not included)\n",
    "range(1:5) includes numbers 1:4 (last is not included)"
   ]
  },
  {
   "cell_type": "code",
   "execution_count": 36,
   "id": "rocky-cemetery",
   "metadata": {},
   "outputs": [
    {
     "name": "stdout",
     "output_type": "stream",
     "text": [
      "1\n",
      "2\n",
      "3\n",
      "4\n"
     ]
    }
   ],
   "source": [
    "# este loop imprime numeros entre 1 y 4\n",
    "for i in range(1,5):\n",
    "    print(i)"
   ]
  },
  {
   "cell_type": "code",
   "execution_count": 37,
   "id": "funky-crisis",
   "metadata": {},
   "outputs": [
    {
     "name": "stdout",
     "output_type": "stream",
     "text": [
      "1\n",
      "4\n",
      "9\n",
      "16\n",
      "25\n",
      "36\n",
      "49\n",
      "64\n",
      "81\n"
     ]
    }
   ],
   "source": [
    "for i in range(1,10):\n",
    "    print(i**2)"
   ]
  },
  {
   "cell_type": "code",
   "execution_count": 38,
   "id": "through-chase",
   "metadata": {},
   "outputs": [
    {
     "name": "stdout",
     "output_type": "stream",
     "text": [
      "0\n",
      "1\n",
      "2\n",
      "3\n",
      "4\n"
     ]
    }
   ],
   "source": [
    "i = 0\n",
    "while (i < 5):\n",
    "    print(i)\n",
    "    i = i + 1"
   ]
  },
  {
   "cell_type": "markdown",
   "id": "dried-array",
   "metadata": {},
   "source": [
    "<a id=\"personal_functions\"></a>\n",
    "## Personal functions"
   ]
  },
  {
   "cell_type": "code",
   "execution_count": 39,
   "id": "novel-internship",
   "metadata": {},
   "outputs": [],
   "source": [
    "def compare_two_numbers(a,b):\n",
    "    if (b > a):\n",
    "        print(\"first number is greater than the second number\")\n",
    "    else:\n",
    "        print(\"second number is greater than the first number\")"
   ]
  },
  {
   "cell_type": "code",
   "execution_count": 40,
   "id": "amino-optimum",
   "metadata": {},
   "outputs": [
    {
     "name": "stdout",
     "output_type": "stream",
     "text": [
      "first number is greater than the second number\n"
     ]
    }
   ],
   "source": [
    "compare_two_numbers(1,3)"
   ]
  },
  {
   "cell_type": "code",
   "execution_count": 41,
   "id": "entitled-variable",
   "metadata": {},
   "outputs": [],
   "source": [
    "def divide_two_numbers(a,b):\n",
    "    if (b!=0):\n",
    "        result=a/b\n",
    "        return result\n",
    "    else:\n",
    "        print('do not divide by zero')    "
   ]
  },
  {
   "cell_type": "code",
   "execution_count": 42,
   "id": "interim-printing",
   "metadata": {},
   "outputs": [
    {
     "name": "stdout",
     "output_type": "stream",
     "text": [
      "0.1\n"
     ]
    }
   ],
   "source": [
    "result=divide_two_numbers(1,10)\n",
    "print(result)"
   ]
  },
  {
   "cell_type": "code",
   "execution_count": 43,
   "id": "reserved-hawaii",
   "metadata": {},
   "outputs": [],
   "source": [
    "def divide_multiply_two_numbers(a,b):\n",
    "    result_multiplication=a*b\n",
    "    if (b!=0):\n",
    "        result_division=a/b\n",
    "    else:\n",
    "        print('Warining: division by zero!')\n",
    "        result_division=0\n",
    "    return result_multiplication, result_division"
   ]
  },
  {
   "cell_type": "code",
   "execution_count": 91,
   "id": "nominated-suite",
   "metadata": {},
   "outputs": [
    {
     "name": "stdout",
     "output_type": "stream",
     "text": [
      "60 6.666666666666667\n"
     ]
    }
   ],
   "source": [
    "result_mult, result_div= divide_multiply_two_numbers(20,3)\n",
    "print(result_mult, result_div)"
   ]
  },
  {
   "cell_type": "markdown",
   "id": "herbal-frank",
   "metadata": {},
   "source": [
    "## try:... except:\n",
    "\n",
    "try:   \n",
    "---> intentar ejecutar esta operacion  \n",
    "except:  \n",
    "---> si ocurre error ejecutar esta operacion  "
   ]
  },
  {
   "cell_type": "code",
   "execution_count": 92,
   "id": "tutorial-marina",
   "metadata": {},
   "outputs": [],
   "source": [
    "def divide_multiply_two_numbers2(a,b):\n",
    "    result_multiplication=a*b\n",
    "    try:\n",
    "        result_division=a/b\n",
    "    except:\n",
    "        print('Warining: division by zero!')\n",
    "        result_division=0\n",
    "    return result_multiplication, result_division"
   ]
  },
  {
   "cell_type": "code",
   "execution_count": 93,
   "id": "worth-roberts",
   "metadata": {},
   "outputs": [
    {
     "name": "stdout",
     "output_type": "stream",
     "text": [
      "60 6.666666666666667\n"
     ]
    }
   ],
   "source": [
    "result_mult, result_div= divide_multiply_two_numbers2(20,3)\n",
    "print(result_mult, result_div)"
   ]
  },
  {
   "cell_type": "markdown",
   "id": "critical-experience",
   "metadata": {},
   "source": [
    "<a id=\"formateo_print\"></a>\n",
    "## Formateo print() + f'"
   ]
  },
  {
   "cell_type": "markdown",
   "id": "developmental-payroll",
   "metadata": {},
   "source": [
    "print($\\textbf{f'}$string...{variable}')  "
   ]
  },
  {
   "cell_type": "code",
   "execution_count": 48,
   "id": "handled-connectivity",
   "metadata": {},
   "outputs": [
    {
     "name": "stdout",
     "output_type": "stream",
     "text": [
      "the variable num1 has value: 10\n"
     ]
    }
   ],
   "source": [
    "num1=10\n",
    "print(f'the variable num1 has value: {num1}')"
   ]
  },
  {
   "cell_type": "code",
   "execution_count": 90,
   "id": "english-socket",
   "metadata": {},
   "outputs": [
    {
     "name": "stdout",
     "output_type": "stream",
     "text": [
      "the string str1 has value: zzz\n"
     ]
    }
   ],
   "source": [
    "str1='zzz'\n",
    "print(f'the string str1 has value: {str1}')"
   ]
  },
  {
   "cell_type": "code",
   "execution_count": 86,
   "id": "usual-lodge",
   "metadata": {},
   "outputs": [
    {
     "name": "stdout",
     "output_type": "stream",
     "text": [
      "el valor de numero pi con dos numeros decimales es: 3.14\n"
     ]
    }
   ],
   "source": [
    "var1=3.141592653589793\n",
    "print(f'El valor de numero pi con dos numeros decimales es: {var1:.2f}')"
   ]
  },
  {
   "cell_type": "code",
   "execution_count": 89,
   "id": "virgin-sequence",
   "metadata": {},
   "outputs": [
    {
     "name": "stdout",
     "output_type": "stream",
     "text": [
      "El valor de numero pi con cuantro numeros decimales es: 3.1416\n"
     ]
    }
   ],
   "source": [
    "var1=3.141592653589793\n",
    "print(f'El valor de numero pi con cuantro numeros decimales es: {var1:.4f}')"
   ]
  }
 ],
 "metadata": {
  "kernelspec": {
   "display_name": "Python 3",
   "language": "python",
   "name": "python3"
  },
  "language_info": {
   "codemirror_mode": {
    "name": "ipython",
    "version": 3
   },
   "file_extension": ".py",
   "mimetype": "text/x-python",
   "name": "python",
   "nbconvert_exporter": "python",
   "pygments_lexer": "ipython3",
   "version": "3.7.2"
  }
 },
 "nbformat": 4,
 "nbformat_minor": 5
}
