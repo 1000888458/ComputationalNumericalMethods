{
 "cells": [
  {
   "cell_type": "markdown",
   "id": "unsigned-enhancement",
   "metadata": {},
   "source": [
    "## Today:\n",
    "* Pandas - continuation (downloading from repositories, .to_numpy)\n",
    "* Dictionaries - extracting data\n",
    "* .MAT files\n",
    "* os library"
   ]
  },
  {
   "cell_type": "markdown",
   "id": "hispanic-nylon",
   "metadata": {},
   "source": [
    "## Pandas - cont.."
   ]
  },
  {
   "cell_type": "code",
   "execution_count": 96,
   "id": "burning-shelf",
   "metadata": {},
   "outputs": [
    {
     "name": "stderr",
     "output_type": "stream",
     "text": [
      "/usr/lib64/python3.7/site-packages/IPython/core/interactiveshell.py:3156: DtypeWarning: Columns (3,4,5) have mixed types. Specify dtype option on import or set low_memory=False.\n",
      "  interactivity=interactivity, compiler=compiler, result=result)\n"
     ]
    },
    {
     "data": {
      "text/html": [
       "<div>\n",
       "<style scoped>\n",
       "    .dataframe tbody tr th:only-of-type {\n",
       "        vertical-align: middle;\n",
       "    }\n",
       "\n",
       "    .dataframe tbody tr th {\n",
       "        vertical-align: top;\n",
       "    }\n",
       "\n",
       "    .dataframe thead th {\n",
       "        text-align: right;\n",
       "    }\n",
       "</style>\n",
       "<table border=\"1\" class=\"dataframe\">\n",
       "  <thead>\n",
       "    <tr style=\"text-align: right;\">\n",
       "      <th></th>\n",
       "      <th>id</th>\n",
       "      <th>spkid</th>\n",
       "      <th>full_name</th>\n",
       "      <th>pdes</th>\n",
       "      <th>name</th>\n",
       "      <th>prefix</th>\n",
       "      <th>neo</th>\n",
       "      <th>pha</th>\n",
       "      <th>H</th>\n",
       "      <th>diameter</th>\n",
       "      <th>...</th>\n",
       "      <th>sigma_i</th>\n",
       "      <th>sigma_om</th>\n",
       "      <th>sigma_w</th>\n",
       "      <th>sigma_ma</th>\n",
       "      <th>sigma_ad</th>\n",
       "      <th>sigma_n</th>\n",
       "      <th>sigma_tp</th>\n",
       "      <th>sigma_per</th>\n",
       "      <th>class</th>\n",
       "      <th>rms</th>\n",
       "    </tr>\n",
       "  </thead>\n",
       "  <tbody>\n",
       "    <tr>\n",
       "      <th>0</th>\n",
       "      <td>a0000001</td>\n",
       "      <td>2000001</td>\n",
       "      <td>1 Ceres</td>\n",
       "      <td>1</td>\n",
       "      <td>Ceres</td>\n",
       "      <td>NaN</td>\n",
       "      <td>N</td>\n",
       "      <td>N</td>\n",
       "      <td>3.40</td>\n",
       "      <td>939.400</td>\n",
       "      <td>...</td>\n",
       "      <td>4.608900e-09</td>\n",
       "      <td>6.168800e-08</td>\n",
       "      <td>6.624800e-08</td>\n",
       "      <td>7.820700e-09</td>\n",
       "      <td>1.111300e-11</td>\n",
       "      <td>1.196500e-12</td>\n",
       "      <td>3.782900e-08</td>\n",
       "      <td>9.415900e-09</td>\n",
       "      <td>MBA</td>\n",
       "      <td>0.43301</td>\n",
       "    </tr>\n",
       "    <tr>\n",
       "      <th>1</th>\n",
       "      <td>a0000002</td>\n",
       "      <td>2000002</td>\n",
       "      <td>2 Pallas</td>\n",
       "      <td>2</td>\n",
       "      <td>Pallas</td>\n",
       "      <td>NaN</td>\n",
       "      <td>N</td>\n",
       "      <td>N</td>\n",
       "      <td>4.20</td>\n",
       "      <td>545.000</td>\n",
       "      <td>...</td>\n",
       "      <td>3.469400e-06</td>\n",
       "      <td>6.272400e-06</td>\n",
       "      <td>9.128200e-06</td>\n",
       "      <td>8.859100e-06</td>\n",
       "      <td>4.961300e-09</td>\n",
       "      <td>4.653600e-10</td>\n",
       "      <td>4.078700e-05</td>\n",
       "      <td>3.680700e-06</td>\n",
       "      <td>MBA</td>\n",
       "      <td>0.35936</td>\n",
       "    </tr>\n",
       "    <tr>\n",
       "      <th>2</th>\n",
       "      <td>a0000003</td>\n",
       "      <td>2000003</td>\n",
       "      <td>3 Juno</td>\n",
       "      <td>3</td>\n",
       "      <td>Juno</td>\n",
       "      <td>NaN</td>\n",
       "      <td>N</td>\n",
       "      <td>N</td>\n",
       "      <td>5.33</td>\n",
       "      <td>246.596</td>\n",
       "      <td>...</td>\n",
       "      <td>3.223100e-06</td>\n",
       "      <td>1.664600e-05</td>\n",
       "      <td>1.772100e-05</td>\n",
       "      <td>8.110400e-06</td>\n",
       "      <td>4.363900e-09</td>\n",
       "      <td>4.413400e-10</td>\n",
       "      <td>3.528800e-05</td>\n",
       "      <td>3.107200e-06</td>\n",
       "      <td>MBA</td>\n",
       "      <td>0.33848</td>\n",
       "    </tr>\n",
       "    <tr>\n",
       "      <th>3</th>\n",
       "      <td>a0000004</td>\n",
       "      <td>2000004</td>\n",
       "      <td>4 Vesta</td>\n",
       "      <td>4</td>\n",
       "      <td>Vesta</td>\n",
       "      <td>NaN</td>\n",
       "      <td>N</td>\n",
       "      <td>N</td>\n",
       "      <td>3.00</td>\n",
       "      <td>525.400</td>\n",
       "      <td>...</td>\n",
       "      <td>2.170600e-07</td>\n",
       "      <td>3.880800e-07</td>\n",
       "      <td>1.789300e-07</td>\n",
       "      <td>1.206800e-06</td>\n",
       "      <td>1.648600e-09</td>\n",
       "      <td>2.612500e-10</td>\n",
       "      <td>4.103700e-06</td>\n",
       "      <td>1.274900e-06</td>\n",
       "      <td>MBA</td>\n",
       "      <td>0.39980</td>\n",
       "    </tr>\n",
       "    <tr>\n",
       "      <th>4</th>\n",
       "      <td>a0000005</td>\n",
       "      <td>2000005</td>\n",
       "      <td>5 Astraea</td>\n",
       "      <td>5</td>\n",
       "      <td>Astraea</td>\n",
       "      <td>NaN</td>\n",
       "      <td>N</td>\n",
       "      <td>N</td>\n",
       "      <td>6.90</td>\n",
       "      <td>106.699</td>\n",
       "      <td>...</td>\n",
       "      <td>2.740800e-06</td>\n",
       "      <td>2.894900e-05</td>\n",
       "      <td>2.984200e-05</td>\n",
       "      <td>8.303800e-06</td>\n",
       "      <td>4.729000e-09</td>\n",
       "      <td>5.522700e-10</td>\n",
       "      <td>3.474300e-05</td>\n",
       "      <td>3.490500e-06</td>\n",
       "      <td>MBA</td>\n",
       "      <td>0.52191</td>\n",
       "    </tr>\n",
       "  </tbody>\n",
       "</table>\n",
       "<p>5 rows × 45 columns</p>\n",
       "</div>"
      ],
      "text/plain": [
       "         id    spkid       full_name pdes     name prefix neo pha     H  \\\n",
       "0  a0000001  2000001         1 Ceres    1    Ceres    NaN   N   N  3.40   \n",
       "1  a0000002  2000002        2 Pallas    2   Pallas    NaN   N   N  4.20   \n",
       "2  a0000003  2000003          3 Juno    3     Juno    NaN   N   N  5.33   \n",
       "3  a0000004  2000004         4 Vesta    4    Vesta    NaN   N   N  3.00   \n",
       "4  a0000005  2000005       5 Astraea    5  Astraea    NaN   N   N  6.90   \n",
       "\n",
       "   diameter  ...       sigma_i      sigma_om       sigma_w      sigma_ma  \\\n",
       "0   939.400  ...  4.608900e-09  6.168800e-08  6.624800e-08  7.820700e-09   \n",
       "1   545.000  ...  3.469400e-06  6.272400e-06  9.128200e-06  8.859100e-06   \n",
       "2   246.596  ...  3.223100e-06  1.664600e-05  1.772100e-05  8.110400e-06   \n",
       "3   525.400  ...  2.170600e-07  3.880800e-07  1.789300e-07  1.206800e-06   \n",
       "4   106.699  ...  2.740800e-06  2.894900e-05  2.984200e-05  8.303800e-06   \n",
       "\n",
       "       sigma_ad       sigma_n      sigma_tp     sigma_per  class      rms  \n",
       "0  1.111300e-11  1.196500e-12  3.782900e-08  9.415900e-09    MBA  0.43301  \n",
       "1  4.961300e-09  4.653600e-10  4.078700e-05  3.680700e-06    MBA  0.35936  \n",
       "2  4.363900e-09  4.413400e-10  3.528800e-05  3.107200e-06    MBA  0.33848  \n",
       "3  1.648600e-09  2.612500e-10  4.103700e-06  1.274900e-06    MBA  0.39980  \n",
       "4  4.729000e-09  5.522700e-10  3.474300e-05  3.490500e-06    MBA  0.52191  \n",
       "\n",
       "[5 rows x 45 columns]"
      ]
     },
     "execution_count": 96,
     "metadata": {},
     "output_type": "execute_result"
    }
   ],
   "source": [
    "import pandas as pd\n",
    "#url = \"https://gitlab.com/mirsakhawathossain/pha-ml/-/raw/master/Dataset/dataset.csv\"\n",
    "df = pd.read_csv('dataset.csv')\n",
    "df.head()"
   ]
  },
  {
   "cell_type": "code",
   "execution_count": 97,
   "id": "infectious-small",
   "metadata": {},
   "outputs": [],
   "source": [
    "# how to delete columns that names contain word \"sigma\"\n",
    "df2=df[df.columns.drop(list(df.filter(regex='sigma')))]"
   ]
  },
  {
   "cell_type": "code",
   "execution_count": 98,
   "id": "collectible-subdivision",
   "metadata": {},
   "outputs": [
    {
     "data": {
      "text/plain": [
       "array([['     1 Ceres'],\n",
       "       ['     2 Pallas'],\n",
       "       ['     3 Juno'],\n",
       "       ['     4 Vesta'],\n",
       "       ['     5 Astraea'],\n",
       "       ['     6 Hebe'],\n",
       "       ['     7 Iris'],\n",
       "       ['     8 Flora'],\n",
       "       ['     9 Metis'],\n",
       "       ['    10 Hygiea']], dtype=object)"
      ]
     },
     "execution_count": 98,
     "metadata": {},
     "output_type": "execute_result"
    }
   ],
   "source": [
    "df2_np = df2.to_numpy()\n",
    "df2_np[0:10,2:3]"
   ]
  },
  {
   "cell_type": "markdown",
   "id": "rubber-pavilion",
   "metadata": {},
   "source": [
    "## Dictionaries"
   ]
  },
  {
   "cell_type": "code",
   "execution_count": 99,
   "id": "classical-graduate",
   "metadata": {},
   "outputs": [
    {
     "data": {
      "text/plain": [
       "sklearn.utils.Bunch"
      ]
     },
     "execution_count": 99,
     "metadata": {},
     "output_type": "execute_result"
    }
   ],
   "source": [
    "from sklearn import datasets\n",
    "iris = datasets.load_iris()\n",
    "type(iris)"
   ]
  },
  {
   "cell_type": "code",
   "execution_count": 100,
   "id": "aware-running",
   "metadata": {},
   "outputs": [
    {
     "data": {
      "text/plain": [
       "dict_keys(['data', 'target', 'frame', 'target_names', 'DESCR', 'feature_names', 'filename'])"
      ]
     },
     "execution_count": 100,
     "metadata": {},
     "output_type": "execute_result"
    }
   ],
   "source": [
    "iris.keys()"
   ]
  },
  {
   "cell_type": "code",
   "execution_count": 101,
   "id": "sound-poetry",
   "metadata": {},
   "outputs": [
    {
     "name": "stdout",
     "output_type": "stream",
     "text": [
      "<class 'numpy.ndarray'>\n"
     ]
    }
   ],
   "source": [
    "print(type(iris['data']))"
   ]
  },
  {
   "cell_type": "code",
   "execution_count": 102,
   "id": "animated-sheffield",
   "metadata": {},
   "outputs": [
    {
     "data": {
      "text/plain": [
       "array([[5.1, 3.5, 1.4, 0.2],\n",
       "       [4.9, 3. , 1.4, 0.2],\n",
       "       [4.7, 3.2, 1.3, 0.2],\n",
       "       [4.6, 3.1, 1.5, 0.2],\n",
       "       [5. , 3.6, 1.4, 0.2],\n",
       "       [5.4, 3.9, 1.7, 0.4],\n",
       "       [4.6, 3.4, 1.4, 0.3],\n",
       "       [5. , 3.4, 1.5, 0.2],\n",
       "       [4.4, 2.9, 1.4, 0.2],\n",
       "       [4.9, 3.1, 1.5, 0.1]])"
      ]
     },
     "execution_count": 102,
     "metadata": {},
     "output_type": "execute_result"
    }
   ],
   "source": [
    "iris['data'][0:10]"
   ]
  },
  {
   "cell_type": "code",
   "execution_count": 103,
   "id": "structural-actress",
   "metadata": {},
   "outputs": [
    {
     "data": {
      "text/plain": [
       "(150, 4)"
      ]
     },
     "execution_count": 103,
     "metadata": {},
     "output_type": "execute_result"
    }
   ],
   "source": [
    "iris['data'].shape"
   ]
  },
  {
   "cell_type": "code",
   "execution_count": 104,
   "id": "strange-inspector",
   "metadata": {},
   "outputs": [
    {
     "name": "stdout",
     "output_type": "stream",
     "text": [
      "[ 88 111  85]\n"
     ]
    }
   ],
   "source": [
    "import numpy as np\n",
    "rand_num = np.random.randint(0,iris['data'].shape[0],3)\n",
    "print(rand_num)"
   ]
  },
  {
   "cell_type": "code",
   "execution_count": 105,
   "id": "attended-grenada",
   "metadata": {},
   "outputs": [
    {
     "data": {
      "text/plain": [
       "array([[5.6, 3. , 4.1, 1.3],\n",
       "       [6.4, 2.7, 5.3, 1.9],\n",
       "       [6. , 3.4, 4.5, 1.6]])"
      ]
     },
     "execution_count": 105,
     "metadata": {},
     "output_type": "execute_result"
    }
   ],
   "source": [
    "iris['data'][rand_num]"
   ]
  },
  {
   "cell_type": "code",
   "execution_count": 106,
   "id": "exotic-comfort",
   "metadata": {},
   "outputs": [
    {
     "data": {
      "text/plain": [
       "array([1, 2, 1])"
      ]
     },
     "execution_count": 106,
     "metadata": {},
     "output_type": "execute_result"
    }
   ],
   "source": [
    "iris['target'][rand_num]"
   ]
  },
  {
   "cell_type": "markdown",
   "id": "heard-closure",
   "metadata": {},
   "source": [
    "# .MAT files "
   ]
  },
  {
   "cell_type": "code",
   "execution_count": 107,
   "id": "desperate-prague",
   "metadata": {},
   "outputs": [
    {
     "name": "stdout",
     "output_type": "stream",
     "text": [
      "data.mat\r\n"
     ]
    }
   ],
   "source": [
    "! ls data.mat"
   ]
  },
  {
   "cell_type": "code",
   "execution_count": 108,
   "id": "private-milan",
   "metadata": {},
   "outputs": [],
   "source": [
    "import scipy.io"
   ]
  },
  {
   "cell_type": "code",
   "execution_count": 109,
   "id": "dutch-lightning",
   "metadata": {},
   "outputs": [],
   "source": [
    "data_dict = scipy.io.loadmat('data.mat')"
   ]
  },
  {
   "cell_type": "code",
   "execution_count": 110,
   "id": "accomplished-knight",
   "metadata": {},
   "outputs": [
    {
     "name": "stdout",
     "output_type": "stream",
     "text": [
      "<class 'dict'>\n"
     ]
    }
   ],
   "source": [
    "print(type(data_dict))"
   ]
  },
  {
   "cell_type": "code",
   "execution_count": 111,
   "id": "meaningful-retention",
   "metadata": {},
   "outputs": [
    {
     "data": {
      "text/plain": [
       "dict_keys(['__header__', '__version__', '__globals__', 'X', 'y'])"
      ]
     },
     "execution_count": 111,
     "metadata": {},
     "output_type": "execute_result"
    }
   ],
   "source": [
    "data_dict.keys()"
   ]
  },
  {
   "cell_type": "code",
   "execution_count": 112,
   "id": "christian-disco",
   "metadata": {},
   "outputs": [
    {
     "data": {
      "text/plain": [
       "(32, 32, 3, 26032)"
      ]
     },
     "execution_count": 112,
     "metadata": {},
     "output_type": "execute_result"
    }
   ],
   "source": [
    "data_dict['X'].shape"
   ]
  },
  {
   "cell_type": "markdown",
   "id": "fancy-problem",
   "metadata": {},
   "source": [
    "## Python and operating system"
   ]
  },
  {
   "cell_type": "code",
   "execution_count": 113,
   "id": "banner-perspective",
   "metadata": {},
   "outputs": [
    {
     "name": "stdout",
     "output_type": "stream",
     "text": [
      "100080576_f52e8ee070_n.jpg    105806915_a9c13e2106_n.jpg\r\n",
      "10140303196_b88d3d6cec.jpg    10712722853_5632165b04.jpg\r\n",
      "10172379554_b296050f82_n.jpg  107592979_aaa9cdfe78_m.jpg\r\n",
      "10172567486_2748826a8b.jpg    10770585085_4742b9dac3_n.jpg\r\n",
      "10172636503_21bededa75_n.jpg  10841136265_af473efc60.jpg\r\n",
      "102841525_bd6628ae3c.jpg      10993710036_2033222c91.jpg\r\n",
      "1031799732_e7f4008c03.jpg     10993818044_4c19b86c82.jpg\r\n",
      "10391248763_1d16681106_n.jpg  10994032453_ac7f8d9e2e.jpg\r\n",
      "10437754174_22ec990b77_m.jpg  11023214096_b5b39fab08.jpg\r\n",
      "10437770546_8bb6f7bdd3_m.jpg  11023272144_fce94401f2_m.jpg\r\n",
      "10437929963_bc13eebe0c.jpg    F0000MTH.CSV\r\n",
      "10466290366_cc72e33532.jpg    F0000TEK.JPG\r\n",
      "10466558316_a7198b87e2.jpg    F0000TEK.SET\r\n",
      "10555749515_13a12a026e.jpg    F0001MTH.CSV\r\n",
      "10555815624_dc211569b0.jpg    F0001TEK.JPG\r\n",
      "10555826524_423eb8bf71_n.jpg  F0001TEK.SET\r\n",
      "10559679065_50d2b16f6d.jpg\r\n"
     ]
    }
   ],
   "source": [
    "! ls flowers/"
   ]
  },
  {
   "cell_type": "code",
   "execution_count": 114,
   "id": "marine-sullivan",
   "metadata": {},
   "outputs": [
    {
     "name": "stdout",
     "output_type": "stream",
     "text": [
      "10994032453_ac7f8d9e2e.jpg\n",
      "10555749515_13a12a026e.jpg\n",
      "10466290366_cc72e33532.jpg\n",
      "100080576_f52e8ee070_n.jpg\n",
      "107592979_aaa9cdfe78_m.jpg\n",
      "1031799732_e7f4008c03.jpg\n",
      "10712722853_5632165b04.jpg\n",
      "10993818044_4c19b86c82.jpg\n",
      "10437929963_bc13eebe0c.jpg\n",
      "10993710036_2033222c91.jpg\n",
      "10437770546_8bb6f7bdd3_m.jpg\n",
      "105806915_a9c13e2106_n.jpg\n",
      "102841525_bd6628ae3c.jpg\n",
      "10172567486_2748826a8b.jpg\n",
      "10437754174_22ec990b77_m.jpg\n",
      "10555826524_423eb8bf71_n.jpg\n",
      "10140303196_b88d3d6cec.jpg\n",
      "10172636503_21bededa75_n.jpg\n",
      "10466558316_a7198b87e2.jpg\n",
      "10770585085_4742b9dac3_n.jpg\n",
      "11023214096_b5b39fab08.jpg\n",
      "11023272144_fce94401f2_m.jpg\n",
      "10559679065_50d2b16f6d.jpg\n",
      "10172379554_b296050f82_n.jpg\n",
      "10841136265_af473efc60.jpg\n",
      "10391248763_1d16681106_n.jpg\n",
      "10555815624_dc211569b0.jpg\n"
     ]
    }
   ],
   "source": [
    "import os, fnmatch\n",
    "\n",
    "for filename in os.listdir('flowers/'):\n",
    "    if fnmatch.fnmatch(filename,'*.jpg'):\n",
    "        print(filename)"
   ]
  },
  {
   "cell_type": "code",
   "execution_count": 115,
   "id": "thirty-commons",
   "metadata": {},
   "outputs": [
    {
     "name": "stdout",
     "output_type": "stream",
     "text": [
      "/home/michal/MEGASyncWork/Universidad_de_Antioquia/CARGAS/Carga_6_Diplomado_en_Big_Data/Materials/python_tools_quick\r\n"
     ]
    }
   ],
   "source": [
    "!pwd"
   ]
  },
  {
   "cell_type": "code",
   "execution_count": 116,
   "id": "informal-scotland",
   "metadata": {},
   "outputs": [],
   "source": [
    "df_all=pd.DataFrame()\n",
    "for dirName, dirList, fileList in os.walk('FFT'):\n",
    "    for fname in fileList:\n",
    "        if fnmatch.fnmatch(fname,'*.CSV'):\n",
    "            fullFilename = os.path.join(dirName+'/'+fname)\n",
    "            df = pd.read_csv(fullFilename,skiprows=18)\n",
    "            cols = [0,1,2,3,5]\n",
    "            df.drop(df.columns[cols], axis=1, inplace=True)\n",
    "            df_all=pd.concat([df_all,df],axis=1)"
   ]
  },
  {
   "cell_type": "code",
   "execution_count": 117,
   "id": "through-ideal",
   "metadata": {},
   "outputs": [
    {
     "data": {
      "text/html": [
       "<div>\n",
       "<style scoped>\n",
       "    .dataframe tbody tr th:only-of-type {\n",
       "        vertical-align: middle;\n",
       "    }\n",
       "\n",
       "    .dataframe tbody tr th {\n",
       "        vertical-align: top;\n",
       "    }\n",
       "\n",
       "    .dataframe thead th {\n",
       "        text-align: right;\n",
       "    }\n",
       "</style>\n",
       "<table border=\"1\" class=\"dataframe\">\n",
       "  <thead>\n",
       "    <tr style=\"text-align: right;\">\n",
       "      <th></th>\n",
       "      <th>-93.74850</th>\n",
       "      <th>-88.54850</th>\n",
       "      <th>-82.94850</th>\n",
       "      <th>-100.96910</th>\n",
       "      <th>-58.16910</th>\n",
       "      <th>-66.16910</th>\n",
       "      <th>-62.16910</th>\n",
       "      <th>-96.96910</th>\n",
       "      <th>-94.94850</th>\n",
       "      <th>-86.94850</th>\n",
       "      <th>...</th>\n",
       "      <th>-90.94850</th>\n",
       "      <th>-80.54850</th>\n",
       "      <th>-52.58970</th>\n",
       "      <th>-52.18970</th>\n",
       "      <th>-45.38970</th>\n",
       "      <th>-52.18970</th>\n",
       "      <th>-57.38970</th>\n",
       "      <th>-89.74850</th>\n",
       "      <th>-90.94850</th>\n",
       "      <th>-77.74850</th>\n",
       "    </tr>\n",
       "  </thead>\n",
       "  <tbody>\n",
       "    <tr>\n",
       "      <th>0</th>\n",
       "      <td>-94.9485</td>\n",
       "      <td>-86.1485</td>\n",
       "      <td>-84.9485</td>\n",
       "      <td>-92.9691</td>\n",
       "      <td>-58.9691</td>\n",
       "      <td>-62.5691</td>\n",
       "      <td>-55.7691</td>\n",
       "      <td>-90.9691</td>\n",
       "      <td>-86.1485</td>\n",
       "      <td>-90.9485</td>\n",
       "      <td>...</td>\n",
       "      <td>-94.9485</td>\n",
       "      <td>-81.7485</td>\n",
       "      <td>-57.3897</td>\n",
       "      <td>-54.9897</td>\n",
       "      <td>-54.5897</td>\n",
       "      <td>-53.3897</td>\n",
       "      <td>-58.1897</td>\n",
       "      <td>-82.9485</td>\n",
       "      <td>-86.9485</td>\n",
       "      <td>-83.3485</td>\n",
       "    </tr>\n",
       "    <tr>\n",
       "      <th>1</th>\n",
       "      <td>-88.9485</td>\n",
       "      <td>-84.9485</td>\n",
       "      <td>-85.7485</td>\n",
       "      <td>-91.7691</td>\n",
       "      <td>-67.7691</td>\n",
       "      <td>-66.9691</td>\n",
       "      <td>-60.5691</td>\n",
       "      <td>-89.7691</td>\n",
       "      <td>-83.7485</td>\n",
       "      <td>-87.7485</td>\n",
       "      <td>...</td>\n",
       "      <td>-89.7485</td>\n",
       "      <td>-86.9485</td>\n",
       "      <td>-55.7897</td>\n",
       "      <td>-60.9897</td>\n",
       "      <td>-52.9897</td>\n",
       "      <td>-57.7897</td>\n",
       "      <td>-58.1897</td>\n",
       "      <td>-83.7485</td>\n",
       "      <td>-86.9485</td>\n",
       "      <td>-80.5485</td>\n",
       "    </tr>\n",
       "    <tr>\n",
       "      <th>2</th>\n",
       "      <td>-85.3485</td>\n",
       "      <td>-85.7485</td>\n",
       "      <td>-79.7485</td>\n",
       "      <td>-89.3691</td>\n",
       "      <td>-71.3691</td>\n",
       "      <td>-66.9691</td>\n",
       "      <td>-57.7691</td>\n",
       "      <td>-97.7691</td>\n",
       "      <td>-86.9485</td>\n",
       "      <td>-90.9485</td>\n",
       "      <td>...</td>\n",
       "      <td>-83.7485</td>\n",
       "      <td>-91.7485</td>\n",
       "      <td>-54.9897</td>\n",
       "      <td>-52.9897</td>\n",
       "      <td>-54.9897</td>\n",
       "      <td>-57.3897</td>\n",
       "      <td>-62.9897</td>\n",
       "      <td>-84.9485</td>\n",
       "      <td>-89.7485</td>\n",
       "      <td>-93.7485</td>\n",
       "    </tr>\n",
       "    <tr>\n",
       "      <th>3</th>\n",
       "      <td>-88.9485</td>\n",
       "      <td>-90.9485</td>\n",
       "      <td>-81.7485</td>\n",
       "      <td>-88.9691</td>\n",
       "      <td>-62.1691</td>\n",
       "      <td>-59.7691</td>\n",
       "      <td>-57.3691</td>\n",
       "      <td>-92.1691</td>\n",
       "      <td>-86.9485</td>\n",
       "      <td>-88.5485</td>\n",
       "      <td>...</td>\n",
       "      <td>-86.9485</td>\n",
       "      <td>-90.9485</td>\n",
       "      <td>-55.7897</td>\n",
       "      <td>-58.9897</td>\n",
       "      <td>-46.9897</td>\n",
       "      <td>-63.7897</td>\n",
       "      <td>-53.7897</td>\n",
       "      <td>-90.9485</td>\n",
       "      <td>-86.9485</td>\n",
       "      <td>-91.7485</td>\n",
       "    </tr>\n",
       "    <tr>\n",
       "      <th>4</th>\n",
       "      <td>-87.7485</td>\n",
       "      <td>-93.7485</td>\n",
       "      <td>-86.9485</td>\n",
       "      <td>-92.9691</td>\n",
       "      <td>-63.7691</td>\n",
       "      <td>-57.7691</td>\n",
       "      <td>-65.3691</td>\n",
       "      <td>-89.7691</td>\n",
       "      <td>-83.7485</td>\n",
       "      <td>-91.3485</td>\n",
       "      <td>...</td>\n",
       "      <td>-91.7485</td>\n",
       "      <td>-81.7485</td>\n",
       "      <td>-58.9897</td>\n",
       "      <td>-49.7897</td>\n",
       "      <td>-50.9897</td>\n",
       "      <td>-56.1897</td>\n",
       "      <td>-51.3897</td>\n",
       "      <td>-83.7485</td>\n",
       "      <td>-88.5485</td>\n",
       "      <td>-82.9485</td>\n",
       "    </tr>\n",
       "  </tbody>\n",
       "</table>\n",
       "<p>5 rows × 27 columns</p>\n",
       "</div>"
      ],
      "text/plain": [
       "    -93.74850   -88.54850   -82.94850  -100.96910   -58.16910   -66.16910  \\\n",
       "0    -94.9485    -86.1485    -84.9485    -92.9691    -58.9691    -62.5691   \n",
       "1    -88.9485    -84.9485    -85.7485    -91.7691    -67.7691    -66.9691   \n",
       "2    -85.3485    -85.7485    -79.7485    -89.3691    -71.3691    -66.9691   \n",
       "3    -88.9485    -90.9485    -81.7485    -88.9691    -62.1691    -59.7691   \n",
       "4    -87.7485    -93.7485    -86.9485    -92.9691    -63.7691    -57.7691   \n",
       "\n",
       "    -62.16910   -96.96910   -94.94850   -86.94850  ...   -90.94850  \\\n",
       "0    -55.7691    -90.9691    -86.1485    -90.9485  ...    -94.9485   \n",
       "1    -60.5691    -89.7691    -83.7485    -87.7485  ...    -89.7485   \n",
       "2    -57.7691    -97.7691    -86.9485    -90.9485  ...    -83.7485   \n",
       "3    -57.3691    -92.1691    -86.9485    -88.5485  ...    -86.9485   \n",
       "4    -65.3691    -89.7691    -83.7485    -91.3485  ...    -91.7485   \n",
       "\n",
       "    -80.54850   -52.58970   -52.18970   -45.38970   -52.18970   -57.38970  \\\n",
       "0    -81.7485    -57.3897    -54.9897    -54.5897    -53.3897    -58.1897   \n",
       "1    -86.9485    -55.7897    -60.9897    -52.9897    -57.7897    -58.1897   \n",
       "2    -91.7485    -54.9897    -52.9897    -54.9897    -57.3897    -62.9897   \n",
       "3    -90.9485    -55.7897    -58.9897    -46.9897    -63.7897    -53.7897   \n",
       "4    -81.7485    -58.9897    -49.7897    -50.9897    -56.1897    -51.3897   \n",
       "\n",
       "    -89.74850   -90.94850   -77.74850  \n",
       "0    -82.9485    -86.9485    -83.3485  \n",
       "1    -83.7485    -86.9485    -80.5485  \n",
       "2    -84.9485    -89.7485    -93.7485  \n",
       "3    -90.9485    -86.9485    -91.7485  \n",
       "4    -83.7485    -88.5485    -82.9485  \n",
       "\n",
       "[5 rows x 27 columns]"
      ]
     },
     "execution_count": 117,
     "metadata": {},
     "output_type": "execute_result"
    }
   ],
   "source": [
    "df_all.head()"
   ]
  },
  {
   "cell_type": "code",
   "execution_count": 120,
   "id": "ready-story",
   "metadata": {},
   "outputs": [
    {
     "data": {
      "text/plain": [
       "27"
      ]
     },
     "execution_count": 120,
     "metadata": {},
     "output_type": "execute_result"
    }
   ],
   "source": [
    "len(df_all.columns)"
   ]
  },
  {
   "cell_type": "code",
   "execution_count": 121,
   "id": "tight-springer",
   "metadata": {},
   "outputs": [],
   "source": [
    "df_all.columns = [str(i) for i in range(len(df_all.columns))]"
   ]
  },
  {
   "cell_type": "code",
   "execution_count": 122,
   "id": "concerned-track",
   "metadata": {},
   "outputs": [
    {
     "data": {
      "text/html": [
       "<div>\n",
       "<style scoped>\n",
       "    .dataframe tbody tr th:only-of-type {\n",
       "        vertical-align: middle;\n",
       "    }\n",
       "\n",
       "    .dataframe tbody tr th {\n",
       "        vertical-align: top;\n",
       "    }\n",
       "\n",
       "    .dataframe thead th {\n",
       "        text-align: right;\n",
       "    }\n",
       "</style>\n",
       "<table border=\"1\" class=\"dataframe\">\n",
       "  <thead>\n",
       "    <tr style=\"text-align: right;\">\n",
       "      <th></th>\n",
       "      <th>0</th>\n",
       "      <th>1</th>\n",
       "      <th>2</th>\n",
       "      <th>3</th>\n",
       "      <th>4</th>\n",
       "      <th>5</th>\n",
       "      <th>6</th>\n",
       "      <th>7</th>\n",
       "      <th>8</th>\n",
       "      <th>9</th>\n",
       "      <th>...</th>\n",
       "      <th>17</th>\n",
       "      <th>18</th>\n",
       "      <th>19</th>\n",
       "      <th>20</th>\n",
       "      <th>21</th>\n",
       "      <th>22</th>\n",
       "      <th>23</th>\n",
       "      <th>24</th>\n",
       "      <th>25</th>\n",
       "      <th>26</th>\n",
       "    </tr>\n",
       "  </thead>\n",
       "  <tbody>\n",
       "    <tr>\n",
       "      <th>0</th>\n",
       "      <td>-94.9485</td>\n",
       "      <td>-86.1485</td>\n",
       "      <td>-84.9485</td>\n",
       "      <td>-92.9691</td>\n",
       "      <td>-58.9691</td>\n",
       "      <td>-62.5691</td>\n",
       "      <td>-55.7691</td>\n",
       "      <td>-90.9691</td>\n",
       "      <td>-86.1485</td>\n",
       "      <td>-90.9485</td>\n",
       "      <td>...</td>\n",
       "      <td>-94.9485</td>\n",
       "      <td>-81.7485</td>\n",
       "      <td>-57.3897</td>\n",
       "      <td>-54.9897</td>\n",
       "      <td>-54.5897</td>\n",
       "      <td>-53.3897</td>\n",
       "      <td>-58.1897</td>\n",
       "      <td>-82.9485</td>\n",
       "      <td>-86.9485</td>\n",
       "      <td>-83.3485</td>\n",
       "    </tr>\n",
       "    <tr>\n",
       "      <th>1</th>\n",
       "      <td>-88.9485</td>\n",
       "      <td>-84.9485</td>\n",
       "      <td>-85.7485</td>\n",
       "      <td>-91.7691</td>\n",
       "      <td>-67.7691</td>\n",
       "      <td>-66.9691</td>\n",
       "      <td>-60.5691</td>\n",
       "      <td>-89.7691</td>\n",
       "      <td>-83.7485</td>\n",
       "      <td>-87.7485</td>\n",
       "      <td>...</td>\n",
       "      <td>-89.7485</td>\n",
       "      <td>-86.9485</td>\n",
       "      <td>-55.7897</td>\n",
       "      <td>-60.9897</td>\n",
       "      <td>-52.9897</td>\n",
       "      <td>-57.7897</td>\n",
       "      <td>-58.1897</td>\n",
       "      <td>-83.7485</td>\n",
       "      <td>-86.9485</td>\n",
       "      <td>-80.5485</td>\n",
       "    </tr>\n",
       "    <tr>\n",
       "      <th>2</th>\n",
       "      <td>-85.3485</td>\n",
       "      <td>-85.7485</td>\n",
       "      <td>-79.7485</td>\n",
       "      <td>-89.3691</td>\n",
       "      <td>-71.3691</td>\n",
       "      <td>-66.9691</td>\n",
       "      <td>-57.7691</td>\n",
       "      <td>-97.7691</td>\n",
       "      <td>-86.9485</td>\n",
       "      <td>-90.9485</td>\n",
       "      <td>...</td>\n",
       "      <td>-83.7485</td>\n",
       "      <td>-91.7485</td>\n",
       "      <td>-54.9897</td>\n",
       "      <td>-52.9897</td>\n",
       "      <td>-54.9897</td>\n",
       "      <td>-57.3897</td>\n",
       "      <td>-62.9897</td>\n",
       "      <td>-84.9485</td>\n",
       "      <td>-89.7485</td>\n",
       "      <td>-93.7485</td>\n",
       "    </tr>\n",
       "    <tr>\n",
       "      <th>3</th>\n",
       "      <td>-88.9485</td>\n",
       "      <td>-90.9485</td>\n",
       "      <td>-81.7485</td>\n",
       "      <td>-88.9691</td>\n",
       "      <td>-62.1691</td>\n",
       "      <td>-59.7691</td>\n",
       "      <td>-57.3691</td>\n",
       "      <td>-92.1691</td>\n",
       "      <td>-86.9485</td>\n",
       "      <td>-88.5485</td>\n",
       "      <td>...</td>\n",
       "      <td>-86.9485</td>\n",
       "      <td>-90.9485</td>\n",
       "      <td>-55.7897</td>\n",
       "      <td>-58.9897</td>\n",
       "      <td>-46.9897</td>\n",
       "      <td>-63.7897</td>\n",
       "      <td>-53.7897</td>\n",
       "      <td>-90.9485</td>\n",
       "      <td>-86.9485</td>\n",
       "      <td>-91.7485</td>\n",
       "    </tr>\n",
       "    <tr>\n",
       "      <th>4</th>\n",
       "      <td>-87.7485</td>\n",
       "      <td>-93.7485</td>\n",
       "      <td>-86.9485</td>\n",
       "      <td>-92.9691</td>\n",
       "      <td>-63.7691</td>\n",
       "      <td>-57.7691</td>\n",
       "      <td>-65.3691</td>\n",
       "      <td>-89.7691</td>\n",
       "      <td>-83.7485</td>\n",
       "      <td>-91.3485</td>\n",
       "      <td>...</td>\n",
       "      <td>-91.7485</td>\n",
       "      <td>-81.7485</td>\n",
       "      <td>-58.9897</td>\n",
       "      <td>-49.7897</td>\n",
       "      <td>-50.9897</td>\n",
       "      <td>-56.1897</td>\n",
       "      <td>-51.3897</td>\n",
       "      <td>-83.7485</td>\n",
       "      <td>-88.5485</td>\n",
       "      <td>-82.9485</td>\n",
       "    </tr>\n",
       "  </tbody>\n",
       "</table>\n",
       "<p>5 rows × 27 columns</p>\n",
       "</div>"
      ],
      "text/plain": [
       "         0        1        2        3        4        5        6        7  \\\n",
       "0 -94.9485 -86.1485 -84.9485 -92.9691 -58.9691 -62.5691 -55.7691 -90.9691   \n",
       "1 -88.9485 -84.9485 -85.7485 -91.7691 -67.7691 -66.9691 -60.5691 -89.7691   \n",
       "2 -85.3485 -85.7485 -79.7485 -89.3691 -71.3691 -66.9691 -57.7691 -97.7691   \n",
       "3 -88.9485 -90.9485 -81.7485 -88.9691 -62.1691 -59.7691 -57.3691 -92.1691   \n",
       "4 -87.7485 -93.7485 -86.9485 -92.9691 -63.7691 -57.7691 -65.3691 -89.7691   \n",
       "\n",
       "         8        9  ...       17       18       19       20       21  \\\n",
       "0 -86.1485 -90.9485  ... -94.9485 -81.7485 -57.3897 -54.9897 -54.5897   \n",
       "1 -83.7485 -87.7485  ... -89.7485 -86.9485 -55.7897 -60.9897 -52.9897   \n",
       "2 -86.9485 -90.9485  ... -83.7485 -91.7485 -54.9897 -52.9897 -54.9897   \n",
       "3 -86.9485 -88.5485  ... -86.9485 -90.9485 -55.7897 -58.9897 -46.9897   \n",
       "4 -83.7485 -91.3485  ... -91.7485 -81.7485 -58.9897 -49.7897 -50.9897   \n",
       "\n",
       "        22       23       24       25       26  \n",
       "0 -53.3897 -58.1897 -82.9485 -86.9485 -83.3485  \n",
       "1 -57.7897 -58.1897 -83.7485 -86.9485 -80.5485  \n",
       "2 -57.3897 -62.9897 -84.9485 -89.7485 -93.7485  \n",
       "3 -63.7897 -53.7897 -90.9485 -86.9485 -91.7485  \n",
       "4 -56.1897 -51.3897 -83.7485 -88.5485 -82.9485  \n",
       "\n",
       "[5 rows x 27 columns]"
      ]
     },
     "execution_count": 122,
     "metadata": {},
     "output_type": "execute_result"
    }
   ],
   "source": [
    "df_all.head()"
   ]
  },
  {
   "cell_type": "code",
   "execution_count": null,
   "id": "egyptian-steam",
   "metadata": {},
   "outputs": [],
   "source": []
  }
 ],
 "metadata": {
  "kernelspec": {
   "display_name": "Python 3",
   "language": "python",
   "name": "python3"
  },
  "language_info": {
   "codemirror_mode": {
    "name": "ipython",
    "version": 3
   },
   "file_extension": ".py",
   "mimetype": "text/x-python",
   "name": "python",
   "nbconvert_exporter": "python",
   "pygments_lexer": "ipython3",
   "version": "3.7.2"
  }
 },
 "nbformat": 4,
 "nbformat_minor": 5
}
