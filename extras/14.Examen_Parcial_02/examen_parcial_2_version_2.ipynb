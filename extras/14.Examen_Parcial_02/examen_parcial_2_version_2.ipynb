{
 "cells": [
  {
   "cell_type": "markdown",
   "id": "plain-rugby",
   "metadata": {},
   "source": [
    "# Examen parcial 2 (raizes y ~interpolacion)\n",
    "* Antes de enviar el archivo, $\\textbf{reiniciar y ejecutar el kernel}$ para ver que el archivo se compila sin errores\n",
    "* enviar el archivo jupyter sin anexos antes de las 10am del 04.03.2022 a mi dirección de correo electrónico: michal.hemmerling@udea.edu.co "
   ]
  },
  {
   "cell_type": "markdown",
   "id": "usual-washer",
   "metadata": {},
   "source": [
    "# Ejercicio"
   ]
  },
  {
   "cell_type": "markdown",
   "id": "complete-chester",
   "metadata": {},
   "source": [
    "Bajo ciertas condiciones, los dispositivos ópticos como los láseres pueden mostrar un comportamiento complejo en el perfil del rayo de luz.\n",
    "\n",
    "\n",
    "<table><tr>\n",
    "<td> <img src=\"nonlinear_behaviour.png\" width=\"600\" /> </td>\n",
    "</tr></table>\n",
    " \n",
    "Para un dispositivo óptico particular que consiste en un medio no lineal dentro de una cavidad óptica, esto sólo ocurre cuando la intensidad I se encuentra dentro de un cierto rango que está dado por la ecuación: \n",
    "\n",
    "$$f(x)=(x+1)^2 - c(x-1) < 0 $$\n",
    "\n",
    "donde $x$ es la intensidad del campo eléctrico y $c$ es la fuerza de la absorción del \n",
    "medio no lineal. "
   ]
  },
  {
   "cell_type": "markdown",
   "id": "pretty-conference",
   "metadata": {},
   "source": [
    "## 1. \n",
    "Cree una función llamada `f_cost` que reciba dos parámetros (x,c) y solo devuelva la función f(x) como se mencionó anteriormente."
   ]
  },
  {
   "cell_type": "code",
   "execution_count": 1,
   "id": "valuable-august",
   "metadata": {},
   "outputs": [],
   "source": [
    "# tu codigo:\n",
    "\n"
   ]
  },
  {
   "cell_type": "markdown",
   "id": "broken-belfast",
   "metadata": {},
   "source": [
    "## 2. \n",
    "Usando funcion `f_cost` haz un gráfico con cuatro curvas para a=5,10,15,20 y con x entre -10,20 (100 puntos)\n",
    "* hacer que cada curva sea de un color diferente\n",
    "* añadir etiquetas"
   ]
  },
  {
   "cell_type": "code",
   "execution_count": 2,
   "id": "written-adrian",
   "metadata": {},
   "outputs": [],
   "source": [
    "# tu codigo:\n",
    "\n"
   ]
  },
  {
   "cell_type": "markdown",
   "id": "dietary-steel",
   "metadata": {},
   "source": [
    "## 2a. Para cual `c` esta funcion no tiene raices?"
   ]
  },
  {
   "cell_type": "code",
   "execution_count": 3,
   "id": "handy-teaching",
   "metadata": {},
   "outputs": [],
   "source": [
    "# tu respuesta\n",
    "\n"
   ]
  },
  {
   "cell_type": "markdown",
   "id": "hollywood-respondent",
   "metadata": {},
   "source": [
    "## 3. \n",
    "Cree una función llamada `root_finding()` que devuelva el valor de la raíz (si existiera) para cada parametro `c` (pense `Newton` o `bisecion`). Usando esta funcion vamos a buscar primero raiz izquierda y despues raiz derecha."
   ]
  },
  {
   "cell_type": "code",
   "execution_count": 4,
   "id": "korean-mistake",
   "metadata": {},
   "outputs": [],
   "source": [
    "# tu codigo:\n",
    "\n"
   ]
  },
  {
   "cell_type": "markdown",
   "id": "improving-vault",
   "metadata": {},
   "source": [
    "## 4a. \n",
    "Primero vamos a mirar el comportamiento de raiz de lado izquierda: Defina el vector `c_vec` que contiene 50 valores de 5 a 100. En el loop, llame a la función `root_finding()` para cada valor `c` en el vector `c_vec`. Guarda los resultados en variable `left_roots`"
   ]
  },
  {
   "cell_type": "code",
   "execution_count": 5,
   "id": "aging-binary",
   "metadata": {},
   "outputs": [],
   "source": [
    "# tu codigo:\n",
    "\n"
   ]
  },
  {
   "cell_type": "markdown",
   "id": "another-jacksonville",
   "metadata": {},
   "source": [
    "## 4b \n",
    "Hacer un gráfico de raíz izquierda vs c"
   ]
  },
  {
   "cell_type": "code",
   "execution_count": 6,
   "id": "impaired-miniature",
   "metadata": {},
   "outputs": [],
   "source": [
    "# tu codigo:\n",
    "\n"
   ]
  },
  {
   "cell_type": "markdown",
   "id": "seasonal-seafood",
   "metadata": {},
   "source": [
    "## 5a. \n",
    "Ahora vamos a mirar el comportamiento de raiz de lado derecha: Defina el vector `c_vec` que contiene 50 valores de 5 a 100. En el loop, llame a la función `root_finding()` para cada valor `c` en el vector `c_vec`. Guarda los resultados en variable `right_roots`."
   ]
  },
  {
   "cell_type": "code",
   "execution_count": 7,
   "id": "mobile-finger",
   "metadata": {},
   "outputs": [],
   "source": [
    "# tu codigo:\n",
    "\n"
   ]
  },
  {
   "cell_type": "markdown",
   "id": "direct-wrestling",
   "metadata": {},
   "source": [
    "## 5b\n",
    "* Hacer un gráfico de raíz derecha vs c"
   ]
  },
  {
   "cell_type": "code",
   "execution_count": 8,
   "id": "forty-importance",
   "metadata": {},
   "outputs": [],
   "source": [
    "# tu codigo:\n",
    "\n"
   ]
  },
  {
   "cell_type": "markdown",
   "id": "portuguese-martial",
   "metadata": {},
   "source": [
    "## 6. \n",
    "Pregunta:\n",
    "* este cierto *rango* para cual se obtiene un comportamiento complejo esta convergente o divergente cuando `c` es creciente\n",
    "* si este rango esta convergiendo, ¿a qué valor?\n",
    "* si este rango esta divergente, como esta divergente (lineal, cuadrático, diferente)"
   ]
  },
  {
   "cell_type": "code",
   "execution_count": 9,
   "id": "stretch-hypothetical",
   "metadata": {},
   "outputs": [],
   "source": [
    "# respuesta:\n",
    "#\n",
    "#\n",
    "#\n",
    "#\n",
    "#"
   ]
  },
  {
   "cell_type": "code",
   "execution_count": null,
   "id": "primary-familiar",
   "metadata": {},
   "outputs": [],
   "source": []
  }
 ],
 "metadata": {
  "kernelspec": {
   "display_name": "Python 3",
   "language": "python",
   "name": "python3"
  },
  "language_info": {
   "codemirror_mode": {
    "name": "ipython",
    "version": 3
   },
   "file_extension": ".py",
   "mimetype": "text/x-python",
   "name": "python",
   "nbconvert_exporter": "python",
   "pygments_lexer": "ipython3",
   "version": "3.7.2"
  }
 },
 "nbformat": 4,
 "nbformat_minor": 5
}
