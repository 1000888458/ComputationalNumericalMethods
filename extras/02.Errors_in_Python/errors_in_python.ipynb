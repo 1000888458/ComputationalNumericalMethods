{
 "cells": [
  {
   "cell_type": "markdown",
   "id": "outdoor-excitement",
   "metadata": {},
   "source": [
    "# Some info\n",
    "* about a visitor\n",
    "* review of what we have done so far\n",
    "  * python recap\n",
    "  * Taylor series\n",
    "  * Root finding\n",
    "* now should come interpolation (Friday)\n",
    "* small change in the program\n",
    "\n",
    "* next partial exams: \n",
    "  * root finding and interpolation\n",
    "  * numerical calculus \n",
    "  * linear algebra\n",
    "  * differential equations\n",
    "  * statistics"
   ]
  },
  {
   "cell_type": "markdown",
   "id": "unexpected-suite",
   "metadata": {},
   "source": [
    "# Programming Errors\n",
    "* Bug Errors (Bugs)\n",
    "  * syntax errors\n",
    "  * run-time errors\n",
    "  * logical errors\n",
    "  \n",
    "  \n",
    "* Numerical errors\n",
    "  * significant figures\n",
    "  * round-off Errors\n",
    "  * truncation Errors"
   ]
  },
  {
   "cell_type": "markdown",
   "id": "proper-inspection",
   "metadata": {},
   "source": [
    "## Bug Errors (Bugs)\n",
    "* ***Syntax error***: Will not compile. Compiler will help you to find it.\n",
    "e.g. writing primtf instead of printf\n",
    "* ***Run-time error***: Will compile but stop running at some point.\n",
    "e.g. division by zero or trying to read from a non-existing file.\n",
    "* ***Logical error***: Will compile and run, but the result is wrong.\n",
    "e.g. in the sin(x) example taking all the terms as positive.\n",
    "Especially the last two needs careful debugging of the program.\n"
   ]
  },
  {
   "cell_type": "markdown",
   "id": "introductory-resistance",
   "metadata": {},
   "source": []
  },
  {
   "cell_type": "markdown",
   "id": "worldwide-diploma",
   "metadata": {},
   "source": [
    "## Syntax errors\n",
    "Python doesnt know what to do with it. When the proper syntax of the language is not followed then a syntax error is thrown."
   ]
  },
  {
   "cell_type": "code",
   "execution_count": 1,
   "id": "working-malawi",
   "metadata": {},
   "outputs": [
    {
     "ename": "SyntaxError",
     "evalue": "Missing parentheses in call to 'print'. Did you mean print(\"hello\")? (<ipython-input-1-2a0eaa89f43f>, line 1)",
     "output_type": "error",
     "traceback": [
      "\u001b[0;36m  File \u001b[0;32m\"<ipython-input-1-2a0eaa89f43f>\"\u001b[0;36m, line \u001b[0;32m1\u001b[0m\n\u001b[0;31m    print \"hello\"\u001b[0m\n\u001b[0m                ^\u001b[0m\n\u001b[0;31mSyntaxError\u001b[0m\u001b[0;31m:\u001b[0m Missing parentheses in call to 'print'. Did you mean print(\"hello\")?\n"
     ]
    }
   ],
   "source": [
    "print \"hello\""
   ]
  },
  {
   "cell_type": "code",
   "execution_count": null,
   "id": "close-payroll",
   "metadata": {},
   "outputs": [],
   "source": [
    "import numpy as np\n",
    "amount =100\n",
    "if (amount<1000): #dos puntos\n",
    " mysqrt=np.sqrt(amount)\n",
    "    print(mysqrt)"
   ]
  },
  {
   "cell_type": "markdown",
   "id": "coastal-roommate",
   "metadata": {},
   "source": [
    "## Run time errors\n",
    "\n",
    "Run time errors arise when the python knows what to do with a piece of code but is unable to perform the action.Since Python is an interpreted language, these errors will not occur until the flow of control in your program reaches the line with the problem. Common example of runtime errors are using an undefined variable or mistyped the variable name.\n"
   ]
  },
  {
   "cell_type": "code",
   "execution_count": null,
   "id": "better-likelihood",
   "metadata": {},
   "outputs": [],
   "source": [
    "list=[2,3,4,7,0,9,8]\n",
    "for i in list:\n",
    "    print(i)\n",
    "    division=1/i"
   ]
  },
  {
   "cell_type": "code",
   "execution_count": null,
   "id": "quarterly-playing",
   "metadata": {},
   "outputs": [],
   "source": []
  },
  {
   "cell_type": "markdown",
   "id": "veterinary-fields",
   "metadata": {},
   "source": [
    "#### try-except for particular error"
   ]
  },
  {
   "cell_type": "code",
   "execution_count": 12,
   "id": "round-spirit",
   "metadata": {},
   "outputs": [],
   "source": [
    "def divide(a,b):\n",
    "    try:\n",
    "        result=a/b\n",
    "    except ZeroDivisionError:\n",
    "        print('Error: Division by zero')\n",
    "        result =0\n",
    "    return result    "
   ]
  },
  {
   "cell_type": "code",
   "execution_count": 13,
   "id": "precious-double",
   "metadata": {},
   "outputs": [
    {
     "name": "stdout",
     "output_type": "stream",
     "text": [
      "Error: Division by zero\n"
     ]
    },
    {
     "data": {
      "text/plain": [
       "0"
      ]
     },
     "execution_count": 13,
     "metadata": {},
     "output_type": "execute_result"
    }
   ],
   "source": [
    "divide(10,0)"
   ]
  },
  {
   "cell_type": "markdown",
   "id": "complex-course",
   "metadata": {},
   "source": [
    "#### Most common exception errors\n",
    "    SyntaxError: \t      if syntax error is encountered.\n",
    "    ZeroDivisionError: \tif division or modulo operation is zero.\n",
    "    FileNotFoundError:     if file not found"
   ]
  },
  {
   "cell_type": "markdown",
   "id": "southeast-stick",
   "metadata": {},
   "source": [
    "https://pythonbasics.org/try-except/"
   ]
  },
  {
   "cell_type": "markdown",
   "id": "later-drive",
   "metadata": {},
   "source": [
    "#### try-except for any error"
   ]
  },
  {
   "cell_type": "code",
   "execution_count": 14,
   "id": "global-territory",
   "metadata": {},
   "outputs": [],
   "source": [
    "def divide(a,b):\n",
    "    try:\n",
    "        result=a/b\n",
    "    except:\n",
    "        print('Error during execution')\n",
    "        result =0\n",
    "    return result    "
   ]
  },
  {
   "cell_type": "code",
   "execution_count": 15,
   "id": "effective-better",
   "metadata": {},
   "outputs": [
    {
     "name": "stdout",
     "output_type": "stream",
     "text": [
      "Error during execution\n"
     ]
    },
    {
     "data": {
      "text/plain": [
       "0"
      ]
     },
     "execution_count": 15,
     "metadata": {},
     "output_type": "execute_result"
    }
   ],
   "source": [
    "divide(10,0)"
   ]
  },
  {
   "cell_type": "markdown",
   "id": "quality-hazard",
   "metadata": {},
   "source": [
    "## Logical errors\n",
    "\n",
    "These are the most difficult type of error to find, because they will give unpredictable results and may crash your program. A lot of different things can happen if you have a logic error.\n",
    "\n",
    "Example: For example, perhaps you want a program to calculate the average of two numbers and get the result like this :\n"
   ]
  },
  {
   "cell_type": "code",
   "execution_count": 93,
   "id": "linear-thomson",
   "metadata": {},
   "outputs": [
    {
     "name": "stdout",
     "output_type": "stream",
     "text": [
      "3.5\n"
     ]
    }
   ],
   "source": [
    "x=2\n",
    "y=3\n",
    "average = x + y  / 2\n",
    "print(average)"
   ]
  },
  {
   "cell_type": "code",
   "execution_count": null,
   "id": "encouraging-leader",
   "metadata": {},
   "outputs": [],
   "source": []
  },
  {
   "cell_type": "markdown",
   "id": "canadian-compression",
   "metadata": {},
   "source": [
    "#### worse - incorrect code gives correct result!!!- very dangerous\n",
    "* example: Taylor series\n",
    "* el codigo va funcionar muy bien para algunos valores\n",
    "* para otros va dar resultados malos!!!"
   ]
  },
  {
   "cell_type": "code",
   "execution_count": 108,
   "id": "fallen-premiere",
   "metadata": {},
   "outputs": [],
   "source": [
    "import math\n",
    "import numpy as np\n",
    "def cos_taylor(x,k):\n",
    "    cos =0\n",
    "    for k in range(0,k+1):\n",
    "        cos+=(-1)**k*x**(2*k*k)/(math.factorial(2*k))\n",
    "    return cos    "
   ]
  },
  {
   "cell_type": "code",
   "execution_count": 109,
   "id": "sixth-salvation",
   "metadata": {},
   "outputs": [
    {
     "name": "stdout",
     "output_type": "stream",
     "text": [
      "0.98\n",
      "0.9800665778412416\n"
     ]
    }
   ],
   "source": [
    "print(cos_taylor(0.2,1))\n",
    "print(np.cos(0.2))"
   ]
  },
  {
   "cell_type": "code",
   "execution_count": 110,
   "id": "perceived-spanish",
   "metadata": {},
   "outputs": [
    {
     "name": "stdout",
     "output_type": "stream",
     "text": [
      "0.9800001066666664\n",
      "0.9800665778412416\n"
     ]
    }
   ],
   "source": [
    "print(cos_taylor(0.2,10))\n",
    "print(np.cos(0.2))"
   ]
  },
  {
   "cell_type": "markdown",
   "id": "compressed-christmas",
   "metadata": {},
   "source": [
    "#### until some different value is considered"
   ]
  },
  {
   "cell_type": "code",
   "execution_count": 111,
   "id": "dutch-acceptance",
   "metadata": {},
   "outputs": [
    {
     "name": "stdout",
     "output_type": "stream",
     "text": [
      "6.605025753757513e+41\n",
      "-0.4161468365471424\n"
     ]
    }
   ],
   "source": [
    "print(cos_taylor(2.0,10))\n",
    "print(np.cos(2.0))"
   ]
  },
  {
   "cell_type": "markdown",
   "id": "stuffed-variable",
   "metadata": {},
   "source": [
    "#### corrected code"
   ]
  },
  {
   "cell_type": "code",
   "execution_count": 112,
   "id": "affected-shape",
   "metadata": {},
   "outputs": [],
   "source": [
    "import math\n",
    "import numpy as np\n",
    "def cos_taylor(x,k):\n",
    "    cos =0\n",
    "    for k in range(0,k+1):\n",
    "        cos+=(-1)**k*x**(2*k)/(math.factorial(2*k))\n",
    "    return cos  "
   ]
  },
  {
   "cell_type": "code",
   "execution_count": 113,
   "id": "elect-scientist",
   "metadata": {},
   "outputs": [
    {
     "name": "stdout",
     "output_type": "stream",
     "text": [
      "-0.41614683654713874\n",
      "-0.4161468365471424\n"
     ]
    }
   ],
   "source": [
    "print(cos_taylor(2.0,10))\n",
    "print(np.cos(2.0))"
   ]
  },
  {
   "cell_type": "markdown",
   "id": "historical-transition",
   "metadata": {},
   "source": [
    "# Numerical errors"
   ]
  },
  {
   "cell_type": "markdown",
   "id": "double-procedure",
   "metadata": {},
   "source": [
    "## Significant figures\n",
    "* precision of the calculations will depend on the number of digits of the floats\n",
    "* g=9.819\n",
    "* g=9.82\n",
    "* g=9.8\n",
    "* g=10.0"
   ]
  },
  {
   "cell_type": "markdown",
   "id": "twelve-prior",
   "metadata": {},
   "source": [
    "### Round-off Errors"
   ]
  },
  {
   "cell_type": "markdown",
   "id": "coordinated-entity",
   "metadata": {},
   "source": [
    "#### comparing floats"
   ]
  },
  {
   "cell_type": "code",
   "execution_count": 114,
   "id": "featured-plymouth",
   "metadata": {},
   "outputs": [
    {
     "data": {
      "text/plain": [
       "False"
      ]
     },
     "execution_count": 114,
     "metadata": {},
     "output_type": "execute_result"
    }
   ],
   "source": [
    "0.1==0.11"
   ]
  },
  {
   "cell_type": "code",
   "execution_count": 115,
   "id": "aging-pillow",
   "metadata": {},
   "outputs": [
    {
     "data": {
      "text/plain": [
       "True"
      ]
     },
     "execution_count": 115,
     "metadata": {},
     "output_type": "execute_result"
    }
   ],
   "source": [
    "0.1==0.10000000000000001"
   ]
  },
  {
   "cell_type": "code",
   "execution_count": 116,
   "id": "heavy-haiti",
   "metadata": {},
   "outputs": [
    {
     "data": {
      "text/plain": [
       "False"
      ]
     },
     "execution_count": 116,
     "metadata": {},
     "output_type": "execute_result"
    }
   ],
   "source": [
    "0.1+0.1+0.1==0.3"
   ]
  },
  {
   "cell_type": "code",
   "execution_count": null,
   "id": "realistic-canada",
   "metadata": {},
   "outputs": [],
   "source": []
  },
  {
   "cell_type": "markdown",
   "id": "crazy-repair",
   "metadata": {},
   "source": [
    "#### computer precision: 1/3"
   ]
  },
  {
   "cell_type": "code",
   "execution_count": 117,
   "id": "dress-utilization",
   "metadata": {},
   "outputs": [
    {
     "data": {
      "text/plain": [
       "0.3"
      ]
     },
     "execution_count": 117,
     "metadata": {},
     "output_type": "execute_result"
    }
   ],
   "source": [
    "0.3"
   ]
  },
  {
   "cell_type": "code",
   "execution_count": 118,
   "id": "attached-profit",
   "metadata": {},
   "outputs": [
    {
     "data": {
      "text/plain": [
       "0.33"
      ]
     },
     "execution_count": 118,
     "metadata": {},
     "output_type": "execute_result"
    }
   ],
   "source": [
    "0.33"
   ]
  },
  {
   "cell_type": "code",
   "execution_count": 119,
   "id": "hungarian-birmingham",
   "metadata": {},
   "outputs": [
    {
     "data": {
      "text/plain": [
       "0.33333"
      ]
     },
     "execution_count": 119,
     "metadata": {},
     "output_type": "execute_result"
    }
   ],
   "source": [
    "0.33333"
   ]
  },
  {
   "cell_type": "markdown",
   "id": "anonymous-quebec",
   "metadata": {},
   "source": [
    " No matter how many digits you’re willing to write down, the result will never be exactly 1/3, but will be an increasingly better approximation of 1/3"
   ]
  },
  {
   "cell_type": "markdown",
   "id": "precious-break",
   "metadata": {},
   "source": [
    "We all work with approximate numbers. Another example lets look at $0.1$"
   ]
  },
  {
   "cell_type": "code",
   "execution_count": 120,
   "id": "confirmed-degree",
   "metadata": {},
   "outputs": [
    {
     "data": {
      "text/plain": [
       "0.1"
      ]
     },
     "execution_count": 120,
     "metadata": {},
     "output_type": "execute_result"
    }
   ],
   "source": [
    "0.1"
   ]
  },
  {
   "cell_type": "markdown",
   "id": "pressed-oxygen",
   "metadata": {},
   "source": [
    "Many users are not aware of the approximation because of the way values are displayed. Python only prints a decimal approximation to the true decimal value of the binary approximation stored by the machine. On most machines, if Python were to print the true decimal value of the binary approximation stored for 0.1, it would have to display"
   ]
  },
  {
   "cell_type": "code",
   "execution_count": 121,
   "id": "cleared-bathroom",
   "metadata": {},
   "outputs": [],
   "source": [
    "#0.1000000000000000055511151231257827021181583404541015625"
   ]
  },
  {
   "cell_type": "code",
   "execution_count": 122,
   "id": "fatal-lexington",
   "metadata": {},
   "outputs": [
    {
     "data": {
      "text/plain": [
       "Decimal('0.1000000000000000055511151231257827021181583404541015625')"
      ]
     },
     "execution_count": 122,
     "metadata": {},
     "output_type": "execute_result"
    }
   ],
   "source": [
    "from decimal import Decimal\n",
    "Decimal(0.1)"
   ]
  },
  {
   "cell_type": "code",
   "execution_count": 123,
   "id": "architectural-cardiff",
   "metadata": {},
   "outputs": [
    {
     "data": {
      "text/plain": [
       "False"
      ]
     },
     "execution_count": 123,
     "metadata": {},
     "output_type": "execute_result"
    }
   ],
   "source": [
    "0.1+0.1+0.1==0.3"
   ]
  },
  {
   "cell_type": "code",
   "execution_count": 124,
   "id": "impaired-protein",
   "metadata": {},
   "outputs": [
    {
     "name": "stdout",
     "output_type": "stream",
     "text": [
      "a is:0.10000000000000000555\n"
     ]
    }
   ],
   "source": [
    "print(f\"a is:{0.1:.20f}\")"
   ]
  },
  {
   "cell_type": "code",
   "execution_count": 125,
   "id": "baking-consolidation",
   "metadata": {},
   "outputs": [
    {
     "name": "stdout",
     "output_type": "stream",
     "text": [
      "a is:0.30000000000000004441\n"
     ]
    }
   ],
   "source": [
    "print(f\"a is:{0.1+0.1+0.1:.20f}\")"
   ]
  },
  {
   "cell_type": "code",
   "execution_count": 126,
   "id": "cultural-virginia",
   "metadata": {},
   "outputs": [
    {
     "name": "stdout",
     "output_type": "stream",
     "text": [
      "a is:0.29999999999999998890\n"
     ]
    }
   ],
   "source": [
    "print(f\"a is:{0.3:.20f}\")"
   ]
  },
  {
   "cell_type": "code",
   "execution_count": 127,
   "id": "noted-refund",
   "metadata": {},
   "outputs": [],
   "source": [
    "c=round(0.1,1)"
   ]
  },
  {
   "cell_type": "code",
   "execution_count": 128,
   "id": "scenic-problem",
   "metadata": {},
   "outputs": [
    {
     "name": "stdout",
     "output_type": "stream",
     "text": [
      "c is:0.10000000000000000555\n"
     ]
    }
   ],
   "source": [
    "print(f\"c is:{c:.20f}\")"
   ]
  },
  {
   "cell_type": "code",
   "execution_count": 129,
   "id": "complex-favor",
   "metadata": {},
   "outputs": [
    {
     "data": {
      "text/plain": [
       "False"
      ]
     },
     "execution_count": 129,
     "metadata": {},
     "output_type": "execute_result"
    }
   ],
   "source": []
  },
  {
   "cell_type": "code",
   "execution_count": null,
   "id": "circular-mobility",
   "metadata": {},
   "outputs": [],
   "source": []
  },
  {
   "cell_type": "markdown",
   "id": "ceramic-politics",
   "metadata": {},
   "source": [
    "Also, since the 0.1 cannot get any closer to the exact value of 1/10 and 0.3 cannot get any closer to the exact value of 3/10, then pre-rounding with round() function cannot help:"
   ]
  },
  {
   "cell_type": "code",
   "execution_count": 139,
   "id": "opposite-protection",
   "metadata": {},
   "outputs": [
    {
     "data": {
      "text/plain": [
       "False"
      ]
     },
     "execution_count": 139,
     "metadata": {},
     "output_type": "execute_result"
    }
   ],
   "source": [
    "round(0.1,1)+round(0.1,1)+round(0.1,1)==round(0.3,1)"
   ]
  },
  {
   "cell_type": "code",
   "execution_count": 140,
   "id": "impossible-siemens",
   "metadata": {},
   "outputs": [
    {
     "data": {
      "text/plain": [
       "False"
      ]
     },
     "execution_count": 140,
     "metadata": {},
     "output_type": "execute_result"
    }
   ],
   "source": [
    "round(0.1,10)+round(0.1,10)+round(0.1,10)==round(0.3,10)"
   ]
  },
  {
   "cell_type": "markdown",
   "id": "cosmetic-assessment",
   "metadata": {},
   "source": [
    "##### How to properly compare floats:"
   ]
  },
  {
   "cell_type": "markdown",
   "id": "unnecessary-christianity",
   "metadata": {},
   "source": [
    "##### method 1 (round to the same number of digits)"
   ]
  },
  {
   "cell_type": "code",
   "execution_count": 136,
   "id": "convinced-bacon",
   "metadata": {},
   "outputs": [
    {
     "data": {
      "text/plain": [
       "True"
      ]
     },
     "execution_count": 136,
     "metadata": {},
     "output_type": "execute_result"
    }
   ],
   "source": [
    "round(0.1+0.1+0.1,10)==round(0.3,10)"
   ]
  },
  {
   "cell_type": "markdown",
   "id": "international-greek",
   "metadata": {},
   "source": [
    "##### method 2 (set the tolerance)"
   ]
  },
  {
   "cell_type": "code",
   "execution_count": 132,
   "id": "aggressive-turner",
   "metadata": {},
   "outputs": [],
   "source": [
    "def compareFloars(a,b):\n",
    "    tol=1e-20\n",
    "    if abs(a-b)<tol:\n",
    "        print('floats are equal')\n",
    "    else:\n",
    "        print('floats are not equal')\n",
    "        "
   ]
  },
  {
   "cell_type": "code",
   "execution_count": 133,
   "id": "aging-fetish",
   "metadata": {},
   "outputs": [
    {
     "name": "stdout",
     "output_type": "stream",
     "text": [
      "floats are not equal\n"
     ]
    }
   ],
   "source": [
    "a=0.1+0.1+0.1\n",
    "b=0.3\n",
    "compareFloars(a,b)"
   ]
  },
  {
   "cell_type": "markdown",
   "id": "reverse-regulation",
   "metadata": {},
   "source": [
    "## Truncation Errors\n",
    "* Due to the use of an approximation in place of an exact mathematical procedure.\n",
    "* For example, calculating sine of a number using finite number of terms from the infinite series will result in truncation error."
   ]
  },
  {
   "cell_type": "code",
   "execution_count": 134,
   "id": "assumed-ready",
   "metadata": {},
   "outputs": [],
   "source": [
    "import math\n",
    "import numpy as np\n",
    "def cos_taylor(x,k):\n",
    "    cos =0\n",
    "    for k in range(0,k+1):\n",
    "        cos+=(-1)**k*x**(2*k)/(math.factorial(2*k))\n",
    "    return cos    "
   ]
  },
  {
   "cell_type": "code",
   "execution_count": 79,
   "id": "widespread-grammar",
   "metadata": {},
   "outputs": [
    {
     "name": "stdout",
     "output_type": "stream",
     "text": [
      "0.9800665778412416\n",
      "1.0\n",
      "0.98\n",
      "0.9800666666666666\n",
      "0.9800665778412416\n",
      "0.9800665778412416\n"
     ]
    }
   ],
   "source": [
    "print(np.cos(0.2))\n",
    "print(cos_taylor(0.2,0))\n",
    "print(cos_taylor(0.2,1))\n",
    "print(cos_taylor(0.2,2))\n",
    "print(cos_taylor(0.2,10))\n",
    "print(np.cos(0.2))"
   ]
  },
  {
   "cell_type": "markdown",
   "id": "judicial-macro",
   "metadata": {},
   "source": [
    "# Accuracy and Precision\n",
    "* Accuracy: How closely a computed or measured value agrees with the true value. (exactitud)\n",
    "* Precision: How closely computed or measured values agree with each other.\n",
    "\n",
    "Example: We measure the centerline velocity of a flow in a pipe as follows.\n",
    "(actual velocity is 10.0 m/s)\n",
    "* Measurement set 1: 9.9 9.8 10.1 10.0 9.9 10.2 (accurate and precise)\n",
    "* Measurement set 2: 7.3 7.5 7.1 7.2 7.3 7.1\n",
    " (precise but inaccurate)\n",
    "* Measurement set 3: 6.4 11.2 10.4 5.5 11.5 9.5 (inaccurate and imprecise)\n"
   ]
  },
  {
   "cell_type": "markdown",
   "id": "powerful-physiology",
   "metadata": {},
   "source": [
    "## Hints About Programming\n",
    "* Clarity \n",
    "  * put header (author, date, version, purpose, variable definitions, etc.)\n",
    "  * put comments to explain variables, purpose of code segments, etc.\n",
    "* Testing \n",
    "  * run with typical data\n",
    "  * run with unusual but valid data\n",
    "  * run with invalid data to check error handling\n"
   ]
  },
  {
   "cell_type": "markdown",
   "id": "verified-festival",
   "metadata": {},
   "source": [
    "# Programming Errors\n",
    "* Bug Errors (Bugs)\n",
    "  * syntax errors (read the message from the compiler)\n",
    "  * run-time errors (use try:except)\n",
    "  * logical errors (run with unusual but valid data, read carefully the code, compare with books)\n",
    "  \n",
    "\n",
    "* Numerical errors\n",
    "  * significant figures \n",
    "  * round-off Errors\n",
    "  * truncation Errors"
   ]
  },
  {
   "cell_type": "code",
   "execution_count": null,
   "id": "temporal-border",
   "metadata": {},
   "outputs": [],
   "source": []
  }
 ],
 "metadata": {
  "kernelspec": {
   "display_name": "Python 3",
   "language": "python",
   "name": "python3"
  },
  "language_info": {
   "codemirror_mode": {
    "name": "ipython",
    "version": 3
   },
   "file_extension": ".py",
   "mimetype": "text/x-python",
   "name": "python",
   "nbconvert_exporter": "python",
   "pygments_lexer": "ipython3",
   "version": "3.7.2"
  }
 },
 "nbformat": 4,
 "nbformat_minor": 5
}
