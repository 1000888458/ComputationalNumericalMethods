{
 "cells": [
  {
   "cell_type": "markdown",
   "id": "adolescent-sally",
   "metadata": {},
   "source": [
    "## Exercise 2: Lists"
   ]
  },
  {
   "cell_type": "markdown",
   "id": "prime-undergraduate",
   "metadata": {},
   "source": [
    "### Este codigo abajo importa un libro entero a un string que se llama \"book\""
   ]
  },
  {
   "cell_type": "code",
   "execution_count": 2,
   "id": "documentary-museum",
   "metadata": {},
   "outputs": [
    {
     "data": {
      "text/plain": [
       "10396"
      ]
     },
     "execution_count": 2,
     "metadata": {},
     "output_type": "execute_result"
    }
   ],
   "source": [
    "## Challange:\n",
    "## List comprehenions are not necessary for this challenge\n",
    "\n",
    "from urllib.request import urlopen\n",
    "response = urlopen('https://www.gutenberg.org/files/74/74-0.txt')\n",
    "book = str(response.read())\n",
    "book.find('HARTFORD, 1876.')"
   ]
  },
  {
   "cell_type": "code",
   "execution_count": 3,
   "id": "metropolitan-magazine",
   "metadata": {},
   "outputs": [
    {
     "name": "stdout",
     "output_type": "stream",
     "text": [
      "510671\n"
     ]
    }
   ],
   "source": [
    "print(len(book))"
   ]
  },
  {
   "cell_type": "code",
   "execution_count": 6,
   "id": "adaptive-elder",
   "metadata": {},
   "outputs": [
    {
     "name": "stdout",
     "output_type": "stream",
     "text": [
      "HARTFORD, 1876.\\r\\n\\r\\n\\r\\n\\r\\n\\r\\nCHAPTER I\\r\\n\\r\\n\\r\\n\\xe2\\x80\\x9cTOM!\\xe2\\x80\\x9d\\r\\n\\r\\nNo answer.\\r\\n\\r\\n\\xe2\\x80\\x9cTOM!\\xe2\\x80\\x9d\\r\\n\\r\\nNo answer.\\r\\n\\r\\n\\xe2\\x80\\x9cWhat\\xe2\\x80\\x99s gone with that boy, I wonder? You TOM!\\xe2\\x80\\x9d\\r\\n\\r\\nNo answer.\\r\\n\\r\\nThe old lady pulled her spectacles down and looked over them about the\\r\\nroom; then she put them up and looked out under them. She seldom or\\r\\nnever looked _through_ them for so small a thing as a boy; they were\\r\\nher state pair, the pride of her heart, and were built for \\xe2\\x80\\x9cstyle,\\xe2\\x80\\x9d not\\r\\nservice\\xe2\\x80\\x94s\n"
     ]
    }
   ],
   "source": [
    "print(book[10396:11000])"
   ]
  },
  {
   "cell_type": "markdown",
   "id": "continuing-metabolism",
   "metadata": {},
   "source": [
    "### Siguiendo el material de la clase pasada hacer un plot de occurencia de un caracter (Jim o Tom o Huck) de libro atraves de los capitulos\n"
   ]
  }
 ],
 "metadata": {
  "kernelspec": {
   "display_name": "Python 3",
   "language": "python",
   "name": "python3"
  },
  "language_info": {
   "codemirror_mode": {
    "name": "ipython",
    "version": 3
   },
   "file_extension": ".py",
   "mimetype": "text/x-python",
   "name": "python",
   "nbconvert_exporter": "python",
   "pygments_lexer": "ipython3",
   "version": "3.7.2"
  }
 },
 "nbformat": 4,
 "nbformat_minor": 5
}
