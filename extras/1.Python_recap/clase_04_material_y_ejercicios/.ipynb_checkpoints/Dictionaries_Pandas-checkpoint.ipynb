{
 "cells": [
  {
   "cell_type": "code",
   "execution_count": 1,
   "id": "ordinary-height",
   "metadata": {},
   "outputs": [
    {
     "name": "stdout",
     "output_type": "stream",
     "text": [
      "Dictionaries_Pandas.ipynb\r\n"
     ]
    }
   ],
   "source": [
    "!ls"
   ]
  },
  {
   "cell_type": "markdown",
   "id": "lined-pakistan",
   "metadata": {},
   "source": [
    "## Dictionary to Pandas, method 1"
   ]
  },
  {
   "cell_type": "code",
   "execution_count": 2,
   "id": "elegant-workplace",
   "metadata": {},
   "outputs": [],
   "source": [
    "dict_1={'a':0,'b':1,'c':2,'d':3}\n",
    "# dicionarion tiene llaves y valores\n",
    "# llaves son 'a','b'...\n",
    "# valores son 0,1,..."
   ]
  },
  {
   "cell_type": "code",
   "execution_count": 3,
   "id": "significant-jenny",
   "metadata": {},
   "outputs": [
    {
     "data": {
      "text/plain": [
       "3"
      ]
     },
     "execution_count": 3,
     "metadata": {},
     "output_type": "execute_result"
    }
   ],
   "source": [
    "dict_1['d']"
   ]
  },
  {
   "cell_type": "code",
   "execution_count": 4,
   "id": "fitted-ecuador",
   "metadata": {},
   "outputs": [],
   "source": [
    "dict_2={0:'apple',1:'banana',2:'mango'}"
   ]
  },
  {
   "cell_type": "code",
   "execution_count": 5,
   "id": "academic-trash",
   "metadata": {},
   "outputs": [
    {
     "data": {
      "text/plain": [
       "'mango'"
      ]
     },
     "execution_count": 5,
     "metadata": {},
     "output_type": "execute_result"
    }
   ],
   "source": [
    "dict_2[2]"
   ]
  },
  {
   "cell_type": "code",
   "execution_count": 6,
   "id": "single-multiple",
   "metadata": {},
   "outputs": [],
   "source": [
    "import pandas as pd"
   ]
  },
  {
   "cell_type": "code",
   "execution_count": 7,
   "id": "retained-habitat",
   "metadata": {},
   "outputs": [
    {
     "data": {
      "text/html": [
       "<div>\n",
       "<style scoped>\n",
       "    .dataframe tbody tr th:only-of-type {\n",
       "        vertical-align: middle;\n",
       "    }\n",
       "\n",
       "    .dataframe tbody tr th {\n",
       "        vertical-align: top;\n",
       "    }\n",
       "\n",
       "    .dataframe thead th {\n",
       "        text-align: right;\n",
       "    }\n",
       "</style>\n",
       "<table border=\"1\" class=\"dataframe\">\n",
       "  <thead>\n",
       "    <tr style=\"text-align: right;\">\n",
       "      <th></th>\n",
       "      <th>a</th>\n",
       "      <th>b</th>\n",
       "      <th>c</th>\n",
       "      <th>d</th>\n",
       "    </tr>\n",
       "  </thead>\n",
       "  <tbody>\n",
       "    <tr>\n",
       "      <th>0</th>\n",
       "      <td>0</td>\n",
       "      <td>1</td>\n",
       "      <td>2</td>\n",
       "      <td>3</td>\n",
       "    </tr>\n",
       "  </tbody>\n",
       "</table>\n",
       "</div>"
      ],
      "text/plain": [
       "   a  b  c  d\n",
       "0  0  1  2  3"
      ]
     },
     "execution_count": 7,
     "metadata": {},
     "output_type": "execute_result"
    }
   ],
   "source": [
    "df=pd.DataFrame([dict_1])\n",
    "df.head()"
   ]
  },
  {
   "cell_type": "code",
   "execution_count": 8,
   "id": "vital-apparatus",
   "metadata": {},
   "outputs": [],
   "source": [
    "import numpy as np\n",
    "x=np.linspace(-np.pi,np.pi,100)\n",
    "y1=np.sin(x)\n",
    "y2=np.cos(x)\n"
   ]
  },
  {
   "cell_type": "code",
   "execution_count": 9,
   "id": "cooperative-carpet",
   "metadata": {},
   "outputs": [],
   "source": [
    "my_dict={'xvalues':x,'y1values': y1,'y2values':y2}"
   ]
  },
  {
   "cell_type": "code",
   "execution_count": 10,
   "id": "hazardous-topic",
   "metadata": {},
   "outputs": [],
   "source": [
    "df2=pd.DataFrame(my_dict)"
   ]
  },
  {
   "cell_type": "code",
   "execution_count": 11,
   "id": "technical-savings",
   "metadata": {},
   "outputs": [
    {
     "data": {
      "text/html": [
       "<div>\n",
       "<style scoped>\n",
       "    .dataframe tbody tr th:only-of-type {\n",
       "        vertical-align: middle;\n",
       "    }\n",
       "\n",
       "    .dataframe tbody tr th {\n",
       "        vertical-align: top;\n",
       "    }\n",
       "\n",
       "    .dataframe thead th {\n",
       "        text-align: right;\n",
       "    }\n",
       "</style>\n",
       "<table border=\"1\" class=\"dataframe\">\n",
       "  <thead>\n",
       "    <tr style=\"text-align: right;\">\n",
       "      <th></th>\n",
       "      <th>xvalues</th>\n",
       "      <th>y1values</th>\n",
       "      <th>y2values</th>\n",
       "    </tr>\n",
       "  </thead>\n",
       "  <tbody>\n",
       "    <tr>\n",
       "      <th>0</th>\n",
       "      <td>-3.141593</td>\n",
       "      <td>-1.224647e-16</td>\n",
       "      <td>-1.000000</td>\n",
       "    </tr>\n",
       "    <tr>\n",
       "      <th>1</th>\n",
       "      <td>-3.078126</td>\n",
       "      <td>-6.342392e-02</td>\n",
       "      <td>-0.997987</td>\n",
       "    </tr>\n",
       "    <tr>\n",
       "      <th>2</th>\n",
       "      <td>-3.014660</td>\n",
       "      <td>-1.265925e-01</td>\n",
       "      <td>-0.991955</td>\n",
       "    </tr>\n",
       "    <tr>\n",
       "      <th>3</th>\n",
       "      <td>-2.951193</td>\n",
       "      <td>-1.892512e-01</td>\n",
       "      <td>-0.981929</td>\n",
       "    </tr>\n",
       "    <tr>\n",
       "      <th>4</th>\n",
       "      <td>-2.887727</td>\n",
       "      <td>-2.511480e-01</td>\n",
       "      <td>-0.967949</td>\n",
       "    </tr>\n",
       "  </tbody>\n",
       "</table>\n",
       "</div>"
      ],
      "text/plain": [
       "    xvalues      y1values  y2values\n",
       "0 -3.141593 -1.224647e-16 -1.000000\n",
       "1 -3.078126 -6.342392e-02 -0.997987\n",
       "2 -3.014660 -1.265925e-01 -0.991955\n",
       "3 -2.951193 -1.892512e-01 -0.981929\n",
       "4 -2.887727 -2.511480e-01 -0.967949"
      ]
     },
     "execution_count": 11,
     "metadata": {},
     "output_type": "execute_result"
    }
   ],
   "source": [
    "df2.head()"
   ]
  },
  {
   "cell_type": "markdown",
   "id": "macro-annual",
   "metadata": {},
   "source": [
    "## Dictionary to Pandas, method 2"
   ]
  },
  {
   "cell_type": "code",
   "execution_count": 12,
   "id": "liquid-usage",
   "metadata": {},
   "outputs": [
    {
     "name": "stdout",
     "output_type": "stream",
     "text": [
      "<class 'list'>\n",
      "<class 'list'>\n"
     ]
    }
   ],
   "source": [
    "keys   = ['a','b','c','d','e']\n",
    "values = [0  ,1 ,  2,  3 ,4]\n",
    "print(type(keys))\n",
    "print(type(values))"
   ]
  },
  {
   "cell_type": "code",
   "execution_count": 13,
   "id": "systematic-truck",
   "metadata": {},
   "outputs": [],
   "source": [
    "my_dict_2 = dict(zip(keys,values))"
   ]
  },
  {
   "cell_type": "code",
   "execution_count": 14,
   "id": "thermal-contributor",
   "metadata": {},
   "outputs": [
    {
     "data": {
      "text/plain": [
       "{'a': 0, 'b': 1, 'c': 2, 'd': 3, 'e': 4}"
      ]
     },
     "execution_count": 14,
     "metadata": {},
     "output_type": "execute_result"
    }
   ],
   "source": [
    "my_dict_2"
   ]
  },
  {
   "cell_type": "code",
   "execution_count": 15,
   "id": "champion-cooling",
   "metadata": {},
   "outputs": [
    {
     "data": {
      "text/html": [
       "<div>\n",
       "<style scoped>\n",
       "    .dataframe tbody tr th:only-of-type {\n",
       "        vertical-align: middle;\n",
       "    }\n",
       "\n",
       "    .dataframe tbody tr th {\n",
       "        vertical-align: top;\n",
       "    }\n",
       "\n",
       "    .dataframe thead th {\n",
       "        text-align: right;\n",
       "    }\n",
       "</style>\n",
       "<table border=\"1\" class=\"dataframe\">\n",
       "  <thead>\n",
       "    <tr style=\"text-align: right;\">\n",
       "      <th></th>\n",
       "      <th>a</th>\n",
       "      <th>b</th>\n",
       "      <th>c</th>\n",
       "      <th>d</th>\n",
       "      <th>e</th>\n",
       "    </tr>\n",
       "  </thead>\n",
       "  <tbody>\n",
       "    <tr>\n",
       "      <th>0</th>\n",
       "      <td>0</td>\n",
       "      <td>1</td>\n",
       "      <td>2</td>\n",
       "      <td>3</td>\n",
       "      <td>4</td>\n",
       "    </tr>\n",
       "  </tbody>\n",
       "</table>\n",
       "</div>"
      ],
      "text/plain": [
       "   a  b  c  d  e\n",
       "0  0  1  2  3  4"
      ]
     },
     "execution_count": 15,
     "metadata": {},
     "output_type": "execute_result"
    }
   ],
   "source": [
    "df=pd.DataFrame([my_dict_2])\n",
    "df.head()"
   ]
  },
  {
   "cell_type": "code",
   "execution_count": 16,
   "id": "architectural-stations",
   "metadata": {},
   "outputs": [],
   "source": [
    "x=np.linspace(-np.pi,np.pi,100)\n",
    "y1=np.sin(x)\n",
    "y2=np.cos(x)"
   ]
  },
  {
   "cell_type": "code",
   "execution_count": 17,
   "id": "middle-creativity",
   "metadata": {},
   "outputs": [],
   "source": [
    "colnames=['xvalues','y1values','y2values']\n",
    "my_dict_4 = dict(zip(colnames,[x,y1,y2]))"
   ]
  },
  {
   "cell_type": "code",
   "execution_count": 18,
   "id": "quantitative-setup",
   "metadata": {},
   "outputs": [
    {
     "data": {
      "text/html": [
       "<div>\n",
       "<style scoped>\n",
       "    .dataframe tbody tr th:only-of-type {\n",
       "        vertical-align: middle;\n",
       "    }\n",
       "\n",
       "    .dataframe tbody tr th {\n",
       "        vertical-align: top;\n",
       "    }\n",
       "\n",
       "    .dataframe thead th {\n",
       "        text-align: right;\n",
       "    }\n",
       "</style>\n",
       "<table border=\"1\" class=\"dataframe\">\n",
       "  <thead>\n",
       "    <tr style=\"text-align: right;\">\n",
       "      <th></th>\n",
       "      <th>xvalues</th>\n",
       "      <th>y1values</th>\n",
       "      <th>y2values</th>\n",
       "    </tr>\n",
       "  </thead>\n",
       "  <tbody>\n",
       "    <tr>\n",
       "      <th>0</th>\n",
       "      <td>-3.141593</td>\n",
       "      <td>-1.224647e-16</td>\n",
       "      <td>-1.000000</td>\n",
       "    </tr>\n",
       "    <tr>\n",
       "      <th>1</th>\n",
       "      <td>-3.078126</td>\n",
       "      <td>-6.342392e-02</td>\n",
       "      <td>-0.997987</td>\n",
       "    </tr>\n",
       "    <tr>\n",
       "      <th>2</th>\n",
       "      <td>-3.014660</td>\n",
       "      <td>-1.265925e-01</td>\n",
       "      <td>-0.991955</td>\n",
       "    </tr>\n",
       "    <tr>\n",
       "      <th>3</th>\n",
       "      <td>-2.951193</td>\n",
       "      <td>-1.892512e-01</td>\n",
       "      <td>-0.981929</td>\n",
       "    </tr>\n",
       "    <tr>\n",
       "      <th>4</th>\n",
       "      <td>-2.887727</td>\n",
       "      <td>-2.511480e-01</td>\n",
       "      <td>-0.967949</td>\n",
       "    </tr>\n",
       "    <tr>\n",
       "      <th>5</th>\n",
       "      <td>-2.824260</td>\n",
       "      <td>-3.120334e-01</td>\n",
       "      <td>-0.950071</td>\n",
       "    </tr>\n",
       "    <tr>\n",
       "      <th>6</th>\n",
       "      <td>-2.760794</td>\n",
       "      <td>-3.716625e-01</td>\n",
       "      <td>-0.928368</td>\n",
       "    </tr>\n",
       "    <tr>\n",
       "      <th>7</th>\n",
       "      <td>-2.697327</td>\n",
       "      <td>-4.297949e-01</td>\n",
       "      <td>-0.902927</td>\n",
       "    </tr>\n",
       "    <tr>\n",
       "      <th>8</th>\n",
       "      <td>-2.633861</td>\n",
       "      <td>-4.861967e-01</td>\n",
       "      <td>-0.873849</td>\n",
       "    </tr>\n",
       "    <tr>\n",
       "      <th>9</th>\n",
       "      <td>-2.570394</td>\n",
       "      <td>-5.406408e-01</td>\n",
       "      <td>-0.841254</td>\n",
       "    </tr>\n",
       "  </tbody>\n",
       "</table>\n",
       "</div>"
      ],
      "text/plain": [
       "    xvalues      y1values  y2values\n",
       "0 -3.141593 -1.224647e-16 -1.000000\n",
       "1 -3.078126 -6.342392e-02 -0.997987\n",
       "2 -3.014660 -1.265925e-01 -0.991955\n",
       "3 -2.951193 -1.892512e-01 -0.981929\n",
       "4 -2.887727 -2.511480e-01 -0.967949\n",
       "5 -2.824260 -3.120334e-01 -0.950071\n",
       "6 -2.760794 -3.716625e-01 -0.928368\n",
       "7 -2.697327 -4.297949e-01 -0.902927\n",
       "8 -2.633861 -4.861967e-01 -0.873849\n",
       "9 -2.570394 -5.406408e-01 -0.841254"
      ]
     },
     "execution_count": 18,
     "metadata": {},
     "output_type": "execute_result"
    }
   ],
   "source": [
    "df=pd.DataFrame(my_dict_4)\n",
    "df.head(10)"
   ]
  },
  {
   "cell_type": "code",
   "execution_count": 19,
   "id": "metropolitan-bankruptcy",
   "metadata": {},
   "outputs": [
    {
     "data": {
      "text/html": [
       "<div>\n",
       "<style scoped>\n",
       "    .dataframe tbody tr th:only-of-type {\n",
       "        vertical-align: middle;\n",
       "    }\n",
       "\n",
       "    .dataframe tbody tr th {\n",
       "        vertical-align: top;\n",
       "    }\n",
       "\n",
       "    .dataframe thead th {\n",
       "        text-align: right;\n",
       "    }\n",
       "</style>\n",
       "<table border=\"1\" class=\"dataframe\">\n",
       "  <thead>\n",
       "    <tr style=\"text-align: right;\">\n",
       "      <th></th>\n",
       "      <th>xvalues</th>\n",
       "      <th>y1values</th>\n",
       "      <th>y2values</th>\n",
       "    </tr>\n",
       "  </thead>\n",
       "  <tbody>\n",
       "    <tr>\n",
       "      <th>90</th>\n",
       "      <td>2.570394</td>\n",
       "      <td>5.406408e-01</td>\n",
       "      <td>-0.841254</td>\n",
       "    </tr>\n",
       "    <tr>\n",
       "      <th>91</th>\n",
       "      <td>2.633861</td>\n",
       "      <td>4.861967e-01</td>\n",
       "      <td>-0.873849</td>\n",
       "    </tr>\n",
       "    <tr>\n",
       "      <th>92</th>\n",
       "      <td>2.697327</td>\n",
       "      <td>4.297949e-01</td>\n",
       "      <td>-0.902927</td>\n",
       "    </tr>\n",
       "    <tr>\n",
       "      <th>93</th>\n",
       "      <td>2.760794</td>\n",
       "      <td>3.716625e-01</td>\n",
       "      <td>-0.928368</td>\n",
       "    </tr>\n",
       "    <tr>\n",
       "      <th>94</th>\n",
       "      <td>2.824260</td>\n",
       "      <td>3.120334e-01</td>\n",
       "      <td>-0.950071</td>\n",
       "    </tr>\n",
       "    <tr>\n",
       "      <th>95</th>\n",
       "      <td>2.887727</td>\n",
       "      <td>2.511480e-01</td>\n",
       "      <td>-0.967949</td>\n",
       "    </tr>\n",
       "    <tr>\n",
       "      <th>96</th>\n",
       "      <td>2.951193</td>\n",
       "      <td>1.892512e-01</td>\n",
       "      <td>-0.981929</td>\n",
       "    </tr>\n",
       "    <tr>\n",
       "      <th>97</th>\n",
       "      <td>3.014660</td>\n",
       "      <td>1.265925e-01</td>\n",
       "      <td>-0.991955</td>\n",
       "    </tr>\n",
       "    <tr>\n",
       "      <th>98</th>\n",
       "      <td>3.078126</td>\n",
       "      <td>6.342392e-02</td>\n",
       "      <td>-0.997987</td>\n",
       "    </tr>\n",
       "    <tr>\n",
       "      <th>99</th>\n",
       "      <td>3.141593</td>\n",
       "      <td>1.224647e-16</td>\n",
       "      <td>-1.000000</td>\n",
       "    </tr>\n",
       "  </tbody>\n",
       "</table>\n",
       "</div>"
      ],
      "text/plain": [
       "     xvalues      y1values  y2values\n",
       "90  2.570394  5.406408e-01 -0.841254\n",
       "91  2.633861  4.861967e-01 -0.873849\n",
       "92  2.697327  4.297949e-01 -0.902927\n",
       "93  2.760794  3.716625e-01 -0.928368\n",
       "94  2.824260  3.120334e-01 -0.950071\n",
       "95  2.887727  2.511480e-01 -0.967949\n",
       "96  2.951193  1.892512e-01 -0.981929\n",
       "97  3.014660  1.265925e-01 -0.991955\n",
       "98  3.078126  6.342392e-02 -0.997987\n",
       "99  3.141593  1.224647e-16 -1.000000"
      ]
     },
     "execution_count": 19,
     "metadata": {},
     "output_type": "execute_result"
    }
   ],
   "source": [
    "df.tail(10)"
   ]
  },
  {
   "cell_type": "markdown",
   "id": "generic-entertainment",
   "metadata": {},
   "source": [
    "## How to save Pandas data frame into a csv file"
   ]
  },
  {
   "cell_type": "code",
   "execution_count": 20,
   "id": "reduced-starter",
   "metadata": {},
   "outputs": [],
   "source": [
    "df.to_csv('mytable4.csv')"
   ]
  },
  {
   "cell_type": "code",
   "execution_count": 21,
   "id": "advanced-narrative",
   "metadata": {},
   "outputs": [
    {
     "name": "stdout",
     "output_type": "stream",
     "text": [
      "Dictionaries_Pandas.ipynb  mytable4.csv\r\n"
     ]
    }
   ],
   "source": [
    "!ls"
   ]
  },
  {
   "cell_type": "markdown",
   "id": "proper-johns",
   "metadata": {},
   "source": [
    "# How to load csv file into a Pandas data frame"
   ]
  },
  {
   "cell_type": "code",
   "execution_count": 22,
   "id": "chronic-retro",
   "metadata": {},
   "outputs": [
    {
     "data": {
      "text/html": [
       "<div>\n",
       "<style scoped>\n",
       "    .dataframe tbody tr th:only-of-type {\n",
       "        vertical-align: middle;\n",
       "    }\n",
       "\n",
       "    .dataframe tbody tr th {\n",
       "        vertical-align: top;\n",
       "    }\n",
       "\n",
       "    .dataframe thead th {\n",
       "        text-align: right;\n",
       "    }\n",
       "</style>\n",
       "<table border=\"1\" class=\"dataframe\">\n",
       "  <thead>\n",
       "    <tr style=\"text-align: right;\">\n",
       "      <th></th>\n",
       "      <th>Unnamed: 0</th>\n",
       "      <th>xvalues</th>\n",
       "      <th>y1values</th>\n",
       "      <th>y2values</th>\n",
       "    </tr>\n",
       "  </thead>\n",
       "  <tbody>\n",
       "    <tr>\n",
       "      <th>90</th>\n",
       "      <td>90</td>\n",
       "      <td>2.570394</td>\n",
       "      <td>5.406408e-01</td>\n",
       "      <td>-0.841254</td>\n",
       "    </tr>\n",
       "    <tr>\n",
       "      <th>91</th>\n",
       "      <td>91</td>\n",
       "      <td>2.633861</td>\n",
       "      <td>4.861967e-01</td>\n",
       "      <td>-0.873849</td>\n",
       "    </tr>\n",
       "    <tr>\n",
       "      <th>92</th>\n",
       "      <td>92</td>\n",
       "      <td>2.697327</td>\n",
       "      <td>4.297949e-01</td>\n",
       "      <td>-0.902927</td>\n",
       "    </tr>\n",
       "    <tr>\n",
       "      <th>93</th>\n",
       "      <td>93</td>\n",
       "      <td>2.760794</td>\n",
       "      <td>3.716625e-01</td>\n",
       "      <td>-0.928368</td>\n",
       "    </tr>\n",
       "    <tr>\n",
       "      <th>94</th>\n",
       "      <td>94</td>\n",
       "      <td>2.824260</td>\n",
       "      <td>3.120334e-01</td>\n",
       "      <td>-0.950071</td>\n",
       "    </tr>\n",
       "    <tr>\n",
       "      <th>95</th>\n",
       "      <td>95</td>\n",
       "      <td>2.887727</td>\n",
       "      <td>2.511480e-01</td>\n",
       "      <td>-0.967949</td>\n",
       "    </tr>\n",
       "    <tr>\n",
       "      <th>96</th>\n",
       "      <td>96</td>\n",
       "      <td>2.951193</td>\n",
       "      <td>1.892512e-01</td>\n",
       "      <td>-0.981929</td>\n",
       "    </tr>\n",
       "    <tr>\n",
       "      <th>97</th>\n",
       "      <td>97</td>\n",
       "      <td>3.014660</td>\n",
       "      <td>1.265925e-01</td>\n",
       "      <td>-0.991955</td>\n",
       "    </tr>\n",
       "    <tr>\n",
       "      <th>98</th>\n",
       "      <td>98</td>\n",
       "      <td>3.078126</td>\n",
       "      <td>6.342392e-02</td>\n",
       "      <td>-0.997987</td>\n",
       "    </tr>\n",
       "    <tr>\n",
       "      <th>99</th>\n",
       "      <td>99</td>\n",
       "      <td>3.141593</td>\n",
       "      <td>1.224647e-16</td>\n",
       "      <td>-1.000000</td>\n",
       "    </tr>\n",
       "  </tbody>\n",
       "</table>\n",
       "</div>"
      ],
      "text/plain": [
       "    Unnamed: 0   xvalues      y1values  y2values\n",
       "90          90  2.570394  5.406408e-01 -0.841254\n",
       "91          91  2.633861  4.861967e-01 -0.873849\n",
       "92          92  2.697327  4.297949e-01 -0.902927\n",
       "93          93  2.760794  3.716625e-01 -0.928368\n",
       "94          94  2.824260  3.120334e-01 -0.950071\n",
       "95          95  2.887727  2.511480e-01 -0.967949\n",
       "96          96  2.951193  1.892512e-01 -0.981929\n",
       "97          97  3.014660  1.265925e-01 -0.991955\n",
       "98          98  3.078126  6.342392e-02 -0.997987\n",
       "99          99  3.141593  1.224647e-16 -1.000000"
      ]
     },
     "execution_count": 22,
     "metadata": {},
     "output_type": "execute_result"
    }
   ],
   "source": [
    "df2=pd.read_csv('mytable4.csv')\n",
    "df2.tail(10)"
   ]
  },
  {
   "cell_type": "code",
   "execution_count": 23,
   "id": "placed-integer",
   "metadata": {},
   "outputs": [
    {
     "data": {
      "text/plain": [
       "array(['Unnamed: 0', 'xvalues', 'y1values', 'y2values'], dtype=object)"
      ]
     },
     "execution_count": 23,
     "metadata": {},
     "output_type": "execute_result"
    }
   ],
   "source": [
    "df2.columns.values"
   ]
  },
  {
   "cell_type": "code",
   "execution_count": 24,
   "id": "japanese-wagon",
   "metadata": {},
   "outputs": [
    {
     "data": {
      "text/plain": [
       "0    -3.141593\n",
       "1    -3.078126\n",
       "2    -3.014660\n",
       "3    -2.951193\n",
       "4    -2.887727\n",
       "        ...   \n",
       "95    2.887727\n",
       "96    2.951193\n",
       "97    3.014660\n",
       "98    3.078126\n",
       "99    3.141593\n",
       "Name: xvalues, Length: 100, dtype: float64"
      ]
     },
     "execution_count": 24,
     "metadata": {},
     "output_type": "execute_result"
    }
   ],
   "source": [
    "df2['xvalues']"
   ]
  },
  {
   "cell_type": "markdown",
   "id": "hispanic-feeding",
   "metadata": {},
   "source": [
    "## Plotting data from Pandas dataframe"
   ]
  },
  {
   "cell_type": "code",
   "execution_count": 37,
   "id": "forbidden-baker",
   "metadata": {},
   "outputs": [
    {
     "data": {
      "image/png": "[encoded data removed]",
      "text/plain": [
       "<Figure size 432x288 with 1 Axes>"
      ]
     },
     "metadata": {
      "needs_background": "light"
     },
     "output_type": "display_data"
    }
   ],
   "source": [
    "import matplotlib.pyplot as plt\n",
    "fig, ax = plt.subplots(1,1)\n",
    "ax.plot(df['xvalues'] , df['y1values'],label='x vs y1') # method 1\n",
    "ax.plot(df.xvalues,df.y2values,label='x vs y2')         # method 2\n",
    "y1=df['y1values'].to_numpy()                            # method 3\n",
    "y2=df['y2values'].to_numpy()\n",
    "ax.plot(y1,y2,label='y1 vs y2')\n",
    "ax.legend()\n",
    "ax.grid(True)"
   ]
  },
  {
   "cell_type": "markdown",
   "id": "incoming-ambassador",
   "metadata": {},
   "source": [
    "## Converting entire Pandas dataframe into a Numpy array"
   ]
  },
  {
   "cell_type": "code",
   "execution_count": 31,
   "id": "bibliographic-lindsay",
   "metadata": {},
   "outputs": [
    {
     "name": "stdout",
     "output_type": "stream",
     "text": [
      "<class 'pandas.core.frame.DataFrame'>\n"
     ]
    }
   ],
   "source": [
    "print(type(df2))"
   ]
  },
  {
   "cell_type": "code",
   "execution_count": 32,
   "id": "printable-retention",
   "metadata": {},
   "outputs": [],
   "source": [
    "df2_np = df2.to_numpy()"
   ]
  },
  {
   "cell_type": "code",
   "execution_count": 38,
   "id": "comfortable-joshua",
   "metadata": {},
   "outputs": [
    {
     "name": "stdout",
     "output_type": "stream",
     "text": [
      "<class 'numpy.ndarray'>\n"
     ]
    }
   ],
   "source": [
    "print(type(df2_np))"
   ]
  },
  {
   "cell_type": "code",
   "execution_count": 39,
   "id": "handy-timer",
   "metadata": {},
   "outputs": [
    {
     "data": {
      "text/plain": [
       "array([[ 0.00000000e+00, -3.14159265e+00, -1.22464680e-16,\n",
       "        -1.00000000e+00],\n",
       "       [ 1.00000000e+00, -3.07812614e+00, -6.34239197e-02,\n",
       "        -9.97986676e-01],\n",
       "       [ 2.00000000e+00, -3.01465962e+00, -1.26592454e-01,\n",
       "        -9.91954813e-01],\n",
       "       [ 3.00000000e+00, -2.95119310e+00, -1.89251244e-01,\n",
       "        -9.81928697e-01],\n",
       "       [ 4.00000000e+00, -2.88772658e+00, -2.51147987e-01,\n",
       "        -9.67948701e-01],\n",
       "       [ 5.00000000e+00, -2.82426006e+00, -3.12033446e-01,\n",
       "        -9.50071118e-01],\n",
       "       [ 6.00000000e+00, -2.76079354e+00, -3.71662456e-01,\n",
       "        -9.28367933e-01],\n",
       "       [ 7.00000000e+00, -2.69732703e+00, -4.29794912e-01,\n",
       "        -9.02926538e-01],\n",
       "       [ 8.00000000e+00, -2.63386051e+00, -4.86196736e-01,\n",
       "        -8.73849377e-01],\n",
       "       [ 9.00000000e+00, -2.57039399e+00, -5.40640817e-01,\n",
       "        -8.41253533e-01],\n",
       "       [ 1.00000000e+01, -2.50692747e+00, -5.92907929e-01,\n",
       "        -8.05270258e-01],\n",
       "       [ 1.10000000e+01, -2.44346095e+00, -6.42787610e-01,\n",
       "        -7.66044443e-01],\n",
       "       [ 1.20000000e+01, -2.37999443e+00, -6.90079011e-01,\n",
       "        -7.23734038e-01],\n",
       "       [ 1.30000000e+01, -2.31652792e+00, -7.34591709e-01,\n",
       "        -6.78509412e-01],\n",
       "       [ 1.40000000e+01, -2.25306140e+00, -7.76146464e-01,\n",
       "        -6.30552667e-01],\n",
       "       [ 1.50000000e+01, -2.18959488e+00, -8.14575952e-01,\n",
       "        -5.80056910e-01],\n",
       "       [ 1.60000000e+01, -2.12612836e+00, -8.49725430e-01,\n",
       "        -5.27225468e-01],\n",
       "       [ 1.70000000e+01, -2.06266184e+00, -8.81453363e-01,\n",
       "        -4.72271075e-01],\n",
       "       [ 1.80000000e+01, -1.99919533e+00, -9.09631995e-01,\n",
       "        -4.15415013e-01],\n",
       "       [ 1.90000000e+01, -1.93572881e+00, -9.34147860e-01,\n",
       "        -3.56886222e-01],\n",
       "       [ 2.00000000e+01, -1.87226229e+00, -9.54902241e-01,\n",
       "        -2.96920375e-01],\n",
       "       [ 2.10000000e+01, -1.80879577e+00, -9.71811568e-01,\n",
       "        -2.35758936e-01],\n",
       "       [ 2.20000000e+01, -1.74532925e+00, -9.84807753e-01,\n",
       "        -1.73648178e-01],\n",
       "       [ 2.30000000e+01, -1.68186273e+00, -9.93838464e-01,\n",
       "        -1.10838200e-01],\n",
       "       [ 2.40000000e+01, -1.61839622e+00, -9.98867339e-01,\n",
       "        -4.75819158e-02],\n",
       "       [ 2.50000000e+01, -1.55492970e+00, -9.99874128e-01,\n",
       "         1.58659638e-02],\n",
       "       [ 2.60000000e+01, -1.49146318e+00, -9.96854776e-01,\n",
       "         7.92499569e-02],\n",
       "       [ 2.70000000e+01, -1.42799666e+00, -9.89821442e-01,\n",
       "         1.42314838e-01],\n",
       "       [ 2.80000000e+01, -1.36453014e+00, -9.78802446e-01,\n",
       "         2.04806668e-01],\n",
       "       [ 2.90000000e+01, -1.30106362e+00, -9.63842159e-01,\n",
       "         2.66473814e-01],\n",
       "       [ 3.00000000e+01, -1.23759711e+00, -9.45000819e-01,\n",
       "         3.27067963e-01],\n",
       "       [ 3.10000000e+01, -1.17413059e+00, -9.22354294e-01,\n",
       "         3.86345126e-01],\n",
       "       [ 3.20000000e+01, -1.11066407e+00, -8.95993774e-01,\n",
       "         4.44066613e-01],\n",
       "       [ 3.30000000e+01, -1.04719755e+00, -8.66025404e-01,\n",
       "         5.00000000e-01],\n",
       "       [ 3.40000000e+01, -9.83731033e-01, -8.32569855e-01,\n",
       "         5.53920064e-01],\n",
       "       [ 3.50000000e+01, -9.20264515e-01, -7.95761841e-01,\n",
       "         6.05609687e-01],\n",
       "       [ 3.60000000e+01, -8.56797996e-01, -7.55749574e-01,\n",
       "         6.54860734e-01],\n",
       "       [ 3.70000000e+01, -7.93331478e-01, -7.12694171e-01,\n",
       "         7.01474888e-01],\n",
       "       [ 3.80000000e+01, -7.29864960e-01, -6.66769001e-01,\n",
       "         7.45264450e-01],\n",
       "       [ 3.90000000e+01, -6.66398442e-01, -6.18158986e-01,\n",
       "         7.86053095e-01],\n",
       "       [ 4.00000000e+01, -6.02931923e-01, -5.67059864e-01,\n",
       "         8.23676581e-01],\n",
       "       [ 4.10000000e+01, -5.39465405e-01, -5.13677392e-01,\n",
       "         8.57983413e-01],\n",
       "       [ 4.20000000e+01, -4.75998887e-01, -4.58226522e-01,\n",
       "         8.88835449e-01],\n",
       "       [ 4.30000000e+01, -4.12532369e-01, -4.00930535e-01,\n",
       "         9.16108457e-01],\n",
       "       [ 4.40000000e+01, -3.49065850e-01, -3.42020143e-01,\n",
       "         9.39692621e-01],\n",
       "       [ 4.50000000e+01, -2.85599332e-01, -2.81732557e-01,\n",
       "         9.59492974e-01],\n",
       "       [ 4.60000000e+01, -2.22132814e-01, -2.20310533e-01,\n",
       "         9.75429787e-01],\n",
       "       [ 4.70000000e+01, -1.58666296e-01, -1.58001396e-01,\n",
       "         9.87438889e-01],\n",
       "       [ 4.80000000e+01, -9.51997774e-02, -9.50560433e-02,\n",
       "         9.95471923e-01],\n",
       "       [ 4.90000000e+01, -3.17332591e-02, -3.17279335e-02,\n",
       "         9.99496542e-01],\n",
       "       [ 5.00000000e+01,  3.17332591e-02,  3.17279335e-02,\n",
       "         9.99496542e-01],\n",
       "       [ 5.10000000e+01,  9.51997774e-02,  9.50560433e-02,\n",
       "         9.95471923e-01],\n",
       "       [ 5.20000000e+01,  1.58666296e-01,  1.58001396e-01,\n",
       "         9.87438889e-01],\n",
       "       [ 5.30000000e+01,  2.22132814e-01,  2.20310533e-01,\n",
       "         9.75429787e-01],\n",
       "       [ 5.40000000e+01,  2.85599332e-01,  2.81732557e-01,\n",
       "         9.59492974e-01],\n",
       "       [ 5.50000000e+01,  3.49065850e-01,  3.42020143e-01,\n",
       "         9.39692621e-01],\n",
       "       [ 5.60000000e+01,  4.12532369e-01,  4.00930535e-01,\n",
       "         9.16108457e-01],\n",
       "       [ 5.70000000e+01,  4.75998887e-01,  4.58226522e-01,\n",
       "         8.88835449e-01],\n",
       "       [ 5.80000000e+01,  5.39465405e-01,  5.13677392e-01,\n",
       "         8.57983413e-01],\n",
       "       [ 5.90000000e+01,  6.02931923e-01,  5.67059864e-01,\n",
       "         8.23676581e-01],\n",
       "       [ 6.00000000e+01,  6.66398442e-01,  6.18158986e-01,\n",
       "         7.86053095e-01],\n",
       "       [ 6.10000000e+01,  7.29864960e-01,  6.66769001e-01,\n",
       "         7.45264450e-01],\n",
       "       [ 6.20000000e+01,  7.93331478e-01,  7.12694171e-01,\n",
       "         7.01474888e-01],\n",
       "       [ 6.30000000e+01,  8.56797996e-01,  7.55749574e-01,\n",
       "         6.54860734e-01],\n",
       "       [ 6.40000000e+01,  9.20264515e-01,  7.95761841e-01,\n",
       "         6.05609687e-01],\n",
       "       [ 6.50000000e+01,  9.83731033e-01,  8.32569855e-01,\n",
       "         5.53920064e-01],\n",
       "       [ 6.60000000e+01,  1.04719755e+00,  8.66025404e-01,\n",
       "         5.00000000e-01],\n",
       "       [ 6.70000000e+01,  1.11066407e+00,  8.95993774e-01,\n",
       "         4.44066613e-01],\n",
       "       [ 6.80000000e+01,  1.17413059e+00,  9.22354294e-01,\n",
       "         3.86345126e-01],\n",
       "       [ 6.90000000e+01,  1.23759711e+00,  9.45000819e-01,\n",
       "         3.27067963e-01],\n",
       "       [ 7.00000000e+01,  1.30106362e+00,  9.63842159e-01,\n",
       "         2.66473814e-01],\n",
       "       [ 7.10000000e+01,  1.36453014e+00,  9.78802446e-01,\n",
       "         2.04806668e-01],\n",
       "       [ 7.20000000e+01,  1.42799666e+00,  9.89821442e-01,\n",
       "         1.42314838e-01],\n",
       "       [ 7.30000000e+01,  1.49146318e+00,  9.96854776e-01,\n",
       "         7.92499569e-02],\n",
       "       [ 7.40000000e+01,  1.55492970e+00,  9.99874128e-01,\n",
       "         1.58659638e-02],\n",
       "       [ 7.50000000e+01,  1.61839622e+00,  9.98867339e-01,\n",
       "        -4.75819158e-02],\n",
       "       [ 7.60000000e+01,  1.68186273e+00,  9.93838464e-01,\n",
       "        -1.10838200e-01],\n",
       "       [ 7.70000000e+01,  1.74532925e+00,  9.84807753e-01,\n",
       "        -1.73648178e-01],\n",
       "       [ 7.80000000e+01,  1.80879577e+00,  9.71811568e-01,\n",
       "        -2.35758936e-01],\n",
       "       [ 7.90000000e+01,  1.87226229e+00,  9.54902241e-01,\n",
       "        -2.96920375e-01],\n",
       "       [ 8.00000000e+01,  1.93572881e+00,  9.34147860e-01,\n",
       "        -3.56886222e-01],\n",
       "       [ 8.10000000e+01,  1.99919533e+00,  9.09631995e-01,\n",
       "        -4.15415013e-01],\n",
       "       [ 8.20000000e+01,  2.06266184e+00,  8.81453363e-01,\n",
       "        -4.72271075e-01],\n",
       "       [ 8.30000000e+01,  2.12612836e+00,  8.49725430e-01,\n",
       "        -5.27225468e-01],\n",
       "       [ 8.40000000e+01,  2.18959488e+00,  8.14575952e-01,\n",
       "        -5.80056910e-01],\n",
       "       [ 8.50000000e+01,  2.25306140e+00,  7.76146464e-01,\n",
       "        -6.30552667e-01],\n",
       "       [ 8.60000000e+01,  2.31652792e+00,  7.34591709e-01,\n",
       "        -6.78509412e-01],\n",
       "       [ 8.70000000e+01,  2.37999443e+00,  6.90079011e-01,\n",
       "        -7.23734038e-01],\n",
       "       [ 8.80000000e+01,  2.44346095e+00,  6.42787610e-01,\n",
       "        -7.66044443e-01],\n",
       "       [ 8.90000000e+01,  2.50692747e+00,  5.92907929e-01,\n",
       "        -8.05270258e-01],\n",
       "       [ 9.00000000e+01,  2.57039399e+00,  5.40640817e-01,\n",
       "        -8.41253533e-01],\n",
       "       [ 9.10000000e+01,  2.63386051e+00,  4.86196736e-01,\n",
       "        -8.73849377e-01],\n",
       "       [ 9.20000000e+01,  2.69732703e+00,  4.29794912e-01,\n",
       "        -9.02926538e-01],\n",
       "       [ 9.30000000e+01,  2.76079354e+00,  3.71662456e-01,\n",
       "        -9.28367933e-01],\n",
       "       [ 9.40000000e+01,  2.82426006e+00,  3.12033446e-01,\n",
       "        -9.50071118e-01],\n",
       "       [ 9.50000000e+01,  2.88772658e+00,  2.51147987e-01,\n",
       "        -9.67948701e-01],\n",
       "       [ 9.60000000e+01,  2.95119310e+00,  1.89251244e-01,\n",
       "        -9.81928697e-01],\n",
       "       [ 9.70000000e+01,  3.01465962e+00,  1.26592454e-01,\n",
       "        -9.91954813e-01],\n",
       "       [ 9.80000000e+01,  3.07812614e+00,  6.34239197e-02,\n",
       "        -9.97986676e-01],\n",
       "       [ 9.90000000e+01,  3.14159265e+00,  1.22464680e-16,\n",
       "        -1.00000000e+00]])"
      ]
     },
     "execution_count": 39,
     "metadata": {},
     "output_type": "execute_result"
    }
   ],
   "source": [
    "df2_np"
   ]
  },
  {
   "cell_type": "code",
   "execution_count": null,
   "id": "defensive-individual",
   "metadata": {},
   "outputs": [],
   "source": []
  }
 ],
 "metadata": {
  "kernelspec": {
   "display_name": "Python 3",
   "language": "python",
   "name": "python3"
  },
  "language_info": {
   "codemirror_mode": {
    "name": "ipython",
    "version": 3
   },
   "file_extension": ".py",
   "mimetype": "text/x-python",
   "name": "python",
   "nbconvert_exporter": "python",
   "pygments_lexer": "ipython3",
   "version": "3.7.2"
  }
 },
 "nbformat": 4,
 "nbformat_minor": 5
}
