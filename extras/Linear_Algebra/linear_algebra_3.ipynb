{
 "cells": [
  {
   "cell_type": "code",
   "execution_count": 1,
   "id": "fancy-salon",
   "metadata": {},
   "outputs": [],
   "source": [
    "import numpy as np\n",
    "import matplotlib.pyplot as plt"
   ]
  },
  {
   "cell_type": "code",
   "execution_count": 2,
   "id": "sophisticated-license",
   "metadata": {},
   "outputs": [
    {
     "name": "stdout",
     "output_type": "stream",
     "text": [
      "[[2]\n",
      " [2]\n",
      " [0]]\n"
     ]
    }
   ],
   "source": [
    "v=np.array([[2],[2],[0]])\n",
    "print(v)"
   ]
  },
  {
   "cell_type": "code",
   "execution_count": 3,
   "id": "quantitative-mongolia",
   "metadata": {},
   "outputs": [
    {
     "data": {
      "text/plain": [
       "<matplotlib.legend.Legend at 0x7f3ded4dc470>"
      ]
     },
     "execution_count": 3,
     "metadata": {},
     "output_type": "execute_result"
    },
    {
     "data": {
      "image/png": "[encoded data removed]",
      "text/plain": [
       "<Figure size 432x288 with 1 Axes>"
      ]
     },
     "metadata": {
      "needs_background": "light"
     },
     "output_type": "display_data"
    }
   ],
   "source": [
    "orig=np.array([[0,0,0]])\n",
    "fig,ax=plt.subplots(1,1)\n",
    "ax.quiver(orig[0,0],orig[0,1],v[0],v[1], angles='xy', scale_units='xy', scale=1,color='r',label='original vector')\n",
    "ax.set_ylim(-5,5)\n",
    "ax.set_xlim(-5,5)\n",
    "ax.legend()"
   ]
  },
  {
   "cell_type": "markdown",
   "id": "demanding-barbados",
   "metadata": {},
   "source": [
    "# Matrix as an operator"
   ]
  },
  {
   "cell_type": "code",
   "execution_count": 4,
   "id": "authorized-transmission",
   "metadata": {},
   "outputs": [
    {
     "name": "stdout",
     "output_type": "stream",
     "text": [
      "A=\n",
      " [[1 0 0]\n",
      " [0 1 0]\n",
      " [0 0 1]]\n",
      "\n",
      "A matmul v\n",
      "\n",
      "v2=\n",
      " [[2]\n",
      " [2]\n",
      " [0]]\n"
     ]
    }
   ],
   "source": [
    "# identity matrix operation\n",
    "A=np.array([[1,0,0],\n",
    "            [0,1,0],\n",
    "            [0,0,1]])\n",
    "\n",
    "print('A=\\n',A)\n",
    "v2=np.matmul(A,v)\n",
    "print('\\nA matmul v')\n",
    "print('\\nv2=\\n',v2)\n",
    "#print(np.linalg.norm(v2))"
   ]
  },
  {
   "cell_type": "code",
   "execution_count": 5,
   "id": "close-colors",
   "metadata": {},
   "outputs": [
    {
     "data": {
      "text/plain": [
       "<matplotlib.legend.Legend at 0x7f3ded484f98>"
      ]
     },
     "execution_count": 5,
     "metadata": {},
     "output_type": "execute_result"
    },
    {
     "data": {
      "image/png": "[encoded data removed]",
      "text/plain": [
       "<Figure size 432x288 with 1 Axes>"
      ]
     },
     "metadata": {
      "needs_background": "light"
     },
     "output_type": "display_data"
    }
   ],
   "source": [
    "fig,ax=plt.subplots(1,1)\n",
    "ax.quiver(orig[0,0],orig[0,1],v[0],v[1], angles='xy', scale_units='xy', scale=1,color='r',label='original vector')\n",
    "ax.quiver(orig[0,0],orig[0,1],v2[0],v2[1], angles='xy', scale_units='xy', scale=1,color='b',label='same vector')\n",
    "ax.set_ylim(-5,5)\n",
    "ax.set_xlim(-5,5)\n",
    "ax.legend()"
   ]
  },
  {
   "cell_type": "code",
   "execution_count": 6,
   "id": "qualified-enforcement",
   "metadata": {},
   "outputs": [
    {
     "name": "stdout",
     "output_type": "stream",
     "text": [
      "A=\n",
      " [[-1  0  0]\n",
      " [ 0 -1  0]\n",
      " [ 0  0  1]]\n",
      "\n",
      "A matmul v\n",
      "\n",
      "v3=\n",
      " [[-2]\n",
      " [-2]\n",
      " [ 0]]\n"
     ]
    }
   ],
   "source": [
    "# reflection matrix operation\n",
    "A=np.array([[-1,0,0],\n",
    "            [0,-1,0],\n",
    "            [0,0,1]])\n",
    "\n",
    "print('A=\\n',A)\n",
    "v3=np.matmul(A,v)\n",
    "print('\\nA matmul v')\n",
    "print('\\nv3=\\n',v3)\n",
    "#print(np.linalg.norm(v2))"
   ]
  },
  {
   "cell_type": "code",
   "execution_count": 7,
   "id": "expired-plymouth",
   "metadata": {},
   "outputs": [
    {
     "data": {
      "text/plain": [
       "<matplotlib.legend.Legend at 0x7f3da4906f28>"
      ]
     },
     "execution_count": 7,
     "metadata": {},
     "output_type": "execute_result"
    },
    {
     "data": {
      "image/png": "[encoded data removed]",
      "text/plain": [
       "<Figure size 432x288 with 1 Axes>"
      ]
     },
     "metadata": {
      "needs_background": "light"
     },
     "output_type": "display_data"
    }
   ],
   "source": [
    "fig,ax=plt.subplots(1,1)\n",
    "ax.quiver(orig[0,0],orig[0,1],v[0],v[1], angles='xy', scale_units='xy', scale=1,color='r',label='original vector')\n",
    "ax.quiver(orig[0,0],orig[0,1],v3[0],v3[1], angles='xy', scale_units='xy', scale=1,color='b',label='mirrored vector')\n",
    "ax.set_ylim(-5,5)\n",
    "ax.set_xlim(-5,5)\n",
    "ax.legend()"
   ]
  },
  {
   "cell_type": "markdown",
   "id": "practical-ridge",
   "metadata": {},
   "source": [
    "## Transformation matrix in graphics"
   ]
  },
  {
   "cell_type": "markdown",
   "id": "parallel-beginning",
   "metadata": {},
   "source": [
    "<img src=\"imgs/transformation_matrix.png\" width=\"600\" />"
   ]
  },
  {
   "cell_type": "code",
   "execution_count": 8,
   "id": "blond-toronto",
   "metadata": {},
   "outputs": [
    {
     "name": "stdout",
     "output_type": "stream",
     "text": [
      "A=\n",
      " [[ 0.70384532 -0.71035327  0.        ]\n",
      " [ 0.71035327  0.70384532  0.        ]\n",
      " [ 0.          0.          1.        ]]\n",
      "\n",
      "A matmul v\n",
      "\n",
      "v4=\n",
      " [[-0.01301591]\n",
      " [ 2.82839718]\n",
      " [ 0.        ]]\n"
     ]
    }
   ],
   "source": [
    "# rotation around origin matrix operation\n",
    "ang=0.79\n",
    "A=np.array([[ np.cos(ang),-np.sin(ang),0]\n",
    "           ,[np.sin(ang),np.cos(ang),0],\n",
    "            [          0,         0,1]])\n",
    "print('A=\\n',A)\n",
    "v4=np.matmul(A,v)\n",
    "print('\\nA matmul v')\n",
    "print('\\nv4=\\n',v4)\n"
   ]
  },
  {
   "cell_type": "code",
   "execution_count": 9,
   "id": "brilliant-conversion",
   "metadata": {},
   "outputs": [
    {
     "data": {
      "text/plain": [
       "<matplotlib.legend.Legend at 0x7f3da486ef60>"
      ]
     },
     "execution_count": 9,
     "metadata": {},
     "output_type": "execute_result"
    },
    {
     "data": {
      "image/png": "[encoded data removed]",
      "text/plain": [
       "<Figure size 432x288 with 1 Axes>"
      ]
     },
     "metadata": {
      "needs_background": "light"
     },
     "output_type": "display_data"
    }
   ],
   "source": [
    "fig,ax=plt.subplots(1,1)\n",
    "ax.quiver(orig[0,0],orig[0,1],v[0],v[1], angles='xy', scale_units='xy', scale=1,color='r',label='original vector')\n",
    "ax.quiver(orig[0,0],orig[0,1],v4[0],v4[1], angles='xy', scale_units='xy', scale=1,color='b',label='rotated vector')\n",
    "ax.set_ylim(-5,5)\n",
    "ax.set_xlim(-5,5)\n",
    "ax.legend()"
   ]
  },
  {
   "cell_type": "markdown",
   "id": "automotive-uncertainty",
   "metadata": {},
   "source": [
    "* Any vector that does not have its direction changed by this transformation is an eigenvector"
   ]
  },
  {
   "cell_type": "code",
   "execution_count": 10,
   "id": "religious-logistics",
   "metadata": {},
   "outputs": [
    {
     "name": "stdout",
     "output_type": "stream",
     "text": [
      "[[2 0]\n",
      " [0 1]]\n"
     ]
    }
   ],
   "source": [
    "A=np.array([[2,0],[0,1]])\n",
    "print(A)"
   ]
  },
  {
   "cell_type": "code",
   "execution_count": 11,
   "id": "municipal-newspaper",
   "metadata": {},
   "outputs": [
    {
     "name": "stdout",
     "output_type": "stream",
     "text": [
      "E-value: [2. 1.]\n",
      "E-vector [[1. 0.]\n",
      " [0. 1.]]\n"
     ]
    }
   ],
   "source": [
    "w,v=np.linalg.eig(A)\n",
    "print('E-value:', w)\n",
    "print('E-vector', v)"
   ]
  },
  {
   "cell_type": "markdown",
   "id": "interior-compact",
   "metadata": {},
   "source": [
    "$$Av=\\lambda v$$\n",
    "which means"
   ]
  },
  {
   "cell_type": "markdown",
   "id": "ordinary-citation",
   "metadata": {},
   "source": [
    "## Eigenvalues and eigenvector problems"
   ]
  },
  {
   "cell_type": "markdown",
   "id": "geographic-pottery",
   "metadata": {},
   "source": [
    "$$Av=\\lambda v$$\n",
    "Given a square n×n matrix $A$, a scalar $\\lambda$ is called an eigenvalue of $A$ if there exists some nonzero vector $v$ in $R^n$ such that $Av=\\lambda v$. The vector $v$ is the eigenvector associated with $\\lambda$. The equation states that when an eigenvector of $A$ is multiplied by $A$, the result is simply a multiple of the eigenvector.\n",
    "\n",
    "Example"
   ]
  },
  {
   "cell_type": "markdown",
   "id": "athletic-voice",
   "metadata": {},
   "source": [
    "$$ A \\textbf{v} = \\lambda \\textbf{v} \\equiv   \n",
    "\\begin{bmatrix}\n",
    "2 & 0 \\\\\n",
    "0 & 1 \\\\\n",
    "\\end{bmatrix}\n",
    "\\begin{bmatrix}\n",
    "x \\\\\n",
    "y \\\\\n",
    "\\end{bmatrix}   = \\lambda\n",
    "\\begin{bmatrix}\n",
    "x \\\\\n",
    "y \\\\\n",
    "\\end{bmatrix}\n",
    "$$\n",
    "\n",
    "if know the eigenvectors and eigenvalues:\n",
    "\n",
    "$$   \n",
    "\\begin{bmatrix}\n",
    "2 & 0 \\\\\n",
    "0 & 1 \\\\\n",
    "\\end{bmatrix}\n",
    "\\begin{bmatrix}\n",
    "1 \\\\\n",
    "0 \\\\\n",
    "\\end{bmatrix}   = 2\n",
    "\\begin{bmatrix}\n",
    "1 \\\\\n",
    "0 \\\\\n",
    "\\end{bmatrix}\n",
    "$$\n",
    "\n",
    "$$or$$\n",
    "\n",
    "$$   \n",
    "\\begin{bmatrix}\n",
    "2 & 0 \\\\\n",
    "0 & 1 \\\\\n",
    "\\end{bmatrix}\n",
    "\\begin{bmatrix}\n",
    "0 \\\\\n",
    "1 \\\\\n",
    "\\end{bmatrix}   = 1\n",
    "\\begin{bmatrix}\n",
    "0 \\\\\n",
    "1 \\\\\n",
    "\\end{bmatrix}\n",
    "$$\n",
    "\n",
    "* which means there is more than one solution"
   ]
  },
  {
   "cell_type": "code",
   "execution_count": 12,
   "id": "dramatic-controversy",
   "metadata": {},
   "outputs": [
    {
     "name": "stdout",
     "output_type": "stream",
     "text": [
      "[[1]\n",
      " [0]]\n"
     ]
    }
   ],
   "source": [
    "orig=np.array([[0,0]])\n",
    "v=np.array([[1],[0]])\n",
    "print(v)"
   ]
  },
  {
   "cell_type": "code",
   "execution_count": 13,
   "id": "brutal-vinyl",
   "metadata": {},
   "outputs": [
    {
     "data": {
      "text/plain": [
       "<matplotlib.legend.Legend at 0x7f3da493ccc0>"
      ]
     },
     "execution_count": 13,
     "metadata": {},
     "output_type": "execute_result"
    },
    {
     "data": {
      "image/png": "[encoded data removed]",
      "text/plain": [
       "<Figure size 432x288 with 1 Axes>"
      ]
     },
     "metadata": {
      "needs_background": "light"
     },
     "output_type": "display_data"
    }
   ],
   "source": [
    "fig,ax=plt.subplots(1,1)\n",
    "ax.quiver(orig[0,0],orig[0,1],v[0],v[1], angles='xy', scale_units='xy', scale=1,color='r',label='original vector')\n",
    "ax.set_ylim(-5,5)\n",
    "ax.set_xlim(-5,5)\n",
    "ax.legend()            "
   ]
  },
  {
   "cell_type": "code",
   "execution_count": 14,
   "id": "soviet-machinery",
   "metadata": {},
   "outputs": [
    {
     "name": "stdout",
     "output_type": "stream",
     "text": [
      "A=\n",
      " [[2 0]\n",
      " [0 1]]\n",
      "\n",
      "A matmul v\n",
      "\n",
      "v2=\n",
      " [[2]\n",
      " [0]]\n"
     ]
    }
   ],
   "source": [
    "A=np.array([[2,0],[0,1]])\n",
    "print('A=\\n',A)\n",
    "v2=np.matmul(A,v)\n",
    "print('\\nA matmul v')\n",
    "print('\\nv2=\\n',v2)"
   ]
  },
  {
   "cell_type": "code",
   "execution_count": 15,
   "id": "proper-treaty",
   "metadata": {},
   "outputs": [
    {
     "data": {
      "text/plain": [
       "<matplotlib.legend.Legend at 0x7f3da47bc9e8>"
      ]
     },
     "execution_count": 15,
     "metadata": {},
     "output_type": "execute_result"
    },
    {
     "data": {
      "image/png": "[encoded data removed]",
      "text/plain": [
       "<Figure size 432x288 with 1 Axes>"
      ]
     },
     "metadata": {
      "needs_background": "light"
     },
     "output_type": "display_data"
    }
   ],
   "source": [
    "fig,ax=plt.subplots(1,1)\n",
    "ax.quiver(orig[0,0],orig[0,1],v[0],v[1], angles='xy', scale_units='xy', scale=1,color='r',label='original vector')\n",
    "ax.quiver(orig[0,0],orig[0,1],v2[0],v2[1], angles='xy', scale_units='xy', scale=1,color='b',label='transformed vector')\n",
    "\n",
    "ax.set_ylim(-5,5)\n",
    "ax.set_xlim(-5,5)\n",
    "ax.legend()"
   ]
  },
  {
   "cell_type": "markdown",
   "id": "chronic-somewhere",
   "metadata": {},
   "source": [
    "## Eigenvector\n",
    "* Any vector that does not have its direction changed by this transformation is an eigenvector of the matrix. "
   ]
  },
  {
   "cell_type": "markdown",
   "id": "rotary-retail",
   "metadata": {},
   "source": [
    "## Finding Eigenvectors and EigenValues using Python numpy.linalg"
   ]
  },
  {
   "cell_type": "code",
   "execution_count": 18,
   "id": "brilliant-bubble",
   "metadata": {},
   "outputs": [
    {
     "name": "stdout",
     "output_type": "stream",
     "text": [
      "A:\n",
      " [[2 0]\n",
      " [0 1]]\n",
      "Eigen vectors:\n",
      " [[1. 0.]\n",
      " [0. 1.]]\n",
      "Eigen values:\n",
      " [2. 1.]\n"
     ]
    }
   ],
   "source": [
    "a = np.array([[2, 0], \n",
    "              [0, 1]])\n",
    "evalues,evectors=np.linalg.eig(a)\n",
    "print('A:\\n',A)\n",
    "print('Eigen vectors:\\n', evectors)\n",
    "print('Eigen values:\\n', evalues)\n"
   ]
  },
  {
   "cell_type": "markdown",
   "id": "decimal-stamp",
   "metadata": {},
   "source": [
    "\n",
    "$$   \n",
    "\\begin{bmatrix}\n",
    "2 & 0 \\\\\n",
    "0 & 1 \\\\\n",
    "\\end{bmatrix}\n",
    "\\begin{bmatrix}\n",
    "1 \\\\\n",
    "0 \\\\\n",
    "\\end{bmatrix}   = 2\n",
    "\\begin{bmatrix}\n",
    "1 \\\\\n",
    "0 \\\\\n",
    "\\end{bmatrix}\n",
    "$$\n",
    "\n",
    "$$or$$\n",
    "\n",
    "$$   \n",
    "\\begin{bmatrix}\n",
    "2 & 0 \\\\\n",
    "0 & 1 \\\\\n",
    "\\end{bmatrix}\n",
    "\\begin{bmatrix}\n",
    "0 \\\\\n",
    "1 \\\\\n",
    "\\end{bmatrix}   = 1\n",
    "\\begin{bmatrix}\n",
    "0 \\\\\n",
    "1 \\\\\n",
    "\\end{bmatrix}\n",
    "$$\n"
   ]
  },
  {
   "cell_type": "markdown",
   "id": "accurate-apache",
   "metadata": {},
   "source": [
    "## Determinant "
   ]
  },
  {
   "cell_type": "markdown",
   "id": "judicial-blocking",
   "metadata": {},
   "source": [
    "$$Av=\\lambda v$$\n",
    "$$(A-\\lambda I)x = 0 $$\n",
    "(set of homogenous linear equations!)\n",
    "this equation is called characteristic equation,\n",
    "\n",
    "Where I is the identify matrix with the same dimensions as A. If matrix $A−\\lambda I$ has an inverse, then multiply both sides with $(A−\\lambda I)^{-1}$, we get a trivial solution x=0. Therefore, when $A−\\lambda I$ is singular (no inverse exist), we have a nontrivial solution, which means that the determinant is zero:\n",
    "\n",
    "$$det(A−\\lambda I)=0$$\n",
    "\n",
    "therefore eigenvalues of $A$ are roots of the characteristic polynomial\n",
    "$$ p(\\lambda)=det(A−\\lambda I)$$\n",
    "\n",
    "\n"
   ]
  },
  {
   "cell_type": "markdown",
   "id": "prime-motivation",
   "metadata": {},
   "source": [
    "For the same matrix:\n",
    "\n",
    "$$A=\n",
    "\\begin{bmatrix}\n",
    "2 & 0 \\\\\n",
    "0 & 1 \\\\\n",
    "\\end{bmatrix}\n",
    "$$\n",
    "\n"
   ]
  },
  {
   "cell_type": "markdown",
   "id": "available-inside",
   "metadata": {},
   "source": [
    "\n",
    "$$   \n",
    "\\begin{vmatrix}\n",
    "2-\\lambda & 0 \\\\\n",
    "0 & 1-\\lambda \\\\\n",
    "\\end{vmatrix} =0\n",
    "$$\n",
    "\n",
    "$$det(A−\\lambda I)=0$$\n",
    "\n",
    "$$(2-\\lambda)(1-\\lambda)=0$$\n",
    "$$2-2 \\lambda + \\lambda^2 = 0$$\n",
    "$$\\lambda=1, \\lambda=2$$\n",
    "\n",
    "To get eigenvectors we simply substitute the eigenvalues back into $(A-\\lambda I)x = 0 $"
   ]
  },
  {
   "cell_type": "markdown",
   "id": "spanish-charleston",
   "metadata": {},
   "source": [
    "### Verifying eigenvectors using matrix multiplication"
   ]
  },
  {
   "cell_type": "markdown",
   "id": "enhanced-bench",
   "metadata": {},
   "source": [
    "Let’s try another example with a 3×3\n",
    "matrix.\n",
    "\n",
    "$$B=\n",
    "\\begin{bmatrix}\n",
    "1 &  2 & 0 \\\\\n",
    "2  & -1 & 4 \\\\\n",
    "0  &  3 & 1 \\\\\n",
    "\\end{bmatrix}$$"
   ]
  },
  {
   "cell_type": "code",
   "execution_count": 22,
   "id": "australian-health",
   "metadata": {},
   "outputs": [
    {
     "name": "stdout",
     "output_type": "stream",
     "text": [
      "[[ 1  2  0]\n",
      " [ 2 -1  4]\n",
      " [ 0  3  1]]\n",
      "[-4.12310563  1.          4.12310563]\n",
      "\n",
      "\n",
      "[[ 3.19250163e-01  8.94427191e-01  4.19279023e-01]\n",
      " [-8.17776152e-01 -1.03817864e-16  6.54726338e-01]\n",
      " [ 4.78875244e-01 -4.47213595e-01  6.28918535e-01]]\n"
     ]
    }
   ],
   "source": [
    "B=np.array([[1,2,0],\n",
    "            [2,-1,4],\n",
    "            [0,3,1]])\n",
    "evalues, evectors = np.linalg.eig(B)\n",
    "print(B)\n",
    "print(evalues)\n",
    "print('\\n')\n",
    "print(evectors)\n",
    "\n",
    "V_1 = evectors[:,0:1]\n",
    "V_2 = evectors[:,1:2]\n",
    "V_3 = evectors[:,2:3]\n",
    "\n",
    "E_1 = evalues[0]\n",
    "E_2 = evalues[1]\n",
    "E_3 = evalues[2]"
   ]
  },
  {
   "cell_type": "markdown",
   "id": "related-sensitivity",
   "metadata": {},
   "source": []
  },
  {
   "cell_type": "markdown",
   "id": "convenient-sherman",
   "metadata": {},
   "source": [
    "We don’t have the exact eigenvalues, but we can check that $$B \\textbf{v}_i− \\lambda_i \\textbf{v}_i=0$$ for $i=1,2,3,$ allowing of for small precision error."
   ]
  },
  {
   "cell_type": "code",
   "execution_count": 25,
   "id": "bound-european",
   "metadata": {},
   "outputs": [
    {
     "name": "stdout",
     "output_type": "stream",
     "text": [
      "[[-4.44089210e-16]\n",
      " [ 2.22044605e-15]\n",
      " [-1.11022302e-15]]\n",
      "[[-6.66133815e-16]\n",
      " [ 5.47907073e-16]\n",
      " [-1.11022302e-16]]\n",
      "[[4.4408921e-16]\n",
      " [0.0000000e+00]\n",
      " [0.0000000e+00]]\n"
     ]
    }
   ],
   "source": [
    "print(np.matmul(B,V_1)-E_1*V_1)\n",
    "print(np.matmul(B,V_2)-E_2*V_2)\n",
    "print(np.matmul(B,V_3)-E_3*V_3)"
   ]
  },
  {
   "cell_type": "markdown",
   "id": "applied-school",
   "metadata": {},
   "source": [
    "### Diagonal factorization or  Diagonalization "
   ]
  },
  {
   "cell_type": "markdown",
   "id": "bridal-baptist",
   "metadata": {},
   "source": [
    "Instead of $B \\textbf{v}i−\\lambda_i \\textbf{v}_i=0$ for each $i$, we can package the calculations into a single matrix multiplication. If $S$ is the matrix with columns $\\textbf{v}_i$, then $BS$ is the matrix with columns $B \\textbf{v}_i$. This matrix should be compared to the matrix that has $\\lambda_i \\textbf{v}_i$ as its columns. To construct this matrix we use a diagonal matrix $D$, that has the $\\lambda_i$ as its diagonal entries. The matrix product $SD$ will then have columns $\\lambda_i\\textbf{v}_i$."
   ]
  },
  {
   "cell_type": "code",
   "execution_count": null,
   "id": "supreme-relevance",
   "metadata": {},
   "outputs": [],
   "source": []
  }
 ],
 "metadata": {
  "kernelspec": {
   "display_name": "Python 3",
   "language": "python",
   "name": "python3"
  },
  "language_info": {
   "codemirror_mode": {
    "name": "ipython",
    "version": 3
   },
   "file_extension": ".py",
   "mimetype": "text/x-python",
   "name": "python",
   "nbconvert_exporter": "python",
   "pygments_lexer": "ipython3",
   "version": "3.7.2"
  }
 },
 "nbformat": 4,
 "nbformat_minor": 5
}
