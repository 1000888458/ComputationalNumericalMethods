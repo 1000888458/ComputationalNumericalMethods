{
 "cells": [
  {
   "cell_type": "markdown",
   "id": "capital-graphics",
   "metadata": {},
   "source": [
    "## Gaussian Elimination: manual\n",
    "* np.linalg.solve(A,b)"
   ]
  },
  {
   "cell_type": "code",
   "execution_count": 75,
   "id": "italic-drawing",
   "metadata": {},
   "outputs": [
    {
     "name": "stdout",
     "output_type": "stream",
     "text": [
      "Solving: Ax=b\n",
      "\n",
      "A=\n",
      " [[-3  6 -9]\n",
      " [ 1 -1 -2]\n",
      " [ 5  5 -7]]\n",
      "\n",
      "b=\n",
      " [[ 3]\n",
      " [ 0]\n",
      " [63]]\n"
     ]
    }
   ],
   "source": [
    "A = np.array( [[ -3 ,6, -9],\n",
    "                [1 , -1,-2],\n",
    "                [5 ,5, -7]] )\n",
    "\n",
    "b= np.array([3,0,63])\n",
    "b= np.array([[3],[0],[63]])\n",
    "\n",
    "print('Solving: Ax=b\\n')\n",
    "print('A=\\n',A)\n",
    "print()\n",
    "print('b=\\n',b)\n"
   ]
  },
  {
   "cell_type": "code",
   "execution_count": 76,
   "id": "swiss-river",
   "metadata": {},
   "outputs": [
    {
     "name": "stdout",
     "output_type": "stream",
     "text": [
      "[[8.]\n",
      " [6.]\n",
      " [1.]]\n"
     ]
    }
   ],
   "source": [
    "\n",
    "x=np.linalg.solve(A, b)\n",
    "print(x)"
   ]
  },
  {
   "cell_type": "markdown",
   "id": "sophisticated-values",
   "metadata": {},
   "source": [
    "### Step back - how to manually implement the three operations :\n",
    "* multiplying row by number $\\lambda$\n",
    "* adding one row to another row (multiplied by a number)\n",
    "* swapping rows (pivoting)\n"
   ]
  },
  {
   "cell_type": "markdown",
   "id": "accredited-improvement",
   "metadata": {},
   "source": [
    "1. The $i$-th row $E_i$ can be multiplied by a non-zero constant $\\lambda$, and then a new row used in place of $E_i$, i.e. $(E_i)\\rightarrow (\\lambda E_i)$. We denote this operation as $\\operatorname{Lamb}(E_i,\\lambda)$.\n",
    "2. The $j$-th row $E_j$ can be multiplied by a non-zero constant $\\lambda$ and added to some row $E_i$. The resulting value take the place of $E_i$, i.e. $(E_i) \\rightarrow (E_i + \\lambda E_j)$. We denote this operation as $\\operatorname{Comb}(E_i,E_j,\\lambda)$.\n",
    "3. Finally, we define a swapping of two rows as $(E_i)\\leftrightarrow (E_j)$, denoted as $\\operatorname{Swap}(E_i,E_j)$"
   ]
  },
  {
   "cell_type": "markdown",
   "id": "arbitrary-summer",
   "metadata": {},
   "source": [
    "* `row_lamb(i, λ, A)`: `i` is the row to be changed, `λ` the multiplicative factor and `A` the matrix. This function should return the new matrix with the performed operation $(\\lambda E_i)\\rightarrow (E_i)$.\n",
    "* `row_comb(i, j, λ, A)`: `i` is the row to be changed, `j` the row to be added, `λ` the multiplicative factor and `A` the matrix. This function should return the new matrix with the performed operation $(E_i + \\lambda E_j)\\rightarrow (E_i)$.\n",
    "* `row_swap(i, j, A)`: `i` and `j` are the rows to be swapped. This function should return the new matrix with the performed operation $(E_i)\\leftrightarrow (E_j)$."
   ]
  },
  {
   "cell_type": "code",
   "execution_count": 77,
   "id": "contrary-blanket",
   "metadata": {},
   "outputs": [],
   "source": [
    "#Force the matrix has type float\n",
    "def row_lamb( i, λ, A ):\n",
    "    B = A.copy()\n",
    "    if isinstance(B[0,0],int64):\n",
    "        B=B.astype(float)\n",
    "    B[i] = λ*B[i]\n",
    "    return B\n",
    "\n",
    "def row_comb( i, j, λ, A ):\n",
    "    B = A.copy()\n",
    "    if isinstance(B[0,0],int64):\n",
    "        B=B.astype(float)\n",
    "    B[i] = λ*B[j] + B[i]\n",
    "    return B\n",
    "\n",
    "def row_swap( i, j, A ):\n",
    "    B = A.copy()\n",
    "    B[[i,j]] = B[[j,i]]\n",
    "    return B"
   ]
  },
  {
   "cell_type": "code",
   "execution_count": null,
   "id": "dated-arrangement",
   "metadata": {},
   "outputs": [],
   "source": []
  }
 ],
 "metadata": {
  "kernelspec": {
   "display_name": "Python 3",
   "language": "python",
   "name": "python3"
  },
  "language_info": {
   "codemirror_mode": {
    "name": "ipython",
    "version": 3
   },
   "file_extension": ".py",
   "mimetype": "text/x-python",
   "name": "python",
   "nbconvert_exporter": "python",
   "pygments_lexer": "ipython3",
   "version": "3.7.2"
  }
 },
 "nbformat": 4,
 "nbformat_minor": 5
}
