{
 "cells": [
  {
   "cell_type": "code",
   "execution_count": 1,
   "id": "worse-provincial",
   "metadata": {},
   "outputs": [
    {
     "name": "stdout",
     "output_type": "stream",
     "text": [
      "[[1. 1. 1.]\n",
      " [2. 3. 5.]\n",
      " [4. 6. 8.]]\n",
      "\n",
      " [[1. 1. 1.]\n",
      " [2. 3. 5.]\n",
      " [4. 6. 8.]]\n"
     ]
    }
   ],
   "source": [
    "import numpy as np\n",
    "b=np.array([[3.],[2],[1]])\n",
    "\n",
    "A=np.array([[1., 1,1],\n",
    "           [2,3,5],\n",
    "           [4, 6,8]])\n",
    "print(A)\n",
    "\n",
    "L=np.array([[1., 0,0],\n",
    "           [2,1,0],\n",
    "           [4, 2,1]])\n",
    "\n",
    "U=np.array([[1., 1,1],\n",
    "           [0,1,3],\n",
    "           [0, 0,-2]])\n",
    "\n",
    "print('\\n',np.matmul(L,U))"
   ]
  },
  {
   "cell_type": "code",
   "execution_count": 6,
   "id": "exposed-tunnel",
   "metadata": {},
   "outputs": [],
   "source": [
    "import numpy as np\n",
    "def forward_sub(L, b):\n",
    "    \"\"\"x = forward_sub(L, b) is the solution to L x = b\n",
    "       L must be a lower-triangular matrix\n",
    "       b must be a vector of the same leading dimension as L\n",
    "    \"\"\"\n",
    "    n = L.shape[0]\n",
    "    x = np.zeros(n)\n",
    "    for i in range(n):\n",
    "        tmp = b[i]\n",
    "        for j in range(i):\n",
    "            tmp -= L[i,j] * x[j]\n",
    "        x[i] = tmp / L[i,i]\n",
    "    return x"
   ]
  },
  {
   "cell_type": "code",
   "execution_count": 7,
   "id": "animated-favor",
   "metadata": {},
   "outputs": [],
   "source": [
    "import numpy as np\n",
    "def back_sub(U, b):\n",
    "    \"\"\"x = back_sub(U, b) is the solution to U x = b\n",
    "       U must be an upper-triangular matrix\n",
    "       b must be a vector of the same leading dimension as U\n",
    "    \"\"\"\n",
    "    n = U.shape[0]\n",
    "    x = np.zeros(n)\n",
    "    for i in range(n-1, -1, -1):\n",
    "        tmp = b[i]\n",
    "        for j in range(i+1, n):\n",
    "            tmp -= U[i,j] * x[j]\n",
    "        x[i] = tmp / U[i,i]\n",
    "    return x\n"
   ]
  },
  {
   "cell_type": "code",
   "execution_count": 8,
   "id": "proved-usage",
   "metadata": {},
   "outputs": [
    {
     "name": "stdout",
     "output_type": "stream",
     "text": [
      "[  3. -10.   5.]\n"
     ]
    }
   ],
   "source": [
    "y=forward_sub(L, b)\n",
    "print(y)"
   ]
  },
  {
   "cell_type": "code",
   "execution_count": 5,
   "id": "directed-representation",
   "metadata": {},
   "outputs": [
    {
     "name": "stdout",
     "output_type": "stream",
     "text": [
      "[10.  -8.5  1.5]\n"
     ]
    }
   ],
   "source": [
    "x=back_sub(U, y)\n",
    "print(x)"
   ]
  },
  {
   "cell_type": "code",
   "execution_count": null,
   "id": "written-organ",
   "metadata": {},
   "outputs": [],
   "source": []
  }
 ],
 "metadata": {
  "kernelspec": {
   "display_name": "Python 3",
   "language": "python",
   "name": "python3"
  },
  "language_info": {
   "codemirror_mode": {
    "name": "ipython",
    "version": 3
   },
   "file_extension": ".py",
   "mimetype": "text/x-python",
   "name": "python",
   "nbconvert_exporter": "python",
   "pygments_lexer": "ipython3",
   "version": "3.7.2"
  }
 },
 "nbformat": 4,
 "nbformat_minor": 5
}
