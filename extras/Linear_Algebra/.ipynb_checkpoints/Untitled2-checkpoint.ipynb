{
 "cells": [
  {
   "cell_type": "code",
   "execution_count": 1,
   "id": "careful-collective",
   "metadata": {},
   "outputs": [],
   "source": [
    "import numpy as np\n"
   ]
  },
  {
   "cell_type": "code",
   "execution_count": 16,
   "id": "enhanced-principle",
   "metadata": {},
   "outputs": [
    {
     "name": "stdout",
     "output_type": "stream",
     "text": [
      "[[-1 -2 -3  0  0  0]\n",
      " [ 0  2  0 -4  0  0]\n",
      " [ 0  0  3  0 -5  0]\n",
      " [ 1  0 -1  0 -1  0]\n",
      " [-1  1  0  1  0  0]\n",
      " [ 0  0  0 -1  1  1]]\n",
      "[[-10]\n",
      " [-40]\n",
      " [ 40]\n",
      " [  0]\n",
      " [  0]\n",
      " [  0]]\n"
     ]
    }
   ],
   "source": [
    "A = np.array( [ [-1 ,-2 , -3,  0 , 0 , 0],\n",
    "                [0  , 2, 0 , -4 , 0 , 0],\n",
    "                [0  , 0, 3 , 0 , -5 , 0],\n",
    "                [1  , 0, -1 , 0 , -1 ,0],\n",
    "                [-1  , 1, 0 , 1 , 0 , 0],   \n",
    "                [0  , 0, 0 , -1 , 1 ,  1],               \n",
    "              ] )\n",
    "b = np.array( [ [-10] ,[-40] , [40],  [0] , [0] ,[ 0]] )\n",
    "\n",
    "print(A)\n",
    "print(b)"
   ]
  },
  {
   "cell_type": "code",
   "execution_count": 17,
   "id": "suited-shame",
   "metadata": {},
   "outputs": [
    {
     "data": {
      "text/plain": [
       "array([[ 1.98019802],\n",
       "       [-5.34653465],\n",
       "       [ 6.23762376],\n",
       "       [ 7.32673267],\n",
       "       [-4.25742574],\n",
       "       [11.58415842]])"
      ]
     },
     "execution_count": 17,
     "metadata": {},
     "output_type": "execute_result"
    }
   ],
   "source": [
    "np.linalg.solve(A,b)"
   ]
  }
 ],
 "metadata": {
  "kernelspec": {
   "display_name": "Python 3",
   "language": "python",
   "name": "python3"
  },
  "language_info": {
   "codemirror_mode": {
    "name": "ipython",
    "version": 3
   },
   "file_extension": ".py",
   "mimetype": "text/x-python",
   "name": "python",
   "nbconvert_exporter": "python",
   "pygments_lexer": "ipython3",
   "version": "3.7.2"
  }
 },
 "nbformat": 4,
 "nbformat_minor": 5
}
