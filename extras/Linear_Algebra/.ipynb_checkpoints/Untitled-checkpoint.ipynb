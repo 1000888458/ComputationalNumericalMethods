{
 "cells": [
  {
   "cell_type": "markdown",
   "id": "later-planner",
   "metadata": {},
   "source": [
    "## LU decomposition\n",
    "x=np.linalg.solve(A, b) # uses LU decomposition not Gaussian Elimination!!!\n",
    "https://software.intel.com/sites/products/documentation/doclib/mkl_sa/11/mkl_lapack_examples/cgesv.htm\n",
    "\n",
    "#why: because if b is changing we have to redo all the operations if using GE\n",
    "#so there must be a better method"
   ]
  }
 ],
 "metadata": {
  "kernelspec": {
   "display_name": "Python 3",
   "language": "python",
   "name": "python3"
  },
  "language_info": {
   "codemirror_mode": {
    "name": "ipython",
    "version": 3
   },
   "file_extension": ".py",
   "mimetype": "text/x-python",
   "name": "python",
   "nbconvert_exporter": "python",
   "pygments_lexer": "ipython3",
   "version": "3.7.2"
  }
 },
 "nbformat": 4,
 "nbformat_minor": 5
}
