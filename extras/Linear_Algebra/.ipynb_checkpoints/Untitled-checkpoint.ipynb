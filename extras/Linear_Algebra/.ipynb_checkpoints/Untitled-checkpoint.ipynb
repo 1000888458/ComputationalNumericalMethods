{
 "cells": [
  {
   "cell_type": "markdown",
   "id": "employed-quebec",
   "metadata": {},
   "source": [
    "A $m \\times n$ matrix can be defined as a set of numbers arranged in columns and rows such as (m x n):\n",
    "\n",
    "$$ A = [a_{ij}] = \\left[ \\matrix{\n",
    "a_{11} & a_{12} & \\cdots & a_{1n} \\\\\n",
    "a_{21} & a_{22} & \\cdots & a_{2n} \\\\\n",
    "\\vdots & \\vdots & & \\vdots\\\\\n",
    "a_{m1} & a_{m2} & \\cdots & a_{mn} \n",
    "}\\right] $$\n",
    "\n",
    "In the same way, it is possible to define a $n$-dimensional column vector as (m x 1)\n",
    "\n",
    "$$ \\textbf{x} = \\left[ \\matrix{\n",
    "x_{1} \\\\\n",
    "x_{2} \\\\\n",
    "\\vdots\\\\\n",
    "x_{n} \n",
    "}\\right] $$\n",
    "\n",
    "and a row vector (1 x m)\n",
    "\n",
    "$$ \\textbf{y} = \\left[ \\matrix{\n",
    "y_{1} &\n",
    "y_{2} &\n",
    "\\cdots &\n",
    "y_{n} \n",
    "}\\right] $$"
   ]
  },
  {
   "cell_type": "code",
   "execution_count": 1,
   "id": "fresh-binding",
   "metadata": {},
   "outputs": [],
   "source": [
    "import numpy as np"
   ]
  },
  {
   "cell_type": "code",
   "execution_count": null,
   "id": "passing-abortion",
   "metadata": {},
   "outputs": [],
   "source": []
  },
  {
   "cell_type": "code",
   "execution_count": 8,
   "id": "crude-river",
   "metadata": {},
   "outputs": [
    {
     "name": "stdout",
     "output_type": "stream",
     "text": [
      "M1=\n",
      "[[ 5 -4  0]\n",
      " [-4  7 -3]\n",
      " [ 0 -3  5]], with shape=(3, 3)\n"
     ]
    }
   ],
   "source": [
    "#NumPy Arrays\n",
    "M1 = np.array( [[ 5 ,-4, 0],\n",
    "                [-4 , 7,-3],\n",
    "                [ 0 ,-3, 5]] )\n",
    "print( 'M1=\\n{}, with shape={}'.format(M1,M1.shape) )"
   ]
  },
  {
   "cell_type": "code",
   "execution_count": 4,
   "id": "stuck-century",
   "metadata": {},
   "outputs": [],
   "source": [
    "import sympy\n",
    "x = sympy.Symbol('x') # declare analytical varibles\n",
    "sympy.init_printing() # Use LaTeX to print sympy objects"
   ]
  },
  {
   "cell_type": "code",
   "execution_count": 5,
   "id": "integral-setup",
   "metadata": {},
   "outputs": [
    {
     "data": {
      "image/png": "[encoded data removed]",
      "text/latex": [
       "$\\displaystyle \\left[\\begin{matrix}3 & -2 & 1\\\\-1 & 5 & 4\\\\1 & -2 & 3\\end{matrix}\\right]$"
      ],
      "text/plain": [
       "⎡3   -2  1⎤\n",
       "⎢         ⎥\n",
       "⎢-1  5   4⎥\n",
       "⎢         ⎥\n",
       "⎣1   -2  3⎦"
      ]
     },
     "execution_count": 5,
     "metadata": {},
     "output_type": "execute_result"
    }
   ],
   "source": [
    "sympy.Matrix(M2)"
   ]
  },
  {
   "cell_type": "code",
   "execution_count": null,
   "id": "sixth-balance",
   "metadata": {},
   "outputs": [],
   "source": []
  }
 ],
 "metadata": {
  "kernelspec": {
   "display_name": "Python 3",
   "language": "python",
   "name": "python3"
  },
  "language_info": {
   "codemirror_mode": {
    "name": "ipython",
    "version": 3
   },
   "file_extension": ".py",
   "mimetype": "text/x-python",
   "name": "python",
   "nbconvert_exporter": "python",
   "pygments_lexer": "ipython3",
   "version": "3.7.2"
  }
 },
 "nbformat": 4,
 "nbformat_minor": 5
}
