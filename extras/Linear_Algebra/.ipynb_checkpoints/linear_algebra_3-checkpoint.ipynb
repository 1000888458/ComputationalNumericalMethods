{
 "cells": [
  {
   "cell_type": "markdown",
   "id": "searching-civilian",
   "metadata": {},
   "source": [
    "## Order of the class:\n",
    "\n",
    "* numpy vector in Cartesian coordinates\n",
    "* matrix vectors operation\n",
    "* eigenvalues and eigenvectors\n",
    "* another factorization: diagonal factorization\n",
    "* application of diagonalization"
   ]
  },
  {
   "cell_type": "markdown",
   "id": "trained-lingerie",
   "metadata": {},
   "source": [
    "## important Python commands \n",
    "* np.linalg.det()\n",
    "* np.linalg.eig()\n",
    "* np.matmul() or @"
   ]
  },
  {
   "cell_type": "markdown",
   "id": "alpine-wrong",
   "metadata": {},
   "source": [
    "## Dictionary German / English\n",
    "eigen,own\n",
    "* eigen = own = propio\n",
    "* It is good to have your own house\n",
    "* My own house = mein eigenes Haus = mi propia casa\n",
    "\n",
    "det, determinant\n",
    "* to determine ~ to decide, to solve... = resolver (en este caso): We must determine the risk factors \n",
    "* also, \"having strong will\": She is very determined to finish the uni this year."
   ]
  },
  {
   "cell_type": "code",
   "execution_count": 1,
   "id": "fancy-salon",
   "metadata": {},
   "outputs": [],
   "source": [
    "import numpy as np\n",
    "import matplotlib.pyplot as plt"
   ]
  },
  {
   "cell_type": "code",
   "execution_count": 2,
   "id": "sophisticated-license",
   "metadata": {},
   "outputs": [
    {
     "name": "stdout",
     "output_type": "stream",
     "text": [
      "[[2]\n",
      " [2]\n",
      " [0]]\n"
     ]
    }
   ],
   "source": [
    "v=np.array([[2],[2],[0]])\n",
    "print(v)"
   ]
  },
  {
   "cell_type": "code",
   "execution_count": 3,
   "id": "quantitative-mongolia",
   "metadata": {},
   "outputs": [
    {
     "data": {
      "text/plain": [
       "<matplotlib.legend.Legend at 0x7fd51fca6550>"
      ]
     },
     "execution_count": 3,
     "metadata": {},
     "output_type": "execute_result"
    },
    {
     "data": {
      "image/png": "[encoded data removed]",
      "text/plain": [
       "<Figure size 432x288 with 1 Axes>"
      ]
     },
     "metadata": {
      "needs_background": "light"
     },
     "output_type": "display_data"
    }
   ],
   "source": [
    "orig=np.array([[0],[0],[0]])\n",
    "fig,ax=plt.subplots(1,1)\n",
    "ax.quiver(orig[0],orig[0],v[0],v[1], angles='xy', scale_units='xy', scale=1,color='r',label='original vector')\n",
    "ax.set_ylim(-5,5)\n",
    "ax.set_xlim(-5,5)\n",
    "ax.legend()"
   ]
  },
  {
   "cell_type": "markdown",
   "id": "demanding-barbados",
   "metadata": {},
   "source": [
    "# Matrix as an operator"
   ]
  },
  {
   "cell_type": "code",
   "execution_count": 4,
   "id": "authorized-transmission",
   "metadata": {},
   "outputs": [
    {
     "name": "stdout",
     "output_type": "stream",
     "text": [
      "A=\n",
      " [[1 0 0]\n",
      " [0 1 0]\n",
      " [0 0 1]]\n",
      "\n",
      "A matmul v\n",
      "\n",
      "v2=\n",
      " [[2]\n",
      " [2]\n",
      " [0]]\n"
     ]
    }
   ],
   "source": [
    "# identity matrix operation\n",
    "A=np.array([[1,0,0],\n",
    "            [0,1,0],\n",
    "            [0,0,1]])\n",
    "\n",
    "print('A=\\n',A)\n",
    "v2=np.matmul(A,v)\n",
    "print('\\nA matmul v')\n",
    "print('\\nv2=\\n',v2)\n",
    "#print(np.linalg.norm(v2))"
   ]
  },
  {
   "cell_type": "code",
   "execution_count": 5,
   "id": "close-colors",
   "metadata": {},
   "outputs": [
    {
     "data": {
      "text/plain": [
       "<matplotlib.legend.Legend at 0x7fd51fc77a20>"
      ]
     },
     "execution_count": 5,
     "metadata": {},
     "output_type": "execute_result"
    },
    {
     "data": {
      "image/png": "[encoded data removed]",
      "text/plain": [
       "<Figure size 432x288 with 1 Axes>"
      ]
     },
     "metadata": {
      "needs_background": "light"
     },
     "output_type": "display_data"
    }
   ],
   "source": [
    "fig,ax=plt.subplots(1,1)\n",
    "ax.quiver(orig[0],orig[1],v[0],v[1], angles='xy', scale_units='xy', scale=1,color='r',label='original vector')\n",
    "ax.quiver(orig[0],orig[1],v2[0],v2[1], angles='xy', scale_units='xy', scale=1,color='b',label='transformed vector')\n",
    "ax.set_ylim(-5,5)\n",
    "ax.set_xlim(-5,5)\n",
    "ax.legend()"
   ]
  },
  {
   "cell_type": "code",
   "execution_count": 6,
   "id": "qualified-enforcement",
   "metadata": {},
   "outputs": [
    {
     "name": "stdout",
     "output_type": "stream",
     "text": [
      "A=\n",
      " [[-1  0  0]\n",
      " [ 0 -1  0]\n",
      " [ 0  0  1]]\n",
      "\n",
      "A matmul v\n",
      "\n",
      "v3=\n",
      " [[-2]\n",
      " [-2]\n",
      " [ 0]]\n"
     ]
    }
   ],
   "source": [
    "# reflection matrix operation\n",
    "A=np.array([[-1,0,0],\n",
    "            [0,-1,0],\n",
    "            [0,0,1]])\n",
    "\n",
    "print('A=\\n',A)\n",
    "v3=np.matmul(A,v)\n",
    "print('\\nA matmul v')\n",
    "print('\\nv3=\\n',v3)\n",
    "#print(np.linalg.norm(v2))"
   ]
  },
  {
   "cell_type": "code",
   "execution_count": 7,
   "id": "expired-plymouth",
   "metadata": {},
   "outputs": [
    {
     "data": {
      "text/plain": [
       "<matplotlib.legend.Legend at 0x7fd4d70bd898>"
      ]
     },
     "execution_count": 7,
     "metadata": {},
     "output_type": "execute_result"
    },
    {
     "data": {
      "image/png": "[encoded data removed]",
      "text/plain": [
       "<Figure size 432x288 with 1 Axes>"
      ]
     },
     "metadata": {
      "needs_background": "light"
     },
     "output_type": "display_data"
    }
   ],
   "source": [
    "fig,ax=plt.subplots(1,1)\n",
    "ax.quiver(orig[0],orig[1],v[0],v[1], angles='xy', scale_units='xy', scale=1,color='r',label='original vector')\n",
    "ax.quiver(orig[0],orig[1],v3[0],v3[1], angles='xy', scale_units='xy', scale=1,color='b',label='mirrored vector')\n",
    "ax.set_ylim(-5,5)\n",
    "ax.set_xlim(-5,5)\n",
    "ax.legend()"
   ]
  },
  {
   "cell_type": "markdown",
   "id": "practical-ridge",
   "metadata": {},
   "source": [
    "## Transformation matrix in graphics"
   ]
  },
  {
   "cell_type": "markdown",
   "id": "parallel-beginning",
   "metadata": {},
   "source": [
    "<img src=\"imgs/transformation_matrix.png\" width=\"600\" />"
   ]
  },
  {
   "cell_type": "code",
   "execution_count": 8,
   "id": "blond-toronto",
   "metadata": {},
   "outputs": [
    {
     "name": "stdout",
     "output_type": "stream",
     "text": [
      "A=\n",
      " [[ 0.70384532 -0.71035327  0.        ]\n",
      " [ 0.71035327  0.70384532  0.        ]\n",
      " [ 0.          0.          1.        ]]\n",
      "\n",
      "A matmul v\n",
      "\n",
      "v4=\n",
      " [[-0.01301591]\n",
      " [ 2.82839718]\n",
      " [ 0.        ]]\n"
     ]
    }
   ],
   "source": [
    "# rotation around origin matrix operation\n",
    "ang=0.79\n",
    "A=np.array([[ np.cos(ang),-np.sin(ang),0]\n",
    "           ,[np.sin(ang),np.cos(ang),0],\n",
    "            [          0,         0,1]])\n",
    "print('A=\\n',A)\n",
    "v4=np.matmul(A,v)\n",
    "print('\\nA matmul v')\n",
    "print('\\nv4=\\n',v4)"
   ]
  },
  {
   "cell_type": "code",
   "execution_count": 9,
   "id": "brilliant-conversion",
   "metadata": {},
   "outputs": [
    {
     "data": {
      "text/plain": [
       "<matplotlib.legend.Legend at 0x7fd4d70b4588>"
      ]
     },
     "execution_count": 9,
     "metadata": {},
     "output_type": "execute_result"
    },
    {
     "data": {
      "image/png": "[encoded data removed]",
      "text/plain": [
       "<Figure size 432x288 with 1 Axes>"
      ]
     },
     "metadata": {
      "needs_background": "light"
     },
     "output_type": "display_data"
    }
   ],
   "source": [
    "fig,ax=plt.subplots(1,1)\n",
    "ax.quiver(orig[0],orig[1],v[0],v[1], angles='xy', scale_units='xy', scale=1,color='r',label='original vector')\n",
    "ax.quiver(orig[0],orig[1],v4[0],v4[1], angles='xy', scale_units='xy', scale=1,color='b',label='transformed vector')\n",
    "ax.set_ylim(-5,5)\n",
    "ax.set_xlim(-5,5)\n",
    "ax.legend()"
   ]
  },
  {
   "cell_type": "markdown",
   "id": "automotive-uncertainty",
   "metadata": {},
   "source": []
  },
  {
   "cell_type": "markdown",
   "id": "ordinary-citation",
   "metadata": {},
   "source": [
    "## Eigenvalues and eigenvector problems"
   ]
  },
  {
   "cell_type": "markdown",
   "id": "geographic-pottery",
   "metadata": {},
   "source": [
    "$$A\\textbf{v}=\\lambda \\textbf{v}$$\n",
    "Given a square n×n matrix $A$, a scalar $\\lambda$ is called an eigenvalue of $A$ if there exists some nonzero vector $\\textbf{v}$ in $R^n$ such that $A\\textbf{v}=\\lambda \\textbf{v}$. The vector $\\textbf{v}$ is the eigenvector associated with $\\lambda$. The equation states that when an eigenvector of $A$ is multiplied by $A$, the result is simply a multiple of the eigenvector.\n",
    "\n",
    "Example"
   ]
  },
  {
   "cell_type": "markdown",
   "id": "athletic-voice",
   "metadata": {},
   "source": [
    "$$ A \\textbf{v} = \\lambda \\textbf{v} \\equiv   \n",
    "\\begin{bmatrix}\n",
    "2 & 0 \\\\\n",
    "0 & 1 \\\\\n",
    "\\end{bmatrix}\n",
    "\\begin{bmatrix}\n",
    "x \\\\\n",
    "y \\\\\n",
    "\\end{bmatrix}   = \\lambda\n",
    "\\begin{bmatrix}\n",
    "x \\\\\n",
    "y \\\\\n",
    "\\end{bmatrix}\n",
    "$$\n",
    "\n",
    "lets assume we know the eigenvectors and eigenvalues:\n",
    "\n",
    "$$   \n",
    "\\begin{bmatrix}\n",
    "2 & 0 \\\\\n",
    "0 & 1 \\\\\n",
    "\\end{bmatrix}\n",
    "\\begin{bmatrix}\n",
    "1 \\\\\n",
    "0 \\\\\n",
    "\\end{bmatrix}   = 2\n",
    "\\begin{bmatrix}\n",
    "1 \\\\\n",
    "0 \\\\\n",
    "\\end{bmatrix}\n",
    "$$\n",
    "\n",
    "$$or$$\n",
    "\n",
    "$$   \n",
    "\\begin{bmatrix}\n",
    "2 & 0 \\\\\n",
    "0 & 1 \\\\\n",
    "\\end{bmatrix}\n",
    "\\begin{bmatrix}\n",
    "0 \\\\\n",
    "1 \\\\\n",
    "\\end{bmatrix}   = 1\n",
    "\\begin{bmatrix}\n",
    "0 \\\\\n",
    "1 \\\\\n",
    "\\end{bmatrix}\n",
    "$$\n",
    "\n",
    "* which means there is more than one solution"
   ]
  },
  {
   "cell_type": "code",
   "execution_count": 10,
   "id": "dramatic-controversy",
   "metadata": {},
   "outputs": [
    {
     "name": "stdout",
     "output_type": "stream",
     "text": [
      "[[1]\n",
      " [0]]\n"
     ]
    }
   ],
   "source": [
    "orig=np.array([[0,0]])\n",
    "v=np.array([[1],[0]])\n",
    "print(v)"
   ]
  },
  {
   "cell_type": "code",
   "execution_count": 11,
   "id": "brutal-vinyl",
   "metadata": {},
   "outputs": [
    {
     "data": {
      "text/plain": [
       "<matplotlib.legend.Legend at 0x7fd4d6fb7908>"
      ]
     },
     "execution_count": 11,
     "metadata": {},
     "output_type": "execute_result"
    },
    {
     "data": {
      "image/png": "[encoded data removed]",
      "text/plain": [
       "<Figure size 432x288 with 1 Axes>"
      ]
     },
     "metadata": {
      "needs_background": "light"
     },
     "output_type": "display_data"
    }
   ],
   "source": [
    "fig,ax=plt.subplots(1,1)\n",
    "ax.quiver(orig[0,0],orig[0,1],v[0],v[1], angles='xy', scale_units='xy', scale=1,color='r',label='original vector')\n",
    "ax.set_ylim(-5,5)\n",
    "ax.set_xlim(-5,5)\n",
    "ax.legend()            "
   ]
  },
  {
   "cell_type": "code",
   "execution_count": 12,
   "id": "soviet-machinery",
   "metadata": {},
   "outputs": [
    {
     "name": "stdout",
     "output_type": "stream",
     "text": [
      "A=\n",
      " [[2 0]\n",
      " [0 1]]\n",
      "\n",
      "A matmul v\n",
      "\n",
      "v2=\n",
      " [[2]\n",
      " [0]]\n"
     ]
    }
   ],
   "source": [
    "A=np.array([[2,0],[0,1]])\n",
    "print('A=\\n',A)\n",
    "v2=np.matmul(A,v)\n",
    "print('\\nA matmul v')\n",
    "print('\\nv2=\\n',v2)"
   ]
  },
  {
   "cell_type": "code",
   "execution_count": 13,
   "id": "proper-treaty",
   "metadata": {},
   "outputs": [
    {
     "data": {
      "text/plain": [
       "<matplotlib.legend.Legend at 0x7fd4d6fe6908>"
      ]
     },
     "execution_count": 13,
     "metadata": {},
     "output_type": "execute_result"
    },
    {
     "data": {
      "image/png": "[encoded data removed]",
      "text/plain": [
       "<Figure size 432x288 with 1 Axes>"
      ]
     },
     "metadata": {
      "needs_background": "light"
     },
     "output_type": "display_data"
    }
   ],
   "source": [
    "fig,ax=plt.subplots(1,1)\n",
    "ax.quiver(orig[0,0],orig[0,1],v[0],v[1], angles='xy', scale_units='xy', scale=1,color='r',label='original vector')\n",
    "ax.quiver(orig[0,0],orig[0,1],v2[0],v2[1], angles='xy', scale_units='xy', scale=1,color='b',label='transformed vector')\n",
    "\n",
    "ax.set_ylim(-5,5)\n",
    "ax.set_xlim(-5,5)\n",
    "ax.legend()"
   ]
  },
  {
   "cell_type": "markdown",
   "id": "chronic-somewhere",
   "metadata": {},
   "source": [
    "## Eigenvector\n",
    "* Any vector that does not have its direction changed by this transformation is an eigenvector of the matrix. "
   ]
  },
  {
   "cell_type": "markdown",
   "id": "rotary-retail",
   "metadata": {},
   "source": [
    "## Finding Eigenvectors and Eigenvalues using Python numpy.linalg.eig()"
   ]
  },
  {
   "cell_type": "code",
   "execution_count": 14,
   "id": "brilliant-bubble",
   "metadata": {},
   "outputs": [
    {
     "name": "stdout",
     "output_type": "stream",
     "text": [
      "A:\n",
      " [[2 0]\n",
      " [0 1]]\n",
      "Eigen vectors:\n",
      " [[1. 0.]\n",
      " [0. 1.]]\n",
      "Eigen values:\n",
      " [2. 1.]\n"
     ]
    }
   ],
   "source": [
    "a = np.array([[2, 0], \n",
    "              [0, 1]])\n",
    "evalues,evectors=np.linalg.eig(a)\n",
    "print('A:\\n',A)\n",
    "print('Eigen vectors:\\n', evectors)\n",
    "print('Eigen values:\\n', evalues)"
   ]
  },
  {
   "cell_type": "markdown",
   "id": "decimal-stamp",
   "metadata": {},
   "source": [
    "\n",
    "$$   \n",
    "\\begin{bmatrix}\n",
    "2 & 0 \\\\\n",
    "0 & 1 \\\\\n",
    "\\end{bmatrix}\n",
    "\\begin{bmatrix}\n",
    "1 \\\\\n",
    "0 \\\\\n",
    "\\end{bmatrix}   = 2\n",
    "\\begin{bmatrix}\n",
    "1 \\\\\n",
    "0 \\\\\n",
    "\\end{bmatrix}\n",
    "$$\n",
    "\n",
    "$$or$$\n",
    "\n",
    "$$   \n",
    "\\begin{bmatrix}\n",
    "2 & 0 \\\\\n",
    "0 & 1 \\\\\n",
    "\\end{bmatrix}\n",
    "\\begin{bmatrix}\n",
    "0 \\\\\n",
    "1 \\\\\n",
    "\\end{bmatrix}   = 1\n",
    "\\begin{bmatrix}\n",
    "0 \\\\\n",
    "1 \\\\\n",
    "\\end{bmatrix}\n",
    "$$\n"
   ]
  },
  {
   "cell_type": "markdown",
   "id": "accurate-apache",
   "metadata": {},
   "source": [
    "## Finding eigenvalues and eigenvectors manually: Determinant "
   ]
  },
  {
   "cell_type": "markdown",
   "id": "judicial-blocking",
   "metadata": {},
   "source": [
    "$$A\\textbf{v}=\\lambda \\textbf{v}$$\n",
    "$$(A-\\lambda I)\\textbf{v} = 0 $$\n",
    "(set of homogenous linear equations!)\n",
    "this equation is called characteristic equation,\n",
    "\n",
    "Where I is the identify matrix with the same dimensions as A. If matrix $A-\\lambda I$ has an inverse, then multiply both sides with $(A-\\lambda I)^{-1}$, we get a trivial solution x=0. Therefore, when $A-\\lambda I$ is singular (no inverse exist), we have a nontrivial solution, which means that the determinant is zero:\n",
    "\n",
    "$$det(A-\\lambda I)=0$$\n",
    "\n",
    "therefore eigenvalues of $A$ are roots of the characteristic polynomial\n",
    "$$ p(\\lambda)=det(A-\\lambda I)$$\n",
    "\n",
    "\n"
   ]
  },
  {
   "cell_type": "markdown",
   "id": "prime-motivation",
   "metadata": {},
   "source": [
    "For the same matrix:\n",
    "\n",
    "$$A=\n",
    "\\begin{bmatrix}\n",
    "2 & 0 \\\\\n",
    "0 & 1 \\\\\n",
    "\\end{bmatrix}\n",
    "$$\n",
    "\n"
   ]
  },
  {
   "cell_type": "markdown",
   "id": "available-inside",
   "metadata": {},
   "source": [
    "\n",
    "$$   \n",
    "\\begin{vmatrix}\n",
    "2-\\lambda & 0 \\\\\n",
    "0 & 1-\\lambda \\\\\n",
    "\\end{vmatrix} =0\n",
    "$$\n",
    "\n",
    "$$det(A−\\lambda I)=0$$\n",
    "\n",
    "$$(2-\\lambda)(1-\\lambda)=0$$\n",
    "$$2-2 \\lambda + \\lambda^2 = 0$$\n",
    "$$\\lambda=1, \\lambda=2$$\n",
    "\n",
    "To get eigenvectors we simply substitute the eigenvalues back into $(A-\\lambda I)x = 0 $"
   ]
  },
  {
   "cell_type": "markdown",
   "id": "spanish-charleston",
   "metadata": {},
   "source": [
    "### Verifying eigenvectors using matrix multiplication"
   ]
  },
  {
   "cell_type": "markdown",
   "id": "enhanced-bench",
   "metadata": {},
   "source": [
    "Let’s try another example with a 3×3\n",
    "matrix.\n",
    "\n",
    "$$A=\n",
    "\\begin{bmatrix}\n",
    "1 &  2 & 0 \\\\\n",
    "2  & -1 & 4 \\\\\n",
    "0  &  3 & 1 \\\\\n",
    "\\end{bmatrix}$$"
   ]
  },
  {
   "cell_type": "code",
   "execution_count": 15,
   "id": "australian-health",
   "metadata": {},
   "outputs": [
    {
     "name": "stdout",
     "output_type": "stream",
     "text": [
      "[[ 1  2  0]\n",
      " [ 2 -1  4]\n",
      " [ 0  3  1]]\n",
      "[-4.12310563  1.          4.12310563]\n",
      "\n",
      "\n",
      "[[ 3.19250163e-01  8.94427191e-01  4.19279023e-01]\n",
      " [-8.17776152e-01 -1.03817864e-16  6.54726338e-01]\n",
      " [ 4.78875244e-01 -4.47213595e-01  6.28918535e-01]]\n"
     ]
    }
   ],
   "source": [
    "A=np.array([[1,2,0],\n",
    "            [2,-1,4],\n",
    "            [0,3,1]])\n",
    "evalues, evectors = np.linalg.eig(A)\n",
    "print(A)\n",
    "print(evalues)\n",
    "print('\\n')\n",
    "print(evectors)\n",
    "\n",
    "V_1 = evectors[:,0:1]\n",
    "V_2 = evectors[:,1:2]\n",
    "V_3 = evectors[:,2:3]\n",
    "\n",
    "E_1 = evalues[0]\n",
    "E_2 = evalues[1]\n",
    "E_3 = evalues[2]"
   ]
  },
  {
   "cell_type": "markdown",
   "id": "related-sensitivity",
   "metadata": {},
   "source": []
  },
  {
   "cell_type": "markdown",
   "id": "convenient-sherman",
   "metadata": {},
   "source": [
    "We don’t have the exact eigenvalues, but we can check that $$A \\textbf{v}_i- \\lambda_i \\textbf{v}_i=0$$ for $i=1,2,3,$ allowing of for small precision error."
   ]
  },
  {
   "cell_type": "code",
   "execution_count": 16,
   "id": "bound-european",
   "metadata": {},
   "outputs": [
    {
     "name": "stdout",
     "output_type": "stream",
     "text": [
      "[[-4.44089210e-16]\n",
      " [ 2.22044605e-15]\n",
      " [-1.11022302e-15]]\n",
      "[[-6.66133815e-16]\n",
      " [ 5.47907073e-16]\n",
      " [-1.11022302e-16]]\n",
      "[[4.4408921e-16]\n",
      " [0.0000000e+00]\n",
      " [0.0000000e+00]]\n"
     ]
    }
   ],
   "source": [
    "print(np.matmul(A,V_1)-E_1*V_1)\n",
    "print(np.matmul(A,V_2)-E_2*V_2)\n",
    "print(np.matmul(A,V_3)-E_3*V_3)"
   ]
  },
  {
   "cell_type": "markdown",
   "id": "applied-school",
   "metadata": {},
   "source": [
    "### Diagonal factorization or  Diagonalization "
   ]
  },
  {
   "cell_type": "markdown",
   "id": "bridal-baptist",
   "metadata": {},
   "source": [
    "Instead of $A \\textbf{v}_i-\\lambda_i \\textbf{v}_i=0$ for each $i$, we can package the calculations into a single matrix multiplication. If $P$ is the matrix with columns $\\textbf{v}_i$, then $AP$ is the matrix with columns $A \\textbf{v}_i$. This matrix should be compared to the matrix that has $\\lambda_i \\textbf{v}_i$ as its columns. To construct this matrix we use a diagonal matrix $D$, that has the $\\lambda_i$ as its diagonal entries. The matrix product $PD$ will then have columns $\\lambda_i\\textbf{v}_i$."
   ]
  },
  {
   "cell_type": "markdown",
   "id": "imperial-clark",
   "metadata": {},
   "source": [
    "$$\n",
    "\\left[\n",
    "\\begin{array}{c|c}\n",
    " &   &    \\\\ \n",
    "\\textbf{v}_1 &  \\textbf{v}_2 & \\textbf{v}_3   \\\\ \n",
    " &   &   \\\\ \n",
    "\\end{array} \\right]\n",
    "\\begin{bmatrix}\n",
    "\\lambda_1 &  0 & 0 \\\\\n",
    "0  & \\lambda_2 & 0 \\\\\n",
    "0  &  0 & \\lambda_3 \\\\\n",
    "\\end{bmatrix}=\n",
    "\\left[\n",
    "\\begin{array}{c|c}\n",
    " &   &    \\\\ \n",
    "\\lambda_1 \\textbf{v}_1 &  \\lambda_2 \\textbf{v}_2 & \\lambda_3 \\textbf{v}_3   \\\\ \n",
    " &   &   \\\\ \n",
    "\\end{array} \\right]\n",
    "$$\n",
    "\n",
    "where $D$ is a matrix containg eigenvalues on its diagonal \n",
    "\n",
    "And then one can now simply check that $AP-PD=0$"
   ]
  },
  {
   "cell_type": "code",
   "execution_count": 17,
   "id": "sound-translation",
   "metadata": {},
   "outputs": [
    {
     "name": "stdout",
     "output_type": "stream",
     "text": [
      "D=\n",
      " [[-4.12310563  0.          0.        ]\n",
      " [ 0.          1.          0.        ]\n",
      " [ 0.          0.          4.12310563]]\n",
      "\n",
      "\n",
      "AP-PD=\n",
      " [[-1.31630214e+00  8.94427191e-01  1.72873170e+00]\n",
      " [ 3.37177745e+00 -1.03817864e-16  2.69950585e+00]\n",
      " [-1.97445321e+00 -4.47213595e-01  2.59309755e+00]]\n"
     ]
    }
   ],
   "source": [
    "A=np.array([[1,2,0],\n",
    "            [2,-1,4],\n",
    "            [0,3,1]])\n",
    "evalues, evectors = np.linalg.eig(A)\n",
    "\n",
    "P = evectors\n",
    "#  Since the eigenvalues are complex, it is best to use an array of complex numbers for D\n",
    "D = np.zeros((3,3))\n",
    "for i in range(3):\n",
    "    D[i,i] = evalues[i]\n",
    "\n",
    "print('D=\\n',D)\n",
    "print('\\n')\n",
    "print('AP-PD=\\n',np.matmul(P,D))\n",
    "#print(B@S-S@D)"
   ]
  },
  {
   "cell_type": "markdown",
   "id": "cathedral-nerve",
   "metadata": {},
   "source": [
    "The calculation above allows to construct another important matrix $\\textbf{factorization}$. Assume that $A$ is an $n \\times n$ matrix, $D$ is a diagonal matrix with the eigenvalues of $A$ along its diagonal, and $P$ is the $n \\times n$ matrix with the eigenvectors of $A$ as its columns. We have just seen that $AP=PD$. If $P$ is invertible, we may also write $A=PDP^{-1}$, which is known as the $\\textbf{diagonalization}$ of $A$.\n",
    "\n",
    "$$A=PDP^{-1}$$\n",
    "Diagonal Factorization of Matrix $A$"
   ]
  },
  {
   "cell_type": "markdown",
   "id": "toxic-party",
   "metadata": {},
   "source": [
    "Having $A$ factorized in such way we can rewrite the action of a matrix $A$ on a vector $\\textbf{v}$ \n",
    "\n",
    "$$ A\\textbf{v} \\equiv PDP^{-1} \\textbf{v}$$\n",
    "\n",
    "This can be understand as follow:\n",
    "\n",
    "* $P^{-1}\\textbf{v}$ computes the coordinates of $\\textbf{v}$ in terms of the eigenvectors of $A$\n",
    "\n",
    "* multiplication by $D$ scales each coordinate by the corresponding eigenvalue\n",
    "\n",
    "* multiplication by $P$ gives the results with respect to the standard basis.\n",
    "\n",
    "\n",
    "Which generalizes the action of $A$ on $\\textbf{v}$\n",
    "\n",
    "Diagonalization of an matrix can be restated:\n",
    "\n",
    "A matrix $A$ is called diagonalizable, if we can find an invertible matrix $P$ such that $P^{-1}AP =D$, is diagonal\n",
    "\n",
    "Not every matrix is diagonalizable. A matrix is not diagolizable if the determinant $detA$ = 0\n",
    "* Note that the determinant is a product of the eigenvalues"
   ]
  },
  {
   "cell_type": "markdown",
   "id": "boring-metadata",
   "metadata": {},
   "source": [
    "\n",
    "### Matrix diagonalization (diagonal factorization) in Python (matlab)"
   ]
  },
  {
   "cell_type": "markdown",
   "id": "further-coating",
   "metadata": {},
   "source": [
    "https://numpy.org/doc/stable/reference/generated/numpy.linalg.eig.html\n",
    "\n",
    "http://sites.science.oregonstate.edu/~landaur/nacphy/lapack/eigen.html\n",
    "\n",
    "* Schur factorization of an upper Hessenberg matrix, using the multishift QR algorithm\n"
   ]
  },
  {
   "cell_type": "code",
   "execution_count": 18,
   "id": "analyzed-hobby",
   "metadata": {},
   "outputs": [
    {
     "name": "stdout",
     "output_type": "stream",
     "text": [
      "detA=\n",
      " -17.0\n",
      "-16.999999999999996\n"
     ]
    }
   ],
   "source": [
    "# Lets check all those operations\n",
    "A=np.array([[1,2,0],\n",
    "            [2,-1,4],\n",
    "            [0,3,1]])\n",
    "\n",
    "detA=np.linalg.det(A)\n",
    "print('detA=\\n',detA)\n",
    "\n",
    "evalues, evectors = np.linalg.eig(A)\n",
    "print(np.prod(evalues))\n",
    "\n"
   ]
  },
  {
   "cell_type": "code",
   "execution_count": 19,
   "id": "acute-industry",
   "metadata": {},
   "outputs": [
    {
     "name": "stdout",
     "output_type": "stream",
     "text": [
      "[[1. 0. 0.]\n",
      " [0. 1. 0.]\n",
      " [0. 0. 1.]]\n",
      "PDP^1=\n",
      " [[ 1.00000000e+00  2.00000000e+00 -4.44089210e-16]\n",
      " [ 2.00000000e+00 -1.00000000e+00  4.00000000e+00]\n",
      " [ 5.55111512e-16  3.00000000e+00  1.00000000e+00]]\n",
      "\n",
      "\n",
      "[[ 1.00000000e+00  2.00000000e+00 -4.85678543e-16]\n",
      " [ 2.00000000e+00 -1.00000000e+00  4.00000000e+00]\n",
      " [ 5.13686909e-16  3.00000000e+00  1.00000000e+00]]\n",
      "A=\n",
      " [[ 1  2  0]\n",
      " [ 2 -1  4]\n",
      " [ 0  3  1]]\n",
      "P^-1AP=\n",
      " [[-4.12310563e+00 -6.80260498e-16 -1.94265469e-16]\n",
      " [ 2.01597046e-16  1.00000000e+00  8.03638622e-17]\n",
      " [ 5.76138542e-16 -5.67499034e-18  4.12310563e+00]]\n",
      "D=\n",
      " [[-4.12310563  0.          0.        ]\n",
      " [ 0.          1.          0.        ]\n",
      " [ 0.          0.          4.12310563]]\n"
     ]
    }
   ],
   "source": [
    "P = evectors\n",
    "Pinv=np.linalg.inv(P)\n",
    "#  Since the eigenvalues are complex, it is best to use an array of complex numbers for D\n",
    "D = np.zeros((3,3))\n",
    "for i in range(3):\n",
    "    D[i,i] = evalues[i]\n",
    "\n",
    "Dinv=np.linalg.inv(D)\n",
    "print(np.matmul(Dinv,D))\n",
    "\n",
    "print('PDP^1=\\n',np.matmul(P,np.matmul(D,Pinv)))\n",
    "print('\\n')\n",
    "print(P@D@Pinv)\n",
    "print('A=\\n',A)\n",
    "print('P^-1AP=\\n',np.matmul(Pinv,np.matmul(A,P)))\n",
    "print('D=\\n',D)"
   ]
  },
  {
   "cell_type": "markdown",
   "id": "cordless-centre",
   "metadata": {},
   "source": [
    "## Diagonalization - applications, 2 Examples"
   ]
  },
  {
   "cell_type": "markdown",
   "id": "cordless-batman",
   "metadata": {},
   "source": [
    "### Electron interacting with a magnetic field**\n",
    "\n",
    "An electron is placed to interact with an uniform magnetic field. To give account of the possible allowed levels of the electron in the presence of the magnetic field it is necessary to solve the next equation\n",
    "\n",
    "\\begin{equation}\n",
    "\\hat{H}|\\Psi\\rangle = E|\\Psi\\rangle\n",
    "\\end{equation}\n",
    "\n",
    "where the hamiltonian is equal to $H = -\\mu \\cdot B = -\\gamma B \\cdot S$, with the gyromagnetic ratio $\\gamma$, $\\textbf{B}$ the magnetic field and $\\textbf{S}$ the spin. It can be shown that the hamiltonian expression is transformed in \n",
    "\n",
    "\\begin{equation}\n",
    "\\hat{\\textbf{H}} = - \\frac{\\gamma \\hbar}{2} \\left( \\begin{array}{cc}\n",
    "B_z  & B_x -i B_y \\\\\n",
    "B_x + i B_y  & -B_z  \\end{array} \\right) \n",
    "\\end{equation}\n",
    "\n",
    "Then, by solving the problem $|H - EI|=0$ is found the allowed energy levels, i.e., finding the determinant of the \n",
    "matrix $H - EI$ allows to get the values $E_1$ and $E_2$.\n",
    "\n",
    "\n",
    "\n",
    "And solving the problem $\\hat{H}\\Psi$ - E$\\Psi = 0$ gives the autofunctions $\\Psi$, i.e., the column vector $\\Psi= \\{\\Psi_1, \\Psi_2\\}$. \n",
    "\n",
    "The function scipy.optimize.root can be used to get roots of a given equation. The experimental value of $\\gamma$ for the electron is 2. The order of magnitude of the magnetic field is $1g$. \n",
    "\n",
    "\n",
    "\n",
    "1)  Find the allowed energy levels.\n",
    "\n",
    "\n",
    "\n",
    "2)  Find the autofunctions and normalize them. \n",
    "\n",
    "\n",
    "\n",
    "**Hint:** An imaginary number in python can be written as 1j.  \n"
   ]
  },
  {
   "cell_type": "markdown",
   "id": "printable-client",
   "metadata": {},
   "source": [
    "### Power of a matrix\n",
    "\n",
    "Let's think about the problem of raising $A$ to a large power : 100! This kind of computation is definitely useful; in a lot of real-world applications, you're interested in what happens when some process (represented mathematically by the matrix multiplication) is applied to some initial conditions (stored in a vector) over and over again. We could of course just multiply A by itself 100 times, but that makes for a lot of operations, even for a computer. It will take a long time, especially if A is large. However, diagonalization offers us a neat shortcut. If we could write A as PDP-1, where D is a diagonal matrix, then we can do this:\n",
    "\n",
    "\n",
    "$$A^2=PDP^{-1} PDP^{-1} = PDDP^{-1} =PD^2P^{-1}$$\n",
    "\n",
    "$$D^2=\n",
    "\\begin{bmatrix}\n",
    "\\lambda_1^{2} &  0 & 0 \\\\\n",
    "0  & \\lambda_1^{2} & 0 \\\\\n",
    "0  &  0 & \\lambda_1^{2} \\\\\n",
    "\\end{bmatrix}$$\n",
    "\n",
    "\n",
    "$$A^3=PDP^{-1} PDP^{-1}  PDP^{-1} = PDDDP^{-1} =PD^3P^{-1}$$\n",
    "\n",
    "$$D^3=\n",
    "\\begin{bmatrix}\n",
    "\\lambda_1^{3} &  0 & 0 \\\\\n",
    "0  & \\lambda_1^{3} & 0 \\\\\n",
    "0  &  0 & \\lambda_1^{3} \\\\\n",
    "\\end{bmatrix}$$\n",
    "\n",
    "$$D^k=\n",
    "\\begin{bmatrix}\n",
    "\\lambda_1^{k} &  0 & 0 \\\\\n",
    "0  & \\lambda_1^{k} & 0 \\\\\n",
    "0  &  0 & \\lambda_1^{k} \\\\\n",
    "\\end{bmatrix}$$\n",
    "\n",
    "$$A^{100} = (PDP^{-1})^{100} = (PDP^{-1})(PDP^{-1})⋯(PDP^{-1}) = PD(P^{-1}P)D(P^{-1}P)⋯(P^{-1}P)DP^{-1} = PD^{100}P^{-1}.$$\n",
    "\n",
    "$D^{100}$ is much nicer than $A^{100}$ because in order to raise a diagonal matrix to a power, all you have to do is raise all of its entries to that power!"
   ]
  },
  {
   "cell_type": "markdown",
   "id": "indoor-patrick",
   "metadata": {},
   "source": [
    "## Homework: \n",
    "Calculate S^5 using two methods. in a \"for\" loop and using diagonalization. Compare the results.\n",
    "\n",
    "$$S=\n",
    "\\begin{bmatrix}\n",
    "1 &  -1 & -1 & -1\\\\\n",
    "-1 &  2 & 0 & 0\\\\\n",
    "-1 &  3 & 3 & 0 \\\\\n",
    "-1 &  0 & 1 & 4 \\\\\n",
    "\\end{bmatrix}$$\n",
    "\n",
    "\n"
   ]
  },
  {
   "cell_type": "code",
   "execution_count": null,
   "id": "greenhouse-supply",
   "metadata": {},
   "outputs": [],
   "source": []
  }
 ],
 "metadata": {
  "kernelspec": {
   "display_name": "Python 3",
   "language": "python",
   "name": "python3"
  },
  "language_info": {
   "codemirror_mode": {
    "name": "ipython",
    "version": 3
   },
   "file_extension": ".py",
   "mimetype": "text/x-python",
   "name": "python",
   "nbconvert_exporter": "python",
   "pygments_lexer": "ipython3",
   "version": "3.7.2"
  }
 },
 "nbformat": 4,
 "nbformat_minor": 5
}
