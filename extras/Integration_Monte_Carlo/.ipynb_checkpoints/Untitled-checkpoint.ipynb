{
 "cells": [
  {
   "cell_type": "code",
   "execution_count": null,
   "id": "egyptian-hostel",
   "metadata": {},
   "outputs": [],
   "source": [
    "from scipy import integrate\n",
    "def f(*args):\n",
    "    x, y = args\n",
    "    return y * np.sin(x) + x * np.cos(y)\n",
    "\n",
    "I,error=integrate.nquad(f,[[np.pi,2*np.pi],[0,np.pi]])\n",
    "print(I)"
   ]
  }
 ],
 "metadata": {
  "kernelspec": {
   "display_name": "Python 3",
   "language": "python",
   "name": "python3"
  },
  "language_info": {
   "codemirror_mode": {
    "name": "ipython",
    "version": 3
   },
   "file_extension": ".py",
   "mimetype": "text/x-python",
   "name": "python",
   "nbconvert_exporter": "python",
   "pygments_lexer": "ipython3",
   "version": "3.7.2"
  }
 },
 "nbformat": 4,
 "nbformat_minor": 5
}
