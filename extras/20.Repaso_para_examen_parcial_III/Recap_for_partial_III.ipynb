{
 "cells": [
  {
   "cell_type": "markdown",
   "id": "powerful-unemployment",
   "metadata": {},
   "source": [
    "# Recap for the Partial Exam #3"
   ]
  },
  {
   "cell_type": "markdown",
   "id": "incorporate-capitol",
   "metadata": {},
   "source": [
    "## 1. Numerical calculus"
   ]
  },
  {
   "cell_type": "markdown",
   "id": "recorded-granny",
   "metadata": {},
   "source": [
    "### a) Numerical differentiation:"
   ]
  },
  {
   "cell_type": "markdown",
   "id": "cardiac-hunger",
   "metadata": {},
   "source": [
    "* obtain a derivative of a known function\n",
    "  * `y_prime = scipy.misc.derivative(func, 1.0, dx=1e-6)`\n",
    "* obtain a derivative of an unknown function (points)\n",
    "  * `y_prime = np.gradient(y, x)`"
   ]
  },
  {
   "cell_type": "markdown",
   "id": "anonymous-personality",
   "metadata": {},
   "source": [
    "### b) Numerical integration:"
   ]
  },
  {
   "cell_type": "markdown",
   "id": "broad-valuable",
   "metadata": {},
   "source": [
    "* obtain a integral of a known function\n",
    "  * `I,error = integrate.quad(integrand, lim1, lim2, args=(a,b))`\n",
    "* obtain a integral of an unknown function (points) \n",
    "  * `I_trapz=integrate.trapz(y,x)` or  \n",
    "  * `I_simps=integrate.simps(y,x)` (note the order of the vectors)\n",
    "* use monte carlo method for integration\n",
    "  * recall homework"
   ]
  },
  {
   "cell_type": "markdown",
   "id": "royal-horror",
   "metadata": {},
   "source": [
    "## 2. Linear Algebra"
   ]
  },
  {
   "cell_type": "markdown",
   "id": "explicit-grammar",
   "metadata": {},
   "source": [
    "### a) solve linear system of equation"
   ]
  },
  {
   "cell_type": "markdown",
   "id": "antique-assist",
   "metadata": {},
   "source": [
    "* `A=np.array([[1,2,3],\n",
    "               [4,5,6],\n",
    "               [7,8,9]])` \n",
    "* `x=np.linalg.solve(A,b)`"
   ]
  },
  {
   "cell_type": "markdown",
   "id": "yellow-discovery",
   "metadata": {},
   "source": [
    "### b) matrix factorization - Diagonalization"
   ]
  },
  {
   "cell_type": "markdown",
   "id": "arbitrary-profile",
   "metadata": {},
   "source": [
    "* `evalues,evectors=np.linalg.eig(A)`\n",
    "* `A_inv=np.linalg.inv(A)`\n",
    "* `D=np.diag(evalues)`\n",
    "* `C=A@B`\n",
    "* `C=np.matmul(A,B)` \n",
    "* `v=np.array([[1,2,3]])`\n",
    "* `vsquared=v**2`"
   ]
  },
  {
   "cell_type": "code",
   "execution_count": 7,
   "id": "neural-count",
   "metadata": {},
   "outputs": [
    {
     "name": "stdout",
     "output_type": "stream",
     "text": [
      "[[1 2 3]]\n"
     ]
    }
   ],
   "source": [
    "v=np.array([[1,2,3]])\n",
    "print(v)"
   ]
  },
  {
   "cell_type": "code",
   "execution_count": 6,
   "id": "trained-fifty",
   "metadata": {},
   "outputs": [
    {
     "name": "stdout",
     "output_type": "stream",
     "text": [
      "[[1 4 9]]\n"
     ]
    }
   ],
   "source": [
    "v_square=v**2\n",
    "print(v_square)"
   ]
  },
  {
   "cell_type": "code",
   "execution_count": null,
   "id": "appreciated-thanks",
   "metadata": {},
   "outputs": [],
   "source": []
  }
 ],
 "metadata": {
  "kernelspec": {
   "display_name": "Python 3",
   "language": "python",
   "name": "python3"
  },
  "language_info": {
   "codemirror_mode": {
    "name": "ipython",
    "version": 3
   },
   "file_extension": ".py",
   "mimetype": "text/x-python",
   "name": "python",
   "nbconvert_exporter": "python",
   "pygments_lexer": "ipython3",
   "version": "3.7.2"
  }
 },
 "nbformat": 4,
 "nbformat_minor": 5
}
