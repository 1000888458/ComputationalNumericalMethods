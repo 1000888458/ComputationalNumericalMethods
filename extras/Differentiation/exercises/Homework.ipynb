{
 "cells": [
  {
   "cell_type": "markdown",
   "id": "afraid-communication",
   "metadata": {},
   "source": [
    "## HOMEWORK\n",
    "\n",
    "Use the scipy.misc.derivative package to find the derivative \n",
    "of the following function: \n",
    "\n",
    "################\n",
    "\n",
    "def myfunc(x,a):\n",
    "\n",
    "    return a*np.sin(x)\n",
    "################\n",
    "\n",
    "where 'a' is an arbitrary variable passed to the routing derivative\n",
    "\n",
    "*hint read the documentation of the scipy.misc.derivative and check how one can pass arguments to the fuction\n",
    "\n",
    "Plot the function, the derivative and compare with analytical results of the function for a=1"
   ]
  },
  {
   "cell_type": "code",
   "execution_count": null,
   "id": "straight-portuguese",
   "metadata": {},
   "outputs": [],
   "source": []
  }
 ],
 "metadata": {
  "kernelspec": {
   "display_name": "Python 3",
   "language": "python",
   "name": "python3"
  },
  "language_info": {
   "codemirror_mode": {
    "name": "ipython",
    "version": 3
   },
   "file_extension": ".py",
   "mimetype": "text/x-python",
   "name": "python",
   "nbconvert_exporter": "python",
   "pygments_lexer": "ipython3",
   "version": "3.7.2"
  }
 },
 "nbformat": 4,
 "nbformat_minor": 5
}
