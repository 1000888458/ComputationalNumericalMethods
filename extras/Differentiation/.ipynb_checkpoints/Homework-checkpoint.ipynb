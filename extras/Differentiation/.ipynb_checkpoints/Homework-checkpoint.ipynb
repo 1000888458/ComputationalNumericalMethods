{
 "cells": [
  {
   "cell_type": "code",
   "execution_count": null,
   "id": "alternate-commitment",
   "metadata": {},
   "outputs": [],
   "source": [
    "## HOMEWORK\n",
    "\n",
    "Use the scipy.misc.derivative package to numerically find the derivative \n",
    "of the following function: \n",
    "\n",
    "def myfunc(x,a):\n",
    "    a*np.sin(x)\n",
    "    \n",
    "where a is an arbitrary variable passed to the routing derivative\n",
    "*hint read the documentation of the scipy.misc.derivative and check how one can pass arguments to the fuction\n",
    "\n",
    "Plot the function, the derivative and compare with analytical results of the function for a=1"
   ]
  }
 ],
 "metadata": {
  "kernelspec": {
   "display_name": "Python 3",
   "language": "python",
   "name": "python3"
  },
  "language_info": {
   "codemirror_mode": {
    "name": "ipython",
    "version": 3
   },
   "file_extension": ".py",
   "mimetype": "text/x-python",
   "name": "python",
   "nbconvert_exporter": "python",
   "pygments_lexer": "ipython3",
   "version": "3.7.2"
  }
 },
 "nbformat": 4,
 "nbformat_minor": 5
}
