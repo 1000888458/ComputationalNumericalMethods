{
 "cells": [
  {
   "cell_type": "markdown",
   "id": "productive-sailing",
   "metadata": {},
   "source": [
    "### Homework: Least Action using Minimization\n",
    "\n",
    "Use function \"minimize from scipy.optimize\" and the method called ‘SLSQP’ to minimize:  the action S.\n",
    "\n",
    "This task is basically identical to the example from the class. Use the same parameters (t=3.0,m=0.2 n=21) and both functions: xfit() and S().\n",
    "\n",
    "For more details on the scipy.optimize.minimize read the documentation:\n",
    "\n",
    "https://docs.scipy.org/doc/scipy/reference/generated/scipy.optimize.minimize.html\n",
    "\n",
    "Please note that the output of this function is different that from the \"optimize.fmin_powell\" that we did in the class\n",
    "\n",
    "* here: obj = scipy.optimize.minimize(...)\n",
    "\n",
    "the output of the process is an object (obj) so to access the information of the minimization you can type:\n",
    "\n",
    "* print(obj), or print(dir(obj))\n",
    "* look at the attributes (x, success, status, message, fun)\n",
    "* then choose the attribute you are interested in, example: \n",
    "\n",
    "print(obj.message)\n",
    "\n",
    "* details on the attributes are here: https://docs.scipy.org/doc/scipy/reference/generated/scipy.optimize.OptimizeResult.html#scipy.optimize.OptimizeResult)\n",
    "\n",
    "* compare by plotting the two minimization routines, the one from the class \"optimize.fmin_powell\" with \"scipy.optimize.minimize\""
   ]
  },
  {
   "cell_type": "code",
   "execution_count": null,
   "id": "velvet-celebration",
   "metadata": {},
   "outputs": [],
   "source": []
  }
 ],
 "metadata": {
  "kernelspec": {
   "display_name": "Python 3",
   "language": "python",
   "name": "python3"
  },
  "language_info": {
   "codemirror_mode": {
    "name": "ipython",
    "version": 3
   },
   "file_extension": ".py",
   "mimetype": "text/x-python",
   "name": "python",
   "nbconvert_exporter": "python",
   "pygments_lexer": "ipython3",
   "version": "3.7.2"
  }
 },
 "nbformat": 4,
 "nbformat_minor": 5
}
