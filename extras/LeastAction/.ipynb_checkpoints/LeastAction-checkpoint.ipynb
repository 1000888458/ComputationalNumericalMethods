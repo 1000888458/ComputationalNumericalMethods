{
 "cells": [
  {
   "cell_type": "markdown",
   "id": "resistant-worst",
   "metadata": {},
   "source": [
    "# Least Action with least squares minimization (numerically)\n",
    "\n",
    "* what does \"least\" mean?\n",
    "* what does \"action\" mean? - word \"action\" is extremely non-intuitive so to understand it you must see the equation! but before some examples:\n",
    "* if we throw a ball vertically the path \"position vs time\" will be parabolic (not always so intuitive)\n",
    "* Fermat’s principle: Light travels so as to minimize the time it takes (here action = time).\n",
    "* the best definition will be the equation (later on)\n",
    "\n",
    "<img src=\"imgs/light_prism.jpg\" width=\"200\" />\n",
    "\n",
    "https://www.feynmanlectures.caltech.edu/II_19.html\n",
    "\n",
    "http://web.mit.edu/jgross/Public/least_action/Principle%20of%20Least%20Action.pdf"
   ]
  },
  {
   "cell_type": "markdown",
   "id": "collectible-donor",
   "metadata": {},
   "source": [
    "\n",
    "## Let's start the obvious way: the equation of motion of an object thrown vertically\n",
    " \n",
    "<img src=\"imgs/vtoss.jpg\" width=\"200\" />\n",
    "\n",
    "$$x(t)=-\\frac{{1}}{{2}}gt^2+v_0t$$\n",
    "\n",
    "* having this equation we have the problem solved\n",
    "<img src=\"imgs/hvst.png\" width=\"400\" />"
   ]
  },
  {
   "cell_type": "code",
   "execution_count": 41,
   "id": "refined-pierce",
   "metadata": {},
   "outputs": [
    {
     "name": "stdout",
     "output_type": "stream",
     "text": [
      "[0.   0.15 0.3  0.45 0.6  0.75 0.9  1.05 1.2  1.35 1.5  1.65 1.8  1.95\n",
      " 2.1  2.25 2.4  2.55 2.7  2.85 3.  ]\n",
      "\n",
      "[ 0.         2.0946375  3.96855    5.6217375  7.0542     8.2659375\n",
      "  9.25695   10.0272375 10.5768    10.9056375 11.01375   10.9011375\n",
      " 10.5678    10.0137375  9.23895    8.2434375  7.0272     5.5902375\n",
      "  3.93255    2.0541375  0.       ]\n"
     ]
    },
    {
     "data": {
      "text/plain": [
       "Text(0, 0.5, 'x(t) [m]')"
      ]
     },
     "execution_count": 41,
     "metadata": {},
     "output_type": "execute_result"
    },
    {
     "data": {
      "image/png": "[encoded data removed]",
      "text/plain": [
       "<Figure size 432x288 with 1 Axes>"
      ]
     },
     "metadata": {
      "needs_background": "light"
     },
     "output_type": "display_data"
    }
   ],
   "source": [
    "import numpy as np\n",
    "import scipy.optimize\n",
    "import pandas as pd\n",
    "global g  \n",
    "import matplotlib.pyplot as plt\n",
    "\n",
    "g=9.81 #m/s^2\n",
    "v0=14.7\n",
    "\n",
    "t=np.linspace(0.0,3.0,21)\n",
    "xt=-0.5*g*t**2 + v0*t\n",
    "xt[0]=0\n",
    "xt[-1]=0\n",
    "\n",
    "print(t)\n",
    "print()\n",
    "print(xt)\n",
    "\n",
    "fig,ax=plt.subplots(1,1)\n",
    "ax.plot(t,xt)\n",
    "ax.set_xlabel('t [s]')\n",
    "ax.set_ylabel('x(t) [m]')"
   ]
  },
  {
   "cell_type": "markdown",
   "id": "sitting-webster",
   "metadata": {},
   "source": [
    "### But let's imagine we dont know the equation of motion:\n",
    "\n",
    "and think in terms of ENERGY - kinetic and potential. How can we find the position of the ball at each moment of time x(t)? The answer is Equation Lagrange and Least Action! "
   ]
  },
  {
   "cell_type": "markdown",
   "id": "conditional-problem",
   "metadata": {},
   "source": [
    "<div style=\"float: right;\" markdown=\"1\">\n",
    "    <img src=\"https://raw.githubusercontent.com/restrepo/ComputationalMethods/master/material/figures/leastaction1.svg?sanitize=true\">\n",
    "</div>\n",
    "\n",
    "## Geometrical representation of the problem\n",
    "Following the geometry theory developed [here](http://www.eftaylor.com/software/ActionApplets/LeastAction.html), we will try to define something called the _Action_ for one small segment of the free fall movement in one-dimension. \n",
    "\n",
    "For that we need the experimental data consisting on the height of an object of mass $m$ in free fall, and the height $x_i$, for each time $t_i$. This data would be fitted by a polynomial of degree two, as displayed in the figure for one of the fitted segments of the plot of $x$ as a function of $t$. We take the origin of the coordinates at ground level. For each segment we can calculate an average kinetic energy, $T$, and an averge potential energy, $V$, in the limit of $\\Delta t=t_2-t_1$ small. From the figure\n",
    "\n",
    "\\begin{align}\n",
    "T=\\frac{1}{2} m v^2\\approx &\\frac{1}{2} m\\left(\\frac{x_2-x_1}{t_2-t_1}\\right)^2\\,,&\n",
    "V=mgh\\approx& m g \\frac{x_2+x_1}{2}\\,.\n",
    "\\end{align}\n",
    "\n",
    "We can then reformulate the problem of the free fall in the following terms. From all the possible curves that can interpolate the points $(t_1,x_1)$ and $(t_2,x_2)$, which is the correct one?. \n",
    "\n",
    "The answer can be obtained from the definition of the function  $\\color{red}{\\text{\"Lagrangian\":}}$ \n",
    "\n",
    "$$L(t)=T(t)-V(t)\\,.$$"
   ]
  },
  {
   "cell_type": "markdown",
   "id": "color-racing",
   "metadata": {},
   "source": [
    "### Least Action:"
   ]
  },
  {
   "cell_type": "markdown",
   "id": "quantitative-verse",
   "metadata": {},
   "source": [
    "<div style=\"float: right;\" markdown=\"1\">\n",
    "    <img src=\"https://raw.githubusercontent.com/restrepo/ComputationalMethods/master/material/figures/leastaction2.svg?sanitize=true\">\n",
    "</div>\n",
    "\n",
    "The $\\color{red}{\\text{\"Action\":}}$ is basically the integral of the Lagrangian function between the points $(t_1,x_1)$ and $(t_2,x_2)$ as\n",
    "$$S=\\int_{t_1}^{t_2} L\\  dt $$\n",
    "\n",
    "which give us a numerical result with units of energy multiplied by time (J$\\cdot$s). What is worth noticing is that if we relax the definition of $V$ and allows for any $h$, but keeping the initial and final points fixed, we can calculate many Action values. This is illustrated in the figure for blue dotted ($S_1$), solid ($S_{\\text{min}}$) and dashed ($S_2$)lines. But only the height, $(x_1+x_2)/2$ , associated with the real physical path, has a minimum value for the Action, $S_{\\text{min}}$!\n",
    "\n",
    "In fact, for one segment of the action between $(t_1,x_1)$, and $(t_2,x_2)$, with $\\Delta t$ sufficiently small such that $L$ can be considered constant, we have\n",
    "\\begin{eqnarray}\n",
    "S_{\\text{1}}&=&\\int_{t_1}^{t_2} L dt \\\\\n",
    "&\\approx& \\left[\\frac12 m v^2-m g h \\right]\\Delta t\\\\\n",
    "&\\approx& \\left[\\frac12 m\\left(\\frac{x_2-x_1}{t_2-t_1}\\right)^2-m g \\frac{x_2+x_1}{2} \\right](t_2-t_1)\n",
    "\\end{eqnarray}\n",
    "\n",
    "that corresponds to Eq. (11) of Am. J. Phys, Vol. 72(2004)478: http://www.eftaylor.com/pub/Symmetries&ConsLaws.pdf"
   ]
  },
  {
   "cell_type": "markdown",
   "id": "unlimited-webster",
   "metadata": {},
   "source": [
    "<div style=\"float: right;\" markdown=\"1\">\n",
    "    <img src=\"https://raw.githubusercontent.com/restrepo/ComputationalMethods/master/material/figures/leastaction3.svg?sanitize=true\">\n",
    "</div>\n",
    "\n",
    "__Least Action method__: The least action method consist in the following steps illustrated in the figure\n",
    "1. Fix the initial and final point of the movement. Example the initial time and the height from which a body is launched upwards, $(t_{\\text{ini}},x_{\\text{ini}})$, and the final time and height $(t_{\\text{end}},x_{\\text{end}})$.\n",
    "1. Divide the problem in small segments of $\\Delta t=t_{i+1}-t_i$.\n",
    "1. Build many paths with the initial and final point fixed and calculates the Action in each segment, $S_i$, for all the paths\n",
    "1. Choose the minimal Action for each segment, $S_{\\text{min}}^i$, and rebuild the full path which minimizes the Action in each segment. This is the physical trajectory!"
   ]
  },
  {
   "cell_type": "markdown",
   "id": "healthy-daniel",
   "metadata": {},
   "source": [
    "## Code implementation"
   ]
  },
  {
   "cell_type": "markdown",
   "id": "expanded-conviction",
   "metadata": {},
   "source": [
    "### The Action\n",
    "We can define the Action $S$ of an object of mass $m$ throw vertically upwards from $x_{\\hbox{ini}}$, such that $t_{\\hbox{end}}$ seconds later the object return to a height $x_{\\hbox{end}}$, as\n",
    "\\begin{align}\n",
    "S=&\\int_{t_{ini}}^{t_{end}} L\\, {\\rm d}t \\\\\n",
    "S=& \\sum_i S_i\\\\\n",
    "S=&\\sum_i L_i \\Delta t\\,.\n",
    "\\end{align}"
   ]
  },
  {
   "cell_type": "markdown",
   "id": "liable-blood",
   "metadata": {},
   "source": [
    "* and the last equation is what we finally need: the sum all those small segments"
   ]
  },
  {
   "cell_type": "markdown",
   "id": "thorough-brick",
   "metadata": {},
   "source": [
    "\n",
    "## Testing the Least Action components (object thrown vertically)\n",
    "\n",
    "From this equation:\n",
    "\n",
    "\\begin{eqnarray}\n",
    "S_1&\\approx& \\left[\\frac12 m\\left(\\frac{x_2-x_1}{t_2-t_1}\\right)^2-m g \\frac{x_2+x_1}{2} \\right](t_2-t_1)\n",
    "\\end{eqnarray}\n",
    "\n",
    "\\begin{eqnarray}\n",
    "S_1&\\approx& \\left[0.5 m\\left(\\frac{\\Delta x_1}{\\Delta t}\\right)^2-m g \\frac{x_2+x_1}{2} \\right]\\Delta t\n",
    "\\end{eqnarray}\n",
    "\n",
    "we can see that we need to calculate the differences $\\Delta x$ and $\\Delta t$. \n",
    "\n",
    "For a given vector $x$ this is how we can find it:"
   ]
  },
  {
   "cell_type": "code",
   "execution_count": 2,
   "id": "partial-budapest",
   "metadata": {},
   "outputs": [
    {
     "name": "stdout",
     "output_type": "stream",
     "text": [
      "Populating the interactive namespace from numpy and matplotlib\n"
     ]
    }
   ],
   "source": [
    "%pylab inline\n",
    "import numpy as np\n",
    "import scipy.optimize\n",
    "import pandas as pd\n",
    "global g  \n",
    "g=9.8 #m/s^2"
   ]
  },
  {
   "cell_type": "code",
   "execution_count": 42,
   "id": "becoming-minority",
   "metadata": {},
   "outputs": [],
   "source": [
    "# lets define the boundary conditions\n",
    "tini=0 #[s]\n",
    "tend=3 #[s]\n",
    "xini=0 #[m]\n",
    "xend=0 #[m]"
   ]
  },
  {
   "cell_type": "code",
   "execution_count": 43,
   "id": "compound-accuracy",
   "metadata": {},
   "outputs": [],
   "source": [
    "# create an example of the ball's positions vector\n",
    "x=np.array([xini,10,15.,22.,18.,5.,xend])#.size"
   ]
  },
  {
   "cell_type": "code",
   "execution_count": 44,
   "id": "piano-terror",
   "metadata": {},
   "outputs": [
    {
     "data": {
      "text/plain": [
       "array([ 0., 10., 15., 22., 18.,  5.])"
      ]
     },
     "execution_count": 44,
     "metadata": {},
     "output_type": "execute_result"
    }
   ],
   "source": [
    "#Initial points: x_i\n",
    "x[:-1]"
   ]
  },
  {
   "cell_type": "code",
   "execution_count": 45,
   "id": "hidden-branch",
   "metadata": {},
   "outputs": [
    {
     "data": {
      "text/plain": [
       "array([10., 15., 22., 18.,  5.,  0.])"
      ]
     },
     "execution_count": 45,
     "metadata": {},
     "output_type": "execute_result"
    }
   ],
   "source": [
    "#final points: x_{i+1}\n",
    "x[1:]"
   ]
  },
  {
   "cell_type": "code",
   "execution_count": 49,
   "id": "martial-gnome",
   "metadata": {},
   "outputs": [
    {
     "name": "stdout",
     "output_type": "stream",
     "text": [
      "vector of position differences: [ 10.   5.   7.  -4. -13.  -5.]\n",
      "time difference is constant:  0.5\n"
     ]
    }
   ],
   "source": [
    "# this is how we can numerically find the Dx and Dt:\n",
    "\n",
    "Dx=x[1:]-x[:-1]\n",
    "print('vector of position differences:', Dx)\n",
    "Dt=tend/x[:-1].size\n",
    "print('time difference is constant: ',Dt)"
   ]
  },
  {
   "cell_type": "markdown",
   "id": "numerous-movement",
   "metadata": {},
   "source": [
    "### Numerical implementation of Least Action"
   ]
  },
  {
   "cell_type": "code",
   "execution_count": 50,
   "id": "aboriginal-halloween",
   "metadata": {},
   "outputs": [],
   "source": [
    "# implementing the differences above and constructing the Action from the Lagrangian:\n",
    "def S(x,tend=3.,m=0.2,xini=0.,xend=0.):\n",
    "    \"\"\"\n",
    "    Calculate the Action of an object of of mass 'm' throw vertically upward from \n",
    "       'xini', such that 'tend' seconds later the object return to a height 'xend'.\n",
    "       Delta t must be constant.\n",
    "       \n",
    "    The defaults units for S are J.s   \n",
    "    \"\"\"\n",
    "    x=np.asarray(x)\n",
    "    Dt=tend/x[:-1].size\n",
    "    #Fix initial and final point\n",
    "    x[0]=xini\n",
    "    x[-1]=xend\n",
    "    return ( (0.5*m*(x[1:]-x[:-1])**2/Dt**2-0.5*m*g*(x[1:]+x[:-1]) )*Dt).sum()"
   ]
  },
  {
   "cell_type": "markdown",
   "id": "catholic-light",
   "metadata": {},
   "source": [
    "the above it's the same as below:\n",
    "\n",
    "\\begin{eqnarray}\n",
    "S&\\approx& \\left[0.5 m\\left(\\frac{\\Delta x}{\\Delta t}\\right)^2-m g \\frac{x_2+x_1}{2} \\right]\\Delta t\n",
    "\\end{eqnarray}\n",
    "\n",
    "remembering that the hight in the potential energy is approximated by $h=\\frac{x_2+x_1}{2}$"
   ]
  },
  {
   "cell_type": "code",
   "execution_count": 51,
   "id": "authorized-orchestra",
   "metadata": {},
   "outputs": [
    {
     "data": {
      "text/plain": [
       "0.0"
      ]
     },
     "execution_count": 51,
     "metadata": {},
     "output_type": "execute_result"
    }
   ],
   "source": [
    "# lets test the Action for vector of postitions that are all zeros:\n",
    "x=np.zeros(21)\n",
    "S(x)"
   ]
  },
  {
   "cell_type": "markdown",
   "id": "surrounded-ground",
   "metadata": {},
   "source": [
    "#### Example \n",
    "_Problem_: Let an object of mass $m=0.2$ Kg be thrown vertically updward and returning back to the same hand after 3 s. Find the function of distance versus time of least Action. \n",
    "\n",
    "If we denote the height at time $t_i$ as $x_i=x(t_i)$, we can calculate the action for any set of $x_i$ points with the inititial and final points fixed at $0\\ $m.\n",
    "\n",
    "In other words, what is the $x(t)$ that minimizes $S$ \n",
    "\n",
    "$\\color{red}{\\text{Solutions: }}$\n",
    "* Brute force\n",
    "* numerical minimization"
   ]
  },
  {
   "cell_type": "markdown",
   "id": "killing-family",
   "metadata": {},
   "source": [
    "__Solution__ 1: _Brute force approach_\n",
    "\n",
    "By using the previous definition, calculates the Action for 21 steps in time from $0$ at $3\\ $s for an object that does not move at all\n",
    "\n",
    "Open the Activity notebook in [CoCalc!](https://cocalc.com/projects/a8330cfb-9dfb-442e-9b2b-ba664e31a685/files/Activity_Least_Action.ipynb?session=default)\n",
    "\n",
    "1) calculates the Action for 21 steps in time from $0$ at $3\\ $s, for an object that at a random position in each time between zero and $15\\ $m, but with the initial and final positions set to zero. Make the plot for the random curve. \n"
   ]
  },
  {
   "cell_type": "markdown",
   "id": "executed-girlfriend",
   "metadata": {},
   "source": [
    "\n",
    "### Basically, one way to find the vector x(t) that gives very small \"S\" is to randomly generate numbers for x(t), set $x_0=0$, $x_{final}=0$ and measure the action S!"
   ]
  },
  {
   "cell_type": "code",
   "execution_count": 65,
   "id": "ahead-lafayette",
   "metadata": {},
   "outputs": [
    {
     "name": "stdout",
     "output_type": "stream",
     "text": [
      "rand: 0 , S=400.5319189531557\n",
      "rand: 3 , S=331.35099731438726\n",
      "rand: 5 , S=240.94304529324538\n",
      "rand: 61 , S=203.179262789485\n",
      "rand: 64 , S=193.54008615289513\n",
      "rand: 106 , S=187.0628835491006\n",
      "rand: 192 , S=176.18337962489196\n",
      "rand: 513 , S=77.40962141960892\n",
      "rand: 11576 , S=70.20708687116621\n",
      "rand: 66125 , S=60.10178878530768\n",
      "\n",
      "After 99999 iterations S is smallest for this x(t): \n",
      "\n",
      "[ 0.         14.36570235  0.56230859 11.6981885   0.32434909  9.99038186\n",
      "  0.16086671  9.768064    6.48065459  4.73601277  5.46086144 11.3502885\n",
      " 12.63606672  4.17438367 14.43931897  6.33911452  3.86774211 12.56207178\n",
      " 10.19429688  9.00904692  0.        ]\n"
     ]
    }
   ],
   "source": [
    "#Lets do 100000 random realizations of the x(t) - just guessing the vector x(t) \n",
    "# and calculating S for each x(t), \n",
    "\n",
    "Smin=np.inf\n",
    "for i in range(100000):\n",
    "    #21 one random number between 0 and 15\n",
    "    x=np.random.uniform(0,15,21)\n",
    "    # Force the boundary conditions\n",
    "    x[0]=0\n",
    "    x[-1]=0\n",
    "    Sx=S(x)\n",
    "    if Sx<Smin:\n",
    "        #Get new minimum\n",
    "        Smin=Sx\n",
    "        xmin=x\n",
    "        print(\"rand: {}\".format(i), \", S={}\".format(Sx))\n",
    "print() \n",
    "print(\"After {} iterations S is smallest for this x(t): \".format(i))      \n",
    "print()    \n",
    "print(x)        \n",
    "        "
   ]
  },
  {
   "cell_type": "code",
   "execution_count": 66,
   "id": "graphic-clearance",
   "metadata": {},
   "outputs": [
    {
     "data": {
      "text/plain": [
       "[(-1, 20), Text(0, 0.5, '$x(t)$ (m)'), (-0.1, 3.3), Text(0.5, 0, '$t$ [s]')]"
      ]
     },
     "execution_count": 66,
     "metadata": {},
     "output_type": "execute_result"
    },
    {
     "data": {
      "image/png": "[encoded data removed]",
      "text/plain": [
       "<Figure size 576x288 with 1 Axes>"
      ]
     },
     "metadata": {
      "needs_background": "light"
     },
     "output_type": "display_data"
    }
   ],
   "source": [
    "# we can plot the x(t) vs t and see if we got a parabolic shape\n",
    "# wa can also interpolate the points to make it smooth\n",
    "\n",
    "from scipy import interpolate\n",
    "tx=np.linspace(0,3,len(xmin))\n",
    "fig, ax1 = plt.subplots(1, 1,figsize=(8,4))\n",
    "x1d=interpolate.interp1d(tx,xmin,kind=3)\n",
    "txx=np.linspace(tx[0],tx[-1],1000)\n",
    "ax1.plot(tx,xmin,'r.')\n",
    "ax1.plot(txx,x1d(txx))\n",
    "ax1.set(xlim=(-0.1,3.3),ylim=(-1,20),\n",
    "        xlabel='$t$ [s]',ylabel='$x(t)$ (m)')\n"
   ]
  },
  {
   "cell_type": "markdown",
   "id": "atlantic-brain",
   "metadata": {},
   "source": [
    "* its not easy to get desired result"
   ]
  },
  {
   "cell_type": "markdown",
   "id": "million-footage",
   "metadata": {},
   "source": [
    "### But, there are better methods than Brute Force:\n",
    "__Solution__ 2: _Minimization_ ($\\color{red}{\\text{works by the evaluation of the gradient of the function!!}}$ \n",
    "\n",
    "the heart of the routine below is this line:\n",
    "\n",
    "a = optimize.fmin_powell(S,x0,args=(t,m,xini,xend),ftol=ftol,full_output=1)"
   ]
  },
  {
   "cell_type": "code",
   "execution_count": 67,
   "id": "flexible-kernel",
   "metadata": {},
   "outputs": [],
   "source": [
    "# lets build the minimizing routine:\n",
    "\n",
    "import scipy.optimize as optimize\n",
    "from scipy.optimize import minimize\n",
    "\n",
    "def xfit(n,t=3.,m=0.2,xini=0.,xend=0.,ftol=1E-8):\n",
    "    '''Find the array of n (odd) components that minimizes the action S(x)\n",
    "    :Parameters:\n",
    "    n: odd integer \n",
    "        dimension of the ndarray x that minimizes the action  S(x,t,m)\n",
    "    t,m: numbers\n",
    "       optional parameters for the action\n",
    "    ftol: number\n",
    "        acceptable relative error in S(x) for convergence.\n",
    "    :Returns: (x,xmax,Smin)    \n",
    "    x: ndarray\n",
    "        minimizer of the action S(x)        \n",
    "    xini:    \n",
    "    xend:\n",
    "    xmax: number\n",
    "        Maximum height for the object\n",
    "    Smin: number\n",
    "        value of function at minimum: Smin = S(x)\n",
    "    '''\n",
    "    \n",
    "    t=float(t)\n",
    "    if n%2==0:\n",
    "        print ( 'x array must be odd')\n",
    "        sys.exit()\n",
    "    x0=np.zeros(n)\n",
    "    a = optimize.fmin_powell(S,x0,args=(t,m,xini,xend),ftol=ftol,full_output=1)\n",
    "    x=a[0]\n",
    "    x[0]=xini;x[-1]=xend\n",
    "    xmax=np.sort(x)[-1]\n",
    "    Smin=a[1]\n",
    "    Dt=t/x[:-1].size #  t/(n-1)\n",
    "    return x,xmax,Smin,Dt"
   ]
  },
  {
   "cell_type": "code",
   "execution_count": 68,
   "id": "ultimate-oriental",
   "metadata": {},
   "outputs": [
    {
     "name": "stdout",
     "output_type": "stream",
     "text": [
      "Optimization terminated successfully.\n",
      "         Current function value: -21.598990\n",
      "         Iterations: 28\n",
      "         Function evaluations: 5758\n"
     ]
    }
   ],
   "source": [
    "# we can call the minimizing fuction with the initial conditions as before:\n",
    "\n",
    "t=3.0\n",
    "m=0.2\n",
    "y=xfit(21,t,m)\n",
    "x=y[0]\n",
    "xmax=y[1]\n",
    "Smin=y[2]\n",
    "Dt=y[3]\n",
    "tx=np.arange(0,t+Dt,Dt)\n",
    "#print(Smin)"
   ]
  },
  {
   "cell_type": "code",
   "execution_count": 69,
   "id": "passive-plant",
   "metadata": {},
   "outputs": [
    {
     "data": {
      "image/png": "[encoded data removed]",
      "text/plain": [
       "<Figure size 432x288 with 1 Axes>"
      ]
     },
     "metadata": {
      "needs_background": "light"
     },
     "output_type": "display_data"
    }
   ],
   "source": [
    "# plotting the results\n",
    "plt.plot(tx,x,label='$S_{\\mathrm{min}}=$%.2f J.s' %Smin)\n",
    "plt.plot(tx,x,'ro')\n",
    "plt.ylabel('HEIGHT meters')\n",
    "plt.xlabel('TIME seconds')\n",
    "plt.title('Worldline of least action')\n",
    "plt.legend(loc='best')\n",
    "plt.grid()"
   ]
  },
  {
   "cell_type": "markdown",
   "id": "fallen-senate",
   "metadata": {},
   "source": [
    "Task: compare with the equation of motion: \n",
    "$$x(t)=-\\frac{{1}}{{2}}gt^2+v_0t$$"
   ]
  },
  {
   "cell_type": "code",
   "execution_count": 70,
   "id": "threatened-terminal",
   "metadata": {},
   "outputs": [
    {
     "name": "stdout",
     "output_type": "stream",
     "text": [
      "        2\n",
      "-4.905 t + 14.72 t + 0.0001606\n"
     ]
    }
   ],
   "source": [
    "# what polynomial does the x(t) correspond to:\n",
    "P=poly1d (np.polyfit(tx,x,2),variable='t' )\n",
    "print(P)"
   ]
  },
  {
   "cell_type": "markdown",
   "id": "adequate-divorce",
   "metadata": {},
   "source": [
    "### Questions\n",
    "* what does action mean? \n",
    "* what does least action mean?\n",
    "* what are the ways to find the least action?\n",
    "* which way is best?"
   ]
  },
  {
   "cell_type": "code",
   "execution_count": null,
   "id": "adapted-bouquet",
   "metadata": {},
   "outputs": [],
   "source": []
  }
 ],
 "metadata": {
  "kernelspec": {
   "display_name": "Python 3",
   "language": "python",
   "name": "python3"
  },
  "language_info": {
   "codemirror_mode": {
    "name": "ipython",
    "version": 3
   },
   "file_extension": ".py",
   "mimetype": "text/x-python",
   "name": "python",
   "nbconvert_exporter": "python",
   "pygments_lexer": "ipython3",
   "version": "3.7.2"
  }
 },
 "nbformat": 4,
 "nbformat_minor": 5
}
