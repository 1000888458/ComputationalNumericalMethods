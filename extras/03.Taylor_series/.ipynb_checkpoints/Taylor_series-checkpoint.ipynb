{
 "cells": [
  {
   "cell_type": "markdown",
   "id": "outstanding-guest",
   "metadata": {},
   "source": [
    "# TAYLOR EXPANSION... WILL BE PRESENT DURING ALL THIS COURSE... and here is why."
   ]
  },
  {
   "cell_type": "markdown",
   "id": "minus-arlington",
   "metadata": {},
   "source": [
    "* what do you know about Taylor Series?  \n",
    "https://www.poll-maker.com"
   ]
  },
  {
   "cell_type": "markdown",
   "id": "secret-garbage",
   "metadata": {},
   "source": [
    "### The objective of todays class is ... dont be afraid of Taylor Series"
   ]
  },
  {
   "cell_type": "markdown",
   "id": "infinite-masters",
   "metadata": {},
   "source": [
    "## Applications of Taylor Series\n",
    "* Taylor series is used to evaluate the value of a whole function in each point if the functional values and derivatives are identified at a single point.\n",
    "* The representation of Taylor series reduces many mathematical proofs.\n",
    "* The sum of partial series can be used as an approximation of the whole series.\n",
    "* Multivariate Taylor series is used in many optimization techniques.\n",
    "* This series is used in the power flow analysis of electrical power systems.\n",
    "* In classical mechanics, the hook's law and harmonic oscillator will be approximated using Taylor series...\n"
   ]
  },
  {
   "cell_type": "markdown",
   "id": "western-young",
   "metadata": {},
   "source": [
    "## Have you heard of Taylor expansion of a sine or cosine function..."
   ]
  },
  {
   "cell_type": "markdown",
   "id": "tracked-daniel",
   "metadata": {},
   "source": [
    "$$sin(x)=\\frac{1}{1!}x−\\frac{1}{3!}x^3 + \\frac{1}{5!}x^5 - ...$$\n",
    "$$sin(x)=  x−\\frac{1}{3!}x^3 + \\frac{1}{5!}x^5 - ...$$\n",
    "each term is an approximation of the sine function...\n",
    "every next term makes the approximation better and better"
   ]
  },
  {
   "cell_type": "markdown",
   "id": "german-outside",
   "metadata": {},
   "source": [
    "sometimes when physicist cant solve some complicated equation involving functions sine, (or cosine or $e^x$) with sine they just say...\n",
    "well I can make some approximations and say $$sin(x)\\approx x$$\n",
    "\n",
    "and it comes exactly from the above eqation...\n",
    "\n",
    "$$sin(x)=\\frac{1}{1!}x−\\frac{1}{3!}x^3 + \\frac{1}{5!}x^5 - ...$$\n",
    "\n",
    "So if you drop some terms you call them error.\n",
    "\n",
    "\n",
    "$sin(x)\\approx x$ and the error of this approximation is  $Error= −\\frac{1}{3!}x^3 + \\frac{1}{5!}x^5 - ...$"
   ]
  },
  {
   "cell_type": "markdown",
   "id": "indoor-selection",
   "metadata": {},
   "source": [
    "### but where is it coming from and what does it mean?"
   ]
  },
  {
   "cell_type": "markdown",
   "id": "finite-background",
   "metadata": {},
   "source": [
    "### well it comes from this general Taylor formula"
   ]
  },
  {
   "cell_type": "markdown",
   "id": "mysterious-afternoon",
   "metadata": {},
   "source": [
    "$$ f(x) = f(a) + \\frac{f'(a)}{1!}(x-a) + \\frac{f''(a)}{2!}(x-a)^2 + \\frac{f'''(a)(}{3!}(x-a)^3 + ...$$\n",
    "\n",
    "* always try to read an equation...\n",
    "* we can evaluate a function at any point (x) (with some approximation) if we know the function at different point (a) and its derivative ... MAGIC"
   ]
  },
  {
   "cell_type": "markdown",
   "id": "color-ordering",
   "metadata": {},
   "source": [
    "### lets take this sine function (first take derivative then put a value!)"
   ]
  },
  {
   "cell_type": "markdown",
   "id": "respected-microwave",
   "metadata": {},
   "source": [
    "$$ f(x) = f(a) + \\frac{f'(a)}{1!}(x-a) + \\frac{f''(a)}{2!}(x-a)^2 + \\frac{f'''(a)(}{3!}(x-a)^3 + ...$$\n",
    "\n",
    "$f(a) = sin(a)$   \n",
    "$f’(a) = cos(a)$  \n",
    "$f’’(a) = -sin(a)$  \n",
    "$f’’’(a) = -cos(a)$  \n",
    "$f’’’’(a) = sin(a)$  \n",
    "\n",
    "if we choose a=0*...  \n",
    "\n",
    "$f(a) = sin(a)     = 0$  \n",
    "$f’(a) = cos(a)    = 1$  \n",
    "$f’’(a) = -sin(a)  = 0$   \n",
    "$f’’’(a) = -cos(a) = -1$  \n",
    "$f’’’’(a) = sin(a) = 0$  \n",
    "\n",
    "$$ f(x) = 0 + \\frac{1}{1!}(x) + \\frac{0}{2!}(x)^2 + \\frac{-1}{3!}(x)^3 + ...$$\n",
    "\n",
    "\n",
    "*Maclaurin Series: If the Taylor Series is centred at 0, then the series is known as the Maclaurin series"
   ]
  },
  {
   "cell_type": "markdown",
   "id": "recent-forward",
   "metadata": {},
   "source": [
    "$$sin(x)=\\frac{1}{1!}x−\\frac{1}{3!}x^3 + \\frac{1}{5!}x^5 - ...$$"
   ]
  },
  {
   "cell_type": "markdown",
   "id": "cultural-german",
   "metadata": {},
   "source": [
    "#### These are the approximations of the sinx around point 0... lets visualize it"
   ]
  },
  {
   "cell_type": "code",
   "execution_count": 3,
   "id": "unexpected-animation",
   "metadata": {},
   "outputs": [],
   "source": [
    "#Code..."
   ]
  },
  {
   "cell_type": "markdown",
   "id": "smoking-brook",
   "metadata": {},
   "source": [
    "## Homework"
   ]
  },
  {
   "cell_type": "markdown",
   "id": "developing-episode",
   "metadata": {},
   "source": [
    "## Taylor series: many great applications - differential equations, derivatives....\n",
    "But if we know the value at a point and derivative that can also help with a different problem (especially the derivative part...)"
   ]
  },
  {
   "cell_type": "markdown",
   "id": "suffering-substitute",
   "metadata": {},
   "source": [
    "<table><tr>\n",
    "<td> <img src=\"imgs/tangent_derivative.png\" width=\"400\" /> </td>\n",
    "</tr></table>"
   ]
  },
  {
   "cell_type": "markdown",
   "id": "gothic-monaco",
   "metadata": {},
   "source": [
    "<table><tr>\n",
    "<td> <img src=\"imgs/tangent_derivative2.png\" width=\"400\" /> </td>\n",
    "</tr></table>"
   ]
  },
  {
   "cell_type": "markdown",
   "id": "informational-bronze",
   "metadata": {},
   "source": [
    "## Taylor expansion can be also written in the following form:\n",
    "\n",
    "$$ f(x_{i+1}) = f(x_i) + \\frac{f'(x_i)}{1!}h + \\frac{f''(x_i)}{2!}h^2 + \\frac{f'''(x_i)}{3!}h^3 + ...  $$"
   ]
  },
  {
   "cell_type": "markdown",
   "id": "cellular-raise",
   "metadata": {},
   "source": [
    "## 0th order approximation (we take only the first term of the expansion)\n",
    "\n",
    "$$ f(x_{i+1}) \\approx f(x_i)$$"
   ]
  },
  {
   "cell_type": "markdown",
   "id": "floppy-supply",
   "metadata": {},
   "source": [
    "<table><tr>\n",
    "<td> <img src=\"imgs/approx_point_taylor_0.png\" width=\"600\" /> </td>\n",
    "</tr></table>"
   ]
  },
  {
   "cell_type": "markdown",
   "id": "compliant-process",
   "metadata": {},
   "source": [
    "## 1st order approximation (we take the first and the second term of the expansion)\n",
    "\n",
    "$$ f(x_{i+1}) \\approx f(x_i) + \\frac{f'(x_i)}{1!}h $$"
   ]
  },
  {
   "cell_type": "markdown",
   "id": "inner-culture",
   "metadata": {},
   "source": [
    "<table><tr>\n",
    "<td> <img src=\"imgs/euler_method.png\" width=\"600\" /> </td>\n",
    "<td> <img src=\"imgs/approx_point_taylor_12.png\" width=\"800\" /> </td>\n",
    "</tr></table>"
   ]
  },
  {
   "cell_type": "markdown",
   "id": "informal-cleaners",
   "metadata": {},
   "source": [
    "## It comes from the same general form of Taylor series:\n",
    "\n",
    "$$ f(x) = f(a) + \\frac{f'(a)}{1!}(x-a) + \\frac{f''(a)}{2!}(x-a)^2 + \\frac{f'''(a)(}{3!}x-a)^3 + ...$$\n",
    "\n",
    "* we can evaluate a function at any point if we know the function at different point and its derivative\n",
    "\n",
    "if ($x=a+h$)\n",
    "$$ f(x) = f(a) + \\frac{f'(a)}{1!}(x-a) + \\frac{f''(a)}{2!}(x-a)^2 + \\frac{f'''(a)(}{3!}(x-a)^3 + ...$$\n",
    "\n",
    "$h=x-a$\n",
    "$$ f(a+h) = f(a) + \\frac{f'(a)}{1!}(h) + \\frac{f''(a)}{2!}(h)^2 + \\frac{f'''(a)(}{3!}(h)^3 + ...$$\n",
    "\n",
    "if $a+h$ is the \"next\" point and $a$ is the previous point, we can rewrite it as $x_{i+i}$\n",
    "$$ f(x_{i+1}) = f(x_i) + \\frac{f'(x_i)}{1!}h + \\frac{f''(x_i)}{2!}h^2 + \\frac{f'''(x_i)}{3!}h^3 + ...  $$"
   ]
  },
  {
   "cell_type": "markdown",
   "id": "lesser-village",
   "metadata": {},
   "source": [
    "### The two first terms of Taylor expansion \n",
    "lead to a method called Euler method nd can be used to approximate the derivative equations!!\n",
    "$$ f(x_{i+1}) \\approx f(x_i) + \\frac{f'(x_i)}{1!}h $$"
   ]
  },
  {
   "cell_type": "markdown",
   "id": "acting-effect",
   "metadata": {},
   "source": [
    "### Different example: \n",
    "Evaluate the Taylor Series for  $f(x) = x^3 − 10x^2 + 6$  at  $x = 3$.\n",
    "\n",
    "Solution: First, we will find the derivatives of the given function.\n",
    "\n",
    "$f(x) =  x^3 − 10x^2 + 6 ⇒ f(3) = -57$\n",
    "\n",
    "$f’(x) = 3x^2 − 20x ⇒ f’(3) = 33$\n",
    "\n",
    "$f’’(x) = 6x – 20 ⇒ f’’(3) = -2$\n",
    "\n",
    "$f’’’(x) = 6 ⇒ f’’’(3) = 6$\n",
    "\n",
    "$f’’’’(x) = 0$ \n",
    "\n",
    "Therefore, the required series is:\n",
    "\n",
    "$$x^3−10x^2+6 = f(3)+f′(3)(x−3)+\\frac{f′′(3)}{2!}(x−3)^2+\\frac{f′′′(3)}{3!}(x−3)^3 + 0$$\n",
    "\n",
    "$$x^3−10x^2+6 = −57−33(x−3)−(x−3)^2+(x−3)^3$$\n",
    "\n",
    "# the RHS is not just another equation is series of terms where every term is a new better approximation!!!"
   ]
  },
  {
   "cell_type": "code",
   "execution_count": 2,
   "id": "western-college",
   "metadata": {},
   "outputs": [],
   "source": [
    "# Code"
   ]
  },
  {
   "cell_type": "markdown",
   "id": "compound-impact",
   "metadata": {},
   "source": [
    "So what will happen if we choose different point as a starting point? Not \"a=3\" but let say \"a=0\" ... see what happens?"
   ]
  },
  {
   "cell_type": "code",
   "execution_count": null,
   "id": "headed-grammar",
   "metadata": {},
   "outputs": [],
   "source": []
  }
 ],
 "metadata": {
  "kernelspec": {
   "display_name": "Python 3",
   "language": "python",
   "name": "python3"
  },
  "language_info": {
   "codemirror_mode": {
    "name": "ipython",
    "version": 3
   },
   "file_extension": ".py",
   "mimetype": "text/x-python",
   "name": "python",
   "nbconvert_exporter": "python",
   "pygments_lexer": "ipython3",
   "version": "3.7.2"
  }
 },
 "nbformat": 4,
 "nbformat_minor": 5
}
