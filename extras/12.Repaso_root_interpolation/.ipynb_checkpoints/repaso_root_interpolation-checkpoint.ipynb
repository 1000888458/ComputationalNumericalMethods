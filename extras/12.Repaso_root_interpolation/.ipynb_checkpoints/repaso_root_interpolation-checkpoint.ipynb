{
 "cells": [
  {
   "cell_type": "markdown",
   "id": "chubby-weekend",
   "metadata": {},
   "source": [
    "# Root finding & Interpolation summary\n",
    "* we know how the algorithms work \n",
    "  * Bisection\n",
    "  * Newton Rapson\n",
    "* in real situations we use:\n",
    "  * scipy.optimize.brentq (kind of bisection)\n",
    "  * scipy.optimize.newton (Newton-Rapson)"
   ]
  },
  {
   "cell_type": "markdown",
   "id": "integrated-composer",
   "metadata": {},
   "source": [
    "# 1. Learn how to write functions\n",
    "# 2. Almost identical task will be at the partial exam #2\n",
    "# 3. Analyse this class"
   ]
  },
  {
   "cell_type": "code",
   "execution_count": 1,
   "id": "asian-framing",
   "metadata": {},
   "outputs": [],
   "source": [
    "import scipy.optimize as optimize\n",
    "import numpy as np\n",
    "import matplotlib.pyplot as plt"
   ]
  },
  {
   "cell_type": "code",
   "execution_count": 2,
   "id": "certain-bottom",
   "metadata": {},
   "outputs": [
    {
     "data": {
      "text/plain": [
       "3.3166247903554"
      ]
     },
     "execution_count": 2,
     "metadata": {},
     "output_type": "execute_result"
    },
    {
     "data": {
      "image/png": "[encoded data removed]",
      "text/plain": [
       "<Figure size 432x288 with 1 Axes>"
      ]
     },
     "metadata": {
      "needs_background": "light"
     },
     "output_type": "display_data"
    }
   ],
   "source": [
    "def f_cost(x):\n",
    "    return x**2-6\n",
    "\n",
    "import numpy as np\n",
    "import matplotlib.pyplot as plt\n",
    "x=np.linspace(-5,5,100)\n",
    "fig,ax = plt.subplots(1,1)\n",
    "ax.plot(x,f_cost(x))\n",
    "ax.grid('True')\n",
    "np.sqrt(11)"
   ]
  },
  {
   "cell_type": "code",
   "execution_count": 3,
   "id": "positive-richardson",
   "metadata": {},
   "outputs": [],
   "source": [
    "import scipy.optimize as optimize\n",
    "root = optimize.brentq(f_cost, -4, 0) # args=(N0,T,omega) # args to the function"
   ]
  },
  {
   "cell_type": "code",
   "execution_count": 4,
   "id": "meaningful-victorian",
   "metadata": {},
   "outputs": [
    {
     "name": "stdout",
     "output_type": "stream",
     "text": [
      "-2.4494897427828524\n"
     ]
    }
   ],
   "source": [
    "print(root)"
   ]
  },
  {
   "cell_type": "code",
   "execution_count": 5,
   "id": "happy-trail",
   "metadata": {},
   "outputs": [],
   "source": [
    "root = optimize.newton(f_cost, -4)"
   ]
  },
  {
   "cell_type": "code",
   "execution_count": 6,
   "id": "democratic-anderson",
   "metadata": {},
   "outputs": [
    {
     "name": "stdout",
     "output_type": "stream",
     "text": [
      "-2.4494897427831783\n"
     ]
    }
   ],
   "source": [
    "print(root)"
   ]
  },
  {
   "cell_type": "code",
   "execution_count": null,
   "id": "fossil-december",
   "metadata": {},
   "outputs": [],
   "source": []
  },
  {
   "cell_type": "code",
   "execution_count": null,
   "id": "cooked-cooking",
   "metadata": {},
   "outputs": [],
   "source": []
  },
  {
   "cell_type": "code",
   "execution_count": 7,
   "id": "explicit-alert",
   "metadata": {},
   "outputs": [],
   "source": [
    "def f_cost(x,c):\n",
    "    return x**2-c"
   ]
  },
  {
   "cell_type": "code",
   "execution_count": 8,
   "id": "reliable-explanation",
   "metadata": {},
   "outputs": [
    {
     "data": {
      "text/plain": [
       "3.3166247903554"
      ]
     },
     "execution_count": 8,
     "metadata": {},
     "output_type": "execute_result"
    },
    {
     "data": {
      "image/png": "[encoded data removed]",
      "text/plain": [
       "<Figure size 432x288 with 1 Axes>"
      ]
     },
     "metadata": {
      "needs_background": "light"
     },
     "output_type": "display_data"
    }
   ],
   "source": [
    "import numpy as np\n",
    "import matplotlib.pyplot as plt\n",
    "x=np.linspace(-5,5,100)\n",
    "fig,ax = plt.subplots(1,1)\n",
    "ax.plot(x,f_cost(x,16),'.k')\n",
    "ax.grid('True')\n",
    "np.sqrt(11)"
   ]
  },
  {
   "cell_type": "code",
   "execution_count": null,
   "id": "third-scientist",
   "metadata": {},
   "outputs": [],
   "source": []
  },
  {
   "cell_type": "code",
   "execution_count": null,
   "id": "senior-works",
   "metadata": {},
   "outputs": [],
   "source": []
  },
  {
   "cell_type": "code",
   "execution_count": 9,
   "id": "unexpected-sampling",
   "metadata": {},
   "outputs": [],
   "source": [
    "c=16\n",
    "root = optimize.brentq(f_cost, -4, 0,args=(c,)) # args=(N0,T,omega) # args to the function"
   ]
  },
  {
   "cell_type": "code",
   "execution_count": 10,
   "id": "treated-marriage",
   "metadata": {},
   "outputs": [
    {
     "name": "stdout",
     "output_type": "stream",
     "text": [
      "-4.0\n"
     ]
    }
   ],
   "source": [
    "print(root)"
   ]
  },
  {
   "cell_type": "code",
   "execution_count": 11,
   "id": "operating-hudson",
   "metadata": {},
   "outputs": [],
   "source": [
    "root = optimize.newton(f_cost, -4,args=(c,))"
   ]
  },
  {
   "cell_type": "code",
   "execution_count": 12,
   "id": "italic-wheat",
   "metadata": {},
   "outputs": [
    {
     "name": "stdout",
     "output_type": "stream",
     "text": [
      "-4.0\n"
     ]
    }
   ],
   "source": [
    "print(root)"
   ]
  },
  {
   "cell_type": "code",
   "execution_count": null,
   "id": "nominated-conjunction",
   "metadata": {},
   "outputs": [],
   "source": []
  },
  {
   "cell_type": "code",
   "execution_count": 15,
   "id": "loaded-battlefield",
   "metadata": {},
   "outputs": [
    {
     "data": {
      "text/plain": [
       "3.3166247903554"
      ]
     },
     "execution_count": 15,
     "metadata": {},
     "output_type": "execute_result"
    },
    {
     "data": {
      "image/png": "[encoded data removed]",
      "text/plain": [
       "<Figure size 432x288 with 1 Axes>"
      ]
     },
     "metadata": {
      "needs_background": "light"
     },
     "output_type": "display_data"
    }
   ],
   "source": [
    "import numpy as np\n",
    "import matplotlib.pyplot as plt\n",
    "x=np.linspace(-5,5,100)\n",
    "fig,ax = plt.subplots(1,1)\n",
    "ax.plot(x,f_cost(x,-1),'.k')\n",
    "ax.grid('True')\n",
    "np.sqrt(11)"
   ]
  },
  {
   "cell_type": "code",
   "execution_count": null,
   "id": "protected-grass",
   "metadata": {},
   "outputs": [],
   "source": []
  },
  {
   "cell_type": "markdown",
   "id": "offshore-finish",
   "metadata": {},
   "source": [
    "# but what if the function does not have roots??? - ERROR"
   ]
  },
  {
   "cell_type": "code",
   "execution_count": 16,
   "id": "empty-minneapolis",
   "metadata": {},
   "outputs": [
    {
     "ename": "ValueError",
     "evalue": "f(a) and f(b) must have different signs",
     "output_type": "error",
     "traceback": [
      "\u001b[0;31m---------------------------------------------------------------------------\u001b[0m",
      "\u001b[0;31mValueError\u001b[0m                                Traceback (most recent call last)",
      "\u001b[0;32m<ipython-input-16-390cfdc0ca9c>\u001b[0m in \u001b[0;36m<module>\u001b[0;34m\u001b[0m\n\u001b[1;32m      1\u001b[0m \u001b[0mc\u001b[0m\u001b[0;34m=\u001b[0m\u001b[0;34m-\u001b[0m\u001b[0;36m1\u001b[0m\u001b[0;34m\u001b[0m\u001b[0;34m\u001b[0m\u001b[0m\n\u001b[0;32m----> 2\u001b[0;31m \u001b[0mroot\u001b[0m \u001b[0;34m=\u001b[0m \u001b[0moptimize\u001b[0m\u001b[0;34m.\u001b[0m\u001b[0mbrentq\u001b[0m\u001b[0;34m(\u001b[0m\u001b[0mf_cost\u001b[0m\u001b[0;34m,\u001b[0m \u001b[0;34m-\u001b[0m\u001b[0;36m4\u001b[0m\u001b[0;34m,\u001b[0m \u001b[0;36m0\u001b[0m\u001b[0;34m,\u001b[0m\u001b[0margs\u001b[0m\u001b[0;34m=\u001b[0m\u001b[0;34m(\u001b[0m\u001b[0mc\u001b[0m\u001b[0;34m,\u001b[0m\u001b[0;34m)\u001b[0m\u001b[0;34m)\u001b[0m \u001b[0;31m# args=(N0,T,omega) # args to the function\u001b[0m\u001b[0;34m\u001b[0m\u001b[0;34m\u001b[0m\u001b[0m\n\u001b[0m",
      "\u001b[0;32m/usr/lib64/python3.7/site-packages/scipy/optimize/zeros.py\u001b[0m in \u001b[0;36mbrentq\u001b[0;34m(f, a, b, args, xtol, rtol, maxiter, full_output, disp)\u001b[0m\n\u001b[1;32m    773\u001b[0m     \u001b[0;32mif\u001b[0m \u001b[0mrtol\u001b[0m \u001b[0;34m<\u001b[0m \u001b[0m_rtol\u001b[0m\u001b[0;34m:\u001b[0m\u001b[0;34m\u001b[0m\u001b[0;34m\u001b[0m\u001b[0m\n\u001b[1;32m    774\u001b[0m         \u001b[0;32mraise\u001b[0m \u001b[0mValueError\u001b[0m\u001b[0;34m(\u001b[0m\u001b[0;34m\"rtol too small (%g < %g)\"\u001b[0m \u001b[0;34m%\u001b[0m \u001b[0;34m(\u001b[0m\u001b[0mrtol\u001b[0m\u001b[0;34m,\u001b[0m \u001b[0m_rtol\u001b[0m\u001b[0;34m)\u001b[0m\u001b[0;34m)\u001b[0m\u001b[0;34m\u001b[0m\u001b[0;34m\u001b[0m\u001b[0m\n\u001b[0;32m--> 775\u001b[0;31m     \u001b[0mr\u001b[0m \u001b[0;34m=\u001b[0m \u001b[0m_zeros\u001b[0m\u001b[0;34m.\u001b[0m\u001b[0m_brentq\u001b[0m\u001b[0;34m(\u001b[0m\u001b[0mf\u001b[0m\u001b[0;34m,\u001b[0m \u001b[0ma\u001b[0m\u001b[0;34m,\u001b[0m \u001b[0mb\u001b[0m\u001b[0;34m,\u001b[0m \u001b[0mxtol\u001b[0m\u001b[0;34m,\u001b[0m \u001b[0mrtol\u001b[0m\u001b[0;34m,\u001b[0m \u001b[0mmaxiter\u001b[0m\u001b[0;34m,\u001b[0m \u001b[0margs\u001b[0m\u001b[0;34m,\u001b[0m \u001b[0mfull_output\u001b[0m\u001b[0;34m,\u001b[0m \u001b[0mdisp\u001b[0m\u001b[0;34m)\u001b[0m\u001b[0;34m\u001b[0m\u001b[0;34m\u001b[0m\u001b[0m\n\u001b[0m\u001b[1;32m    776\u001b[0m     \u001b[0;32mreturn\u001b[0m \u001b[0mresults_c\u001b[0m\u001b[0;34m(\u001b[0m\u001b[0mfull_output\u001b[0m\u001b[0;34m,\u001b[0m \u001b[0mr\u001b[0m\u001b[0;34m)\u001b[0m\u001b[0;34m\u001b[0m\u001b[0;34m\u001b[0m\u001b[0m\n\u001b[1;32m    777\u001b[0m \u001b[0;34m\u001b[0m\u001b[0m\n",
      "\u001b[0;31mValueError\u001b[0m: f(a) and f(b) must have different signs"
     ]
    }
   ],
   "source": [
    "c=-1\n",
    "root = optimize.brentq(f_cost, -4, 0,args=(c,)) # args=(N0,T,omega) # args to the function"
   ]
  },
  {
   "cell_type": "code",
   "execution_count": 17,
   "id": "sonic-company",
   "metadata": {},
   "outputs": [
    {
     "ename": "RuntimeError",
     "evalue": "Failed to converge after 50 iterations, value is -0.33199495301128945.",
     "output_type": "error",
     "traceback": [
      "\u001b[0;31m---------------------------------------------------------------------------\u001b[0m",
      "\u001b[0;31mRuntimeError\u001b[0m                              Traceback (most recent call last)",
      "\u001b[0;32m<ipython-input-17-88c131078efa>\u001b[0m in \u001b[0;36m<module>\u001b[0;34m\u001b[0m\n\u001b[0;32m----> 1\u001b[0;31m \u001b[0mroot\u001b[0m \u001b[0;34m=\u001b[0m \u001b[0moptimize\u001b[0m\u001b[0;34m.\u001b[0m\u001b[0mnewton\u001b[0m\u001b[0;34m(\u001b[0m\u001b[0mf_cost\u001b[0m\u001b[0;34m,\u001b[0m \u001b[0;36m10\u001b[0m\u001b[0;34m,\u001b[0m\u001b[0margs\u001b[0m\u001b[0;34m=\u001b[0m\u001b[0;34m(\u001b[0m\u001b[0mc\u001b[0m\u001b[0;34m,\u001b[0m\u001b[0;34m)\u001b[0m\u001b[0;34m)\u001b[0m\u001b[0;34m\u001b[0m\u001b[0;34m\u001b[0m\u001b[0m\n\u001b[0m",
      "\u001b[0;32m/usr/lib64/python3.7/site-packages/scipy/optimize/zeros.py\u001b[0m in \u001b[0;36mnewton\u001b[0;34m(func, x0, fprime, args, tol, maxiter, fprime2, x1, rtol, full_output, disp)\u001b[0m\n\u001b[1;32m    359\u001b[0m         msg = (\"Failed to converge after %d iterations, value is %s.\"\n\u001b[1;32m    360\u001b[0m                % (itr + 1, p))\n\u001b[0;32m--> 361\u001b[0;31m         \u001b[0;32mraise\u001b[0m \u001b[0mRuntimeError\u001b[0m\u001b[0;34m(\u001b[0m\u001b[0mmsg\u001b[0m\u001b[0;34m)\u001b[0m\u001b[0;34m\u001b[0m\u001b[0;34m\u001b[0m\u001b[0m\n\u001b[0m\u001b[1;32m    362\u001b[0m \u001b[0;34m\u001b[0m\u001b[0m\n\u001b[1;32m    363\u001b[0m     \u001b[0;32mreturn\u001b[0m \u001b[0m_results_select\u001b[0m\u001b[0;34m(\u001b[0m\u001b[0mfull_output\u001b[0m\u001b[0;34m,\u001b[0m \u001b[0;34m(\u001b[0m\u001b[0mp\u001b[0m\u001b[0;34m,\u001b[0m \u001b[0mfuncalls\u001b[0m\u001b[0;34m,\u001b[0m \u001b[0mitr\u001b[0m \u001b[0;34m+\u001b[0m \u001b[0;36m1\u001b[0m\u001b[0;34m,\u001b[0m \u001b[0m_ECONVERR\u001b[0m\u001b[0;34m)\u001b[0m\u001b[0;34m)\u001b[0m\u001b[0;34m\u001b[0m\u001b[0;34m\u001b[0m\u001b[0m\n",
      "\u001b[0;31mRuntimeError\u001b[0m: Failed to converge after 50 iterations, value is -0.33199495301128945."
     ]
    }
   ],
   "source": [
    "root = optimize.newton(f_cost, 10,args=(c,))"
   ]
  },
  {
   "cell_type": "markdown",
   "id": "interstate-client",
   "metadata": {},
   "source": [
    "# How to manage error using `try/except` method!!!:\n"
   ]
  },
  {
   "cell_type": "markdown",
   "id": "placed-essay",
   "metadata": {},
   "source": [
    "# Lets focus on Newton-Rapson..."
   ]
  },
  {
   "cell_type": "code",
   "execution_count": 18,
   "id": "martial-scotland",
   "metadata": {},
   "outputs": [],
   "source": [
    "def f_cost(x,c):\n",
    "    return x**2-c"
   ]
  },
  {
   "cell_type": "code",
   "execution_count": 19,
   "id": "greek-tonight",
   "metadata": {},
   "outputs": [],
   "source": [
    "c=-1\n",
    "try:\n",
    "    root = optimize.newton(f_cost, 10,args=(c,))\n",
    "except:\n",
    "    root=np.nan"
   ]
  },
  {
   "cell_type": "code",
   "execution_count": 20,
   "id": "comfortable-workshop",
   "metadata": {},
   "outputs": [
    {
     "name": "stdout",
     "output_type": "stream",
     "text": [
      "nan\n"
     ]
    }
   ],
   "source": [
    "print(root)"
   ]
  },
  {
   "cell_type": "code",
   "execution_count": 21,
   "id": "plain-chapel",
   "metadata": {},
   "outputs": [],
   "source": [
    "def my_root_newton(f_cost,start,c): \n",
    "    try:\n",
    "        root = optimize.newton(f_cost, start,args=(c,))\n",
    "    except:\n",
    "        root=np.nan\n",
    "    return root"
   ]
  },
  {
   "cell_type": "code",
   "execution_count": 22,
   "id": "blind-opinion",
   "metadata": {},
   "outputs": [],
   "source": [
    "c_vec=np.linspace(-20,20,10)\n",
    "\n",
    "results=[]\n",
    "start=10\n",
    "for c in c_vec:\n",
    "    try:\n",
    "        root = my_root_newton(f_cost,start,c)\n",
    "    except:\n",
    "        root=np.nan\n",
    "        \n",
    "    results.append(root)\n",
    "    "
   ]
  },
  {
   "cell_type": "code",
   "execution_count": 45,
   "id": "conservative-marketplace",
   "metadata": {},
   "outputs": [
    {
     "data": {
      "text/plain": [
       "Text(0, 0.5, 'root')"
      ]
     },
     "execution_count": 45,
     "metadata": {},
     "output_type": "execute_result"
    },
    {
     "data": {
      "image/png": "[encoded data removed]",
      "text/plain": [
       "<Figure size 432x288 with 1 Axes>"
      ]
     },
     "metadata": {
      "needs_background": "light"
     },
     "output_type": "display_data"
    }
   ],
   "source": [
    "import numpy as np\n",
    "import matplotlib.pyplot as plt\n",
    "fig,ax = plt.subplots(1,1)\n",
    "#ax.plot(c_vec,results,'.k')\n",
    "ax.scatter(c_vec,results,s=100,c='r')\n",
    "ax.grid('True')\n",
    "ax.set_xlabel('c')\n",
    "ax.set_ylabel('root')"
   ]
  },
  {
   "cell_type": "markdown",
   "id": "informative-omega",
   "metadata": {},
   "source": [
    "### In the graph above I have all the values of the roots for different value of `c` in my function `f_cost`"
   ]
  },
  {
   "cell_type": "markdown",
   "id": "historic-missile",
   "metadata": {},
   "source": [
    "# Now I can interpolate the points from the dataset. I can convert the results into a numpy array first "
   ]
  },
  {
   "cell_type": "code",
   "execution_count": 24,
   "id": "several-province",
   "metadata": {},
   "outputs": [],
   "source": [
    "from scipy.interpolate import interp1d"
   ]
  },
  {
   "cell_type": "code",
   "execution_count": 25,
   "id": "considerable-switzerland",
   "metadata": {},
   "outputs": [],
   "source": [
    "x=np.array(c_vec)\n",
    "y=np.array(results)"
   ]
  },
  {
   "cell_type": "code",
   "execution_count": 26,
   "id": "powered-mainstream",
   "metadata": {},
   "outputs": [
    {
     "data": {
      "text/plain": [
       "array([-20.        , -15.55555556, -11.11111111,  -6.66666667,\n",
       "        -2.22222222,   2.22222222,   6.66666667,  11.11111111,\n",
       "        15.55555556,  20.        ])"
      ]
     },
     "execution_count": 26,
     "metadata": {},
     "output_type": "execute_result"
    }
   ],
   "source": [
    "x"
   ]
  },
  {
   "cell_type": "code",
   "execution_count": 27,
   "id": "saving-turtle",
   "metadata": {},
   "outputs": [
    {
     "data": {
      "text/plain": [
       "array([       nan,        nan,        nan,        nan,        nan,\n",
       "       1.49071198, 2.5819889 , 3.33333333, 3.94405319, 4.47213595])"
      ]
     },
     "execution_count": 27,
     "metadata": {},
     "output_type": "execute_result"
    }
   ],
   "source": [
    "y"
   ]
  },
  {
   "cell_type": "markdown",
   "id": "satisfied-charger",
   "metadata": {},
   "source": [
    "# but I cant interpolate `y` because it has `nan` so I must eliminate them first using `mask`"
   ]
  },
  {
   "cell_type": "markdown",
   "id": "later-mailman",
   "metadata": {},
   "source": [
    "### using function ~np.isnan() I will know what indices are NOT-NAN"
   ]
  },
  {
   "cell_type": "code",
   "execution_count": 28,
   "id": "quantitative-found",
   "metadata": {},
   "outputs": [],
   "source": [
    "\n",
    "idx = ~np.isnan(y)"
   ]
  },
  {
   "cell_type": "code",
   "execution_count": 29,
   "id": "healthy-visibility",
   "metadata": {},
   "outputs": [
    {
     "data": {
      "text/plain": [
       "array([False, False, False, False, False,  True,  True,  True,  True,\n",
       "        True])"
      ]
     },
     "execution_count": 29,
     "metadata": {},
     "output_type": "execute_result"
    }
   ],
   "source": [
    "idx"
   ]
  },
  {
   "cell_type": "markdown",
   "id": "nutritional-anchor",
   "metadata": {},
   "source": [
    "## using this indices I can filter the nan values and have new vectors x, y without nan"
   ]
  },
  {
   "cell_type": "code",
   "execution_count": 30,
   "id": "endless-merchandise",
   "metadata": {},
   "outputs": [],
   "source": [
    "x=x[idx]"
   ]
  },
  {
   "cell_type": "code",
   "execution_count": 31,
   "id": "sacred-gospel",
   "metadata": {},
   "outputs": [],
   "source": [
    "y=y[idx]"
   ]
  },
  {
   "cell_type": "code",
   "execution_count": 32,
   "id": "broke-retrieval",
   "metadata": {},
   "outputs": [
    {
     "data": {
      "text/plain": [
       "array([ 2.22222222,  6.66666667, 11.11111111, 15.55555556, 20.        ])"
      ]
     },
     "execution_count": 32,
     "metadata": {},
     "output_type": "execute_result"
    }
   ],
   "source": [
    "x"
   ]
  },
  {
   "cell_type": "code",
   "execution_count": 33,
   "id": "respective-client",
   "metadata": {},
   "outputs": [
    {
     "data": {
      "text/plain": [
       "array([1.49071198, 2.5819889 , 3.33333333, 3.94405319, 4.47213595])"
      ]
     },
     "execution_count": 33,
     "metadata": {},
     "output_type": "execute_result"
    }
   ],
   "source": [
    "y"
   ]
  },
  {
   "cell_type": "code",
   "execution_count": 34,
   "id": "casual-marshall",
   "metadata": {},
   "outputs": [],
   "source": [
    "f_spline = interp1d(x, y, kind='cubic')"
   ]
  },
  {
   "cell_type": "code",
   "execution_count": 35,
   "id": "martial-accordance",
   "metadata": {},
   "outputs": [],
   "source": [
    "xinterp=np.linspace(np.min(x),np.max(x),30)\n",
    "yinterp=f_spline(xinterp)"
   ]
  },
  {
   "cell_type": "code",
   "execution_count": 36,
   "id": "changed-thanksgiving",
   "metadata": {},
   "outputs": [
    {
     "data": {
      "text/plain": [
       "Text(0, 0.5, 'root')"
      ]
     },
     "execution_count": 36,
     "metadata": {},
     "output_type": "execute_result"
    },
    {
     "data": {
      "image/png": "[encoded data removed]",
      "text/plain": [
       "<Figure size 432x288 with 1 Axes>"
      ]
     },
     "metadata": {
      "needs_background": "light"
     },
     "output_type": "display_data"
    }
   ],
   "source": [
    "import numpy as np\n",
    "import matplotlib.pyplot as plt\n",
    "fig,ax = plt.subplots(1,1)\n",
    "ax.plot(xinterp,yinterp,'.k')\n",
    "ax.grid('True')\n",
    "ax.set_xlabel('x')\n",
    "ax.set_ylabel('root')"
   ]
  },
  {
   "cell_type": "markdown",
   "id": "literary-castle",
   "metadata": {},
   "source": [
    "# Final verions of interpolation: using function"
   ]
  },
  {
   "cell_type": "code",
   "execution_count": 41,
   "id": "metric-absorption",
   "metadata": {},
   "outputs": [],
   "source": [
    "def my_interp_spline(x,y,xinterp):\n",
    "    idx = ~np.isnan(y)\n",
    "    x=x[idx]\n",
    "    y=y[idx]\n",
    "    f_spline = interp1d(x, y, kind='cubic')\n",
    "    yinterp=f_spline(xinterp)\n",
    "    return yinterp"
   ]
  },
  {
   "cell_type": "markdown",
   "id": "confident-cameroon",
   "metadata": {},
   "source": [
    "## or even better because its more flexible"
   ]
  },
  {
   "cell_type": "code",
   "execution_count": 42,
   "id": "educational-necessity",
   "metadata": {},
   "outputs": [],
   "source": [
    "def my_interp_spline(x,y,xinterp,kind):\n",
    "    idx = ~np.isnan(y)\n",
    "    x=x[idx]\n",
    "    y=y[idx]\n",
    "    f_spline = interp1d(x, y, kind=kind)\n",
    "    yinterp=f_spline(xinterp)\n",
    "    return yinterp"
   ]
  },
  {
   "cell_type": "markdown",
   "id": "recorded-salvation",
   "metadata": {},
   "source": [
    "# interpolation points I can get using my function `my_interp_spline`"
   ]
  },
  {
   "cell_type": "code",
   "execution_count": 43,
   "id": "distinguished-christianity",
   "metadata": {},
   "outputs": [],
   "source": [
    "yinterp=my_interp_spline(x,y,xinterp,'cubic')"
   ]
  },
  {
   "cell_type": "code",
   "execution_count": 44,
   "id": "accompanied-lease",
   "metadata": {},
   "outputs": [
    {
     "data": {
      "text/plain": [
       "Text(0, 0.5, 'root')"
      ]
     },
     "execution_count": 44,
     "metadata": {},
     "output_type": "execute_result"
    },
    {
     "data": {
      "image/png": "[encoded data removed]",
      "text/plain": [
       "<Figure size 432x288 with 1 Axes>"
      ]
     },
     "metadata": {
      "needs_background": "light"
     },
     "output_type": "display_data"
    }
   ],
   "source": [
    "import numpy as np\n",
    "import matplotlib.pyplot as plt\n",
    "fig,ax = plt.subplots(1,1)\n",
    "ax.scatter(x,y,s=100,c='r')\n",
    "\n",
    "ax.plot(xinterp,yinterp,'.k')\n",
    "ax.grid('True')\n",
    "ax.set_xlabel('x')\n",
    "ax.set_ylabel('root')"
   ]
  }
 ],
 "metadata": {
  "kernelspec": {
   "display_name": "Python 3",
   "language": "python",
   "name": "python3"
  },
  "language_info": {
   "codemirror_mode": {
    "name": "ipython",
    "version": 3
   },
   "file_extension": ".py",
   "mimetype": "text/x-python",
   "name": "python",
   "nbconvert_exporter": "python",
   "pygments_lexer": "ipython3",
   "version": "3.7.2"
  }
 },
 "nbformat": 4,
 "nbformat_minor": 5
}
