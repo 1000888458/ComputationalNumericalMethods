{
 "cells": [
  {
   "cell_type": "markdown",
   "id": "senior-skiing",
   "metadata": {},
   "source": [
    "### MCM is not just one method is a family of methdos"
   ]
  },
  {
   "cell_type": "markdown",
   "id": "confirmed-dream",
   "metadata": {},
   "source": [
    "## Monte Carlo technique of integration\n",
    "\n",
    "Imagine, you want to calculate the area of a circle, but you didn’t know anything about $\\pi$. Instead, you chose to surround the circle by a square, for which you do know how to calculate the area.\n",
    "\n",
    "<table><tr>\n",
    "<td> <img src=\"imgs/circ1.png\" width=\"200\" /> </td>\n",
    "</tr></table>\n",
    "\n",
    "Now, we throw darts at the paper and we take a tally of total number of darts that were thrown as well as the darts that land inside the circle.\n",
    "\n",
    "*the key here is the randomness!!!\n",
    "\n",
    "<table><tr>\n",
    "<td> <img src=\"imgs/circ2.png\" width=\"200\" /> </td>\n",
    "<td> <img src=\"imgs/circ3.png\" width=\"200\" /> </td>\n",
    "<td> <img src=\"imgs/circ5.png\" width=\"200\" /> </td>\n",
    "</tr></table>\n",
    "\n",
    "\n",
    "\n",
    "* we throw one time: $\\ $  $\\rightarrow$ inside the circe 01, total 01\n",
    "* we throw three times: $\\rightarrow$ inside the circe 02, total 03\n",
    "* we throw fifty times: $\\rightarrow$ inside the circe 40, total 50\n",
    "\n",
    "\n",
    "\n",
    "So, 40 out of 50 darts are inside the circle, or in other words: $80 \\%$. \n",
    "\n",
    "So, assuming the darts were thrown randomly, I could approximate the area of the circle by $A_c\\approx 0.8 A_s$.\n",
    "\n",
    "As we make square 2x2 then the radius is 1 and the area will be exactly $A_c=\\pi$ \n",
    "\n",
    "If the square has an area of 4 units, then\n",
    "$ A_c= 4.0 * 0.8 = \\color{red}{\\text{3.2}}  \\approx \\pi r^2 = 3.1415$\n",
    "\n",
    "*but we threw only 50 times! What happens if we throw million times?\n",
    "\n",
    "\n"
   ]
  },
  {
   "cell_type": "code",
   "execution_count": 3,
   "id": "prescription-allowance",
   "metadata": {},
   "outputs": [],
   "source": [
    "import math, random\n",
    "import numpy as np\n",
    " \n",
    "def isPointInCircle(x, y, Cx, Cy, radius):\n",
    "    return math.sqrt((x - Cx)**2 + (y - Cy)**2) <= radius\n",
    " \n",
    "def approximateCircleArea(radius, numberOfPoints):\n",
    "    squareSide = radius*2\n",
    "    Cx = radius\n",
    "    Cy = radius\n",
    " \n",
    "    pointsInside = 0\n",
    "    for i in range(numberOfPoints):\n",
    "        x = random.random()*squareSide\n",
    "        y = random.random()*squareSide\n",
    " \n",
    "        if (isPointInCircle(x, y, Cx, Cy, radius)):\n",
    "            pointsInside = pointsInside + 1\n",
    " \n",
    "    return pointsInside / numberOfPoints * squareSide**2\n",
    "\n"
   ]
  },
  {
   "cell_type": "code",
   "execution_count": 4,
   "id": "indonesian-duration",
   "metadata": {},
   "outputs": [
    {
     "name": "stdout",
     "output_type": "stream",
     "text": [
      "Monte Carlo pi:  3.13448\n",
      "Numpy pi      :  3.14159\n",
      "error: 0.23 %\n"
     ]
    }
   ],
   "source": [
    "pimc=approximateCircleArea(1.0,100000)\n",
    "print('Monte Carlo pi: ', format(pimc, \".5f\"))\n",
    "print('Numpy pi      : ', format(np.pi, \".5f\"))\n",
    "\n",
    "print('error:', format(abs((np.pi-pimc)/np.pi)*100, \"2.2\") ,'%')\n"
   ]
  },
  {
   "cell_type": "markdown",
   "id": "effective-costume",
   "metadata": {},
   "source": [
    "### Monte carlo expectation value method"
   ]
  },
  {
   "cell_type": "markdown",
   "id": "helpful-tulsa",
   "metadata": {},
   "source": [
    "https://medium.com/analytics-vidhya/monte-carlo-integration-in-python-dfc12eb91ef\n",
    "https://vortarus.com/integrals-monte-carlo-simulation/\n",
    "<img src=\"imgs/example61.png\" width=\"400\" />"
   ]
  },
  {
   "cell_type": "code",
   "execution_count": 21,
   "id": "brief-victory",
   "metadata": {},
   "outputs": [
    {
     "name": "stdout",
     "output_type": "stream",
     "text": [
      "0.10629684279211749\n",
      "(0.10629251700680273, 2.6262079471422174e-14)\n"
     ]
    }
   ],
   "source": [
    "import numpy as np\n",
    "import scipy.integrate as integrate\n",
    "\n",
    "N = 10000000\n",
    "a = 5.0\n",
    "b = 20.0\n",
    "x = np.random.uniform(a,b,N)\n",
    "\n",
    "def integrand(x):\n",
    "    return x/((1+x)**3)\n",
    "\n",
    "print(np.mean(integrand(x))*(b-a))\n",
    "\n",
    "print(integrate.quad(integrand,5,20))"
   ]
  },
  {
   "cell_type": "code",
   "execution_count": null,
   "id": "normal-internet",
   "metadata": {},
   "outputs": [],
   "source": []
  },
  {
   "cell_type": "code",
   "execution_count": null,
   "id": "medical-event",
   "metadata": {},
   "outputs": [],
   "source": []
  }
 ],
 "metadata": {
  "kernelspec": {
   "display_name": "Python 3",
   "language": "python",
   "name": "python3"
  },
  "language_info": {
   "codemirror_mode": {
    "name": "ipython",
    "version": 3
   },
   "file_extension": ".py",
   "mimetype": "text/x-python",
   "name": "python",
   "nbconvert_exporter": "python",
   "pygments_lexer": "ipython3",
   "version": "3.7.2"
  }
 },
 "nbformat": 4,
 "nbformat_minor": 5
}
