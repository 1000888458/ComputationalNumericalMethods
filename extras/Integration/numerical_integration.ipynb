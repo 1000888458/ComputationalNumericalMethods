{
 "cells": [
  {
   "cell_type": "markdown",
   "id": "rotary-berry",
   "metadata": {},
   "source": [
    "* material to know by heart\n",
    "\n",
    "* watch out with the jupyter notebook!"
   ]
  },
  {
   "cell_type": "markdown",
   "id": "supposed-stations",
   "metadata": {},
   "source": [
    "### NUMERICAL INTEGRATION"
   ]
  },
  {
   "cell_type": "markdown",
   "id": "educated-czech",
   "metadata": {},
   "source": [
    "Integration is the second fundamental concept of calculus (along with differentiation). Numerical approaches are generally more useful here than in differentiation as the antiderivative procedure (analytically) is often much more complex, or even not possible. In this section we will cover some basic schemes, including Trapezoid method, Simpson method, Clenshaw-Curtis (scipy.integrate.quad) and Monte Carlo method."
   ]
  },
  {
   "cell_type": "markdown",
   "id": "voluntary-classification",
   "metadata": {},
   "source": [
    "### Indefinite integral\n",
    "\n",
    "$$ I = \\int f(x) dx$$ \n",
    "\n",
    "\n",
    "the results is a function"
   ]
  },
  {
   "cell_type": "markdown",
   "id": "later-armenia",
   "metadata": {},
   "source": [
    "### Definite integral \n",
    "\n",
    "the results is a number\n",
    "\n",
    "Geometrical interpretation of a definite integral: area under the curve\n",
    "\n",
    "$$ I = \\int_{a}^{b}f(x) dx$$ \n",
    "\n",
    "<img src=\"imgs/integral_area.png\" width=\"200\" />\n",
    "\n",
    "\n",
    "*strip $\\approx slice$\n"
   ]
  },
  {
   "cell_type": "markdown",
   "id": "according-means",
   "metadata": {},
   "source": [
    "###  How can we approximate this numerically\n",
    "\n",
    "$$ I = \\int_{a}^{b}f(x) dx = \\lim_{\\Delta x \\rightarrow 0} \\sum_{i=1}^{N}f_i(x) \\Delta x $$ \n",
    "\n",
    "* because the area of each strip is $f(x_i) * \\Delta x_i$ \n",
    "\n",
    "* in order to get better approximation we make more strips\n",
    "<img src=\"imgs/integral_area2.png\" width=\"400\" />"
   ]
  },
  {
   "cell_type": "markdown",
   "id": "quiet-essay",
   "metadata": {},
   "source": [
    "### Generalization\n",
    "\n",
    "* But not only the number of strips improves the approximation but also the shape of the strip \n",
    "\n",
    "* We can replace a complicated function or a tabulated data with an approximating ($\\color{red}{\\text{interpolating}}$) function.... sounds familiar?\n",
    "\n",
    "$$ I = \\int_{a}^{b}f(x) dx \\approx \\int_{a}^{b}f_n(x) dx $$ \n",
    "\n",
    "where $f_n(x)$ is n-th order polynomial\n"
   ]
  },
  {
   "cell_type": "markdown",
   "id": "cutting-curve",
   "metadata": {},
   "source": [
    "<table><tr>\n",
    "<td> <img src=\"imgs/1polynomial.png\" width=\"200\" /> </td>\n",
    "<td> <img src=\"imgs/2polynomial.png\" width=\"200\" /> </td>\n",
    "</tr></table>"
   ]
  },
  {
   "cell_type": "markdown",
   "id": "sensitive-argentina",
   "metadata": {},
   "source": [
    "### Using 1st order Lagrange polynomial: Trapezoid approximation\n",
    "\n",
    "<img src=\"imgs/trapezoid.png\" width=\"200\" />\n",
    "\n",
    "$$ I \\approx  \\frac{f(a)+f(b)}{2} \\Delta x  = \\frac{(b-a)}{2}[f(a)+f(b)]$$\n",
    "\n",
    "* which is average height * width\n",
    "* Trapezoid approximation uses two points and can integrate first order polynomials exactly"
   ]
  },
  {
   "cell_type": "markdown",
   "id": "functioning-duration",
   "metadata": {},
   "source": [
    "### Derivation of the Trapezoid approximation\n",
    "\n",
    "Trapezoid and other approximations can be derived from the Lagrange polynomial because we said that:\n",
    "\n",
    "$$ I = \\int_{a}^{b}f(x) dx \\approx \\int_{a}^{b}f_n(x) dx $$\n",
    "where $f_n(x)$ is n-th order polynomial\n",
    "\n",
    "#### Reminder of Lagrange Polynomials \n",
    "\n",
    "$$P_n(x)=\\sum_{i=0}^{n}L_i(x) f(x_i) \\quad \\text{where} \\quad L_i(x)=\\prod_{j=0,j \\neq i}^{n} \\frac{(x-x_j)}{(x_i-x_j)}$$\n",
    "\n",
    "example for n=1\n",
    "\n",
    "$$P_1(x)=\\frac{(x-x_1)}{(x_0-x_1)}f(x_0) + \\frac{(x-x_0)}{(x_1-x_0)}f(x_1)$$\n",
    "\n",
    "example for n=2\n",
    "\n",
    "$$P_2(x)=\\frac{(x-x_1)(x-x_2)}{(x_0-x_1)(x_0-x_2)}f(x_0) + \\frac{(x-x_0)(x-x_2)}{(x_1-x_0)(x_1-x_2)}f(x_1) + \\frac{(x-x_0)(x-x_1)}{(x_2-x_1)(x_2-x_2)}f(x_2)$$"
   ]
  },
  {
   "cell_type": "markdown",
   "id": "primary-wrist",
   "metadata": {},
   "source": [
    "### Derivation details:\n",
    "\n",
    "* The trapezoid approximation is when $n=1$ for $\\int_{a}^{b}f_n(x) dx $\n",
    "\n",
    "\\begin{eqnarray}\n",
    "\\int_{a=x_0}^{b=x_1} f(x) \\ dx &\\approx& \\int_{x_0}^{x_1} P_1(x) \\ dx + E_n(n,x)^* \\\\\n",
    "&\\approx& \\int_{x_0}^{x_1} \\left[ \\frac{(x-x_1)}{(x_0-x_1)}f(x_0) + \\frac{(x-x_0)}{(x_1-x_0)}f(x_1) \\right]  dx + \\frac{1}{2} f''(\\zeta) \\int_{x_0}^{x_1} (x-x_0)(x-x_1) dx \\\\\n",
    "&\\approx& \\left[ \\frac{(x-x_1)^2}{2(x_0-x_1)}f(x_0) + \\frac{(x-x_0)^2}{2(x_1-x_0)}f(x_1) \\right]_{x_0}^{x_1}  + \\frac{1}{2} f''(\\zeta) \\int_{x_0}^{x_1} (x-x_0)(x-x_1) dx \\\\\n",
    "&\\approx& -\\frac{(x_0-x_1)^2}{2(x_0-x_1)}f(x_0) + \\frac{(x_1-x_0)^2}{2(x_1-x_0)}f(x_1)  + \\frac{1}{2} f''(\\zeta) \\left( -\\frac{h^3}{6} \\right) \\\\\n",
    "&\\approx& \\frac{h}{2}[f(x_0)+f(x_1)] - \\frac{h^3}{12} f''(\\zeta) \\\\\n",
    "\\end{eqnarray}\n",
    "\n",
    "hence:\n",
    "\n",
    "$$ \\int_{a}^{b} f(x) \\ dx = \\frac{h}{2}[f(a)+f(b)] - \\frac{h^3}{12} f''(\\zeta)  \\approx \\frac{b-a}{2}[f(a)+f(b)] $$\n",
    "\n",
    "*If we replace the function f(x) with the polynomial $P(x)$, we would like to know what \n",
    "error we are making. Hence he error is $E_n(x,f) = f(x) - P(x)$, which comes from the Taylor expansion formula."
   ]
  },
  {
   "cell_type": "markdown",
   "id": "inclusive-excitement",
   "metadata": {},
   "source": [
    "### This is called Newton-Cotes formula for n=1. Or in other words \n",
    "$\\color{red}{\\text{Trapezoid formula:}}$\n",
    "\n",
    "$$ \\int_{a}^{b} f(x) \\ dx \\approx \\frac{b-a}{2}[f(a)+f(b)] \\approx \\frac{h}{2}[f(a)+f(b)] $$"
   ]
  },
  {
   "cell_type": "markdown",
   "id": "minute-craps",
   "metadata": {},
   "source": [
    "### Multiple application of the Trapezoid formula\n",
    "\n",
    "<img src=\"imgs/trapezoid_multiple.png\" width=\"300\" />\n",
    "\n",
    "$$ \\int_{a}^{b} f(x) \\ dx =  \\int_{x_0}^{x_1} f(x) \\ dx + \\int_{x_1}^{x_2} f(x) \\ dx + \\int_{x_2}^{x_3} f(x) \\ dx + \\cdots + \\int_{x_{n-1}}^{x_n} f(x) \\ dx $$\n",
    "\n",
    "$$ I \\approx  \\frac{h}{2}[f(x_0)+f(x_1)] + \\frac{h}{2}[f(x_1)+f(x_2)] + \\frac{h}{2}[f(x_2)+f(x_3)] + \\cdots \\frac{h}{2}[f(x_{n-1})+f(x_n)]$$\n",
    "\n",
    "$$I \\approx \\frac{h}{2} \\left[ f(x_0) + 2 \\sum_{i=1}^{n-1} f(x_i) + f(x_n)\\right]$$"
   ]
  },
  {
   "cell_type": "markdown",
   "id": "buried-lodge",
   "metadata": {},
   "source": [
    "### Using 2st order Lagrange polynomial: Simpson 1/3 approximation\n",
    "(3/8 we didnt derive)\n",
    "* we can follow exactly the same steps as for the derivation of the trapezoid formula but instead of n=1, we substitute n=2: \n",
    "\n",
    "* we can see that the curve approximating between two points is not straingt but parabolic \n",
    "\n",
    "<img src=\"imgs/simpson.png\" width=\"300\" />\n",
    "\n",
    "$$ I = \\frac{h}{3}[f(x_0)+ 4 f(x_1) + f(x_2)] - \\frac{h^5}{90} f''''(\\zeta)$$\n",
    "\n",
    "*Simpson 1/3 approximation uses three points and can integrate second order polynomials exactly\n",
    "\n",
    "h=0.01"
   ]
  },
  {
   "cell_type": "markdown",
   "id": "great-portland",
   "metadata": {},
   "source": [
    "### Multiple application of the Simpson 1/3 formula\n",
    "\n",
    "<img src=\"imgs/simpson_multiple.png\" width=\"300\" />\n",
    "\n",
    "$$I \\approx \\frac{h}{3n} \\left[ f(x_0) + 4\\sum_{i=1,3,5}^{n-1} f(x_i) + 2\\sum_{i=2,4,6}^{n-1} f(x_i) + f(x_n)\\right]$$\n",
    "\n",
    "odd numbers =1,3,5,7,\n",
    "even numbers = 0,2,4,6,8\n",
    "\n",
    "Simpson's approximation uses three points and can integrate second order polynomials exactly"
   ]
  },
  {
   "cell_type": "markdown",
   "id": "frozen-secret",
   "metadata": {},
   "source": [
    "### Comparison between Trapezoid and Simpson approximations:\n",
    "$\\int_0^2 f(x) dx$\n",
    "\n",
    "* Trapezoid: $ I \\approx f(0)+ f(2) $\n",
    "* Simpson: $ I \\approx \\frac{1}{3} [f(0)+ 4 f(1) + f(2)] $\n",
    "\n",
    "if $f(x)=x^2$\n",
    "\n",
    "* Trapezoid: $ \\int_0^2 x^2 dx \\approx 0^2+ 2^2 = 4 $\n",
    "* Simpson: $ \\int_0^2 x^2 dx \\approx \\frac{1}{3} [0^2 + 4 * 1^2 + 2^2] = \\frac{8}{3} = 2.666666666$\n",
    "\n",
    "<img src=\"imgs/trapezoid_simpson_comparison.png\" width=\"500\" />\n",
    "\n",
    "* QUESTION: WHY IS THE SIMPSON APPROXIMATION GIVING EXACTLY THE SAME RESULT AS ANALYTICAL?"
   ]
  },
  {
   "cell_type": "markdown",
   "id": "regulation-bradley",
   "metadata": {},
   "source": [
    "### Other methods than Trapezoid or Simpson\n",
    "There are far more sophisticated methods than Simpson or Trapezoid.\n",
    "One that is most commonly used in the sicpy library is called \"quad\" (quadrature $\\sim$ integral) and can be imported by: \n",
    "\n",
    "\n",
    "import scipy.integrate  as  integrate \n",
    "\n",
    "I=integrate.quad(...)\n",
    "\n",
    "\n",
    "\n",
    "The manual of the quad says: \"For finite integration limits, the integration is performed using a Clenshaw-Curtis method which uses Chebyshev moments. ... If one of the integration limits is infinite, then a Fourier integral is computed (assuming w neq 0).\"\n",
    "... \"quad is implementeed using a technique from the Fortran library QUADPACK.\" \\\n",
    "*rather complicated\n",
    "\n",
    "https://docs.scipy.org/doc/scipy/reference/reference/generated/scipy.integrate.quad.html#scipy.integrate.quad"
   ]
  },
  {
   "cell_type": "markdown",
   "id": "included-stupid",
   "metadata": {},
   "source": [
    "### Implementing trapezoid rule:"
   ]
  },
  {
   "cell_type": "code",
   "execution_count": 1,
   "id": "intermediate-miracle",
   "metadata": {},
   "outputs": [],
   "source": [
    "### For the curious ones: Implementing trapezoid rule:\n",
    "import numpy as np\n",
    "def trapz(f,a,b,N=50):\n",
    "    '''Approximate the integral of f(x) from a to b by the trapezoid rule.\n",
    "\n",
    "    The trapezoid rule approximates the integral \\int_a^b f(x) dx by the sum:\n",
    "    (dx/2) \\sum_{k=1}^N (f(x_k) + f(x_{k-1}))\n",
    "    where x_k = a + k*dx and dx = (b - a)/N.\n",
    "\n",
    "    Parameters\n",
    "    ----------\n",
    "    f : function\n",
    "        Vectorized function of a single variable\n",
    "    a , b : numbers\n",
    "        Interval of integration [a,b]\n",
    "    N : integer\n",
    "        Number of subintervals of [a,b]\n",
    "\n",
    "    Returns\n",
    "    -------\n",
    "    float\n",
    "        Approximation of the integral of f(x) from a to b using the\n",
    "        trapezoid rule with N subintervals of equal length.\n",
    "\n",
    "    Examples\n",
    "    --------\n",
    "    >>> trapz(np.sin,0,np.pi/2,1000)\n",
    "    0.9999997943832332\n",
    "    '''\n",
    "    x = np.linspace(a,b,N+1) # N+1 points make N subintervals\n",
    "    y = f(x)\n",
    "    y_right = y[1:] # right endpoints\n",
    "    y_left = y[:-1] # left endpoints\n",
    "    dx = (b - a)/N\n",
    "    T = (dx/2) * np.sum(y_right + y_left)\n",
    "    return T"
   ]
  },
  {
   "cell_type": "code",
   "execution_count": 2,
   "id": "nervous-signal",
   "metadata": {},
   "outputs": [
    {
     "data": {
      "text/plain": [
       "1.9993419830762618"
      ]
     },
     "execution_count": 2,
     "metadata": {},
     "output_type": "execute_result"
    }
   ],
   "source": [
    "trapz(np.sin,0,np.pi,50)"
   ]
  },
  {
   "cell_type": "markdown",
   "id": "consecutive-retention",
   "metadata": {},
   "source": [
    "## Convenient numerical integration using python scipy package\n",
    "* in real life there are two different kind of problems we ca encounter\n",
    "\n",
    "    $\\rightarrow$ a) we have data (experimental) point x, y and we want to find the integral (area under the curve)\n",
    "\n",
    "    $\\rightarrow$ b) we have the analytical form of the fuction: x, y and we want to find the integral (area under the curve)\n",
    "\n"
   ]
  },
  {
   "cell_type": "markdown",
   "id": "relative-symphony",
   "metadata": {},
   "source": [
    "### a) Lets assume that we have a set of points (here w generate using np.sin but we can actually use any values)"
   ]
  },
  {
   "cell_type": "code",
   "execution_count": 3,
   "id": "alternate-flood",
   "metadata": {},
   "outputs": [
    {
     "data": {
      "text/plain": [
       "[<matplotlib.lines.Line2D at 0x7f4bc1c52438>]"
      ]
     },
     "execution_count": 3,
     "metadata": {},
     "output_type": "execute_result"
    },
    {
     "data": {
      "image/png": "[encoded data removed]",
      "text/plain": [
       "<Figure size 432x288 with 1 Axes>"
      ]
     },
     "metadata": {
      "needs_background": "light"
     },
     "output_type": "display_data"
    }
   ],
   "source": [
    "import scipy.integrate as integrate\n",
    "import numpy as np\n",
    "import matplotlib.pyplot as plt\n",
    "\n",
    "x=np.linspace(0,np.pi,10)\n",
    "y = np.sin(x)\n",
    "fig, ax = plt.subplots(1,1)\n",
    "ax.set_xlabel('x')\n",
    "ax.set_ylabel('y')\n",
    "ax.plot(x,y,marker='.')"
   ]
  },
  {
   "cell_type": "code",
   "execution_count": 4,
   "id": "developing-oklahoma",
   "metadata": {},
   "outputs": [
    {
     "name": "stdout",
     "output_type": "stream",
     "text": [
      "Trapezoid (scipy) 1.9796508112164835\n",
      "Simpson (scipy), 1.9995487365804032\n"
     ]
    }
   ],
   "source": [
    "import scipy.integrate as integrate\n",
    "import numpy as np\n",
    "\n",
    "I1 = integrate.trapz(y, x)\n",
    "I3 = integrate.simps(y,x)\n",
    "print('Trapezoid (scipy)',I1)\n",
    "print('Simpson (scipy),',I3)\n",
    "\n",
    "#compare with https://www.wolframalpha.com/input/?i=integrate+sin+x+dx+from+x%3D0+to+pi"
   ]
  },
  {
   "cell_type": "markdown",
   "id": "bound-sacrifice",
   "metadata": {},
   "source": [
    "### b) Lets assume that we know the function:\n",
    "Example 1."
   ]
  },
  {
   "cell_type": "code",
   "execution_count": 5,
   "id": "toxic-trader",
   "metadata": {},
   "outputs": [
    {
     "name": "stdout",
     "output_type": "stream",
     "text": [
      "2.0 +/- 2.220446049250313e-14\n"
     ]
    }
   ],
   "source": [
    "import scipy.integrate as integrate\n",
    "#def integrand(x, a, b):\n",
    "#    return a*x**3 + b\n",
    "\n",
    "def integrand(x, a, b):\n",
    "    return a + b * np.sin(x)\n",
    "\n",
    "a = 0\n",
    "b = 1\n",
    "I, error = integrate.quad(integrand, 0, np.pi, args=(a,b))\n",
    "print(I,'+/-',error)"
   ]
  },
  {
   "cell_type": "code",
   "execution_count": 6,
   "id": "danish-sampling",
   "metadata": {},
   "outputs": [
    {
     "name": "stdout",
     "output_type": "stream",
     "text": [
      "[0, 1, 2, 3, 4]\n",
      "[3.141592653589793, 5.141592653589792, 7.141592653589792, 9.141592653589795, 11.141592653589791]\n"
     ]
    },
    {
     "data": {
      "image/png": "[encoded data removed]",
      "text/plain": [
       "<Figure size 432x288 with 1 Axes>"
      ]
     },
     "metadata": {
      "needs_background": "light"
     },
     "output_type": "display_data"
    }
   ],
   "source": [
    "## If we want to loop through arguments:\n",
    "a=1.0\n",
    "Is=[]\n",
    "bs=[0,1,2,3,4]\n",
    "for b in bs:\n",
    "    I,error = integrate.quad(integrand, 0, np.pi, args=(a,b))\n",
    "    Is.append(I)\n",
    "fig,ax = plt.subplots(1,1)\n",
    "ax.scatter(bs,Is)\n",
    "print(bs)\n",
    "print(Is)\n",
    "# this can be also done by np.vectorize()"
   ]
  },
  {
   "cell_type": "markdown",
   "id": "representative-waters",
   "metadata": {},
   "source": [
    "### Example 2\n",
    "Solve numerically following integral\n",
    "\n",
    "$ I= \\int_{0}^{10}\\frac{300* x}{1 + e^x}$"
   ]
  },
  {
   "cell_type": "code",
   "execution_count": 7,
   "id": "upset-albania",
   "metadata": {},
   "outputs": [
    {
     "name": "stdout",
     "output_type": "stream",
     "text": [
      "246.59029350523798\n"
     ]
    }
   ],
   "source": [
    "def integrand2(x):\n",
    "    return 300*x/(1+ np.exp(x))\n",
    "\n",
    "I,error = integrate.quad(integrand2, 0, 10)\n",
    "print(I)"
   ]
  },
  {
   "cell_type": "markdown",
   "id": "later-arctic",
   "metadata": {},
   "source": [
    "### Example 3 \n",
    "\n",
    "Solve the following integral numerically\n",
    "\n",
    "$$I = \\int_{1}^{9} \\frac{b x^2 + x^2 \\sqrt(x) - 1}{x^2} dx$$\n",
    "\n",
    "Initially b=2\n",
    "\n",
    "Then make a plot for $I$ vs 10 different values of b=[0,1,2,3,4,5,6,7,8,9] "
   ]
  },
  {
   "cell_type": "code",
   "execution_count": 8,
   "id": "raising-ocean",
   "metadata": {},
   "outputs": [
    {
     "name": "stdout",
     "output_type": "stream",
     "text": [
      "32.44444444444443\n",
      "32.44444444444444\n"
     ]
    },
    {
     "data": {
      "text/plain": [
       "<matplotlib.collections.PathCollection at 0x7f4bc16a9da0>"
      ]
     },
     "execution_count": 8,
     "metadata": {},
     "output_type": "execute_result"
    },
    {
     "data": {
      "image/png": "[encoded data removed]",
      "text/plain": [
       "<Figure size 432x288 with 1 Axes>"
      ]
     },
     "metadata": {
      "needs_background": "light"
     },
     "output_type": "display_data"
    }
   ],
   "source": [
    "def integrand3(x,b):\n",
    "    return ((b*x**2 + x**2 * np.sqrt(x) - 1)/x**2)\n",
    "b=2\n",
    "I,error = integrate.quad(integrand3, 1, 9,args=(b))\n",
    "print(I)\n",
    "print(32+4/9)\n",
    "### integrate (2*x^2 + x^2 * sqrt(x) -1 )/(x^2) dx from x=0 to pi\n",
    "\n",
    "Is=[]\n",
    "bs=[0,1,2,3]\n",
    "for b in bs:\n",
    "    I,error = integrate.quad(integrand3, 1, 9, args=(b))\n",
    "    Is.append(I)\n",
    "fig,ax = plt.subplots(1,1)\n",
    "ax.scatter(bs,Is)\n"
   ]
  },
  {
   "cell_type": "markdown",
   "id": "certified-collins",
   "metadata": {},
   "source": [
    "## Monte Carlo technique of integration\n",
    "\n",
    "Imagine, you want to calculate the area of a circle, but you didn’t know anything about $\\pi$. Instead, you chose to surround the circle by a square, for which you do know how to calculate the area."
   ]
  },
  {
   "cell_type": "markdown",
   "id": "vietnamese-telephone",
   "metadata": {},
   "source": [
    "<table><tr>\n",
    "<td> <img src=\"imgs/circ1.png\" width=\"200\" /> </td>\n",
    "</tr></table>"
   ]
  },
  {
   "cell_type": "markdown",
   "id": "alien-responsibility",
   "metadata": {},
   "source": [
    "Now, we throw darts at the paper and we take a tally of total number of darts that were thrown as well as the darts that land inside the circle.\n",
    "\n",
    "*the key here is the randomness!!!"
   ]
  },
  {
   "cell_type": "markdown",
   "id": "advisory-ridge",
   "metadata": {},
   "source": [
    "<table><tr>\n",
    "<td> <img src=\"imgs/circ2.png\" width=\"200\" /> </td>\n",
    "<td> <img src=\"imgs/circ3.png\" width=\"200\" /> </td>\n",
    "<td> <img src=\"imgs/circ5.png\" width=\"200\" /> </td>\n",
    "</tr></table>\n",
    "\n"
   ]
  },
  {
   "cell_type": "markdown",
   "id": "forbidden-wednesday",
   "metadata": {},
   "source": [
    "* we throw one time: $\\ $  $\\rightarrow$ inside the circe 01, total 01\n",
    "* we throw three times: $\\rightarrow$ inside the circe 02, total 03\n",
    "* we throw fifty times: $\\rightarrow$ inside the circe 40, total 50\n",
    "\n"
   ]
  },
  {
   "cell_type": "markdown",
   "id": "realistic-mexican",
   "metadata": {},
   "source": [
    "So, 40 out of 50 darts are inside the circle, or in other words: $80 \\%$. \n",
    "\n",
    "So, assuming the darts were thrown randomly, I could approximate the area of the circle by $A_c\\approx 0.8 A_s$.\n",
    "\n",
    "As we make square 2x2 then the radius is 1 and the area will be exactly $A_c=\\pi$ \n",
    "\n",
    "If the square has an area of 4 units, then\n",
    "$ A_c= 4.0 * 0.8 = \\color{red}{\\text{3.2}}  \\approx \\pi r^2 = 3.1415$\n",
    "\n",
    "*but we threw only 50 times! What happens if we throw million times?"
   ]
  },
  {
   "cell_type": "code",
   "execution_count": 9,
   "id": "optical-discharge",
   "metadata": {},
   "outputs": [],
   "source": [
    "import math, random\n",
    " \n",
    "def isPointInCircle(x, y, Cx, Cy, radius):\n",
    "    return math.sqrt((x - Cx)**2 + (y - Cy)**2) <= radius\n",
    " \n",
    "def approximateCircleArea(radius, numberOfPoints):\n",
    "    squareSide = radius*2\n",
    "    Cx = radius\n",
    "    Cy = radius\n",
    " \n",
    "    pointsInside = 0\n",
    "    for i in range(numberOfPoints):\n",
    "        x = random.random()*squareSide\n",
    "        y = random.random()*squareSide\n",
    " \n",
    "        if (isPointInCircle(x, y, Cx, Cy, radius)):\n",
    "            pointsInside = pointsInside + 1\n",
    " \n",
    "    return pointsInside / numberOfPoints * squareSide**2"
   ]
  },
  {
   "cell_type": "code",
   "execution_count": 10,
   "id": "overall-happening",
   "metadata": {},
   "outputs": [
    {
     "name": "stdout",
     "output_type": "stream",
     "text": [
      "Monte Carlo pi:  3.14265\n",
      "Numpy pi      :  3.14159\n"
     ]
    }
   ],
   "source": [
    "pimc=approximateCircleArea(1.0,10000000)\n",
    "print('Monte Carlo pi: ', format(pimc, \".5f\"))\n",
    "print('Numpy pi      : ', format(np.pi, \".5f\"))"
   ]
  },
  {
   "cell_type": "code",
   "execution_count": 11,
   "id": "distinguished-cleveland",
   "metadata": {},
   "outputs": [
    {
     "name": "stdout",
     "output_type": "stream",
     "text": [
      "error: 0.034 %\n"
     ]
    }
   ],
   "source": [
    "print('error:', format(abs((np.pi-pimc)/np.pi)*100, \"2.2\") ,'%')"
   ]
  },
  {
   "cell_type": "code",
   "execution_count": null,
   "id": "monthly-discipline",
   "metadata": {},
   "outputs": [],
   "source": []
  },
  {
   "cell_type": "markdown",
   "id": "trained-combination",
   "metadata": {},
   "source": [
    "## HOMEWORK \n",
    "\n",
    "For small angles the period of the pendulum can be found using:\n",
    "\n",
    "$T=2 \\pi \\sqrt{\\frac{l}{g}}$\n",
    "\n",
    "but for large amplitudes this equation is no longer valid and different formula has to be used:\n",
    "\n",
    "$T=4 \\sqrt{\\frac{l}{g}} K(k)$ where $k=sin\\left(\\frac{\\theta_0}{2}\\right)$ ($\\theta_0$ is an initial angle)\n",
    "\n",
    "and $K$ is an eliptic integral \n",
    "\n",
    "$$K(k)=\\int_{0}^{2 \\pi} \\frac{d \\varphi}{\\sqrt{1 - k^2 sin^2(\\varphi)}}$$\n",
    "\n",
    "\n",
    "\n",
    "\n",
    "Make a plot of T vs $\\theta_0$\n",
    "\n",
    "$\\theta_0=[0,10,20,30,40,50,60]$ degrees\n",
    "\n",
    "assume:\n",
    "l=0.2\n",
    "g=9.81\n",
    "\n",
    "*For more details on eliptic integrals see:\n",
    "\n",
    "https://en.wikipedia.org/wiki/Elliptic_integral\n",
    "\n",
    "https://www.am1.us/wp-content/uploads/Documents/U11610_Pendulums_and_Elliptic_Integrals_new.pdf"
   ]
  },
  {
   "cell_type": "code",
   "execution_count": null,
   "id": "graphic-patient",
   "metadata": {},
   "outputs": [],
   "source": []
  },
  {
   "cell_type": "code",
   "execution_count": null,
   "id": "electronic-encyclopedia",
   "metadata": {},
   "outputs": [],
   "source": []
  }
 ],
 "metadata": {
  "kernelspec": {
   "display_name": "Python 3",
   "language": "python",
   "name": "python3"
  },
  "language_info": {
   "codemirror_mode": {
    "name": "ipython",
    "version": 3
   },
   "file_extension": ".py",
   "mimetype": "text/x-python",
   "name": "python",
   "nbconvert_exporter": "python",
   "pygments_lexer": "ipython3",
   "version": "3.7.2"
  }
 },
 "nbformat": 4,
 "nbformat_minor": 5
}
