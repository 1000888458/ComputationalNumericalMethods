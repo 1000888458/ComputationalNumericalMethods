{
 "cells": [
  {
   "cell_type": "markdown",
   "id": "confused-richards",
   "metadata": {},
   "source": [
    "# Numerical Calculus"
   ]
  },
  {
   "cell_type": "markdown",
   "id": "under-australian",
   "metadata": {},
   "source": [
    "Throughout this section and the next ones, we shall cover the topic of numerical calculus. Calculus has been identified since ancient times as a powerful toolkit for analysing and handling geometrical problems. Since differential calculus was developed by Newton (1642-1727) and Leibniz (1646 - 1716), many different applications have been found, at the point that most of the current science is founded on it (e.g. differential and integral equations). Due to the ever increasing complexity of analytical expressions used in physics and astronomy, their usage becomes more and more impractical, and numerical approaches are more than necessary when one wants to go deeper. This issue has been identified since long ago and many numerical techniques have been developed. We shall cover only the most basic schemes, but also providing a basis for more formal approaches."
   ]
  },
  {
   "cell_type": "markdown",
   "id": "compact-context",
   "metadata": {},
   "source": [
    "# Numerical Differentiation"
   ]
  },
  {
   "cell_type": "markdown",
   "id": "monthly-escape",
   "metadata": {},
   "source": [
    "According to the formal definition of differentiation, given a function $f(x)$ such that $f(x)\\in C^1[a,b]$, the first order derivative is given by"
   ]
  },
  {
   "cell_type": "markdown",
   "id": "continuous-sweet",
   "metadata": {},
   "source": [
    "$$f'(x) = \\frac{d}{dx}f(x) = \\left.\\frac{d f}{d x}\\right|_{x_i} = \\lim_{h\\rightarrow 0} \\frac{f(x+h)-f(x)}{h}$$\n",
    "\n",
    "<img src=\"imgs/tangent.png\" width=\"300\" />\n",
    "\n",
    "(for the numerical analysis we can replace $h \\rightarrow \\Delta x$)\n",
    "\n",
    "$$ \\left.\\frac{d f}{d x}\\right|_{x_i} \\approx \\frac{\\Delta f}{\\Delta x} = \\frac{f(x_i + \\Delta x) - f(x_i)}{\\Delta x}$$\n",
    "\n",
    "\n",
    "[//]:  $$ \\left.\\frac{d f}{d x}\\right|_{x_i} = \\lim\\limits_{\\Delta x \\to 0} \\frac{f(x_i + \\Delta x) - f(x_i)}{\\Delta x}$$\n",
    "\n",
    "<img src=\"imgs/tangent_num.png\" width=\"300\" />\n",
    "\n",
    "* or if our data is stored in arrays\n",
    "$$ f'(x_i) \\approx \\frac{f(x_{x+1}) - f(x_i)}{x_{i+1} -x_i} $$\n",
    "\n",
    "* QA: Interpretation: the derivative is the tangent or the slope at the point of the evaluation or as a rate of change of a function at a given point"
   ]
  },
  {
   "cell_type": "markdown",
   "id": "detected-bundle",
   "metadata": {},
   "source": [
    "### Analytical differentiation is preffered if possilble but numerical differentiation is considered if\n",
    "* the function cannot be differentiated analytically\n",
    "* the function is known at discrete points only\n",
    "* the differentiation is to be automated in an algorithm.\n"
   ]
  },
  {
   "cell_type": "markdown",
   "id": "fluid-ethics",
   "metadata": {},
   "source": [
    "# Motivation... (why?)\n",
    "\n",
    "* from some physical experiment you obtained the dependence of a pressure of a gas on its temperature $P$ vs. $T$ (real story, but the points are smoothen a bit)"
   ]
  },
  {
   "cell_type": "markdown",
   "id": "stylish-thanksgiving",
   "metadata": {},
   "source": [
    "<img src=\"imgs/pvst.jpg\" width=\"600\" />"
   ]
  },
  {
   "cell_type": "markdown",
   "id": "forbidden-denmark",
   "metadata": {},
   "source": [
    "But the heat capacity is given by (equation from the book of Thermodynamics)...:\n",
    "\n",
    "$$ C_v \\approx \\left (\\frac{dP}{dT} \\right) $$\n",
    "\n",
    "* which you can read as how the P is changing with T - and its changing at each point...\n",
    "\n",
    "* which means to get $C_v$ you need to find the derivative of the $P$ vs. $T$!\n",
    "* So I can take numerical derivative of the points and get $C_v$"
   ]
  },
  {
   "cell_type": "markdown",
   "id": "successful-quebec",
   "metadata": {},
   "source": [
    "<img src=\"imgs/cvvt.jpg\" width=\"600\" />"
   ]
  },
  {
   "cell_type": "markdown",
   "id": "enhanced-arctic",
   "metadata": {},
   "source": [
    "* a slope in the $P vs T$ plot correspond to a POINT in the $C_v vs T$ plot (see point by point the behaviour of the first function )\n",
    "\n",
    "* on the plot $P vs T$ you see that there is some bending\n",
    "* but on plot $C_v vs T$ you can see a clear change of the derivative"
   ]
  },
  {
   "cell_type": "markdown",
   "id": "advised-potential",
   "metadata": {},
   "source": [
    "# derivative is also used to detect the 'edge' in an image:"
   ]
  },
  {
   "cell_type": "markdown",
   "id": "minor-sponsorship",
   "metadata": {},
   "source": [
    "<img src=\"imgs/edge_detection_deriv.jpg\" width=\"1000\" />"
   ]
  },
  {
   "cell_type": "markdown",
   "id": "democratic-street",
   "metadata": {},
   "source": [
    "## There are many schemes (esquemas) to calculate the derivative numerically.\n",
    "The most popular are three:\n",
    "\n",
    "<img src=\"imgs/differences.png\" width=\"300\" />\n",
    "\n",
    "* forward difference:\n",
    "\n",
    "$$ f'(x_i) \\approx \\frac{f(x_{i+1}) - f(x_i)}{h} - O(h) $$\n",
    "where $h=x_{i+1}-x_i$\n",
    "* backward difference:\n",
    "\n",
    "$$ f'(x_i) \\approx \\frac{f(x_i) - f(x_{i-1})}{h} + O(h) $$\n",
    "\n",
    "* central difference:\n",
    "\n",
    "$$ f'(x_i) \\approx \\frac{f(x_{i+1}) - f(x_{i-1})}{2h} + O(h^2) $$\n",
    "\n",
    "$O(h),  O(h^2) $ - errors of the approximations"
   ]
  },
  {
   "cell_type": "markdown",
   "id": "disabled-relation",
   "metadata": {},
   "source": [
    "### Where the schemes come from, what does $O(h^2)$ mean?"
   ]
  },
  {
   "cell_type": "markdown",
   "id": "configured-probe",
   "metadata": {},
   "source": [
    "### Taylor expansion\n",
    "$$ f(x \\pm h) \\approx f(x) \\pm f'(x)h + \\frac{f''(x)h^2}{2} \\pm \\frac{f'''(x)h^3}{3!} + ...  $$\n",
    "\n",
    "###  for the forward difference if we take only the positive part:\n",
    "\n",
    "$$ f(x + h) \\approx f(x) + f'(x)h + \\frac{f''(x)h^2}{2!} + \\frac{f'''(x)h^3}{3!} + ...  $$\n",
    "\n",
    "rearanging...\n",
    "\n",
    "$$ f'(x)h= f(x + h)-f(x)- \\frac{f''(x)h^2}{2!} - \\frac{f'''(x)h^3}{3!}...$$\n",
    "\n",
    "and dividing by 'h':\n",
    "\n",
    "$$ f'(x)= \\frac{f(x + h) - f(x)}{h} - \\frac{f''(x)h}{2!} - \\frac{f'''(x)h^2}{3!}...$$\n",
    "\n",
    "so the bigger contribution has $\\frac{f''(x)h}{2!}$ part hence the forward difference including the error is: \n",
    "\n",
    "$$ f'(x)= \\frac{f(x + h) - f(x)}{h} - O(h)$$\n",
    "\n",
    "\n",
    "\n",
    "### for the central difference we take Taylor expansion for each sign\n",
    "\n",
    "$$ f(x + h) \\approx f(x) + f'(x)h + \\frac{f''(x)h^2}{2!} + \\frac{f'''(x)h^3}{3!} + ...  $$\n",
    "$$ f(x - h) \\approx f(x) - f'(x)h + \\frac{f''(x)h^2}{2!} - \\frac{f'''(x)h^3}{3!} + ...  $$\n",
    "\n",
    "Central difference comes from rearanging the terms of the Taylor expansion \n",
    "$$ f'(x) \\approx \\frac{f(x + h) - f(x-h)}{2h} + \\frac{f'''(x)h^2}{3!} $$\n",
    "\n",
    "hence the central difference including the error is:\n",
    "\n",
    "$$ f'(x) \\approx \\frac{f(x + h) - f(x-h)}{2h} + O(h^2) $$\n",
    "\n",
    "\n",
    "Note that if for example h=0.1 the error is smaller for central difference scheme than for forward of backward difference scheme - hence the central difference scheme is better and used by scipy"
   ]
  },
  {
   "cell_type": "code",
   "execution_count": 22,
   "id": "nasty-blogger",
   "metadata": {},
   "outputs": [
    {
     "data": {
      "text/plain": [
       "27"
      ]
     },
     "execution_count": 22,
     "metadata": {},
     "output_type": "execute_result"
    }
   ],
   "source": [
    "3*3**2"
   ]
  },
  {
   "cell_type": "markdown",
   "id": "suitable-payment",
   "metadata": {},
   "source": [
    "### Comparing the three schemes \n",
    "<img src=\"imgs/differences_comparison.png\" width=\"800\" />"
   ]
  },
  {
   "cell_type": "markdown",
   "id": "floating-physics",
   "metadata": {},
   "source": [
    "# Numerical differentiation using SCIPY and NUMPY!!!!\n",
    "1) if we know the function we use `scipy.misc.derivative`\n",
    "\n",
    "2) if we have only points but we dont know the function we use: `numpy.gradient`"
   ]
  },
  {
   "cell_type": "markdown",
   "id": "chinese-seminar",
   "metadata": {},
   "source": [
    "## 1) if we know the function we use `scipy.misc.derivative`\n",
    "The documentation of the \"scipy.misc.derivative\" routine says \n",
    "\n",
    "* \"Given a function, use a central difference formula with spacing dx to compute the nth derivative at x0.\" (https://docs.scipy.org/doc/scipy/reference/generated/scipy.misc.derivative.html)"
   ]
  },
  {
   "cell_type": "markdown",
   "id": "perceived-tribune",
   "metadata": {},
   "source": [
    "### Example 1 - demonstrate the usage of `derivative`"
   ]
  },
  {
   "cell_type": "code",
   "execution_count": 23,
   "id": "median-membership",
   "metadata": {},
   "outputs": [
    {
     "data": {
      "text/plain": [
       "4.999999999921734"
      ]
     },
     "execution_count": 23,
     "metadata": {},
     "output_type": "execute_result"
    }
   ],
   "source": [
    "#Example from the website:\n",
    "from scipy.misc import derivative\n",
    "\n",
    "def func(x):\n",
    "    return x**3 + x**2\n",
    "\n",
    "derivative(func, 1.0, dx=1e-6)"
   ]
  },
  {
   "cell_type": "code",
   "execution_count": 7,
   "id": "expanded-conversation",
   "metadata": {},
   "outputs": [
    {
     "data": {
      "text/plain": [
       "5"
      ]
     },
     "execution_count": 7,
     "metadata": {},
     "output_type": "execute_result"
    }
   ],
   "source": [
    "3*1**2+2*1"
   ]
  },
  {
   "cell_type": "markdown",
   "id": "distinct-anatomy",
   "metadata": {},
   "source": [
    "### Example 2 - demonstrate the importance of dx"
   ]
  },
  {
   "cell_type": "markdown",
   "id": "macro-associate",
   "metadata": {},
   "source": [
    "Take a function $f(x) = x^3$ and evaluate the first derivative of that function using the previous numerical scheme at the point $x_0=2.0$ and using $h=0.5,\\ 0.1,\\  0.05$\n",
    "\n",
    "Compare with the real function and plot the tangent line using the found values of the slope.\n",
    "\n",
    "Analytical solution: $f'(x)=3x^2 \\rightarrow f'(2)=12$ \n",
    "\n",
    "Quick numerical solution: use library derivative from scipy.misc"
   ]
  },
  {
   "cell_type": "code",
   "execution_count": 9,
   "id": "decimal-prime",
   "metadata": {},
   "outputs": [],
   "source": [
    "from scipy.misc import derivative\n",
    "import numpy as np\n",
    "import matplotlib.pyplot as plt"
   ]
  },
  {
   "cell_type": "markdown",
   "id": "encouraging-revision",
   "metadata": {},
   "source": [
    "It is used as:\n",
    "```python\n",
    "derivative(func, x0, dx=1.0, n=1, args=(), order=3)\n",
    "```\n",
    "__Parameters__<br/>\n",
    "`func` : function →\n",
    "    Input function.<br/>\n",
    "`x0` : float →\n",
    "    The point at which `n`-th derivative is found.<br/>\n",
    "`dx` : float, optional →\n",
    "    Spacing.<br/>\n",
    "`n` : int, optional →\n",
    "    Order of the derivative. Default is 1.<br/>\n",
    "`args` : tuple, optional →\n",
    "    Arguments<br/>\n",
    "`order` : int, optional → \n",
    "    Number of points to use, must be odd.<br/>\n"
   ]
  },
  {
   "cell_type": "code",
   "execution_count": 24,
   "id": "statewide-tribute",
   "metadata": {},
   "outputs": [],
   "source": [
    "def function(x):\n",
    "    return x**3.0"
   ]
  },
  {
   "cell_type": "code",
   "execution_count": 25,
   "id": "freelance-perception",
   "metadata": {},
   "outputs": [
    {
     "data": {
      "text/plain": [
       "[<matplotlib.lines.Line2D at 0x7fe47cad5780>]"
      ]
     },
     "execution_count": 25,
     "metadata": {},
     "output_type": "execute_result"
    },
    {
     "data": {
      "image/png": "[encoded data removed]",
      "text/plain": [
       "<Figure size 432x288 with 1 Axes>"
      ]
     },
     "metadata": {
      "needs_background": "light"
     },
     "output_type": "display_data"
    }
   ],
   "source": [
    "# plotting the function\n",
    "\n",
    "xmin = 0.0\n",
    "xmax = 5.0\n",
    "\n",
    "x = np.linspace( xmin, xmax, 100 )\n",
    "\n",
    "# plot the function y=x^3\n",
    "plt.plot(x, x**3.0, color=\"black\", label=\"function\", linewidth=3, zorder=10 )"
   ]
  },
  {
   "cell_type": "code",
   "execution_count": 26,
   "id": "revised-decimal",
   "metadata": {},
   "outputs": [],
   "source": [
    "x0=2.0"
   ]
  },
  {
   "cell_type": "code",
   "execution_count": 27,
   "id": "sunrise-capacity",
   "metadata": {},
   "outputs": [
    {
     "name": "stdout",
     "output_type": "stream",
     "text": [
      "y'(2)= 12.0\n"
     ]
    }
   ],
   "source": [
    "# the value of the derivative analytically for this particular function y=x**3\n",
    "def analytical_deriv(x):\n",
    "    return 3*x**2\n",
    "print(\"y'(2)=\",analytical_deriv(x0) )"
   ]
  },
  {
   "cell_type": "code",
   "execution_count": 30,
   "id": "cultural-egyptian",
   "metadata": {},
   "outputs": [
    {
     "name": "stdout",
     "output_type": "stream",
     "text": [
      "dx=0.01\n",
      "12.000099999999847\n",
      "dx=2.5\n",
      "18.25\n"
     ]
    },
    {
     "data": {
      "text/plain": [
       "<matplotlib.legend.Legend at 0x7fe47c964ef0>"
      ]
     },
     "execution_count": 30,
     "metadata": {},
     "output_type": "execute_result"
    },
    {
     "data": {
      "image/png": "[encoded data removed]",
      "text/plain": [
       "<Figure size 432x288 with 1 Axes>"
      ]
     },
     "metadata": {
      "needs_background": "light"
     },
     "output_type": "display_data"
    }
   ],
   "source": [
    "# plotting the slopes of each dx\n",
    "fig, ax = plt.subplots(1,1)\n",
    "colors=['blue','red','green']\n",
    "for i in range(2):\n",
    "    dx=eval(input('dx='))\n",
    "    print(derivative(function,x0,dx=dx) )\n",
    "    # plot the function y=x^3\n",
    "    x = np.linspace((x0-1.0), (x0+1.0), 100)\n",
    "    y = derivative(function,x0,dx=dx)*(x - x0) + function(x0)\n",
    "    ax.plot(x,y,c=colors[i],label='dx='+str(dx))\n",
    "ax.plot(x, x**3.0, color=\"black\", label=\"function\", linewidth=3, zorder=10 )\n",
    "ax.legend()\n",
    "    #plt.show()"
   ]
  },
  {
   "cell_type": "markdown",
   "id": "alive-breakdown",
   "metadata": {},
   "source": [
    "### Using `derivative` for many points\n",
    "* scipy.misc.derivative does not accept list\n",
    "* scipy.misc.derivative accepts floats or numpy arrays\n",
    "* but I know the function!!!!"
   ]
  },
  {
   "cell_type": "code",
   "execution_count": 31,
   "id": "devoted-insulin",
   "metadata": {},
   "outputs": [],
   "source": [
    "def function(x):\n",
    "    return np.sin(x)"
   ]
  },
  {
   "cell_type": "code",
   "execution_count": 33,
   "id": "outer-corner",
   "metadata": {},
   "outputs": [],
   "source": [
    "x=np.linspace(-np.pi,np.pi,100) # numpy array"
   ]
  },
  {
   "cell_type": "code",
   "execution_count": 36,
   "id": "vocal-myrtle",
   "metadata": {},
   "outputs": [
    {
     "data": {
      "text/plain": [
       "<matplotlib.legend.Legend at 0x7fe47c5e2240>"
      ]
     },
     "execution_count": 36,
     "metadata": {},
     "output_type": "execute_result"
    },
    {
     "data": {
      "image/png": "[encoded data removed]",
      "text/plain": [
       "<Figure size 648x504 with 1 Axes>"
      ]
     },
     "metadata": {
      "needs_background": "light"
     },
     "output_type": "display_data"
    }
   ],
   "source": [
    "y_prime=derivative(function,x,dx=0.1)\n",
    "fig, ax = plt.subplots(1,1,figsize=(9,7))\n",
    "ax.plot(x,np.sin(x),'.k',label='points')\n",
    "ax.plot(x,y_prime,'.b',label='derivative')\n",
    "ax.legend()"
   ]
  },
  {
   "cell_type": "markdown",
   "id": "understood-harbor",
   "metadata": {},
   "source": [
    "## 2) if we have only points but we dont know the function we use: `numpy.gradient`"
   ]
  },
  {
   "cell_type": "code",
   "execution_count": 37,
   "id": "weekly-criminal",
   "metadata": {},
   "outputs": [],
   "source": [
    "import numpy as np\n",
    "from scipy import stats\n",
    "#x = np.arange(-5,5,0.1)\n",
    "#y = stats.norm.pdf(x, 0, 1)\n",
    "#np.savetxt('xvec.txt', x)\n",
    "#np.savetxt('yvec.txt', y)"
   ]
  },
  {
   "cell_type": "code",
   "execution_count": 41,
   "id": "encouraging-green",
   "metadata": {},
   "outputs": [],
   "source": [
    "x=np.loadtxt('xvec.txt')\n",
    "y=np.loadtxt('yvec.txt')"
   ]
  },
  {
   "cell_type": "code",
   "execution_count": 42,
   "id": "identified-interview",
   "metadata": {},
   "outputs": [
    {
     "data": {
      "text/plain": [
       "<matplotlib.legend.Legend at 0x7fe46a8a3780>"
      ]
     },
     "execution_count": 42,
     "metadata": {},
     "output_type": "execute_result"
    },
    {
     "data": {
      "image/png": "[encoded data removed]",
      "text/plain": [
       "<Figure size 432x288 with 1 Axes>"
      ]
     },
     "metadata": {
      "needs_background": "light"
     },
     "output_type": "display_data"
    }
   ],
   "source": [
    "import matplotlib.pyplot as plt\n",
    "fig,ax=plt.subplots(1,1)\n",
    "ax.plot(x,y,'.k',label='points')\n",
    "ax.grid(True)\n",
    "ax.legend()"
   ]
  },
  {
   "cell_type": "code",
   "execution_count": 43,
   "id": "motivated-settle",
   "metadata": {},
   "outputs": [],
   "source": [
    "y_prime=np.gradient(y, x)"
   ]
  },
  {
   "cell_type": "code",
   "execution_count": 44,
   "id": "square-cedar",
   "metadata": {},
   "outputs": [
    {
     "data": {
      "text/plain": [
       "<matplotlib.legend.Legend at 0x7fe46a7d2cc0>"
      ]
     },
     "execution_count": 44,
     "metadata": {},
     "output_type": "execute_result"
    },
    {
     "data": {
      "image/png": "[encoded data removed]",
      "text/plain": [
       "<Figure size 432x288 with 1 Axes>"
      ]
     },
     "metadata": {
      "needs_background": "light"
     },
     "output_type": "display_data"
    }
   ],
   "source": [
    "import matplotlib.pyplot as plt\n",
    "fig,ax=plt.subplots(1,1)\n",
    "ax.plot(x,y,'.k',label='original points')\n",
    "ax.plot(x,y_prime,'.b',label='gradient of the points')\n",
    "ax.grid(True)\n",
    "ax.legend()"
   ]
  },
  {
   "cell_type": "markdown",
   "id": "plain-livestock",
   "metadata": {},
   "source": [
    "### Homework 6 ():\n",
    "\n",
    "* create notebook called: homework_6.ipynb (no spaces please)\n",
    "\n",
    "* inside write a function: `deriv(func,a,method,h)`\n",
    "`func` is a function that I can define\n",
    "`a` is a point (float) at which I wante to evaluate the derivative\n",
    "`method` is a string, and can have three options `forward`,`central`,`backward`\n",
    "`h` is a step\n",
    "\n",
    "* ***remember the function must not print anything, just return a single value***!!!\n",
    "* to choose between schemes ('central','forward'..) use `if`, `elif`"
   ]
  },
  {
   "cell_type": "markdown",
   "id": "robust-sessions",
   "metadata": {},
   "source": [
    "### So If I call your homework notebook:"
   ]
  },
  {
   "cell_type": "code",
   "execution_count": 62,
   "id": "general-content",
   "metadata": {},
   "outputs": [],
   "source": [
    "%run homework_6.ipynb"
   ]
  },
  {
   "cell_type": "code",
   "execution_count": 63,
   "id": "agreed-therapy",
   "metadata": {},
   "outputs": [],
   "source": [
    "def function(x):\n",
    "    return x**3.0"
   ]
  },
  {
   "cell_type": "code",
   "execution_count": 64,
   "id": "certain-jackson",
   "metadata": {},
   "outputs": [
    {
     "name": "stdout",
     "output_type": "stream",
     "text": [
      "12.61000000000001\n"
     ]
    }
   ],
   "source": [
    "print(deriv(function,2.0,method='forward',h=0.1) )"
   ]
  },
  {
   "cell_type": "code",
   "execution_count": 65,
   "id": "numerical-fifty",
   "metadata": {},
   "outputs": [
    {
     "name": "stdout",
     "output_type": "stream",
     "text": [
      "11.410000000000009\n"
     ]
    }
   ],
   "source": [
    "print(deriv(function,2.0,method='backward',h=0.1))  "
   ]
  },
  {
   "cell_type": "code",
   "execution_count": 66,
   "id": "three-titanium",
   "metadata": {},
   "outputs": [
    {
     "name": "stdout",
     "output_type": "stream",
     "text": [
      "12.010000000000009\n"
     ]
    }
   ],
   "source": [
    "print(deriv(function,2.0,method='central',h=0.1)) "
   ]
  },
  {
   "cell_type": "code",
   "execution_count": null,
   "id": "pursuant-appendix",
   "metadata": {},
   "outputs": [],
   "source": []
  },
  {
   "cell_type": "code",
   "execution_count": null,
   "id": "sporting-representative",
   "metadata": {},
   "outputs": [],
   "source": []
  }
 ],
 "metadata": {
  "kernelspec": {
   "display_name": "Python 3",
   "language": "python",
   "name": "python3"
  },
  "language_info": {
   "codemirror_mode": {
    "name": "ipython",
    "version": 3
   },
   "file_extension": ".py",
   "mimetype": "text/x-python",
   "name": "python",
   "nbconvert_exporter": "python",
   "pygments_lexer": "ipython3",
   "version": "3.7.2"
  }
 },
 "nbformat": 4,
 "nbformat_minor": 5
}
