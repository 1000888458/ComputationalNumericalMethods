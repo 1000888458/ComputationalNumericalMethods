{
 "cells": [
  {
   "cell_type": "markdown",
   "id": "indian-clerk",
   "metadata": {},
   "source": [
    "# Various things:"
   ]
  },
  {
   "cell_type": "markdown",
   "id": "monthly-crazy",
   "metadata": {},
   "source": [
    "## 1 Partial exam #3\n",
    "* The results from the Partial Exam # 3 is on github\n",
    "https://github.com/mhemmg/ComputationalNumericalMethods/blob/master/students/submissions/parcial_exams.csv\n",
    "* lot of simple mistakes (even when defining a matrix)... advice: pay attentions to details! (if in doubt how to use np.gradient() or other functions read documentation) \n",
    "\n",
    "* if someone wants to repeat can attend now ~ 9am-11am \n",
    "* 4 questions this time\n",
    "* you can still get 100%\n",
    "* those who hasnt written it yet, should do it today too"
   ]
  },
  {
   "cell_type": "markdown",
   "id": "connected-michigan",
   "metadata": {},
   "source": [
    "## 2 Examen oral\n",
    "* list of questions (simple) https://github.com/mhemmg/ComputationalNumericalMethods/blob/master/extras/lista_de_preguntas_para_examen_oral.txt\n",
    "* its just to meet each other\n",
    "* inscriptions link: https://docs.google.com/spreadsheets/d/1JgJYcygccfRtFHnUG0IQiYI9j6IL6vpp/edit#gid=1249111029"
   ]
  },
  {
   "cell_type": "markdown",
   "id": "diverse-marriage",
   "metadata": {},
   "source": [
    "## 3 Last parcial exam # 4 is next Friday!\n",
    "* only differential equations\n",
    "* only real problems, no theory\n",
    "* based on the exercises I asked to do (wasnt obligatory)\n",
    "* INITIAL VALUE PROBLEM using `scipy.integrate.solve_ivp`\n",
    "  * single equation example: $$ \\frac{dy}{dt} = yt^2 -1.2y$$\n",
    "  * coupled equations : \n",
    "\n",
    "$$\n",
    "\\begin{align*} \n",
    "\\frac{dx}{dt}&=\\sigma (y-x) \\\\\n",
    "\\frac{dy}{dt}&=x(\\rho-z) -y \\\\\n",
    "\\frac{dz}{dt}&=xy-\\beta z \n",
    "\\end{align*} \n",
    "$$\n",
    "\n",
    "* BOUNDARY VALUE PROBLEM USING `scipy.integrate.solve_bvp`\n",
    "  * example: $$\\frac{d^2y}{dt^2}= −g $$\n",
    "  * example: $$\\frac{d^2T}{dx^2}= 0.01 T - 0.2 $$  "
   ]
  },
  {
   "cell_type": "code",
   "execution_count": null,
   "id": "utility-laptop",
   "metadata": {},
   "outputs": [],
   "source": []
  },
  {
   "cell_type": "code",
   "execution_count": null,
   "id": "creative-cleveland",
   "metadata": {},
   "outputs": [],
   "source": []
  },
  {
   "cell_type": "code",
   "execution_count": null,
   "id": "transparent-indonesia",
   "metadata": {},
   "outputs": [],
   "source": []
  },
  {
   "cell_type": "code",
   "execution_count": null,
   "id": "exposed-fleece",
   "metadata": {},
   "outputs": [],
   "source": []
  }
 ],
 "metadata": {
  "kernelspec": {
   "display_name": "Python 3",
   "language": "python",
   "name": "python3"
  },
  "language_info": {
   "codemirror_mode": {
    "name": "ipython",
    "version": 3
   },
   "file_extension": ".py",
   "mimetype": "text/x-python",
   "name": "python",
   "nbconvert_exporter": "python",
   "pygments_lexer": "ipython3",
   "version": "3.7.2"
  }
 },
 "nbformat": 4,
 "nbformat_minor": 5
}
