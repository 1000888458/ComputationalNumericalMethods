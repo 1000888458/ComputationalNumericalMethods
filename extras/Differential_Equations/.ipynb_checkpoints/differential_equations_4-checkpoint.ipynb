{
 "cells": [
  {
   "cell_type": "markdown",
   "id": "aquatic-military",
   "metadata": {},
   "source": [
    "# Differential equations 4: Boundary Value Problems"
   ]
  },
  {
   "cell_type": "markdown",
   "id": "chronic-disposal",
   "metadata": {},
   "source": [
    "### Dictionary:\n",
    "* combine - combinar, unir\n",
    "* unlike - diferente a (Unlike you, I'm not a great dancer.)\n",
    "* residuals - residual\n",
    "* launch - lanzar (The launch of the rocket was delayed for 24 hours because of bad weather.)\n",
    "* avoid - evitar"
   ]
  },
  {
   "cell_type": "markdown",
   "id": "suffering-median",
   "metadata": {},
   "source": [
    "### Order of the class\n",
    "* a bit more on DE - nomenclature\n",
    "* Boundary value problem Two Point Boundary Problem\n",
    "* word about a method called \"shooting method\" \n",
    "* scipy.integrate.solve_bvp (last time scipy.integrate.solve_ivp)\n",
    "* Example 1 - launching a rocket vertically $\\frac{d^2y}{dt^2}$\n",
    "* Example 2 - obstacle avoidance $\\frac{d^2y}{dx^2}$"
   ]
  },
  {
   "cell_type": "markdown",
   "id": "whole-resource",
   "metadata": {},
   "source": [
    "### Nomenclature of Differential equations:\n",
    "\n",
    "* if $y^{\\prime}$ - first derivative over space $\\frac{dy}{dx}$\n",
    "* if $y^{\\prime \\prime}$ - second derivative over space $\\frac{d^2y}{dx^2}$\n",
    "\n",
    "* if $\\dot y$ - first derivative over time $\\frac{dy}{dt}$\n",
    "* if $\\ddot y$ - second derivative over time $\\frac{d^2y}{dt^2}$\n"
   ]
  },
  {
   "cell_type": "markdown",
   "id": "christian-bridge",
   "metadata": {},
   "source": [
    "### Symplifing second order differential equation:\n",
    "* Separate second order differential equation into two first order differential equations:\n",
    "$$\n",
    "\\begin{align*} \n",
    "\\frac{d^2y}{dt^2} &= t-y \n",
    "\\end{align*} \n",
    "$$\n",
    "\n",
    "\n",
    "if I do some replacement, say that: \n",
    "\n",
    "$$z =  t-y$$\n",
    "\n",
    "then I can have a set of first order differential equations:\n",
    "\n",
    "$$\n",
    "\\begin{align*} \n",
    "\\frac{dy}{dt} &= z \\\\\n",
    "\\frac{dz}{dt} &= t-y\n",
    "\\end{align*} \n",
    "$$\n",
    "\n",
    "* and this can be already solved as a coupled differential equations.\n",
    "* we can rewrite it to make it easier to implement it numerically using vectors: Here we have two dependent variables $y$ and $z$ which we can represent as elements of some vector: \n",
    "  now $y=y[0]$, $z=y[1]$ and $dydx$ is vector of results of the RHS (Right Hand Side of this set of equations)\n",
    " * dydx[0] - result of the first equation\n",
    " * dydx[1] - result of the second equation\n",
    "\n",
    "$$\n",
    "\\begin{align*} \n",
    "dydx[0] &= y[1] \\\\\n",
    "dydx[1] &= t-y[0]\n",
    "\\end{align*} \n",
    "$$\n",
    "\n",
    "* why do I use this notation... bacause of rk4.f90\n"
   ]
  },
  {
   "cell_type": "markdown",
   "id": "regional-confidence",
   "metadata": {},
   "source": [
    "###  why do I use this notation:\n",
    "* dydx[0], dydx[1], \n",
    "* y[0], y[1]\n",
    "\n",
    "... bacause of rk4.f90 ($\\color{red}{\\text{double click to display in verbose mode}}$)\n",
    "\n",
    "MODULE \trk4_module\n",
    "USE    \ttypes_module\n",
    "\n",
    "IMPLICIT NONE\n",
    "\n",
    "Contains\n",
    "Subroutine rk4(y,dydx,x,h,yout,derivs)\n",
    "\n",
    "!********************************************************************\n",
    "! Perfom 4th order Runge-Kutta integration\n",
    "! Given vlues for N variables y and their derivatives dydx known at x,\n",
    "! use rk4 to advance solution over interval h and return solution yout.\n",
    "! User supplies subroutine derivs(x,y,dydx)\n",
    "!********************************************************************\n",
    "!\n",
    "! y      - INPUT  - Values of variables to be integrated    \n",
    "! dydx   - INPUT  - Derivatives known at x\n",
    "! x      - INPUT  - Position x\n",
    "! h      - INPUT  - Step size\n",
    "! yout   - OUTPUT - Solution of incremented variables\n",
    "! derivs - INPUT  - External subroutine returning dydx at x \n",
    "!\n",
    "!====================================================================\n",
    "! Define local variables\n",
    "! ndum   - Length of input arrays \n",
    "! h6     - Step size divided by 6\n",
    "! hh     - Half of the step size \n",
    "! xh     - x position incremented by half a step\n",
    "! dym    - Intermediate derivatives\n",
    "! dyt    - Intermediate derivatives\n",
    "! yt     - Incremental solution\n",
    "!=====================================================================\n",
    "\n",
    "\n",
    "!      USE nrutil_module, ONLY : assert_eq\n",
    "\t\n",
    "      IMPLICIT NONE\n",
    "      \n",
    "      REAL(KIND=WP),  DIMENSION(:), INTENT(IN)  :: y\n",
    "      REAL(KIND=WP),  DIMENSION(:), INTENT(IN)  :: dydx\n",
    "      REAL(KIND=WP),                INTENT(IN)  :: x\n",
    "      REAL(KIND=WP),                INTENT(IN)  :: h\n",
    "      REAL(KIND=WP),  DIMENSION(:), INTENT(OUT) :: yout"
   ]
  },
  {
   "cell_type": "markdown",
   "id": "comparable-attention",
   "metadata": {},
   "source": [
    "### Difference between IVP and BVP\n",
    "* If all the conditions are provided at the same point, the problem is said to be an Inıtial Value Problem (IVP).\n",
    "\n",
    "* If all the conditions are not provided at the same point, the problem is said to be a Boundary Value problem (BVP).\n"
   ]
  },
  {
   "cell_type": "markdown",
   "id": "metropolitan-missile",
   "metadata": {},
   "source": [
    "# Two-Point Boundary Value Problems\n",
    "* some more theory"
   ]
  },
  {
   "cell_type": "markdown",
   "id": "israeli-vertex",
   "metadata": {},
   "source": [
    "Up to now we have solved initial value problems of the form:\n",
    "\n",
    "$$ \\frac{dy}{dt}=y'=f(t,y),\\ \\ \\ a\\leq t\\leq b, \\ \\ \\ \\ y(a) = \\alpha $$\n",
    "\n",
    "Second order equations can be similarly planted as \n",
    "\n",
    "$$ \\frac{d^2y}{dt^2}=y''=f(t,y,y'),\\ \\ \\ a\\leq t\\leq b, \\ \\ \\ \\ y(a) = \\alpha \\ \\ \\ y'(a) = u $$\n",
    "\n",
    "This type of systems can be readily solved by defining the auxiliar variable $w = y'$, turning it into a first order system of equations.\n",
    "\n",
    "Now, we shall solve two-point boundary problem, where we have two conditions on the solution $y(t)$ instead of having the function and its derivative at some initial point, i.e.\n",
    "\n",
    "$$ \\frac{d^2y}{dt^2}=y''=f(t,y,y'),\\ \\ \\ a\\leq t\\leq b, \\ \\ \\ \\ y(a) = \\alpha \\ \\ \\ y(b) = \\beta $$\n",
    "\n",
    "In spite of its similar form to the initial value problem, two-point boundary problems pose a increased difficulty for numerical methods. The main reason of this is the iterative procedure performed by numerical approaches, where from an initial point, further points are found. Trying to fit two different values at different points implies then a continuous readjusting of the solution.\n",
    "\n",
    "\n",
    "\n",
    "A common way to solve these problems is by turning them into a initial-value problem\n",
    "\n",
    "$$ \\frac{d^2y}{dt^2}=y''=f(t,y,y'),\\ \\ \\ a\\leq t\\leq b, \\ \\ \\ \\ y(a) = \\alpha \\ \\ \\ y'(a) = u $$\n",
    "\n",
    "Let's suppose some choice of $u$, integrating by using some of the previous methods, we obtain the final boundary condition $y(b)=\\theta$. If the produced value is not the one we wanted from our initial problem, we try another value $u$. This can be repeated until we get a reasonable approach to $y(b)=\\beta$. This method works fine, but it is so expensive and terribly inefficient.\n",
    "\n",
    "Note when we change $u$, the final boundary value also change, so we can assume $y(b) = \\theta$. The solution to the problem can be thought then as a root-finding problem:\n",
    "\n",
    "$$ y(b) = \\theta(u) = \\beta $$\n",
    "\n",
    "or\n",
    "\n",
    "$ r(u) \\equiv \\theta(u) - \\beta = 0 $\n",
    "\n",
    "where $r(u)$ is the residual function. This problem can be thus solved using some of the methods previously seen for the root-finding problem."
   ]
  },
  {
   "cell_type": "markdown",
   "id": "numerical-appraisal",
   "metadata": {},
   "source": [
    "## A word about shooting method (if someone asks...)\n",
    "* a method (a bit like a brute-force) to solve BVP problem\n",
    "* relies on guessing a value of a function (undershooting) comparing to the expected value and overshooting - then using a interpolation method to find the value inbetween... example\n",
    "<img src=\"imgs/shooting_method.png\" width=\"800\" />"
   ]
  },
  {
   "cell_type": "markdown",
   "id": "boolean-sudan",
   "metadata": {},
   "source": [
    "## Using scipy.integrate.bvp to solve Boundary Value Problem\n",
    "\n",
    "https://docs.scipy.org/doc/scipy/reference/generated/scipy.integrate.solve_bvp.html"
   ]
  },
  {
   "cell_type": "markdown",
   "id": "bizarre-italian",
   "metadata": {},
   "source": [
    "## Example 1\n",
    "- Launching a rocket \n",
    "\n",
    "<img src=\"imgs/rocket_launch.jpg\" width=\"200\" />\n",
    "\n",
    "We are going out to launch a rocket vertically, and let $y(t)$ be the altitude (meters from the surface) of the rocket at time $t$. We know the gravity g=9.8m/s2\n",
    "\n",
    "If we want to have the rocket at $50$ meters off the ground after $3$ seconds after launching, what should be the velocity at launching? (recall that velocity dy/dt )\n",
    "\n",
    "To answer this question, we can frame the problem into a boundary value problem for a second-order ODE. The ODE is (Newton law):\n",
    "\n",
    "$$\\ddot y= −g $$\n",
    "\n",
    "so the above is exactly the same as:\n",
    "\n",
    "$$\\frac{d^2y}{dt^2}= −g $$\n",
    "\n",
    "\n",
    "with the two boundary conditions are: \n",
    "\n",
    "y(0)=0\n",
    "\n",
    "and y(3)=50. \n",
    "\n",
    "* And we want to answer the question, what’s the y′(0) at the launching?"
   ]
  },
  {
   "cell_type": "markdown",
   "id": "soviet-automation",
   "metadata": {},
   "source": [
    "## Solution\n",
    "First, we will reduce the order of the function, the second-order ODE becomes:\n",
    "\n",
    "$$\n",
    "\\begin{align*} \n",
    "\\frac{dy}{dt}&=v \\\\\n",
    "\\frac{dv}{dt}&=−g\n",
    "\\end{align*} \n",
    "$$\n",
    "\n",
    "* we have two dependent variables $y$ and $v$ which we can represent as elements of some vector: now $y=y[0]$, $v=y[1]$ \n",
    "\n",
    "$$\n",
    "\\begin{align*} \n",
    "dydt[0]&=y[1] \\\\\n",
    "dydt[1]&=-g \\\\\n",
    "\\end{align*} \n",
    "$$\n",
    "\n",
    "with the two boundary conditions are: \n",
    "\n",
    "y(0)=0\n",
    "\n",
    "and y(3)=50. \n"
   ]
  },
  {
   "cell_type": "markdown",
   "id": "lesbian-collar",
   "metadata": {},
   "source": [
    "## The implementation of the given BVP:\n",
    "* scipy.integrate.solve_bvp (before was scipy.integrate.solve_ivp)\n",
    "* its a bit more complicated than scipy.integrate.solve_ivp\n",
    "* solve_bvp: https://docs.scipy.org/doc/scipy/reference/generated/scipy.integrate.solve_bvp.html\n",
    "* scipy.integrate.solve_bvp(fun, bc, x, y0... rest is optional\n",
    "* scipy.integrate.solve_bvp(derivs, bc, x, y0... rest is optional\n",
    "\n",
    "### Step by step:\n",
    "\n",
    "**1.** define space (or time domain) \n",
    "  * T_steps = 100\n",
    "  * T = np.linspace(0,np.pi,T_steps)\n",
    "  \n",
    "**2.** initialize y0 vector:\n",
    "  * give an initial guess of $y0$\n",
    "  * the size of the initial guess $y0$ is different than for IVP\n",
    "  * the shape is like combined two vectors (because we have two equations) with t_steps each\n",
    "  * so its an array of 2 rows x columns of lenght t_steps:\n",
    "  * y0 = np.ones((2,t_steps))\n",
    "  * y0 shape here would be (2,100)\n",
    "\n",
    "**4.** define the vectorized derivs funcion derivs(x,y)\n",
    "  * unline the ivp_solve here t is a vector and y is an array!\n",
    "\n",
    "**5.** define the boundary condition function bc(ya,yb)\n",
    "  *  bc: boundary conditions:\n",
    "  *  ya are the initial values\n",
    "  *  yb are the final values\n",
    "  *  ya[i] is the value of the ith derivative of the initial value \n",
    "     e.g. ya[1] is the initial value of the first derivative \n",
    "\n",
    "  *  yb[i] is the value of the ith derivative of the final value\n",
    "     e.g. yb[0] is the final value of the function\n",
    "    \n",
    "  *   the return array is the array of the residuals!\n",
    "  *   initialize an \"empty\" array $residuals$ (with zeros)\n",
    "  *   the size of this array will be be two because we have two conditions\n",
    "  *   at each point of time/space for example ya will have different values\n",
    "      - ya[0.5,23]\n",
    "      - ya[0.7,26]\n",
    "      - ya[0.9,29]\n",
    "      - ya[y_ini,y_ini']\n",
    "  *  scipy will try to make each entry of this array 0\n",
    "\n",
    "**6.** call the scipy.integrate.solve_bvp\n",
    "  * sol = solve_bvp(derivs, bc, t, y0)"
   ]
  },
  {
   "cell_type": "markdown",
   "id": "corporate-prototype",
   "metadata": {},
   "source": [
    "#### Lets recall the problem:\n",
    "\n",
    "First, we will reduce the order of the function, the second-order ODE becomes:\n",
    "\n",
    "$$\n",
    "\\begin{align*} \n",
    "\\frac{dy}{dt}&=v \\\\\n",
    "\\frac{dv}{dt}&=−g\n",
    "\\end{align*} \n",
    "$$\n",
    "\n",
    "* we have two dependent variables $y$ and $v$ which we can represent as elements of some vector: now $y=y[0]$, $v=y[1]$ \n",
    "\n",
    "$$\n",
    "\\begin{align*} \n",
    "dydt[0]&=y[1] \\\\\n",
    "dydt[1]&=-g \\\\\n",
    "\\end{align*} \n",
    "$$\n",
    "\n",
    "with the two boundary conditions are: \n",
    "\n",
    "we want that the altitude is initially $0$ m and after $3$ seconds  is 50 meters. y(0)=0, y(3)=50 \n",
    "##### do not confuse the brackets y(0) is not  y[0]!!!!\n",
    "* y(0) is the initial value of the altitute\n",
    "* y[0] is the first element of the vector representing the altitute in the set of equations y[1] is velocity\n",
    "\n"
   ]
  },
  {
   "cell_type": "code",
   "execution_count": 1,
   "id": "growing-pepper",
   "metadata": {},
   "outputs": [
    {
     "name": "stdout",
     "output_type": "stream",
     "text": [
      "1.0\n",
      "1.0\n",
      "1.0\n",
      "1.0000000298023224\n",
      "1.0\n",
      "1.0\n",
      "31.381666666666653\n",
      "31.381666666666653\n"
     ]
    }
   ],
   "source": [
    "from scipy.integrate import solve_bvp\n",
    "import numpy as np\n",
    "\n",
    "def derivs(t,y):\n",
    "    dydt=np.zeros((y.shape))\n",
    "    dydt[0]=y[1]\n",
    "    dydt[1]=-9.81\n",
    "    return dydt\n",
    "\n",
    "def bc(ya,yb):\n",
    "    residuals=np.array([0.0,0.0])\n",
    "    residuals[0]=ya[0]-0.0\n",
    "    residuals[1]=yb[0] - 50.0\n",
    "    print(ya[1])\n",
    "    return residuals\n",
    "\n",
    "# give the time domain\n",
    "t_steps = 100\n",
    "t = np.linspace(0,3,t_steps)\n",
    "\n",
    "# give an initial guess\n",
    "# the size of the initial guess is different than for IVP\n",
    "# we pass two vectors  (because we have two equations) with t_steps each\n",
    "# but we combine it into one array of 2 rows t columns:\n",
    "y0 = np.ones((2,t_steps))\n",
    "# solve the system\n",
    "sol = solve_bvp(derivs, bc, t, y0)\n"
   ]
  },
  {
   "cell_type": "code",
   "execution_count": 2,
   "id": "injured-liechtenstein",
   "metadata": {},
   "outputs": [
    {
     "name": "stdout",
     "output_type": "stream",
     "text": [
      "-1.6666666666666667\n",
      "50.0\n"
     ]
    },
    {
     "data": {
      "image/png": "[encoded data removed]",
      "text/plain": [
       "<Figure size 432x288 with 1 Axes>"
      ]
     },
     "metadata": {
      "needs_background": "light"
     },
     "output_type": "display_data"
    }
   ],
   "source": [
    "import matplotlib.pyplot as plt\n",
    "fig, ax=plt.subplots(1,1)\n",
    "ax.plot(sol.x, sol.y[0],'-r',label='vertical launch: y vs time!')\n",
    "ax.plot(3,50,'.b')\n",
    "ax.set_xlabel('t')\n",
    "ax.set_ylabel('y(t)')\n",
    "ax.legend()\n",
    "print(-5/3)\n",
    "print(sol.y[0][-1])"
   ]
  },
  {
   "cell_type": "code",
   "execution_count": null,
   "id": "quantitative-particle",
   "metadata": {},
   "outputs": [],
   "source": []
  },
  {
   "cell_type": "markdown",
   "id": "middle-cooper",
   "metadata": {},
   "source": [
    "## Example 2:\n",
    "* Obstace avoidance:\n",
    "Consider the following example:\n",
    "\n",
    "$$ y^{\\prime \\prime} - 9y=cos(x)$$\n",
    "\n",
    "this is the same as:\n",
    "\n",
    "$$ \\frac{d^2y}{dx^2}= cos(x) - 9y$$\n",
    "\n",
    "Boundary conditions:\n",
    "\n",
    "* $y^{\\prime}(0) = 5$\n",
    "* $y (\\pi) = −\\frac{5}{3}$\n",
    "\n",
    "We begin by changing this second order ODE into a first order ODE system.\n",
    "Let y1 = y and y2 = y′ so that,\n",
    "\n",
    "\n",
    "$$\n",
    "\\begin{align*} \n",
    "\\frac{dy}{dx}&=z \\\\\n",
    "\\frac{dz}{dx}&=cos(x) - 9y \\\\\n",
    "\\end{align*} \n",
    "$$\n",
    "\n",
    "* we have two dependent variables $y$ and $z$ which we can represent as elements of some vector: now $y=y[0]$, $z=y[1]$ (note x is an independent variable)\n",
    "\n",
    "$$\n",
    "\\begin{align*} \n",
    "dydx[0]&=y[1] \\\\\n",
    "dydx[1]&=cos(x) - 9y[0] \\\\\n",
    "\\end{align*} \n",
    "$$\n",
    "\n"
   ]
  },
  {
   "cell_type": "code",
   "execution_count": 6,
   "id": "answering-cement",
   "metadata": {},
   "outputs": [],
   "source": [
    "from scipy.integrate import solve_bvp\n",
    "import numpy as np\n",
    "\n",
    "def derivs(x,y):\n",
    "    # here we pass the vector x and y of size (2xlen(x)) like RHS\n",
    "    # thats why we define the same shape vector of solutions of LHS\n",
    "    dydx=np.zeros((y.shape))\n",
    "    dydx[0]=y[1]\n",
    "    dydx[1]=np.cos(x) - 9*y[0]\n",
    "    return dydx\n",
    "\n",
    "def bc(ya,yb):\n",
    "    # bc: boundary conditions:\n",
    "    # input is ya & yb\n",
    "    # ya are the initial values\n",
    "    # yb are the final values\n",
    "    \n",
    "    # ya[i] is the value of the ith derivative of the initial value \n",
    "    # e.g. ya[1] is the initial value of the first derivative \n",
    "\n",
    "    # yb[i] is the value of the ith derivative of the final value\n",
    "    # e.g. yb[0] is the final value of the function\n",
    "    \n",
    "    # the return array is the array of the residuals\n",
    "    # initialize an \"empty\" array (with zeros)\n",
    "    # the size of this array will be be two because we have two conditions\n",
    "    # scipy will try to make each entry 0\n",
    "    residuals=np.array([0.0,0.0])\n",
    "\n",
    "    # first enty is a difference between what it is and what it should be\n",
    "    residuals[0]=ya[1] - 5\n",
    "\n",
    "    # first enty is a difference between what it is and what it should be\n",
    "    residuals[1]=yb[0] + 5/3\n",
    "    # ya are the initial values\n",
    "    # yb are the final values\n",
    "\n",
    "    # each entry of the return array will be set to zero\n",
    "    return residuals\n",
    "\n",
    "# give the space domain\n",
    "x_steps = 100\n",
    "x = np.linspace(0,np.pi,x_steps)\n",
    "\n",
    "# give an initial guess\n",
    "# the size of the initial guess is different than for IVP\n",
    "# we pass two vectors  (because we have two equations) with t_steps each\n",
    "# but we combine it into one array of 2 rows t columns:\n",
    "y0 = np.ones((2,x_steps))\n",
    "# solve the system\n",
    "sol = solve_bvp(derivs, bc, x, y0)"
   ]
  },
  {
   "cell_type": "code",
   "execution_count": 4,
   "id": "informational-catholic",
   "metadata": {},
   "outputs": [
    {
     "name": "stdout",
     "output_type": "stream",
     "text": [
      "-1.6666666666666667\n",
      "-1.666666666666667\n"
     ]
    },
    {
     "data": {
      "image/png": "[encoded data removed]",
      "text/plain": [
       "<Figure size 432x288 with 1 Axes>"
      ]
     },
     "metadata": {
      "needs_background": "light"
     },
     "output_type": "display_data"
    }
   ],
   "source": [
    "import matplotlib.pyplot as plt\n",
    "fig, ax = plt.subplots(1,1)\n",
    "ax.plot(sol.x/np.pi, sol.y[0],'-r')\n",
    "\n",
    "ax.set_xlabel('x')\n",
    "ax.set_ylabel('y(x)')\n"
   ]
  },
  {
   "cell_type": "code",
   "execution_count": 5,
   "id": "announced-messenger",
   "metadata": {},
   "outputs": [
    {
     "name": "stdout",
     "output_type": "stream",
     "text": [
      "-1.6666666666666667\n",
      "-1.666666666666667\n"
     ]
    }
   ],
   "source": [
    "print(-5/3)\n",
    "print(sol.y[0][-1])"
   ]
  }
 ],
 "metadata": {
  "kernelspec": {
   "display_name": "Python 3",
   "language": "python",
   "name": "python3"
  },
  "language_info": {
   "codemirror_mode": {
    "name": "ipython",
    "version": 3
   },
   "file_extension": ".py",
   "mimetype": "text/x-python",
   "name": "python",
   "nbconvert_exporter": "python",
   "pygments_lexer": "ipython3",
   "version": "3.7.2"
  }
 },
 "nbformat": 4,
 "nbformat_minor": 5
}
