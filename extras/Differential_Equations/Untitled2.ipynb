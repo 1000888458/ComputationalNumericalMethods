{
 "cells": [
  {
   "cell_type": "markdown",
   "id": "commercial-wisdom",
   "metadata": {},
   "source": [
    "Why Programming\n",
    "- logical\n",
    "- better than sudoku\n",
    "- or sopa de letras\n"
   ]
  },
  {
   "cell_type": "markdown",
   "id": "small-religion",
   "metadata": {},
   "source": [
    "Why Python\n",
    "- lots of built-in functions!\n",
    "- easy to use\n",
    "- intuitive\n",
    "- versatile\n",
    "- relatively fast"
   ]
  },
  {
   "cell_type": "markdown",
   "id": "inappropriate-chamber",
   "metadata": {},
   "source": [
    "How to run\n",
    "- command line + editor\n",
    "- jupyter\n",
    "- colab\n",
    "- https://www.tutorialspoint.com/execute_python_online.php"
   ]
  },
  {
   "cell_type": "markdown",
   "id": "frozen-theology",
   "metadata": {},
   "source": [
    "Tips to progress:\n",
    "- do not copy and paste for the first year :)\n",
    "- memorize most common commands (same as English language) - make your own \"dictionary\"\n",
    "- plan before you code (wite on a piece of paper then copy) - it will give you a satisfaction if your code works\n",
    "- close your computer and reflect!\n",
    "- learn intense way - faster and efficient\n"
   ]
  },
  {
   "cell_type": "markdown",
   "id": "known-tomorrow",
   "metadata": {},
   "source": [
    "Order of the learning\n",
    "- you have to start somewhere\n",
    "- dont worry if things look vague\n",
    "- Start with a challenge\n",
    "- things may seem silly but they will complicate fast so do the homework"
   ]
  },
  {
   "cell_type": "markdown",
   "id": "increased-argument",
   "metadata": {},
   "source": [
    "What one needs to learn:\n",
    "Programming is like cooking or dining:\n",
    "\n",
    "OBJECTS (containers or plate)\n",
    "- Data structures:\n",
    "- Numbers(Floats,Integers)\n",
    "- Strings\n",
    "- Lists\n",
    "- Tuples\n",
    "- Dictionaries\n",
    "- other (come form imported modules) like numpy arrays (numpy ~ basic Matlab)\n",
    "\n",
    "\n",
    "OPERATIONS ON THE OBJECTS (utensils)\n",
    "- Loops\n",
    "- Conditions\n",
    "- Functions\n",
    "- Methods\n",
    "- Tools and Libraries\n",
    "\n",
    "Python features:\n",
    "- Calculator\n",
    "- Variables\n",
    "- import\n",
    "- comments\n",
    "- spaces, indentation\n",
    "- names for variables and function\n",
    "- indexing and slicing"
   ]
  },
  {
   "cell_type": "code",
   "execution_count": null,
   "id": "wrong-difference",
   "metadata": {},
   "outputs": [],
   "source": []
  },
  {
   "cell_type": "code",
   "execution_count": null,
   "id": "federal-gamma",
   "metadata": {},
   "outputs": [],
   "source": []
  },
  {
   "cell_type": "code",
   "execution_count": null,
   "id": "involved-affect",
   "metadata": {},
   "outputs": [],
   "source": []
  },
  {
   "cell_type": "code",
   "execution_count": null,
   "id": "tough-focus",
   "metadata": {},
   "outputs": [],
   "source": []
  },
  {
   "cell_type": "code",
   "execution_count": null,
   "id": "refined-accident",
   "metadata": {},
   "outputs": [],
   "source": []
  },
  {
   "cell_type": "markdown",
   "id": "prescribed-thinking",
   "metadata": {},
   "source": [
    "## Importing modules"
   ]
  },
  {
   "cell_type": "code",
   "execution_count": null,
   "id": "operational-guard",
   "metadata": {},
   "outputs": [],
   "source": []
  },
  {
   "cell_type": "code",
   "execution_count": 17,
   "id": "offensive-physics",
   "metadata": {},
   "outputs": [
    {
     "name": "stdout",
     "output_type": "stream",
     "text": [
      "3.141592653589793\n"
     ]
    }
   ],
   "source": [
    "# import the module under its own namespace\n",
    "import numpy\n",
    "print(numpy.pi)"
   ]
  },
  {
   "cell_type": "code",
   "execution_count": 2,
   "id": "stainless-secretary",
   "metadata": {},
   "outputs": [
    {
     "name": "stdout",
     "output_type": "stream",
     "text": [
      "3.141592653589793\n"
     ]
    }
   ],
   "source": [
    "# explicitly import a few objects only\n",
    "from numpy import pi\n",
    "print(pi)"
   ]
  },
  {
   "cell_type": "code",
   "execution_count": 3,
   "id": "civilian-tablet",
   "metadata": {},
   "outputs": [
    {
     "data": {
      "text/plain": [
       "3.141592653589793"
      ]
     },
     "execution_count": 3,
     "metadata": {},
     "output_type": "execute_result"
    }
   ],
   "source": [
    "# importing into an alias\n",
    "import numpy as np\n",
    "np.pi"
   ]
  },
  {
   "cell_type": "code",
   "execution_count": 4,
   "id": "parallel-constant",
   "metadata": {},
   "outputs": [
    {
     "name": "stdout",
     "output_type": "stream",
     "text": [
      "3.141592653589793\n"
     ]
    }
   ],
   "source": [
    "# import the module under particular namespace\n",
    "import math as m\n",
    "print(m.pi)"
   ]
  },
  {
   "cell_type": "code",
   "execution_count": 5,
   "id": "advisory-harrison",
   "metadata": {},
   "outputs": [
    {
     "name": "stdout",
     "output_type": "stream",
     "text": [
      "3.141592653589793\n"
     ]
    }
   ],
   "source": [
    "# Importing everything into the current namespace\n",
    "# not good - names collisions\n",
    "from numpy import *\n",
    "print(pi)\n"
   ]
  },
  {
   "cell_type": "code",
   "execution_count": 6,
   "id": "convenient-proportion",
   "metadata": {},
   "outputs": [],
   "source": [
    "mystring='It is 4pm. Good time to go to the sea'"
   ]
  },
  {
   "cell_type": "code",
   "execution_count": 7,
   "id": "mature-formula",
   "metadata": {},
   "outputs": [
    {
     "data": {
      "text/plain": [
       "['__add__',\n",
       " '__class__',\n",
       " '__contains__',\n",
       " '__delattr__',\n",
       " '__dir__',\n",
       " '__doc__',\n",
       " '__eq__',\n",
       " '__format__',\n",
       " '__ge__',\n",
       " '__getattribute__',\n",
       " '__getitem__',\n",
       " '__getnewargs__',\n",
       " '__gt__',\n",
       " '__hash__',\n",
       " '__init__',\n",
       " '__init_subclass__',\n",
       " '__iter__',\n",
       " '__le__',\n",
       " '__len__',\n",
       " '__lt__',\n",
       " '__mod__',\n",
       " '__mul__',\n",
       " '__ne__',\n",
       " '__new__',\n",
       " '__reduce__',\n",
       " '__reduce_ex__',\n",
       " '__repr__',\n",
       " '__rmod__',\n",
       " '__rmul__',\n",
       " '__setattr__',\n",
       " '__sizeof__',\n",
       " '__str__',\n",
       " '__subclasshook__',\n",
       " 'capitalize',\n",
       " 'casefold',\n",
       " 'center',\n",
       " 'count',\n",
       " 'encode',\n",
       " 'endswith',\n",
       " 'expandtabs',\n",
       " 'find',\n",
       " 'format',\n",
       " 'format_map',\n",
       " 'index',\n",
       " 'isalnum',\n",
       " 'isalpha',\n",
       " 'isascii',\n",
       " 'isdecimal',\n",
       " 'isdigit',\n",
       " 'isidentifier',\n",
       " 'islower',\n",
       " 'isnumeric',\n",
       " 'isprintable',\n",
       " 'isspace',\n",
       " 'istitle',\n",
       " 'isupper',\n",
       " 'join',\n",
       " 'ljust',\n",
       " 'lower',\n",
       " 'lstrip',\n",
       " 'maketrans',\n",
       " 'partition',\n",
       " 'replace',\n",
       " 'rfind',\n",
       " 'rindex',\n",
       " 'rjust',\n",
       " 'rpartition',\n",
       " 'rsplit',\n",
       " 'rstrip',\n",
       " 'split',\n",
       " 'splitlines',\n",
       " 'startswith',\n",
       " 'strip',\n",
       " 'swapcase',\n",
       " 'title',\n",
       " 'translate',\n",
       " 'upper',\n",
       " 'zfill']"
      ]
     },
     "execution_count": 7,
     "metadata": {},
     "output_type": "execute_result"
    }
   ],
   "source": [
    "dir(mystring)"
   ]
  },
  {
   "cell_type": "code",
   "execution_count": 8,
   "id": "diagnostic-vampire",
   "metadata": {},
   "outputs": [
    {
     "name": "stdout",
     "output_type": "stream",
     "text": [
      "Help on built-in function replace:\n",
      "\n",
      "replace(old, new, count=-1, /) method of builtins.str instance\n",
      "    Return a copy with all occurrences of substring old replaced by new.\n",
      "    \n",
      "      count\n",
      "        Maximum number of occurrences to replace.\n",
      "        -1 (the default value) means replace all occurrences.\n",
      "    \n",
      "    If the optional argument count is given, only the first count occurrences are\n",
      "    replaced.\n",
      "\n"
     ]
    }
   ],
   "source": [
    "help(mystring.replace)"
   ]
  },
  {
   "cell_type": "code",
   "execution_count": 9,
   "id": "married-mumbai",
   "metadata": {},
   "outputs": [],
   "source": [
    "#mystring.replace('nice','horrible')"
   ]
  },
  {
   "cell_type": "code",
   "execution_count": 10,
   "id": "corresponding-sucking",
   "metadata": {},
   "outputs": [
    {
     "name": "stdout",
     "output_type": "stream",
     "text": [
      "41858\n"
     ]
    }
   ],
   "source": [
    "from urllib.request import urlopen\n",
    "response = urlopen('https://www.gutenberg.org/files/521/521-0.txt')\n",
    "book = str(response.read())\n",
    "book.find('CHAPTER I. START IN LIFE')\n",
    "chapters=book[2211:].split('CHAPTER')\n",
    "print(len(chapters[3]))"
   ]
  }
 ],
 "metadata": {
  "kernelspec": {
   "display_name": "Python 3",
   "language": "python",
   "name": "python3"
  },
  "language_info": {
   "codemirror_mode": {
    "name": "ipython",
    "version": 3
   },
   "file_extension": ".py",
   "mimetype": "text/x-python",
   "name": "python",
   "nbconvert_exporter": "python",
   "pygments_lexer": "ipython3",
   "version": "3.7.2"
  }
 },
 "nbformat": 4,
 "nbformat_minor": 5
}
