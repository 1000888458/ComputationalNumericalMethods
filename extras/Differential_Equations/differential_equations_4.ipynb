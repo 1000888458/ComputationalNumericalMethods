{
 "cells": [
  {
   "cell_type": "markdown",
   "id": "aquatic-military",
   "metadata": {},
   "source": [
    "# Differential equations 4: Boundary Value Problems"
   ]
  },
  {
   "cell_type": "markdown",
   "id": "chronic-disposal",
   "metadata": {},
   "source": [
    "### Dictionary:\n",
<<<<<<< HEAD
    "* boundary - límite, frontera (\n",
    "The mountains mark the boundary between the two continents)\n",
    "* combine - combinar, unir\n",
    "* unlike - diferente a, contrario (Unlike you, I'm not a great dancer.)\n",
    "* residuals - residual\n",
    "* launch - lanzar (The launch of the rocket was delayed for 24 hours because of bad weather.)\n",
    "* avoid - evitar\n",
    "* obstacle - obstáculo"
=======
    "* combine - combinar, unir\n",
    "* unlike - diferente a (Unlike you, I'm not a great dancer.)\n",
    "* residuals - residual\n",
    "* launch - lanzar (The launch of the rocket was delayed for 24 hours because of bad weather.)\n",
    "* avoid - evitar"
>>>>>>> 1a410c3fab529330670093006c702963fc01a45a
   ]
  },
  {
   "cell_type": "markdown",
   "id": "suffering-median",
   "metadata": {},
   "source": [
    "### Order of the class\n",
<<<<<<< HEAD
    "* a bit more on the differential equations - nomenclature, conversion\n",
    "* Boundary value problem - Two Point Boundary Problem\n",
=======
    "* a bit more on DE - nomenclature\n",
    "* Boundary value problem Two Point Boundary Problem\n",
>>>>>>> 1a410c3fab529330670093006c702963fc01a45a
    "* word about a method called \"shooting method\" \n",
    "* scipy.integrate.solve_bvp (last time scipy.integrate.solve_ivp)\n",
    "* Example 1 - launching a rocket vertically $\\frac{d^2y}{dt^2}$\n",
    "* Example 2 - obstacle avoidance $\\frac{d^2y}{dx^2}$"
   ]
  },
  {
   "cell_type": "markdown",
   "id": "whole-resource",
   "metadata": {},
   "source": [
<<<<<<< HEAD
    "### Differential equations - notation:\n",
=======
    "### Nomenclature of Differential equations:\n",
>>>>>>> 1a410c3fab529330670093006c702963fc01a45a
    "\n",
    "* if $y^{\\prime}$ - first derivative over space $\\frac{dy}{dx}$\n",
    "* if $y^{\\prime \\prime}$ - second derivative over space $\\frac{d^2y}{dx^2}$\n",
    "\n",
    "* if $\\dot y$ - first derivative over time $\\frac{dy}{dt}$\n",
    "* if $\\ddot y$ - second derivative over time $\\frac{d^2y}{dt^2}$\n"
   ]
  },
  {
   "cell_type": "markdown",
   "id": "christian-bridge",
   "metadata": {},
   "source": [
    "### Symplifing second order differential equation:\n",
    "* Separate second order differential equation into two first order differential equations:\n",
    "$$\n",
    "\\begin{align*} \n",
    "\\frac{d^2y}{dt^2} &= t-y \n",
    "\\end{align*} \n",
    "$$\n",
    "\n",
    "\n",
    "if I do some replacement, say that: \n",
    "\n",
    "$$z =  t-y$$\n",
    "\n",
    "then I can have a set of first order differential equations:\n",
    "\n",
    "$$\n",
    "\\begin{align*} \n",
    "\\frac{dy}{dt} &= z \\\\\n",
    "\\frac{dz}{dt} &= t-y\n",
    "\\end{align*} \n",
    "$$\n",
    "\n",
    "* and this can be already solved as a coupled differential equations.\n",
    "* we can rewrite it to make it easier to implement it numerically using vectors: Here we have two dependent variables $y$ and $z$ which we can represent as elements of some vector: \n",
    "  now $y=y[0]$, $z=y[1]$ and $dydx$ is vector of results of the RHS (Right Hand Side of this set of equations)\n",
    " * dydx[0] - result of the first equation\n",
    " * dydx[1] - result of the second equation\n",
    "\n",
    "$$\n",
    "\\begin{align*} \n",
    "dydx[0] &= y[1] \\\\\n",
    "dydx[1] &= t-y[0]\n",
    "\\end{align*} \n",
    "$$\n",
    "\n",
    "* why do I use this notation... bacause of rk4.f90\n"
   ]
  },
  {
   "cell_type": "markdown",
   "id": "regional-confidence",
   "metadata": {},
   "source": [
    "###  why do I use this notation:\n",
    "* dydx[0], dydx[1], \n",
    "* y[0], y[1]\n",
    "\n",
    "... bacause of rk4.f90 ($\\color{red}{\\text{double click to display in verbose mode}}$)\n",
    "\n",
<<<<<<< HEAD
    "!********************************************************************\n",
=======
>>>>>>> 1a410c3fab529330670093006c702963fc01a45a
    "MODULE \trk4_module\n",
    "USE    \ttypes_module\n",
    "\n",
    "IMPLICIT NONE\n",
    "\n",
    "Contains\n",
    "Subroutine rk4(y,dydx,x,h,yout,derivs)\n",
    "\n",
    "!********************************************************************\n",
    "! Perfom 4th order Runge-Kutta integration\n",
    "! Given vlues for N variables y and their derivatives dydx known at x,\n",
    "! use rk4 to advance solution over interval h and return solution yout.\n",
    "! User supplies subroutine derivs(x,y,dydx)\n",
    "!********************************************************************\n",
    "!\n",
    "! y      - INPUT  - Values of variables to be integrated    \n",
    "! dydx   - INPUT  - Derivatives known at x\n",
    "! x      - INPUT  - Position x\n",
    "! h      - INPUT  - Step size\n",
    "! yout   - OUTPUT - Solution of incremented variables\n",
    "! derivs - INPUT  - External subroutine returning dydx at x \n",
    "!\n",
    "!====================================================================\n",
    "! Define local variables\n",
    "! ndum   - Length of input arrays \n",
    "! h6     - Step size divided by 6\n",
    "! hh     - Half of the step size \n",
    "! xh     - x position incremented by half a step\n",
    "! dym    - Intermediate derivatives\n",
    "! dyt    - Intermediate derivatives\n",
    "! yt     - Incremental solution\n",
    "!=====================================================================\n",
    "\n",
    "\n",
    "!      USE nrutil_module, ONLY : assert_eq\n",
    "\t\n",
    "      IMPLICIT NONE\n",
    "      \n",
    "      REAL(KIND=WP),  DIMENSION(:), INTENT(IN)  :: y\n",
    "      REAL(KIND=WP),  DIMENSION(:), INTENT(IN)  :: dydx\n",
    "      REAL(KIND=WP),                INTENT(IN)  :: x\n",
    "      REAL(KIND=WP),                INTENT(IN)  :: h\n",
    "      REAL(KIND=WP),  DIMENSION(:), INTENT(OUT) :: yout"
   ]
  },
  {
   "cell_type": "markdown",
   "id": "comparable-attention",
   "metadata": {},
   "source": [
    "### Difference between IVP and BVP\n",
    "* If all the conditions are provided at the same point, the problem is said to be an Inıtial Value Problem (IVP).\n",
    "\n",
    "* If all the conditions are not provided at the same point, the problem is said to be a Boundary Value problem (BVP).\n"
   ]
  },
  {
   "cell_type": "markdown",
   "id": "metropolitan-missile",
   "metadata": {},
   "source": [
    "# Two-Point Boundary Value Problems\n",
    "* some more theory"
   ]
  },
  {
   "cell_type": "markdown",
   "id": "israeli-vertex",
   "metadata": {},
   "source": [
    "Up to now we have solved initial value problems of the form:\n",
    "\n",
    "$$ \\frac{dy}{dt}=y'=f(t,y),\\ \\ \\ a\\leq t\\leq b, \\ \\ \\ \\ y(a) = \\alpha $$\n",
    "\n",
    "Second order equations can be similarly planted as \n",
    "\n",
    "$$ \\frac{d^2y}{dt^2}=y''=f(t,y,y'),\\ \\ \\ a\\leq t\\leq b, \\ \\ \\ \\ y(a) = \\alpha \\ \\ \\ y'(a) = u $$\n",
    "\n",
    "This type of systems can be readily solved by defining the auxiliar variable $w = y'$, turning it into a first order system of equations.\n",
    "\n",
    "Now, we shall solve two-point boundary problem, where we have two conditions on the solution $y(t)$ instead of having the function and its derivative at some initial point, i.e.\n",
    "\n",
    "$$ \\frac{d^2y}{dt^2}=y''=f(t,y,y'),\\ \\ \\ a\\leq t\\leq b, \\ \\ \\ \\ y(a) = \\alpha \\ \\ \\ y(b) = \\beta $$\n",
    "\n",
    "In spite of its similar form to the initial value problem, two-point boundary problems pose a increased difficulty for numerical methods. The main reason of this is the iterative procedure performed by numerical approaches, where from an initial point, further points are found. Trying to fit two different values at different points implies then a continuous readjusting of the solution.\n",
    "\n",
    "\n",
    "\n",
    "A common way to solve these problems is by turning them into a initial-value problem\n",
    "\n",
    "$$ \\frac{d^2y}{dt^2}=y''=f(t,y,y'),\\ \\ \\ a\\leq t\\leq b, \\ \\ \\ \\ y(a) = \\alpha \\ \\ \\ y'(a) = u $$\n",
    "\n",
    "Let's suppose some choice of $u$, integrating by using some of the previous methods, we obtain the final boundary condition $y(b)=\\theta$. If the produced value is not the one we wanted from our initial problem, we try another value $u$. This can be repeated until we get a reasonable approach to $y(b)=\\beta$. This method works fine, but it is so expensive and terribly inefficient.\n",
    "\n",
    "Note when we change $u$, the final boundary value also change, so we can assume $y(b) = \\theta$. The solution to the problem can be thought then as a root-finding problem:\n",
    "\n",
    "$$ y(b) = \\theta(u) = \\beta $$\n",
    "\n",
    "or\n",
    "\n",
    "$ r(u) \\equiv \\theta(u) - \\beta = 0 $\n",
    "\n",
    "where $r(u)$ is the residual function. This problem can be thus solved using some of the methods previously seen for the root-finding problem."
   ]
  },
  {
   "cell_type": "markdown",
   "id": "numerical-appraisal",
   "metadata": {},
   "source": [
    "## A word about shooting method (if someone asks...)\n",
    "* a method (a bit like a brute-force) to solve BVP problem\n",
    "* relies on guessing a value of a function (undershooting) comparing to the expected value and overshooting - then using a interpolation method to find the value inbetween... example\n",
<<<<<<< HEAD
    "\n",
=======
>>>>>>> 1a410c3fab529330670093006c702963fc01a45a
    "<img src=\"imgs/shooting_method.png\" width=\"800\" />"
   ]
  },
  {
   "cell_type": "markdown",
   "id": "boolean-sudan",
   "metadata": {},
   "source": [
    "## Using scipy.integrate.bvp to solve Boundary Value Problem\n",
    "\n",
    "https://docs.scipy.org/doc/scipy/reference/generated/scipy.integrate.solve_bvp.html"
   ]
  },
  {
   "cell_type": "markdown",
   "id": "bizarre-italian",
   "metadata": {},
   "source": [
    "## Example 1\n",
    "- Launching a rocket \n",
    "\n",
    "<img src=\"imgs/rocket_launch.jpg\" width=\"200\" />\n",
    "\n",
    "We are going out to launch a rocket vertically, and let $y(t)$ be the altitude (meters from the surface) of the rocket at time $t$. We know the gravity g=9.8m/s2\n",
    "\n",
    "If we want to have the rocket at $50$ meters off the ground after $3$ seconds after launching, what should be the velocity at launching? (recall that velocity dy/dt )\n",
    "\n",
    "To answer this question, we can frame the problem into a boundary value problem for a second-order ODE. The ODE is (Newton law):\n",
    "\n",
    "$$\\ddot y= −g $$\n",
    "\n",
<<<<<<< HEAD
=======
    "Nomenclature:\n",
    "\n",
    "* if $y^{'}$ - first derivative over space $\\frac{dy}{dx}$\n",
    "* if $y^\"$ - second derivative over space $\\frac{d^2y}{dx^2}$\n",
    "\n",
    "* if $\\dot y$ - first derivative over time $\\frac{dy}{dt}$\n",
    "* if $\\ddot y$ - second derivative over time $\\frac{d^2y}{dt^2}$\n",
    "\n",
>>>>>>> 1a410c3fab529330670093006c702963fc01a45a
    "so the above is exactly the same as:\n",
    "\n",
    "$$\\frac{d^2y}{dt^2}= −g $$\n",
    "\n",
    "\n",
    "with the two boundary conditions are: \n",
    "\n",
    "y(0)=0\n",
    "\n",
    "and y(3)=50. \n",
    "\n",
<<<<<<< HEAD
    "* And we want to answer the question, what’s the $\\dot y$(0) at the launching? $\\frac{dy}{dt}$"
=======
    "* And we want to answer the question, what’s the y′(0) at the launching?"
>>>>>>> 1a410c3fab529330670093006c702963fc01a45a
   ]
  },
  {
   "cell_type": "markdown",
   "id": "soviet-automation",
   "metadata": {},
   "source": [
    "## Solution\n",
    "First, we will reduce the order of the function, the second-order ODE becomes:\n",
<<<<<<< HEAD
    "\n",
    "$$\n",
    "\\begin{align*} \n",
    "\\frac{dy}{dt}&=v \\\\\n",
    "\\frac{dv}{dt}&=−g\n",
    "\\end{align*} \n",
    "$$\n",
=======
    "$$\\frac{dy}{dt}=v$$\n",
    "$$\\frac{dv}{dt}=−g$$\n",
>>>>>>> 1a410c3fab529330670093006c702963fc01a45a
    "\n",
    "* we have two dependent variables $y$ and $v$ which we can represent as elements of some vector: now $y=y[0]$, $v=y[1]$ \n",
    "\n",
    "$$\n",
    "\\begin{align*} \n",
    "dydt[0]&=y[1] \\\\\n",
    "dydt[1]&=-g \\\\\n",
    "\\end{align*} \n",
    "$$\n",
    "\n",
    "with the two boundary conditions are: \n",
    "\n",
    "y(0)=0\n",
    "\n",
    "and y(3)=50. \n"
   ]
  },
  {
   "cell_type": "markdown",
   "id": "lesbian-collar",
   "metadata": {},
   "source": [
<<<<<<< HEAD
    "## The implementation of this BVP:\n",
=======
    "## The implementation of the given BVP:\n",
>>>>>>> 1a410c3fab529330670093006c702963fc01a45a
    "* scipy.integrate.solve_bvp (before was scipy.integrate.solve_ivp)\n",
    "* its a bit more complicated than scipy.integrate.solve_ivp\n",
    "* solve_bvp: https://docs.scipy.org/doc/scipy/reference/generated/scipy.integrate.solve_bvp.html\n",
    "* scipy.integrate.solve_bvp(fun, bc, x, y0... rest is optional\n",
    "* scipy.integrate.solve_bvp(derivs, bc, x, y0... rest is optional\n",
    "\n",
    "### Step by step:\n",
    "\n",
<<<<<<< HEAD
    "\n",
    "**1.** define the vectorized derivs funcion: derivs(x,y)\n",
    "  * unline the ivp_solve here t is a vector and y is an array!\n",
    "\n",
    "**2.** define the boundary condition function: bc(ya,yb)\n",
    "  *  bc: boundary conditions:\n",
    "  *  what are ya and yb:\n",
    "  *  ya and yb are two vectors \n",
    "  \n",
    "  *  ya is a vector of two elements \n",
    "  *  The info of the initial position is stored in ya[0]\n",
    "  *  The info of the initial derivative (velocity) is stored in ya[1]\n",
    "\n",
    "  *  yb is also a vector of two elements        \n",
    "  *  The info of the final position is stored in yb[0]\n",
    "  *  The info of the final derivative is stored in yb[1]\n",
    "  \n",
    "     ya stores INITIAL VALUES OF THE y and y'\n",
    "     * $ya[0] = y_{ini}$\n",
    "     * $ya[1] = y_{ini}^{\\prime}$\n",
    "\n",
    "     yb stores FINAL VALUES OF THE y and y'\n",
    "     * $yb[0] = y_{fin}$\n",
    "     * $yb[1] = y_{fin}^{\\prime}$\n",
    "\n",
    "  So for example if we want to implement the condition y(3)=50\n",
    "     we have to look at yb[0] (final position, NOT derivative)\n",
    "     \n",
    "     \n",
    "  *  The implementation of the condition is simple: we define another vector called $residuals$ which will contain two elements, because we have two conditions and we say:\n",
    "\n",
    "     * residuals[0]= yb[0]-50.0 (here we look at final position of the rocket and make sure that if we subtract from it 50.0 the results is zero - meaning no residuals)\n",
    "     \n",
    "     * residuals[1]= ya[0]-0.0  (here we look at initial position of the rocket and make sure that if we subtract from it 0.0 the results is zero - meaning no residuals)\n",
    "     \n",
    "     \n",
    "  * (5-4=1, so 1 is a residual of subtraction of 4 from 5 - big residual \n",
    "  \n",
    "     5-4.9=0.1 so 0.1 is a smaller residual of subtraction of 4.9 from 5)\n",
    "     \n",
    "     \n",
    "  * so: solve_bvp will try to find such set of parameters that both elements of the residuals are zero (a bit like minimization problem) \n",
    "    \n",
    "    *residuals[0]=0\n",
    "    \n",
    "    *residuals[1]=0\n",
    "\n",
    "**3.** define space (or time domain) \n",
    "  * T_steps = 100\n",
    "  * T = np.linspace(0,3,T_steps)\n",
    "  \n",
    "**4.** initialize y0 array:\n",
=======
    "**1.** define space (or time domain) \n",
    "  * T_steps = 100\n",
    "  * T = np.linspace(0,np.pi,T_steps)\n",
    "  \n",
    "**2.** initialize y0 vector:\n",
>>>>>>> 1a410c3fab529330670093006c702963fc01a45a
    "  * give an initial guess of $y0$\n",
    "  * the size of the initial guess $y0$ is different than for IVP\n",
    "  * the shape is like combined two vectors (because we have two equations) with t_steps each\n",
    "  * so its an array of 2 rows x columns of lenght t_steps:\n",
    "  * y0 = np.ones((2,t_steps))\n",
    "  * y0 shape here would be (2,100)\n",
    "\n",
<<<<<<< HEAD
    "**5.** call the scipy.integrate.solve_bvp\n",
=======
    "**4. ** define the vectorized derivs funcion derivs(x,y)\n",
    "  * unline the ivp_solve here t is a vector and y is an array!\n",
    "\n",
    "**5. ** define the boundary condition function bc(ya,yb)\n",
    "  *  bc: boundary conditions:\n",
    "  *  ya are the initial values\n",
    "  *  yb are the final values\n",
    "  *  ya[i] is the value of the ith derivative of the initial value \n",
    "     e.g. ya[1] is the initial value of the first derivative \n",
    "\n",
    "  *  yb[i] is the value of the ith derivative of the final value\n",
    "     e.g. yb[0] is the final value of the function\n",
    "    \n",
    "  *   the return array is the array of the residuals!\n",
    "  *   initialize an \"empty\" array $residuals$ (with zeros)\n",
    "  *   the size of this array will be be two because we have two conditions\n",
    "  *   at each point of time/space for example ya will have different values\n",
    "      - ya[0.5,23]\n",
    "      - ya[0.7,26]\n",
    "      - ya[0.9,29]\n",
    "      - ya[y_ini,y_ini']\n",
    "  *  scipy will try to make each entry of this array 0\n",
    "\n",
    "**6. ** call the scipy.integrate.solve_bvp\n",
>>>>>>> 1a410c3fab529330670093006c702963fc01a45a
    "  * sol = solve_bvp(derivs, bc, t, y0)"
   ]
  },
  {
   "cell_type": "markdown",
   "id": "corporate-prototype",
   "metadata": {},
   "source": [
    "#### Lets recall the problem:\n",
    "\n",
    "First, we will reduce the order of the function, the second-order ODE becomes:\n",
<<<<<<< HEAD
    "\n",
    "$$\n",
    "\\begin{align*} \n",
    "\\frac{dy}{dt}&=v \\\\\n",
    "\\frac{dv}{dt}&=−g\n",
    "\\end{align*} \n",
    "$$\n",
=======
    "$$\\frac{dy}{dt}=v$$\n",
    "$$\\frac{dv}{dt}=−g$$\n",
>>>>>>> 1a410c3fab529330670093006c702963fc01a45a
    "\n",
    "* we have two dependent variables $y$ and $v$ which we can represent as elements of some vector: now $y=y[0]$, $v=y[1]$ \n",
    "\n",
    "$$\n",
    "\\begin{align*} \n",
    "dydt[0]&=y[1] \\\\\n",
    "dydt[1]&=-g \\\\\n",
    "\\end{align*} \n",
    "$$\n",
    "\n",
    "with the two boundary conditions are: \n",
    "\n",
    "we want that the altitude is initially $0$ m and after $3$ seconds  is 50 meters. y(0)=0, y(3)=50 \n",
<<<<<<< HEAD
    "##### do not confuse the brackets y(0) is not  y[0]!!!!\n",
=======
    "##### dont confuse the brackets y(0) is not  y[0]!!!!\n",
>>>>>>> 1a410c3fab529330670093006c702963fc01a45a
    "* y(0) is the initial value of the altitute\n",
    "* y[0] is the first element of the vector representing the altitute in the set of equations y[1] is velocity\n",
    "\n"
   ]
  },
  {
   "cell_type": "code",
   "execution_count": 1,
   "id": "growing-pepper",
   "metadata": {},
   "outputs": [
    {
     "name": "stdout",
     "output_type": "stream",
     "text": [
      "1.0\n",
      "1.0\n",
      "1.0\n",
      "1.0000000298023224\n",
      "1.0\n",
      "1.0\n",
      "31.381666666666653\n",
      "31.381666666666653\n"
     ]
    }
   ],
   "source": [
    "from scipy.integrate import solve_bvp\n",
    "import numpy as np\n",
    "\n",
    "def derivs(t,y):\n",
    "    dydt=np.zeros((y.shape))\n",
    "    dydt[0]=y[1]\n",
    "    dydt[1]=-9.81\n",
    "    return dydt\n",
    "\n",
    "def bc(ya,yb):\n",
    "    residuals=np.array([0.0,0.0])\n",
<<<<<<< HEAD
    "    residuals[0]=ya[0] - 0.0\n",
    "    residuals[1]=yb[0] - 50.0\n",
    "    print(ya[1])\n",
    "#    print(residuals)\n",
=======
    "    residuals[0]=ya[0]-0.0\n",
    "    residuals[1]=yb[0] - 50.0\n",
    "    print(ya[1])\n",
>>>>>>> 1a410c3fab529330670093006c702963fc01a45a
    "    return residuals\n",
    "\n",
    "# give the time domain\n",
    "t_steps = 100\n",
    "t = np.linspace(0,3,t_steps)\n",
    "\n",
    "# give an initial guess\n",
    "# the size of the initial guess is different than for IVP\n",
    "# we pass two vectors  (because we have two equations) with t_steps each\n",
    "# but we combine it into one array of 2 rows t columns:\n",
    "y0 = np.ones((2,t_steps))\n",
<<<<<<< HEAD
    "#print(y0.shape)\n",
=======
>>>>>>> 1a410c3fab529330670093006c702963fc01a45a
    "# solve the system\n",
    "sol = solve_bvp(derivs, bc, t, y0)\n"
   ]
  },
  {
   "cell_type": "code",
   "execution_count": 2,
   "id": "injured-liechtenstein",
   "metadata": {},
   "outputs": [
    {
     "name": "stdout",
     "output_type": "stream",
     "text": [
      "-1.6666666666666667\n",
      "50.0\n"
     ]
    },
    {
     "data": {
      "image/png": "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\n",
      "text/plain": [
       "<Figure size 432x288 with 1 Axes>"
      ]
     },
     "metadata": {
      "needs_background": "light"
     },
     "output_type": "display_data"
    }
   ],
   "source": [
    "import matplotlib.pyplot as plt\n",
    "fig, ax=plt.subplots(1,1)\n",
    "ax.plot(sol.x, sol.y[0],'-r',label='vertical launch: y vs time!')\n",
    "ax.plot(3,50,'.b')\n",
    "ax.set_xlabel('t')\n",
    "ax.set_ylabel('y(t)')\n",
    "ax.legend()\n",
    "print(-5/3)\n",
    "print(sol.y[0][-1])"
   ]
  },
  {
   "cell_type": "code",
   "execution_count": null,
   "id": "quantitative-particle",
   "metadata": {},
   "outputs": [],
   "source": []
  },
  {
   "cell_type": "markdown",
   "id": "middle-cooper",
   "metadata": {},
   "source": [
    "## Example 2:\n",
    "* Obstace avoidance:\n",
    "Consider the following example:\n",
    "\n",
<<<<<<< HEAD
    "$$ y^{\\prime \\prime} - 9y=cos(x)$$\n",
    "\n",
    "this is the same as:\n",
=======
    "$$ y^{\"} - 9y=cos(x)$$\n",
    "\n",
    "Nomenclature:\n",
    "\n",
    "*  if $y^\"$ - derivative over space $\\frac{dy}{dx}$\n",
    "\n",
    "* if $\\ddot y$ - derivative over time $\\frac{dy}{dt}$\n",
>>>>>>> 1a410c3fab529330670093006c702963fc01a45a
    "\n",
    "$$ \\frac{d^2y}{dx^2}= cos(x) - 9y$$\n",
    "\n",
    "Boundary conditions:\n",
    "\n",
<<<<<<< HEAD
    "* $y^{\\prime}(0) = 5$\n",
=======
    "* $y^{'}(0) = 5$\n",
>>>>>>> 1a410c3fab529330670093006c702963fc01a45a
    "* $y (\\pi) = −\\frac{5}{3}$\n",
    "\n",
    "We begin by changing this second order ODE into a first order ODE system.\n",
    "Let y1 = y and y2 = y′ so that,\n",
    "\n",
    "\n",
    "$$\n",
    "\\begin{align*} \n",
    "\\frac{dy}{dx}&=z \\\\\n",
    "\\frac{dz}{dx}&=cos(x) - 9y \\\\\n",
    "\\end{align*} \n",
    "$$\n",
    "\n",
    "* we have two dependent variables $y$ and $z$ which we can represent as elements of some vector: now $y=y[0]$, $z=y[1]$ (note x is an independent variable)\n",
    "\n",
    "$$\n",
    "\\begin{align*} \n",
    "dydx[0]&=y[1] \\\\\n",
    "dydx[1]&=cos(x) - 9y[0] \\\\\n",
    "\\end{align*} \n",
    "$$\n",
    "\n"
   ]
  },
  {
<<<<<<< HEAD
   "cell_type": "markdown",
   "id": "swedish-arrest",
   "metadata": {},
   "source": [
    "* we know how to implement derivs, so lets think of how to implement the boundary conditions: In this problem we have two boundary conditions:\n",
    "\n",
    "* $𝑦′(0)=5$\n",
    "\n",
    "*  $𝑦(\\pi)=−5/3$\n",
    "  \n",
    "* To implement the condition $y'(0)=5$ we have to look at ya[1] (initial derivative, NOT position)\n",
    "\n",
    "* To implement the condition $y(\\pi)=5$ we have to look at yb[0] (final position, NOT derivative)\n",
    "\n",
    "* so to minimze the residuals we implement it:\n",
    "\n",
    "\n",
    "    * residuals[0]=ya[1] - 5.0\n",
    "    * residuals[1]=yb[0] + 5/3\n"
   ]
  },
  {
   "cell_type": "code",
   "execution_count": 3,
   "id": "answering-cement",
   "metadata": {},
   "outputs": [
    {
     "name": "stdout",
     "output_type": "stream",
     "text": [
      "(2, 100)\n"
     ]
    }
   ],
=======
   "cell_type": "code",
   "execution_count": 6,
   "id": "answering-cement",
   "metadata": {},
   "outputs": [],
>>>>>>> 1a410c3fab529330670093006c702963fc01a45a
   "source": [
    "from scipy.integrate import solve_bvp\n",
    "import numpy as np\n",
    "\n",
    "def derivs(x,y):\n",
    "    # here we pass the vector x and y of size (2xlen(x)) like RHS\n",
    "    # thats why we define the same shape vector of solutions of LHS\n",
    "    dydx=np.zeros((y.shape))\n",
    "    dydx[0]=y[1]\n",
    "    dydx[1]=np.cos(x) - 9*y[0]\n",
    "    return dydx\n",
    "\n",
    "def bc(ya,yb):\n",
<<<<<<< HEAD
    "    residuals=np.array([0.0,0.0])\n",
    "    residuals[0]=ya[1] - 5\n",
    "    residuals[1]=yb[0] + 5/3\n",
=======
    "    # bc: boundary conditions:\n",
    "    # input is ya & yb\n",
    "    # ya are the initial values\n",
    "    # yb are the final values\n",
    "    \n",
    "    # ya[i] is the value of the ith derivative of the initial value \n",
    "    # e.g. ya[1] is the initial value of the first derivative \n",
    "\n",
    "    # yb[i] is the value of the ith derivative of the final value\n",
    "    # e.g. yb[0] is the final value of the function\n",
    "    \n",
    "    # the return array is the array of the residuals\n",
    "    # initialize an \"empty\" array (with zeros)\n",
    "    # the size of this array will be be two because we have two conditions\n",
    "    # scipy will try to make each entry 0\n",
    "    residuals=np.array([0.0,0.0])\n",
    "\n",
    "    # first enty is a difference between what it is and what it should be\n",
    "    residuals[0]=ya[1] - 5\n",
    "\n",
    "    # first enty is a difference between what it is and what it should be\n",
    "    residuals[1]=yb[0] + 5/3\n",
    "    # ya are the initial values\n",
    "    # yb are the final values\n",
    "\n",
    "    # each entry of the return array will be set to zero\n",
>>>>>>> 1a410c3fab529330670093006c702963fc01a45a
    "    return residuals\n",
    "\n",
    "# give the space domain\n",
    "x_steps = 100\n",
    "x = np.linspace(0,np.pi,x_steps)\n",
    "\n",
    "# give an initial guess\n",
    "# the size of the initial guess is different than for IVP\n",
    "# we pass two vectors  (because we have two equations) with t_steps each\n",
    "# but we combine it into one array of 2 rows t columns:\n",
    "y0 = np.ones((2,x_steps))\n",
<<<<<<< HEAD
    "print(y0.shape)\n",
=======
>>>>>>> 1a410c3fab529330670093006c702963fc01a45a
    "# solve the system\n",
    "sol = solve_bvp(derivs, bc, x, y0)"
   ]
  },
  {
   "cell_type": "code",
   "execution_count": 4,
   "id": "informational-catholic",
   "metadata": {},
   "outputs": [
    {
<<<<<<< HEAD
     "data": {
      "text/plain": [
       "Text(0, 0.5, 'y(x)')"
      ]
     },
     "execution_count": 4,
     "metadata": {},
     "output_type": "execute_result"
    },
    {
     "data": {
      "image/png": "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\n",
=======
     "name": "stdout",
     "output_type": "stream",
     "text": [
      "-1.6666666666666667\n",
      "-1.666666666666667\n"
     ]
    },
    {
     "data": {
      "image/png": "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\n",
>>>>>>> 1a410c3fab529330670093006c702963fc01a45a
      "text/plain": [
       "<Figure size 432x288 with 1 Axes>"
      ]
     },
     "metadata": {
      "needs_background": "light"
     },
     "output_type": "display_data"
    }
   ],
   "source": [
    "import matplotlib.pyplot as plt\n",
    "fig, ax = plt.subplots(1,1)\n",
<<<<<<< HEAD
    "ax.plot(sol.x, sol.y[0],'-r')\n",
=======
    "ax.plot(sol.x/np.pi, sol.y[0],'-r')\n",
>>>>>>> 1a410c3fab529330670093006c702963fc01a45a
    "\n",
    "ax.set_xlabel('x')\n",
    "ax.set_ylabel('y(x)')\n"
   ]
  },
  {
   "cell_type": "code",
   "execution_count": 5,
   "id": "announced-messenger",
   "metadata": {},
   "outputs": [
    {
     "name": "stdout",
     "output_type": "stream",
     "text": [
      "-1.6666666666666667\n",
      "-1.666666666666667\n"
     ]
    }
   ],
   "source": [
    "print(-5/3)\n",
    "print(sol.y[0][-1])"
   ]
<<<<<<< HEAD
  },
  {
   "cell_type": "markdown",
   "id": "periodic-baking",
   "metadata": {},
   "source": [
    "## Homework\n",
    "Using scipy.integrate.solve_bvp solve the problem presented in the shooting method section:\n",
    "\n",
    "<img src=\"imgs/shooting_method.png\" width=\"800\" />"
   ]
  },
  {
   "cell_type": "code",
   "execution_count": null,
   "id": "editorial-screen",
   "metadata": {},
   "outputs": [],
   "source": []
=======
>>>>>>> 1a410c3fab529330670093006c702963fc01a45a
  }
 ],
 "metadata": {
  "kernelspec": {
   "display_name": "Python 3",
   "language": "python",
   "name": "python3"
  },
  "language_info": {
   "codemirror_mode": {
    "name": "ipython",
    "version": 3
   },
   "file_extension": ".py",
   "mimetype": "text/x-python",
   "name": "python",
   "nbconvert_exporter": "python",
   "pygments_lexer": "ipython3",
   "version": "3.7.2"
  }
 },
 "nbformat": 4,
 "nbformat_minor": 5
}
