{
 "cells": [
  {
   "cell_type": "code",
   "execution_count": 1,
   "id": "indonesian-equipment",
   "metadata": {},
   "outputs": [
    {
     "name": "stdout",
     "output_type": "stream",
     "text": [
      "(2, 100)\n"
     ]
    }
   ],
   "source": [
    "import numpy as np\n",
    "import scipy.integrate\n",
    "\n",
    "def derivs(x,y):\n",
    "    # here we pass the vector x and y of size (2xlen(x)) like RHS\n",
    "    # thats why we define the same shape vector of solutions of LHS\n",
    "    dydx=np.zeros((y.shape))\n",
    "    dydx[0]=y[1]\n",
    "    dydx[1]=np.cos(x) - 9*y[0]\n",
    "    return dydx\n",
    "\n",
    "def bc(ya,yb):\n",
    "    residuals=np.array([0.0,0.0])\n",
    "    residuals[0]=ya[1] - 5\n",
    "    residuals[1]=yb[0] + 5/3\n",
    "    return residuals\n",
    "\n",
    "# give the space domain\n",
    "x_steps = 100\n",
    "x = np.linspace(0,np.pi,x_steps)\n",
    "\n",
    "# give an initial guess\n",
    "# the size of the initial guess is different than for IVP\n",
    "# we pass two vectors  (because we have two equations) with t_steps each\n",
    "# but we combine it into one array of 2 rows t columns:\n",
    "y0 = np.ones((2,x_steps))\n",
    "print(y0.shape)\n",
    "# solve the system\n",
    "sol = scipy.integrate.solve_bvp(derivs, bc, x, y0)"
   ]
  },
  {
   "cell_type": "code",
   "execution_count": 2,
   "id": "growing-headline",
   "metadata": {},
   "outputs": [
    {
     "name": "stdout",
     "output_type": "stream",
     "text": [
      "(2, 100)\n"
     ]
    }
   ],
   "source": [
    "from scipy.integrate import solve_bvp\n",
    "import numpy as np\n",
    "\n",
    "def derivs(x,y):\n",
    "    # here we pass the vector x and y of size (2xlen(x)) like RHS\n",
    "    # thats why we define the same shape vector of solutions of LHS\n",
    "    dydx=np.zeros((y.shape))\n",
    "    dydx[0]=y[1]\n",
    "    dydx[1]=np.cos(x) - 9*y[0]\n",
    "    return dydx\n",
    "\n",
    "def bc(ya,yb):\n",
    "    residuals=np.array([0.0,0.0])\n",
    "    residuals[0]=ya[1] - 5\n",
    "    residuals[1]=yb[0] + 5/3\n",
    "    return residuals\n",
    "\n",
    "# give the space domain\n",
    "x_steps = 100\n",
    "x = np.linspace(0,np.pi,x_steps)\n",
    "\n",
    "# give an initial guess\n",
    "# the size of the initial guess is different than for IVP\n",
    "# we pass two vectors  (because we have two equations) with t_steps each\n",
    "# but we combine it into one array of 2 rows t columns:\n",
    "y0 = np.ones((2,x_steps))\n",
    "print(y0.shape)\n",
    "# solve the system\n",
    "sol = solve_bvp(derivs, bc, x, y0)"
   ]
  },
  {
   "cell_type": "code",
   "execution_count": null,
   "id": "frequent-cambodia",
   "metadata": {},
   "outputs": [],
   "source": []
  }
 ],
 "metadata": {
  "kernelspec": {
   "display_name": "Python 3",
   "language": "python",
   "name": "python3"
  },
  "language_info": {
   "codemirror_mode": {
    "name": "ipython",
    "version": 3
   },
   "file_extension": ".py",
   "mimetype": "text/x-python",
   "name": "python",
   "nbconvert_exporter": "python",
   "pygments_lexer": "ipython3",
   "version": "3.7.2"
  }
 },
 "nbformat": 4,
 "nbformat_minor": 5
}
