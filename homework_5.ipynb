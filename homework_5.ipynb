{
  "nbformat": 4,
  "nbformat_minor": 0,
  "metadata": {
    "colab": {
      "name": "homework_5.ipynb",
      "provenance": []
    },
    "kernelspec": {
      "name": "python3",
      "display_name": "Python 3"
    },
    "language_info": {
      "name": "python"
    }
  },
  "cells": [
    {
      "cell_type": "code",
      "source": [
        "#Tarea 5 \n",
        "\n",
        "\n",
        "def cuadratic_interp(x,y,xinterp):                                                       \n",
        "\n",
        "    b0 = y[0]                                                                             \n",
        "\n",
        "    b1 = (y[1]-y[0])/(x[1]-x[0])\n",
        "\n",
        "    b2 = (((y[2]-y[1])/(x[2]-x[1]))-b1)/(x[2]-x[0])\n",
        "\n",
        "    Interpolation = b0+b1*(xinterp-x[0])+b2*(xinterp-x[0])*(xinterp-x[1])\n",
        "    \n",
        "    return Interpolation\n",
        "\n",
        "\n"
      ],
      "metadata": {
        "id": "EjJ9e7HdQzQr"
      },
      "execution_count": 4,
      "outputs": []
    }
  ]
}