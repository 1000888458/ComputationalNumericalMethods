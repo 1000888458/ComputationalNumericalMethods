{
 "metadata": {
  "name": ""
 },
 "nbformat": 3,
 "nbformat_minor": 0,
 "worksheets": [
  {
   "cells": [
    {
     "cell_type": "heading",
     "level": 1,
     "metadata": {},
     "source": [
      "Test 2 - Computational Activity"
     ]
    },
    {
     "cell_type": "markdown",
     "metadata": {},
     "source": [
      "This activity represents $50\\%$ of the **test 2**. Each student must provide an **ipython notebook** with the solution of the proposed problems, along with all the performed procedures and related codes, as well as the obtained results.\n",
      "\n",
      "*Due to:* **Sunday Mar 1, Midnight**"
     ]
    },
    {
     "cell_type": "markdown",
     "metadata": {},
     "source": [
      "- - - "
     ]
    },
    {
     "cell_type": "heading",
     "level": 2,
     "metadata": {},
     "source": [
      "Integrated Spectrum of NGC 5947"
     ]
    },
    {
     "cell_type": "markdown",
     "metadata": {},
     "source": [
      "NGC 5947 is a barred spiral galaxy SBbc located in the Bo\u00f6tes constelation. For this activity, we are going to take an optical integral field spectrum (IFS) obtained by the [CALIFA](http://califa.caha.es/) (The Calar Alto Legacy Integral Field Area) survey. These data come usually in the standard FITS format (you can download it from [here](https://github.com/jscd/Measuring_Halpha_IFU)). You can handle this format in python using for example the library [PyFITS](http://www.astropython.org/tutorial/2010/10/PyFITS-FITS-files-in-Python#fits-header-keywords) ([installation](http://www.stsci.edu/institute/software_hardware/pyfits/Download)). \n",
      "\n",
      "However, we are going to use a set of ASCII files provided [here](https://github.com/sbustamante/ComputationalMethods/blob/master/data/NGC5947_spectra.tar.gz?raw=true), where the format **spectra_i_j.dat** is used for the spectrum of the **i,j**-th pixel of the image, and where $0\\leq$**i**$\\leq 71$ and $0\\leq$**j**$\\leq 77$, i.e. we have an image of $72\\times 78$ pixels. Each file contains two columns, one with the wavelenght in units of \u00c5, and the second with the respective flux in units of $1\\times 10^{-16}$ erg s$^{-1}$ cm$^{-2}$ \u00c5$^{-1}$.\n",
      "\n",
      "![](https://raw.githubusercontent.com/sbustamante/ComputationalMethods/master/activities/figures/NGC5947.png)"
     ]
    },
    {
     "cell_type": "heading",
     "level": 3,
     "metadata": {},
     "source": [
      "Activities"
     ]
    },
    {
     "cell_type": "markdown",
     "metadata": {},
     "source": [
      "**1. (10%)** Create a routine that, given a set of points $\\{x_i\\}_i$ and $\\{y_i\\}_i$, computes the Composite Simpson's rule in the interval of the $x$ data."
     ]
    },
    {
     "cell_type": "markdown",
     "metadata": {},
     "source": [
      "**2. (10%) Integrated image of the galaxy:** integrating the spectrum of each pixel over the optical range, we obtain the surface brightness of that pixel. Repating this procedure for each pixel of the image, we obtain the optical surface brightness profile of the galaxy.\n",
      "\n",
      "![](https://raw.githubusercontent.com/sbustamante/ComputationalMethods/master/activities/figures/NGC5947_optical.png)\n",
      "\n",
      "**Using the previous routine, integrate the spectrum of each pixel, storing each result in a matrix. Finaly, using the function `imshow` of `matplotlib`, show the resulting image.**\n"
     ]
    },
    {
     "cell_type": "markdown",
     "metadata": {},
     "source": [
      "**3. (20%) False coloured image:** a very common colour model for representating images in a computer is based in three \"beams\" called components (*RGB* scheme), namely Red, Green and Blue components. For this activity we shall propose a simple and rough way to calculate these components for each pixel, provided the respective spectrum.\n",
      "\n",
      "Associating the red component with the range $[ 5800$ \u00c5, $7500$ \u00c5$]$, the green component to $[ 4900$ \u00c5, $5800$ \u00c5$]$ and the blue component to $[ 4900$ \u00c5, $3750$ \u00c5$]$, we can integrate the spectrum of each pixel over these ranges, obtaining the respective surface brightness in each band.\n",
      "\n",
      "**Calculate the *RGB* indexes for each pixel of the galaxy, then, normalize all the red components with the maxim value all over the galaxy. Repeat the same for green and blue components. This step must be done due to *RGB* indexes must range between $0$ and $1$.\n",
      "Finally, using the same function `imshow` for showing a false colour of the galaxy. You should obtain something like:**\n",
      "\n",
      "![](https://raw.githubusercontent.com/sbustamante/ComputationalMethods/master/activities/figures/NGC5947_coloured.png)\n",
      "\n",
      "**Tip:** giving an array object with the components `Galaxy[i,j,c]`, where $i$ and $j$ refer to the pixel position and $c=0,1,2$ refers to the *R(0)-G(1)-B(0)* indexes, `imshow` should give a real colour image."
     ]
    },
    {
     "cell_type": "markdown",
     "metadata": {},
     "source": [
      "**4. (30%) H-alpha emission:** the H$\\alpha$ emission line is a spectral line of Hydrogen produced when a photon is emitted by an electron passing from the state of energy $n=3$ to the state $n=2$. The associated wavelenght is exactly $6562.8$ \u00c5. For a spiral galaxy, this emission line normally appears in regions with high star formation rates like arms and bars.\n",
      "\n",
      "\n",
      "For this activity, we are going to calculate the fully integrated spectra of the galaxy. From this, we can calculate the [redshift](http://en.wikipedia.org/wiki/Redshift) of the galaxy, the total optical surface brightness and the emission map in the H$\\alpha$ line.\n",
      "\n",
      "**Take all the spectra of the galaxy (each pixel) and average them in order to produce just one spectrum. This is the integrated spectrum of the galaxy. You should obtain something like:**\n",
      "\n",
      "![](https://raw.githubusercontent.com/sbustamante/ComputationalMethods/master/activities/figures/NGC5947_spectrum.png)\n",
      "\n",
      "**Integrate this spectrum over all the optical range, this result is the integrated surface brightness of all the galaxy.**\n",
      "\n",
      "The highest line in this spectrum corresponds with the H$\\alpha$ emission line of all the galaxy. However, due to the expansion of the Universe, this line is shifted toward red. **Locate this line of the spectrum and using the exact value of the H$\\alpha$ line, calculate the redshift of this galaxy using the formula:**\n",
      "\n",
      "$$ z = \\left| \\frac{\\lambda_{gal}-\\lambda_{H\\alpha}}{\\lambda_{H\\alpha}} \\right| $$\n",
      "\n",
      "**Once identified this line, integrate the spectrum of each pixel over the range $[\\lambda_{gal}-\\Delta \\lambda, \\lambda_{gal}+\\Delta \\lambda]$, with $\\lambda_{gal}$ the H$\\alpha$ line of the galaxy and $\\Delta \\lambda=5$ \u00c5. Show the result using the `imshow` function. You should obtain something like:**\n",
      "\n",
      "![](https://raw.githubusercontent.com/sbustamante/ComputationalMethods/master/activities/figures/NGC5947_Halpha.png)"
     ]
    },
    {
     "cell_type": "markdown",
     "metadata": {},
     "source": [
      "**BONUS (+0.5 in theoretical test). Dominant emission line:** although the core of the galaxy is far more dominating in the overall surface brightness, there are some regions where specific emission lines are dominant. **Make a figure where the colour represents the dominant emission line for a given pixel. This is, take each pixel's spectrum, find the wavelength of maximum flux, and assign that value to that pixel. You should obtain something like:**\n",
      "\n",
      "![](https://raw.githubusercontent.com/sbustamante/ComputationalMethods/master/activities/figures/NGC5947_emission.png)"
     ]
    },
    {
     "cell_type": "markdown",
     "metadata": {},
     "source": [
      "- - -"
     ]
    },
    {
     "cell_type": "heading",
     "level": 2,
     "metadata": {},
     "source": [
      "N Coupled Linear Oscillators"
     ]
    },
    {
     "cell_type": "code",
     "collapsed": false,
     "input": [],
     "language": "python",
     "metadata": {},
     "outputs": []
    }
   ],
   "metadata": {}
  }
 ]
}