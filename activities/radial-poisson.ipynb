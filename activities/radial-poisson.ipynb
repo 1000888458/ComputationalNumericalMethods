{
 "metadata": {
  "name": ""
 },
 "nbformat": 3,
 "nbformat_minor": 0,
 "worksheets": [
  {
   "cells": [
    {
     "cell_type": "heading",
     "level": 1,
     "metadata": {},
     "source": [
      "Task 6"
     ]
    },
    {
     "cell_type": "markdown",
     "metadata": {},
     "source": [
      "This homework is an activity intended to apply the differentiation formulas given in class. Here we want to solve a radial Poisson's equation for estimating the density field of a rocky planet.\n",
      "\n",
      "*Due to:* **Feb 1**"
     ]
    },
    {
     "cell_type": "markdown",
     "metadata": {},
     "source": [
      "- - -"
     ]
    },
    {
     "cell_type": "heading",
     "level": 2,
     "metadata": {},
     "source": [
      "Radial Poisson's Equation"
     ]
    },
    {
     "cell_type": "markdown",
     "metadata": {},
     "source": [
      "The Poisson's equation relates the matter content of some physical distribution with the gravitational force or equivalently, a exerted gravitational potential. It is given by\n",
      "\n",
      "$$ \\nabla^2 \\varphi(\\vec r) = -4\\pi G \\rho(\\vec r) $$"
     ]
    },
    {
     "cell_type": "markdown",
     "metadata": {},
     "source": [
      "1. Solve the previous problem and find the radius of **Gliese 832c** using your own version of the Fixed-point iteration algorithm."
     ]
    }
   ],
   "metadata": {}
  }
 ]
}