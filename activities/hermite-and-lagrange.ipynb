{
 "metadata": {
  "name": ""
 },
 "nbformat": 3,
 "nbformat_minor": 0,
 "worksheets": [
  {
   "cells": [
    {
     "cell_type": "heading",
     "level": 1,
     "metadata": {},
     "source": [
      "Comparison of Lagrange and Hermite polynomials using divided differences"
     ]
    },
    {
     "cell_type": "code",
     "collapsed": false,
     "input": [
      "import numpy as np\n",
      "%pylab inline\n",
      "import matplotlib.pyplot as plt\n",
      "# JSAnimation import available at https://github.com/jakevdp/JSAnimation\n",
      "from JSAnimation import IPython_display\n",
      "from matplotlib import animation\n",
      "from IPython.core.display import Image "
     ],
     "language": "python",
     "metadata": {},
     "outputs": [
      {
       "output_type": "stream",
       "stream": "stdout",
       "text": [
        "Populating the interactive namespace from numpy and matplotlib\n"
       ]
      }
     ],
     "prompt_number": 1
    },
    {
     "cell_type": "heading",
     "level": 2,
     "metadata": {},
     "source": [
      "Coefficients for Lagrange polynomials"
     ]
    },
    {
     "cell_type": "code",
     "collapsed": false,
     "input": [
      "#Construction of a kth divided difference (recursive code)\n",
      "def D( i, k, Xn, Yn ):\n",
      "    #If k+i>N\n",
      "    if i+k>=len(Xn):\n",
      "        return 0\n",
      "    #Zeroth divided difference\n",
      "    elif k == 0:\n",
      "        return Yn[i]\n",
      "    #If higher divided difference\n",
      "    else:\n",
      "        return (D(i+1, k-1, Xn, Yn)-D(i, k-1, Xn, Yn))/(Xn[i+k]-Xn[i])"
     ],
     "language": "python",
     "metadata": {},
     "outputs": [],
     "prompt_number": 101
    },
    {
     "cell_type": "heading",
     "level": 2,
     "metadata": {},
     "source": [
      "Coefficients for Hermite polynomials"
     ]
    },
    {
     "cell_type": "code",
     "collapsed": false,
     "input": [
      "#Construction of a kth divided difference for Hermite polynomials (recursive code)\n",
      "def Dh( j, k, Zn, Yn, Ypn ):\n",
      "    #If k+j>N\n",
      "    if j+k>=len(Zn):\n",
      "        return 0\n",
      "    #Zeroth divided difference\n",
      "    elif k == 0:\n",
      "        return Yn[j/2]\n",
      "    #First order divided difference (even indexes)\n",
      "    elif k == 1 and j%2 == 0:\n",
      "        return Ypn[j/2]\n",
      "    #If higher divided difference\n",
      "    else:\n",
      "        return (Dh(j+1, k-1, Zn, Yn, Ypn)-Dh(j, k-1, Zn, Yn, Ypn))/(Zn[j+k]-Zn[j])"
     ],
     "language": "python",
     "metadata": {},
     "outputs": [],
     "prompt_number": 102
    },
    {
     "cell_type": "heading",
     "level": 2,
     "metadata": {},
     "source": [
      "Lagrange polynomials"
     ]
    },
    {
     "cell_type": "code",
     "collapsed": false,
     "input": [
      "#Lagrange Interpolating Function\n",
      "def Lagrange( x, Xn, Yn ):\n",
      "    n = len(Xn)\n",
      "    \n",
      "    #Detecting size of x\n",
      "    try:\n",
      "        Ninter = len(x)\n",
      "    except:\n",
      "        Ninter = 1\n",
      "        x = np.array([x,])\n",
      "    \n",
      "    #First coeficient\n",
      "    Lp = D(0, 0, Xn, Yn)*np.ones(Ninter)\n",
      "    \n",
      "    #High-order coeficients\n",
      "    for l in xrange(Ninter):\n",
      "        for k in xrange(1, n):\n",
      "            Lp[l] += D(0, k, Xn, Yn)*np.prod(x[l]-Xn[:k])\n",
      "        \n",
      "    return Lp"
     ],
     "language": "python",
     "metadata": {},
     "outputs": [],
     "prompt_number": 129
    },
    {
     "cell_type": "heading",
     "level": 2,
     "metadata": {},
     "source": [
      "Hermite polynomials"
     ]
    },
    {
     "cell_type": "code",
     "collapsed": false,
     "input": [
      "#Hermite Interpolating Function\n",
      "def Hermite( x, Xn, Yn, Ypn ):\n",
      "    n = len(Xn)\n",
      "    #Auxiliar array\n",
      "    Zn = np.zeros( 2*len(Xn) )\n",
      "    #Even indexes\n",
      "    Zn[::2] = Xn\n",
      "    #Odd indexes\n",
      "    Zn[1::2] = Xn\n",
      "    \n",
      "    #Detecting size of x\n",
      "    try:\n",
      "        Ninter = len(x)\n",
      "    except:\n",
      "        Ninter = 1\n",
      "        x = np.array([x,])\n",
      "    \n",
      "    #First coeficient\n",
      "    Hp = Dh(0, 0, Xn, Yn, Ypn)*np.ones(Ninter)\n",
      "    \n",
      "    #High-order coeficients\n",
      "    for l in xrange(Ninter):\n",
      "        for k in xrange(1, 2*n+2):\n",
      "            Hp[l] += Dh(0, k, Zn, Yn, Ypn)*np.prod(x[l]-Zn[:k])\n",
      "        \n",
      "    return Hp"
     ],
     "language": "python",
     "metadata": {},
     "outputs": [],
     "prompt_number": 128
    },
    {
     "cell_type": "heading",
     "level": 2,
     "metadata": {},
     "source": [
      "Comparison"
     ]
    },
    {
     "cell_type": "code",
     "collapsed": false,
     "input": [
      "#Generating arrays of sin(x)\n",
      "def function(x):\n",
      "    return np.sin(x)**2\n",
      "\n",
      "#Generating arrays of derivative of sin(x)\n",
      "def dfunction(x):\n",
      "    return 2*np.cos(x)\n",
      "\n",
      "#Number of intervals for data\n",
      "Ndat = 3\n",
      "#Limits\n",
      "xmin = 0\n",
      "xmax = 2*np.pi\n",
      "\n",
      "Xn = np.linspace( xmin, xmax, Ndat )\n",
      "Yn = function(Xn)\n",
      "Ypn = dfunction(Xn)\n",
      "\n",
      "#Obtaining Hermite and Lagrange interpolation\n",
      "Ninter = 100\n",
      "x = np.linspace( xmin, xmax, Ninter )\n",
      "y = Hermite( x, Xn, Yn, Ypn )\n",
      "yl = Lagrange( x, Xn, Yn )\n",
      "f = function(x)\n",
      "\n",
      "#Plotting\n",
      "plt.figure( figsize=(12,6) )\n",
      "plt.plot( x, y, color=\"green\", linewidth=2, label=\"Hermite interpolation\" )\n",
      "plt.plot( x, yl, color=\"red\", linewidth=2, label=\"Lagrange interpolation\" )\n",
      "plt.plot( x, f, color=\"blue\", linewidth=2, label=\"real function\" )\n",
      "plt.plot( Xn, Yn, \"o\", color=\"red\", label=\"data\" )\n",
      "\n",
      "#Formatting\n",
      "plt.legend( loc = 'lower left' )\n",
      "plt.grid()\n",
      "plt.xlabel( \"x\" )\n",
      "plt.xlabel( \"y\" )\n",
      "plt.ylim( (-1.5,1.5) )\n",
      "plt.title( \"Linear interpolation of $\\sin(x)$\" )"
     ],
     "language": "python",
     "metadata": {},
     "outputs": [
      {
       "metadata": {},
       "output_type": "pyout",
       "prompt_number": 143,
       "text": [
        "<matplotlib.text.Text at 0x7f7d615cf850>"
       ]
      },
      {
       "metadata": {},
       "output_type": "display_data",
       "png": "[encoded data removed]",
       "text": [
        "<matplotlib.figure.Figure at 0x7f7d61c0ae90>"
       ]
      }
     ],
     "prompt_number": 143
    }
   ],
   "metadata": {}
  }
 ]
}