{
 "metadata": {
  "name": "halos-catalog"
 },
 "nbformat": 3,
 "nbformat_minor": 0,
 "worksheets": [
  {
   "cells": [
    {
     "cell_type": "heading",
     "level": 1,
     "metadata": {},
     "source": [
      "Task 2"
     ]
    },
    {
     "cell_type": "markdown",
     "metadata": {},
     "source": [
      "This homework is an activity intended to practice the basic concepts of python and some of the functions offered by NumPy and Matplotlib.\n",
      "\n",
      "*Due to:* **Nov 07**"
     ]
    },
    {
     "cell_type": "markdown",
     "metadata": {},
     "source": [
      "- - - "
     ]
    },
    {
     "cell_type": "heading",
     "level": 2,
     "metadata": {},
     "source": [
      "The large-scale Universe"
     ]
    },
    {
     "cell_type": "markdown",
     "metadata": {},
     "source": [
      "For this task, we are going to use a catalog of dark matter halos of a cosmological simulation of the large-scale Universe ([**The Bolshoi simulation**](http://hipacc.ucsc.edu/Bolshoi/)). The catalog can be loaded from this [link](https://github.com/sbustamante/ComputationalMethods/blob/master/data/FOF.dat?raw=true). The first, second and third columns are referred to the X, Y and Z coordinates of the halo in units of Megaparsec respectively (comoving coordinates). The last column is referred to the dark mass of the halo."
     ]
    },
    {
     "cell_type": "markdown",
     "metadata": {},
     "source": [
      "**1. The Press\u2013Schechter formalism:** the number of objects of a mass range within a simulation of a portion of the Universe can be approximately predicted by the Press\u2013Schechter formalism. The number of object with a mass between $M$ and $M+dM$ is:"
     ]
    },
    {
     "cell_type": "markdown",
     "metadata": {},
     "source": [
      "$N(M)dM = \\frac{1}{\\sqrt{\\pi}}\\left( 1+\\frac{n}{3} \\right)\\frac{\\bar\\rho}{M^2}\\left( \\frac{M}{M^\\*} \\right)^{(3+n)/6}\\exp\\left[ -\\left( \\frac{M}{M^\\*} \\right)^{(3+n)/3} \\right] V dM$"
     ]
    },
    {
     "cell_type": "markdown",
     "metadata": {},
     "source": [
      "where $\\bar \\rho$ is the mean matter density of the Universe, $n$ is the index of the power spectrum, $V$ the volume of the simulation and $M^\\*$ is a critical mass parameter."
     ]
    },
    {
     "cell_type": "markdown",
     "metadata": {},
     "source": [
      "Create a Python script that does the next:\n",
      "\n",
      "- Load the catalog of dark matter halos.\n",
      "- Using Matplotlib, generate and plot a histogram of log10(mass) for the halos, i.e., how many halos are per logarithmic mass range.\n",
      "- Plot in the same window the theoretical prediction of the Press-Schechter formalism using the next parameters:\n",
      "\n",
      "$N(M) = 1.018\\times 10^{14}\\ M^{-0.889}\\times \\exp\\left( -9.7\\times 10^{-32}\\ M^{2.222} \\right)$ "
     ]
    },
    {
     "cell_type": "markdown",
     "metadata": {},
     "source": [
      "**Questions**\n",
      "\n",
      "- Is it satisfied the Press-Schechter approximation for this simulation?\n",
      "- What is the resolution of the halos of the simulation? (This is, what is mass value of the smaller halo?)\n",
      "\n",
      "\n",
      "**Advice:** use double logarithmic plots (loglog).\n",
      "\n",
      "\n",
      "\n",
      "\n",
      "\n"
     ]
    },
    {
     "cell_type": "markdown",
     "metadata": {},
     "source": [
      " "
     ]
    },
    {
     "cell_type": "markdown",
     "metadata": {},
     "source": [
      "**2. Distribution of massive halos:** the more massive halos are generally located within high density regions of the large-scale distribution, like clusters and filaments. This is a consequence of the hierarchical structure formation, where small structures formed first and larger structures are made of the smaller ones."
     ]
    },
    {
     "cell_type": "markdown",
     "metadata": {},
     "source": [
      "Create a Python script that does the next:\n",
      "\n",
      "- Load the catalog of dark matter halos.\n",
      "- Select the more massive halos, namely $M>1\\times 10^{13}\\ $ M$_{\\odot}$.\n",
      "- Plot in a 3D scatter both, the complete catalogue of halos and the more massive halos (with different colours)."
     ]
    },
    {
     "cell_type": "markdown",
     "metadata": {},
     "source": [
      "**Questions**\n",
      "\n",
      "- Is it verified the large-scale distributions of massive halos? \n",
      "- Where are they more likely to be?"
     ]
    },
    {
     "cell_type": "markdown",
     "metadata": {},
     "source": [
      "**How to plot a 3D scatter**\n",
      "\n",
      "For making a 3D scatter, it is necessary to import the package Axes 3D in order to activate the 3D plotting."
     ]
    },
    {
     "cell_type": "code",
     "collapsed": false,
     "input": [
      "%pylab inline\n",
      "import matplotlib.pyplot as plt\n",
      "from mpl_toolkits.mplot3d import Axes3D\n",
      "#Activating 3D plotting\n",
      "plt.subplot(111, projection='3d')\n",
      "X = [1,2,3,2,1,3,2,1]\n",
      "Y = [3,2,1,3,2,1,3,2]\n",
      "Z = [1,3,2,1,2,3,1,2]\n",
      "plt.scatter( X, Y, Z )"
     ],
     "language": "python",
     "metadata": {},
     "outputs": [
      {
       "output_type": "stream",
       "stream": "stdout",
       "text": [
        "\n",
        "Welcome to pylab, a matplotlib-based Python environment [backend: module://IPython.zmq.pylab.backend_inline].\n",
        "For more information, type 'help(pylab)'.\n"
       ]
      },
      {
       "output_type": "pyout",
       "prompt_number": 3,
       "text": [
        "<mpl_toolkits.mplot3d.art3d.Patch3DCollection at 0x35d6890>"
       ]
      },
      {
       "output_type": "display_data",
       "png": "[encoded data removed]"
      }
     ],
     "prompt_number": 3
    },
    {
     "cell_type": "markdown",
     "metadata": {},
     "source": [
      "  "
     ]
    },
    {
     "cell_type": "markdown",
     "metadata": {},
     "source": [
      "**For both activities, you must deliver the codes as well as a short text file with the answer of the questions and possible comments you consider pertinent.**"
     ]
    },
    {
     "cell_type": "heading",
     "level": 2,
     "metadata": {},
     "source": [
      "Bibliography"
     ]
    },
    {
     "cell_type": "markdown",
     "metadata": {},
     "source": [
      "- Press, William H., and Paul Schechter. \"Formation of galaxies and clusters of galaxies by self-similar gravitational condensation.\" The Astrophysical Journal 187 (1974): 425-438.\n",
      "- Introduction to Computational and Programming Using Python, Guttag, J. V. The MIT Press. 2013.\n"
     ]
    }
   ],
   "metadata": {}
  }
 ]
}